{
 "cells": [
  {
   "cell_type": "markdown",
   "metadata": {},
   "source": [
    "# Asemic writing with Flat\n",
    "\n",
    "By [Allison Parrish](https://www.decontextualize.com/)\n",
    "\n",
    "This is a tutorial on how to use [flat](https://xxyxyz.org/flat), the random functions from [Numpy](http://www.numpy.org/) and [bezmerizing](https://github.com/aparrish/bezmerizing/) (a small library I made with simple functions for working with Bézier curves) to make various kinds of asemic writing.\n",
    "\n",
    "## Installation and preliminaries\n",
    "\n",
    "There are a number of Python libraries for drawing vector graphics, but [flat](https://xxyxyz.org/flat) is my favorite one to work with. It's small, powerful and elegant. It's also written in pure Python (i.e., does not need compiled code) and has no external dependencies, which makes it especially easy to install:"
   ]
  },
  {
   "cell_type": "code",
   "execution_count": 1,
   "metadata": {},
   "outputs": [
    {
     "name": "stdout",
     "output_type": "stream",
     "text": [
      "Requirement already satisfied: flat in /opt/anaconda3/lib/python3.8/site-packages (0.3.2)\r\n"
     ]
    }
   ],
   "source": [
    "!pip install flat"
   ]
  },
  {
   "cell_type": "markdown",
   "metadata": {},
   "source": [
    "In this tutorial, I'm only using a subset of flat's functionality. The cell below imports the three functions from the library that I'm going to use."
   ]
  },
  {
   "cell_type": "code",
   "execution_count": 2,
   "metadata": {},
   "outputs": [],
   "source": [
    "from flat import document, shape, rgba"
   ]
  },
  {
   "cell_type": "markdown",
   "metadata": {},
   "source": [
    "The flat library can export images in a handful of formats, including PNG. We can leverage this to \"embed\" the results of running flat code right into a Jupyter Notebook as we're working. The cell below creates a function `show()` that takes a flat `page` object, renders it as an SVG, and displays it in the notebook. I use this extensively below!"
   ]
  },
  {
   "cell_type": "code",
   "execution_count": 3,
   "metadata": {},
   "outputs": [],
   "source": [
    "from IPython.display import SVG, display\n",
    "def show(page):\n",
    "    display(SVG(page.svg()))"
   ]
  },
  {
   "cell_type": "markdown",
   "metadata": {},
   "source": [
    "[Bezmerizing](https://github.com/aparrish/bezmerizing/) is a small library I made with a handful of useful functions for working with Bézier curves, including a function for making smooth curved paths based on a list of points, and a function that can style such paths by adjusting their thickness along the path. Install it directly from GitHub like so:"
   ]
  },
  {
   "cell_type": "code",
   "execution_count": 4,
   "metadata": {},
   "outputs": [
    {
     "name": "stdout",
     "output_type": "stream",
     "text": [
      "Collecting https://github.com/aparrish/bezmerizing/archive/master.zip\n",
      "  Using cached https://github.com/aparrish/bezmerizing/archive/master.zip\n",
      "Requirement already satisfied (use --upgrade to upgrade): bezmerizing==0.1.0 from https://github.com/aparrish/bezmerizing/archive/master.zip in /opt/anaconda3/lib/python3.8/site-packages\n",
      "Requirement already satisfied: flat>=0.0.3 in /opt/anaconda3/lib/python3.8/site-packages (from bezmerizing==0.1.0) (0.3.2)\n",
      "Requirement already satisfied: scipy>=1.1.0 in /opt/anaconda3/lib/python3.8/site-packages (from bezmerizing==0.1.0) (1.5.2)\n",
      "Requirement already satisfied: numpy>=1.14.5 in /opt/anaconda3/lib/python3.8/site-packages (from scipy>=1.1.0->bezmerizing==0.1.0) (1.19.2)\n",
      "Building wheels for collected packages: bezmerizing\n",
      "  Building wheel for bezmerizing (setup.py) ... \u001b[?25ldone\n",
      "\u001b[?25h  Created wheel for bezmerizing: filename=bezmerizing-0.1.0-py3-none-any.whl size=15814 sha256=ab31c1d1dd8773be83c2f701c3d55df7c5a0b213764200cc8192036b9f27939f\n",
      "  Stored in directory: /private/var/folders/zw/zqwd5pss4wnbkjr938715lkc0000gn/T/pip-ephem-wheel-cache-00ojybgo/wheels/74/5a/7d/4a62c2490b6c6061916e41ae070caaed12664893aef1a56d7c\n",
      "Successfully built bezmerizing\n"
     ]
    }
   ],
   "source": [
    "!pip install https://github.com/aparrish/bezmerizing/archive/master.zip"
   ]
  },
  {
   "cell_type": "code",
   "execution_count": 5,
   "metadata": {},
   "outputs": [],
   "source": [
    "from bezmerizing import Polyline"
   ]
  },
  {
   "cell_type": "markdown",
   "metadata": {},
   "source": [
    "Assuming you're running this notebook with Anaconda, you probably already have Numpy installed. [Numpy](http://www.numpy.org/) is a widely-used Python library for math and statistics. I'm going to show you how to use a handful of functions from Numpy for generating random numbers. Use the cells below to import them into your notebook:"
   ]
  },
  {
   "cell_type": "code",
   "execution_count": 6,
   "metadata": {},
   "outputs": [],
   "source": [
    "import numpy as np"
   ]
  },
  {
   "cell_type": "code",
   "execution_count": 7,
   "metadata": {},
   "outputs": [],
   "source": [
    "from numpy.random import uniform, normal, choice"
   ]
  },
  {
   "cell_type": "markdown",
   "metadata": {},
   "source": [
    "## Making shapes with flat\n",
    "\n",
    "Drawing with flat consists of a few steps:\n",
    "\n",
    "1. Create a document\n",
    "2. Add a page to the document\n",
    "3. Create shapes\n",
    "4. Place shapes on the page\n",
    "5. Display the page (or the document).\n",
    "\n",
    "A minimal example skips steps 3 and 4:"
   ]
  },
  {
   "cell_type": "code",
   "execution_count": 8,
   "metadata": {},
   "outputs": [
    {
     "data": {
      "image/svg+xml": [
       "<svg xmlns=\"http://www.w3.org/2000/svg\" xmlns:xlink=\"http://www.w3.org/1999/xlink\" version=\"1.1\" width=\"283.4646pt\" height=\"283.4646pt\" viewBox=\"0 0 283.4646 283.4646\">\n",
       "<title>Untitled</title>\n",
       "\n",
       "</svg>"
      ],
      "text/plain": [
       "<IPython.core.display.SVG object>"
      ]
     },
     "metadata": {},
     "output_type": "display_data"
    }
   ],
   "source": [
    "d = document(100, 100, 'mm') # create a document 100mm x 100mm (can replace 'mm' with 'pt')\n",
    "page = d.addpage() # add a page\n",
    "show(page) # show the page"
   ]
  },
  {
   "cell_type": "markdown",
   "metadata": {},
   "source": [
    "... but doesn't display anything. We've just made a blank page.\n",
    "\n",
    "To add a shape, create a `shape` object with the `shape()` function. The object returned from this function has methods that let you set the fill, stroke, and stroke width of the shape. Colors are specified with the `rgba()` function, which takes four parameters: the red, green, and blue components of the color (in the range 0—255), along with an alpha value (which controls how \"transparent\" the color will be—0 is completely transparent and 255 is completely opaque)."
   ]
  },
  {
   "cell_type": "code",
   "execution_count": 9,
   "metadata": {},
   "outputs": [
    {
     "data": {
      "text/plain": [
       "<flat.shape.shape at 0x7fe2d56044c0>"
      ]
     },
     "execution_count": 9,
     "metadata": {},
     "output_type": "execute_result"
    }
   ],
   "source": [
    "figure = shape()\n",
    "figure.fill(rgba(255, 128, 255, 255))\n",
    "figure.stroke(rgba(128, 0, 255, 255))\n",
    "figure.width(4)"
   ]
  },
  {
   "cell_type": "markdown",
   "metadata": {},
   "source": [
    "A `shape` object acts as a kind of container for a list of paths to draw with the fill and stroke you specified when you created the object. Add a rectangle to the shape with the `.rectangle()` method:"
   ]
  },
  {
   "cell_type": "code",
   "execution_count": 10,
   "metadata": {},
   "outputs": [],
   "source": [
    "rect = figure.rectangle(5, 5, 90, 90)"
   ]
  },
  {
   "cell_type": "markdown",
   "metadata": {},
   "source": [
    "This creates a rectangle at position (5, 5) on the page with a width of 90 and a height of 90. ([See the documentation for a full list of shape methods and an explanation of what their parameters mean.](https://xxyxyz.org/flat))\n",
    "\n",
    "> Note for first-time programmers: Any word to the *left* of an equal sign (`=`) is called a *variable*. A \"variable\" takes the result of running some code and stores it for later under the name that you give it—sort of naming a file or putting a label on a folder. I used the word `rect` above to store the result of creating the `rectangle` shape, but you can use whatever word you want, as long as you use the same word when referring back to that value later. (There's nothing magical about calling it `rect`—I could have called is `lawrence` or `afkjsdhf`. Using `rect` just makes it easier to remember what I was using that variable for.\n",
    "\n",
    "To make this rectangle appear on the page, pass the value returned from the method to the `.place()` method of the page:"
   ]
  },
  {
   "cell_type": "code",
   "execution_count": 11,
   "metadata": {},
   "outputs": [
    {
     "data": {
      "image/svg+xml": [
       "<svg xmlns=\"http://www.w3.org/2000/svg\" xmlns:xlink=\"http://www.w3.org/1999/xlink\" version=\"1.1\" width=\"283.4646pt\" height=\"283.4646pt\" viewBox=\"0 0 283.4646 283.4646\">\n",
       "<title>Untitled</title>\n",
       "<rect x=\"14.1732\" y=\"14.1732\" width=\"255.1181\" height=\"255.1181\" fill=\"rgba(255,128,255,1)\" stroke=\"rgba(128,0,255,1)\" stroke-width=\"4\" stroke-miterlimit=\"10\"/>\n",
       "</svg>"
      ],
      "text/plain": [
       "<IPython.core.display.SVG object>"
      ]
     },
     "metadata": {},
     "output_type": "display_data"
    }
   ],
   "source": [
    "d = document(100, 100, 'mm')\n",
    "page = d.addpage()\n",
    "page.place(rect)\n",
    "show(page)"
   ]
  },
  {
   "cell_type": "markdown",
   "metadata": {},
   "source": [
    "Nice! You'll notice that flat's coordinate system is set up such that the *upper left-hand corner* of the page is (0, 0). The X-axis increases as you move to the right of the page, while the Y-axes increases as you move *downwards*. (This is the opposite of how it works in a regular Cartesian coordinate system, but it's very common in computer graphics for some reason.)\n",
    "\n",
    "Because it's so common to set the fill, stroke and stroke width at once, flat supports a \"chained\" syntax so that you can set them all one one line. It looks like this:"
   ]
  },
  {
   "cell_type": "code",
   "execution_count": 12,
   "metadata": {},
   "outputs": [],
   "source": [
    "figure = shape().fill(rgba(255, 128, 255, 255)).stroke(rgba(128, 0, 255, 255)).width(4)"
   ]
  },
  {
   "cell_type": "markdown",
   "metadata": {},
   "source": [
    "With all of this in mind, I put in the cell below all of the code necessary to draw the rectangle, from the creation of the document to displaying the page. Most of the rest of the examples in this tutorial will look like this, with all of the code to display a particular shape in the same cell."
   ]
  },
  {
   "cell_type": "code",
   "execution_count": 13,
   "metadata": {},
   "outputs": [
    {
     "data": {
      "image/svg+xml": [
       "<svg xmlns=\"http://www.w3.org/2000/svg\" xmlns:xlink=\"http://www.w3.org/1999/xlink\" version=\"1.1\" width=\"283.4646pt\" height=\"283.4646pt\" viewBox=\"0 0 283.4646 283.4646\">\n",
       "<title>Untitled</title>\n",
       "<rect x=\"14.1732\" y=\"14.1732\" width=\"255.1181\" height=\"255.1181\" fill=\"rgba(255,128,255,1)\" stroke=\"rgba(128,0,255,1)\" stroke-width=\"4\" stroke-miterlimit=\"10\"/>\n",
       "</svg>"
      ],
      "text/plain": [
       "<IPython.core.display.SVG object>"
      ]
     },
     "metadata": {},
     "output_type": "display_data"
    }
   ],
   "source": [
    "d = document(100, 100, 'mm')\n",
    "page = d.addpage()\n",
    "figure = shape().fill(rgba(255, 128, 255, 255)).stroke(rgba(128, 0, 255, 255)).width(4)\n",
    "rect = figure.rectangle(5, 5, 90, 90)\n",
    "page.place(rect)\n",
    "show(page)"
   ]
  },
  {
   "cell_type": "markdown",
   "metadata": {},
   "source": [
    "To add another shape to the drawing, add a second call to a `shape` method. Another easy one to try out is `.circle()`, which draws a circle of a particular radius centered on the given (x, y) coordinate. Note that you have to call `page.place()` with all of the components of the shape you want to appear on in the drawing."
   ]
  },
  {
   "cell_type": "code",
   "execution_count": 14,
   "metadata": {},
   "outputs": [
    {
     "data": {
      "image/svg+xml": [
       "<svg xmlns=\"http://www.w3.org/2000/svg\" xmlns:xlink=\"http://www.w3.org/1999/xlink\" version=\"1.1\" width=\"283.4646pt\" height=\"283.4646pt\" viewBox=\"0 0 283.4646 283.4646\">\n",
       "<title>Untitled</title>\n",
       "<rect x=\"14.1732\" y=\"14.1732\" width=\"255.1181\" height=\"255.1181\" fill=\"rgba(255,128,255,1)\" stroke=\"rgba(128,0,255,1)\" stroke-width=\"4\" stroke-miterlimit=\"10\"/>\n",
       "<circle cx=\"93.5433\" cy=\"93.5433\" r=\"70.8661\" fill=\"rgba(255,128,255,1)\" stroke=\"rgba(128,0,255,1)\" stroke-width=\"4\" stroke-miterlimit=\"10\"/>\n",
       "</svg>"
      ],
      "text/plain": [
       "<IPython.core.display.SVG object>"
      ]
     },
     "metadata": {},
     "output_type": "display_data"
    }
   ],
   "source": [
    "d = document(100, 100, 'mm')\n",
    "page = d.addpage()\n",
    "figure = shape().fill(rgba(255, 128, 255, 255)).stroke(rgba(128, 0, 255, 255)).width(4)\n",
    "rect = figure.rectangle(5, 5, 90, 90)\n",
    "circ = figure.circle(33, 33, 25)\n",
    "page.place(rect)\n",
    "page.place(circ)\n",
    "show(page)"
   ]
  },
  {
   "cell_type": "markdown",
   "metadata": {},
   "source": [
    "If you want the circle to be a different color (or have a different stroke color or stroke width) from the rectangle, you need to create a second `shape` object:"
   ]
  },
  {
   "cell_type": "code",
   "execution_count": 15,
   "metadata": {},
   "outputs": [
    {
     "data": {
      "image/svg+xml": [
       "<svg xmlns=\"http://www.w3.org/2000/svg\" xmlns:xlink=\"http://www.w3.org/1999/xlink\" version=\"1.1\" width=\"283.4646pt\" height=\"283.4646pt\" viewBox=\"0 0 283.4646 283.4646\">\n",
       "<title>Untitled</title>\n",
       "<rect x=\"14.1732\" y=\"14.1732\" width=\"255.1181\" height=\"255.1181\" fill=\"rgba(255,128,255,1)\" stroke=\"rgba(128,0,255,1)\" stroke-width=\"4\" stroke-miterlimit=\"10\"/>\n",
       "<circle cx=\"93.5433\" cy=\"93.5433\" r=\"70.8661\" fill=\"rgba(128,240,128,1)\"/>\n",
       "</svg>"
      ],
      "text/plain": [
       "<IPython.core.display.SVG object>"
      ]
     },
     "metadata": {},
     "output_type": "display_data"
    }
   ],
   "source": [
    "d = document(100, 100, 'mm')\n",
    "page = d.addpage()\n",
    "# shape for rectangle\n",
    "figure = shape().fill(rgba(255, 128, 255, 255)).stroke(rgba(128, 0, 255, 255)).width(4)\n",
    "# shape for circle\n",
    "green_figure = shape().fill(rgba(128, 240, 128, 255)).nostroke()\n",
    "# add rectangle to figure\n",
    "rect = figure.rectangle(5, 5, 90, 90)\n",
    "# add circle to green figure\n",
    "circ = green_figure.circle(33, 33, 25)\n",
    "# place them both\n",
    "page.place(rect)\n",
    "page.place(circ)\n",
    "show(page)"
   ]
  },
  {
   "cell_type": "markdown",
   "metadata": {},
   "source": [
    "Note that `.nostroke()` causes the shape to not have a stroke at all. Similarly, `.nofill()` will make the shape have no fill color.\n",
    "\n",
    "> Exercise ideas: Modify the cell above to change the coordinates and colors of the rectangle and circle. Add a new element to the drawing using a new shape that we haven't discussed yet (say, `ellipse` or `line`) using a stroke and fill different from the other shapes."
   ]
  },
  {
   "cell_type": "markdown",
   "metadata": {},
   "source": [
    "## Randomness with numpy\n",
    "\n",
    "For the purposes of this tutorial, let's think about asemic writing as a kind of random process. Our method of generating asemic writing with a computer will be to simulate the random movement of a hand holding a pen. The movement of the pen is constrained in certain ways—i.e., at any point in the process, some pen movements are more likely to happen than other pen movements. To model this process, we need a way to generate random numbers.\n",
    "\n",
    "Fortunately, the Numpy library has a wide variety of random number generators with different useful properties. Let's talk about a few of them.\n",
    "\n",
    "### Uniform distribution\n",
    "\n",
    "The `uniform()` function returns a number between 0 and 1, drawn from a \"uniform distribution.\" The word \"uniform\" here means that every value in the domain has *the same chance of being generated*—no number or range of numbers is more likely than any other. Run the cell below multiple times to see what happens."
   ]
  },
  {
   "cell_type": "code",
   "execution_count": 16,
   "metadata": {},
   "outputs": [
    {
     "data": {
      "text/plain": [
       "0.5333442847492725"
      ]
     },
     "execution_count": 16,
     "metadata": {},
     "output_type": "execute_result"
    }
   ],
   "source": [
    "uniform()"
   ]
  },
  {
   "cell_type": "markdown",
   "metadata": {},
   "source": [
    "Using a `for` loop, you can generate a series of numbers to see what the distribution looks like. (You can change the number `8` to something larger to generate more numbers and better understand the distribution.)"
   ]
  },
  {
   "cell_type": "code",
   "execution_count": 17,
   "metadata": {},
   "outputs": [
    {
     "name": "stdout",
     "output_type": "stream",
     "text": [
      "0.47196468392121493\n",
      "0.5762558411073121\n",
      "0.021824890865214552\n",
      "0.6706793631996805\n",
      "0.861252887483462\n",
      "0.39523641006253274\n",
      "0.7761046727392049\n",
      "0.876104356144508\n"
     ]
    }
   ],
   "source": [
    "for i in range(8):\n",
    "    print(uniform())"
   ]
  },
  {
   "cell_type": "markdown",
   "metadata": {},
   "source": [
    "If you give two parameters to `uniform()`, the function will evaluate to a number chosen from that range (with the first parameter being the low end of the range, and the second parameter being the high end.)"
   ]
  },
  {
   "cell_type": "code",
   "execution_count": 18,
   "metadata": {},
   "outputs": [
    {
     "name": "stdout",
     "output_type": "stream",
     "text": [
      "-3.458881180211316\n",
      "-3.2958127227519416\n",
      "2.2864962845412995\n",
      "0.6005120104914887\n",
      "3.3303322533487183\n",
      "-0.8414813963424175\n",
      "3.693859672615069\n",
      "-1.2956860127775016\n"
     ]
    }
   ],
   "source": [
    "for i in range(8):\n",
    "    print(uniform(-5, 5))"
   ]
  },
  {
   "cell_type": "markdown",
   "metadata": {},
   "source": [
    "If you need an integer instead of a floating-point number (i.e., a number with a decimal point), you can wrap the call to `uniform()` in a call to `int()`. The cell below simulates rolling a [twenty-sided die](https://en.wikipedia.org/wiki/Dice#Standard_variations):"
   ]
  },
  {
   "cell_type": "code",
   "execution_count": 19,
   "metadata": {},
   "outputs": [
    {
     "name": "stdout",
     "output_type": "stream",
     "text": [
      "4\n",
      "11\n",
      "4\n",
      "16\n",
      "16\n",
      "19\n",
      "8\n",
      "16\n"
     ]
    }
   ],
   "source": [
    "for i in range(8):\n",
    "    print(int(uniform(20)+1))"
   ]
  },
  {
   "cell_type": "markdown",
   "metadata": {},
   "source": [
    "> Exercise: Why do we need to add one to the result of the `uniform()` function in the example above?"
   ]
  },
  {
   "cell_type": "markdown",
   "metadata": {},
   "source": [
    "### Normal distribution\n",
    "\n",
    "A random number generator with a normal distribution (also called the Gaussian distribution or the \"bell curve\") produces values mostly clustered around a particular number. When generating a random number with a normal distribution, you specify the \"center\" of the distribution (i.e., the number that the values will cluster around) and the value for the standard deviation of the distribution, which controls the \"spread\" of numbers returned, above and below the center. (~70% of numbers will be within this range; ~95% will be within double the range.) Generate a random number with a normal distribution using the `normal()` function:"
   ]
  },
  {
   "cell_type": "code",
   "execution_count": 20,
   "metadata": {},
   "outputs": [
    {
     "data": {
      "text/plain": [
       "-2.569179178895679"
      ]
     },
     "execution_count": 20,
     "metadata": {},
     "output_type": "execute_result"
    }
   ],
   "source": [
    "normal(0, 2)"
   ]
  },
  {
   "cell_type": "markdown",
   "metadata": {},
   "source": [
    "The first parameter is the center, and the second is the standard deviation. (These are often called *mu* and *sigma*, respectively.) Run it a number of times and you should see that the numbers generated mostly cluster around the center:"
   ]
  },
  {
   "cell_type": "code",
   "execution_count": 21,
   "metadata": {},
   "outputs": [
    {
     "name": "stdout",
     "output_type": "stream",
     "text": [
      "0.30012969325242966\n",
      "5.317396687426677\n",
      "0.6995368426299031\n",
      "-2.6706519342734065\n",
      "0.16325913118886903\n",
      "2.7404029845675626\n",
      "2.9937083885331397\n",
      "0.1863972731146858\n"
     ]
    }
   ],
   "source": [
    "for i in range(8):\n",
    "    print(normal(0, 2))"
   ]
  },
  {
   "cell_type": "markdown",
   "metadata": {},
   "source": [
    "Normal distributions are very useful in computer-generated art because they allow us to introduce and control variation, keeping values mostly in the same range.\n",
    "\n",
    "### Truncated normal distribution\n",
    "\n",
    "You may have noticed that sometimes the random number generator for the normal distribution produces values well outside the standard deviation. That's not a bug—it's just how normal distributions work. (In any data set, there are sometimes extreme outliers.)\n",
    "\n",
    "Nevertheless, in computer-generated art there's often a need to generate random numbers from a normal distribution that are *constrainted* to a particular range. (For example, you might want to generate a random color with a normal distribution, but never want your color values to fall outside of the range 0–255.) For this, you can use a *truncated normal distribution*. The following cell defines a function `t_normal()` to produce such values."
   ]
  },
  {
   "cell_type": "code",
   "execution_count": 22,
   "metadata": {},
   "outputs": [],
   "source": [
    "from scipy.stats import truncnorm\n",
    "def t_normal(a, b, mu, sigma):\n",
    "    tn = truncnorm((a-mu)/sigma, (b-mu)/sigma, loc=mu, scale=sigma)\n",
    "    return tn.rvs(1)[0]"
   ]
  },
  {
   "cell_type": "markdown",
   "metadata": {},
   "source": [
    "The first parameter is the low end of the range, the second parameter is the high end, the third parameter is the center and the fourth parameter is the standard deviation."
   ]
  },
  {
   "cell_type": "code",
   "execution_count": 23,
   "metadata": {},
   "outputs": [
    {
     "data": {
      "text/plain": [
       "19.425001845212705"
      ]
     },
     "execution_count": 23,
     "metadata": {},
     "output_type": "execute_result"
    }
   ],
   "source": [
    "t_normal(0, 255, 10, 10)"
   ]
  },
  {
   "cell_type": "markdown",
   "metadata": {},
   "source": [
    "### Choosing from a list with probabilities\n",
    "\n",
    "The `choice()` function implements a kind of *weighted* random choice, where you can set the weights randomly. The code in the cell below picks one of `50`, `100` or `150` (the values between the first set of brackets). It will pick these with 15% probability, 80% probability, and 5% probability respectively (as specified by the values between the second set of brackets)."
   ]
  },
  {
   "cell_type": "code",
   "execution_count": 24,
   "metadata": {},
   "outputs": [
    {
     "data": {
      "text/plain": [
       "50"
      ]
     },
     "execution_count": 24,
     "metadata": {},
     "output_type": "execute_result"
    }
   ],
   "source": [
    "choice([50, 100, 150], p=[0.15, 0.8, 0.05])"
   ]
  },
  {
   "cell_type": "markdown",
   "metadata": {},
   "source": [
    "Calling this function multiple times should result in the specified distribution:"
   ]
  },
  {
   "cell_type": "code",
   "execution_count": 25,
   "metadata": {},
   "outputs": [
    {
     "name": "stdout",
     "output_type": "stream",
     "text": [
      "100\n",
      "100\n",
      "150\n",
      "100\n",
      "100\n",
      "100\n",
      "50\n",
      "50\n"
     ]
    }
   ],
   "source": [
    "for i in range(8):\n",
    "    print(choice([50, 100, 150], p=[0.15, 0.8, 0.05]))"
   ]
  },
  {
   "cell_type": "markdown",
   "metadata": {},
   "source": [
    "Without the `p` parameter, the `choice()` function defaults to a uniform distribution (i.e., no result is more likely than any other):"
   ]
  },
  {
   "cell_type": "code",
   "execution_count": 26,
   "metadata": {},
   "outputs": [
    {
     "name": "stdout",
     "output_type": "stream",
     "text": [
      "100\n",
      "100\n",
      "100\n",
      "150\n",
      "150\n",
      "150\n",
      "100\n",
      "50\n"
     ]
    }
   ],
   "source": [
    "for i in range(8):\n",
    "    print(choice([50, 100, 150]))"
   ]
  },
  {
   "cell_type": "markdown",
   "metadata": {},
   "source": [
    "The `sample()` function (from Python's standard `random` module) takes a list of values and returns the specified number of values, randomly selected (using a uniform distribution) from the list."
   ]
  },
  {
   "cell_type": "code",
   "execution_count": 27,
   "metadata": {},
   "outputs": [],
   "source": [
    "from random import sample"
   ]
  },
  {
   "cell_type": "code",
   "execution_count": 28,
   "metadata": {},
   "outputs": [
    {
     "data": {
      "text/plain": [
       "[10, 15]"
      ]
     },
     "execution_count": 28,
     "metadata": {},
     "output_type": "execute_result"
    }
   ],
   "source": [
    "sample([5, 10, 15, 20], 2)"
   ]
  },
  {
   "cell_type": "markdown",
   "metadata": {},
   "source": [
    "## Visualizing distributions with flat\n",
    "\n",
    "The code in the cell below places circles on a page with the (x, y) coordinates of their centers determined by different random distributions. The small red circles are uniformly distributed; the medium-sized green circles are normally distributed and the large blue circles are in a truncated normal distribution (centered on the center of the page, with the same spread.)"
   ]
  },
  {
   "cell_type": "code",
   "execution_count": 29,
   "metadata": {},
   "outputs": [
    {
     "data": {
      "image/svg+xml": [
       "<svg xmlns=\"http://www.w3.org/2000/svg\" xmlns:xlink=\"http://www.w3.org/1999/xlink\" version=\"1.1\" width=\"283.4646pt\" height=\"283.4646pt\" viewBox=\"0 0 283.4646 283.4646\">\n",
       "<title>Untitled</title>\n",
       "<circle cx=\"72.7283\" cy=\"244.1783\" r=\"2.8346\" fill=\"none\" stroke=\"rgba(255,0,0,0.9412)\" stroke-miterlimit=\"10\"/>\n",
       "<circle cx=\"238.1825\" cy=\"194.3602\" r=\"2.8346\" fill=\"none\" stroke=\"rgba(255,0,0,0.9412)\" stroke-miterlimit=\"10\"/>\n",
       "<circle cx=\"12.7009\" cy=\"85.7511\" r=\"2.8346\" fill=\"none\" stroke=\"rgba(255,0,0,0.9412)\" stroke-miterlimit=\"10\"/>\n",
       "<circle cx=\"112.8515\" cy=\"159.0519\" r=\"2.8346\" fill=\"none\" stroke=\"rgba(255,0,0,0.9412)\" stroke-miterlimit=\"10\"/>\n",
       "<circle cx=\"131.286\" cy=\"59.1996\" r=\"2.8346\" fill=\"none\" stroke=\"rgba(255,0,0,0.9412)\" stroke-miterlimit=\"10\"/>\n",
       "<circle cx=\"77.9046\" cy=\"142.4647\" r=\"2.8346\" fill=\"none\" stroke=\"rgba(255,0,0,0.9412)\" stroke-miterlimit=\"10\"/>\n",
       "<circle cx=\"14.7603\" cy=\"180.6087\" r=\"2.8346\" fill=\"none\" stroke=\"rgba(255,0,0,0.9412)\" stroke-miterlimit=\"10\"/>\n",
       "<circle cx=\"175.6631\" cy=\"95.653\" r=\"2.8346\" fill=\"none\" stroke=\"rgba(255,0,0,0.9412)\" stroke-miterlimit=\"10\"/>\n",
       "<circle cx=\"111.4887\" cy=\"129.7762\" r=\"2.8346\" fill=\"none\" stroke=\"rgba(255,0,0,0.9412)\" stroke-miterlimit=\"10\"/>\n",
       "<circle cx=\"234.7753\" cy=\"267.8797\" r=\"2.8346\" fill=\"none\" stroke=\"rgba(255,0,0,0.9412)\" stroke-miterlimit=\"10\"/>\n",
       "<circle cx=\"136.336\" cy=\"113.9979\" r=\"2.8346\" fill=\"none\" stroke=\"rgba(255,0,0,0.9412)\" stroke-miterlimit=\"10\"/>\n",
       "<circle cx=\"215.2403\" cy=\"10.7354\" r=\"2.8346\" fill=\"none\" stroke=\"rgba(255,0,0,0.9412)\" stroke-miterlimit=\"10\"/>\n",
       "<circle cx=\"276.1432\" cy=\"32.9222\" r=\"2.8346\" fill=\"none\" stroke=\"rgba(255,0,0,0.9412)\" stroke-miterlimit=\"10\"/>\n",
       "<circle cx=\"282.6019\" cy=\"251.8054\" r=\"2.8346\" fill=\"none\" stroke=\"rgba(255,0,0,0.9412)\" stroke-miterlimit=\"10\"/>\n",
       "<circle cx=\"71.0227\" cy=\"174.1702\" r=\"2.8346\" fill=\"none\" stroke=\"rgba(255,0,0,0.9412)\" stroke-miterlimit=\"10\"/>\n",
       "<circle cx=\"49.0575\" cy=\"63.0203\" r=\"2.8346\" fill=\"none\" stroke=\"rgba(255,0,0,0.9412)\" stroke-miterlimit=\"10\"/>\n",
       "<circle cx=\"254.3667\" cy=\"91.4296\" r=\"2.8346\" fill=\"none\" stroke=\"rgba(255,0,0,0.9412)\" stroke-miterlimit=\"10\"/>\n",
       "<circle cx=\"261.5009\" cy=\"79.6986\" r=\"2.8346\" fill=\"none\" stroke=\"rgba(255,0,0,0.9412)\" stroke-miterlimit=\"10\"/>\n",
       "<circle cx=\"137.3173\" cy=\"58.0899\" r=\"2.8346\" fill=\"none\" stroke=\"rgba(255,0,0,0.9412)\" stroke-miterlimit=\"10\"/>\n",
       "<circle cx=\"247.3837\" cy=\"177.3678\" r=\"2.8346\" fill=\"none\" stroke=\"rgba(255,0,0,0.9412)\" stroke-miterlimit=\"10\"/>\n",
       "<circle cx=\"273.1666\" cy=\"189.5286\" r=\"2.8346\" fill=\"none\" stroke=\"rgba(255,0,0,0.9412)\" stroke-miterlimit=\"10\"/>\n",
       "<circle cx=\"234.2173\" cy=\"237.6342\" r=\"2.8346\" fill=\"none\" stroke=\"rgba(255,0,0,0.9412)\" stroke-miterlimit=\"10\"/>\n",
       "<circle cx=\"164.996\" cy=\"203.8764\" r=\"2.8346\" fill=\"none\" stroke=\"rgba(255,0,0,0.9412)\" stroke-miterlimit=\"10\"/>\n",
       "<circle cx=\"34.9867\" cy=\"59.2827\" r=\"2.8346\" fill=\"none\" stroke=\"rgba(255,0,0,0.9412)\" stroke-miterlimit=\"10\"/>\n",
       "<circle cx=\"112.7148\" cy=\"103.0071\" r=\"2.8346\" fill=\"none\" stroke=\"rgba(255,0,0,0.9412)\" stroke-miterlimit=\"10\"/>\n",
       "<circle cx=\"58.1214\" cy=\"257.7361\" r=\"2.8346\" fill=\"none\" stroke=\"rgba(255,0,0,0.9412)\" stroke-miterlimit=\"10\"/>\n",
       "<circle cx=\"55.209\" cy=\"49.5544\" r=\"2.8346\" fill=\"none\" stroke=\"rgba(255,0,0,0.9412)\" stroke-miterlimit=\"10\"/>\n",
       "<circle cx=\"226.0471\" cy=\"139.0331\" r=\"2.8346\" fill=\"none\" stroke=\"rgba(255,0,0,0.9412)\" stroke-miterlimit=\"10\"/>\n",
       "<circle cx=\"198.7007\" cy=\"222.3798\" r=\"2.8346\" fill=\"none\" stroke=\"rgba(255,0,0,0.9412)\" stroke-miterlimit=\"10\"/>\n",
       "<circle cx=\"107.2874\" cy=\"4.0711\" r=\"2.8346\" fill=\"none\" stroke=\"rgba(255,0,0,0.9412)\" stroke-miterlimit=\"10\"/>\n",
       "<circle cx=\"81.4855\" cy=\"222.8702\" r=\"2.8346\" fill=\"none\" stroke=\"rgba(255,0,0,0.9412)\" stroke-miterlimit=\"10\"/>\n",
       "<circle cx=\"139.5486\" cy=\"62.8189\" r=\"2.8346\" fill=\"none\" stroke=\"rgba(255,0,0,0.9412)\" stroke-miterlimit=\"10\"/>\n",
       "<circle cx=\"274.7033\" cy=\"145.845\" r=\"2.8346\" fill=\"none\" stroke=\"rgba(255,0,0,0.9412)\" stroke-miterlimit=\"10\"/>\n",
       "<circle cx=\"227.4357\" cy=\"187.148\" r=\"2.8346\" fill=\"none\" stroke=\"rgba(255,0,0,0.9412)\" stroke-miterlimit=\"10\"/>\n",
       "<circle cx=\"128.9548\" cy=\"4.7928\" r=\"2.8346\" fill=\"none\" stroke=\"rgba(255,0,0,0.9412)\" stroke-miterlimit=\"10\"/>\n",
       "<circle cx=\"242.5296\" cy=\"61.9698\" r=\"2.8346\" fill=\"none\" stroke=\"rgba(255,0,0,0.9412)\" stroke-miterlimit=\"10\"/>\n",
       "<circle cx=\"276.7011\" cy=\"13.3946\" r=\"2.8346\" fill=\"none\" stroke=\"rgba(255,0,0,0.9412)\" stroke-miterlimit=\"10\"/>\n",
       "<circle cx=\"136.2267\" cy=\"14.8134\" r=\"2.8346\" fill=\"none\" stroke=\"rgba(255,0,0,0.9412)\" stroke-miterlimit=\"10\"/>\n",
       "<circle cx=\"107.0679\" cy=\"178.1785\" r=\"2.8346\" fill=\"none\" stroke=\"rgba(255,0,0,0.9412)\" stroke-miterlimit=\"10\"/>\n",
       "<circle cx=\"242.3924\" cy=\"30.8367\" r=\"2.8346\" fill=\"none\" stroke=\"rgba(255,0,0,0.9412)\" stroke-miterlimit=\"10\"/>\n",
       "<circle cx=\"185.6528\" cy=\"221.5569\" r=\"2.8346\" fill=\"none\" stroke=\"rgba(255,0,0,0.9412)\" stroke-miterlimit=\"10\"/>\n",
       "<circle cx=\"95.9385\" cy=\"110.3869\" r=\"2.8346\" fill=\"none\" stroke=\"rgba(255,0,0,0.9412)\" stroke-miterlimit=\"10\"/>\n",
       "<circle cx=\"14.378\" cy=\"3.2526\" r=\"2.8346\" fill=\"none\" stroke=\"rgba(255,0,0,0.9412)\" stroke-miterlimit=\"10\"/>\n",
       "<circle cx=\"80.9232\" cy=\"55.4701\" r=\"2.8346\" fill=\"none\" stroke=\"rgba(255,0,0,0.9412)\" stroke-miterlimit=\"10\"/>\n",
       "<circle cx=\"149.0499\" cy=\"206.9846\" r=\"2.8346\" fill=\"none\" stroke=\"rgba(255,0,0,0.9412)\" stroke-miterlimit=\"10\"/>\n",
       "<circle cx=\"106.5167\" cy=\"198.7705\" r=\"2.8346\" fill=\"none\" stroke=\"rgba(255,0,0,0.9412)\" stroke-miterlimit=\"10\"/>\n",
       "<circle cx=\"168.4045\" cy=\"98.9322\" r=\"2.8346\" fill=\"none\" stroke=\"rgba(255,0,0,0.9412)\" stroke-miterlimit=\"10\"/>\n",
       "<circle cx=\"252.9781\" cy=\"197.4572\" r=\"2.8346\" fill=\"none\" stroke=\"rgba(255,0,0,0.9412)\" stroke-miterlimit=\"10\"/>\n",
       "<circle cx=\"198.9036\" cy=\"116.5748\" r=\"2.8346\" fill=\"none\" stroke=\"rgba(255,0,0,0.9412)\" stroke-miterlimit=\"10\"/>\n",
       "<circle cx=\"215.2922\" cy=\"162.373\" r=\"2.8346\" fill=\"none\" stroke=\"rgba(255,0,0,0.9412)\" stroke-miterlimit=\"10\"/>\n",
       "<circle cx=\"18.5881\" cy=\"79.5341\" r=\"2.8346\" fill=\"none\" stroke=\"rgba(255,0,0,0.9412)\" stroke-miterlimit=\"10\"/>\n",
       "<circle cx=\"123.3551\" cy=\"28.164\" r=\"2.8346\" fill=\"none\" stroke=\"rgba(255,0,0,0.9412)\" stroke-miterlimit=\"10\"/>\n",
       "<circle cx=\"115.2445\" cy=\"131.3816\" r=\"2.8346\" fill=\"none\" stroke=\"rgba(255,0,0,0.9412)\" stroke-miterlimit=\"10\"/>\n",
       "<circle cx=\"197.7385\" cy=\"157.4764\" r=\"2.8346\" fill=\"none\" stroke=\"rgba(255,0,0,0.9412)\" stroke-miterlimit=\"10\"/>\n",
       "<circle cx=\"88.0491\" cy=\"231.4043\" r=\"2.8346\" fill=\"none\" stroke=\"rgba(255,0,0,0.9412)\" stroke-miterlimit=\"10\"/>\n",
       "<circle cx=\"160.9746\" cy=\"74.2281\" r=\"2.8346\" fill=\"none\" stroke=\"rgba(255,0,0,0.9412)\" stroke-miterlimit=\"10\"/>\n",
       "<circle cx=\"207.5936\" cy=\"32.6665\" r=\"2.8346\" fill=\"none\" stroke=\"rgba(255,0,0,0.9412)\" stroke-miterlimit=\"10\"/>\n",
       "<circle cx=\"88.7572\" cy=\"225.9141\" r=\"2.8346\" fill=\"none\" stroke=\"rgba(255,0,0,0.9412)\" stroke-miterlimit=\"10\"/>\n",
       "<circle cx=\"160.2791\" cy=\"18.044\" r=\"2.8346\" fill=\"none\" stroke=\"rgba(255,0,0,0.9412)\" stroke-miterlimit=\"10\"/>\n",
       "<circle cx=\"157.6652\" cy=\"84.1595\" r=\"2.8346\" fill=\"none\" stroke=\"rgba(255,0,0,0.9412)\" stroke-miterlimit=\"10\"/>\n",
       "<circle cx=\"242.8343\" cy=\"52.6356\" r=\"2.8346\" fill=\"none\" stroke=\"rgba(255,0,0,0.9412)\" stroke-miterlimit=\"10\"/>\n",
       "<circle cx=\"171.1874\" cy=\"272.9884\" r=\"2.8346\" fill=\"none\" stroke=\"rgba(255,0,0,0.9412)\" stroke-miterlimit=\"10\"/>\n",
       "<circle cx=\"186.1689\" cy=\"149.5723\" r=\"2.8346\" fill=\"none\" stroke=\"rgba(255,0,0,0.9412)\" stroke-miterlimit=\"10\"/>\n",
       "<circle cx=\"53.4785\" cy=\"42.6857\" r=\"2.8346\" fill=\"none\" stroke=\"rgba(255,0,0,0.9412)\" stroke-miterlimit=\"10\"/>\n",
       "<circle cx=\"167.234\" cy=\"227.2796\" r=\"2.8346\" fill=\"none\" stroke=\"rgba(255,0,0,0.9412)\" stroke-miterlimit=\"10\"/>\n",
       "<circle cx=\"212.2419\" cy=\"141.706\" r=\"2.8346\" fill=\"none\" stroke=\"rgba(255,0,0,0.9412)\" stroke-miterlimit=\"10\"/>\n",
       "<circle cx=\"281.6934\" cy=\"177.9979\" r=\"2.8346\" fill=\"none\" stroke=\"rgba(255,0,0,0.9412)\" stroke-miterlimit=\"10\"/>\n",
       "<circle cx=\"72.8178\" cy=\"128.0446\" r=\"2.8346\" fill=\"none\" stroke=\"rgba(255,0,0,0.9412)\" stroke-miterlimit=\"10\"/>\n",
       "<circle cx=\"21.6798\" cy=\"226.024\" r=\"2.8346\" fill=\"none\" stroke=\"rgba(255,0,0,0.9412)\" stroke-miterlimit=\"10\"/>\n",
       "<circle cx=\"107.9603\" cy=\"251.7569\" r=\"2.8346\" fill=\"none\" stroke=\"rgba(255,0,0,0.9412)\" stroke-miterlimit=\"10\"/>\n",
       "<circle cx=\"167.7633\" cy=\"35.9245\" r=\"2.8346\" fill=\"none\" stroke=\"rgba(255,0,0,0.9412)\" stroke-miterlimit=\"10\"/>\n",
       "<circle cx=\"231.9024\" cy=\"192.8856\" r=\"2.8346\" fill=\"none\" stroke=\"rgba(255,0,0,0.9412)\" stroke-miterlimit=\"10\"/>\n",
       "<circle cx=\"120.8769\" cy=\"163.5837\" r=\"2.8346\" fill=\"none\" stroke=\"rgba(255,0,0,0.9412)\" stroke-miterlimit=\"10\"/>\n",
       "<circle cx=\"252.4809\" cy=\"38.8819\" r=\"2.8346\" fill=\"none\" stroke=\"rgba(255,0,0,0.9412)\" stroke-miterlimit=\"10\"/>\n",
       "<circle cx=\"157.1426\" cy=\"79.6133\" r=\"2.8346\" fill=\"none\" stroke=\"rgba(255,0,0,0.9412)\" stroke-miterlimit=\"10\"/>\n",
       "<circle cx=\"192.6091\" cy=\"251.4757\" r=\"2.8346\" fill=\"none\" stroke=\"rgba(255,0,0,0.9412)\" stroke-miterlimit=\"10\"/>\n",
       "<circle cx=\"91.8574\" cy=\"164.3333\" r=\"2.8346\" fill=\"none\" stroke=\"rgba(255,0,0,0.9412)\" stroke-miterlimit=\"10\"/>\n",
       "<circle cx=\"61.8868\" cy=\"174.9727\" r=\"2.8346\" fill=\"none\" stroke=\"rgba(255,0,0,0.9412)\" stroke-miterlimit=\"10\"/>\n",
       "<circle cx=\"223.8348\" cy=\"238.1173\" r=\"2.8346\" fill=\"none\" stroke=\"rgba(255,0,0,0.9412)\" stroke-miterlimit=\"10\"/>\n",
       "<circle cx=\"233.3594\" cy=\"219.6767\" r=\"2.8346\" fill=\"none\" stroke=\"rgba(255,0,0,0.9412)\" stroke-miterlimit=\"10\"/>\n",
       "<circle cx=\"44.7751\" cy=\"261.326\" r=\"2.8346\" fill=\"none\" stroke=\"rgba(255,0,0,0.9412)\" stroke-miterlimit=\"10\"/>\n",
       "<circle cx=\"241.2276\" cy=\"156.7962\" r=\"2.8346\" fill=\"none\" stroke=\"rgba(255,0,0,0.9412)\" stroke-miterlimit=\"10\"/>\n",
       "<circle cx=\"117.2723\" cy=\"28.6546\" r=\"2.8346\" fill=\"none\" stroke=\"rgba(255,0,0,0.9412)\" stroke-miterlimit=\"10\"/>\n",
       "<circle cx=\"95.7256\" cy=\"275.8262\" r=\"2.8346\" fill=\"none\" stroke=\"rgba(255,0,0,0.9412)\" stroke-miterlimit=\"10\"/>\n",
       "<circle cx=\"204.628\" cy=\"215.832\" r=\"2.8346\" fill=\"none\" stroke=\"rgba(255,0,0,0.9412)\" stroke-miterlimit=\"10\"/>\n",
       "<circle cx=\"246.2579\" cy=\"46.1336\" r=\"2.8346\" fill=\"none\" stroke=\"rgba(255,0,0,0.9412)\" stroke-miterlimit=\"10\"/>\n",
       "<circle cx=\"11.1987\" cy=\"191.5547\" r=\"2.8346\" fill=\"none\" stroke=\"rgba(255,0,0,0.9412)\" stroke-miterlimit=\"10\"/>\n",
       "<circle cx=\"8.7569\" cy=\"143.9712\" r=\"2.8346\" fill=\"none\" stroke=\"rgba(255,0,0,0.9412)\" stroke-miterlimit=\"10\"/>\n",
       "<circle cx=\"269.0445\" cy=\"35.7746\" r=\"2.8346\" fill=\"none\" stroke=\"rgba(255,0,0,0.9412)\" stroke-miterlimit=\"10\"/>\n",
       "<circle cx=\"167.8472\" cy=\"192.3267\" r=\"2.8346\" fill=\"none\" stroke=\"rgba(255,0,0,0.9412)\" stroke-miterlimit=\"10\"/>\n",
       "<circle cx=\"182.4765\" cy=\"61.1798\" r=\"2.8346\" fill=\"none\" stroke=\"rgba(255,0,0,0.9412)\" stroke-miterlimit=\"10\"/>\n",
       "<circle cx=\"131.0248\" cy=\"78.7659\" r=\"2.8346\" fill=\"none\" stroke=\"rgba(255,0,0,0.9412)\" stroke-miterlimit=\"10\"/>\n",
       "<circle cx=\"171.3672\" cy=\"190.0113\" r=\"2.8346\" fill=\"none\" stroke=\"rgba(255,0,0,0.9412)\" stroke-miterlimit=\"10\"/>\n",
       "<circle cx=\"78.1341\" cy=\"147.3981\" r=\"2.8346\" fill=\"none\" stroke=\"rgba(255,0,0,0.9412)\" stroke-miterlimit=\"10\"/>\n",
       "<circle cx=\"156.3123\" cy=\"92.6392\" r=\"2.8346\" fill=\"none\" stroke=\"rgba(255,0,0,0.9412)\" stroke-miterlimit=\"10\"/>\n",
       "<circle cx=\"196.7673\" cy=\"159.4333\" r=\"2.8346\" fill=\"none\" stroke=\"rgba(255,0,0,0.9412)\" stroke-miterlimit=\"10\"/>\n",
       "<circle cx=\"131.2826\" cy=\"7.6535\" r=\"2.8346\" fill=\"none\" stroke=\"rgba(255,0,0,0.9412)\" stroke-miterlimit=\"10\"/>\n",
       "<circle cx=\"133.0715\" cy=\"162.7462\" r=\"2.8346\" fill=\"none\" stroke=\"rgba(255,0,0,0.9412)\" stroke-miterlimit=\"10\"/>\n",
       "<circle cx=\"24.4296\" cy=\"56.0501\" r=\"2.8346\" fill=\"none\" stroke=\"rgba(255,0,0,0.9412)\" stroke-miterlimit=\"10\"/>\n",
       "<circle cx=\"116.034\" cy=\"86.3074\" r=\"2.8346\" fill=\"none\" stroke=\"rgba(255,0,0,0.9412)\" stroke-miterlimit=\"10\"/>\n",
       "<circle cx=\"269.4881\" cy=\"207.1369\" r=\"2.8346\" fill=\"none\" stroke=\"rgba(255,0,0,0.9412)\" stroke-miterlimit=\"10\"/>\n",
       "<circle cx=\"83.137\" cy=\"185.7644\" r=\"2.8346\" fill=\"none\" stroke=\"rgba(255,0,0,0.9412)\" stroke-miterlimit=\"10\"/>\n",
       "<circle cx=\"193.4959\" cy=\"133.6685\" r=\"2.8346\" fill=\"none\" stroke=\"rgba(255,0,0,0.9412)\" stroke-miterlimit=\"10\"/>\n",
       "<circle cx=\"249.0797\" cy=\"60.1039\" r=\"2.8346\" fill=\"none\" stroke=\"rgba(255,0,0,0.9412)\" stroke-miterlimit=\"10\"/>\n",
       "<circle cx=\"204.1526\" cy=\"3.1682\" r=\"2.8346\" fill=\"none\" stroke=\"rgba(255,0,0,0.9412)\" stroke-miterlimit=\"10\"/>\n",
       "<circle cx=\"193.7516\" cy=\"16.38\" r=\"2.8346\" fill=\"none\" stroke=\"rgba(255,0,0,0.9412)\" stroke-miterlimit=\"10\"/>\n",
       "<circle cx=\"172.9312\" cy=\"236.6077\" r=\"2.8346\" fill=\"none\" stroke=\"rgba(255,0,0,0.9412)\" stroke-miterlimit=\"10\"/>\n",
       "<circle cx=\"206.2995\" cy=\"95.8719\" r=\"2.8346\" fill=\"none\" stroke=\"rgba(255,0,0,0.9412)\" stroke-miterlimit=\"10\"/>\n",
       "<circle cx=\"252.0252\" cy=\"54.4699\" r=\"2.8346\" fill=\"none\" stroke=\"rgba(255,0,0,0.9412)\" stroke-miterlimit=\"10\"/>\n",
       "<circle cx=\"164.8609\" cy=\"252.2838\" r=\"2.8346\" fill=\"none\" stroke=\"rgba(255,0,0,0.9412)\" stroke-miterlimit=\"10\"/>\n",
       "<circle cx=\"21.9529\" cy=\"192.3718\" r=\"2.8346\" fill=\"none\" stroke=\"rgba(255,0,0,0.9412)\" stroke-miterlimit=\"10\"/>\n",
       "<circle cx=\"56.4991\" cy=\"124.78\" r=\"2.8346\" fill=\"none\" stroke=\"rgba(255,0,0,0.9412)\" stroke-miterlimit=\"10\"/>\n",
       "<circle cx=\"269.3508\" cy=\"50.8777\" r=\"2.8346\" fill=\"none\" stroke=\"rgba(255,0,0,0.9412)\" stroke-miterlimit=\"10\"/>\n",
       "<circle cx=\"262.2811\" cy=\"110.6988\" r=\"2.8346\" fill=\"none\" stroke=\"rgba(255,0,0,0.9412)\" stroke-miterlimit=\"10\"/>\n",
       "<circle cx=\"203.8794\" cy=\"253.1779\" r=\"2.8346\" fill=\"none\" stroke=\"rgba(255,0,0,0.9412)\" stroke-miterlimit=\"10\"/>\n",
       "<circle cx=\"257.2832\" cy=\"240.221\" r=\"2.8346\" fill=\"none\" stroke=\"rgba(255,0,0,0.9412)\" stroke-miterlimit=\"10\"/>\n",
       "<circle cx=\"148.872\" cy=\"221.4629\" r=\"2.8346\" fill=\"none\" stroke=\"rgba(255,0,0,0.9412)\" stroke-miterlimit=\"10\"/>\n",
       "<circle cx=\"50.467\" cy=\"250.8193\" r=\"2.8346\" fill=\"none\" stroke=\"rgba(255,0,0,0.9412)\" stroke-miterlimit=\"10\"/>\n",
       "<circle cx=\"134.6297\" cy=\"133.2403\" r=\"2.8346\" fill=\"none\" stroke=\"rgba(255,0,0,0.9412)\" stroke-miterlimit=\"10\"/>\n",
       "<circle cx=\"159.8398\" cy=\"79.5848\" r=\"2.8346\" fill=\"none\" stroke=\"rgba(255,0,0,0.9412)\" stroke-miterlimit=\"10\"/>\n",
       "<circle cx=\"178.7465\" cy=\"232.2589\" r=\"2.8346\" fill=\"none\" stroke=\"rgba(255,0,0,0.9412)\" stroke-miterlimit=\"10\"/>\n",
       "<circle cx=\"122.1725\" cy=\"4.8412\" r=\"2.8346\" fill=\"none\" stroke=\"rgba(255,0,0,0.9412)\" stroke-miterlimit=\"10\"/>\n",
       "<circle cx=\"167.1406\" cy=\"17.7447\" r=\"2.8346\" fill=\"none\" stroke=\"rgba(255,0,0,0.9412)\" stroke-miterlimit=\"10\"/>\n",
       "<circle cx=\"35.3059\" cy=\"32.3815\" r=\"2.8346\" fill=\"none\" stroke=\"rgba(255,0,0,0.9412)\" stroke-miterlimit=\"10\"/>\n",
       "<circle cx=\"139.0236\" cy=\"139.377\" r=\"2.8346\" fill=\"none\" stroke=\"rgba(255,0,0,0.9412)\" stroke-miterlimit=\"10\"/>\n",
       "<circle cx=\"280.1984\" cy=\"112.2393\" r=\"2.8346\" fill=\"none\" stroke=\"rgba(255,0,0,0.9412)\" stroke-miterlimit=\"10\"/>\n",
       "<circle cx=\"167.0586\" cy=\"158.6676\" r=\"2.8346\" fill=\"none\" stroke=\"rgba(255,0,0,0.9412)\" stroke-miterlimit=\"10\"/>\n",
       "<circle cx=\"219.3348\" cy=\"273.7205\" r=\"2.8346\" fill=\"none\" stroke=\"rgba(255,0,0,0.9412)\" stroke-miterlimit=\"10\"/>\n",
       "<circle cx=\"251.7393\" cy=\"169.835\" r=\"2.8346\" fill=\"none\" stroke=\"rgba(255,0,0,0.9412)\" stroke-miterlimit=\"10\"/>\n",
       "<circle cx=\"58.242\" cy=\"109.9298\" r=\"2.8346\" fill=\"none\" stroke=\"rgba(255,0,0,0.9412)\" stroke-miterlimit=\"10\"/>\n",
       "<circle cx=\"264.0016\" cy=\"109.5213\" r=\"2.8346\" fill=\"none\" stroke=\"rgba(255,0,0,0.9412)\" stroke-miterlimit=\"10\"/>\n",
       "<circle cx=\"163.6907\" cy=\"19.1227\" r=\"2.8346\" fill=\"none\" stroke=\"rgba(255,0,0,0.9412)\" stroke-miterlimit=\"10\"/>\n",
       "<circle cx=\"110.1297\" cy=\"220.3822\" r=\"2.8346\" fill=\"none\" stroke=\"rgba(255,0,0,0.9412)\" stroke-miterlimit=\"10\"/>\n",
       "<circle cx=\"194.7084\" cy=\"118.1873\" r=\"2.8346\" fill=\"none\" stroke=\"rgba(255,0,0,0.9412)\" stroke-miterlimit=\"10\"/>\n",
       "<circle cx=\"237.3514\" cy=\"230.4148\" r=\"2.8346\" fill=\"none\" stroke=\"rgba(255,0,0,0.9412)\" stroke-miterlimit=\"10\"/>\n",
       "<circle cx=\"234.8644\" cy=\"135.0978\" r=\"2.8346\" fill=\"none\" stroke=\"rgba(255,0,0,0.9412)\" stroke-miterlimit=\"10\"/>\n",
       "<circle cx=\"107.7332\" cy=\"87.3761\" r=\"2.8346\" fill=\"none\" stroke=\"rgba(255,0,0,0.9412)\" stroke-miterlimit=\"10\"/>\n",
       "<circle cx=\"15.1635\" cy=\"66.8531\" r=\"2.8346\" fill=\"none\" stroke=\"rgba(255,0,0,0.9412)\" stroke-miterlimit=\"10\"/>\n",
       "<circle cx=\"281.5537\" cy=\"131.1485\" r=\"2.8346\" fill=\"none\" stroke=\"rgba(255,0,0,0.9412)\" stroke-miterlimit=\"10\"/>\n",
       "<circle cx=\"280.1004\" cy=\"187.4297\" r=\"2.8346\" fill=\"none\" stroke=\"rgba(255,0,0,0.9412)\" stroke-miterlimit=\"10\"/>\n",
       "<circle cx=\"225.0286\" cy=\"236.1994\" r=\"2.8346\" fill=\"none\" stroke=\"rgba(255,0,0,0.9412)\" stroke-miterlimit=\"10\"/>\n",
       "<circle cx=\"192.3668\" cy=\"94.6538\" r=\"2.8346\" fill=\"none\" stroke=\"rgba(255,0,0,0.9412)\" stroke-miterlimit=\"10\"/>\n",
       "<circle cx=\"108.4949\" cy=\"182.7827\" r=\"2.8346\" fill=\"none\" stroke=\"rgba(255,0,0,0.9412)\" stroke-miterlimit=\"10\"/>\n",
       "<circle cx=\"187.5107\" cy=\"269.7009\" r=\"2.8346\" fill=\"none\" stroke=\"rgba(255,0,0,0.9412)\" stroke-miterlimit=\"10\"/>\n",
       "<circle cx=\"123.989\" cy=\"274.2744\" r=\"2.8346\" fill=\"none\" stroke=\"rgba(255,0,0,0.9412)\" stroke-miterlimit=\"10\"/>\n",
       "<circle cx=\"22.6777\" cy=\"148.6902\" r=\"2.8346\" fill=\"none\" stroke=\"rgba(255,0,0,0.9412)\" stroke-miterlimit=\"10\"/>\n",
       "<circle cx=\"10.2404\" cy=\"270.9907\" r=\"2.8346\" fill=\"none\" stroke=\"rgba(255,0,0,0.9412)\" stroke-miterlimit=\"10\"/>\n",
       "<circle cx=\"150.2198\" cy=\"5.9636\" r=\"2.8346\" fill=\"none\" stroke=\"rgba(255,0,0,0.9412)\" stroke-miterlimit=\"10\"/>\n",
       "<circle cx=\"200.5317\" cy=\"109.9648\" r=\"2.8346\" fill=\"none\" stroke=\"rgba(255,0,0,0.9412)\" stroke-miterlimit=\"10\"/>\n",
       "<circle cx=\"137.0194\" cy=\"192.3674\" r=\"2.8346\" fill=\"none\" stroke=\"rgba(255,0,0,0.9412)\" stroke-miterlimit=\"10\"/>\n",
       "<circle cx=\"163.7197\" cy=\"203.0941\" r=\"2.8346\" fill=\"none\" stroke=\"rgba(255,0,0,0.9412)\" stroke-miterlimit=\"10\"/>\n",
       "<circle cx=\"110.8214\" cy=\"80.5232\" r=\"2.8346\" fill=\"none\" stroke=\"rgba(255,0,0,0.9412)\" stroke-miterlimit=\"10\"/>\n",
       "<circle cx=\"19.2207\" cy=\"116.7973\" r=\"2.8346\" fill=\"none\" stroke=\"rgba(255,0,0,0.9412)\" stroke-miterlimit=\"10\"/>\n",
       "<circle cx=\"20.0015\" cy=\"96.6431\" r=\"2.8346\" fill=\"none\" stroke=\"rgba(255,0,0,0.9412)\" stroke-miterlimit=\"10\"/>\n",
       "<circle cx=\"244.7516\" cy=\"167.4253\" r=\"2.8346\" fill=\"none\" stroke=\"rgba(255,0,0,0.9412)\" stroke-miterlimit=\"10\"/>\n",
       "<circle cx=\"82.902\" cy=\"246.6424\" r=\"2.8346\" fill=\"none\" stroke=\"rgba(255,0,0,0.9412)\" stroke-miterlimit=\"10\"/>\n",
       "<circle cx=\"127.1569\" cy=\"207.9901\" r=\"2.8346\" fill=\"none\" stroke=\"rgba(255,0,0,0.9412)\" stroke-miterlimit=\"10\"/>\n",
       "<circle cx=\"224.3491\" cy=\"66.17\" r=\"2.8346\" fill=\"none\" stroke=\"rgba(255,0,0,0.9412)\" stroke-miterlimit=\"10\"/>\n",
       "<circle cx=\"236.6945\" cy=\"188.9484\" r=\"2.8346\" fill=\"none\" stroke=\"rgba(255,0,0,0.9412)\" stroke-miterlimit=\"10\"/>\n",
       "<circle cx=\"188.7211\" cy=\"277.7883\" r=\"2.8346\" fill=\"none\" stroke=\"rgba(255,0,0,0.9412)\" stroke-miterlimit=\"10\"/>\n",
       "<circle cx=\"139.4679\" cy=\"37.3294\" r=\"2.8346\" fill=\"none\" stroke=\"rgba(255,0,0,0.9412)\" stroke-miterlimit=\"10\"/>\n",
       "<circle cx=\"244.5748\" cy=\"166.2069\" r=\"2.8346\" fill=\"none\" stroke=\"rgba(255,0,0,0.9412)\" stroke-miterlimit=\"10\"/>\n",
       "<circle cx=\"185.99\" cy=\"107.9199\" r=\"2.8346\" fill=\"none\" stroke=\"rgba(255,0,0,0.9412)\" stroke-miterlimit=\"10\"/>\n",
       "<circle cx=\"25.5733\" cy=\"19.7701\" r=\"2.8346\" fill=\"none\" stroke=\"rgba(255,0,0,0.9412)\" stroke-miterlimit=\"10\"/>\n",
       "<circle cx=\"60.1879\" cy=\"242.9329\" r=\"2.8346\" fill=\"none\" stroke=\"rgba(255,0,0,0.9412)\" stroke-miterlimit=\"10\"/>\n",
       "<circle cx=\"192.8386\" cy=\"96.2233\" r=\"2.8346\" fill=\"none\" stroke=\"rgba(255,0,0,0.9412)\" stroke-miterlimit=\"10\"/>\n",
       "<circle cx=\"254.1667\" cy=\"5.1633\" r=\"2.8346\" fill=\"none\" stroke=\"rgba(255,0,0,0.9412)\" stroke-miterlimit=\"10\"/>\n",
       "<circle cx=\"277.5777\" cy=\"179.6943\" r=\"2.8346\" fill=\"none\" stroke=\"rgba(255,0,0,0.9412)\" stroke-miterlimit=\"10\"/>\n",
       "<circle cx=\"213.7334\" cy=\"115.8444\" r=\"2.8346\" fill=\"none\" stroke=\"rgba(255,0,0,0.9412)\" stroke-miterlimit=\"10\"/>\n",
       "<circle cx=\"206.3898\" cy=\"239.8892\" r=\"2.8346\" fill=\"none\" stroke=\"rgba(255,0,0,0.9412)\" stroke-miterlimit=\"10\"/>\n",
       "<circle cx=\"122.288\" cy=\"160.7244\" r=\"2.8346\" fill=\"none\" stroke=\"rgba(255,0,0,0.9412)\" stroke-miterlimit=\"10\"/>\n",
       "<circle cx=\"149.293\" cy=\"234.6237\" r=\"2.8346\" fill=\"none\" stroke=\"rgba(255,0,0,0.9412)\" stroke-miterlimit=\"10\"/>\n",
       "<circle cx=\"62.5417\" cy=\"116.45\" r=\"2.8346\" fill=\"none\" stroke=\"rgba(255,0,0,0.9412)\" stroke-miterlimit=\"10\"/>\n",
       "<circle cx=\"158.3605\" cy=\"222.2839\" r=\"2.8346\" fill=\"none\" stroke=\"rgba(255,0,0,0.9412)\" stroke-miterlimit=\"10\"/>\n",
       "<circle cx=\"133.8295\" cy=\"162.1733\" r=\"2.8346\" fill=\"none\" stroke=\"rgba(255,0,0,0.9412)\" stroke-miterlimit=\"10\"/>\n",
       "<circle cx=\"129.3792\" cy=\"51.3668\" r=\"2.8346\" fill=\"none\" stroke=\"rgba(255,0,0,0.9412)\" stroke-miterlimit=\"10\"/>\n",
       "<circle cx=\"208.6944\" cy=\"136.8182\" r=\"2.8346\" fill=\"none\" stroke=\"rgba(255,0,0,0.9412)\" stroke-miterlimit=\"10\"/>\n",
       "<circle cx=\"136.9132\" cy=\"181.8936\" r=\"2.8346\" fill=\"none\" stroke=\"rgba(255,0,0,0.9412)\" stroke-miterlimit=\"10\"/>\n",
       "<circle cx=\"89.9175\" cy=\"116.1237\" r=\"2.8346\" fill=\"none\" stroke=\"rgba(255,0,0,0.9412)\" stroke-miterlimit=\"10\"/>\n",
       "<circle cx=\"234.8878\" cy=\"218.2424\" r=\"2.8346\" fill=\"none\" stroke=\"rgba(255,0,0,0.9412)\" stroke-miterlimit=\"10\"/>\n",
       "<circle cx=\"135.3174\" cy=\"243.6497\" r=\"2.8346\" fill=\"none\" stroke=\"rgba(255,0,0,0.9412)\" stroke-miterlimit=\"10\"/>\n",
       "<circle cx=\"84.7126\" cy=\"196.7783\" r=\"2.8346\" fill=\"none\" stroke=\"rgba(255,0,0,0.9412)\" stroke-miterlimit=\"10\"/>\n",
       "<circle cx=\"137.9624\" cy=\"276.5652\" r=\"2.8346\" fill=\"none\" stroke=\"rgba(255,0,0,0.9412)\" stroke-miterlimit=\"10\"/>\n",
       "<circle cx=\"14.9902\" cy=\"261.2607\" r=\"2.8346\" fill=\"none\" stroke=\"rgba(255,0,0,0.9412)\" stroke-miterlimit=\"10\"/>\n",
       "<circle cx=\"238.7582\" cy=\"118.0151\" r=\"2.8346\" fill=\"none\" stroke=\"rgba(255,0,0,0.9412)\" stroke-miterlimit=\"10\"/>\n",
       "<circle cx=\"105.9453\" cy=\"183.8298\" r=\"2.8346\" fill=\"none\" stroke=\"rgba(255,0,0,0.9412)\" stroke-miterlimit=\"10\"/>\n",
       "<circle cx=\"105.8585\" cy=\"208.1305\" r=\"2.8346\" fill=\"none\" stroke=\"rgba(255,0,0,0.9412)\" stroke-miterlimit=\"10\"/>\n",
       "<circle cx=\"164.6718\" cy=\"90.3684\" r=\"2.8346\" fill=\"none\" stroke=\"rgba(255,0,0,0.9412)\" stroke-miterlimit=\"10\"/>\n",
       "<circle cx=\"5.0092\" cy=\"34.0697\" r=\"2.8346\" fill=\"none\" stroke=\"rgba(255,0,0,0.9412)\" stroke-miterlimit=\"10\"/>\n",
       "<circle cx=\"203.2909\" cy=\"78.4899\" r=\"2.8346\" fill=\"none\" stroke=\"rgba(255,0,0,0.9412)\" stroke-miterlimit=\"10\"/>\n",
       "<circle cx=\"80.8289\" cy=\"136.2544\" r=\"2.8346\" fill=\"none\" stroke=\"rgba(255,0,0,0.9412)\" stroke-miterlimit=\"10\"/>\n",
       "<circle cx=\"122.1533\" cy=\"42.7031\" r=\"2.8346\" fill=\"none\" stroke=\"rgba(255,0,0,0.9412)\" stroke-miterlimit=\"10\"/>\n",
       "<circle cx=\"263.2542\" cy=\"240.7216\" r=\"2.8346\" fill=\"none\" stroke=\"rgba(255,0,0,0.9412)\" stroke-miterlimit=\"10\"/>\n",
       "<circle cx=\"54.6425\" cy=\"118.9636\" r=\"2.8346\" fill=\"none\" stroke=\"rgba(255,0,0,0.9412)\" stroke-miterlimit=\"10\"/>\n",
       "<circle cx=\"219.642\" cy=\"265.9015\" r=\"2.8346\" fill=\"none\" stroke=\"rgba(255,0,0,0.9412)\" stroke-miterlimit=\"10\"/>\n",
       "<circle cx=\"80.4324\" cy=\"7.8451\" r=\"2.8346\" fill=\"none\" stroke=\"rgba(255,0,0,0.9412)\" stroke-miterlimit=\"10\"/>\n",
       "<circle cx=\"153.4859\" cy=\"210.2416\" r=\"2.8346\" fill=\"none\" stroke=\"rgba(255,0,0,0.9412)\" stroke-miterlimit=\"10\"/>\n",
       "<circle cx=\"281.2382\" cy=\"22.1766\" r=\"2.8346\" fill=\"none\" stroke=\"rgba(255,0,0,0.9412)\" stroke-miterlimit=\"10\"/>\n",
       "<circle cx=\"78.4263\" cy=\"110.8527\" r=\"2.8346\" fill=\"none\" stroke=\"rgba(255,0,0,0.9412)\" stroke-miterlimit=\"10\"/>\n",
       "<circle cx=\"205.645\" cy=\"228.03\" r=\"2.8346\" fill=\"none\" stroke=\"rgba(255,0,0,0.9412)\" stroke-miterlimit=\"10\"/>\n",
       "<circle cx=\"75.8585\" cy=\"206.7614\" r=\"2.8346\" fill=\"none\" stroke=\"rgba(255,0,0,0.9412)\" stroke-miterlimit=\"10\"/>\n",
       "<circle cx=\"76.8051\" cy=\"149.3228\" r=\"2.8346\" fill=\"none\" stroke=\"rgba(255,0,0,0.9412)\" stroke-miterlimit=\"10\"/>\n",
       "<circle cx=\"62.3908\" cy=\"97.9082\" r=\"2.8346\" fill=\"none\" stroke=\"rgba(255,0,0,0.9412)\" stroke-miterlimit=\"10\"/>\n",
       "<circle cx=\"74.9904\" cy=\"218.5769\" r=\"2.8346\" fill=\"none\" stroke=\"rgba(255,0,0,0.9412)\" stroke-miterlimit=\"10\"/>\n",
       "<circle cx=\"155.3706\" cy=\"165.2022\" r=\"2.8346\" fill=\"none\" stroke=\"rgba(255,0,0,0.9412)\" stroke-miterlimit=\"10\"/>\n",
       "<circle cx=\"122.1422\" cy=\"226.7718\" r=\"2.8346\" fill=\"none\" stroke=\"rgba(255,0,0,0.9412)\" stroke-miterlimit=\"10\"/>\n",
       "<circle cx=\"38.7083\" cy=\"218.9674\" r=\"2.8346\" fill=\"none\" stroke=\"rgba(255,0,0,0.9412)\" stroke-miterlimit=\"10\"/>\n",
       "<circle cx=\"158.9745\" cy=\"82.8877\" r=\"2.8346\" fill=\"none\" stroke=\"rgba(255,0,0,0.9412)\" stroke-miterlimit=\"10\"/>\n",
       "<circle cx=\"50.4238\" cy=\"178.7024\" r=\"2.8346\" fill=\"none\" stroke=\"rgba(255,0,0,0.9412)\" stroke-miterlimit=\"10\"/>\n",
       "<circle cx=\"179.0748\" cy=\"233.7421\" r=\"2.8346\" fill=\"none\" stroke=\"rgba(255,0,0,0.9412)\" stroke-miterlimit=\"10\"/>\n",
       "<circle cx=\"9.6733\" cy=\"231.8355\" r=\"2.8346\" fill=\"none\" stroke=\"rgba(255,0,0,0.9412)\" stroke-miterlimit=\"10\"/>\n",
       "<circle cx=\"171.4346\" cy=\"181.4796\" r=\"2.8346\" fill=\"none\" stroke=\"rgba(255,0,0,0.9412)\" stroke-miterlimit=\"10\"/>\n",
       "<circle cx=\"26.6282\" cy=\"268.3793\" r=\"2.8346\" fill=\"none\" stroke=\"rgba(255,0,0,0.9412)\" stroke-miterlimit=\"10\"/>\n",
       "<circle cx=\"270.1574\" cy=\"224.018\" r=\"2.8346\" fill=\"none\" stroke=\"rgba(255,0,0,0.9412)\" stroke-miterlimit=\"10\"/>\n",
       "<circle cx=\"14.4906\" cy=\"267.7816\" r=\"2.8346\" fill=\"none\" stroke=\"rgba(255,0,0,0.9412)\" stroke-miterlimit=\"10\"/>\n",
       "<circle cx=\"196.5298\" cy=\"91.8794\" r=\"2.8346\" fill=\"none\" stroke=\"rgba(255,0,0,0.9412)\" stroke-miterlimit=\"10\"/>\n",
       "<circle cx=\"196.0562\" cy=\"164.0304\" r=\"2.8346\" fill=\"none\" stroke=\"rgba(255,0,0,0.9412)\" stroke-miterlimit=\"10\"/>\n",
       "<circle cx=\"60.5215\" cy=\"36.2085\" r=\"2.8346\" fill=\"none\" stroke=\"rgba(255,0,0,0.9412)\" stroke-miterlimit=\"10\"/>\n",
       "<circle cx=\"203.7144\" cy=\"149.5821\" r=\"2.8346\" fill=\"none\" stroke=\"rgba(255,0,0,0.9412)\" stroke-miterlimit=\"10\"/>\n",
       "<circle cx=\"176.431\" cy=\"50.593\" r=\"2.8346\" fill=\"none\" stroke=\"rgba(255,0,0,0.9412)\" stroke-miterlimit=\"10\"/>\n",
       "<circle cx=\"103.1453\" cy=\"188.8456\" r=\"2.8346\" fill=\"none\" stroke=\"rgba(255,0,0,0.9412)\" stroke-miterlimit=\"10\"/>\n",
       "<circle cx=\"111.478\" cy=\"75.3844\" r=\"2.8346\" fill=\"none\" stroke=\"rgba(255,0,0,0.9412)\" stroke-miterlimit=\"10\"/>\n",
       "<circle cx=\"94.5431\" cy=\"273.6384\" r=\"2.8346\" fill=\"none\" stroke=\"rgba(255,0,0,0.9412)\" stroke-miterlimit=\"10\"/>\n",
       "<circle cx=\"253.6299\" cy=\"53.4569\" r=\"2.8346\" fill=\"none\" stroke=\"rgba(255,0,0,0.9412)\" stroke-miterlimit=\"10\"/>\n",
       "<circle cx=\"53.868\" cy=\"105.1067\" r=\"2.8346\" fill=\"none\" stroke=\"rgba(255,0,0,0.9412)\" stroke-miterlimit=\"10\"/>\n",
       "<circle cx=\"89.3474\" cy=\"188.6957\" r=\"2.8346\" fill=\"none\" stroke=\"rgba(255,0,0,0.9412)\" stroke-miterlimit=\"10\"/>\n",
       "<circle cx=\"46.9748\" cy=\"221.5168\" r=\"2.8346\" fill=\"none\" stroke=\"rgba(255,0,0,0.9412)\" stroke-miterlimit=\"10\"/>\n",
       "<circle cx=\"75.9269\" cy=\"261.5512\" r=\"2.8346\" fill=\"none\" stroke=\"rgba(255,0,0,0.9412)\" stroke-miterlimit=\"10\"/>\n",
       "<circle cx=\"95.9286\" cy=\"31.0608\" r=\"2.8346\" fill=\"none\" stroke=\"rgba(255,0,0,0.9412)\" stroke-miterlimit=\"10\"/>\n",
       "<circle cx=\"242.1555\" cy=\"44.8707\" r=\"2.8346\" fill=\"none\" stroke=\"rgba(255,0,0,0.9412)\" stroke-miterlimit=\"10\"/>\n",
       "<circle cx=\"223.9825\" cy=\"248.3827\" r=\"2.8346\" fill=\"none\" stroke=\"rgba(255,0,0,0.9412)\" stroke-miterlimit=\"10\"/>\n",
       "<circle cx=\"3.0729\" cy=\"68.0709\" r=\"2.8346\" fill=\"none\" stroke=\"rgba(255,0,0,0.9412)\" stroke-miterlimit=\"10\"/>\n",
       "<circle cx=\"169.3746\" cy=\"31.3143\" r=\"2.8346\" fill=\"none\" stroke=\"rgba(255,0,0,0.9412)\" stroke-miterlimit=\"10\"/>\n",
       "<circle cx=\"231.1942\" cy=\"192.1643\" r=\"2.8346\" fill=\"none\" stroke=\"rgba(255,0,0,0.9412)\" stroke-miterlimit=\"10\"/>\n",
       "<circle cx=\"28.858\" cy=\"127.9947\" r=\"2.8346\" fill=\"none\" stroke=\"rgba(255,0,0,0.9412)\" stroke-miterlimit=\"10\"/>\n",
       "<circle cx=\"42.3795\" cy=\"13.5792\" r=\"2.8346\" fill=\"none\" stroke=\"rgba(255,0,0,0.9412)\" stroke-miterlimit=\"10\"/>\n",
       "<circle cx=\"265.5222\" cy=\"30.7907\" r=\"2.8346\" fill=\"none\" stroke=\"rgba(255,0,0,0.9412)\" stroke-miterlimit=\"10\"/>\n",
       "<circle cx=\"241.2203\" cy=\"193.3461\" r=\"2.8346\" fill=\"none\" stroke=\"rgba(255,0,0,0.9412)\" stroke-miterlimit=\"10\"/>\n",
       "<circle cx=\"245.4455\" cy=\"141.7112\" r=\"2.8346\" fill=\"none\" stroke=\"rgba(255,0,0,0.9412)\" stroke-miterlimit=\"10\"/>\n",
       "<circle cx=\"108.3247\" cy=\"24.4962\" r=\"2.8346\" fill=\"none\" stroke=\"rgba(255,0,0,0.9412)\" stroke-miterlimit=\"10\"/>\n",
       "<circle cx=\"162.797\" cy=\"21.7935\" r=\"2.8346\" fill=\"none\" stroke=\"rgba(255,0,0,0.9412)\" stroke-miterlimit=\"10\"/>\n",
       "<circle cx=\"204.665\" cy=\"83.4183\" r=\"2.8346\" fill=\"none\" stroke=\"rgba(255,0,0,0.9412)\" stroke-miterlimit=\"10\"/>\n",
       "<circle cx=\"34.559\" cy=\"47.3738\" r=\"2.8346\" fill=\"none\" stroke=\"rgba(255,0,0,0.9412)\" stroke-miterlimit=\"10\"/>\n",
       "<circle cx=\"27.283\" cy=\"117.9288\" r=\"2.8346\" fill=\"none\" stroke=\"rgba(255,0,0,0.9412)\" stroke-miterlimit=\"10\"/>\n",
       "<circle cx=\"137.1591\" cy=\"133.0591\" r=\"2.8346\" fill=\"none\" stroke=\"rgba(255,0,0,0.9412)\" stroke-miterlimit=\"10\"/>\n",
       "<circle cx=\"14.4928\" cy=\"262.4619\" r=\"2.8346\" fill=\"none\" stroke=\"rgba(255,0,0,0.9412)\" stroke-miterlimit=\"10\"/>\n",
       "<circle cx=\"47.5248\" cy=\"206.3413\" r=\"2.8346\" fill=\"none\" stroke=\"rgba(255,0,0,0.9412)\" stroke-miterlimit=\"10\"/>\n",
       "<circle cx=\"119.0428\" cy=\"74.0135\" r=\"2.8346\" fill=\"none\" stroke=\"rgba(255,0,0,0.9412)\" stroke-miterlimit=\"10\"/>\n",
       "<circle cx=\"22.814\" cy=\"83.9171\" r=\"2.8346\" fill=\"none\" stroke=\"rgba(255,0,0,0.9412)\" stroke-miterlimit=\"10\"/>\n",
       "<circle cx=\"71.6747\" cy=\"150.034\" r=\"2.8346\" fill=\"none\" stroke=\"rgba(255,0,0,0.9412)\" stroke-miterlimit=\"10\"/>\n",
       "<circle cx=\"218.0896\" cy=\"239.8597\" r=\"2.8346\" fill=\"none\" stroke=\"rgba(255,0,0,0.9412)\" stroke-miterlimit=\"10\"/>\n",
       "<circle cx=\"184.4533\" cy=\"85.5509\" r=\"2.8346\" fill=\"none\" stroke=\"rgba(255,0,0,0.9412)\" stroke-miterlimit=\"10\"/>\n",
       "<circle cx=\"48.3078\" cy=\"41.8188\" r=\"2.8346\" fill=\"none\" stroke=\"rgba(255,0,0,0.9412)\" stroke-miterlimit=\"10\"/>\n",
       "<circle cx=\"141.971\" cy=\"267.4065\" r=\"2.8346\" fill=\"none\" stroke=\"rgba(255,0,0,0.9412)\" stroke-miterlimit=\"10\"/>\n",
       "<circle cx=\"238.6554\" cy=\"156.6826\" r=\"2.8346\" fill=\"none\" stroke=\"rgba(255,0,0,0.9412)\" stroke-miterlimit=\"10\"/>\n",
       "<circle cx=\"206.1695\" cy=\"250.5858\" r=\"2.8346\" fill=\"none\" stroke=\"rgba(255,0,0,0.9412)\" stroke-miterlimit=\"10\"/>\n",
       "<circle cx=\"211.5586\" cy=\"123.1378\" r=\"2.8346\" fill=\"none\" stroke=\"rgba(255,0,0,0.9412)\" stroke-miterlimit=\"10\"/>\n",
       "<circle cx=\"272.3996\" cy=\"226.6169\" r=\"2.8346\" fill=\"none\" stroke=\"rgba(255,0,0,0.9412)\" stroke-miterlimit=\"10\"/>\n",
       "<circle cx=\"92.6837\" cy=\"91.5675\" r=\"2.8346\" fill=\"none\" stroke=\"rgba(255,0,0,0.9412)\" stroke-miterlimit=\"10\"/>\n",
       "<circle cx=\"119.9918\" cy=\"71.5187\" r=\"2.8346\" fill=\"none\" stroke=\"rgba(255,0,0,0.9412)\" stroke-miterlimit=\"10\"/>\n",
       "<circle cx=\"275.3546\" cy=\"257.9873\" r=\"2.8346\" fill=\"none\" stroke=\"rgba(255,0,0,0.9412)\" stroke-miterlimit=\"10\"/>\n",
       "<circle cx=\"68.4974\" cy=\"72.0903\" r=\"2.8346\" fill=\"none\" stroke=\"rgba(255,0,0,0.9412)\" stroke-miterlimit=\"10\"/>\n",
       "<circle cx=\"180.3248\" cy=\"110.2142\" r=\"2.8346\" fill=\"none\" stroke=\"rgba(255,0,0,0.9412)\" stroke-miterlimit=\"10\"/>\n",
       "<circle cx=\"263.1798\" cy=\"161.3352\" r=\"2.8346\" fill=\"none\" stroke=\"rgba(255,0,0,0.9412)\" stroke-miterlimit=\"10\"/>\n",
       "<circle cx=\"3.5233\" cy=\"52.6565\" r=\"2.8346\" fill=\"none\" stroke=\"rgba(255,0,0,0.9412)\" stroke-miterlimit=\"10\"/>\n",
       "<circle cx=\"163.9737\" cy=\"141.0787\" r=\"2.8346\" fill=\"none\" stroke=\"rgba(255,0,0,0.9412)\" stroke-miterlimit=\"10\"/>\n",
       "<circle cx=\"259.6433\" cy=\"8.867\" r=\"2.8346\" fill=\"none\" stroke=\"rgba(255,0,0,0.9412)\" stroke-miterlimit=\"10\"/>\n",
       "<circle cx=\"156.2098\" cy=\"73.0679\" r=\"2.8346\" fill=\"none\" stroke=\"rgba(255,0,0,0.9412)\" stroke-miterlimit=\"10\"/>\n",
       "<circle cx=\"40.0839\" cy=\"224.9112\" r=\"2.8346\" fill=\"none\" stroke=\"rgba(255,0,0,0.9412)\" stroke-miterlimit=\"10\"/>\n",
       "<circle cx=\"98.8361\" cy=\"20.6989\" r=\"2.8346\" fill=\"none\" stroke=\"rgba(255,0,0,0.9412)\" stroke-miterlimit=\"10\"/>\n",
       "<circle cx=\"180.2798\" cy=\"60.6219\" r=\"2.8346\" fill=\"none\" stroke=\"rgba(255,0,0,0.9412)\" stroke-miterlimit=\"10\"/>\n",
       "<circle cx=\"158.0256\" cy=\"97.6006\" r=\"2.8346\" fill=\"none\" stroke=\"rgba(255,0,0,0.9412)\" stroke-miterlimit=\"10\"/>\n",
       "<circle cx=\"263.2727\" cy=\"194.414\" r=\"2.8346\" fill=\"none\" stroke=\"rgba(255,0,0,0.9412)\" stroke-miterlimit=\"10\"/>\n",
       "<circle cx=\"14.8024\" cy=\"152.6559\" r=\"2.8346\" fill=\"none\" stroke=\"rgba(255,0,0,0.9412)\" stroke-miterlimit=\"10\"/>\n",
       "<circle cx=\"268.1751\" cy=\"135.5182\" r=\"2.8346\" fill=\"none\" stroke=\"rgba(255,0,0,0.9412)\" stroke-miterlimit=\"10\"/>\n",
       "<circle cx=\"230.2579\" cy=\"31.4477\" r=\"2.8346\" fill=\"none\" stroke=\"rgba(255,0,0,0.9412)\" stroke-miterlimit=\"10\"/>\n",
       "<circle cx=\"242.5831\" cy=\"275.0961\" r=\"2.8346\" fill=\"none\" stroke=\"rgba(255,0,0,0.9412)\" stroke-miterlimit=\"10\"/>\n",
       "<circle cx=\"55.6522\" cy=\"232.0793\" r=\"2.8346\" fill=\"none\" stroke=\"rgba(255,0,0,0.9412)\" stroke-miterlimit=\"10\"/>\n",
       "<circle cx=\"94.7569\" cy=\"224.4426\" r=\"2.8346\" fill=\"none\" stroke=\"rgba(255,0,0,0.9412)\" stroke-miterlimit=\"10\"/>\n",
       "<circle cx=\"183.9048\" cy=\"197.7702\" r=\"2.8346\" fill=\"none\" stroke=\"rgba(255,0,0,0.9412)\" stroke-miterlimit=\"10\"/>\n",
       "<circle cx=\"24.9261\" cy=\"86.2933\" r=\"2.8346\" fill=\"none\" stroke=\"rgba(255,0,0,0.9412)\" stroke-miterlimit=\"10\"/>\n",
       "<circle cx=\"121.7296\" cy=\"117.3638\" r=\"2.8346\" fill=\"none\" stroke=\"rgba(255,0,0,0.9412)\" stroke-miterlimit=\"10\"/>\n",
       "<circle cx=\"174.5669\" cy=\"135.9587\" r=\"2.8346\" fill=\"none\" stroke=\"rgba(255,0,0,0.9412)\" stroke-miterlimit=\"10\"/>\n",
       "<circle cx=\"25.5837\" cy=\"168.9897\" r=\"2.8346\" fill=\"none\" stroke=\"rgba(255,0,0,0.9412)\" stroke-miterlimit=\"10\"/>\n",
       "<circle cx=\"264.1221\" cy=\"20.3034\" r=\"2.8346\" fill=\"none\" stroke=\"rgba(255,0,0,0.9412)\" stroke-miterlimit=\"10\"/>\n",
       "<circle cx=\"243.0092\" cy=\"135.2451\" r=\"2.8346\" fill=\"none\" stroke=\"rgba(255,0,0,0.9412)\" stroke-miterlimit=\"10\"/>\n",
       "<circle cx=\"174.856\" cy=\"181.8632\" r=\"2.8346\" fill=\"none\" stroke=\"rgba(255,0,0,0.9412)\" stroke-miterlimit=\"10\"/>\n",
       "<circle cx=\"279.396\" cy=\"281.2579\" r=\"2.8346\" fill=\"none\" stroke=\"rgba(255,0,0,0.9412)\" stroke-miterlimit=\"10\"/>\n",
       "<circle cx=\"96.7072\" cy=\"264.496\" r=\"2.8346\" fill=\"none\" stroke=\"rgba(255,0,0,0.9412)\" stroke-miterlimit=\"10\"/>\n",
       "<circle cx=\"50.5816\" cy=\"246.0808\" r=\"2.8346\" fill=\"none\" stroke=\"rgba(255,0,0,0.9412)\" stroke-miterlimit=\"10\"/>\n",
       "<circle cx=\"241.4568\" cy=\"103.8855\" r=\"2.8346\" fill=\"none\" stroke=\"rgba(255,0,0,0.9412)\" stroke-miterlimit=\"10\"/>\n",
       "<circle cx=\"44.4742\" cy=\"29.9429\" r=\"2.8346\" fill=\"none\" stroke=\"rgba(255,0,0,0.9412)\" stroke-miterlimit=\"10\"/>\n",
       "<circle cx=\"233.9672\" cy=\"51.686\" r=\"2.8346\" fill=\"none\" stroke=\"rgba(255,0,0,0.9412)\" stroke-miterlimit=\"10\"/>\n",
       "<circle cx=\"154.569\" cy=\"275.8494\" r=\"2.8346\" fill=\"none\" stroke=\"rgba(255,0,0,0.9412)\" stroke-miterlimit=\"10\"/>\n",
       "<circle cx=\"212.9122\" cy=\"206.7798\" r=\"2.8346\" fill=\"none\" stroke=\"rgba(255,0,0,0.9412)\" stroke-miterlimit=\"10\"/>\n",
       "<circle cx=\"41.6105\" cy=\"116.0936\" r=\"2.8346\" fill=\"none\" stroke=\"rgba(255,0,0,0.9412)\" stroke-miterlimit=\"10\"/>\n",
       "<circle cx=\"20.2954\" cy=\"79.517\" r=\"2.8346\" fill=\"none\" stroke=\"rgba(255,0,0,0.9412)\" stroke-miterlimit=\"10\"/>\n",
       "<circle cx=\"191.7416\" cy=\"74.2222\" r=\"2.8346\" fill=\"none\" stroke=\"rgba(255,0,0,0.9412)\" stroke-miterlimit=\"10\"/>\n",
       "<circle cx=\"148.9697\" cy=\"140.434\" r=\"2.8346\" fill=\"none\" stroke=\"rgba(255,0,0,0.9412)\" stroke-miterlimit=\"10\"/>\n",
       "<circle cx=\"241.6403\" cy=\"87.761\" r=\"2.8346\" fill=\"none\" stroke=\"rgba(255,0,0,0.9412)\" stroke-miterlimit=\"10\"/>\n",
       "<circle cx=\"278.2629\" cy=\"215.8829\" r=\"2.8346\" fill=\"none\" stroke=\"rgba(255,0,0,0.9412)\" stroke-miterlimit=\"10\"/>\n",
       "<circle cx=\"193.8458\" cy=\"35.3128\" r=\"2.8346\" fill=\"none\" stroke=\"rgba(255,0,0,0.9412)\" stroke-miterlimit=\"10\"/>\n",
       "<circle cx=\"57.4534\" cy=\"16.6809\" r=\"2.8346\" fill=\"none\" stroke=\"rgba(255,0,0,0.9412)\" stroke-miterlimit=\"10\"/>\n",
       "<circle cx=\"158.1561\" cy=\"263.0294\" r=\"2.8346\" fill=\"none\" stroke=\"rgba(255,0,0,0.9412)\" stroke-miterlimit=\"10\"/>\n",
       "<circle cx=\"212.1461\" cy=\"30.1468\" r=\"2.8346\" fill=\"none\" stroke=\"rgba(255,0,0,0.9412)\" stroke-miterlimit=\"10\"/>\n",
       "<circle cx=\"47.2413\" cy=\"77.9005\" r=\"2.8346\" fill=\"none\" stroke=\"rgba(255,0,0,0.9412)\" stroke-miterlimit=\"10\"/>\n",
       "<circle cx=\"24.8355\" cy=\"77.7346\" r=\"2.8346\" fill=\"none\" stroke=\"rgba(255,0,0,0.9412)\" stroke-miterlimit=\"10\"/>\n",
       "<circle cx=\"14.1837\" cy=\"15.9794\" r=\"2.8346\" fill=\"none\" stroke=\"rgba(255,0,0,0.9412)\" stroke-miterlimit=\"10\"/>\n",
       "<circle cx=\"29.2359\" cy=\"9.3064\" r=\"2.8346\" fill=\"none\" stroke=\"rgba(255,0,0,0.9412)\" stroke-miterlimit=\"10\"/>\n",
       "<circle cx=\"116.558\" cy=\"194.5078\" r=\"2.8346\" fill=\"none\" stroke=\"rgba(255,0,0,0.9412)\" stroke-miterlimit=\"10\"/>\n",
       "<circle cx=\"10.8591\" cy=\"52.7281\" r=\"2.8346\" fill=\"none\" stroke=\"rgba(255,0,0,0.9412)\" stroke-miterlimit=\"10\"/>\n",
       "<circle cx=\"179.8425\" cy=\"249.2926\" r=\"2.8346\" fill=\"none\" stroke=\"rgba(255,0,0,0.9412)\" stroke-miterlimit=\"10\"/>\n",
       "<circle cx=\"41.8262\" cy=\"5.878\" r=\"2.8346\" fill=\"none\" stroke=\"rgba(255,0,0,0.9412)\" stroke-miterlimit=\"10\"/>\n",
       "<circle cx=\"239.1703\" cy=\"128.0942\" r=\"2.8346\" fill=\"none\" stroke=\"rgba(255,0,0,0.9412)\" stroke-miterlimit=\"10\"/>\n",
       "<circle cx=\"4.6463\" cy=\"257.2977\" r=\"2.8346\" fill=\"none\" stroke=\"rgba(255,0,0,0.9412)\" stroke-miterlimit=\"10\"/>\n",
       "<circle cx=\"216.699\" cy=\"55.8327\" r=\"2.8346\" fill=\"none\" stroke=\"rgba(255,0,0,0.9412)\" stroke-miterlimit=\"10\"/>\n",
       "<circle cx=\"218.8627\" cy=\"282.2291\" r=\"2.8346\" fill=\"none\" stroke=\"rgba(255,0,0,0.9412)\" stroke-miterlimit=\"10\"/>\n",
       "<circle cx=\"205.0685\" cy=\"237.469\" r=\"2.8346\" fill=\"none\" stroke=\"rgba(255,0,0,0.9412)\" stroke-miterlimit=\"10\"/>\n",
       "<circle cx=\"179.8466\" cy=\"212.9246\" r=\"2.8346\" fill=\"none\" stroke=\"rgba(255,0,0,0.9412)\" stroke-miterlimit=\"10\"/>\n",
       "<circle cx=\"90.0633\" cy=\"118.411\" r=\"2.8346\" fill=\"none\" stroke=\"rgba(255,0,0,0.9412)\" stroke-miterlimit=\"10\"/>\n",
       "<circle cx=\"102.1504\" cy=\"136.8279\" r=\"2.8346\" fill=\"none\" stroke=\"rgba(255,0,0,0.9412)\" stroke-miterlimit=\"10\"/>\n",
       "<circle cx=\"255.9048\" cy=\"282.2493\" r=\"2.8346\" fill=\"none\" stroke=\"rgba(255,0,0,0.9412)\" stroke-miterlimit=\"10\"/>\n",
       "<circle cx=\"26.4263\" cy=\"100.8413\" r=\"2.8346\" fill=\"none\" stroke=\"rgba(255,0,0,0.9412)\" stroke-miterlimit=\"10\"/>\n",
       "<circle cx=\"185.8773\" cy=\"4.968\" r=\"2.8346\" fill=\"none\" stroke=\"rgba(255,0,0,0.9412)\" stroke-miterlimit=\"10\"/>\n",
       "<circle cx=\"168.6305\" cy=\"77.4909\" r=\"2.8346\" fill=\"none\" stroke=\"rgba(255,0,0,0.9412)\" stroke-miterlimit=\"10\"/>\n",
       "<circle cx=\"4.3129\" cy=\"31.8915\" r=\"2.8346\" fill=\"none\" stroke=\"rgba(255,0,0,0.9412)\" stroke-miterlimit=\"10\"/>\n",
       "<circle cx=\"6.542\" cy=\"175.9611\" r=\"2.8346\" fill=\"none\" stroke=\"rgba(255,0,0,0.9412)\" stroke-miterlimit=\"10\"/>\n",
       "<circle cx=\"108.7062\" cy=\"54.9458\" r=\"2.8346\" fill=\"none\" stroke=\"rgba(255,0,0,0.9412)\" stroke-miterlimit=\"10\"/>\n",
       "<circle cx=\"149.904\" cy=\"105.5085\" r=\"2.8346\" fill=\"none\" stroke=\"rgba(255,0,0,0.9412)\" stroke-miterlimit=\"10\"/>\n",
       "<circle cx=\"257.5381\" cy=\"83.0715\" r=\"2.8346\" fill=\"none\" stroke=\"rgba(255,0,0,0.9412)\" stroke-miterlimit=\"10\"/>\n",
       "<circle cx=\"92.2078\" cy=\"152.8667\" r=\"2.8346\" fill=\"none\" stroke=\"rgba(255,0,0,0.9412)\" stroke-miterlimit=\"10\"/>\n",
       "<circle cx=\"275.3107\" cy=\"67.4137\" r=\"2.8346\" fill=\"none\" stroke=\"rgba(255,0,0,0.9412)\" stroke-miterlimit=\"10\"/>\n",
       "<circle cx=\"267.4303\" cy=\"188.6894\" r=\"2.8346\" fill=\"none\" stroke=\"rgba(255,0,0,0.9412)\" stroke-miterlimit=\"10\"/>\n",
       "<circle cx=\"155.5243\" cy=\"80.2874\" r=\"2.8346\" fill=\"none\" stroke=\"rgba(255,0,0,0.9412)\" stroke-miterlimit=\"10\"/>\n",
       "<circle cx=\"127.6518\" cy=\"33.6194\" r=\"2.8346\" fill=\"none\" stroke=\"rgba(255,0,0,0.9412)\" stroke-miterlimit=\"10\"/>\n",
       "<circle cx=\"174.9192\" cy=\"46.1372\" r=\"2.8346\" fill=\"none\" stroke=\"rgba(255,0,0,0.9412)\" stroke-miterlimit=\"10\"/>\n",
       "<circle cx=\"249.6123\" cy=\"95.8862\" r=\"2.8346\" fill=\"none\" stroke=\"rgba(255,0,0,0.9412)\" stroke-miterlimit=\"10\"/>\n",
       "<circle cx=\"86.7127\" cy=\"273.2567\" r=\"2.8346\" fill=\"none\" stroke=\"rgba(255,0,0,0.9412)\" stroke-miterlimit=\"10\"/>\n",
       "<circle cx=\"250.111\" cy=\"213.6365\" r=\"2.8346\" fill=\"none\" stroke=\"rgba(255,0,0,0.9412)\" stroke-miterlimit=\"10\"/>\n",
       "<circle cx=\"261.6041\" cy=\"154.2909\" r=\"2.8346\" fill=\"none\" stroke=\"rgba(255,0,0,0.9412)\" stroke-miterlimit=\"10\"/>\n",
       "<circle cx=\"189.4259\" cy=\"265.6557\" r=\"2.8346\" fill=\"none\" stroke=\"rgba(255,0,0,0.9412)\" stroke-miterlimit=\"10\"/>\n",
       "<circle cx=\"170.1293\" cy=\"78.828\" r=\"2.8346\" fill=\"none\" stroke=\"rgba(255,0,0,0.9412)\" stroke-miterlimit=\"10\"/>\n",
       "<circle cx=\"190.5784\" cy=\"64.6254\" r=\"2.8346\" fill=\"none\" stroke=\"rgba(255,0,0,0.9412)\" stroke-miterlimit=\"10\"/>\n",
       "<circle cx=\"126.0017\" cy=\"128.6307\" r=\"2.8346\" fill=\"none\" stroke=\"rgba(255,0,0,0.9412)\" stroke-miterlimit=\"10\"/>\n",
       "<circle cx=\"98.1891\" cy=\"86.9678\" r=\"2.8346\" fill=\"none\" stroke=\"rgba(255,0,0,0.9412)\" stroke-miterlimit=\"10\"/>\n",
       "<circle cx=\"50.4258\" cy=\"35.1679\" r=\"2.8346\" fill=\"none\" stroke=\"rgba(255,0,0,0.9412)\" stroke-miterlimit=\"10\"/>\n",
       "<circle cx=\"11.0491\" cy=\"172.1418\" r=\"2.8346\" fill=\"none\" stroke=\"rgba(255,0,0,0.9412)\" stroke-miterlimit=\"10\"/>\n",
       "<circle cx=\"169.71\" cy=\"230.3378\" r=\"2.8346\" fill=\"none\" stroke=\"rgba(255,0,0,0.9412)\" stroke-miterlimit=\"10\"/>\n",
       "<circle cx=\"244.1846\" cy=\"180.3724\" r=\"2.8346\" fill=\"none\" stroke=\"rgba(255,0,0,0.9412)\" stroke-miterlimit=\"10\"/>\n",
       "<circle cx=\"27.3693\" cy=\"257.5611\" r=\"2.8346\" fill=\"none\" stroke=\"rgba(255,0,0,0.9412)\" stroke-miterlimit=\"10\"/>\n",
       "<circle cx=\"237.3167\" cy=\"114.9072\" r=\"2.8346\" fill=\"none\" stroke=\"rgba(255,0,0,0.9412)\" stroke-miterlimit=\"10\"/>\n",
       "<circle cx=\"183.6218\" cy=\"208.0949\" r=\"2.8346\" fill=\"none\" stroke=\"rgba(255,0,0,0.9412)\" stroke-miterlimit=\"10\"/>\n",
       "<circle cx=\"264.329\" cy=\"58.5085\" r=\"2.8346\" fill=\"none\" stroke=\"rgba(255,0,0,0.9412)\" stroke-miterlimit=\"10\"/>\n",
       "<circle cx=\"45.0652\" cy=\"182.2936\" r=\"2.8346\" fill=\"none\" stroke=\"rgba(255,0,0,0.9412)\" stroke-miterlimit=\"10\"/>\n",
       "<circle cx=\"273.0007\" cy=\"167.2649\" r=\"2.8346\" fill=\"none\" stroke=\"rgba(255,0,0,0.9412)\" stroke-miterlimit=\"10\"/>\n",
       "<circle cx=\"92.5778\" cy=\"194.6784\" r=\"2.8346\" fill=\"none\" stroke=\"rgba(255,0,0,0.9412)\" stroke-miterlimit=\"10\"/>\n",
       "<circle cx=\"170.609\" cy=\"46.3463\" r=\"2.8346\" fill=\"none\" stroke=\"rgba(255,0,0,0.9412)\" stroke-miterlimit=\"10\"/>\n",
       "<circle cx=\"149.8774\" cy=\"90.1892\" r=\"2.8346\" fill=\"none\" stroke=\"rgba(255,0,0,0.9412)\" stroke-miterlimit=\"10\"/>\n",
       "<circle cx=\"10.6154\" cy=\"110.2364\" r=\"2.8346\" fill=\"none\" stroke=\"rgba(255,0,0,0.9412)\" stroke-miterlimit=\"10\"/>\n",
       "<circle cx=\"43.669\" cy=\"9.6644\" r=\"2.8346\" fill=\"none\" stroke=\"rgba(255,0,0,0.9412)\" stroke-miterlimit=\"10\"/>\n",
       "<circle cx=\"259.1407\" cy=\"269.9437\" r=\"2.8346\" fill=\"none\" stroke=\"rgba(255,0,0,0.9412)\" stroke-miterlimit=\"10\"/>\n",
       "<circle cx=\"273.4586\" cy=\"194.9292\" r=\"2.8346\" fill=\"none\" stroke=\"rgba(255,0,0,0.9412)\" stroke-miterlimit=\"10\"/>\n",
       "<circle cx=\"113.5212\" cy=\"16.5982\" r=\"2.8346\" fill=\"none\" stroke=\"rgba(255,0,0,0.9412)\" stroke-miterlimit=\"10\"/>\n",
       "<circle cx=\"146.9364\" cy=\"176.6113\" r=\"2.8346\" fill=\"none\" stroke=\"rgba(255,0,0,0.9412)\" stroke-miterlimit=\"10\"/>\n",
       "<circle cx=\"43.5679\" cy=\"218.117\" r=\"2.8346\" fill=\"none\" stroke=\"rgba(255,0,0,0.9412)\" stroke-miterlimit=\"10\"/>\n",
       "<circle cx=\"6.3636\" cy=\"213.0497\" r=\"2.8346\" fill=\"none\" stroke=\"rgba(255,0,0,0.9412)\" stroke-miterlimit=\"10\"/>\n",
       "<circle cx=\"186.785\" cy=\"185.7915\" r=\"2.8346\" fill=\"none\" stroke=\"rgba(255,0,0,0.9412)\" stroke-miterlimit=\"10\"/>\n",
       "<circle cx=\"218.3958\" cy=\"163.3799\" r=\"2.8346\" fill=\"none\" stroke=\"rgba(255,0,0,0.9412)\" stroke-miterlimit=\"10\"/>\n",
       "<circle cx=\"4.4672\" cy=\"211.9534\" r=\"2.8346\" fill=\"none\" stroke=\"rgba(255,0,0,0.9412)\" stroke-miterlimit=\"10\"/>\n",
       "<circle cx=\"115.4061\" cy=\"207.5031\" r=\"2.8346\" fill=\"none\" stroke=\"rgba(255,0,0,0.9412)\" stroke-miterlimit=\"10\"/>\n",
       "<circle cx=\"7.0773\" cy=\"34.0983\" r=\"2.8346\" fill=\"none\" stroke=\"rgba(255,0,0,0.9412)\" stroke-miterlimit=\"10\"/>\n",
       "<circle cx=\"194.9063\" cy=\"263.4383\" r=\"2.8346\" fill=\"none\" stroke=\"rgba(255,0,0,0.9412)\" stroke-miterlimit=\"10\"/>\n",
       "<circle cx=\"178.5942\" cy=\"239.3218\" r=\"2.8346\" fill=\"none\" stroke=\"rgba(255,0,0,0.9412)\" stroke-miterlimit=\"10\"/>\n",
       "<circle cx=\"270.5376\" cy=\"159.6762\" r=\"2.8346\" fill=\"none\" stroke=\"rgba(255,0,0,0.9412)\" stroke-miterlimit=\"10\"/>\n",
       "<circle cx=\"256.9204\" cy=\"250.0279\" r=\"2.8346\" fill=\"none\" stroke=\"rgba(255,0,0,0.9412)\" stroke-miterlimit=\"10\"/>\n",
       "<circle cx=\"218.8895\" cy=\"251.3768\" r=\"2.8346\" fill=\"none\" stroke=\"rgba(255,0,0,0.9412)\" stroke-miterlimit=\"10\"/>\n",
       "<circle cx=\"257.0335\" cy=\"230.8761\" r=\"2.8346\" fill=\"none\" stroke=\"rgba(255,0,0,0.9412)\" stroke-miterlimit=\"10\"/>\n",
       "<circle cx=\"271.357\" cy=\"223.6784\" r=\"2.8346\" fill=\"none\" stroke=\"rgba(255,0,0,0.9412)\" stroke-miterlimit=\"10\"/>\n",
       "<circle cx=\"51.4805\" cy=\"52.3108\" r=\"2.8346\" fill=\"none\" stroke=\"rgba(255,0,0,0.9412)\" stroke-miterlimit=\"10\"/>\n",
       "<circle cx=\"122.9507\" cy=\"182.6321\" r=\"2.8346\" fill=\"none\" stroke=\"rgba(255,0,0,0.9412)\" stroke-miterlimit=\"10\"/>\n",
       "<circle cx=\"271.7974\" cy=\"48.9856\" r=\"2.8346\" fill=\"none\" stroke=\"rgba(255,0,0,0.9412)\" stroke-miterlimit=\"10\"/>\n",
       "<circle cx=\"160.9379\" cy=\"181.3891\" r=\"2.8346\" fill=\"none\" stroke=\"rgba(255,0,0,0.9412)\" stroke-miterlimit=\"10\"/>\n",
       "<circle cx=\"243.7675\" cy=\"270.2312\" r=\"2.8346\" fill=\"none\" stroke=\"rgba(255,0,0,0.9412)\" stroke-miterlimit=\"10\"/>\n",
       "<circle cx=\"170.7962\" cy=\"150.6735\" r=\"2.8346\" fill=\"none\" stroke=\"rgba(255,0,0,0.9412)\" stroke-miterlimit=\"10\"/>\n",
       "<circle cx=\"172.032\" cy=\"234.3085\" r=\"2.8346\" fill=\"none\" stroke=\"rgba(255,0,0,0.9412)\" stroke-miterlimit=\"10\"/>\n",
       "<circle cx=\"38.6818\" cy=\"120.1484\" r=\"2.8346\" fill=\"none\" stroke=\"rgba(255,0,0,0.9412)\" stroke-miterlimit=\"10\"/>\n",
       "<circle cx=\"53.6247\" cy=\"116.6859\" r=\"2.8346\" fill=\"none\" stroke=\"rgba(255,0,0,0.9412)\" stroke-miterlimit=\"10\"/>\n",
       "<circle cx=\"219.2753\" cy=\"146.0099\" r=\"2.8346\" fill=\"none\" stroke=\"rgba(255,0,0,0.9412)\" stroke-miterlimit=\"10\"/>\n",
       "<circle cx=\"31.6013\" cy=\"15.8456\" r=\"2.8346\" fill=\"none\" stroke=\"rgba(255,0,0,0.9412)\" stroke-miterlimit=\"10\"/>\n",
       "<circle cx=\"69.4756\" cy=\"244.3294\" r=\"2.8346\" fill=\"none\" stroke=\"rgba(255,0,0,0.9412)\" stroke-miterlimit=\"10\"/>\n",
       "<circle cx=\"55.0889\" cy=\"174.6911\" r=\"2.8346\" fill=\"none\" stroke=\"rgba(255,0,0,0.9412)\" stroke-miterlimit=\"10\"/>\n",
       "<circle cx=\"156.5736\" cy=\"188.9586\" r=\"2.8346\" fill=\"none\" stroke=\"rgba(255,0,0,0.9412)\" stroke-miterlimit=\"10\"/>\n",
       "<circle cx=\"84.3735\" cy=\"178.4844\" r=\"2.8346\" fill=\"none\" stroke=\"rgba(255,0,0,0.9412)\" stroke-miterlimit=\"10\"/>\n",
       "<circle cx=\"203.6444\" cy=\"269.2212\" r=\"2.8346\" fill=\"none\" stroke=\"rgba(255,0,0,0.9412)\" stroke-miterlimit=\"10\"/>\n",
       "<circle cx=\"70.0888\" cy=\"230.0719\" r=\"2.8346\" fill=\"none\" stroke=\"rgba(255,0,0,0.9412)\" stroke-miterlimit=\"10\"/>\n",
       "<circle cx=\"216.469\" cy=\"155.3484\" r=\"2.8346\" fill=\"none\" stroke=\"rgba(255,0,0,0.9412)\" stroke-miterlimit=\"10\"/>\n",
       "<circle cx=\"112.4298\" cy=\"55.6587\" r=\"2.8346\" fill=\"none\" stroke=\"rgba(255,0,0,0.9412)\" stroke-miterlimit=\"10\"/>\n",
       "<circle cx=\"165.8291\" cy=\"184.246\" r=\"2.8346\" fill=\"none\" stroke=\"rgba(255,0,0,0.9412)\" stroke-miterlimit=\"10\"/>\n",
       "<circle cx=\"245.9753\" cy=\"231.931\" r=\"2.8346\" fill=\"none\" stroke=\"rgba(255,0,0,0.9412)\" stroke-miterlimit=\"10\"/>\n",
       "<circle cx=\"268.7106\" cy=\"92.2484\" r=\"2.8346\" fill=\"none\" stroke=\"rgba(255,0,0,0.9412)\" stroke-miterlimit=\"10\"/>\n",
       "<circle cx=\"109.1715\" cy=\"119.8175\" r=\"4.252\" fill=\"none\" stroke=\"rgba(64,220,64,0.9412)\" stroke-width=\"1.5\" stroke-miterlimit=\"10\"/>\n",
       "<circle cx=\"111.5001\" cy=\"127.2897\" r=\"4.252\" fill=\"none\" stroke=\"rgba(64,220,64,0.9412)\" stroke-width=\"1.5\" stroke-miterlimit=\"10\"/>\n",
       "<circle cx=\"232.9147\" cy=\"166.4895\" r=\"4.252\" fill=\"none\" stroke=\"rgba(64,220,64,0.9412)\" stroke-width=\"1.5\" stroke-miterlimit=\"10\"/>\n",
       "<circle cx=\"193.3835\" cy=\"106.721\" r=\"4.252\" fill=\"none\" stroke=\"rgba(64,220,64,0.9412)\" stroke-width=\"1.5\" stroke-miterlimit=\"10\"/>\n",
       "<circle cx=\"130.3494\" cy=\"108.4968\" r=\"4.252\" fill=\"none\" stroke=\"rgba(64,220,64,0.9412)\" stroke-width=\"1.5\" stroke-miterlimit=\"10\"/>\n",
       "<circle cx=\"147.8022\" cy=\"95.3231\" r=\"4.252\" fill=\"none\" stroke=\"rgba(64,220,64,0.9412)\" stroke-width=\"1.5\" stroke-miterlimit=\"10\"/>\n",
       "<circle cx=\"188.4533\" cy=\"214.3343\" r=\"4.252\" fill=\"none\" stroke=\"rgba(64,220,64,0.9412)\" stroke-width=\"1.5\" stroke-miterlimit=\"10\"/>\n",
       "<circle cx=\"214.5992\" cy=\"243.7227\" r=\"4.252\" fill=\"none\" stroke=\"rgba(64,220,64,0.9412)\" stroke-width=\"1.5\" stroke-miterlimit=\"10\"/>\n",
       "<circle cx=\"72.8797\" cy=\"122.8615\" r=\"4.252\" fill=\"none\" stroke=\"rgba(64,220,64,0.9412)\" stroke-width=\"1.5\" stroke-miterlimit=\"10\"/>\n",
       "<circle cx=\"161.4777\" cy=\"244.4394\" r=\"4.252\" fill=\"none\" stroke=\"rgba(64,220,64,0.9412)\" stroke-width=\"1.5\" stroke-miterlimit=\"10\"/>\n",
       "<circle cx=\"158.8946\" cy=\"161.967\" r=\"4.252\" fill=\"none\" stroke=\"rgba(64,220,64,0.9412)\" stroke-width=\"1.5\" stroke-miterlimit=\"10\"/>\n",
       "<circle cx=\"211.1619\" cy=\"187.8754\" r=\"4.252\" fill=\"none\" stroke=\"rgba(64,220,64,0.9412)\" stroke-width=\"1.5\" stroke-miterlimit=\"10\"/>\n",
       "<circle cx=\"231.1072\" cy=\"227.5322\" r=\"4.252\" fill=\"none\" stroke=\"rgba(64,220,64,0.9412)\" stroke-width=\"1.5\" stroke-miterlimit=\"10\"/>\n",
       "<circle cx=\"66.883\" cy=\"182.4517\" r=\"4.252\" fill=\"none\" stroke=\"rgba(64,220,64,0.9412)\" stroke-width=\"1.5\" stroke-miterlimit=\"10\"/>\n",
       "<circle cx=\"161.5785\" cy=\"150.7052\" r=\"4.252\" fill=\"none\" stroke=\"rgba(64,220,64,0.9412)\" stroke-width=\"1.5\" stroke-miterlimit=\"10\"/>\n",
       "<circle cx=\"187.2306\" cy=\"194.4717\" r=\"4.252\" fill=\"none\" stroke=\"rgba(64,220,64,0.9412)\" stroke-width=\"1.5\" stroke-miterlimit=\"10\"/>\n",
       "<circle cx=\"75.9418\" cy=\"194.1024\" r=\"4.252\" fill=\"none\" stroke=\"rgba(64,220,64,0.9412)\" stroke-width=\"1.5\" stroke-miterlimit=\"10\"/>\n",
       "<circle cx=\"113.2133\" cy=\"145.6847\" r=\"4.252\" fill=\"none\" stroke=\"rgba(64,220,64,0.9412)\" stroke-width=\"1.5\" stroke-miterlimit=\"10\"/>\n",
       "<circle cx=\"101.5208\" cy=\"108.0186\" r=\"4.252\" fill=\"none\" stroke=\"rgba(64,220,64,0.9412)\" stroke-width=\"1.5\" stroke-miterlimit=\"10\"/>\n",
       "<circle cx=\"127.3125\" cy=\"65.8728\" r=\"4.252\" fill=\"none\" stroke=\"rgba(64,220,64,0.9412)\" stroke-width=\"1.5\" stroke-miterlimit=\"10\"/>\n",
       "<circle cx=\"99.6076\" cy=\"116.9747\" r=\"4.252\" fill=\"none\" stroke=\"rgba(64,220,64,0.9412)\" stroke-width=\"1.5\" stroke-miterlimit=\"10\"/>\n",
       "<circle cx=\"137.3093\" cy=\"125.3977\" r=\"4.252\" fill=\"none\" stroke=\"rgba(64,220,64,0.9412)\" stroke-width=\"1.5\" stroke-miterlimit=\"10\"/>\n",
       "<circle cx=\"215.6213\" cy=\"152.6206\" r=\"4.252\" fill=\"none\" stroke=\"rgba(64,220,64,0.9412)\" stroke-width=\"1.5\" stroke-miterlimit=\"10\"/>\n",
       "<circle cx=\"142.2062\" cy=\"223.6938\" r=\"4.252\" fill=\"none\" stroke=\"rgba(64,220,64,0.9412)\" stroke-width=\"1.5\" stroke-miterlimit=\"10\"/>\n",
       "<circle cx=\"197.7185\" cy=\"147.7016\" r=\"4.252\" fill=\"none\" stroke=\"rgba(64,220,64,0.9412)\" stroke-width=\"1.5\" stroke-miterlimit=\"10\"/>\n",
       "<circle cx=\"197.8354\" cy=\"235.5375\" r=\"4.252\" fill=\"none\" stroke=\"rgba(64,220,64,0.9412)\" stroke-width=\"1.5\" stroke-miterlimit=\"10\"/>\n",
       "<circle cx=\"139.5606\" cy=\"142.2495\" r=\"4.252\" fill=\"none\" stroke=\"rgba(64,220,64,0.9412)\" stroke-width=\"1.5\" stroke-miterlimit=\"10\"/>\n",
       "<circle cx=\"163.1048\" cy=\"43.8634\" r=\"4.252\" fill=\"none\" stroke=\"rgba(64,220,64,0.9412)\" stroke-width=\"1.5\" stroke-miterlimit=\"10\"/>\n",
       "<circle cx=\"149.2299\" cy=\"154.5652\" r=\"4.252\" fill=\"none\" stroke=\"rgba(64,220,64,0.9412)\" stroke-width=\"1.5\" stroke-miterlimit=\"10\"/>\n",
       "<circle cx=\"139.1923\" cy=\"201.3948\" r=\"4.252\" fill=\"none\" stroke=\"rgba(64,220,64,0.9412)\" stroke-width=\"1.5\" stroke-miterlimit=\"10\"/>\n",
       "<circle cx=\"160.4405\" cy=\"122.0451\" r=\"4.252\" fill=\"none\" stroke=\"rgba(64,220,64,0.9412)\" stroke-width=\"1.5\" stroke-miterlimit=\"10\"/>\n",
       "<circle cx=\"142.1214\" cy=\"91.8432\" r=\"4.252\" fill=\"none\" stroke=\"rgba(64,220,64,0.9412)\" stroke-width=\"1.5\" stroke-miterlimit=\"10\"/>\n",
       "<circle cx=\"249.6618\" cy=\"-1.4276\" r=\"4.252\" fill=\"none\" stroke=\"rgba(64,220,64,0.9412)\" stroke-width=\"1.5\" stroke-miterlimit=\"10\"/>\n",
       "<circle cx=\"171.3\" cy=\"113.4641\" r=\"4.252\" fill=\"none\" stroke=\"rgba(64,220,64,0.9412)\" stroke-width=\"1.5\" stroke-miterlimit=\"10\"/>\n",
       "<circle cx=\"79.9388\" cy=\"157.3069\" r=\"4.252\" fill=\"none\" stroke=\"rgba(64,220,64,0.9412)\" stroke-width=\"1.5\" stroke-miterlimit=\"10\"/>\n",
       "<circle cx=\"216.7457\" cy=\"173.4512\" r=\"4.252\" fill=\"none\" stroke=\"rgba(64,220,64,0.9412)\" stroke-width=\"1.5\" stroke-miterlimit=\"10\"/>\n",
       "<circle cx=\"149.4881\" cy=\"203.2298\" r=\"4.252\" fill=\"none\" stroke=\"rgba(64,220,64,0.9412)\" stroke-width=\"1.5\" stroke-miterlimit=\"10\"/>\n",
       "<circle cx=\"102.1005\" cy=\"177.1798\" r=\"4.252\" fill=\"none\" stroke=\"rgba(64,220,64,0.9412)\" stroke-width=\"1.5\" stroke-miterlimit=\"10\"/>\n",
       "<circle cx=\"90.7856\" cy=\"315.8073\" r=\"4.252\" fill=\"none\" stroke=\"rgba(64,220,64,0.9412)\" stroke-width=\"1.5\" stroke-miterlimit=\"10\"/>\n",
       "<circle cx=\"146.8255\" cy=\"182.6217\" r=\"4.252\" fill=\"none\" stroke=\"rgba(64,220,64,0.9412)\" stroke-width=\"1.5\" stroke-miterlimit=\"10\"/>\n",
       "<circle cx=\"178.5096\" cy=\"170.432\" r=\"4.252\" fill=\"none\" stroke=\"rgba(64,220,64,0.9412)\" stroke-width=\"1.5\" stroke-miterlimit=\"10\"/>\n",
       "<circle cx=\"69.0078\" cy=\"165.4664\" r=\"4.252\" fill=\"none\" stroke=\"rgba(64,220,64,0.9412)\" stroke-width=\"1.5\" stroke-miterlimit=\"10\"/>\n",
       "<circle cx=\"73.4307\" cy=\"134.9114\" r=\"4.252\" fill=\"none\" stroke=\"rgba(64,220,64,0.9412)\" stroke-width=\"1.5\" stroke-miterlimit=\"10\"/>\n",
       "<circle cx=\"123.1216\" cy=\"203.1693\" r=\"4.252\" fill=\"none\" stroke=\"rgba(64,220,64,0.9412)\" stroke-width=\"1.5\" stroke-miterlimit=\"10\"/>\n",
       "<circle cx=\"80.476\" cy=\"108.2569\" r=\"4.252\" fill=\"none\" stroke=\"rgba(64,220,64,0.9412)\" stroke-width=\"1.5\" stroke-miterlimit=\"10\"/>\n",
       "<circle cx=\"114.3364\" cy=\"187.6527\" r=\"4.252\" fill=\"none\" stroke=\"rgba(64,220,64,0.9412)\" stroke-width=\"1.5\" stroke-miterlimit=\"10\"/>\n",
       "<circle cx=\"156.8649\" cy=\"230.4009\" r=\"4.252\" fill=\"none\" stroke=\"rgba(64,220,64,0.9412)\" stroke-width=\"1.5\" stroke-miterlimit=\"10\"/>\n",
       "<circle cx=\"84.5207\" cy=\"107.0762\" r=\"4.252\" fill=\"none\" stroke=\"rgba(64,220,64,0.9412)\" stroke-width=\"1.5\" stroke-miterlimit=\"10\"/>\n",
       "<circle cx=\"100.1806\" cy=\"121.4258\" r=\"4.252\" fill=\"none\" stroke=\"rgba(64,220,64,0.9412)\" stroke-width=\"1.5\" stroke-miterlimit=\"10\"/>\n",
       "<circle cx=\"80.2847\" cy=\"97.7731\" r=\"4.252\" fill=\"none\" stroke=\"rgba(64,220,64,0.9412)\" stroke-width=\"1.5\" stroke-miterlimit=\"10\"/>\n",
       "<circle cx=\"203.5674\" cy=\"207.1216\" r=\"4.252\" fill=\"none\" stroke=\"rgba(64,220,64,0.9412)\" stroke-width=\"1.5\" stroke-miterlimit=\"10\"/>\n",
       "<circle cx=\"237.4336\" cy=\"150.0543\" r=\"4.252\" fill=\"none\" stroke=\"rgba(64,220,64,0.9412)\" stroke-width=\"1.5\" stroke-miterlimit=\"10\"/>\n",
       "<circle cx=\"135.3438\" cy=\"158.6678\" r=\"4.252\" fill=\"none\" stroke=\"rgba(64,220,64,0.9412)\" stroke-width=\"1.5\" stroke-miterlimit=\"10\"/>\n",
       "<circle cx=\"181.9017\" cy=\"123.527\" r=\"4.252\" fill=\"none\" stroke=\"rgba(64,220,64,0.9412)\" stroke-width=\"1.5\" stroke-miterlimit=\"10\"/>\n",
       "<circle cx=\"133.6194\" cy=\"173.0398\" r=\"4.252\" fill=\"none\" stroke=\"rgba(64,220,64,0.9412)\" stroke-width=\"1.5\" stroke-miterlimit=\"10\"/>\n",
       "<circle cx=\"120.6762\" cy=\"167.4343\" r=\"4.252\" fill=\"none\" stroke=\"rgba(64,220,64,0.9412)\" stroke-width=\"1.5\" stroke-miterlimit=\"10\"/>\n",
       "<circle cx=\"192.0509\" cy=\"48.5791\" r=\"4.252\" fill=\"none\" stroke=\"rgba(64,220,64,0.9412)\" stroke-width=\"1.5\" stroke-miterlimit=\"10\"/>\n",
       "<circle cx=\"149.7725\" cy=\"111.7941\" r=\"4.252\" fill=\"none\" stroke=\"rgba(64,220,64,0.9412)\" stroke-width=\"1.5\" stroke-miterlimit=\"10\"/>\n",
       "<circle cx=\"116.2282\" cy=\"142.1902\" r=\"4.252\" fill=\"none\" stroke=\"rgba(64,220,64,0.9412)\" stroke-width=\"1.5\" stroke-miterlimit=\"10\"/>\n",
       "<circle cx=\"161.6115\" cy=\"190.8074\" r=\"4.252\" fill=\"none\" stroke=\"rgba(64,220,64,0.9412)\" stroke-width=\"1.5\" stroke-miterlimit=\"10\"/>\n",
       "<circle cx=\"107.7592\" cy=\"195.3967\" r=\"4.252\" fill=\"none\" stroke=\"rgba(64,220,64,0.9412)\" stroke-width=\"1.5\" stroke-miterlimit=\"10\"/>\n",
       "<circle cx=\"113.3569\" cy=\"141.9806\" r=\"4.252\" fill=\"none\" stroke=\"rgba(64,220,64,0.9412)\" stroke-width=\"1.5\" stroke-miterlimit=\"10\"/>\n",
       "<circle cx=\"261.5\" cy=\"142.2429\" r=\"4.252\" fill=\"none\" stroke=\"rgba(64,220,64,0.9412)\" stroke-width=\"1.5\" stroke-miterlimit=\"10\"/>\n",
       "<circle cx=\"216.1435\" cy=\"114.9781\" r=\"4.252\" fill=\"none\" stroke=\"rgba(64,220,64,0.9412)\" stroke-width=\"1.5\" stroke-miterlimit=\"10\"/>\n",
       "<circle cx=\"204.9538\" cy=\"138.1514\" r=\"4.252\" fill=\"none\" stroke=\"rgba(64,220,64,0.9412)\" stroke-width=\"1.5\" stroke-miterlimit=\"10\"/>\n",
       "<circle cx=\"109.1213\" cy=\"73.0315\" r=\"4.252\" fill=\"none\" stroke=\"rgba(64,220,64,0.9412)\" stroke-width=\"1.5\" stroke-miterlimit=\"10\"/>\n",
       "<circle cx=\"186.7948\" cy=\"27.5477\" r=\"4.252\" fill=\"none\" stroke=\"rgba(64,220,64,0.9412)\" stroke-width=\"1.5\" stroke-miterlimit=\"10\"/>\n",
       "<circle cx=\"181.305\" cy=\"254.3323\" r=\"4.252\" fill=\"none\" stroke=\"rgba(64,220,64,0.9412)\" stroke-width=\"1.5\" stroke-miterlimit=\"10\"/>\n",
       "<circle cx=\"98.9053\" cy=\"167.4552\" r=\"4.252\" fill=\"none\" stroke=\"rgba(64,220,64,0.9412)\" stroke-width=\"1.5\" stroke-miterlimit=\"10\"/>\n",
       "<circle cx=\"184.743\" cy=\"39.9092\" r=\"4.252\" fill=\"none\" stroke=\"rgba(64,220,64,0.9412)\" stroke-width=\"1.5\" stroke-miterlimit=\"10\"/>\n",
       "<circle cx=\"232.5973\" cy=\"72.6552\" r=\"4.252\" fill=\"none\" stroke=\"rgba(64,220,64,0.9412)\" stroke-width=\"1.5\" stroke-miterlimit=\"10\"/>\n",
       "<circle cx=\"155.4537\" cy=\"172.0585\" r=\"4.252\" fill=\"none\" stroke=\"rgba(64,220,64,0.9412)\" stroke-width=\"1.5\" stroke-miterlimit=\"10\"/>\n",
       "<circle cx=\"16.2024\" cy=\"100.7437\" r=\"4.252\" fill=\"none\" stroke=\"rgba(64,220,64,0.9412)\" stroke-width=\"1.5\" stroke-miterlimit=\"10\"/>\n",
       "<circle cx=\"161.5211\" cy=\"188.2804\" r=\"4.252\" fill=\"none\" stroke=\"rgba(64,220,64,0.9412)\" stroke-width=\"1.5\" stroke-miterlimit=\"10\"/>\n",
       "<circle cx=\"115.2438\" cy=\"170.115\" r=\"4.252\" fill=\"none\" stroke=\"rgba(64,220,64,0.9412)\" stroke-width=\"1.5\" stroke-miterlimit=\"10\"/>\n",
       "<circle cx=\"186.0842\" cy=\"22.7317\" r=\"4.252\" fill=\"none\" stroke=\"rgba(64,220,64,0.9412)\" stroke-width=\"1.5\" stroke-miterlimit=\"10\"/>\n",
       "<circle cx=\"107.031\" cy=\"205.8264\" r=\"4.252\" fill=\"none\" stroke=\"rgba(64,220,64,0.9412)\" stroke-width=\"1.5\" stroke-miterlimit=\"10\"/>\n",
       "<circle cx=\"217.0427\" cy=\"238.5979\" r=\"4.252\" fill=\"none\" stroke=\"rgba(64,220,64,0.9412)\" stroke-width=\"1.5\" stroke-miterlimit=\"10\"/>\n",
       "<circle cx=\"219.1082\" cy=\"26.3195\" r=\"4.252\" fill=\"none\" stroke=\"rgba(64,220,64,0.9412)\" stroke-width=\"1.5\" stroke-miterlimit=\"10\"/>\n",
       "<circle cx=\"187.9909\" cy=\"175.6815\" r=\"4.252\" fill=\"none\" stroke=\"rgba(64,220,64,0.9412)\" stroke-width=\"1.5\" stroke-miterlimit=\"10\"/>\n",
       "<circle cx=\"128.408\" cy=\"135.7992\" r=\"4.252\" fill=\"none\" stroke=\"rgba(64,220,64,0.9412)\" stroke-width=\"1.5\" stroke-miterlimit=\"10\"/>\n",
       "<circle cx=\"151.8998\" cy=\"44.7868\" r=\"4.252\" fill=\"none\" stroke=\"rgba(64,220,64,0.9412)\" stroke-width=\"1.5\" stroke-miterlimit=\"10\"/>\n",
       "<circle cx=\"169.9809\" cy=\"223.0855\" r=\"4.252\" fill=\"none\" stroke=\"rgba(64,220,64,0.9412)\" stroke-width=\"1.5\" stroke-miterlimit=\"10\"/>\n",
       "<circle cx=\"131.8923\" cy=\"22.048\" r=\"4.252\" fill=\"none\" stroke=\"rgba(64,220,64,0.9412)\" stroke-width=\"1.5\" stroke-miterlimit=\"10\"/>\n",
       "<circle cx=\"234.6522\" cy=\"127.1457\" r=\"4.252\" fill=\"none\" stroke=\"rgba(64,220,64,0.9412)\" stroke-width=\"1.5\" stroke-miterlimit=\"10\"/>\n",
       "<circle cx=\"205.4298\" cy=\"119.2182\" r=\"4.252\" fill=\"none\" stroke=\"rgba(64,220,64,0.9412)\" stroke-width=\"1.5\" stroke-miterlimit=\"10\"/>\n",
       "<circle cx=\"151.3179\" cy=\"75.4736\" r=\"4.252\" fill=\"none\" stroke=\"rgba(64,220,64,0.9412)\" stroke-width=\"1.5\" stroke-miterlimit=\"10\"/>\n",
       "<circle cx=\"144.6077\" cy=\"83.3559\" r=\"4.252\" fill=\"none\" stroke=\"rgba(64,220,64,0.9412)\" stroke-width=\"1.5\" stroke-miterlimit=\"10\"/>\n",
       "<circle cx=\"156.164\" cy=\"144.1283\" r=\"4.252\" fill=\"none\" stroke=\"rgba(64,220,64,0.9412)\" stroke-width=\"1.5\" stroke-miterlimit=\"10\"/>\n",
       "<circle cx=\"263.6263\" cy=\"132.7238\" r=\"4.252\" fill=\"none\" stroke=\"rgba(64,220,64,0.9412)\" stroke-width=\"1.5\" stroke-miterlimit=\"10\"/>\n",
       "<circle cx=\"93.895\" cy=\"-11.7032\" r=\"4.252\" fill=\"none\" stroke=\"rgba(64,220,64,0.9412)\" stroke-width=\"1.5\" stroke-miterlimit=\"10\"/>\n",
       "<circle cx=\"96.764\" cy=\"63.5845\" r=\"4.252\" fill=\"none\" stroke=\"rgba(64,220,64,0.9412)\" stroke-width=\"1.5\" stroke-miterlimit=\"10\"/>\n",
       "<circle cx=\"183.937\" cy=\"111.9378\" r=\"4.252\" fill=\"none\" stroke=\"rgba(64,220,64,0.9412)\" stroke-width=\"1.5\" stroke-miterlimit=\"10\"/>\n",
       "<circle cx=\"148.5483\" cy=\"111.5342\" r=\"4.252\" fill=\"none\" stroke=\"rgba(64,220,64,0.9412)\" stroke-width=\"1.5\" stroke-miterlimit=\"10\"/>\n",
       "<circle cx=\"83.0721\" cy=\"162.0075\" r=\"4.252\" fill=\"none\" stroke=\"rgba(64,220,64,0.9412)\" stroke-width=\"1.5\" stroke-miterlimit=\"10\"/>\n",
       "<circle cx=\"153.5373\" cy=\"131.3659\" r=\"4.252\" fill=\"none\" stroke=\"rgba(64,220,64,0.9412)\" stroke-width=\"1.5\" stroke-miterlimit=\"10\"/>\n",
       "<circle cx=\"141.2829\" cy=\"172.4684\" r=\"4.252\" fill=\"none\" stroke=\"rgba(64,220,64,0.9412)\" stroke-width=\"1.5\" stroke-miterlimit=\"10\"/>\n",
       "<circle cx=\"214.0048\" cy=\"153.0897\" r=\"4.252\" fill=\"none\" stroke=\"rgba(64,220,64,0.9412)\" stroke-width=\"1.5\" stroke-miterlimit=\"10\"/>\n",
       "<circle cx=\"196.4793\" cy=\"194.9039\" r=\"4.252\" fill=\"none\" stroke=\"rgba(64,220,64,0.9412)\" stroke-width=\"1.5\" stroke-miterlimit=\"10\"/>\n",
       "<circle cx=\"149.8544\" cy=\"71.1864\" r=\"4.252\" fill=\"none\" stroke=\"rgba(64,220,64,0.9412)\" stroke-width=\"1.5\" stroke-miterlimit=\"10\"/>\n",
       "<circle cx=\"34.6256\" cy=\"104.4091\" r=\"4.252\" fill=\"none\" stroke=\"rgba(64,220,64,0.9412)\" stroke-width=\"1.5\" stroke-miterlimit=\"10\"/>\n",
       "<circle cx=\"214.8455\" cy=\"191.7926\" r=\"4.252\" fill=\"none\" stroke=\"rgba(64,220,64,0.9412)\" stroke-width=\"1.5\" stroke-miterlimit=\"10\"/>\n",
       "<circle cx=\"242.6083\" cy=\"152.7795\" r=\"4.252\" fill=\"none\" stroke=\"rgba(64,220,64,0.9412)\" stroke-width=\"1.5\" stroke-miterlimit=\"10\"/>\n",
       "<circle cx=\"125.0132\" cy=\"133.2282\" r=\"4.252\" fill=\"none\" stroke=\"rgba(64,220,64,0.9412)\" stroke-width=\"1.5\" stroke-miterlimit=\"10\"/>\n",
       "<circle cx=\"158.8558\" cy=\"155.1844\" r=\"4.252\" fill=\"none\" stroke=\"rgba(64,220,64,0.9412)\" stroke-width=\"1.5\" stroke-miterlimit=\"10\"/>\n",
       "<circle cx=\"20.2456\" cy=\"137.2735\" r=\"4.252\" fill=\"none\" stroke=\"rgba(64,220,64,0.9412)\" stroke-width=\"1.5\" stroke-miterlimit=\"10\"/>\n",
       "<circle cx=\"79.2937\" cy=\"224.6545\" r=\"4.252\" fill=\"none\" stroke=\"rgba(64,220,64,0.9412)\" stroke-width=\"1.5\" stroke-miterlimit=\"10\"/>\n",
       "<circle cx=\"227.3607\" cy=\"139.6524\" r=\"4.252\" fill=\"none\" stroke=\"rgba(64,220,64,0.9412)\" stroke-width=\"1.5\" stroke-miterlimit=\"10\"/>\n",
       "<circle cx=\"96.0137\" cy=\"121.1838\" r=\"4.252\" fill=\"none\" stroke=\"rgba(64,220,64,0.9412)\" stroke-width=\"1.5\" stroke-miterlimit=\"10\"/>\n",
       "<circle cx=\"85.9609\" cy=\"154.6847\" r=\"4.252\" fill=\"none\" stroke=\"rgba(64,220,64,0.9412)\" stroke-width=\"1.5\" stroke-miterlimit=\"10\"/>\n",
       "<circle cx=\"184.0727\" cy=\"80.4563\" r=\"4.252\" fill=\"none\" stroke=\"rgba(64,220,64,0.9412)\" stroke-width=\"1.5\" stroke-miterlimit=\"10\"/>\n",
       "<circle cx=\"161.7604\" cy=\"225.2761\" r=\"4.252\" fill=\"none\" stroke=\"rgba(64,220,64,0.9412)\" stroke-width=\"1.5\" stroke-miterlimit=\"10\"/>\n",
       "<circle cx=\"38.6646\" cy=\"143.2435\" r=\"4.252\" fill=\"none\" stroke=\"rgba(64,220,64,0.9412)\" stroke-width=\"1.5\" stroke-miterlimit=\"10\"/>\n",
       "<circle cx=\"280.2054\" cy=\"194.2656\" r=\"4.252\" fill=\"none\" stroke=\"rgba(64,220,64,0.9412)\" stroke-width=\"1.5\" stroke-miterlimit=\"10\"/>\n",
       "<circle cx=\"89.2861\" cy=\"50.5559\" r=\"4.252\" fill=\"none\" stroke=\"rgba(64,220,64,0.9412)\" stroke-width=\"1.5\" stroke-miterlimit=\"10\"/>\n",
       "<circle cx=\"111.3752\" cy=\"211.5277\" r=\"4.252\" fill=\"none\" stroke=\"rgba(64,220,64,0.9412)\" stroke-width=\"1.5\" stroke-miterlimit=\"10\"/>\n",
       "<circle cx=\"177.4068\" cy=\"132.1776\" r=\"4.252\" fill=\"none\" stroke=\"rgba(64,220,64,0.9412)\" stroke-width=\"1.5\" stroke-miterlimit=\"10\"/>\n",
       "<circle cx=\"146.8748\" cy=\"84.9205\" r=\"4.252\" fill=\"none\" stroke=\"rgba(64,220,64,0.9412)\" stroke-width=\"1.5\" stroke-miterlimit=\"10\"/>\n",
       "<circle cx=\"117.5693\" cy=\"212.2956\" r=\"4.252\" fill=\"none\" stroke=\"rgba(64,220,64,0.9412)\" stroke-width=\"1.5\" stroke-miterlimit=\"10\"/>\n",
       "<circle cx=\"147.0001\" cy=\"100.5794\" r=\"4.252\" fill=\"none\" stroke=\"rgba(64,220,64,0.9412)\" stroke-width=\"1.5\" stroke-miterlimit=\"10\"/>\n",
       "<circle cx=\"43.6632\" cy=\"137.3373\" r=\"4.252\" fill=\"none\" stroke=\"rgba(64,220,64,0.9412)\" stroke-width=\"1.5\" stroke-miterlimit=\"10\"/>\n",
       "<circle cx=\"63.1045\" cy=\"118.392\" r=\"4.252\" fill=\"none\" stroke=\"rgba(64,220,64,0.9412)\" stroke-width=\"1.5\" stroke-miterlimit=\"10\"/>\n",
       "<circle cx=\"80.1536\" cy=\"242.0588\" r=\"4.252\" fill=\"none\" stroke=\"rgba(64,220,64,0.9412)\" stroke-width=\"1.5\" stroke-miterlimit=\"10\"/>\n",
       "<circle cx=\"185.9817\" cy=\"162.1237\" r=\"4.252\" fill=\"none\" stroke=\"rgba(64,220,64,0.9412)\" stroke-width=\"1.5\" stroke-miterlimit=\"10\"/>\n",
       "<circle cx=\"173.3979\" cy=\"150.6449\" r=\"4.252\" fill=\"none\" stroke=\"rgba(64,220,64,0.9412)\" stroke-width=\"1.5\" stroke-miterlimit=\"10\"/>\n",
       "<circle cx=\"63.1652\" cy=\"140.6342\" r=\"4.252\" fill=\"none\" stroke=\"rgba(64,220,64,0.9412)\" stroke-width=\"1.5\" stroke-miterlimit=\"10\"/>\n",
       "<circle cx=\"259.8524\" cy=\"182.018\" r=\"4.252\" fill=\"none\" stroke=\"rgba(64,220,64,0.9412)\" stroke-width=\"1.5\" stroke-miterlimit=\"10\"/>\n",
       "<circle cx=\"303.0703\" cy=\"172.563\" r=\"4.252\" fill=\"none\" stroke=\"rgba(64,220,64,0.9412)\" stroke-width=\"1.5\" stroke-miterlimit=\"10\"/>\n",
       "<circle cx=\"111.5681\" cy=\"151.9801\" r=\"4.252\" fill=\"none\" stroke=\"rgba(64,220,64,0.9412)\" stroke-width=\"1.5\" stroke-miterlimit=\"10\"/>\n",
       "<circle cx=\"150.6233\" cy=\"192.9058\" r=\"4.252\" fill=\"none\" stroke=\"rgba(64,220,64,0.9412)\" stroke-width=\"1.5\" stroke-miterlimit=\"10\"/>\n",
       "<circle cx=\"131.4403\" cy=\"183.9415\" r=\"4.252\" fill=\"none\" stroke=\"rgba(64,220,64,0.9412)\" stroke-width=\"1.5\" stroke-miterlimit=\"10\"/>\n",
       "<circle cx=\"101.8479\" cy=\"97.0262\" r=\"4.252\" fill=\"none\" stroke=\"rgba(64,220,64,0.9412)\" stroke-width=\"1.5\" stroke-miterlimit=\"10\"/>\n",
       "<circle cx=\"198.8426\" cy=\"192.7298\" r=\"4.252\" fill=\"none\" stroke=\"rgba(64,220,64,0.9412)\" stroke-width=\"1.5\" stroke-miterlimit=\"10\"/>\n",
       "<circle cx=\"176.729\" cy=\"83.0221\" r=\"4.252\" fill=\"none\" stroke=\"rgba(64,220,64,0.9412)\" stroke-width=\"1.5\" stroke-miterlimit=\"10\"/>\n",
       "<circle cx=\"163.179\" cy=\"150.8314\" r=\"4.252\" fill=\"none\" stroke=\"rgba(64,220,64,0.9412)\" stroke-width=\"1.5\" stroke-miterlimit=\"10\"/>\n",
       "<circle cx=\"111.4013\" cy=\"242.437\" r=\"4.252\" fill=\"none\" stroke=\"rgba(64,220,64,0.9412)\" stroke-width=\"1.5\" stroke-miterlimit=\"10\"/>\n",
       "<circle cx=\"184.7881\" cy=\"330.6982\" r=\"4.252\" fill=\"none\" stroke=\"rgba(64,220,64,0.9412)\" stroke-width=\"1.5\" stroke-miterlimit=\"10\"/>\n",
       "<circle cx=\"171.6225\" cy=\"142.5938\" r=\"4.252\" fill=\"none\" stroke=\"rgba(64,220,64,0.9412)\" stroke-width=\"1.5\" stroke-miterlimit=\"10\"/>\n",
       "<circle cx=\"97.7327\" cy=\"208.0024\" r=\"4.252\" fill=\"none\" stroke=\"rgba(64,220,64,0.9412)\" stroke-width=\"1.5\" stroke-miterlimit=\"10\"/>\n",
       "<circle cx=\"194.5305\" cy=\"171.2691\" r=\"4.252\" fill=\"none\" stroke=\"rgba(64,220,64,0.9412)\" stroke-width=\"1.5\" stroke-miterlimit=\"10\"/>\n",
       "<circle cx=\"209.7117\" cy=\"250.7557\" r=\"4.252\" fill=\"none\" stroke=\"rgba(64,220,64,0.9412)\" stroke-width=\"1.5\" stroke-miterlimit=\"10\"/>\n",
       "<circle cx=\"150.1863\" cy=\"179.8127\" r=\"4.252\" fill=\"none\" stroke=\"rgba(64,220,64,0.9412)\" stroke-width=\"1.5\" stroke-miterlimit=\"10\"/>\n",
       "<circle cx=\"37.6444\" cy=\"146.7188\" r=\"4.252\" fill=\"none\" stroke=\"rgba(64,220,64,0.9412)\" stroke-width=\"1.5\" stroke-miterlimit=\"10\"/>\n",
       "<circle cx=\"94.0903\" cy=\"169.61\" r=\"4.252\" fill=\"none\" stroke=\"rgba(64,220,64,0.9412)\" stroke-width=\"1.5\" stroke-miterlimit=\"10\"/>\n",
       "<circle cx=\"187.1368\" cy=\"171.1504\" r=\"4.252\" fill=\"none\" stroke=\"rgba(64,220,64,0.9412)\" stroke-width=\"1.5\" stroke-miterlimit=\"10\"/>\n",
       "<circle cx=\"102.2335\" cy=\"101.1578\" r=\"4.252\" fill=\"none\" stroke=\"rgba(64,220,64,0.9412)\" stroke-width=\"1.5\" stroke-miterlimit=\"10\"/>\n",
       "<circle cx=\"62.4159\" cy=\"162.7728\" r=\"4.252\" fill=\"none\" stroke=\"rgba(64,220,64,0.9412)\" stroke-width=\"1.5\" stroke-miterlimit=\"10\"/>\n",
       "<circle cx=\"140.1875\" cy=\"100.608\" r=\"4.252\" fill=\"none\" stroke=\"rgba(64,220,64,0.9412)\" stroke-width=\"1.5\" stroke-miterlimit=\"10\"/>\n",
       "<circle cx=\"118.5454\" cy=\"170.8929\" r=\"4.252\" fill=\"none\" stroke=\"rgba(64,220,64,0.9412)\" stroke-width=\"1.5\" stroke-miterlimit=\"10\"/>\n",
       "<circle cx=\"219.1161\" cy=\"120.483\" r=\"4.252\" fill=\"none\" stroke=\"rgba(64,220,64,0.9412)\" stroke-width=\"1.5\" stroke-miterlimit=\"10\"/>\n",
       "<circle cx=\"207.2361\" cy=\"69.8225\" r=\"4.252\" fill=\"none\" stroke=\"rgba(64,220,64,0.9412)\" stroke-width=\"1.5\" stroke-miterlimit=\"10\"/>\n",
       "<circle cx=\"39.1727\" cy=\"105.8298\" r=\"4.252\" fill=\"none\" stroke=\"rgba(64,220,64,0.9412)\" stroke-width=\"1.5\" stroke-miterlimit=\"10\"/>\n",
       "<circle cx=\"168.1941\" cy=\"89.3329\" r=\"4.252\" fill=\"none\" stroke=\"rgba(64,220,64,0.9412)\" stroke-width=\"1.5\" stroke-miterlimit=\"10\"/>\n",
       "<circle cx=\"128.652\" cy=\"127.4564\" r=\"4.252\" fill=\"none\" stroke=\"rgba(64,220,64,0.9412)\" stroke-width=\"1.5\" stroke-miterlimit=\"10\"/>\n",
       "<circle cx=\"149.8393\" cy=\"139.8394\" r=\"4.252\" fill=\"none\" stroke=\"rgba(64,220,64,0.9412)\" stroke-width=\"1.5\" stroke-miterlimit=\"10\"/>\n",
       "<circle cx=\"157.9695\" cy=\"58.5841\" r=\"4.252\" fill=\"none\" stroke=\"rgba(64,220,64,0.9412)\" stroke-width=\"1.5\" stroke-miterlimit=\"10\"/>\n",
       "<circle cx=\"128.259\" cy=\"97.1487\" r=\"4.252\" fill=\"none\" stroke=\"rgba(64,220,64,0.9412)\" stroke-width=\"1.5\" stroke-miterlimit=\"10\"/>\n",
       "<circle cx=\"153.4358\" cy=\"187.7135\" r=\"4.252\" fill=\"none\" stroke=\"rgba(64,220,64,0.9412)\" stroke-width=\"1.5\" stroke-miterlimit=\"10\"/>\n",
       "<circle cx=\"244.1672\" cy=\"240.1428\" r=\"4.252\" fill=\"none\" stroke=\"rgba(64,220,64,0.9412)\" stroke-width=\"1.5\" stroke-miterlimit=\"10\"/>\n",
       "<circle cx=\"125.3473\" cy=\"80.9294\" r=\"4.252\" fill=\"none\" stroke=\"rgba(64,220,64,0.9412)\" stroke-width=\"1.5\" stroke-miterlimit=\"10\"/>\n",
       "<circle cx=\"-23.0135\" cy=\"106.0675\" r=\"4.252\" fill=\"none\" stroke=\"rgba(64,220,64,0.9412)\" stroke-width=\"1.5\" stroke-miterlimit=\"10\"/>\n",
       "<circle cx=\"237.4308\" cy=\"144.8774\" r=\"4.252\" fill=\"none\" stroke=\"rgba(64,220,64,0.9412)\" stroke-width=\"1.5\" stroke-miterlimit=\"10\"/>\n",
       "<circle cx=\"160.4966\" cy=\"62.5075\" r=\"4.252\" fill=\"none\" stroke=\"rgba(64,220,64,0.9412)\" stroke-width=\"1.5\" stroke-miterlimit=\"10\"/>\n",
       "<circle cx=\"180.389\" cy=\"222.684\" r=\"4.252\" fill=\"none\" stroke=\"rgba(64,220,64,0.9412)\" stroke-width=\"1.5\" stroke-miterlimit=\"10\"/>\n",
       "<circle cx=\"189.4151\" cy=\"114.1097\" r=\"4.252\" fill=\"none\" stroke=\"rgba(64,220,64,0.9412)\" stroke-width=\"1.5\" stroke-miterlimit=\"10\"/>\n",
       "<circle cx=\"187.5226\" cy=\"161.78\" r=\"4.252\" fill=\"none\" stroke=\"rgba(64,220,64,0.9412)\" stroke-width=\"1.5\" stroke-miterlimit=\"10\"/>\n",
       "<circle cx=\"122.8795\" cy=\"176.0399\" r=\"4.252\" fill=\"none\" stroke=\"rgba(64,220,64,0.9412)\" stroke-width=\"1.5\" stroke-miterlimit=\"10\"/>\n",
       "<circle cx=\"201.5308\" cy=\"51.3251\" r=\"4.252\" fill=\"none\" stroke=\"rgba(64,220,64,0.9412)\" stroke-width=\"1.5\" stroke-miterlimit=\"10\"/>\n",
       "<circle cx=\"162.3861\" cy=\"195.924\" r=\"4.252\" fill=\"none\" stroke=\"rgba(64,220,64,0.9412)\" stroke-width=\"1.5\" stroke-miterlimit=\"10\"/>\n",
       "<circle cx=\"202.0812\" cy=\"71.5309\" r=\"4.252\" fill=\"none\" stroke=\"rgba(64,220,64,0.9412)\" stroke-width=\"1.5\" stroke-miterlimit=\"10\"/>\n",
       "<circle cx=\"189.9819\" cy=\"190.7852\" r=\"4.252\" fill=\"none\" stroke=\"rgba(64,220,64,0.9412)\" stroke-width=\"1.5\" stroke-miterlimit=\"10\"/>\n",
       "<circle cx=\"122.3225\" cy=\"45.5554\" r=\"4.252\" fill=\"none\" stroke=\"rgba(64,220,64,0.9412)\" stroke-width=\"1.5\" stroke-miterlimit=\"10\"/>\n",
       "<circle cx=\"142.2928\" cy=\"148.2836\" r=\"4.252\" fill=\"none\" stroke=\"rgba(64,220,64,0.9412)\" stroke-width=\"1.5\" stroke-miterlimit=\"10\"/>\n",
       "<circle cx=\"125.4594\" cy=\"139.0864\" r=\"4.252\" fill=\"none\" stroke=\"rgba(64,220,64,0.9412)\" stroke-width=\"1.5\" stroke-miterlimit=\"10\"/>\n",
       "<circle cx=\"108.6039\" cy=\"138.3661\" r=\"4.252\" fill=\"none\" stroke=\"rgba(64,220,64,0.9412)\" stroke-width=\"1.5\" stroke-miterlimit=\"10\"/>\n",
       "<circle cx=\"60.4388\" cy=\"151.5904\" r=\"4.252\" fill=\"none\" stroke=\"rgba(64,220,64,0.9412)\" stroke-width=\"1.5\" stroke-miterlimit=\"10\"/>\n",
       "<circle cx=\"147.5705\" cy=\"202.2768\" r=\"4.252\" fill=\"none\" stroke=\"rgba(64,220,64,0.9412)\" stroke-width=\"1.5\" stroke-miterlimit=\"10\"/>\n",
       "<circle cx=\"286.1776\" cy=\"165.5253\" r=\"4.252\" fill=\"none\" stroke=\"rgba(64,220,64,0.9412)\" stroke-width=\"1.5\" stroke-miterlimit=\"10\"/>\n",
       "<circle cx=\"197.7726\" cy=\"127.4617\" r=\"4.252\" fill=\"none\" stroke=\"rgba(64,220,64,0.9412)\" stroke-width=\"1.5\" stroke-miterlimit=\"10\"/>\n",
       "<circle cx=\"156.7918\" cy=\"220.1433\" r=\"4.252\" fill=\"none\" stroke=\"rgba(64,220,64,0.9412)\" stroke-width=\"1.5\" stroke-miterlimit=\"10\"/>\n",
       "<circle cx=\"147.3031\" cy=\"162.6738\" r=\"4.252\" fill=\"none\" stroke=\"rgba(64,220,64,0.9412)\" stroke-width=\"1.5\" stroke-miterlimit=\"10\"/>\n",
       "<circle cx=\"98.5632\" cy=\"22.4929\" r=\"4.252\" fill=\"none\" stroke=\"rgba(64,220,64,0.9412)\" stroke-width=\"1.5\" stroke-miterlimit=\"10\"/>\n",
       "<circle cx=\"99.4578\" cy=\"107.7122\" r=\"4.252\" fill=\"none\" stroke=\"rgba(64,220,64,0.9412)\" stroke-width=\"1.5\" stroke-miterlimit=\"10\"/>\n",
       "<circle cx=\"252.6038\" cy=\"137.1447\" r=\"4.252\" fill=\"none\" stroke=\"rgba(64,220,64,0.9412)\" stroke-width=\"1.5\" stroke-miterlimit=\"10\"/>\n",
       "<circle cx=\"152.9905\" cy=\"173.6393\" r=\"4.252\" fill=\"none\" stroke=\"rgba(64,220,64,0.9412)\" stroke-width=\"1.5\" stroke-miterlimit=\"10\"/>\n",
       "<circle cx=\"112.5922\" cy=\"85.8511\" r=\"4.252\" fill=\"none\" stroke=\"rgba(64,220,64,0.9412)\" stroke-width=\"1.5\" stroke-miterlimit=\"10\"/>\n",
       "<circle cx=\"177.404\" cy=\"155.2939\" r=\"4.252\" fill=\"none\" stroke=\"rgba(64,220,64,0.9412)\" stroke-width=\"1.5\" stroke-miterlimit=\"10\"/>\n",
       "<circle cx=\"169.4166\" cy=\"145.7479\" r=\"4.252\" fill=\"none\" stroke=\"rgba(64,220,64,0.9412)\" stroke-width=\"1.5\" stroke-miterlimit=\"10\"/>\n",
       "<circle cx=\"67.2328\" cy=\"103.4602\" r=\"4.252\" fill=\"none\" stroke=\"rgba(64,220,64,0.9412)\" stroke-width=\"1.5\" stroke-miterlimit=\"10\"/>\n",
       "<circle cx=\"96.5159\" cy=\"77.2323\" r=\"4.252\" fill=\"none\" stroke=\"rgba(64,220,64,0.9412)\" stroke-width=\"1.5\" stroke-miterlimit=\"10\"/>\n",
       "<circle cx=\"151.5782\" cy=\"55.5875\" r=\"4.252\" fill=\"none\" stroke=\"rgba(64,220,64,0.9412)\" stroke-width=\"1.5\" stroke-miterlimit=\"10\"/>\n",
       "<circle cx=\"184.1755\" cy=\"135.1413\" r=\"4.252\" fill=\"none\" stroke=\"rgba(64,220,64,0.9412)\" stroke-width=\"1.5\" stroke-miterlimit=\"10\"/>\n",
       "<circle cx=\"122.596\" cy=\"121.881\" r=\"4.252\" fill=\"none\" stroke=\"rgba(64,220,64,0.9412)\" stroke-width=\"1.5\" stroke-miterlimit=\"10\"/>\n",
       "<circle cx=\"217.2959\" cy=\"134.9952\" r=\"4.252\" fill=\"none\" stroke=\"rgba(64,220,64,0.9412)\" stroke-width=\"1.5\" stroke-miterlimit=\"10\"/>\n",
       "<circle cx=\"114.0194\" cy=\"199.102\" r=\"4.252\" fill=\"none\" stroke=\"rgba(64,220,64,0.9412)\" stroke-width=\"1.5\" stroke-miterlimit=\"10\"/>\n",
       "<circle cx=\"78.3342\" cy=\"150.9937\" r=\"4.252\" fill=\"none\" stroke=\"rgba(64,220,64,0.9412)\" stroke-width=\"1.5\" stroke-miterlimit=\"10\"/>\n",
       "<circle cx=\"100.9963\" cy=\"193.6682\" r=\"4.252\" fill=\"none\" stroke=\"rgba(64,220,64,0.9412)\" stroke-width=\"1.5\" stroke-miterlimit=\"10\"/>\n",
       "<circle cx=\"116.345\" cy=\"117.7462\" r=\"4.252\" fill=\"none\" stroke=\"rgba(64,220,64,0.9412)\" stroke-width=\"1.5\" stroke-miterlimit=\"10\"/>\n",
       "<circle cx=\"118.0501\" cy=\"129.4601\" r=\"4.252\" fill=\"none\" stroke=\"rgba(64,220,64,0.9412)\" stroke-width=\"1.5\" stroke-miterlimit=\"10\"/>\n",
       "<circle cx=\"213.9961\" cy=\"133.6832\" r=\"4.252\" fill=\"none\" stroke=\"rgba(64,220,64,0.9412)\" stroke-width=\"1.5\" stroke-miterlimit=\"10\"/>\n",
       "<circle cx=\"184.8566\" cy=\"266.0513\" r=\"4.252\" fill=\"none\" stroke=\"rgba(64,220,64,0.9412)\" stroke-width=\"1.5\" stroke-miterlimit=\"10\"/>\n",
       "<circle cx=\"174.0609\" cy=\"195.2961\" r=\"4.252\" fill=\"none\" stroke=\"rgba(64,220,64,0.9412)\" stroke-width=\"1.5\" stroke-miterlimit=\"10\"/>\n",
       "<circle cx=\"158.0391\" cy=\"55.501\" r=\"4.252\" fill=\"none\" stroke=\"rgba(64,220,64,0.9412)\" stroke-width=\"1.5\" stroke-miterlimit=\"10\"/>\n",
       "<circle cx=\"123.3098\" cy=\"138.4611\" r=\"4.252\" fill=\"none\" stroke=\"rgba(64,220,64,0.9412)\" stroke-width=\"1.5\" stroke-miterlimit=\"10\"/>\n",
       "<circle cx=\"145.5169\" cy=\"196.2249\" r=\"4.252\" fill=\"none\" stroke=\"rgba(64,220,64,0.9412)\" stroke-width=\"1.5\" stroke-miterlimit=\"10\"/>\n",
       "<circle cx=\"130.3549\" cy=\"110.6841\" r=\"4.252\" fill=\"none\" stroke=\"rgba(64,220,64,0.9412)\" stroke-width=\"1.5\" stroke-miterlimit=\"10\"/>\n",
       "<circle cx=\"55.7926\" cy=\"120.3174\" r=\"4.252\" fill=\"none\" stroke=\"rgba(64,220,64,0.9412)\" stroke-width=\"1.5\" stroke-miterlimit=\"10\"/>\n",
       "<circle cx=\"202.0529\" cy=\"179.4727\" r=\"4.252\" fill=\"none\" stroke=\"rgba(64,220,64,0.9412)\" stroke-width=\"1.5\" stroke-miterlimit=\"10\"/>\n",
       "<circle cx=\"129.9804\" cy=\"64.3131\" r=\"4.252\" fill=\"none\" stroke=\"rgba(64,220,64,0.9412)\" stroke-width=\"1.5\" stroke-miterlimit=\"10\"/>\n",
       "<circle cx=\"141.1597\" cy=\"96.8319\" r=\"4.252\" fill=\"none\" stroke=\"rgba(64,220,64,0.9412)\" stroke-width=\"1.5\" stroke-miterlimit=\"10\"/>\n",
       "<circle cx=\"80.6558\" cy=\"59.295\" r=\"4.252\" fill=\"none\" stroke=\"rgba(64,220,64,0.9412)\" stroke-width=\"1.5\" stroke-miterlimit=\"10\"/>\n",
       "<circle cx=\"137.8102\" cy=\"81.8524\" r=\"4.252\" fill=\"none\" stroke=\"rgba(64,220,64,0.9412)\" stroke-width=\"1.5\" stroke-miterlimit=\"10\"/>\n",
       "<circle cx=\"134.2188\" cy=\"111.8368\" r=\"4.252\" fill=\"none\" stroke=\"rgba(64,220,64,0.9412)\" stroke-width=\"1.5\" stroke-miterlimit=\"10\"/>\n",
       "<circle cx=\"108.8697\" cy=\"140.6522\" r=\"4.252\" fill=\"none\" stroke=\"rgba(64,220,64,0.9412)\" stroke-width=\"1.5\" stroke-miterlimit=\"10\"/>\n",
       "<circle cx=\"162.2486\" cy=\"170.0548\" r=\"4.252\" fill=\"none\" stroke=\"rgba(64,220,64,0.9412)\" stroke-width=\"1.5\" stroke-miterlimit=\"10\"/>\n",
       "<circle cx=\"129.9959\" cy=\"187.7851\" r=\"4.252\" fill=\"none\" stroke=\"rgba(64,220,64,0.9412)\" stroke-width=\"1.5\" stroke-miterlimit=\"10\"/>\n",
       "<circle cx=\"103.4374\" cy=\"209.2056\" r=\"4.252\" fill=\"none\" stroke=\"rgba(64,220,64,0.9412)\" stroke-width=\"1.5\" stroke-miterlimit=\"10\"/>\n",
       "<circle cx=\"192.3719\" cy=\"91.2017\" r=\"4.252\" fill=\"none\" stroke=\"rgba(64,220,64,0.9412)\" stroke-width=\"1.5\" stroke-miterlimit=\"10\"/>\n",
       "<circle cx=\"106.7877\" cy=\"158.2881\" r=\"4.252\" fill=\"none\" stroke=\"rgba(64,220,64,0.9412)\" stroke-width=\"1.5\" stroke-miterlimit=\"10\"/>\n",
       "<circle cx=\"97.5105\" cy=\"196.3403\" r=\"4.252\" fill=\"none\" stroke=\"rgba(64,220,64,0.9412)\" stroke-width=\"1.5\" stroke-miterlimit=\"10\"/>\n",
       "<circle cx=\"170.3026\" cy=\"144.2745\" r=\"4.252\" fill=\"none\" stroke=\"rgba(64,220,64,0.9412)\" stroke-width=\"1.5\" stroke-miterlimit=\"10\"/>\n",
       "<circle cx=\"95.0432\" cy=\"199.9364\" r=\"4.252\" fill=\"none\" stroke=\"rgba(64,220,64,0.9412)\" stroke-width=\"1.5\" stroke-miterlimit=\"10\"/>\n",
       "<circle cx=\"182.2733\" cy=\"137.5963\" r=\"4.252\" fill=\"none\" stroke=\"rgba(64,220,64,0.9412)\" stroke-width=\"1.5\" stroke-miterlimit=\"10\"/>\n",
       "<circle cx=\"118.8431\" cy=\"14.118\" r=\"4.252\" fill=\"none\" stroke=\"rgba(64,220,64,0.9412)\" stroke-width=\"1.5\" stroke-miterlimit=\"10\"/>\n",
       "<circle cx=\"217.0063\" cy=\"60.2307\" r=\"4.252\" fill=\"none\" stroke=\"rgba(64,220,64,0.9412)\" stroke-width=\"1.5\" stroke-miterlimit=\"10\"/>\n",
       "<circle cx=\"233.3651\" cy=\"121.6865\" r=\"4.252\" fill=\"none\" stroke=\"rgba(64,220,64,0.9412)\" stroke-width=\"1.5\" stroke-miterlimit=\"10\"/>\n",
       "<circle cx=\"130.382\" cy=\"33.8874\" r=\"4.252\" fill=\"none\" stroke=\"rgba(64,220,64,0.9412)\" stroke-width=\"1.5\" stroke-miterlimit=\"10\"/>\n",
       "<circle cx=\"93.9478\" cy=\"176.5227\" r=\"4.252\" fill=\"none\" stroke=\"rgba(64,220,64,0.9412)\" stroke-width=\"1.5\" stroke-miterlimit=\"10\"/>\n",
       "<circle cx=\"74.9874\" cy=\"133.2772\" r=\"4.252\" fill=\"none\" stroke=\"rgba(64,220,64,0.9412)\" stroke-width=\"1.5\" stroke-miterlimit=\"10\"/>\n",
       "<circle cx=\"167.3575\" cy=\"186.7382\" r=\"4.252\" fill=\"none\" stroke=\"rgba(64,220,64,0.9412)\" stroke-width=\"1.5\" stroke-miterlimit=\"10\"/>\n",
       "<circle cx=\"175.5398\" cy=\"102.959\" r=\"4.252\" fill=\"none\" stroke=\"rgba(64,220,64,0.9412)\" stroke-width=\"1.5\" stroke-miterlimit=\"10\"/>\n",
       "<circle cx=\"181.8786\" cy=\"67.8445\" r=\"4.252\" fill=\"none\" stroke=\"rgba(64,220,64,0.9412)\" stroke-width=\"1.5\" stroke-miterlimit=\"10\"/>\n",
       "<circle cx=\"149.0523\" cy=\"160.7799\" r=\"4.252\" fill=\"none\" stroke=\"rgba(64,220,64,0.9412)\" stroke-width=\"1.5\" stroke-miterlimit=\"10\"/>\n",
       "<circle cx=\"104.93\" cy=\"119.6707\" r=\"4.252\" fill=\"none\" stroke=\"rgba(64,220,64,0.9412)\" stroke-width=\"1.5\" stroke-miterlimit=\"10\"/>\n",
       "<circle cx=\"119.2619\" cy=\"143.1923\" r=\"4.252\" fill=\"none\" stroke=\"rgba(64,220,64,0.9412)\" stroke-width=\"1.5\" stroke-miterlimit=\"10\"/>\n",
       "<circle cx=\"192.4963\" cy=\"239.6372\" r=\"4.252\" fill=\"none\" stroke=\"rgba(64,220,64,0.9412)\" stroke-width=\"1.5\" stroke-miterlimit=\"10\"/>\n",
       "<circle cx=\"94.7355\" cy=\"81.5058\" r=\"4.252\" fill=\"none\" stroke=\"rgba(64,220,64,0.9412)\" stroke-width=\"1.5\" stroke-miterlimit=\"10\"/>\n",
       "<circle cx=\"138.1156\" cy=\"131.0318\" r=\"4.252\" fill=\"none\" stroke=\"rgba(64,220,64,0.9412)\" stroke-width=\"1.5\" stroke-miterlimit=\"10\"/>\n",
       "<circle cx=\"188.7693\" cy=\"211.8904\" r=\"4.252\" fill=\"none\" stroke=\"rgba(64,220,64,0.9412)\" stroke-width=\"1.5\" stroke-miterlimit=\"10\"/>\n",
       "<circle cx=\"150.1719\" cy=\"80.7556\" r=\"4.252\" fill=\"none\" stroke=\"rgba(64,220,64,0.9412)\" stroke-width=\"1.5\" stroke-miterlimit=\"10\"/>\n",
       "<circle cx=\"196.3126\" cy=\"135.5344\" r=\"4.252\" fill=\"none\" stroke=\"rgba(64,220,64,0.9412)\" stroke-width=\"1.5\" stroke-miterlimit=\"10\"/>\n",
       "<circle cx=\"121.42\" cy=\"123.6583\" r=\"4.252\" fill=\"none\" stroke=\"rgba(64,220,64,0.9412)\" stroke-width=\"1.5\" stroke-miterlimit=\"10\"/>\n",
       "<circle cx=\"86.1776\" cy=\"85.3672\" r=\"4.252\" fill=\"none\" stroke=\"rgba(64,220,64,0.9412)\" stroke-width=\"1.5\" stroke-miterlimit=\"10\"/>\n",
       "<circle cx=\"60.5225\" cy=\"79.9143\" r=\"4.252\" fill=\"none\" stroke=\"rgba(64,220,64,0.9412)\" stroke-width=\"1.5\" stroke-miterlimit=\"10\"/>\n",
       "<circle cx=\"98.0682\" cy=\"169.8534\" r=\"4.252\" fill=\"none\" stroke=\"rgba(64,220,64,0.9412)\" stroke-width=\"1.5\" stroke-miterlimit=\"10\"/>\n",
       "<circle cx=\"201.708\" cy=\"136.8406\" r=\"4.252\" fill=\"none\" stroke=\"rgba(64,220,64,0.9412)\" stroke-width=\"1.5\" stroke-miterlimit=\"10\"/>\n",
       "<circle cx=\"110.2791\" cy=\"152.3454\" r=\"4.252\" fill=\"none\" stroke=\"rgba(64,220,64,0.9412)\" stroke-width=\"1.5\" stroke-miterlimit=\"10\"/>\n",
       "<circle cx=\"139.5565\" cy=\"120.4223\" r=\"4.252\" fill=\"none\" stroke=\"rgba(64,220,64,0.9412)\" stroke-width=\"1.5\" stroke-miterlimit=\"10\"/>\n",
       "<circle cx=\"191.6337\" cy=\"116.9453\" r=\"4.252\" fill=\"none\" stroke=\"rgba(64,220,64,0.9412)\" stroke-width=\"1.5\" stroke-miterlimit=\"10\"/>\n",
       "<circle cx=\"177.7333\" cy=\"183.876\" r=\"4.252\" fill=\"none\" stroke=\"rgba(64,220,64,0.9412)\" stroke-width=\"1.5\" stroke-miterlimit=\"10\"/>\n",
       "<circle cx=\"76.3915\" cy=\"144.8297\" r=\"4.252\" fill=\"none\" stroke=\"rgba(64,220,64,0.9412)\" stroke-width=\"1.5\" stroke-miterlimit=\"10\"/>\n",
       "<circle cx=\"130.2572\" cy=\"135.4178\" r=\"4.252\" fill=\"none\" stroke=\"rgba(64,220,64,0.9412)\" stroke-width=\"1.5\" stroke-miterlimit=\"10\"/>\n",
       "<circle cx=\"88.1434\" cy=\"197.4774\" r=\"4.252\" fill=\"none\" stroke=\"rgba(64,220,64,0.9412)\" stroke-width=\"1.5\" stroke-miterlimit=\"10\"/>\n",
       "<circle cx=\"178.9877\" cy=\"176.8335\" r=\"4.252\" fill=\"none\" stroke=\"rgba(64,220,64,0.9412)\" stroke-width=\"1.5\" stroke-miterlimit=\"10\"/>\n",
       "<circle cx=\"201.9093\" cy=\"192.1752\" r=\"4.252\" fill=\"none\" stroke=\"rgba(64,220,64,0.9412)\" stroke-width=\"1.5\" stroke-miterlimit=\"10\"/>\n",
       "<circle cx=\"73.3185\" cy=\"75.8809\" r=\"4.252\" fill=\"none\" stroke=\"rgba(64,220,64,0.9412)\" stroke-width=\"1.5\" stroke-miterlimit=\"10\"/>\n",
       "<circle cx=\"86.2023\" cy=\"153.7523\" r=\"4.252\" fill=\"none\" stroke=\"rgba(64,220,64,0.9412)\" stroke-width=\"1.5\" stroke-miterlimit=\"10\"/>\n",
       "<circle cx=\"151.6982\" cy=\"258.6969\" r=\"4.252\" fill=\"none\" stroke=\"rgba(64,220,64,0.9412)\" stroke-width=\"1.5\" stroke-miterlimit=\"10\"/>\n",
       "<circle cx=\"141.7271\" cy=\"175.852\" r=\"4.252\" fill=\"none\" stroke=\"rgba(64,220,64,0.9412)\" stroke-width=\"1.5\" stroke-miterlimit=\"10\"/>\n",
       "<circle cx=\"178.0145\" cy=\"132.6192\" r=\"4.252\" fill=\"none\" stroke=\"rgba(64,220,64,0.9412)\" stroke-width=\"1.5\" stroke-miterlimit=\"10\"/>\n",
       "<circle cx=\"216.5939\" cy=\"167.2901\" r=\"4.252\" fill=\"none\" stroke=\"rgba(64,220,64,0.9412)\" stroke-width=\"1.5\" stroke-miterlimit=\"10\"/>\n",
       "<circle cx=\"91.946\" cy=\"163.8512\" r=\"4.252\" fill=\"none\" stroke=\"rgba(64,220,64,0.9412)\" stroke-width=\"1.5\" stroke-miterlimit=\"10\"/>\n",
       "<circle cx=\"188.6959\" cy=\"159.3314\" r=\"4.252\" fill=\"none\" stroke=\"rgba(64,220,64,0.9412)\" stroke-width=\"1.5\" stroke-miterlimit=\"10\"/>\n",
       "<circle cx=\"116.7547\" cy=\"59.3093\" r=\"4.252\" fill=\"none\" stroke=\"rgba(64,220,64,0.9412)\" stroke-width=\"1.5\" stroke-miterlimit=\"10\"/>\n",
       "<circle cx=\"32.4956\" cy=\"150.7594\" r=\"4.252\" fill=\"none\" stroke=\"rgba(64,220,64,0.9412)\" stroke-width=\"1.5\" stroke-miterlimit=\"10\"/>\n",
       "<circle cx=\"214.7251\" cy=\"197.1278\" r=\"4.252\" fill=\"none\" stroke=\"rgba(64,220,64,0.9412)\" stroke-width=\"1.5\" stroke-miterlimit=\"10\"/>\n",
       "<circle cx=\"158.232\" cy=\"105.4953\" r=\"4.252\" fill=\"none\" stroke=\"rgba(64,220,64,0.9412)\" stroke-width=\"1.5\" stroke-miterlimit=\"10\"/>\n",
       "<circle cx=\"209.4659\" cy=\"141.3214\" r=\"4.252\" fill=\"none\" stroke=\"rgba(64,220,64,0.9412)\" stroke-width=\"1.5\" stroke-miterlimit=\"10\"/>\n",
       "<circle cx=\"134.7091\" cy=\"124.9463\" r=\"4.252\" fill=\"none\" stroke=\"rgba(64,220,64,0.9412)\" stroke-width=\"1.5\" stroke-miterlimit=\"10\"/>\n",
       "<circle cx=\"79.126\" cy=\"87.2954\" r=\"4.252\" fill=\"none\" stroke=\"rgba(64,220,64,0.9412)\" stroke-width=\"1.5\" stroke-miterlimit=\"10\"/>\n",
       "<circle cx=\"134.7074\" cy=\"193.1896\" r=\"4.252\" fill=\"none\" stroke=\"rgba(64,220,64,0.9412)\" stroke-width=\"1.5\" stroke-miterlimit=\"10\"/>\n",
       "<circle cx=\"144.3206\" cy=\"173.8588\" r=\"4.252\" fill=\"none\" stroke=\"rgba(64,220,64,0.9412)\" stroke-width=\"1.5\" stroke-miterlimit=\"10\"/>\n",
       "<circle cx=\"158.6052\" cy=\"106.0345\" r=\"4.252\" fill=\"none\" stroke=\"rgba(64,220,64,0.9412)\" stroke-width=\"1.5\" stroke-miterlimit=\"10\"/>\n",
       "<circle cx=\"196.4748\" cy=\"204.022\" r=\"4.252\" fill=\"none\" stroke=\"rgba(64,220,64,0.9412)\" stroke-width=\"1.5\" stroke-miterlimit=\"10\"/>\n",
       "<circle cx=\"64.6915\" cy=\"62.5091\" r=\"4.252\" fill=\"none\" stroke=\"rgba(64,220,64,0.9412)\" stroke-width=\"1.5\" stroke-miterlimit=\"10\"/>\n",
       "<circle cx=\"199.7775\" cy=\"171.3802\" r=\"4.252\" fill=\"none\" stroke=\"rgba(64,220,64,0.9412)\" stroke-width=\"1.5\" stroke-miterlimit=\"10\"/>\n",
       "<circle cx=\"203.9769\" cy=\"105.8471\" r=\"4.252\" fill=\"none\" stroke=\"rgba(64,220,64,0.9412)\" stroke-width=\"1.5\" stroke-miterlimit=\"10\"/>\n",
       "<circle cx=\"166.1555\" cy=\"136.2899\" r=\"4.252\" fill=\"none\" stroke=\"rgba(64,220,64,0.9412)\" stroke-width=\"1.5\" stroke-miterlimit=\"10\"/>\n",
       "<circle cx=\"272.05\" cy=\"188.4319\" r=\"4.252\" fill=\"none\" stroke=\"rgba(64,220,64,0.9412)\" stroke-width=\"1.5\" stroke-miterlimit=\"10\"/>\n",
       "<circle cx=\"199.1594\" cy=\"110.921\" r=\"4.252\" fill=\"none\" stroke=\"rgba(64,220,64,0.9412)\" stroke-width=\"1.5\" stroke-miterlimit=\"10\"/>\n",
       "<circle cx=\"228.1218\" cy=\"242.7198\" r=\"4.252\" fill=\"none\" stroke=\"rgba(64,220,64,0.9412)\" stroke-width=\"1.5\" stroke-miterlimit=\"10\"/>\n",
       "<circle cx=\"109.91\" cy=\"121.4909\" r=\"4.252\" fill=\"none\" stroke=\"rgba(64,220,64,0.9412)\" stroke-width=\"1.5\" stroke-miterlimit=\"10\"/>\n",
       "<circle cx=\"210.6022\" cy=\"44.7106\" r=\"4.252\" fill=\"none\" stroke=\"rgba(64,220,64,0.9412)\" stroke-width=\"1.5\" stroke-miterlimit=\"10\"/>\n",
       "<circle cx=\"189.3735\" cy=\"226.1395\" r=\"4.252\" fill=\"none\" stroke=\"rgba(64,220,64,0.9412)\" stroke-width=\"1.5\" stroke-miterlimit=\"10\"/>\n",
       "<circle cx=\"85.0777\" cy=\"111.7173\" r=\"4.252\" fill=\"none\" stroke=\"rgba(64,220,64,0.9412)\" stroke-width=\"1.5\" stroke-miterlimit=\"10\"/>\n",
       "<circle cx=\"103.8917\" cy=\"108.1014\" r=\"4.252\" fill=\"none\" stroke=\"rgba(64,220,64,0.9412)\" stroke-width=\"1.5\" stroke-miterlimit=\"10\"/>\n",
       "<circle cx=\"325.635\" cy=\"152.6276\" r=\"4.252\" fill=\"none\" stroke=\"rgba(64,220,64,0.9412)\" stroke-width=\"1.5\" stroke-miterlimit=\"10\"/>\n",
       "<circle cx=\"155.5509\" cy=\"125.8583\" r=\"4.252\" fill=\"none\" stroke=\"rgba(64,220,64,0.9412)\" stroke-width=\"1.5\" stroke-miterlimit=\"10\"/>\n",
       "<circle cx=\"25.537\" cy=\"217.5336\" r=\"4.252\" fill=\"none\" stroke=\"rgba(64,220,64,0.9412)\" stroke-width=\"1.5\" stroke-miterlimit=\"10\"/>\n",
       "<circle cx=\"165.4436\" cy=\"231.0696\" r=\"4.252\" fill=\"none\" stroke=\"rgba(64,220,64,0.9412)\" stroke-width=\"1.5\" stroke-miterlimit=\"10\"/>\n",
       "<circle cx=\"101.9092\" cy=\"196.6037\" r=\"4.252\" fill=\"none\" stroke=\"rgba(64,220,64,0.9412)\" stroke-width=\"1.5\" stroke-miterlimit=\"10\"/>\n",
       "<circle cx=\"124.515\" cy=\"230.7731\" r=\"4.252\" fill=\"none\" stroke=\"rgba(64,220,64,0.9412)\" stroke-width=\"1.5\" stroke-miterlimit=\"10\"/>\n",
       "<circle cx=\"63.2047\" cy=\"198.8819\" r=\"4.252\" fill=\"none\" stroke=\"rgba(64,220,64,0.9412)\" stroke-width=\"1.5\" stroke-miterlimit=\"10\"/>\n",
       "<circle cx=\"109.7545\" cy=\"83.9986\" r=\"4.252\" fill=\"none\" stroke=\"rgba(64,220,64,0.9412)\" stroke-width=\"1.5\" stroke-miterlimit=\"10\"/>\n",
       "<circle cx=\"213.9086\" cy=\"169.2862\" r=\"4.252\" fill=\"none\" stroke=\"rgba(64,220,64,0.9412)\" stroke-width=\"1.5\" stroke-miterlimit=\"10\"/>\n",
       "<circle cx=\"162.266\" cy=\"157.1897\" r=\"4.252\" fill=\"none\" stroke=\"rgba(64,220,64,0.9412)\" stroke-width=\"1.5\" stroke-miterlimit=\"10\"/>\n",
       "<circle cx=\"151.8675\" cy=\"167.7956\" r=\"4.252\" fill=\"none\" stroke=\"rgba(64,220,64,0.9412)\" stroke-width=\"1.5\" stroke-miterlimit=\"10\"/>\n",
       "<circle cx=\"189.3974\" cy=\"120.6246\" r=\"4.252\" fill=\"none\" stroke=\"rgba(64,220,64,0.9412)\" stroke-width=\"1.5\" stroke-miterlimit=\"10\"/>\n",
       "<circle cx=\"136.2091\" cy=\"196.7048\" r=\"4.252\" fill=\"none\" stroke=\"rgba(64,220,64,0.9412)\" stroke-width=\"1.5\" stroke-miterlimit=\"10\"/>\n",
       "<circle cx=\"85.3223\" cy=\"67.9184\" r=\"4.252\" fill=\"none\" stroke=\"rgba(64,220,64,0.9412)\" stroke-width=\"1.5\" stroke-miterlimit=\"10\"/>\n",
       "<circle cx=\"207.9897\" cy=\"106.3779\" r=\"4.252\" fill=\"none\" stroke=\"rgba(64,220,64,0.9412)\" stroke-width=\"1.5\" stroke-miterlimit=\"10\"/>\n",
       "<circle cx=\"155.7688\" cy=\"175.5414\" r=\"4.252\" fill=\"none\" stroke=\"rgba(64,220,64,0.9412)\" stroke-width=\"1.5\" stroke-miterlimit=\"10\"/>\n",
       "<circle cx=\"224.0399\" cy=\"107.4653\" r=\"4.252\" fill=\"none\" stroke=\"rgba(64,220,64,0.9412)\" stroke-width=\"1.5\" stroke-miterlimit=\"10\"/>\n",
       "<circle cx=\"75.9064\" cy=\"147.6734\" r=\"4.252\" fill=\"none\" stroke=\"rgba(64,220,64,0.9412)\" stroke-width=\"1.5\" stroke-miterlimit=\"10\"/>\n",
       "<circle cx=\"176.0017\" cy=\"251.9246\" r=\"4.252\" fill=\"none\" stroke=\"rgba(64,220,64,0.9412)\" stroke-width=\"1.5\" stroke-miterlimit=\"10\"/>\n",
       "<circle cx=\"147.8218\" cy=\"128.4657\" r=\"4.252\" fill=\"none\" stroke=\"rgba(64,220,64,0.9412)\" stroke-width=\"1.5\" stroke-miterlimit=\"10\"/>\n",
       "<circle cx=\"168.4773\" cy=\"153.9109\" r=\"4.252\" fill=\"none\" stroke=\"rgba(64,220,64,0.9412)\" stroke-width=\"1.5\" stroke-miterlimit=\"10\"/>\n",
       "<circle cx=\"229.7397\" cy=\"107.6239\" r=\"4.252\" fill=\"none\" stroke=\"rgba(64,220,64,0.9412)\" stroke-width=\"1.5\" stroke-miterlimit=\"10\"/>\n",
       "<circle cx=\"176.138\" cy=\"150.3468\" r=\"4.252\" fill=\"none\" stroke=\"rgba(64,220,64,0.9412)\" stroke-width=\"1.5\" stroke-miterlimit=\"10\"/>\n",
       "<circle cx=\"142.0139\" cy=\"184.499\" r=\"4.252\" fill=\"none\" stroke=\"rgba(64,220,64,0.9412)\" stroke-width=\"1.5\" stroke-miterlimit=\"10\"/>\n",
       "<circle cx=\"27.9691\" cy=\"132.9057\" r=\"4.252\" fill=\"none\" stroke=\"rgba(64,220,64,0.9412)\" stroke-width=\"1.5\" stroke-miterlimit=\"10\"/>\n",
       "<circle cx=\"265.08\" cy=\"63.1084\" r=\"4.252\" fill=\"none\" stroke=\"rgba(64,220,64,0.9412)\" stroke-width=\"1.5\" stroke-miterlimit=\"10\"/>\n",
       "<circle cx=\"231.6437\" cy=\"175.3633\" r=\"4.252\" fill=\"none\" stroke=\"rgba(64,220,64,0.9412)\" stroke-width=\"1.5\" stroke-miterlimit=\"10\"/>\n",
       "<circle cx=\"189.1304\" cy=\"70.8441\" r=\"4.252\" fill=\"none\" stroke=\"rgba(64,220,64,0.9412)\" stroke-width=\"1.5\" stroke-miterlimit=\"10\"/>\n",
       "<circle cx=\"99.3892\" cy=\"143.2252\" r=\"4.252\" fill=\"none\" stroke=\"rgba(64,220,64,0.9412)\" stroke-width=\"1.5\" stroke-miterlimit=\"10\"/>\n",
       "<circle cx=\"140.5008\" cy=\"157.9187\" r=\"4.252\" fill=\"none\" stroke=\"rgba(64,220,64,0.9412)\" stroke-width=\"1.5\" stroke-miterlimit=\"10\"/>\n",
       "<circle cx=\"139.0023\" cy=\"171.4938\" r=\"4.252\" fill=\"none\" stroke=\"rgba(64,220,64,0.9412)\" stroke-width=\"1.5\" stroke-miterlimit=\"10\"/>\n",
       "<circle cx=\"248.6591\" cy=\"131.3772\" r=\"4.252\" fill=\"none\" stroke=\"rgba(64,220,64,0.9412)\" stroke-width=\"1.5\" stroke-miterlimit=\"10\"/>\n",
       "<circle cx=\"115.2799\" cy=\"196.2292\" r=\"4.252\" fill=\"none\" stroke=\"rgba(64,220,64,0.9412)\" stroke-width=\"1.5\" stroke-miterlimit=\"10\"/>\n",
       "<circle cx=\"107.0834\" cy=\"209.1367\" r=\"4.252\" fill=\"none\" stroke=\"rgba(64,220,64,0.9412)\" stroke-width=\"1.5\" stroke-miterlimit=\"10\"/>\n",
       "<circle cx=\"109.8695\" cy=\"71.9014\" r=\"4.252\" fill=\"none\" stroke=\"rgba(64,220,64,0.9412)\" stroke-width=\"1.5\" stroke-miterlimit=\"10\"/>\n",
       "<circle cx=\"232.6079\" cy=\"96.3596\" r=\"4.252\" fill=\"none\" stroke=\"rgba(64,220,64,0.9412)\" stroke-width=\"1.5\" stroke-miterlimit=\"10\"/>\n",
       "<circle cx=\"68.2392\" cy=\"122.7965\" r=\"4.252\" fill=\"none\" stroke=\"rgba(64,220,64,0.9412)\" stroke-width=\"1.5\" stroke-miterlimit=\"10\"/>\n",
       "<circle cx=\"120.477\" cy=\"57.2191\" r=\"4.252\" fill=\"none\" stroke=\"rgba(64,220,64,0.9412)\" stroke-width=\"1.5\" stroke-miterlimit=\"10\"/>\n",
       "<circle cx=\"178.5398\" cy=\"-58.8695\" r=\"4.252\" fill=\"none\" stroke=\"rgba(64,220,64,0.9412)\" stroke-width=\"1.5\" stroke-miterlimit=\"10\"/>\n",
       "<circle cx=\"249.9082\" cy=\"121.8374\" r=\"4.252\" fill=\"none\" stroke=\"rgba(64,220,64,0.9412)\" stroke-width=\"1.5\" stroke-miterlimit=\"10\"/>\n",
       "<circle cx=\"94.0401\" cy=\"175.2897\" r=\"4.252\" fill=\"none\" stroke=\"rgba(64,220,64,0.9412)\" stroke-width=\"1.5\" stroke-miterlimit=\"10\"/>\n",
       "<circle cx=\"198.2302\" cy=\"204.7633\" r=\"4.252\" fill=\"none\" stroke=\"rgba(64,220,64,0.9412)\" stroke-width=\"1.5\" stroke-miterlimit=\"10\"/>\n",
       "<circle cx=\"173.6276\" cy=\"117.9593\" r=\"4.252\" fill=\"none\" stroke=\"rgba(64,220,64,0.9412)\" stroke-width=\"1.5\" stroke-miterlimit=\"10\"/>\n",
       "<circle cx=\"159.2004\" cy=\"92.2879\" r=\"4.252\" fill=\"none\" stroke=\"rgba(64,220,64,0.9412)\" stroke-width=\"1.5\" stroke-miterlimit=\"10\"/>\n",
       "<circle cx=\"191.5842\" cy=\"72.006\" r=\"4.252\" fill=\"none\" stroke=\"rgba(64,220,64,0.9412)\" stroke-width=\"1.5\" stroke-miterlimit=\"10\"/>\n",
       "<circle cx=\"130.9877\" cy=\"199.1546\" r=\"4.252\" fill=\"none\" stroke=\"rgba(64,220,64,0.9412)\" stroke-width=\"1.5\" stroke-miterlimit=\"10\"/>\n",
       "<circle cx=\"66.8735\" cy=\"296.9136\" r=\"4.252\" fill=\"none\" stroke=\"rgba(64,220,64,0.9412)\" stroke-width=\"1.5\" stroke-miterlimit=\"10\"/>\n",
       "<circle cx=\"78.5931\" cy=\"120.5618\" r=\"4.252\" fill=\"none\" stroke=\"rgba(64,220,64,0.9412)\" stroke-width=\"1.5\" stroke-miterlimit=\"10\"/>\n",
       "<circle cx=\"123.6684\" cy=\"4.7325\" r=\"4.252\" fill=\"none\" stroke=\"rgba(64,220,64,0.9412)\" stroke-width=\"1.5\" stroke-miterlimit=\"10\"/>\n",
       "<circle cx=\"148.2149\" cy=\"123.8593\" r=\"4.252\" fill=\"none\" stroke=\"rgba(64,220,64,0.9412)\" stroke-width=\"1.5\" stroke-miterlimit=\"10\"/>\n",
       "<circle cx=\"156.5083\" cy=\"156.289\" r=\"4.252\" fill=\"none\" stroke=\"rgba(64,220,64,0.9412)\" stroke-width=\"1.5\" stroke-miterlimit=\"10\"/>\n",
       "<circle cx=\"127.0564\" cy=\"181.7885\" r=\"4.252\" fill=\"none\" stroke=\"rgba(64,220,64,0.9412)\" stroke-width=\"1.5\" stroke-miterlimit=\"10\"/>\n",
       "<circle cx=\"79.5074\" cy=\"205.6339\" r=\"4.252\" fill=\"none\" stroke=\"rgba(64,220,64,0.9412)\" stroke-width=\"1.5\" stroke-miterlimit=\"10\"/>\n",
       "<circle cx=\"110.3373\" cy=\"114.4644\" r=\"4.252\" fill=\"none\" stroke=\"rgba(64,220,64,0.9412)\" stroke-width=\"1.5\" stroke-miterlimit=\"10\"/>\n",
       "<circle cx=\"74.2873\" cy=\"113.2412\" r=\"4.252\" fill=\"none\" stroke=\"rgba(64,220,64,0.9412)\" stroke-width=\"1.5\" stroke-miterlimit=\"10\"/>\n",
       "<circle cx=\"64.9955\" cy=\"197.4696\" r=\"4.252\" fill=\"none\" stroke=\"rgba(64,220,64,0.9412)\" stroke-width=\"1.5\" stroke-miterlimit=\"10\"/>\n",
       "<circle cx=\"122.4105\" cy=\"182.0765\" r=\"4.252\" fill=\"none\" stroke=\"rgba(64,220,64,0.9412)\" stroke-width=\"1.5\" stroke-miterlimit=\"10\"/>\n",
       "<circle cx=\"165.7051\" cy=\"29.0825\" r=\"4.252\" fill=\"none\" stroke=\"rgba(64,220,64,0.9412)\" stroke-width=\"1.5\" stroke-miterlimit=\"10\"/>\n",
       "<circle cx=\"184.7454\" cy=\"103.084\" r=\"4.252\" fill=\"none\" stroke=\"rgba(64,220,64,0.9412)\" stroke-width=\"1.5\" stroke-miterlimit=\"10\"/>\n",
       "<circle cx=\"127.0583\" cy=\"167.6867\" r=\"4.252\" fill=\"none\" stroke=\"rgba(64,220,64,0.9412)\" stroke-width=\"1.5\" stroke-miterlimit=\"10\"/>\n",
       "<circle cx=\"119.8281\" cy=\"170.9319\" r=\"4.252\" fill=\"none\" stroke=\"rgba(64,220,64,0.9412)\" stroke-width=\"1.5\" stroke-miterlimit=\"10\"/>\n",
       "<circle cx=\"98.4331\" cy=\"138.99\" r=\"4.252\" fill=\"none\" stroke=\"rgba(64,220,64,0.9412)\" stroke-width=\"1.5\" stroke-miterlimit=\"10\"/>\n",
       "<circle cx=\"189.3074\" cy=\"156.1359\" r=\"4.252\" fill=\"none\" stroke=\"rgba(64,220,64,0.9412)\" stroke-width=\"1.5\" stroke-miterlimit=\"10\"/>\n",
       "<circle cx=\"181.8114\" cy=\"251.5978\" r=\"4.252\" fill=\"none\" stroke=\"rgba(64,220,64,0.9412)\" stroke-width=\"1.5\" stroke-miterlimit=\"10\"/>\n",
       "<circle cx=\"80.6436\" cy=\"171.7951\" r=\"4.252\" fill=\"none\" stroke=\"rgba(64,220,64,0.9412)\" stroke-width=\"1.5\" stroke-miterlimit=\"10\"/>\n",
       "<circle cx=\"161.3993\" cy=\"179.7058\" r=\"4.252\" fill=\"none\" stroke=\"rgba(64,220,64,0.9412)\" stroke-width=\"1.5\" stroke-miterlimit=\"10\"/>\n",
       "<circle cx=\"86.7952\" cy=\"210.2223\" r=\"4.252\" fill=\"none\" stroke=\"rgba(64,220,64,0.9412)\" stroke-width=\"1.5\" stroke-miterlimit=\"10\"/>\n",
       "<circle cx=\"77.311\" cy=\"117.1186\" r=\"4.252\" fill=\"none\" stroke=\"rgba(64,220,64,0.9412)\" stroke-width=\"1.5\" stroke-miterlimit=\"10\"/>\n",
       "<circle cx=\"102.0382\" cy=\"165.1579\" r=\"4.252\" fill=\"none\" stroke=\"rgba(64,220,64,0.9412)\" stroke-width=\"1.5\" stroke-miterlimit=\"10\"/>\n",
       "<circle cx=\"60.0505\" cy=\"215.6559\" r=\"4.252\" fill=\"none\" stroke=\"rgba(64,220,64,0.9412)\" stroke-width=\"1.5\" stroke-miterlimit=\"10\"/>\n",
       "<circle cx=\"122.7665\" cy=\"63.1529\" r=\"4.252\" fill=\"none\" stroke=\"rgba(64,220,64,0.9412)\" stroke-width=\"1.5\" stroke-miterlimit=\"10\"/>\n",
       "<circle cx=\"73.3081\" cy=\"94.551\" r=\"4.252\" fill=\"none\" stroke=\"rgba(64,220,64,0.9412)\" stroke-width=\"1.5\" stroke-miterlimit=\"10\"/>\n",
       "<circle cx=\"175.8285\" cy=\"144.9323\" r=\"4.252\" fill=\"none\" stroke=\"rgba(64,220,64,0.9412)\" stroke-width=\"1.5\" stroke-miterlimit=\"10\"/>\n",
       "<circle cx=\"235.6211\" cy=\"193.8701\" r=\"4.252\" fill=\"none\" stroke=\"rgba(64,220,64,0.9412)\" stroke-width=\"1.5\" stroke-miterlimit=\"10\"/>\n",
       "<circle cx=\"216.4622\" cy=\"169.5622\" r=\"4.252\" fill=\"none\" stroke=\"rgba(64,220,64,0.9412)\" stroke-width=\"1.5\" stroke-miterlimit=\"10\"/>\n",
       "<circle cx=\"195.6385\" cy=\"100.8189\" r=\"4.252\" fill=\"none\" stroke=\"rgba(64,220,64,0.9412)\" stroke-width=\"1.5\" stroke-miterlimit=\"10\"/>\n",
       "<circle cx=\"151.9436\" cy=\"156.5919\" r=\"4.252\" fill=\"none\" stroke=\"rgba(64,220,64,0.9412)\" stroke-width=\"1.5\" stroke-miterlimit=\"10\"/>\n",
       "<circle cx=\"104.4537\" cy=\"205.3068\" r=\"4.252\" fill=\"none\" stroke=\"rgba(64,220,64,0.9412)\" stroke-width=\"1.5\" stroke-miterlimit=\"10\"/>\n",
       "<circle cx=\"111.7688\" cy=\"129.6611\" r=\"4.252\" fill=\"none\" stroke=\"rgba(64,220,64,0.9412)\" stroke-width=\"1.5\" stroke-miterlimit=\"10\"/>\n",
       "<circle cx=\"70.2984\" cy=\"113.3933\" r=\"4.252\" fill=\"none\" stroke=\"rgba(64,220,64,0.9412)\" stroke-width=\"1.5\" stroke-miterlimit=\"10\"/>\n",
       "<circle cx=\"168.006\" cy=\"192.4231\" r=\"4.252\" fill=\"none\" stroke=\"rgba(64,220,64,0.9412)\" stroke-width=\"1.5\" stroke-miterlimit=\"10\"/>\n",
       "<circle cx=\"227.9249\" cy=\"131.9847\" r=\"4.252\" fill=\"none\" stroke=\"rgba(64,220,64,0.9412)\" stroke-width=\"1.5\" stroke-miterlimit=\"10\"/>\n",
       "<circle cx=\"75.881\" cy=\"109.8709\" r=\"4.252\" fill=\"none\" stroke=\"rgba(64,220,64,0.9412)\" stroke-width=\"1.5\" stroke-miterlimit=\"10\"/>\n",
       "<circle cx=\"121.2269\" cy=\"79.8293\" r=\"4.252\" fill=\"none\" stroke=\"rgba(64,220,64,0.9412)\" stroke-width=\"1.5\" stroke-miterlimit=\"10\"/>\n",
       "<circle cx=\"198.3456\" cy=\"194.1582\" r=\"4.252\" fill=\"none\" stroke=\"rgba(64,220,64,0.9412)\" stroke-width=\"1.5\" stroke-miterlimit=\"10\"/>\n",
       "<circle cx=\"187.5185\" cy=\"139.6571\" r=\"4.252\" fill=\"none\" stroke=\"rgba(64,220,64,0.9412)\" stroke-width=\"1.5\" stroke-miterlimit=\"10\"/>\n",
       "<circle cx=\"147.7551\" cy=\"137.7621\" r=\"4.252\" fill=\"none\" stroke=\"rgba(64,220,64,0.9412)\" stroke-width=\"1.5\" stroke-miterlimit=\"10\"/>\n",
       "<circle cx=\"213.1012\" cy=\"171.0273\" r=\"4.252\" fill=\"none\" stroke=\"rgba(64,220,64,0.9412)\" stroke-width=\"1.5\" stroke-miterlimit=\"10\"/>\n",
       "<circle cx=\"148.2187\" cy=\"179.9898\" r=\"4.252\" fill=\"none\" stroke=\"rgba(64,220,64,0.9412)\" stroke-width=\"1.5\" stroke-miterlimit=\"10\"/>\n",
       "<circle cx=\"79.9039\" cy=\"119.5212\" r=\"4.252\" fill=\"none\" stroke=\"rgba(64,220,64,0.9412)\" stroke-width=\"1.5\" stroke-miterlimit=\"10\"/>\n",
       "<circle cx=\"88.9923\" cy=\"226.1865\" r=\"4.252\" fill=\"none\" stroke=\"rgba(64,220,64,0.9412)\" stroke-width=\"1.5\" stroke-miterlimit=\"10\"/>\n",
       "<circle cx=\"240.4961\" cy=\"234.5057\" r=\"4.252\" fill=\"none\" stroke=\"rgba(64,220,64,0.9412)\" stroke-width=\"1.5\" stroke-miterlimit=\"10\"/>\n",
       "<circle cx=\"116.1495\" cy=\"161.6029\" r=\"4.252\" fill=\"none\" stroke=\"rgba(64,220,64,0.9412)\" stroke-width=\"1.5\" stroke-miterlimit=\"10\"/>\n",
       "<circle cx=\"168.7473\" cy=\"115.5859\" r=\"4.252\" fill=\"none\" stroke=\"rgba(64,220,64,0.9412)\" stroke-width=\"1.5\" stroke-miterlimit=\"10\"/>\n",
       "<circle cx=\"97.5848\" cy=\"85.7596\" r=\"4.252\" fill=\"none\" stroke=\"rgba(64,220,64,0.9412)\" stroke-width=\"1.5\" stroke-miterlimit=\"10\"/>\n",
       "<circle cx=\"194.0514\" cy=\"79.0429\" r=\"4.252\" fill=\"none\" stroke=\"rgba(64,220,64,0.9412)\" stroke-width=\"1.5\" stroke-miterlimit=\"10\"/>\n",
       "<circle cx=\"101.3513\" cy=\"156.9354\" r=\"4.252\" fill=\"none\" stroke=\"rgba(64,220,64,0.9412)\" stroke-width=\"1.5\" stroke-miterlimit=\"10\"/>\n",
       "<circle cx=\"57.9667\" cy=\"45.9226\" r=\"4.252\" fill=\"none\" stroke=\"rgba(64,220,64,0.9412)\" stroke-width=\"1.5\" stroke-miterlimit=\"10\"/>\n",
       "<circle cx=\"211.3156\" cy=\"310.4611\" r=\"4.252\" fill=\"none\" stroke=\"rgba(64,220,64,0.9412)\" stroke-width=\"1.5\" stroke-miterlimit=\"10\"/>\n",
       "<circle cx=\"31.5451\" cy=\"126.4231\" r=\"4.252\" fill=\"none\" stroke=\"rgba(64,220,64,0.9412)\" stroke-width=\"1.5\" stroke-miterlimit=\"10\"/>\n",
       "<circle cx=\"123.3383\" cy=\"97.5976\" r=\"4.252\" fill=\"none\" stroke=\"rgba(64,220,64,0.9412)\" stroke-width=\"1.5\" stroke-miterlimit=\"10\"/>\n",
       "<circle cx=\"95.219\" cy=\"117.3377\" r=\"4.252\" fill=\"none\" stroke=\"rgba(64,220,64,0.9412)\" stroke-width=\"1.5\" stroke-miterlimit=\"10\"/>\n",
       "<circle cx=\"162.4533\" cy=\"130.5608\" r=\"4.252\" fill=\"none\" stroke=\"rgba(64,220,64,0.9412)\" stroke-width=\"1.5\" stroke-miterlimit=\"10\"/>\n",
       "<circle cx=\"321.5207\" cy=\"188.8196\" r=\"4.252\" fill=\"none\" stroke=\"rgba(64,220,64,0.9412)\" stroke-width=\"1.5\" stroke-miterlimit=\"10\"/>\n",
       "<circle cx=\"195.0777\" cy=\"175.4635\" r=\"4.252\" fill=\"none\" stroke=\"rgba(64,220,64,0.9412)\" stroke-width=\"1.5\" stroke-miterlimit=\"10\"/>\n",
       "<circle cx=\"126.2731\" cy=\"184.3585\" r=\"4.252\" fill=\"none\" stroke=\"rgba(64,220,64,0.9412)\" stroke-width=\"1.5\" stroke-miterlimit=\"10\"/>\n",
       "<circle cx=\"99.6696\" cy=\"61.2399\" r=\"4.252\" fill=\"none\" stroke=\"rgba(64,220,64,0.9412)\" stroke-width=\"1.5\" stroke-miterlimit=\"10\"/>\n",
       "<circle cx=\"183.3042\" cy=\"199.2377\" r=\"4.252\" fill=\"none\" stroke=\"rgba(64,220,64,0.9412)\" stroke-width=\"1.5\" stroke-miterlimit=\"10\"/>\n",
       "<circle cx=\"102.0834\" cy=\"82.7592\" r=\"4.252\" fill=\"none\" stroke=\"rgba(64,220,64,0.9412)\" stroke-width=\"1.5\" stroke-miterlimit=\"10\"/>\n",
       "<circle cx=\"154.3558\" cy=\"92.277\" r=\"4.252\" fill=\"none\" stroke=\"rgba(64,220,64,0.9412)\" stroke-width=\"1.5\" stroke-miterlimit=\"10\"/>\n",
       "<circle cx=\"168.4639\" cy=\"175.248\" r=\"4.252\" fill=\"none\" stroke=\"rgba(64,220,64,0.9412)\" stroke-width=\"1.5\" stroke-miterlimit=\"10\"/>\n",
       "<circle cx=\"280.0063\" cy=\"207.5888\" r=\"4.252\" fill=\"none\" stroke=\"rgba(64,220,64,0.9412)\" stroke-width=\"1.5\" stroke-miterlimit=\"10\"/>\n",
       "<circle cx=\"101.7733\" cy=\"105.0296\" r=\"4.252\" fill=\"none\" stroke=\"rgba(64,220,64,0.9412)\" stroke-width=\"1.5\" stroke-miterlimit=\"10\"/>\n",
       "<circle cx=\"138.8026\" cy=\"133.2462\" r=\"4.252\" fill=\"none\" stroke=\"rgba(64,220,64,0.9412)\" stroke-width=\"1.5\" stroke-miterlimit=\"10\"/>\n",
       "<circle cx=\"80.3546\" cy=\"67.1333\" r=\"5.6693\" fill=\"none\" stroke=\"rgba(0,128,255,0.9412)\" stroke-width=\"2\" stroke-miterlimit=\"10\"/>\n",
       "<circle cx=\"114.0384\" cy=\"166.933\" r=\"5.6693\" fill=\"none\" stroke=\"rgba(0,128,255,0.9412)\" stroke-width=\"2\" stroke-miterlimit=\"10\"/>\n",
       "<circle cx=\"129.4094\" cy=\"154.0485\" r=\"5.6693\" fill=\"none\" stroke=\"rgba(0,128,255,0.9412)\" stroke-width=\"2\" stroke-miterlimit=\"10\"/>\n",
       "<circle cx=\"135.9585\" cy=\"78.3092\" r=\"5.6693\" fill=\"none\" stroke=\"rgba(0,128,255,0.9412)\" stroke-width=\"2\" stroke-miterlimit=\"10\"/>\n",
       "<circle cx=\"165.3773\" cy=\"202.6257\" r=\"5.6693\" fill=\"none\" stroke=\"rgba(0,128,255,0.9412)\" stroke-width=\"2\" stroke-miterlimit=\"10\"/>\n",
       "<circle cx=\"122.1483\" cy=\"203.636\" r=\"5.6693\" fill=\"none\" stroke=\"rgba(0,128,255,0.9412)\" stroke-width=\"2\" stroke-miterlimit=\"10\"/>\n",
       "<circle cx=\"170.5045\" cy=\"214.2546\" r=\"5.6693\" fill=\"none\" stroke=\"rgba(0,128,255,0.9412)\" stroke-width=\"2\" stroke-miterlimit=\"10\"/>\n",
       "<circle cx=\"119.1349\" cy=\"142.8316\" r=\"5.6693\" fill=\"none\" stroke=\"rgba(0,128,255,0.9412)\" stroke-width=\"2\" stroke-miterlimit=\"10\"/>\n",
       "<circle cx=\"212.4642\" cy=\"80.8908\" r=\"5.6693\" fill=\"none\" stroke=\"rgba(0,128,255,0.9412)\" stroke-width=\"2\" stroke-miterlimit=\"10\"/>\n",
       "<circle cx=\"163.0902\" cy=\"147.3415\" r=\"5.6693\" fill=\"none\" stroke=\"rgba(0,128,255,0.9412)\" stroke-width=\"2\" stroke-miterlimit=\"10\"/>\n",
       "<circle cx=\"58.2061\" cy=\"119.9363\" r=\"5.6693\" fill=\"none\" stroke=\"rgba(0,128,255,0.9412)\" stroke-width=\"2\" stroke-miterlimit=\"10\"/>\n",
       "<circle cx=\"71.7352\" cy=\"155.2877\" r=\"5.6693\" fill=\"none\" stroke=\"rgba(0,128,255,0.9412)\" stroke-width=\"2\" stroke-miterlimit=\"10\"/>\n",
       "<circle cx=\"73.7359\" cy=\"159.6245\" r=\"5.6693\" fill=\"none\" stroke=\"rgba(0,128,255,0.9412)\" stroke-width=\"2\" stroke-miterlimit=\"10\"/>\n",
       "<circle cx=\"79.8589\" cy=\"106.951\" r=\"5.6693\" fill=\"none\" stroke=\"rgba(0,128,255,0.9412)\" stroke-width=\"2\" stroke-miterlimit=\"10\"/>\n",
       "<circle cx=\"79.0654\" cy=\"91.7037\" r=\"5.6693\" fill=\"none\" stroke=\"rgba(0,128,255,0.9412)\" stroke-width=\"2\" stroke-miterlimit=\"10\"/>\n",
       "<circle cx=\"138.0639\" cy=\"140.2551\" r=\"5.6693\" fill=\"none\" stroke=\"rgba(0,128,255,0.9412)\" stroke-width=\"2\" stroke-miterlimit=\"10\"/>\n",
       "<circle cx=\"69.8615\" cy=\"161.8792\" r=\"5.6693\" fill=\"none\" stroke=\"rgba(0,128,255,0.9412)\" stroke-width=\"2\" stroke-miterlimit=\"10\"/>\n",
       "<circle cx=\"154.5965\" cy=\"179.23\" r=\"5.6693\" fill=\"none\" stroke=\"rgba(0,128,255,0.9412)\" stroke-width=\"2\" stroke-miterlimit=\"10\"/>\n",
       "<circle cx=\"139.2522\" cy=\"86.5741\" r=\"5.6693\" fill=\"none\" stroke=\"rgba(0,128,255,0.9412)\" stroke-width=\"2\" stroke-miterlimit=\"10\"/>\n",
       "<circle cx=\"115.2752\" cy=\"142.764\" r=\"5.6693\" fill=\"none\" stroke=\"rgba(0,128,255,0.9412)\" stroke-width=\"2\" stroke-miterlimit=\"10\"/>\n",
       "<circle cx=\"115.9654\" cy=\"133.4249\" r=\"5.6693\" fill=\"none\" stroke=\"rgba(0,128,255,0.9412)\" stroke-width=\"2\" stroke-miterlimit=\"10\"/>\n",
       "<circle cx=\"149.4537\" cy=\"155.8499\" r=\"5.6693\" fill=\"none\" stroke=\"rgba(0,128,255,0.9412)\" stroke-width=\"2\" stroke-miterlimit=\"10\"/>\n",
       "<circle cx=\"144.4639\" cy=\"110.7848\" r=\"5.6693\" fill=\"none\" stroke=\"rgba(0,128,255,0.9412)\" stroke-width=\"2\" stroke-miterlimit=\"10\"/>\n",
       "<circle cx=\"128.7486\" cy=\"181.3268\" r=\"5.6693\" fill=\"none\" stroke=\"rgba(0,128,255,0.9412)\" stroke-width=\"2\" stroke-miterlimit=\"10\"/>\n",
       "<circle cx=\"181.5545\" cy=\"79.9015\" r=\"5.6693\" fill=\"none\" stroke=\"rgba(0,128,255,0.9412)\" stroke-width=\"2\" stroke-miterlimit=\"10\"/>\n",
       "<circle cx=\"105.535\" cy=\"108.2649\" r=\"5.6693\" fill=\"none\" stroke=\"rgba(0,128,255,0.9412)\" stroke-width=\"2\" stroke-miterlimit=\"10\"/>\n",
       "<circle cx=\"91.9662\" cy=\"71.5537\" r=\"5.6693\" fill=\"none\" stroke=\"rgba(0,128,255,0.9412)\" stroke-width=\"2\" stroke-miterlimit=\"10\"/>\n",
       "<circle cx=\"144.5538\" cy=\"99.3034\" r=\"5.6693\" fill=\"none\" stroke=\"rgba(0,128,255,0.9412)\" stroke-width=\"2\" stroke-miterlimit=\"10\"/>\n",
       "<circle cx=\"164.7445\" cy=\"128.6404\" r=\"5.6693\" fill=\"none\" stroke=\"rgba(0,128,255,0.9412)\" stroke-width=\"2\" stroke-miterlimit=\"10\"/>\n",
       "<circle cx=\"117.8113\" cy=\"133.1678\" r=\"5.6693\" fill=\"none\" stroke=\"rgba(0,128,255,0.9412)\" stroke-width=\"2\" stroke-miterlimit=\"10\"/>\n",
       "<circle cx=\"191.7849\" cy=\"225.0641\" r=\"5.6693\" fill=\"none\" stroke=\"rgba(0,128,255,0.9412)\" stroke-width=\"2\" stroke-miterlimit=\"10\"/>\n",
       "<circle cx=\"176.266\" cy=\"171.0814\" r=\"5.6693\" fill=\"none\" stroke=\"rgba(0,128,255,0.9412)\" stroke-width=\"2\" stroke-miterlimit=\"10\"/>\n",
       "<circle cx=\"148.4675\" cy=\"97.6959\" r=\"5.6693\" fill=\"none\" stroke=\"rgba(0,128,255,0.9412)\" stroke-width=\"2\" stroke-miterlimit=\"10\"/>\n",
       "<circle cx=\"211.4486\" cy=\"189.836\" r=\"5.6693\" fill=\"none\" stroke=\"rgba(0,128,255,0.9412)\" stroke-width=\"2\" stroke-miterlimit=\"10\"/>\n",
       "<circle cx=\"196.0778\" cy=\"108.829\" r=\"5.6693\" fill=\"none\" stroke=\"rgba(0,128,255,0.9412)\" stroke-width=\"2\" stroke-miterlimit=\"10\"/>\n",
       "<circle cx=\"120.1466\" cy=\"98.8572\" r=\"5.6693\" fill=\"none\" stroke=\"rgba(0,128,255,0.9412)\" stroke-width=\"2\" stroke-miterlimit=\"10\"/>\n",
       "<circle cx=\"123.5444\" cy=\"200.2306\" r=\"5.6693\" fill=\"none\" stroke=\"rgba(0,128,255,0.9412)\" stroke-width=\"2\" stroke-miterlimit=\"10\"/>\n",
       "<circle cx=\"111.2244\" cy=\"176.311\" r=\"5.6693\" fill=\"none\" stroke=\"rgba(0,128,255,0.9412)\" stroke-width=\"2\" stroke-miterlimit=\"10\"/>\n",
       "<circle cx=\"127.7672\" cy=\"151.3031\" r=\"5.6693\" fill=\"none\" stroke=\"rgba(0,128,255,0.9412)\" stroke-width=\"2\" stroke-miterlimit=\"10\"/>\n",
       "<circle cx=\"172.9455\" cy=\"180.4337\" r=\"5.6693\" fill=\"none\" stroke=\"rgba(0,128,255,0.9412)\" stroke-width=\"2\" stroke-miterlimit=\"10\"/>\n",
       "<circle cx=\"212.5839\" cy=\"113.4189\" r=\"5.6693\" fill=\"none\" stroke=\"rgba(0,128,255,0.9412)\" stroke-width=\"2\" stroke-miterlimit=\"10\"/>\n",
       "<circle cx=\"96.8316\" cy=\"160.0991\" r=\"5.6693\" fill=\"none\" stroke=\"rgba(0,128,255,0.9412)\" stroke-width=\"2\" stroke-miterlimit=\"10\"/>\n",
       "<circle cx=\"198.9107\" cy=\"95.9939\" r=\"5.6693\" fill=\"none\" stroke=\"rgba(0,128,255,0.9412)\" stroke-width=\"2\" stroke-miterlimit=\"10\"/>\n",
       "<circle cx=\"92.4474\" cy=\"166.7355\" r=\"5.6693\" fill=\"none\" stroke=\"rgba(0,128,255,0.9412)\" stroke-width=\"2\" stroke-miterlimit=\"10\"/>\n",
       "<circle cx=\"110.0214\" cy=\"198.0943\" r=\"5.6693\" fill=\"none\" stroke=\"rgba(0,128,255,0.9412)\" stroke-width=\"2\" stroke-miterlimit=\"10\"/>\n",
       "<circle cx=\"204.5143\" cy=\"92.4088\" r=\"5.6693\" fill=\"none\" stroke=\"rgba(0,128,255,0.9412)\" stroke-width=\"2\" stroke-miterlimit=\"10\"/>\n",
       "<circle cx=\"216.8363\" cy=\"59.7318\" r=\"5.6693\" fill=\"none\" stroke=\"rgba(0,128,255,0.9412)\" stroke-width=\"2\" stroke-miterlimit=\"10\"/>\n",
       "<circle cx=\"164.135\" cy=\"121.7401\" r=\"5.6693\" fill=\"none\" stroke=\"rgba(0,128,255,0.9412)\" stroke-width=\"2\" stroke-miterlimit=\"10\"/>\n",
       "<circle cx=\"188.0568\" cy=\"116.5895\" r=\"5.6693\" fill=\"none\" stroke=\"rgba(0,128,255,0.9412)\" stroke-width=\"2\" stroke-miterlimit=\"10\"/>\n",
       "<circle cx=\"221.0549\" cy=\"116.3129\" r=\"5.6693\" fill=\"none\" stroke=\"rgba(0,128,255,0.9412)\" stroke-width=\"2\" stroke-miterlimit=\"10\"/>\n",
       "<circle cx=\"148.4975\" cy=\"134.2675\" r=\"5.6693\" fill=\"none\" stroke=\"rgba(0,128,255,0.9412)\" stroke-width=\"2\" stroke-miterlimit=\"10\"/>\n",
       "<circle cx=\"124.263\" cy=\"68.6449\" r=\"5.6693\" fill=\"none\" stroke=\"rgba(0,128,255,0.9412)\" stroke-width=\"2\" stroke-miterlimit=\"10\"/>\n",
       "<circle cx=\"139.63\" cy=\"180.3855\" r=\"5.6693\" fill=\"none\" stroke=\"rgba(0,128,255,0.9412)\" stroke-width=\"2\" stroke-miterlimit=\"10\"/>\n",
       "<circle cx=\"155.8664\" cy=\"195.1785\" r=\"5.6693\" fill=\"none\" stroke=\"rgba(0,128,255,0.9412)\" stroke-width=\"2\" stroke-miterlimit=\"10\"/>\n",
       "<circle cx=\"150.5571\" cy=\"113.3989\" r=\"5.6693\" fill=\"none\" stroke=\"rgba(0,128,255,0.9412)\" stroke-width=\"2\" stroke-miterlimit=\"10\"/>\n",
       "<circle cx=\"135.3625\" cy=\"82.5496\" r=\"5.6693\" fill=\"none\" stroke=\"rgba(0,128,255,0.9412)\" stroke-width=\"2\" stroke-miterlimit=\"10\"/>\n",
       "<circle cx=\"122.3598\" cy=\"109.8468\" r=\"5.6693\" fill=\"none\" stroke=\"rgba(0,128,255,0.9412)\" stroke-width=\"2\" stroke-miterlimit=\"10\"/>\n",
       "<circle cx=\"209.4733\" cy=\"143.3212\" r=\"5.6693\" fill=\"none\" stroke=\"rgba(0,128,255,0.9412)\" stroke-width=\"2\" stroke-miterlimit=\"10\"/>\n",
       "<circle cx=\"129.8655\" cy=\"80.0831\" r=\"5.6693\" fill=\"none\" stroke=\"rgba(0,128,255,0.9412)\" stroke-width=\"2\" stroke-miterlimit=\"10\"/>\n",
       "<circle cx=\"112.3685\" cy=\"98.3849\" r=\"5.6693\" fill=\"none\" stroke=\"rgba(0,128,255,0.9412)\" stroke-width=\"2\" stroke-miterlimit=\"10\"/>\n",
       "<circle cx=\"135.3537\" cy=\"113.5448\" r=\"5.6693\" fill=\"none\" stroke=\"rgba(0,128,255,0.9412)\" stroke-width=\"2\" stroke-miterlimit=\"10\"/>\n",
       "<circle cx=\"166.4754\" cy=\"179.3701\" r=\"5.6693\" fill=\"none\" stroke=\"rgba(0,128,255,0.9412)\" stroke-width=\"2\" stroke-miterlimit=\"10\"/>\n",
       "<circle cx=\"191.9648\" cy=\"76.8942\" r=\"5.6693\" fill=\"none\" stroke=\"rgba(0,128,255,0.9412)\" stroke-width=\"2\" stroke-miterlimit=\"10\"/>\n",
       "<circle cx=\"152.6472\" cy=\"86.1084\" r=\"5.6693\" fill=\"none\" stroke=\"rgba(0,128,255,0.9412)\" stroke-width=\"2\" stroke-miterlimit=\"10\"/>\n",
       "<circle cx=\"206.2057\" cy=\"157.701\" r=\"5.6693\" fill=\"none\" stroke=\"rgba(0,128,255,0.9412)\" stroke-width=\"2\" stroke-miterlimit=\"10\"/>\n",
       "<circle cx=\"133.7857\" cy=\"210.2737\" r=\"5.6693\" fill=\"none\" stroke=\"rgba(0,128,255,0.9412)\" stroke-width=\"2\" stroke-miterlimit=\"10\"/>\n",
       "<circle cx=\"127.8931\" cy=\"171.8078\" r=\"5.6693\" fill=\"none\" stroke=\"rgba(0,128,255,0.9412)\" stroke-width=\"2\" stroke-miterlimit=\"10\"/>\n",
       "<circle cx=\"193.625\" cy=\"147.2721\" r=\"5.6693\" fill=\"none\" stroke=\"rgba(0,128,255,0.9412)\" stroke-width=\"2\" stroke-miterlimit=\"10\"/>\n",
       "<circle cx=\"134.4688\" cy=\"140.1357\" r=\"5.6693\" fill=\"none\" stroke=\"rgba(0,128,255,0.9412)\" stroke-width=\"2\" stroke-miterlimit=\"10\"/>\n",
       "<circle cx=\"166.2341\" cy=\"172.9726\" r=\"5.6693\" fill=\"none\" stroke=\"rgba(0,128,255,0.9412)\" stroke-width=\"2\" stroke-miterlimit=\"10\"/>\n",
       "<circle cx=\"215.7408\" cy=\"102.8962\" r=\"5.6693\" fill=\"none\" stroke=\"rgba(0,128,255,0.9412)\" stroke-width=\"2\" stroke-miterlimit=\"10\"/>\n",
       "<circle cx=\"212.6467\" cy=\"153.9182\" r=\"5.6693\" fill=\"none\" stroke=\"rgba(0,128,255,0.9412)\" stroke-width=\"2\" stroke-miterlimit=\"10\"/>\n",
       "<circle cx=\"138.8661\" cy=\"208.0927\" r=\"5.6693\" fill=\"none\" stroke=\"rgba(0,128,255,0.9412)\" stroke-width=\"2\" stroke-miterlimit=\"10\"/>\n",
       "<circle cx=\"202.3672\" cy=\"86.043\" r=\"5.6693\" fill=\"none\" stroke=\"rgba(0,128,255,0.9412)\" stroke-width=\"2\" stroke-miterlimit=\"10\"/>\n",
       "<circle cx=\"137.1781\" cy=\"138.1587\" r=\"5.6693\" fill=\"none\" stroke=\"rgba(0,128,255,0.9412)\" stroke-width=\"2\" stroke-miterlimit=\"10\"/>\n",
       "<circle cx=\"149.1081\" cy=\"202.2308\" r=\"5.6693\" fill=\"none\" stroke=\"rgba(0,128,255,0.9412)\" stroke-width=\"2\" stroke-miterlimit=\"10\"/>\n",
       "<circle cx=\"150.9346\" cy=\"163.4021\" r=\"5.6693\" fill=\"none\" stroke=\"rgba(0,128,255,0.9412)\" stroke-width=\"2\" stroke-miterlimit=\"10\"/>\n",
       "<circle cx=\"219.4325\" cy=\"187.8716\" r=\"5.6693\" fill=\"none\" stroke=\"rgba(0,128,255,0.9412)\" stroke-width=\"2\" stroke-miterlimit=\"10\"/>\n",
       "<circle cx=\"131.3762\" cy=\"225.0763\" r=\"5.6693\" fill=\"none\" stroke=\"rgba(0,128,255,0.9412)\" stroke-width=\"2\" stroke-miterlimit=\"10\"/>\n",
       "<circle cx=\"130.4384\" cy=\"184.5252\" r=\"5.6693\" fill=\"none\" stroke=\"rgba(0,128,255,0.9412)\" stroke-width=\"2\" stroke-miterlimit=\"10\"/>\n",
       "<circle cx=\"137.0348\" cy=\"79.1767\" r=\"5.6693\" fill=\"none\" stroke=\"rgba(0,128,255,0.9412)\" stroke-width=\"2\" stroke-miterlimit=\"10\"/>\n",
       "<circle cx=\"116.4783\" cy=\"136.9821\" r=\"5.6693\" fill=\"none\" stroke=\"rgba(0,128,255,0.9412)\" stroke-width=\"2\" stroke-miterlimit=\"10\"/>\n",
       "<circle cx=\"206.1634\" cy=\"207.121\" r=\"5.6693\" fill=\"none\" stroke=\"rgba(0,128,255,0.9412)\" stroke-width=\"2\" stroke-miterlimit=\"10\"/>\n",
       "<circle cx=\"188.3119\" cy=\"97.0099\" r=\"5.6693\" fill=\"none\" stroke=\"rgba(0,128,255,0.9412)\" stroke-width=\"2\" stroke-miterlimit=\"10\"/>\n",
       "<circle cx=\"117.2711\" cy=\"74.225\" r=\"5.6693\" fill=\"none\" stroke=\"rgba(0,128,255,0.9412)\" stroke-width=\"2\" stroke-miterlimit=\"10\"/>\n",
       "<circle cx=\"215.2558\" cy=\"209.4763\" r=\"5.6693\" fill=\"none\" stroke=\"rgba(0,128,255,0.9412)\" stroke-width=\"2\" stroke-miterlimit=\"10\"/>\n",
       "<circle cx=\"189.1592\" cy=\"117.6668\" r=\"5.6693\" fill=\"none\" stroke=\"rgba(0,128,255,0.9412)\" stroke-width=\"2\" stroke-miterlimit=\"10\"/>\n",
       "<circle cx=\"107.9542\" cy=\"112.1383\" r=\"5.6693\" fill=\"none\" stroke=\"rgba(0,128,255,0.9412)\" stroke-width=\"2\" stroke-miterlimit=\"10\"/>\n",
       "<circle cx=\"204.9205\" cy=\"158.1976\" r=\"5.6693\" fill=\"none\" stroke=\"rgba(0,128,255,0.9412)\" stroke-width=\"2\" stroke-miterlimit=\"10\"/>\n",
       "<circle cx=\"130.506\" cy=\"162.9207\" r=\"5.6693\" fill=\"none\" stroke=\"rgba(0,128,255,0.9412)\" stroke-width=\"2\" stroke-miterlimit=\"10\"/>\n",
       "<circle cx=\"209.7076\" cy=\"88.0053\" r=\"5.6693\" fill=\"none\" stroke=\"rgba(0,128,255,0.9412)\" stroke-width=\"2\" stroke-miterlimit=\"10\"/>\n",
       "<circle cx=\"116.0021\" cy=\"183.158\" r=\"5.6693\" fill=\"none\" stroke=\"rgba(0,128,255,0.9412)\" stroke-width=\"2\" stroke-miterlimit=\"10\"/>\n",
       "<circle cx=\"61.0252\" cy=\"102.7823\" r=\"5.6693\" fill=\"none\" stroke=\"rgba(0,128,255,0.9412)\" stroke-width=\"2\" stroke-miterlimit=\"10\"/>\n",
       "<circle cx=\"167.8015\" cy=\"106.0362\" r=\"5.6693\" fill=\"none\" stroke=\"rgba(0,128,255,0.9412)\" stroke-width=\"2\" stroke-miterlimit=\"10\"/>\n",
       "<circle cx=\"189.187\" cy=\"150.9585\" r=\"5.6693\" fill=\"none\" stroke=\"rgba(0,128,255,0.9412)\" stroke-width=\"2\" stroke-miterlimit=\"10\"/>\n",
       "<circle cx=\"223.243\" cy=\"128.7675\" r=\"5.6693\" fill=\"none\" stroke=\"rgba(0,128,255,0.9412)\" stroke-width=\"2\" stroke-miterlimit=\"10\"/>\n",
       "<circle cx=\"135.268\" cy=\"125.4595\" r=\"5.6693\" fill=\"none\" stroke=\"rgba(0,128,255,0.9412)\" stroke-width=\"2\" stroke-miterlimit=\"10\"/>\n",
       "<circle cx=\"125.5437\" cy=\"213.6859\" r=\"5.6693\" fill=\"none\" stroke=\"rgba(0,128,255,0.9412)\" stroke-width=\"2\" stroke-miterlimit=\"10\"/>\n",
       "<circle cx=\"109.4222\" cy=\"111.0772\" r=\"5.6693\" fill=\"none\" stroke=\"rgba(0,128,255,0.9412)\" stroke-width=\"2\" stroke-miterlimit=\"10\"/>\n",
       "<circle cx=\"191.2796\" cy=\"115.7768\" r=\"5.6693\" fill=\"none\" stroke=\"rgba(0,128,255,0.9412)\" stroke-width=\"2\" stroke-miterlimit=\"10\"/>\n",
       "<circle cx=\"121.4551\" cy=\"174.0979\" r=\"5.6693\" fill=\"none\" stroke=\"rgba(0,128,255,0.9412)\" stroke-width=\"2\" stroke-miterlimit=\"10\"/>\n",
       "<circle cx=\"93.1034\" cy=\"111.3504\" r=\"5.6693\" fill=\"none\" stroke=\"rgba(0,128,255,0.9412)\" stroke-width=\"2\" stroke-miterlimit=\"10\"/>\n",
       "<circle cx=\"106.6291\" cy=\"135.6231\" r=\"5.6693\" fill=\"none\" stroke=\"rgba(0,128,255,0.9412)\" stroke-width=\"2\" stroke-miterlimit=\"10\"/>\n",
       "<circle cx=\"109.4368\" cy=\"113.1304\" r=\"5.6693\" fill=\"none\" stroke=\"rgba(0,128,255,0.9412)\" stroke-width=\"2\" stroke-miterlimit=\"10\"/>\n",
       "<circle cx=\"171.1808\" cy=\"71.6624\" r=\"5.6693\" fill=\"none\" stroke=\"rgba(0,128,255,0.9412)\" stroke-width=\"2\" stroke-miterlimit=\"10\"/>\n",
       "<circle cx=\"132.0262\" cy=\"175.9161\" r=\"5.6693\" fill=\"none\" stroke=\"rgba(0,128,255,0.9412)\" stroke-width=\"2\" stroke-miterlimit=\"10\"/>\n",
       "<circle cx=\"210.4422\" cy=\"218.2988\" r=\"5.6693\" fill=\"none\" stroke=\"rgba(0,128,255,0.9412)\" stroke-width=\"2\" stroke-miterlimit=\"10\"/>\n",
       "<circle cx=\"160.4678\" cy=\"131.6141\" r=\"5.6693\" fill=\"none\" stroke=\"rgba(0,128,255,0.9412)\" stroke-width=\"2\" stroke-miterlimit=\"10\"/>\n",
       "<circle cx=\"219.8655\" cy=\"98.8658\" r=\"5.6693\" fill=\"none\" stroke=\"rgba(0,128,255,0.9412)\" stroke-width=\"2\" stroke-miterlimit=\"10\"/>\n",
       "<circle cx=\"118.3098\" cy=\"183.1025\" r=\"5.6693\" fill=\"none\" stroke=\"rgba(0,128,255,0.9412)\" stroke-width=\"2\" stroke-miterlimit=\"10\"/>\n",
       "<circle cx=\"125.1255\" cy=\"174.6163\" r=\"5.6693\" fill=\"none\" stroke=\"rgba(0,128,255,0.9412)\" stroke-width=\"2\" stroke-miterlimit=\"10\"/>\n",
       "<circle cx=\"185.2917\" cy=\"193.6624\" r=\"5.6693\" fill=\"none\" stroke=\"rgba(0,128,255,0.9412)\" stroke-width=\"2\" stroke-miterlimit=\"10\"/>\n",
       "<circle cx=\"91.5738\" cy=\"68.5696\" r=\"5.6693\" fill=\"none\" stroke=\"rgba(0,128,255,0.9412)\" stroke-width=\"2\" stroke-miterlimit=\"10\"/>\n",
       "<circle cx=\"129.1975\" cy=\"92.9956\" r=\"5.6693\" fill=\"none\" stroke=\"rgba(0,128,255,0.9412)\" stroke-width=\"2\" stroke-miterlimit=\"10\"/>\n",
       "<circle cx=\"208.2434\" cy=\"144.9865\" r=\"5.6693\" fill=\"none\" stroke=\"rgba(0,128,255,0.9412)\" stroke-width=\"2\" stroke-miterlimit=\"10\"/>\n",
       "<circle cx=\"165.4878\" cy=\"116.9462\" r=\"5.6693\" fill=\"none\" stroke=\"rgba(0,128,255,0.9412)\" stroke-width=\"2\" stroke-miterlimit=\"10\"/>\n",
       "<circle cx=\"175.6358\" cy=\"128.5381\" r=\"5.6693\" fill=\"none\" stroke=\"rgba(0,128,255,0.9412)\" stroke-width=\"2\" stroke-miterlimit=\"10\"/>\n",
       "<circle cx=\"174.8879\" cy=\"108.2338\" r=\"5.6693\" fill=\"none\" stroke=\"rgba(0,128,255,0.9412)\" stroke-width=\"2\" stroke-miterlimit=\"10\"/>\n",
       "<circle cx=\"215.6404\" cy=\"146.5777\" r=\"5.6693\" fill=\"none\" stroke=\"rgba(0,128,255,0.9412)\" stroke-width=\"2\" stroke-miterlimit=\"10\"/>\n",
       "<circle cx=\"186.4357\" cy=\"136.6671\" r=\"5.6693\" fill=\"none\" stroke=\"rgba(0,128,255,0.9412)\" stroke-width=\"2\" stroke-miterlimit=\"10\"/>\n",
       "<circle cx=\"75.8383\" cy=\"87.7621\" r=\"5.6693\" fill=\"none\" stroke=\"rgba(0,128,255,0.9412)\" stroke-width=\"2\" stroke-miterlimit=\"10\"/>\n",
       "<circle cx=\"106.1283\" cy=\"118.9107\" r=\"5.6693\" fill=\"none\" stroke=\"rgba(0,128,255,0.9412)\" stroke-width=\"2\" stroke-miterlimit=\"10\"/>\n",
       "<circle cx=\"195.7379\" cy=\"146.8727\" r=\"5.6693\" fill=\"none\" stroke=\"rgba(0,128,255,0.9412)\" stroke-width=\"2\" stroke-miterlimit=\"10\"/>\n",
       "<circle cx=\"178.15\" cy=\"158.9519\" r=\"5.6693\" fill=\"none\" stroke=\"rgba(0,128,255,0.9412)\" stroke-width=\"2\" stroke-miterlimit=\"10\"/>\n",
       "<circle cx=\"91.2794\" cy=\"182.2479\" r=\"5.6693\" fill=\"none\" stroke=\"rgba(0,128,255,0.9412)\" stroke-width=\"2\" stroke-miterlimit=\"10\"/>\n",
       "<circle cx=\"127.807\" cy=\"70.8627\" r=\"5.6693\" fill=\"none\" stroke=\"rgba(0,128,255,0.9412)\" stroke-width=\"2\" stroke-miterlimit=\"10\"/>\n",
       "<circle cx=\"144.4627\" cy=\"120.9804\" r=\"5.6693\" fill=\"none\" stroke=\"rgba(0,128,255,0.9412)\" stroke-width=\"2\" stroke-miterlimit=\"10\"/>\n",
       "<circle cx=\"108.5407\" cy=\"106.9462\" r=\"5.6693\" fill=\"none\" stroke=\"rgba(0,128,255,0.9412)\" stroke-width=\"2\" stroke-miterlimit=\"10\"/>\n",
       "<circle cx=\"217.8189\" cy=\"169.8428\" r=\"5.6693\" fill=\"none\" stroke=\"rgba(0,128,255,0.9412)\" stroke-width=\"2\" stroke-miterlimit=\"10\"/>\n",
       "<circle cx=\"201.7014\" cy=\"156.4878\" r=\"5.6693\" fill=\"none\" stroke=\"rgba(0,128,255,0.9412)\" stroke-width=\"2\" stroke-miterlimit=\"10\"/>\n",
       "<circle cx=\"119.7429\" cy=\"60.8289\" r=\"5.6693\" fill=\"none\" stroke=\"rgba(0,128,255,0.9412)\" stroke-width=\"2\" stroke-miterlimit=\"10\"/>\n",
       "<circle cx=\"216.7897\" cy=\"136.5026\" r=\"5.6693\" fill=\"none\" stroke=\"rgba(0,128,255,0.9412)\" stroke-width=\"2\" stroke-miterlimit=\"10\"/>\n",
       "<circle cx=\"82.9963\" cy=\"78.0188\" r=\"5.6693\" fill=\"none\" stroke=\"rgba(0,128,255,0.9412)\" stroke-width=\"2\" stroke-miterlimit=\"10\"/>\n",
       "<circle cx=\"117.4067\" cy=\"102.8494\" r=\"5.6693\" fill=\"none\" stroke=\"rgba(0,128,255,0.9412)\" stroke-width=\"2\" stroke-miterlimit=\"10\"/>\n",
       "<circle cx=\"172.1411\" cy=\"89.7207\" r=\"5.6693\" fill=\"none\" stroke=\"rgba(0,128,255,0.9412)\" stroke-width=\"2\" stroke-miterlimit=\"10\"/>\n",
       "<circle cx=\"176.4694\" cy=\"159.6637\" r=\"5.6693\" fill=\"none\" stroke=\"rgba(0,128,255,0.9412)\" stroke-width=\"2\" stroke-miterlimit=\"10\"/>\n",
       "<circle cx=\"97.0478\" cy=\"152.3683\" r=\"5.6693\" fill=\"none\" stroke=\"rgba(0,128,255,0.9412)\" stroke-width=\"2\" stroke-miterlimit=\"10\"/>\n",
       "<circle cx=\"114.5056\" cy=\"168.1596\" r=\"5.6693\" fill=\"none\" stroke=\"rgba(0,128,255,0.9412)\" stroke-width=\"2\" stroke-miterlimit=\"10\"/>\n",
       "<circle cx=\"199.8495\" cy=\"120.5907\" r=\"5.6693\" fill=\"none\" stroke=\"rgba(0,128,255,0.9412)\" stroke-width=\"2\" stroke-miterlimit=\"10\"/>\n",
       "<circle cx=\"192.2131\" cy=\"138.0918\" r=\"5.6693\" fill=\"none\" stroke=\"rgba(0,128,255,0.9412)\" stroke-width=\"2\" stroke-miterlimit=\"10\"/>\n",
       "<circle cx=\"154.4808\" cy=\"78.2597\" r=\"5.6693\" fill=\"none\" stroke=\"rgba(0,128,255,0.9412)\" stroke-width=\"2\" stroke-miterlimit=\"10\"/>\n",
       "<circle cx=\"159.9459\" cy=\"77.6167\" r=\"5.6693\" fill=\"none\" stroke=\"rgba(0,128,255,0.9412)\" stroke-width=\"2\" stroke-miterlimit=\"10\"/>\n",
       "<circle cx=\"164.6564\" cy=\"166.5902\" r=\"5.6693\" fill=\"none\" stroke=\"rgba(0,128,255,0.9412)\" stroke-width=\"2\" stroke-miterlimit=\"10\"/>\n",
       "<circle cx=\"143.1858\" cy=\"207.2122\" r=\"5.6693\" fill=\"none\" stroke=\"rgba(0,128,255,0.9412)\" stroke-width=\"2\" stroke-miterlimit=\"10\"/>\n",
       "<circle cx=\"198.064\" cy=\"182.5247\" r=\"5.6693\" fill=\"none\" stroke=\"rgba(0,128,255,0.9412)\" stroke-width=\"2\" stroke-miterlimit=\"10\"/>\n",
       "<circle cx=\"118.6501\" cy=\"142.3658\" r=\"5.6693\" fill=\"none\" stroke=\"rgba(0,128,255,0.9412)\" stroke-width=\"2\" stroke-miterlimit=\"10\"/>\n",
       "<circle cx=\"161.1346\" cy=\"150.2928\" r=\"5.6693\" fill=\"none\" stroke=\"rgba(0,128,255,0.9412)\" stroke-width=\"2\" stroke-miterlimit=\"10\"/>\n",
       "<circle cx=\"142.9949\" cy=\"136.7093\" r=\"5.6693\" fill=\"none\" stroke=\"rgba(0,128,255,0.9412)\" stroke-width=\"2\" stroke-miterlimit=\"10\"/>\n",
       "<circle cx=\"94.8923\" cy=\"160.3156\" r=\"5.6693\" fill=\"none\" stroke=\"rgba(0,128,255,0.9412)\" stroke-width=\"2\" stroke-miterlimit=\"10\"/>\n",
       "<circle cx=\"135.4087\" cy=\"154.8968\" r=\"5.6693\" fill=\"none\" stroke=\"rgba(0,128,255,0.9412)\" stroke-width=\"2\" stroke-miterlimit=\"10\"/>\n",
       "<circle cx=\"70.5841\" cy=\"121.7143\" r=\"5.6693\" fill=\"none\" stroke=\"rgba(0,128,255,0.9412)\" stroke-width=\"2\" stroke-miterlimit=\"10\"/>\n",
       "<circle cx=\"222.0746\" cy=\"151.7583\" r=\"5.6693\" fill=\"none\" stroke=\"rgba(0,128,255,0.9412)\" stroke-width=\"2\" stroke-miterlimit=\"10\"/>\n",
       "<circle cx=\"147.5841\" cy=\"179.4147\" r=\"5.6693\" fill=\"none\" stroke=\"rgba(0,128,255,0.9412)\" stroke-width=\"2\" stroke-miterlimit=\"10\"/>\n",
       "<circle cx=\"104.8187\" cy=\"138.6354\" r=\"5.6693\" fill=\"none\" stroke=\"rgba(0,128,255,0.9412)\" stroke-width=\"2\" stroke-miterlimit=\"10\"/>\n",
       "<circle cx=\"220.8651\" cy=\"188.7514\" r=\"5.6693\" fill=\"none\" stroke=\"rgba(0,128,255,0.9412)\" stroke-width=\"2\" stroke-miterlimit=\"10\"/>\n",
       "<circle cx=\"105.472\" cy=\"151.7875\" r=\"5.6693\" fill=\"none\" stroke=\"rgba(0,128,255,0.9412)\" stroke-width=\"2\" stroke-miterlimit=\"10\"/>\n",
       "<circle cx=\"124.9096\" cy=\"210.2214\" r=\"5.6693\" fill=\"none\" stroke=\"rgba(0,128,255,0.9412)\" stroke-width=\"2\" stroke-miterlimit=\"10\"/>\n",
       "<circle cx=\"91.6356\" cy=\"161.6536\" r=\"5.6693\" fill=\"none\" stroke=\"rgba(0,128,255,0.9412)\" stroke-width=\"2\" stroke-miterlimit=\"10\"/>\n",
       "<circle cx=\"150.7324\" cy=\"79.8381\" r=\"5.6693\" fill=\"none\" stroke=\"rgba(0,128,255,0.9412)\" stroke-width=\"2\" stroke-miterlimit=\"10\"/>\n",
       "<circle cx=\"100.3186\" cy=\"213.52\" r=\"5.6693\" fill=\"none\" stroke=\"rgba(0,128,255,0.9412)\" stroke-width=\"2\" stroke-miterlimit=\"10\"/>\n",
       "<circle cx=\"103.6038\" cy=\"171.9684\" r=\"5.6693\" fill=\"none\" stroke=\"rgba(0,128,255,0.9412)\" stroke-width=\"2\" stroke-miterlimit=\"10\"/>\n",
       "<circle cx=\"88.465\" cy=\"125.7521\" r=\"5.6693\" fill=\"none\" stroke=\"rgba(0,128,255,0.9412)\" stroke-width=\"2\" stroke-miterlimit=\"10\"/>\n",
       "<circle cx=\"150.9489\" cy=\"135.3534\" r=\"5.6693\" fill=\"none\" stroke=\"rgba(0,128,255,0.9412)\" stroke-width=\"2\" stroke-miterlimit=\"10\"/>\n",
       "<circle cx=\"144.0714\" cy=\"115.3265\" r=\"5.6693\" fill=\"none\" stroke=\"rgba(0,128,255,0.9412)\" stroke-width=\"2\" stroke-miterlimit=\"10\"/>\n",
       "<circle cx=\"222.3325\" cy=\"152.1829\" r=\"5.6693\" fill=\"none\" stroke=\"rgba(0,128,255,0.9412)\" stroke-width=\"2\" stroke-miterlimit=\"10\"/>\n",
       "<circle cx=\"155.2605\" cy=\"87.7065\" r=\"5.6693\" fill=\"none\" stroke=\"rgba(0,128,255,0.9412)\" stroke-width=\"2\" stroke-miterlimit=\"10\"/>\n",
       "<circle cx=\"141.1977\" cy=\"141.2752\" r=\"5.6693\" fill=\"none\" stroke=\"rgba(0,128,255,0.9412)\" stroke-width=\"2\" stroke-miterlimit=\"10\"/>\n",
       "<circle cx=\"215.6947\" cy=\"82.0081\" r=\"5.6693\" fill=\"none\" stroke=\"rgba(0,128,255,0.9412)\" stroke-width=\"2\" stroke-miterlimit=\"10\"/>\n",
       "<circle cx=\"159.1781\" cy=\"58.0985\" r=\"5.6693\" fill=\"none\" stroke=\"rgba(0,128,255,0.9412)\" stroke-width=\"2\" stroke-miterlimit=\"10\"/>\n",
       "<circle cx=\"184.1409\" cy=\"163.5553\" r=\"5.6693\" fill=\"none\" stroke=\"rgba(0,128,255,0.9412)\" stroke-width=\"2\" stroke-miterlimit=\"10\"/>\n",
       "<circle cx=\"162.1829\" cy=\"107.2705\" r=\"5.6693\" fill=\"none\" stroke=\"rgba(0,128,255,0.9412)\" stroke-width=\"2\" stroke-miterlimit=\"10\"/>\n",
       "<circle cx=\"131.727\" cy=\"157.3465\" r=\"5.6693\" fill=\"none\" stroke=\"rgba(0,128,255,0.9412)\" stroke-width=\"2\" stroke-miterlimit=\"10\"/>\n",
       "<circle cx=\"193.109\" cy=\"112.2308\" r=\"5.6693\" fill=\"none\" stroke=\"rgba(0,128,255,0.9412)\" stroke-width=\"2\" stroke-miterlimit=\"10\"/>\n",
       "<circle cx=\"151.9704\" cy=\"160.2736\" r=\"5.6693\" fill=\"none\" stroke=\"rgba(0,128,255,0.9412)\" stroke-width=\"2\" stroke-miterlimit=\"10\"/>\n",
       "<circle cx=\"144.089\" cy=\"99.1305\" r=\"5.6693\" fill=\"none\" stroke=\"rgba(0,128,255,0.9412)\" stroke-width=\"2\" stroke-miterlimit=\"10\"/>\n",
       "<circle cx=\"153.7583\" cy=\"179.5509\" r=\"5.6693\" fill=\"none\" stroke=\"rgba(0,128,255,0.9412)\" stroke-width=\"2\" stroke-miterlimit=\"10\"/>\n",
       "<circle cx=\"169.9002\" cy=\"200.4502\" r=\"5.6693\" fill=\"none\" stroke=\"rgba(0,128,255,0.9412)\" stroke-width=\"2\" stroke-miterlimit=\"10\"/>\n",
       "<circle cx=\"118.5504\" cy=\"140.7219\" r=\"5.6693\" fill=\"none\" stroke=\"rgba(0,128,255,0.9412)\" stroke-width=\"2\" stroke-miterlimit=\"10\"/>\n",
       "<circle cx=\"105.7096\" cy=\"197.6511\" r=\"5.6693\" fill=\"none\" stroke=\"rgba(0,128,255,0.9412)\" stroke-width=\"2\" stroke-miterlimit=\"10\"/>\n",
       "<circle cx=\"197.1834\" cy=\"136.9116\" r=\"5.6693\" fill=\"none\" stroke=\"rgba(0,128,255,0.9412)\" stroke-width=\"2\" stroke-miterlimit=\"10\"/>\n",
       "<circle cx=\"212.6049\" cy=\"149.4689\" r=\"5.6693\" fill=\"none\" stroke=\"rgba(0,128,255,0.9412)\" stroke-width=\"2\" stroke-miterlimit=\"10\"/>\n",
       "<circle cx=\"170.186\" cy=\"109.157\" r=\"5.6693\" fill=\"none\" stroke=\"rgba(0,128,255,0.9412)\" stroke-width=\"2\" stroke-miterlimit=\"10\"/>\n",
       "<circle cx=\"150.2345\" cy=\"182.5376\" r=\"5.6693\" fill=\"none\" stroke=\"rgba(0,128,255,0.9412)\" stroke-width=\"2\" stroke-miterlimit=\"10\"/>\n",
       "<circle cx=\"109.2592\" cy=\"104.9881\" r=\"5.6693\" fill=\"none\" stroke=\"rgba(0,128,255,0.9412)\" stroke-width=\"2\" stroke-miterlimit=\"10\"/>\n",
       "<circle cx=\"187.1767\" cy=\"184.353\" r=\"5.6693\" fill=\"none\" stroke=\"rgba(0,128,255,0.9412)\" stroke-width=\"2\" stroke-miterlimit=\"10\"/>\n",
       "<circle cx=\"215.3826\" cy=\"187.4531\" r=\"5.6693\" fill=\"none\" stroke=\"rgba(0,128,255,0.9412)\" stroke-width=\"2\" stroke-miterlimit=\"10\"/>\n",
       "<circle cx=\"189.9507\" cy=\"210.2865\" r=\"5.6693\" fill=\"none\" stroke=\"rgba(0,128,255,0.9412)\" stroke-width=\"2\" stroke-miterlimit=\"10\"/>\n",
       "<circle cx=\"168.3328\" cy=\"161.1928\" r=\"5.6693\" fill=\"none\" stroke=\"rgba(0,128,255,0.9412)\" stroke-width=\"2\" stroke-miterlimit=\"10\"/>\n",
       "<circle cx=\"175.7231\" cy=\"84.2304\" r=\"5.6693\" fill=\"none\" stroke=\"rgba(0,128,255,0.9412)\" stroke-width=\"2\" stroke-miterlimit=\"10\"/>\n",
       "<circle cx=\"121.898\" cy=\"107.6093\" r=\"5.6693\" fill=\"none\" stroke=\"rgba(0,128,255,0.9412)\" stroke-width=\"2\" stroke-miterlimit=\"10\"/>\n",
       "<circle cx=\"159.6698\" cy=\"172.2454\" r=\"5.6693\" fill=\"none\" stroke=\"rgba(0,128,255,0.9412)\" stroke-width=\"2\" stroke-miterlimit=\"10\"/>\n",
       "<circle cx=\"70.4401\" cy=\"188.5909\" r=\"5.6693\" fill=\"none\" stroke=\"rgba(0,128,255,0.9412)\" stroke-width=\"2\" stroke-miterlimit=\"10\"/>\n",
       "<circle cx=\"80.3786\" cy=\"186.5099\" r=\"5.6693\" fill=\"none\" stroke=\"rgba(0,128,255,0.9412)\" stroke-width=\"2\" stroke-miterlimit=\"10\"/>\n",
       "<circle cx=\"150.9004\" cy=\"113.6328\" r=\"5.6693\" fill=\"none\" stroke=\"rgba(0,128,255,0.9412)\" stroke-width=\"2\" stroke-miterlimit=\"10\"/>\n",
       "<circle cx=\"122.2962\" cy=\"192.3557\" r=\"5.6693\" fill=\"none\" stroke=\"rgba(0,128,255,0.9412)\" stroke-width=\"2\" stroke-miterlimit=\"10\"/>\n",
       "<circle cx=\"214.7817\" cy=\"167.779\" r=\"5.6693\" fill=\"none\" stroke=\"rgba(0,128,255,0.9412)\" stroke-width=\"2\" stroke-miterlimit=\"10\"/>\n",
       "<circle cx=\"226.5452\" cy=\"121.6823\" r=\"5.6693\" fill=\"none\" stroke=\"rgba(0,128,255,0.9412)\" stroke-width=\"2\" stroke-miterlimit=\"10\"/>\n",
       "<circle cx=\"85.1355\" cy=\"86.5603\" r=\"5.6693\" fill=\"none\" stroke=\"rgba(0,128,255,0.9412)\" stroke-width=\"2\" stroke-miterlimit=\"10\"/>\n",
       "<circle cx=\"134.1496\" cy=\"72.4568\" r=\"5.6693\" fill=\"none\" stroke=\"rgba(0,128,255,0.9412)\" stroke-width=\"2\" stroke-miterlimit=\"10\"/>\n",
       "<circle cx=\"95.7999\" cy=\"65.348\" r=\"5.6693\" fill=\"none\" stroke=\"rgba(0,128,255,0.9412)\" stroke-width=\"2\" stroke-miterlimit=\"10\"/>\n",
       "<circle cx=\"149.7848\" cy=\"176.3057\" r=\"5.6693\" fill=\"none\" stroke=\"rgba(0,128,255,0.9412)\" stroke-width=\"2\" stroke-miterlimit=\"10\"/>\n",
       "<circle cx=\"111.5587\" cy=\"103.2508\" r=\"5.6693\" fill=\"none\" stroke=\"rgba(0,128,255,0.9412)\" stroke-width=\"2\" stroke-miterlimit=\"10\"/>\n",
       "<circle cx=\"88.7036\" cy=\"73.5528\" r=\"5.6693\" fill=\"none\" stroke=\"rgba(0,128,255,0.9412)\" stroke-width=\"2\" stroke-miterlimit=\"10\"/>\n",
       "<circle cx=\"126.3602\" cy=\"95.7527\" r=\"5.6693\" fill=\"none\" stroke=\"rgba(0,128,255,0.9412)\" stroke-width=\"2\" stroke-miterlimit=\"10\"/>\n",
       "<circle cx=\"165.1042\" cy=\"97.8575\" r=\"5.6693\" fill=\"none\" stroke=\"rgba(0,128,255,0.9412)\" stroke-width=\"2\" stroke-miterlimit=\"10\"/>\n",
       "<circle cx=\"141.0714\" cy=\"199.6486\" r=\"5.6693\" fill=\"none\" stroke=\"rgba(0,128,255,0.9412)\" stroke-width=\"2\" stroke-miterlimit=\"10\"/>\n",
       "<circle cx=\"187.3842\" cy=\"167.0494\" r=\"5.6693\" fill=\"none\" stroke=\"rgba(0,128,255,0.9412)\" stroke-width=\"2\" stroke-miterlimit=\"10\"/>\n",
       "<circle cx=\"125.9779\" cy=\"219.14\" r=\"5.6693\" fill=\"none\" stroke=\"rgba(0,128,255,0.9412)\" stroke-width=\"2\" stroke-miterlimit=\"10\"/>\n",
       "<circle cx=\"125.2103\" cy=\"166.215\" r=\"5.6693\" fill=\"none\" stroke=\"rgba(0,128,255,0.9412)\" stroke-width=\"2\" stroke-miterlimit=\"10\"/>\n",
       "<circle cx=\"178.7166\" cy=\"139.3239\" r=\"5.6693\" fill=\"none\" stroke=\"rgba(0,128,255,0.9412)\" stroke-width=\"2\" stroke-miterlimit=\"10\"/>\n",
       "<circle cx=\"122.9511\" cy=\"178.2262\" r=\"5.6693\" fill=\"none\" stroke=\"rgba(0,128,255,0.9412)\" stroke-width=\"2\" stroke-miterlimit=\"10\"/>\n",
       "<circle cx=\"112.0889\" cy=\"157.8676\" r=\"5.6693\" fill=\"none\" stroke=\"rgba(0,128,255,0.9412)\" stroke-width=\"2\" stroke-miterlimit=\"10\"/>\n",
       "<circle cx=\"66.9569\" cy=\"166.075\" r=\"5.6693\" fill=\"none\" stroke=\"rgba(0,128,255,0.9412)\" stroke-width=\"2\" stroke-miterlimit=\"10\"/>\n",
       "<circle cx=\"117.7883\" cy=\"148.0167\" r=\"5.6693\" fill=\"none\" stroke=\"rgba(0,128,255,0.9412)\" stroke-width=\"2\" stroke-miterlimit=\"10\"/>\n",
       "<circle cx=\"127.8458\" cy=\"138.4547\" r=\"5.6693\" fill=\"none\" stroke=\"rgba(0,128,255,0.9412)\" stroke-width=\"2\" stroke-miterlimit=\"10\"/>\n",
       "<circle cx=\"175.8731\" cy=\"144.0863\" r=\"5.6693\" fill=\"none\" stroke=\"rgba(0,128,255,0.9412)\" stroke-width=\"2\" stroke-miterlimit=\"10\"/>\n",
       "<circle cx=\"161.2678\" cy=\"176.429\" r=\"5.6693\" fill=\"none\" stroke=\"rgba(0,128,255,0.9412)\" stroke-width=\"2\" stroke-miterlimit=\"10\"/>\n",
       "<circle cx=\"156.736\" cy=\"103.3847\" r=\"5.6693\" fill=\"none\" stroke=\"rgba(0,128,255,0.9412)\" stroke-width=\"2\" stroke-miterlimit=\"10\"/>\n",
       "<circle cx=\"99.3802\" cy=\"217.0796\" r=\"5.6693\" fill=\"none\" stroke=\"rgba(0,128,255,0.9412)\" stroke-width=\"2\" stroke-miterlimit=\"10\"/>\n",
       "<circle cx=\"108.5503\" cy=\"181.7886\" r=\"5.6693\" fill=\"none\" stroke=\"rgba(0,128,255,0.9412)\" stroke-width=\"2\" stroke-miterlimit=\"10\"/>\n",
       "<circle cx=\"127.5285\" cy=\"121.0122\" r=\"5.6693\" fill=\"none\" stroke=\"rgba(0,128,255,0.9412)\" stroke-width=\"2\" stroke-miterlimit=\"10\"/>\n",
       "<circle cx=\"173.7451\" cy=\"205.4809\" r=\"5.6693\" fill=\"none\" stroke=\"rgba(0,128,255,0.9412)\" stroke-width=\"2\" stroke-miterlimit=\"10\"/>\n",
       "<circle cx=\"154.8862\" cy=\"104.009\" r=\"5.6693\" fill=\"none\" stroke=\"rgba(0,128,255,0.9412)\" stroke-width=\"2\" stroke-miterlimit=\"10\"/>\n",
       "<circle cx=\"75.3596\" cy=\"185.2119\" r=\"5.6693\" fill=\"none\" stroke=\"rgba(0,128,255,0.9412)\" stroke-width=\"2\" stroke-miterlimit=\"10\"/>\n",
       "<circle cx=\"122.345\" cy=\"127.6233\" r=\"5.6693\" fill=\"none\" stroke=\"rgba(0,128,255,0.9412)\" stroke-width=\"2\" stroke-miterlimit=\"10\"/>\n",
       "<circle cx=\"180.0133\" cy=\"163.598\" r=\"5.6693\" fill=\"none\" stroke=\"rgba(0,128,255,0.9412)\" stroke-width=\"2\" stroke-miterlimit=\"10\"/>\n",
       "<circle cx=\"65.147\" cy=\"81.3192\" r=\"5.6693\" fill=\"none\" stroke=\"rgba(0,128,255,0.9412)\" stroke-width=\"2\" stroke-miterlimit=\"10\"/>\n",
       "<circle cx=\"158.3933\" cy=\"113.3099\" r=\"5.6693\" fill=\"none\" stroke=\"rgba(0,128,255,0.9412)\" stroke-width=\"2\" stroke-miterlimit=\"10\"/>\n",
       "<circle cx=\"188.745\" cy=\"196.5703\" r=\"5.6693\" fill=\"none\" stroke=\"rgba(0,128,255,0.9412)\" stroke-width=\"2\" stroke-miterlimit=\"10\"/>\n",
       "<circle cx=\"155.5745\" cy=\"173.0094\" r=\"5.6693\" fill=\"none\" stroke=\"rgba(0,128,255,0.9412)\" stroke-width=\"2\" stroke-miterlimit=\"10\"/>\n",
       "<circle cx=\"82.6874\" cy=\"125.4008\" r=\"5.6693\" fill=\"none\" stroke=\"rgba(0,128,255,0.9412)\" stroke-width=\"2\" stroke-miterlimit=\"10\"/>\n",
       "<circle cx=\"206.5513\" cy=\"194.29\" r=\"5.6693\" fill=\"none\" stroke=\"rgba(0,128,255,0.9412)\" stroke-width=\"2\" stroke-miterlimit=\"10\"/>\n",
       "<circle cx=\"70.166\" cy=\"203.3207\" r=\"5.6693\" fill=\"none\" stroke=\"rgba(0,128,255,0.9412)\" stroke-width=\"2\" stroke-miterlimit=\"10\"/>\n",
       "<circle cx=\"183.2784\" cy=\"153.622\" r=\"5.6693\" fill=\"none\" stroke=\"rgba(0,128,255,0.9412)\" stroke-width=\"2\" stroke-miterlimit=\"10\"/>\n",
       "<circle cx=\"147.1549\" cy=\"108.0724\" r=\"5.6693\" fill=\"none\" stroke=\"rgba(0,128,255,0.9412)\" stroke-width=\"2\" stroke-miterlimit=\"10\"/>\n",
       "<circle cx=\"124.572\" cy=\"72.5796\" r=\"5.6693\" fill=\"none\" stroke=\"rgba(0,128,255,0.9412)\" stroke-width=\"2\" stroke-miterlimit=\"10\"/>\n",
       "<circle cx=\"113.6613\" cy=\"153.9961\" r=\"5.6693\" fill=\"none\" stroke=\"rgba(0,128,255,0.9412)\" stroke-width=\"2\" stroke-miterlimit=\"10\"/>\n",
       "<circle cx=\"86.2813\" cy=\"140.1604\" r=\"5.6693\" fill=\"none\" stroke=\"rgba(0,128,255,0.9412)\" stroke-width=\"2\" stroke-miterlimit=\"10\"/>\n",
       "<circle cx=\"224.2715\" cy=\"74.7544\" r=\"5.6693\" fill=\"none\" stroke=\"rgba(0,128,255,0.9412)\" stroke-width=\"2\" stroke-miterlimit=\"10\"/>\n",
       "<circle cx=\"153.2655\" cy=\"199.2713\" r=\"5.6693\" fill=\"none\" stroke=\"rgba(0,128,255,0.9412)\" stroke-width=\"2\" stroke-miterlimit=\"10\"/>\n",
       "<circle cx=\"174.0157\" cy=\"191.8272\" r=\"5.6693\" fill=\"none\" stroke=\"rgba(0,128,255,0.9412)\" stroke-width=\"2\" stroke-miterlimit=\"10\"/>\n",
       "<circle cx=\"152.3175\" cy=\"104.7862\" r=\"5.6693\" fill=\"none\" stroke=\"rgba(0,128,255,0.9412)\" stroke-width=\"2\" stroke-miterlimit=\"10\"/>\n",
       "<circle cx=\"110.6093\" cy=\"168.7878\" r=\"5.6693\" fill=\"none\" stroke=\"rgba(0,128,255,0.9412)\" stroke-width=\"2\" stroke-miterlimit=\"10\"/>\n",
       "<circle cx=\"157.2408\" cy=\"191.7734\" r=\"5.6693\" fill=\"none\" stroke=\"rgba(0,128,255,0.9412)\" stroke-width=\"2\" stroke-miterlimit=\"10\"/>\n",
       "<circle cx=\"185.1898\" cy=\"176.3133\" r=\"5.6693\" fill=\"none\" stroke=\"rgba(0,128,255,0.9412)\" stroke-width=\"2\" stroke-miterlimit=\"10\"/>\n",
       "<circle cx=\"72.6326\" cy=\"207.1605\" r=\"5.6693\" fill=\"none\" stroke=\"rgba(0,128,255,0.9412)\" stroke-width=\"2\" stroke-miterlimit=\"10\"/>\n",
       "<circle cx=\"171.9209\" cy=\"151.2826\" r=\"5.6693\" fill=\"none\" stroke=\"rgba(0,128,255,0.9412)\" stroke-width=\"2\" stroke-miterlimit=\"10\"/>\n",
       "<circle cx=\"72.7685\" cy=\"136.4882\" r=\"5.6693\" fill=\"none\" stroke=\"rgba(0,128,255,0.9412)\" stroke-width=\"2\" stroke-miterlimit=\"10\"/>\n",
       "<circle cx=\"174.9856\" cy=\"101.2795\" r=\"5.6693\" fill=\"none\" stroke=\"rgba(0,128,255,0.9412)\" stroke-width=\"2\" stroke-miterlimit=\"10\"/>\n",
       "<circle cx=\"195.8765\" cy=\"91.8844\" r=\"5.6693\" fill=\"none\" stroke=\"rgba(0,128,255,0.9412)\" stroke-width=\"2\" stroke-miterlimit=\"10\"/>\n",
       "<circle cx=\"211.1681\" cy=\"183.4624\" r=\"5.6693\" fill=\"none\" stroke=\"rgba(0,128,255,0.9412)\" stroke-width=\"2\" stroke-miterlimit=\"10\"/>\n",
       "<circle cx=\"199.3338\" cy=\"165.6865\" r=\"5.6693\" fill=\"none\" stroke=\"rgba(0,128,255,0.9412)\" stroke-width=\"2\" stroke-miterlimit=\"10\"/>\n",
       "<circle cx=\"137.3217\" cy=\"189.3058\" r=\"5.6693\" fill=\"none\" stroke=\"rgba(0,128,255,0.9412)\" stroke-width=\"2\" stroke-miterlimit=\"10\"/>\n",
       "<circle cx=\"131.4232\" cy=\"191.1939\" r=\"5.6693\" fill=\"none\" stroke=\"rgba(0,128,255,0.9412)\" stroke-width=\"2\" stroke-miterlimit=\"10\"/>\n",
       "<circle cx=\"174.7757\" cy=\"133.4751\" r=\"5.6693\" fill=\"none\" stroke=\"rgba(0,128,255,0.9412)\" stroke-width=\"2\" stroke-miterlimit=\"10\"/>\n",
       "<circle cx=\"150.0391\" cy=\"98.0192\" r=\"5.6693\" fill=\"none\" stroke=\"rgba(0,128,255,0.9412)\" stroke-width=\"2\" stroke-miterlimit=\"10\"/>\n",
       "<circle cx=\"213.6139\" cy=\"102.0983\" r=\"5.6693\" fill=\"none\" stroke=\"rgba(0,128,255,0.9412)\" stroke-width=\"2\" stroke-miterlimit=\"10\"/>\n",
       "<circle cx=\"153.3097\" cy=\"211.7418\" r=\"5.6693\" fill=\"none\" stroke=\"rgba(0,128,255,0.9412)\" stroke-width=\"2\" stroke-miterlimit=\"10\"/>\n",
       "<circle cx=\"177.1239\" cy=\"134.0929\" r=\"5.6693\" fill=\"none\" stroke=\"rgba(0,128,255,0.9412)\" stroke-width=\"2\" stroke-miterlimit=\"10\"/>\n",
       "<circle cx=\"108.5996\" cy=\"206.1677\" r=\"5.6693\" fill=\"none\" stroke=\"rgba(0,128,255,0.9412)\" stroke-width=\"2\" stroke-miterlimit=\"10\"/>\n",
       "<circle cx=\"101.3884\" cy=\"78.9353\" r=\"5.6693\" fill=\"none\" stroke=\"rgba(0,128,255,0.9412)\" stroke-width=\"2\" stroke-miterlimit=\"10\"/>\n",
       "<circle cx=\"102.1961\" cy=\"129.9852\" r=\"5.6693\" fill=\"none\" stroke=\"rgba(0,128,255,0.9412)\" stroke-width=\"2\" stroke-miterlimit=\"10\"/>\n",
       "<circle cx=\"119.7093\" cy=\"170.2721\" r=\"5.6693\" fill=\"none\" stroke=\"rgba(0,128,255,0.9412)\" stroke-width=\"2\" stroke-miterlimit=\"10\"/>\n",
       "<circle cx=\"103.3482\" cy=\"195.951\" r=\"5.6693\" fill=\"none\" stroke=\"rgba(0,128,255,0.9412)\" stroke-width=\"2\" stroke-miterlimit=\"10\"/>\n",
       "<circle cx=\"177.9253\" cy=\"114.1763\" r=\"5.6693\" fill=\"none\" stroke=\"rgba(0,128,255,0.9412)\" stroke-width=\"2\" stroke-miterlimit=\"10\"/>\n",
       "<circle cx=\"193.7827\" cy=\"214.2297\" r=\"5.6693\" fill=\"none\" stroke=\"rgba(0,128,255,0.9412)\" stroke-width=\"2\" stroke-miterlimit=\"10\"/>\n",
       "<circle cx=\"127.7564\" cy=\"140.22\" r=\"5.6693\" fill=\"none\" stroke=\"rgba(0,128,255,0.9412)\" stroke-width=\"2\" stroke-miterlimit=\"10\"/>\n",
       "<circle cx=\"130.8469\" cy=\"115.8955\" r=\"5.6693\" fill=\"none\" stroke=\"rgba(0,128,255,0.9412)\" stroke-width=\"2\" stroke-miterlimit=\"10\"/>\n",
       "<circle cx=\"199.5685\" cy=\"178.0544\" r=\"5.6693\" fill=\"none\" stroke=\"rgba(0,128,255,0.9412)\" stroke-width=\"2\" stroke-miterlimit=\"10\"/>\n",
       "<circle cx=\"163.3054\" cy=\"182.4591\" r=\"5.6693\" fill=\"none\" stroke=\"rgba(0,128,255,0.9412)\" stroke-width=\"2\" stroke-miterlimit=\"10\"/>\n",
       "<circle cx=\"198.6282\" cy=\"196.2963\" r=\"5.6693\" fill=\"none\" stroke=\"rgba(0,128,255,0.9412)\" stroke-width=\"2\" stroke-miterlimit=\"10\"/>\n",
       "<circle cx=\"132.1933\" cy=\"217.3922\" r=\"5.6693\" fill=\"none\" stroke=\"rgba(0,128,255,0.9412)\" stroke-width=\"2\" stroke-miterlimit=\"10\"/>\n",
       "<circle cx=\"60.995\" cy=\"108.2489\" r=\"5.6693\" fill=\"none\" stroke=\"rgba(0,128,255,0.9412)\" stroke-width=\"2\" stroke-miterlimit=\"10\"/>\n",
       "<circle cx=\"179.7332\" cy=\"109.637\" r=\"5.6693\" fill=\"none\" stroke=\"rgba(0,128,255,0.9412)\" stroke-width=\"2\" stroke-miterlimit=\"10\"/>\n",
       "<circle cx=\"56.6994\" cy=\"176.7502\" r=\"5.6693\" fill=\"none\" stroke=\"rgba(0,128,255,0.9412)\" stroke-width=\"2\" stroke-miterlimit=\"10\"/>\n",
       "<circle cx=\"182.3961\" cy=\"149.8913\" r=\"5.6693\" fill=\"none\" stroke=\"rgba(0,128,255,0.9412)\" stroke-width=\"2\" stroke-miterlimit=\"10\"/>\n",
       "<circle cx=\"98.1055\" cy=\"220.0731\" r=\"5.6693\" fill=\"none\" stroke=\"rgba(0,128,255,0.9412)\" stroke-width=\"2\" stroke-miterlimit=\"10\"/>\n",
       "<circle cx=\"97.2516\" cy=\"211.5203\" r=\"5.6693\" fill=\"none\" stroke=\"rgba(0,128,255,0.9412)\" stroke-width=\"2\" stroke-miterlimit=\"10\"/>\n",
       "<circle cx=\"103.9054\" cy=\"126.4755\" r=\"5.6693\" fill=\"none\" stroke=\"rgba(0,128,255,0.9412)\" stroke-width=\"2\" stroke-miterlimit=\"10\"/>\n",
       "<circle cx=\"118.8013\" cy=\"122.0163\" r=\"5.6693\" fill=\"none\" stroke=\"rgba(0,128,255,0.9412)\" stroke-width=\"2\" stroke-miterlimit=\"10\"/>\n",
       "<circle cx=\"176.9698\" cy=\"111.8516\" r=\"5.6693\" fill=\"none\" stroke=\"rgba(0,128,255,0.9412)\" stroke-width=\"2\" stroke-miterlimit=\"10\"/>\n",
       "<circle cx=\"104.223\" cy=\"169.2976\" r=\"5.6693\" fill=\"none\" stroke=\"rgba(0,128,255,0.9412)\" stroke-width=\"2\" stroke-miterlimit=\"10\"/>\n",
       "<circle cx=\"166.3146\" cy=\"127.851\" r=\"5.6693\" fill=\"none\" stroke=\"rgba(0,128,255,0.9412)\" stroke-width=\"2\" stroke-miterlimit=\"10\"/>\n",
       "<circle cx=\"69.2873\" cy=\"124.7292\" r=\"5.6693\" fill=\"none\" stroke=\"rgba(0,128,255,0.9412)\" stroke-width=\"2\" stroke-miterlimit=\"10\"/>\n",
       "<circle cx=\"132.5994\" cy=\"116.5227\" r=\"5.6693\" fill=\"none\" stroke=\"rgba(0,128,255,0.9412)\" stroke-width=\"2\" stroke-miterlimit=\"10\"/>\n",
       "<circle cx=\"145.4748\" cy=\"199.4053\" r=\"5.6693\" fill=\"none\" stroke=\"rgba(0,128,255,0.9412)\" stroke-width=\"2\" stroke-miterlimit=\"10\"/>\n",
       "<circle cx=\"134.0745\" cy=\"212.6176\" r=\"5.6693\" fill=\"none\" stroke=\"rgba(0,128,255,0.9412)\" stroke-width=\"2\" stroke-miterlimit=\"10\"/>\n",
       "<circle cx=\"130.0639\" cy=\"63.1391\" r=\"5.6693\" fill=\"none\" stroke=\"rgba(0,128,255,0.9412)\" stroke-width=\"2\" stroke-miterlimit=\"10\"/>\n",
       "<circle cx=\"140.6861\" cy=\"74.4399\" r=\"5.6693\" fill=\"none\" stroke=\"rgba(0,128,255,0.9412)\" stroke-width=\"2\" stroke-miterlimit=\"10\"/>\n",
       "<circle cx=\"92.798\" cy=\"172.6344\" r=\"5.6693\" fill=\"none\" stroke=\"rgba(0,128,255,0.9412)\" stroke-width=\"2\" stroke-miterlimit=\"10\"/>\n",
       "<circle cx=\"123.8868\" cy=\"225.3046\" r=\"5.6693\" fill=\"none\" stroke=\"rgba(0,128,255,0.9412)\" stroke-width=\"2\" stroke-miterlimit=\"10\"/>\n",
       "<circle cx=\"173.5764\" cy=\"129.6865\" r=\"5.6693\" fill=\"none\" stroke=\"rgba(0,128,255,0.9412)\" stroke-width=\"2\" stroke-miterlimit=\"10\"/>\n",
       "<circle cx=\"137.661\" cy=\"155.9107\" r=\"5.6693\" fill=\"none\" stroke=\"rgba(0,128,255,0.9412)\" stroke-width=\"2\" stroke-miterlimit=\"10\"/>\n",
       "<circle cx=\"150.3399\" cy=\"129.6712\" r=\"5.6693\" fill=\"none\" stroke=\"rgba(0,128,255,0.9412)\" stroke-width=\"2\" stroke-miterlimit=\"10\"/>\n",
       "<circle cx=\"144.6514\" cy=\"117.6993\" r=\"5.6693\" fill=\"none\" stroke=\"rgba(0,128,255,0.9412)\" stroke-width=\"2\" stroke-miterlimit=\"10\"/>\n",
       "<circle cx=\"116.2456\" cy=\"149.0503\" r=\"5.6693\" fill=\"none\" stroke=\"rgba(0,128,255,0.9412)\" stroke-width=\"2\" stroke-miterlimit=\"10\"/>\n",
       "<circle cx=\"147.6197\" cy=\"125.8203\" r=\"5.6693\" fill=\"none\" stroke=\"rgba(0,128,255,0.9412)\" stroke-width=\"2\" stroke-miterlimit=\"10\"/>\n",
       "<circle cx=\"75.7558\" cy=\"118.3825\" r=\"5.6693\" fill=\"none\" stroke=\"rgba(0,128,255,0.9412)\" stroke-width=\"2\" stroke-miterlimit=\"10\"/>\n",
       "<circle cx=\"142.74\" cy=\"129.0365\" r=\"5.6693\" fill=\"none\" stroke=\"rgba(0,128,255,0.9412)\" stroke-width=\"2\" stroke-miterlimit=\"10\"/>\n",
       "<circle cx=\"125.7434\" cy=\"133.858\" r=\"5.6693\" fill=\"none\" stroke=\"rgba(0,128,255,0.9412)\" stroke-width=\"2\" stroke-miterlimit=\"10\"/>\n",
       "<circle cx=\"121.8406\" cy=\"97.7762\" r=\"5.6693\" fill=\"none\" stroke=\"rgba(0,128,255,0.9412)\" stroke-width=\"2\" stroke-miterlimit=\"10\"/>\n",
       "<circle cx=\"94.3261\" cy=\"192.2796\" r=\"5.6693\" fill=\"none\" stroke=\"rgba(0,128,255,0.9412)\" stroke-width=\"2\" stroke-miterlimit=\"10\"/>\n",
       "<circle cx=\"67.0241\" cy=\"134.4843\" r=\"5.6693\" fill=\"none\" stroke=\"rgba(0,128,255,0.9412)\" stroke-width=\"2\" stroke-miterlimit=\"10\"/>\n",
       "<circle cx=\"176.1444\" cy=\"157.0023\" r=\"5.6693\" fill=\"none\" stroke=\"rgba(0,128,255,0.9412)\" stroke-width=\"2\" stroke-miterlimit=\"10\"/>\n",
       "<circle cx=\"133.7557\" cy=\"80.625\" r=\"5.6693\" fill=\"none\" stroke=\"rgba(0,128,255,0.9412)\" stroke-width=\"2\" stroke-miterlimit=\"10\"/>\n",
       "<circle cx=\"145.4884\" cy=\"128.9772\" r=\"5.6693\" fill=\"none\" stroke=\"rgba(0,128,255,0.9412)\" stroke-width=\"2\" stroke-miterlimit=\"10\"/>\n",
       "<circle cx=\"138.686\" cy=\"168.3217\" r=\"5.6693\" fill=\"none\" stroke=\"rgba(0,128,255,0.9412)\" stroke-width=\"2\" stroke-miterlimit=\"10\"/>\n",
       "<circle cx=\"110.2749\" cy=\"125.3269\" r=\"5.6693\" fill=\"none\" stroke=\"rgba(0,128,255,0.9412)\" stroke-width=\"2\" stroke-miterlimit=\"10\"/>\n",
       "<circle cx=\"98.225\" cy=\"94.4222\" r=\"5.6693\" fill=\"none\" stroke=\"rgba(0,128,255,0.9412)\" stroke-width=\"2\" stroke-miterlimit=\"10\"/>\n",
       "<circle cx=\"106.0909\" cy=\"150.7819\" r=\"5.6693\" fill=\"none\" stroke=\"rgba(0,128,255,0.9412)\" stroke-width=\"2\" stroke-miterlimit=\"10\"/>\n",
       "<circle cx=\"127.3524\" cy=\"137.4199\" r=\"5.6693\" fill=\"none\" stroke=\"rgba(0,128,255,0.9412)\" stroke-width=\"2\" stroke-miterlimit=\"10\"/>\n",
       "<circle cx=\"183.0847\" cy=\"122.3584\" r=\"5.6693\" fill=\"none\" stroke=\"rgba(0,128,255,0.9412)\" stroke-width=\"2\" stroke-miterlimit=\"10\"/>\n",
       "<circle cx=\"176.9774\" cy=\"150.3861\" r=\"5.6693\" fill=\"none\" stroke=\"rgba(0,128,255,0.9412)\" stroke-width=\"2\" stroke-miterlimit=\"10\"/>\n",
       "<circle cx=\"113.902\" cy=\"177.6415\" r=\"5.6693\" fill=\"none\" stroke=\"rgba(0,128,255,0.9412)\" stroke-width=\"2\" stroke-miterlimit=\"10\"/>\n",
       "<circle cx=\"179.6375\" cy=\"75.9918\" r=\"5.6693\" fill=\"none\" stroke=\"rgba(0,128,255,0.9412)\" stroke-width=\"2\" stroke-miterlimit=\"10\"/>\n",
       "<circle cx=\"134.6001\" cy=\"155.7329\" r=\"5.6693\" fill=\"none\" stroke=\"rgba(0,128,255,0.9412)\" stroke-width=\"2\" stroke-miterlimit=\"10\"/>\n",
       "<circle cx=\"144.9123\" cy=\"168.5061\" r=\"5.6693\" fill=\"none\" stroke=\"rgba(0,128,255,0.9412)\" stroke-width=\"2\" stroke-miterlimit=\"10\"/>\n",
       "<circle cx=\"104.6887\" cy=\"165.2264\" r=\"5.6693\" fill=\"none\" stroke=\"rgba(0,128,255,0.9412)\" stroke-width=\"2\" stroke-miterlimit=\"10\"/>\n",
       "<circle cx=\"191.9774\" cy=\"140.8448\" r=\"5.6693\" fill=\"none\" stroke=\"rgba(0,128,255,0.9412)\" stroke-width=\"2\" stroke-miterlimit=\"10\"/>\n",
       "<circle cx=\"130.2017\" cy=\"193.3696\" r=\"5.6693\" fill=\"none\" stroke=\"rgba(0,128,255,0.9412)\" stroke-width=\"2\" stroke-miterlimit=\"10\"/>\n",
       "<circle cx=\"186.9914\" cy=\"139.795\" r=\"5.6693\" fill=\"none\" stroke=\"rgba(0,128,255,0.9412)\" stroke-width=\"2\" stroke-miterlimit=\"10\"/>\n",
       "<circle cx=\"108.359\" cy=\"132.9493\" r=\"5.6693\" fill=\"none\" stroke=\"rgba(0,128,255,0.9412)\" stroke-width=\"2\" stroke-miterlimit=\"10\"/>\n",
       "<circle cx=\"69.0159\" cy=\"190.8075\" r=\"5.6693\" fill=\"none\" stroke=\"rgba(0,128,255,0.9412)\" stroke-width=\"2\" stroke-miterlimit=\"10\"/>\n",
       "<circle cx=\"118.7613\" cy=\"144.1716\" r=\"5.6693\" fill=\"none\" stroke=\"rgba(0,128,255,0.9412)\" stroke-width=\"2\" stroke-miterlimit=\"10\"/>\n",
       "<circle cx=\"179.2105\" cy=\"98.6613\" r=\"5.6693\" fill=\"none\" stroke=\"rgba(0,128,255,0.9412)\" stroke-width=\"2\" stroke-miterlimit=\"10\"/>\n",
       "<circle cx=\"219.9281\" cy=\"65.0732\" r=\"5.6693\" fill=\"none\" stroke=\"rgba(0,128,255,0.9412)\" stroke-width=\"2\" stroke-miterlimit=\"10\"/>\n",
       "<circle cx=\"180.4964\" cy=\"165.1445\" r=\"5.6693\" fill=\"none\" stroke=\"rgba(0,128,255,0.9412)\" stroke-width=\"2\" stroke-miterlimit=\"10\"/>\n",
       "<circle cx=\"215.4732\" cy=\"192.6398\" r=\"5.6693\" fill=\"none\" stroke=\"rgba(0,128,255,0.9412)\" stroke-width=\"2\" stroke-miterlimit=\"10\"/>\n",
       "<circle cx=\"197.5507\" cy=\"64.7055\" r=\"5.6693\" fill=\"none\" stroke=\"rgba(0,128,255,0.9412)\" stroke-width=\"2\" stroke-miterlimit=\"10\"/>\n",
       "<circle cx=\"156.8058\" cy=\"80.8384\" r=\"5.6693\" fill=\"none\" stroke=\"rgba(0,128,255,0.9412)\" stroke-width=\"2\" stroke-miterlimit=\"10\"/>\n",
       "<circle cx=\"78.7718\" cy=\"91.3564\" r=\"5.6693\" fill=\"none\" stroke=\"rgba(0,128,255,0.9412)\" stroke-width=\"2\" stroke-miterlimit=\"10\"/>\n",
       "<circle cx=\"100.0747\" cy=\"125.1296\" r=\"5.6693\" fill=\"none\" stroke=\"rgba(0,128,255,0.9412)\" stroke-width=\"2\" stroke-miterlimit=\"10\"/>\n",
       "<circle cx=\"212.907\" cy=\"60.0136\" r=\"5.6693\" fill=\"none\" stroke=\"rgba(0,128,255,0.9412)\" stroke-width=\"2\" stroke-miterlimit=\"10\"/>\n",
       "<circle cx=\"107.7409\" cy=\"203.2801\" r=\"5.6693\" fill=\"none\" stroke=\"rgba(0,128,255,0.9412)\" stroke-width=\"2\" stroke-miterlimit=\"10\"/>\n",
       "<circle cx=\"111.133\" cy=\"110.2895\" r=\"5.6693\" fill=\"none\" stroke=\"rgba(0,128,255,0.9412)\" stroke-width=\"2\" stroke-miterlimit=\"10\"/>\n",
       "<circle cx=\"103.6035\" cy=\"149.2044\" r=\"5.6693\" fill=\"none\" stroke=\"rgba(0,128,255,0.9412)\" stroke-width=\"2\" stroke-miterlimit=\"10\"/>\n",
       "<circle cx=\"199.9313\" cy=\"166.3439\" r=\"5.6693\" fill=\"none\" stroke=\"rgba(0,128,255,0.9412)\" stroke-width=\"2\" stroke-miterlimit=\"10\"/>\n",
       "<circle cx=\"167.5795\" cy=\"94.8389\" r=\"5.6693\" fill=\"none\" stroke=\"rgba(0,128,255,0.9412)\" stroke-width=\"2\" stroke-miterlimit=\"10\"/>\n",
       "<circle cx=\"184.5157\" cy=\"106.5747\" r=\"5.6693\" fill=\"none\" stroke=\"rgba(0,128,255,0.9412)\" stroke-width=\"2\" stroke-miterlimit=\"10\"/>\n",
       "<circle cx=\"216.2112\" cy=\"210.1861\" r=\"5.6693\" fill=\"none\" stroke=\"rgba(0,128,255,0.9412)\" stroke-width=\"2\" stroke-miterlimit=\"10\"/>\n",
       "<circle cx=\"155.4393\" cy=\"180.5593\" r=\"5.6693\" fill=\"none\" stroke=\"rgba(0,128,255,0.9412)\" stroke-width=\"2\" stroke-miterlimit=\"10\"/>\n",
       "<circle cx=\"122.3189\" cy=\"162.9651\" r=\"5.6693\" fill=\"none\" stroke=\"rgba(0,128,255,0.9412)\" stroke-width=\"2\" stroke-miterlimit=\"10\"/>\n",
       "<circle cx=\"190.2049\" cy=\"147.3207\" r=\"5.6693\" fill=\"none\" stroke=\"rgba(0,128,255,0.9412)\" stroke-width=\"2\" stroke-miterlimit=\"10\"/>\n",
       "<circle cx=\"78.4274\" cy=\"114.2818\" r=\"5.6693\" fill=\"none\" stroke=\"rgba(0,128,255,0.9412)\" stroke-width=\"2\" stroke-miterlimit=\"10\"/>\n",
       "<circle cx=\"137.1159\" cy=\"94.9582\" r=\"5.6693\" fill=\"none\" stroke=\"rgba(0,128,255,0.9412)\" stroke-width=\"2\" stroke-miterlimit=\"10\"/>\n",
       "<circle cx=\"133.1622\" cy=\"185.1669\" r=\"5.6693\" fill=\"none\" stroke=\"rgba(0,128,255,0.9412)\" stroke-width=\"2\" stroke-miterlimit=\"10\"/>\n",
       "<circle cx=\"62.723\" cy=\"172.9163\" r=\"5.6693\" fill=\"none\" stroke=\"rgba(0,128,255,0.9412)\" stroke-width=\"2\" stroke-miterlimit=\"10\"/>\n",
       "<circle cx=\"163.0024\" cy=\"177.1392\" r=\"5.6693\" fill=\"none\" stroke=\"rgba(0,128,255,0.9412)\" stroke-width=\"2\" stroke-miterlimit=\"10\"/>\n",
       "<circle cx=\"179.8934\" cy=\"189.9228\" r=\"5.6693\" fill=\"none\" stroke=\"rgba(0,128,255,0.9412)\" stroke-width=\"2\" stroke-miterlimit=\"10\"/>\n",
       "<circle cx=\"76.4153\" cy=\"155.6044\" r=\"5.6693\" fill=\"none\" stroke=\"rgba(0,128,255,0.9412)\" stroke-width=\"2\" stroke-miterlimit=\"10\"/>\n",
       "<circle cx=\"150.2927\" cy=\"170.8653\" r=\"5.6693\" fill=\"none\" stroke=\"rgba(0,128,255,0.9412)\" stroke-width=\"2\" stroke-miterlimit=\"10\"/>\n",
       "<circle cx=\"90.177\" cy=\"130.9443\" r=\"5.6693\" fill=\"none\" stroke=\"rgba(0,128,255,0.9412)\" stroke-width=\"2\" stroke-miterlimit=\"10\"/>\n",
       "<circle cx=\"171.4507\" cy=\"144.8813\" r=\"5.6693\" fill=\"none\" stroke=\"rgba(0,128,255,0.9412)\" stroke-width=\"2\" stroke-miterlimit=\"10\"/>\n",
       "<circle cx=\"70.9387\" cy=\"78.3025\" r=\"5.6693\" fill=\"none\" stroke=\"rgba(0,128,255,0.9412)\" stroke-width=\"2\" stroke-miterlimit=\"10\"/>\n",
       "<circle cx=\"131.8069\" cy=\"122.5833\" r=\"5.6693\" fill=\"none\" stroke=\"rgba(0,128,255,0.9412)\" stroke-width=\"2\" stroke-miterlimit=\"10\"/>\n",
       "<circle cx=\"162.3532\" cy=\"174.1269\" r=\"5.6693\" fill=\"none\" stroke=\"rgba(0,128,255,0.9412)\" stroke-width=\"2\" stroke-miterlimit=\"10\"/>\n",
       "<circle cx=\"166.4844\" cy=\"146.4947\" r=\"5.6693\" fill=\"none\" stroke=\"rgba(0,128,255,0.9412)\" stroke-width=\"2\" stroke-miterlimit=\"10\"/>\n",
       "<circle cx=\"71.5887\" cy=\"205.8245\" r=\"5.6693\" fill=\"none\" stroke=\"rgba(0,128,255,0.9412)\" stroke-width=\"2\" stroke-miterlimit=\"10\"/>\n",
       "<circle cx=\"161.8613\" cy=\"134.5292\" r=\"5.6693\" fill=\"none\" stroke=\"rgba(0,128,255,0.9412)\" stroke-width=\"2\" stroke-miterlimit=\"10\"/>\n",
       "<circle cx=\"101.024\" cy=\"178.1816\" r=\"5.6693\" fill=\"none\" stroke=\"rgba(0,128,255,0.9412)\" stroke-width=\"2\" stroke-miterlimit=\"10\"/>\n",
       "<circle cx=\"95.865\" cy=\"140.7202\" r=\"5.6693\" fill=\"none\" stroke=\"rgba(0,128,255,0.9412)\" stroke-width=\"2\" stroke-miterlimit=\"10\"/>\n",
       "<circle cx=\"115.3946\" cy=\"182.7731\" r=\"5.6693\" fill=\"none\" stroke=\"rgba(0,128,255,0.9412)\" stroke-width=\"2\" stroke-miterlimit=\"10\"/>\n",
       "<circle cx=\"154.6526\" cy=\"84.9602\" r=\"5.6693\" fill=\"none\" stroke=\"rgba(0,128,255,0.9412)\" stroke-width=\"2\" stroke-miterlimit=\"10\"/>\n",
       "<circle cx=\"96.7923\" cy=\"91.4743\" r=\"5.6693\" fill=\"none\" stroke=\"rgba(0,128,255,0.9412)\" stroke-width=\"2\" stroke-miterlimit=\"10\"/>\n",
       "<circle cx=\"59.3118\" cy=\"179.4714\" r=\"5.6693\" fill=\"none\" stroke=\"rgba(0,128,255,0.9412)\" stroke-width=\"2\" stroke-miterlimit=\"10\"/>\n",
       "<circle cx=\"159.4183\" cy=\"163.814\" r=\"5.6693\" fill=\"none\" stroke=\"rgba(0,128,255,0.9412)\" stroke-width=\"2\" stroke-miterlimit=\"10\"/>\n",
       "<circle cx=\"130.1523\" cy=\"181.6902\" r=\"5.6693\" fill=\"none\" stroke=\"rgba(0,128,255,0.9412)\" stroke-width=\"2\" stroke-miterlimit=\"10\"/>\n",
       "<circle cx=\"114.3089\" cy=\"117.0164\" r=\"5.6693\" fill=\"none\" stroke=\"rgba(0,128,255,0.9412)\" stroke-width=\"2\" stroke-miterlimit=\"10\"/>\n",
       "<circle cx=\"97.4086\" cy=\"147.0263\" r=\"5.6693\" fill=\"none\" stroke=\"rgba(0,128,255,0.9412)\" stroke-width=\"2\" stroke-miterlimit=\"10\"/>\n",
       "<circle cx=\"82.0768\" cy=\"123.5674\" r=\"5.6693\" fill=\"none\" stroke=\"rgba(0,128,255,0.9412)\" stroke-width=\"2\" stroke-miterlimit=\"10\"/>\n",
       "<circle cx=\"176.5593\" cy=\"197.8451\" r=\"5.6693\" fill=\"none\" stroke=\"rgba(0,128,255,0.9412)\" stroke-width=\"2\" stroke-miterlimit=\"10\"/>\n",
       "<circle cx=\"210.7918\" cy=\"59.2106\" r=\"5.6693\" fill=\"none\" stroke=\"rgba(0,128,255,0.9412)\" stroke-width=\"2\" stroke-miterlimit=\"10\"/>\n",
       "<circle cx=\"128.5851\" cy=\"136.1748\" r=\"5.6693\" fill=\"none\" stroke=\"rgba(0,128,255,0.9412)\" stroke-width=\"2\" stroke-miterlimit=\"10\"/>\n",
       "<circle cx=\"168.6397\" cy=\"101.9076\" r=\"5.6693\" fill=\"none\" stroke=\"rgba(0,128,255,0.9412)\" stroke-width=\"2\" stroke-miterlimit=\"10\"/>\n",
       "<circle cx=\"91.8425\" cy=\"107.7079\" r=\"5.6693\" fill=\"none\" stroke=\"rgba(0,128,255,0.9412)\" stroke-width=\"2\" stroke-miterlimit=\"10\"/>\n",
       "<circle cx=\"140.654\" cy=\"102.7583\" r=\"5.6693\" fill=\"none\" stroke=\"rgba(0,128,255,0.9412)\" stroke-width=\"2\" stroke-miterlimit=\"10\"/>\n",
       "<circle cx=\"107.3773\" cy=\"160.0606\" r=\"5.6693\" fill=\"none\" stroke=\"rgba(0,128,255,0.9412)\" stroke-width=\"2\" stroke-miterlimit=\"10\"/>\n",
       "<circle cx=\"167.4056\" cy=\"210.9357\" r=\"5.6693\" fill=\"none\" stroke=\"rgba(0,128,255,0.9412)\" stroke-width=\"2\" stroke-miterlimit=\"10\"/>\n",
       "<circle cx=\"208.4608\" cy=\"203.5463\" r=\"5.6693\" fill=\"none\" stroke=\"rgba(0,128,255,0.9412)\" stroke-width=\"2\" stroke-miterlimit=\"10\"/>\n",
       "<circle cx=\"124.3794\" cy=\"131.2036\" r=\"5.6693\" fill=\"none\" stroke=\"rgba(0,128,255,0.9412)\" stroke-width=\"2\" stroke-miterlimit=\"10\"/>\n",
       "<circle cx=\"187.309\" cy=\"177.0856\" r=\"5.6693\" fill=\"none\" stroke=\"rgba(0,128,255,0.9412)\" stroke-width=\"2\" stroke-miterlimit=\"10\"/>\n",
       "<circle cx=\"81.9365\" cy=\"73.2504\" r=\"5.6693\" fill=\"none\" stroke=\"rgba(0,128,255,0.9412)\" stroke-width=\"2\" stroke-miterlimit=\"10\"/>\n",
       "<circle cx=\"94.1662\" cy=\"116.6171\" r=\"5.6693\" fill=\"none\" stroke=\"rgba(0,128,255,0.9412)\" stroke-width=\"2\" stroke-miterlimit=\"10\"/>\n",
       "<circle cx=\"211.0159\" cy=\"194.5669\" r=\"5.6693\" fill=\"none\" stroke=\"rgba(0,128,255,0.9412)\" stroke-width=\"2\" stroke-miterlimit=\"10\"/>\n",
       "<circle cx=\"220.3679\" cy=\"73.5143\" r=\"5.6693\" fill=\"none\" stroke=\"rgba(0,128,255,0.9412)\" stroke-width=\"2\" stroke-miterlimit=\"10\"/>\n",
       "<circle cx=\"62.9057\" cy=\"113.4486\" r=\"5.6693\" fill=\"none\" stroke=\"rgba(0,128,255,0.9412)\" stroke-width=\"2\" stroke-miterlimit=\"10\"/>\n",
       "<circle cx=\"163.887\" cy=\"80.1728\" r=\"5.6693\" fill=\"none\" stroke=\"rgba(0,128,255,0.9412)\" stroke-width=\"2\" stroke-miterlimit=\"10\"/>\n",
       "<circle cx=\"138.4424\" cy=\"144.4083\" r=\"5.6693\" fill=\"none\" stroke=\"rgba(0,128,255,0.9412)\" stroke-width=\"2\" stroke-miterlimit=\"10\"/>\n",
       "<circle cx=\"147.5986\" cy=\"76.7415\" r=\"5.6693\" fill=\"none\" stroke=\"rgba(0,128,255,0.9412)\" stroke-width=\"2\" stroke-miterlimit=\"10\"/>\n",
       "<circle cx=\"96.3784\" cy=\"221.4958\" r=\"5.6693\" fill=\"none\" stroke=\"rgba(0,128,255,0.9412)\" stroke-width=\"2\" stroke-miterlimit=\"10\"/>\n",
       "<circle cx=\"164.8492\" cy=\"157.2406\" r=\"5.6693\" fill=\"none\" stroke=\"rgba(0,128,255,0.9412)\" stroke-width=\"2\" stroke-miterlimit=\"10\"/>\n",
       "<circle cx=\"80.8803\" cy=\"199.3467\" r=\"5.6693\" fill=\"none\" stroke=\"rgba(0,128,255,0.9412)\" stroke-width=\"2\" stroke-miterlimit=\"10\"/>\n",
       "<circle cx=\"188.3353\" cy=\"155.2731\" r=\"5.6693\" fill=\"none\" stroke=\"rgba(0,128,255,0.9412)\" stroke-width=\"2\" stroke-miterlimit=\"10\"/>\n",
       "<circle cx=\"138.6574\" cy=\"151.2555\" r=\"5.6693\" fill=\"none\" stroke=\"rgba(0,128,255,0.9412)\" stroke-width=\"2\" stroke-miterlimit=\"10\"/>\n",
       "<circle cx=\"82.1609\" cy=\"123.2727\" r=\"5.6693\" fill=\"none\" stroke=\"rgba(0,128,255,0.9412)\" stroke-width=\"2\" stroke-miterlimit=\"10\"/>\n",
       "<circle cx=\"204.6368\" cy=\"84.4228\" r=\"5.6693\" fill=\"none\" stroke=\"rgba(0,128,255,0.9412)\" stroke-width=\"2\" stroke-miterlimit=\"10\"/>\n",
       "<circle cx=\"155.9865\" cy=\"174.4382\" r=\"5.6693\" fill=\"none\" stroke=\"rgba(0,128,255,0.9412)\" stroke-width=\"2\" stroke-miterlimit=\"10\"/>\n",
       "<circle cx=\"179.7979\" cy=\"133.0189\" r=\"5.6693\" fill=\"none\" stroke=\"rgba(0,128,255,0.9412)\" stroke-width=\"2\" stroke-miterlimit=\"10\"/>\n",
       "<circle cx=\"179.758\" cy=\"144.6747\" r=\"5.6693\" fill=\"none\" stroke=\"rgba(0,128,255,0.9412)\" stroke-width=\"2\" stroke-miterlimit=\"10\"/>\n",
       "<circle cx=\"153.9186\" cy=\"72.983\" r=\"5.6693\" fill=\"none\" stroke=\"rgba(0,128,255,0.9412)\" stroke-width=\"2\" stroke-miterlimit=\"10\"/>\n",
       "</svg>"
      ],
      "text/plain": [
       "<IPython.core.display.SVG object>"
      ]
     },
     "metadata": {},
     "output_type": "display_data"
    }
   ],
   "source": [
    "d = document(100, 100, 'mm')\n",
    "page = d.addpage()\n",
    "uniform_fig = shape().nostroke().stroke(rgba(255, 0, 0, 240)).width(1).nofill()\n",
    "normal_fig = shape().nostroke().stroke(rgba(64, 220, 64, 240)).width(1.5).nofill()\n",
    "t_normal_fig = shape().nostroke().stroke(rgba(0, 128, 255, 240)).width(2).nofill()\n",
    "mu = 50 # center of normal distributions\n",
    "sigma = 20 # standard deviation of normal distributions\n",
    "sample_n = 400 # number of \"samples\" (i.e. circles to draw for each distribution)\n",
    "for i in range(sample_n):\n",
    "    c = uniform_fig.circle(uniform(100), uniform(100), 1)\n",
    "    page.place(c)\n",
    "for i in range(sample_n):\n",
    "    c = normal_fig.circle(normal(mu, sigma), normal(mu, sigma), 1.5)\n",
    "    page.place(c)\n",
    "for i in range(sample_n):\n",
    "    c = t_normal_fig.circle(t_normal(20, 80, mu, sigma), t_normal(20, 80, mu, sigma), 2)\n",
    "    page.place(c)\n",
    "show(page)"
   ]
  },
  {
   "cell_type": "markdown",
   "metadata": {},
   "source": [
    "> Exercise: Copy the visualization above, but rewrite it to visualize three normal distributions with different standard deviations."
   ]
  },
  {
   "cell_type": "markdown",
   "metadata": {},
   "source": [
    "## Random compositions\n",
    "\n",
    "The following code uses random numbers to set the stroke color, fill color, and position of a rectangle on the page. (Run it multiple times to see the results.)"
   ]
  },
  {
   "cell_type": "code",
   "execution_count": 30,
   "metadata": {},
   "outputs": [
    {
     "data": {
      "image/svg+xml": [
       "<svg xmlns=\"http://www.w3.org/2000/svg\" xmlns:xlink=\"http://www.w3.org/1999/xlink\" version=\"1.1\" width=\"283.4646pt\" height=\"283.4646pt\" viewBox=\"0 0 283.4646 283.4646\">\n",
       "<title>Untitled</title>\n",
       "<rect x=\"95.7091\" y=\"105.097\" width=\"167.6557\" height=\"92.311\" fill=\"rgba(74,190,119,0.1569)\" stroke=\"rgba(86,40,141,1)\" stroke-width=\"4.734\" stroke-miterlimit=\"10\"/>\n",
       "</svg>"
      ],
      "text/plain": [
       "<IPython.core.display.SVG object>"
      ]
     },
     "metadata": {},
     "output_type": "display_data"
    }
   ],
   "source": [
    "d = document(100, 100, 'mm')\n",
    "page = d.addpage()\n",
    "stroke_c = rgba(int(t_normal(0, 100, 50, 25)),\n",
    "                int(t_normal(0, 100, 50, 25)),\n",
    "                int(uniform(255)),\n",
    "                255)\n",
    "fill_c = rgba(int(uniform(255)),\n",
    "              int(uniform(255)),\n",
    "              int(uniform(255)),\n",
    "              choice([40, 255], p=[0.9, 0.1]))\n",
    "figure = shape().stroke(stroke_c).fill(fill_c).width(uniform(5))\n",
    "rect = figure.rectangle(\n",
    "    normal(25, 10), normal(25, 10),\n",
    "    normal(50, 10), normal(20, 10))\n",
    "page.place(rect)\n",
    "show(page)"
   ]
  },
  {
   "cell_type": "markdown",
   "metadata": {},
   "source": [
    "Play around with the parameters a bit until you understand how it works. Anywhere you see a call to `uniform()`, `normal()`, `t_normal()` or `choice()`, you can replace it with a call to another one of those same functions. (Note that colors values *always* have to be integers and always need to be between 0–255.)\n",
    "\n",
    "The cell below uses a `for` loop to draw multiple rectangles:"
   ]
  },
  {
   "cell_type": "code",
   "execution_count": 31,
   "metadata": {},
   "outputs": [
    {
     "data": {
      "image/svg+xml": [
       "<svg xmlns=\"http://www.w3.org/2000/svg\" xmlns:xlink=\"http://www.w3.org/1999/xlink\" version=\"1.1\" width=\"283.4646pt\" height=\"283.4646pt\" viewBox=\"0 0 283.4646 283.4646\">\n",
       "<title>Untitled</title>\n",
       "<rect x=\"96.0902\" y=\"48.7366\" width=\"109.7338\" height=\"83.6394\" fill=\"rgba(140,147,127,1)\" stroke=\"rgba(12,50,65,1)\" stroke-width=\"4.6063\" stroke-miterlimit=\"10\"/>\n",
       "<rect x=\"93.9958\" y=\"103.6313\" width=\"104.5993\" height=\"88.8395\" fill=\"rgba(140,190,132,0.1569)\" stroke=\"rgba(74,29,186,1)\" stroke-width=\"4.5142\" stroke-miterlimit=\"10\"/>\n",
       "<rect x=\"91.0855\" y=\"45.612\" width=\"145.7367\" height=\"83.6947\" fill=\"rgba(136,84,210,0.1569)\" stroke=\"rgba(57,76,198,1)\" stroke-width=\"2.0796\" stroke-miterlimit=\"10\"/>\n",
       "<rect x=\"80.7096\" y=\"78.2525\" width=\"118.0515\" height=\"103.1413\" fill=\"rgba(191,73,63,0.1569)\" stroke=\"rgba(49,29,167,1)\" stroke-width=\"2.9987\" stroke-miterlimit=\"10\"/>\n",
       "<rect x=\"68.6171\" y=\"60.5909\" width=\"135.9997\" height=\"70.5878\" fill=\"rgba(6,56,168,0.1569)\" stroke=\"rgba(45,34,195,1)\" stroke-width=\"4.0378\" stroke-miterlimit=\"10\"/>\n",
       "<rect x=\"67.0091\" y=\"45.3825\" width=\"121.448\" height=\"41.0424\" fill=\"rgba(174,177,192,0.1569)\" stroke=\"rgba(79,38,120,1)\" stroke-width=\"1.7652\" stroke-miterlimit=\"10\"/>\n",
       "<rect x=\"31.3309\" y=\"62.7261\" width=\"160.1582\" height=\"109.5739\" fill=\"rgba(249,227,240,0.1569)\" stroke=\"rgba(49,39,58,1)\" stroke-width=\"4.5386\" stroke-miterlimit=\"10\"/>\n",
       "<rect x=\"88.605\" y=\"42.7709\" width=\"139.4926\" height=\"11.8928\" fill=\"rgba(206,28,74,0.1569)\" stroke=\"rgba(66,53,198,1)\" stroke-width=\"2.7839\" stroke-miterlimit=\"10\"/>\n",
       "<rect x=\"99.4274\" y=\"65.3481\" width=\"182.4339\" height=\"76.2228\" fill=\"rgba(86,116,217,0.1569)\" stroke=\"rgba(68,78,74,1)\" stroke-width=\"2.8117\" stroke-miterlimit=\"10\"/>\n",
       "<rect x=\"69.3264\" y=\"47.2311\" width=\"80.0216\" height=\"38.914\" fill=\"rgba(103,219,148,0.1569)\" stroke=\"rgba(65,41,198,1)\" stroke-width=\"2.4903\" stroke-miterlimit=\"10\"/>\n",
       "<rect x=\"77.9681\" y=\"104.2832\" width=\"121.7902\" height=\"94.5491\" fill=\"rgba(58,159,154,0.1569)\" stroke=\"rgba(19,48,46,1)\" stroke-width=\"4.8871\" stroke-miterlimit=\"10\"/>\n",
       "<rect x=\"62.3777\" y=\"75.0765\" width=\"137.8535\" height=\"106.4152\" fill=\"rgba(253,211,141,0.1569)\" stroke=\"rgba(25,60,159,1)\" stroke-width=\"2.5369\" stroke-miterlimit=\"10\"/>\n",
       "<rect x=\"66.433\" y=\"31.7282\" width=\"145.7269\" height=\"81.6242\" fill=\"rgba(15,217,123,0.1569)\" stroke=\"rgba(39,66,97,1)\" stroke-width=\"4.1964\" stroke-miterlimit=\"10\"/>\n",
       "<rect x=\"70.0897\" y=\"74.2121\" width=\"104.735\" height=\"89.082\" fill=\"rgba(231,133,171,1)\" stroke=\"rgba(55,82,69,1)\" stroke-width=\"3.8478\" stroke-miterlimit=\"10\"/>\n",
       "<rect x=\"36.7023\" y=\"67.8567\" width=\"111.1685\" height=\"6.4436\" fill=\"rgba(231,65,67,0.1569)\" stroke=\"rgba(42,68,9,1)\" stroke-width=\"1.7293\" stroke-miterlimit=\"10\"/>\n",
       "<rect x=\"61.9131\" y=\"15.001\" width=\"125.7417\" height=\"19.8352\" fill=\"rgba(167,74,41,0.1569)\" stroke=\"rgba(80,60,41,1)\" stroke-width=\"3.9371\" stroke-miterlimit=\"10\"/>\n",
       "<rect x=\"127.3209\" y=\"104.5876\" width=\"148.5256\" height=\"33.9464\" fill=\"rgba(235,206,208,0.1569)\" stroke=\"rgba(92,61,116,1)\" stroke-width=\"2.4329\" stroke-miterlimit=\"10\"/>\n",
       "<rect x=\"75.7768\" y=\"80.8282\" width=\"136.2582\" height=\"52.885\" fill=\"rgba(206,140,145,0.1569)\" stroke=\"rgba(49,23,40,1)\" stroke-width=\"3.3606\" stroke-miterlimit=\"10\"/>\n",
       "<rect x=\"95.3656\" y=\"60.7012\" width=\"133.836\" height=\"45.1618\" fill=\"rgba(231,167,134,0.1569)\" stroke=\"rgba(71,52,63,1)\" stroke-width=\"1.1561\" stroke-miterlimit=\"10\"/>\n",
       "<rect x=\"61.6079\" y=\"76.9491\" width=\"137.9438\" height=\"52.0693\" fill=\"rgba(186,241,77,0.1569)\" stroke=\"rgba(20,74,53,1)\" stroke-width=\"3.06\" stroke-miterlimit=\"10\"/>\n",
       "</svg>"
      ],
      "text/plain": [
       "<IPython.core.display.SVG object>"
      ]
     },
     "metadata": {},
     "output_type": "display_data"
    }
   ],
   "source": [
    "d = document(100, 100, 'mm')\n",
    "page = d.addpage()\n",
    "for i in range(int(uniform(8, 24))):\n",
    "    stroke_c = rgba(int(t_normal(0, 100, 50, 25)),\n",
    "                    int(t_normal(0, 100, 50, 25)),\n",
    "                    int(uniform(255)),\n",
    "                    255)\n",
    "    fill_c = rgba(int(uniform(255)),\n",
    "                  int(uniform(255)),\n",
    "                  int(uniform(255)),\n",
    "                  choice([40, 255], p=[0.9, 0.1]))\n",
    "    figure = shape().stroke(stroke_c).fill(fill_c).width(uniform(5))\n",
    "    rect = figure.rectangle(normal(25, 10), normal(25, 10),\n",
    "                            normal(50, 10), normal(20, 10))\n",
    "    page.place(rect)\n",
    "show(page)"
   ]
  },
  {
   "cell_type": "markdown",
   "metadata": {},
   "source": [
    "Here's another example that uses circles instead of rectangles:"
   ]
  },
  {
   "cell_type": "code",
   "execution_count": 32,
   "metadata": {},
   "outputs": [
    {
     "data": {
      "image/svg+xml": [
       "<svg xmlns=\"http://www.w3.org/2000/svg\" xmlns:xlink=\"http://www.w3.org/1999/xlink\" version=\"1.1\" width=\"283.4646pt\" height=\"283.4646pt\" viewBox=\"0 0 283.4646 283.4646\">\n",
       "<title>Untitled</title>\n",
       "<circle cx=\"182.1153\" cy=\"155.3606\" r=\"46.6619\" fill=\"rgba(0,0,148,0.3137)\"/>\n",
       "<circle cx=\"132.594\" cy=\"107.9994\" r=\"71.8654\" fill=\"rgba(0,0,178,0.1569)\"/>\n",
       "<circle cx=\"168.871\" cy=\"166.2751\" r=\"129.256\" fill=\"rgba(0,0,90,0.3137)\"/>\n",
       "<circle cx=\"190.6449\" cy=\"172.4161\" r=\"46.8578\" fill=\"rgba(0,0,122,0.3137)\"/>\n",
       "<circle cx=\"176.381\" cy=\"72.047\" r=\"118.4506\" fill=\"rgba(0,0,235,0.3137)\"/>\n",
       "<circle cx=\"118.1089\" cy=\"161.9726\" r=\"134.5161\" fill=\"rgba(0,0,253,0.1569)\"/>\n",
       "<circle cx=\"143.7572\" cy=\"121.6864\" r=\"47.3769\" fill=\"rgba(0,0,182,0.3137)\"/>\n",
       "<circle cx=\"125.1529\" cy=\"186.3972\" r=\"53.1509\" fill=\"rgba(0,0,92,0.1569)\"/>\n",
       "<circle cx=\"123.7451\" cy=\"128.2036\" r=\"105.9638\" fill=\"rgba(0,0,179,0.1569)\"/>\n",
       "<circle cx=\"167.8641\" cy=\"143.0967\" r=\"44.6786\" fill=\"rgba(0,0,19,0.3137)\"/>\n",
       "<circle cx=\"153.4286\" cy=\"142.5478\" r=\"124.3257\" fill=\"rgba(0,0,106,0.3137)\"/>\n",
       "<circle cx=\"166.2559\" cy=\"181.0911\" r=\"12.6329\" fill=\"rgba(0,0,52,0.3137)\"/>\n",
       "</svg>"
      ],
      "text/plain": [
       "<IPython.core.display.SVG object>"
      ]
     },
     "metadata": {},
     "output_type": "display_data"
    }
   ],
   "source": [
    "d = document(100, 100, 'mm')\n",
    "page = d.addpage()\n",
    "for i in range(12):\n",
    "    fill_c = rgba(0, 0, int(uniform(255)), choice([40, 80], p=[0.5, 0.5]))\n",
    "    figure = shape().nostroke().fill(fill_c).width(np.random.uniform(5))\n",
    "    rect = figure.circle(normal(50, 10), normal(50, 10), t_normal(0, 100, 25, 15))\n",
    "    page.place(rect)\n",
    "show(page)"
   ]
  },
  {
   "cell_type": "markdown",
   "metadata": {},
   "source": [
    "> Exercise: Write code to generate random compositions by copying one of the cells above and modifying the parameters. Also try adding in new shapes or combining different kinds of shapes.\n",
    "\n",
    "> Exercise: Can you figure out how to make the \"page\" bigger? How do you need to adjust the parameters in the random number-generating functions to compensate?"
   ]
  },
  {
   "cell_type": "markdown",
   "metadata": {},
   "source": [
    "## Saving to disk\n",
    "\n",
    "If you make something with Flat that you really like, you can save it to disk for later use. You can do this in a number of ways, outputting to a number of formats. The `page` object's `.svg()` function returns a string of SVG:"
   ]
  },
  {
   "cell_type": "code",
   "execution_count": 33,
   "metadata": {
    "scrolled": true
   },
   "outputs": [
    {
     "data": {
      "text/plain": [
       "b'<?xml version=\"1.0\" encoding=\"UTF-8\"?>\\n<!-- Flat -->\\n<svg version=\"1.1\" xmlns=\"http://www.w3.org/2000/svg\" xmlns:xlink=\"http://www.w3.org/1999/xlink\" width=\"283.4646pt\" height=\"283.4646pt\" viewBox=\"0 0 283.4646 283.4646\">\\n<title>Untitled</title>\\n<circle cx=\"182.1153\" cy=\"155.3606\" r=\"46.6619\" fill=\"rgba(0,0,148,0.3137)\" />\\n<circle cx=\"132.594\" cy=\"107.9994\" r=\"71.8654\" fill=\"rgba(0,0,178,0.1569)\" />\\n<circle cx=\"168.871\" cy=\"166.2751\" r=\"129.256\" fill=\"rgba(0,0,90,0.3137)\" />\\n<circle cx=\"190.6449\" cy=\"172.4161\" r=\"46.8578\" fill=\"rgba(0,0,122,0.3137)\" />\\n<circle cx=\"176.381\" cy=\"72.047\" r=\"118.4506\" fill=\"rgba(0,0,235,0.3137)\" />\\n<circle cx=\"118.1089\" cy=\"161.9726\" r=\"134.5161\" fill=\"rgba(0,0,253,0.1569)\" />\\n<circle cx=\"143.7572\" cy=\"121.6864\" r=\"47.3769\" fill=\"rgba(0,0,182,0.3137)\" />\\n<circle cx=\"125.1529\" cy=\"186.3972\" r=\"53.1509\" fill=\"rgba(0,0,92,0.1569)\" />\\n<circle cx=\"123.7451\" cy=\"128.2036\" r=\"105.9638\" fill=\"rgba(0,0,179,0.1569)\" />\\n<circle cx=\"167.8641\" cy=\"143.0967\" r=\"44.6786\" fill=\"rgba(0,0,19,0.3137)\" />\\n<circle cx=\"153.4286\" cy=\"142.5478\" r=\"124.3257\" fill=\"rgba(0,0,106,0.3137)\" />\\n<circle cx=\"166.2559\" cy=\"181.0911\" r=\"12.6329\" fill=\"rgba(0,0,52,0.3137)\" />\\n</svg>'"
      ]
     },
     "execution_count": 33,
     "metadata": {},
     "output_type": "execute_result"
    }
   ],
   "source": [
    "page.svg()"
   ]
  },
  {
   "cell_type": "markdown",
   "metadata": {},
   "source": [
    "Which you can then write to disk using the following code:"
   ]
  },
  {
   "cell_type": "code",
   "execution_count": 34,
   "metadata": {},
   "outputs": [],
   "source": [
    "with open(\"test.svg\", \"wb\") as fh:\n",
    "    fh.write(page.svg())"
   ]
  },
  {
   "cell_type": "markdown",
   "metadata": {},
   "source": [
    "You can open this SVG file with most vector editors (Inkscape, Illustrator, etc.), though note that if you use `rgba` colors, the file might not work in some editors.\n",
    "\n",
    "You can also save as an image using the `page` object's `.image()` method. For example, to save as a PNG:"
   ]
  },
  {
   "cell_type": "code",
   "execution_count": 35,
   "metadata": {},
   "outputs": [],
   "source": [
    "with open(\"test.png\", \"wb\") as fh:\n",
    "    fh.write(page.image(ppi=72, kind=\"rgba\").png())"
   ]
  },
  {
   "cell_type": "markdown",
   "metadata": {},
   "source": [
    "Adjust the DPI with the `ppi` parameter. Note that Flat's PNG rasterizer is very slow, so preview at lower DPI before waiting for a higher-resolution render."
   ]
  },
  {
   "cell_type": "markdown",
   "metadata": {},
   "source": [
    "## Polylines\n",
    "\n",
    "Okay, so, random numbers are good! But how does this help us model pen strokes? Good question. We're getting there! The next step in our asemic journey is to create a *series of lines* linking a given list of points (specified as (x, y) coordinates). The name for this shape—a series of connected lines—is a *polyline*.\n",
    "\n",
    "The first step in making a polyline is to generate some points. The following cell creates a Python list with randomly-generated points:"
   ]
  },
  {
   "cell_type": "code",
   "execution_count": 36,
   "metadata": {},
   "outputs": [],
   "source": [
    "pts = []\n",
    "for i in range(10):\n",
    "    pts.append([uniform(100), uniform(100)])"
   ]
  },
  {
   "cell_type": "markdown",
   "metadata": {},
   "source": [
    "Here's what the points look like. This is a data structure called a *list of lists* (i.e., a list that has other lists as its elements), which for various reasons is a convenient way to store polylines and polygons."
   ]
  },
  {
   "cell_type": "code",
   "execution_count": 37,
   "metadata": {
    "scrolled": true
   },
   "outputs": [
    {
     "data": {
      "text/plain": [
       "[[86.0813054237545, 60.35508056355333],\n",
       " [62.08269328139076, 40.5185945332851],\n",
       " [62.08051241554262, 30.14264408454659],\n",
       " [85.498222781727, 35.975593986959055],\n",
       " [57.89961465066934, 26.875577417708982],\n",
       " [73.54856174617963, 16.48501269317272],\n",
       " [18.07387604864843, 17.70259725519432],\n",
       " [81.11331967082374, 17.422140063701832],\n",
       " [76.50489180361433, 90.00679804005826],\n",
       " [47.49997865526603, 45.847643988506356]]"
      ]
     },
     "execution_count": 37,
     "metadata": {},
     "output_type": "execute_result"
    }
   ],
   "source": [
    "pts"
   ]
  },
  {
   "cell_type": "markdown",
   "metadata": {},
   "source": [
    "And here's some code to draw the points on a page, using a circle to mark each point."
   ]
  },
  {
   "cell_type": "code",
   "execution_count": 38,
   "metadata": {},
   "outputs": [
    {
     "data": {
      "image/svg+xml": [
       "<svg xmlns=\"http://www.w3.org/2000/svg\" xmlns:xlink=\"http://www.w3.org/1999/xlink\" version=\"1.1\" width=\"283.4646pt\" height=\"283.4646pt\" viewBox=\"0 0 283.4646 283.4646\">\n",
       "<title>Untitled</title>\n",
       "<circle cx=\"244.01\" cy=\"171.0853\" r=\"5.6693\" fill=\"none\" stroke=\"rgba(0,0,0,1)\" stroke-miterlimit=\"10\"/>\n",
       "<circle cx=\"175.9824\" cy=\"114.8559\" r=\"5.6693\" fill=\"none\" stroke=\"rgba(0,0,0,1)\" stroke-miterlimit=\"10\"/>\n",
       "<circle cx=\"175.9763\" cy=\"85.4437\" r=\"5.6693\" fill=\"none\" stroke=\"rgba(0,0,0,1)\" stroke-miterlimit=\"10\"/>\n",
       "<circle cx=\"242.3572\" cy=\"101.9781\" r=\"5.6693\" fill=\"none\" stroke=\"rgba(0,0,0,1)\" stroke-miterlimit=\"10\"/>\n",
       "<circle cx=\"164.1249\" cy=\"76.1827\" r=\"5.6693\" fill=\"none\" stroke=\"rgba(0,0,0,1)\" stroke-miterlimit=\"10\"/>\n",
       "<circle cx=\"208.4841\" cy=\"46.7292\" r=\"5.6693\" fill=\"none\" stroke=\"rgba(0,0,0,1)\" stroke-miterlimit=\"10\"/>\n",
       "<circle cx=\"51.233\" cy=\"50.1806\" r=\"5.6693\" fill=\"none\" stroke=\"rgba(0,0,0,1)\" stroke-miterlimit=\"10\"/>\n",
       "<circle cx=\"229.9275\" cy=\"49.3856\" r=\"5.6693\" fill=\"none\" stroke=\"rgba(0,0,0,1)\" stroke-miterlimit=\"10\"/>\n",
       "<circle cx=\"216.8643\" cy=\"255.1374\" r=\"5.6693\" fill=\"none\" stroke=\"rgba(0,0,0,1)\" stroke-miterlimit=\"10\"/>\n",
       "<circle cx=\"134.6456\" cy=\"129.9618\" r=\"5.6693\" fill=\"none\" stroke=\"rgba(0,0,0,1)\" stroke-miterlimit=\"10\"/>\n",
       "</svg>"
      ],
      "text/plain": [
       "<IPython.core.display.SVG object>"
      ]
     },
     "metadata": {},
     "output_type": "display_data"
    }
   ],
   "source": [
    "d = document(100, 100, 'mm')\n",
    "page = d.addpage()\n",
    "figure = shape().stroke(rgba(0, 0, 0, 255)).width(1)\n",
    "for item in pts: # loop through the pts list, assigning each point to variable item\n",
    "    c = figure.circle(item[0], item[1], 2)\n",
    "    page.place(c)\n",
    "show(page)"
   ]
  },
  {
   "cell_type": "markdown",
   "metadata": {},
   "source": [
    "The flat library has a built-in shape type, `.polyline()`, which draws lines connecting points. But the function wants the points as a list of points with the `x` and `y` coordinates directly following one another:"
   ]
  },
  {
   "cell_type": "code",
   "execution_count": 39,
   "metadata": {},
   "outputs": [
    {
     "data": {
      "image/svg+xml": [
       "<svg xmlns=\"http://www.w3.org/2000/svg\" xmlns:xlink=\"http://www.w3.org/1999/xlink\" version=\"1.1\" width=\"283.4646pt\" height=\"283.4646pt\" viewBox=\"0 0 283.4646 283.4646\">\n",
       "<title>Untitled</title>\n",
       "<polyline points=\"56.6929 28.3465 113.3858 212.5984 255.1181 240.9449 42.5197 42.5197\" fill=\"none\" stroke=\"rgba(0,0,0,1)\" stroke-miterlimit=\"10\"/>\n",
       "</svg>"
      ],
      "text/plain": [
       "<IPython.core.display.SVG object>"
      ]
     },
     "metadata": {},
     "output_type": "display_data"
    }
   ],
   "source": [
    "d = document(100, 100, 'mm')\n",
    "page = d.addpage()\n",
    "figure = shape().stroke(rgba(0, 0, 0, 255)).width(1)\n",
    "lines = figure.polyline([20, 10, 40, 75, 90, 85, 15, 15])\n",
    "page.place(lines)\n",
    "show(page)"
   ]
  },
  {
   "cell_type": "markdown",
   "metadata": {},
   "source": [
    "To get around this requirement of the library, the function below takes a list of lists and flattens it into a list (with the `x` and `y` components of the coordinates appropriately interleaved)."
   ]
  },
  {
   "cell_type": "code",
   "execution_count": 40,
   "metadata": {},
   "outputs": [],
   "source": [
    "def flatten(t):\n",
    "    from itertools import chain\n",
    "    return list(chain(*t))"
   ]
  },
  {
   "cell_type": "markdown",
   "metadata": {},
   "source": [
    "The code in the cell below draws a polyline from our randomly-generated points and draws circles where each point lies:"
   ]
  },
  {
   "cell_type": "code",
   "execution_count": 41,
   "metadata": {},
   "outputs": [
    {
     "data": {
      "image/svg+xml": [
       "<svg xmlns=\"http://www.w3.org/2000/svg\" xmlns:xlink=\"http://www.w3.org/1999/xlink\" version=\"1.1\" width=\"283.4646pt\" height=\"283.4646pt\" viewBox=\"0 0 283.4646 283.4646\">\n",
       "<title>Untitled</title>\n",
       "<polyline points=\"244.01 171.0853 175.9824 114.8559 175.9763 85.4437 242.3572 101.9781 164.1249 76.1827 208.4841 46.7292 51.233 50.1806 229.9275 49.3856 216.8643 255.1374 134.6456 129.9618\" fill=\"none\" stroke=\"rgba(0,0,0,1)\" stroke-miterlimit=\"10\"/>\n",
       "<circle cx=\"244.01\" cy=\"171.0853\" r=\"5.6693\" fill=\"none\" stroke=\"rgba(0,0,0,1)\" stroke-miterlimit=\"10\"/>\n",
       "<circle cx=\"175.9824\" cy=\"114.8559\" r=\"5.6693\" fill=\"none\" stroke=\"rgba(0,0,0,1)\" stroke-miterlimit=\"10\"/>\n",
       "<circle cx=\"175.9763\" cy=\"85.4437\" r=\"5.6693\" fill=\"none\" stroke=\"rgba(0,0,0,1)\" stroke-miterlimit=\"10\"/>\n",
       "<circle cx=\"242.3572\" cy=\"101.9781\" r=\"5.6693\" fill=\"none\" stroke=\"rgba(0,0,0,1)\" stroke-miterlimit=\"10\"/>\n",
       "<circle cx=\"164.1249\" cy=\"76.1827\" r=\"5.6693\" fill=\"none\" stroke=\"rgba(0,0,0,1)\" stroke-miterlimit=\"10\"/>\n",
       "<circle cx=\"208.4841\" cy=\"46.7292\" r=\"5.6693\" fill=\"none\" stroke=\"rgba(0,0,0,1)\" stroke-miterlimit=\"10\"/>\n",
       "<circle cx=\"51.233\" cy=\"50.1806\" r=\"5.6693\" fill=\"none\" stroke=\"rgba(0,0,0,1)\" stroke-miterlimit=\"10\"/>\n",
       "<circle cx=\"229.9275\" cy=\"49.3856\" r=\"5.6693\" fill=\"none\" stroke=\"rgba(0,0,0,1)\" stroke-miterlimit=\"10\"/>\n",
       "<circle cx=\"216.8643\" cy=\"255.1374\" r=\"5.6693\" fill=\"none\" stroke=\"rgba(0,0,0,1)\" stroke-miterlimit=\"10\"/>\n",
       "<circle cx=\"134.6456\" cy=\"129.9618\" r=\"5.6693\" fill=\"none\" stroke=\"rgba(0,0,0,1)\" stroke-miterlimit=\"10\"/>\n",
       "</svg>"
      ],
      "text/plain": [
       "<IPython.core.display.SVG object>"
      ]
     },
     "metadata": {},
     "output_type": "display_data"
    }
   ],
   "source": [
    "d = document(100, 100, 'mm')\n",
    "page = d.addpage()\n",
    "figure = shape().stroke(rgba(0, 0, 0, 255)).width(1)\n",
    "lines = figure.polyline(flatten(pts))\n",
    "page.place(lines)\n",
    "for item in pts:\n",
    "    c = figure.circle(item[0], item[1], 2)\n",
    "    page.place(c)\n",
    "show(page)"
   ]
  },
  {
   "cell_type": "markdown",
   "metadata": {},
   "source": [
    "Combining all of this in the same cell, and getting rid of the circles on the points, gives us some code that generates designs that *almost* look like alien glyphs:"
   ]
  },
  {
   "cell_type": "code",
   "execution_count": 42,
   "metadata": {},
   "outputs": [
    {
     "data": {
      "image/svg+xml": [
       "<svg xmlns=\"http://www.w3.org/2000/svg\" xmlns:xlink=\"http://www.w3.org/1999/xlink\" version=\"1.1\" width=\"283.4646pt\" height=\"283.4646pt\" viewBox=\"0 0 283.4646 283.4646\">\n",
       "<title>Untitled</title>\n",
       "<polyline points=\"67.2418 75.1387 99.7798 103.584 260.9772 5.524 215.349 70.4571 46.4798 37.2968 239.4057 89.3429 231.8717 178.604 176.1877 178.2649 271.6012 19.5572 31.1317 92.3511\" fill=\"none\" stroke=\"rgba(0,0,0,1)\" stroke-miterlimit=\"10\"/>\n",
       "</svg>"
      ],
      "text/plain": [
       "<IPython.core.display.SVG object>"
      ]
     },
     "metadata": {},
     "output_type": "display_data"
    }
   ],
   "source": [
    "pts = []\n",
    "for i in range(10):\n",
    "    pts.append([uniform(100), uniform(100)])\n",
    "\n",
    "d = document(100, 100, 'mm')\n",
    "page = d.addpage()\n",
    "figure = shape().stroke(rgba(0, 0, 0, 255)).width(1)\n",
    "lines = figure.polyline(flatten(pts))\n",
    "page.place(lines)\n",
    "show(page)"
   ]
  },
  {
   "cell_type": "markdown",
   "metadata": {},
   "source": [
    "## Polyline objects\n",
    "\n",
    "The `bezmerizing` library comes with a `Polyline` object that represents a polyline. It has a number of useful features that we'll get into below. To make a `Polyline` object, pass in a 2d list of points to the constructor like so:"
   ]
  },
  {
   "cell_type": "code",
   "execution_count": 43,
   "metadata": {},
   "outputs": [],
   "source": [
    "pts = [[10, 10], [20, 20], [10, 30], [50, 65], [65, 25]]\n",
    "pline = Polyline(pts)"
   ]
  },
  {
   "cell_type": "markdown",
   "metadata": {},
   "source": [
    "To draw a `Polyline` object, pass it to Flat's `polyline` function. (Note that you don't need to use `flatten()` when working with `Polyline` objects!)"
   ]
  },
  {
   "cell_type": "code",
   "execution_count": 44,
   "metadata": {},
   "outputs": [
    {
     "data": {
      "image/svg+xml": [
       "<svg xmlns=\"http://www.w3.org/2000/svg\" xmlns:xlink=\"http://www.w3.org/1999/xlink\" version=\"1.1\" width=\"226.7717pt\" height=\"226.7717pt\" viewBox=\"0 0 226.7717 226.7717\">\n",
       "<title>Untitled</title>\n",
       "<polyline points=\"28.3465 28.3465 56.6929 56.6929 28.3465 85.0394 141.7323 184.252 184.252 70.8661\" fill=\"none\" stroke=\"rgba(0,0,0,1)\" stroke-miterlimit=\"10\"/>\n",
       "</svg>"
      ],
      "text/plain": [
       "<IPython.core.display.SVG object>"
      ]
     },
     "metadata": {},
     "output_type": "display_data"
    }
   ],
   "source": [
    "d = document(80, 80, 'mm')\n",
    "page = d.addpage()\n",
    "figure = shape().stroke(rgba(0, 0, 0, 255)).width(1)\n",
    "lines = figure.polyline(pline)\n",
    "page.place(lines)\n",
    "show(page)"
   ]
  },
  {
   "cell_type": "markdown",
   "metadata": {},
   "source": [
    "A `Polyline` object can also be used to draw a polygon with Flat's `.polygon()` method. (Essentially all this does is close the path.)"
   ]
  },
  {
   "cell_type": "code",
   "execution_count": 45,
   "metadata": {},
   "outputs": [
    {
     "data": {
      "image/svg+xml": [
       "<svg xmlns=\"http://www.w3.org/2000/svg\" xmlns:xlink=\"http://www.w3.org/1999/xlink\" version=\"1.1\" width=\"226.7717pt\" height=\"226.7717pt\" viewBox=\"0 0 226.7717 226.7717\">\n",
       "<title>Untitled</title>\n",
       "<polygon points=\"28.3465 28.3465 56.6929 56.6929 28.3465 85.0394 141.7323 184.252 184.252 70.8661\" fill=\"rgba(160,0,160,1)\" stroke=\"rgba(0,0,0,1)\" stroke-miterlimit=\"10\"/>\n",
       "</svg>"
      ],
      "text/plain": [
       "<IPython.core.display.SVG object>"
      ]
     },
     "metadata": {},
     "output_type": "display_data"
    }
   ],
   "source": [
    "d = document(80, 80, 'mm')\n",
    "page = d.addpage()\n",
    "figure = shape().stroke(rgba(0, 0, 0, 255)).fill(rgba(160, 0, 160, 255)).width(1)\n",
    "lines = figure.polygon(pline)\n",
    "page.place(lines)\n",
    "show(page)"
   ]
  },
  {
   "cell_type": "markdown",
   "metadata": {},
   "source": [
    "You can examine a `Polyline`'s contents by evaluating it:"
   ]
  },
  {
   "cell_type": "code",
   "execution_count": 46,
   "metadata": {},
   "outputs": [
    {
     "data": {
      "text/plain": [
       "Polyline([[10.0000, 10.0000], [20.0000, 20.0000], [10.0000, 30.0000], [50.0000, 65.0000], [65.0000, 25.0000]])"
      ]
     },
     "execution_count": 46,
     "metadata": {},
     "output_type": "execute_result"
    }
   ],
   "source": [
    "pline"
   ]
  },
  {
   "cell_type": "markdown",
   "metadata": {},
   "source": [
    "And access the vertices directly (as a Numpy array) with the `.vertices` attribute:"
   ]
  },
  {
   "cell_type": "code",
   "execution_count": 47,
   "metadata": {},
   "outputs": [
    {
     "data": {
      "text/plain": [
       "array([[10, 10],\n",
       "       [20, 20],\n",
       "       [10, 30],\n",
       "       [50, 65],\n",
       "       [65, 25]])"
      ]
     },
     "execution_count": 47,
     "metadata": {},
     "output_type": "execute_result"
    }
   ],
   "source": [
    "pline.vertices"
   ]
  },
  {
   "cell_type": "markdown",
   "metadata": {},
   "source": [
    "A `Polyline` object has `.translate()`, `.rotate()` and `.scale()` methods that operate similar to their equivalents in Processing. These methods apply the transformation to the vertices of the `Polyline` and return a new `Polyline` with the transformed vertices. For example:"
   ]
  },
  {
   "cell_type": "code",
   "execution_count": 48,
   "metadata": {},
   "outputs": [
    {
     "data": {
      "text/plain": [
       "Polyline([[20.0000, 20.0000], [40.0000, 40.0000], [20.0000, 60.0000], [100.0000, 130.0000], [130.0000, 50.0000]])"
      ]
     },
     "execution_count": 48,
     "metadata": {},
     "output_type": "execute_result"
    }
   ],
   "source": [
    "pline.scale(2) # returns a new Polyline twice as big"
   ]
  },
  {
   "cell_type": "code",
   "execution_count": 49,
   "metadata": {},
   "outputs": [
    {
     "data": {
      "text/plain": [
       "Polyline([[20.0000, 5.0000], [30.0000, 15.0000], [20.0000, 25.0000], [60.0000, 60.0000], [75.0000, 20.0000]])"
      ]
     },
     "execution_count": 49,
     "metadata": {},
     "output_type": "execute_result"
    }
   ],
   "source": [
    "pline.translate(10, -5) # returns a new Polyline translated up and to the left"
   ]
  },
  {
   "cell_type": "code",
   "execution_count": 50,
   "metadata": {},
   "outputs": [
    {
     "data": {
      "text/plain": [
       "Polyline([[14.1421, 0.0000], [28.2843, 0.0000], [28.2843, 14.1421], [81.3173, 10.6066], [63.6396, -28.2843]])"
      ]
     },
     "execution_count": 50,
     "metadata": {},
     "output_type": "execute_result"
    }
   ],
   "source": [
    "pline.rotate(np.pi*0.25) # rotates the polyline pi/4 radians"
   ]
  },
  {
   "cell_type": "markdown",
   "metadata": {},
   "source": [
    "This makes it possible to write a bit of code that produces polylines like so:"
   ]
  },
  {
   "cell_type": "code",
   "execution_count": 51,
   "metadata": {},
   "outputs": [],
   "source": [
    "pts = []\n",
    "for i in range(12):\n",
    "    pts.append([normal(), normal()])\n",
    "pline = Polyline(pts)"
   ]
  },
  {
   "cell_type": "markdown",
   "metadata": {},
   "source": [
    "And then draw the same polyline in multiple ways and in multiple places."
   ]
  },
  {
   "cell_type": "code",
   "execution_count": 52,
   "metadata": {},
   "outputs": [
    {
     "data": {
      "image/svg+xml": [
       "<svg xmlns=\"http://www.w3.org/2000/svg\" xmlns:xlink=\"http://www.w3.org/1999/xlink\" version=\"1.1\" width=\"283.4646pt\" height=\"283.4646pt\" viewBox=\"0 0 283.4646 283.4646\">\n",
       "<title>Untitled</title>\n",
       "<polyline points=\"153.1435 111.0233 125.6175 177.2559 141.0352 80.7763 131.1966 189.6891 169.3367 184.8339 94.6717 141.9302 126.0675 196.3835 146.4081 156.0703 147.8679 132.2129 159.7129 170.346 117.8345 74.7147 159.975 188.3043\" fill=\"none\" stroke=\"rgba(0,0,0,1)\" stroke-miterlimit=\"10\"/>\n",
       "<polyline points=\"9.4483 48.0437 141.9133 103.0958 -51.0458 72.2604 166.7798 91.9376 157.0693 15.6574 71.262 164.9874 180.1686 102.1957 99.5423 61.5145 51.8274 58.595 128.0935 34.905 -63.1691 118.6617 164.0103 34.3807\" fill=\"none\" stroke=\"rgba(128,0,128,1)\" stroke-width=\"2\" stroke-miterlimit=\"10\"/>\n",
       "<polyline points=\"276.6327 194.7186 270.7865 208.7857 274.061 188.2945 271.9714 211.4264 280.072 210.3952 264.2139 201.2829 270.882 212.8482 275.2022 204.2861 275.5122 199.2191 278.028 207.3181 269.1334 187.0071 278.0836 211.1323\" fill=\"none\" stroke=\"rgba(0,128,128,1)\" stroke-miterlimit=\"10\"/>\n",
       "<polyline points=\"276.4837 269.5785 266.4147 293.8063 272.0545 258.5141 268.4555 298.3544 282.4071 296.5784 255.0947 280.8842 266.5793 300.8032 274.0199 286.0567 274.5539 277.3296 278.8867 291.2787 263.5677 256.2968 278.9826 297.8479\" fill=\"none\" stroke=\"rgba(0,128,128,1)\" stroke-miterlimit=\"10\"/>\n",
       "<polyline points=\"228.6824 249.5067 219.1439 272.4581 224.4865 239.0253 221.0772 276.7666 234.2938 275.0841 208.4203 260.2168 219.2998 279.0864 226.3484 265.1167 226.8543 256.8495 230.9589 270.0636 216.4469 236.9248 231.0497 276.2867\" fill=\"none\" stroke=\"rgba(0,128,128,1)\" stroke-miterlimit=\"10\"/>\n",
       "<polyline points=\"283.8452 156.4163 276.7291 173.5389 280.7149 148.5968 278.1714 176.7532 288.0315 175.498 268.7289 164.4064 276.8454 178.4838 282.1039 168.062 282.4813 161.8943 285.5435 171.7525 274.717 147.0297 285.6113 176.3952\" fill=\"none\" stroke=\"rgba(0,128,128,1)\" stroke-miterlimit=\"10\"/>\n",
       "<polyline points=\"241.6419 149.7728 232.2933 172.2672 237.5296 139.5 234.1881 176.4898 247.1416 174.8409 221.7833 160.2696 232.4462 178.7634 239.3544 165.072 239.8502 156.9693 243.8731 169.9204 229.65 137.4413 243.9621 176.0195\" fill=\"none\" stroke=\"rgba(0,128,128,1)\" stroke-miterlimit=\"10\"/>\n",
       "<polyline points=\"209.1757 152.3396 201.6735 170.3912 205.8756 144.0958 203.1941 173.7798 213.5891 172.4565 193.2393 160.7632 201.7962 175.6044 207.34 164.6171 207.7378 158.1148 210.9661 168.5079 199.5523 142.4438 211.0376 173.4024\" fill=\"none\" stroke=\"rgba(0,128,128,1)\" stroke-miterlimit=\"10\"/>\n",
       "<polyline points=\"172.6248 268.7 162.0087 294.2443 167.9549 257.0344 164.1604 299.0395 178.8701 297.1669 150.0736 280.62 162.1822 301.6213 170.0271 286.0735 170.5901 276.8723 175.1584 291.5793 159.007 254.6966 175.2595 298.5054\" fill=\"none\" stroke=\"rgba(0,128,128,1)\" stroke-miterlimit=\"10\"/>\n",
       "<polyline points=\"274.6304 199.745 264.4985 224.1243 270.1735 188.6115 266.552 228.7008 280.5909 226.9137 253.1077 211.1214 264.6641 231.1649 272.1512 216.3262 272.6885 207.5446 277.0485 221.5809 261.6337 186.3803 277.145 228.1911\" fill=\"none\" stroke=\"rgba(0,128,128,1)\" stroke-miterlimit=\"10\"/>\n",
       "<polyline points=\"274.178 262.9223 267.1817 279.7564 271.1004 255.2345 268.5998 282.9166 278.2937 281.6825 259.3163 270.7778 267.2961 284.618 272.466 274.3718 272.8371 268.308 275.8477 278.0002 265.2036 253.6939 275.9143 282.5646\" fill=\"none\" stroke=\"rgba(0,128,128,1)\" stroke-miterlimit=\"10\"/>\n",
       "<polyline points=\"165.7256 149.559 158.9625 165.8324 162.7506 142.1273 160.3332 168.8872 169.7043 167.6943 151.3591 157.1528 159.073 170.532 164.0707 160.6271 164.4294 154.7653 167.3397 164.1346 157.0502 140.6379 167.4041 168.547\" fill=\"none\" stroke=\"rgba(0,128,128,1)\" stroke-miterlimit=\"10\"/>\n",
       "</svg>"
      ],
      "text/plain": [
       "<IPython.core.display.SVG object>"
      ]
     },
     "metadata": {},
     "output_type": "display_data"
    }
   ],
   "source": [
    "d = document(100, 100, 'mm')\n",
    "page = d.addpage()\n",
    "figure = shape().stroke(rgba(0, 0, 0, 255)).width(1)\n",
    "figure2 = shape().stroke(rgba(128, 0, 128, 255)).width(2)\n",
    "figure3 = shape().stroke(rgba(0, 128, 128, 255)).width(1)\n",
    "# ten times bigger, at 50, 50\n",
    "page.place(\n",
    "    figure.polyline(pline.scale(10).translate(50, 50)))\n",
    "# rotated\n",
    "page.place(\n",
    "    figure2.polyline(pline.scale(20).rotate(np.pi*0.5).translate(25, 25)))\n",
    "# many small copies\n",
    "for i in range(10):\n",
    "    page.place(figure3.polyline(\n",
    "        pline.scale(uniform(2, 4)).translate(uniform(50, 100), uniform(50, 100))))\n",
    "show(page)"
   ]
  },
  {
   "cell_type": "markdown",
   "metadata": {},
   "source": [
    "If you have other transformations in mind, you can always manipulate a Polyline's `.vertices` array directly:"
   ]
  },
  {
   "cell_type": "code",
   "execution_count": 53,
   "metadata": {},
   "outputs": [
    {
     "data": {
      "image/svg+xml": [
       "<svg xmlns=\"http://www.w3.org/2000/svg\" xmlns:xlink=\"http://www.w3.org/1999/xlink\" version=\"1.1\" width=\"283.4646pt\" height=\"283.4646pt\" viewBox=\"0 0 283.4646 283.4646\">\n",
       "<title>Untitled</title>\n",
       "<polyline points=\"131.5366 147.428 171.4875 162.8478 123.428 195.2162 151.157 121.7531 115.5476 111.5798 180.4978 151.148 152.9176 195.6209 161.0329 142.5524 165.3582 130.72 123.2879 134.5308 159.2593 161.6053 159.6102 158.9377\" fill=\"none\" stroke=\"rgba(0,0,0,0.0941)\" stroke-miterlimit=\"10\"/>\n",
       "<polyline points=\"130.0421 144.4857 169.993 159.9054 121.9336 192.2739 149.6625 118.8108 114.0532 108.6375 179.0033 148.2057 151.4231 192.6785 159.5384 139.6101 163.8637 127.7776 121.7935 131.5885 157.7648 158.6629 158.1157 155.9954\" fill=\"none\" stroke=\"rgba(0,0,0,0.0941)\" stroke-miterlimit=\"10\"/>\n",
       "<polyline points=\"130.6634 152.9694 170.6143 168.3892 122.5548 200.7576 150.2838 127.2945 114.6744 117.1212 179.6246 156.6895 152.0444 201.1623 160.1597 148.0938 164.4849 136.2614 122.4147 140.0722 158.3861 167.1467 158.7369 164.4792\" fill=\"none\" stroke=\"rgba(0,0,0,0.0941)\" stroke-miterlimit=\"10\"/>\n",
       "<polyline points=\"136.6884 149.2942 176.6393 164.714 128.5798 197.0824 156.3088 123.6193 120.6994 113.446 185.6495 153.0143 158.0694 197.4871 166.1847 144.4186 170.5099 132.5862 128.4397 136.397 164.4111 163.4715 164.7619 160.804\" fill=\"none\" stroke=\"rgba(0,0,0,0.0941)\" stroke-miterlimit=\"10\"/>\n",
       "<polyline points=\"134.9171 146.8334 174.868 162.2532 126.8085 194.6216 154.5375 121.1585 118.9281 110.9852 183.8783 150.5535 156.2981 195.0263 164.4134 141.9578 168.7387 130.1254 126.6684 133.9362 162.6398 161.0107 162.9907 158.3432\" fill=\"none\" stroke=\"rgba(0,0,0,0.0941)\" stroke-miterlimit=\"10\"/>\n",
       "<polyline points=\"133.1057 144.7367 173.0567 160.1565 124.9972 192.5249 152.7262 119.0618 117.1168 108.8885 182.0669 148.4568 154.4868 192.9296 162.602 139.8611 166.9273 128.0287 124.8571 131.8395 160.8285 158.914 161.1793 156.2465\" fill=\"none\" stroke=\"rgba(0,0,0,0.0941)\" stroke-miterlimit=\"10\"/>\n",
       "<polyline points=\"139.2061 146.3221 179.157 161.7419 131.0975 194.1103 158.8265 120.6472 123.2171 110.4739 188.1672 150.0421 160.5871 194.515 168.7024 141.4465 173.0276 129.6141 130.9574 133.4249 166.9288 160.4994 167.2796 157.8318\" fill=\"none\" stroke=\"rgba(0,0,0,0.0941)\" stroke-miterlimit=\"10\"/>\n",
       "<polyline points=\"143.0667 145.6377 183.0176 161.0575 134.9581 193.4259 162.6871 119.9628 127.0777 109.7895 192.0279 149.3578 164.4477 193.8306 172.563 140.7621 176.8882 128.9297 134.818 132.7405 170.7894 159.815 171.1403 157.1475\" fill=\"none\" stroke=\"rgba(0,0,0,0.0941)\" stroke-miterlimit=\"10\"/>\n",
       "<polyline points=\"146.1271 147.0137 186.078 162.4335 138.0185 194.8019 165.7475 121.3388 130.1381 111.1655 195.0883 150.7337 167.5081 195.2065 175.6234 142.1381 179.9487 130.3056 137.8784 134.1165 173.8498 161.1909 174.2007 158.5234\" fill=\"none\" stroke=\"rgba(0,0,0,0.0941)\" stroke-miterlimit=\"10\"/>\n",
       "<polyline points=\"144.4004 146.2981 184.3513 161.7179 136.2918 194.0863 164.0208 120.6232 128.4114 110.4499 193.3616 150.0182 165.7814 194.491 173.8967 141.4226 178.2219 129.5901 136.1517 133.4009 172.1231 160.4754 172.4739 157.8079\" fill=\"none\" stroke=\"rgba(0,0,0,0.0941)\" stroke-miterlimit=\"10\"/>\n",
       "<polyline points=\"146.0531 147.8844 186.004 163.3042 137.9445 195.6726 165.6735 122.2095 130.0641 112.0362 195.0143 151.6045 167.4341 196.0773 175.5494 143.0088 179.8746 131.1764 137.8044 134.9872 173.7758 162.0617 174.1267 159.3942\" fill=\"none\" stroke=\"rgba(0,0,0,0.0941)\" stroke-miterlimit=\"10\"/>\n",
       "<polyline points=\"144.0831 149.9901 184.034 165.4099 135.9745 197.7783 163.7035 124.3152 128.0941 114.1419 193.0442 153.7102 165.4641 198.183 173.5794 145.1145 177.9046 133.2821 135.8344 137.0929 171.8058 164.1674 172.1566 161.4999\" fill=\"none\" stroke=\"rgba(0,0,0,0.0941)\" stroke-miterlimit=\"10\"/>\n",
       "<polyline points=\"145.5305 146.5427 185.4814 161.9624 137.4219 194.3309 165.1509 120.8678 129.5415 110.6945 194.4917 150.2627 166.9115 194.7355 175.0268 141.6671 179.352 129.8346 137.2818 133.6455 173.2532 160.7199 173.604 158.0524\" fill=\"none\" stroke=\"rgba(0,0,0,0.0941)\" stroke-miterlimit=\"10\"/>\n",
       "<polyline points=\"142.4829 147.5347 182.4338 162.9545 134.3743 195.3229 162.1033 121.8598 126.4939 111.6865 191.4441 151.2547 163.8639 195.7276 171.9792 142.6591 176.3044 130.8267 134.2342 134.6375 170.2056 161.7119 170.5564 159.0444\" fill=\"none\" stroke=\"rgba(0,0,0,0.0941)\" stroke-miterlimit=\"10\"/>\n",
       "<polyline points=\"144.1213 148.7693 184.0723 164.1891 136.0128 196.5575 163.7417 123.0944 128.1324 112.9211 193.0825 152.4894 165.5024 196.9622 173.6176 143.8938 177.9429 132.0613 135.8727 135.8721 171.844 162.9466 172.1949 160.2791\" fill=\"none\" stroke=\"rgba(0,0,0,0.0941)\" stroke-miterlimit=\"10\"/>\n",
       "<polyline points=\"143.9253 149.0172 183.8762 164.437 135.8167 196.8054 163.5457 123.3423 127.9364 113.169 192.8865 152.7373 165.3063 197.2101 173.4216 144.1416 177.7469 132.3092 135.6767 136.12 171.648 163.1945 171.9989 160.527\" fill=\"none\" stroke=\"rgba(0,0,0,0.0941)\" stroke-miterlimit=\"10\"/>\n",
       "<polyline points=\"138.7151 144.4186 178.666 159.8384 130.6066 192.2068 158.3355 118.7437 122.7262 108.5704 187.6763 148.1387 160.0961 192.6115 168.2114 139.543 172.5367 127.7106 130.4665 131.5214 166.4378 158.5959 166.7887 155.9284\" fill=\"none\" stroke=\"rgba(0,0,0,0.0941)\" stroke-miterlimit=\"10\"/>\n",
       "<polyline points=\"143.5364 140.7789 183.4873 156.1987 135.4278 188.5671 163.1568 115.104 127.5474 104.9307 192.4976 144.4989 164.9174 188.9718 173.0327 135.9033 177.3579 124.0709 135.2877 127.8817 171.2591 154.9561 171.61 152.2886\" fill=\"none\" stroke=\"rgba(0,0,0,0.0941)\" stroke-miterlimit=\"10\"/>\n",
       "<polyline points=\"139.5545 141.5215 179.5055 156.9413 131.446 189.3097 159.1749 115.8466 123.5656 105.6733 188.5157 145.2416 160.9356 189.7144 169.0508 136.6459 173.3761 124.8135 131.3059 128.6243 167.2773 155.6988 167.6281 153.0313\" fill=\"none\" stroke=\"rgba(0,0,0,0.0941)\" stroke-miterlimit=\"10\"/>\n",
       "<polyline points=\"140.4371 141.3777 180.3881 156.7975 132.3286 189.1659 160.0575 115.7028 124.4482 105.5295 189.3983 145.0977 161.8182 189.5706 169.9334 136.5021 174.2587 124.6697 132.1885 128.4805 168.1599 155.555 168.5107 152.8874\" fill=\"none\" stroke=\"rgba(0,0,0,0.0941)\" stroke-miterlimit=\"10\"/>\n",
       "<polyline points=\"140.2227 140.2106 180.1737 155.6304 132.1142 187.9988 159.8431 114.5357 124.2338 104.3624 189.1839 143.9307 161.6038 188.4035 169.719 135.335 174.0443 123.5026 131.9741 127.3134 167.9455 154.3879 168.2963 151.7204\" fill=\"none\" stroke=\"rgba(0,0,0,0.0941)\" stroke-miterlimit=\"10\"/>\n",
       "<polyline points=\"142.9486 140.6594 182.8995 156.0791 134.84 188.4476 162.569 114.9845 126.9596 104.8111 191.9098 144.3794 164.3296 188.8522 172.4449 135.7838 176.7701 123.9513 134.6999 127.7622 170.6713 154.8366 171.0221 152.1691\" fill=\"none\" stroke=\"rgba(0,0,0,0.0941)\" stroke-miterlimit=\"10\"/>\n",
       "<polyline points=\"144.1155 140.6999 184.0664 156.1196 136.0069 188.4881 163.7359 115.025 128.1265 104.8517 193.0767 144.4199 165.4965 188.8927 173.6118 135.8243 177.937 123.9918 135.8668 127.8027 171.8382 154.8771 172.189 152.2096\" fill=\"none\" stroke=\"rgba(0,0,0,0.0941)\" stroke-miterlimit=\"10\"/>\n",
       "<polyline points=\"145.1736 140.3502 185.1245 155.77 137.0651 188.1384 164.794 114.6753 129.1847 104.502 194.1348 144.0702 166.5546 188.5431 174.6699 135.4746 178.9952 123.6422 136.925 127.453 172.8963 154.5274 173.2472 151.8599\" fill=\"none\" stroke=\"rgba(0,0,0,0.0941)\" stroke-miterlimit=\"10\"/>\n",
       "<polyline points=\"145.4961 142.6846 185.447 158.1044 137.3875 190.4728 165.1165 117.0097 129.5071 106.8364 194.4573 146.4046 166.8771 190.8775 174.9924 137.809 179.3176 125.9766 137.2474 129.7874 173.2188 156.8619 173.5697 154.1943\" fill=\"none\" stroke=\"rgba(0,0,0,0.0941)\" stroke-miterlimit=\"10\"/>\n",
       "<polyline points=\"146.0729 145.5352 186.0238 160.9549 137.9643 193.3234 165.6933 119.8603 130.0839 109.687 195.0341 149.2552 167.4539 193.728 175.5692 140.6596 179.8944 128.8271 137.8242 132.638 173.7956 159.7124 174.1464 157.0449\" fill=\"none\" stroke=\"rgba(0,0,0,0.0941)\" stroke-miterlimit=\"10\"/>\n",
       "<polyline points=\"146.2703 148.0606 186.2212 163.4803 138.1617 195.8488 165.8907 122.3856 130.2813 112.2123 195.2315 151.7806 167.6513 196.2534 175.7666 143.185 180.0918 131.3525 138.0216 135.1633 173.993 162.2378 174.3438 159.5703\" fill=\"none\" stroke=\"rgba(0,0,0,0.0941)\" stroke-miterlimit=\"10\"/>\n",
       "<polyline points=\"145.5012 150.02 185.4522 165.4398 137.3927 197.8082 165.1217 124.3451 129.5123 114.1718 194.4624 153.74 166.8823 198.2128 174.9975 145.1444 179.3228 133.3119 137.2526 137.1228 173.224 164.1972 173.5748 161.5297\" fill=\"none\" stroke=\"rgba(0,0,0,0.0941)\" stroke-miterlimit=\"10\"/>\n",
       "<polyline points=\"145.3177 154.2209 185.2686 169.6407 137.2091 202.0091 164.9381 128.546 129.3287 118.3727 194.2789 157.9409 166.6987 202.4138 174.814 149.3453 179.1393 137.5129 137.0691 141.3237 173.0404 168.3982 173.3913 165.7306\" fill=\"none\" stroke=\"rgba(0,0,0,0.0941)\" stroke-miterlimit=\"10\"/>\n",
       "<polyline points=\"143.5295 154.752 183.4804 170.1718 135.4209 202.5402 163.1499 129.0771 127.5405 118.9038 192.4907 158.4721 164.9105 202.9449 173.0258 149.8764 177.351 138.044 135.2808 141.8548 171.2522 168.9293 171.603 166.2618\" fill=\"none\" stroke=\"rgba(0,0,0,0.0941)\" stroke-miterlimit=\"10\"/>\n",
       "<polyline points=\"144.4652 155.095 184.4162 170.5147 136.3567 202.8832 164.0856 129.4201 128.4763 119.2467 193.4264 158.815 165.8463 203.2878 173.9615 150.2194 178.2868 138.3869 136.2166 142.1978 172.188 169.2722 172.5388 166.6047\" fill=\"none\" stroke=\"rgba(0,0,0,0.0941)\" stroke-miterlimit=\"10\"/>\n",
       "<polyline points=\"143.8931 156.4459 183.844 171.8656 135.7845 204.2341 163.5135 130.771 127.9041 120.5976 192.8543 160.1659 165.2741 204.6387 173.3894 151.5703 177.7146 139.7378 135.6444 143.5487 171.6158 170.6231 171.9666 167.9556\" fill=\"none\" stroke=\"rgba(0,0,0,0.0941)\" stroke-miterlimit=\"10\"/>\n",
       "<polyline points=\"145.8486 160.7074 185.7996 176.1271 137.7401 208.4956 165.4691 135.0325 129.8597 124.8592 194.8098 164.4274 167.2297 208.9002 175.3449 155.8318 179.6702 143.9993 137.6 147.8102 173.5714 174.8846 173.9222 172.2171\" fill=\"none\" stroke=\"rgba(0,0,0,0.0941)\" stroke-miterlimit=\"10\"/>\n",
       "<polyline points=\"148.1331 159.187 188.0841 174.6068 140.0246 206.9752 167.7535 133.5121 132.1442 123.3388 197.0943 162.907 169.5142 207.3798 177.6294 154.3114 181.9547 142.4789 139.8845 146.2898 175.8559 173.3642 176.2067 170.6967\" fill=\"none\" stroke=\"rgba(0,0,0,0.0941)\" stroke-miterlimit=\"10\"/>\n",
       "<polyline points=\"150.7436 157.9646 190.6945 173.3843 142.635 205.7528 170.364 132.2897 134.7546 122.1163 199.7047 161.6846 172.1246 206.1574 180.2399 153.089 184.5651 141.2565 142.4949 145.0674 178.4663 172.1418 178.8171 169.4743\" fill=\"none\" stroke=\"rgba(0,0,0,0.0941)\" stroke-miterlimit=\"10\"/>\n",
       "<polyline points=\"150.67 158.6858 190.6209 174.1056 142.5614 206.474 170.2904 133.0109 134.681 122.8376 199.6311 162.4059 172.051 206.8787 180.1663 153.8102 184.4915 141.9778 142.4213 145.7886 178.3927 172.8631 178.7435 170.1956\" fill=\"none\" stroke=\"rgba(0,0,0,0.0941)\" stroke-miterlimit=\"10\"/>\n",
       "<polyline points=\"147.8111 160.3833 187.7621 175.803 139.7026 208.1715 167.4315 134.7084 131.8222 124.5351 196.7723 164.1033 169.1922 208.5761 177.3074 155.5077 181.6327 143.6752 139.5625 147.4861 175.5339 174.5605 175.8847 171.893\" fill=\"none\" stroke=\"rgba(0,0,0,0.0941)\" stroke-miterlimit=\"10\"/>\n",
       "<polyline points=\"149.3754 160.7958 189.3263 176.2156 141.2668 208.584 168.9958 135.1209 133.3864 124.9476 198.3366 164.5158 170.7564 208.9887 178.8717 155.9202 183.197 144.0878 141.1268 147.8986 177.0981 174.973 177.449 172.3055\" fill=\"none\" stroke=\"rgba(0,0,0,0.0941)\" stroke-miterlimit=\"10\"/>\n",
       "<polyline points=\"153.1481 162.8759 193.0991 178.2957 145.0396 210.6641 172.7685 137.201 137.1592 127.0277 202.1093 166.5959 174.5292 211.0687 182.6444 158.0003 186.9697 146.1678 144.8995 149.9787 180.8709 177.0531 181.2217 174.3856\" fill=\"none\" stroke=\"rgba(0,0,0,0.0941)\" stroke-miterlimit=\"10\"/>\n",
       "<polyline points=\"153.5649 159.9003 193.5158 175.3201 145.4563 207.6885 173.1853 134.2254 137.5759 124.0521 202.5261 163.6204 174.9459 208.0932 183.0612 155.0247 187.3864 143.1923 145.3162 147.0031 181.2876 174.0776 181.6384 171.4101\" fill=\"none\" stroke=\"rgba(0,0,0,0.0941)\" stroke-miterlimit=\"10\"/>\n",
       "<polyline points=\"152.6211 159.0069 192.572 174.4267 144.5125 206.7951 172.2415 133.332 136.6321 123.1587 201.5823 162.7269 174.0021 207.1998 182.1174 154.1313 186.4426 142.2989 144.3724 146.1097 180.3438 173.1842 180.6946 170.5166\" fill=\"none\" stroke=\"rgba(0,0,0,0.0941)\" stroke-miterlimit=\"10\"/>\n",
       "<polyline points=\"151.4585 162.3614 191.4094 177.7812 143.3499 210.1496 171.0789 136.6865 135.4695 126.5132 200.4197 166.0815 172.8395 210.5543 180.9548 157.4858 185.2801 145.6534 143.2098 149.4642 179.1812 176.5387 179.5321 173.8712\" fill=\"none\" stroke=\"rgba(0,0,0,0.0941)\" stroke-miterlimit=\"10\"/>\n",
       "<polyline points=\"148.4868 161.0028 188.4377 176.4226 140.3783 208.791 168.1072 135.3279 132.4979 125.1546 197.448 164.7229 169.8678 209.1957 177.9831 156.1272 182.3084 144.2948 140.2382 148.1056 176.2095 175.1801 176.5604 172.5126\" fill=\"none\" stroke=\"rgba(0,0,0,0.0941)\" stroke-miterlimit=\"10\"/>\n",
       "<polyline points=\"144.612 162.8762 184.5629 178.296 136.5034 210.6644 164.2324 137.2013 128.623 127.028 193.5732 166.5962 165.993 211.0691 174.1083 158.0006 178.4335 146.1682 136.3633 149.979 172.3347 177.0534 172.6856 174.3859\" fill=\"none\" stroke=\"rgba(0,0,0,0.0941)\" stroke-miterlimit=\"10\"/>\n",
       "<polyline points=\"144.8833 167.8912 184.8342 183.311 136.7747 215.6794 164.5037 142.2163 128.8943 132.043 193.8445 171.6112 166.2643 216.0841 174.3796 163.0156 178.7049 151.1832 136.6346 154.994 172.606 182.0684 172.9569 179.4009\" fill=\"none\" stroke=\"rgba(0,0,0,0.0941)\" stroke-miterlimit=\"10\"/>\n",
       "<polyline points=\"144.6189 162.4169 184.5698 177.8367 136.5103 210.2051 164.2393 136.742 128.6299 126.5687 193.5801 166.137 165.9999 210.6098 174.1152 157.5413 178.4404 145.7089 136.3702 149.5197 172.3416 176.5942 172.6925 173.9267\" fill=\"none\" stroke=\"rgba(0,0,0,0.0941)\" stroke-miterlimit=\"10\"/>\n",
       "<polyline points=\"142.2973 164.4614 182.2482 179.8812 134.1887 212.2496 161.9177 138.7865 126.3083 128.6132 191.2585 168.1814 163.6783 212.6543 171.7936 159.5858 176.1189 147.7534 134.0487 151.5642 170.02 178.6386 170.3709 175.9711\" fill=\"none\" stroke=\"rgba(0,0,0,0.0941)\" stroke-miterlimit=\"10\"/>\n",
       "<polyline points=\"142.2002 164.5134 182.1511 179.9332 134.0916 212.3016 161.8206 138.8385 126.2112 128.6652 191.1614 168.2335 163.5812 212.7063 171.6965 159.6378 176.0217 147.8054 133.9515 151.6162 169.9229 178.6907 170.2737 176.0232\" fill=\"none\" stroke=\"rgba(0,0,0,0.0941)\" stroke-miterlimit=\"10\"/>\n",
       "<polyline points=\"146.2271 161.9193 186.178 177.3391 138.1185 209.7075 165.8475 136.2444 130.2381 126.0711 195.1883 165.6393 167.6081 210.1121 175.7234 157.0437 180.0486 145.2112 137.9784 149.0221 173.9498 176.0965 174.3006 173.429\" fill=\"none\" stroke=\"rgba(0,0,0,0.0941)\" stroke-miterlimit=\"10\"/>\n",
       "<polyline points=\"147.4406 163.0106 187.3915 178.4304 139.332 210.7988 167.061 137.3357 131.4516 127.1624 196.4018 166.7307 168.8216 211.2035 176.9369 158.135 181.2621 146.3026 139.1919 150.1134 175.1633 177.1879 175.5141 174.5204\" fill=\"none\" stroke=\"rgba(0,0,0,0.0941)\" stroke-miterlimit=\"10\"/>\n",
       "<polyline points=\"148.0699 161.6389 188.0209 177.0587 139.9614 209.4271 167.6904 135.964 132.081 125.7907 197.0311 165.359 169.451 209.8318 177.5663 156.7633 181.8915 144.9309 139.8213 148.7417 175.7927 175.8162 176.1435 173.1487\" fill=\"none\" stroke=\"rgba(0,0,0,0.0941)\" stroke-miterlimit=\"10\"/>\n",
       "<polyline points=\"150.3924 164.4243 190.3433 179.844 142.2838 212.2125 170.0128 138.7494 134.4034 128.5761 199.3536 168.1443 171.7734 212.6171 179.8887 159.5487 184.2139 147.7162 142.1437 151.5271 178.1151 178.6015 178.466 175.934\" fill=\"none\" stroke=\"rgba(0,0,0,0.0941)\" stroke-miterlimit=\"10\"/>\n",
       "<polyline points=\"151.6376 166.0235 191.5885 181.4433 143.529 213.8117 171.258 140.3486 135.6486 130.1753 200.5988 169.7436 173.0186 214.2164 181.1339 161.148 185.4591 149.3155 143.3889 153.1263 179.3603 180.2008 179.7112 177.5333\" fill=\"none\" stroke=\"rgba(0,0,0,0.0941)\" stroke-miterlimit=\"10\"/>\n",
       "<polyline points=\"153.3325 163.729 193.2834 179.1488 145.2239 211.5172 172.9529 138.0541 137.3435 127.8808 202.2937 167.449 174.7135 211.9219 182.8288 158.8534 187.1541 147.021 145.0838 150.8318 181.0552 177.9062 181.4061 175.2387\" fill=\"none\" stroke=\"rgba(0,0,0,0.0941)\" stroke-miterlimit=\"10\"/>\n",
       "<polyline points=\"156.8533 164.3573 196.8042 179.777 148.7447 212.1455 176.4737 138.6824 140.8643 128.5091 205.8144 168.0773 178.2343 212.5501 186.3496 159.4817 190.6748 147.6492 148.6046 151.4601 184.576 178.5345 184.9268 175.867\" fill=\"none\" stroke=\"rgba(0,0,0,0.0941)\" stroke-miterlimit=\"10\"/>\n",
       "<polyline points=\"152.8924 166.1403 192.8434 181.56 144.7839 213.9285 172.5128 140.4654 136.9035 130.292 201.8536 169.8603 174.2735 214.3331 182.3887 161.2647 186.714 149.4322 144.6438 153.2431 180.6152 180.3175 180.966 177.65\" fill=\"none\" stroke=\"rgba(0,0,0,0.0941)\" stroke-miterlimit=\"10\"/>\n",
       "<polyline points=\"150.715 165.8744 190.666 181.2942 142.6065 213.6626 170.3354 140.1995 134.7261 130.0262 199.6762 169.5944 172.0961 214.0673 180.2113 160.9988 184.5366 149.1664 142.4664 152.9772 178.4378 180.0517 178.7886 177.3841\" fill=\"none\" stroke=\"rgba(0,0,0,0.0941)\" stroke-miterlimit=\"10\"/>\n",
       "<polyline points=\"145.9492 171.4818 185.9002 186.9016 137.8407 219.27 165.5696 145.8069 129.9603 135.6336 194.9104 175.2018 167.3302 219.6747 175.4455 166.6062 179.7708 154.7738 137.7006 158.5846 173.6719 185.659 174.0228 182.9915\" fill=\"none\" stroke=\"rgba(0,0,0,0.0941)\" stroke-miterlimit=\"10\"/>\n",
       "<polyline points=\"148.6855 171.466 188.6364 186.8857 140.5769 219.2542 168.3059 145.7911 132.6965 135.6177 197.6467 175.186 170.0665 219.6588 178.1818 166.5904 182.507 154.7579 140.4368 158.5688 176.4082 185.6432 176.7591 182.9757\" fill=\"none\" stroke=\"rgba(0,0,0,0.0941)\" stroke-miterlimit=\"10\"/>\n",
       "<polyline points=\"146.5908 169.9616 186.5417 185.3814 138.4822 217.7498 166.2112 144.2867 130.6018 134.1134 195.552 173.6816 167.9718 218.1545 176.0871 165.086 180.4124 153.2536 138.3422 157.0644 174.3135 184.1389 174.6644 181.4713\" fill=\"none\" stroke=\"rgba(0,0,0,0.0941)\" stroke-miterlimit=\"10\"/>\n",
       "<polyline points=\"142.6535 167.2037 182.6045 182.6235 134.545 214.9919 162.2739 141.5288 126.6646 131.3555 191.6147 170.9237 164.0346 215.3966 172.1498 162.3281 176.4751 150.4957 134.4049 154.3065 170.3763 181.381 170.7271 178.7134\" fill=\"none\" stroke=\"rgba(0,0,0,0.0941)\" stroke-miterlimit=\"10\"/>\n",
       "<polyline points=\"141.2442 167.3775 181.1951 182.7973 133.1356 215.1657 160.8646 141.7026 125.2552 131.5293 190.2054 171.0975 162.6252 215.5704 170.7405 162.5019 175.0657 150.6695 132.9955 154.4803 168.9669 181.5547 169.3178 178.8872\" fill=\"none\" stroke=\"rgba(0,0,0,0.0941)\" stroke-miterlimit=\"10\"/>\n",
       "<polyline points=\"139.8807 167.0684 179.8317 182.4882 131.7722 214.8566 159.5012 141.3935 123.8918 131.2202 188.8419 170.7885 161.2618 215.2613 169.3771 162.1928 173.7023 150.3604 131.6321 154.1712 167.6035 181.2457 167.9543 178.5782\" fill=\"none\" stroke=\"rgba(0,0,0,0.0941)\" stroke-miterlimit=\"10\"/>\n",
       "<polyline points=\"143.8415 163.3369 183.7924 178.7567 135.7329 211.1251 163.4619 137.662 127.8525 127.4887 192.8026 167.057 165.2225 211.5298 173.3378 158.4613 177.663 146.6289 135.5928 150.4397 171.5642 177.5142 171.915 174.8467\" fill=\"none\" stroke=\"rgba(0,0,0,0.0941)\" stroke-miterlimit=\"10\"/>\n",
       "<polyline points=\"148.2462 165.4303 188.1971 180.85 140.1376 213.2185 167.8666 139.7554 132.2572 129.5821 197.2074 169.1503 169.6272 213.6231 177.7425 160.5547 182.0677 148.7222 139.9975 152.5331 175.9689 179.6075 176.3197 176.94\" fill=\"none\" stroke=\"rgba(0,0,0,0.0941)\" stroke-miterlimit=\"10\"/>\n",
       "<polyline points=\"146.7094 160.6462 186.6603 176.0659 138.6008 208.4344 166.3298 134.9713 130.7204 124.7979 195.6706 164.3662 168.0904 208.839 176.2057 155.7706 180.5309 143.9381 138.4607 147.749 174.4321 174.8234 174.7829 172.1559\" fill=\"none\" stroke=\"rgba(0,0,0,0.0941)\" stroke-miterlimit=\"10\"/>\n",
       "<polyline points=\"142.3 162.1606 182.2509 177.5804 134.1914 209.9488 161.9204 136.4857 126.311 126.3124 191.2612 165.8807 163.681 210.3535 171.7963 157.2851 176.1216 145.4526 134.0513 149.2634 170.0227 176.3379 170.3736 173.6704\" fill=\"none\" stroke=\"rgba(0,0,0,0.0941)\" stroke-miterlimit=\"10\"/>\n",
       "<polyline points=\"139.8639 160.1723 179.8148 175.5921 131.7553 207.9605 159.4843 134.4974 123.8749 124.3241 188.825 163.8923 161.2449 208.3652 169.3602 155.2967 173.6854 143.4643 131.6152 147.2751 167.5866 174.3495 167.9374 171.682\" fill=\"none\" stroke=\"rgba(0,0,0,0.0941)\" stroke-miterlimit=\"10\"/>\n",
       "<polyline points=\"144.5777 166.4962 184.5286 181.916 136.4691 214.2844 164.1981 140.8213 128.5887 130.648 193.5388 170.2163 165.9587 214.6891 174.074 161.6206 178.3992 149.7882 136.329 153.599 172.3004 180.6735 172.6512 178.006\" fill=\"none\" stroke=\"rgba(0,0,0,0.0941)\" stroke-miterlimit=\"10\"/>\n",
       "<polyline points=\"142.8289 163.9244 182.7798 179.3441 134.7203 211.7126 162.4493 138.2495 126.8399 128.0762 191.7901 167.6444 164.2099 212.1172 172.3252 159.0488 176.6505 147.2163 134.5802 151.0272 170.5516 178.1016 170.9025 175.4341\" fill=\"none\" stroke=\"rgba(0,0,0,0.0941)\" stroke-miterlimit=\"10\"/>\n",
       "<polyline points=\"144.2016 163.13 184.1526 178.5498 136.0931 210.9182 163.822 137.4551 128.2127 127.2818 193.1628 166.8501 165.5827 211.3229 173.6979 158.2544 178.0232 146.422 135.953 150.2328 171.9244 177.3073 172.2752 174.6398\" fill=\"none\" stroke=\"rgba(0,0,0,0.0941)\" stroke-miterlimit=\"10\"/>\n",
       "<polyline points=\"142.6774 166.319 182.6283 181.7387 134.5688 214.1072 162.2978 140.6441 126.6885 130.4708 191.6386 170.039 164.0584 214.5118 172.1737 161.4434 176.499 149.6109 134.4288 153.4218 170.4001 180.4962 170.751 177.8287\" fill=\"none\" stroke=\"rgba(0,0,0,0.0941)\" stroke-miterlimit=\"10\"/>\n",
       "<polyline points=\"141.7621 168.1908 181.713 183.6106 133.6535 215.979 161.3825 142.5159 125.7731 132.3426 190.7233 171.9108 163.1431 216.3837 171.2584 163.3152 175.5836 151.4828 133.5134 155.2936 169.4848 182.3681 169.8357 179.7005\" fill=\"none\" stroke=\"rgba(0,0,0,0.0941)\" stroke-miterlimit=\"10\"/>\n",
       "<polyline points=\"145.08 170.0757 185.0309 185.4954 136.9714 217.8639 164.7004 144.4008 129.091 134.2274 194.0412 173.7957 166.461 218.2685 174.5763 165.2001 178.9016 153.3676 136.8313 157.1785 172.8027 184.2529 173.1536 181.5854\" fill=\"none\" stroke=\"rgba(0,0,0,0.0941)\" stroke-miterlimit=\"10\"/>\n",
       "<polyline points=\"145.2759 165.4309 185.2269 180.8506 137.1674 213.2191 164.8963 139.7559 129.287 129.5826 194.2371 169.1509 166.657 213.6237 174.7722 160.5553 179.0975 148.7228 137.0273 152.5336 172.9987 179.6081 173.3495 176.9406\" fill=\"none\" stroke=\"rgba(0,0,0,0.0941)\" stroke-miterlimit=\"10\"/>\n",
       "<polyline points=\"145.2602 166.6916 185.2111 182.1114 137.1516 214.4798 164.8806 141.0167 129.2712 130.8434 194.2214 170.4117 166.6412 214.8845 174.7565 161.816 179.0817 149.9836 137.0115 153.7944 172.9829 180.8689 173.3337 178.2014\" fill=\"none\" stroke=\"rgba(0,0,0,0.0941)\" stroke-miterlimit=\"10\"/>\n",
       "<polyline points=\"139.951 169.1124 179.9019 184.5322 131.8424 216.9006 159.5714 143.4375 123.962 133.2642 188.9122 172.8324 161.332 217.3053 169.4473 164.2368 173.7725 152.4044 131.7023 156.2152 167.6737 183.2897 168.0245 180.6221\" fill=\"none\" stroke=\"rgba(0,0,0,0.0941)\" stroke-miterlimit=\"10\"/>\n",
       "<polyline points=\"142.8105 165.414 182.7614 180.8338 134.7019 213.2022 162.4309 139.7391 126.8215 129.5658 191.7717 169.134 164.1915 213.6069 172.3068 160.5384 176.632 148.706 134.5618 152.5168 170.5332 179.5913 170.884 176.9237\" fill=\"none\" stroke=\"rgba(0,0,0,0.0941)\" stroke-miterlimit=\"10\"/>\n",
       "<polyline points=\"147.9956 169.7652 187.9465 185.185 139.887 217.5534 167.616 144.0903 132.0066 133.917 196.9568 173.4853 169.3766 217.9581 177.4919 164.8896 181.8172 153.0572 139.7469 156.868 175.7183 183.9425 176.0692 181.275\" fill=\"none\" stroke=\"rgba(0,0,0,0.0941)\" stroke-miterlimit=\"10\"/>\n",
       "<polyline points=\"150.1199 173.5523 190.0708 188.9721 142.0113 221.3405 169.7403 147.8774 134.1309 137.7041 199.081 177.2724 171.5009 221.7452 179.6162 168.6767 183.9414 156.8443 141.8712 160.6551 177.8426 187.7296 178.1934 185.0621\" fill=\"none\" stroke=\"rgba(0,0,0,0.0941)\" stroke-miterlimit=\"10\"/>\n",
       "<polyline points=\"145.6561 169.6475 185.6071 185.0672 137.5476 217.4357 165.2765 143.9726 129.6672 133.7993 194.6173 173.3675 167.0371 217.8403 175.1524 164.7719 179.4777 152.9394 137.4075 156.7503 173.3788 183.8247 173.7297 181.1572\" fill=\"none\" stroke=\"rgba(0,0,0,0.0941)\" stroke-miterlimit=\"10\"/>\n",
       "<polyline points=\"148.1875 168.7662 188.1384 184.186 140.0789 216.5544 167.8079 143.0913 132.1985 132.918 197.1487 172.4862 169.5685 216.9591 177.6838 163.8906 182.009 152.0582 139.9388 155.869 175.9102 182.9435 176.261 180.2759\" fill=\"none\" stroke=\"rgba(0,0,0,0.0941)\" stroke-miterlimit=\"10\"/>\n",
       "<polyline points=\"146.7983 169.3698 186.7492 184.7896 138.6897 217.158 166.4187 143.6949 130.8093 133.5216 195.7594 173.0899 168.1793 217.5627 176.2946 164.4942 180.6198 152.6618 138.5496 156.4726 174.521 183.5471 174.8718 180.8796\" fill=\"none\" stroke=\"rgba(0,0,0,0.0941)\" stroke-miterlimit=\"10\"/>\n",
       "<polyline points=\"144.1231 176.4905 184.0741 191.9103 136.0146 224.2787 163.7436 150.8156 128.1342 140.6423 193.0843 180.2106 165.5042 224.6834 173.6195 171.6149 177.9447 159.7825 135.8745 163.5933 171.8459 190.6678 172.1967 188.0003\" fill=\"none\" stroke=\"rgba(0,0,0,0.0941)\" stroke-miterlimit=\"10\"/>\n",
       "<polyline points=\"145.8553 176.5106 185.8063 191.9303 137.7468 224.2988 165.4758 150.8357 129.8664 140.6623 194.8165 180.2306 167.2364 224.7034 175.3516 171.635 179.6769 159.8025 137.6067 163.6134 173.5781 190.6878 173.9289 188.0203\" fill=\"none\" stroke=\"rgba(0,0,0,0.0941)\" stroke-miterlimit=\"10\"/>\n",
       "<polyline points=\"147.2574 177.9765 187.2083 193.3962 139.1488 225.7647 166.8778 152.3016 131.2684 142.1283 196.2186 181.6965 168.6384 226.1693 176.7537 173.1009 181.079 161.2684 139.0087 165.0793 174.9801 192.1537 175.331 189.4862\" fill=\"none\" stroke=\"rgba(0,0,0,0.0941)\" stroke-miterlimit=\"10\"/>\n",
       "<polyline points=\"148.9526 173.7275 188.9035 189.1473 140.844 221.5157 168.573 148.0526 132.9636 137.8793 197.9138 177.4475 170.3336 221.9203 178.4489 168.8519 182.7741 157.0194 140.7039 160.8303 176.6753 187.9047 177.0261 185.2372\" fill=\"none\" stroke=\"rgba(0,0,0,0.0941)\" stroke-miterlimit=\"10\"/>\n",
       "<polyline points=\"154.0129 173.4298 193.9639 188.8496 145.9044 221.218 173.6333 147.7549 138.024 137.5816 202.9741 177.1499 175.394 221.6227 183.5092 168.5543 187.8345 156.7218 145.7643 160.5326 181.7357 187.6071 182.0865 184.9396\" fill=\"none\" stroke=\"rgba(0,0,0,0.0941)\" stroke-miterlimit=\"10\"/>\n",
       "<polyline points=\"157.1458 169.5803 197.0967 185.0001 149.0372 217.3685 176.7662 143.9054 141.1568 133.7321 206.107 173.3004 178.5268 217.7732 186.6421 164.7047 190.9673 152.8723 148.8971 156.6831 184.8685 183.7576 185.2194 181.0901\" fill=\"none\" stroke=\"rgba(0,0,0,0.0941)\" stroke-miterlimit=\"10\"/>\n",
       "<polyline points=\"153.6111 165.9249 193.562 181.3446 145.5026 213.7131 173.2315 140.25 137.6222 130.0766 202.5723 169.6449 174.9921 214.1177 183.1074 161.0493 187.4327 149.2168 145.3625 153.0277 181.3338 180.1021 181.6847 177.4346\" fill=\"none\" stroke=\"rgba(0,0,0,0.0941)\" stroke-miterlimit=\"10\"/>\n",
       "<polyline points=\"155.7066 170.7405 195.6576 186.1603 147.5981 218.5287 175.327 145.0656 139.7177 134.8923 204.6678 174.4605 177.0877 218.9333 185.2029 165.8649 189.5282 154.0324 147.458 157.8433 183.4294 184.9177 183.7802 182.2502\" fill=\"none\" stroke=\"rgba(0,0,0,0.0941)\" stroke-miterlimit=\"10\"/>\n",
       "<polyline points=\"153.3138 167.6828 193.2647 183.1026 145.2052 215.471 172.9342 142.0079 137.3248 131.8346 202.2749 171.4028 174.6948 215.8757 182.8101 162.8072 187.1353 150.9748 145.0651 154.7856 181.0365 181.8601 181.3873 179.1925\" fill=\"none\" stroke=\"rgba(0,0,0,0.0941)\" stroke-miterlimit=\"10\"/>\n",
       "<polyline points=\"156.1465 168.5377 196.0975 183.9575 148.038 216.3259 175.7669 142.8628 140.1576 132.6895 205.1077 172.2578 177.5275 216.7306 185.6428 163.6621 189.9681 151.8297 147.8979 155.6405 183.8692 182.715 184.2201 180.0475\" fill=\"none\" stroke=\"rgba(0,0,0,0.0941)\" stroke-miterlimit=\"10\"/>\n",
       "<polyline points=\"156.9443 170.6458 196.8952 186.0656 148.8357 218.434 176.5647 144.9709 140.9554 134.7976 205.9055 174.3659 178.3253 218.8387 186.4406 165.7703 190.7659 153.9378 148.6957 157.7486 184.667 184.8231 185.0179 182.1556\" fill=\"none\" stroke=\"rgba(0,0,0,0.0941)\" stroke-miterlimit=\"10\"/>\n",
       "<polyline points=\"154.3692 172.5995 194.3201 188.0193 146.2606 220.3877 173.9896 146.9246 138.3802 136.7513 203.3304 176.3196 175.7502 220.7924 183.8655 167.7239 188.1907 155.8915 146.1205 159.7023 182.0919 186.7768 182.4428 184.1093\" fill=\"none\" stroke=\"rgba(0,0,0,0.0941)\" stroke-miterlimit=\"10\"/>\n",
       "<polyline points=\"150.8357 172.7474 190.7867 188.1672 142.7272 220.5356 170.4562 147.0725 134.8468 136.8992 199.7969 176.4674 172.2168 220.9403 180.332 167.8718 184.6573 156.0394 142.5871 159.8502 178.5585 186.9246 178.9093 184.2571\" fill=\"none\" stroke=\"rgba(0,0,0,0.0941)\" stroke-miterlimit=\"10\"/>\n",
       "<polyline points=\"153.1518 172.3151 193.1027 187.7349 145.0432 220.1033 172.7722 146.6402 137.1628 136.4669 202.113 176.0351 174.5328 220.5079 182.6481 167.4395 186.9734 155.607 144.9031 159.4179 180.8745 186.4923 181.2254 183.8248\" fill=\"none\" stroke=\"rgba(0,0,0,0.0941)\" stroke-miterlimit=\"10\"/>\n",
       "<polyline points=\"153.8706 178.7394 193.8216 194.1591 145.7621 226.5276 173.4911 153.0645 137.8817 142.8912 202.8318 182.4594 175.2517 226.9322 183.3669 173.8638 187.6922 162.0313 145.622 165.8422 181.5934 192.9166 181.9442 190.2491\" fill=\"none\" stroke=\"rgba(0,0,0,0.0941)\" stroke-miterlimit=\"10\"/>\n",
       "<polyline points=\"152.3643 180.892 192.3153 196.3117 144.2558 228.6802 171.9847 155.2171 136.3754 145.0437 201.3255 184.612 173.7454 229.0848 181.8606 176.0164 186.1859 164.1839 144.1157 167.9947 180.087 195.0692 180.4379 192.4017\" fill=\"none\" stroke=\"rgba(0,0,0,0.0941)\" stroke-miterlimit=\"10\"/>\n",
       "<polyline points=\"150.9078 184.5627 190.8588 199.9824 142.7993 232.3509 170.5282 158.8878 134.9189 148.7144 199.869 188.2827 172.2888 232.7555 180.4041 179.6871 184.7294 167.8546 142.6592 171.6655 178.6305 198.7399 178.9814 196.0724\" fill=\"none\" stroke=\"rgba(0,0,0,0.0941)\" stroke-miterlimit=\"10\"/>\n",
       "</svg>"
      ],
      "text/plain": [
       "<IPython.core.display.SVG object>"
      ]
     },
     "metadata": {},
     "output_type": "display_data"
    }
   ],
   "source": [
    "# generate polyline\n",
    "pts = []\n",
    "for i in range(12):\n",
    "    pts.append([normal(), normal()])\n",
    "pline = Polyline(pts)\n",
    "\n",
    "# draw polyline many times on top of itself\n",
    "d = document(100, 100, 'mm')\n",
    "page = d.addpage()\n",
    "figure = shape().stroke(rgba(0, 0, 0, 24)).width(1)\n",
    "for i in range(100):\n",
    "    # add a bit of noise to the coordinates on each loop\n",
    "    pline.vertices += np.random.randn(2) * 0.1\n",
    "    lines = figure.polyline(pline.scale(10).translate(50, 50))\n",
    "    page.place(lines)\n",
    "show(page)"
   ]
  },
  {
   "cell_type": "markdown",
   "metadata": {},
   "source": [
    "## Polylines on a grid\n",
    "\n",
    "Let's pursue this aesthetic a little bit further. Introducing further constraints to the randomness will result in designs that give the impression of conforming to an underlying system (and, let's hypothesize, thereby give an impression of being more like \"writing\"). The code below also uses random polylines, but constrains the polylines to begin and end on certain points in the grid."
   ]
  },
  {
   "cell_type": "code",
   "execution_count": 54,
   "metadata": {},
   "outputs": [
    {
     "data": {
      "image/svg+xml": [
       "<svg xmlns=\"http://www.w3.org/2000/svg\" xmlns:xlink=\"http://www.w3.org/1999/xlink\" version=\"1.1\" width=\"283.4646pt\" height=\"283.4646pt\" viewBox=\"0 0 283.4646 283.4646\">\n",
       "<title>Untitled</title>\n",
       "<polyline points=\"14.1732 269.2913 141.7323 269.2913 14.1732 14.1732 141.7323 269.2913 269.2913 269.2913 269.2913 269.2913 269.2913 14.1732 141.7323 14.1732 14.1732 269.2913 14.1732 269.2913 269.2913 14.1732 269.2913 269.2913\" fill=\"none\" stroke=\"rgba(0,0,0,1)\" stroke-width=\"4\" stroke-linejoin=\"round\"/>\n",
       "</svg>"
      ],
      "text/plain": [
       "<IPython.core.display.SVG object>"
      ]
     },
     "metadata": {},
     "output_type": "display_data"
    }
   ],
   "source": [
    "d = document(100, 100, 'mm')\n",
    "page = d.addpage()\n",
    "figure = shape().stroke(rgba(0, 0, 0, 255)).width(4).join('round')\n",
    "pts = []\n",
    "for i in range(12):\n",
    "    x = choice([0, 0.5, 1])\n",
    "    y = choice([0, 0.5, 1])\n",
    "    pts.append([x, y])\n",
    "pline = Polyline(pts)\n",
    "lines = figure.polyline(pline.scale(90).translate(5, 5))\n",
    "page.place(lines)\n",
    "show(page)"
   ]
  },
  {
   "cell_type": "markdown",
   "metadata": {},
   "source": [
    "The key bit of code here is:"
   ]
  },
  {
   "cell_type": "code",
   "execution_count": 55,
   "metadata": {},
   "outputs": [
    {
     "data": {
      "text/plain": [
       "1.0"
      ]
     },
     "execution_count": 55,
     "metadata": {},
     "output_type": "execute_result"
    }
   ],
   "source": [
    "choice([0, 0.5, 1])"
   ]
  },
  {
   "cell_type": "markdown",
   "metadata": {},
   "source": [
    "... which is a Python expression that returns one of `0`, `0.5`, and `1` (at random). Using this expression for both the `x` and `y` coordinate of each point on the polyline leads to a result wherein each polyline randomly connects one of nine points on a grid. The `.scale()` and `.translate()` methods scale this polyline up and move it to the appropriate place on the screen (i.e., scaled up to 90 units, moved 5 units from the side just to give it a little border).\n",
    "\n",
    "The cell below defines a function, `make_char()`, that generates a series of points using a more general version of this expression. It adds four to twelve segments to the polyline (randomly determined)."
   ]
  },
  {
   "cell_type": "code",
   "execution_count": 56,
   "metadata": {},
   "outputs": [],
   "source": [
    "def make_char():\n",
    "    pts = []\n",
    "    for i in range(int(t_normal(4, 12, 8, 2))):\n",
    "        x = (choice([0, 0.5, 1]))\n",
    "        y = (choice([0, 0.5, 1]))\n",
    "        pts.append([x, y])\n",
    "    return Polyline(pts)"
   ]
  },
  {
   "cell_type": "markdown",
   "metadata": {},
   "source": [
    "The results of the `make_char()` function:"
   ]
  },
  {
   "cell_type": "code",
   "execution_count": 57,
   "metadata": {
    "scrolled": true
   },
   "outputs": [
    {
     "data": {
      "text/plain": [
       "Polyline([[1.0000, 0.5000], [1.0000, 1.0000], [0.0000, 0.5000], [0.0000, 1.0000], [0.5000, 0.5000], [1.0000, 0.5000], [0.0000, 1.0000]])"
      ]
     },
     "execution_count": 57,
     "metadata": {},
     "output_type": "execute_result"
    }
   ],
   "source": [
    "make_char()"
   ]
  },
  {
   "cell_type": "markdown",
   "metadata": {},
   "source": [
    "The following cell draws these \"characters\" on a grid, so we can see many variations at once:"
   ]
  },
  {
   "cell_type": "code",
   "execution_count": 58,
   "metadata": {},
   "outputs": [
    {
     "data": {
      "image/svg+xml": [
       "<svg xmlns=\"http://www.w3.org/2000/svg\" xmlns:xlink=\"http://www.w3.org/1999/xlink\" version=\"1.1\" width=\"425.1969pt\" height=\"425.1969pt\" viewBox=\"0 0 425.1969 425.1969\">\n",
       "<title>Untitled</title>\n",
       "<polyline points=\"26.3091 8.5039 44.1142 44.1142 44.1142 8.5039 44.1142 8.5039 44.1142 26.3091 26.3091 8.5039\" fill=\"none\" stroke=\"rgba(0,0,0,1)\" stroke-width=\"2\" stroke-linejoin=\"round\"/>\n",
       "<polyline points=\"8.5039 61.6535 8.5039 61.6535 8.5039 97.2638 8.5039 61.6535 44.1142 79.4587 26.3091 79.4587\" fill=\"none\" stroke=\"rgba(0,0,0,1)\" stroke-width=\"2\" stroke-linejoin=\"round\"/>\n",
       "<polyline points=\"8.5039 132.6083 26.3091 132.6083 26.3091 114.8031 26.3091 114.8031 26.3091 132.6083 44.1142 114.8031 26.3091 114.8031 26.3091 150.4134 44.1142 114.8031\" fill=\"none\" stroke=\"rgba(0,0,0,1)\" stroke-width=\"2\" stroke-linejoin=\"round\"/>\n",
       "<polyline points=\"26.3091 185.7579 44.1142 203.563 8.5039 185.7579 26.3091 167.9528\" fill=\"none\" stroke=\"rgba(0,0,0,1)\" stroke-width=\"2\" stroke-linejoin=\"round\"/>\n",
       "<polyline points=\"26.3091 221.1024 8.5039 221.1024 44.1142 238.9075 8.5039 256.7126 8.5039 238.9075 26.3091 238.9075 8.5039 238.9075 26.3091 238.9075 8.5039 238.9075 8.5039 221.1024 44.1142 238.9075\" fill=\"none\" stroke=\"rgba(0,0,0,1)\" stroke-width=\"2\" stroke-linejoin=\"round\"/>\n",
       "<polyline points=\"8.5039 292.0571 8.5039 274.252 44.1142 309.8622 8.5039 292.0571 44.1142 274.252 44.1142 309.8622 26.3091 309.8622 8.5039 309.8622\" fill=\"none\" stroke=\"rgba(0,0,0,1)\" stroke-width=\"2\" stroke-linejoin=\"round\"/>\n",
       "<polyline points=\"44.1142 363.0118 8.5039 327.4016 26.3091 345.2067 44.1142 363.0118 26.3091 345.2067 26.3091 327.4016 26.3091 363.0118 8.5039 327.4016 26.3091 327.4016 26.3091 363.0118\" fill=\"none\" stroke=\"rgba(0,0,0,1)\" stroke-width=\"2\" stroke-linejoin=\"round\"/>\n",
       "<polyline points=\"44.1142 416.1614 26.3091 398.3563 8.5039 416.1614 8.5039 398.3563 26.3091 416.1614 26.3091 380.5512 8.5039 416.1614\" fill=\"none\" stroke=\"rgba(0,0,0,1)\" stroke-width=\"2\" stroke-linejoin=\"round\"/>\n",
       "<polyline points=\"79.4587 26.3091 79.4587 26.3091 79.4587 26.3091 61.6535 44.1142 61.6535 26.3091 79.4587 44.1142 97.2638 44.1142 97.2638 26.3091\" fill=\"none\" stroke=\"rgba(0,0,0,1)\" stroke-width=\"2\" stroke-linejoin=\"round\"/>\n",
       "<polyline points=\"61.6535 97.2638 97.2638 79.4587 79.4587 61.6535 61.6535 97.2638 79.4587 61.6535 97.2638 61.6535\" fill=\"none\" stroke=\"rgba(0,0,0,1)\" stroke-width=\"2\" stroke-linejoin=\"round\"/>\n",
       "<polyline points=\"61.6535 114.8031 79.4587 132.6083 61.6535 150.4134 97.2638 150.4134 97.2638 150.4134 97.2638 114.8031 97.2638 114.8031 97.2638 114.8031 61.6535 150.4134\" fill=\"none\" stroke=\"rgba(0,0,0,1)\" stroke-width=\"2\" stroke-linejoin=\"round\"/>\n",
       "<polyline points=\"61.6535 203.563 61.6535 185.7579 97.2638 203.563 97.2638 167.9528\" fill=\"none\" stroke=\"rgba(0,0,0,1)\" stroke-width=\"2\" stroke-linejoin=\"round\"/>\n",
       "<polyline points=\"97.2638 256.7126 61.6535 221.1024 79.4587 221.1024 61.6535 256.7126\" fill=\"none\" stroke=\"rgba(0,0,0,1)\" stroke-width=\"2\" stroke-linejoin=\"round\"/>\n",
       "<polyline points=\"97.2638 292.0571 79.4587 274.252 97.2638 274.252 61.6535 309.8622 79.4587 292.0571\" fill=\"none\" stroke=\"rgba(0,0,0,1)\" stroke-width=\"2\" stroke-linejoin=\"round\"/>\n",
       "<polyline points=\"97.2638 345.2067 79.4587 345.2067 79.4587 363.0118 79.4587 363.0118\" fill=\"none\" stroke=\"rgba(0,0,0,1)\" stroke-width=\"2\" stroke-linejoin=\"round\"/>\n",
       "<polyline points=\"97.2638 380.5512 97.2638 416.1614 97.2638 380.5512 97.2638 380.5512\" fill=\"none\" stroke=\"rgba(0,0,0,1)\" stroke-width=\"2\" stroke-linejoin=\"round\"/>\n",
       "<polyline points=\"114.8031 26.3091 114.8031 26.3091 132.6083 26.3091 132.6083 44.1142 132.6083 8.5039 114.8031 26.3091 132.6083 26.3091 150.4134 44.1142 114.8031 26.3091\" fill=\"none\" stroke=\"rgba(0,0,0,1)\" stroke-width=\"2\" stroke-linejoin=\"round\"/>\n",
       "<polyline points=\"132.6083 97.2638 132.6083 79.4587 150.4134 79.4587 150.4134 79.4587 132.6083 61.6535\" fill=\"none\" stroke=\"rgba(0,0,0,1)\" stroke-width=\"2\" stroke-linejoin=\"round\"/>\n",
       "<polyline points=\"132.6083 132.6083 150.4134 132.6083 150.4134 114.8031 132.6083 132.6083 132.6083 114.8031 150.4134 132.6083 150.4134 114.8031 114.8031 114.8031\" fill=\"none\" stroke=\"rgba(0,0,0,1)\" stroke-width=\"2\" stroke-linejoin=\"round\"/>\n",
       "<polyline points=\"114.8031 167.9528 132.6083 203.563 150.4134 167.9528 150.4134 167.9528 150.4134 203.563 114.8031 203.563 114.8031 203.563 150.4134 167.9528 132.6083 185.7579\" fill=\"none\" stroke=\"rgba(0,0,0,1)\" stroke-width=\"2\" stroke-linejoin=\"round\"/>\n",
       "<polyline points=\"114.8031 256.7126 132.6083 238.9075 114.8031 238.9075 150.4134 221.1024 150.4134 256.7126 150.4134 221.1024 150.4134 221.1024 132.6083 221.1024 150.4134 221.1024 150.4134 256.7126 132.6083 256.7126\" fill=\"none\" stroke=\"rgba(0,0,0,1)\" stroke-width=\"2\" stroke-linejoin=\"round\"/>\n",
       "<polyline points=\"132.6083 309.8622 132.6083 274.252 132.6083 292.0571 132.6083 292.0571\" fill=\"none\" stroke=\"rgba(0,0,0,1)\" stroke-width=\"2\" stroke-linejoin=\"round\"/>\n",
       "<polyline points=\"132.6083 327.4016 150.4134 363.0118 114.8031 327.4016 114.8031 327.4016 132.6083 345.2067 150.4134 327.4016 114.8031 345.2067 114.8031 327.4016\" fill=\"none\" stroke=\"rgba(0,0,0,1)\" stroke-width=\"2\" stroke-linejoin=\"round\"/>\n",
       "<polyline points=\"132.6083 416.1614 150.4134 416.1614 114.8031 398.3563 150.4134 380.5512 132.6083 380.5512 132.6083 416.1614 114.8031 398.3563 150.4134 416.1614 114.8031 416.1614 150.4134 416.1614\" fill=\"none\" stroke=\"rgba(0,0,0,1)\" stroke-width=\"2\" stroke-linejoin=\"round\"/>\n",
       "<polyline points=\"203.563 26.3091 185.7579 44.1142 203.563 8.5039 203.563 44.1142 185.7579 26.3091 185.7579 26.3091\" fill=\"none\" stroke=\"rgba(0,0,0,1)\" stroke-width=\"2\" stroke-linejoin=\"round\"/>\n",
       "<polyline points=\"167.9528 97.2638 185.7579 61.6535 167.9528 61.6535 185.7579 79.4587 203.563 79.4587 167.9528 79.4587 185.7579 79.4587 167.9528 79.4587\" fill=\"none\" stroke=\"rgba(0,0,0,1)\" stroke-width=\"2\" stroke-linejoin=\"round\"/>\n",
       "<polyline points=\"203.563 132.6083 167.9528 150.4134 203.563 132.6083 167.9528 150.4134 185.7579 150.4134 185.7579 150.4134 167.9528 132.6083 203.563 114.8031\" fill=\"none\" stroke=\"rgba(0,0,0,1)\" stroke-width=\"2\" stroke-linejoin=\"round\"/>\n",
       "<polyline points=\"167.9528 203.563 185.7579 167.9528 185.7579 185.7579 185.7579 167.9528 167.9528 167.9528\" fill=\"none\" stroke=\"rgba(0,0,0,1)\" stroke-width=\"2\" stroke-linejoin=\"round\"/>\n",
       "<polyline points=\"167.9528 238.9075 185.7579 256.7126 167.9528 238.9075 167.9528 256.7126\" fill=\"none\" stroke=\"rgba(0,0,0,1)\" stroke-width=\"2\" stroke-linejoin=\"round\"/>\n",
       "<polyline points=\"203.563 292.0571 203.563 292.0571 167.9528 292.0571 167.9528 292.0571 167.9528 274.252 203.563 292.0571 185.7579 274.252\" fill=\"none\" stroke=\"rgba(0,0,0,1)\" stroke-width=\"2\" stroke-linejoin=\"round\"/>\n",
       "<polyline points=\"185.7579 363.0118 203.563 327.4016 203.563 327.4016 203.563 363.0118 185.7579 363.0118 203.563 327.4016 167.9528 345.2067 167.9528 345.2067 203.563 327.4016\" fill=\"none\" stroke=\"rgba(0,0,0,1)\" stroke-width=\"2\" stroke-linejoin=\"round\"/>\n",
       "<polyline points=\"185.7579 416.1614 167.9528 416.1614 185.7579 398.3563 203.563 398.3563 185.7579 398.3563 185.7579 398.3563\" fill=\"none\" stroke=\"rgba(0,0,0,1)\" stroke-width=\"2\" stroke-linejoin=\"round\"/>\n",
       "<polyline points=\"221.1024 44.1142 221.1024 26.3091 238.9075 44.1142 221.1024 44.1142 221.1024 26.3091 256.7126 44.1142 238.9075 8.5039 221.1024 8.5039\" fill=\"none\" stroke=\"rgba(0,0,0,1)\" stroke-width=\"2\" stroke-linejoin=\"round\"/>\n",
       "<polyline points=\"221.1024 97.2638 221.1024 79.4587 221.1024 61.6535 238.9075 61.6535 256.7126 79.4587 256.7126 79.4587\" fill=\"none\" stroke=\"rgba(0,0,0,1)\" stroke-width=\"2\" stroke-linejoin=\"round\"/>\n",
       "<polyline points=\"238.9075 150.4134 221.1024 132.6083 256.7126 114.8031 238.9075 132.6083 256.7126 132.6083 221.1024 150.4134 238.9075 150.4134\" fill=\"none\" stroke=\"rgba(0,0,0,1)\" stroke-width=\"2\" stroke-linejoin=\"round\"/>\n",
       "<polyline points=\"256.7126 167.9528 221.1024 167.9528 221.1024 203.563 221.1024 167.9528 256.7126 167.9528 256.7126 185.7579 221.1024 185.7579 221.1024 167.9528 221.1024 167.9528\" fill=\"none\" stroke=\"rgba(0,0,0,1)\" stroke-width=\"2\" stroke-linejoin=\"round\"/>\n",
       "<polyline points=\"256.7126 256.7126 238.9075 256.7126 221.1024 221.1024 221.1024 256.7126 238.9075 238.9075 238.9075 221.1024\" fill=\"none\" stroke=\"rgba(0,0,0,1)\" stroke-width=\"2\" stroke-linejoin=\"round\"/>\n",
       "<polyline points=\"256.7126 274.252 221.1024 292.0571 221.1024 292.0571 256.7126 309.8622 238.9075 309.8622 221.1024 274.252\" fill=\"none\" stroke=\"rgba(0,0,0,1)\" stroke-width=\"2\" stroke-linejoin=\"round\"/>\n",
       "<polyline points=\"238.9075 363.0118 221.1024 327.4016 221.1024 363.0118 238.9075 345.2067 221.1024 363.0118 221.1024 327.4016 221.1024 345.2067 256.7126 345.2067 221.1024 345.2067\" fill=\"none\" stroke=\"rgba(0,0,0,1)\" stroke-width=\"2\" stroke-linejoin=\"round\"/>\n",
       "<polyline points=\"238.9075 398.3563 238.9075 398.3563 256.7126 380.5512 238.9075 380.5512 238.9075 380.5512 221.1024 416.1614 221.1024 398.3563\" fill=\"none\" stroke=\"rgba(0,0,0,1)\" stroke-width=\"2\" stroke-linejoin=\"round\"/>\n",
       "<polyline points=\"309.8622 44.1142 292.0571 26.3091 274.252 8.5039 292.0571 44.1142 292.0571 44.1142 292.0571 44.1142 274.252 8.5039 274.252 44.1142 274.252 44.1142\" fill=\"none\" stroke=\"rgba(0,0,0,1)\" stroke-width=\"2\" stroke-linejoin=\"round\"/>\n",
       "<polyline points=\"274.252 79.4587 309.8622 79.4587 274.252 61.6535 292.0571 97.2638 309.8622 79.4587 309.8622 79.4587\" fill=\"none\" stroke=\"rgba(0,0,0,1)\" stroke-width=\"2\" stroke-linejoin=\"round\"/>\n",
       "<polyline points=\"292.0571 114.8031 309.8622 150.4134 309.8622 132.6083 274.252 132.6083 309.8622 150.4134 274.252 114.8031\" fill=\"none\" stroke=\"rgba(0,0,0,1)\" stroke-width=\"2\" stroke-linejoin=\"round\"/>\n",
       "<polyline points=\"292.0571 203.563 274.252 203.563 274.252 167.9528 292.0571 185.7579 309.8622 167.9528 274.252 203.563\" fill=\"none\" stroke=\"rgba(0,0,0,1)\" stroke-width=\"2\" stroke-linejoin=\"round\"/>\n",
       "<polyline points=\"274.252 238.9075 309.8622 256.7126 309.8622 221.1024 274.252 221.1024 292.0571 221.1024 309.8622 221.1024\" fill=\"none\" stroke=\"rgba(0,0,0,1)\" stroke-width=\"2\" stroke-linejoin=\"round\"/>\n",
       "<polyline points=\"274.252 274.252 292.0571 309.8622 309.8622 292.0571 292.0571 292.0571 292.0571 309.8622\" fill=\"none\" stroke=\"rgba(0,0,0,1)\" stroke-width=\"2\" stroke-linejoin=\"round\"/>\n",
       "<polyline points=\"274.252 327.4016 292.0571 345.2067 309.8622 327.4016 274.252 327.4016 292.0571 363.0118 292.0571 363.0118\" fill=\"none\" stroke=\"rgba(0,0,0,1)\" stroke-width=\"2\" stroke-linejoin=\"round\"/>\n",
       "<polyline points=\"292.0571 380.5512 292.0571 380.5512 274.252 380.5512 274.252 380.5512 292.0571 398.3563 274.252 398.3563\" fill=\"none\" stroke=\"rgba(0,0,0,1)\" stroke-width=\"2\" stroke-linejoin=\"round\"/>\n",
       "<polyline points=\"363.0118 8.5039 327.4016 8.5039 363.0118 44.1142 363.0118 26.3091 327.4016 26.3091 363.0118 26.3091 345.2067 8.5039 327.4016 44.1142 345.2067 44.1142\" fill=\"none\" stroke=\"rgba(0,0,0,1)\" stroke-width=\"2\" stroke-linejoin=\"round\"/>\n",
       "<polyline points=\"345.2067 61.6535 363.0118 97.2638 345.2067 79.4587 327.4016 61.6535 327.4016 97.2638 345.2067 79.4587 363.0118 79.4587\" fill=\"none\" stroke=\"rgba(0,0,0,1)\" stroke-width=\"2\" stroke-linejoin=\"round\"/>\n",
       "<polyline points=\"327.4016 114.8031 345.2067 132.6083 327.4016 132.6083 345.2067 114.8031 363.0118 150.4134 363.0118 132.6083 327.4016 114.8031 345.2067 150.4134 363.0118 114.8031\" fill=\"none\" stroke=\"rgba(0,0,0,1)\" stroke-width=\"2\" stroke-linejoin=\"round\"/>\n",
       "<polyline points=\"363.0118 167.9528 363.0118 185.7579 363.0118 185.7579 327.4016 185.7579 363.0118 167.9528 327.4016 185.7579\" fill=\"none\" stroke=\"rgba(0,0,0,1)\" stroke-width=\"2\" stroke-linejoin=\"round\"/>\n",
       "<polyline points=\"327.4016 256.7126 363.0118 256.7126 327.4016 221.1024 363.0118 238.9075 345.2067 221.1024 345.2067 238.9075\" fill=\"none\" stroke=\"rgba(0,0,0,1)\" stroke-width=\"2\" stroke-linejoin=\"round\"/>\n",
       "<polyline points=\"327.4016 292.0571 363.0118 309.8622 327.4016 292.0571 345.2067 292.0571 345.2067 292.0571 327.4016 309.8622\" fill=\"none\" stroke=\"rgba(0,0,0,1)\" stroke-width=\"2\" stroke-linejoin=\"round\"/>\n",
       "<polyline points=\"327.4016 363.0118 345.2067 327.4016 363.0118 327.4016 327.4016 345.2067 345.2067 345.2067 345.2067 327.4016 345.2067 345.2067 327.4016 363.0118 345.2067 327.4016 345.2067 345.2067 345.2067 363.0118\" fill=\"none\" stroke=\"rgba(0,0,0,1)\" stroke-width=\"2\" stroke-linejoin=\"round\"/>\n",
       "<polyline points=\"363.0118 380.5512 327.4016 416.1614 363.0118 416.1614 345.2067 398.3563\" fill=\"none\" stroke=\"rgba(0,0,0,1)\" stroke-width=\"2\" stroke-linejoin=\"round\"/>\n",
       "<polyline points=\"416.1614 44.1142 380.5512 26.3091 398.3563 8.5039 380.5512 8.5039 398.3563 8.5039 380.5512 26.3091 380.5512 8.5039 380.5512 44.1142\" fill=\"none\" stroke=\"rgba(0,0,0,1)\" stroke-width=\"2\" stroke-linejoin=\"round\"/>\n",
       "<polyline points=\"380.5512 97.2638 380.5512 61.6535 398.3563 79.4587 416.1614 97.2638\" fill=\"none\" stroke=\"rgba(0,0,0,1)\" stroke-width=\"2\" stroke-linejoin=\"round\"/>\n",
       "<polyline points=\"416.1614 150.4134 398.3563 114.8031 416.1614 132.6083 398.3563 132.6083 398.3563 114.8031 416.1614 132.6083\" fill=\"none\" stroke=\"rgba(0,0,0,1)\" stroke-width=\"2\" stroke-linejoin=\"round\"/>\n",
       "<polyline points=\"416.1614 203.563 380.5512 167.9528 416.1614 185.7579 416.1614 203.563 398.3563 185.7579 380.5512 167.9528\" fill=\"none\" stroke=\"rgba(0,0,0,1)\" stroke-width=\"2\" stroke-linejoin=\"round\"/>\n",
       "<polyline points=\"380.5512 256.7126 380.5512 221.1024 380.5512 221.1024 380.5512 221.1024 380.5512 221.1024\" fill=\"none\" stroke=\"rgba(0,0,0,1)\" stroke-width=\"2\" stroke-linejoin=\"round\"/>\n",
       "<polyline points=\"398.3563 274.252 398.3563 274.252 416.1614 292.0571 416.1614 274.252 380.5512 292.0571 398.3563 274.252 380.5512 274.252\" fill=\"none\" stroke=\"rgba(0,0,0,1)\" stroke-width=\"2\" stroke-linejoin=\"round\"/>\n",
       "<polyline points=\"416.1614 363.0118 380.5512 327.4016 380.5512 327.4016 380.5512 327.4016 398.3563 345.2067 380.5512 363.0118 380.5512 345.2067 416.1614 327.4016 416.1614 327.4016 380.5512 345.2067 380.5512 345.2067\" fill=\"none\" stroke=\"rgba(0,0,0,1)\" stroke-width=\"2\" stroke-linejoin=\"round\"/>\n",
       "<polyline points=\"380.5512 416.1614 416.1614 416.1614 416.1614 380.5512 398.3563 398.3563 380.5512 416.1614\" fill=\"none\" stroke=\"rgba(0,0,0,1)\" stroke-width=\"2\" stroke-linejoin=\"round\"/>\n",
       "</svg>"
      ],
      "text/plain": [
       "<IPython.core.display.SVG object>"
      ]
     },
     "metadata": {},
     "output_type": "display_data"
    }
   ],
   "source": [
    "size = 150 # change the size of the page\n",
    "d = document(size, size, 'mm')\n",
    "page = d.addpage()\n",
    "figure = shape().stroke(rgba(0, 0, 0, 255)).width(2).join('round')\n",
    "grid_n = 8 # change the number of elements in the grid on one side\n",
    "grid_size = size / grid_n\n",
    "for i in range(grid_n):\n",
    "    for j in range(grid_n):\n",
    "        char_pline = make_char()\n",
    "        lines = figure.polyline(\n",
    "            char_pline.scale(grid_size * 0.67).translate(3+i*grid_size, 3+j*grid_size))\n",
    "        page.place(lines)\n",
    "show(page)"
   ]
  },
  {
   "cell_type": "markdown",
   "metadata": {},
   "source": [
    "Now we're getting somewhere. When your sci-fi author friend texts you and says \"Hey, I need something that looks like a writing system for space aliens for the cover of my next book,\" you've got something all ready to go.\n",
    "\n",
    "> Exercise: Can you make these polylines fall on a 4x4 grid instead of a 3x3 grid? Or a 5x5 grid?\n",
    "\n",
    "> Exercise: Add some randomness to each point's placement, so not all points fall directly on the grid.\n",
    "\n",
    "> Exercise: Change the aspect ratio of the \"characters\"—make them wider than they are tall, or taller than they are wide."
   ]
  },
  {
   "cell_type": "markdown",
   "metadata": {},
   "source": [
    "## Interpolating curves\n",
    "\n",
    "Due to certain properties of human physiology, handwriting hardly ever consists of exactly straight lines. To simulate the curved lines of conventional handwriting, we need to find a way to change our polylines into *curves*. One way of doing this is a [Catmull-Rom spline](https://en.wikipedia.org/wiki/Centripetal_Catmull%E2%80%93Rom_spline), which produces a sequence of [Bézier curves](https://pomax.github.io/bezierinfo/) that pass through a given set of points. Bezmerizing `Polyline` objects have a function `smooth_path()` that uses Catmull-Rom to produce a path (i.e., a sequence of drawing instructions) that can draw such a curve given a set of points.\n",
    "\n",
    "The following cell generates some points with a normal distribution:"
   ]
  },
  {
   "cell_type": "code",
   "execution_count": 59,
   "metadata": {},
   "outputs": [],
   "source": [
    "pts = []\n",
    "for i in range(10):\n",
    "    pts.append([normal(50, 25), normal(50, 25)])\n",
    "pline = Polyline(pts)"
   ]
  },
  {
   "cell_type": "markdown",
   "metadata": {},
   "source": [
    "And then this cell calls `smooth_point_path()` on the points, returning a list of curves:"
   ]
  },
  {
   "cell_type": "code",
   "execution_count": 60,
   "metadata": {},
   "outputs": [],
   "source": [
    "curve_path = pline.smooth_path()"
   ]
  },
  {
   "cell_type": "markdown",
   "metadata": {},
   "source": [
    "The object returned from `.smooth_path()` is a Bezmerizing `Path` object, that contains a series of Flat \"path commands\" to draw the curve:"
   ]
  },
  {
   "cell_type": "code",
   "execution_count": 61,
   "metadata": {},
   "outputs": [
    {
     "data": {
      "text/plain": [
       "Path([moveto(x=95.2256, y=10.6864), curveto(x1=104.8103, y1=-0.4021, x2=74.4881, y2=44.5356, x=59.8362, y=53.6762), moveto(x=59.8362, y=53.6762), curveto(x1=45.1843, y1=62.8169, x2=5.0330, y2=57.8049, x=7.3142, y=65.5305), moveto(x=7.3142, y=65.5305), curveto(x1=9.5953, y1=73.2561, x2=56.3785, y2=106.8930, x=73.5230, y=100.0299), moveto(x=73.5230, y=100.0299), curveto(x1=90.6675, y1=93.1669, x2=111.0038, y2=31.5137, x=110.1810, y=24.3522), moveto(x=110.1810, y=24.3522), curveto(x1=109.3581, y1=17.1908, x2=77.4563, y2=58.1302, x=68.5860, y=57.0614), moveto(x=68.5860, y=57.0614), curveto(x1=59.7156, y1=55.9926, x2=57.4887, y2=14.4145, x=56.9588, y=17.9395), moveto(x=56.9588, y=17.9395), curveto(x1=56.4290, y1=21.4646, x2=67.7018, y2=73.5301, x=65.4069, y=78.2117)])"
      ]
     },
     "execution_count": 61,
     "metadata": {},
     "output_type": "execute_result"
    }
   ],
   "source": [
    "curve_path"
   ]
  },
  {
   "cell_type": "markdown",
   "metadata": {},
   "source": [
    "Like `Polyline` objects, `Path`s can be translated, rotated, scaled, etc."
   ]
  },
  {
   "cell_type": "markdown",
   "metadata": {},
   "source": [
    "For our purpose, the exact nature of Bézier curves and the Flat library's path commands are not consequential. Suffice it to say that you can pass the result of `.smooth_path()` to the `.path()` method of a flat `shape` object. The cell below draws both the points and the curve passing through those points:"
   ]
  },
  {
   "cell_type": "code",
   "execution_count": 62,
   "metadata": {},
   "outputs": [
    {
     "data": {
      "image/svg+xml": [
       "<svg xmlns=\"http://www.w3.org/2000/svg\" xmlns:xlink=\"http://www.w3.org/1999/xlink\" version=\"1.1\" width=\"283.4646pt\" height=\"283.4646pt\" viewBox=\"0 0 283.4646 283.4646\">\n",
       "<title>Untitled</title>\n",
       "<polyline points=\"6.5998 340.7449 269.9308 30.2922 169.6143 152.1531 20.7331 185.7558 208.4117 283.5495 312.324 69.0299 194.4169 161.7488 161.4581 50.8522 185.4054 221.7026 122.4267 130.4772\" fill=\"none\" stroke=\"rgba(0,0,255,0.502)\" stroke-miterlimit=\"10\"/>\n",
       "<path d=\"M269.9308,30.2922 C297.0999,-1.1397,211.1473,126.2425,169.6143,152.1531 M169.6143,152.1531 C128.0813,178.0637,14.2669,163.8564,20.7331,185.7558 M20.7331,185.7558 C27.1993,207.6552,159.8132,303.0038,208.4117,283.5495 M208.4117,283.5495 C257.0101,264.0951,314.6565,89.33,312.324,69.0299 M312.324,69.0299 C309.9915,48.7298,219.5612,164.7784,194.4169,161.7488 M194.4169,161.7488 C169.2726,158.7192,162.96,40.8599,161.4581,50.8522 M161.4581,50.8522 C159.9562,60.8445,191.9107,208.4317,185.4054,221.7026\" fill=\"none\" stroke=\"rgba(255,0,0,1)\" stroke-width=\"4\" stroke-miterlimit=\"10\"/>\n",
       "</svg>"
      ],
      "text/plain": [
       "<IPython.core.display.SVG object>"
      ]
     },
     "metadata": {},
     "output_type": "display_data"
    }
   ],
   "source": [
    "d = document(100, 100, 'mm')\n",
    "page = d.addpage()\n",
    "line_figure = shape().stroke(rgba(0, 0, 255, 128)).width(1)\n",
    "curve_figure = shape().stroke(rgba(255, 0, 0, 255)).width(4)\n",
    "lines = line_figure.polyline(pline)\n",
    "curve = curve_figure.path(curve_path)\n",
    "page.place(lines)\n",
    "page.place(curve)\n",
    "show(page)"
   ]
  },
  {
   "cell_type": "markdown",
   "metadata": {},
   "source": [
    "You'll notice in the above example that the Catmull-Rom spline algorithm \"eats\" the first and last points of the polyline. (It uses those points to determine the position of the control points of the first and last curves of the spline.) Keep this in mind when you're using `.smooth_path()` and related functions—your procedure to generate glyphs needs to generate two extra points!"
   ]
  },
  {
   "cell_type": "markdown",
   "metadata": {},
   "source": [
    "The following example copies the grid of alien letterforms above, but uses `.smooth_path()` to convert the points to curves before drawing. The results are much more \"organic\":"
   ]
  },
  {
   "cell_type": "code",
   "execution_count": 63,
   "metadata": {},
   "outputs": [
    {
     "data": {
      "image/svg+xml": [
       "<svg xmlns=\"http://www.w3.org/2000/svg\" xmlns:xlink=\"http://www.w3.org/1999/xlink\" version=\"1.1\" width=\"283.4646pt\" height=\"283.4646pt\" viewBox=\"0 0 283.4646 283.4646\">\n",
       "<title>Untitled</title>\n",
       "<path d=\"M20.374,8.5039 C20.374,8.5039,30.2657,28.2874,32.2441,32.2441 M32.2441,32.2441 C34.2224,36.2008,32.2441,32.2441,32.2441,32.2441 M32.2441,32.2441 C32.2441,32.2441,32.2441,32.2441,32.2441,32.2441 M32.2441,32.2441 C32.2441,32.2441,32.2441,36.2008,32.2441,32.2441\" fill=\"none\" stroke=\"rgba(0,0,0,1)\" stroke-width=\"2\" stroke-linejoin=\"round\"/>\n",
       "<path d=\"M32.2441,67.6772 C30.2657,69.6555,12.4606,57.7854,8.5039,55.8071\" fill=\"none\" stroke=\"rgba(0,0,0,1)\" stroke-width=\"2\" stroke-linejoin=\"round\"/>\n",
       "<path d=\"M20.374,91.2402 C18.3957,95.1969,20.374,101.1319,20.374,103.1102 M20.374,103.1102 C20.374,105.0886,20.374,107.0669,20.374,103.1102 M20.374,103.1102 C20.374,99.1535,20.374,81.3484,20.374,79.3701 M20.374,79.3701 C20.374,77.3917,20.374,87.2835,20.374,91.2402 M20.374,91.2402 C20.374,95.1969,22.3524,101.1319,20.374,103.1102\" fill=\"none\" stroke=\"rgba(0,0,0,1)\" stroke-width=\"2\" stroke-linejoin=\"round\"/>\n",
       "<path d=\"M32.2441,114.8031 C30.2657,114.8031,10.4823,112.8248,8.5039,114.8031 M8.5039,114.8031 C6.5256,116.7815,20.374,122.7165,20.374,126.6732\" fill=\"none\" stroke=\"rgba(0,0,0,1)\" stroke-width=\"2\" stroke-linejoin=\"round\"/>\n",
       "<path d=\"M8.5039,162.1063 C4.5472,158.1496,4.5472,150.2362,8.5039,150.2362 M8.5039,150.2362 C12.4606,150.2362,28.2874,162.1063,32.2441,162.1063 M32.2441,162.1063 C36.2008,162.1063,32.2441,148.2579,32.2441,150.2362 M32.2441,150.2362 C32.2441,152.2146,32.2441,173.9764,32.2441,173.9764\" fill=\"none\" stroke=\"rgba(0,0,0,1)\" stroke-width=\"2\" stroke-linejoin=\"round\"/>\n",
       "<path d=\"M8.5039,197.5394 C6.5256,193.5827,8.5039,185.6693,8.5039,185.6693 M8.5039,185.6693 C8.5039,185.6693,8.5039,193.5827,8.5039,197.5394\" fill=\"none\" stroke=\"rgba(0,0,0,1)\" stroke-width=\"2\" stroke-linejoin=\"round\"/>\n",
       "<path d=\"M20.374,244.8425 C16.4173,244.8425,6.5256,236.9291,8.5039,232.9724 M8.5039,232.9724 C10.4823,229.0157,30.2657,223.0807,32.2441,221.1024 M32.2441,221.1024 C34.2224,219.124,24.3307,221.1024,20.374,221.1024 M20.374,221.1024 C16.4173,221.1024,8.5039,217.1457,8.5039,221.1024 M8.5039,221.1024 C8.5039,225.0591,20.374,240.8858,20.374,244.8425\" fill=\"none\" stroke=\"rgba(0,0,0,1)\" stroke-width=\"2\" stroke-linejoin=\"round\"/>\n",
       "<path d=\"M8.5039,256.5354 C8.5039,258.5138,20.374,266.4272,20.374,268.4055 M20.374,268.4055 C20.374,270.3839,8.5039,270.3839,8.5039,268.4055 M8.5039,268.4055 C8.5039,266.4272,20.374,254.5571,20.374,256.5354 M20.374,256.5354 C20.374,258.5138,6.5256,280.2756,8.5039,280.2756 M8.5039,280.2756 C10.4823,280.2756,30.2657,258.5138,32.2441,256.5354 M32.2441,256.5354 C34.2224,254.5571,22.3524,264.4488,20.374,268.4055 M20.374,268.4055 C18.3957,272.3622,18.3957,282.2539,20.374,280.2756\" fill=\"none\" stroke=\"rgba(0,0,0,1)\" stroke-width=\"2\" stroke-linejoin=\"round\"/>\n",
       "<path d=\"M67.6772,20.374 C67.6772,22.3524,43.937,20.374,43.937,20.374 M43.937,20.374 C43.937,20.374,65.6988,18.3957,67.6772,20.374 M67.6772,20.374 C69.6555,22.3524,59.7638,32.2441,55.8071,32.2441 M55.8071,32.2441 C51.8504,32.2441,41.9587,22.3524,43.937,20.374\" fill=\"none\" stroke=\"rgba(0,0,0,1)\" stroke-width=\"2\" stroke-linejoin=\"round\"/>\n",
       "<path d=\"M43.937,67.6772 C47.8937,63.7205,63.7205,43.937,67.6772,43.937 M67.6772,43.937 C71.6339,43.937,67.6772,63.7205,67.6772,67.6772 M67.6772,67.6772 C67.6772,71.6339,67.6772,71.6339,67.6772,67.6772 M67.6772,67.6772 C67.6772,63.7205,67.6772,43.937,67.6772,43.937 M67.6772,43.937 C67.6772,43.937,71.6339,63.7205,67.6772,67.6772\" fill=\"none\" stroke=\"rgba(0,0,0,1)\" stroke-width=\"2\" stroke-linejoin=\"round\"/>\n",
       "<path d=\"M67.6772,91.2402 C67.6772,95.1969,47.8937,105.0886,43.937,103.1102 M43.937,103.1102 C39.9803,101.1319,43.937,83.3268,43.937,79.3701 M43.937,79.3701 C43.937,75.4134,39.9803,75.4134,43.937,79.3701 M43.937,79.3701 C47.8937,83.3268,67.6772,101.1319,67.6772,103.1102 M67.6772,103.1102 C67.6772,105.0886,45.9154,91.2402,43.937,91.2402 M43.937,91.2402 C41.9587,91.2402,51.8504,103.1102,55.8071,103.1102\" fill=\"none\" stroke=\"rgba(0,0,0,1)\" stroke-width=\"2\" stroke-linejoin=\"round\"/>\n",
       "<path d=\"M67.6772,114.8031 C65.6988,110.8465,59.7638,114.8031,55.8071,114.8031 M55.8071,114.8031 C51.8504,114.8031,43.937,112.8248,43.937,114.8031 M43.937,114.8031 C43.937,116.7815,51.8504,124.6949,55.8071,126.6732 M55.8071,126.6732 C59.7638,128.6516,69.6555,124.6949,67.6772,126.6732 M67.6772,126.6732 C65.6988,128.6516,47.8937,138.5433,43.937,138.5433\" fill=\"none\" stroke=\"rgba(0,0,0,1)\" stroke-width=\"2\" stroke-linejoin=\"round\"/>\n",
       "<path d=\"M55.8071,150.2362 C55.8071,146.2795,45.9154,148.2579,43.937,150.2362 M43.937,150.2362 C41.9587,152.2146,41.9587,162.1063,43.937,162.1063\" fill=\"none\" stroke=\"rgba(0,0,0,1)\" stroke-width=\"2\" stroke-linejoin=\"round\"/>\n",
       "<path d=\"M55.8071,209.4094 C55.8071,211.3878,41.9587,199.5177,43.937,197.5394\" fill=\"none\" stroke=\"rgba(0,0,0,1)\" stroke-width=\"2\" stroke-linejoin=\"round\"/>\n",
       "<path d=\"M67.6772,221.1024 C69.6555,223.0807,69.6555,229.0157,67.6772,232.9724 M67.6772,232.9724 C65.6988,236.9291,59.7638,244.8425,55.8071,244.8425 M55.8071,244.8425 C51.8504,244.8425,45.9154,232.9724,43.937,232.9724 M43.937,232.9724 C41.9587,232.9724,39.9803,246.8209,43.937,244.8425\" fill=\"none\" stroke=\"rgba(0,0,0,1)\" stroke-width=\"2\" stroke-linejoin=\"round\"/>\n",
       "<path d=\"M67.6772,280.2756 C69.6555,276.3189,59.7638,256.5354,55.8071,256.5354 M55.8071,256.5354 C51.8504,256.5354,43.937,280.2756,43.937,280.2756 M43.937,280.2756 C43.937,280.2756,53.8287,258.5138,55.8071,256.5354\" fill=\"none\" stroke=\"rgba(0,0,0,1)\" stroke-width=\"2\" stroke-linejoin=\"round\"/>\n",
       "<path d=\"M91.2402,8.5039 C91.2402,6.5256,79.3701,6.5256,79.3701,8.5039 M79.3701,8.5039 C79.3701,10.4823,89.2618,16.4173,91.2402,20.374\" fill=\"none\" stroke=\"rgba(0,0,0,1)\" stroke-width=\"2\" stroke-linejoin=\"round\"/>\n",
       "<path d=\"M79.3701,55.8071 C79.3701,55.8071,89.2618,43.937,91.2402,43.937 M91.2402,43.937 C93.2185,43.937,89.2618,51.8504,91.2402,55.8071 M91.2402,55.8071 C93.2185,59.7638,103.1102,69.6555,103.1102,67.6772 M103.1102,67.6772 C103.1102,65.6988,95.1969,43.937,91.2402,43.937\" fill=\"none\" stroke=\"rgba(0,0,0,1)\" stroke-width=\"2\" stroke-linejoin=\"round\"/>\n",
       "<path d=\"M91.2402,91.2402 C89.2618,91.2402,81.3484,93.2185,79.3701,91.2402 M79.3701,91.2402 C77.3917,89.2618,79.3701,79.3701,79.3701,79.3701 M79.3701,79.3701 C79.3701,79.3701,79.3701,87.2835,79.3701,91.2402 M79.3701,91.2402 C79.3701,95.1969,79.3701,103.1102,79.3701,103.1102 M79.3701,103.1102 C79.3701,103.1102,79.3701,91.2402,79.3701,91.2402 M79.3701,91.2402 C79.3701,91.2402,79.3701,105.0886,79.3701,103.1102\" fill=\"none\" stroke=\"rgba(0,0,0,1)\" stroke-width=\"2\" stroke-linejoin=\"round\"/>\n",
       "<path d=\"M103.1102,126.6732 C101.1319,124.6949,79.3701,114.8031,79.3701,114.8031 M79.3701,114.8031 C79.3701,114.8031,103.1102,124.6949,103.1102,126.6732 M103.1102,126.6732 C103.1102,128.6516,81.3484,128.6516,79.3701,126.6732 M79.3701,126.6732 C77.3917,124.6949,87.2835,114.8031,91.2402,114.8031 M91.2402,114.8031 C95.1969,114.8031,101.1319,126.6732,103.1102,126.6732\" fill=\"none\" stroke=\"rgba(0,0,0,1)\" stroke-width=\"2\" stroke-linejoin=\"round\"/>\n",
       "<path d=\"M103.1102,150.2362 C107.0669,152.2146,105.0886,162.1063,103.1102,162.1063 M103.1102,162.1063 C101.1319,162.1063,91.2402,148.2579,91.2402,150.2362 M91.2402,150.2362 C91.2402,152.2146,101.1319,173.9764,103.1102,173.9764 M103.1102,173.9764 C105.0886,173.9764,103.1102,150.2362,103.1102,150.2362 M103.1102,150.2362 C103.1102,150.2362,105.0886,171.998,103.1102,173.9764\" fill=\"none\" stroke=\"rgba(0,0,0,1)\" stroke-width=\"2\" stroke-linejoin=\"round\"/>\n",
       "<path d=\"M91.2402,197.5394 C93.2185,199.5177,91.2402,211.3878,91.2402,209.4094 M91.2402,209.4094 C91.2402,207.4311,91.2402,189.626,91.2402,185.6693 M91.2402,185.6693 C91.2402,181.7126,89.2618,185.6693,91.2402,185.6693 M91.2402,185.6693 C93.2185,185.6693,105.0886,185.6693,103.1102,185.6693 M103.1102,185.6693 C101.1319,185.6693,81.3484,185.6693,79.3701,185.6693 M79.3701,185.6693 C77.3917,185.6693,87.2835,181.7126,91.2402,185.6693 M91.2402,185.6693 C95.1969,189.626,103.1102,205.4528,103.1102,209.4094\" fill=\"none\" stroke=\"rgba(0,0,0,1)\" stroke-width=\"2\" stroke-linejoin=\"round\"/>\n",
       "<path d=\"M103.1102,221.1024 C99.1535,223.0807,83.3268,229.0157,79.3701,232.9724\" fill=\"none\" stroke=\"rgba(0,0,0,1)\" stroke-width=\"2\" stroke-linejoin=\"round\"/>\n",
       "<path d=\"M103.1102,280.2756 C99.1535,282.2539,83.3268,270.3839,79.3701,268.4055 M79.3701,268.4055 C75.4134,266.4272,75.4134,270.3839,79.3701,268.4055 M79.3701,268.4055 C83.3268,266.4272,101.1319,258.5138,103.1102,256.5354\" fill=\"none\" stroke=\"rgba(0,0,0,1)\" stroke-width=\"2\" stroke-linejoin=\"round\"/>\n",
       "<path d=\"M138.5433,20.374 C138.5433,16.4173,126.6732,10.4823,126.6732,8.5039 M126.6732,8.5039 C126.6732,6.5256,140.5217,8.5039,138.5433,8.5039 M138.5433,8.5039 C136.565,8.5039,114.8031,6.5256,114.8031,8.5039 M114.8031,8.5039 C114.8031,10.4823,134.5866,16.4173,138.5433,20.374 M138.5433,20.374 C142.5,24.3307,140.5217,32.2441,138.5433,32.2441 M138.5433,32.2441 C136.565,32.2441,126.6732,20.374,126.6732,20.374 M126.6732,20.374 C126.6732,20.374,136.565,32.2441,138.5433,32.2441\" fill=\"none\" stroke=\"rgba(0,0,0,1)\" stroke-width=\"2\" stroke-linejoin=\"round\"/>\n",
       "<path d=\"M126.6732,67.6772 C124.6949,65.6988,126.6732,43.937,126.6732,43.937 M126.6732,43.937 C126.6732,43.937,124.6949,67.6772,126.6732,67.6772 M126.6732,67.6772 C128.6516,67.6772,140.5217,47.8937,138.5433,43.937 M138.5433,43.937 C136.565,39.9803,116.7815,41.9587,114.8031,43.937 M114.8031,43.937 C112.8248,45.9154,122.7165,53.8287,126.6732,55.8071 M126.6732,55.8071 C130.6299,57.7854,140.5217,57.7854,138.5433,55.8071 M138.5433,55.8071 C136.565,53.8287,118.7598,41.9587,114.8031,43.937\" fill=\"none\" stroke=\"rgba(0,0,0,1)\" stroke-width=\"2\" stroke-linejoin=\"round\"/>\n",
       "<path d=\"M126.6732,79.3701 C128.6516,83.3268,124.6949,101.1319,126.6732,103.1102\" fill=\"none\" stroke=\"rgba(0,0,0,1)\" stroke-width=\"2\" stroke-linejoin=\"round\"/>\n",
       "<path d=\"M126.6732,114.8031 C124.6949,114.8031,128.6516,138.5433,126.6732,138.5433 M126.6732,138.5433 C124.6949,138.5433,116.7815,116.7815,114.8031,114.8031 M114.8031,114.8031 C112.8248,112.8248,112.8248,122.7165,114.8031,126.6732\" fill=\"none\" stroke=\"rgba(0,0,0,1)\" stroke-width=\"2\" stroke-linejoin=\"round\"/>\n",
       "<path d=\"M114.8031,173.9764 C114.8031,170.0197,134.5866,150.2362,138.5433,150.2362 M138.5433,150.2362 C142.5,150.2362,138.5433,173.9764,138.5433,173.9764 M138.5433,173.9764 C138.5433,173.9764,138.5433,150.2362,138.5433,150.2362 M138.5433,150.2362 C138.5433,150.2362,142.5,171.998,138.5433,173.9764 M138.5433,173.9764 C134.5866,175.9547,114.8031,166.063,114.8031,162.1063 M114.8031,162.1063 C114.8031,158.1496,138.5433,150.2362,138.5433,150.2362\" fill=\"none\" stroke=\"rgba(0,0,0,1)\" stroke-width=\"2\" stroke-linejoin=\"round\"/>\n",
       "<path d=\"M114.8031,197.5394 C114.8031,195.561,134.5866,197.5394,138.5433,197.5394 M138.5433,197.5394 C142.5,197.5394,140.5217,195.561,138.5433,197.5394 M138.5433,197.5394 C136.565,199.5177,126.6732,211.3878,126.6732,209.4094 M126.6732,209.4094 C126.6732,207.4311,136.565,185.6693,138.5433,185.6693\" fill=\"none\" stroke=\"rgba(0,0,0,1)\" stroke-width=\"2\" stroke-linejoin=\"round\"/>\n",
       "<path d=\"M114.8031,244.8425 C114.8031,244.8425,134.5866,225.0591,138.5433,221.1024 M138.5433,221.1024 C142.5,217.1457,138.5433,219.124,138.5433,221.1024 M138.5433,221.1024 C138.5433,223.0807,138.5433,229.0157,138.5433,232.9724\" fill=\"none\" stroke=\"rgba(0,0,0,1)\" stroke-width=\"2\" stroke-linejoin=\"round\"/>\n",
       "<path d=\"M114.8031,256.5354 C112.8248,256.5354,122.7165,278.2972,126.6732,280.2756 M126.6732,280.2756 C130.6299,282.2539,136.565,268.4055,138.5433,268.4055 M138.5433,268.4055 C140.5217,268.4055,142.5,280.2756,138.5433,280.2756 M138.5433,280.2756 C134.5866,280.2756,118.7598,270.3839,114.8031,268.4055 M114.8031,268.4055 C110.8465,266.4272,114.8031,266.4272,114.8031,268.4055\" fill=\"none\" stroke=\"rgba(0,0,0,1)\" stroke-width=\"2\" stroke-linejoin=\"round\"/>\n",
       "<path d=\"M173.9764,32.2441 C175.9547,32.2441,177.9331,12.4606,173.9764,8.5039 M173.9764,8.5039 C170.0197,4.5472,152.2146,4.5472,150.2362,8.5039 M150.2362,8.5039 C148.2579,12.4606,158.1496,30.2657,162.1063,32.2441 M162.1063,32.2441 C166.063,34.2224,173.9764,24.3307,173.9764,20.374 M173.9764,20.374 C173.9764,16.4173,166.063,8.5039,162.1063,8.5039\" fill=\"none\" stroke=\"rgba(0,0,0,1)\" stroke-width=\"2\" stroke-linejoin=\"round\"/>\n",
       "<path d=\"M150.2362,43.937 C152.2146,43.937,160.128,63.7205,162.1063,67.6772 M162.1063,67.6772 C164.0846,71.6339,162.1063,69.6555,162.1063,67.6772 M162.1063,67.6772 C162.1063,65.6988,164.0846,55.8071,162.1063,55.8071 M162.1063,55.8071 C160.128,55.8071,152.2146,69.6555,150.2362,67.6772 M150.2362,67.6772 C148.2579,65.6988,146.2795,45.9154,150.2362,43.937 M150.2362,43.937 C154.1929,41.9587,171.998,51.8504,173.9764,55.8071 M173.9764,55.8071 C175.9547,59.7638,164.0846,65.6988,162.1063,67.6772\" fill=\"none\" stroke=\"rgba(0,0,0,1)\" stroke-width=\"2\" stroke-linejoin=\"round\"/>\n",
       "<path d=\"M173.9764,103.1102 C173.9764,105.0886,154.1929,95.1969,150.2362,91.2402 M150.2362,91.2402 C146.2795,87.2835,146.2795,77.3917,150.2362,79.3701 M150.2362,79.3701 C154.1929,81.3484,170.0197,99.1535,173.9764,103.1102 M173.9764,103.1102 C177.9331,107.0669,177.9331,103.1102,173.9764,103.1102 M173.9764,103.1102 C170.0197,103.1102,154.1929,107.0669,150.2362,103.1102 M150.2362,103.1102 C146.2795,99.1535,148.2579,83.3268,150.2362,79.3701\" fill=\"none\" stroke=\"rgba(0,0,0,1)\" stroke-width=\"2\" stroke-linejoin=\"round\"/>\n",
       "<path d=\"M150.2362,138.5433 C148.2579,140.5217,148.2579,130.6299,150.2362,126.6732 M150.2362,126.6732 C152.2146,122.7165,162.1063,114.8031,162.1063,114.8031\" fill=\"none\" stroke=\"rgba(0,0,0,1)\" stroke-width=\"2\" stroke-linejoin=\"round\"/>\n",
       "<path d=\"M162.1063,173.9764 C164.0846,175.9547,175.9547,177.9331,173.9764,173.9764 M173.9764,173.9764 C171.998,170.0197,150.2362,154.1929,150.2362,150.2362 M150.2362,150.2362 C150.2362,146.2795,173.9764,146.2795,173.9764,150.2362 M173.9764,150.2362 C173.9764,154.1929,152.2146,171.998,150.2362,173.9764 M150.2362,173.9764 C148.2579,175.9547,160.128,166.063,162.1063,162.1063 M162.1063,162.1063 C164.0846,158.1496,162.1063,152.2146,162.1063,150.2362\" fill=\"none\" stroke=\"rgba(0,0,0,1)\" stroke-width=\"2\" stroke-linejoin=\"round\"/>\n",
       "<path d=\"M150.2362,209.4094 C148.2579,205.4528,148.2579,185.6693,150.2362,185.6693 M150.2362,185.6693 C152.2146,185.6693,160.128,209.4094,162.1063,209.4094\" fill=\"none\" stroke=\"rgba(0,0,0,1)\" stroke-width=\"2\" stroke-linejoin=\"round\"/>\n",
       "<path d=\"M150.2362,232.9724 C152.2146,230.9941,162.1063,219.124,162.1063,221.1024 M162.1063,221.1024 C162.1063,223.0807,150.2362,244.8425,150.2362,244.8425 M150.2362,244.8425 C150.2362,244.8425,162.1063,225.0591,162.1063,221.1024 M162.1063,221.1024 C162.1063,217.1457,152.2146,221.1024,150.2362,221.1024 M150.2362,221.1024 C148.2579,221.1024,146.2795,217.1457,150.2362,221.1024\" fill=\"none\" stroke=\"rgba(0,0,0,1)\" stroke-width=\"2\" stroke-linejoin=\"round\"/>\n",
       "<path d=\"M162.1063,256.5354 C162.1063,260.4921,152.2146,280.2756,150.2362,280.2756 M150.2362,280.2756 C148.2579,280.2756,146.2795,260.4921,150.2362,256.5354\" fill=\"none\" stroke=\"rgba(0,0,0,1)\" stroke-width=\"2\" stroke-linejoin=\"round\"/>\n",
       "<path d=\"M209.4094,8.5039 C209.4094,8.5039,189.626,16.4173,185.6693,20.374 M185.6693,20.374 C181.7126,24.3307,185.6693,30.2657,185.6693,32.2441 M185.6693,32.2441 C185.6693,34.2224,183.6909,32.2441,185.6693,32.2441 M185.6693,32.2441 C187.6476,32.2441,193.5827,36.2008,197.5394,32.2441 M197.5394,32.2441 C201.4961,28.2874,207.4311,12.4606,209.4094,8.5039\" fill=\"none\" stroke=\"rgba(0,0,0,1)\" stroke-width=\"2\" stroke-linejoin=\"round\"/>\n",
       "<path d=\"M185.6693,55.8071 C185.6693,55.8071,205.4528,57.7854,209.4094,55.8071 M209.4094,55.8071 C213.3661,53.8287,209.4094,41.9587,209.4094,43.937 M209.4094,43.937 C209.4094,45.9154,209.4094,63.7205,209.4094,67.6772\" fill=\"none\" stroke=\"rgba(0,0,0,1)\" stroke-width=\"2\" stroke-linejoin=\"round\"/>\n",
       "<path d=\"M185.6693,79.3701 C183.6909,79.3701,197.5394,79.3701,197.5394,79.3701 M197.5394,79.3701 C197.5394,79.3701,183.6909,79.3701,185.6693,79.3701 M185.6693,79.3701 C187.6476,79.3701,205.4528,75.4134,209.4094,79.3701 M209.4094,79.3701 C213.3661,83.3268,211.3878,99.1535,209.4094,103.1102 M209.4094,103.1102 C207.4311,107.0669,197.5394,105.0886,197.5394,103.1102 M197.5394,103.1102 C197.5394,101.1319,207.4311,95.1969,209.4094,91.2402\" fill=\"none\" stroke=\"rgba(0,0,0,1)\" stroke-width=\"2\" stroke-linejoin=\"round\"/>\n",
       "<path d=\"M209.4094,126.6732 C207.4311,126.6732,189.626,128.6516,185.6693,126.6732\" fill=\"none\" stroke=\"rgba(0,0,0,1)\" stroke-width=\"2\" stroke-linejoin=\"round\"/>\n",
       "<path d=\"M209.4094,150.2362 C207.4311,150.2362,201.4961,162.1063,197.5394,162.1063 M197.5394,162.1063 C193.5827,162.1063,185.6693,150.2362,185.6693,150.2362 M185.6693,150.2362 C185.6693,150.2362,193.5827,158.1496,197.5394,162.1063 M197.5394,162.1063 C201.4961,166.063,207.4311,173.9764,209.4094,173.9764 M209.4094,173.9764 C211.3878,173.9764,211.3878,166.063,209.4094,162.1063 M209.4094,162.1063 C207.4311,158.1496,197.5394,150.2362,197.5394,150.2362\" fill=\"none\" stroke=\"rgba(0,0,0,1)\" stroke-width=\"2\" stroke-linejoin=\"round\"/>\n",
       "<path d=\"M185.6693,209.4094 C181.7126,213.3661,183.6909,211.3878,185.6693,209.4094 M185.6693,209.4094 C187.6476,207.4311,195.561,197.5394,197.5394,197.5394 M197.5394,197.5394 C199.5177,197.5394,195.561,211.3878,197.5394,209.4094\" fill=\"none\" stroke=\"rgba(0,0,0,1)\" stroke-width=\"2\" stroke-linejoin=\"round\"/>\n",
       "<path d=\"M197.5394,232.9724 C193.5827,230.9941,185.6693,234.9508,185.6693,232.9724 M185.6693,232.9724 C185.6693,230.9941,195.561,223.0807,197.5394,221.1024\" fill=\"none\" stroke=\"rgba(0,0,0,1)\" stroke-width=\"2\" stroke-linejoin=\"round\"/>\n",
       "<path d=\"M209.4094,268.4055 C207.4311,270.3839,187.6476,268.4055,185.6693,268.4055 M185.6693,268.4055 C183.6909,268.4055,193.5827,270.3839,197.5394,268.4055 M197.5394,268.4055 C201.4961,266.4272,209.4094,254.5571,209.4094,256.5354 M209.4094,256.5354 C209.4094,258.5138,197.5394,276.3189,197.5394,280.2756 M197.5394,280.2756 C197.5394,284.2323,207.4311,280.2756,209.4094,280.2756\" fill=\"none\" stroke=\"rgba(0,0,0,1)\" stroke-width=\"2\" stroke-linejoin=\"round\"/>\n",
       "<path d=\"M221.1024,8.5039 C223.0807,8.5039,230.9941,16.4173,232.9724,20.374 M232.9724,20.374 C234.9508,24.3307,232.9724,30.2657,232.9724,32.2441 M232.9724,32.2441 C232.9724,34.2224,230.9941,34.2224,232.9724,32.2441\" fill=\"none\" stroke=\"rgba(0,0,0,1)\" stroke-width=\"2\" stroke-linejoin=\"round\"/>\n",
       "<path d=\"M232.9724,67.6772 C232.9724,65.6988,219.124,55.8071,221.1024,55.8071 M221.1024,55.8071 C223.0807,55.8071,244.8425,67.6772,244.8425,67.6772\" fill=\"none\" stroke=\"rgba(0,0,0,1)\" stroke-width=\"2\" stroke-linejoin=\"round\"/>\n",
       "<path d=\"M244.8425,79.3701 C246.8209,81.3484,234.9508,89.2618,232.9724,91.2402\" fill=\"none\" stroke=\"rgba(0,0,0,1)\" stroke-width=\"2\" stroke-linejoin=\"round\"/>\n",
       "<path d=\"M244.8425,126.6732 C242.8642,124.6949,234.9508,112.8248,232.9724,114.8031 M232.9724,114.8031 C230.9941,116.7815,234.9508,138.5433,232.9724,138.5433 M232.9724,138.5433 C230.9941,138.5433,223.0807,118.7598,221.1024,114.8031 M221.1024,114.8031 C219.124,110.8465,217.1457,114.8031,221.1024,114.8031 M221.1024,114.8031 C225.0591,114.8031,240.8858,112.8248,244.8425,114.8031\" fill=\"none\" stroke=\"rgba(0,0,0,1)\" stroke-width=\"2\" stroke-linejoin=\"round\"/>\n",
       "<path d=\"M221.1024,150.2362 C219.124,146.2795,221.1024,148.2579,221.1024,150.2362 M221.1024,150.2362 C221.1024,152.2146,217.1457,160.128,221.1024,162.1063 M221.1024,162.1063 C225.0591,164.0846,242.8642,164.0846,244.8425,162.1063 M244.8425,162.1063 C246.8209,160.128,236.9291,148.2579,232.9724,150.2362 M232.9724,150.2362 C229.0157,152.2146,223.0807,171.998,221.1024,173.9764 M221.1024,173.9764 C219.124,175.9547,221.1024,162.1063,221.1024,162.1063 M221.1024,162.1063 C221.1024,162.1063,221.1024,175.9547,221.1024,173.9764 M221.1024,173.9764 C221.1024,171.998,217.1457,152.2146,221.1024,150.2362\" fill=\"none\" stroke=\"rgba(0,0,0,1)\" stroke-width=\"2\" stroke-linejoin=\"round\"/>\n",
       "<path d=\"M221.1024,197.5394 C219.124,199.5177,230.9941,197.5394,232.9724,197.5394 M232.9724,197.5394 C234.9508,197.5394,230.9941,195.561,232.9724,197.5394 M232.9724,197.5394 C234.9508,199.5177,244.8425,207.4311,244.8425,209.4094 M244.8425,209.4094 C244.8425,211.3878,232.9724,209.4094,232.9724,209.4094\" fill=\"none\" stroke=\"rgba(0,0,0,1)\" stroke-width=\"2\" stroke-linejoin=\"round\"/>\n",
       "<path d=\"M221.1024,244.8425 C219.124,248.7992,217.1457,246.8209,221.1024,244.8425\" fill=\"none\" stroke=\"rgba(0,0,0,1)\" stroke-width=\"2\" stroke-linejoin=\"round\"/>\n",
       "<path d=\"M244.8425,256.5354 C240.8858,258.5138,221.1024,280.2756,221.1024,280.2756 M221.1024,280.2756 C221.1024,280.2756,244.8425,256.5354,244.8425,256.5354 M244.8425,256.5354 C244.8425,256.5354,221.1024,276.3189,221.1024,280.2756 M221.1024,280.2756 C221.1024,284.2323,244.8425,284.2323,244.8425,280.2756\" fill=\"none\" stroke=\"rgba(0,0,0,1)\" stroke-width=\"2\" stroke-linejoin=\"round\"/>\n",
       "<path d=\"M268.4055,32.2441 C272.3622,28.2874,280.2756,10.4823,280.2756,8.5039 M280.2756,8.5039 C280.2756,6.5256,272.3622,18.3957,268.4055,20.374 M268.4055,20.374 C264.4488,22.3524,258.5138,22.3524,256.5354,20.374 M256.5354,20.374 C254.5571,18.3957,252.5787,6.5256,256.5354,8.5039 M256.5354,8.5039 C260.4921,10.4823,278.2972,32.2441,280.2756,32.2441 M280.2756,32.2441 C282.2539,32.2441,270.3839,10.4823,268.4055,8.5039 M268.4055,8.5039 C266.4272,6.5256,266.4272,20.374,268.4055,20.374\" fill=\"none\" stroke=\"rgba(0,0,0,1)\" stroke-width=\"2\" stroke-linejoin=\"round\"/>\n",
       "<path d=\"M268.4055,67.6772 C268.4055,65.6988,266.4272,45.9154,268.4055,43.937 M268.4055,43.937 C270.3839,41.9587,278.2972,53.8287,280.2756,55.8071 M280.2756,55.8071 C282.2539,57.7854,284.2323,57.7854,280.2756,55.8071 M280.2756,55.8071 C276.3189,53.8287,256.5354,41.9587,256.5354,43.937\" fill=\"none\" stroke=\"rgba(0,0,0,1)\" stroke-width=\"2\" stroke-linejoin=\"round\"/>\n",
       "<path d=\"M256.5354,79.3701 C256.5354,75.4134,266.4272,75.4134,268.4055,79.3701 M268.4055,79.3701 C270.3839,83.3268,266.4272,103.1102,268.4055,103.1102 M268.4055,103.1102 C270.3839,103.1102,280.2756,79.3701,280.2756,79.3701 M280.2756,79.3701 C280.2756,79.3701,270.3839,103.1102,268.4055,103.1102\" fill=\"none\" stroke=\"rgba(0,0,0,1)\" stroke-width=\"2\" stroke-linejoin=\"round\"/>\n",
       "<path d=\"M280.2756,126.6732 C278.2972,128.6516,260.4921,138.5433,256.5354,138.5433 M256.5354,138.5433 C252.5787,138.5433,254.5571,126.6732,256.5354,126.6732 M256.5354,126.6732 C258.5138,126.6732,264.4488,138.5433,268.4055,138.5433 M268.4055,138.5433 C272.3622,138.5433,278.2972,128.6516,280.2756,126.6732 M280.2756,126.6732 C282.2539,124.6949,282.2539,128.6516,280.2756,126.6732\" fill=\"none\" stroke=\"rgba(0,0,0,1)\" stroke-width=\"2\" stroke-linejoin=\"round\"/>\n",
       "<path d=\"M280.2756,173.9764 C284.2323,171.998,280.2756,152.2146,280.2756,150.2362 M280.2756,150.2362 C280.2756,148.2579,282.2539,158.1496,280.2756,162.1063 M280.2756,162.1063 C278.2972,166.063,270.3839,173.9764,268.4055,173.9764 M268.4055,173.9764 C266.4272,173.9764,270.3839,164.0846,268.4055,162.1063 M268.4055,162.1063 C266.4272,160.128,256.5354,162.1063,256.5354,162.1063\" fill=\"none\" stroke=\"rgba(0,0,0,1)\" stroke-width=\"2\" stroke-linejoin=\"round\"/>\n",
       "<path d=\"M256.5354,209.4094 C258.5138,209.4094,280.2756,213.3661,280.2756,209.4094 M280.2756,209.4094 C280.2756,205.4528,256.5354,187.6476,256.5354,185.6693\" fill=\"none\" stroke=\"rgba(0,0,0,1)\" stroke-width=\"2\" stroke-linejoin=\"round\"/>\n",
       "<path d=\"M256.5354,221.1024 C252.5787,221.1024,256.5354,230.9941,256.5354,232.9724 M256.5354,232.9724 C256.5354,234.9508,252.5787,234.9508,256.5354,232.9724 M256.5354,232.9724 C260.4921,230.9941,280.2756,219.124,280.2756,221.1024\" fill=\"none\" stroke=\"rgba(0,0,0,1)\" stroke-width=\"2\" stroke-linejoin=\"round\"/>\n",
       "<path d=\"M280.2756,268.4055 C280.2756,268.4055,272.3622,254.5571,268.4055,256.5354 M268.4055,256.5354 C264.4488,258.5138,256.5354,278.2972,256.5354,280.2756 M256.5354,280.2756 C256.5354,282.2539,266.4272,270.3839,268.4055,268.4055 M268.4055,268.4055 C270.3839,266.4272,268.4055,266.4272,268.4055,268.4055 M268.4055,268.4055 C268.4055,270.3839,266.4272,280.2756,268.4055,280.2756\" fill=\"none\" stroke=\"rgba(0,0,0,1)\" stroke-width=\"2\" stroke-linejoin=\"round\"/>\n",
       "</svg>"
      ],
      "text/plain": [
       "<IPython.core.display.SVG object>"
      ]
     },
     "metadata": {},
     "output_type": "display_data"
    }
   ],
   "source": [
    "size = 100\n",
    "d = document(size, size, 'mm')\n",
    "page = d.addpage()\n",
    "figure = shape().stroke(rgba(0, 0, 0, 255)).width(2).join('round')\n",
    "grid_n = 8\n",
    "grid_size = size / grid_n\n",
    "for i in range(grid_n):\n",
    "    for j in range(grid_n):\n",
    "        char_pline = make_char()\n",
    "        char_path = char_pline.smooth_path()\n",
    "        curve = figure.path(\n",
    "            char_path.scale(grid_size*0.67).translate(3+i*grid_size, 3+j*grid_size))\n",
    "        page.place(curve)\n",
    "show(page)"
   ]
  },
  {
   "cell_type": "markdown",
   "metadata": {},
   "source": [
    "## Scribbling in a line\n",
    "\n",
    "Writing in certain alphabets proceeds in a linear direction across the page with connected letters; English cursive does this in particular. To simulate this, I wrote a function that generates a polyline with random points evenly spaced along a line horizontally, with the y-coordinate of each point set according to a random number selected from a normal distribution centered on zero."
   ]
  },
  {
   "cell_type": "code",
   "execution_count": 64,
   "metadata": {},
   "outputs": [],
   "source": [
    "def make_scribble(width, height, steps, stddev=0):\n",
    "    pts = []\n",
    "    for i in range(steps):\n",
    "        x = ((width / steps) * i) + normal(0, stddev)\n",
    "        y = normal(0, height)\n",
    "        pts.append([x, y])\n",
    "    return Polyline(pts)"
   ]
  },
  {
   "cell_type": "markdown",
   "metadata": {},
   "source": [
    "Here's what it looks like. (The green line is the original polyline; the black line is the smoothed curve.)"
   ]
  },
  {
   "cell_type": "code",
   "execution_count": 65,
   "metadata": {},
   "outputs": [
    {
     "data": {
      "image/svg+xml": [
       "<svg xmlns=\"http://www.w3.org/2000/svg\" xmlns:xlink=\"http://www.w3.org/1999/xlink\" version=\"1.1\" width=\"566.9291pt\" height=\"141.7323pt\" viewBox=\"0 0 566.9291 141.7323\">\n",
       "<title>Untitled</title>\n",
       "<path d=\"M48.7559,77.774 C55.5591,74.8848,62.3622,80.2976,69.1654,79.4017 M69.1654,79.4017 C75.9685,78.5057,82.7717,74.4291,89.5748,72.3984 M89.5748,72.3984 C96.378,70.3677,103.1811,67.1186,109.9843,67.2174 M109.9843,67.2174 C116.7874,67.3161,123.5906,72.256,130.3937,72.991 M130.3937,72.991 C137.1969,73.7261,144,66.957,150.8031,71.6276 M150.8031,71.6276 C157.6063,76.2981,164.4094,97.5163,171.2126,101.0143 M171.2126,101.0143 C178.0157,104.5124,184.8189,95.4252,191.622,92.616 M191.622,92.616 C198.4252,89.8068,205.2283,85.7883,212.0315,84.1593 M212.0315,84.1593 C218.8346,82.5303,225.6378,87.4851,232.4409,82.8419 M232.4409,82.8419 C239.2441,78.1987,246.0472,59.285,252.8504,56.2999 M252.8504,56.2999 C259.6535,53.3149,266.4567,65.6385,273.2598,64.9316 M273.2598,64.9316 C280.063,64.2248,286.8661,51.0693,293.6693,52.0588 M293.6693,52.0588 C300.4724,53.0483,307.2756,68.51,314.0787,70.8688 M314.0787,70.8688 C320.8819,73.2276,327.685,67.6287,334.4882,66.2116 M334.4882,66.2116 C341.2913,64.7945,348.0945,65.2961,354.8976,62.3662 M354.8976,62.3662 C361.7008,59.4363,368.5039,48.0798,375.3071,48.6322 M375.3071,48.6322 C382.1102,49.1847,388.9134,65.8598,395.7165,65.6809 M395.7165,65.6809 C402.5197,65.5019,409.3228,45.0363,416.126,47.5585 M416.126,47.5585 C422.9291,50.0806,429.7323,76.49,436.5354,80.8138 M436.5354,80.8138 C443.3386,85.1376,450.1417,73.8302,456.9449,73.5012 M456.9449,73.5012 C463.748,73.1722,470.5512,82.1396,477.3543,78.8396 M477.3543,78.8396 C484.1575,75.5396,490.9606,54.334,497.7638,53.7011\" fill=\"none\" stroke=\"rgba(0,0,0,0.8627)\" stroke-width=\"2\" stroke-miterlimit=\"10\"/>\n",
       "<polyline points=\"28.3465 96.7369 48.7559 77.774 69.1654 79.4017 89.5748 72.3984 109.9843 67.2174 130.3937 72.991 150.8031 71.6276 171.2126 101.0143 191.622 92.616 212.0315 84.1593 232.4409 82.8419 252.8504 56.2999 273.2598 64.9316 293.6693 52.0588 314.0787 70.8688 334.4882 66.2116 354.8976 62.3662 375.3071 48.6322 395.7165 65.6809 416.126 47.5585 436.5354 80.8138 456.9449 73.5012 477.3543 78.8396 497.7638 53.7011 518.1732 75.0425\" fill=\"none\" stroke=\"rgba(0,255,0,0.8627)\" stroke-width=\"2\" stroke-miterlimit=\"10\"/>\n",
       "</svg>"
      ],
      "text/plain": [
       "<IPython.core.display.SVG object>"
      ]
     },
     "metadata": {},
     "output_type": "display_data"
    }
   ],
   "source": [
    "size = 200\n",
    "d = document(200, 50, 'mm')\n",
    "page = d.addpage()\n",
    "line_figure = shape().stroke(rgba(0, 255, 0, 220)).width(2)\n",
    "curve_figure = shape().stroke(rgba(0, 0, 0, 220)).width(2)\n",
    "scribble_poly = make_scribble(width=180,\n",
    "                    height=5,\n",
    "                    steps=25,\n",
    "                    stddev=0)\n",
    "lines = line_figure.polyline(scribble_poly.translate(10, 25))\n",
    "curve = curve_figure.path(scribble_poly.smooth_path().translate(10, 25))\n",
    "page.place(curve) # comment to hide curves\n",
    "page.place(lines) # comment to hide non-smooth lines\n",
    "show(page)"
   ]
  },
  {
   "cell_type": "markdown",
   "metadata": {},
   "source": [
    "The function also has a `stddev` parameter that allows you to adjust the standard deviation of a normally-distributed random number that adjusts the spacing of each point along the x-axis. This allows for the possibility of letters looping back on themselves:"
   ]
  },
  {
   "cell_type": "code",
   "execution_count": 66,
   "metadata": {},
   "outputs": [
    {
     "data": {
      "image/svg+xml": [
       "<svg xmlns=\"http://www.w3.org/2000/svg\" xmlns:xlink=\"http://www.w3.org/1999/xlink\" version=\"1.1\" width=\"566.9291pt\" height=\"141.7323pt\" viewBox=\"0 0 566.9291 141.7323\">\n",
       "<title>Untitled</title>\n",
       "<path d=\"M28.7599,59.8721 C28.3865,56.1354,30.1408,45.3427,32.7251,49.2759 M32.7251,49.2759 C35.3094,53.2091,42.2814,83.0217,44.2658,83.4713 M44.2658,83.4713 C46.2502,83.921,43.2935,56.2684,44.6314,51.9738 M44.6314,51.9738 C45.9693,47.6792,47.7946,51.6985,52.2933,57.7037 M52.2933,57.7037 C56.792,63.7089,68.4925,83.8974,71.6234,88.0048 M71.6234,88.0048 C74.7544,92.1122,71.0827,81.0736,71.0793,82.348 M71.0793,82.348 C71.0758,83.6224,72.1743,98.8901,71.6029,95.6511 M71.6029,95.6511 C71.0315,92.4122,67.8312,67.8366,67.6507,62.9141 M67.6507,62.9141 C67.4702,57.9916,67.7283,64.3803,70.5199,66.1161 M70.5199,66.1161 C73.3116,67.852,83.2218,73.197,84.4007,73.3292 M84.4007,73.3292 C85.5797,73.4615,76.8906,71.571,77.5937,66.9096 M77.5937,66.9096 C78.2968,62.2482,86.0835,40.857,88.6192,45.3607 M88.6192,45.3607 C91.155,49.8644,88.2839,88.1905,92.8081,93.9318 M92.8081,93.9318 C97.3323,99.6732,114.2119,81.3167,115.7644,79.8088 M115.7644,79.8088 C117.3169,78.3009,101.8683,83.5104,102.1233,84.8845 M102.1233,84.8845 C102.3783,86.2587,114.7325,91.029,117.2946,88.0538 M117.2946,88.0538 C119.8567,85.0786,115.1816,69.0391,117.496,67.0336 M117.496,67.0336 C119.8105,65.0281,127.8987,77.0336,131.1813,76.021 M131.1813,76.021 C134.4639,75.0083,139.6547,60.5941,137.1918,60.9577 M137.1918,60.9577 C134.7289,61.3213,116.6704,75.3296,116.4039,78.2027 M116.4039,78.2027 C116.1375,81.0758,129.541,85.2311,135.5932,78.1965 M135.5932,78.1965 C141.6455,71.1618,149.2576,39.529,152.7172,35.9945 M152.7172,35.9945 C156.1769,32.4601,155.8714,47.6749,156.3512,56.9898 M156.3512,56.9898 C156.8311,66.3047,154.199,88.8245,155.5963,91.8838 M155.5963,91.8838 C156.9936,94.9431,163.3292,80.4086,164.7353,75.3455 M164.7353,75.3455 C166.1414,70.2825,162.3621,65.8462,164.0329,61.5053 M164.0329,61.5053 C165.7037,57.1645,171.067,47.3791,174.76,49.3004 M174.76,49.3004 C178.4531,51.2217,182.8046,71.2071,186.1912,73.033 M186.1912,73.033 C189.5778,74.8589,197.1331,57.8653,195.0797,60.2558 M195.0797,60.2558 C193.0264,62.6462,175.331,87.4444,173.8712,87.3757 M173.8712,87.3757 C172.4114,87.3071,182.8152,59.8837,186.3209,59.8438 M186.3209,59.8438 C189.8266,59.804,191.3584,89.2997,194.9054,87.1368 M194.9054,87.1368 C198.4524,84.974,207.8169,55.4902,207.603,46.8669 M207.603,46.8669 C207.3891,38.2436,193.2134,31.9131,193.6218,35.3972 M193.6218,35.3972 C194.0303,38.8813,205.9734,59.2554,210.0537,67.7713 M210.0537,67.7713 C214.1341,76.2872,217.3323,83.3791,218.1038,86.4924 M218.1038,86.4924 C218.8754,89.6057,214.2378,92.6432,214.6831,86.4512 M214.6831,86.4512 C215.1285,80.2592,218.2597,49.6396,220.7759,49.3405 M220.7759,49.3405 C223.2922,49.0414,226.5886,79.8846,229.7804,84.6565 M229.7804,84.6565 C232.9723,89.4284,237.1499,82.4489,239.9271,77.972 M239.9271,77.972 C242.7043,73.4951,245.5872,58.5583,246.4436,57.7951 M246.4436,57.7951 C247.2999,57.032,243.4331,68.1249,245.0652,73.3932 M245.0652,73.3932 C246.6974,78.6615,252.6848,89.4069,256.2364,89.4049 M256.2364,89.4049 C259.7879,89.403,262.3582,78.0194,266.3746,73.3817 M266.3746,73.3817 C270.391,68.7439,282.0878,64.0083,280.3345,61.5784 M280.3345,61.5784 C278.5813,59.1486,257.1902,56.1867,255.8553,58.8026 M255.8553,58.8026 C254.5204,61.4184,269.1301,78.8099,272.3252,77.2735 M272.3252,77.2735 C275.5203,75.7371,276.3977,49.5806,275.0258,49.5843 M275.0258,49.5843 C273.654,49.5879,260.3389,73.5615,264.0941,77.2954 M264.0941,77.2954 C267.8492,81.0294,290.1886,73.4691,297.5569,71.9881 M297.5569,71.9881 C304.9253,70.5071,305.884,62.7627,308.3042,68.4096 M308.3042,68.4096 C310.7244,74.0565,313.1252,105.6802,312.0781,105.8695 M312.0781,105.8695 C311.031,106.0588,304.1322,77.1821,302.0215,69.5452 M302.0215,69.5452 C299.9109,61.9083,296.6563,64.9845,299.4142,60.0481 M299.4142,60.0481 C302.1721,55.1117,315.4172,39.1445,318.569,39.9266 M318.569,39.9266 C321.7208,40.7087,316.8072,61.477,318.3251,64.7405 M318.3251,64.7405 C319.843,68.004,321.3681,58.1875,327.6763,59.5075 M327.6763,59.5075 C333.9845,60.8275,355.1685,70.1353,356.1744,72.6606 M356.1744,72.6606 C357.1803,75.1858,337.1484,76.4872,333.7115,74.6592 M333.7115,74.6592 C330.2747,72.8312,333.5354,58.5474,335.553,61.6925 M335.553,61.6925 C337.5706,64.8376,343.6144,89.3778,345.8171,93.5298 M345.8171,93.5298 C348.0198,97.6818,344.8182,90.6436,348.7692,86.6046 M348.7692,86.6046 C352.7203,82.5657,369.637,70.889,369.5233,69.2959 M369.5233,69.2959 C369.4096,67.7029,347.3479,81.6613,348.0869,77.0465 M348.0869,77.0465 C348.8258,72.4317,369.6976,44.7289,373.9571,41.6072 M373.9571,41.6072 C378.2167,38.4855,374.1083,51.2881,373.6443,58.3162 M373.6443,58.3162 C373.1804,65.3444,373.9039,80.6836,371.1732,83.7761 M371.1732,83.7761 C368.4426,86.8686,354.0465,75.958,357.2607,76.8714 M357.2607,76.8714 C360.4748,77.7847,386.068,91.5803,390.458,89.256 M390.458,89.256 C394.848,86.9317,381.254,61.4389,383.6007,62.9256 M383.6007,62.9256 C385.9475,64.4122,400.9223,94.6614,404.5385,98.1758 M404.5385,98.1758 C408.1547,101.6902,406.7513,88.9758,405.298,84.012 M405.298,84.012 C403.8448,79.0482,391.8033,70.2397,395.8189,68.393 M395.8189,68.393 C399.8344,66.5463,424.6523,73.9755,429.3915,72.932 M429.3915,72.932 C434.1306,71.8885,426.8704,64.0839,424.2539,62.1321 M424.2539,62.1321 C421.6375,60.1802,415.4303,61.4809,413.6926,61.2211 M413.6926,61.2211 C411.955,60.9613,408.8031,62.4152,413.8281,60.5734 M413.8281,60.5734 C418.8531,58.7317,437.9866,51.5201,443.8426,50.1706 M443.8426,50.1706 C449.6986,48.821,449.8142,48.1814,448.9641,52.4762 M448.9641,52.4762 C448.1141,56.7711,440.2291,72.1938,438.7425,75.9397 M438.7425,75.9397 C437.2559,79.6856,437.7453,76.2265,440.0446,74.9517 M440.0446,74.9517 C442.3439,73.6769,450.904,70.1765,452.5382,68.2911 M452.5382,68.2911 C454.1723,66.4056,448.2528,60.9657,449.8496,63.639 M449.8496,63.639 C451.4464,66.3124,459.0178,83.9881,462.119,84.3312 M462.119,84.3312 C465.2203,84.6744,466.2593,67.3194,468.4571,65.6979 M468.4571,65.6979 C470.655,64.0765,476.3062,73.0694,475.3063,74.6027 M475.3063,74.6027 C474.3064,76.1359,460.2594,79.782,462.4578,74.8974 M462.4578,74.8974 C464.6561,70.0129,484.2642,45.8123,488.4963,45.2955 M488.4963,45.2955 C492.7285,44.7787,486.7165,62.1517,487.8507,71.7966 M487.8507,71.7966 C488.9849,81.4414,491.7693,98.9914,495.3016,103.1647 M495.3016,103.1647 C498.834,107.3381,505.6897,109.5035,509.0446,96.8364 M509.0446,96.8364 C512.3994,84.1694,515.3234,31.2298,515.4306,27.1626 M515.4306,27.1626 C515.5378,23.0954,509.1534,63.8243,509.6877,72.4335 M509.6877,72.4335 C510.222,81.0426,517.3853,79.0358,518.6364,78.8173 M518.6364,78.8173 C519.8874,78.5988,517.1402,72.9702,517.1938,71.1226 M517.1938,71.1226 C517.2475,69.275,519.0671,67.1832,518.958,67.7316 M518.958,67.7316 C518.849,68.28,514.8522,76.3587,516.5394,74.413\" fill=\"none\" stroke=\"rgba(0,0,0,0.8627)\" stroke-width=\"2\" stroke-miterlimit=\"10\"/>\n",
       "</svg>"
      ],
      "text/plain": [
       "<IPython.core.display.SVG object>"
      ]
     },
     "metadata": {},
     "output_type": "display_data"
    }
   ],
   "source": [
    "size = 200\n",
    "d = document(200, 50, 'mm')\n",
    "page = d.addpage()\n",
    "line_figure = shape().stroke(rgba(0, 255, 0, 255)).width(1)\n",
    "scribble_poly = make_scribble(width=180,\n",
    "                    height=5,\n",
    "                    steps=100,\n",
    "                    stddev=3)\n",
    "curve = curve_figure.path(scribble_poly.smooth_path().translate(10, 25))\n",
    "page.place(curve)\n",
    "show(page)"
   ]
  },
  {
   "cell_type": "markdown",
   "metadata": {},
   "source": [
    "The following example displays multiple \"lines\" of these scribbles, moving down the page, using a `for` loop:"
   ]
  },
  {
   "cell_type": "code",
   "execution_count": 67,
   "metadata": {},
   "outputs": [
    {
     "data": {
      "image/svg+xml": [
       "<svg xmlns=\"http://www.w3.org/2000/svg\" xmlns:xlink=\"http://www.w3.org/1999/xlink\" version=\"1.1\" width=\"566.9291pt\" height=\"566.9291pt\" viewBox=\"0 0 566.9291 566.9291\">\n",
       "<title>Untitled</title>\n",
       "<path d=\"M24.3943,45.4566 C26.3222,47.814,38.1622,38.0192,39.8888,36.4132 M39.8888,36.4132 C41.6153,34.8073,36.134,37.5609,34.7534,35.821 M34.7534,35.821 C33.3727,34.081,29.744,27.4674,31.6047,25.9735 M31.6047,25.9735 C33.4654,24.4795,43.8716,26.2155,45.9176,26.8573 M45.9176,26.8573 C47.9637,27.4991,45.2752,29.5767,43.881,29.8244 M43.881,29.8244 C42.4868,30.0721,38.5013,29.8184,37.5524,28.3435 M37.5524,28.3435 C36.6035,26.8686,36.2376,20.5209,38.1874,20.975 M38.1874,20.975 C40.1373,21.4291,45.8654,31.0758,49.2517,31.0682 M49.2517,31.0682 C52.6379,31.0606,58.5233,22.3649,58.5048,20.9291 M58.5048,20.9291 C58.4863,19.4934,50.2192,20.7975,49.1408,22.4535 M49.1408,22.4535 C48.0625,24.1095,50.3797,30.309,52.0346,30.8649 M52.0346,30.8649 C53.6894,31.4208,56.8772,26.3115,59.07,25.7891 M59.07,25.7891 C61.2627,25.2668,63.4713,29.1207,65.191,27.7308 M65.191,27.7308 C66.9108,26.3408,68.8933,17.3762,69.3884,17.4493 M69.3884,17.4493 C69.8835,17.5225,68.0176,23.4324,68.1616,28.1694 M68.1616,28.1694 C68.3056,32.9064,68.5911,46.8848,70.2526,45.8713 M70.2526,45.8713 C71.9142,44.8577,77.4438,23.1224,78.1309,22.0882 M78.1309,22.0882 C78.8181,21.0539,74.5151,38.9526,74.3753,39.6658 M74.3753,39.6658 C74.2355,40.3791,76.0102,26.7201,77.2921,26.3677 M77.2921,26.3677 C78.574,26.0153,79.7604,36.4752,82.0666,37.5516 M82.0666,37.5516 C84.3727,38.628,90.4399,34.9548,91.1289,32.8261 M91.1289,32.8261 C91.8179,30.6975,85.6649,26.0786,86.2004,24.7797 M86.2004,24.7797 C86.7359,23.4809,93.6273,23.041,94.342,25.0329 M94.342,25.0329 C95.0567,27.0249,91.3373,35.5014,90.4888,36.7314 M90.4888,36.7314 C89.6402,37.9615,89.3864,32.3307,89.2505,32.413 M89.2505,32.413 C89.1146,32.4954,87.1114,37.6952,89.6734,37.2257 M89.6734,37.2257 C92.2353,36.7562,102.5991,32.6793,104.6222,29.5962 M104.6222,29.5962 C106.6454,26.5131,101.9074,19.163,101.8124,18.727 M101.8124,18.727 C101.7173,18.291,102.5681,25.3753,104.0519,26.9803 M104.0519,26.9803 C105.5358,28.5853,110.8439,26.4476,110.7156,28.3569 M110.7156,28.3569 C110.5872,30.2662,102.7295,38.2224,103.282,38.436 M103.282,38.436 C103.8345,38.6497,112.9964,28.3709,114.0308,29.6389 M114.0308,29.6389 C115.0652,30.9069,109.3697,44.2792,109.4887,46.0441 M109.4887,46.0441 C109.6076,47.809,113.4588,42.0777,114.7445,40.2283 M114.7445,40.2283 C116.0303,38.3789,116.1284,38.51,117.2031,34.9477 M117.2031,34.9477 C118.2779,31.3854,119.5347,20.3682,121.1932,18.8545 M121.1932,18.8545 C122.8516,17.3408,126.2633,21.2849,127.1539,25.8656 M127.1539,25.8656 C128.0444,30.4462,126.0439,45.373,126.5365,46.3385 M126.5365,46.3385 C127.0291,47.304,130.1604,35.2289,130.1094,31.6586 M130.1094,31.6586 C130.0585,28.0883,125.7544,26.0339,126.2309,24.9166 M126.2309,24.9166 C126.7075,23.7994,131.2239,24.2005,132.9686,24.9552 M132.9686,24.9552 C134.7133,25.7099,135.1383,27.9249,136.6991,29.4448 M136.6991,29.4448 C138.2599,30.9647,141.4892,31.1607,142.3333,34.0748 M142.3333,34.0748 C143.1775,36.9888,141.0477,46.0074,141.764,46.9292 M141.764,46.9292 C142.4802,47.8511,146.3072,44.8276,146.631,39.6058 M146.631,39.6058 C146.9547,34.384,142.9979,17.4916,143.7065,15.5985 M143.7065,15.5985 C144.4151,13.7054,149.1325,26.8681,150.8826,28.2471 M150.8826,28.2471 C152.6327,29.626,152.7931,23.7274,154.2071,23.8723 M154.2071,23.8723 C155.621,24.0171,158.71,27.8714,159.3661,29.116 M159.3661,29.116 C160.0222,30.3606,157.2701,29.5332,158.1435,31.3399 M158.1435,31.3399 C159.0169,33.1466,164.6072,39.9384,164.6065,39.9562 M164.6065,39.9562 C164.6058,39.9741,157.529,33.9819,158.1393,31.4469 M158.1393,31.4469 C158.7497,28.9119,167.906,27.3181,168.2686,24.7463 M168.2686,24.7463 C168.6313,22.1746,161.3339,14.4804,160.3151,16.0166 M160.3151,16.0166 C159.2964,17.5528,159.7957,32.8346,162.156,33.9637 M162.156,33.9637 C164.5163,35.0929,171.7168,25.6463,174.4767,22.7914 M174.4767,22.7914 C177.2366,19.9366,177.6167,15.0786,178.7153,16.8347 M178.7153,16.8347 C179.8139,18.5908,181.0334,31.3362,181.0681,33.3282 M181.0681,33.3282 C181.1028,35.3202,179.2004,30.2765,178.9237,28.7866 M178.9237,28.7866 C178.647,27.2968,178.7098,26.0471,179.4077,24.3891 M179.4077,24.3891 C180.1055,22.731,181.7026,16.909,183.1107,18.8383 M183.1107,18.8383 C184.5189,20.7676,186.1478,33.196,187.8565,35.9648 M187.8565,35.9648 C189.5652,38.7337,192.3878,37.7417,193.3628,35.4512 M193.3628,35.4512 C194.3379,33.1608,193.6151,22.8845,193.707,22.2223 M193.707,22.2223 C193.799,21.5601,193.6546,30.4403,193.9144,31.4778 M193.9144,31.4778 C194.1743,32.5154,194.4259,29.8196,195.266,28.4475 M195.266,28.4475 C196.1061,27.0754,197.1761,24.6929,198.9548,23.2454 M198.9548,23.2454 C200.7335,21.798,204.8392,18.3678,205.9383,19.7628 M205.9383,19.7628 C207.0374,21.1577,205.7828,29.5159,205.5492,31.6152 M205.5492,31.6152 C205.3157,33.7144,204.212,33.1197,204.5367,32.3581 M204.5367,32.3581 C204.8615,31.5966,205.844,27.1788,207.4976,27.0458 M207.4976,27.0458 C209.1512,26.9127,213.4003,34.0081,214.4582,31.5598 M214.4582,31.5598 C215.516,29.1115,213.1409,13.8065,213.8445,12.3561 M213.8445,12.3561 C214.5482,10.9058,218.0724,21.9684,218.6803,22.8578 M218.6803,22.8578 C219.2881,23.7472,218.2092,17.5492,217.4915,17.6927 M217.4915,17.6927 C216.7738,17.8362,213.6707,23.6021,214.374,23.719 M214.374,23.719 C215.0773,23.836,219.7624,19.4775,221.7112,18.3944 M221.7112,18.3944 C223.66,17.3113,224.5746,15.5838,226.0666,17.2204 M226.0666,17.2204 C227.5587,18.857,230.7962,27.5639,230.6634,28.2139 M230.6634,28.2139 C230.5306,28.864,224.0546,23.2153,225.2698,21.1207 M225.2698,21.1207 C226.4849,19.0262,235.5218,14.103,237.9542,15.6466 M237.9542,15.6466 C240.3866,17.1901,237.9217,29.9076,239.8641,30.3821 M239.8641,30.3821 C241.8066,30.8565,248.6243,16.665,249.6092,18.4936 M249.6092,18.4936 C250.5941,20.3221,245.3391,41.7399,245.7734,41.3533 M245.7734,41.3533 C246.2077,40.9666,251.9896,20.3877,252.2149,16.1736 M252.2149,16.1736 C252.4403,11.9594,246.9086,11.9647,247.1257,16.0683 M247.1257,16.0683 C247.3428,20.172,252.4952,36.7861,253.5174,40.7955 M253.5174,40.7955 C254.5397,44.8048,253.1312,39.3923,253.2591,40.1244 M253.2591,40.1244 C253.387,40.8564,252.9476,44.8122,254.285,45.1877 M254.285,45.1877 C255.6224,45.5632,260.577,47.0521,261.2833,42.3773 M261.2833,42.3773 C261.9897,37.7024,258.2836,18.5966,258.5232,17.1388 M258.5232,17.1388 C258.7627,15.681,261.3286,31.8249,262.7208,33.6305 M262.7208,33.6305 C264.113,35.4362,265.4306,26.4069,266.8762,27.9729 M266.8762,27.9729 C268.3219,29.5389,271.2884,42.4815,271.3948,43.0267 M271.3948,43.0267 C271.5013,43.5719,267.7554,30.9731,267.5151,31.2441 M267.5151,31.2441 C267.2749,31.5151,267.7377,43.9143,269.9533,44.6528 M269.9533,44.6528 C272.1689,45.3912,279.5026,37.4472,280.8088,35.6748 M280.8088,35.6748 C282.115,33.9024,276.7921,35.0411,277.7906,34.0185 M277.7906,34.0185 C278.789,32.9958,286.6274,29.2412,286.7996,29.5388 M286.7996,29.5388 C286.9717,29.8363,279.227,37.3977,278.8234,35.8036 M278.8234,35.8036 C278.4199,34.2096,282.5579,20.608,284.3782,19.9743 M284.3782,19.9743 C286.1985,19.3406,289.6449,32.6217,289.7452,32.0015 M289.7452,32.0015 C289.8454,31.3813,284.1668,16.1015,284.9795,16.2532 M284.9795,16.2532 C285.7922,16.4048,292.0241,32.9383,294.6213,32.9114 M294.6213,32.9114 C297.2186,32.8845,300.0604,18.1553,300.5629,16.0917 M300.5629,16.0917 C301.0654,14.0281,298.0118,20.5511,297.6364,20.5296 M297.6364,20.5296 C297.2611,20.5081,298.2475,15.2056,298.311,15.9627 M298.311,15.9627 C298.3746,16.7198,296.8652,23.4266,298.0178,25.0721 M298.0178,25.0721 C299.1704,26.7175,303.0431,26.5202,305.2268,25.8352 M305.2268,25.8352 C307.4106,25.1501,311.1377,20.557,311.1203,20.9617 M311.1203,20.9617 C311.1029,21.3663,304.267,28.292,305.1225,28.263 M305.1225,28.263 C305.9781,28.2341,314.8616,20.7815,316.2537,20.788 M316.2537,20.788 C317.6458,20.7946,312.4508,26.3492,313.4752,28.3023 M313.4752,28.3023 C314.4996,30.2553,321.5473,32.0478,322.3999,32.5062 M322.3999,32.5062 C323.2525,32.9646,318.5134,31.2072,318.5907,31.0527 M318.5907,31.0527 C318.668,30.8982,321.1329,31.0997,322.8636,31.5791 M322.8636,31.5791 C324.5944,32.0585,327.9319,33.1767,328.9752,33.9291 M328.9752,33.9291 C330.0184,34.6815,328.9061,34.9058,329.1232,36.0934 M329.1232,36.0934 C329.3403,37.281,329.1683,44.2413,330.2778,41.0547 M330.2778,41.0547 C331.3873,37.868,334.9769,20.4744,335.78,16.9736 M335.78,16.9736 C336.5831,13.4729,334.9471,18.1321,335.0962,20.0502 M335.0962,20.0502 C335.2454,21.9683,334.9708,24.9574,336.6748,28.4822 M336.6748,28.4822 C338.3787,32.007,344.9559,41.8481,345.3199,41.1988 M345.3199,41.1988 C345.6838,40.5494,340.2098,26.5433,338.8583,24.586 M338.8583,24.586 C337.5069,22.6288,335.5981,29.6054,337.2112,29.4552 M337.2112,29.4552 C338.8242,29.305,345.6838,24.8131,348.5367,23.6849 M348.5367,23.6849 C351.3895,22.5568,352.8356,23.35,354.3283,22.6864 M354.3283,22.6864 C355.8209,22.0228,356.4238,18.3602,357.4926,19.7034 M357.4926,19.7034 C358.5613,21.0467,360.549,31.1299,360.7405,30.7461 M360.7405,30.7461 C360.9321,30.3624,358.9043,16.9845,358.6419,17.401 M358.6419,17.401 C358.3796,17.8174,358.5739,31.9979,359.1665,33.2448 M359.1665,33.2448 C359.7591,34.4917,360.6384,25.1411,362.1975,24.8824 M362.1975,24.8824 C363.7565,24.6238,367.6786,29.6773,368.5208,31.6929 M368.5208,31.6929 C369.363,33.7086,368.0773,39.0346,367.2506,36.9761 M367.2506,36.9761 C366.4239,34.9176,362.7021,21.6676,363.5605,19.3418 M363.5605,19.3418 C364.4189,17.016,369.3702,23.0594,372.401,23.0216 M372.401,23.0216 C375.4319,22.9837,380.7287,17.4856,381.7454,19.1145 M381.7454,19.1145 C382.7622,20.7434,377.638,30.9839,378.5015,32.7947 M378.5015,32.7947 C379.3651,34.6056,386.3437,30.8159,386.9269,29.9794 M386.9269,29.9794 C387.51,29.143,382.8332,28.0753,382.0003,27.7761 M382.0003,27.7761 C381.1674,27.4769,382.0319,29.1027,381.9294,28.1841 M381.9294,28.1841 C381.8269,27.2655,379.0948,23.0556,381.3852,22.2643 M381.3852,22.2643 C383.6755,21.473,393.6962,20.3939,395.6713,23.4364 M395.6713,23.4364 C397.6464,26.4788,394.2014,38.8333,393.2359,40.5191 M393.2359,40.5191 C392.2704,42.205,388.4147,35.2937,389.8784,33.5514 M389.8784,33.5514 C391.3421,31.8091,399.6739,31.1704,402.0181,30.0652 M402.0181,30.0652 C404.3623,28.9601,402.86,27.0163,403.9435,26.9205 M403.9435,26.9205 C405.0271,26.8247,407.6066,28.2501,408.5196,29.4904 M408.5196,29.4904 C409.4326,30.7307,408.5989,36.7693,409.4216,34.3625 M409.4216,34.3625 C410.2442,31.9557,413.7355,15.7187,413.4554,15.0496 M413.4554,15.0496 C413.1753,14.3805,406.8887,30.3714,407.7408,30.3479 M407.7408,30.3479 C408.5929,30.3244,417.19,16.2047,418.5681,14.9085 M418.5681,14.9085 C419.9461,13.6124,415.7468,19.6372,416.0093,22.571 M416.0093,22.571 C416.2718,25.5047,419.7606,30.2171,420.1431,32.5111 M420.1431,32.5111 C420.5256,34.8051,416.9891,35.0665,418.3045,36.3352 M418.3045,36.3352 C419.6199,37.6039,426.1561,43.3786,428.0356,40.1235 M428.0356,40.1235 C429.9151,36.8684,429.4448,21.03,429.5815,16.8046 M429.5815,16.8046 C429.7181,12.5792,428.5362,15.6225,428.8556,14.771 M428.8556,14.771 C429.1749,13.9195,431.042,8.1076,431.4976,11.6958 M431.4976,11.6958 C431.9532,15.2839,429.7193,35.2147,431.5891,36.2999 M431.5891,36.2999 C433.4589,37.385,441.5594,20.4966,442.7163,18.2066 M442.7163,18.2066 C443.8733,15.9167,438.5143,19.8942,438.5309,22.5603 M438.5309,22.5603 C438.5475,25.2264,442.102,34.5413,442.816,34.2031 M442.816,34.2031 C443.53,33.8648,441.7293,20.4405,442.815,20.5305 M442.815,20.5305 C443.9007,20.6206,447.6336,33.1994,449.3302,34.7433 M449.3302,34.7433 C451.0268,36.2871,453.3676,28.701,452.9947,29.7934 M452.9947,29.7934 C452.6219,30.8859,446.6035,41.1286,447.0933,41.2978 M447.0933,41.2978 C447.5831,41.467,454.3574,34.0198,455.9334,30.8086 M455.9334,30.8086 C457.5095,27.5974,456.4416,23.7387,456.5497,22.0305 M456.5497,22.0305 C456.6577,20.3223,454.3092,20.0549,456.5815,20.5594 M456.5815,20.5594 C458.8538,21.0639,468.5992,23.4743,470.1834,25.0577 M470.1834,25.0577 C471.7676,26.6412,466.3585,29.1948,466.0867,30.0602 M466.0867,30.0602 C465.8149,30.9255,467.598,29.9608,468.5526,30.2497 M468.5526,30.2497 C469.5071,30.5386,471.2694,33.0914,471.814,31.7935 M471.814,31.7935 C472.3586,30.4957,471.0834,23.3501,471.8201,22.4626 M471.8201,22.4626 C472.5569,21.5751,475.0197,25.6088,476.2346,26.4687 M476.2346,26.4687 C477.4494,27.3286,479.5125,27.5882,479.109,27.622 M479.109,27.622 C478.7054,27.6559,474.0125,28.4722,473.8134,26.6718 M473.8134,26.6718 C473.6143,24.8714,476.9604,17.3102,477.9144,16.8197 M477.9144,16.8197 C478.8684,16.3291,478.3313,25.7443,479.5375,23.7286 M479.5375,23.7286 C480.7436,21.7129,483.0552,4.1293,485.1512,4.7255 M485.1512,4.7255 C487.2472,5.3217,489.7538,26.3231,492.1134,27.306 M492.1134,27.306 C494.4729,28.2888,498.7248,13.5093,499.3084,10.6228 M499.3084,10.6228 C499.892,7.7362,496.4883,5.5618,495.6149,9.9866 M495.6149,9.9866 C494.7416,14.4114,492.6763,35.4966,494.0684,37.1716 M494.0684,37.1716 C495.4604,38.8466,501.7157,24.6474,503.9672,20.0364 M503.9672,20.0364 C506.2186,15.4254,506.8111,7.0565,507.5771,9.5057 M507.5771,9.5057 C508.343,11.9548,508.4405,31.4458,508.563,34.7313 M508.563,34.7313 C508.6855,38.0168,507.5715,28.7339,508.312,29.2187 M508.312,29.2187 C509.0525,29.7034,511.841,38.0301,513.0057,37.6399 M513.0057,37.6399 C514.1704,37.2497,514.8704,31.3827,515.3001,26.8776 M515.3001,26.8776 C515.7298,22.3725,513.9021,10.4193,515.5839,10.6095 M515.5839,10.6095 C517.2658,10.7997,524.8389,23.2596,525.3912,28.0186 M525.3912,28.0186 C525.9435,32.7776,519.8323,40.2795,518.8976,39.1635 M518.8976,39.1635 C517.9629,38.0475,519.4775,22.2988,519.7831,21.3228 M519.7831,21.3228 C520.0887,20.3468,518.9521,32.6818,520.7312,33.3078 M520.7312,33.3078 C522.5103,33.9337,528.9514,23.1367,530.4578,25.0784 M530.4578,25.0784 C531.9642,27.02,529.7356,43.6709,529.7693,44.9578 M529.7693,44.9578 C529.803,46.2447,528.3885,37.3022,530.6601,32.7996\" fill=\"none\" stroke=\"rgba(0,0,0,1)\" stroke-width=\"2\" stroke-miterlimit=\"10\"/>\n",
       "<path d=\"M35.4108,56.777 C36.2452,58.6249,36.2544,64.0552,35.9611,63.3615 M35.9611,63.3615 C35.6678,62.6678,31.4191,52.0891,33.651,52.6148 M33.651,52.6148 C35.8828,53.1404,46.8359,64.7681,49.3524,66.5154 M49.3524,66.5154 C51.869,68.2626,48.819,61.5047,48.7503,63.0982 M48.7503,63.0982 C48.6816,64.6917,49.725,77.2353,48.9402,76.0764 M48.9402,76.0764 C48.1554,74.9175,43.903,58.3446,44.0417,56.1445 M44.0417,56.1445 C44.1803,53.9444,47.9698,61.1539,49.7722,62.8758 M49.7722,62.8758 C51.5747,64.5978,53.7206,60.892,54.8563,66.4763 M54.8563,66.4763 C55.992,72.0607,55.8125,97.6972,56.5865,96.3819 M56.5865,96.3819 C57.3605,95.0667,58.9814,66.1653,59.5004,58.585 M59.5004,58.585 C60.0194,51.0047,58.8849,50.39,59.7002,50.9003 M59.7002,50.9003 C60.5156,51.4106,62.9977,60.8647,64.3924,61.6469 M64.3924,61.6469 C65.7871,62.4292,67.9268,53.6222,68.0686,55.5938 M68.0686,55.5938 C68.2103,57.5653,63.8135,72.629,65.2428,73.4762 M65.2428,73.4762 C66.6722,74.3234,74.2203,65.2773,76.6445,60.6768 M76.6445,60.6768 C79.0687,56.0762,79.9731,46.0271,79.7881,45.873 M79.7881,45.873 C79.6031,45.7188,75.0316,60.8512,75.5346,59.7519 M75.5346,59.7519 C76.0375,58.6527,81.3657,38.6345,82.806,39.2777 M82.806,39.2777 C84.2463,39.9208,81.7526,59.4907,84.1763,63.6111 M84.1763,63.6111 C86.6,67.7314,96.1289,65.4735,97.348,63.9997 M97.348,63.9997 C98.5671,62.5259,91.3993,54.2388,91.4907,54.7681 M91.4907,54.7681 C91.5822,55.2974,96.384,67.1622,97.8966,67.1755 M97.8966,67.1755 C99.4093,67.1887,100.3801,57.0904,100.5667,54.8475 M100.5667,54.8475 C100.7532,52.6047,97.5056,51.6985,99.0161,53.7184 M99.0161,53.7184 C100.5266,55.7383,109.3083,65.5309,109.6294,66.9672 M109.6294,66.9672 C109.9506,68.4035,101.8957,61.0148,100.9427,62.3362 M100.9427,62.3362 C99.9897,63.6577,102.9973,73.6941,103.9112,74.8958 M103.9112,74.8958 C104.8252,76.0976,104.6236,71.3146,106.4263,69.5467 M106.4263,69.5467 C108.2289,67.7789,112.3131,64.5872,114.727,64.2887 M114.727,64.2887 C117.1408,63.9901,119.7152,67.1959,120.9093,67.7553 M120.9093,67.7553 C122.1035,68.3147,120.4087,66.8425,121.8918,67.6452 M121.8918,67.6452 C123.3749,68.4479,128.9143,74.9851,129.8079,72.5715 M129.8079,72.5715 C130.7015,70.158,126.7291,55.0949,127.2535,53.1638 M127.2535,53.1638 C127.7779,51.2328,131.0181,61.1577,132.9545,60.9854 M132.9545,60.9854 C134.8908,60.8131,138.2153,52.2945,138.8714,52.1299 M138.8714,52.1299 C139.5275,51.9653,136.599,59.8676,136.8913,59.998 M136.8913,59.998 C137.1835,60.1283,140.154,52.9189,140.6247,52.9117 M140.6247,52.9117 C141.0953,52.9045,139.3987,55.346,139.7151,59.9547 M139.7151,59.9547 C140.0315,64.5635,141.8291,80.835,142.5229,80.5641 M142.5229,80.5641 C143.2166,80.2932,142.9462,62.3313,143.8776,58.3296 M143.8776,58.3296 C144.809,54.3279,145.9043,60.0331,148.1112,56.5539 M148.1112,56.5539 C150.318,53.0748,156.6299,36.0528,157.1186,37.4548 M157.1186,37.4548 C157.6073,38.8567,149.868,62.7228,151.0435,64.9655 M151.0435,64.9655 C152.2189,67.2082,162.7495,51.9567,164.1711,50.9108 M164.1711,50.9108 C165.5928,49.865,159.2788,59.4399,159.5733,58.6904 M159.5733,58.6904 C159.8678,57.941,164.359,44.8983,165.9381,46.4141 M165.9381,46.4141 C167.5171,47.9299,168.6546,63.602,169.0477,67.7853 M169.0477,67.7853 C169.4407,71.9686,166.6357,72.5562,168.2962,71.5137 M168.2962,71.5137 C169.9566,70.4713,177.5755,64.9279,179.0104,61.5307 M179.0104,61.5307 C180.4452,58.1335,176.086,53.1471,176.9051,51.1303 M176.9051,51.1303 C177.7243,49.1136,182.1596,46.4013,183.9253,49.4301 M183.9253,49.4301 C185.6909,52.459,188.3478,67.7971,187.4993,69.3036 M187.4993,69.3036 C186.6507,70.81,178.605,56.8899,178.8339,58.4687 M178.8339,58.4687 C179.0628,60.0475,187.11,77.661,188.8725,78.7762 M188.8725,78.7762 C190.6351,79.8914,188.6543,68.0125,189.4093,65.1601 M189.4093,65.1601 C190.1643,62.3077,191.4349,62.9865,193.4025,61.6619 M193.4025,61.6619 C195.3701,60.3373,198.9535,56.9666,201.2149,57.2124 M201.2149,57.2124 C203.4763,57.4582,206.1047,62.7352,206.9709,63.1367 M206.9709,63.1367 C207.8371,63.5383,205.6471,59.1386,206.4122,59.6217 M206.4122,59.6217 C207.1773,60.1048,210.9585,65.5327,211.5612,66.0355 M211.5612,66.0355 C212.164,66.5383,209.3607,64.5666,210.0288,62.6385 M210.0288,62.6385 C210.6968,60.7103,214.5717,54.4107,215.5695,54.4666 M215.5695,54.4666 C216.5674,54.5225,215.5479,61.8241,216.0161,62.9737 M216.0161,62.9737 C216.4843,64.1233,217.6937,62.4677,218.3786,61.3644 M218.3786,61.3644 C219.0636,60.2611,218.7531,56.3033,220.1255,56.3541 M220.1255,56.3541 C221.4979,56.4048,224.4551,63.1792,226.6133,61.6689 M226.6133,61.6689 C228.7714,60.1585,232.2133,46.9419,233.0747,47.2918 M233.0747,47.2918 C233.9361,47.6416,231.8197,61.1962,231.7814,63.768 M231.7814,63.768 C231.7432,66.3398,232.115,63.9518,232.845,62.7225 M232.845,62.7225 C233.5749,61.4933,235.0062,58.7665,236.1611,56.3923 M236.1611,56.3923 C237.316,54.0181,238.9607,48.8532,239.7744,48.4776 M239.7744,48.4776 C240.588,48.102,241.0011,54.1123,241.0431,54.1386 M241.0431,54.1386 C241.0851,54.165,238.4675,43.9838,240.0263,48.636 M240.0263,48.636 C241.585,53.2882,248.9383,77.7893,250.3956,82.0518 M250.3956,82.0518 C251.8529,86.3144,248.9725,79.4296,248.7699,74.2113 M248.7699,74.2113 C248.5673,68.993,248.2797,53.1838,249.1799,50.7418 M249.1799,50.7418 C250.0802,48.2998,252.7147,56.8886,254.1715,59.5591 M254.1715,59.5591 C255.6283,62.2296,256.3584,65.6599,257.9206,66.7649 M257.9206,66.7649 C259.4827,67.8698,262.8519,67.1233,263.5443,66.189 M263.5443,66.189 C264.2367,65.2547,261.3292,62.3145,262.075,61.1592 M262.075,61.1592 C262.8207,60.004,266.3573,59.9166,268.0186,59.2575 M268.0186,59.2575 C269.6799,58.5984,270.5328,60.7123,272.0428,57.2046 M272.0428,57.2046 C273.5528,53.6969,276.3058,37.5915,277.0787,38.2113 M277.0787,38.2113 C277.8516,38.8311,275.9858,56.6246,276.6803,60.9233 M276.6803,60.9233 C277.3747,65.222,279.4162,62.9577,281.2455,64.0036 M281.2455,64.0036 C283.0749,65.0495,287.2752,66.2214,287.6565,67.1985 M287.6565,67.1985 C288.0378,68.1756,283.1151,70.1386,283.5336,69.8663 M283.5336,69.8663 C283.952,69.594,288.9412,65.1856,290.1672,65.5646 M290.1672,65.5646 C291.3933,65.9436,289.5922,71.8927,290.89,72.1403 M290.89,72.1403 C292.1877,72.3878,298.1221,68.6547,297.9536,67.0497 M297.9536,67.0497 C297.7852,65.4447,288.8136,65.6789,289.8794,62.5102 M289.8794,62.5102 C290.9451,59.3416,302.1866,49.3863,304.3483,48.0381 M304.3483,48.0381 C306.5099,46.6898,303.3209,52.086,302.8493,54.4208 M302.8493,54.4208 C302.3778,56.7555,300.1724,61.0047,301.5188,62.0465 M301.5188,62.0465 C302.8653,63.0884,308.9502,60.9723,310.928,60.6719 M310.928,60.6719 C312.9058,60.3715,311.6529,62.398,313.3855,60.2441 M313.3855,60.2441 C315.1181,58.0901,321.439,45.3739,321.3234,47.7481 M321.3234,47.7481 C321.2077,50.1224,311.629,73.1754,312.6915,74.4894 M312.6915,74.4894 C313.754,75.8034,325.7585,55.9236,327.6984,55.6321 M327.6984,55.6321 C329.6383,55.3405,324.9244,68.8428,324.3308,72.7401 M324.3308,72.7401 C323.7372,76.6375,322.2829,82.0248,324.1367,79.0161 M324.1367,79.0161 C325.9906,76.0073,334.9834,57.4196,335.4539,54.6875 M335.4539,54.6875 C335.9244,51.9553,326.9049,63.1544,326.9598,62.6234 M326.9598,62.6234 C327.0146,62.0923,333.0821,52.9477,335.783,51.5013 M335.783,51.5013 C338.484,50.0549,342.2725,53.4483,343.1656,53.945 M343.1656,53.945 C344.0587,54.4417,341.5988,55.1882,341.1414,54.4813 M341.1414,54.4813 C340.6841,53.7745,339.9757,47.7684,340.4217,49.7039 M340.4217,49.7039 C340.8678,51.6393,342.0027,62.3721,343.8177,66.094 M343.8177,66.094 C345.6326,69.8158,348.6361,71.4437,351.3114,72.035 M351.3114,72.035 C353.9868,72.6263,358.9273,72.0039,359.8698,69.6419 M359.8698,69.6419 C360.8124,67.2799,358.751,59.4098,356.9667,57.8629 M356.9667,57.8629 C355.1824,56.3159,348.664,57.8707,349.164,60.36 M349.164,60.36 C349.664,62.8493,357.7564,71.9376,359.9668,72.7987 M359.9668,72.7987 C362.1772,73.6598,360.2159,66.3054,362.4262,65.5266 M362.4262,65.5266 C364.6365,64.7478,372.4026,67.4029,373.2285,68.1262 M373.2285,68.1262 C374.0545,68.8494,367.0635,74.3377,367.3818,69.8662 M367.3818,69.8662 C367.7002,65.3947,373.5626,43.9703,375.1386,41.2973 M375.1386,41.2973 C376.7145,38.6243,376.1061,48.8308,376.8376,53.8282 M376.8376,53.8282 C377.5692,58.8255,379.261,71.2819,379.5281,71.2815 M379.5281,71.2815 C379.7952,71.2811,376.4998,54.7727,378.4401,53.8257 M378.4401,53.8257 C380.3804,52.8787,389.5045,64.497,391.1698,65.5993 M391.1698,65.5993 C392.835,66.7017,387.1782,63.3397,388.4316,60.44 M388.4316,60.44 C389.6849,57.5403,398.1014,49.5924,398.6899,48.2011 M398.6899,48.2011 C399.2785,46.8098,391.7827,51.9076,391.9629,52.0924 M391.9629,52.0924 C392.1431,52.2771,397.1543,47.7742,399.771,49.3096 M399.771,49.3096 C402.3878,50.845,406.8665,61.7093,407.6636,61.3047 M407.6636,61.3047 C408.4607,60.9002,404.3031,45.9724,404.5538,46.8822 M404.5538,46.8822 C404.8044,47.792,408.5392,63.7351,409.1674,66.7635 M409.1674,66.7635 C409.7956,69.7918,407.4996,68.0221,408.323,65.0524 M408.323,65.0524 C409.1464,62.0827,414.5698,49.3989,414.1077,48.9453 M414.1077,48.9453 C413.6455,48.4917,405.5348,60.6553,405.5503,62.3309 M405.5503,62.3309 C405.5657,64.0064,411.0296,57.0239,414.2004,58.9986 M414.2004,58.9986 C417.3712,60.9733,423.3729,72.5976,424.5748,74.179 M424.5748,74.179 C425.7766,75.7605,421.5598,71.0929,421.4115,68.4872 M421.4115,68.4872 C421.2632,65.8816,421.4669,59.619,423.6851,58.5453 M423.6851,58.5453 C425.9033,57.4715,433.1418,61.6893,434.7207,62.0447 M434.7207,62.0447 C436.2996,62.4001,433.3127,60.7701,433.1583,60.6776 M433.1583,60.6776 C433.0039,60.5852,433.0482,61.2262,433.7941,61.49 M433.7941,61.49 C434.5401,61.7537,435.7553,63.0323,437.6338,62.2602 M437.6338,62.2602 C439.5122,61.4882,443.3512,58.6894,445.0648,56.8578 M445.0648,56.8578 C446.7785,55.0263,447.4578,52.2678,447.9157,51.2708 M447.9157,51.2708 C448.3737,50.2738,446.5,48.6275,447.8124,50.8758 M447.8124,50.8758 C449.1248,53.1242,454.6313,61.7051,455.7899,64.7609 M455.7899,64.7609 C456.9485,67.8166,455.4445,70.7281,454.764,69.2104 M454.764,69.2104 C454.0835,67.6926,451.1698,61.0746,451.7071,55.6543 M451.7071,55.6543 C452.2443,50.234,456.0942,38.8394,457.9877,36.6885 M457.9877,36.6885 C459.8811,34.5377,461.8113,37.6841,463.0679,42.7491 M463.0679,42.7491 C464.3245,47.8141,464.9694,64.0142,465.5275,67.0788 M465.5275,67.0788 C466.0855,70.1434,465.813,61.4918,466.4162,61.1367 M466.4162,61.1367 C467.0195,60.7816,467.4126,66.1211,469.1467,64.9482 M469.1467,64.9482 C470.8807,63.7753,475.3634,56.3426,476.8206,54.099 M476.8206,54.099 C478.2777,51.8555,478.054,51.4961,477.8895,51.4871 M477.8895,51.4871 C477.725,51.4781,474.2686,54.1794,475.8337,54.0448 M475.8337,54.0448 C477.3987,53.9102,487.5346,47.6938,487.2799,50.6795 M487.2799,50.6795 C487.0251,53.6652,474.8981,67.6832,474.305,71.959 M474.305,71.959 C473.7118,76.2347,480.2308,78.4057,483.7209,76.3339 M483.7209,76.3339 C487.2109,74.2621,493.0267,61.4708,495.2455,59.5281 M495.2455,59.5281 C497.4643,57.5855,496.6181,63.4927,497.0339,64.678 M497.0339,64.678 C497.4497,65.8634,497.0623,68.6385,497.7403,66.6403 M497.7403,66.6403 C498.4184,64.6421,501.0769,50.0055,501.102,52.6887 M501.102,52.6887 C501.1272,55.372,495.9993,82.8475,497.8911,82.7398 M497.8911,82.7398 C499.783,82.6321,509.7014,55.3485,512.453,52.0425 M512.453,52.0425 C515.2047,48.7364,514.7364,61.4755,514.4011,62.9036 M514.4011,62.9036 C514.0657,64.3317,511.5059,62.2764,510.441,60.611 M510.441,60.611 C509.3761,58.9456,507.6964,53.8776,508.0115,52.911 M508.0115,52.911 C508.3265,51.9445,510.1912,52.4144,512.3313,54.8115 M512.3313,54.8115 C514.4713,57.2087,519.6039,67.2067,520.8517,67.2941 M520.8517,67.2941 C522.0994,67.3814,518.7125,56.9233,519.8177,55.3355 M519.8177,55.3355 C520.9229,53.7477,525.026,53.9496,527.4829,57.7673 M527.4829,57.7673 C529.9397,61.5849,534.0481,76.0268,534.559,78.2413 M534.559,78.2413 C535.0698,80.4559,530.0255,72.967,530.548,71.0545\" fill=\"none\" stroke=\"rgba(0,0,0,1)\" stroke-width=\"2\" stroke-miterlimit=\"10\"/>\n",
       "<path d=\"M32.983,98.8763 C33.362,98.2934,37.539,79.7451,40.9693,77.5348 M40.9693,77.5348 C44.3995,75.3244,51.6513,81.0084,53.5647,85.6143 M53.5647,85.6143 C55.4781,90.2202,51.5395,104.7072,52.4496,105.1701 M52.4496,105.1701 C53.3597,105.633,56.5977,88.8098,59.0253,88.3916 M59.0253,88.3916 C61.453,87.9735,63.4679,102.978,67.0154,102.6614 M67.0154,102.6614 C70.563,102.3448,77.9402,86.4571,80.3104,86.4922 M80.3104,86.4922 C82.6806,86.5273,79.2623,100.2084,81.2369,102.8718 M81.2369,102.8718 C83.2115,105.5353,89.7226,101.4295,92.1579,102.473 M92.1579,102.473 C94.5931,103.5165,94.8012,111.1955,95.8484,109.133 M95.8484,109.133 C96.8957,107.0705,97.7472,91.5372,98.4415,90.0979 M98.4415,90.0979 C99.1358,88.6587,98.7311,99.9218,100.0143,100.4973 M100.0143,100.4973 C101.2974,101.0727,104.1447,96.0724,106.1406,93.5508 M106.1406,93.5508 C108.1366,91.0292,107.5368,84.822,111.9899,85.3677 M111.9899,85.3677 C116.4429,85.9134,129.7571,94.256,132.8589,96.8251 M132.8589,96.8251 C135.9607,99.3943,129.3802,99.0757,130.6007,100.7826 M130.6007,100.7826 C131.8212,102.4894,138.3624,108.7097,140.1818,107.0662 M140.1818,107.0662 C142.0013,105.4227,140.0016,93.6071,141.5175,90.9216 M141.5175,90.9216 C143.0335,88.2361,145.795,88.8634,149.2775,90.9531 M149.2775,90.9531 C152.7601,93.0429,159.307,103.3564,162.4128,103.46 M162.4128,103.46 C165.5186,103.5637,165.6896,92.7048,167.9122,91.5751 M167.9122,91.5751 C170.1349,90.4454,175.1101,96.0821,175.7487,96.6818 M175.7487,96.6818 C176.3872,97.2815,171.6238,97.2429,171.7433,95.1732 M171.7433,95.1732 C171.8628,93.1034,173.5509,83.5544,176.4656,84.2634 M176.4656,84.2634 C179.3803,84.9723,185.9495,97.827,189.2317,99.4269 M189.2317,99.4269 C192.5139,101.0268,193.7542,94.2478,196.1588,93.8629 M196.1588,93.8629 C198.5633,93.4779,203.3579,99.882,203.6591,97.1171 M203.6591,97.1171 C203.9603,94.3523,198.2372,76.2175,197.966,77.2737 M197.966,77.2737 C197.6948,78.3298,198.3839,101.4933,202.032,103.4541 M202.032,103.4541 C205.6802,105.415,214.2349,92.3313,219.8552,89.0388 M219.8552,89.0388 C225.4754,85.7463,233.358,82.8576,235.7533,83.699 M235.7533,83.699 C238.1487,84.5404,232.4366,90.1534,234.2271,94.0872 M234.2271,94.0872 C236.0175,98.0211,245.0879,107.8639,246.4961,107.3022 M246.4961,107.3022 C247.9042,106.7404,240.7648,91.4568,242.6762,90.7166 M242.6762,90.7166 C244.5875,89.9763,253.5897,103.1353,257.9641,102.8607 M257.9641,102.8607 C262.3386,102.5861,267.2186,89.4816,268.9227,89.069 M268.9227,89.069 C270.6268,88.6563,267.6723,98.2997,268.1885,100.3847 M268.1885,100.3847 C268.7047,102.4697,269.4488,103.4973,272.02,101.579 M272.02,101.579 C274.5912,99.6607,280.7262,90.2103,283.6159,88.8748 M283.6159,88.8748 C286.5056,87.5392,287.4993,94.1178,289.3582,93.5657 M289.3582,93.5657 C291.2171,93.0136,292.5241,85.8062,294.7692,85.562 M294.7692,85.562 C297.0142,85.3179,301.3207,88.757,302.8283,92.1009 M302.8283,92.1009 C304.336,95.4448,302.5527,104.012,303.8152,105.6254 M303.8152,105.6254 C305.0777,107.2388,308.6377,102.8007,310.4031,101.7813 M310.4031,101.7813 C312.1684,100.7619,312.8165,101.8553,314.4074,99.5089 M314.4074,99.5089 C315.9982,97.1625,317.1434,87.4603,319.9484,87.7028 M319.9484,87.7028 C322.7535,87.9453,330.1996,99.0355,331.2377,100.9638 M331.2377,100.9638 C332.2758,102.8922,323.3305,102.2941,326.177,99.2729 M326.177,99.2729 C329.0236,96.2518,344.6283,83.2458,348.3171,82.8367 M348.3171,82.8367 C352.0059,82.4275,347.7178,92.2681,348.31,96.8181 M348.31,96.8181 C348.9022,101.368,348.1732,110.6023,351.8702,110.1364 M351.8702,110.1364 C355.5672,109.6705,366.5974,93.8817,370.4921,94.0229 M370.4921,94.0229 C374.3869,94.164,373.9986,105.9226,375.2389,110.9832 M375.2389,110.9832 C376.4792,116.0439,378.489,127.7742,377.9339,124.3869 M377.9339,124.3869 C377.3787,120.9995,368.9439,92.6003,371.9081,90.6592 M371.9081,90.6592 C374.8722,88.718,392.7309,109.971,395.7188,112.74 M395.7188,112.74 C398.7066,115.509,389.5861,109.511,389.8353,107.2732 M389.8353,107.2732 C390.0845,105.0353,394.0784,99.5937,397.2138,99.313 M397.2138,99.313 C400.3492,99.0322,405.3518,106.355,408.6475,105.5888 M408.6475,105.5888 C411.9432,104.8226,413.8095,96.4327,416.9879,94.7158 M416.9879,94.7158 C420.1663,92.999,426.3192,93.5803,427.7178,95.2877 M427.7178,95.2877 C429.1163,96.9951,424.1675,107.0828,425.379,104.9603 M425.379,104.9603 C426.5904,102.8379,432.0587,82.5276,434.9865,82.5531 M434.9865,82.5531 C437.9144,82.5786,442.6379,103.6973,442.9458,105.1135 M442.9458,105.1135 C443.2537,106.5297,435.5888,95.1889,436.8339,91.0501 M436.8339,91.0501 C438.0789,86.9112,446.4387,81.0788,450.4161,80.2804 M450.4161,80.2804 C454.3935,79.482,459.3477,86.8657,460.698,86.2598 M460.698,86.2598 C462.0483,85.6539,457.3121,76.3105,458.518,76.6451 M458.518,76.6451 C459.7238,76.9796,466.0823,85.8103,467.9329,88.267 M467.9329,88.267 C469.7834,90.7237,466.1572,89.9635,469.6213,91.3851 M469.6213,91.3851 C473.0855,92.8067,484.1406,97.3475,488.7179,96.7966 M488.7179,96.7966 C493.2951,96.2456,495.1944,88.7178,497.0846,88.0795 M497.0846,88.0795 C498.9748,87.4413,497.4046,91.2032,500.0591,92.967 M500.0591,92.967 C502.7136,94.7309,510.3959,101.3323,513.0116,98.6628 M513.0116,98.6628 C515.6273,95.9932,515.2491,80.1718,515.7534,76.9498 M515.7534,76.9498 C516.2577,73.7278,515.8378,79.1126,516.0374,79.3308 M516.0374,79.3308 C516.237,79.5491,512.8567,74.4094,516.951,78.2594\" fill=\"none\" stroke=\"rgba(0,0,0,1)\" stroke-width=\"2\" stroke-miterlimit=\"10\"/>\n",
       "<path d=\"M30.8761,130.5154 C32.6675,132.7486,27.5829,136.7027,28.8362,137.6183 M28.8362,137.6183 C30.0895,138.534,38.7371,134.3232,38.396,136.0094 M38.396,136.0094 C38.0548,137.6955,25.4988,150.4174,26.7893,147.7353 M26.7893,147.7353 C28.0798,145.0533,44.2441,122.9027,46.139,119.9172 M46.139,119.9172 C48.034,116.9316,36.5262,128.195,38.159,129.8221 M38.159,129.8221 C39.7918,131.4492,54.2621,128.6379,55.9358,129.6798 M55.9358,129.6798 C57.6095,130.7217,50.7218,135.9487,48.2015,136.0735 M48.2015,136.0735 C45.6812,136.1984,40.7697,130.4839,40.8142,130.4288 M40.8142,130.4288 C40.8586,130.3738,46.4245,136.697,48.468,135.7432 M48.468,135.7432 C50.5115,134.7894,51.4319,122.9384,53.0751,124.706 M53.0751,124.706 C54.7183,126.4735,57.3722,145.1975,58.3272,146.3486 M58.3272,146.3486 C59.2823,147.4996,59.3211,135.5913,58.8052,131.6121 M58.8052,131.6121 C58.2892,127.6329,54.0368,122.4298,55.2316,122.4735 M55.2316,122.4735 C56.4265,122.5172,64.5117,130.9862,65.9744,131.8744 M65.9744,131.8744 C67.4372,132.7626,62.7091,128.4124,64.0082,127.8027 M64.0082,127.8027 C65.3073,127.193,72.5089,129.4074,73.7691,128.2161 M73.7691,128.2161 C75.0294,127.0249,71.2659,124.1048,71.5695,120.6551 M71.5695,120.6551 C71.8732,117.2054,75.0896,105.8213,75.591,107.518 M75.591,107.518 C76.0925,109.2147,73.7703,126.9671,74.5781,130.8353 M74.5781,130.8353 C75.386,134.7034,79.183,128.0609,80.4382,130.7269 M80.4382,130.7269 C81.6935,133.3929,81.897,145.9905,82.1095,146.8312 M82.1095,146.8312 C82.3221,147.6719,80.4289,139.4708,81.7133,135.7711 M81.7133,135.7711 C82.9977,132.0713,88.2731,122.7922,89.8159,124.6329 M89.8159,124.6329 C91.3587,126.4735,90.4745,146.9298,90.9701,146.8152 M90.9701,146.8152 C91.4658,146.7005,92.4229,127.2407,92.7898,123.945 M92.7898,123.945 C93.1566,120.6493,92.1942,127.7167,93.1712,127.0409 M93.1712,127.0409 C94.1482,126.365,98.455,115.4012,98.6519,119.89 M98.6519,119.89 C98.8487,124.3788,94.6337,153.8144,94.3524,153.9735 M94.3524,153.9735 C94.071,154.1326,95.3012,124.2562,96.9638,120.8446 M96.9638,120.8446 C98.6264,117.4329,103.3887,133.3577,104.3281,133.5036 M104.3281,133.5036 C105.2676,133.6494,102.3456,123.0612,102.6004,121.7199 M102.6004,121.7199 C102.8551,120.3786,105.2381,123.2552,105.8567,125.4559 M105.8567,125.4559 C106.4753,127.6565,104.7419,133.5518,106.312,134.9238 M106.312,134.9238 C107.8821,136.2957,115.1912,135.237,115.2773,133.6873 M115.2773,133.6873 C115.3633,132.1377,105.493,125.6251,106.8281,125.6259 M106.8281,125.6259 C108.1633,125.6267,120.8497,133.5405,123.2881,133.6921 M123.2881,133.6921 C125.7265,133.8437,121.4692,124.7126,121.4588,126.5355 M121.4588,126.5355 C121.4485,128.3584,122.4304,144.9491,123.2259,144.6297 M123.2259,144.6297 C124.0215,144.3102,125.4027,127.5959,126.2321,124.619 M126.2321,124.619 C127.0615,121.642,127.823,126.4163,128.2025,126.768 M128.2025,126.768 C128.582,127.1197,127.1633,126.3597,128.5089,126.729 M128.5089,126.729 C129.8546,127.0982,134.3281,125.147,136.2763,128.9832 M136.2763,128.9832 C138.2246,132.8194,140.3851,151.5163,140.1982,149.7463 M140.1982,149.7463 C140.0113,147.9763,134.9325,122.7239,135.1549,118.3631 M135.1549,118.3631 C135.3773,114.0024,140.4988,122.7296,141.5327,123.5817 M141.5327,123.5817 C142.5665,124.4339,139.7568,120.6335,141.358,123.4762 M141.358,123.4762 C142.9591,126.3189,150.6189,141.8259,151.1396,140.6381 M151.1396,140.6381 C151.6603,139.4503,144.5252,120.2003,144.4822,116.3493 M144.4822,116.3493 C144.4392,112.4983,149.4855,112.4871,150.8817,117.5322 M150.8817,117.5322 C152.278,122.5772,151.9696,145.2923,152.8596,146.6197 M152.8596,146.6197 C153.7496,147.947,154.5884,126.6338,156.2217,125.4964 M156.2217,125.4964 C157.8551,124.3589,161.9974,140.5473,162.6596,139.7949 M162.6596,139.7949 C163.3218,139.0425,160.8122,124.7948,160.1948,120.9821 M160.1948,120.9821 C159.5773,117.1693,158.0774,117.759,158.955,116.9184 M158.955,116.9184 C159.8326,116.0778,164.8258,114.3548,165.4602,115.9384 M165.4602,115.9384 C166.0947,117.5221,162.3472,123.2304,162.7618,126.4203 M162.7618,126.4203 C163.1764,129.6103,167.5469,134.5334,167.9479,135.0782 M167.9479,135.0782 C168.349,135.623,164.3679,131.351,165.1679,129.6893 M165.1679,129.6893 C165.968,128.0276,171.2113,127.0266,172.7481,125.1079 M172.7481,125.1079 C174.2849,123.1893,174.2634,115.4014,174.3887,118.1775 M174.3887,118.1775 C174.5141,120.9536,173.4223,139.1672,173.5002,141.7646 M173.5002,141.7646 C173.578,144.3619,173.3847,136.7492,174.8557,133.7615 M174.8557,133.7615 C176.3267,130.7739,181.3095,120.3373,182.3261,123.8384 M182.3261,123.8384 C183.3426,127.3396,180.261,153.2397,180.955,154.7687 M180.955,154.7687 C181.6491,156.2976,185.4309,135.9169,186.4903,133.0123 M186.4903,133.0123 C187.5498,130.1077,187.2447,140.0015,187.3118,137.3412 M187.3118,137.3412 C187.3789,134.6808,184.854,117.0113,186.8931,117.05 M186.8931,117.05 C188.9321,117.0887,196.7168,134.1386,199.5461,137.5735 M199.5461,137.5735 C202.3754,141.0083,202.6038,137.9891,203.8689,137.659 M203.8689,137.659 C205.1339,137.3289,208.7302,136.6771,207.1364,135.5927 M207.1364,135.5927 C205.5427,134.5084,194.5648,133.7268,194.3063,131.1528 M194.3063,131.1528 C194.0479,128.5788,203.8982,121.7248,205.5858,120.1486 M205.5858,120.1486 C207.2734,118.5723,203.6166,120.2723,204.432,121.6952 M204.432,121.6952 C205.2474,123.1181,208.1418,128.2746,210.4783,128.6859 M210.4783,128.6859 C212.8148,129.0972,217.9514,124.558,218.451,124.1632 M218.451,124.1632 C218.9506,123.7683,213.8063,125.2352,213.476,126.3167 M213.476,126.3167 C213.1457,127.3981,216.1812,131.5311,216.4689,130.6517 M216.4689,130.6517 C216.7567,129.7723,213.9944,122.2244,215.2024,121.0402 M215.2024,121.0402 C216.4104,119.856,223.3707,120.545,223.7171,123.5465 M223.7171,123.5465 C224.0636,126.5481,217.6609,136.3252,217.281,139.0496 M217.281,139.0496 C216.901,141.7739,220.1418,146.2007,221.4376,139.8926 M221.4376,139.8926 C222.7333,133.5845,223.9099,101.7548,225.0554,101.2009 M225.0554,101.2009 C226.2009,100.6469,226.9214,130.6483,228.3106,136.569 M228.3106,136.569 C229.6997,142.4897,233.0833,137.1879,233.3904,136.7251 M233.3904,136.7251 C233.6975,136.2624,230.3424,137.5966,230.1534,133.7925 M230.1534,133.7925 C229.9643,129.9883,229.6168,115.6462,232.2563,113.9002 M232.2563,113.9002 C234.8959,112.1542,243.8803,121.5362,245.9906,123.3164 M245.9906,123.3164 C248.1009,125.0965,245.3023,123.6045,244.9181,124.5812 M244.9181,124.5812 C244.534,125.5578,242.2942,128.6905,243.6857,129.1763 M243.6857,129.1763 C245.0772,129.662,251.0238,127.7903,253.2672,127.4956 M253.2672,127.4956 C255.5106,127.201,257.1033,129.912,257.1461,127.4085 M257.1461,127.4085 C257.189,124.9051,253.5627,111.3928,253.5244,112.4749 M253.5244,112.4749 C253.4862,113.5571,256.6351,132.1951,256.9164,133.9013 M256.9164,133.9013 C257.1977,135.6074,254.2812,123.6882,255.2123,122.7119 M255.2123,122.7119 C256.1433,121.7356,262.2495,130.9952,262.5027,128.0434 M262.5027,128.0434 C262.756,125.0915,255.722,105.3798,256.7317,105.0008 M256.7317,105.0008 C257.7415,104.6218,266.4716,120.6137,268.5614,125.7695 M268.5614,125.7695 C270.6513,130.9254,270.0453,134.1816,269.2708,135.9359 M269.2708,135.9359 C268.4964,137.6902,264.2203,137.2313,263.9148,136.2952 M263.9148,136.2952 C263.6093,135.3591,264.6969,133.0695,267.4377,130.3193 M267.4377,130.3193 C270.1785,127.5691,277.8049,118.4658,280.3595,119.794 M280.3595,119.794 C282.9141,121.1221,283.3961,134.8203,282.7653,138.288 M282.7653,138.288 C282.1345,141.7557,276.7366,139.4202,276.5746,140.6002 M276.5746,140.6002 C276.4126,141.7802,280.9215,148.6424,281.7933,145.368 M281.7933,145.368 C282.665,142.0935,282.6385,123.0015,281.8052,120.9536 M281.8052,120.9536 C280.9719,118.9057,275.2414,134.1989,276.7935,133.0804 M276.7935,133.0804 C278.3457,131.9619,288.6822,116.0051,291.118,114.2426 M291.118,114.2426 C293.5538,112.48,293.1767,119.2808,291.4085,122.5053 M291.4085,122.5053 C289.6404,125.7298,280.542,130.5731,280.509,133.5894 M280.509,133.5894 C280.476,136.6057,288.4329,140.3635,291.2106,140.6033 M291.2106,140.6033 C293.9883,140.8431,295.8452,137.9237,297.1752,135.0283 M297.1752,135.0283 C298.5051,132.1329,298.0666,123.942,299.1905,123.2309 M299.1905,123.2309 C300.3143,122.5197,302.654,128.8646,303.9183,130.7612 M303.9183,130.7612 C305.1827,132.6578,306.1454,134.7136,306.7767,134.6105 M306.7767,134.6105 C307.408,134.5075,308.3065,129.9652,307.7064,130.1429 M307.7064,130.1429 C307.1063,130.3205,301.3414,136.1433,303.1761,135.6765 M303.1761,135.6765 C305.0109,135.2096,316.617,127.8266,318.7149,127.3417 M318.7149,127.3417 C320.8129,126.8568,316.7887,130.5868,315.7638,132.7672 M315.7638,132.7672 C314.7389,134.9476,311.6261,140.5941,312.5655,140.4243 M312.5655,140.4243 C313.5049,140.2545,319.9934,133.7226,321.4004,131.7486 M321.4004,131.7486 C322.8075,129.7747,320.8134,129.7545,321.0078,128.5806 M321.0078,128.5806 C321.2022,127.4067,321.8602,125.2686,322.5669,124.7053 M322.5669,124.7053 C323.2737,124.1419,323.3503,121.6295,325.2483,125.2004 M325.2483,125.2004 C327.1463,128.7714,332.613,145.4749,333.9549,146.1309 M333.9549,146.1309 C335.2968,146.7869,333.4684,133.6294,333.2995,129.1364 M333.2995,129.1364 C333.1307,124.6434,332.2529,119.2717,332.9419,119.1729 M332.9419,119.1729 C333.631,119.0742,337.0168,127.5836,337.4338,128.5438 M337.4338,128.5438 C337.8508,129.504,335.543,125.4652,335.4438,124.9341 M335.4438,124.9341 C335.3447,124.403,335.5481,125.2488,336.8389,125.3572 M336.8389,125.3572 C338.1298,125.4657,342.4211,122.7346,343.189,125.5849 M343.189,125.5849 C343.9568,128.4352,340.6489,141.2406,341.4463,142.4592 M341.4463,142.4592 C342.2438,143.6778,347.4311,136.0299,347.9737,132.8966 M347.9737,132.8966 C348.5164,129.7632,342.869,122.8168,344.7022,123.659 M344.7022,123.659 C346.5354,124.5013,357.5819,137.3122,358.9729,137.9503 M358.9729,137.9503 C360.364,138.5884,352.9533,130.5086,353.0483,127.4877 M353.0483,127.4877 C353.1434,124.4669,358.8358,119.64,359.5435,119.8252 M359.5435,119.8252 C360.2512,120.0104,356.6156,128.0876,357.2947,128.599 M357.2947,128.599 C357.9738,129.1103,362.1418,122.8725,363.6181,122.8933 M363.6181,122.8933 C365.0943,122.914,365.9499,127.3044,366.1521,128.7235 M366.1521,128.7235 C366.3543,130.1426,363.8367,130.8275,364.8312,131.408 M364.8312,131.408 C365.8257,131.9886,370.5036,134.9414,372.1189,132.2068 M372.1189,132.2068 C373.7342,129.4722,374.7887,115.5164,374.5227,115.0004 M374.5227,115.0004 C374.2568,114.4844,371.5473,123.7713,370.523,129.1107 M370.523,129.1107 C369.4986,134.4501,368.369,148.5177,368.3767,147.0366 M368.3767,147.0366 C368.3843,145.5555,369.7889,123.746,370.5689,120.2239 M370.5689,120.2239 C371.3489,116.7019,370.986,123.6766,373.0565,125.9042 M373.0565,125.9042 C375.1269,128.1319,380.0188,134.0821,382.9915,133.5897 M382.9915,133.5897 C385.9642,133.0972,390.6489,120.4051,390.8928,122.9497 M390.8928,122.9497 C391.1367,125.4942,384.5789,146.9416,384.4548,148.8572 M384.4548,148.8572 C384.3307,150.7729,388.7708,139.1517,390.1484,134.4436 M390.1484,134.4436 C391.5259,129.7354,391.5833,122.0746,392.7204,120.6082 M392.7204,120.6082 C393.8574,119.1417,395.9684,123.1604,396.9707,125.6449 M396.9707,125.6449 C397.9731,128.1294,398.1321,135.4486,398.7345,135.5151 M398.7345,135.5151 C399.337,135.5817,400.2565,124.9081,400.5855,126.0443 M400.5855,126.0443 C400.9145,127.1805,399.8837,141.1453,400.7087,142.3324 M400.7087,142.3324 C401.5336,143.5195,403.12,136.9719,405.535,133.167 M405.535,133.167 C407.95,129.3621,415.5978,119.601,415.1988,119.5031 M415.1988,119.5031 C414.7998,119.4053,402.8309,129.9292,403.1409,132.5801 M403.1409,132.5801 C403.4509,135.231,415.3857,138.5127,417.059,135.4087 M417.059,135.4087 C418.7322,132.3046,412.4783,114.6674,413.1806,113.9556 M413.1806,113.9556 C413.883,113.2437,420.8735,127.8396,421.2728,131.1377 M421.2728,131.1377 C421.6722,134.4359,416.2992,135.1879,415.5765,133.7447 M415.5765,133.7447 C414.8538,132.3015,415.3284,121.8922,416.9366,122.4785 M416.9366,122.4785 C418.5449,123.0647,423.4383,136.3313,425.2261,137.2621 M425.2261,137.2621 C427.0138,138.1928,426.6921,128.8749,427.6634,128.0629 M427.6634,128.0629 C428.6346,127.251,430.3421,130.5644,431.0533,132.3903 M431.0533,132.3903 C431.7644,134.2162,430.9657,141.4308,431.9302,139.0185 M431.9302,139.0185 C432.8947,136.6063,435.5315,119.8842,436.8401,117.917 M436.8401,117.917 C438.1487,115.9498,439.4537,123.5678,439.7819,127.2153 M439.7819,127.2153 C440.11,130.8629,438.8362,138.3057,438.8091,139.802 M438.8091,139.802 C438.782,141.2983,437.9955,137.1098,439.6195,136.193 M439.6195,136.193 C441.2436,135.2763,447.2451,137.4186,448.5534,134.3014 M448.5534,134.3014 C449.8618,131.1841,447.2071,117.0968,447.4696,117.4893 M447.4696,117.4893 C447.7321,117.8819,450.5748,135.0467,450.1282,136.6567 M450.1282,136.6567 C449.6815,138.2668,443.9946,128.1011,444.7898,127.1496 M444.7898,127.1496 C445.585,126.198,453.4817,131.1668,454.8995,130.9472 M454.8995,130.9472 C456.3172,130.7277,452.4915,126.1654,453.2962,125.832 M453.2962,125.832 C454.1009,125.4987,459.4431,128.9942,459.7276,128.9471 M459.7276,128.9471 C460.012,128.9,454.1775,122.7732,455.0027,125.5496 M455.0027,125.5496 C455.8279,128.3261,462.9931,144.535,464.6789,145.606 M464.6789,145.606 C466.3646,146.6769,464.961,135.4268,465.1173,131.9754 M465.1173,131.9754 C465.2735,128.5241,464.5081,127.7559,465.6162,124.8978 M465.6162,124.8978 C466.7244,122.0398,472.1821,114.3666,471.7662,114.8273 M471.7662,114.8273 C471.3503,115.288,462.598,124.8008,463.121,127.6619 M463.121,127.6619 C463.6441,130.5231,471.5941,130.8978,474.9046,131.994 M474.9046,131.994 C478.2151,133.0902,483.6733,133.5004,482.9843,134.239 M482.9843,134.239 C482.2952,134.9775,470.9757,138.264,470.7702,136.4254 M470.7702,136.4254 C470.5648,134.5869,479.401,124.8999,481.7516,123.2078 M481.7516,123.2078 C484.1022,121.5156,483.5851,125.5307,484.8736,126.2726 M484.8736,126.2726 C486.1621,127.0146,490.1036,126.1834,489.4828,127.6594 M489.4828,127.6594 C488.862,129.1355,479.4465,135.27,481.1488,135.1292 M481.1488,135.1292 C482.851,134.9883,497.5366,126.7764,499.6963,126.8143 M499.6963,126.8143 C501.856,126.8522,495.0604,134.89,494.1071,135.3565 M494.1071,135.3565 C493.1538,135.8231,492.998,130.2904,493.9764,129.6135 M493.9764,129.6135 C494.9548,128.9365,500.364,133.246,499.9774,131.2947 M499.9774,131.2947 C499.5908,129.3433,490.477,118.4211,491.6566,117.9056 M491.6566,117.9056 C492.8361,117.3901,504.6921,125.8226,507.0548,128.2016 M507.0548,128.2016 C509.4174,130.5805,506.0434,135.4759,505.8324,132.1793 M505.8324,132.1793 C505.6215,128.8827,505.4614,108.1498,505.7891,108.4221 M505.7891,108.4221 C506.1169,108.6944,506.1767,130.189,507.799,133.8132 M507.799,133.8132 C509.4213,137.4374,515.0098,133.5009,515.5227,130.1672 M515.5227,130.1672 C516.0356,126.8336,510.2111,116.0984,510.8764,113.8113 M510.8764,113.8113 C511.5417,111.5241,518.1611,112.4516,519.5144,116.4445 M519.5144,116.4445 C520.8678,120.4373,519.3974,136.676,518.9965,137.7685 M518.9965,137.7685 C518.5956,138.8611,516.214,126.2623,517.1091,122.9997 M517.1091,122.9997 C518.0041,119.7371,522.4098,118.0895,524.3668,118.193 M524.3668,118.193 C526.3237,118.2964,528.2632,121.7976,528.8508,123.6204 M528.8508,123.6204 C529.4384,125.4433,526.9408,129.9863,527.8924,129.1298 M527.8924,129.1298 C528.8439,128.2733,533.3383,117.7519,534.5601,118.4816 M534.5601,118.4816 C535.7818,119.2113,535.5219,131.9643,535.223,133.5078\" fill=\"none\" stroke=\"rgba(0,0,0,1)\" stroke-width=\"2\" stroke-miterlimit=\"10\"/>\n",
       "<path d=\"M32.939,169.2523 C32.9831,171.9236,30.1658,172.9154,30.7951,171.4763 M30.7951,171.4763 C31.4245,170.0373,34.6215,164.0817,36.715,160.6181 M36.715,160.6181 C38.8086,157.1546,43.1295,150.7557,43.3563,150.6951 M43.3563,150.6951 C43.5832,150.6344,38.447,155.7249,38.0762,160.2542 M38.0762,160.2542 C37.7053,164.7836,40.1636,175.4373,41.1312,177.8712 M41.1312,177.8712 C42.0988,180.3051,41.9644,176.7997,43.8817,174.8574 M43.8817,174.8574 C45.799,172.915,51.5122,168.6184,52.635,166.217 M52.635,166.217 C53.7577,163.8157,51.2845,161.1187,50.6181,160.4492 M50.6181,160.4492 C49.9517,159.7798,49.2474,161.6558,48.6366,162.2003 M48.6366,162.2003 C48.0259,162.7448,45.4294,161.8961,46.9536,163.7163 M46.9536,163.7163 C48.4777,165.5366,55.5543,173.3484,57.7815,173.122 M57.7815,173.122 C60.0087,172.8956,59.2589,164.3945,60.3169,162.3577 M60.3169,162.3577 C61.3749,160.321,64.4677,159.5429,64.1294,160.9015 M64.1294,160.9015 C63.7911,162.26,58.1142,168.6064,58.2869,170.5091 M58.2869,170.5091 C58.4596,172.4117,64.0616,172.0584,65.1655,172.3172 M65.1655,172.3172 C66.2693,172.576,64.3501,176.2333,64.9098,172.062 M64.9098,172.062 C65.4696,167.8906,67.9144,146.1223,68.524,147.2891 M68.524,147.2891 C69.1337,148.4558,67.1701,177.7501,68.5678,179.0624 M68.5678,179.0624 C69.9655,180.3748,76.3803,159.3328,76.9103,155.1634 M76.9103,155.1634 C77.4404,150.994,71.3741,153.6839,71.7481,154.046 M71.7481,154.046 C72.1221,154.4081,77.2337,155.5619,79.1542,157.3358 M79.1542,157.3358 C81.0747,159.1097,83.4226,162.3986,83.2712,164.6894 M83.2712,164.6894 C83.1197,166.9801,77.7316,172.4998,78.2453,171.0802 M78.2453,171.0802 C78.759,169.6606,84.0692,158.7873,86.3536,156.1716 M86.3536,156.1716 C88.6381,153.5559,90.6687,154.7421,91.952,155.386 M91.952,155.386 C93.2352,156.0299,94.5255,158.8965,94.0534,160.035 M94.0534,160.035 C93.5812,161.1735,88.0015,161.9254,89.1191,162.2169 M89.1191,162.2169 C90.2367,162.5085,99.6746,160.9482,100.759,161.7845 M100.759,161.7845 C101.8435,162.6207,96.2373,166.3516,95.626,167.2345 M95.626,167.2345 C95.0147,168.1175,96.0725,168.1405,97.0915,167.0819 M97.0915,167.0819 C98.1104,166.0234,100.514,159.4984,101.7396,160.8833 M101.7396,160.8833 C102.9652,162.2681,103.3411,176.6215,104.4449,175.391 M104.4449,175.391 C105.5488,174.1605,107.777,155.1044,108.363,153.5002 M108.363,153.5002 C108.949,151.8959,107.8733,163.3762,107.9609,165.7657 M107.9609,165.7657 C108.0484,168.1551,107.9196,168.0444,108.8885,167.8371 M108.8885,167.8371 C109.8574,167.6297,113.0144,162.793,113.7742,164.5214 M113.7742,164.5214 C114.5341,166.2498,113.0279,179.675,113.4476,178.2075 M113.4476,178.2075 C113.8673,176.7399,115.152,161.61,116.2924,155.7161 M116.2924,155.7161 C117.4329,149.8221,118.2491,140.8262,120.2902,142.8437 M120.2902,142.8437 C122.3312,144.8612,126.7552,164.4867,128.5388,167.8211 M128.5388,167.8211 C130.3225,171.1555,131.0644,162.993,130.9922,162.8503 M130.9922,162.8503 C130.9201,162.7075,128.0759,167.9991,128.1058,166.9646 M128.1058,166.9646 C128.1356,165.9302,131.0224,161.1066,131.1715,156.6437 M131.1715,156.6437 C131.3205,152.1808,128.4582,137.9451,129,140.1872 M129,140.1872 C129.5418,142.4294,132.9581,167.985,134.4222,170.0968 M134.4222,170.0968 C135.8862,172.2086,136.5713,155.9039,137.7843,152.8583 M137.7843,152.8583 C138.9974,149.8127,140.5538,149.5054,141.7005,151.8232 M141.7005,151.8232 C142.8471,154.1411,144.2333,164.2995,144.6642,166.7655 M144.6642,166.7655 C145.0952,169.2315,144.128,167.9914,144.2862,166.6193 M144.2862,166.6193 C144.4445,165.2472,145.4487,158.3861,145.6138,158.5327 M145.6138,158.5327 C145.7788,158.6793,144.9909,168.4003,145.2765,167.4992 M145.2765,167.4992 C145.5621,166.5981,146.0002,154.4334,147.3273,153.1261 M147.3273,153.1261 C148.6545,151.8188,152.4088,161.521,153.2391,159.6555 M153.2391,159.6555 C154.0695,157.7899,151.4642,142.7529,152.3096,141.933 M152.3096,141.933 C153.155,141.1131,157.239,151.0418,158.3114,154.7361 M158.3114,154.7361 C159.3838,158.4303,157.9874,163.5941,158.7437,164.0985 M158.7437,164.0985 C159.5,164.6029,162.3062,160.1611,162.8492,157.7624 M162.8492,157.7624 C163.3921,155.3637,161.3307,151.0917,162.0015,149.7064 M162.0015,149.7064 C162.6723,148.321,165.1,146.1019,166.8742,149.4506 M166.8742,149.4506 C168.6483,152.7992,172.7796,168.6786,172.6463,169.7981 M172.6463,169.7981 C172.5131,170.9177,165.1701,156.5461,166.0748,156.1679 M166.0748,156.1679 C166.9795,155.7898,176.3032,166.6192,178.0744,167.5293 M178.0744,167.5293 C179.8456,168.4394,176.6281,162.3543,176.702,161.6286 M176.702,161.6286 C176.7758,160.9029,177.7495,161.0303,178.5174,163.1752 M178.5174,163.1752 C179.2854,165.3201,180.2592,174.3964,181.3097,174.498 M181.3097,174.498 C182.3602,174.5996,184.3695,166.621,184.8205,163.7847 M184.8205,163.7847 C185.2715,160.9483,183.4905,157.8962,184.0157,157.48 M184.0157,157.48 C184.5409,157.0638,186.2491,162.7531,187.9719,161.2874 M187.9719,161.2874 C189.6946,159.8217,194.1141,147.7408,194.3524,148.6857 M194.3524,148.6857 C194.5906,149.6306,189.9741,163.7694,189.4015,166.9567 M189.4015,166.9567 C188.8288,170.144,189.9831,170.081,190.9163,167.8095 M190.9163,167.8095 C191.8496,165.538,194.3557,153.9259,195.001,153.3275 M195.001,153.3275 C195.6462,152.7291,194.6684,162.8495,194.788,164.219 M194.788,164.219 C194.9077,165.5885,193.9082,161.1696,195.7189,161.5443 M195.7189,161.5443 C197.5295,161.9191,204.5274,167.5511,205.6519,166.4674 M205.6519,166.4674 C206.7764,165.3837,202.1095,155.7506,202.4658,155.0421 M202.4658,155.0421 C202.8221,154.3336,207.0481,163.1386,207.7897,162.2162 M207.7897,162.2162 C208.5314,161.2938,205.613,148.2913,206.9155,149.5076 M206.9155,149.5076 C208.2181,150.7239,213.4581,166.3635,215.6051,169.514 M215.6051,169.514 C217.752,172.6645,218.7193,169.0564,219.7972,168.4107 M219.7972,168.4107 C220.8752,167.765,221.3077,165.4361,222.0729,165.6399 M222.0729,165.6399 C222.838,165.8437,225.0503,174.4675,224.3879,169.6337 M224.3879,169.6337 C223.7256,164.7999,218.6751,135.6297,218.0986,136.6371 M218.0986,136.6371 C217.5222,137.6444,219.8225,175.1906,220.9293,175.6777 M220.9293,175.6777 C222.036,176.1648,222.4819,145.238,224.7393,139.5597 M224.7393,139.5597 C226.9967,133.8813,233.0369,142.3827,234.4734,141.6077 M234.4734,141.6077 C235.9099,140.8327,234.121,131.6924,233.3583,134.9096 M233.3583,134.9096 C232.5957,138.1268,230.0448,155.6341,229.8976,160.9111 M229.8976,160.9111 C229.7504,166.1881,230.4422,165.6521,232.4751,166.5715 M232.4751,166.5715 C234.5079,167.4909,241.1728,166.2282,242.0946,166.4277 M242.0946,166.4277 C243.0164,166.6272,237.5824,169.828,238.0056,167.7683 M238.0056,167.7683 C238.4288,165.7087,243.2218,155.1925,244.6338,154.0699 M244.6338,154.0699 C246.0458,152.9473,245.318,159.1542,246.4778,161.0328 M246.4778,161.0328 C247.6376,162.9115,252.8928,163.3936,251.5927,165.3418 M251.5927,165.3418 C250.2926,167.29,238.3969,176.2535,238.6769,172.7219 M238.6769,172.7219 C238.9569,169.1903,250.8578,145.4469,253.2728,144.1521 M253.2728,144.1521 C255.6878,142.8573,253.2103,162.776,253.167,164.9529 M253.167,164.9529 C253.1237,167.1299,251.2969,157.1686,253.0131,157.2139 M253.0131,157.2139 C254.7292,157.2592,262.4822,163.4549,263.4638,165.2247 M263.4638,165.2247 C264.4455,166.9945,258.2015,169.8304,258.9028,167.8327 M258.9028,167.8327 C259.6042,165.835,266.4833,152.5236,267.6719,153.2386 M267.6719,153.2386 C268.8605,153.9535,265.9634,171.4023,266.0344,172.1222 M266.0344,172.1222 C266.1055,172.8421,267.3916,157.3905,268.0981,157.558 M268.0981,157.558 C268.8046,157.7255,268.6654,173.1225,270.2734,173.1274 M270.2734,173.1274 C271.8814,173.1323,277.2879,160.8698,277.7461,157.5874 M277.7461,157.5874 C278.2042,154.305,273.7933,152.6554,273.0223,153.433 M273.0223,153.433 C272.2513,154.2105,272.0121,158.9497,273.1202,162.2527 M273.1202,162.2527 C274.2282,165.5557,279.1697,172.6561,279.6708,173.2511 M279.6708,173.2511 C280.1719,173.8461,276.2265,168.1097,276.1269,165.8227 M276.1269,165.8227 C276.0273,163.5358,277.4819,158.9478,279.0731,159.5295 M279.0731,159.5295 C280.6642,160.1112,284.4249,171.5723,285.6738,169.3129 M285.6738,169.3129 C286.9227,167.0534,285.9373,145.9242,286.5663,145.9726 M286.5663,145.9726 C287.1952,146.0211,287.1827,168.3369,289.4476,169.6037 M289.4476,169.6037 C291.7125,170.8705,300.1462,154.111,300.1556,153.5735 M300.1556,153.5735 C300.165,153.0359,290.4219,165.708,289.5039,166.3784 M289.5039,166.3784 C288.586,167.0487,293.0918,156.2829,294.648,157.5956 M294.648,157.5956 C296.2041,158.9083,297.1465,174.4414,298.8407,174.2545 M298.8407,174.2545 C300.5348,174.0676,303.5502,159.0352,304.8127,156.4743 M304.8127,156.4743 C306.0753,153.9133,305.2548,156.9402,306.416,158.8888 M306.416,158.8888 C307.5772,160.8374,310.879,168.9701,311.7798,168.1658 M311.7798,168.1658 C312.6805,167.3615,311.9042,156.6089,311.8203,154.0629 M311.8203,154.0629 C311.7364,151.517,311.0002,152.3958,311.2764,152.8901 M311.2764,152.8901 C311.5526,153.3844,312.5914,155.4078,313.4776,157.0286 M313.4776,157.0286 C314.3638,158.6493,315.8345,159.5259,316.5937,162.6145 M316.5937,162.6145 C317.3529,165.703,317.8034,175.3163,318.0328,175.5598 M318.0328,175.5598 C318.2622,175.8034,315.7814,165.0189,317.9699,164.0755 M317.9699,164.0755 C320.1584,163.1321,329.8491,168.8955,331.1638,169.8993 M331.1638,169.8993 C332.4784,170.9031,326.2963,171.5794,325.858,170.0983 M325.858,170.0983 C325.4197,168.6172,327.4302,161.9509,328.534,161.0127 M328.534,161.0127 C329.6378,160.0745,331.2777,164.6771,332.4807,164.469 M332.4807,164.469 C333.6836,164.261,335.394,161.6948,335.7518,159.7643 M335.7518,159.7643 C336.1096,157.8338,334.3179,153.1132,334.6276,152.8861 M334.6276,152.8861 C334.9373,152.6589,337.1864,158.2127,337.6099,158.4014 M337.6099,158.4014 C338.0335,158.5901,336.2774,153.3543,337.169,154.0182 M337.169,154.0182 C338.0605,154.682,341.416,160.3303,342.9592,162.3845 M342.9592,162.3845 C344.5025,164.4386,345.3486,168.41,346.4284,166.343 M346.4284,166.343 C347.5083,164.2761,349.2533,149.9022,349.4382,149.9826 M349.4382,149.9826 C349.623,150.0631,347.0575,162.9468,347.5374,166.8256 M347.5374,166.8256 C348.0174,170.7044,351.9151,174.4506,352.3177,173.2557 M352.3177,173.2557 C352.7204,172.0607,349.3301,161.9562,349.9534,159.6557 M349.9534,159.6557 C350.5767,157.3552,354.5445,159.8924,356.0573,159.4525 M356.0573,159.4525 C357.5702,159.0127,358.0594,158.7738,359.0303,157.0167 M359.0303,157.0167 C360.0013,155.2595,360.7872,147.2338,361.8828,148.9096 M361.8828,148.9096 C362.9783,150.5854,365.822,164.6318,365.6035,167.0715 M365.6035,167.0715 C365.3851,169.5113,359.9335,162.9122,360.5719,163.548 M360.5719,163.548 C361.2102,164.1838,367.6695,171.9564,369.4337,170.8863 M369.4337,170.8863 C371.1978,169.8163,370.7339,157.0591,371.1567,157.1278 M371.1567,157.1278 C371.5794,157.1964,371.8441,171.3971,371.9701,171.2981 M371.9701,171.2981 C372.0961,171.1991,369.6619,159.1943,371.9126,156.5339 M371.9126,156.5339 C374.1634,153.8736,385.2259,158.5776,385.4748,155.336 M385.4748,155.336 C385.7238,152.0943,373.7561,133.9125,373.4064,137.0841 M373.4064,137.0841 C373.0568,140.2558,381.7595,170.7214,383.3769,174.3658 M383.3769,174.3658 C384.9943,178.0102,381.5918,160.61,383.111,158.9503 M383.111,158.9503 C384.6301,157.2906,392.7454,165.8951,392.4917,164.4074 M392.4917,164.4074 C392.2381,162.9198,381.8715,152.3494,381.5891,150.0244 M381.5891,150.0244 C381.3067,147.6994,388.4107,150.2119,390.7971,150.4575 M390.7971,150.4575 C393.1836,150.7031,394.2976,149.9713,395.9078,151.4979 M395.9078,151.4979 C397.5179,153.0246,400.343,160.4574,400.4578,159.6175 M400.4578,159.6175 C400.5727,158.7777,397.0021,145.9235,396.5969,146.4588 M396.5969,146.4588 C396.1917,146.9942,397.1702,161.6476,398.0267,162.8297 M398.0267,162.8297 C398.8831,164.0117,400.7495,154.1189,401.7353,153.5511 M401.7353,153.5511 C402.7212,152.9833,403.8572,159.4698,403.9416,159.4229 M403.9416,159.4229 C404.0261,159.3761,400.957,151.8373,402.2422,153.27 M402.2422,153.27 C403.5273,154.7027,410.4693,166.6516,411.6524,168.0192 M411.6524,168.0192 C412.8356,169.3868,409.8948,164.3202,409.341,161.4758 M409.341,161.4758 C408.7872,158.6313,406.9428,149.2388,408.3296,150.9527 M408.3296,150.9527 C409.7164,152.6667,416.2213,169.524,417.662,171.7595 M417.662,171.7595 C419.1026,173.995,416.8128,166.6158,416.9733,164.3658 M416.9733,164.3658 C417.1339,162.1157,416.6737,161.0252,418.6252,158.2593 M418.6252,158.2593 C420.5768,155.4935,428.0966,146.8334,428.6825,147.7706 M428.6825,147.7706 C429.2685,148.7077,422.4462,159.9432,422.1409,163.8822 M422.1409,163.8822 C421.8356,167.8211,424.5321,170.3968,426.8507,171.4041 M426.8507,171.4041 C429.1693,172.4113,436.1315,171.2945,436.0527,169.9255 M436.0527,169.9255 C435.9738,168.5565,427.5044,164.435,426.3776,163.19 M426.3776,163.19 C425.2508,161.9449,427.0021,162.0571,429.2918,162.4555 M429.2918,162.4555 C431.5815,162.8538,437.7649,168.0393,440.1161,165.5799 M440.1161,165.5799 C442.4672,163.1205,442.6491,147.3217,443.3985,147.6989 M443.3985,147.6989 C444.1479,148.0761,445.693,165.2725,444.6123,167.8433 M444.6123,167.8433 C443.5317,170.4141,437.1142,165.2501,436.9146,163.1236 M436.9146,163.1236 C436.7151,160.9972,441.1389,153.8124,443.4151,155.0846 M443.4151,155.0846 C445.6913,156.3568,450.1157,171.409,450.5718,170.7568 M450.5718,170.7568 C451.0278,170.1047,445.3151,153.144,446.1515,151.1715 M446.1515,151.1715 C446.9879,149.1989,453.7732,158.1164,455.5904,158.9215 M455.5904,158.9215 C457.4076,159.7266,457.1647,155.7236,457.0546,156.0024 M457.0546,156.0024 C456.9444,156.2811,453.7841,160.6108,454.9295,160.5938 M454.9295,160.5938 C456.0748,160.5768,462.3866,155.7486,463.9266,155.9006 M463.9266,155.9006 C465.4666,156.0527,464.9009,161.2662,464.1695,161.5062 M464.1695,161.5062 C463.4381,161.7461,459.7618,157.9523,459.538,157.3402 M459.538,157.3402 C459.3141,156.7281,461.6719,158.801,462.8265,157.8334 M462.8265,157.8334 C463.9811,156.8658,465.0889,149.7782,466.4654,151.5346 M466.4654,151.5346 C467.8418,153.2909,470.1845,166.4578,471.0854,168.3714 M471.0854,168.3714 C471.9864,170.285,472.3147,164.2576,471.871,163.0163 M471.871,163.0163 C471.4274,161.7749,466.7532,164.0247,468.4237,160.9234 M468.4237,160.9234 C470.0942,157.8221,479.5371,145.562,481.894,144.4085 M481.894,144.4085 C484.251,143.255,482.1513,149.4177,482.5653,154.0023 M482.5653,154.0023 C482.9794,158.5869,484.9964,169.235,484.3782,171.916 M484.3782,171.916 C483.7599,174.5969,478.2247,172.4335,478.8558,170.0882 M478.8558,170.0882 C479.4869,167.7429,485.1682,160.3035,488.1649,157.8443 M488.1649,157.8443 C491.1617,155.385,495.9338,154.534,496.8364,155.3328 M496.8364,155.3328 C497.739,156.1316,493.5003,162.5707,493.5804,162.6371 M493.5804,162.6371 C493.6606,162.7036,496.6976,155.0567,497.3171,155.7314 M497.3171,155.7314 C497.9365,156.4061,496.4491,167.8746,497.2972,166.6855 M497.2972,166.6855 C498.1452,165.4965,501.9332,149.0468,502.4051,148.5972 M502.4051,148.5972 C502.8771,148.1477,501.2933,160.9856,500.129,163.9885 M500.129,163.9885 C498.9647,166.9914,495.0369,167.1833,495.4191,166.6147 M495.4191,166.6147 C495.8013,166.046,499.1439,162.5768,502.4221,160.5766 M502.4221,160.5766 C505.7003,158.5764,514.4064,151.9174,515.0882,154.6137 M515.0882,154.6137 C515.7699,157.31,506.7185,176.1485,506.5125,176.7544 M506.5125,176.7544 C506.3066,177.3603,512.4796,160.9618,513.8523,158.2491 M513.8523,158.2491 C515.225,155.5364,514.6483,160.2164,514.7486,160.478 M514.7486,160.478 C514.8489,160.7397,514.0174,155.9997,514.454,159.8191 M514.454,159.8191 C514.8905,163.6385,515.2499,183.1095,517.3677,183.3946 M517.3677,183.3946 C519.4856,183.6798,526.8157,165.671,527.1611,161.5299 M527.1611,161.5299 C527.5066,157.3887,518.9403,161.506,519.4405,158.5476 M519.4405,158.5476 C519.9407,155.5893,528.1748,146.358,530.1623,143.7798 M530.1623,143.7798 C532.1498,141.2016,531.3212,139.04,531.3654,143.0784 M531.3654,143.0784 C531.4095,147.1167,528.9406,164.2524,530.4271,168.0097 M530.4271,168.0097 C531.9136,171.767,539.5595,169.292,540.2842,165.6221\" fill=\"none\" stroke=\"rgba(0,0,0,1)\" stroke-width=\"2\" stroke-miterlimit=\"10\"/>\n",
       "<path d=\"M34.8627,203.487 C33.5364,199.4767,21.9684,184.6792,22.1413,185.0654 M22.1413,185.0654 C22.3143,185.4516,33.3483,204.476,35.9002,205.8043 M35.9002,205.8043 C38.4522,207.1326,36.9772,194.5996,37.4529,193.0353 M37.4529,193.0353 C37.9287,191.471,36.4296,194.5701,38.7546,196.4185 M38.7546,196.4185 C41.0797,198.2669,50.0575,204.088,51.4035,204.1257 M51.4035,204.1257 C52.7494,204.1635,46.2171,199.0093,46.8303,196.6449 M46.8303,196.6449 C47.4435,194.2804,54.6688,192.3926,55.0827,189.9388 M55.0827,189.9388 C55.4966,187.4851,49.0542,179.3964,49.3135,181.9223 M49.3135,181.9223 C49.5728,184.4482,55.647,202.1288,56.6385,205.0941 M56.6385,205.0941 C57.63,208.0595,54.2203,202.6602,55.2623,199.7144 M55.2623,199.7144 C56.3044,196.7686,61.7521,188.3845,62.8911,187.4194 M62.8911,187.4194 C64.03,186.4542,62.3551,190.3351,62.0958,193.9234 M62.0958,193.9234 C61.8365,197.5117,61.5514,208,61.3353,208.9494 M61.3353,208.9494 C61.1193,209.8988,60.1719,200.4928,60.7996,199.6198 M60.7996,199.6198 C61.4272,198.7468,63.0512,202.1525,65.1013,203.7116 M65.1013,203.7116 C67.1514,205.2708,72.1905,211.8424,73.1002,208.9747 M73.1002,208.9747 C74.0098,206.107,69.8695,190.8043,70.5592,186.5056 M70.5592,186.5056 C71.249,182.2068,75.2205,182.6981,77.2387,183.182 M77.2387,183.182 C79.2569,183.6658,82.0552,189.5601,82.6684,189.4087 M82.6684,189.4087 C83.2817,189.2574,81.5119,181.7837,80.9181,182.2739 M80.9181,182.2739 C80.3243,182.7642,78.2128,190.7286,79.1054,192.3501 M79.1054,192.3501 C79.998,193.9716,84.426,190.9509,86.2739,192.0028 M86.2739,192.0028 C88.1218,193.0548,88.8565,197.2655,90.1928,198.6619 M90.1928,198.6619 C91.5292,200.0583,92.009,199.0953,94.292,200.3812 M94.292,200.3812 C96.5751,201.6671,105.2881,203.9007,103.8913,206.3774 M103.8913,206.3774 C102.4945,208.854,86.7068,216.5933,85.9111,215.2412 M85.9111,215.2412 C85.1155,213.8892,95.9527,200.856,99.1173,198.2651 M99.1173,198.2651 C102.2819,195.6742,105.3363,197.8392,104.8988,199.6958 M104.8988,199.6958 C104.4613,201.5525,95.0281,210.8277,96.4923,209.4052 M96.4923,209.4052 C97.9566,207.9827,112.7199,193.3454,113.6843,191.1607 M113.6843,191.1607 C114.6488,188.976,102.9552,195.2054,102.2789,196.2969 M102.2789,196.2969 C101.6027,197.3885,107.332,199.066,109.6267,197.71 M109.6267,197.71 C111.9214,196.354,114.9546,187.5218,116.047,188.1608 M116.047,188.1608 C117.1395,188.7999,114.8621,201.6625,116.1813,201.5442 M116.1813,201.5442 C117.5006,201.426,121.2085,190.0636,123.9625,187.4514 M123.9625,187.4514 C126.7164,184.8392,132.5708,185.2928,132.7049,185.8711 M132.7049,185.8711 C132.8391,186.4494,125.9236,189.2286,124.7671,190.921 M124.7671,190.921 C123.6106,192.6134,124.7401,194.8254,125.7661,196.0255 M125.7661,196.0255 C126.7921,197.2257,129.7343,199.7494,130.9231,198.122 M130.9231,198.122 C132.1119,196.4946,132.0224,184.2946,132.8989,186.2612 M132.8989,186.2612 C133.7755,188.2278,134.6936,208.6794,136.1825,209.9216 M136.1825,209.9216 C137.6713,211.1638,141.2989,195.3668,141.8319,193.7145 M141.8319,193.7145 C142.3649,192.0622,139.2124,201.07,139.3805,200.0076 M139.3805,200.0076 C139.5485,198.9451,143.3207,187.1632,142.8401,187.3398 M142.8401,187.3398 C142.3595,187.5163,135.3448,200.7745,136.4967,201.0669 M136.4967,201.0669 C137.6485,201.3594,148.3457,191.3617,149.7513,189.0944 M149.7513,189.0944 C151.1569,186.8271,144.0211,185.6625,144.9303,187.4633 M144.9303,187.4633 C145.8394,189.264,153.5135,199.7242,155.2062,199.8988 M155.2062,199.8988 C156.8989,200.0734,155.1256,190.8578,155.0866,188.5109 M155.0866,188.5109 C155.0476,186.164,154.1936,183.1622,154.9723,185.8175 M154.9723,185.8175 C155.7509,188.4728,157.7894,203.6665,159.7586,204.4427 M159.7586,204.4427 C161.7278,205.2189,165.4251,191.0832,166.7875,190.4745 M166.7875,190.4745 C168.1498,189.8657,166.3928,202.2836,167.9328,200.79 M167.9328,200.79 C169.4728,199.2964,175.0157,184.9516,176.0276,181.5129 M176.0276,181.5129 C177.0394,178.0743,174.6382,177.7919,174.0039,180.1581 M174.0039,180.1581 C173.3695,182.5244,172.9365,191.1897,172.2216,195.7102 M172.2216,195.7102 C171.5067,200.2307,169.8529,208.202,169.7145,207.2811 M169.7145,207.2811 C169.5761,206.3602,168.8163,191.0847,171.3911,190.1849 M171.3911,190.1849 C173.9659,189.285,183.9085,202.3603,185.1635,201.8821 M185.1635,201.8821 C186.4185,201.4038,179.2999,189.9992,178.9211,187.3154 M178.9211,187.3154 C178.5423,184.6316,180.465,183.0997,182.8909,185.7795 M182.8909,185.7795 C185.3168,188.4593,191.2495,202.9135,193.4765,203.3942 M193.4765,203.3942 C195.7036,203.875,194.5629,189.6741,196.2531,188.6637 M196.2531,188.6637 C197.9433,187.6533,203.6814,194.6584,203.6175,197.3318 M203.6175,197.3318 C203.5536,200.0051,197.0029,201.7039,195.8699,204.7038 M195.8699,204.7038 C194.7368,207.7036,195.6493,216.2414,196.8191,215.3307 M196.8191,215.3307 C197.9889,214.4199,202.4089,203.9725,202.8887,199.2395 M202.8887,199.2395 C203.3685,194.5064,199.0882,189.9765,199.6981,186.9324 M199.6981,186.9324 C200.3079,183.8883,204.7086,179.7083,206.5479,180.9748 M206.5479,180.9748 C208.3872,182.2412,210.6841,191.0616,210.7338,194.5313 M210.7338,194.5313 C210.7835,198.001,205.6337,202.9903,206.846,201.7928 M206.846,201.7928 C208.0583,200.5952,216.9828,186.868,218.0077,187.3461 M218.0077,187.3461 C219.0325,187.8242,211.5032,199.6846,212.9953,204.6612 M212.9953,204.6612 C214.4875,209.6378,226.1075,216.8059,226.9606,217.2057 M226.9606,217.2057 C227.8136,217.6054,219.9155,212.7675,218.1137,207.0596 M218.1137,207.0596 C216.3119,201.3517,213.4694,185.3921,216.1498,182.9585 M216.1498,182.9585 C218.8302,180.5249,231.559,189.3079,234.1961,192.4579 M234.1961,192.4579 C236.8331,195.6079,232.9419,203.5397,231.9721,201.8585 M231.9721,201.8585 C231.0022,200.1773,225.96,185.2834,228.377,182.3707 M228.377,182.3707 C230.7941,179.4579,244.8668,182.9773,246.4745,184.382 M246.4745,184.382 C248.0822,185.7868,239.4161,189.4628,238.0233,190.7991 M238.0233,190.7991 C236.6305,192.1354,238.4193,194.8832,238.1176,192.3999 M238.1176,192.3999 C237.816,189.9166,236.4719,175.3862,236.2134,175.8992 M236.2134,175.8992 C235.955,176.4123,234.4477,192.5658,236.5666,195.4782 M236.5666,195.4782 C238.6856,198.3906,247.1347,192.7333,248.9269,193.3737 M248.9269,193.3737 C250.7191,194.0141,247.2031,197.4735,247.32,199.3206 M247.32,199.3206 C247.4368,201.1676,247.6122,203.4443,249.6281,204.4558 M249.6281,204.4558 C251.644,205.4674,258.6737,208.8503,259.4152,205.3899 M259.4152,205.3899 C260.1568,201.9295,253.6036,183.3961,254.0776,183.6934 M254.0776,183.6934 C254.5515,183.9908,260.5064,204.7685,262.2588,207.174 M262.2588,207.174 C264.0111,209.5795,263.7268,202.999,264.592,198.1264 M264.592,198.1264 C265.4572,193.2538,266.7104,178.1176,267.45,177.9383 M267.45,177.9383 C268.1895,177.759,268.3737,194.5004,269.0293,197.0506 M269.0293,197.0506 C269.6849,199.6008,271.8358,193.0751,271.3833,193.2393 M271.3833,193.2393 C270.9307,193.4035,264.6835,198.9967,266.314,198.0359 M266.314,198.0359 C267.9444,197.075,278.1461,188.3607,281.1662,187.4741 M281.1662,187.4741 C284.1863,186.5876,283.6177,191.6593,284.4347,192.7163 M284.4347,192.7163 C285.2517,193.7733,288.2759,193.6601,286.0681,193.816 M286.0681,193.816 C283.8602,193.9718,271.8011,193.7014,271.1874,193.6514 M271.1874,193.6514 C270.5736,193.6015,279.4566,189.8303,282.3857,193.5162 M282.3857,193.5162 C285.3147,197.2022,287.2452,213.9325,288.7615,215.7673 M288.7615,215.7673 C290.2778,217.602,290.3832,208.6899,291.4834,204.5247 M291.4834,204.5247 C292.5836,200.3594,294.1692,192.7992,295.3627,190.7758 M295.3627,190.7758 C296.5563,188.7524,298.6104,193.1858,298.6446,192.3842 M298.6446,192.3842 C298.6788,191.5826,295.1044,182.2625,295.5678,185.9663 M295.5678,185.9663 C296.0311,189.67,300.4017,214.7686,301.4246,214.6069 M301.4246,214.6069 C302.4474,214.4453,301.3501,186.0327,301.7046,184.9964 M301.7046,184.9964 C302.0592,183.96,302.9329,206.8922,303.5519,208.389 M303.5519,208.389 C304.1709,209.8859,304.3676,193.9198,305.4186,193.9774 M305.4186,193.9774 C306.4696,194.0349,307.4768,211.452,309.8578,208.7344 M309.8578,208.7344 C312.2389,206.0169,318.9548,179.7168,319.705,177.6719 M319.705,177.6719 C320.4551,175.6271,314.096,195.1837,314.3587,196.4651 M314.3587,196.4651 C314.6213,197.7465,318.7115,183.8734,321.2808,185.3602 M321.2808,185.3602 C323.8502,186.847,330.3364,202.5427,329.7749,205.386 M329.7749,205.386 C329.2135,208.2293,318.5985,203.3998,317.9123,202.4199 M317.9123,202.4199 C317.226,201.4399,324.0624,198.9236,325.6574,199.5063 M325.6574,199.5063 C327.2524,200.0889,326.6423,207.139,327.4825,205.9158 M327.4825,205.9158 C328.3227,204.6926,330.1515,193.6111,330.6985,192.1669 M330.6985,192.1669 C331.2455,190.7227,330.0547,196.7653,330.7645,197.2507 M330.7645,197.2507 C331.4743,197.736,333.8624,197.9372,334.9573,195.0788 M334.9573,195.0788 C336.0521,192.2203,335.3418,180.0533,337.3334,180.0998 M337.3334,180.0998 C339.325,180.1463,346.447,192.9242,346.9069,195.3578 M346.9069,195.3578 C347.3667,197.7915,339.464,194.7901,340.0924,194.7017 M340.0924,194.7017 C340.7208,194.6133,349.9561,196.4201,350.6773,194.8275 M350.6773,194.8275 C351.3986,193.2348,345.4277,182.3605,344.42,185.1459 M344.42,185.1459 C343.4122,187.9314,342.4821,209.0698,344.6309,211.5402 M344.6309,211.5402 C346.7796,214.0107,354.3369,203.7467,357.3126,199.9687 M357.3126,199.9687 C360.2883,196.1907,362.211,186.4574,362.485,188.872 M362.485,188.872 C362.7591,191.2867,360.0381,215.8227,358.9568,214.4567 M358.9568,214.4567 C357.8756,213.0906,354.9816,183.0298,355.9978,180.6757 M355.9978,180.6757 C357.014,178.3216,362.9783,196.4372,365.0538,200.3322 M365.0538,200.3322 C367.1293,204.2272,369.0485,202.4252,368.4507,204.0455 M368.4507,204.0455 C367.853,205.6658,360.7938,213.6015,361.4672,210.054 M361.4672,210.054 C362.1405,206.5065,370.7773,187.0762,372.4909,182.7603 M372.4909,182.7603 C374.2046,178.4445,370.4581,181.5707,371.7489,184.1591 M371.7489,184.1591 C373.0398,186.7476,379.2315,195.3869,380.2359,198.291 M380.2359,198.291 C381.2403,201.1951,377.8201,202.5633,377.7753,201.5839 M377.7753,201.5839 C377.7304,200.6045,379.3157,197.2163,379.9668,192.4145 M379.9668,192.4145 C380.6178,187.6127,380.086,171.3251,381.6815,172.7731 M381.6815,172.7731 C383.277,174.2211,388.8572,196.8493,389.5399,201.1025 M389.5399,201.1025 C390.2226,205.3557,385.7979,202.4788,385.7779,198.2923 M385.7779,198.2923 C385.7578,194.1058,389.9588,177.3224,389.4196,175.9835 M389.4196,175.9835 C388.8804,174.6445,380.4156,185.9132,382.5428,190.2587 M382.5428,190.2587 C384.6701,194.6042,398.8237,202.2428,402.183,202.0566 M402.183,202.0566 C405.5424,201.8704,402.6258,191.3781,402.6989,189.1414 M402.6989,189.1414 C402.7721,186.9046,402.548,186.0207,402.6217,188.6361 M402.6217,188.6361 C402.6954,191.2514,401.8715,203.7007,403.1411,204.8335 M403.1411,204.8335 C404.4107,205.9662,409.9695,196.8129,410.2395,195.4325 M410.2395,195.4325 C410.5095,194.0521,403.931,198.0246,404.7612,196.5511 M404.7612,196.5511 C405.5915,195.0776,414.0328,188.0385,415.2211,186.5917 M415.2211,186.5917 C416.4094,185.1449,413.032,187.3478,411.891,187.8703 M411.891,187.8703 C410.75,188.3928,407.8821,190.3248,408.375,189.7266 M408.375,189.7266 C408.8679,189.1284,412.6659,184.4576,414.8482,184.2811 M414.8482,184.2811 C417.0304,184.1046,419.8103,186.3669,421.4683,188.6673 M421.4683,188.6673 C423.1264,190.9677,423.1837,196.6424,424.7965,198.0836 M424.7965,198.0836 C426.4093,199.5247,430.0317,195.892,431.145,197.3143 M431.145,197.3143 C432.2583,198.7367,431.0729,205.4463,431.4764,206.6175 M431.4764,206.6175 C431.8799,207.7887,432.7374,207.5698,433.5657,204.3415 M433.5657,204.3415 C434.3941,201.1132,436.0049,187.9471,436.4463,187.2475 M436.4463,187.2475 C436.8878,186.5479,434.8403,198.8007,436.2144,200.1439 M436.2144,200.1439 C437.5885,201.4871,442.0477,197.5168,444.6911,195.3066 M444.6911,195.3066 C447.3344,193.0964,451.6139,186.7465,452.0746,186.8827 M452.0746,186.8827 C452.5353,187.0188,449.3039,196.5702,447.4554,196.1233 M447.4554,196.1233 C445.6068,195.6764,440.2437,185.4061,440.9831,184.2015 M440.9831,184.2015 C441.7226,182.9969,450.1339,187.6829,451.892,188.8957 M451.892,188.8957 C453.65,190.1086,451.094,191.3333,451.5315,191.4785 M451.5315,191.4785 C451.9691,191.6238,453.5247,188.2298,454.5172,189.7674 M454.5172,189.7674 C455.5096,191.3051,457.2834,199.4746,457.4864,200.7042 M457.4864,200.7042 C457.6893,201.9339,454.4416,197.658,455.7348,197.1454 M455.7348,197.1454 C457.0281,196.6327,463.449,197.3675,465.246,197.6284 M465.246,197.6284 C467.0431,197.8892,466.3733,199.5141,466.5173,198.7105 M466.5173,198.7105 C466.6614,197.9069,465.552,192.4603,466.1103,192.8068 M466.1103,192.8068 C466.6686,193.1533,470.2976,200.0507,469.8672,200.7894 M469.8672,200.7894 C469.4368,201.528,462.6232,197.8345,463.528,197.2387 M463.528,197.2387 C464.4327,196.6429,473.5346,198.2185,475.2956,197.2145 M475.2956,197.2145 C477.0565,196.2106,472.9154,191.3375,474.0939,191.2152 M474.0939,191.2152 C475.2723,191.0929,481.1651,198.3462,482.3664,196.4809 M482.3664,196.4809 C483.5678,194.6157,479.7992,181.5566,481.3019,180.0236 M481.3019,180.0236 C482.8045,178.4905,490.0461,185.6601,491.3824,187.2827 M491.3824,187.2827 C492.7188,188.9053,489.2595,187.4967,489.3199,189.7592 M489.3199,189.7592 C489.3803,192.0217,491.0358,198.1931,491.745,200.8576 M491.745,200.8576 C492.4541,203.5221,493.0725,207.2483,493.575,205.7461 M493.575,205.7461 C494.0775,204.2439,494.1704,191.8178,494.7601,191.8444 M494.7601,191.8444 C495.3497,191.8709,495.8763,204.9678,497.1129,205.9054 M497.1129,205.9054 C498.3496,206.8429,500.3437,198.8413,502.18,197.4697 M502.18,197.4697 C504.0163,196.0982,507.5107,197.3884,508.1307,197.6762 M508.1307,197.6762 C508.7507,197.9641,505.4579,201.7756,505.8999,199.1969 M505.8999,199.1969 C506.342,196.6183,509.5871,182.7407,510.783,182.2044 M510.783,182.2044 C511.9789,181.6681,513.3212,191.6814,513.0753,195.9792 M513.0753,195.9792 C512.8293,200.2771,508.701,207.8133,509.3072,207.9916 M509.3072,207.9916 C509.9134,208.17,515.4147,198.2437,516.7126,197.0494 M516.7126,197.0494 C518.0105,195.855,516.1277,201.3608,517.0947,200.8256 M517.0947,200.8256 C518.0617,200.2905,522.0453,194.0946,522.5147,193.8386 M522.5147,193.8386 C522.984,193.5825,517.7042,196.4993,519.9108,199.2894 M519.9108,199.2894 C522.1174,202.0796,534.355,210.1611,535.7544,210.5793 M535.7544,210.5793 C537.1538,210.9975,528.8769,205.473,528.3072,201.7987 M528.3072,201.7987 C527.7375,198.1243,531.1782,190.9794,532.336,188.5332 M532.336,188.5332 C533.4939,186.087,535.2156,184.691,535.2543,187.1217\" fill=\"none\" stroke=\"rgba(0,0,0,1)\" stroke-width=\"2\" stroke-miterlimit=\"10\"/>\n",
       "<path d=\"M36.963,213.3746 C35.5982,211.3427,29.2383,226.1811,29.4536,230.6801 M29.4536,230.6801 C29.6689,235.1791,37.2218,243.5187,38.2549,240.3685 M38.2549,240.3685 C39.288,237.2183,34.8233,213.5083,35.6522,211.7789 M35.6522,211.7789 C36.4811,210.0495,42.268,228.9567,43.2283,229.9922 M43.2283,229.9922 C44.1886,231.0276,41.1629,215.8825,41.4138,217.9915 M41.4138,217.9915 C41.6647,220.1006,42.7602,242.9416,44.7339,242.6464 M44.7339,242.6464 C46.7077,242.3513,51.2115,218.1361,53.2562,216.2207 M53.2562,216.2207 C55.3009,214.3054,57.0552,229.8025,57.002,231.1542 M57.002,231.1542 C56.9488,232.5059,53.4004,222.8192,52.937,224.331 M52.937,224.331 C52.4737,225.8428,53.5546,242.9771,54.2219,240.2251 M54.2219,240.2251 C54.8892,237.4731,55.8669,208.1463,56.9407,207.8192 M56.9407,207.8192 C58.0144,207.492,58.1077,235.7666,60.6644,238.2623 M60.6644,238.2623 C63.2211,240.758,70.8644,222.7762,72.2809,222.7933 M72.2809,222.7933 C73.6974,222.8104,68.6094,237.7017,69.1636,238.3649 M69.1636,238.3649 C69.7178,239.0282,74.3779,227.9779,75.606,226.7727 M75.606,226.7727 C76.8341,225.5676,76.7124,228.0649,76.5324,231.1341 M76.5324,231.1341 C76.3523,234.2032,74.6381,245.2258,74.5256,245.1876 M74.5256,245.1876 C74.4131,245.1493,73.2346,232.5922,75.8572,230.9047 M75.8572,230.9047 C78.4797,229.2173,85.8558,237.0069,90.261,235.0629 M90.261,235.0629 C94.6662,233.1188,102.1981,221.4839,102.2886,219.2403 M102.2886,219.2403 C102.379,216.9968,92.3965,218.2143,90.8039,221.6017 M90.8039,221.6017 C89.2113,224.9892,92.8305,237.0581,92.7331,239.5649 M92.7331,239.5649 C92.6357,242.0717,89.5363,237.178,90.2194,236.6426 M90.2194,236.6426 C90.9025,236.1072,94.1178,239.1427,96.8317,236.3525 M96.8317,236.3525 C99.5456,233.5623,105.4773,219.5488,106.5029,219.9014 M106.5029,219.9014 C107.5285,220.2541,102.7175,238.2042,102.9851,238.4683 M102.9851,238.4683 C103.2527,238.7324,108.1209,225.3525,108.1084,221.4859 M108.1084,221.4859 C108.0959,217.6194,102.897,213.4496,102.91,215.2689 M102.91,215.2689 C102.9229,217.0883,106.5334,230.2537,108.1861,232.4021 M108.1861,232.4021 C109.8389,234.5505,111.3008,230.7546,112.8263,228.1592 M112.8263,228.1592 C114.3518,225.5638,116.6995,219.1077,117.3392,216.8299 M117.3392,216.8299 C117.979,214.5522,115.0757,214.8329,116.6648,214.4927 M116.6648,214.4927 C118.254,214.1525,125.8293,213.7661,126.8739,214.7886 M126.8739,214.7886 C127.9185,215.8111,123.5773,216.249,122.9325,220.6277 M122.9325,220.6277 C122.2876,225.0065,123.3493,238.1282,123.0048,241.0611 M123.0048,241.0611 C122.6603,243.994,122.076,242.5061,120.8654,238.2251 M120.8654,238.2251 C119.6549,233.9441,113.3512,215.4423,115.7413,215.3753 M115.7413,215.3753 C118.1314,215.3084,131.0752,237.2336,135.2061,237.8234 M135.2061,237.8234 C139.337,238.4133,138.4396,221.1911,140.5266,218.9143 M140.5266,218.9143 C142.6136,216.6374,148.13,221.0423,147.7279,224.1623 M147.7279,224.1623 C147.3257,227.2823,138.7589,237.905,138.1136,237.6345 M138.1136,237.6345 C137.4683,237.364,141.7905,224.8367,143.8561,222.5392 M143.8561,222.5392 C145.9216,220.2417,149.592,221.4129,150.5067,223.8495 M150.5067,223.8495 C151.4214,226.2862,148.7243,239.2219,149.3443,237.1593 M149.3443,237.1593 C149.9644,235.0967,153.1129,214.2616,154.227,211.4739 M154.227,211.4739 C155.341,208.6862,153.3876,218.9038,156.0287,220.433 M156.0287,220.433 C158.6698,221.9623,168.6494,218.6798,170.0737,220.6496 M170.0737,220.6496 C171.4979,222.6193,164.9897,230.4738,164.5743,232.2513 M164.5743,232.2513 C164.1589,234.0289,166.9856,234.1178,167.5814,231.3149 M167.5814,231.3149 C168.1772,228.512,167.3898,215.8348,168.1492,215.4338 M168.1492,215.4338 C168.9087,215.0328,171.5597,225.6924,172.1382,228.9091 M172.1382,228.9091 C172.7167,232.1259,170.4031,234.2948,171.6201,234.7341 M171.6201,234.7341 C172.8371,235.1734,178.6484,233.8397,179.4404,231.5448 M179.4404,231.5448 C180.2323,229.2498,174.9804,220.5006,176.3721,220.9642 M176.3721,220.9642 C177.7637,221.4279,186.2006,231.5878,187.7902,234.3268 M187.7902,234.3268 C189.3797,237.0657,186.2249,237.3951,185.9094,237.3979 M185.9094,237.3979 C185.5938,237.4006,185.3456,236.2729,185.8969,234.3433 M185.8969,234.3433 C186.4481,232.4137,188.3605,227.5419,189.2168,225.8202 M189.2168,225.8202 C190.0731,224.0985,190.8712,223.4173,191.0345,224.0129 M191.0345,224.0129 C191.1979,224.6085,189.5856,229.3652,190.1966,229.3938 M190.1966,229.3938 C190.8077,229.4223,195.0324,222.2723,194.7011,224.1841 M194.7011,224.1841 C194.3698,226.096,185.7771,238.0895,188.2091,240.8649 M188.2091,240.8649 C190.641,243.6402,207.5498,243.4228,209.2928,240.8364 M209.2928,240.8364 C211.0358,238.2499,198.921,228.7447,198.6672,225.3461 M198.6672,225.3461 C198.4135,221.9476,204.9994,218.2908,207.7701,220.4452 M207.7701,220.4452 C210.5408,222.5996,213.7608,234.8692,215.2913,238.2726 M215.2913,238.2726 C216.8219,241.676,216.5812,242.3335,216.9534,240.8655 M216.9534,240.8655 C217.3255,239.3976,217.5639,231.1281,217.5244,229.4647 M217.5244,229.4647 C217.4849,227.8014,215.7185,231.304,216.7163,230.8854 M216.7163,230.8854 C217.7142,230.4669,222.1498,228.0766,223.5116,226.9536 M223.5116,226.9536 C224.8733,225.8305,223.0783,225.2512,224.8869,224.1472 M224.8869,224.1472 C226.6954,223.0432,233.7185,219.4776,234.3629,220.3298 M234.3629,220.3298 C235.0073,221.1819,228.8509,225.2185,228.7535,229.26 M228.7535,229.26 C228.656,233.3015,231.5225,246.0441,233.7782,244.5787 M233.7782,244.5787 C236.0339,243.1132,242.6124,223.2885,242.2875,220.4675 M242.2875,220.4675 C241.9625,217.6465,232.1204,227.0841,231.8286,227.6527 M231.8286,227.6527 C231.5368,228.2214,238.8635,224.7901,240.5367,223.8793 M240.5367,223.8793 C242.2098,222.9686,241.5261,220.3094,241.8676,222.1882 M241.8676,222.1882 C242.209,224.067,242.1268,232.5153,242.5851,235.1521 M242.5851,235.1521 C243.0434,237.7889,244.0846,238.8196,244.6173,238.0091 M244.6173,238.0091 C245.1499,237.1987,244.193,232.1081,245.7811,230.2895 M245.7811,230.2895 C247.3691,228.4708,250.5883,228.1201,254.1456,227.0971 M254.1456,227.0971 C257.7028,226.0741,266.0169,223.8975,267.1245,224.1517 M267.1245,224.1517 C268.2321,224.4059,261.5838,227.68,260.7913,228.6224 M260.7913,228.6224 C259.9987,229.5648,260.8999,229.4413,262.3692,229.8061 M262.3692,229.8061 C263.8385,230.1709,267.5226,229.7373,269.6069,230.8112 M269.6069,230.8112 C271.6913,231.8852,274.5441,235.3832,274.8752,236.2499 M274.8752,236.2499 C275.2064,237.1165,272.1691,236.8325,271.594,236.0112 M271.594,236.0112 C271.0188,235.1899,270.7461,233.7814,271.4244,231.3219 M271.4244,231.3219 C272.1028,228.8625,273.4102,221.9192,275.664,221.2547 M275.664,221.2547 C277.9179,220.5902,283.1758,224.5018,284.9478,227.3349 M284.9478,227.3349 C286.7198,230.1681,286.4583,238.7037,286.296,238.2535 M286.296,238.2535 C286.1338,237.8034,284.6674,227.0604,283.9743,224.6338 M283.9743,224.6338 C283.2812,222.2073,280.5459,223.2885,282.1372,223.6941 M282.1372,223.6941 C283.7285,224.0996,291.3106,228.7544,293.522,227.0671 M293.522,227.0671 C295.7335,225.3797,294.6116,214.3834,295.4058,213.5701 M295.4058,213.5701 C296.2001,212.7569,297.5179,219.2871,298.2875,222.1875 M298.2875,222.1875 C299.0571,225.088,298.2539,229.5955,300.0232,230.973 M300.0232,230.973 C301.7925,232.3504,306.8691,232.5695,308.9035,230.4523 M308.9035,230.4523 C310.9379,228.3351,312.3044,219.1545,312.2297,218.2697 M312.2297,218.2697 C312.155,217.3848,309.0566,224.2317,308.4554,225.1431 M308.4554,225.1431 C307.8541,226.0546,309.5291,221.789,308.6221,223.7382 M308.6221,223.7382 C307.7152,225.6874,302.5328,234.4139,303.0135,236.8382 M303.0135,236.8382 C303.4941,239.2625,308.5071,241.0432,311.5059,238.2842 M311.5059,238.2842 C314.5047,235.5252,318.9959,219.8158,321.0062,220.2844 M321.0062,220.2844 C323.0165,220.7529,323.7995,241.4496,323.5679,241.0954 M323.5679,241.0954 C323.3363,240.7413,320.4209,220.0551,319.6168,218.1594 M319.6168,218.1594 C318.8127,216.2637,317.8097,227.7074,318.7435,229.7213 M318.7435,229.7213 C319.6773,231.7352,322.8613,233.0384,325.2196,230.2428 M325.2196,230.2428 C327.5779,227.4472,331.3385,214.4973,332.8932,212.9477 M332.8932,212.9477 C334.448,211.3981,334.598,219.7568,334.5482,220.9451 M334.5482,220.9451 C334.4983,222.1335,331.4564,217.3359,332.5944,220.0778 M332.5944,220.0778 C333.7324,222.8196,340.3411,235.9887,341.376,237.396 M341.376,237.396 C342.411,238.8033,340.0926,229.4927,338.8041,228.5215 M338.8041,228.5215 C337.5156,227.5502,332.519,232.3652,333.6448,231.5684 M333.6448,231.5684 C334.7707,230.7717,342.8093,225.6006,345.5592,223.7409 M345.5592,223.7409 C348.3091,221.8813,349.9188,218.6566,350.1441,220.4105 M350.1441,220.4105 C350.3695,222.1644,347.1721,234.0171,346.9114,234.2643 M346.9114,234.2643 C346.6508,234.5115,345.3269,222.3741,348.58,221.8937 M348.58,221.8937 C351.8332,221.4133,365.4684,228.6959,366.4302,231.3818 M366.4302,231.3818 C367.392,234.0676,355.7594,238.9509,354.3509,238.0088 M354.3509,238.0088 C352.9423,237.0667,356.1657,226.0869,357.9789,225.7293 M357.9789,225.7293 C359.7921,225.3717,363.5203,235.0209,365.2301,235.8633 M365.2301,235.8633 C366.9399,236.7058,366.3814,229.765,368.2375,230.7841 M368.2375,230.7841 C370.0936,231.8032,374.8304,241.6931,376.3667,241.9779 M376.3667,241.9779 C377.9029,242.2628,378.4942,235.1022,377.4551,232.4931 M377.4551,232.4931 C376.4159,229.884,368.9499,226.8006,370.1318,226.3235 M370.1318,226.3235 C371.3138,225.8463,382.2977,231.3268,384.5467,229.6302 M384.5467,229.6302 C386.7956,227.9336,383.7046,215.2971,383.6255,216.1438 M383.6255,216.1438 C383.5464,216.9906,383.5867,232.5343,384.0722,234.7107 M384.0722,234.7107 C384.5578,236.887,385.7815,229.085,386.5389,229.202 M386.5389,229.202 C387.2963,229.3191,388.4612,235.8764,388.6168,235.413 M388.6168,235.413 C388.7723,234.9497,385.5915,227.4086,387.4723,226.4221 M387.4723,226.4221 C389.3531,225.4356,399.3898,230.214,399.9017,229.4938 M399.9017,229.4938 C400.4135,228.7736,389.7481,221.069,390.5433,222.101 M390.5433,222.101 C391.3385,223.1329,402.7158,234.3029,404.673,235.6853 M404.673,235.6853 C406.6301,237.0678,401.0706,232.2131,402.286,230.3956 M402.286,230.3956 C403.5014,228.5781,409.9719,224.8152,411.9651,224.7804 M411.9651,224.7804 C413.9584,224.7457,414.4033,231.057,414.2456,230.187 M414.2456,230.187 C414.0878,229.317,410.5604,223.3011,411.0188,219.5606 M411.0188,219.5606 C411.4771,215.8201,415.3931,205.482,416.9958,207.744 M416.9958,207.744 C418.5985,210.0059,419.8785,230.2531,420.6352,233.1323 M420.6352,233.1323 C421.3918,236.0115,421.0664,226.2295,421.5358,225.0189 M421.5358,225.0189 C422.0053,223.8084,422.8528,224.4263,423.4517,225.869 M423.4517,225.869 C424.0505,227.3117,424.7441,231.8328,425.1291,233.6751 M425.1291,233.6751 C425.5142,235.5173,425.0207,237.3255,425.7622,236.9225 M425.7622,236.9225 C426.5037,236.5194,427.9101,232.6375,429.5782,231.2568 M429.5782,231.2568 C431.2463,229.8761,433.0607,229.1575,435.7708,228.6383 M435.7708,228.6383 C438.481,228.1191,445.3044,228.3168,445.8393,228.1417 M445.8393,228.1417 C446.3743,227.9665,439.9673,225.8096,438.9804,227.5874 M438.9804,227.5874 C437.9936,229.3651,440.3764,239.3451,439.9184,238.8083 M439.9184,238.8083 C439.4603,238.2715,435.0045,228.2178,436.2323,224.3666 M436.2323,224.3666 C437.4601,220.5154,444.8571,215.537,447.2852,215.701 M447.2852,215.701 C449.7134,215.865,450.6787,223.741,450.801,225.3503 M450.801,225.3503 C450.9233,226.9596,445.9434,222.9032,448.0193,225.3569 M448.0193,225.3569 C450.0951,227.8106,460.101,239.1478,463.2561,240.0725 M463.2561,240.0725 C466.4113,240.9973,467.1644,231.9577,466.9501,230.9054 M466.9501,230.9054 C466.7357,229.8532,463.5419,233.8378,461.97,233.759 M461.97,233.759 C460.398,233.6803,456.5274,231.2077,457.5182,230.4328 M457.5182,230.4328 C458.509,229.6579,467.2284,230.1154,467.9145,229.1097 M467.9145,229.1097 C468.6006,228.1041,460.6108,224.8519,461.6348,224.3989 M461.6348,224.3989 C462.6589,223.9459,472.821,225.1777,474.0587,226.3919 M474.0587,226.3919 C475.2964,227.6062,467.3029,228.8119,469.0607,231.6844 M469.0607,231.6844 C470.8185,234.5569,483.2342,243.3266,484.6055,243.6268 M484.6055,243.6268 C485.9768,243.9269,476.7396,235.9119,477.2886,233.4855 M477.2886,233.4855 C477.8377,231.0591,486.1232,231.2037,487.8999,229.0684 M487.8999,229.0684 C489.6765,226.9331,487.5356,221.2076,487.9485,220.6736 M487.9485,220.6736 C488.3614,220.1396,489.1072,223.6684,490.3773,225.8644 M490.3773,225.8644 C491.6474,228.0604,495.0234,233.82,495.5691,233.8495 M495.5691,233.8495 C496.1149,233.879,492.7851,226.0573,493.6518,226.0414 M493.6518,226.0414 C494.5185,226.0256,500.8067,233.3355,500.7693,233.7542 M500.7693,233.7542 C500.732,234.1729,494.1456,228.1073,493.4277,228.5537 M493.4277,228.5537 C492.7098,229,492.7583,236.0861,496.4621,236.4322 M496.4621,236.4322 C500.166,236.7782,512.7739,232.4777,515.6507,230.63 M515.6507,230.63 C518.5275,228.7823,514.2395,227.5584,513.7229,225.346 M513.7229,225.346 C513.2063,223.1335,511.5509,220.1939,512.5511,217.3553 M512.5511,217.3553 C513.5514,214.5167,517.576,208.3232,519.7246,208.3144 M519.7246,208.3144 C521.8731,208.3056,526.8959,212.7477,525.4423,217.3025 M525.4423,217.3025 C523.9887,221.8573,512.367,233.4808,511.0031,235.6433 M511.0031,235.6433 C509.6391,237.8058,515.8481,231.5995,517.2585,230.2777 M517.2585,230.2777 C518.6688,228.9558,518.2819,228.1246,519.4651,227.7122 M519.4651,227.7122 C520.6483,227.2998,522.595,228.6192,524.3575,227.8032 M524.3575,227.8032 C526.1199,226.9872,529.129,223.4795,530.0399,222.8163 M530.0399,222.8163 C530.9508,222.1532,527.6183,220.8353,529.8227,223.8245\" fill=\"none\" stroke=\"rgba(0,0,0,1)\" stroke-width=\"2\" stroke-miterlimit=\"10\"/>\n",
       "<path d=\"M36.3865,267.6024 C35.88,268.2872,26.9056,268.9212,26.4187,266.372 M26.4187,266.372 C25.9318,263.8228,30.9806,251.6724,33.4653,252.3072 M33.4653,252.3072 C35.95,252.942,38.2292,269.576,41.3269,270.1809 M41.3269,270.1809 C44.4247,270.7859,49.4902,258.4263,52.0518,255.9369 M52.0518,255.9369 C54.6134,253.4475,58.17,254.0539,56.6966,255.2445 M56.6966,255.2445 C55.2232,256.4351,44.5867,260.6222,43.2114,263.0806 M43.2114,263.0806 C41.8361,265.539,47.5256,270.2462,48.4448,269.995 M48.4448,269.995 C49.3641,269.7437,45.7538,262.9113,48.7269,261.5733 M48.7269,261.5733 C51.7,260.2353,63.647,266.102,66.2832,261.9671 M66.2832,261.9671 C68.9194,257.8322,65.5044,236.1038,64.544,236.7641 M64.544,236.7641 C63.5836,237.4244,61.1428,259.9849,60.5209,265.9286 M60.5209,265.9286 C59.899,271.8723,60.0492,273.1382,60.8128,272.4262 M60.8128,272.4262 C61.5763,271.7142,63.0105,265.4767,65.1023,261.6567 M65.1023,261.6567 C67.1941,257.8367,72.266,249.1483,73.3638,249.5064 M73.3638,249.5064 C74.4615,249.8644,70.158,260.8386,71.6889,263.8052 M71.6889,263.8052 C73.2198,266.7718,81.2707,268.2913,82.5489,267.3059 M82.5489,267.3059 C83.8272,266.3205,78.426,258.2362,79.3583,257.8926 M79.3583,257.8926 C80.2905,257.549,88.3322,266.5175,88.1425,265.2441 M88.1425,265.2441 C87.9528,263.9708,77.9435,250.249,78.2202,250.2524 M78.2202,250.2524 C78.4969,250.2558,85.6837,264.2992,89.8027,265.2646 M89.8027,265.2646 C93.9218,266.23,100.2525,253.9508,102.9344,256.0446 M102.9344,256.0446 C105.6162,258.1385,105.3944,275.7926,105.8939,277.8278 M105.8939,277.8278 C106.3934,279.8631,104.445,270.9729,105.9313,268.256 M105.9313,268.256 C107.4177,265.5391,112.2061,260.7359,114.812,261.5265 M114.812,261.5265 C117.4179,262.3171,123.2526,271.3757,121.5667,272.9997 M121.5667,272.9997 C119.8809,274.6237,106.4228,271.3436,104.6967,271.2706 M104.6967,271.2706 C102.9707,271.1975,108.68,275.6358,111.2104,272.5615 M111.2104,272.5615 C113.7409,269.4873,117.2986,254.9556,119.8794,252.8252 M119.8794,252.8252 C122.4603,250.6947,126.3365,257.0906,126.6955,259.7788 M126.6955,259.7788 C127.0546,262.467,122.0215,268.9165,122.0336,268.9544 M122.0336,268.9544 C122.0457,268.9924,123.9786,260.2421,126.7682,260.0065 M126.7682,260.0065 C129.5579,259.7708,137.4698,269.9266,138.7715,267.5406 M138.7715,267.5406 C140.0733,265.1547,135.534,247.7691,134.5787,245.6907 M134.5787,245.6907 C133.6234,243.6122,133.6514,251.0941,133.0396,255.07 M133.0396,255.07 C132.4279,259.0459,130.1272,271.4398,130.9083,269.5459 M130.9083,269.5459 C131.6894,267.6521,134.657,244.2643,137.7263,243.7069 M137.7263,243.7069 C140.7955,243.1495,147.6313,264.1116,149.324,266.2015 M149.324,266.2015 C151.0167,268.2914,147.7074,255.0702,147.8825,256.2463 M147.8825,256.2463 C148.0576,257.4224,149.6727,269.8344,150.3747,273.2581 M150.3747,273.2581 C151.0767,276.6818,149.7044,277.0867,152.0945,276.7886 M152.0945,276.7886 C154.4845,276.4905,163.6534,274.664,164.7149,271.4695 M164.7149,271.4695 C165.7764,268.275,157.8569,257.8025,158.4636,257.6215 M158.4636,257.6215 C159.0702,257.4405,166.0211,269.3384,168.3546,270.3834 M168.3546,270.3834 C170.6882,271.4283,172.4339,264.5137,172.465,263.8912 M172.465,263.8912 C172.4961,263.2687,169.4015,269.6471,168.5412,266.6482 M168.5412,266.6482 C167.6808,263.6493,165.6074,247.4523,167.303,245.8977 M167.303,245.8977 C168.9987,244.3431,175.4238,255.657,178.7151,257.3205 M178.7151,257.3205 C182.0063,258.9841,185.2724,256.4632,187.0506,255.879 M187.0506,255.879 C188.8289,255.2948,189.9251,250.367,189.3846,253.8152 M189.3846,253.8152 C188.844,257.2634,183.0417,275.2275,183.8073,276.5683 M183.8073,276.5683 C184.5728,277.9091,194.0859,261.9381,193.978,261.86 M193.978,261.86 C193.8701,261.782,183.3067,276.0212,183.1601,276.0999 M183.1601,276.0999 C183.0135,276.1786,188.9141,266.6714,193.0983,262.3321 M193.0983,262.3321 C197.2826,257.9929,205.5892,248.4389,208.2653,250.0644 M208.2653,250.0644 C210.9413,251.6898,210.4773,269.8662,209.1546,272.0846 M209.1546,272.0846 C207.8319,274.3031,198.5849,265.9274,200.3288,263.3752 M200.3288,263.3752 C202.0728,260.8229,216.3681,256.3821,219.6184,256.7713 M219.6184,256.7713 C222.8686,257.1604,221.0273,264.4537,219.8302,265.7102 M219.8302,265.7102 C218.6331,266.9667,212.6998,265.3628,212.4359,264.3104 M212.4359,264.3104 C212.1719,263.258,214.3733,260.9726,218.2464,259.3958 M218.2464,259.3958 C222.1195,257.819,234.6226,254.3471,235.6744,254.8495 M235.6744,254.8495 C236.7262,255.3519,226.6209,261.5232,224.5573,262.41 M224.5573,262.41 C222.4937,263.2969,222.5888,262.0952,223.2929,260.1707 M223.2929,260.1707 C223.9971,258.2462,228.8613,249.3409,228.7821,250.8631 M228.7821,250.8631 C228.7029,252.3853,219.7269,266.0545,222.8179,269.3041 M222.8179,269.3041 C225.9088,272.5537,245.406,271.8044,247.3276,270.3607 M247.3276,270.3607 C249.2492,268.9169,235.4474,264.1062,234.3474,260.6416 M234.3474,260.6416 C233.2474,257.177,238.3849,250.7174,240.7278,249.5731 M240.7278,249.5731 C243.0706,248.4287,247.1415,249.7405,248.4044,253.7754 M248.4044,253.7754 C249.6673,257.8103,247.2179,273.5988,248.3053,273.7826 M248.3053,273.7826 C249.3927,273.9663,254.0258,255.12,254.9287,254.8777 M254.9287,254.8777 C255.8316,254.6353,252.1419,270.0682,253.7227,272.3283 M253.7227,272.3283 C255.3035,274.5885,261.765,268.2959,264.4135,268.4385 M264.4135,268.4385 C267.0619,268.5812,269.1242,273.5904,269.6133,273.1843 M269.6133,273.1843 C270.1024,272.7782,266.4075,267.998,267.3482,266.002 M267.3482,266.002 C268.2888,264.0061,275.2659,262.0955,275.257,261.2086 M275.257,261.2086 C275.2481,260.3217,269.3137,260.1071,267.2947,260.6806 M267.2947,260.6806 C265.2758,261.2541,261.3629,263.0326,263.1434,264.6496 M263.1434,264.6496 C264.9239,266.2666,275.8296,271.2357,277.9777,270.3825 M277.9777,270.3825 C280.1257,269.5294,276.05,260.1712,276.0318,259.5306 M276.0318,259.5306 C276.0135,258.8901,277.7564,264.8292,277.8683,266.5391 M277.8683,266.5391 C277.9801,268.2489,274.4642,268.5861,276.7029,269.7898 M276.7029,269.7898 C278.9416,270.9936,289.2052,275.5906,291.3004,273.7618 M291.3004,273.7618 C293.3957,271.933,290.2139,261.4528,289.2747,258.817 M289.2747,258.817 C288.3354,256.1811,284.4106,256.4534,285.6648,257.9469 M285.6648,257.9469 C286.9191,259.4404,293.2799,268.2049,296.8,267.7782 M296.8,267.7782 C300.3202,267.3515,306.7302,257.0924,306.7859,255.3866 M306.7859,255.3866 C306.8417,253.6809,297.7243,256.4751,297.1345,257.5437 M297.1345,257.5437 C296.5448,258.6123,300.1999,261.333,303.2474,261.7981 M303.2474,261.7981 C306.2948,262.2631,314.7777,260.5638,315.4191,260.3342 M315.4191,260.3342 C316.0605,260.1046,305.2838,261.0829,307.0957,260.4205 M307.0957,260.4205 C308.9077,259.7581,322.9616,255.2474,326.2909,256.36 M326.2909,256.36 C329.6202,257.4726,326.4337,266.5468,327.0714,267.0961 M327.0714,267.0961 C327.7092,267.6455,331.0106,261.0006,330.1175,259.656 M330.1175,259.656 C329.2244,258.3114,321.8426,260.8378,321.7129,259.0286 M321.7129,259.0286 C321.5833,257.2194,329.4081,249.2443,329.3396,248.8008 M329.3396,248.8008 C329.271,248.3572,319.7186,254.2614,321.3016,256.3672 M321.3016,256.3672 C322.8846,258.473,336.3833,258.7509,338.8376,261.4357 M338.8376,261.4357 C341.2919,264.1204,336.0225,274.1502,336.0276,272.4758 M336.0276,272.4758 C336.0327,270.8014,337.4513,252.9582,338.8681,251.3894 M338.8681,251.3894 C340.2849,249.8206,343.4551,262.6833,344.5283,263.0631 M344.5283,263.0631 C345.6015,263.443,344.2696,252.1496,345.3071,253.6684 M345.3071,253.6684 C346.3446,255.1872,347.0886,269.3309,350.7534,272.176 M350.7534,272.176 C354.4183,275.0211,363.8988,271.7211,367.2962,270.7388 M367.2962,270.7388 C370.6936,269.7566,371.6866,269.3042,371.1379,266.2824 M371.1379,266.2824 C370.5893,263.2606,366.44,254.1035,364.0043,252.6079 M364.0043,252.6079 C361.5687,251.1124,356.781,256.4395,356.5242,257.3092 M356.5242,257.3092 C356.2674,258.179,360.3638,258.4272,362.4635,257.8264 M362.4635,257.8264 C364.5633,257.2255,368.0536,255.2338,369.1225,253.7044 M369.1225,253.7044 C370.1915,252.1749,366.9054,244.9126,368.8773,248.6496 M368.8773,248.6496 C370.8492,252.3865,379.4066,275.385,380.9539,276.1259 M380.9539,276.1259 C382.5011,276.8669,376.9665,254.6299,378.1606,253.0953 M378.1606,253.0953 C379.3546,251.5606,387.1833,265.1066,388.1182,266.9179 M388.1182,266.9179 C389.0531,268.7291,383.2393,264.1241,383.7701,263.9626 M383.7701,263.9626 C384.301,263.801,389.5627,266.0384,391.3031,265.9486 M391.3031,265.9486 C393.0436,265.8588,394.3374,262.2441,394.2129,263.4238 M394.2129,263.4238 C394.0885,264.6036,389.5771,272.172,390.5564,273.0271 M390.5564,273.0271 C391.5356,273.8822,397.6232,266.9365,400.0884,268.5543 M400.0884,268.5543 C402.5535,270.1722,404.3732,285.0247,405.3472,282.7342 M405.3472,282.7342 C406.3213,280.4437,405.1142,257.8668,405.9326,254.8113 M405.9326,254.8113 C406.751,251.7557,410.1883,262.8266,410.2576,264.401 M410.2576,264.401 C410.327,265.9753,403.5333,264.9905,406.3487,264.2572 M406.3487,264.2572 C409.1641,263.5239,425.6967,261.3205,427.1501,260.0011 M427.1501,260.0011 C428.6035,258.6817,416.751,255.7502,415.0691,256.3406 M415.0691,256.3406 C413.3872,256.931,416.3271,262.7864,417.0589,263.5436 M417.0589,263.5436 C417.7906,264.3009,419.2589,261.2701,419.4596,260.8843 M419.4596,260.8843 C419.6603,260.4985,416.271,259.3396,418.2629,261.2288 M418.2629,261.2288 C420.2549,263.1181,429.891,271.5633,431.4113,272.2197 M431.4113,272.2197 C432.9315,272.8761,425.8131,268.4338,427.3846,265.1672 M427.3846,265.1672 C428.9562,261.9006,439.5015,253.5346,440.8408,252.6201 M440.8408,252.6201 C442.1801,251.7057,435.4365,256.8919,435.4205,259.6806 M435.4205,259.6806 C435.4044,262.4692,439.4953,269.544,440.7443,269.3519 M440.7443,269.3519 C441.9934,269.1597,442.155,258.1353,442.9148,258.5276 M442.9148,258.5276 C443.6746,258.92,445.8153,271.8608,445.3032,271.7062 M445.3032,271.7062 C444.7911,271.5515,439.3261,259.2647,439.842,257.5999 M439.842,257.5999 C440.3578,255.9351,445.9978,262.4016,448.3983,261.7174 M448.3983,261.7174 C450.7988,261.0333,451.8375,251.7797,454.2451,253.4948 M454.2451,253.4948 C456.6527,255.2099,461.056,270.9214,462.8439,272.0082 M462.8439,272.0082 C464.6317,273.095,464.6052,261.9674,464.9723,260.0155 M464.9723,260.0155 C465.3393,258.0636,465.2884,258.6275,465.046,260.297 M465.046,260.297 C464.8037,261.9664,462.7069,270.9563,463.5183,270.0321 M463.5183,270.0321 C464.3297,269.1079,467.4108,257.0779,469.9144,254.7519 M469.9144,254.7519 C472.4179,252.4259,476.6799,253.8851,478.5397,256.0761 M478.5397,256.0761 C480.3995,258.2671,480.8074,267.7229,481.0732,267.898 M481.0732,267.898 C481.339,268.073,477.832,256.1989,480.1345,257.1264 M480.1345,257.1264 C482.4371,258.0539,493.0435,272.2583,494.8884,273.4629 M494.8884,273.4629 C496.7334,274.6674,491.1423,264.8007,491.2042,264.3537 M491.2042,264.3537 C491.2662,263.9068,496.319,272.7341,495.26,270.7813 M495.26,270.7813 C494.2009,268.8284,482.0251,253.4783,484.85,252.6367 M484.85,252.6367 C487.6748,251.795,508.8877,263.7952,512.2092,265.7314 M512.2092,265.7314 C515.5306,267.6676,506.7086,264.5551,504.7784,264.254 M504.7784,264.254 C502.8482,263.9529,498.9585,263.4391,500.6278,263.9248 M500.6278,263.9248 C502.2971,264.4106,512.9805,266.344,514.7942,267.1683 M514.7942,267.1683 C516.6078,267.9926,511.9239,268.3344,511.5096,268.8705 M511.5096,268.8705 C511.0952,269.4066,511.8235,272.1821,512.3081,270.3847 M512.3081,270.3847 C512.7926,268.5872,512.6677,259.8137,514.417,258.0857 M514.417,258.0857 C516.1664,256.3578,523.8288,258.9275,522.8043,260.0169 M522.8043,260.0169 C521.7797,261.1064,507.9575,265.793,508.2695,264.6223 M508.2695,264.6223 C508.5815,263.4515,521.7034,253.9187,524.676,252.9924 M524.676,252.9924 C527.6486,252.0662,525.6975,258.0649,526.1052,259.0649 M526.1052,259.0649 C526.513,260.0649,523.4668,257.8729,527.1226,258.9922\" fill=\"none\" stroke=\"rgba(0,0,0,1)\" stroke-width=\"2\" stroke-miterlimit=\"10\"/>\n",
       "<path d=\"M24.1314,304.5349 C26.0801,303.1496,34.0399,293.21,36.3517,294.147 M36.3517,294.147 C38.6636,295.084,36.5061,310.4298,38.0027,310.1567 M38.0027,310.1567 C39.4993,309.8836,44.0165,295.0333,45.3313,292.5084 M45.3313,292.5084 C46.6461,289.9835,43.8022,294.4984,45.8915,295.0073 M45.8915,295.0073 C47.9807,295.5162,56.1165,295.4341,57.8669,295.5618 M57.8669,295.5618 C59.6173,295.6894,56.2107,298.5994,56.3939,295.7732 M56.3939,295.7732 C56.577,292.947,58.3057,281.359,58.966,278.6047 M58.966,278.6047 C59.6262,275.8503,58.2558,276.6893,60.3554,279.2471 M60.3554,279.2471 C62.4549,281.8048,69.5146,291.7876,71.5633,293.9513 M71.5633,293.9513 C73.612,296.115,70.9119,291.4167,72.6476,292.2291 M72.6476,292.2291 C74.3833,293.0415,81.6952,299.8132,81.9776,298.8257 M81.9776,298.8257 C82.26,297.8382,73.978,287.3043,74.3419,286.3043 M74.3419,286.3043 C74.7059,285.3042,80.7124,291.3538,84.1611,292.8254 M84.1611,292.8254 C87.6098,294.297,92.6012,294.3152,95.034,295.1339 M95.034,295.1339 C97.4667,295.9526,98.2674,297.1606,98.7577,297.7376 M98.7577,297.7376 C99.248,298.3147,97.153,299.0236,97.9758,298.5962 M97.9758,298.5962 C98.7987,298.1688,102.4444,295.2407,103.6948,295.1731 M103.6948,295.1731 C104.9453,295.1055,103.6175,298.3339,105.4784,298.1906 M105.4784,298.1906 C107.3392,298.0473,113.2334,295.5017,114.8598,294.3133 M114.8598,294.3133 C116.4862,293.1248,113.3973,289.1485,115.2369,291.0598 M115.2369,291.0598 C117.0765,292.9711,124.4777,303.1864,125.8976,305.7808 M125.8976,305.7808 C127.3176,308.3753,123.2662,307.9982,123.7566,306.6264 M123.7566,306.6264 C124.247,305.2546,127.3138,298.8552,128.84,297.5501 M128.84,297.5501 C130.3662,296.245,132.323,299.9688,132.914,298.796 M132.914,298.796 C133.505,297.6233,129.9823,290.1908,132.3862,290.5136 M132.3862,290.5136 C134.7902,290.8364,143.8085,300.1278,147.3377,300.7327 M147.3377,300.7327 C150.8669,301.3377,153.6788,294.3719,153.5613,294.1431 M153.5613,294.1431 C153.4439,293.9143,147.9704,299.7549,146.6332,299.3599 M146.6332,299.3599 C145.296,298.9649,145.3028,294.259,145.5381,291.7731 M145.5381,291.7731 C145.7734,289.2872,145.257,282.7431,148.0453,284.4445 M148.0453,284.4445 C150.8335,286.146,159.6781,300.2846,162.2677,301.9818 M162.2677,301.9818 C164.8574,303.679,162.2761,299.1013,163.5831,294.6278 M163.5831,294.6278 C164.89,290.1544,167.6594,275.8712,170.1097,275.1409 M170.1097,275.1409 C172.5599,274.4105,177.017,289.0054,178.2846,290.2459 M178.2846,290.2459 C179.5522,291.4864,177.3286,283.2952,177.7154,282.5838 M177.7154,282.5838 C178.1022,281.8724,179.1298,285.8968,180.6054,285.9774 M180.6054,285.9774 C182.081,286.0581,185.136,283.4967,186.5689,283.0676 M186.5689,283.0676 C188.0017,282.6385,188.0312,281.2952,189.2026,283.4027 M189.2026,283.4027 C190.374,285.5101,192.3705,292.8405,193.5972,295.7122 M193.5972,295.7122 C194.8238,298.5839,194.9686,299.3989,196.5624,300.6327 M196.5624,300.6327 C198.1562,301.8666,201.6325,303.909,203.16,303.1151 M203.16,303.1151 C204.6876,302.3213,204.1283,298.5433,205.7278,295.8697 M205.7278,295.8697 C207.3273,293.1961,211.3374,287.1782,212.7572,287.0737 M212.7572,287.0737 C214.177,286.9693,212.7515,294.5209,214.2464,295.243 M214.2464,295.243 C215.7414,295.9652,220.2154,291.0214,221.7271,291.4065 M221.7271,291.4065 C223.2388,291.7916,222.137,297.6584,223.3167,297.5535 M223.3167,297.5535 C224.4964,297.4486,226.5825,292.4792,228.8051,290.7773 M228.8051,290.7773 C231.0277,289.0754,235.4557,286.5822,236.6523,287.3421 M236.6523,287.3421 C237.8489,288.102,235.2241,294.9911,235.9848,295.3368 M235.9848,295.3368 C236.7455,295.6824,239.4074,287.9627,241.2164,289.4161 M241.2164,289.4161 C243.0253,290.8694,245.3907,302.961,246.8385,304.0569 M246.8385,304.0569 C248.2863,305.1527,248.0178,297.2538,249.9029,295.9912 M249.9029,295.9912 C251.7881,294.7285,256.3701,298.1873,258.1495,296.481 M258.1495,296.481 C259.9289,294.7747,259.4,285.492,260.5793,285.7532 M260.5793,285.7532 C261.7586,286.0144,263.8874,295.1961,265.2255,298.0482 M265.2255,298.0482 C266.5636,300.9003,268.2568,302.3433,268.6081,302.8658 M268.6081,302.8658 C268.9594,303.3882,265.5,301.3582,267.3333,301.1829 M267.3333,301.1829 C269.1666,301.0076,278.2617,302.7643,279.6081,301.8139 M279.6081,301.8139 C280.9546,300.8635,274.5963,294.1016,275.4122,295.4804 M275.4122,295.4804 C276.228,296.8593,282.2081,311.2708,284.5033,310.0869 M284.5033,310.0869 C286.7984,308.9031,286.9315,292.1063,289.1831,288.3775 M289.1831,288.3775 C291.4348,284.6487,297.3144,285.7924,298.0132,287.7143 M298.0132,287.7143 C298.712,289.6362,293.5721,301.8401,293.3757,299.9089 M293.3757,299.9089 C293.1794,297.9776,294.0127,276.6748,296.835,276.1267 M296.835,276.1267 C299.6574,275.5786,308.8287,294.1941,310.3097,296.6204 M310.3097,296.6204 C311.7907,299.0468,307.2989,289.9226,305.7213,290.685 M305.7213,290.685 C304.1436,291.4474,299.2534,298.5998,300.8438,301.1947 M300.8438,301.1947 C302.4341,303.7896,311.3408,306.1732,315.2633,306.2545 M315.2633,306.2545 C319.1858,306.3358,322.2872,303.2641,324.3785,301.6825 M324.3785,301.6825 C326.4698,300.1009,326.7268,298.7642,327.8111,296.765 M327.8111,296.765 C328.8955,294.7657,331.2846,288.1579,330.8847,289.6871 M330.8847,289.6871 C330.4847,291.2164,324.5538,305.6242,325.4115,305.9404 M325.4115,305.9404 C326.2692,306.2565,332.4675,295.5769,336.0308,291.5839 M336.0308,291.5839 C339.5941,287.5908,343.6045,279.804,346.7913,281.982 M346.7913,281.982 C349.9781,284.1601,355.3785,302.0987,355.1516,304.6522 M355.1516,304.6522 C354.9247,307.2057,345.4708,299.389,345.43,297.3031 M345.43,297.3031 C345.3892,295.2172,352.0363,292.7831,354.907,292.137 M354.907,292.137 C357.7776,291.4908,362.3648,292.7019,362.654,293.4263 M362.654,293.4263 C362.9433,294.1507,355.2263,297.9843,356.6425,296.4834 M356.6425,296.4834 C358.0588,294.9824,367.7728,284.1974,371.1517,284.4204 M371.1517,284.4204 C374.5306,284.6435,376.7093,295.5462,376.9159,297.8215 M376.9159,297.8215 C377.1226,300.0969,371.6073,298.4013,372.3915,298.0723 M372.3915,298.0723 C373.1756,297.7434,379.6607,296.5905,381.6208,295.8479 M381.6208,295.8479 C383.5808,295.1052,383.7818,292.2322,384.1517,293.6164 M384.1517,293.6164 C384.5217,295.0006,382.6775,304.2625,383.8404,304.153 M383.8404,304.153 C385.0033,304.0436,389.0169,294.9263,391.1292,292.9597 M391.1292,292.9597 C393.2415,290.9931,394.2956,294.0799,396.5142,292.3536 M396.5142,292.3536 C398.7328,290.6273,402.9131,280.5984,404.4411,282.6019 M404.4411,282.6019 C405.9691,284.6054,404.1753,302.1201,405.6822,304.3747 M405.6822,304.3747 C407.1891,306.6293,412.9138,297.7234,413.4826,296.1295 M413.4826,296.1295 C414.0514,294.5355,408.673,293.6771,409.0949,294.8111 M409.0949,294.8111 C409.5168,295.9451,413.6538,302.6223,416.014,302.9334 M416.014,302.9334 C418.3742,303.2445,421.9266,298.4631,423.2561,296.6777 M423.2561,296.6777 C424.5857,294.8922,422.1417,292.4038,423.9913,292.2209 M423.9913,292.2209 C425.8408,292.038,431.0298,295.8504,434.3534,295.5801 M434.3534,295.5801 C437.6769,295.3099,443.617,288.4334,443.9324,290.5993 M443.9324,290.5993 C444.2478,292.7652,435.6594,307.5129,436.2457,308.5756 M436.2457,308.5756 C436.8319,309.6384,445.9131,298.9539,447.45,296.9758 M447.45,296.9758 C448.9869,294.9976,444.9161,294.9051,445.4673,296.7067 M445.4673,296.7067 C446.0185,298.5084,449.5668,305.4259,450.7572,307.7859 M450.7572,307.7859 C451.9477,310.1458,452.4126,313.0838,452.6099,310.8664 M452.6099,310.8664 C452.8071,308.649,449.5507,297.0105,451.9406,294.4815 M451.9406,294.4815 C454.3304,291.9524,466.766,294.2931,466.949,295.6923 M466.949,295.6923 C467.1319,297.0915,452.4692,303.4763,453.0384,302.8764 M453.0384,302.8764 C453.6075,302.2765,467.7373,294.3059,470.3639,292.0929 M470.3639,292.0929 C472.9906,289.8799,466.2737,290.0155,468.7982,289.5982 M468.7982,289.5982 C471.3228,289.1809,483.6064,287.2157,485.5112,289.589 M485.5112,289.589 C487.4159,291.9623,479.682,303.6049,480.2269,303.8379 M480.2269,303.8379 C480.7718,304.0709,485.8719,290.9837,488.7808,290.9871 M488.7808,290.9871 C491.6896,290.9906,495.7771,303.6408,497.68,303.8586 M497.68,303.8586 C499.5829,304.0764,499.7283,294.1435,500.1982,292.2938 M500.1982,292.2938 C500.6682,290.444,500.1105,292.6829,500.4996,292.7601 M500.4996,292.7601 C500.8887,292.8372,502.2355,292.2038,502.5329,292.7565 M502.5329,292.7565 C502.8303,293.3093,500.1337,296.1876,502.2838,296.0766 M502.2838,296.0766 C504.4339,295.9657,512.6314,293.2356,515.4336,292.0907 M515.4336,292.0907 C518.2359,290.9458,518.5691,287.7838,519.0975,289.2072 M519.0975,289.2072 C519.6259,290.6306,517.6279,300.4949,518.6042,300.631 M518.6042,300.631 C519.5804,300.7671,522.444,288.6536,524.9552,290.0238 M524.9552,290.0238 C527.4663,291.3941,532.1813,309.3423,533.6709,308.8526\" fill=\"none\" stroke=\"rgba(0,0,0,1)\" stroke-width=\"2\" stroke-miterlimit=\"10\"/>\n",
       "<path d=\"M30.0841,326.9572 C30.226,323.2567,27.8755,330.1399,28.9086,331.2783 M28.9086,331.2783 C29.9416,332.4167,34.5362,334.1489,36.2826,333.7878 M36.2826,333.7878 C38.0291,333.4267,39.0731,329.3511,39.3874,329.1117 M39.3874,329.1117 C39.7017,328.8723,37.576,332.5328,38.1683,332.3513 M38.1683,332.3513 C38.7606,332.1698,41.2774,326.9802,42.9411,328.0227 M42.9411,328.0227 C44.6047,329.0651,47.3667,338.4643,48.1502,338.606 M48.1502,338.606 C48.9336,338.7476,47.3766,331.0154,47.6416,328.8726 M47.6416,328.8726 C47.9067,326.7297,49.8815,326.3705,49.7407,325.7488 M49.7407,325.7488 C49.5999,325.1271,46.6452,322.8566,46.7967,325.1423 M46.7967,325.1423 C46.9482,327.4281,48.4308,339.5067,50.6497,339.4631 M50.6497,339.4631 C52.8685,339.4195,58.584,325.7291,60.1096,324.8808 M60.1096,324.8808 C61.6352,324.0325,58.3945,333.6915,59.8033,334.3735 M59.8033,334.3735 C61.2122,335.0554,66.4826,331.1238,68.5626,328.9724 M68.5626,328.9724 C70.6425,326.821,71.9317,320.8103,72.2831,321.4651 M72.2831,321.4651 C72.6345,322.12,70.8296,332.5994,70.6711,332.9016 M70.6711,332.9016 C70.5126,333.2038,70.4973,325.3785,71.3322,323.2786 M71.3322,323.2786 C72.167,321.1787,73.2788,318.0363,75.6803,320.3021 M75.6803,320.3021 C78.0817,322.5678,84.2333,335.2244,85.7411,336.8731 M85.7411,336.8731 C87.2489,338.5217,85.3479,333.7684,84.7269,330.1939 M84.7269,330.1939 C84.1058,326.6194,82.8177,312.5289,82.0149,315.4259 M82.0149,315.4259 C81.2121,318.323,79.1743,345.8191,79.9101,347.576 M79.9101,347.576 C80.6458,349.3329,85.4491,331.0943,86.4294,325.9673 M86.4294,325.9673 C87.4097,320.8404,85.2248,317.8791,85.7919,316.8144 M85.7919,316.8144 C86.359,315.7497,89.1511,318.2914,89.832,319.5791 M89.832,319.5791 C90.5129,320.8667,89.3963,323.5083,89.8773,324.5402 M89.8773,324.5402 C90.3582,325.572,91.2768,323.2713,92.7175,325.7702 M92.7175,325.7702 C94.1581,328.2692,96.5389,340.1781,98.5213,339.5339 M98.5213,339.5339 C100.5038,338.8897,104.0363,324.519,104.6119,321.9049 M104.6119,321.9049 C105.1875,319.2908,100.9227,323.9815,101.9747,323.8492 M101.9747,323.8492 C103.0267,323.7169,109.7235,320.3273,110.9238,321.1113 M110.9238,321.1113 C112.1242,321.8954,108.4544,325.4423,109.1767,328.5535 M109.1767,328.5535 C109.899,331.6648,113.5732,340.8395,115.2576,339.7789 M115.2576,339.7789 C116.9419,338.7183,119.3252,324.2511,119.283,322.1898 M119.283,322.1898 C119.2408,320.1284,114.2201,326.4609,115.0042,327.4108 M115.0042,327.4108 C115.7883,328.3608,123.8791,327.97,123.9874,327.8896 M123.9874,327.8896 C124.0956,327.8091,115.4109,325.4122,115.6538,326.9281 M115.6538,326.9281 C115.8966,328.444,122.8467,335.5831,125.4444,336.985 M125.4444,336.985 C128.0421,338.3868,130.2835,336.4706,131.2399,335.3392 M131.2399,335.3392 C132.1964,334.2078,131.4553,332.2033,131.1831,330.1966 M131.1831,330.1966 C130.911,328.1899,128.9585,323.9068,129.6071,323.2989 M129.6071,323.2989 C130.2558,322.6911,134.1835,328.2958,135.0752,326.5496 M135.0752,326.5496 C135.967,324.8034,134.1252,313.6221,134.9577,312.822 M134.9577,312.822 C135.7902,312.0219,138.3045,319.7607,140.0702,321.7488 M140.0702,321.7488 C141.8359,323.7368,144.9207,321.113,145.5519,324.7502 M145.5519,324.7502 C146.1831,328.3875,143.5394,341.8827,143.8573,343.5723 M143.8573,343.5723 C144.1753,345.2619,145.2379,336.2985,147.4594,334.8879 M147.4594,334.8879 C149.681,333.4773,156.5294,335.5169,157.1867,335.1087 M157.1867,335.1087 C157.844,334.7006,151.3073,331.865,151.4031,332.439 M151.4031,332.439 C151.499,333.0129,156.911,340.608,157.7617,338.5525 M157.7617,338.5525 C158.6125,336.4969,156.5653,321.9024,156.5078,320.1056 M156.5078,320.1056 C156.4502,318.3088,155.8911,326.2304,157.4165,327.7716 M157.4165,327.7716 C158.9419,329.3128,164.264,329.7707,165.6602,329.353 M165.6602,329.353 C167.0564,328.9353,164.948,324.6445,165.7935,325.2654 M165.7935,325.2654 C166.6391,325.8863,170.4128,333.4719,170.7335,333.0785 M170.7335,333.0785 C171.0542,332.6851,167.5019,325.4238,167.7179,322.9051 M167.7179,322.9051 C167.9339,320.3864,170.2617,317.3186,172.0296,317.9664 M172.0296,317.9664 C173.7975,318.6142,176.2172,326.6979,178.325,326.7919 M178.325,326.7919 C180.4329,326.886,184.5833,315.3078,184.6766,318.5307 M184.6766,318.5307 C184.7699,321.7537,179.2695,343.4158,178.8849,346.1297 M178.8849,346.1297 C178.5003,348.8436,180.1293,338.4134,182.3692,334.814 M182.3692,334.814 C184.6092,331.2146,191.0623,329.4131,192.3246,324.5332 M192.3246,324.5332 C193.5869,319.6533,190.1736,308.4385,189.9431,305.5348 M189.9431,305.5348 C189.7125,302.6311,191.3678,304.9943,190.9412,307.111 M190.9412,307.111 C190.5145,309.2277,186.4246,314.3745,187.383,318.235 M187.383,318.235 C188.3413,322.0955,195.3977,327.3454,196.6913,330.2741 M196.6913,330.2741 C197.9849,333.2029,194.7119,338.44,195.1446,335.8074 M195.1446,335.8074 C195.5773,333.1749,196.9545,313.4155,199.2876,314.4791 M199.2876,314.4791 C201.6208,315.5426,208.0199,341.4409,209.1435,342.1885 M209.1435,342.1885 C210.2672,342.9361,206.3993,319.0298,206.0295,318.9648 M206.0295,318.9648 C205.6596,318.8998,205.9714,343.5947,206.9244,341.7985 M206.9244,341.7985 C207.8774,340.0023,210.9224,310.308,211.7476,308.1875 M211.7476,308.1875 C212.5728,306.0669,210.0181,325.0246,211.8755,329.0752 M211.8755,329.0752 C213.7328,333.1259,221.1599,334.5145,222.8916,332.4915 M222.8916,332.4915 C224.6234,330.4685,222.3749,317.2419,222.266,316.9373 M222.266,316.9373 C222.157,316.6327,220.5158,328.6898,222.2381,330.664 M222.2381,330.664 C223.9603,332.6381,232.2279,329.6798,232.5994,328.782 M232.5994,328.782 C232.9709,327.8843,224.6629,324.6513,224.4671,325.2774 M224.4671,325.2774 C224.2713,325.9034,229.688,332.8126,231.4247,332.5383 M231.4247,332.5383 C233.1615,332.2641,234.7882,324.8701,234.8876,323.6316 M234.8876,323.6316 C234.987,322.3932,231.4283,326.1236,232.021,325.1076 M232.021,325.1076 C232.6137,324.0917,236.8774,318.0158,238.4437,317.536 M238.4437,317.536 C240.01,317.0562,241.1324,323.0477,241.4189,322.229 M241.4189,322.229 C241.7054,321.4103,240.946,311.5602,240.1629,312.6239 M240.1629,312.6239 C239.3799,313.6877,235.6365,325.6609,236.7208,328.6115 M236.7208,328.6115 C237.8052,331.5621,244.3292,329.4737,246.6693,330.3276 M246.6693,330.3276 C249.0094,331.1814,250.7584,333.6588,250.7614,333.7349 M250.7614,333.7349 C250.7645,333.8109,245.4953,333.2903,246.6875,330.7838 M246.6875,330.7838 C247.8798,328.2774,255.6849,321.0053,257.9149,318.6963 M257.9149,318.6963 C260.145,316.3873,260.3197,314.8145,260.0679,316.9298 M260.0679,316.9298 C259.8161,319.0452,255.7352,330.4811,256.4042,331.3887 M256.4042,331.3887 C257.0733,332.2962,262.7017,325.2284,264.082,322.3753 M264.082,322.3753 C265.4623,319.5222,264.235,312.5919,264.686,314.27 M264.686,314.27 C265.137,315.9481,265.3835,329.1057,266.7879,332.4439 M266.7879,332.4439 C268.1923,335.7821,272.9296,334.2349,273.1124,334.2992 M273.1124,334.2992 C273.2952,334.3636,267.9177,335.3058,267.8846,332.8298 M267.8846,332.8298 C267.8514,330.3538,271.0389,318.9631,272.9134,319.4432 M272.9134,319.4432 C274.788,319.9233,277.8272,333.3767,279.132,335.7106 M279.132,335.7106 C280.4368,338.0444,280.1498,331.8246,280.7423,333.4461 M280.7423,333.4461 C281.3348,335.0677,281.7553,345.6903,282.687,345.44 M282.687,345.44 C283.6186,345.1898,285.2772,335.5195,286.3325,331.9447 M286.3325,331.9447 C287.3877,328.3698,287.3288,324.1131,289.0186,323.9907 M289.0186,323.9907 C290.7083,323.8683,295.8006,330.4592,296.471,331.2102 M296.471,331.2102 C297.1414,331.9612,293.338,329.2721,293.041,328.4968 M293.041,328.4968 C292.7441,327.7214,293.603,329.4684,294.6893,326.5581 M294.6893,326.5581 C295.7757,323.6478,299.0404,308.185,299.5589,311.0351 M299.5589,311.0351 C300.0774,313.8852,297.6972,338.663,297.8003,343.6587 M297.8003,343.6587 C297.9035,348.6544,298.8375,343.5531,300.1778,341.0092 M300.1778,341.0092 C301.518,338.4653,304.9243,330.6451,305.8419,328.3953 M305.8419,328.3953 C306.7594,326.1456,304.4687,326.3318,305.683,327.5107 M305.683,327.5107 C306.8972,328.6895,311.5496,334.8764,313.1274,335.4685 M313.1274,335.4685 C314.7052,336.0607,314.8474,334.3528,315.1497,331.0635 M315.1497,331.0635 C315.452,327.7743,313.7019,314.532,314.9412,315.7331 M314.9412,315.7331 C316.1805,316.9342,321.5738,338.3989,322.5856,338.2702 M322.5856,338.2702 C323.5973,338.1414,320.4903,317.7839,321.0116,314.9605 M321.0116,314.9605 C321.533,312.1371,324.7554,318.0649,325.7137,321.3296 M325.7137,321.3296 C326.672,324.5944,325.5517,332.5072,326.7614,334.5489 M326.7614,334.5489 C327.9711,336.5906,332.0899,332.7518,332.9721,333.5798 M332.9721,333.5798 C333.8544,334.4078,331.8598,339.4016,332.0549,339.517 M332.0549,339.517 C332.2501,339.6323,332.8416,336.8712,334.143,334.272 M334.143,334.272 C335.4444,331.6728,338.9953,324.075,339.8634,323.9219 M339.8634,323.9219 C340.7316,323.7688,339.1455,331.6576,339.3519,333.3535 M339.3519,333.3535 C339.5583,335.0494,340.0915,336.626,341.1017,334.0972 M341.1017,334.0972 C342.1119,331.5684,343.009,322.0442,345.4132,318.181 M345.4132,318.181 C347.8173,314.3177,354.2377,308.5812,355.5265,310.9176 M355.5265,310.9176 C356.8153,313.2539,354.0858,327.631,353.1459,332.1991 M353.1459,332.1991 C352.2061,336.7672,349.037,338.0427,349.8873,338.3262 M349.8873,338.3262 C350.7376,338.6097,357.5624,333.8471,358.2479,333.9001 M358.2479,333.9001 C358.9334,333.9532,354.0097,341.1003,354.0003,338.6444 M354.0003,338.6444 C353.991,336.1885,356.5033,323.0118,358.1919,319.1646 M358.1919,319.1646 C359.8805,315.3173,363.4809,315.6356,364.1319,315.561 M364.1319,315.561 C364.7829,315.4864,361.4095,314.8804,362.098,318.717 M362.098,318.717 C362.7864,322.5536,366.2627,337.5462,368.2625,338.5807 M368.2625,338.5807 C370.2623,339.6152,374.4402,325.8636,374.0968,324.9242 M374.0968,324.9242 C373.7534,323.9847,366.4584,331.5083,366.202,332.9437 M366.202,332.9437 C365.9457,334.3791,370.1108,334.7377,372.5587,333.5365 M372.5587,333.5365 C375.0066,332.3353,380.2815,325.4517,380.8893,325.7363 M380.8893,325.7363 C381.4971,326.0209,376.0442,334.6439,376.2054,335.2441 M376.2054,335.2441 C376.3666,335.8444,379.7327,328.6874,381.8565,329.3377 M381.8565,329.3377 C383.9803,329.9881,387.5323,341.1358,388.9483,339.1462 M388.9483,339.1462 C390.3643,337.1565,390.0716,320.7958,390.3526,317.4001 M390.3526,317.4001 C390.6336,314.0043,390.3887,315.511,390.6343,318.7715 M390.6343,318.7715 C390.8799,322.0321,391.886,336.2275,391.8262,336.9632 M391.8262,336.9632 C391.7665,337.6989,389.1538,324.4064,390.2759,323.1856 M390.2759,323.1856 C391.3981,321.9649,396.96,328.4622,398.5593,329.6387 M398.5593,329.6387 C400.1585,330.8152,398.9293,329.6823,399.8715,330.2447 M399.8715,330.2447 C400.8137,330.8071,402.9849,332.9455,404.2126,333.013 M404.2126,333.013 C405.4402,333.0805,406.7639,329.942,407.2376,330.6497 M407.2376,330.6497 C407.7113,331.3574,406.3118,336.3073,407.0549,337.2592 M407.0549,337.2592 C407.7981,338.211,409.9201,337.6437,411.6965,336.3608 M411.6965,336.3608 C413.4729,335.0779,416.5491,330.7804,417.7133,329.5618 M417.7133,329.5618 C418.8775,328.3432,418.311,327.5072,418.6817,329.0492 M418.6817,329.0492 C419.0523,330.5912,419.2317,341.2487,419.937,338.8137 M419.937,338.8137 C420.6422,336.3787,422.6076,314.3556,422.9133,314.4393 M422.9133,314.4393 C423.2189,314.523,421.1691,337.3987,421.7708,339.3158 M421.7708,339.3158 C422.3726,341.2329,424.874,330.2145,426.5236,325.9418 M426.5236,325.9418 C428.1732,321.6691,431.4168,314.5009,431.6685,313.6796 M431.6685,313.6796 C431.9201,312.8582,428.4412,318.8438,428.0337,321.0136 M428.0337,321.0136 C427.6261,323.1835,427.5846,326.2525,429.2232,326.6986 M429.2232,326.6986 C430.8619,327.1447,436.5127,323.8981,437.8656,323.6902 M437.8656,323.6902 C439.2186,323.4823,437.1251,324.5022,437.3408,325.4512 M437.3408,325.4512 C437.5565,326.4002,438.0822,330.1322,439.16,329.3843 M439.16,329.3843 C440.2378,328.6365,442.2691,322.7218,443.8077,320.964 M443.8077,320.964 C445.3464,319.2062,447.4565,320.0222,448.392,318.8373 M448.392,318.8373 C449.3275,317.6524,449.0601,312.9212,449.4209,313.8548 M449.4209,313.8548 C449.7817,314.7884,449.9538,320.1406,450.5568,324.4391 M450.5568,324.4391 C451.1599,328.7376,452.167,337.286,453.0393,339.6458 M453.0393,339.6458 C453.9115,342.0056,454.2053,338.3578,455.7904,338.5978 M455.7904,338.5978 C457.3756,338.8378,460.4311,343.7794,462.55,341.0857 M462.55,341.0857 C464.669,338.3919,468.7207,327.3353,468.5042,322.4353 M468.5042,322.4353 C468.2876,317.5353,460.7855,311.753,461.2507,311.6856 M461.2507,311.6856 C461.716,311.6181,470.2994,318.1207,471.2957,322.0304 M471.2957,322.0304 C472.292,325.9401,466.5086,334.7541,467.2287,335.1437 M467.2287,335.1437 C467.9487,335.5333,474.762,326.3364,475.6159,324.368 M475.6159,324.368 C476.4698,322.3997,472.3729,322.4913,472.3519,323.3335 M472.3519,323.3335 C472.3309,324.1757,474.1415,328.6431,475.49,329.4213 M475.49,329.4213 C476.8384,330.1995,478.5108,326.1716,480.4427,328.0028 M480.4427,328.0028 C482.3747,329.834,485.8235,340.3896,487.0817,340.4085 M487.0817,340.4085 C488.3399,340.4274,487.819,326.9804,487.9921,328.1162 M487.9921,328.1162 C488.1651,329.2519,488.109,346.0178,488.12,347.223 M488.12,347.223 C488.1311,348.4281,487.4595,339.3612,488.0584,335.347 M488.0584,335.347 C488.6573,331.3328,489.9213,325.1152,491.7134,323.1377 M491.7134,323.1377 C493.5055,321.1602,497.3923,322.2722,498.811,323.482 M498.811,323.482 C500.2297,324.6918,500.1069,331.8496,500.2255,330.3964 M500.2255,330.3964 C500.3441,328.9432,498.9565,312.2709,499.5225,314.7626 M499.5225,314.7626 C500.0884,317.2542,501.4084,338.2523,503.6213,345.3462 M503.6213,345.3462 C505.8343,352.44,511.8947,359.924,512.8,357.3255 M512.8,357.3255 C513.7053,354.727,509.1799,335.951,509.0533,329.7553 M509.0533,329.7553 C508.9268,323.5595,511.4874,321.0862,512.0407,320.1509 M512.0407,320.1509 C512.594,319.2156,511.7361,323.0088,512.3732,324.1435 M512.3732,324.1435 C513.0103,325.2782,514.9351,326.0891,515.8632,326.959 M515.8632,326.959 C516.7913,327.829,517.2268,327.1581,517.942,329.3632 M517.942,329.3632 C518.6571,331.5684,519.6299,341.1557,520.1541,340.1899 M520.1541,340.1899 C520.6784,339.2242,520.1784,325.1742,521.0875,323.5688 M521.0875,323.5688 C521.9965,321.9635,523.537,330.1598,525.6084,330.5576 M525.6084,330.5576 C527.6799,330.9553,532.7409,325.5052,533.516,325.9555 M533.516,325.9555 C534.2911,326.4057,530.6805,332.6377,530.2591,333.2592 M530.2591,333.2592 C529.8377,333.8807,529.5436,330.5618,530.9876,329.6844\" fill=\"none\" stroke=\"rgba(0,0,0,1)\" stroke-width=\"2\" stroke-miterlimit=\"10\"/>\n",
       "<path d=\"M33.6656,354.2973 C34.6173,355.0032,35.69,357.4779,38.1609,356.0302 M38.1609,356.0302 C40.6318,354.5824,47.1867,344.1405,48.4908,345.6109 M48.4908,345.6109 C49.7948,347.0812,45.0219,362.7401,45.9851,364.8522 M45.9851,364.8522 C46.9483,366.9643,50.1565,356.687,54.2701,358.2836 M54.2701,358.2836 C58.3837,359.8802,67.68,371.4896,70.6667,374.4317 M70.6667,374.4317 C73.6534,377.3739,71.6708,381.1693,72.1902,375.9363 M72.1902,375.9363 C72.7097,370.7034,71.6909,346.0926,73.7835,343.034 M73.7835,343.034 C75.8761,339.9753,82.6371,353.5995,84.7456,357.5844 M84.7456,357.5844 C86.8541,361.5693,84.7917,363.6083,86.4346,366.9432 M86.4346,366.9432 C88.0775,370.2781,91.0427,379.89,94.603,377.5938 M94.603,377.5938 C98.1633,375.2976,103.9912,356.2361,107.7963,353.1658 M107.7963,353.1658 C111.6015,350.0954,115.2191,357.4149,117.4337,359.1718 M117.4337,359.1718 C119.6483,360.9287,120.3012,362.6399,121.084,363.7071 M121.084,363.7071 C121.8668,364.7743,121.0409,364.7573,122.1306,365.575 M122.1306,365.575 C123.2203,366.3927,126.6554,372.0249,127.6221,368.6135 M127.6221,368.6135 C128.5888,365.2022,126.7713,346.5619,127.9308,345.1071 M127.9308,345.1071 C129.0904,343.6522,131.8629,357.6751,134.5794,359.8845 M134.5794,359.8845 C137.2958,362.0938,139.6645,356.2221,144.2297,358.3632 M144.2297,358.3632 C148.7948,360.5043,159.0972,371.7961,161.9704,372.7312 M161.9704,372.7312 C164.8437,373.6662,160.9871,364.8128,161.4691,363.9735 M161.4691,363.9735 C161.951,363.1343,164.4449,367.8037,164.8621,367.6959 M164.8621,367.6959 C165.2794,367.5881,163.8623,364.9665,163.9726,363.3267 M163.9726,363.3267 C164.0829,361.6869,162.8549,360.3346,165.5242,357.8573 M165.5242,357.8573 C168.1934,355.38,177.229,349.0944,179.988,348.463 M179.988,348.463 C182.747,347.8315,180.9221,352.9481,182.0782,354.0685 M182.0782,354.0685 C183.2343,355.1889,185.7787,352.3646,186.9247,355.1855 M186.9247,355.1855 C188.0706,358.0063,187.4443,370.4326,188.9538,370.9936 M188.9538,370.9936 C190.4633,371.5546,192.5762,357.5385,195.9818,358.5515 M195.9818,358.5515 C199.3874,359.5645,206.4358,375.1406,209.3874,377.0718 M209.3874,377.0718 C212.339,379.0031,212.5036,372.7966,213.6915,370.1389 M213.6915,370.1389 C214.8794,367.4812,214.6857,364.8345,216.5148,361.1258 M216.5148,361.1258 C218.3438,357.4171,222.7127,348.9542,224.666,347.8869 M224.666,347.8869 C226.6193,346.8196,225.1861,349.4416,228.2347,354.7221 M228.2347,354.7221 C231.2832,360.0025,239.732,378.6257,242.9572,379.5695 M242.9572,379.5695 C246.1824,380.5132,246.2476,361.595,247.5859,360.3845 M247.5859,360.3845 C248.9242,359.1741,248.7043,371.5864,250.9869,372.307 M250.9869,372.307 C253.2696,373.0276,258.8916,366.807,261.2817,364.7082 M261.2817,364.7082 C263.6718,362.6094,263.7044,360.6352,265.3277,359.7143 M265.3277,359.7143 C266.951,358.7934,267.8832,358.1629,271.0216,359.1828 M271.0216,359.1828 C274.1599,360.2026,281.7134,365.6786,284.1578,365.8335 M284.1578,365.8335 C286.6023,365.9884,284.3244,360.1694,285.6882,360.112 M285.6882,360.112 C287.052,360.0547,292.205,364.0203,292.3407,365.4893 M292.3407,365.4893 C292.4765,366.9583,285.3069,369.4779,286.5026,368.9262 M286.5026,368.9262 C287.6982,368.3745,297.503,364.3379,299.5146,362.1788 M299.5146,362.1788 C301.5262,360.0197,295.854,354.9403,298.5722,355.9716 M298.5722,355.9716 C301.2904,357.0029,311.6955,367.0114,315.8237,368.3666 M315.8237,368.3666 C319.9518,369.7219,322.7991,365.076,323.3411,364.1032 M323.3411,364.1032 C323.8831,363.1304,318.5673,364.7088,319.0759,362.5296 M319.0759,362.5296 C319.5845,360.3503,323.4312,351.1939,326.3927,351.0276 M326.3927,351.0276 C329.3542,350.8614,336.0575,362.3058,336.845,361.5321 M336.845,361.5321 C337.6324,360.7585,328.9616,347.5336,331.1171,346.3858 M331.1171,346.3858 C333.2727,345.238,346.0097,352.3563,349.7781,354.6456 M349.7781,354.6456 C353.5465,356.9349,352.5838,356.6478,353.7274,360.1216 M353.7274,360.1216 C354.871,363.5954,354.5616,376.3848,356.6399,375.4885 M356.6399,375.4885 C358.7183,374.5922,364.6341,357.2913,366.1977,354.7437 M366.1977,354.7437 C367.7612,352.1961,363.9957,358.8485,366.0213,360.2029 M366.0213,360.2029 C368.047,361.5573,376.1444,362.7839,378.3517,362.87 M378.3517,362.87 C380.559,362.9561,378.1077,359.6378,379.265,360.7196 M379.265,360.7196 C380.4224,361.8014,383.3979,370.7484,385.2957,369.3609 M385.2957,369.3609 C387.1935,367.9735,388.0268,350.2204,390.6518,352.3949 M390.6518,352.3949 C393.2767,354.5694,398.9376,381.5076,401.0456,382.4079 M401.0456,382.4079 C403.1537,383.3082,401.562,363.1882,403.3002,357.7967 M403.3002,357.7967 C405.0385,352.4052,407.9688,349.4091,411.4752,350.0589 M411.4752,350.0589 C414.9815,350.7086,422.8586,362.2388,424.3383,361.6955 M424.3383,361.6955 C425.8181,361.1521,420.7984,344.7215,420.3537,346.7986 M420.3537,346.7986 C419.909,348.8757,418.6242,371.4986,421.6699,374.1579 M421.6699,374.1579 C424.7157,376.8172,433.3658,365.3729,438.6283,362.7543 M438.6283,362.7543 C443.8908,360.1358,453.2497,359.8124,453.245,358.4468 M453.245,358.4468 C453.2402,357.0812,438.9461,353.1537,438.5997,354.5607 M438.5997,354.5607 C438.2533,355.9677,449.3191,366.0009,451.1666,366.889 M451.1666,366.889 C453.0142,367.7771,447.0237,359.3694,449.685,359.8891 M449.685,359.8891 C452.3463,360.4089,464.9259,371.0131,467.1344,370.0074 M467.1344,370.0074 C469.343,369.0018,459.6849,354.5913,462.9364,353.8552 M462.9364,353.8552 C466.1878,353.119,483.2269,362.7485,486.643,365.5904 M486.643,365.5904 C490.0591,368.4324,481.0394,368.3992,483.4329,370.9071 M483.4329,370.9071 C485.8264,373.4149,496.2791,381.0033,501.0039,380.6376 M501.0039,380.6376 C505.7286,380.2718,512.0591,373.0564,511.7812,368.7128 M511.7812,368.7128 C511.5033,364.3691,499.3701,354.8584,499.3367,354.5755 M499.3367,354.5755 C499.3033,354.2926,508.0861,365.3126,511.5807,367.0154 M511.5807,367.0154 C515.0754,368.7182,518.3743,368.0242,520.3045,364.7922 M520.3045,364.7922 C522.2346,361.5602,521.6237,347.4527,523.1618,347.6234 M523.1618,347.6234 C524.6999,347.7942,527.2915,364.4797,529.5331,365.8168\" fill=\"none\" stroke=\"rgba(0,0,0,1)\" stroke-width=\"2\" stroke-miterlimit=\"10\"/>\n",
       "<path d=\"M29.3187,394.6453 C29.8624,394.9822,30.6339,389.8283,32.6443,390.197 M32.6443,390.197 C34.6546,390.5657,40.6083,395.5622,41.3808,396.8575 M41.3808,396.8575 C42.1533,398.1529,37.592,398.8588,37.2793,397.9691 M37.2793,397.9691 C36.9667,397.0794,38.0489,391.2268,39.5047,391.5195 M39.5047,391.5195 C40.9606,391.8122,45.1952,398.3195,46.0144,399.7255 M46.0144,399.7255 C46.8336,401.1315,43.1182,400.9837,44.4201,399.9555 M44.4201,399.9555 C45.722,398.9273,54.0085,394.1643,53.8259,393.5564 M53.8259,393.5564 C53.6434,392.9485,42.7178,395.951,43.3248,396.308 M43.3248,396.308 C43.9318,396.665,54.7537,397.324,57.4678,395.6983 M57.4678,395.6983 C60.1819,394.0726,59.8575,388.1354,59.6093,386.5537 M59.6093,386.5537 C59.361,384.972,55.596,383.0445,55.9783,386.2083 M55.9783,386.2083 C56.3606,389.3721,60.8428,403.9967,61.9031,405.5364 M61.9031,405.5364 C62.9633,407.0762,61.4778,399.7099,62.3397,395.4467 M62.3397,395.4467 C63.2016,391.1836,65.5138,379.199,67.0745,379.9574 M67.0745,379.9574 C68.6352,380.7158,71.0513,398.4965,71.704,399.9974 M71.704,399.9974 C72.3567,401.4983,71.0998,391.1622,70.9909,388.9628 M70.9909,388.9628 C70.8819,386.7634,69.8647,382.6613,71.0503,386.801 M71.0503,386.801 C72.2359,390.9407,77.3583,413.4169,78.1043,413.801 M78.1043,413.801 C78.8502,414.1851,74.7996,392.1577,75.5258,389.1058 M75.5258,389.1058 C76.252,386.054,81.139,390.3232,82.4612,395.49 M82.4612,395.49 C83.7835,400.6569,82.2885,420.8085,83.4593,420.107 M83.4593,420.107 C84.6302,419.4054,88.4725,392.8123,89.4863,391.2809 M89.4863,391.2809 C90.5001,389.7496,88.9464,410.6094,89.5419,410.919 M89.5419,410.919 C90.1374,411.2285,92.7327,396.8505,93.0592,393.138 M93.0592,393.138 C93.3856,389.4254,90.4191,386.4241,91.5008,388.6437 M91.5008,388.6437 C92.5824,390.8633,98.9883,406.3695,99.5491,406.4556 M99.5491,406.4556 C100.11,406.5417,94.521,390.0249,94.8659,389.1604 M94.8659,389.1604 C95.2107,388.2958,100.2964,401.8153,101.6183,401.2683 M101.6183,401.2683 C102.9402,400.7213,101.6387,386.3628,102.7972,385.8785 M102.7972,385.8785 C103.9558,385.3941,107.7028,398.1515,108.5698,398.3623 M108.5698,398.3623 C109.4367,398.5731,107.0216,388.2888,107.9991,387.1434 M107.9991,387.1434 C108.9765,385.9979,113.4027,394.4087,114.4344,391.4897 M114.4344,391.4897 C115.4661,388.5708,114.2036,368.3519,114.1893,369.6297 M114.1893,369.6297 C114.175,370.9076,113.6767,396.4919,114.3487,399.1568 M114.3487,399.1568 C115.0206,401.8217,116.8558,384.7205,118.221,385.619 M118.221,385.619 C119.5862,386.5175,121.4035,402.6105,122.5399,404.548 M122.5399,404.548 C123.6764,406.4855,123.9858,400.4392,125.0398,397.244 M125.0398,397.244 C126.0937,394.0488,127.5233,385.7421,128.8636,385.3767 M128.8636,385.3767 C130.204,385.0113,130.7881,394.6973,133.0819,395.0516 M133.0819,395.0516 C135.3756,395.4059,142.4047,391.1744,142.6263,387.5025 M142.6263,387.5025 C142.8478,383.8307,134.3538,370.6303,134.4112,373.0204 M134.4112,373.0204 C134.4686,375.4106,142.5262,397.5067,142.9707,401.8432 M142.9707,401.8432 C143.4152,406.1797,137.074,397.9541,137.0782,399.0397 M137.0782,399.0397 C137.0825,400.1253,141.8312,407.6594,142.996,408.3568 M142.996,408.3568 C144.1608,409.0543,143.6637,404.5494,144.0671,403.2244 M144.0671,403.2244 C144.4704,401.8994,144.843,402.2515,145.416,400.4069 M145.416,400.4069 C145.9891,398.5623,145.91,394.0364,147.5051,392.1569 M147.5051,392.1569 C149.1003,390.2774,153.3945,389.1843,154.9871,389.1299 M154.9871,389.1299 C156.5797,389.0755,156.1839,391.6642,157.0607,391.8308 M157.0607,391.8308 C157.9375,391.9973,159.5974,391.6252,160.2478,390.1292 M160.2478,390.1292 C160.8982,388.6331,159.0645,380.5927,160.9631,382.8547 M160.9631,382.8547 C162.8616,385.1166,170.6412,402.2209,171.639,403.7008 M171.639,403.7008 C172.6369,405.1808,167.8829,394.4427,166.9501,391.7346 M166.9501,391.7346 C166.0173,389.0265,164.8266,386.0647,166.0421,387.4521 M166.0421,387.4521 C167.2577,388.8396,173.5544,396.9342,174.2434,400.0593 M174.2434,400.0593 C174.9324,403.1845,169.8849,407.6433,170.1762,406.203 M170.1762,406.203 C170.4675,404.7626,174.4739,393.5695,175.9913,391.4172 M175.9913,391.4172 C177.5086,389.2649,178.2577,394.0162,179.2804,393.289 M179.2804,393.289 C180.303,392.5619,181.8777,389.4191,182.1269,387.0542 M182.1269,387.0542 C182.3762,384.6892,179.9639,377.7848,180.7759,379.0993 M180.7759,379.0993 C181.5879,380.4138,184.3131,392.2904,186.999,394.9412 M186.999,394.9412 C189.6848,397.592,195.9688,394.339,196.8908,395.0041 M196.8908,395.0041 C197.8129,395.6692,193.5858,399.5332,192.5313,398.9317 M192.5313,398.9317 C191.4769,398.3302,190.0904,390.8332,190.5643,391.395 M190.5643,391.395 C191.0381,391.9568,193.5286,400.4013,195.3746,402.3026 M195.3746,402.3026 C197.2206,404.204,200.4311,406.9196,201.6402,402.8031 M201.6402,402.8031 C202.8492,398.6866,201.6181,381.8354,202.6287,377.6037 M202.6287,377.6037 C203.6393,373.372,207.0098,375.7292,207.7036,377.4131 M207.7036,377.4131 C208.3975,379.097,205.5588,386.4918,206.7916,387.7072 M206.7916,387.7072 C208.0243,388.9225,213.476,382.2732,215.1003,384.7051 M215.1003,384.7051 C216.7246,387.137,215.9974,399.5637,216.5372,402.2988 M216.5372,402.2988 C217.077,405.0338,219.1662,404.6695,218.339,401.1156 M218.339,401.1156 C217.5118,397.5616,211.556,383.566,211.5739,380.9753 M211.5739,380.9753 C211.5919,378.3845,216.3987,384.6804,218.4468,385.5709 M218.4468,385.5709 C220.495,386.4615,220.8643,385.5777,223.8628,386.3186 M223.8628,386.3186 C226.8614,387.0595,235.5844,387.4273,236.4381,390.0163 M236.4381,390.0163 C237.2917,392.6054,229.9392,400.8162,228.9849,401.853 M228.9849,401.853 C228.0306,402.8898,230.6765,397.5913,230.7124,396.2371 M230.7124,396.2371 C230.7482,394.8829,227.9383,396.1427,229.2001,393.7277 M229.2001,393.7277 C230.4619,391.3127,237.756,380.4496,238.2831,381.7469 M238.2831,381.7469 C238.8101,383.0442,231.9764,401.1216,232.3625,401.5116 M232.3625,401.5116 C232.7487,401.9015,238.8624,387.943,240.6,384.0867 M240.6,384.0867 C242.3376,380.2304,242.7367,377.9986,242.7882,378.3737 M242.7882,378.3737 C242.8397,378.7488,239.7075,382.5051,240.9091,386.3373 M240.9091,386.3373 C242.1107,390.1695,248.661,397.8354,249.9979,401.3669 M249.9979,401.3669 C251.3347,404.8983,247.6815,409.1152,248.9301,407.5263 M248.9301,407.5263 C250.1787,405.9374,254.9926,392.0306,257.4895,391.8336 M257.4895,391.8336 C259.9863,391.6366,263.5947,404.9864,263.9112,406.3443 M263.9112,406.3443 C264.2278,407.7022,259.3518,402.0595,259.3888,399.981 M259.3888,399.981 C259.4259,397.9025,263.4685,394.724,264.1335,393.8736 M264.1335,393.8736 C264.7984,393.0232,263.5331,394.7029,263.3785,394.8787 M263.3785,394.8787 C263.2238,395.0544,260.8457,394.4329,263.2056,394.9281 M263.2056,394.9281 C265.5655,395.4232,276.0305,397.5996,277.5379,397.8494 M277.5379,397.8494 C279.0452,398.0992,273.8249,395.3498,272.2496,396.4267 M272.2496,396.4267 C270.6742,397.5036,267.8173,407.0202,268.086,404.3106 M268.086,404.3106 C268.3548,401.601,271.5498,380.3042,273.8619,380.1691 M273.8619,380.1691 C276.1739,380.0339,281.8353,402.8099,281.9585,403.4996 M281.9585,403.4996 C282.0818,404.1893,274.0068,385.3728,274.6013,384.3073 M274.6013,384.3073 C275.1958,383.2419,283.9767,394.589,285.5255,397.1072 M285.5255,397.1072 C287.0744,399.6253,282.7635,399.1737,283.8945,399.4163 M283.8945,399.4163 C285.0256,399.659,291.5419,398.6181,292.3118,398.5632 M292.3118,398.5632 C293.0817,398.5083,288.158,398.9622,288.5139,399.0872 M288.5139,399.0872 C288.8698,399.2122,292.5202,399.6506,294.4472,399.3131 M294.4472,399.3131 C296.3742,398.9755,298.9411,398.8401,300.076,397.0617 M300.076,397.0617 C301.2109,395.2834,301.0915,389.4012,301.2565,388.643 M301.2565,388.643 C301.4214,387.8847,300.2051,391.3748,301.0658,392.5124 M301.0658,392.5124 C301.9265,393.65,304.582,395.1914,306.4206,395.4684 M306.4206,395.4684 C308.2592,395.7454,312.3213,394.9999,312.0974,394.1745 M312.0974,394.1745 C311.8735,393.3491,304.3743,391.7757,305.077,390.516 M305.077,390.516 C305.7797,389.2564,315.8217,383.841,316.3138,386.6165 M316.3138,386.6165 C316.806,389.3919,308.5373,404.0376,308.0298,407.1685 M308.0298,407.1685 C307.5222,410.2995,311.0294,408.2904,313.2687,405.4023 M313.2687,405.4023 C315.5079,402.5142,319.9261,394.3587,321.4653,389.8401 M321.4653,389.8401 C323.0044,385.3214,320.9236,376.5715,322.5037,378.2905 M322.5037,378.2905 C324.0839,380.0095,330.0304,397.1286,330.9463,400.1543 M330.9463,400.1543 C331.8621,403.1799,327.3677,396.4721,327.9987,396.4444 M327.9987,396.4444 C328.6297,396.4167,333.4528,399.7303,334.7322,399.9882 M334.7322,399.9882 C336.0116,400.2461,335.8889,399.6441,335.6752,397.9918 M335.6752,397.9918 C335.4615,396.3395,333.6299,390.9563,333.4501,390.0746 M333.4501,390.0746 C333.2703,389.1929,332.2647,392.6405,334.5965,392.7016 M334.5965,392.7016 C336.9283,392.7628,345.8415,388.3235,347.4408,390.4412 M347.4408,390.4412 C349.0401,392.5589,343.4852,402.9028,344.1924,405.4077 M344.1924,405.4077 C344.8996,407.9127,351.9897,408.0698,351.6838,405.4709 M351.6838,405.4709 C351.3778,402.8719,341.6591,391.8307,342.3568,389.814 M342.3568,389.814 C343.0546,387.7973,354.0054,393.87,355.8705,393.3707 M355.8705,393.3707 C357.7355,392.8713,353.1894,386.5128,353.5472,386.8179 M353.5472,386.8179 C353.9051,387.123,357.1323,393.7119,358.0175,395.2014 M358.0175,395.2014 C358.9027,396.6909,359.1657,394.1287,358.8584,395.7549 M358.8584,395.7549 C358.5511,397.381,355.5995,405.313,356.1737,404.9582 M356.1737,404.9582 C356.7479,404.6034,360.5692,394.4059,362.3037,393.6263 M362.3037,393.6263 C364.0381,392.8467,364.6985,398.2041,366.5805,400.2806 M366.5805,400.2806 C368.4626,402.3571,373.0468,404.4279,373.596,406.0852 M373.596,406.0852 C374.1451,407.7426,369.8462,411.9512,369.8755,410.2248 M369.8755,410.2248 C369.9048,408.4985,372.0023,397.8229,373.7717,395.727 M373.7717,395.727 C375.5412,393.6311,380.2761,398.3004,380.4924,397.6495 M380.4924,397.6495 C380.7087,396.9987,375.2207,390.8533,375.0695,391.8219 M375.0695,391.8219 C374.9182,392.7904,378.115,402.5265,379.585,403.4609 M379.585,403.4609 C381.055,404.3953,382.2005,400.5099,383.8896,397.4283 M383.8896,397.4283 C385.5788,394.3467,389.4162,382.2617,389.7199,384.9711 M389.7199,384.9711 C390.0237,387.6805,383.8378,410.8748,385.712,413.6848 M385.712,413.6848 C387.5862,416.4947,400.2292,406.0661,400.9652,401.8309 M400.9652,401.8309 C401.7012,397.5957,390.3545,389.2668,390.128,388.2733 M390.128,388.2733 C389.9014,387.2798,397.7748,392.8953,399.6059,395.8699 M399.6059,395.8699 C401.4369,398.8444,401.4148,406.616,401.1145,406.1206 M401.1145,406.1206 C400.8142,405.6252,396.5438,393.8326,397.8041,392.8975 M397.8041,392.8975 C399.0644,391.9624,407.2668,397.7813,408.6762,400.5101 M408.6762,400.5101 C410.0857,403.2388,406.0758,408.9609,406.2608,409.2698 M406.2608,409.2698 C406.4458,409.5787,408.2738,403.4049,409.7864,402.3634 M409.7864,402.3634 C411.299,401.322,413.0216,400.9568,415.3363,403.0213 M415.3363,403.0213 C417.651,405.0857,422.8697,413.2814,423.6747,414.7501 M423.6747,414.7501 C424.4797,416.2188,420.953,416.5077,420.1665,411.8336 M420.1665,411.8336 C419.38,407.1595,418.0613,388.1763,418.9556,386.7055 M418.9556,386.7055 C419.8499,385.2346,423.9066,401.7481,425.5324,403.0084 M425.5324,403.0084 C427.1582,404.2687,428.4333,396.4296,428.7104,394.2673 M428.7104,394.2673 C428.9875,392.1051,426.9178,390.9626,427.195,390.035 M427.195,390.035 C427.4721,389.1074,429.69,388.2582,430.3733,388.702 M430.3733,388.702 C431.0565,389.1458,430.3235,391.2874,431.2945,392.6977 M431.2945,392.6977 C432.2655,394.1079,435.2577,395.443,436.1992,397.1635 M436.1992,397.1635 C437.1406,398.8841,435.2911,401.9186,436.9431,403.021 M436.9431,403.021 C438.595,404.1234,444.8973,404.2301,446.1109,403.778 M446.1109,403.778 C447.3244,403.3259,443.7839,400.7532,444.2243,400.3083 M444.2243,400.3083 C444.6648,399.8635,448.8446,399.7332,448.7535,401.1087 M448.7535,401.1087 C448.6624,402.4842,443.8919,409.5792,443.6775,408.5615 M443.6775,408.5615 C443.4632,407.5437,446.2778,395.2727,447.4673,395.0022 M447.4673,395.0022 C448.6567,394.7316,448.5267,409.1039,450.8142,406.938 M450.8142,406.938 C453.1017,404.7721,459.9004,383.6917,461.1925,382.0068 M461.1925,382.0068 C462.4846,380.3218,458.1105,396.5541,458.5668,396.8281 M458.5668,396.8281 C459.0232,397.102,463.1512,384.2676,463.9306,383.6504 M463.9306,383.6504 C464.71,383.0332,463.2272,394.017,463.2432,393.125 M463.2432,393.125 C463.2592,392.2331,462.5967,379.6748,464.0266,378.2989 M464.0266,378.2989 C465.4566,376.923,470.5463,381.8918,471.8228,384.8694 M471.8228,384.8694 C473.0993,387.8469,470.601,395.476,471.6857,396.164 M471.6857,396.164 C472.7704,396.852,476.963,391.3615,478.3311,388.9975 M478.3311,388.9975 C479.6991,386.6335,479.5117,382.9231,479.8939,381.9799 M479.8939,381.9799 C480.2762,381.0368,480.7818,381.8122,480.6245,383.3385 M480.6245,383.3385 C480.4673,384.8649,478.0007,391.0889,478.9507,391.1379 M478.9507,391.1379 C479.9006,391.187,483.7139,383.4131,486.3241,383.6326 M486.3241,383.6326 C488.9343,383.8522,494.3427,387.9962,494.6121,392.4554 M494.6121,392.4554 C494.8816,396.9146,488.1041,407.7723,487.9408,410.3878 M487.9408,410.3878 C487.7775,413.0034,492.5069,407.7002,493.6322,408.1488 M493.6322,408.1488 C494.7576,408.5974,494.5449,416.1738,494.6929,413.0794 M494.6929,413.0794 C494.8409,409.985,493.5166,392.9189,494.5202,389.5824 M494.5202,389.5824 C495.5239,386.2458,500.0591,390.693,500.7146,393.06 M500.7146,393.06 C501.3701,395.427,498.4007,401.6365,498.4533,403.7844 M498.4533,403.7844 C498.5058,405.9324,499.4099,408.395,501.0299,405.9475 M501.0299,405.9475 C502.6499,403.5,506.7356,392.3091,508.1735,389.0995 M508.1735,389.0995 C509.6114,385.8898,508.801,388.65,509.6573,386.6895 M509.6573,386.6895 C510.5136,384.729,512.0396,377.0276,513.3112,377.3366 M513.3112,377.3366 C514.5828,377.6456,517.1279,386.3844,517.2869,388.5435 M517.2869,388.5435 C517.4459,390.7027,513.2798,391.0504,514.2653,390.2914 M514.2653,390.2914 C515.2507,389.5325,522.15,382.6298,523.1996,383.9896 M523.1996,383.9896 C524.2492,385.3493,519.8259,396.333,520.5626,398.4499 M520.5626,398.4499 C521.2994,400.5667,526.2367,397.4851,527.6201,396.6906 M527.6201,396.6906 C529.0036,395.8961,528.7737,394.9667,528.8635,393.6829 M528.8635,393.6829 C528.9532,392.3991,526.9776,388.6762,528.1586,388.9877 M528.1586,388.9877 C529.3396,389.2991,534.6098,393.4218,535.9495,395.5516\" fill=\"none\" stroke=\"rgba(0,0,0,1)\" stroke-width=\"2\" stroke-miterlimit=\"10\"/>\n",
       "<path d=\"M31.7891,423.7164 C34.744,425.3665,36.139,433.6883,36.6128,434.1056 M36.6128,434.1056 C37.0866,434.5228,33.0295,425.3394,34.6319,426.22 M34.6319,426.22 C36.2344,427.1005,46.2648,439.9523,46.2274,439.3889 M46.2274,439.3889 C46.19,438.8255,35.3765,424.4123,34.4075,422.8396 M34.4075,422.8396 C33.4386,421.2668,39.5154,431.392,40.4136,429.9524 M40.4136,429.9524 C41.3119,428.5128,38.7122,414.8453,39.7971,414.2018 M39.7971,414.2018 C40.8821,413.5583,46.0754,423.7293,46.9234,426.0916 M46.9234,426.0916 C47.7715,428.4539,44.8742,425.4878,44.8856,428.3757 M44.8856,428.3757 C44.8971,431.2635,45.8184,441.7844,46.9922,443.4185 M46.9922,443.4185 C48.166,445.0526,50.893,440.1043,51.9287,438.1801 M51.9287,438.1801 C52.9643,436.2558,51.1512,433.6431,53.2061,431.8728 M53.2061,431.8728 C55.2611,430.1026,63.0154,429.649,64.2584,427.5585 M64.2584,427.5585 C65.5015,425.468,60.9686,419.659,60.6646,419.3299 M60.6646,419.3299 C60.3606,419.0009,61.6978,420.7815,62.4346,425.5841 M62.4346,425.5841 C63.1713,430.3867,64.7564,447.6762,65.0849,448.1457 M65.0849,448.1457 C65.4135,448.6151,63.7504,432.3873,64.4058,428.4008 M64.4058,428.4008 C65.0612,424.4142,66.9028,425.8707,69.0175,424.2264 M69.0175,424.2264 C71.1321,422.582,75.0981,418.4461,77.0938,418.5349 M77.0938,418.5349 C79.0895,418.6238,81.2792,422.8444,80.9917,424.7593 M80.9917,424.7593 C80.7042,426.6742,75.8656,428.5076,75.369,430.0244 M75.369,430.0244 C74.8724,431.5413,76.6774,434.2362,78.012,433.8604 M78.012,433.8604 C79.3467,433.4846,83.1881,426.1968,83.3768,427.7696 M83.3768,427.7696 C83.5655,429.3423,78.4509,444.323,79.144,443.2969 M79.144,443.2969 C79.8371,442.2708,85.2269,424.5392,87.5356,421.6129 M87.5356,421.6129 C89.8443,418.6866,92.6482,424.2189,92.9963,425.7391 M92.9963,425.7391 C93.3444,427.2593,89.075,429.4472,89.6244,430.7341 M89.6244,430.7341 C90.1738,432.0209,95.4689,432.1808,96.2928,433.4602 M96.2928,433.4602 C97.1167,434.7397,94.9988,435.3295,94.5678,438.4108 M94.5678,438.4108 C94.1367,441.4922,92.434,457.171,93.7065,451.9483 M93.7065,451.9483 C94.9791,446.7256,101.2973,409.7072,102.2029,407.0746 M102.2029,407.0746 C103.1085,404.4421,98.1041,432.5903,99.1401,436.1532 M99.1401,436.1532 C100.1762,439.716,105.8232,430.3832,108.4193,428.4515 M108.4193,428.4515 C111.0153,426.5199,114.9237,423.9159,114.7165,424.5631 M114.7165,424.5631 C114.5092,425.2103,106.7955,430.4874,107.1757,432.335 M107.1757,432.335 C107.556,434.1825,116.3313,436.5863,116.9982,435.6483 M116.9982,435.6483 C117.6651,434.7103,110.0952,428.8487,111.1773,426.707 M111.1773,426.707 C112.2594,424.5653,120.3895,423.4713,123.4908,422.798 M123.4908,422.798 C126.5921,422.1247,129.5826,423.5211,129.7852,422.6673 M129.7852,422.6673 C129.9878,421.8136,126.1168,415.4913,124.7063,417.6755 M124.7063,417.6755 C123.2959,419.8598,119.4951,431.2227,121.3226,435.7729 M121.3226,435.7729 C123.15,440.3231,134.2867,445.4799,135.671,444.9767 M135.671,444.9767 C137.0553,444.4734,130.0839,435.5102,129.6282,432.7534 M129.6282,432.7534 C129.1725,429.9966,131.8178,429.1851,132.9368,428.4358 M132.9368,428.4358 C134.0557,427.6866,136.2194,428.4058,136.342,428.2581 M136.342,428.2581 C136.4646,428.1103,132.5609,425.5157,133.6721,427.5494 M133.6721,427.5494 C134.7834,429.5831,141.0156,440.8365,143.0095,440.4601 M143.0095,440.4601 C145.0034,440.0837,144.6138,428.4028,145.6357,425.2909 M145.6357,425.2909 C146.6577,422.179,148.5644,421.145,149.1413,421.7886 M149.1413,421.7886 C149.7182,422.4322,150.0953,426.1366,149.0969,429.1524 M149.0969,429.1524 C148.0986,432.1682,143.3487,441.506,143.1513,439.8834 M143.1513,439.8834 C142.954,438.2608,146.0982,420.6491,147.9129,419.4169 M147.9129,419.4169 C149.7275,418.1847,151.7549,430.341,154.0392,432.4903 M154.0392,432.4903 C156.3234,434.6397,160.6298,432.5126,161.6183,432.3132 M161.6183,432.3132 C162.6069,432.1139,160.7555,430.3223,159.9706,431.2941 M159.9706,431.2941 C159.1857,432.2659,156.4768,437.9504,156.909,438.144 M156.909,438.144 C157.3411,438.3376,161.2178,433.8033,162.5634,432.4559 M162.5634,432.4559 C163.909,431.1085,164.0147,430.0586,164.9828,430.0598 M164.9828,430.0598 C165.9508,430.061,167.213,433.7736,168.3717,432.463 M168.3717,432.463 C169.5303,431.1524,169.4684,423.8718,171.9348,422.1963 M171.9348,422.1963 C174.4012,420.5208,182.6411,421.641,183.1701,422.4101 M183.1701,422.4101 C183.6992,423.1792,175.3439,426.7121,175.1091,426.8111 M175.1091,426.8111 C174.8743,426.91,179.8299,419.8274,181.7615,423.0035 M181.7615,423.0035 C183.6931,426.1797,187.416,446.0256,186.6988,445.8677 M186.6988,445.8677 C185.9817,445.7098,178.3336,425.6448,177.4587,422.056 M177.4587,422.056 C176.5838,418.4671,179.4738,420.6493,181.4496,424.3346 M181.4496,424.3346 C183.4255,428.0199,186.6243,443.3621,189.3136,444.1679 M189.3136,444.1679 C192.0029,444.9737,197.9251,429.8297,197.5855,429.1696 M197.5855,429.1696 C197.246,428.5094,186.5212,441.8279,187.2761,440.207 M187.2761,440.207 C188.0311,438.586,201.3166,418.7253,202.1151,419.444 M202.1151,419.444 C202.9136,420.1626,192.8208,444.404,192.0671,444.519 M192.0671,444.519 C191.3134,444.6339,197.2799,421.2824,197.593,420.1337 M197.593,420.1337 C197.9061,418.9851,192.0801,434.9129,193.9458,437.6271 M193.9458,437.6271 C195.8114,440.3412,205.5632,439.8681,208.7868,436.4186 M208.7868,436.4186 C212.0104,432.969,212.229,417.6296,213.2873,416.9298 M213.2873,416.9298 C214.3457,416.2301,215.0643,427.7783,215.1368,432.2201 M215.1368,432.2201 C215.2093,436.6619,213.9466,447.0468,213.7223,443.5806 M213.7223,443.5806 C213.4979,440.1143,213.5498,413.036,213.7907,411.4227 M213.7907,411.4227 C214.0316,409.8095,213.5007,432.1522,215.1677,433.9011 M215.1677,433.9011 C216.8347,435.6499,222.164,421.7042,223.7927,421.9157 M223.7927,421.9157 C225.4214,422.1273,224.5969,434.6929,224.9399,435.1704 M224.9399,435.1704 C225.2829,435.648,225.6823,427.0308,225.8507,424.781 M225.8507,424.781 C226.0191,422.5312,225.0093,421.5731,225.9503,421.6715 M225.9503,421.6715 C226.8913,421.77,230.3412,425.6533,231.4968,425.3715 M231.4968,425.3715 C232.6523,425.0898,233.5921,420.5191,232.8835,419.9809 M232.8835,419.9809 C232.1749,419.4427,226.7869,421.3129,227.2451,422.1424 M227.2451,422.1424 C227.7033,422.972,233.1032,423.1429,235.6328,424.9583 M235.6328,424.9583 C238.1623,426.7737,241.5799,431.2258,242.4226,433.0347 M242.4226,433.0347 C243.2654,434.8436,238.9222,435.5337,240.6895,435.8119 M240.6895,435.8119 C242.4568,436.0901,251.3944,434.8348,253.0266,434.7038 M253.0266,434.7038 C254.6589,434.5728,252.0653,437.5878,250.4829,435.0258 M250.4829,435.0258 C248.9005,432.4637,243.3079,419.6033,243.5323,419.3315 M243.5323,419.3315 C243.7568,419.0597,250.0817,433.645,251.8296,433.3951 M251.8296,433.3951 C253.5775,433.1452,254.2929,419.2869,254.0198,417.8322 M254.0198,417.8322 C253.7466,416.3775,249.215,424.8335,250.1908,424.6668 M250.1908,424.6668 C251.1665,424.5001,257.7624,417.0582,259.8742,416.832 M259.8742,416.832 C261.9859,416.6059,262.6758,422.7211,262.8612,423.31 M262.8612,423.31 C263.0467,423.8988,260.3307,418.8485,260.987,420.3653 M260.987,420.3653 C261.6433,421.882,266.0124,430.2312,266.7992,432.4104 M266.7992,432.4104 C267.5861,434.5896,263.9928,434.8096,265.7081,433.4406 M265.7081,433.4406 C267.4235,432.0717,275.101,424.3398,277.0913,424.1968 M277.0913,424.1968 C279.0816,424.0538,278.7842,431.802,277.6501,432.5829 M277.6501,432.5829 C276.516,433.3638,269.684,428.5131,270.2869,428.8822 M270.2869,428.8822 C270.8899,429.2512,280.4877,433.7573,281.2678,434.7973 M281.2678,434.7973 C282.0479,435.8372,274.8099,436.5574,274.9676,435.1221 M274.9676,435.1221 C275.1253,433.6868,279.9688,425.3994,282.2141,426.1854 M282.2141,426.1854 C284.4594,426.9714,287.8544,437.9552,288.4393,439.8382 M288.4393,439.8382 C289.0243,441.7213,285.3811,440.5007,285.7238,437.4837 M285.7238,437.4837 C286.0664,434.4667,291.4431,423.9438,290.4952,421.7361 M290.4952,421.7361 C289.5472,419.5285,279.0476,421.3887,280.0361,424.2377 M280.0361,424.2377 C281.0245,427.0867,294.1393,439.0076,296.4258,438.83 M296.4258,438.83 C298.7122,438.6525,293.5318,422.2895,293.7547,423.1723 M293.7547,423.1723 C293.9777,424.055,296.6653,443.331,297.7635,444.1264 M297.7635,444.1264 C298.8616,444.9219,299.3273,429.3228,300.3439,427.9449 M300.3439,427.9449 C301.3605,426.5671,303.6069,437.1063,303.8631,435.8594 M303.8631,435.8594 C304.1192,434.6125,300.2405,419.0245,301.8809,420.4638 M301.8809,420.4638 C303.5212,421.9031,312.7131,442.7431,313.7052,444.4952 M313.7052,444.4952 C314.6973,446.2473,307.6935,434.1329,307.8333,430.9764 M307.8333,430.9764 C307.9732,427.82,313.1739,423.8001,314.5443,425.5565 M314.5443,425.5565 C315.9146,427.3129,315.7505,444.0141,316.0555,441.5151 M316.0555,441.5151 C316.3605,439.0161,314.395,412.0378,316.3743,410.5626 M316.3743,410.5626 C318.3537,409.0873,325.7293,429.5774,327.9315,432.6635 M327.9315,432.6635 C330.1338,435.7496,329.585,427.9701,329.5876,429.0793 M329.5876,429.0793 C329.5901,430.1884,329.4088,438.9735,327.947,439.3183 M327.947,439.3183 C326.4853,439.6632,321.8917,434.3056,320.8171,431.1484 M320.8171,431.1484 C319.7425,427.9911,319.1609,419.0493,321.4994,420.3747 M321.4994,420.3747 C323.8378,421.7002,332.1909,437.1447,334.8479,439.1008 M334.8479,439.1008 C337.5049,441.057,337.4449,432.9032,337.4414,432.1116 M337.4414,432.1116 C337.4379,431.32,333.8596,435.8903,334.8268,434.3515 M334.8268,434.3515 C335.7941,432.8127,340.918,425.4572,343.245,422.879 M343.245,422.879 C345.572,420.3008,348.7275,418.809,348.7887,418.8822 M348.7887,418.8822 C348.85,418.9553,342.6759,423.5694,343.6127,423.3177 M343.6127,423.3177 C344.5495,423.0661,353.398,415.3111,354.4094,417.3723 M354.4094,417.3723 C355.4208,419.4334,350.0526,434.4592,349.6812,435.6845 M349.6812,435.6845 C349.3099,436.9098,352.3065,425.3863,352.1813,424.724 M352.1813,424.724 C352.0561,424.0618,349.7394,432.5715,348.9298,431.7112 M348.9298,431.7112 C348.1202,430.8509,345.2228,418.7165,347.3236,419.5621 M347.3236,419.5621 C349.4245,420.4077,359.5633,436.0287,361.5349,436.7849 M361.5349,436.7849 C363.5064,437.541,358.5702,426.4267,359.153,424.0988 M359.153,424.0988 C359.7359,421.771,364.3841,421.3349,365.0319,422.8177 M365.0319,422.8177 C365.6797,424.3005,361.9595,432.76,363.0399,432.9955 M363.0399,432.9955 C364.1204,433.2309,370.48,423.0922,371.5148,424.2306 M371.5148,424.2306 C372.5496,425.3689,369.4196,439.2713,369.2488,439.8254 M369.2488,439.8254 C369.0781,440.3794,370.2882,426.9937,370.4904,427.5548 M370.4904,427.5548 C370.6926,428.1159,369.982,441.1938,370.4623,443.1918 M370.4623,443.1918 C370.9426,445.1897,369.966,444.7444,373.3721,439.5425 M373.3721,439.5425 C376.7782,434.3407,388.7142,414.3831,390.8989,411.9807 M390.8989,411.9807 C393.0836,409.5783,385.7617,422.5415,386.4803,425.1283 M386.4803,425.1283 C387.1989,427.7151,395.9162,425.7916,395.2106,427.5015 M395.2106,427.5015 C394.5049,429.2115,383.7564,435.3623,382.2466,435.388 M382.2466,435.388 C380.7369,435.4136,384.8063,430.9125,386.1523,427.6556 M386.1523,427.6556 C387.4983,424.3988,388.7799,416.0631,390.3225,415.8467 M390.3225,415.8467 C391.8652,415.6302,395.4899,423.1825,395.4082,426.357 M395.4082,426.357 C395.3265,429.5315,389.3964,433.3293,389.8321,434.8938 M389.8321,434.8938 C390.2679,436.4582,395.7742,439.1426,398.0228,435.7438 M398.0228,435.7438 C400.2714,432.345,402.3517,418.2049,403.3237,414.5009 M403.3237,414.5009 C404.2956,410.797,402.7227,414.2836,403.8545,413.5201 M403.8545,413.5201 C404.9864,412.7566,409.542,404.3949,410.1147,409.9201 M410.1147,409.9201 C410.6874,415.4452,407.0285,443.0616,407.2906,446.671 M407.2906,446.671 C407.5528,450.2805,410.2695,436.6666,411.6874,431.5769 M411.6874,431.5769 C413.1053,426.4871,414.4489,415.4504,415.798,416.1325 M415.798,416.1325 C417.1471,416.8145,417.9507,433.8702,419.782,435.6694 M419.782,435.6694 C421.6134,437.4685,426.0912,428.8543,426.7863,426.9273 M426.7863,426.9273 C427.4813,425.0002,424.7072,424.5915,423.9522,424.107 M423.9522,424.107 C423.1973,423.6225,422.8722,421.7579,422.2563,424.0205 M422.2563,424.0205 C421.6404,426.283,418.8754,437.2471,420.2569,437.6824 M420.2569,437.6824 C421.6383,438.1178,427.9687,428.3384,430.5452,426.6325 M430.5452,426.6325 C433.1216,424.9266,436.0174,427.2541,435.7155,427.4468 M435.7155,427.4468 C435.4137,427.6395,428.268,427.0129,428.7341,427.7888 M428.7341,427.7888 C429.2003,428.5647,437.2495,433.9721,438.5124,432.1024 M438.5124,432.1024 C439.7754,430.2327,436.6928,417.7404,436.3119,416.5705 M436.3119,416.5705 C435.9309,415.4006,434.6543,421.2048,436.2265,425.083 M436.2265,425.083 C437.7988,428.9611,444.2022,439.0233,445.7453,439.8394 M445.7453,439.8394 C447.2883,440.6555,445.4765,429.4481,445.4848,429.9795 M445.4848,429.9795 C445.4931,430.5109,446.7504,442.4938,445.795,443.0279 M445.795,443.0279 C444.8396,443.5621,437.9754,436.4979,439.7523,433.1842 M439.7523,433.1842 C441.5292,429.8706,453.5432,424.0457,456.4564,423.1461 M456.4564,423.1461 C459.3696,422.2465,457.2361,426.7711,457.2314,427.7867 M457.2314,427.7867 C457.2266,428.8022,455.6103,429.3616,456.4279,429.2394 M456.4279,429.2394 C457.2456,429.1172,461.0884,431.8915,462.1372,427.0535 M462.1372,427.0535 C463.1859,422.2154,461.8623,399.4057,462.7204,400.2111 M462.7204,400.2111 C463.5786,401.0164,466.2649,425.9734,467.2862,431.8855 M467.2862,431.8855 C468.3076,437.7976,468.4804,434.7029,468.8485,435.6836 M468.8485,435.6836 C469.2166,436.6643,468.1808,438.472,469.4946,437.7698 M469.4946,437.7698 C470.8084,437.0677,476.3692,431.9374,476.7312,431.4706 M476.7312,431.4706 C477.0931,431.0037,472.2416,436.4014,471.6661,434.969 M471.6661,434.969 C471.0906,433.5366,472.7631,421.9881,473.2783,422.8759 M473.2783,422.8759 C473.7935,423.7637,475.173,438.6647,474.7574,440.2959 M474.7574,440.2959 C474.3418,441.9271,468.7086,436.0767,470.7847,432.6632 M470.7847,432.6632 C472.8608,429.2496,484.9387,419.3573,487.2138,419.8147 M487.2138,419.8147 C489.4888,420.2721,484.3812,432.1935,484.4349,435.4074 M484.4349,435.4074 C484.4886,438.6212,485.8351,439.6624,487.5358,439.0979 M487.5358,439.0979 C489.2365,438.5333,492.9603,434.1758,494.6391,432.0203 M494.6391,432.0203 C496.3178,429.8647,496.2317,425.6893,497.6083,426.1647 M497.6083,426.1647 C498.9849,426.6402,503.7272,431.2693,502.8986,434.8729 M502.8986,434.8729 C502.07,438.4765,492.9596,451.6881,492.6367,447.7865 M492.6367,447.7865 C492.3138,443.8848,498.1441,411.363,500.9613,411.4633 M500.9613,411.4633 C503.7786,411.5635,510.2762,447.108,509.5402,448.3878 M509.5402,448.3878 C508.8043,449.6676,495.7118,421.6586,496.5457,419.1419 M496.5457,419.1419 C497.3796,416.6253,511.0283,433.114,514.5437,433.288 M514.5437,433.288 C518.0591,433.4619,518.4883,419.4593,517.6382,420.1856 M517.6382,420.1856 C516.7882,420.9119,510.3391,437.3641,509.4436,437.6458 M509.4436,437.6458 C508.5481,437.9275,511.2293,423.9862,512.2654,421.8759 M512.2654,421.8759 C513.3014,419.7656,515.461,423.1064,515.6598,424.9838 M515.6598,424.9838 C515.8586,426.8612,511.7992,432.6019,513.4582,433.1402 M513.4582,433.1402 C515.1173,433.6785,523.8935,428.955,525.6142,428.2136 M525.6142,428.2136 C527.3349,427.4722,523.3851,428.3544,523.7822,428.6918 M523.7822,428.6918 C524.1794,429.0292,526.4625,431.271,527.9971,430.2379 M527.9971,430.2379 C529.5317,429.2048,533.2801,421.3794,532.9898,422.4931 M532.9898,422.4931 C532.6995,423.6068,526.544,435.9891,526.2554,436.9203 M526.2554,436.9203 C525.9668,437.8515,528.1918,429.1686,531.2583,428.0802\" fill=\"none\" stroke=\"rgba(0,0,0,1)\" stroke-width=\"2\" stroke-miterlimit=\"10\"/>\n",
       "<path d=\"M32.4518,460.9119 C34.9115,461.3505,40.4424,467.7616,41.6257,467.09 M41.6257,467.09 C42.809,466.4184,39.0882,457.7929,39.5515,456.8825 M39.5515,456.8825 C40.0147,455.9721,42.4331,460.5263,44.4052,461.6274 M44.4052,461.6274 C46.3772,462.7286,49.3831,459.6621,51.3838,463.4892 M51.3838,463.4892 C53.3844,467.3163,54.5299,484.4406,56.4091,484.5901 M56.4091,484.5901 C58.2883,484.7396,61.1389,468.0076,62.6589,464.386 M62.6589,464.386 C64.1789,460.7644,65.101,463.3236,65.5291,462.8606 M65.5291,462.8606 C65.9572,462.3976,63.3311,460.9769,65.2276,461.6081 M65.2276,461.6081 C67.1241,462.2394,75.0398,467.2838,76.908,466.6481 M76.908,466.6481 C78.7762,466.0124,75.1895,458.4201,76.4368,457.794 M76.4368,457.794 C77.6841,457.1679,81.6368,462.7382,84.3916,462.8914 M84.3916,462.8914 C87.1465,463.0446,91.9494,459.9381,92.9658,458.7133 M92.9658,458.7133 C93.9822,457.4885,89.7838,456.0193,90.49,455.5426 M90.49,455.5426 C91.1961,455.0659,95.0966,456.4304,97.2028,455.853 M97.2028,455.853 C99.3091,455.2756,101.3079,452.6907,103.1275,452.0781 M103.1275,452.0781 C104.947,451.4655,107.0691,451.1989,108.12,452.1776 M108.12,452.1776 C109.171,453.1563,108.3752,459.3986,109.4332,457.9503 M109.4332,457.9503 C110.4913,456.502,113.0439,442.64,114.4683,443.4878 M114.4683,443.4878 C115.8927,444.3357,117.1998,461.7768,117.9794,463.0375 M117.9794,463.0375 C118.7589,464.2981,117.4176,451.2367,119.1456,451.0518 M119.1456,451.0518 C120.8737,450.867,126.1314,461.9604,128.3477,461.9283 M128.3477,461.9283 C130.5641,461.8963,130.7972,448.4184,132.4438,450.8597 M132.4438,450.8597 C134.0904,453.3009,136.4486,475.9566,138.2275,476.5759 M138.2275,476.5759 C140.0065,477.1951,141.2077,455.1565,143.1175,454.5754 M143.1175,454.5754 C145.0273,453.9943,148.4052,472.4365,149.6865,473.0892 M149.6865,473.0892 C150.9679,473.742,149.2046,459.2092,150.8055,458.492 M150.8055,458.492 C152.4065,457.7749,157.0421,466.8536,159.2921,468.7866 M159.2921,468.7866 C161.542,470.7196,163.4035,468.2687,164.3052,470.0898 M164.3052,470.0898 C165.2068,471.9109,161.6702,481.2065,164.7018,479.7132 M164.7018,479.7132 C167.7334,478.2199,180.9451,464.86,182.4948,461.1301 M182.4948,461.1301 C184.0445,457.4003,173.8959,454.2399,173.9999,457.3341 M173.9999,457.3341 C174.1039,460.4283,181.3795,477.5056,183.1188,479.6952 M183.1188,479.6952 C184.8581,481.8848,183.3341,470.6635,184.4357,470.4715 M184.4357,470.4715 C185.5373,470.2795,187.9637,480.2406,189.7283,478.5431 M189.7283,478.5431 C191.4929,476.8456,193.9856,465.8642,195.0234,460.2865 M195.0234,460.2865 C196.0612,454.7087,194.5959,444.8639,195.9551,445.0766 M195.9551,445.0766 C197.3142,445.2894,201.3955,458.7293,203.1784,461.5631 M203.1784,461.5631 C204.9613,464.397,204.7208,462.5552,206.6523,462.0795 M206.6523,462.0795 C208.5838,461.6037,213.2807,459.2153,214.7674,458.7086 M214.7674,458.7086 C216.2541,458.2018,214.9544,460.9354,215.5726,459.0392 M215.5726,459.0392 C216.1907,457.1429,216.7491,446.254,218.4763,447.3311 M218.4763,447.3311 C220.2034,448.4082,222.8623,462.5718,225.9354,465.5018 M225.9354,465.5018 C229.0085,468.4317,234.9443,465.6895,236.915,464.911 M236.915,464.911 C238.8857,464.1326,237.1533,462.6334,237.7596,460.831 M237.7596,460.831 C238.366,459.0287,239.1989,451.8709,240.5532,454.0968 M240.5532,454.0968 C241.9076,456.3228,244.3222,472.5928,245.8857,474.1866 M245.8857,474.1866 C247.4492,475.7804,249.3331,464.1807,249.9344,463.6596 M249.9344,463.6596 C250.5356,463.1384,247.8209,468.015,249.4933,471.0599 M249.4933,471.0599 C251.1656,474.1047,257.8634,481.3393,259.9684,481.9287 M259.9684,481.9287 C262.0733,482.5181,260.5864,476.1432,262.1231,474.5963 M262.1231,474.5963 C263.6598,473.0494,268.3697,476.0882,269.1887,472.6472 M269.1887,472.6472 C270.0076,469.2062,265.0518,456.5123,267.0369,453.9501 M267.0369,453.9501 C269.0219,451.388,278.7497,456.302,281.099,457.2743 M281.099,457.2743 C283.4484,458.2466,280.3837,458.39,281.1331,459.7839 M281.1331,459.7839 C281.8826,461.1777,284.2575,466.7792,285.5957,465.6374 M285.5957,465.6374 C286.9338,464.4956,287.1355,454.0806,289.162,452.9331 M289.162,452.9331 C291.1884,451.7857,295.8731,456.259,297.7544,458.7527 M297.7544,458.7527 C299.6357,461.2464,299.3643,468.759,300.4497,467.8951 M300.4497,467.8951 C301.5352,467.0312,302.4696,454.366,304.2669,453.5691 M304.2669,453.5691 C306.0642,452.7722,309.7168,461.0102,311.2335,463.1138 M311.2335,463.1138 C312.7503,465.2174,311.8512,466.6508,313.3671,466.1909 M313.3671,466.1909 C314.883,465.7311,317.9843,460.1326,320.3289,460.3548 M320.3289,460.3548 C322.6736,460.577,326.3428,469.1549,327.4349,467.5241 M327.4349,467.5241 C328.527,465.8933,325.8438,451.0445,326.8815,450.57 M326.8815,450.57 C327.9193,450.0956,332.3121,461.6263,333.6612,464.6775 M333.6612,464.6775 C335.0104,467.7287,332.8232,470.6565,334.9764,468.8773 M334.9764,468.8773 C337.1295,467.0981,344.4944,457.2677,346.5802,454.0022 M346.5802,454.0022 C348.6661,450.7367,346.2388,449.8405,347.4914,449.2841 M347.4914,449.2841 C348.7441,448.7278,352.8802,446.666,354.0961,450.6641 M354.0961,450.6641 C355.3119,454.6622,354.3977,471.257,354.7867,473.2728 M354.7867,473.2728 C355.1757,475.2885,355.5866,464.0294,356.4302,462.7586 M356.4302,462.7586 C357.2738,461.4877,358.4351,466.9685,359.8484,465.6475 M359.8484,465.6475 C361.2618,464.3265,363.4611,454.3485,364.9103,454.8327 M364.9103,454.8327 C366.3595,455.3169,366.0739,464.3515,368.5437,468.5527 M368.5437,468.5527 C371.0136,472.7539,377.7148,480.685,379.7295,480.0397 M379.7295,480.0397 C381.7443,479.3943,379.2881,465.9242,380.6321,464.6804 M380.6321,464.6804 C381.976,463.4366,386.4657,472.6809,387.7934,472.5771 M387.7934,472.5771 C389.1211,472.4733,386.2916,466.2484,388.5982,464.0576 M388.5982,464.0576 C390.9049,461.8668,399.0283,459.819,401.6335,459.4322 M401.6335,459.4322 C404.2387,459.0454,402.919,462.0388,404.2296,461.7367 M404.2296,461.7367 C405.5401,461.4347,408.794,457.7442,409.4967,457.6201 M409.4967,457.6201 C410.1994,457.4959,407.0307,460.697,408.4458,460.9917 M408.4458,460.9917 C409.8608,461.2865,416.2955,456.2616,417.9868,459.3885 M417.9868,459.3885 C419.6781,462.5154,417.6869,480.0941,418.5937,479.7531 M418.5937,479.7531 C419.5004,479.4121,421.744,461.1897,423.4272,457.3423 M423.4272,457.3423 C425.1105,453.495,426.7811,453.3286,428.693,456.6691 M428.693,456.6691 C430.605,460.0097,433.074,474.7542,434.8988,477.3857 M434.8988,477.3857 C436.7237,480.0173,438.0085,475.0819,439.642,472.4584 M439.642,472.4584 C441.2756,469.8349,444.0788,461.0734,444.7001,461.6449 M444.7001,461.6449 C445.3215,462.2163,442.0004,476.2656,443.3699,475.8868 M443.3699,475.8868 C444.7395,475.508,451.5674,461.3011,452.9173,459.3722 M452.9173,459.3722 C454.2672,457.4434,449.8478,464.1275,451.4693,464.3139 M451.4693,464.3139 C453.0907,464.5004,461.0072,460.5649,462.646,460.4909 M462.646,460.4909 C464.2847,460.417,460.3694,461.7166,461.3018,463.8702 M461.3018,463.8702 C462.2342,466.0239,466.0328,474.0178,468.2405,473.4129 M468.2405,473.4129 C470.4483,472.8081,472.7063,460.888,474.5483,460.2414 M474.5483,460.2414 C476.3902,459.5948,477.7613,468.032,479.2923,469.5333 M479.2923,469.5333 C480.8234,471.0346,481.8674,471.7027,483.7345,469.249 M483.7345,469.249 C485.6017,466.7953,489.0404,456.9773,490.4951,454.8109 M490.4951,454.8109 C491.9499,452.6445,491.342,459.0959,492.4628,456.2507 M492.4628,456.2507 C493.5837,453.4054,495.3661,437.5276,497.2202,437.7393 M497.2202,437.7393 C499.0744,437.951,502.5127,454.4545,503.5878,457.5208 M503.5878,457.5208 C504.6628,460.5871,500.6208,453.656,503.6705,456.137 M503.6705,456.137 C506.7202,458.618,520.4858,472.1833,521.8861,472.4068 M521.8861,472.4068 C523.2865,472.6303,511.9476,458.889,512.0727,457.4781 M512.0727,457.4781 C512.1977,456.0673,521.3629,460.0007,522.6364,463.9415 M522.6364,463.9415 C523.9098,467.8824,518.4543,480.8286,519.7133,481.1234 M519.7133,481.1234 C520.9724,481.4182,527.6881,468.4912,530.1909,465.7106\" fill=\"none\" stroke=\"rgba(0,0,0,1)\" stroke-width=\"2\" stroke-miterlimit=\"10\"/>\n",
       "<path d=\"M33.3982,493.4456 C36.1879,489.1463,45.1656,482.557,47.693,481.5934 M47.693,481.5934 C50.2205,480.6298,45.5976,485.0793,48.563,487.6639 M48.563,487.6639 C51.5285,490.2484,62.5987,496.2432,65.4859,497.1006 M65.4859,497.1006 C68.3732,497.958,62.9582,493.1149,65.8868,492.8084 M65.8868,492.8084 C68.8154,492.5019,78.541,492.7839,83.0574,495.2614 M83.0574,495.2614 C87.5737,497.7389,89.838,507.2261,92.985,507.6735 M92.985,507.6735 C96.1319,508.1209,99.5575,497.7376,101.9391,497.9457 M101.9391,497.9457 C104.3206,498.1538,104.9206,509.8993,107.2743,508.922 M107.2743,508.922 C109.628,507.9448,112.7131,494.8115,116.061,492.0822 M116.061,492.0822 C119.4089,489.3528,122.4466,491.1912,127.3618,492.5461 M127.3618,492.5461 C132.277,493.9009,141.6029,500.0649,145.5522,500.2113 M145.5522,500.2113 C149.5015,500.3577,150.6725,494.3737,151.0576,493.4245 M151.0576,493.4245 C151.4427,492.4752,147.5636,495.4698,147.8628,494.516 M147.8628,494.516 C148.1619,493.5623,149.7058,487.0565,152.8523,487.7022 M152.8523,487.7022 C155.9988,488.3478,165.2066,499.5093,166.7419,498.3901 M166.7419,498.3901 C168.2773,497.2709,158.3442,480.9991,162.0642,480.987 M162.0642,480.987 C165.7842,480.9749,182.6801,496.958,189.0621,498.3175 M189.0621,498.3175 C195.4442,499.677,197.9018,490.807,200.3565,489.1443 M200.3565,489.1443 C202.8112,487.4815,202.8883,486.7247,203.7905,488.3413 M203.7905,488.3413 C204.6927,489.9579,203.5135,499.2566,205.7699,498.8438 M205.7699,498.8438 C208.0262,498.431,213.8964,485.8358,217.3285,485.8646 M217.3285,485.8646 C220.7607,485.8934,223.4483,495.6387,226.3626,499.0168 M226.3626,499.0168 C229.277,502.395,232.1636,504.9946,234.8146,506.1336 M234.8146,506.1336 C237.4656,507.2726,239.9497,507.1376,242.2686,505.8507 M242.2686,505.8507 C244.5875,504.5637,245.6989,499.0711,248.7278,498.4117 M248.7278,498.4117 C251.7568,497.7524,257.7275,500.6925,260.4421,501.8946 M260.4421,501.8946 C263.1568,503.0966,263.4923,506.9507,265.016,505.624 M265.016,505.624 C266.5397,504.2973,265.4582,494.6601,269.5843,493.9345 M269.5843,493.9345 C273.7105,493.2089,286.4965,498.4395,289.7727,501.2704 M289.7727,501.2704 C293.0488,504.1014,287.984,515.122,289.2413,510.9202 M289.2413,510.9202 C290.4986,506.7184,292.312,478.6594,297.3164,476.0595 M297.3164,476.0595 C302.3207,473.4595,314.005,491.4996,319.2675,495.3207 M319.2675,495.3207 C324.5299,499.1418,327.8313,498.9182,328.8909,498.9863 M328.8909,498.9863 C329.9506,499.0543,325.4491,497.4794,325.6254,495.7292 M325.6254,495.7292 C325.8016,493.9789,325.6063,487.4284,329.9484,488.4849 M329.9484,488.4849 C334.2906,489.5414,346.8333,500.2805,351.6781,502.0683 M351.6781,502.0683 C356.523,503.8561,356.1953,503.5789,359.0175,499.2116 M359.0175,499.2116 C361.8398,494.8443,367.2467,478.0332,368.6117,475.8643 M368.6117,475.8643 C369.9767,473.6953,364.9442,484.5447,367.2076,486.198 M367.2076,486.198 C369.4709,487.8513,378.1145,482.7022,382.192,485.784 M382.192,485.784 C386.2694,488.8659,388.9316,504.5552,391.6723,504.6891 M391.6723,504.6891 C394.413,504.8229,396.5671,486.0502,398.6361,486.587 M398.6361,486.587 C400.7051,487.1238,401.323,506.1558,404.0863,507.91 M404.0863,507.91 C406.8496,509.6641,411.5531,496.6323,415.2159,497.1119 M415.2159,497.1119 C418.8787,497.5916,422.481,506.7308,426.0629,510.7879 M426.0629,510.7879 C429.6449,514.8451,432.9227,522.6333,436.7075,521.4549 M436.7075,521.4549 C440.4923,520.2765,446.0368,509.76,448.772,503.7177 M448.772,503.7177 C451.5071,497.6754,450.7582,487.2488,453.1183,485.201 M453.1183,485.201 C455.4784,483.1533,459.8132,489.4605,462.9326,491.4311 M462.9326,491.4311 C466.0519,493.4018,471.0732,496.7293,471.8344,497.025 M471.8344,497.025 C472.5956,497.3207,464.495,493.7513,467.4999,493.2055 M467.4999,493.2055 C470.5047,492.6597,484.0321,494.9822,489.8636,493.7503 M489.8636,493.7503 C495.6951,492.5185,501.4486,485.7742,502.489,485.8143 M502.489,485.8143 C503.5293,485.8545,494.1384,494.73,496.1058,493.9913 M496.1058,493.9913 C498.0732,493.2526,510.9302,481.4573,514.2935,481.3823 M514.2935,481.3823 C517.6569,481.3073,513.9448,489.2245,516.2859,493.5415\" fill=\"none\" stroke=\"rgba(0,0,0,1)\" stroke-width=\"2\" stroke-miterlimit=\"10\"/>\n",
       "<path d=\"M33.2202,523.8976 C34.5375,523.0148,35.3026,523.1199,35.9624,525.0655 M35.9624,525.0655 C36.6222,527.0112,37.3137,535.4403,37.179,535.5714 M37.179,535.5714 C37.0443,535.7025,34.7666,527.1203,35.1541,525.8522 M35.1541,525.8522 C35.5417,524.584,38.8279,527.6814,39.5043,527.9625 M39.5043,527.9625 C40.1808,528.2436,38.9732,527.2901,39.2127,527.539 M39.2127,527.539 C39.4523,527.7879,39.6392,527.3519,40.9414,529.4557 M40.9414,529.4557 C42.2436,531.5595,46.4386,540.3085,47.026,540.1618 M47.026,540.1618 C47.6135,540.0151,44.3223,531.0953,44.4662,528.5753 M44.4662,528.5753 C44.6102,526.0553,46.7138,523.4909,47.8898,525.0417 M47.8898,525.0417 C49.0659,526.5924,51.1059,536.8795,51.5226,537.8799 M51.5226,537.8799 C51.9392,538.8802,49.7211,534.3932,50.3899,531.0436 M50.3899,531.0436 C51.0587,527.6941,54.6045,518.0031,55.5354,517.7826 M55.5354,517.7826 C56.4664,517.562,55.1371,529.1526,55.9758,529.7202 M55.9758,529.7202 C56.8145,530.2878,59.2247,520.1001,60.5675,521.1883 M60.5675,521.1883 C61.9104,522.2764,63.1868,535.1649,64.0328,536.2493 M64.0328,536.2493 C64.8788,537.3336,64.9341,528.7522,65.6436,527.6942 M65.6436,527.6942 C66.3532,526.6363,67.523,532.0685,68.29,529.9015 M68.29,529.9015 C69.057,527.7345,68.667,517.357,70.2457,514.6921 M70.2457,514.6921 C71.8243,512.0272,77.5311,511.1733,77.762,513.9121 M77.762,513.9121 C77.9928,516.651,71.6738,529.2132,71.6307,531.1253 M71.6307,531.1253 C71.5876,533.0374,77.439,524.1501,77.5032,525.3846 M77.5032,525.3846 C77.5674,526.6191,71.5099,539.7535,72.0162,538.5324 M72.0162,538.5324 C72.5224,537.3112,79.6821,517.9541,80.5407,518.0577 M80.5407,518.0577 C81.3994,518.1614,76.6536,538.5177,77.168,539.1542 M77.168,539.1542 C77.6823,539.7908,81.949,524.6925,83.6266,521.8768 M83.6266,521.8768 C85.3042,519.0611,86.1044,521.7889,87.2334,522.26 M87.2334,522.26 C88.3623,522.7312,90.4446,522.0101,90.4003,524.7035 M90.4003,524.7035 C90.356,527.397,87.1852,537.1409,86.9674,538.4208 M86.9674,538.4208 C86.7496,539.7007,87.6175,533.2266,89.0936,532.3827 M89.0936,532.3827 C90.5698,531.5388,94.3153,534.2862,95.8244,533.3574 M95.8244,533.3574 C97.3334,532.4286,97.4969,524.9885,98.148,526.8101 M98.148,526.8101 C98.7991,528.6316,99.9183,543.1553,99.7307,544.2867 M99.7307,544.2867 C99.5431,545.4182,96.0573,535.2278,97.0225,533.5985 M97.0225,533.5985 C97.9876,531.9693,103.9506,534.8795,105.5217,534.5113 M105.5217,534.5113 C107.0928,534.1432,106.0066,531.3369,106.449,531.3898 M106.449,531.3898 C106.8914,531.4427,107.234,536.4611,108.1761,534.8289 M108.1761,534.8289 C109.1183,533.1967,111.9205,524.7586,112.1018,521.5965 M112.1018,521.5965 C112.2831,518.4344,109.2509,514.174,109.264,515.8561 M109.264,515.8561 C109.2771,517.5383,111.7204,531.8839,112.1803,531.6896 M112.1803,531.6896 C112.6403,531.4954,110.8815,516.4482,112.0238,514.6909 M112.0238,514.6909 C113.166,512.9335,117.7831,517.0287,119.0339,521.1456 M119.0339,521.1456 C120.2848,525.2625,119.0199,537.3476,119.5291,539.392 M119.5291,539.392 C120.0382,541.4365,122.0085,536.669,122.0888,533.4123 M122.0888,533.4123 C122.169,530.1556,119.9691,521.6936,120.0106,519.8519 M120.0106,519.8519 C120.052,518.0102,121.0294,522.4939,122.3377,522.3621 M122.3377,522.3621 C123.6461,522.2303,127.1983,520.1143,127.8607,519.0613 M127.8607,519.0613 C128.523,518.0082,125.4546,515.9799,126.3117,516.0438 M126.3117,516.0438 C127.1688,516.1077,131.5034,518.6995,133.0032,519.4446 M133.0032,519.4446 C134.503,520.1898,134.674,520.1845,135.3105,520.5148 M135.3105,520.5148 C135.9469,520.8452,137.2555,516.6624,136.8219,521.4266 M136.8219,521.4266 C136.3883,526.1908,132.5015,546.0614,132.7089,549.0999 M132.7089,549.0999 C132.9162,552.1384,136.249,543.562,138.0658,539.6577 M138.0658,539.6577 C139.8827,535.7533,143.2609,528.0148,143.61,525.674 M143.61,525.674 C143.959,523.3332,140.005,524.7986,140.16,525.6126 M140.16,525.6126 C140.315,526.4266,144.1173,528.1918,144.5401,530.5578 M144.5401,530.5578 C144.9629,532.9238,142.0066,541.8947,142.6968,539.8087 M142.6968,539.8087 C143.387,537.7228,147.1412,521.1205,148.6812,518.0423 M148.6812,518.0423 C150.2211,514.964,151.6121,522.0287,151.9365,521.3395 M151.9365,521.3395 C152.2609,520.6502,150.0177,512.2342,150.6276,513.9068 M150.6276,513.9068 C151.2375,515.5793,154.5035,528.4282,155.5957,531.3749 M155.5957,531.3749 C156.6879,534.3216,155.8069,531.9568,157.1808,531.5869 M157.1808,531.5869 C158.5546,531.217,163.5794,531.1939,163.8388,529.1553 M163.8388,529.1553 C164.0983,527.1167,158.1118,520.5792,158.7374,519.3555 M158.7374,519.3555 C159.363,518.1319,165.8499,521.37,167.5923,521.8133 M167.5923,521.8133 C169.3346,522.2566,168.9871,522.923,169.1916,522.0153 M169.1916,522.0153 C169.3961,521.1077,168.8696,515.9175,168.8195,516.3673 M168.8195,516.3673 C168.7694,516.8172,169.2741,522.7223,168.891,524.7144 M168.891,524.7144 C168.508,526.7066,166.0787,526.2001,166.5212,528.3203 M166.5212,528.3203 C166.9637,530.4404,170.5542,537.8009,171.5458,537.4354 M171.5458,537.4354 C172.5375,537.0699,170.8523,527.8581,172.471,526.1272 M172.471,526.1272 C174.0897,524.3963,180.0534,528.0188,181.2579,527.0499 M181.2579,527.0499 C182.4623,526.081,179.2588,521.7311,179.6977,520.3138 M179.6977,520.3138 C180.1367,518.8965,184.0969,516.0117,183.8915,518.5458 M183.8915,518.5458 C183.6862,521.08,177,530.0756,178.4659,535.5189 M178.4659,535.5189 C179.9317,540.9622,191.6062,552.4604,192.6866,551.2056 M192.6866,551.2056 C193.7669,549.9509,185.0113,532.8779,184.9479,527.9904 M184.9479,527.9904 C184.8846,523.1028,190.2153,522.655,192.3063,521.8804 M192.3063,521.8804 C194.3974,521.1058,197.4899,521.4697,197.4943,523.3429 M197.4943,523.3429 C197.4988,525.2162,192.4591,529.3973,192.3331,533.12 M192.3331,533.12 C192.2071,536.8427,195.7884,546.8966,196.7381,545.6792 M196.7381,545.6792 C197.6878,544.4618,198.2079,527.8354,198.0314,525.8158 M198.0314,525.8158 C197.8549,523.7963,194.8191,532.1435,195.6791,533.562 M195.6791,533.562 C196.539,534.9804,201.3808,535.1548,203.1911,534.3266 M203.1911,534.3266 C205.0013,533.4984,205.9239,529.3731,206.5404,528.5926 M206.5404,528.5926 C207.157,527.8122,206.2836,531.3502,206.8904,529.6442 M206.8904,529.6442 C207.4973,527.9382,209.6807,519.9822,210.1815,518.3567 M210.1815,518.3567 C210.6823,516.7312,209.9638,517.9354,209.8953,519.8911 M209.8953,519.8911 C209.8269,521.8469,208.781,527.6273,209.7708,530.091 M209.7708,530.091 C210.7607,532.5547,213.9176,534.3805,215.8344,534.6735 M215.8344,534.6735 C217.7512,534.9665,221.0987,534.7724,221.2718,531.8488 M221.2718,531.8488 C221.4449,528.9253,217.1288,518.8687,216.873,517.1322 M216.873,517.1322 C216.6171,515.3956,218.03,517.2171,219.7369,521.4296 M219.7369,521.4296 C221.4438,525.642,226.8961,539.1912,227.1142,542.4067 M227.1142,542.4067 C227.3322,545.6222,221.0964,541.9872,221.0451,540.7226 M221.0451,540.7226 C220.9939,539.4579,226.5257,538.9564,226.8068,534.8189 M226.8068,534.8189 C227.0879,530.6815,221.677,516.2814,222.7317,515.898 M222.7317,515.898 C223.7863,515.5147,231.2644,529.7416,233.1345,532.5191 M233.1345,532.5191 C235.0045,535.2966,233.4904,534.0386,233.9521,532.5633 M233.9521,532.5633 C234.4137,531.0879,235.2953,521.4479,235.9045,523.6672 M235.9045,523.6672 C236.5136,525.8864,236.8278,546.2205,237.607,545.879 M237.607,545.879 C238.3861,545.5374,239.1613,524.5624,240.5794,521.6178 M240.5794,521.6178 C241.9975,518.6732,244.7182,524.5806,246.1156,528.2115 M246.1156,528.2115 C247.513,531.8425,249.4712,544.8042,248.9637,543.4035 M248.9637,543.4035 C248.4562,542.0029,243.078,521.8414,243.0707,519.8077 M243.0707,519.8077 C243.0633,517.774,247.5156,530.5284,248.9197,531.2015 M248.9197,531.2015 C250.3238,531.8746,251.1971,526.1476,251.4953,523.8462 M251.4953,523.8462 C251.7935,521.5449,250.0871,518.6401,250.7087,517.3934 M250.7087,517.3934 C251.3303,516.1467,253.4939,515.5701,255.2249,516.3662 M255.2249,516.3662 C256.9559,517.1623,259.5856,519.7332,261.0946,522.17 M261.0946,522.17 C262.6036,524.6067,266.1601,530.3658,264.2789,530.9864 M264.2789,530.9864 C262.3976,531.607,249.3588,526.7351,249.807,525.8936 M249.807,525.8936 C250.2552,525.052,264.4707,524.2252,266.9682,525.937 M266.9682,525.937 C269.4657,527.6487,264.9067,538.7143,264.7918,536.164 M264.7918,536.164 C264.6769,533.6137,264.771,512.967,266.2786,510.6353 M266.2786,510.6353 C267.7862,508.3036,272.8594,518.3018,273.8374,522.1741 M273.8374,522.1741 C274.8155,526.0463,273.423,533.8715,272.1468,533.8688 M272.1468,533.8688 C270.8706,533.866,263.6082,521.4332,266.1804,522.1574 M266.1804,522.1574 C268.7526,522.8816,285.4938,536.1103,287.5798,538.2137 M287.5798,538.2137 C289.6659,540.3172,280.3073,534.4059,278.6968,534.7782 M278.6968,534.7782 C277.0862,535.1505,277.5586,542.444,277.9168,540.4476 M277.9168,540.4476 C278.275,538.4512,279.0586,525.6821,280.846,522.7997 M280.846,522.7997 C282.6333,519.9174,287.6501,521.846,288.6411,523.1537 M288.6411,523.1537 C289.632,524.4615,287.5886,532.795,286.7918,530.6462 M286.7918,530.6462 C285.995,528.4974,282.3821,510.2942,283.86,510.2609 M283.86,510.2609 C285.338,510.2275,294.045,525.3798,295.6595,530.4463 M295.6595,530.4463 C297.2739,535.5127,293.3017,542.0246,293.5469,540.6595 M293.5469,540.6595 C293.792,539.2944,297.588,523.3325,297.1305,522.2555 M297.1305,522.2555 C296.6729,521.1785,291.166,531.5266,290.8014,534.1975 M290.8014,534.1975 C290.4367,536.8684,292.8942,542.4737,294.9424,538.2807 M294.9424,538.2807 C296.9906,534.0877,302.0911,509.562,303.0904,509.0395 M303.0904,509.0395 C304.0898,508.517,300.2481,529.6909,300.9384,535.1456 M300.9384,535.1456 C301.6287,540.6002,305.9673,542.215,307.2322,541.7675 M307.2322,541.7675 C308.4971,541.32,308.1131,532.1336,308.5279,532.4606 M308.5279,532.4606 C308.9427,532.7876,309.0939,544.3573,309.7211,543.7293 M309.7211,543.7293 C310.3484,543.1013,311.2893,531.7909,312.2915,528.6928 M312.2915,528.6928 C313.2936,525.5946,315.6746,522.8431,315.7338,525.1403 M315.7338,525.1403 C315.7931,527.4376,311.8337,541.887,312.6469,542.4762 M312.6469,542.4762 C313.4601,543.0653,318.7555,528.6546,320.6128,528.6754 M320.6128,528.6754 C322.4701,528.6962,324.161,544.3667,323.7907,542.6008 M323.7907,542.6008 C323.4205,540.8349,318.1675,518.5364,318.3912,518.08 M318.3912,518.08 C318.6148,517.6235,323.1756,538.0544,325.1328,539.8621 M325.1328,539.8621 C327.09,541.6698,329.548,529.5229,330.1345,528.9262 M330.1345,528.9262 C330.721,528.3295,330.0418,534.8729,328.6518,536.2819 M328.6518,536.2819 C327.2619,537.6908,320.09,540.1885,321.7949,537.3797 M321.7949,537.3797 C323.4997,534.5709,336.6167,519.3832,338.8812,519.4291 M338.8812,519.4291 C341.1456,519.475,335.1266,537.4556,335.3816,537.655 M335.3816,537.655 C335.6366,537.8545,340.8859,519.3887,340.4114,520.6256 M340.4114,520.6256 C339.9369,521.8625,332.5211,543.366,332.5346,545.0766 M332.5346,545.0766 C332.548,546.7872,339.002,532.873,340.4919,530.8894 M340.4919,530.8894 C341.9818,528.9057,340.7907,532.3889,341.4741,533.1747 M341.4741,533.1747 C342.1575,533.9604,343.156,535.0247,344.5921,535.6039 M344.5921,535.6039 C346.0281,536.1832,349.1769,536.6553,350.0904,536.6499 M350.0904,536.6499 C351.0039,536.6445,350.0278,539.4862,350.0729,535.5714 M350.0729,535.5714 C350.1181,531.6566,349.0468,513.9395,350.3612,513.1613 M350.3612,513.1613 C351.6755,512.383,357.4139,528.0295,357.9589,530.9017 M357.9589,530.9017 C358.5039,533.7739,353.8763,534.6107,353.6309,530.3942 M353.6309,530.3942 C353.3856,526.1778,356.4264,505.8393,356.4868,505.6029 M356.4868,505.6029 C356.5471,505.3665,352.9518,528.1533,353.993,528.9758 M353.993,528.9758 C355.0341,529.7983,360.7796,512.6359,362.7336,510.538 M362.7336,510.538 C364.6877,508.4401,364.9781,512.494,365.7172,516.3882 M365.7172,516.3882 C366.4564,520.2823,367.1947,533.0177,367.1686,533.903 M367.1686,533.903 C367.1425,534.7883,364.1996,521.3408,365.5608,521.6999 M365.5608,521.6999 C366.922,522.0589,374.0657,533.0786,375.3359,536.0572 M375.3359,536.0572 C376.6061,539.0358,373.7695,541.5302,373.1819,539.5716 M373.1819,539.5716 C372.5943,537.6129,372.1271,526.6514,371.8102,524.3053 M371.8102,524.3053 C371.4934,521.9592,369.6917,523.1952,371.2808,525.4949 M371.2808,525.4949 C372.8699,527.7947,380.2927,537.1943,381.345,538.104 M381.345,538.104 C382.3973,539.0137,377.5344,533.0821,377.5946,530.9532 M377.5946,530.9532 C377.6548,528.8242,380.9408,526.0635,381.706,525.3302 M381.706,525.3302 C382.4712,524.597,381.0834,527.4725,382.1859,526.5534 M382.1859,526.5534 C383.2884,525.6343,387.3743,518.5328,388.3209,519.8155 M388.3209,519.8155 C389.2674,521.0981,388.2738,534.0401,387.8653,534.2494 M387.8653,534.2494 C387.4567,534.4588,383.4515,522.2218,385.8695,521.0716 M385.8695,521.0716 C388.2874,519.9214,400.8193,525.8495,402.3731,527.348 M402.3731,527.348 C403.9269,528.8465,396.2546,530.946,395.1922,530.0628 M395.1922,530.0628 C394.1297,529.1795,395.3758,523.1453,395.9981,522.0484 M395.9981,522.0484 C396.6205,520.9516,397.4406,523.3147,398.9264,523.4816 M398.9264,523.4816 C400.4121,523.6485,404.7167,525.3003,404.9129,523.0501 M404.9129,523.0501 C405.109,520.7999,399.7618,509.5335,400.1032,509.9804 M400.1032,509.9804 C400.4447,510.4273,405.9218,521.9119,406.9617,525.7316 M406.9617,525.7316 C408.0016,529.5512,405.7873,535.7887,406.3428,532.8983 M406.3428,532.8983 C406.8983,530.0079,409.4531,507.0111,410.2946,508.3893 M410.2946,508.3893 C411.1361,509.7676,411.0878,536.2079,411.3918,541.1677 M411.3918,541.1677 C411.6959,546.1275,410.2097,541.4154,412.119,538.1481 M412.119,538.1481 C414.0283,534.8807,421.9042,522.18,422.8479,521.5634 M422.8479,521.5634 C423.7916,520.9467,418.5848,533.597,417.7813,534.4482 M417.7813,534.4482 C416.9777,535.2994,417.5415,526.0585,418.0265,526.6706 M418.0265,526.6706 C418.5115,527.2828,419.417,539.7995,420.6913,538.1212 M420.6913,538.1212 C421.9656,536.4429,424.614,516.8525,425.6723,516.601 M425.6723,516.601 C426.7305,516.3494,427.3923,534.5167,427.0408,536.6119 M427.0408,536.6119 C426.6892,538.707,422.6087,529.6768,423.5629,529.1717 M423.5629,529.1717 C424.5171,528.6667,430.2711,535.0192,432.7659,533.5817 M432.7659,533.5817 C435.2607,532.1443,437.8013,520.2779,438.5316,520.5471 M438.5316,520.5471 C439.262,520.8162,435.9195,532.8289,437.1481,535.1966 M437.1481,535.1966 C438.3768,537.5643,445.0083,536.1181,445.9035,534.7532 M445.9035,534.7532 C446.7987,533.3884,443.3653,528.2677,442.5193,527.0076 M442.5193,527.0076 C441.6733,525.7476,440.6344,523.7343,440.8274,527.193 M440.8274,527.193 C441.0205,530.6517,442.7819,545.64,443.6776,547.7599 M443.6776,547.7599 C444.5734,549.8798,445.0887,542.732,446.2018,539.9123 M446.2018,539.9123 C447.315,537.0926,449.8518,531.3652,450.3567,530.8417 M450.3567,530.8417 C450.8615,530.3181,448.5163,537.6734,449.2309,536.7709 M449.2309,536.7709 C449.9455,535.8684,453.2324,527.0198,454.6441,525.4269 M454.6441,525.4269 C456.0558,523.8339,458.3511,530.2968,457.7013,527.2132 M457.7013,527.2132 C457.0515,524.1296,450.7708,508.5592,450.7453,506.9255 M450.7453,506.9255 C450.7198,505.2918,457.0257,511.9532,457.5484,517.4111 M457.5484,517.4111 C458.0711,522.8689,453.4409,539.1491,453.8815,539.6726 M453.8815,539.6726 C454.3221,540.1961,459.4538,523.1241,460.1923,520.552 M460.1923,520.552 C460.9307,517.9799,457.1043,520.5721,458.3121,524.2398 M458.3121,524.2398 C459.5198,527.9075,465.7078,541.4896,467.4387,542.558 M467.4387,542.558 C469.1696,543.6264,469.1289,531.755,468.6975,530.6502 M468.6975,530.6502 C468.266,529.5455,465.4582,538.8034,464.85,535.9294 M464.85,535.9294 C464.2419,533.0554,462.6198,511.9611,465.0485,513.4063 M465.0485,513.4063 C467.4772,514.8516,476.9454,541.6214,479.4224,544.6011 M479.4224,544.6011 C481.8993,547.5807,481.2231,531.825,479.9102,531.2843 M479.9102,531.2843 C478.5974,530.7437,471.3688,541.9076,471.5452,541.3574 M471.5452,541.3574 C471.7217,540.8072,478.734,529.911,480.9692,527.9834 M480.9692,527.9834 C483.2043,526.0557,485.1543,530.5219,484.9561,529.7916 M484.9561,529.7916 C484.7578,529.0614,480.0976,521.3957,479.7797,523.6019 M479.7797,523.6019 C479.4618,525.8082,482.1862,539.6509,483.0485,543.0292 M483.0485,543.0292 C483.9108,546.4074,482.7397,544.3445,484.9536,543.8715 M484.9536,543.8715 C487.1674,543.3985,495.3063,543.0124,496.3315,540.1912 M496.3315,540.1912 C497.3567,537.37,490.6942,530.5123,491.1048,526.9441 M491.1048,526.9441 C491.5155,523.3758,498.1488,515.4076,498.7954,518.7816 M498.7954,518.7816 C499.4419,522.1557,495.5844,545.5322,494.9842,547.1883 M494.9842,547.1883 C494.3839,548.8444,494.362,531.6369,495.1937,528.7181 M495.1937,528.7181 C496.0254,525.7993,499.2047,529.6534,499.9745,529.6756 M499.9745,529.6756 C500.7442,529.6979,500.0495,530.7376,499.8121,528.8517 M499.8121,528.8517 C499.5747,526.9658,496.4,519.8624,498.5503,518.3602 M498.5503,518.3602 C500.7006,516.8581,511.5869,519.4419,512.7139,519.8388 M512.7139,519.8388 C513.8409,520.2356,505.4763,521.3159,505.3121,520.7415 M505.3121,520.7415 C505.1478,520.167,510.2126,514.3977,511.7284,516.3922 M511.7284,516.3922 C513.2442,518.3868,512.8024,530.5655,514.4068,532.7088 M514.4068,532.7088 C516.0113,534.8521,520.1754,530.8475,521.3552,529.252 M521.3552,529.252 C522.535,527.6566,521.8098,522.113,521.4858,523.1362 M521.4858,523.1362 C521.1618,524.1593,518.5872,535.7088,519.4112,535.3911 M519.4112,535.3911 C520.2353,535.0735,526.0903,522.3008,526.4299,521.2302 M526.4299,521.2302 C526.7695,520.1597,521.8859,524.7801,521.4488,528.968 M521.4488,528.968 C521.0117,533.1559,522.9109,547.8121,523.8071,546.3577 M523.8071,546.3577 C524.7033,544.9033,525.342,522.5406,526.8258,520.2417 M526.8258,520.2417 C528.3097,517.9428,531.8407,529.7277,532.7105,532.564 M532.7105,532.564 C533.5803,535.4004,532.4054,538.6936,532.0444,537.2597 M532.0444,537.2597 C531.6834,535.8258,530.4395,526.333,530.5447,523.9605\" fill=\"none\" stroke=\"rgba(0,0,0,1)\" stroke-width=\"2\" stroke-miterlimit=\"10\"/>\n",
       "</svg>"
      ],
      "text/plain": [
       "<IPython.core.display.SVG object>"
      ]
     },
     "metadata": {},
     "output_type": "display_data"
    }
   ],
   "source": [
    "size = 200\n",
    "d = document(size, size, 'mm')\n",
    "page = d.addpage()\n",
    "line_figure = shape().stroke(rgba(0, 255, 0, 255)).width(1)\n",
    "curve_figure = shape().stroke(rgba(0, 0, 0, 255)).width(2)\n",
    "row_n = 16\n",
    "for i in range(row_n):\n",
    "    scribble_poly = make_scribble(\n",
    "                        width=size-20,\n",
    "                        height=(size/row_n)*0.25,\n",
    "                        steps=int(uniform(25, 250)),\n",
    "                        stddev=uniform(2))\n",
    "    scribble_poly_tr = scribble_poly.translate(\n",
    "        10, 10 + (i*size/(row_n+1))) # row_n + 1 to leave some space at the bottom\n",
    "    lines = line_figure.polyline(scribble_poly_tr)\n",
    "    curve = curve_figure.path(scribble_poly_tr.smooth_path())\n",
    "    page.place(curve)\n",
    "    #page.place(lines) # uncomment to see original lines\n",
    "show(page)"
   ]
  },
  {
   "cell_type": "markdown",
   "metadata": {},
   "source": [
    "> Exercise: Use the `i` parameter of the loop to control some other aspect of the line generation. (For example, make it so the number of steps increases as the scribbles move down the page.)\n",
    "\n",
    "> Exercise: Introduce randomly-placed crosses (like the cross in `t`) and dots (as in `i`)."
   ]
  },
  {
   "cell_type": "markdown",
   "metadata": {},
   "source": [
    "## Weighted strokes\n",
    "\n",
    "The strokes produced by the flat library have a uniform width and texture, which makes the resulting artifacts resemble drawings made with a very precise pen. The problem of how to simulate how different writing implements make marks on a page (\"brushes\" in a tool like PhotoShop) is an open area of research in computer graphics research. ([A recent review](https://onlinelibrary.wiley.com/doi/full/10.1002/cav.1435).)\n",
    "\n",
    "The Bezmerizing library implements a simple technique for simulating an ink brush or other kinds of pens, which works by drawing a polygon along the tangents of the curves composing the stroke. The `Polyline` object has a `.fancy_curve()` method that performs the technique. To demonstrate, let's create a `Polyline` object with a set of points:"
   ]
  },
  {
   "cell_type": "code",
   "execution_count": 68,
   "metadata": {},
   "outputs": [],
   "source": [
    "pline = Polyline([[10, 10], [15, 15], [15, 85], [50, 50], [85, 85], [85, 15], [90, 10]])"
   ]
  },
  {
   "cell_type": "markdown",
   "metadata": {},
   "source": [
    "... and then create the polygon around the curve with `.fancy_curve()`. The `samples_per` parameter controls the resolution of the polygon (lower values are faster to calculate but chunkier) and the `thicknesses` parameter controls the thickness of the polygon along the path."
   ]
  },
  {
   "cell_type": "code",
   "execution_count": 69,
   "metadata": {},
   "outputs": [],
   "source": [
    "curve_poly = pline.fancy_curve(samples_per=24, thicknesses=[0, 2, 10, 2, 8, 2])"
   ]
  },
  {
   "cell_type": "markdown",
   "metadata": {},
   "source": [
    "Here's an example that draws the original polyline, the Catmull-Rom curve created from the polyline, and the simulated brushstroke, just to show you how it works:"
   ]
  },
  {
   "cell_type": "code",
   "execution_count": 70,
   "metadata": {},
   "outputs": [
    {
     "data": {
      "image/svg+xml": [
       "<svg xmlns=\"http://www.w3.org/2000/svg\" xmlns:xlink=\"http://www.w3.org/1999/xlink\" version=\"1.1\" width=\"283.4646pt\" height=\"283.4646pt\" viewBox=\"0 0 283.4646 283.4646\">\n",
       "<title>Untitled</title>\n",
       "<polygon points=\"42.5197 42.5197 42.8611 47.7491 42.9893 54.1283 42.932 61.5332 42.7173 69.8427 42.3732 78.9367 41.9278 88.6954 41.409 98.9995 40.8449 109.7294 40.2635 120.7658 39.6928 131.9891 39.1607 143.2797 38.6952 154.5177 38.3243 165.5829 38.0758 176.3545 37.9776 186.711 38.0572 196.5298 38.3417 205.6859 38.8572 214.0508 39.6274 221.4897 41.1102 227.776 42.8419 232.7223 44.7035 236.0182 46.212 237.2526 46.634 236.8306 46.6171 236.202 46.1117 235.558 46.8223 234.591 48.6534 232.5536 51.185 229.3726 54.185 225.1772 57.5346 220.1178 61.1645 214.3376 65.0283 207.9712 69.0913 201.1469 73.3252 193.9882 77.7066 186.6148 82.2164 179.1423 86.8403 171.6824 92.5193 165.0659 98.2631 158.7243 104.063 152.7756 109.921 147.3356 115.8573 142.5207 121.9204 138.4561 128.1988 135.3017 134.8045 133.3146 141.7323 132.93 141.7323 133.5267 148.1792 135.0391 153.9034 137.9564 159.1239 141.8609 164.0643 146.5573 168.8603 151.9355 173.5798 157.9031 178.2514 164.3657 182.8823 171.223 187.4673 178.3692 192.8471 185.0915 198.1639 191.8959 203.3897 198.6544 208.4954 205.2376 213.4498 211.5139 218.2176 217.3482 222.7569 222.5992 227.0108 227.1152 230.892 230.7276 234.2402 233.243 236.7157 234.4611 237.5978 234.3899 236.2345 234.0497 234.5097 234.5097 234.1932 234.1932 233.9482 233.6342 234.4605 230.9382 235.0105 226.4672 235.3832 220.5694 236.4174 213.5447 237.2188 205.464 237.7986 196.5071 238.1775 186.829 238.3801 176.5712 238.4327 165.8672 238.3625 154.8459 238.1972 143.633 237.9647 132.3524 237.6927 121.1266 237.4095 110.0768 237.1429 99.3238 236.921 88.9876 236.772 79.1876 236.724 70.0426 236.8053 61.6704 237.0444 54.187 237.4708 47.7056 238.1165 42.3311 243.7732 42.7082 244.0346 47.7969 244.5029 54.0593 245.1544 61.3631 245.9625 69.5835 246.9 78.5992 247.9392 88.2902 249.0523 98.5376 250.2116 109.2232 251.3891 120.2295 252.5569 131.4394 253.6873 142.7368 254.7521 154.0063 255.7234 165.1343 256.5728 176.0087 257.2716 186.5209 257.7903 196.5667 258.0975 206.0501 258.158 214.8882 257.9272 223.0234 256.4546 230.2889 254.5234 236.7469 251.8626 242.508 247.6965 247.6965 247.3801 247.3801 240.9747 250.6941 234.2296 250.4517 229.0776 247.9668 224.9155 244.5044 221.0717 240.317 217.2553 235.449 213.355 229.9516 209.3323 223.9008 205.1794 217.3896 200.9032 210.5213 196.5173 203.4054 192.0396 196.1549 187.4898 188.8851 182.8888 181.7126 177.4278 175.388 171.9964 169.4431 166.6383 164.0168 161.4096 159.2535 156.3879 155.3032 151.69 152.3184 147.5005 150.4334 144.0919 149.6975 141.7323 149.9378 141.7323 150.5346 139.8535 151.422 137.3264 153.088 134.1949 155.7231 130.6197 159.3398 126.7383 163.8533 122.6481 169.1444 118.4183 175.0846 114.0998 181.5451 109.7327 188.3994 104.3759 194.8343 99.019 201.436 93.6969 208.0715 88.4393 214.612 83.2716 220.9323 78.2148 226.9115 73.2827 232.433 68.478 237.3871 63.7805 241.672 59.12 245.1938 54.3136 247.8369 48.99 249.2835 43.1028 248.5418 38.4054 245.0592 38.8274 244.6372 36.4148 240.124 35.1033 234.9628 34.3538 228.9801 33.9914 222.1031 33.4965 214.3821 33.2712 205.8282 33.2831 196.544 33.5024 186.6388 33.9005 176.2254 34.4488 165.4186 35.1193 154.3345 35.8839 143.0901 36.7148 131.8028 37.5838 120.5903 38.4632 109.5706 39.3249 98.8619 40.1411 88.5823 40.8838 78.8501 41.5253 69.7835 42.0375 61.5003 42.3926 54.1181 42.5627 47.7533 42.5197 42.5197\" fill=\"rgba(0,0,0,0.9412)\"/>\n",
       "<path d=\"M42.5197,42.5197 C44.8819,77.9528,25.9843,224.4094,42.5197,240.9449 M42.5197,240.9449 C59.0551,257.4803,108.6614,141.7323,141.7323,141.7323 M141.7323,141.7323 C174.8031,141.7323,224.4094,257.4803,240.9449,240.9449 M240.9449,240.9449 C257.4803,224.4094,238.5827,77.9528,240.9449,42.5197\" fill=\"none\" stroke=\"rgba(0,255,0,1)\" stroke-miterlimit=\"10\"/>\n",
       "<polyline points=\"28.3465 28.3465 42.5197 42.5197 42.5197 240.9449 141.7323 141.7323 240.9449 240.9449 240.9449 42.5197 255.1181 28.3465\" fill=\"none\" stroke=\"rgba(255,0,0,1)\" stroke-miterlimit=\"10\"/>\n",
       "</svg>"
      ],
      "text/plain": [
       "<IPython.core.display.SVG object>"
      ]
     },
     "metadata": {},
     "output_type": "display_data"
    }
   ],
   "source": [
    "d = document(100, 100, 'mm')\n",
    "page = d.addpage()\n",
    "curve_figure = shape().nostroke().fill(rgba(0, 0, 0, 240))\n",
    "smooth_figure = shape().stroke(rgba(0, 255, 0, 255))\n",
    "poly_figure = shape().stroke(rgba(255, 0, 0, 255))\n",
    "smooth_path = pline.smooth_path()\n",
    "fancy_poly = curve_figure.polygon(curve_poly)\n",
    "path = smooth_figure.path(smooth_path)\n",
    "poly = poly_figure.polyline(pline)\n",
    "page.place(fancy_poly)\n",
    "page.place(path)\n",
    "page.place(poly)\n",
    "show(page)"
   ]
  },
  {
   "cell_type": "markdown",
   "metadata": {},
   "source": [
    "Here's the \"alien characters\" example above, except using `fancy_curve()` to generate polygons for each stroke. (Try playing around with the `thickness` parameter.)"
   ]
  },
  {
   "cell_type": "code",
   "execution_count": 71,
   "metadata": {},
   "outputs": [
    {
     "data": {
      "image/svg+xml": [
       "<svg xmlns=\"http://www.w3.org/2000/svg\" xmlns:xlink=\"http://www.w3.org/1999/xlink\" version=\"1.1\" width=\"425.1969pt\" height=\"425.1969pt\" viewBox=\"0 0 425.1969 425.1969\">\n",
       "<title>Untitled</title>\n",
       "<polygon points=\"44.1142 12.7559 44.379 12.6276 43.5365 12.9162 42.1652 13.6875 40.5065 14.855 38.6902 16.3335 36.8081 18.0464 34.937 19.922 33.1471 21.8903 31.506 23.8807 30.0798 25.8189 28.9337 27.6214 28.8266 27.5678 28.0452 29.1997 27.4928 31.0043 27.1546 32.9197 27.005 34.8732 27.0089 36.7904 27.1245 38.5982 27.306 40.2265 27.5056 41.6072 27.6742 42.6743 27.762 43.3633 26.3091 42.617 26.3091 42.6969 24.8917 43.7831 24.8917 42.8634 24.8917 41.4655 24.8917 39.6997 24.8917 37.6764 24.8917 35.5059 24.8917 33.2987 24.8917 31.165 24.8917 29.2153 24.8917 27.5598 24.8917 26.3091 24.8917 26.3091 24.8917 25.3894 24.8917 24.6536 24.8917 24.1018 24.8917 23.7339 24.8917 23.55 27.7264 23.55 27.7264 23.7339 27.7264 24.1018 27.7264 24.6536 27.7264 25.3894 27.7264 26.3091 27.7663 26.3091 27.7354 27.7906 27.5723 29.7166 27.3289 31.9886 27.0547 34.458 26.7997 36.9643 26.6139 39.3381 26.546 41.3941 26.6321 42.8948 26.7614 43.3691 25.3959 42.5645 24.8128 42.6179 24.7705 42.5756 25.6196 41.3702 26.9189 39.123 28.4732 36.1247 30.1951 32.5797 32.016 28.6714 33.8722 24.5755 35.7021 20.4649 37.4455 16.5102 39.0429 12.8801 40.4372 9.7386 41.5788 7.2362 46.6496 9.7716 45.4568 12.1052 43.9751 15.1506 42.275 18.7175 40.4198 22.6286 38.4707 26.7116 36.4876 30.7959 34.5294 34.7132 32.6529 38.2984 30.9096 41.3933 29.3328 43.8616 27.8476 45.6528 27.8053 45.6104 25.55 46.6738 23.1478 45.0666 22.7754 43.2467 22.7947 41.2827 22.9943 39.0245 23.3102 36.5558 23.6906 34.0121 24.0852 31.5453 24.4438 29.3159 24.7155 27.4963 24.8518 26.3091 24.8917 26.3091 24.8917 25.3894 24.8917 24.6536 24.8917 24.1018 24.8917 23.7339 24.8917 23.55 27.7264 23.55 27.7264 23.7339 27.7264 24.1018 27.7264 24.6536 27.7264 25.3894 27.7264 26.3091 27.7264 26.3091 27.7264 27.5598 27.7264 29.2153 27.7264 31.165 27.7264 33.2987 27.7264 35.5059 27.7264 37.6764 27.7264 39.6997 27.7264 41.4655 27.7264 42.8634 27.7264 43.7831 26.3091 45.5315 26.3091 45.6113 24.6888 44.3701 24.3419 43.6544 23.9085 42.5277 23.4393 41.0457 22.9854 39.2628 22.5993 37.2313 22.3356 35.0015 22.253 32.6208 22.4164 30.1351 22.9007 27.5921 23.7915 25.0503 23.6844 24.9967 24.8726 22.6255 26.3226 20.2161 27.979 17.8054 29.7875 15.4395 31.6955 13.1681 33.6526 11.0417 35.6154 9.109 37.5552 7.4138 39.4814 5.9913 41.5151 4.8753 44.1142 4.252\" fill=\"rgba(0,0,0,1)\"/>\n",
       "<polygon points=\"5.4973 76.4521 8.8348 74.6662 12.157 74.0887 15.8645 73.9114 19.9629 73.9782 24.312 74.2181 28.7252 74.5756 32.9973 74.9992 36.9141 75.4379 40.2532 75.841 42.774 76.1567 44.1142 76.3337 44.1142 76.4362 46.6114 77.3323 45.782 82.2782 44.4191 82.6711 42.7977 82.9549 40.7947 83.1971 38.4743 83.3622 35.9285 83.402 33.2555 83.2637 30.5538 82.8894 27.9214 82.2131 25.4614 81.154 25.5072 81.0624 23.2317 79.4297 21.183 77.3292 19.28 74.9165 17.4624 72.3545 15.6924 69.8091 14.0316 67.3995 12.4983 65.2947 11.1335 63.6786 10.0588 62.7529 9.6183 62.5655 9.5061 62.6557 9.5061 62.6557 8.8009 63.8831 7.9127 66.4925 7.0853 70.0343 6.3965 74.1872 5.9032 78.66 5.6569 83.1681 5.7055 87.4244 6.0891 91.1291 6.8149 93.9474 7.7331 95.4989 8.5039 95.8465 8.5039 95.8465 10.2139 95.2065 13.0935 93.0837 16.604 89.7679 20.493 85.6141 24.5668 80.9583 28.6467 76.1278 32.5602 71.4449 36.114 67.205 39.166 63.7249 41.6302 61.2816 44.1142 60.0484 44.1142 59.9972 46.3993 62.2885 46.2485 65.0764 45.4084 68.6686 44.0237 72.9923 42.1987 77.7782 40.0371 82.726 37.6406 87.5308 35.1014 91.8935 32.4817 95.5344 29.721 98.2126 26.3091 99.4837 26.3091 99.5349 22.8288 98.2923 20.159 95.597 17.7407 91.9623 15.4433 87.6224 13.2744 82.852 11.2761 77.9501 9.5009 73.2267 8.0053 68.9967 6.8476 65.5775 6.0869 63.2878 8.5039 58.8189 8.5039 64.4882 11.4159 61.678 12.0598 63.9366 13.096 67.3131 14.4632 71.484 16.0992 76.1247 17.9401 80.9079 19.9182 85.5015 21.955 89.5625 23.9378 92.7235 25.6156 94.5765 26.3091 94.9926 26.3091 95.0439 27.238 94.6562 29.2597 92.7861 31.6431 89.6314 34.107 85.5931 36.4928 81.0339 38.6722 76.2966 40.5259 71.7184 41.9371 67.6411 42.7892 64.4378 43.0063 62.6773 44.1142 63.3099 44.1142 63.2587 43.6016 63.6842 41.3504 65.7892 38.309 69.1047 34.7327 73.2658 30.8206 77.947 26.7203 82.8016 22.6005 87.5099 18.6237 91.7569 14.9372 95.2368 11.6298 97.6622 8.5039 98.6811 8.5039 98.6811 5.7632 97.5371 4.1732 94.9751 3.2938 91.5997 2.8747 87.5723 2.823 83.1 3.0783 78.4246 3.5883 73.8009 4.3042 69.486 5.1824 65.7306 6.2004 62.7549 7.5017 60.6513 7.5017 60.6513 9.5567 59.7316 11.5575 60.3468 13.1783 61.7154 14.7432 63.5639 16.3535 65.7733 18.0303 68.2062 19.7719 70.7108 21.6197 73.085 23.5158 75.1738 25.3799 76.8188 27.1109 77.855 27.1567 77.7633 29.0376 78.3764 31.1876 78.7368 33.489 78.8642 35.8191 78.7927 38.0556 78.565 40.0761 78.2284 41.7519 77.8353 42.9263 77.4501 43.2556 77.2411 42.7942 81.7522 44.1142 82.4811 44.1142 82.5836 42.2906 82.5934 39.6612 82.4743 36.305 82.2755 32.4228 82.0453 28.2338 81.8335 23.9652 81.6894 19.8532 81.6617 16.1526 81.7954 13.1648 82.1198 11.3368 82.579 11.5105 82.4653\" fill=\"rgba(0,0,0,1)\"/>\n",
       "<polygon points=\"8.5039 110.5512 11.0032 111.4601 12.7781 112.5087 15.5095 114.0355 18.9766 115.9302 22.9588 118.0825 27.2352 120.3818 31.5853 122.718 35.7882 124.9806 39.6232 127.0592 42.8696 128.8436 45.3067 130.2233 45.2422 130.3522 47.0171 131.4008 48.4242 132.2655 49.4633 132.9462 50.1346 133.443 50.438 133.7559 48.891 136.8499 48.5876 136.537 47.8948 136.0832 46.7912 135.5314 45.3197 134.7956 43.4803 133.876 43.4803 133.876 40.9788 132.6252 37.6679 130.9698 33.7684 129.02 29.5011 126.8863 25.0866 124.6791 20.7457 122.5086 16.6991 120.4853 13.1675 118.7195 10.3716 117.3216 8.5323 116.4019 8.5039 113.3858 8.5039 113.3858 9.9672 113.9502 12.2413 115.0872 15.6391 116.7861 19.8611 118.8434 24.5753 121.1199 29.4501 123.4768 34.1644 125.7533 38.3971 127.7891 41.8271 129.4235 44.1335 130.4962 44.1142 130.6384 44.1142 130.5664 42.3394 134.0844 40.033 133.0118 36.603 131.3773 32.3703 129.3415 27.656 127.065 22.7812 124.7082 18.067 122.4316 13.8343 120.3958 10.4042 118.7614 8.0979 117.6888 8.5039 111.9685 8.5039 117.6378 10.5688 112.7469 12.8107 113.9484 16.1763 115.7118 20.3445 117.8765 24.9943 120.282 29.8047 122.7677 34.4545 125.1732 38.6227 127.3379 41.9883 129.1013 44.2302 130.3028 44.1142 134.6502 44.1142 134.5781 42.4361 133.891 40.1942 132.6895 36.8286 130.9261 32.6604 128.7614 28.0105 126.3559 23.2002 123.8702 18.5504 121.4647 14.3714 119.3215 10.9736 117.6226 8.6995 116.4855 8.5039 116.2205 8.5039 116.2205 9.8 113.8665 11.6393 114.7862 14.4352 116.1842 17.9668 117.9499 22.0134 119.9733 26.3543 122.1437 30.7688 124.351 35.0361 126.4846 38.9356 128.4344 42.2465 130.0898 44.748 131.3406 44.748 131.3406 46.5874 132.2603 48.0589 132.996 49.1625 133.5478 49.9412 133.8298 50.3736 133.8848 48.8266 136.9788 48.3942 136.9238 47.594 136.6848 46.4259 136.2619 44.89 135.6551 42.9861 134.8643 42.9217 134.9932 40.3557 133.8714 36.9804 132.3449 33.0164 130.5241 28.6846 128.5193 24.2057 126.441 19.8003 124.3994 15.6892 122.505 12.0932 120.8682 9.2329 119.5992 7.329 118.8084 8.5039 119.0551\" fill=\"rgba(0,0,0,1)\"/>\n",
       "<polygon points=\"8.5039 163.7008 10.8383 164.0705 13.7144 164.4403 17.0119 164.81 20.6103 165.1797 24.3894 165.5495 28.2287 165.9192 32.0078 166.2889 35.6062 166.5354 38.9037 166.5354 41.7798 166.5354 44.1142 166.5354 44.1142 166.5354 45.5756 166.3991 46.4656 166.0957 46.8786 165.7947 46.8629 165.6038 46.6817 165.7596 46.7481 166.2646 47.2311 166.733 47.6582 166.9006 47.64 167.1446 47.25 167.8534 46.6496 169.2204 41.5788 166.6851 42.9849 164.7078 44.5012 163.3431 46.1886 162.5838 48.0203 162.6177 49.5066 163.6211 50.0746 165.1295 49.7931 166.5561 48.9748 167.7029 47.7825 168.6059 46.1643 169.172 44.1142 169.3701 44.1142 169.3701 41.7798 169.3701 38.9037 169.3701 35.6062 169.3701 32.0078 169.6166 28.2287 169.9863 24.3894 170.356 20.6103 170.7258 17.0119 171.0955 13.7144 171.4653 10.8383 171.835 8.5039 172.2047\" fill=\"rgba(0,0,0,1)\"/>\n",
       "<polygon points=\"26.3091 243.1594 25.6119 242.5466 23.9711 242.6252 21.8374 243.5035 19.7244 245.1432 18.016 247.4213 16.3681 249.8125 14.7948 252.1557 13.5082 254.4503 12.3481 256.5315 10.9855 258.3076 8.5039 259.5472 8.5039 253.878 8.1895 254.2882 9.2682 253.7902 10.8036 252.4735 12.4467 250.5677 14.0171 248.2288 15.7067 245.7775 17.5099 243.3736 19.0623 240.8128 20.7277 238.2933 22.9997 236.0978 26.3091 234.6555\" fill=\"rgba(0,0,0,1)\"/>\n",
       "<polygon points=\"12.7559 274.252 12.6056 273.3505 14.4615 275.6584 17.6361 278.9875 21.6833 282.9412 26.2466 287.2587 30.9928 291.7068 35.5984 296.0626 39.7473 300.111 43.1382 303.6548 45.5237 306.5813 46.7807 309.8622 46.6365 309.8622 43.6684 312.81 40.8663 312.4561 37.5718 311.4093 33.6363 309.8335 29.2488 307.8281 24.6536 305.4966 20.1094 302.9448 15.8532 300.3183 12.1081 297.75 9.1617 295.2242 7.2362 292.6909 7.2362 292.6909 6.5025 289.9997 6.714 287.1957 7.6541 284.4095 9.1627 281.7082 11.1187 279.1648 13.4168 276.8667 15.9602 274.9107 18.6615 273.4022 21.4476 272.4621 24.2516 272.2506 26.9429 272.9843 26.9429 272.9843 29.398 274.6708 31.9228 277.1583 34.503 280.3001 37.1 283.9174 39.6003 287.8706 41.8802 292.0134 43.8335 296.1883 45.3521 300.2475 46.3221 304.0657 46.5964 307.5694 45.8761 310.7431 45.9405 310.7754 43.6108 313.3839 40.3079 314.9587 36.3401 315.9082 31.8877 316.4034 27.1688 316.5278 22.424 316.3408 17.8997 315.8931 13.8337 315.2272 10.4231 314.36 7.693 313.1477 5.6693 309.8622 11.3386 309.8622 10.8064 308.5833 12.1898 309.2773 14.9729 310.1157 18.6389 310.8543 22.8433 311.41 27.282 311.7246 31.6596 311.7487 35.675 311.4412 39.0045 310.7855 41.2866 309.8521 42.2878 308.949 42.3523 308.9813 42.8091 307.3192 42.7155 304.6358 41.9933 301.2571 40.7161 297.4505 38.9906 293.4318 36.9296 289.3944 34.6475 285.5219 32.2415 282.0092 29.8186 279.0576 27.561 276.8296 25.6752 275.5197 25.6752 275.5197 24.0256 275.0762 22.0472 275.2326 19.8302 275.9847 17.5285 277.272 15.2895 278.9947 13.2467 281.0375 11.5239 283.2765 10.2366 285.5783 9.4845 287.7952 9.3281 289.7736 9.7716 291.4232 9.7716 291.4232 11.1771 293.2309 13.8157 295.4874 17.3679 297.9222 21.5795 300.2989 26.1318 302.5294 30.7201 304.5388 35.0613 306.2122 38.8579 307.4322 41.757 308.0776 43.0684 308.0916 41.5918 309.8622 41.4477 309.8622 41.0459 309.9794 38.8831 307.7556 35.4784 304.6042 31.2263 300.8536 26.4678 296.7482 21.529 292.5146 16.7282 288.371 12.3744 284.5257 8.7534 281.1595 6.0611 278.3171 4.252 274.252\" fill=\"rgba(0,0,0,1)\"/>\n",
       "<polygon points=\"47.1208 366.0184 42.2754 367.4961 38.6513 366.4788 34.9782 364.6976 30.9811 362.3752 26.75 359.6907 22.4609 356.8381 18.3177 354.0206 14.5388 351.4478 11.3598 349.3376 9.075 347.9287 8.5039 347.4684 8.5039 347.2874 9.8978 345.6807 9.9036 345.925 10.7711 347.5258 12.3452 349.6229 14.4583 351.9161 16.8413 354.2991 19.3257 356.6025 21.7414 358.6583 23.9082 360.2944 25.6007 361.3255 26.3091 361.5945 26.3091 361.5945 25.8653 361.837 25.9492 361.3537 25.902 359.9019 25.6152 357.905 25.1714 355.6043 24.6697 353.1831 24.2106 350.8017 23.8354 348.6041 23.6919 346.6408 24.1567 344.7319 26.3091 343.4577 26.3091 343.3672 28.6167 344.148 30.4107 345.7019 32.2357 347.7716 34.1502 350.2098 36.1214 352.8272 38.092 355.4152 39.9879 357.75 41.7025 359.5842 43.0129 360.6281 43.2252 360.7032 42.1098 361.0074 46.1186 365.0162 42.6688 366.1632 40.0051 365.0009 38.0179 363.1486 36.134 360.8493 34.2509 358.2344 32.3822 355.4783 30.5743 352.7782 28.8904 350.347 27.4179 348.417 26.3358 347.262 26.3091 347.0462 26.3091 346.9557 26.9565 346.5109 26.8193 346.8761 26.7761 348.3106 27.0029 350.3135 27.4467 352.6142 27.9484 355.0354 28.4075 357.4168 28.7227 359.6204 28.7758 361.5664 28.2578 363.3572 26.3091 364.4291 26.3091 364.4291 24.3487 363.8687 22.2955 362.6257 19.9609 360.864 17.4404 358.7193 14.8748 356.3407 12.4153 353.8811 10.2143 351.4923 8.3237 349.3889 6.897 347.5919 6.1001 345.562 8.5039 343.1259 8.5039 342.945 11.0966 343.4813 13.962 344.7812 17.4783 346.6708 21.4984 348.9674 25.8163 351.4674 30.209 353.959 34.439 356.2241 38.2409 358.0352 41.2631 359.1501 42.7893 359.3703 41.1076 360.0052\" fill=\"rgba(0,0,0,1)\"/>\n",
       "<polygon points=\"48.3661 398.3563 48.3141 399.9695 48.5177 402.0926 48.909 404.4902 49.3921 406.997 49.8663 409.4865 50.2299 411.8666 50.3694 414.1091 50.0551 416.3605 48.3403 418.7064 45.4536 419.1699 43.1027 418.1843 43.1836 418.0225 40.4944 415.9673 37.4074 412.9386 33.8902 409.1151 30.0238 404.7756 25.9175 400.2168 21.8262 395.6237 17.921 391.2679 14.3767 387.4243 11.3783 384.3761 9.1596 382.4366 8.5039 381.9685 8.5039 381.9685 9.4161 381.3215 9.7557 382.9396 10.856 385.9063 12.5605 389.7096 14.6984 394.035 17.1043 398.5976 19.615 403.1202 22.119 407.2959 24.4229 410.8586 26.3226 413.5296 27.5458 414.9247 27.6098 414.8607 27.2872 414.7373 26.3897 414.9993 26.5021 414.4864 26.704 413.0805 26.7781 411.1376 26.6874 408.8949 26.4261 406.5511 25.9994 404.2993 25.4285 402.3452 24.7818 400.9329 24.3047 400.3607 28.3135 396.3519 29.6756 398.4484 30.5005 400.7818 31.0332 403.3292 31.3423 406.0135 31.4488 408.7197 31.3581 411.3195 31.0643 413.6907 30.5305 415.7496 29.5393 417.5309 27.1703 418.5955 25.0083 417.4621 25.0723 417.3982 23.6267 415.4623 21.7808 412.5483 19.5833 408.8137 17.1511 404.5216 14.6118 399.9477 12.1752 395.3268 9.9989 390.9235 8.2387 386.9947 7.0448 383.7678 6.5818 381.2724 8.5039 379.1339 8.5039 379.1339 10.8448 380.1573 13.3416 382.3314 16.4365 385.4768 20.0222 389.3652 23.9427 393.7381 28.0317 398.3285 32.1189 402.8662 36.1183 406.9945 39.7981 410.4683 42.8981 413.0246 45.0447 414.3003 45.1256 414.1385 46.1191 414.3302 45.3058 414.4258 44.5944 415.0794 44.4138 414.535 44.0182 413.0987 43.3786 411.1379 42.5819 408.8451 41.7273 406.3488 40.9146 403.7432 40.2487 401.084 39.8622 398.3563\" fill=\"rgba(0,0,0,1)\"/>\n",
       "<polygon points=\"75.2067 8.5039 76.9953 4.7934 79.4776 3.4085 81.8913 2.8699 84.4099 2.6732 87.0347 2.71 89.6785 2.9528 92.2237 3.3966 94.5491 4.0516 96.5526 4.9621 98.1573 6.3157 98.8431 8.5039 98.6811 8.5039 98.2052 10.2952 97.1426 11.9652 95.6567 13.7191 93.8358 15.5748 91.7771 17.4975 89.5842 19.437 87.3644 21.3373 85.2273 23.1394 83.2847 24.7821 81.6529 26.1996 80.4609 27.3113 80.5181 27.3685 79.6047 28.3496 78.5875 29.0354 76.3242 28.3761 75.8573 26.7191 76.0032 25.7664 76.289 24.9219 76.7336 24.0845 77.6019 23.178 80.1331 22.8545 81.9655 24.7497 82.2933 26.3091 76.624 26.3091 76.7846 26.3634 78.1822 27.6567 80.1115 27.4335 80.3109 27.129 80.1201 27.1946 79.9043 27.3533 79.7826 27.3037 79.3825 26.2486 77.6209 25.6896 77.6404 25.7735 78.3992 25.2496 78.4565 25.3069 79.766 24.0842 81.445 22.6256 83.4019 20.9708 85.5321 19.1744 87.7268 17.2957 89.8749 15.3959 91.8628 13.5395 93.5735 11.7967 94.8834 10.2531 95.6602 9.047 95.8465 8.5039 95.6845 8.5039 95.5409 8.8528 94.8714 8.7349 93.4772 8.5418 91.602 8.461 89.4652 8.537 87.2665 8.7798 85.2092 9.1845 83.5274 9.7235 82.5433 10.2885 82.7514 10.3751 83.7106 8.5039\" fill=\"rgba(0,0,0,1)\"/>\n",
       "<polygon points=\"75.2067 79.4587 76.4531 76.2001 78.2527 74.2887 80.3523 72.5863 82.7219 70.8755 85.2604 69.1387 87.8329 67.4092 90.2892 65.739 92.4688 64.192 94.1997 62.8523 95.2944 61.8701 95.6845 61.6535 95.8465 61.6535 95.7934 61.4503 95.4952 61.155 94.7359 60.7795 93.5417 60.4746 92.0087 60.31 90.2254 60.3103 88.269 60.484 86.2106 60.8335 84.1178 61.3583 82.0567 62.0558 80.0925 62.9212 80.1287 62.9937 78.2186 64.2015 76.2032 65.6806 74.1525 67.3689 72.1331 69.2034 70.2105 71.1198 68.4504 73.0516 66.9201 74.9279 65.6908 76.6674 64.8398 78.1631 64.4461 79.2317 64.4882 79.4587 58.8189 79.4587 59.356 77.3513 60.3669 75.5438 61.7097 73.742 63.3431 71.8831 65.2241 69.9803 67.3032 68.0728 69.5275 66.2101 71.8424 64.4461 74.1928 62.8369 76.525 61.4399 78.7886 60.3134 78.8248 60.3859 81.0343 59.4119 83.3208 58.638 85.6291 58.0591 87.9049 57.6728 90.0956 57.4786 92.1515 57.479 94.0297 57.6823 95.6982 58.1131 97.1328 58.8412 98.2392 60.0174 98.6811 61.6535 98.8431 61.6535 98.4038 63.7713 97.2243 65.6652 95.5574 67.623 93.5366 69.6745 91.3109 71.7833 89.0408 73.8931 86.8972 75.9354 85.0664 77.8231 83.7681 79.4182 83.2936 80.3829 83.7106 79.4587\" fill=\"rgba(0,0,0,1)\"/>\n",
       "<polygon points=\"94.2572 111.7966 101.8302 113.6203 100.578 117.4071 99.2332 118.9134 97.3557 120.9671 95.0627 123.4155 92.5025 126.0625 89.8259 128.7069 87.1775 131.1508 84.6782 133.21 82.3445 134.7408 79.4587 135.5427 79.4587 135.423 76.3255 133.3728 75.8352 130.9187 76.0089 128.5468 76.4474 125.9695 77.0281 123.2641 77.6499 120.6007 78.2128 118.1833 78.6161 116.2505 78.7843 115.1762 79.8009 115.9458 80.5173 115.8618 80.4609 115.8053 79.2762 117.2944 77.4455 120.0247 75.2169 123.6377 72.7646 127.8444 70.2539 132.367 67.848 136.9296 65.7101 141.2549 64.0057 145.0582 62.9054 148.0249 62.5657 149.643 61.6535 148.9961 61.6535 148.9961 62.3726 148.5673 64.584 146.8384 67.5747 144.0935 71.1113 140.59 75.0078 136.5602 79.0882 132.2296 83.1798 127.8207 87.1113 123.5549 90.7127 119.6523 93.8162 116.3307 96.2616 113.801 96.2333 113.7727 97.7559 112.0102 98.6111 110.6966 98.9026 109.9314 98.8813 110.005 99.5417 110.882 100.3167 111.018 100.3307 111.1004 100.0473 111.5087 99.7091 112.2584 99.4503 113.3513 99.3798 114.8031 99.4397 114.8031 99.5795 117.0937 99.8532 120.1331 100.2127 123.7114 100.6074 127.6469 100.987 131.7675 101.3008 135.9068 101.4973 139.9054 101.5219 143.6172 101.3077 146.928 100.7254 149.8128 99.2682 152.4178 95.2594 148.409 95.4743 148.0175 95.9288 146.1868 96.2162 143.4043 96.3077 139.986 96.2366 136.1589 96.0488 132.118 95.793 128.0451 95.5189 124.1148 95.2763 120.496 95.1152 117.3484 95.0879 114.8031 95.1478 114.8031 95.4117 112.5762 96.0224 110.7262 96.8882 109.2686 97.9425 108.2055 99.2274 107.552 101.0056 107.6881 102.2011 109.3008 102.0461 110.8459 101.3342 112.288 100.116 113.9173 98.2942 115.8336 98.266 115.8053 95.8754 118.2787 92.792 121.5788 89.1965 125.4751 85.2621 129.744 81.1601 134.1641 77.0603 138.5153 73.1311 142.5788 69.5377 146.1385 66.4351 148.9853 63.931 150.9351 61.6535 151.8307 61.6535 151.8307 59.7314 149.6922 60.1944 147.1968 61.3883 143.9698 63.1485 140.0411 65.3248 135.6377 67.7614 131.0169 70.3007 126.4429 72.7846 122.1818 75.0574 118.4975 76.9724 115.6428 78.4565 113.801 78.4 113.7445 80.6214 112.8177 82.2399 114.8247 82.3079 116.6466 82.1091 118.8473 81.769 121.3796 81.3876 124.0604 81.0654 126.6724 80.9018 128.9645 80.9752 130.5924 81.0869 130.8471 79.4587 129.7936 79.4587 129.6738 79.2415 129.4792 80.6535 128.301 82.6556 126.3604 84.9434 123.935 87.3167 121.262 89.5991 118.5648 91.6203 116.0636 93.2075 113.9837 94.1569 112.5938 93.7074 115.1433 100.2704 117.8097\" fill=\"rgba(0,0,0,1)\"/>\n",
       "<polygon points=\"97.2638 163.7008 97.9867 163.7889 97.6756 164.1205 96.9406 165.2991 96.9208 166.7135 97.3613 167.4416 97.8565 167.7364 98.5776 167.8698 99.6439 167.6092 100.2738 166.9562 100.1656 166.9301 99.9303 167.9528 99.7861 167.9528 99.642 170.4543 99.4979 173.7652 99.3537 177.6646 99.2096 181.932 99.0655 186.3465 98.9213 190.6874 98.7772 194.734 98.6811 198.2656 98.6811 201.0614 98.6811 202.9008 97.2638 202.1457 97.2638 202.1457 95.8465 202.9008 95.8465 201.0614 95.8465 198.2656 95.8465 194.734 95.8465 190.6874 95.8465 186.3465 95.8465 181.932 95.8465 177.6646 95.8465 173.7652 95.8465 170.4543 95.8465 167.9528 95.8465 167.9528 96.052 165.9531 96.7107 164.4225 97.9298 163.431 99.3892 163.2319 100.6415 163.6749 101.6011 164.5343 102.1976 165.7901 102.0967 167.4144 101.0307 168.8386 99.3745 169.632 97.2638 169.9226 97.2638 169.9947 94.7254 169.9797 91.5796 169.831 87.9605 169.6006 84.0289 169.3386 79.9541 169.0948 75.911 168.9191 72.0817 168.8601 68.6612 168.9638 65.8768 169.2636 64.0455 169.7307 63.6579 169.9572 59.6491 165.9484 62.2581 164.5026 65.1423 163.933 68.4512 163.7311 72.1608 163.768 76.1571 163.9766 80.2943 164.3024 84.413 164.6941 88.3472 165.101 91.9251 165.4726 94.9663 165.7586 97.2638 165.9109 97.2638 165.9829 98.4974 165.9391 98.9146 165.8629 98.8519 166.0832 98.8848 166.3698 98.9463 166.3547 98.9026 166.2108 98.884 166.1188 99.0057 166.0535 99.0208 166.0652 98.81 166.6081 98.6811 167.9528 98.6811 167.9528 98.6811 170.4543 98.6811 173.7652 98.6811 177.6646 98.6811 181.932 98.6811 186.3465 98.6811 190.6874 98.6811 194.734 98.6811 198.2656 98.6811 201.0614 98.6811 202.9008 97.2638 204.9803 97.2638 204.9803 95.8465 202.9008 95.8465 201.0614 95.8465 198.2656 95.7504 194.734 95.6062 190.6874 95.4621 186.3465 95.318 181.932 95.1738 177.6646 95.0297 173.7652 94.8856 170.4543 94.7414 167.9528 94.5973 167.9528 94.6964 165.6311 95.4578 163.5315 97.2915 161.8752 99.6956 161.4808 101.6875 162.1494 103.186 163.4475 104.1616 165.4464 104.0081 168.1985 102.2697 170.581 99.8851 171.7822 97.2638 172.2047\" fill=\"rgba(0,0,0,1)\"/>\n",
       "<polygon points=\"79.4587 234.6555 78.8145 234.8714 79.8473 234.8131 81.3668 234.671 83.2655 234.4956 85.4378 234.3376 87.7803 234.2492 90.1944 234.2844 92.5896 234.5036 94.8884 234.9837 97.0238 235.8477 98.863 237.3082 98.7351 237.4362 99.8775 239.3818 100.5618 241.6083 100.9812 244.0744 101.2478 246.6794 101.4392 249.3063 101.439 251.836 101.2425 254.1333 100.8234 256.0932 100.0239 257.7042 98.1405 258.6343 96.2616 257.7148 96.2616 257.7148 94.9594 255.9343 93.6773 253.4604 92.3061 250.3613 90.8326 246.7752 89.2603 242.8613 87.5977 238.7861 85.8553 234.7205 83.9922 230.8649 82.0571 227.3922 80.1106 224.482 78.2219 222.3391 78.1579 222.4031 76.1605 220.8292 73.9615 219.5823 71.6718 218.6708 69.413 218.1003 67.32 217.8688 65.548 217.9568 64.2828 218.2954 63.7041 218.6831 63.7005 218.8072 63.7923 218.9599 64.1889 219.8347 59.1182 222.3701 58.3376 219.566 58.7972 216.7758 60.4859 214.6926 62.7031 213.6089 65.1166 213.2117 67.6855 213.2997 70.3749 213.8039 73.1192 214.7049 75.8325 216.0007 78.4159 217.6968 80.7594 219.8016 80.6954 219.8656 82.8132 222.5586 84.7796 225.8354 86.6436 229.5596 88.4459 233.5698 90.215 237.6978 91.89 241.8029 93.4614 245.7146 94.9175 249.2586 96.2418 252.2528 97.4011 254.4944 98.266 255.7104 98.266 255.7104 98.2264 255.8009 97.8145 255.9283 98.1186 255.2451 98.4353 253.7404 98.6066 251.7235 98.6065 249.4106 98.43 246.9876 97.9609 244.6564 97.2766 242.621 96.4895 241.1019 95.7925 240.3788 95.6645 240.5067 95.0022 240.2951 93.8267 240.1223 92.2261 240.1008 90.354 240.2531 88.3536 240.5559 86.3552 240.9691 84.4808 241.4466 82.8479 241.94 81.5716 242.3999 80.765 242.7764 79.4587 243.1594\" fill=\"rgba(0,0,0,1)\"/>\n",
       "<polygon points=\"58.6469 306.8556 60.8631 305.2839 63.5496 303.8118 66.7939 302.2195 70.4981 300.5114 74.5187 298.7299 78.6973 296.9279 82.869 295.1625 86.8657 293.4926 90.5168 291.9783 93.6472 290.682 96.0713 289.6721 96.1357 289.801 97.8685 289.0563 99.0813 288.5124 99.7964 288.1976 99.9492 288.2778 100.364 290.6734 101.6625 290.9101 101.3987 290.861 100.7888 291.0731 100.038 291.5593 99.178 292.2232 98.266 293.0593 98.266 293.0593 97.2448 294.16 96.0513 295.5661 94.7121 297.2044 93.2431 299.0088 91.6566 300.916 89.9623 302.8648 88.1687 304.795 86.2822 306.6469 84.3071 308.361 82.2446 309.8766 80.0925 311.1299 80.0925 311.1299 77.7683 312.1154 75.2552 312.889 72.6499 313.4637 70.0569 313.8936 67.5642 314.1575 65.2592 314.2291 63.2134 314.0955 61.4392 313.6958 59.8431 312.6825 59.2124 310.3702 60.2607 308.4693 60.2097 308.4184 62.2622 306.8642 65.1725 305.2829 68.8594 303.5375 73.0954 301.6591 77.6218 299.7006 82.1696 297.7212 86.4617 295.7845 90.209 293.9613 93.0898 292.3476 94.6615 291.1785 94.4291 292.0571 100.0984 292.0571 98.3745 295.27 95.8327 296.977 92.5198 298.6608 88.5351 300.4361 84.0986 302.2784 79.4628 304.1383 74.8928 305.9589 70.6609 307.6789 67.0505 309.2311 64.3758 310.5259 63.0974 311.3061 63.0464 311.2551 62.9175 311.1936 62.6547 310.3528 62.7508 310.4431 63.7724 310.7791 65.4054 311.0134 67.4413 311.0851 69.7309 310.9811 72.141 310.6752 74.5388 310.1463 76.8081 309.4483 78.8248 308.5945 78.8248 308.5945 80.6792 307.5135 82.5296 306.153 84.3536 304.5695 86.1324 302.823 87.8503 300.9741 89.4937 299.0837 91.0508 297.2118 92.5115 295.4177 93.8678 293.7585 95.1157 292.2885 96.2616 291.0549 96.2616 291.0549 97.3561 290.0516 98.4024 289.244 99.3572 288.6265 100.1519 288.1029 100.8915 287.6859 102.6916 287.9227 103.006 290.6862 102.3562 291.5021 101.4661 292.2909 100.1706 293.2185 98.3918 294.3131 98.4563 294.4421 96.0444 295.7665 92.988 297.3463 89.442 299.1295 85.5729 301.0581 81.5511 303.0718 77.5495 305.1091 73.7444 307.1066 70.3185 308.9969 67.4695 310.7022 65.4405 312.1062 64.6601 312.8688\" fill=\"rgba(0,0,0,1)\"/>\n",
       "<polygon points=\"65.4566 347.1082 64.4635 349.0134 63.493 351.1718 62.61 353.4443 61.8715 355.6949 61.3288 357.7796 61.0215 359.5282 60.9437 360.7071 60.8856 360.9856 60.1867 360.4657 59.5041 360.3971 60.256 360.2168 60.3018 360.3084 62.243 359.1722 65.0039 357.0395 68.2797 354.1519 71.8981 350.7112 75.7193 346.9022 79.6143 342.9024 83.4585 338.8861 87.1299 335.0253 90.5082 331.4903 93.4759 328.4489 95.9235 326.0613 95.9959 326.1337 97.621 324.4997 98.6016 323.2894 99.0478 322.5721 99.1547 322.5454 99.6831 323.1719 100.197 323.2356 100.0386 323.3446 99.6239 323.8069 99.1746 324.6346 98.8229 325.8293 98.6811 327.4016 98.6811 327.4016 98.8392 329.6588 99.2656 332.691 99.8646 336.2714 100.5349 340.2131 101.1753 344.3419 101.684 348.4908 101.9578 352.5001 101.8871 356.2225 101.3391 359.5324 100.1059 362.3135 97.8976 364.2795 97.8976 364.2795 95.0285 365.0143 91.8135 364.8134 88.3131 363.9168 84.5851 362.4691 80.7162 360.5862 76.8094 358.3777 72.9755 355.9519 69.3083 353.4441 65.93 350.9456 62.9641 348.5461 60.5185 346.3417 60.4823 346.3779 58.4983 344.0984 57.0483 341.6866 56.0938 339.2182 55.588 336.7673 55.4798 334.4015 55.7189 332.1798 56.2626 330.153 57.0857 328.3636 58.2012 326.8527 59.6936 325.7028 61.6535 325.1817 61.6535 325.1304 64.0322 325.835 65.8752 327.2153 67.7097 329.03 69.6166 331.1766 71.5744 333.5206 73.5342 335.91 75.4338 338.1821 77.1973 340.1624 78.7141 341.6543 79.7435 342.4173 79.4587 342.372 79.4587 348.0413 76.8395 347.1667 74.9928 345.6556 73.2121 343.7497 71.3771 341.5295 69.4977 339.1196 67.6181 336.6664 65.7969 334.3284 64.1053 332.2745 62.6423 330.6914 61.6092 329.7976 61.6535 329.6727 61.6535 329.6215 61.6069 329.5953 61.193 329.85 60.6029 330.533 60.0214 331.6063 59.5618 332.9907 59.2993 334.6083 59.2914 336.3894 59.5883 338.2727 60.239 340.2054 61.2972 342.1413 62.8248 344.0354 62.7886 344.0717 65.0117 346.2082 67.7979 348.5911 71.0147 351.0957 74.5444 353.591 78.2686 355.9475 82.0404 358.0799 85.7297 359.8758 89.1986 361.224 92.2932 362.0196 94.8304 362.1866 96.6299 361.7441 96.6299 361.7441 97.766 360.7136 98.6063 358.7793 99.0615 355.9958 99.1246 352.5881 98.8633 348.7717 98.3688 344.7404 97.7383 340.6757 97.0709 336.7516 96.4659 333.135 96.0228 329.9802 95.8465 327.4016 95.8465 327.4016 96.0391 325.2951 96.557 323.5468 97.3116 322.1673 98.2346 321.158 99.3471 320.5313 100.8642 320.595 101.9277 321.9572 101.9008 323.4021 101.3438 324.892 100.2508 326.6247 98.5316 328.6694 98.6041 328.7419 96.383 331.1902 93.5985 334.3357 90.3818 337.9977 86.8562 342.0027 83.1423 346.1799 79.3587 350.3604 75.6218 354.377 72.0432 358.0664 68.724 361.2722 65.7327 363.8549 63.0052 365.7152 63.0511 365.8068 60.2915 366.8037 57.1006 366.3672 54.7965 364.1551 53.9357 361.6377 53.7576 359.138 53.9519 356.5456 54.4125 353.8479 55.0786 351.0954 55.9012 348.3648 56.837 345.7409 57.8505 343.3052\" fill=\"rgba(0,0,0,1)\"/>\n",
       "<polygon points=\"57.4016 398.3563 58.9507 394.7986 62.1418 393.4402 64.2538 393.6854 65.9839 394.2303 67.7117 394.8744 69.5128 395.5323 71.3719 396.1227 73.2423 396.5658 75.0684 396.7894 76.8056 396.7327 78.4472 396.3334 78.5281 396.4952 80.2548 395.5549 82.1558 393.9826 84.1068 391.9504 85.9959 389.6084 87.7374 387.1039 89.4142 384.671 91.0245 382.4616 92.5894 380.613 94.2102 379.2445 96.211 378.6292 98.266 379.549 98.266 379.549 99.4512 381.7057 100.0245 384.5317 100.2854 388.0041 100.3197 391.9755 100.1845 396.2516 99.932 400.6225 99.6128 404.8725 99.3376 408.7879 99.1267 412.1438 99.0013 414.7038 99.0128 416.1614 99.1033 416.1614 98.398 415.0798 96.4393 415.1352 96.6353 414.6721 97.0988 413.4894 97.5704 411.8459 97.9268 409.9026 98.0712 407.8037 97.9254 405.6901 97.4346 403.6928 96.564 401.9068 95.2594 400.3607 99.2682 396.3519 101.3079 399.1467 102.5107 402.1431 103.0232 405.1489 103.0112 408.0383 102.6205 410.7218 101.9736 413.1195 101.1744 415.1547 100.3002 416.7678 99.2922 417.997 96.464 418.4203 95.4243 416.1614 95.5147 416.1614 95.6935 414.4554 96.0029 411.8651 96.3939 408.5257 96.7876 404.6421 97.1038 400.431 97.3529 396.1201 97.4853 391.9351 97.4527 388.1076 97.2119 384.8846 96.7485 382.5604 96.2616 381.5534 96.2616 381.5534 96.1494 381.4632 95.7089 381.6505 94.6342 382.5762 93.2694 384.1924 91.7361 386.2971 90.0753 388.7068 88.3053 391.2521 86.5289 393.8463 84.6808 396.3156 82.669 398.489 80.3892 400.2174 80.4701 400.3792 77.938 401.4849 75.3276 402.0301 72.7526 402.1534 70.2888 401.9945 68.001 401.6819 65.9628 401.3365 64.2793 401.0777 63.1467 401.0206 63.0649 401.1655 64.8513 400.409 65.9055 398.3563\" fill=\"rgba(0,0,0,1)\"/>\n",
       "<polygon points=\"134.5098 47.9172 130.7575 48.699 127.25 48.1997 124.0925 46.8824 121.2288 45.0071 118.6459 42.7154 116.3843 40.1109 114.5174 37.2853 113.1417 34.3239 112.38 31.3075 112.3981 28.3342 113.3906 25.6028 113.5355 25.6752 115.3769 23.2259 118.1223 20.9052 121.5792 18.6322 125.554 16.4229 129.841 14.3217 134.228 12.3817 138.5002 10.6593 142.4428 9.2121 145.8449 8.0974 148.5148 7.3699 150.4134 7.0866 150.4134 7.0056 152.5595 8.39 152.4041 10.4734 151.4889 12.2337 150.0816 14.2086 148.2563 16.3973 146.1066 18.7189 143.7326 21.0756 141.2349 23.3656 138.7099 25.4873 136.2413 27.3435 133.876 28.8444 131.3406 23.7737 133.3162 22.7731 135.6299 21.3184 138.108 19.5407 140.6134 17.5633 143.0218 15.5055 145.2129 13.4862 147.0664 11.6283 148.455 10.0716 149.232 9.036 149.4445 9.28 150.4134 10.0022 150.4134 9.9213 149.1482 10.1329 146.6679 10.81 143.3747 11.8892 139.5183 13.3048 135.3294 14.9936 131.0346 16.8928 126.8605 18.9385 123.0364 21.0635 119.7979 23.1916 117.3931 25.2185 116.0708 26.9429 116.2157 27.0153 116.031 28.6248 116.417 30.4339 117.3475 32.4206 118.7677 34.4623 120.5795 36.4191 122.6588 38.1554 124.8583 39.5425 126.9976 40.463 128.8432 40.838 130.1181 40.7065 130.7067 40.3111\" fill=\"rgba(0,0,0,1)\"/>\n",
       "<polygon points=\"117.8097 58.6469 118.875 59.916 120.2111 61.456 121.758 63.2067 123.4553 65.1078 125.2429 67.0993 127.0606 69.1208 128.8482 71.1123 130.5456 73.0134 132.0924 74.7641 133.4285 76.3041 134.4938 77.5732 134.3918 77.6751 135.2096 78.6967 135.8434 79.5344 136.2933 80.1881 136.5593 80.6579 136.6413 80.9437 134.1953 83.3898 134.1132 83.1039 133.8133 82.6681 133.2615 82.1163 132.5258 81.3805 131.6061 80.4609 131.6061 80.4609 130.3834 79.1514 128.9248 77.4723 127.27 75.5154 125.4737 73.3852 123.5949 71.1905 121.6951 69.0425 119.8387 67.0545 118.0959 65.3438 116.5523 64.0339 115.3462 63.2571 114.8031 63.0709 114.8031 63.0709 114.6943 63.1677 114.0455 63.9615 113.3062 65.4396 112.7058 67.3885 112.3082 69.588 112.147 71.8393 112.2631 73.9459 112.6665 75.6916 113.2847 76.8539 113.9443 77.3715 114.8031 77.4888 114.8031 77.4168 116.6482 76.9509 119.6855 75.6276 123.4319 73.6246 127.5987 71.1642 131.9433 68.4634 136.2391 65.7344 140.27 63.1848 143.8365 61.0144 146.7999 59.4009 149.4657 58.4844 153.248 61.6535 147.5787 61.6535 150.0367 63.9799 149.0237 64.3009 146.3955 65.5835 142.8988 67.5466 138.8364 69.9466 134.4505 72.5618 129.9661 75.1785 125.5982 77.5874 121.5457 79.5842 117.9612 80.9698 114.8031 81.5006 114.8031 81.4285 112.1504 80.7164 110.3018 78.9599 109.3148 76.7244 108.9156 74.2697 108.9313 71.6942 109.2718 69.103 109.8775 66.6204 110.6816 64.3688 111.648 62.4491 112.9054 60.9688 114.8031 60.2362 114.8031 60.2362 116.5944 60.7121 118.2644 61.7747 120.0183 63.2607 121.874 65.0815 123.7967 67.1402 125.7362 69.3331 127.6365 71.5529 129.4386 73.69 131.0813 75.6326 132.4988 77.2644 133.6105 78.4565 133.6105 78.4565 134.5302 79.3761 135.2659 80.1119 135.8177 80.6637 136.2535 80.9636 136.5394 81.0457 134.0933 83.4917 133.8075 83.4097 133.3377 83.1437 132.684 82.6938 131.8463 82.06 130.8247 81.2422 130.7228 81.3442 129.4537 80.2789 127.9137 78.9428 126.1631 77.3959 124.2619 75.6986 122.2704 73.911 120.2489 72.0933 118.2574 70.3057 116.3563 68.6083 114.6056 67.0615 113.0656 65.7254 111.7966 64.6601\" fill=\"rgba(0,0,0,1)\"/>\n",
       "<polygon points=\"146.6103 148.5118 146.9031 147.7247 146.903 145.5208 146.314 142.4029 145.1672 138.7499 143.5647 134.8298 141.6222 130.8622 139.4592 127.0463 137.1992 123.5743 134.9765 120.639 132.9573 118.442 131.4158 117.1881 131.4802 117.0592 130.6698 116.7554 129.3246 117.0096 127.4694 118.067 125.4092 119.8357 123.3345 122.0886 121.3607 124.5895 119.5724 127.1104 118.0835 129.4535 117.0046 131.4205 116.3161 132.7482 114.8031 131.1909 114.8031 131.1909 113.7851 131.4717 114.5013 130.0906 115.6163 128.0578 117.072 125.5816 118.812 122.8693 120.7831 120.126 122.9389 117.5536 125.2503 115.351 127.7278 113.7259 130.433 112.9672 133.2421 113.5355 133.2421 113.5355 135.6514 115.2553 137.9732 117.7706 140.2535 120.9268 142.5122 124.5496 144.6863 128.4984 146.7017 132.6229 148.5017 136.759 150.0291 140.7452 151.2264 144.4268 152.0355 147.6698 152.3832 150.4134 152.4553 150.4134 151.8617 153.1683 150.1224 155.2091 147.8277 156.3839 145.2868 156.9466 142.6131 157.0772 139.9099 156.8699 137.2918 156.3823 134.8698 155.647 132.7246 154.6454 130.88 153.1601 129.7736 150.4134 135.4429 150.4134 135.1659 149.6733 135.5955 150.0942 136.8481 150.7982 138.6265 151.4675 140.6904 151.9832 142.8298 152.2776 144.8381 152.3079 146.4977 152.0679 147.6008 151.6375 148.1357 151.17 148.3715 150.4134 148.4435 150.4134 148.2963 148.3211 147.7008 145.3772 146.7043 141.8618 145.3689 137.9821 143.7577 133.9247 141.9338 129.869 139.961 125.9921 137.8855 122.4849 135.7647 119.5477 133.7389 117.3475 131.9744 116.0708 131.9744 116.0708 130.6098 115.7963 128.9675 116.2751 127.0438 117.5461 125.021 119.4771 123.0299 121.8543 121.1616 124.4551 119.4905 127.0603 118.0835 129.4535 117.0046 131.4205 116.3161 132.7482 114.8031 134.0256 114.8031 134.0256 113.7851 131.4717 114.5013 130.0906 115.6163 128.0578 116.99 125.5315 118.6129 122.735 120.4784 119.8916 122.5507 117.1949 124.8247 114.8301 127.3706 112.9913 130.3731 112.0082 133.7363 112.5471 133.8008 112.4182 136.6002 114.1608 139.3633 116.6793 142.1437 119.8374 144.8868 123.4954 147.5062 127.5052 149.9046 131.7177 151.9808 135.9912 153.6298 140.204 154.7331 144.2831 155.1009 148.2662 154.2165 152.3149\" fill=\"rgba(0,0,0,1)\"/>\n",
       "<polygon points=\"150.4134 199.311 149.9987 207.634 148.8616 207.4531 147.1627 207.2722 145.0625 207.0912 142.7215 206.9103 140.3002 206.7294 137.9592 206.5484 135.8589 206.3675 134.16 206.1865 133.023 206.0056 132.6083 201.3013 132.6083 201.4822 133.3945 201.8021 134.24 202.1878 135.564 202.658 137.2668 203.1033 139.2403 203.4132 141.3448 203.6564 143.4617 203.7849 145.4656 203.7539 147.2204 203.5294 148.5761 203.1088 149.4112 202.5608 149.4112 202.5608 150.1814 201.6533 150.8015 200.6243 151.2733 199.471 151.594 198.1931 151.7574 196.7941 151.7572 195.2815 151.5876 193.665 151.1858 191.9703 150.5813 190.2138 149.8027 188.4004 148.849 186.5401 148.7681 186.5805 147.662 184.7258 146.4278 182.9186 145.0758 181.1693 143.6163 179.4881 142.0601 177.8855 140.4185 176.3717 138.7027 174.957 136.9246 173.6516 135.0964 172.4653 133.2307 171.4078 131.3406 170.4881 133.876 165.4174 135.9924 166.6649 138.0395 168.0487 140.0104 169.5579 141.8977 171.1821 143.6934 172.9111 145.3894 174.7349 146.9769 176.6438 148.447 178.628 149.7905 180.6778 150.9977 182.7835 152.0587 184.9352 151.9778 184.9757 152.8635 187.1218 153.5563 189.2213 154.0554 191.2639 154.3894 193.2346 154.5877 195.1296 154.5875 196.9546 154.383 198.6993 153.9679 200.351 153.3362 201.8933 152.4847 203.3056 151.4156 204.5652 151.4156 204.5652 149.7491 205.6894 147.794 206.3054 145.6493 206.5826 143.3859 206.6185 141.0882 206.4794 138.8518 206.2211 136.7787 205.8955 134.9499 205.6719 133.4781 205.5401 132.4842 205.4911 132.6083 205.6437 132.6083 205.8247 133.023 201.1204 134.16 200.9394 135.8589 200.7585 137.9592 200.5776 140.3002 200.3966 142.7215 200.2157 145.0625 200.0348 147.1627 199.8538 148.8616 199.6729 149.9987 199.492 150.4134 207.815\" fill=\"rgba(0,0,0,1)\"/>\n",
       "<polygon points=\"150.4134 260.9646 146.3705 259.1261 143.5569 256.4101 140.2197 252.7661 136.4031 248.3891 132.2877 243.5646 128.0814 238.6012 124.002 233.8166 120.2746 229.5354 117.1396 226.0949 114.9084 223.8775 114.8031 223.364 114.8031 223.1831 116.1977 221.9614 116.3559 223.7467 117.2839 227.0566 118.8769 231.2349 121.0133 235.8719 123.4152 240.6758 125.9181 245.317 128.3553 249.465 130.5498 252.7788 132.2683 254.8733 132.6083 255.2953 132.6083 255.2953 132.136 255.3381 132.5573 253.4261 132.7971 250.1621 132.8298 246.0293 132.6971 241.3878 132.4477 236.5722 132.1313 231.9093 131.7379 227.7283 131.3478 224.3505 131.0414 222.0951 132.6083 219.3533 132.6083 219.2629 134.5382 221.8481 134.6287 223.9049 134.7192 227.0017 134.8096 230.8678 134.9001 235.2321 134.9906 239.8238 135.081 244.3721 135.1715 248.606 135.262 252.2546 135.3524 255.0471 135.4429 256.7126 129.7736 256.7126 129.8641 255.0471 129.9546 252.2546 130.045 248.606 130.1355 244.3721 130.226 239.8238 130.3164 235.2321 130.4069 230.8678 130.4974 227.0017 130.5878 223.9049 130.6783 221.8481 132.6083 222.9419 132.6083 222.8514 134.3424 221.7684 134.4707 224.0613 134.6826 227.4791 134.9581 231.699 135.2771 236.4002 135.5293 241.2698 135.6642 245.9923 135.63 250.2604 135.3682 253.7921 134.7526 256.4283 132.6083 258.1299 132.6083 258.1299 130.2795 256.8931 128.2524 254.4393 125.9454 250.9575 123.4464 246.7046 120.8994 241.9818 118.4587 237.1005 116.281 232.3735 114.4092 228.1508 113.0431 224.665 112.3986 221.9021 114.8031 219.0216 114.8031 218.8407 117.8616 219.986 120.7807 222.3168 124.341 225.672 128.4125 229.7917 132.7942 234.3712 137.2698 239.0929 141.6154 243.6325 145.5978 247.6564 148.9559 250.8081 151.2926 252.6403 150.4134 252.4606\" fill=\"rgba(0,0,0,1)\"/>\n",
       "<polygon points=\"150.4134 314.1142 146.813 312.5162 144.0871 310.1232 140.8401 306.9307 137.1178 303.0611 133.0977 298.7042 128.9848 294.0684 124.9931 289.3688 121.2482 284.9052 117.8659 280.9652 115.2341 277.5807 113.5355 274.8858 113.5355 274.8858 112.8078 272.6691 113.1425 270.5853 114.5902 269.1823 116.4397 268.511 118.5744 268.265 120.9675 268.3547 123.5471 268.7067 126.2239 269.2661 128.9014 269.9836 131.4827 270.8136 133.876 271.7166 131.3406 276.7874 129.3929 275.6837 127.1918 274.6075 124.8662 273.6194 122.5399 272.7742 120.3372 272.1229 118.3893 271.7109 116.8453 271.5653 115.899 271.6967 115.6544 271.8989 115.6213 272.3233 116.0708 273.6181 116.0708 273.6181 117.5359 275.9263 120.0544 279.1636 123.3674 283.0225 127.4214 287.0936 131.8908 291.223 136.4597 295.269 140.9007 299.0054 144.9774 302.1989 148.4258 304.5981 150.8501 305.8838 150.4134 305.6102\" fill=\"rgba(0,0,0,1)\"/>\n",
       "<polygon points=\"150.4134 358.7598 152.6067 359.4837 154.1483 360.5848 155.2295 361.7972 155.9733 363.0155 156.435 364.2002 156.6402 365.4901 155.416 367.7542 153.6435 367.5145 152.5819 366.8613 151.2246 365.7407 149.4112 364.014 149.4112 364.014 146.9378 361.6235 143.6377 358.54 139.7414 354.9445 135.3889 351.1007 130.8421 347.1334 126.3612 343.1653 122.1621 339.3622 118.4556 335.8831 115.4379 332.8672 113.2519 330.3565 111.9685 327.4016 117.6378 327.4016 117.6788 327.4431 119.1715 329.648 121.7454 332.7253 125.1022 336.3764 128.9963 340.3989 133.1972 344.6111 137.4794 348.8373 141.6616 352.8593 145.5643 356.4607 148.8859 359.5643 151.4156 362.0096 151.4156 362.0096 153.1137 363.6273 154.2647 364.5802 154.8083 364.9302 153.8384 364.8243 152.7145 366.5533 152.4181 366.8399 151.8765 366.7538 151.2157 366.6343 150.5913 366.6428 150.2267 366.8744 150.4134 367.2638\" fill=\"rgba(0,0,0,1)\"/>\n",
       "<polygon points=\"146.1614 380.5512 147.6764 383.111 146.7128 382.5531 144.0585 381.8374 140.4309 381.249 136.2219 380.8286 131.7476 380.5857 127.302 380.5223 123.1743 380.6369 119.6606 380.922 117.0919 381.3439 115.9199 381.6679 115.8053 381.5534 115.7933 381.6736 116.2229 382.7401 117.5178 384.4768 119.4911 386.5128 121.9056 388.6661 124.5362 390.8027 127.1647 392.803 129.5765 394.5522 131.5585 395.9376 132.8985 396.8475 132.6083 396.939 132.6083 396.858 131.1318 399.1706 130.1262 398.3368 128.6424 397.0248 126.7907 395.3449 124.6815 393.4075 122.4251 391.3229 120.132 389.2016 117.9124 387.1538 115.8768 385.29 114.1354 383.7204 112.7988 382.5556 116.8075 378.5468 117.9724 379.8835 119.5419 381.6248 121.4058 383.6604 123.4535 385.88 125.5749 388.1732 127.6594 390.4295 129.5969 392.5387 131.2767 394.3904 132.5888 395.8743 133.4226 396.8798 132.6083 399.8546 132.6083 399.7736 131.3214 399.2029 129.9526 398.2735 127.9347 396.863 125.4772 395.0806 122.7883 393.0343 120.0746 390.83 117.5396 388.5687 115.3793 386.3375 113.778 384.1747 112.9703 381.9303 113.801 379.549 113.6864 379.4344 115.8454 377.9191 118.8617 376.8695 122.6453 376.0509 126.9853 375.4298 131.6363 374.9985 136.3454 374.7556 140.865 374.7032 144.9695 374.8504 148.5089 375.2384 151.6588 376.1519 154.6654 380.5512\" fill=\"rgba(0,0,0,1)\"/>\n",
       "<polygon points=\"185.7579 22.0571 189.6528 24.1507 190.5614 27.2136 190.2591 29.3781 189.6732 31.3836 188.9665 33.4366 188.2339 35.5267 187.5666 37.5754 187.0528 39.4728 186.766 41.0849 186.7272 42.2666 186.8746 42.9974 186.7601 43.112 187.5685 43.6874 188.6967 44.0911 190.1209 44.3063 191.7664 44.3363 193.5529 44.2095 195.4061 43.9672 197.2582 43.6558 199.0471 43.3232 200.7172 43.0184 202.2255 42.7907 203.563 42.6969 203.563 42.6159 204.8238 42.5986 206.0099 42.7444 207.0861 42.9956 208.028 43.3104 208.8512 43.6925 209.7854 44.5583 208.3874 48.0208 206.8325 48.1292 205.676 47.9002 204.2117 47.4273 202.2953 46.6496 204.8307 41.5788 206.4258 42.4732 207.4698 43.0371 207.9186 43.3097 207.1662 43.4849 205.8686 46.6799 206.3011 47.0441 206.121 46.7907 205.6584 46.4367 205.0289 46.0859 204.3088 45.797 203.563 45.6125 203.563 45.5315 202.5661 45.6048 201.1983 45.8119 199.571 46.1091 197.7613 46.4454 195.8344 46.7693 193.8483 47.0287 191.8558 47.1695 189.9028 47.1326 188.0295 46.8461 186.2816 46.2131 184.7557 45.1164 184.6411 45.2309 183.2836 43.4602 182.6428 41.331 182.4564 39.0437 182.5445 36.6738 182.7802 34.3079 183.0509 32.0571 183.2472 30.0635 183.2633 28.5374 183.0613 27.9061 183.3679 29.1296 185.7579 30.561\" fill=\"rgba(0,0,0,1)\"/>\n",
       "<polygon points=\"205.4645 65.4566 202.8968 66.5363 199.7091 67.8593 196.0408 69.3815 192.0524 71.0476 187.911 72.7989 183.7868 74.5753 179.8527 76.3151 176.2852 77.954 173.2698 79.4217 171.017 80.6255 169.8382 81.3442 169.7363 81.2422 169.6013 81.018 167.9941 78.323 168.0467 78.4011 169.338 78.2689 171.2047 77.9591 173.4543 77.5872 175.9549 77.2618 178.5868 77.0422 181.2587 76.9893 183.8943 77.3225 186.3917 78.191 186.3917 78.191 188.6923 79.5157 191.1617 81.2249 193.7181 83.2173 196.2637 85.3885 198.6953 87.6331 200.9085 89.8463 202.8005 91.9278 204.2758 93.7925 205.2586 95.428 205.5144 97.3221 203.563 98.6811 203.563 98.6811 201.6644 98.3978 198.9945 97.6703 195.5924 96.5556 191.6326 95.1533 187.331 93.4967 182.9097 91.6203 178.5818 89.5793 174.5559 87.424 171.0305 85.1919 168.1848 82.8795 166.1909 80.3396 166.1264 80.3718 165.2579 77.5528 165.4238 74.6823 166.3906 71.956 167.9445 69.4105 169.9399 67.0512 172.2649 64.8983 174.8198 62.9873 177.5132 61.3636 180.2647 60.0792 183.0173 59.1979 185.7579 58.8189 185.7579 64.4882 184.1575 64.6041 182.1278 65.1274 179.8762 66.037 177.5664 67.2759 175.339 68.7762 173.3231 70.4625 171.6398 72.2502 170.3978 74.0389 169.6724 75.7137 169.4704 77.1908 169.7791 78.5455 169.7146 78.5777 170.8844 80.2115 173.1889 82.2467 176.3589 84.4157 180.1319 86.5947 184.2651 88.7006 188.5257 90.6635 192.6852 92.4181 196.5243 93.8785 199.8175 94.9577 202.2978 95.6348 203.563 95.8465 203.563 95.8465 202.7888 96.5433 202.6767 96.598 201.9673 95.4376 200.6468 93.7708 198.86 91.8057 196.7322 89.678 194.3815 87.508 191.924 85.4119 189.4773 83.5048 187.1643 81.9032 185.124 80.7264 185.124 80.7264 183.2805 80.0899 181.1338 79.8211 178.8025 79.8686 176.4314 80.2509 174.1497 80.8285 172.0583 81.4599 170.2463 82.053 168.7417 82.5228 167.102 82.7012 165.127 79.4043 166.1692 77.6751 166.0673 77.5732 167.8851 75.9575 170.3477 74.2852 173.4256 72.4554 176.9882 70.4958 180.8798 68.4565 184.9358 66.3936 188.9879 64.3659 192.8654 62.4336 196.3941 60.6583 199.3933 59.1051 201.6615 57.8505\" fill=\"rgba(0,0,0,1)\"/>\n",
       "<polygon points=\"190.0098 114.8031 189.3119 116.2262 188.7556 119.0402 188.2861 122.7522 188.1076 127.0371 188.4265 131.6022 188.6787 136.2209 188.8138 140.6281 189.037 144.5775 189.153 147.9037 188.816 150.6951 185.7579 153.248 185.7579 147.5787 184.3719 148.6401 185.0717 147.318 185.6893 144.4505 185.9794 140.6679 185.8469 136.3465 185.5975 131.7816 185.281 127.2502 184.4336 123.0673 183.3621 119.4821 182.3711 116.711 181.5059 114.8031\" fill=\"rgba(0,0,0,1)\"/>\n",
       "<polygon points=\"207.815 167.9528 207.1688 170.5434 206.0336 172.5609 204.5942 174.4684 202.8837 176.3883 200.937 178.3303 198.7979 180.2657 196.5155 182.1508 194.1407 183.9351 191.7243 185.5653 189.3141 186.9866 186.9504 188.1429 186.8859 188.0139 184.5288 188.8957 182.1254 189.5573 179.7254 190.0106 177.3795 190.2627 175.1386 190.3167 173.0529 190.1724 171.1703 189.8238 169.5183 189.2983 168.0838 188.5702 166.9773 187.394 166.5354 185.7579 166.5354 185.7579 166.8541 184.0635 167.6346 182.2183 168.7941 180.1564 170.2813 177.9392 172.0436 175.6586 174.0278 173.4151 176.1826 171.3127 178.4614 169.4564 180.8279 167.9542 183.2628 166.9266 185.7579 166.5354 185.7579 166.5354 188.3955 167.0293 191.0362 168.2818 193.6818 170.0774 196.3099 172.2208 198.8257 174.5829 201.1165 177.0305 203.0828 179.4169 204.6306 181.6138 205.6804 183.5738 206.0014 185.7671 203.563 187.7277 203.563 187.7998 201.1064 187.1841 198.3219 185.8034 194.8749 183.8284 190.9176 181.4426 186.6555 178.8492 182.309 176.2582 178.109 173.8846 174.3058 171.9498 171.2065 170.6844 169.3603 170.2884 169.9572 169.9572 165.9484 165.9484 169.709 164.7743 173.013 165.6157 176.609 167.2466 180.6047 169.4453 184.8659 172.0213 189.2012 174.7745 193.4002 177.4985 197.2418 179.9821 200.4901 182.0069 202.8559 183.3351 203.563 183.716 203.563 183.788 202.3018 184.9193 202.255 184.8385 201.6125 183.4006 200.3644 181.397 198.652 179.1014 196.6019 176.7064 194.3353 174.3865 191.9603 172.3294 189.6028 170.7273 187.4612 169.7056 185.7579 169.3701 185.7579 169.3701 184.0793 169.6411 182.1666 170.4528 180.1319 171.7465 178.0765 173.4218 176.0843 175.366 174.2293 177.4635 172.5804 179.5973 171.2049 181.6475 170.1705 183.485 169.5463 184.9507 169.3701 185.7579 169.3701 185.7579 169.4231 185.9611 169.7213 186.2564 170.4806 186.632 171.6914 186.8422 173.22 186.8615 174.9736 186.7171 176.8796 186.4033 178.8679 185.9196 180.869 185.2694 182.8132 184.4594 184.6298 183.5018 184.5654 183.3729 186.3753 182.1948 188.3128 180.74 190.2975 179.0727 192.2569 177.2586 194.1214 175.3645 195.8216 173.4607 197.2861 171.6236 198.4383 169.945 199.1928 168.5551 199.4622 167.6964 199.311 167.9528\" fill=\"rgba(0,0,0,1)\"/>\n",
       "<polygon points=\"200.5564 259.7192 199.7081 258.6868 198.4772 257.405 196.971 255.9401 195.2732 254.3245 193.4566 252.578 191.5887 250.7143 189.7342 248.744 187.9565 246.6748 186.3195 244.5123 184.8887 242.2597 183.735 239.9189 183.8968 239.838 183.1507 237.1484 182.9872 234.4216 183.2211 231.7273 183.6559 229.1196 184.1213 226.6542 184.6317 224.4454 185.082 222.6109 185.3636 221.3081 185.4225 220.9807 186.9912 221.847 186.7601 222.1046 186.7601 222.1046 185.8182 223.4764 184.4326 226.1692 182.8036 229.7743 181.0123 233.9895 179.1243 238.5342 177.2007 243.1354 175.3005 247.5242 173.5327 251.4652 171.9071 254.7094 170.3481 257.0814 167.9528 258.4616 167.9528 258.5521 165.4096 257.0941 164.3484 254.744 163.6561 251.7154 163.182 248.042 162.9024 243.8868 162.8119 239.4465 162.9098 234.926 163.1981 230.5299 163.6841 226.4528 164.3914 222.8609 165.4174 219.8347 170.4881 222.3701 169.6748 224.3469 168.9105 227.3767 168.2929 231.0986 167.8455 235.2371 167.5755 239.5457 167.485 243.7872 167.5733 247.7253 167.835 251.115 168.2462 253.6782 168.6565 255.0068 167.9528 254.8731 167.9528 254.9636 167.8917 254.8522 169.2089 253.1108 170.8807 250.1612 172.7114 246.3702 174.5903 242.0304 176.506 237.448 178.397 232.8962 180.2042 228.6436 181.8728 224.9515 183.3632 222.0593 184.7557 220.1002 184.7557 220.1002 186.0295 219.1805 188.2001 220.4147 188.1588 221.7795 187.8384 223.2726 187.3857 225.1168 186.8928 227.2489 186.4552 229.5659 186.2881 231.9613 186.4216 234.2701 186.8601 236.3256 187.619 237.9769 187.7808 237.896 188.9614 239.5618 190.4067 241.222 192.0671 242.8586 193.888 244.4548 195.8125 245.996 197.7839 247.47 199.7464 248.8671 201.6471 250.1811 203.4383 251.4117 205.0835 252.5713 206.5696 253.706\" fill=\"rgba(0,0,0,1)\"/>\n",
       "<polygon points=\"181.5059 309.8622 181.6444 308.3189 181.1906 305.5078 180.2134 301.9736 178.8367 298.0053 177.1819 293.8199 175.3661 289.6094 173.5037 285.5555 171.603 281.8996 169.6798 278.8943 168.0708 276.6022 166.9506 275.2542 166.9506 275.2542 166.6897 275.0567 166.7123 275.0705 166.3106 275.4977 165.8847 276.6295 165.6347 278.2529 165.5969 280.1914 165.826 282.3083 166.3595 284.4711 167.2205 286.5529 168.4178 288.4411 169.9572 290.0527 165.9484 294.0615 163.9762 291.3321 162.6653 288.438 161.9209 285.5167 161.6519 282.6764 161.7806 280.011 162.2445 277.6085 162.9977 275.5532 163.9765 273.8892 165.2804 272.6241 167.2092 272.2701 168.955 273.2498 168.955 273.2498 170.3362 274.8983 172.0381 277.3216 174.0144 280.4097 176.381 283.8838 178.9332 287.6556 181.4582 291.6253 183.85 295.6335 186.0049 299.531 187.8236 303.1938 189.2092 306.5697 190.0098 309.8622\" fill=\"rgba(0,0,0,1)\"/>\n",
       "<polygon points=\"183.8563 331.2047 183.5437 330.9053 182.3601 330.8796 180.4667 331.49 178.242 332.7388 175.9573 334.4742 173.8034 336.5136 171.9323 338.6692 170.4768 340.7441 169.5491 342.5106 169.1749 343.668 169.0695 344.09 168.955 344.2045 169.9095 344.7017 172.0022 345.1571 174.9122 345.3958 178.3984 345.4283 182.2628 345.2961 186.323 345.047 190.4033 344.7306 194.3317 344.3966 197.9395 344.0948 201.0643 343.8753 203.563 343.7894 203.563 343.7084 205.0441 343.5146 205.6885 343.265 205.3335 343.4231 204.9676 344.9258 205.3322 345.654 205.3489 345.8086 205.2311 345.9077 205.2633 346.0212 205.6556 345.9723 206.1809 345.5347 206.3976 345.2067 200.7283 345.2067 201.2795 343.2065 202.6743 341.7322 204.2706 341.1816 205.6405 341.2282 206.7936 341.5949 207.8135 342.2511 208.7133 343.6148 208.2136 345.7863 206.8552 346.5464 205.4262 346.7316 203.563 346.705 203.563 346.624 201.2258 346.7053 198.1636 346.9206 194.5744 347.2208 190.637 347.5556 186.5238 347.8746 182.4038 348.1272 178.4425 348.2626 174.7986 348.2281 171.6153 347.9652 168.9925 347.3839 166.9506 346.2089 166.836 346.3234 165.5534 344.0766 165.5471 341.4884 166.3116 338.7535 167.6519 335.8922 169.4596 332.9979 171.6466 330.1947 174.1443 327.6159 176.9227 325.4 180.0323 323.7162 183.6311 322.8878 187.6594 323.5985\" fill=\"rgba(0,0,0,1)\"/>\n",
       "<polygon points=\"189.561 378.6496 190.5881 382.0096 191.0516 385.6234 191.1803 389.5265 191.0716 393.6472 190.7899 397.8625 190.3903 402.0262 189.9246 405.9805 189.444 409.5604 188.9995 412.5936 188.6429 414.8906 188.4244 416.1614 188.2802 416.1614 184.1424 418.4019 183.2897 416.5067 183.0997 414.89 182.8958 412.7285 182.7133 410.1753 182.5999 407.4252 182.6061 404.6779 182.7378 402.1249 183.0191 399.9049 183.7583 398.0452 185.7579 396.939 185.7579 396.939 187.5491 397.4149 189.2191 398.4775 190.9731 399.9634 192.8287 401.7843 194.7514 403.843 196.6909 406.0358 198.5912 408.2556 200.3934 410.3928 202.036 412.3354 203.4535 413.9672 204.5652 415.1592 204.5652 415.1592 205.5722 416.3694 206.2275 417.577 206.5655 418.7328 206.6604 419.8128 206.431 420.8858 205.3775 421.9342 203.583 421.7852 202.6279 420.8182 202.098 419.6345 201.7594 418.1175 201.5932 416.1614 201.5211 416.1614 201.6299 413.5038 202.0059 410.3076 202.5415 406.669 203.1369 402.7383 203.6928 398.6841 204.1107 394.6865 204.2953 390.9398 204.1635 387.6633 203.6781 385.1219 202.9547 383.6087 202.2953 383.0866 204.8307 378.0158 207.5156 380.4901 208.8657 383.6924 209.3836 387.2444 209.3856 391.098 209.035 395.1769 208.4496 399.3595 207.7347 403.4989 206.9924 407.434 206.324 410.9924 205.8305 413.9832 205.6049 416.1614 205.5328 416.1614 205.5338 417.7169 205.6299 418.7081 205.702 419.1297 205.4158 418.9653 204.2567 418.9166 203.7049 419.4634 203.743 419.5331 203.771 419.2085 203.6074 418.6587 203.2259 417.9601 202.5608 417.1636 202.5608 417.1636 201.3382 415.8541 199.8795 414.1751 198.2247 412.2182 196.4284 410.088 194.5496 407.8933 192.6498 405.7452 190.7934 403.7573 189.0506 402.0466 187.5071 400.7367 186.3009 399.9599 185.7579 399.7736 185.7579 399.7736 186.0853 399.664 185.7877 400.5132 185.5674 402.293 185.6322 404.6093 185.9059 407.1795 186.2942 409.7736 186.7471 412.1699 187.2121 414.142 187.6241 415.4215 187.2062 414.7637 183.2355 416.1614 183.0914 416.1614 183.0401 414.4357 183.1182 412.0173 183.2757 408.9571 183.464 405.407 183.6337 401.5356 183.7357 397.5191 183.7215 393.5408 183.546 389.7957 183.173 386.5018 182.5998 383.9287 181.9548 382.4527\" fill=\"rgba(0,0,0,1)\"/>\n",
       "<polygon points=\"256.7126 22.0571 253.8915 23.3208 254.2108 23.2053 254.6137 23.0062 255.0501 22.7737 255.4697 22.5579 255.8225 22.409 256.0581 22.3772 260.5091 26.895 260.1564 27.0439 259.5361 27.4604 258.5981 28.1945 258.4962 28.0926 257.045 29.2509 255.2563 30.6139 253.2025 32.1619 250.9808 33.8469 248.6963 35.6128 246.4576 37.4003 244.3754 39.1476 242.5977 40.8214 241.2879 42.365 240.5111 43.5711 240.3248 44.1142 240.3248 44.1142 240.2295 43.8614 240.8164 44.097 242.2563 44.3055 244.2215 44.336 246.4817 44.2067 248.8497 43.9613 251.1531 43.6487 253.2254 43.3187 254.9028 43.0215 256.0227 42.8074 256.7126 42.6969 256.7126 42.6969 256.7211 45.5738 255.7759 45.7972 254.3469 46.1049 252.5505 46.4941 250.4855 46.8912 248.2501 47.222 245.942 47.4339 243.6498 47.4694 241.4443 47.2566 239.3729 46.6779 237.5146 45.5071 237.4636 45.558 236.1845 43.7126 235.6733 41.6615 235.6598 39.6113 235.9256 37.5779 236.3304 35.5721 236.7622 33.6345 237.1187 31.8344 237.3083 30.2744 237.277 29.1021 237.0849 28.4767 236.9031 28.3135 240.9119 24.3047 242.235 26.4757 242.6449 28.7265 242.5133 30.8516 242.1008 32.8901 241.5544 34.8691 240.9829 36.7708 240.4847 38.544 240.1485 40.1091 240.0347 41.3564 240.1255 42.1814 240.3513 42.6703 240.3004 42.7213 240.9436 43.2226 242.1831 43.6807 243.8771 43.9695 245.8521 44.0719 247.9586 44.0162 250.0641 43.8454 252.0458 43.6071 253.7809 43.3274 255.1477 43.0331 256.042 42.8217 256.7126 45.5315 256.7126 45.5315 256.5731 45.5881 255.4189 45.8088 253.6985 46.1136 251.5703 46.4525 249.1917 46.7753 246.7171 47.0315 244.2953 47.1697 242.06 47.1334 240.1021 46.8402 238.4148 46.0391 237.4902 44.1142 237.4902 44.1142 237.966 42.3229 239.0286 40.6529 240.5146 38.899 242.2686 36.9743 244.233 34.9425 246.3352 32.8908 248.4652 30.8776 250.5108 28.9641 252.3565 27.2146 253.8787 25.7015 254.929 24.5255 254.8271 24.4236 255.5613 23.4856 255.9777 22.8653 256.1266 22.5125 260.6445 26.9635 260.6126 27.1992 260.4637 27.5519 260.2479 27.9716 260.0154 28.4079 259.8163 28.8108 259.7009 29.1301 256.7126 30.561\" fill=\"rgba(0,0,0,1)\"/>\n",
       "<polygon points=\"254.8111 83.2617 252.8111 81.4382 250.0697 79.3113 246.7993 76.9625 243.0789 74.6937 238.9759 72.8013 234.8747 70.8765 230.9441 68.9784 227.2322 67.3936 223.939 66.0507 221.2366 64.8536 219.098 63.6579 223.1068 59.6491 223.9646 60.7878 225.9777 62.4669 228.7779 64.4214 232.196 66.4351 236.0911 68.3161 240.1701 70.2305 244.2606 72.1172 248.4061 73.4469 252.3327 74.3956 255.7782 75.1448 258.6141 75.6556\" fill=\"rgba(0,0,0,1)\"/>\n",
       "<polygon points=\"238.9075 128.3563 242.7248 130.0347 244.2832 132.5023 244.9893 134.934 245.3475 137.4847 245.4682 140.155 245.3787 142.8633 245.0809 145.5042 244.5539 147.9837 243.7109 150.2644 242.164 152.4086 238.9075 153.6807 238.9075 153.5912 236.2091 152.7694 233.9943 151.3278 231.6221 149.4264 229.1061 147.1681 226.5625 144.6879 224.132 142.1307 221.9603 139.6416 220.1871 137.35 218.924 135.3102 218.3158 132.9517 221.1024 130.4151 221.1024 130.5047 223.5177 131.273 226.2138 132.7898 229.5687 134.898 233.4363 137.4183 237.6145 140.1498 241.8873 142.8852 246.0323 145.4137 249.8313 147.4951 253.0314 148.881 255.2202 149.4203 255.7104 149.4112 255.7104 149.4112 255.72 149.0118 255.1954 147.0739 253.8188 144.1819 251.7916 140.6856 249.3358 136.803 246.668 132.7195 244.0002 128.6087 241.5414 124.6366 239.4963 120.9559 238.0661 117.6837 237.4902 114.8031 237.4902 114.8031 238.2133 112.2813 240.0349 110.5756 242.3989 109.6201 245.0759 109.177 247.9105 109.123 250.7324 109.3878 253.3631 109.9215 255.6363 110.6959 257.435 111.7684 258.5385 113.6094 257.7148 115.8053 257.7148 115.8053 256.0663 117.1866 253.643 118.8885 250.5549 120.8648 246.9719 123.0441 243.0487 125.3085 238.9436 127.5376 234.8215 129.6233 230.8442 131.4579 227.1642 132.9352 223.9068 133.9488 221.1024 134.3687 221.1024 134.4135 218.3339 133.7097 216.2771 131.8943 214.8923 129.4888 214.0117 126.7357 213.5599 123.8001 213.5156 120.8443 213.8918 118.0223 214.7631 115.461 216.3814 113.3013 219.0815 112.1363 222.1299 112.7482 222.1499 112.7081 224.9971 114.4467 228.4604 117.0827 232.4591 120.4563 236.8055 124.3674 241.2914 128.6043 245.7029 132.9525 249.8256 137.1979 253.4481 141.1313 256.3701 144.561 258.4335 147.3809 259.5472 150.4134 253.878 150.4134 253.6673 150.2821 252.052 147.9518 249.3823 144.6862 245.9416 140.8206 241.9711 136.6049 237.7008 132.2713 233.3577 128.0471 229.1694 124.1593 225.3692 120.8376 222.2107 118.3233 220.0548 116.8982 220.0749 116.8581 219.4444 116.6272 219.2016 116.6996 218.6126 117.4361 218.0125 119.0084 217.6529 121.136 217.6086 123.5244 217.8925 125.9062 218.4835 128.0225 219.3059 129.6168 220.1921 130.5102 221.1024 130.803 221.1024 130.8478 223.1338 130.6056 226.0634 129.7798 229.5803 128.4612 233.4689 126.7643 237.5404 124.8033 241.6154 122.6915 245.5179 120.5415 249.065 118.4533 252.0703 116.5302 254.3624 114.9212 255.7104 113.801 255.7104 113.801 255.7295 113.9903 255.5955 113.9251 254.4981 113.292 252.6378 112.6618 250.3189 112.1921 247.7965 111.9553 245.3137 112.0016 243.1213 112.3612 241.4856 113.0109 240.5982 113.8135 240.3248 114.8031 240.3248 114.8031 240.7455 116.7584 242.0241 119.6732 243.9789 123.1895 246.3893 127.0832 249.0391 131.166 251.7154 135.2627 254.2093 139.2058 256.3156 142.8396 257.8352 146.0409 258.548 148.8184 257.7148 151.4156 257.7148 151.4156 255.0413 152.2493 252.0798 151.5511 248.5846 150.0409 244.5847 147.9887 240.2685 145.5676 235.8596 142.9588 231.5766 140.3728 227.6453 138.0238 224.3049 136.1322 221.8508 134.9401 221.1024 134.7119 221.1024 134.8014 222.8789 133.0943 223.0733 133.0098 224.1045 134.3678 225.796 136.2768 227.9385 138.4696 230.3505 140.7551 232.8569 142.9568 235.277 144.899 237.4063 146.3954 238.9371 147.228 238.9075 147.2356 238.9075 147.1461 237.4903 147.5888 237.415 147.4589 237.6755 146.3417 237.8843 144.6207 237.9544 142.5797 237.8649 140.4454 237.6177 138.4337 237.2402 136.7839 236.8426 135.8178 236.9295 136.0112 238.9075 136.8602\" fill=\"rgba(0,0,0,1)\"/>\n",
       "<polygon points=\"259.7192 170.9594 257.2753 173.0386 254.1744 176.0448 250.6091 179.6885 246.722 183.7245 242.6426 187.9212 238.4955 192.052 234.4034 195.8921 230.5715 199.3072 227.1688 202.1911 224.0608 204.1733 221.1024 204.9803 221.1024 204.9803 218.3928 204.0196 216.548 201.7415 215.3257 198.657 214.4273 194.9539 213.8604 190.7623 213.6756 186.2669 213.8734 181.67 214.4626 177.1679 215.4675 172.9436 216.9535 169.1552 219.098 165.9484 223.1068 169.9572 221.5725 171.7534 220.1154 174.5868 218.9131 178.1614 218.0308 182.194 217.4929 186.426 217.3081 190.6124 217.4769 194.5141 218.0501 197.8742 219.035 200.3814 220.1331 201.7821 221.1024 202.1457 221.1024 202.1457 222.8126 201.6283 225.4568 199.9318 228.6491 197.224 232.0141 193.5759 235.4802 189.3227 239.0117 184.7717 242.4904 180.1395 245.8003 175.6408 248.8299 171.4855 251.4812 167.87 253.706 164.9462\" fill=\"rgba(0,0,0,1)\"/>\n",
       "<polygon points=\"235.9009 241.9141 234.997 240.94 233.3347 239.4827 231.2042 237.7434 228.8049 235.8159 226.3093 233.7683 223.877 231.6557 221.6562 229.5178 219.7796 227.3574 218.3725 225.0617 217.7873 222.2158 219.2169 219.2169 219.3188 219.3188 221.8176 217.968 224.7903 217.2626 228.3465 216.8215 232.3759 216.5858 236.6987 216.542 241.1132 216.6861 245.4101 217.0172 249.3846 217.4888 252.8532 218.0612 255.6472 218.8628 257.7148 220.1002 257.7148 220.1002 258.6347 222.2424 258.076 224.3571 256.7514 226.2716 254.9079 228.1879 252.6828 230.1375 250.2202 232.09 247.6728 233.9963 245.1986 235.8001 242.9605 237.4395 241.1307 238.8443 239.9097 239.9097 239.9097 239.9097 238.99 240.8294 238.2542 241.5651 237.7024 242.1169 237.3685 242.5188 237.2356 242.7537 235.0103 240.5284 235.1433 240.2936 235.4602 239.8747 235.9611 239.2719 236.6459 238.4852 237.5146 237.5146 237.4636 237.4636 238.5798 236.2455 239.9669 234.7565 241.5647 233.0568 243.313 231.2066 245.1516 229.2661 247.0203 227.2955 248.8588 225.355 250.6071 223.5048 252.2049 221.8051 253.592 220.3161 254.7082 219.098 258.717 223.1068 257.4989 224.223 256.0099 225.6101 254.3102 227.2078 252.46 228.9561 250.5195 230.7947 248.5489 232.6634 246.6084 234.502 244.7582 236.2502 243.0585 237.848 241.5694 239.2351 240.3513 240.3513 240.3004 240.3004 239.3297 241.1691 238.543 241.8539 237.9402 242.3547 237.5214 242.6716 237.2865 242.8046 235.0613 240.5794 235.2962 240.4464 235.698 240.1125 236.2498 239.5607 236.9856 238.825 237.9053 237.9053 237.9053 237.9053 239.353 236.6363 241.2688 235.165 243.5322 233.507 245.9942 231.7122 248.4967 229.8395 250.8767 227.9527 252.9657 226.1232 254.587 224.4411 255.5565 223.0581 255.8005 222.2966 255.7104 222.1046 255.7104 222.1046 254.6143 221.5025 252.2581 220.8327 249.0313 220.3014 245.2069 220.0372 241.0427 220.0005 236.7753 220.1446 232.6371 220.4687 228.8675 220.9688 225.7284 221.6312 223.5508 222.3974 222.8859 222.8859 222.9879 222.9879 223.4075 222.3232 223.6249 222.3535 224.512 223.3552 226.1001 224.7933 228.1934 226.4345 230.6037 228.1612 233.158 229.8926 235.695 231.5637 238.0659 233.1219 240.1492 234.5407 241.9141 235.9009\" fill=\"rgba(0,0,0,1)\"/>\n",
       "<polygon points=\"256.7126 305.6102 257.0543 305.6799 257.316 305.6501 257.7521 305.2739 258.2378 304.402 258.5913 303.1079 258.7096 301.5474 258.5528 299.8812 258.1194 298.2557 257.4319 296.7957 256.5228 295.5906 255.4003 294.6817 255.4538 294.5746 253.6138 293.8489 250.6356 293.2641 246.921 292.9059 242.7646 292.7538 238.4195 292.7657 234.1226 292.894 230.1034 293.0894 226.5879 293.302 223.8 293.4817 221.9625 293.5783 221.1024 290.5599 221.1024 290.6398 221.7645 290.6398 223.6039 290.6398 226.3998 290.6398 229.9313 290.6398 233.978 290.6398 238.3189 290.6398 242.7334 290.6398 247.0007 290.6398 250.9002 290.6398 254.2111 290.6398 256.7126 290.6398 256.7126 290.6398 258.4166 290.5626 259.7351 290.3684 260.6535 290.1193 261.1282 289.9086 261.0308 290.0487 261.1859 291.5099 261.7134 291.8278 261.3311 291.8544 260.421 292.0631 259.0829 292.5351 257.3464 293.3248 257.3643 293.3605 255.0568 294.5812 252.2074 296.0728 248.9367 297.7751 245.365 299.628 241.6127 301.5711 237.8002 303.5443 234.0479 305.4874 230.4763 307.3402 227.2055 309.0425 224.3562 310.5341 222.0487 311.7548 222.0754 311.8084 220.1006 312.7712 218.4354 313.4202 217.0269 313.7985 215.6974 313.9029 213.7596 313.0398 213.4378 309.7672 214.6071 308.5793 215.8007 307.9618 217.2392 307.5051 218.9979 307.1837 221.1024 307.0276 221.1024 312.6969 219.528 312.7079 218.3438 312.8213 217.5751 312.9665 217.2972 313.0179 217.7306 312.4655 217.4089 309.6945 216.2069 309.099 216.3488 309.1365 217.1476 309.0131 218.4254 308.6253 220.1293 307.916 220.1561 307.9696 222.5172 306.856 225.4201 305.4715 228.7443 303.8763 232.3696 302.1306 236.1755 300.2947 240.0415 298.4286 243.8474 296.5926 247.4726 294.847 250.7969 293.2518 253.6998 291.8673 256.0609 290.7537 256.0788 290.7894 258.021 289.9069 259.6259 289.3422 260.9231 289.0493 262.0123 289.009 263.2755 289.5944 263.4307 291.5572 262.5974 292.3328 261.6007 292.791 260.3118 293.1438 258.6874 293.3843 256.7126 293.4744 256.7126 293.4744 254.2111 293.4744 250.9002 293.4744 247.0007 293.4744 242.7334 293.4744 238.3189 293.4744 233.978 293.4744 229.9313 293.4744 226.3998 293.4744 223.6039 293.4744 221.7645 293.4744 221.1024 293.4744 221.1024 293.5543 221.5665 290.3687 223.4078 290.0305 226.2116 289.6082 229.7593 289.1519 233.8333 288.7119 238.2183 288.3386 242.7022 288.083 247.0804 287.9977 251.1648 288.1411 254.8083 288.5931 257.9714 289.5396 258.0249 289.4324 260.5811 291.0251 262.6151 293.1308 264.1348 295.5703 265.1728 298.2122 265.7518 300.9605 265.8701 303.7409 265.4879 306.4934 264.5021 309.1532 262.7309 311.5727 260.0497 313.3823 256.7126 314.1142\" fill=\"rgba(0,0,0,1)\"/>\n",
       "<polygon points=\"253.706 330.4082 255.0832 330.9053 253.5276 330.9363 250.5182 331.7154 246.7294 333.1337 242.5123 335.0115 238.1359 337.1745 233.8432 339.4536 229.8675 341.6824 226.4398 343.6941 223.7967 345.3156 222.2191 346.3234 222.1046 346.2089 222.0708 345.7648 221.7704 345.2243 222.8532 345.3986 224.7786 345.4285 227.1806 345.2985 229.8088 345.0517 232.4381 344.7375 234.8518 344.406 236.8359 344.1073 238.1781 343.8919 238.9075 343.7894 238.9075 343.7084 238.4092 346.8265 237.0547 346.948 235.0548 347.0695 232.6202 347.1909 229.9614 347.3124 227.2893 347.4339 224.8145 347.5554 222.7478 347.6769 221.2997 347.7984 220.681 347.9199 221.1024 342.372 221.1024 348.0413 220.681 342.4935 221.2997 342.615 222.7478 342.7365 224.8145 342.858 227.2893 342.9795 229.9614 343.101 232.6202 343.2224 235.0548 343.3439 237.0547 343.4654 238.4092 343.5869 238.9075 346.705 238.9075 346.624 238.6402 346.6887 237.2735 346.908 235.2579 347.2114 232.8022 347.5487 230.1141 347.8699 227.398 348.1248 224.8505 348.2623 222.6423 348.2254 220.8289 347.898 219.2912 346.3207 220.1002 344.2045 219.9856 344.09 221.5718 342.429 224.0789 340.3049 227.3465 337.8151 231.1697 335.1077 235.3382 332.3369 239.6436 329.6574 243.8876 327.221 247.8977 325.1746 251.5836 323.6595 255.1783 322.8879 259.7192 324.395\" fill=\"rgba(0,0,0,1)\"/>\n",
       "<polygon points=\"256.7126 376.2992 260.0275 377.088 262.6484 378.9309 264.343 381.3517 265.2528 383.9878 265.5654 386.699 265.3861 389.4224 264.7577 392.0965 263.688 394.6436 262.1656 396.9648 260.1748 398.9312 257.7241 400.3792 257.6431 400.2174 254.7384 401.0396 251.3916 401.419 247.6569 401.4986 243.6493 401.4122 239.5041 401.2769 235.3803 401.024 231.4447 400.7045 227.8671 400.3689 224.8201 400.0679 222.4859 399.8526 221.1024 399.7736 221.1024 399.7736 220.5974 399.7736 220.9987 396.939 222.1458 396.939 223.8781 396.939 226.0352 396.939 228.4565 396.939 230.9815 396.939 233.4496 396.8787 235.7003 396.7882 237.5731 396.6977 238.9075 396.6073 238.9075 396.5168 240.1909 396.5445 241.3383 396.7916 242.3357 397.2363 243.1807 397.8918 243.8529 398.9233 243.8322 400.8538 241.9957 402.414 240.3987 402.4228 239.2239 402.0019 238.1024 401.3268 236.9031 400.3607 240.9119 396.3519 241.5519 397.058 241.9019 397.4196 241.8307 397.5004 240.9695 397.5761 239.5009 398.8686 239.4801 400.2976 239.7845 400.6936 239.8937 400.6802 239.7875 400.523 239.4634 400.3353 238.9075 400.1958 238.9075 400.1053 237.5731 400.0149 235.7003 399.9244 233.4496 399.8339 230.9815 399.7736 228.4565 399.7736 226.0352 399.7736 223.8781 399.7736 222.1458 399.7736 220.9987 399.7736 220.5974 396.939 221.1024 396.939 221.1024 396.939 222.7153 397.0272 225.0966 397.2467 228.143 397.5477 231.6954 397.8809 235.5856 398.1968 239.6419 398.4456 243.6903 398.5778 247.5485 398.4246 251.0107 398.0025 253.8509 397.3451 255.7821 396.4952 255.7011 396.3334 256.9292 395.2799 257.8813 393.9354 258.5662 392.3571 258.968 390.6369 259.0753 388.8965 258.896 387.279 258.4728 385.9436 257.9112 385.0481 257.3985 384.673 257.0764 384.6765 256.7126 384.8031\" fill=\"rgba(0,0,0,1)\"/>\n",
       "<polygon points=\"292.0571 30.561 288.2499 29.5284 285.4343 27.4575 283.2014 24.9412 281.2679 22.1762 279.5251 19.3206 277.94 16.5567 276.5187 14.0948 275.3137 12.1839 274.5277 11.1424 274.9838 11.1165 276.3269 10.5789 276.2423 10.4942 275.8142 11.0522 275.103 12.9508 274.4771 15.7421 274.0062 19.1422 273.7081 22.935 273.5884 26.9278 273.6485 30.9368 273.8877 34.7809 274.3025 38.2773 274.8822 41.2355 275.5911 43.4446 275.5197 43.4803 276.458 45.0046 277.437 46.0137 278.4546 46.6207 279.5694 46.925 280.8458 46.964 282.2991 46.7444 283.9091 46.2838 285.6482 45.617 287.4922 44.789 289.4221 43.8487 291.4232 42.8465 291.4232 42.8465 293.2153 41.7255 295.044 40.1772 296.8663 38.3062 298.6533 36.2256 300.3853 34.048 302.0489 31.8844 303.6357 29.8418 305.1461 28.0215 306.6009 26.5144 308.0881 25.4025 309.8622 24.8917 309.8622 24.8518 311.7504 25.5471 312.7188 27.0797 313.0987 28.8214 313.1969 30.7754 313.116 32.9128 312.9171 35.1561 312.6535 37.408 312.3767 39.5609 312.1382 41.4981 311.9901 43.0841 311.9782 44.1142 312.0381 44.1142 312.1167 44.2327 312.2296 44.3022 312.4236 44.3963 312.6561 44.4564 312.7547 44.4279 312.3058 44.4021 310.7506 45.6758 310.7779 47.6566 310.8062 47.8325 310.0744 47.3935 308.5945 46.6496 311.1299 41.5788 312.9944 42.6743 314.336 43.7067 315.3676 44.9862 315.5286 47.7028 313.4384 49.3444 311.9862 49.3185 310.8139 48.9222 309.7087 48.2465 308.6987 47.237 307.9421 45.835 307.6863 44.1142 307.7462 44.1142 307.9016 42.6427 308.1882 40.9178 308.5516 38.9555 308.9437 36.8411 309.3155 34.6786 309.6183 32.581 309.8049 30.6717 309.8363 29.0941 309.7145 28.0399 309.6462 27.7332 309.8622 27.7663 309.8622 27.7264 309.4692 27.8778 308.515 28.6052 307.2743 29.894 305.8551 31.6053 304.2983 33.6093 302.6242 35.7866 300.8447 38.0236 298.9663 40.2102 296.9895 42.2388 294.9053 44.0013 292.6909 45.3819 292.6909 45.3819 290.6855 46.3862 288.7027 47.3522 286.7475 48.2298 284.8212 48.9676 282.9197 49.5103 281.0354 49.7923 279.1681 49.7311 277.3533 49.2327 275.6754 48.2345 274.2131 46.7353 272.9843 44.748 272.9129 44.7837 271.7824 42.157 270.8906 38.9282 270.2017 35.2276 269.7052 31.2059 269.3974 27.0213 269.2777 22.8339 269.3475 18.801 269.6124 15.0711 270.0901 11.769 270.8504 8.9521 272.2617 6.5137 272.177 6.429 275.6873 5.0486 278.5847 6.2601 280.4943 8.1148 282.2188 10.3374 283.9412 12.8252 285.6937 15.4055 287.4624 17.8673 289.1943 19.9716 290.7605 21.4551 291.8578 22.0931 292.0571 22.0571\" fill=\"rgba(0,0,0,1)\"/>\n",
       "<polygon points=\"312.8688 100.2704 309.2514 101.8226 306.0339 101.2303 303.6724 99.7659 301.6382 97.8834 299.7135 95.6725 297.8527 93.2026 296.0717 90.5572 294.4095 87.8303 292.9151 85.1215 291.6417 82.5326 290.6445 80.1649 290.7894 80.0925 289.9209 77.5951 289.5877 74.9595 289.6406 72.2876 289.9551 69.6708 290.4205 67.2054 290.9309 64.9966 291.3812 63.1621 291.6628 61.8593 291.7218 61.5319 293.2904 62.3982 293.0593 62.6557 293.1166 62.713 292.0057 64.2242 290.2787 66.8058 288.1596 70.1754 285.8211 74.0973 283.429 78.3424 281.148 82.681 279.1446 86.8771 277.5884 90.6778 276.6522 93.7757 276.4599 95.6498 276.2564 95.2594 272.2476 99.2682 271.034 95.7141 271.6444 92.4379 273.0024 88.8405 274.9109 84.8422 277.2216 80.5773 279.7833 76.234 282.441 72.018 285.0387 68.1409 287.4211 64.8152 289.4398 62.2466 290.9976 60.5941 291.0549 60.6513 292.3287 59.7317 294.4993 60.9659 294.458 62.3307 294.1376 63.8237 293.6849 65.668 293.1921 67.8001 292.7544 70.1171 292.467 72.5033 292.4196 74.8346 292.6883 76.9813 293.3248 78.8248 293.4697 78.7524 294.8068 80.7256 296.4095 82.9191 298.2126 85.2134 300.1489 87.4896 302.147 89.6266 304.1255 91.4975 305.9798 92.9654 307.5441 93.8788 308.4801 94.1066 308.1387 93.8822 306.8556 94.2572\" fill=\"rgba(0,0,0,1)\"/>\n",
       "<polygon points=\"292.0571 146.1614 293.3798 146.1465 295.2464 145.7451 297.3967 144.9581 299.6396 143.8402 301.8193 142.4624 303.7983 140.9051 305.4514 139.2606 306.6712 137.6402 307.3955 136.1718 307.6505 134.9358 307.4772 133.8008 307.6061 133.7363 306.5668 132.2532 304.1571 130.2012 300.7479 127.978 296.6794 125.734 292.2551 123.5587 287.7622 121.5243 283.4805 119.6962 279.6697 118.1829 276.5899 117.092 274.5472 116.3944 274.252 113.3858 274.252 113.3858 275.4137 113.7243 277.2643 114.4309 280.0736 115.5331 283.6215 116.971 287.6884 118.6852 292.055 120.6162 296.5032 122.7055 300.8165 124.896 304.7819 127.134 308.1943 129.3752 310.8644 131.6061 310.8644 131.6061 312.749 133.7573 314.1251 135.9056 315.0255 138.0382 315.5308 140.1241 315.6606 142.1533 315.4415 144.0961 314.9342 145.9232 314.2027 147.6161 313.3082 149.1648 312.3079 150.5632 311.2551 151.8063 311.3061 151.8572 309.8389 153.0783 308.1718 153.8659 306.4238 154.2666 304.6558 154.3805 302.8786 154.3024 301.0884 154.1065 299.2828 153.8531 297.466 153.5948 295.6473 153.3794 293.8396 153.2507 292.0571 153.248 292.0571 147.5787 294.2811 147.7433 296.3863 148.0494 298.3666 148.4359 300.2152 148.8465 301.9212 149.2285 303.4685 149.5343 304.8351 149.7236 305.9966 149.7707 306.9441 149.6698 307.7184 149.4206 308.4184 148.9695 308.4693 149.0205 309.4231 148.0965 310.3291 147.0535 311.1402 145.9067 311.8133 144.67 312.3093 143.3534 312.5918 141.9586 312.6213 140.4763 312.324 138.8968 311.6191 137.2303 310.487 135.4657 308.86 133.6105 308.86 133.6105 306.527 131.6677 303.3176 129.5612 299.4842 127.3981 295.2628 125.2544 290.882 123.1968 286.5668 121.2885 282.5404 119.5914 279.0251 118.1667 276.2427 117.075 274.4146 116.377 274.252 116.2205 274.252 116.2205 275.4483 113.7068 277.5191 114.4139 280.633 115.5169 284.5542 116.8662 289.0012 118.4494 293.6918 120.2542 298.364 122.2259 302.7633 124.3161 306.6514 126.494 309.8267 128.7896 312.1183 131.4802 312.2472 131.4158 313.2511 134.4545 313.1382 137.566 312.1704 140.4988 310.5943 143.2126 308.5686 145.7151 306.2067 147.997 303.604 150.0304 300.8438 151.7753 297.9911 153.1821 295.0753 154.1853 292.0571 154.6654\" fill=\"rgba(0,0,0,1)\"/>\n",
       "<polygon points=\"309.8622 181.5059 313.9332 186.1726 313.7523 187.3096 313.5714 189.0085 313.3904 191.1088 313.2095 193.4498 313.0286 195.8711 312.8476 198.2121 312.6667 200.3123 312.4858 202.0112 312.3048 203.1483 309.8622 201.3013 309.8622 201.4822 308.0821 202.7794 308.473 201.6982 308.9478 200.0556 309.3967 198.0035 309.7094 195.7001 309.9547 193.3321 310.0841 191.0719 310.0536 189.1067 309.8451 187.6668 309.6095 187.0799 309.8622 187.1752 309.8622 187.1752 309.3867 187.4427 307.9269 188.6432 306.0521 190.5671 303.9537 192.9617 301.7627 195.6009 299.5958 198.2687 297.5624 200.7557 295.8081 202.9016 294.3618 204.5268 292.7256 205.6083 290.308 203.563 290.2176 203.563 290.6518 201.2552 291.7611 198.2876 293.4071 194.538 295.4442 190.2276 297.7171 185.6141 300.0674 180.963 302.3357 176.5429 304.362 172.6234 305.9862 169.4746 307.048 167.367 309.8622 165.1181 309.8622 170.7874 311.847 170.0301 310.6347 172.036 308.8611 175.0809 306.6869 178.8934 304.2732 183.2019 301.7809 187.7343 299.3717 192.2173 297.2084 196.3748 295.4565 199.9224 294.2917 202.5399 293.8966 203.563 293.8061 203.563 292.0507 202.3605 292.2539 202.2046 293.6035 200.9335 295.3808 198.9459 297.394 196.4833 299.5679 193.807 301.7915 191.1286 303.9604 188.654 305.9851 186.5781 307.8362 185.0697 309.8622 184.3406 309.8622 184.3406 311.7871 185.2652 312.5882 186.9525 312.8814 188.9104 312.9178 191.1457 312.7796 193.5675 312.5233 196.0421 312.2005 198.4207 311.9806 200.569 311.8533 202.3242 311.8095 203.5171 309.8622 205.6437 309.8622 205.8247 307.4196 203.1483 307.2386 202.0112 307.0577 200.3123 306.8768 198.2121 306.6958 195.8711 306.5149 193.4498 306.334 191.1088 306.153 189.0085 305.9721 187.3096 305.7912 186.1726 309.8622 190.0098\" fill=\"rgba(0,0,0,1)\"/>\n",
       "<polygon points=\"278.5039 238.9075 278.165 240.6928 277.1812 242.559 275.0997 244.0465 272.682 244.1666 271.0008 243.3248 269.9535 242.0771 269.4188 240.4029 269.7797 238.3333 271.1852 236.8005 272.7664 236.2565 274.252 236.241 274.252 236.3851 275.1334 236.4629 276.478 236.4048 278.1197 236.2516 279.9598 236.0561 281.9225 235.8724 283.9416 235.754 285.9561 235.7561 287.9121 235.8891 289.7855 236.1755 291.5334 236.8086 293.0593 237.9053 293.0593 237.9053 294.1622 239.8187 294.526 242.041 294.4731 244.4792 294.1598 247.0516 293.6984 249.6328 293.1925 252.075 292.7448 254.2139 292.4591 255.8534 292.4081 256.6257 291.235 255.802 291.0549 255.7104 291.0549 255.7104 292.02 254.3834 293.4039 251.9036 295.0302 248.6012 296.775 244.7048 298.5941 240.4553 300.4479 236.0852 302.2767 231.8137 304.0234 227.8562 305.6359 224.4194 307.0825 221.6836 308.4693 219.7095 308.4184 219.6585 310.478 218.4356 312.9229 218.8111 314.5308 220.2624 315.5571 222.1277 316.2354 224.3325 316.5978 226.8347 316.6126 229.5665 316.2234 232.4447 315.3581 235.3747 313.9333 238.2441 311.8666 240.9119 307.8578 236.9031 309.3027 235.23 310.386 233.317 311.126 231.2439 311.5395 229.119 311.6547 227.0684 311.5154 225.2297 311.1904 223.7558 310.8121 222.8252 310.7143 222.5843 311.253 222.5919 311.3061 222.5462 311.2551 222.4952 310.3076 223.6849 308.878 226.0992 307.193 229.3578 305.3413 233.1992 303.3911 237.3889 301.4055 241.7006 299.4455 245.9122 297.5919 249.8147 295.9207 253.2076 294.4285 255.8781 293.0593 257.7148 293.0593 257.7148 291.3742 258.6332 289.5992 257.0069 289.6485 255.4849 289.9648 253.6598 290.42 251.4845 290.9174 249.0841 291.3589 246.6154 291.6476 244.2515 291.6951 242.1883 291.4569 240.665 291.0549 239.9097 291.0549 239.9097 290.2464 239.3342 289.1182 238.9305 287.6941 238.7153 286.0516 238.7814 284.2871 239.0511 282.4669 239.4344 280.6505 239.886 278.8922 240.3595 277.2364 240.8082 275.7049 241.1849 274.252 241.4298 274.252 241.574 274.0653 241.7256 274.6099 241.6165 275.5137 240.6857 275.8077 239.2849 275.5405 238.2461 274.9949 237.5001 273.9491 236.9258 272.2003 236.979 270.7207 237.9649 270.1717 238.7944 270 238.9075\" fill=\"rgba(0,0,0,1)\"/>\n",
       "<polygon points=\"278.5039 274.252 278.3981 274.7129 279.7389 277.197 282.3549 280.5191 285.8626 284.2885 289.9345 288.3032 294.2719 292.4117 298.5889 296.4793 302.6859 300.285 306.3811 303.6249 309.268 306.5999 311.1299 309.2284 311.1299 309.2284 311.6939 311.6754 310.481 313.7299 308.426 314.4745 306.0719 314.6782 303.4129 314.5775 300.5985 314.2374 297.8189 313.7632 295.2756 313.2562 293.1746 312.8169 291.724 312.5454 292.0571 307.0276 292.0571 312.6969 293.3868 307.5134 294.6451 308.1115 296.5438 308.8761 298.8698 309.7068 301.4077 310.5035 303.9376 311.1667 306.2281 311.601 308.0076 311.6709 308.8488 311.4123 308.8733 311.3933 308.5945 310.4961 308.5945 310.4961 307.1255 308.4559 304.4273 305.6786 300.8253 302.4236 296.4545 299.0323 291.6749 295.5417 286.8288 291.9717 282.1721 288.4283 277.9477 285.0007 274.3702 281.7278 271.5974 278.4597 270 274.252\" fill=\"rgba(0,0,0,1)\"/>\n",
       "<polygon points=\"270 345.2067 270.8817 341.7149 272.5547 338.7406 274.7037 336.0039 277.1791 333.4319 279.8465 331.0542 282.5676 328.9411 285.2041 327.1788 287.6305 325.8568 289.79 325.0595 292.0494 325.0367 293.6364 327.4016 293.4744 327.4016 292.8491 329.5699 291.4351 332.2614 289.4115 335.649 286.9693 339.5607 284.3131 343.7872 281.6524 348.1095 279.1996 352.3023 277.1703 356.1305 275.7844 359.3306 275.2451 361.5194 275.2542 362.0096 275.3114 361.9523 275.9353 361.8971 278.2952 361.4243 281.7155 360.2202 285.7867 358.4228 290.1963 356.1969 294.6551 353.7084 298.8788 351.1245 302.5786 348.6187 305.4449 346.3867 307.0869 344.7405 307.0276 345.2067 312.6969 345.2067 311.146 348.3417 308.6744 350.441 305.3471 352.7105 301.3148 355.1409 296.8098 357.607 292.0852 359.961 287.3983 362.0493 283.0017 363.7166 279.1247 364.8066 275.8996 365.1365 273.1925 364.0713 273.2498 364.014 272.4161 361.3405 273.1142 358.379 274.6245 354.8838 276.7287 350.9132 279.2255 346.6448 281.909 342.2853 284.5703 338.0507 286.9973 334.1634 288.9736 330.8557 290.2685 328.3969 290.6398 327.4016 290.4778 327.4016 291.2353 328.5892 291.2206 328.9343 289.9823 329.8293 288.2083 331.3031 286.1627 333.2195 284.0413 335.4473 282.0267 337.852 280.3016 340.2831 279.0527 342.5495 278.4517 344.3575 278.5039 345.2067\" fill=\"rgba(0,0,0,1)\"/>\n",
       "<polygon points=\"314.1142 380.5512 312.1326 384.5949 309.5436 386.4648 306.3843 388.1635 302.6363 389.9118 298.4426 391.7111 293.9934 393.521 289.4961 395.2892 285.1659 396.9586 281.2236 398.4689 277.8984 399.756 275.4445 400.7413 275.38 400.6124 273.2633 401.3599 271.4788 401.6313 269.7954 401.3478 268.3355 400.0005 268.2285 398.2194 268.9316 397.0863 269.9212 396.3815 271.1059 395.9763 272.4634 395.8955 273.8995 396.3448 275.2542 397.3541 275.2542 397.3541 276.4924 398.8719 277.7631 400.8204 279.1246 403.094 280.5828 405.551 282.1296 408.0358 283.7487 410.3854 285.4129 412.4312 287.0731 414.0032 288.6408 414.9561 290.0359 415.2492 291.4232 414.8937 291.4232 414.8937 293.2679 413.5365 295.5239 411.1044 297.9529 407.8531 300.3658 404.0026 302.6556 399.8048 304.7258 395.5035 306.4611 391.332 307.7465 387.5342 308.4694 384.3884 308.5602 382.2974 308.4693 381.9441 308.4184 381.995 308.5082 382.2388 306.8028 382.7842 304.0288 384.1855 300.611 386.2508 296.787 388.7548 292.7476 391.4799 288.6652 394.2151 284.6985 396.7552 280.9809 398.9028 277.5717 400.4692 274.252 401.1909 274.252 395.5217 275.7681 395.2467 278.5459 394.1043 282.0252 392.2521 285.9244 389.9228 290.0356 387.3406 294.1763 384.7215 298.178 382.2759 301.8903 380.2077 305.2096 378.7128 308.2197 378.0207 311.3061 379.1073 311.2551 379.1583 312.3414 381.9686 312.0643 385.028 311.095 388.5774 309.5846 392.5786 307.6412 396.8682 305.3704 401.2488 302.8779 405.5121 300.2877 409.4605 297.7136 412.9045 295.1872 415.6226 292.6909 417.4291 292.6909 417.4291 290.0718 418.0836 287.5541 417.5741 285.3226 416.2328 283.3174 414.3401 281.4701 412.0717 279.7516 409.5787 278.1547 407.0137 276.6833 404.5345 275.3493 402.3066 274.1786 400.5094 273.2498 399.3585 273.2498 399.3585 272.5978 398.8629 272.1277 398.7102 271.7796 398.7297 271.5597 398.9265 271.546 399.1246 271.7474 398.9948 271.7408 398.1167 271.0835 397.3714 271.0054 397.1882 271.7291 396.8577 273.1239 396.1002 273.0595 395.9713 275.6086 394.6223 278.9051 393.0332 282.7618 391.2461 286.9662 389.3169 291.2979 387.3061 295.5306 385.2768 299.4301 383.297 302.7453 381.4468 305.1777 379.848 306.2675 378.8418 305.6102 380.5512\" fill=\"rgba(0,0,0,1)\"/>\n",
       "<polygon points=\"359.2087 10.4055 358.8952 9.7259 358.6574 9.4061 358.1643 9.1405 357.1963 8.9919 355.8185 9.0695 354.1823 9.3747 352.4181 9.8422 350.6201 10.3829 348.8456 10.9029 347.0924 11.3052 345.2067 11.4384 345.2067 11.3186 343.7479 11.0423 342.3599 10.3016 341.3298 8.8339 341.2674 7.1649 341.8743 5.9967 342.7672 5.2703 343.9296 4.9185 345.3094 5.1811 346.3211 6.143 346.6963 7.2942 346.7039 8.5039 346.624 8.5039 346.5322 9.9068 346.308 11.6162 346.0046 13.5815 345.6713 15.7076 345.3576 17.8871 345.1127 20.0051 344.9846 21.9379 345.0138 23.5423 345.2023 24.6268 345.3535 24.9568 345.2067 24.8917 345.2067 24.8917 345.8894 24.6795 347.3434 23.868 349.1932 22.5411 351.2636 20.8274 353.4229 18.848 355.5507 16.7201 357.5301 14.5609 359.2438 12.4904 360.5708 10.6407 361.3822 9.1866 361.5945 8.5039 361.5546 8.5039 361.4203 8.4581 360.6187 7.8813 359.1428 7.2103 357.2162 6.6299 355.0428 6.2255 352.8167 6.0547 350.7383 6.1578 349.0276 6.5419 347.9098 7.1248 347.4334 7.72 347.3227 8.5039 347.3826 8.5039 347.8183 10.1921 349.1066 12.9766 351.0849 16.4114 353.5298 20.2468 356.2232 24.287 358.9531 28.356 361.513 32.2917 363.7049 35.9543 365.3427 39.2689 366.2015 42.4266 365.0162 46.1186 361.0074 42.1098 360.6649 42.8052 360.2863 41.2475 359.0279 38.4687 357.0862 35.0012 354.6966 31.1113 352.0822 27.0001 349.4582 22.8467 347.0338 18.8163 345.0123 15.0542 343.5917 11.6517 343.0308 8.5039 343.0907 8.5039 343.8094 5.7764 345.6071 3.8633 347.8871 2.8409 350.3769 2.4224 352.9805 2.4252 355.597 2.7561 358.1056 3.3549 360.3795 4.1791 362.3014 5.2137 363.774 6.5432 364.4691 8.5039 364.4291 8.5039 363.9792 10.3228 362.9513 12.1796 361.4824 14.2293 359.6645 16.4262 357.5973 18.6814 355.3842 20.8945 353.129 22.9618 350.9321 24.7797 348.8824 26.2485 347.0256 27.2765 345.2067 27.7264 345.2067 27.7264 343.3877 26.9991 342.5022 25.4898 342.189 23.7784 342.1513 21.8512 342.2908 19.7374 342.5475 17.5145 342.8692 15.2795 343.2048 13.1383 343.5034 11.2041 343.7139 9.6026 343.7894 8.5039 343.7095 8.5039 343.5499 8.0415 343.4904 8.156 343.9001 8.6162 344.611 8.8119 345.1379 8.7277 345.5292 8.5029 345.8686 7.9701 345.873 6.97 345.3446 6.1043 344.9933 5.7984 345.2067 5.6893 345.2067 5.5695 345.6554 5.3682 346.7782 4.901 348.3012 4.217 350.1017 3.4201 352.1166 2.6167 354.3196 1.9187 356.7209 1.4611 359.3514 1.4463 362.1558 2.184 364.7941 3.9377 366.8149 6.6024\" fill=\"rgba(0,0,0,1)\"/>\n",
       "<polygon points=\"358.7598 79.4587 360.3451 82.1022 359.0893 81.4791 356.0929 80.7496 352.109 80.1575 347.57 79.7362 342.8388 79.4932 338.2597 79.4299 334.1765 79.5434 330.9542 79.819 329.0661 80.1586 328.9809 79.4587 328.8189 79.4587 329.0756 79.6333 330.6837 80.8809 333.3741 82.4665 336.8487 84.2365 340.8616 86.1102 345.182 88.0207 349.5854 89.9055 353.8497 91.7035 357.7555 93.3549 361.0876 94.8022 363.6457 95.9961 363.6819 95.9236 365.5515 96.766 366.9511 97.4467 367.9651 97.9984 368.7843 98.6109 368.636 101.6303 366.507 102.189 365.5559 101.9791 364.5736 101.6031 363.4729 101.036 362.2713 100.262 361.0074 99.2682 365.0162 95.2594 365.7589 96.1049 366.4636 96.8024 367.0685 97.339 367.4908 97.6987 367.543 97.8567 365.9156 98.4153 365.667 101.0669 365.6836 100.9436 365.0923 100.3917 363.9836 99.6009 362.3417 98.6039 362.378 98.5315 359.9329 97.391 356.6433 95.9622 352.7501 94.3162 348.4798 92.5156 344.0541 90.6213 339.6928 88.6926 335.6124 86.7873 332.0238 84.9588 329.1226 83.2469 327.0519 81.6183 325.9843 79.4587 325.8223 79.4587 327.3958 76.9193 330.056 75.7874 333.6294 74.9595 337.9471 74.3372 342.7321 73.906 347.686 73.663 352.511 73.6096 356.928 73.7532 360.7273 74.1273 364.0197 74.9758 367.2638 79.4587\" fill=\"rgba(0,0,0,1)\"/>\n",
       "<polygon points=\"342.2001 111.7966 345.3717 110.8185 348.5885 112.315 349.2064 114.5218 349.1794 116.407 349.3816 118.4175 349.3819 120.709 349.1903 123.2012 349.0617 125.8458 348.8568 128.5676 348.4298 131.267 347.7421 133.876 342.6713 131.3406 343.823 129.6086 344.8675 127.5256 345.7661 125.2444 346.3733 122.8859 346.5496 120.5957 346.5499 118.5463 346.3842 116.8781 345.6215 115.9674 345.1358 116.482 346.8811 117.6106 348.2133 117.8097\" fill=\"rgba(0,0,0,1)\"/>\n",
       "<polygon points=\"323.1496 203.563 324.7115 199.1417 327.5548 195.4099 331.3296 191.4449 335.8148 187.234 340.7332 182.9304 345.7839 178.7292 350.6564 174.839 355.0355 171.4747 358.6037 168.8533 361.0423 167.1934 363.0118 166.3735 363.0118 166.5354 363.2682 169.7007 361.2115 171.7575 358.1146 174.8543 354.2486 178.7203 349.8843 183.0847 345.2925 187.6764 340.7443 192.2247 336.5104 196.4586 332.8617 200.1072 330.0692 202.8997 328.4038 204.5652 328.461 204.6225 327.9583 205.297 325.7656 202.7364 326.5258 201.8044 327.8379 200.3205 329.5913 198.3953 331.6759 196.1389 333.9812 193.6618 336.3968 191.0744 338.8125 188.4869 341.1177 186.0098 343.2023 183.7535 347.2111 187.7623 344.9547 189.8468 342.4776 192.1521 339.8902 194.5678 337.3027 196.9834 334.8257 199.2887 332.5693 201.3732 330.644 203.1267 329.1602 204.4387 328.2282 205.1989 325.6676 203.0062 326.3421 202.5035 326.3994 202.5608 328.0648 200.8953 330.8573 198.1028 334.506 194.4542 338.7399 190.2203 343.2882 185.672 347.8799 181.0803 352.2442 176.7159 356.1102 172.8499 359.2071 169.7531 361.2638 167.6963 363.0118 169.3701 363.0118 169.5321 363.3226 170.0364 361.2128 172.0553 357.9854 175.0256 353.9636 178.7244 349.4721 182.9276 344.8377 187.4081 340.3919 191.9335 336.4762 196.2573 333.4554 200.0913 331.7504 202.9812 331.6535 203.563\" fill=\"rgba(0,0,0,1)\"/>\n",
       "<polygon points=\"364.9133 235.1044 366.7759 236.196 368.1817 237.1405 369.24 237.9963 370.2436 239.1048 369.6914 244.5214 366.1791 245.204 365.0673 244.7036 364.0877 244.0772 363.047 243.2826 361.9407 242.2996 360.8021 241.1171 360.8746 241.0447 359.6963 239.7215 358.1133 237.9936 356.236 235.9714 354.1748 233.7653 352.04 231.4856 349.942 229.2427 347.9911 227.1469 346.2978 225.3087 344.9723 223.8383 344.125 222.8462 345.2067 219.2069 345.2067 219.3094 346.6456 220.0287 347.9591 221.0445 349.9198 222.54 352.3378 224.3781 355.0267 226.4244 357.7403 228.6287 360.2754 230.8899 362.4356 233.1212 364.0369 235.284 364.8447 237.5284 364.014 239.9097 364.014 239.9097 361.8711 241.0314 359.2122 241.3771 356.0275 241.3257 352.3971 241.0195 348.4591 240.5651 344.3728 240.0639 340.3073 239.6159 336.4397 239.3197 332.9586 239.2706 330.0749 239.5491 328.0354 240.1752 328.0354 240.1752 326.6899 241.2003 325.6652 242.7367 324.9645 244.7076 324.5998 246.9552 324.5536 249.2969 324.7866 251.5476 325.244 253.5177 325.8717 254.9836 326.4372 255.6876 326.3588 255.6642 326.2666 255.5776 326.2303 255.5414 327.0898 254.1935 328.4185 251.4991 329.9957 247.884 331.7375 243.6542 333.5778 239.091 335.4555 234.4666 337.3131 230.0474 339.0985 226.09 340.7798 222.8256 342.4336 220.3907 345.2067 218.8825 345.2067 218.8312 348.1725 221.2286 348.6321 224.1167 348.6318 227.7246 348.3756 232.0198 347.9716 236.7437 347.521 241.5915 347.1241 246.2398 346.881 250.3449 346.8835 253.5064 347.107 255.0404 345.2067 253.878 345.2067 259.5472 341.8015 256.726 341.423 253.7118 341.5258 250.0776 341.8846 245.7818 342.3908 241.066 342.9434 236.2287 343.4424 231.5885 343.7882 227.4828 343.8882 224.2951 343.7458 222.6349 345.2067 223.3735 345.2067 223.3223 345.6455 223.3056 344.4232 224.9842 342.8069 227.9134 340.9939 231.6881 339.0724 235.9976 337.1109 240.5567 335.1721 245.0899 333.3154 249.328 331.5951 253.0102 330.0477 255.9008 328.5728 257.8838 328.5366 257.8476 326.4378 258.771 324.4531 257.945 323.313 256.3548 322.5361 254.356 321.9902 252.0119 321.7216 249.42 321.7756 246.7118 322.2137 244.0232 323.1181 241.4927 324.6017 239.2834 326.7677 237.6398 326.7677 237.6398 329.5641 236.7609 332.8674 236.4374 336.5832 236.4887 340.5815 236.7945 344.7096 237.2494 348.8035 237.7515 352.6912 238.2001 356.1908 238.4958 359.0994 238.5447 361.156 238.2885 362.0096 237.9053 362.0096 237.9053 362.0217 237.785 361.5921 236.7186 360.2972 234.9819 358.3239 232.9458 355.9093 230.7926 353.2788 228.6559 350.6502 226.6556 348.1989 224.9621 346.1597 223.6618 344.7644 222.8382 345.2067 222.8954 345.2067 222.9978 346.9505 220.0207 347.9427 220.8679 349.413 222.1934 351.2513 223.8868 353.347 225.8376 355.5899 227.9356 357.8696 230.0704 360.0757 232.1317 362.0979 234.009 363.8258 235.5919 365.149 236.7703 365.2215 236.6978 366.0895 237.3547 366.8895 237.8432 367.5544 238.1523 367.9794 238.2617 367.8709 238.129 364.8602 238.8117 364.2077 243.8604 364.4087 244.2331 363.8616 243.9853 362.7593 243.4583 361.1103 242.7106\" fill=\"rgba(0,0,0,1)\"/>\n",
       "<polygon points=\"343.3052 278.055 342.7713 277.7195 341.8638 277.6276 340.4562 277.9845 338.7282 278.889 336.8816 280.2878 335.0665 282.0682 333.3937 284.1024 331.951 286.2594 330.8126 288.4038 330.0391 290.3907 329.6633 292.0571 329.4823 292.0571 329.552 293.5967 330.1675 295.506 331.2928 297.612 332.8706 299.7385 334.8148 301.7306 336.9123 303.5856 339.0461 305.2345 341.0963 306.6101 342.9339 307.6445 344.3995 308.2686 345.2067 308.4449 345.2067 308.4449 344.954 308.5402 345.1896 307.9533 345.398 306.5133 345.4286 304.5482 345.2992 302.288 345.0538 299.92 344.7412 297.6166 344.3518 295.5544 343.9658 293.8944 343.6633 292.7938 345.2067 290.308 345.2067 290.2176 347.0272 292.87 346.9019 294.2217 346.6938 296.2122 346.4534 298.6272 346.2311 301.25 346.077 303.8579 346.04 306.2128 346.1576 308.026 346.3553 308.7835 344.9088 307.5927 343.2023 307.8578 347.2111 311.8666 343.8324 312.9745 341.3492 310.5463 341.0453 308.4076 341.096 306.0873 341.3265 303.4925 341.6741 300.7562 342.0872 298.0616 342.5156 295.6073 342.9095 293.5979 343.2189 292.2408 345.2067 293.8966 345.2067 293.8061 346.9173 292.1498 347.0496 293.3233 347.2656 295.0611 347.545 297.1994 347.8678 299.578 348.1241 302.0526 348.2622 304.4744 348.2259 306.7097 347.9327 308.6676 347.1316 310.3549 345.2067 311.2795 345.2067 311.2795 343.5123 310.9608 341.6671 310.1803 339.6052 309.0209 337.3881 307.5337 335.1074 305.7714 332.8639 303.7872 330.7615 301.6324 328.8077 299.4246 327.1372 297.1295 325.9134 294.6911 325.3208 292.0571 325.1399 292.0571 325.259 289.3825 325.8901 286.5871 326.9456 283.7284 328.3656 280.8823 330.104 278.1342 332.1282 275.5737 334.4285 273.2937 337.0347 271.4023 340.0283 270.067 343.4684 269.6073 347.1082 270.4489\" fill=\"rgba(0,0,0,1)\"/>\n",
       "<polygon points=\"363.0118 367.2638 361.5136 367.0208 359.1558 366.7778 356.1092 366.5349 352.5441 366.2919 348.6313 366.0489 344.5412 365.806 340.4444 365.563 336.5115 365.32 332.913 365.0771 329.8195 364.8341 327.4016 364.5911 327.4016 364.4291 325.6976 364.5063 324.3791 364.7005 323.4607 364.9496 322.9859 365.1603 323.0834 365.0202 322.9282 363.559 322.4008 363.2411 322.7831 363.2145 323.6932 363.0058 325.0312 362.5338 326.7677 361.7441 326.7315 361.6717 329.1287 360.3795 332.1848 358.8249 335.7372 357.0636 339.6172 355.155 343.6541 353.1593 347.6755 351.1377 351.5069 349.1526 354.9694 347.2691 357.8743 345.5592 360.0019 344.1208 361.0074 343.2023 365.0162 347.2111 363.0252 348.6269 360.4373 350.0646 357.2489 351.6522 353.5814 353.3672 349.587 355.1612 345.4283 356.9788 341.2716 358.7622 337.2858 360.4521 333.6412 361.9883 330.5103 363.3098 328.0716 364.3519 328.0354 364.2795 326.0932 365.162 324.4882 365.7267 323.1911 366.0196 322.1019 366.0599 320.8387 365.4745 320.6835 363.5117 321.5167 362.7361 322.5135 362.2779 323.8024 361.9251 325.4268 361.6846 327.4016 361.5945 327.4016 361.4325 329.8195 361.1895 332.913 360.9466 336.5115 360.7036 340.4444 360.4606 344.5412 360.2177 348.6313 359.9747 352.5441 359.7317 356.1092 359.4888 359.1558 359.2458 361.5136 359.0028 363.0118 358.7598\" fill=\"rgba(0,0,0,1)\"/>\n",
       "<polygon points=\"363.0118 394.1043 366.4791 395.412 368.218 397.6652 369.0102 399.9156 369.3897 402.2223 369.507 404.6317 369.4049 407.116 369.0939 409.6139 368.5689 412.0532 367.8067 414.3651 366.7444 416.4929 365.2215 418.3711 365.149 418.2986 363.599 419.4989 361.8323 420.5481 359.8787 421.4436 357.7754 422.1546 355.5634 422.6356 353.2859 422.8293 350.9915 422.6649 348.7472 422.058 346.6591 420.927 344.8718 419.2346 343.5113 417.0091 343.603 416.9633 342.6596 414.1176 341.9874 410.6254 341.523 406.6143 341.2171 402.2713 341.0306 397.7972 341.0306 393.396 341.2179 389.2782 341.5965 385.647 342.1841 382.6789 343.0948 380.4469 345.2067 379.1339 345.2067 379.1339 347.4711 380.4834 349.0603 382.9836 350.7531 386.4708 352.5701 390.7124 354.4665 395.4114 356.3861 400.254 358.2688 404.9191 360.0503 409.0784 361.6549 412.3868 362.9418 414.4348 363.0118 414.7441 363.0118 414.7441 362.8076 414.5899 363.6165 412.6316 364.4323 409.3768 365.1189 405.2689 365.6122 400.6648 365.8588 395.903 365.81 391.3214 365.3898 387.2736 364.6047 384.1549 363.631 382.4402 363.0118 382.1563 363.0118 382.2076 361.5015 382.7926 358.9357 384.6979 355.7945 387.7197 352.2948 391.5552 348.586 395.9166 344.7983 400.5266 341.0539 405.1133 337.4684 409.411 334.1461 413.1629 331.1558 416.1351 328.3943 418.147 328.4173 418.1928 326.0458 419.0507 323.32 418.5025 321.8303 416.2738 321.6544 414.1455 321.9127 411.991 322.3945 409.6762 322.9908 407.2323 323.6022 404.7478 324.1296 402.3383 324.4771 400.1458 324.5669 398.3563 330.2362 398.3563 329.9916 400.9078 329.4696 403.4976 328.7931 406.0912 328.0667 408.6098 327.3922 410.9483 326.8707 412.9744 326.5939 414.4986 326.5518 415.1661 326.0654 414.6297 325.4131 414.4493 326.3859 414.1301 326.4088 414.1759 328.316 412.8568 331.0779 410.244 334.3506 406.6986 337.9621 402.5285 341.7758 398.0187 345.6666 393.4452 349.516 389.078 353.2133 385.1814 356.667 382.0096 359.8535 379.8013 363.0118 378.8948 363.0118 378.946 365.9042 380.3209 367.4387 383.1545 368.2589 386.8315 368.6413 391.1845 368.6928 395.967 368.4378 400.8904 367.9278 405.6503 367.2098 409.9434 366.3199 413.4842 365.2226 416.0741 363.0118 417.5787 363.0118 417.5787 360.7474 416.2292 359.1582 413.729 357.4654 410.2418 355.6484 406.0002 353.752 401.3012 351.8324 396.4586 349.9497 391.7935 348.1682 387.6342 346.5636 384.3258 345.2767 382.2778 345.2067 381.9685 345.2067 381.9685 345.4792 381.9798 344.9184 383.4266 344.4024 386.0501 344.0452 389.4821 343.8646 393.4576 343.8647 397.7382 344.0461 402.093 344.4759 406.2848 345.1151 410.0726 345.9144 413.2022 346.8104 415.3596 346.902 415.3137 347.8759 416.5998 348.9647 417.4156 350.1741 417.8898 351.5283 418.0856 353.013 418.0215 354.5747 417.7136 356.1418 417.1912 357.637 416.4977 358.9809 415.6876 360.0903 414.8305 360.8746 414.0242 360.8021 413.9518 361.1186 413.3284 361.5278 412.1453 361.8692 410.5577 362.0799 408.7297 362.1368 406.8131 362.0347 404.9565 361.7841 403.3193 361.4279 402.0944 361.1165 401.5489 361.3839 401.9628 363.0118 402.6083\" fill=\"rgba(0,0,0,1)\"/>\n",
       "<polygon points=\"419.168 23.3025 420.5206 28.0944 416.3578 31.2326 414.1204 31.0004 411.8565 30.4894 409.3525 29.8489 406.7334 29.1731 404.1944 28.5582 401.9704 28.1001 400.3752 27.8739 399.9992 27.7144 400.618 26.3091 400.437 26.3091 400.4544 26.9457 401.1045 28.6722 402.2823 30.9104 403.9002 33.3788 405.8761 35.8445 407.9905 38.2035 410.1203 40.2853 412.1274 41.9161 413.8259 42.9205 414.8865 43.202 415.1592 43.112 415.1592 43.112 415.7758 42.0637 416.4373 39.9329 416.9646 37.0179 417.323 33.543 417.5035 29.7013 417.5035 25.6752 417.3225 21.6432 416.9018 17.7916 416.2765 14.3092 415.4913 11.3945 414.597 9.2861 414.5161 9.3266 413.5345 8.1013 412.2678 7.2568 410.721 6.7198 408.9543 6.4807 407.0773 6.529 405.2203 6.8346 403.5224 7.3482 402.1349 7.9955 401.2315 8.6459 400.9856 9.0003 401.1909 8.5039 395.5217 8.5039 396.3892 6.001 397.9826 4.4491 399.8751 3.394 402.0192 2.6366 404.3679 2.1469 406.8518 1.9509 409.3894 2.0995 411.89 2.663 414.2426 3.7313 416.2868 5.3951 417.8067 7.6813 417.7258 7.7217 418.6709 10.4492 419.3572 13.7215 419.8356 17.4361 420.1506 21.4503 420.3374 25.6119 420.3374 29.766 420.1501 33.75 419.7727 37.4051 419.1964 40.5834 418.3864 43.1682 417.1636 45.1164 417.1636 45.1164 414.9348 46.0363 412.6846 45.5152 410.4835 44.2254 408.2233 42.3915 405.9386 40.1591 403.7121 37.6755 401.6413 35.0913 399.7277 32.6236 398.1097 30.3603 396.9203 28.3412 396.2755 26.3091 396.0946 26.3091 397.71 23.3987 400.0428 22.6373 402.4475 22.5114 405.0928 22.6553 407.8713 22.9434 410.5964 23.2709 413.0419 23.5333 414.9117 23.6243 415.5704 23.4924 412.645 26.0287 413.1548 29.3157\" fill=\"rgba(0,0,0,1)\"/>\n",
       "<polygon points=\"402.1594 77.5571 403.1075 80.1403 403.649 82.6505 403.8443 85.0398 403.7659 87.2735 403.4896 89.3311 403.0876 91.2025 402.6265 92.8805 402.1671 94.3549 401.7647 95.6061 401.4656 96.5968 401.2908 97.2638 401.171 97.2638 400.9193 98.6914 400.4333 99.9075 399.7572 100.8913 398.9062 101.6405 397.7665 102.1367 395.978 101.9283 394.7843 100.249 394.9684 98.9525 395.5024 98.0429 396.2626 97.1672 397.2976 96.2051 397.3541 96.2616 398.8018 94.9926 400.7176 93.5213 402.981 91.8633 405.443 90.0685 407.9455 88.1958 410.3255 86.309 412.4146 84.4795 414.0358 82.7974 415.0054 81.4144 415.2493 80.6529 415.1592 80.4609 415.1592 80.4609 414.3056 80.0777 412.2491 79.8214 409.3404 79.8703 405.8408 80.166 401.9531 80.6147 397.8592 81.1168 393.7311 81.5716 389.7328 81.8775 386.017 81.9287 382.7137 81.6053 379.9173 80.7264 379.8995 80.7621 377.7317 79.2897 376.1654 77.3231 375.1658 75.056 374.6489 72.6367 374.5326 70.1754 374.7507 67.7664 375.252 65.4977 376.0039 63.4487 377.0163 61.6823 378.4243 60.2627 380.5512 59.5375 380.5512 59.4777 382.7028 59.9773 384.5429 61.0747 386.4027 62.5712 388.3387 64.3868 390.3291 66.4302 392.3287 68.6006 394.2831 70.7915 396.1335 72.893 397.8165 74.7905 399.2598 76.3608 400.3607 77.4543 396.3519 81.4631 395.1185 80.055 393.6857 78.3144 392.0711 76.3124 390.3231 74.1466 388.4984 71.923 386.6587 69.7525 384.8701 67.7493 383.2076 66.0333 381.7699 64.734 380.7338 63.992 380.5512 63.8294 380.5512 63.7695 380.6715 63.7066 380.1733 64.1263 379.48 65.1558 378.8273 66.6384 378.3253 68.4163 378.0417 70.3482 378.0258 72.3014 378.3116 74.1495 378.9172 75.7818 379.8591 77.1261 381.2029 78.1553 381.185 78.191 383.2245 78.817 386.1082 79.0955 389.5893 79.0464 393.4569 78.7503 397.5224 78.3022 401.6087 77.801 405.5467 77.3467 409.1772 77.0404 412.3618 76.989 415.0207 77.3347 417.1636 78.4565 417.1636 78.4565 418.0835 80.5987 417.5248 82.7134 416.2002 84.6279 414.3567 86.5442 412.1316 88.4938 409.6691 90.4463 407.1217 92.3526 404.6474 94.1564 402.4094 95.7958 400.5795 97.2006 399.3585 98.266 399.415 98.3224 398.7779 99.1997 398.5013 99.7955 398.5336 99.9896 398.6508 99.4288 397.7247 98.1174 396.4378 97.909 395.9336 98.0373 395.7514 98.0508 395.6773 97.931 395.6261 97.6755 395.5416 97.2638 395.4218 97.2638 395.4142 95.7636 395.5498 94.313 395.7494 92.8686 395.9589 91.4135 396.1332 89.9478 396.2329 88.4816 396.2241 87.0277 396.0789 85.596 395.7725 84.1862 395.2772 82.7835 394.5532 81.3602\" fill=\"rgba(0,0,0,1)\"/>\n",
       "<polygon points=\"413.1548 147.4068 413.29 147.348 414.0134 145.4397 414.6884 142.4464 415.2163 138.7725 415.5739 134.7075 415.7548 130.5052 415.7578 126.4076 415.586 122.6574 415.2518 119.5109 414.8064 117.2751 414.5622 116.4024 414.6901 116.2745 415.1869 116.2718 414.5303 116.4167 413.0128 117.5178 411.2127 119.4036 409.3613 121.8288 407.4553 124.482 405.5607 127.1478 403.7333 129.6202 402.0112 131.7078 400.361 133.2534 398.3563 134.0256 398.3563 134.0256 396.5374 133.2983 395.6518 131.789 395.3386 130.0776 395.3009 128.1504 395.4404 126.0366 395.6972 123.8137 396.0188 121.5787 396.2949 119.4281 396.5039 117.4814 396.6237 115.8759 396.6073 114.8031 396.5168 114.8031 396.4263 113.9671 396.3359 113.4487 396.2454 113.1979 400.5577 113.1644 400.6481 113.2982 400.7386 113.549 400.8291 113.8667 400.9195 114.2012 401.01 114.5022 401.1005 114.7195 398.3563 111.9685 398.3563 117.6378 395.6121 114.7195 395.7026 114.5022 395.7931 114.2012 395.8835 113.8667 395.974 113.549 396.0645 113.2982 396.1549 113.1644 400.4672 113.1979 400.3767 113.4487 400.2863 113.9671 400.1958 114.8031 400.1053 114.8031 399.9217 116.2319 399.6068 117.9373 399.2138 119.8901 398.821 122.0068 398.5072 124.1863 398.2623 126.3043 398.1342 128.2371 398.1634 129.8415 398.3519 130.926 398.5031 131.256 398.3563 131.1909 398.3563 131.1909 398.6859 130.9666 399.9118 129.8032 401.4872 127.891 403.2584 125.4941 405.1428 122.8425 407.0761 120.1515 409.0037 117.6271 410.8021 115.3793 412.5821 113.5843 414.8016 112.4917 417.6327 113.3318 417.7607 113.2039 419.3558 115.4949 420.3819 118.4093 421.1513 121.9582 421.7152 126.0069 422.0861 130.3705 422.267 134.8499 422.2568 139.2461 422.0489 143.3711 421.6203 147.0731 420.8722 150.315 419.168 153.42\" fill=\"rgba(0,0,0,1)\"/>\n",
       "<polygon points=\"413.1548 170.9594 412.5483 170.2038 411.5878 169.3517 410.3763 168.5219 409.0052 167.7926 407.5595 167.2213 406.1196 166.85 404.7571 166.704 403.5186 166.7936 402.4015 167.1359 401.3598 167.8076 400.3792 168.9642 400.2174 168.8833 399.3612 170.7561 398.7083 173.3698 398.2878 176.52 398.1347 180.0368 398.2667 183.7641 398.5154 187.5695 398.8315 191.3293 399.1654 194.9224 399.4674 198.231 399.6874 201.1431 399.7736 203.563 399.7736 203.563 399.6835 205.5377 399.443 207.1622 399.0902 208.4511 398.632 209.4478 397.8564 210.2811 395.8936 210.1259 395.3082 208.8627 395.2888 207.7648 395.4967 206.434 395.9824 204.781 396.7919 202.7808 396.711 202.7403 397.7972 200.3656 399.1544 197.449 400.7222 194.111 402.4405 190.4721 404.2492 186.6526 406.0879 182.7728 407.8965 178.9533 409.6148 175.3144 411.1826 171.9764 412.5398 169.0599 413.626 166.6851 418.6968 169.2204 417.4487 171.5143 415.9297 174.35 414.2001 177.607 412.3199 181.165 410.3495 184.9036 408.3489 188.7025 406.3785 192.4411 404.4983 195.9991 402.7687 199.2561 401.2497 202.0918 400.0016 204.3856 399.9207 204.3452 399.058 206.0237 398.507 207.3137 398.2133 208.1902 398.127 208.5637 397.8091 208.0363 396.3479 207.8811 396.2078 207.9786 396.4185 207.5039 396.6676 206.5855 396.8618 205.267 396.939 203.563 396.939 203.563 396.858 201.3143 396.6432 198.4742 396.3432 195.1877 396.0083 191.5839 395.689 187.7855 395.436 183.9124 395.3004 180.0815 395.2142 176.4014 395.2954 172.9566 395.6792 169.818 396.4952 167.0222 396.3334 166.9413 397.6871 164.5863 399.5215 162.7498 401.7019 161.4869 404.0619 160.7738 406.4785 160.5275 408.8779 160.6578 411.2112 161.0898 413.4386 161.7652 415.5246 162.641 417.4402 163.6951 419.168 164.9462\" fill=\"rgba(0,0,0,1)\"/>\n",
       "<polygon points=\"398.3563 252.4606 397.3135 253.1154 397.1446 253.7337 397.6074 253.599 398.1998 252.7571 398.7151 251.4078 399.0839 249.7024 399.2814 247.7495 399.1764 245.6594 398.6516 243.5667 397.9541 241.5055 397.0886 239.5413 397.0886 239.5413 395.9809 237.5616 394.5938 235.465 392.9904 233.3251 391.1411 231.2907 389.1652 229.3968 387.1768 227.6697 385.2463 226.1759 383.455 224.9864 381.9108 224.1792 380.8001 223.8354 380.5512 223.937 380.5512 218.2677 382.6366 218.8643 384.402 219.9251 386.1552 221.3117 387.9624 222.985 389.8111 224.9024 391.6619 227.0146 393.4651 229.2677 395.2143 231.5674 396.9084 233.8286 398.3973 236.0797 399.624 238.2736 399.624 238.2736 400.5979 240.4831 401.3719 242.7696 401.9507 245.0779 402.5815 247.3221 403.1468 249.5162 403.5156 251.65 403.663 253.712 403.5197 255.7327 402.8788 257.7919 401.2384 259.8148 398.3563 260.9646\" fill=\"rgba(0,0,0,1)\"/>\n",
       "<polygon points=\"420.4134 309.8622 417.6746 314.1774 414.5953 315.3759 411.0284 316.1101 406.8721 316.6191 402.289 316.9016 397.5057 316.9196 392.7668 316.6242 388.3178 315.9578 384.3934 314.8434 381.2149 313.1402 379.1386 310.5685 379.2835 310.4961 378.6289 307.3727 379.0633 303.7454 380.2593 299.6751 382.0346 295.301 384.229 290.81 386.6851 286.4065 389.2471 282.3006 391.7621 278.7022 394.0888 275.813 396.1435 273.8019 398.3563 272.8346 398.3563 272.7537 400.6819 274.1932 401.7028 276.6393 402.4107 279.9105 402.9113 283.8861 403.2207 288.3389 403.3421 293.0178 403.2756 297.6675 403.0175 302.0387 402.5545 305.9055 401.8255 309.1247 400.3607 311.8666 396.3519 307.8578 396.7264 307.2688 397.469 304.903 398.1096 301.4725 398.5872 297.3759 398.8886 292.9291 399.0101 288.4245 398.9515 284.1487 398.7164 280.3922 398.3207 277.4697 397.8701 275.8023 398.3563 275.7503 398.3563 275.6693 397.9003 276.0264 396.2094 277.6941 394.0347 280.3965 391.6134 283.8613 389.1255 287.8486 386.7391 292.1269 384.6193 296.465 382.9299 300.6256 381.8317 304.3542 381.4635 307.3486 381.8189 309.2284 381.9638 309.1559 383.2184 310.0957 385.6249 310.9008 388.9978 311.3917 393.0166 311.5279 397.3742 311.3328 401.7744 310.8492 405.9199 310.1284 409.4957 309.2327 412.1225 308.2613 413.1566 307.5536 411.9094 309.8622\" fill=\"rgba(0,0,0,1)\"/>\n",
       "<polygon points=\"398.3563 340.9547 399.5235 341.0989 400.9615 341.243 402.6103 341.3871 404.4095 341.5313 406.299 341.6754 408.2187 341.8195 410.1082 341.9637 411.9075 342.1078 413.5562 342.2519 414.9943 342.3961 416.1614 342.5402 416.1614 342.6843 417.0811 342.8285 417.8169 342.9726 418.3687 343.1167 418.7365 343.2609 418.9205 343.405 418.9205 346.8642 418.7365 346.7201 418.3687 346.624 417.8169 346.624 417.0811 346.624 416.1614 346.624 416.1614 346.624 414.7585 346.5322 413.0492 346.308 411.0839 346.0046 408.9577 345.6713 406.7783 345.3576 404.6603 345.1127 402.7274 344.9846 401.1231 345.0138 400.0386 345.2023 399.7085 345.3535 399.7736 345.2067 399.7736 345.2067 399.9802 345.6345 400.9459 346.8467 402.5552 348.4073 404.6398 350.1296 407.0051 351.9461 409.4712 353.8093 411.8808 355.6616 414.084 357.4545 415.9465 359.1632 417.3658 360.8546 418.1313 363.0118 418.2033 363.0118 417.3866 365.3492 415.7759 366.8172 413.7638 367.9118 411.4212 368.7721 408.8484 369.3972 406.1598 369.7476 403.462 369.7602 400.8359 369.3267 398.3563 368.2196 396.3364 366.0733 395.5217 363.0118 401.1909 363.0118 401.2055 363.4619 401.4598 363.8238 402.3781 364.322 403.9524 364.6911 405.9366 364.804 408.0906 364.6528 410.1998 364.2746 412.0577 363.7302 413.4434 363.1193 414.1069 362.681 414.1195 363.0118 414.1916 363.0118 414.1276 362.8347 413.2728 361.6499 411.7375 360.0612 409.7403 358.2556 407.4678 356.3289 405.0914 354.3528 402.7746 352.3902 400.6587 350.5141 398.8702 348.7771 397.5618 347.1132 396.939 345.2067 396.939 345.2067 397.6662 343.3877 399.1756 342.5022 400.8869 342.189 402.8141 342.1513 404.9279 342.2908 407.1508 342.5475 409.3859 342.8692 411.5271 343.2048 413.4612 343.5034 415.0628 343.7139 416.1614 343.7894 416.1614 343.7894 417.0811 343.7894 417.8169 343.7894 418.3687 343.7894 418.7365 343.6933 418.9205 343.5491 418.9205 347.0084 418.7365 347.1525 418.3687 347.2966 417.8169 347.4408 417.0811 347.5849 416.1614 347.729 416.1614 347.8732 414.9943 348.0173 413.5562 348.1615 411.9075 348.3056 410.1082 348.4497 408.2187 348.5939 406.299 348.738 404.4095 348.8821 402.6103 349.0263 400.9615 349.1704 399.5235 349.3145 398.3563 349.4587\" fill=\"rgba(0,0,0,1)\"/>\n",
       "<polygon points=\"395.3497 383.5578 395.4057 383.4547 394.6481 383.0784 393.2529 382.7574 391.4649 382.5866 389.4791 382.563 387.4531 382.6523 385.5242 382.8093 383.8186 382.9857 382.4568 383.1315 381.5556 383.1964 380.5512 377.8847 380.5512 378.0288 380.3125 378.1586 381.3068 378.0717 382.7826 377.9013 384.6306 377.698 386.7421 377.5124 389.0094 377.3955 391.3262 377.3996 393.5922 377.5316 395.7369 377.8087 397.692 378.4248 399.3585 379.549 399.3585 379.549 400.5113 381.1071 401.348 382.985 401.9468 385.0984 402.3376 387.3635 402.5315 389.689 402.5313 391.9801 402.3342 394.1441 401.9257 396.099 401.2553 397.7856 400.1461 399.144 398.3563 399.7736 398.3563 399.7736 396.3959 399.2132 394.3428 397.9702 392.0081 396.2084 389.4557 394.0997 386.8388 391.7717 384.324 389.3588 382.0628 387.011 380.1993 384.8641 378.8508 382.9882 378.1493 380.9066 380.5512 378.5813 380.5512 378.5093 382.7102 378.8742 385.2726 379.7945 388.4309 381.1641 392.0739 382.888 396.0482 384.862 400.1899 386.9782 404.3309 389.1274 408.301 391.1992 411.9277 393.0823 415.0344 394.6631 417.4291 395.8209 414.8937 400.8917 412.4526 399.548 409.3723 397.8178 405.8021 395.8015 401.9063 393.606 397.8538 391.3407 393.8153 389.116 389.9639 387.0433 386.4768 385.2357 383.5417 383.8094 381.3887 382.8903 380.5512 382.5931 380.5512 382.521 381.943 381.0252 382.0442 381.2177 382.9899 382.7396 384.5911 384.7932 386.6441 387.1274 388.9719 389.5571 391.4049 391.9111 393.7887 394.0028 395.9554 395.6389 397.6479 396.67 398.3563 396.939 398.3563 396.939 398.4058 396.9064 398.7682 396.4255 399.2013 395.3162 399.5286 393.7395 399.6994 391.8569 399.6993 389.807 399.5252 387.718 399.1803 385.7159 398.6755 383.9298 398.0407 382.4968 397.3541 381.5534 397.3541 381.5534 396.519 381.0054 395.1633 380.5847 393.4085 380.3603 391.4071 380.4253 389.3095 380.697 387.2359 381.0817 385.3008 381.5315 383.6172 381.9971 382.2971 382.4287 381.452 382.7765 380.5512 383.0735 380.5512 383.2177 380.2089 377.7388 381.1471 377.3689 382.5812 376.9127 384.4072 376.4202 386.5248 375.9419 388.8397 375.5294 391.2684 375.2384 393.7479 375.1344 396.2521 375.315 398.8054 375.9755 401.3629 377.5446\" fill=\"rgba(0,0,0,1)\"/>\n",
       "</svg>"
      ],
      "text/plain": [
       "<IPython.core.display.SVG object>"
      ]
     },
     "metadata": {},
     "output_type": "display_data"
    }
   ],
   "source": [
    "size = 150\n",
    "d = document(size, size, 'mm')\n",
    "page = d.addpage()\n",
    "figure = shape().nostroke().fill(rgba(0, 0, 0, 255))\n",
    "grid_n = 8\n",
    "grid_size = size / grid_n\n",
    "for i in range(grid_n):\n",
    "    for j in range(grid_n):\n",
    "        char_pline = make_char().scale(grid_size * 0.67).translate(3 + i * grid_size, 3 + j * grid_size)\n",
    "        poly = char_pline.fancy_curve(samples_per=12, thicknesses=[3, 1, 1, 2], tightness=-0.25)\n",
    "        poly = figure.polygon(poly)\n",
    "        page.place(poly)\n",
    "show(page)"
   ]
  },
  {
   "cell_type": "markdown",
   "metadata": {},
   "source": [
    "## Connecting polylines\n",
    "\n",
    "`Polyline` objects can be added together, creating a new polyline that combines their points:"
   ]
  },
  {
   "cell_type": "code",
   "execution_count": 72,
   "metadata": {},
   "outputs": [
    {
     "data": {
      "text/plain": [
       "Polyline([[10.0000, 10.0000], [20.0000, 20.0000], [25.0000, 35.0000], [20.0000, 25.0000]])"
      ]
     },
     "execution_count": 72,
     "metadata": {},
     "output_type": "execute_result"
    }
   ],
   "source": [
    "a = Polyline([[10, 10], [20, 20]])\n",
    "b = Polyline([[25, 35], [20, 25]])\n",
    "a + b"
   ]
  },
  {
   "cell_type": "markdown",
   "metadata": {},
   "source": [
    "We can use this feature to combine two glyphs from the `make_char()` function, translating the second glyph to be to the right of the first glyph."
   ]
  },
  {
   "cell_type": "code",
   "execution_count": 73,
   "metadata": {},
   "outputs": [],
   "source": [
    "composite = make_char() + make_char().translate(1.5, 0)\n",
    "composite = composite.scale(30).translate(10, 10) # scale it up so we can actually see it!"
   ]
  },
  {
   "cell_type": "markdown",
   "metadata": {},
   "source": [
    "Here's what it looks like (original polyline in light purple, curve in cyan):"
   ]
  },
  {
   "cell_type": "code",
   "execution_count": 74,
   "metadata": {},
   "outputs": [
    {
     "data": {
      "image/svg+xml": [
       "<svg xmlns=\"http://www.w3.org/2000/svg\" xmlns:xlink=\"http://www.w3.org/1999/xlink\" version=\"1.1\" width=\"283.4646pt\" height=\"141.7323pt\" viewBox=\"0 0 283.4646 141.7323\">\n",
       "<title>Untitled</title>\n",
       "<polyline points=\"113.3858 113.3858 113.3858 113.3858 70.8661 113.3858 28.3465 28.3465 70.8661 28.3465 113.3858 70.8661 198.4252 28.3465 198.4252 113.3858 240.9449 28.3465 155.9055 28.3465\" fill=\"none\" stroke=\"rgba(160,80,160,1)\" stroke-miterlimit=\"10\"/>\n",
       "<path d=\"M113.3858,113.3858 C106.2992,113.3858,85.0394,127.5591,70.8661,113.3858 M70.8661,113.3858 C56.6929,99.2126,28.3465,42.5197,28.3465,28.3465 M28.3465,28.3465 C28.3465,14.1732,56.6929,21.2598,70.8661,28.3465 M70.8661,28.3465 C85.0394,35.4331,92.126,70.8661,113.3858,70.8661 M113.3858,70.8661 C134.6457,70.8661,184.252,21.2598,198.4252,28.3465 M198.4252,28.3465 C212.5984,35.4331,191.3386,113.3858,198.4252,113.3858 M198.4252,113.3858 C205.5118,113.3858,248.0315,42.5197,240.9449,28.3465\" fill=\"none\" stroke=\"rgba(0,128,128,1)\" stroke-miterlimit=\"10\"/>\n",
       "</svg>"
      ],
      "text/plain": [
       "<IPython.core.display.SVG object>"
      ]
     },
     "metadata": {},
     "output_type": "display_data"
    }
   ],
   "source": [
    "d = document(100, 50, 'mm')\n",
    "page = d.addpage()\n",
    "line_fig = shape().stroke(rgba(160, 80, 160, 255)).nofill()\n",
    "curve_fig = shape().stroke(rgba(0, 128, 128, 255)).nofill()\n",
    "page.place(line_fig.polyline(composite))\n",
    "page.place(curve_fig.path(composite.smooth_path()))\n",
    "show(page)"
   ]
  },
  {
   "cell_type": "markdown",
   "metadata": {},
   "source": [
    "To make a whole row of these, just keep appending glyphs with increasing translation along the X axis:"
   ]
  },
  {
   "cell_type": "code",
   "execution_count": 75,
   "metadata": {},
   "outputs": [
    {
     "data": {
      "image/svg+xml": [
       "<svg xmlns=\"http://www.w3.org/2000/svg\" xmlns:xlink=\"http://www.w3.org/1999/xlink\" version=\"1.1\" width=\"566.9291pt\" height=\"85.0394pt\" viewBox=\"0 0 566.9291 85.0394\">\n",
       "<title>Untitled</title>\n",
       "<polyline points=\"42.5197 28.3465 56.6929 42.5197 56.6929 56.6929 56.6929 56.6929 28.3465 42.5197 28.3465 28.3465 42.5197 56.6929 42.5197 28.3465 99.2126 42.5197 85.0394 56.6929 70.8661 28.3465 85.0394 56.6929 70.8661 28.3465 85.0394 56.6929 70.8661 42.5197 141.7323 56.6929 113.3858 28.3465 141.7323 28.3465 113.3858 28.3465 127.5591 56.6929 113.3858 56.6929 113.3858 42.5197 113.3858 42.5197 127.5591 28.3465 155.9055 56.6929 184.252 56.6929 184.252 56.6929 184.252 56.6929 155.9055 56.6929 170.0787 56.6929 170.0787 28.3465 155.9055 56.6929 226.7717 28.3465 198.4252 28.3465 212.5984 56.6929 212.5984 56.6929 240.9449 28.3465 269.2913 56.6929 240.9449 42.5197 269.2913 28.3465 240.9449 42.5197 269.2913 56.6929 240.9449 42.5197 269.2913 56.6929 269.2913 56.6929 255.1181 42.5197 269.2913 28.3465 283.4646 28.3465 297.6378 28.3465 311.811 28.3465 297.6378 42.5197 297.6378 56.6929 311.811 42.5197 283.4646 28.3465 283.4646 56.6929 340.1575 56.6929 354.3307 56.6929 340.1575 56.6929 354.3307 56.6929 325.9843 42.5197 354.3307 28.3465 325.9843 56.6929 340.1575 42.5197 354.3307 28.3465 340.1575 28.3465 396.8504 42.5197 396.8504 28.3465 396.8504 28.3465 368.5039 28.3465 382.6772 56.6929 382.6772 28.3465 382.6772 56.6929 382.6772 28.3465 439.3701 28.3465 425.1969 56.6929 411.0236 28.3465 425.1969 56.6929 411.0236 56.6929 411.0236 56.6929 425.1969 28.3465\" fill=\"none\" stroke=\"rgba(160,80,160,1)\" stroke-miterlimit=\"10\"/>\n",
       "<path d=\"M56.6929,42.5197 C59.0551,47.2441,56.6929,54.3307,56.6929,56.6929 M56.6929,56.6929 C56.6929,59.0551,61.4173,59.0551,56.6929,56.6929 M56.6929,56.6929 C51.9685,54.3307,33.0709,47.2441,28.3465,42.5197 M28.3465,42.5197 C23.622,37.7953,25.9843,25.9843,28.3465,28.3465 M28.3465,28.3465 C30.7087,30.7087,40.1575,56.6929,42.5197,56.6929 M42.5197,56.6929 C44.8819,56.6929,33.0709,30.7087,42.5197,28.3465 M42.5197,28.3465 C51.9685,25.9843,92.126,37.7953,99.2126,42.5197 M99.2126,42.5197 C106.2992,47.2441,89.7638,59.0551,85.0394,56.6929 M85.0394,56.6929 C80.315,54.3307,70.8661,28.3465,70.8661,28.3465 M70.8661,28.3465 C70.8661,28.3465,85.0394,56.6929,85.0394,56.6929 M85.0394,56.6929 C85.0394,56.6929,70.8661,28.3465,70.8661,28.3465 M70.8661,28.3465 C70.8661,28.3465,85.0394,54.3307,85.0394,56.6929 M85.0394,56.6929 C85.0394,59.0551,61.4173,42.5197,70.8661,42.5197 M70.8661,42.5197 C80.315,42.5197,134.6457,59.0551,141.7323,56.6929 M141.7323,56.6929 C148.8189,54.3307,113.3858,33.0709,113.3858,28.3465 M113.3858,28.3465 C113.3858,23.622,141.7323,28.3465,141.7323,28.3465 M141.7323,28.3465 C141.7323,28.3465,115.748,23.622,113.3858,28.3465 M113.3858,28.3465 C111.0236,33.0709,127.5591,51.9685,127.5591,56.6929 M127.5591,56.6929 C127.5591,61.4173,115.748,59.0551,113.3858,56.6929 M113.3858,56.6929 C111.0236,54.3307,113.3858,44.8819,113.3858,42.5197 M113.3858,42.5197 C113.3858,40.1575,111.0236,44.8819,113.3858,42.5197 M113.3858,42.5197 C115.748,40.1575,120.4724,25.9843,127.5591,28.3465 M127.5591,28.3465 C134.6457,30.7087,146.4567,51.9685,155.9055,56.6929 M155.9055,56.6929 C165.3543,61.4173,179.5276,56.6929,184.252,56.6929 M184.252,56.6929 C188.9764,56.6929,184.252,56.6929,184.252,56.6929 M184.252,56.6929 C184.252,56.6929,188.9764,56.6929,184.252,56.6929 M184.252,56.6929 C179.5276,56.6929,158.2677,56.6929,155.9055,56.6929 M155.9055,56.6929 C153.5433,56.6929,167.7165,61.4173,170.0787,56.6929 M170.0787,56.6929 C172.4409,51.9685,172.4409,28.3465,170.0787,28.3465 M170.0787,28.3465 C167.7165,28.3465,146.4567,56.6929,155.9055,56.6929 M155.9055,56.6929 C165.3543,56.6929,219.685,33.0709,226.7717,28.3465 M226.7717,28.3465 C233.8583,23.622,200.7874,23.622,198.4252,28.3465 M198.4252,28.3465 C196.063,33.0709,210.2362,51.9685,212.5984,56.6929 M212.5984,56.6929 C214.9606,61.4173,207.874,61.4173,212.5984,56.6929 M212.5984,56.6929 C217.3228,51.9685,231.4961,28.3465,240.9449,28.3465 M240.9449,28.3465 C250.3937,28.3465,269.2913,54.3307,269.2913,56.6929 M269.2913,56.6929 C269.2913,59.0551,240.9449,47.2441,240.9449,42.5197 M240.9449,42.5197 C240.9449,37.7953,269.2913,28.3465,269.2913,28.3465 M269.2913,28.3465 C269.2913,28.3465,240.9449,37.7953,240.9449,42.5197 M240.9449,42.5197 C240.9449,47.2441,269.2913,56.6929,269.2913,56.6929 M269.2913,56.6929 C269.2913,56.6929,240.9449,42.5197,240.9449,42.5197 M240.9449,42.5197 C240.9449,42.5197,264.5669,54.3307,269.2913,56.6929 M269.2913,56.6929 C274.0157,59.0551,271.6535,59.0551,269.2913,56.6929 M269.2913,56.6929 C266.9291,54.3307,255.1181,47.2441,255.1181,42.5197 M255.1181,42.5197 C255.1181,37.7953,264.5669,30.7087,269.2913,28.3465 M269.2913,28.3465 C274.0157,25.9843,278.7402,28.3465,283.4646,28.3465 M283.4646,28.3465 C288.189,28.3465,292.9134,28.3465,297.6378,28.3465 M297.6378,28.3465 C302.3622,28.3465,311.811,25.9843,311.811,28.3465 M311.811,28.3465 C311.811,30.7087,300,37.7953,297.6378,42.5197 M297.6378,42.5197 C295.2756,47.2441,295.2756,56.6929,297.6378,56.6929 M297.6378,56.6929 C300,56.6929,314.1732,47.2441,311.811,42.5197 M311.811,42.5197 C309.4488,37.7953,288.189,25.9843,283.4646,28.3465 M283.4646,28.3465 C278.7402,30.7087,274.0157,51.9685,283.4646,56.6929 M283.4646,56.6929 C292.9134,61.4173,328.3465,56.6929,340.1575,56.6929 M340.1575,56.6929 C351.9685,56.6929,354.3307,56.6929,354.3307,56.6929 M354.3307,56.6929 C354.3307,56.6929,340.1575,56.6929,340.1575,56.6929 M340.1575,56.6929 C340.1575,56.6929,356.6929,59.0551,354.3307,56.6929 M354.3307,56.6929 C351.9685,54.3307,325.9843,47.2441,325.9843,42.5197 M325.9843,42.5197 C325.9843,37.7953,354.3307,25.9843,354.3307,28.3465 M354.3307,28.3465 C354.3307,30.7087,328.3465,54.3307,325.9843,56.6929 M325.9843,56.6929 C323.622,59.0551,335.4331,47.2441,340.1575,42.5197 M340.1575,42.5197 C344.8819,37.7953,354.3307,30.7087,354.3307,28.3465 M354.3307,28.3465 C354.3307,25.9843,333.0709,25.9843,340.1575,28.3465 M340.1575,28.3465 C347.2441,30.7087,387.4016,42.5197,396.8504,42.5197 M396.8504,42.5197 C406.2992,42.5197,396.8504,30.7087,396.8504,28.3465 M396.8504,28.3465 C396.8504,25.9843,401.5748,28.3465,396.8504,28.3465 M396.8504,28.3465 C392.126,28.3465,370.8661,23.622,368.5039,28.3465 M368.5039,28.3465 C366.1417,33.0709,380.315,56.6929,382.6772,56.6929 M382.6772,56.6929 C385.0394,56.6929,382.6772,28.3465,382.6772,28.3465 M382.6772,28.3465 C382.6772,28.3465,382.6772,56.6929,382.6772,56.6929 M382.6772,56.6929 C382.6772,56.6929,373.2283,33.0709,382.6772,28.3465 M382.6772,28.3465 C392.126,23.622,432.2835,23.622,439.3701,28.3465 M439.3701,28.3465 C446.4567,33.0709,429.9213,56.6929,425.1969,56.6929 M425.1969,56.6929 C420.4724,56.6929,411.0236,28.3465,411.0236,28.3465 M411.0236,28.3465 C411.0236,28.3465,425.1969,51.9685,425.1969,56.6929 M425.1969,56.6929 C425.1969,61.4173,413.3858,56.6929,411.0236,56.6929 M411.0236,56.6929 C408.6614,56.6929,408.6614,61.4173,411.0236,56.6929\" fill=\"none\" stroke=\"rgba(0,128,128,1)\" stroke-miterlimit=\"10\"/>\n",
       "</svg>"
      ],
      "text/plain": [
       "<IPython.core.display.SVG object>"
      ]
     },
     "metadata": {},
     "output_type": "display_data"
    }
   ],
   "source": [
    "line = make_char()\n",
    "for i in range(1, 10):\n",
    "    line += make_char().translate(i*1.5, 0)\n",
    "line = line.scale(10).translate(10, 10)\n",
    "d = document(200, 30, 'mm')\n",
    "page = d.addpage()\n",
    "line_fig = shape().stroke(rgba(160, 80, 160, 255)).nofill()\n",
    "curve_fig = shape().stroke(rgba(0, 128, 128, 255)).nofill()\n",
    "page.place(line_fig.polyline(line))\n",
    "page.place(curve_fig.path(line.smooth_path()))\n",
    "show(page)"
   ]
  },
  {
   "cell_type": "markdown",
   "metadata": {},
   "source": [
    "The following example takes advantage of this technique in order to produce a composition of several lines. As a change of pace, let's work with a limited set of glyphs, instead of generating a new glyph every time we want to place one on the page:"
   ]
  },
  {
   "cell_type": "code",
   "execution_count": 76,
   "metadata": {},
   "outputs": [],
   "source": [
    "chars = [make_char() for i in range(26)]"
   ]
  },
  {
   "cell_type": "markdown",
   "metadata": {},
   "source": [
    "Working with a limited set of glyphs (in my experience) provides a bit of verisimilitude, since you expect to see repeated figures in handwriting. But you also have to be careful to add a bit of variation to the glyphs, because otherwise it can look a bit \"robotic.\" (Though \"robotic\" might be exactly what you're going for. I don't know.)\n",
    "\n",
    "The code below generates ten lines of these \"cursive\" (i.e., connected) forms:"
   ]
  },
  {
   "cell_type": "code",
   "execution_count": 77,
   "metadata": {},
   "outputs": [
    {
     "name": "stderr",
     "output_type": "stream",
     "text": [
      "<ipython-input-77-de11ea120fe6>:6: VisibleDeprecationWarning: Creating an ndarray from ragged nested sequences (which is a list-or-tuple of lists-or-tuples-or ndarrays with different lengths or shapes) is deprecated. If you meant to do this, you must specify 'dtype=object' when creating the ndarray\n",
      "  line = choice(chars)\n",
      "<ipython-input-77-de11ea120fe6>:9: VisibleDeprecationWarning: Creating an ndarray from ragged nested sequences (which is a list-or-tuple of lists-or-tuples-or ndarrays with different lengths or shapes) is deprecated. If you meant to do this, you must specify 'dtype=object' when creating the ndarray\n",
      "  line += choice(chars).scale(normal(1, 0.25)).translate(col*1.5, 0)\n"
     ]
    },
    {
     "data": {
      "image/svg+xml": [
       "<svg xmlns=\"http://www.w3.org/2000/svg\" xmlns:xlink=\"http://www.w3.org/1999/xlink\" version=\"1.1\" width=\"425.1969pt\" height=\"425.1969pt\" viewBox=\"0 0 425.1969 425.1969\">\n",
       "<title>Untitled</title>\n",
       "<path d=\"M25.5118,51.0236 C23.3858,46.7717,38.2677,25.5118,38.2677,25.5118 M38.2677,25.5118 C38.2677,25.5118,27.6378,51.0236,25.5118,51.0236 M25.5118,51.0236 C23.3858,51.0236,25.5118,25.5118,25.5118,25.5118 M25.5118,25.5118 C25.5118,25.5118,25.5118,48.8976,25.5118,51.0236 M25.5118,51.0236 C25.5118,53.1496,25.5118,42.5197,25.5118,38.2677 M25.5118,38.2677 C25.5118,34.0157,15.7431,25.9424,25.5118,25.5118 M25.5118,25.5118 C35.2805,25.0812,74.3551,35.6839,84.1238,35.6839 M84.1238,35.6839 C93.8924,35.6839,85.8191,27.2072,84.1238,25.5118 M84.1238,25.5118 C82.4284,23.8165,73.9517,22.1211,73.9517,25.5118 M73.9517,25.5118 C73.9517,28.9025,82.4284,42.4654,84.1238,45.8561 M84.1238,45.8561 C85.8191,49.2468,85.8191,49.2468,84.1238,45.8561 M84.1238,45.8561 C82.4284,42.4654,68.0515,28.9025,73.9517,25.5118 M73.9517,25.5118 C79.8518,22.1211,109.0163,25.5118,119.5247,25.5118 M119.5247,25.5118 C130.0331,25.5118,139.9151,19.686,137.0022,25.5118 M137.0022,25.5118 C134.0893,31.3376,107.8731,57.5538,102.0472,60.4668 M102.0472,60.4668 C96.2214,63.3797,102.0472,42.9893,102.0472,42.9893 M102.0472,42.9893 C102.0472,42.9893,96.2214,57.5538,102.0472,60.4668 M102.0472,60.4668 C107.8731,63.3797,128.4792,64.1475,137.0022,60.4668 M137.0022,60.4668 C145.5252,56.786,150.488,42.0628,153.1852,38.3821 M153.1852,38.3821 C155.8824,34.7013,155.3302,36.237,153.1852,38.3821 M153.1852,38.3821 C151.0402,40.5271,140.315,53.3973,140.315,51.2523 M140.315,51.2523 C140.315,49.1073,148.8951,27.6569,153.1852,25.5118 M153.1852,25.5118 C157.4753,23.3668,163.9104,38.3821,166.0554,38.3821 M166.0554,38.3821 C168.2005,38.3821,170.3455,25.5118,166.0554,25.5118 M166.0554,25.5118 C161.7654,25.5118,142.46,34.092,140.315,38.3821 M140.315,38.3821 C138.1699,42.6721,145.0719,51.662,153.1852,51.2523 M153.1852,51.2523 C161.2985,50.8426,183.0265,38.4786,188.9948,35.9239 M188.9948,35.9239 C194.963,33.3692,190.7301,34.1885,188.9948,35.9239 M188.9948,35.9239 C187.2594,37.6592,178.5827,48.0713,178.5827,46.336 M178.5827,46.336 C178.5827,44.6006,185.5241,27.2472,188.9948,25.5118 M188.9948,25.5118 C192.4655,23.7765,197.6715,35.9239,199.4068,35.9239 M199.4068,35.9239 C201.1422,35.9239,202.8775,25.5118,199.4068,25.5118 M199.4068,25.5118 C195.9361,25.5118,180.318,32.4532,178.5827,35.9239 M178.5827,35.9239 C176.8473,39.3946,180.9081,44.6539,188.9948,46.336 M188.9948,46.336 C197.0814,48.0181,222.4601,46.0697,227.1027,46.0165 M227.1027,46.0165 C231.7453,45.9633,218.5591,46.0165,216.8504,46.0165 M216.8504,46.0165 C215.1417,46.0165,215.1417,49.4339,216.8504,46.0165 M216.8504,46.0165 C218.5591,42.599,225.394,27.2205,227.1027,25.5118 M227.1027,25.5118 C228.8115,23.8031,228.8115,35.7642,227.1027,35.7642 M227.1027,35.7642 C225.394,35.7642,210.4199,27.2205,216.8504,25.5118 M216.8504,25.5118 C223.2809,23.8031,255.7852,21.9893,265.6856,25.5118 M265.6856,25.5118 C275.5861,29.0343,274.4919,43.1244,276.2532,46.6469 M276.2532,46.6469 C278.0144,50.1694,278.0144,46.6469,276.2532,46.6469 M276.2532,46.6469 C274.4919,46.6469,265.6856,50.1694,265.6856,46.6469 M265.6856,46.6469 C265.6856,43.1244,269.0794,26.4773,276.2532,25.5118 M276.2532,25.5118 C283.4269,24.5464,303.3157,38.2972,308.7283,40.8542 M308.7283,40.8542 C314.1408,43.4113,311.2853,38.2972,308.7283,40.8542 M308.7283,40.8542 C306.1712,43.4113,293.3858,58.7537,293.3858,56.1967 M293.3858,56.1967 C293.3858,53.6396,303.6141,28.0689,308.7283,25.5118 M308.7283,25.5118 C313.8424,22.9547,321.5136,40.8542,324.0707,40.8542 M324.0707,40.8542 C326.6278,40.8542,329.1848,25.5118,324.0707,25.5118 M324.0707,25.5118 C318.9565,25.5118,295.9429,35.7401,293.3858,40.8542 M293.3858,40.8542 C290.8288,45.9684,302.3503,54.4683,308.7283,56.1967 M308.7283,56.1967 C315.1062,57.925,327.8327,54.1959,331.6535,51.2245 M331.6535,51.2245 C335.4744,48.253,327.3681,38.3681,331.6535,38.3681 M331.6535,38.3681 C335.939,38.3681,355.2235,51.2245,357.3662,51.2245 M357.3662,51.2245 C359.5089,51.2245,348.7953,38.3681,344.5099,38.3681 M344.5099,38.3681 C340.2244,38.3681,329.5108,51.2245,331.6535,51.2245 M331.6535,51.2245 C333.7963,51.2245,355.2235,38.3681,357.3662,38.3681 M357.3662,38.3681 C359.5089,38.3681,346.6526,51.2245,344.5099,51.2245 M344.5099,51.2245 C342.3672,51.2245,337.6557,37.4158,344.5099,38.3681 M344.5099,38.3681 C351.364,39.3205,378.7805,59.0814,385.6347,56.9386 M385.6347,56.9386 C392.4888,54.7959,388.2536,30.7496,385.6347,25.5118 M385.6347,25.5118 C383.0158,20.274,369.9213,22.8929,369.9213,25.5118 M369.9213,25.5118 C369.9213,28.1307,380.3969,35.9874,385.6347,41.2252 M385.6347,41.2252 C390.8725,46.463,401.3481,56.9386,401.3481,56.9386 M401.3481,56.9386 C401.3481,56.9386,385.6347,41.2252,385.6347,41.2252 M385.6347,41.2252 C385.6347,41.2252,403.967,56.9386,401.3481,56.9386\" fill=\"none\" stroke=\"rgba(0,128,128,1)\" stroke-miterlimit=\"10\"/>\n",
       "<path d=\"M38.2677,76.5354 C36.1417,78.6614,25.5118,91.4173,25.5118,89.2913 M25.5118,89.2913 C25.5118,87.1654,34.0157,65.9055,38.2677,63.7795 M38.2677,63.7795 C42.5197,61.6535,48.8976,76.5354,51.0236,76.5354 M51.0236,76.5354 C53.1496,76.5354,55.2756,63.7795,51.0236,63.7795 M51.0236,63.7795 C46.7717,63.7795,27.6378,72.2835,25.5118,76.5354 M25.5118,76.5354 C23.3858,80.7874,27.3579,86.8855,38.2677,89.2913 M38.2677,89.2913 C49.1775,91.6972,82.1869,90.6908,90.9707,90.9707 M90.9707,90.9707 C99.7545,91.2506,90.9707,95.5026,90.9707,90.9707 M90.9707,90.9707 C90.9707,86.4388,90.9707,68.3114,90.9707,63.7795 M90.9707,63.7795 C90.9707,59.2477,93.2366,63.7795,90.9707,63.7795 M90.9707,63.7795 C88.7048,63.7795,77.3751,61.5136,77.3751,63.7795 M77.3751,63.7795 C77.3751,66.0455,88.7048,77.3751,90.9707,77.3751 M90.9707,77.3751 C93.2366,77.3751,95.5026,66.0455,90.9707,63.7795 M90.9707,63.7795 C86.4388,61.5136,59.3499,58.6124,63.7795,63.7795 M63.7795,63.7795 C68.2092,68.9466,111.1705,89.6149,117.5485,94.782 M117.5485,94.782 C123.9264,99.9491,104.6308,94.782,102.0472,94.782 M102.0472,94.782 C99.4637,94.782,99.4637,99.9491,102.0472,94.782 M102.0472,94.782 C104.6308,89.6149,114.9649,66.3631,117.5485,63.7795 M117.5485,63.7795 C120.132,61.196,120.132,79.2808,117.5485,79.2808 M117.5485,79.2808 C114.9649,79.2808,94.1471,66.3631,102.0472,63.7795 M102.0472,63.7795 C109.9474,61.196,158.5716,61.7266,164.9496,63.7795 M164.9496,63.7795 C171.3275,65.8324,140.315,74.044,140.315,76.0968 M140.315,76.0968 C140.315,78.1497,160.8438,78.1497,164.9496,76.0968 M164.9496,76.0968 C169.0553,74.044,164.9496,61.7266,164.9496,63.7795 M164.9496,63.7795 C164.9496,65.8324,167.0025,88.4141,164.9496,88.4141 M164.9496,88.4141 C162.8967,88.4141,148.1181,65.6433,152.6323,63.7795 M152.6323,63.7795 C157.1464,61.9157,185.4675,74.9894,192.0346,77.2314 M192.0346,77.2314 C198.6016,79.4734,194.2766,74.9894,192.0346,77.2314 M192.0346,77.2314 C189.7926,79.4734,178.5827,92.9253,178.5827,90.6833 M178.5827,90.6833 C178.5827,88.4413,187.5506,66.0215,192.0346,63.7795 M192.0346,63.7795 C196.5185,61.5375,203.2445,77.2314,205.4865,77.2314 M205.4865,77.2314 C207.7284,77.2314,209.9704,63.7795,205.4865,63.7795 M205.4865,63.7795 C201.0025,63.7795,180.8247,72.7475,178.5827,77.2314 M178.5827,77.2314 C176.3407,81.7154,180.9002,92.9253,192.0346,90.6833 M192.0346,90.6833 C203.169,88.4413,238.8749,65.8853,245.3891,63.7795 M245.3891,63.7795 C251.9033,61.6738,231.1197,75.6706,231.1197,78.0489 M231.1197,78.0489 C231.1197,80.4271,243.0108,80.4271,245.3891,78.0489 M245.3891,78.0489 C247.7673,75.6706,250.1455,66.1578,245.3891,63.7795 M245.3891,63.7795 C240.6326,61.4013,221.6068,61.4013,216.8504,63.7795 M216.8504,63.7795 C212.0939,66.1578,214.4722,78.0489,216.8504,78.0489 M216.8504,78.0489 C219.2286,78.0489,228.7415,66.1578,231.1197,63.7795 M231.1197,63.7795 C233.498,61.4013,223.1795,63.7795,231.1197,63.7795 M231.1197,63.7795 C239.0599,63.7795,272.7909,61.8093,278.7609,63.7795 M278.7609,63.7795 C284.7309,65.7498,270.88,71.6605,266.9395,75.6009 M266.9395,75.6009 C262.999,79.5414,257.0883,87.4223,255.1181,87.4223 M255.1181,87.4223 C253.1479,87.4223,251.1776,77.5711,255.1181,75.6009 M255.1181,75.6009 C259.0586,73.6307,278.7609,73.6307,278.7609,75.6009 M278.7609,75.6009 C278.7609,77.5711,255.1181,87.4223,255.1181,87.4223 M255.1181,87.4223 C255.1181,87.4223,278.7609,75.6009,278.7609,75.6009 M278.7609,75.6009 C278.7609,75.6009,247.1514,89.3925,255.1181,87.4223 M255.1181,87.4223 C263.0848,85.4521,317.4183,64.9554,326.5609,63.7795 M326.5609,63.7795 C335.7034,62.6037,315.5025,74.8379,309.9734,80.3671 M309.9734,80.3671 C304.4442,85.8962,296.1504,96.9546,293.3858,96.9546 M293.3858,96.9546 C290.6212,96.9546,287.8566,83.1316,293.3858,80.3671 M293.3858,80.3671 C298.915,77.6025,326.5609,77.6025,326.5609,80.3671 M326.5609,80.3671 C326.5609,83.1316,293.3858,96.9546,293.3858,96.9546 M293.3858,96.9546 C293.3858,96.9546,326.5609,80.3671,326.5609,80.3671 M326.5609,80.3671 C326.5609,80.3671,292.5371,96.3329,293.3858,96.9546 M293.3858,96.9546 C294.2346,97.5763,325.2756,87.9331,331.6535,84.097 M331.6535,84.097 C338.0315,80.261,328.2673,73.9383,331.6535,73.9383 M331.6535,73.9383 C335.0398,73.9383,348.5848,84.097,351.9711,84.097 M351.9711,84.097 C355.3573,84.097,355.3573,77.3245,351.9711,73.9383 M351.9711,73.9383 C348.5848,70.552,331.6535,62.0864,331.6535,63.7795 M331.6535,63.7795 C331.6535,65.4727,342.23,80.734,351.9711,84.097 M351.9711,84.097 C361.7121,87.4601,383.7449,83.9812,390.0997,83.958 M390.0997,83.958 C396.4545,83.9348,390.0997,87.3211,390.0997,83.958 M390.0997,83.958 C390.0997,80.5949,390.0997,67.1426,390.0997,63.7795 M390.0997,63.7795 C390.0997,60.4165,391.7812,63.7795,390.0997,63.7795 M390.0997,63.7795 C388.4182,63.7795,380.0105,62.098,380.0105,63.7795 M380.0105,63.7795 C380.0105,65.4611,388.4182,73.8688,390.0997,73.8688 M390.0997,73.8688 C391.7812,73.8688,393.4628,65.4611,390.0997,63.7795\" fill=\"none\" stroke=\"rgba(0,128,128,1)\" stroke-miterlimit=\"10\"/>\n",
       "<path d=\"M25.5118,127.5591 C29.7638,129.685,48.8976,119.0551,51.0236,114.8031 M51.0236,114.8031 C53.1496,110.5512,42.5197,99.9213,38.2677,102.0472 M38.2677,102.0472 C34.0157,104.1732,25.5118,127.5591,25.5118,127.5591 M25.5118,127.5591 C25.5118,127.5591,38.2677,104.1732,38.2677,102.0472 M38.2677,102.0472 C38.2677,99.9213,25.5118,110.5512,25.5118,114.8031 M25.5118,114.8031 C25.5118,119.0551,29.8094,125.5243,38.2677,127.5591 M38.2677,127.5591 C46.726,129.5938,72.0098,127.1029,76.2617,127.0117 M76.2617,127.0117 C80.5137,126.9204,65.8599,127.0117,63.7795,127.0117 M63.7795,127.0117 C61.6992,127.0117,61.6992,131.1724,63.7795,127.0117 M63.7795,127.0117 C65.8599,122.8509,74.1814,104.1276,76.2617,102.0472 M76.2617,102.0472 C78.3421,99.9669,78.3421,114.5295,76.2617,114.5295 M76.2617,114.5295 C74.1814,114.5295,54.8151,104.1276,63.7795,102.0472 M63.7795,102.0472 C72.744,99.9669,119.0036,102.0472,130.0485,102.0472 M130.0485,102.0472 C141.0933,102.0472,134.7153,102.0472,130.0485,102.0472 M130.0485,102.0472 C125.3816,102.0472,104.3807,97.3804,102.0472,102.0472 M102.0472,102.0472 C99.7138,106.7141,116.0478,127.715,116.0478,130.0485 M116.0478,130.0485 C116.0478,132.3819,104.3807,120.7147,102.0472,116.0478 M102.0472,116.0478 C99.7138,111.381,102.0472,102.0472,102.0472,102.0472 M102.0472,102.0472 C102.0472,102.0472,88.8049,116.0478,102.0472,116.0478 M102.0472,116.0478 C115.2896,116.0478,175.1234,97.5163,181.5013,102.0472 M181.5013,102.0472 C187.8793,106.5782,140.315,136.3692,140.315,143.2336 M140.315,143.2336 C140.315,150.098,181.5013,143.2336,181.5013,143.2336 M181.5013,143.2336 C181.5013,143.2336,140.315,146.6658,140.315,143.2336 M140.315,143.2336 C140.315,139.8014,174.6369,129.5048,181.5013,122.6404 M181.5013,122.6404 C188.3657,115.776,184.9335,105.4794,181.5013,102.0472 M181.5013,102.0472 C178.0691,98.615,164.3403,102.0472,160.9081,102.0472 M160.9081,102.0472 C157.476,102.0472,156.4768,99.0761,160.9081,102.0472 M160.9081,102.0472 C165.3395,105.0184,184.5503,116.9029,187.4961,119.874 M187.4961,119.874 C190.4418,122.8451,180.0682,119.874,178.5827,119.874 M178.5827,119.874 C177.0971,119.874,177.0971,122.8451,178.5827,119.874 M178.5827,119.874 C180.0682,116.9029,186.0105,103.5328,187.4961,102.0472 M187.4961,102.0472 C188.9816,100.5617,188.9816,110.9606,187.4961,110.9606 M187.4961,110.9606 C186.0105,110.9606,171.8593,101.7018,178.5827,102.0472 M178.5827,102.0472 C185.3061,102.3927,219.6274,111.2022,227.8363,113.0332 M227.8363,113.0332 C236.0453,114.8642,229.6673,111.2022,227.8363,113.0332 M227.8363,113.0332 C226.0054,114.8642,216.8504,125.8501,216.8504,124.0192 M216.8504,124.0192 C216.8504,122.1882,224.1744,103.8782,227.8363,102.0472 M227.8363,102.0472 C231.4983,100.2163,236.9913,113.0332,238.8223,113.0332 M238.8223,113.0332 C240.6533,113.0332,242.4843,102.0472,238.8223,102.0472 M238.8223,102.0472 C235.1603,102.0472,218.6814,109.3712,216.8504,113.0332 M216.8504,113.0332 C215.0194,116.6952,218.8533,125.8501,227.8363,124.0192 M227.8363,124.0192 C236.8194,122.1882,264.8989,104.4067,270.7484,102.0472 M270.7484,102.0472 C276.5979,99.6878,262.9333,108.5599,262.9333,109.8624 M262.9333,109.8624 C262.9333,111.1649,269.4459,111.1649,270.7484,109.8624 M270.7484,109.8624 C272.0509,108.5599,273.3535,103.3498,270.7484,102.0472 M270.7484,102.0472 C268.1434,100.7447,257.7232,100.7447,255.1181,102.0472 M255.1181,102.0472 C252.5131,103.3498,253.8156,109.8624,255.1181,109.8624 M255.1181,109.8624 C256.4206,109.8624,261.6307,103.3498,262.9333,102.0472 M262.9333,102.0472 C264.2358,100.7447,253.3438,97.5332,262.9333,102.0472 M262.9333,102.0472 C272.5227,106.5613,310.8805,126.8743,320.4699,129.1313 M320.4699,129.1313 C330.0593,131.3883,320.4699,115.5893,320.4699,115.5893 M320.4699,115.5893 C320.4699,115.5893,322.7269,129.1313,320.4699,129.1313 M320.4699,129.1313 C318.2129,129.1313,311.4419,117.8463,306.9279,115.5893 M306.9279,115.5893 C302.4139,113.3323,295.6428,115.5893,293.3858,115.5893 M293.3858,115.5893 C291.1288,115.5893,291.1288,115.5893,293.3858,115.5893 M293.3858,115.5893 C295.6428,115.5893,306.9279,113.3323,306.9279,115.5893 M306.9279,115.5893 C306.9279,117.8463,289.2649,131.3883,293.3858,129.1313 M293.3858,129.1313 C297.5068,126.8743,321.511,106.5613,331.6535,102.0472 M331.6535,102.0472 C341.7961,97.5332,354.2409,100.165,354.2409,102.0472 M354.2409,102.0472 C354.2409,103.9295,333.5358,111.4586,331.6535,113.3409 M331.6535,113.3409 C329.7713,115.2232,332.9238,111.5778,342.9472,113.3409 M342.9472,113.3409 C352.9706,115.1041,383.6527,122.1566,391.7938,123.9198 M391.7938,123.9198 C399.9349,125.6829,391.7938,127.5652,391.7938,123.9198 M391.7938,123.9198 C391.7938,120.2743,391.7938,105.6927,391.7938,102.0472 M391.7938,102.0472 C391.7938,98.4018,393.6165,102.0472,391.7938,102.0472 M391.7938,102.0472 C389.9711,102.0472,380.8575,100.2245,380.8575,102.0472 M380.8575,102.0472 C380.8575,103.87,389.9711,112.9835,391.7938,112.9835 M391.7938,112.9835 C393.6165,112.9835,395.4392,103.87,391.7938,102.0472\" fill=\"none\" stroke=\"rgba(0,128,128,1)\" stroke-miterlimit=\"10\"/>\n",
       "<path d=\"M51.0236,140.315 C48.8976,138.189,38.2677,136.063,38.2677,140.315 M38.2677,140.315 C38.2677,144.5669,48.8976,161.5748,51.0236,165.8268 M51.0236,165.8268 C53.1496,170.0787,53.1496,170.0787,51.0236,165.8268 M51.0236,165.8268 C48.8976,161.5748,34.0405,140.3645,38.2677,140.315 M38.2677,140.315 C42.4949,140.2654,70.0336,165.5294,76.3867,165.5294 M76.3867,165.5294 C82.7399,165.5294,78.488,144.5174,76.3867,140.315 M76.3867,140.315 C74.2855,136.1126,63.7795,138.2138,63.7795,140.315 M63.7795,140.315 C63.7795,142.4162,72.1843,148.7198,76.3867,152.9222 M76.3867,152.9222 C80.5892,157.1246,88.994,165.5294,88.994,165.5294 M88.994,165.5294 C88.994,165.5294,76.3867,152.9222,76.3867,152.9222 M76.3867,152.9222 C76.3867,152.9222,91.0952,165.5294,88.994,165.5294 M88.994,165.5294 C86.8928,165.5294,56.6375,157.1246,63.7795,152.9222 M63.7795,152.9222 C70.9215,148.7198,125.4679,139.9329,131.8458,140.315 M131.8458,140.315 C138.2238,140.697,102.0472,152.731,102.0472,155.2143 M102.0472,155.2143 C102.0472,157.6975,126.8794,157.6975,131.8458,155.2143 M131.8458,155.2143 C136.8123,152.731,131.8458,137.8317,131.8458,140.315 M131.8458,140.315 C131.8458,142.7982,134.3291,170.1136,131.8458,170.1136 M131.8458,170.1136 C129.3626,170.1136,115.535,145.2814,116.9465,140.315 M116.9465,140.315 C118.3581,135.3485,136.4202,140.315,140.315,140.315 M140.315,140.315 C144.2097,140.315,136.509,136.509,140.315,140.315 M140.315,140.315 C144.1209,144.1209,163.1509,161.2479,163.1509,163.1509 M163.1509,163.1509 C163.1509,165.0538,142.218,153.6359,140.315,151.7329 M140.315,151.7329 C138.412,149.8299,147.9269,153.6359,151.7329,151.7329 M151.7329,151.7329 C155.5389,149.8299,163.1509,140.315,163.1509,140.315 M163.1509,140.315 C163.1509,140.315,155.5389,149.8299,151.7329,151.7329 M151.7329,151.7329 C147.9269,153.6359,138.412,151.7329,140.315,151.7329 M140.315,151.7329 C142.218,151.7329,159.3449,149.8299,163.1509,151.7329 M163.1509,151.7329 C166.9568,153.6359,160.5789,159.8849,163.1509,163.1509 M163.1509,163.1509 C165.7228,166.4168,176.0107,175.1347,178.5827,171.3287 M178.5827,171.3287 C181.1546,167.5227,173.4137,140.315,178.5827,140.315 M178.5827,140.315 C183.7516,140.315,207.0119,168.7442,209.5964,171.3287 M209.5964,171.3287 C212.1809,173.9132,199.2585,158.4063,194.0895,155.8218 M194.0895,155.8218 C188.9206,153.2374,181.1672,155.8218,178.5827,155.8218 M178.5827,155.8218 C175.9982,155.8218,167.5924,153.7939,178.5827,155.8218 M178.5827,155.8218 C189.573,157.8497,238.1466,165.9612,244.5246,167.9891 M244.5246,167.9891 C250.9025,170.017,219.1566,172.6015,216.8504,167.9891 M216.8504,167.9891 C214.5442,163.3768,230.6875,140.315,230.6875,140.315 M230.6875,140.315 C230.6875,140.315,219.1566,167.9891,216.8504,167.9891 M216.8504,167.9891 C214.5442,167.9891,216.8504,140.315,216.8504,140.315 M216.8504,140.315 C216.8504,140.315,216.8504,165.6829,216.8504,167.9891 M216.8504,167.9891 C216.8504,170.2953,216.8504,158.7644,216.8504,154.152 M216.8504,154.152 C216.8504,149.5397,209.0473,142.6211,216.8504,140.315 M216.8504,140.315 C224.6535,138.0088,254.4408,137.4647,263.669,140.315 M263.669,140.315 C272.8973,143.1653,270.7948,154.5665,272.22,157.4168 M272.22,157.4168 C273.6451,160.2671,273.6451,157.4168,272.22,157.4168 M272.22,157.4168 C270.7948,157.4168,263.669,160.2671,263.669,157.4168 M263.669,157.4168 C263.669,154.5665,267.2672,143.1653,272.22,140.315 M272.22,140.315 C277.1728,137.4647,289.8582,136.2162,293.3858,140.315 M293.3858,140.315 C296.9135,144.4137,289.2871,162.8581,293.3858,164.9075 M293.3858,164.9075 C297.4846,166.9568,315.929,156.71,317.9783,152.6112 M317.9783,152.6112 C320.0277,148.5125,309.7808,138.2656,305.6821,140.315 M305.6821,140.315 C301.5833,142.3643,293.3858,164.9075,293.3858,164.9075 M293.3858,164.9075 C293.3858,164.9075,305.6821,142.3643,305.6821,140.315 M305.6821,140.315 C305.6821,138.2656,293.3858,148.5125,293.3858,152.6112 M293.3858,152.6112 C293.3858,156.71,299.3041,162.8555,305.6821,164.9075 M305.6821,164.9075 C312.06,166.9594,327.325,166.9709,331.6535,164.9228 M331.6535,164.9228 C335.9821,162.8747,327.5522,152.6189,331.6535,152.6189 M331.6535,152.6189 C335.7549,152.6189,352.1601,164.9228,356.2614,164.9228 M356.2614,164.9228 C360.3627,164.9228,360.3627,156.7202,356.2614,152.6189 M356.2614,152.6189 C352.1601,148.5176,331.6535,138.2643,331.6535,140.315 M331.6535,140.315 C331.6535,142.3656,349.8835,161.0311,356.2614,164.9228 M356.2614,164.9228 C362.6394,168.8145,367.6446,165.8206,369.9213,163.6651 M369.9213,163.6651 C372.1979,161.5096,366.0296,151.99,369.9213,151.99 M369.9213,151.99 C373.813,151.99,389.3797,163.6651,393.2714,163.6651 M393.2714,163.6651 C397.1631,163.6651,397.1631,155.8817,393.2714,151.99 M393.2714,151.99 C389.3797,148.0983,369.9213,138.3691,369.9213,140.315\" fill=\"none\" stroke=\"rgba(0,128,128,1)\" stroke-miterlimit=\"10\"/>\n",
       "<path d=\"M38.2677,191.3386 C36.1417,193.4646,25.5118,206.2205,25.5118,204.0945 M25.5118,204.0945 C25.5118,201.9685,34.0157,180.7087,38.2677,178.5827 M38.2677,178.5827 C42.5197,176.4567,48.8976,191.3386,51.0236,191.3386 M51.0236,191.3386 C53.1496,191.3386,55.2756,178.5827,51.0236,178.5827 M51.0236,178.5827 C46.7717,178.5827,27.6378,187.0866,25.5118,191.3386 M25.5118,191.3386 C23.3858,195.5906,27.7696,206.2205,38.2677,204.0945 M38.2677,204.0945 C48.7658,201.9685,84.2484,178.7145,88.5004,178.5827 M88.5004,178.5827 C92.7523,178.4509,63.7795,199.1834,63.7795,203.3035 M63.7795,203.3035 C63.7795,207.4237,88.5004,203.3035,88.5004,203.3035 M88.5004,203.3035 C88.5004,203.3035,63.7795,205.3636,63.7795,203.3035 M63.7795,203.3035 C63.7795,201.2435,84.3802,195.0632,88.5004,190.9431 M88.5004,190.9431 C92.6205,186.823,90.5605,180.6427,88.5004,178.5827 M88.5004,178.5827 C86.4403,176.5226,78.2,178.5827,76.14,178.5827 M76.14,178.5827 C74.0799,178.5827,71.8221,174.7167,76.14,178.5827 M76.14,178.5827 C80.4578,182.4486,97.7294,199.8455,102.0472,201.7784 M102.0472,201.7784 C106.3651,203.7114,98.1813,190.1806,102.0472,190.1806 M102.0472,190.1806 C105.9132,190.1806,121.377,201.7784,125.243,201.7784 M125.243,201.7784 C129.109,201.7784,129.109,194.0465,125.243,190.1806 M125.243,190.1806 C121.377,186.3146,102.0472,176.6497,102.0472,178.5827 M102.0472,178.5827 C102.0472,180.5157,118.865,196.6235,125.243,201.7784 M125.243,201.7784 C131.621,206.9334,137.803,210.801,140.315,209.5126 M140.315,209.5126 C142.827,208.2241,135.16,194.0476,140.315,194.0476 M140.315,194.0476 C145.4699,194.0476,166.0899,209.5126,171.2448,209.5126 M171.2448,209.5126 C176.3998,209.5126,176.3998,199.2026,171.2448,194.0476 M171.2448,194.0476 C166.0899,188.8926,140.315,176.0052,140.315,178.5827 M140.315,178.5827 C140.315,181.1602,161.0921,207.6251,171.2448,209.5126 M171.2448,209.5126 C181.3976,211.4,196.2339,195.0621,201.2317,189.9072 M201.2317,189.9072 C206.2295,184.7522,203.1191,180.4701,201.2317,178.5827 M201.2317,178.5827 C199.3442,176.6953,189.9072,174.8078,189.9072,178.5827 M189.9072,178.5827 C189.9072,182.3575,199.3442,197.4568,201.2317,201.2317 M201.2317,201.2317 C203.1191,205.0065,203.1191,205.0065,201.2317,201.2317 M201.2317,201.2317 C199.3442,197.4568,187.304,182.3575,189.9072,178.5827 M189.9072,178.5827 C192.5103,174.8078,212.3599,173.2108,216.8504,178.5827 M216.8504,178.5827 C221.3409,183.9546,211.4785,208.1281,216.8504,210.814 M216.8504,210.814 C222.2223,213.5,246.3958,200.0702,249.0817,194.6983 M249.0817,194.6983 C251.7677,189.3265,238.3379,175.8967,232.9661,178.5827 M232.9661,178.5827 C227.5942,181.2686,216.8504,210.814,216.8504,210.814 M216.8504,210.814 C216.8504,210.814,232.9661,181.2686,232.9661,178.5827 M232.9661,178.5827 C232.9661,175.8967,216.8504,189.3265,216.8504,194.6983 M216.8504,194.6983 C216.8504,200.0702,224.4508,213.5,232.9661,210.814 M232.9661,210.814 C241.4813,208.1281,264.2501,183.9546,267.9421,178.5827 M267.9421,178.5827 C271.6341,173.2108,257.2554,178.5827,255.1181,178.5827 M255.1181,178.5827 C252.9808,178.5827,255.1181,176.4453,255.1181,178.5827 M255.1181,178.5827 C255.1181,180.72,255.1181,191.4067,255.1181,191.4067 M255.1181,191.4067 C255.1181,191.4067,252.9808,180.72,255.1181,178.5827 M255.1181,178.5827 C257.2554,176.4453,266.8735,176.4453,267.9421,178.5827 M267.9421,178.5827 C269.0108,180.72,262.5988,190.338,261.5301,191.4067 M261.5301,191.4067 C260.4615,192.4754,260.4615,187.132,261.5301,184.9947 M261.5301,184.9947 C262.5988,182.8573,269.0108,178.5827,267.9421,178.5827 M267.9421,178.5827 C266.8735,178.5827,246.751,184.9947,255.1181,184.9947 M255.1181,184.9947 C263.4852,184.9947,311.7666,179.6513,318.1446,178.5827 M318.1446,178.5827 C324.5225,177.514,297.5123,178.5827,293.3858,178.5827 M293.3858,178.5827 C289.2594,178.5827,293.3858,174.4562,293.3858,178.5827 M293.3858,178.5827 C293.3858,182.7091,293.3858,203.3414,293.3858,203.3414 M293.3858,203.3414 C293.3858,203.3414,289.2594,182.7091,293.3858,178.5827 M293.3858,178.5827 C297.5123,174.4562,316.0814,174.4562,318.1446,178.5827 M318.1446,178.5827 C320.2078,182.7091,307.8284,201.2782,305.7652,203.3414 M305.7652,203.3414 C303.702,205.4047,303.702,195.0885,305.7652,190.9621 M305.7652,190.9621 C307.8284,186.8356,320.2078,178.5827,318.1446,178.5827 M318.1446,178.5827 C316.0814,178.5827,291.1343,186.8917,293.3858,190.9621 M293.3858,190.9621 C295.6373,195.0324,325.2756,203.0328,331.6535,203.0047 M331.6535,203.0047 C338.0315,202.9766,327.5832,190.7937,331.6535,190.7937 M331.6535,190.7937 C335.7239,190.7937,352.0052,203.0047,356.0756,203.0047 M356.0756,203.0047 C360.1459,203.0047,360.1459,194.864,356.0756,190.7937 M356.0756,190.7937 C352.0052,186.7234,331.6535,176.5475,331.6535,178.5827 M331.6535,178.5827 C331.6535,180.6178,348.1852,199.9799,356.0756,203.0047 M356.0756,203.0047 C363.9659,206.0295,375.1756,200.8018,378.9957,196.7315 M378.9957,196.7315 C382.8157,192.6611,380.5081,181.6075,378.9957,178.5827 M378.9957,178.5827 C377.4833,175.5579,369.9213,177.0703,369.9213,178.5827 M369.9213,178.5827 C369.9213,180.0951,375.9709,184.6323,378.9957,187.6571 M378.9957,187.6571 C382.0205,190.6819,388.0701,196.7315,388.0701,196.7315 M388.0701,196.7315 C388.0701,196.7315,378.9957,187.6571,378.9957,187.6571 M378.9957,187.6571 C378.9957,187.6571,389.5825,196.7315,388.0701,196.7315\" fill=\"none\" stroke=\"rgba(0,128,128,1)\" stroke-miterlimit=\"10\"/>\n",
       "<path d=\"M51.0236,242.3622 C53.1496,246.6142,53.1496,242.3622,51.0236,242.3622 M51.0236,242.3622 C48.8976,242.3622,38.2677,246.6142,38.2677,242.3622 M38.2677,242.3622 C38.2677,238.1102,44.4557,218.7864,51.0236,216.8504 M51.0236,216.8504 C57.5915,214.9144,73.2333,228.4302,77.6752,230.7461 M77.6752,230.7461 C82.1172,233.0621,79.9912,228.4302,77.6752,230.7461 M77.6752,230.7461 C75.3593,233.0621,63.7795,246.9578,63.7795,244.6418 M63.7795,244.6418 C63.7795,242.3259,73.0433,219.1663,77.6752,216.8504 M77.6752,216.8504 C82.3072,214.5344,89.255,230.7461,91.571,230.7461 M91.571,230.7461 C93.8869,230.7461,96.2029,216.8504,91.571,216.8504 M91.571,216.8504 C86.9391,216.8504,66.0955,226.1142,63.7795,230.7461 M63.7795,230.7461 C61.4636,235.378,67.0875,246.9578,77.6752,244.6418 M77.6752,244.6418 C88.263,242.3259,119.034,217.2725,127.3058,216.8504 M127.3058,216.8504 C135.5775,216.4282,127.3058,240.004,127.3058,242.1089 M127.3058,242.1089 C127.3058,244.2138,131.5155,231.5845,127.3058,229.4796 M127.3058,229.4796 C123.096,227.3748,102.0472,231.5845,102.0472,229.4796 M102.0472,229.4796 C102.0472,227.3748,127.3058,214.7455,127.3058,216.8504 M127.3058,216.8504 C127.3058,218.9553,106.257,242.1089,102.0472,242.1089 M102.0472,242.1089 C97.8375,242.1089,99.9424,216.8504,102.0472,216.8504 M102.0472,216.8504 C104.1521,216.8504,114.6765,242.1089,114.6765,242.1089 M114.6765,242.1089 C114.6765,242.1089,93.7143,221.0601,102.0472,216.8504 M102.0472,216.8504 C110.3802,212.6406,158.2961,214.8205,164.674,216.8504 M164.674,216.8504 C171.052,218.8803,140.315,227,140.315,229.0299 M140.315,229.0299 C140.315,231.0598,160.6142,231.0598,164.674,229.0299 M164.674,229.0299 C168.7338,227,164.674,214.8205,164.674,216.8504 M164.674,216.8504 C164.674,218.8803,166.7039,241.2094,164.674,241.2094 M164.674,241.2094 C162.6441,241.2094,145.8895,220.9102,152.4945,216.8504 M152.4945,216.8504 C159.0994,212.7906,197.8123,214.707,204.3037,216.8504 M204.3037,216.8504 C210.7952,218.9938,195.7301,225.4241,191.4432,229.7109 M191.4432,229.7109 C187.1564,233.9978,180.7261,242.5715,178.5827,242.5715 M178.5827,242.5715 C176.4393,242.5715,174.2958,231.8543,178.5827,229.7109 M178.5827,229.7109 C182.8695,227.5675,204.3037,227.5675,204.3037,229.7109 M204.3037,229.7109 C204.3037,231.8543,178.5827,242.5715,178.5827,242.5715 M178.5827,242.5715 C178.5827,242.5715,204.3037,229.7109,204.3037,229.7109 M204.3037,229.7109 C204.3037,229.7109,174.217,244.7149,178.5827,242.5715 M178.5827,242.5715 C182.9484,240.428,219.5707,221.1372,230.4978,216.8504 M230.4978,216.8504 C241.4249,212.5635,246.4198,212.3013,244.1452,216.8504 M244.1452,216.8504 C241.8707,221.3995,221.3995,241.8707,216.8504,244.1452 M216.8504,244.1452 C212.3013,246.4198,216.8504,230.4978,216.8504,230.4978 M216.8504,230.4978 C216.8504,230.4978,212.3013,241.8707,216.8504,244.1452 M216.8504,244.1452 C221.3995,246.4198,237.7673,248.6944,244.1452,244.1452 M244.1452,244.1452 C250.5232,239.5961,253.2893,216.9107,255.1181,216.8504 M255.1181,216.8504 C256.9469,216.7901,250.6293,241.5391,255.1181,243.7835 M255.1181,243.7835 C259.607,246.0279,279.8068,234.8058,282.0512,230.3169 M282.0512,230.3169 C284.2956,225.8281,273.0735,214.606,268.5847,216.8504 M268.5847,216.8504 C264.0958,219.0948,255.1181,243.7835,255.1181,243.7835 M255.1181,243.7835 C255.1181,243.7835,268.5847,219.0948,268.5847,216.8504 M268.5847,216.8504 C268.5847,214.606,255.1181,225.8281,255.1181,230.3169 M255.1181,230.3169 C255.1181,234.8058,260.4447,242.5039,268.5847,243.7835 M268.5847,243.7835 C276.7246,245.0631,299.8245,238.9596,303.958,237.9948 M303.958,237.9948 C308.0915,237.03,295.1479,237.9948,293.3858,237.9948 M293.3858,237.9948 C291.6238,237.9948,291.6238,241.5188,293.3858,237.9948 M293.3858,237.9948 C295.1479,234.4707,302.196,218.6124,303.958,216.8504 M303.958,216.8504 C305.72,215.0884,305.72,227.4226,303.958,227.4226 M303.958,227.4226 C302.196,227.4226,284.2351,218.6124,293.3858,216.8504 M293.3858,216.8504 C302.5366,215.0884,347.9499,212.3155,358.8627,216.8504 M358.8627,216.8504 C369.7755,221.3852,358.8627,241.7921,358.8627,244.0595 M358.8627,244.0595 C358.8627,246.3269,363.3975,232.7224,358.8627,230.455 M358.8627,230.455 C354.3278,228.1875,331.6535,232.7224,331.6535,230.455 M331.6535,230.455 C331.6535,228.1875,358.8627,214.583,358.8627,216.8504 M358.8627,216.8504 C358.8627,219.1178,336.1884,244.0595,331.6535,244.0595 M331.6535,244.0595 C327.1187,244.0595,329.3861,216.8504,331.6535,216.8504 M331.6535,216.8504 C333.921,216.8504,345.2581,244.0595,345.2581,244.0595 M345.2581,244.0595 C345.2581,244.0595,325.357,217.0133,331.6535,216.8504 M331.6535,216.8504 C337.95,216.6875,374.4732,243.0821,383.0371,243.0821 M383.0371,243.0821 C391.601,243.0821,385.2231,221.2223,383.0371,216.8504 M383.0371,216.8504 C380.8511,212.4784,369.9213,214.6644,369.9213,216.8504 M369.9213,216.8504 C369.9213,219.0364,378.6651,225.5943,383.0371,229.9662 M383.0371,229.9662 C387.409,234.3382,396.1529,243.0821,396.1529,243.0821 M396.1529,243.0821 C396.1529,243.0821,383.0371,229.9662,383.0371,229.9662 M383.0371,229.9662 C383.0371,229.9662,398.3389,243.0821,396.1529,243.0821\" fill=\"none\" stroke=\"rgba(0,128,128,1)\" stroke-miterlimit=\"10\"/>\n",
       "<path d=\"M51.0236,267.874 C51.0236,267.874,53.1496,280.6299,51.0236,280.6299 M51.0236,280.6299 C48.8976,280.6299,42.5197,270,38.2677,267.874 M38.2677,267.874 C34.0157,265.748,27.6378,267.874,25.5118,267.874 M25.5118,267.874 C23.3858,267.874,23.3858,267.874,25.5118,267.874 M25.5118,267.874 C27.6378,267.874,38.2677,265.748,38.2677,267.874 M38.2677,267.874 C38.2677,270,16.28,282.7559,25.5118,280.6299 M25.5118,280.6299 C34.7436,278.5039,84.7905,256.8802,93.6584,255.1181 M93.6584,255.1181 C102.5263,253.356,83.6988,265.0777,78.719,270.0575 M78.719,270.0575 C73.7392,275.0374,66.2694,284.997,63.7795,284.997 M63.7795,284.997 C61.2896,284.997,58.7997,272.5475,63.7795,270.0575 M63.7795,270.0575 C68.7593,267.5676,93.6584,267.5676,93.6584,270.0575 M93.6584,270.0575 C93.6584,272.5475,63.7795,284.997,63.7795,284.997 M63.7795,284.997 C63.7795,284.997,93.6584,270.0575,93.6584,270.0575 M93.6584,270.0575 C93.6584,270.0575,57.42,282.5255,63.7795,284.997 M63.7795,284.997 C70.1391,287.4685,120.4763,287.3856,131.8156,284.8865 M131.8156,284.8865 C143.155,282.3874,131.8156,270.0023,131.8156,270.0023 M131.8156,270.0023 C131.8156,270.0023,134.2963,284.8865,131.8156,284.8865 M131.8156,284.8865 C129.3349,284.8865,121.8928,272.483,116.9314,270.0023 M116.9314,270.0023 C111.97,267.5216,104.5279,270.0023,102.0472,270.0023 M102.0472,270.0023 C99.5665,270.0023,99.5665,270.0023,102.0472,270.0023 M102.0472,270.0023 C104.5279,270.0023,116.9314,267.5216,116.9314,270.0023 M116.9314,270.0023 C116.9314,272.483,98.15,287.3672,102.0472,284.8865 M102.0472,284.8865 C105.9445,282.4058,133.937,260.0795,140.315,255.1181 M140.315,255.1181 C146.6929,250.1567,135.8671,250.6702,140.315,255.1181 M140.315,255.1181 C144.7629,259.566,167.0024,279.5816,167.0024,281.8055 M167.0024,281.8055 C167.0024,284.0295,142.5389,270.6858,140.315,268.4618 M140.315,268.4618 C138.091,266.2379,149.2108,270.6858,153.6587,268.4618 M153.6587,268.4618 C158.1066,266.2379,167.0024,255.1181,167.0024,255.1181 M167.0024,255.1181 C167.0024,255.1181,158.1066,266.2379,153.6587,268.4618 M153.6587,268.4618 C149.2108,270.6858,138.091,268.4618,140.315,268.4618 M140.315,268.4618 C142.5389,268.4618,162.5545,266.2379,167.0024,268.4618 M167.0024,268.4618 C171.4502,270.6858,160.2999,284.0295,167.0024,281.8055 M167.0024,281.8055 C173.7048,279.5816,202.9006,257.1798,207.2169,255.1181 M207.2169,255.1181 C211.5331,253.0564,192.8998,267.049,192.8998,269.4352 M192.8998,269.4352 C192.8998,271.8214,204.8307,271.8214,207.2169,269.4352 M207.2169,269.4352 C209.603,267.049,211.9892,257.5043,207.2169,255.1181 M207.2169,255.1181 C202.4445,252.7319,183.355,252.7319,178.5827,255.1181 M178.5827,255.1181 C173.8103,257.5043,176.1965,269.4352,178.5827,269.4352 M178.5827,269.4352 C180.9689,269.4352,190.5136,257.5043,192.8998,255.1181 M192.8998,255.1181 C195.2859,252.7319,186.1942,249.6905,192.8998,255.1181 M192.8998,255.1181 C199.6053,260.5457,229.1414,282.256,233.1331,287.6836 M233.1331,287.6836 C237.1249,293.1112,219.5642,287.6836,216.8504,287.6836 M216.8504,287.6836 C214.1366,287.6836,214.1366,293.1112,216.8504,287.6836 M216.8504,287.6836 C219.5642,282.256,230.4193,257.8319,233.1331,255.1181 M233.1331,255.1181 C235.8469,252.4043,235.8469,271.4009,233.1331,271.4009 M233.1331,271.4009 C230.4193,271.4009,210.0455,257.8319,216.8504,255.1181 M216.8504,255.1181 C223.6553,252.4043,266.0141,253.5478,273.9624,255.1181 M273.9624,255.1181 C281.9107,256.6885,264.5403,262.9699,264.5403,264.5403 M264.5403,264.5403 C264.5403,266.1106,272.392,266.1106,273.9624,264.5403 M273.9624,264.5403 C275.5328,262.9699,277.1031,256.6885,273.9624,255.1181 M273.9624,255.1181 C270.8217,253.5478,258.2588,253.5478,255.1181,255.1181 M255.1181,255.1181 C251.9774,256.6885,253.5478,264.5403,255.1181,264.5403 M255.1181,264.5403 C256.6885,264.5403,262.9699,256.6885,264.5403,255.1181 M264.5403,255.1181 C266.1106,253.5478,254.5465,255.1181,264.5403,255.1181 M264.5403,255.1181 C274.534,255.1181,319.6952,249.9319,324.5028,255.1181 M324.5028,255.1181 C329.3104,260.3043,293.3858,281.0489,293.3858,286.2351 M293.3858,286.2351 C293.3858,291.4213,324.5028,286.2351,324.5028,286.2351 M324.5028,286.2351 C324.5028,286.2351,293.3858,288.8282,293.3858,286.2351 M293.3858,286.2351 C293.3858,283.642,319.3167,275.8628,324.5028,270.6766 M324.5028,270.6766 C329.689,265.4904,327.0959,257.7112,324.5028,255.1181 M324.5028,255.1181 C321.9097,252.525,311.5374,255.1181,308.9443,255.1181 M308.9443,255.1181 C306.3512,255.1181,301.1866,255.1181,308.9443,255.1181 M308.9443,255.1181 C316.702,255.1181,347.7327,255.1181,355.4904,255.1181 M355.4904,255.1181 C363.248,255.1181,359.4632,255.1181,355.4904,255.1181 M355.4904,255.1181 C351.5176,255.1181,333.6399,251.1453,331.6535,255.1181 M331.6535,255.1181 C329.6671,259.0909,343.572,276.9685,343.572,278.9549 M343.572,278.9549 C343.572,280.9413,333.6399,271.0093,331.6535,267.0365 M331.6535,267.0365 C329.6671,263.0637,331.6535,255.1181,331.6535,255.1181 M331.6535,255.1181 C331.6535,255.1181,323.86,265.6209,331.6535,267.0365 M331.6535,267.0365 C339.4471,268.4521,371.3292,265.5982,378.415,263.6118 M378.415,263.6118 C385.5008,261.6254,374.1681,256.5337,374.1681,255.1181 M374.1681,255.1181 C374.1681,253.7025,378.415,254.4103,378.415,255.1181 M378.415,255.1181 C378.415,255.8259,374.8759,257.9494,374.1681,259.365 M374.1681,259.365 C373.4603,260.7806,373.4603,263.6118,374.1681,263.6118 M374.1681,263.6118 C374.8759,263.6118,377.7072,260.0728,378.415,259.365 M378.415,259.365 C379.1228,258.6572,378.415,259.365,378.415,259.365\" fill=\"none\" stroke=\"rgba(0,128,128,1)\" stroke-miterlimit=\"10\"/>\n",
       "<path d=\"M25.5118,318.8976 C23.3858,314.6457,38.2677,293.3858,38.2677,293.3858 M38.2677,293.3858 C38.2677,293.3858,27.6378,318.8976,25.5118,318.8976 M25.5118,318.8976 C23.3858,318.8976,25.5118,293.3858,25.5118,293.3858 M25.5118,293.3858 C25.5118,293.3858,25.5118,316.7717,25.5118,318.8976 M25.5118,318.8976 C25.5118,321.0236,25.5118,310.3937,25.5118,306.1417 M25.5118,306.1417 C25.5118,301.8898,17.4598,293.8377,25.5118,293.3858 M25.5118,293.3858 C33.5638,292.9339,65.7719,301.7562,73.824,303.4303 M73.824,303.4303 C81.876,305.1043,75.498,301.7562,73.824,303.4303 M73.824,303.4303 C72.1499,305.1043,63.7795,315.1488,63.7795,313.4747 M63.7795,313.4747 C63.7795,311.8006,70.4758,295.0599,73.824,293.3858 M73.824,293.3858 C77.1721,291.7118,82.1943,303.4303,83.8684,303.4303 M83.8684,303.4303 C85.5425,303.4303,87.2165,293.3858,83.8684,293.3858 M83.8684,293.3858 C80.5202,293.3858,65.4536,300.0821,63.7795,303.4303 M63.7795,303.4303 C62.1055,306.7784,67.446,313.737,73.824,313.4747 M73.824,313.4747 C80.2019,313.2124,95.9316,303.7926,102.0472,301.8562 M102.0472,301.8562 C108.1629,299.9198,110.5177,300.4445,110.5177,301.8562 M110.5177,301.8562 C110.5177,303.268,102.0472,311.7384,102.0472,310.3266 M102.0472,310.3266 C102.0472,308.9149,99.6081,296.2093,110.5177,293.3858 M110.5177,293.3858 C121.4272,290.5624,162.5385,291.12,167.5047,293.3858 M167.5047,293.3858 C172.4709,295.6516,140.315,304.7149,140.315,306.9807 M140.315,306.9807 C140.315,309.2465,162.9731,309.2465,167.5047,306.9807 M167.5047,306.9807 C172.0363,304.7149,167.5047,291.12,167.5047,293.3858 M167.5047,293.3858 C167.5047,295.6516,169.7705,320.5756,167.5047,320.5756 M167.5047,320.5756 C165.2389,320.5756,149.9566,295.8106,153.9098,293.3858 M153.9098,293.3858 C157.863,290.9611,185.0048,303.9201,191.2238,306.0269 M191.2238,306.0269 C197.4428,308.1338,193.3306,303.9201,191.2238,306.0269 M191.2238,306.0269 C189.1169,308.1338,178.5827,320.7749,178.5827,318.6681 M178.5827,318.6681 C178.5827,316.5612,187.0101,295.4927,191.2238,293.3858 M191.2238,293.3858 C195.4375,291.279,201.7581,306.0269,203.8649,306.0269 M203.8649,306.0269 C205.9718,306.0269,208.0786,293.3858,203.8649,293.3858 M203.8649,293.3858 C199.6512,293.3858,180.6895,301.8132,178.5827,306.0269 M178.5827,306.0269 C176.4758,310.2407,182.653,316.3893,191.2238,318.6681 M191.2238,318.6681 C199.7946,320.9469,225.7362,319.5278,230.0073,319.6997 M230.0073,319.6997 C234.2784,319.8716,219.0432,319.6997,216.8504,319.6997 M216.8504,319.6997 C214.6576,319.6997,214.6576,324.0853,216.8504,319.6997 M216.8504,319.6997 C219.0432,315.314,227.8145,295.5786,230.0073,293.3858 M230.0073,293.3858 C232.2001,291.193,232.2001,306.5428,230.0073,306.5428 M230.0073,306.5428 C227.8145,306.5428,212.6653,293.0863,216.8504,293.3858 M216.8504,293.3858 C221.0355,293.6854,246.2478,305.8476,255.1181,308.3399 M255.1181,308.3399 C263.9884,310.8323,270.0722,305.8476,270.0722,308.3399 M270.0722,308.3399 C270.0722,310.8323,255.1181,325.7864,255.1181,323.2941 M255.1181,323.2941 C255.1181,320.8017,261.2461,293.4742,270.0722,293.3858 M270.0722,293.3858 C278.8984,293.2975,304.1893,317.8676,308.0749,322.764 M308.0749,322.764 C311.9605,327.6604,295.834,322.764,293.3858,322.764 M293.3858,322.764 C290.9376,322.764,290.9376,327.6604,293.3858,322.764 M293.3858,322.764 C295.834,317.8676,305.6267,295.834,308.0749,293.3858 M308.0749,293.3858 C310.5231,290.9376,310.5231,308.0749,308.0749,308.0749 M308.0749,308.0749 C305.6267,308.0749,289.4561,294.0068,293.3858,293.3858 M293.3858,293.3858 C297.3156,292.7649,323.4484,302.522,331.6535,304.3492 M331.6535,304.3492 C339.8587,306.1765,342.6169,302.522,342.6169,304.3492 M342.6169,304.3492 C342.6169,306.1765,331.6535,317.1399,331.6535,315.3126 M331.6535,315.3126 C331.6535,313.4854,336.239,297.0403,342.6169,293.3858 M342.6169,293.3858 C348.9949,289.7314,365.3705,290.4165,369.9213,293.3858 M369.9213,293.3858 C374.472,296.3552,366.9519,309.7173,369.9213,311.202 M369.9213,311.202 C372.8906,312.6866,386.2527,305.2633,387.7374,302.2939 M387.7374,302.2939 C389.2221,299.3245,381.7987,291.9011,378.8293,293.3858 M378.8293,293.3858 C375.86,294.8705,369.9213,311.202,369.9213,311.202 M369.9213,311.202 C369.9213,311.202,378.8293,294.8705,378.8293,293.3858 M378.8293,293.3858 C378.8293,291.9011,369.9213,299.3245,369.9213,302.2939\" fill=\"none\" stroke=\"rgba(0,128,128,1)\" stroke-miterlimit=\"10\"/>\n",
       "<path d=\"M38.2677,344.4094 C34.0157,348.6614,27.6378,357.1654,25.5118,357.1654 M25.5118,357.1654 C23.3858,357.1654,21.2598,346.5354,25.5118,344.4094 M25.5118,344.4094 C29.7638,342.2835,51.0236,342.2835,51.0236,344.4094 M51.0236,344.4094 C51.0236,346.5354,25.5118,357.1654,25.5118,357.1654 M25.5118,357.1654 C25.5118,357.1654,51.0236,344.4094,51.0236,344.4094 M51.0236,344.4094 C51.0236,344.4094,22.272,357.0636,25.5118,357.1654 M25.5118,357.1654 C28.7517,357.2671,64.0848,347.0442,70.4627,345.0199 M70.4627,345.0199 C76.8407,342.9957,64.8934,345.0199,63.7795,345.0199 M63.7795,345.0199 C62.6657,345.0199,62.6657,347.2477,63.7795,345.0199 M63.7795,345.0199 C64.8934,342.7922,69.3489,332.7674,70.4627,331.6535 M70.4627,331.6535 C71.5766,330.5397,71.5766,338.3367,70.4627,338.3367 M70.4627,338.3367 C69.3489,338.3367,58.5154,332.7674,63.7795,331.6535 M63.7795,331.6535 C69.0436,330.5397,95.6693,325.5688,102.0472,331.6535 M102.0472,331.6535 C108.4252,337.7383,95.9625,365.1195,102.0472,368.1619 M102.0472,368.1619 C108.132,371.2042,135.5132,355.9924,138.5556,349.9077 M138.5556,349.9077 C141.5979,343.823,126.3861,328.6112,120.3014,331.6535 M120.3014,331.6535 C114.2167,334.6959,102.0472,368.1619,102.0472,368.1619 M102.0472,368.1619 C102.0472,368.1619,120.3014,334.6959,120.3014,331.6535 M120.3014,331.6535 C120.3014,328.6112,102.0472,343.823,102.0472,349.9077 M102.0472,349.9077 C102.0472,355.9924,112.21,371.2042,120.3014,368.1619 M120.3014,368.1619 C128.3928,365.1195,143.833,334.3114,150.5955,331.6535 M150.5955,331.6535 C157.3579,328.9957,159.1626,348.7877,160.876,352.2146 M160.876,352.2146 C162.5894,355.6414,162.5894,352.2146,160.876,352.2146 M160.876,352.2146 C159.1626,352.2146,150.5955,355.6414,150.5955,352.2146 M150.5955,352.2146 C150.5955,348.7877,151.4054,335.0804,160.876,331.6535 M160.876,331.6535 C170.3465,328.2267,204.4678,331.6535,207.4189,331.6535 M207.4189,331.6535 C210.37,331.6535,183.3887,331.6535,178.5827,331.6535 M178.5827,331.6535 C173.7766,331.6535,178.5827,326.8475,178.5827,331.6535 M178.5827,331.6535 C178.5827,336.4596,178.5827,360.4898,178.5827,360.4898 M178.5827,360.4898 C178.5827,360.4898,173.7766,336.4596,178.5827,331.6535 M178.5827,331.6535 C183.3887,326.8475,205.0159,326.8475,207.4189,331.6535 M207.4189,331.6535 C209.8219,336.4596,195.4038,358.0868,193.0008,360.4898 M193.0008,360.4898 C190.5978,362.8928,190.5978,350.8777,193.0008,346.0717 M193.0008,346.0717 C195.4038,341.2656,209.8219,331.6535,207.4189,331.6535 M207.4189,331.6535 C205.0159,331.6535,171.5352,346.0717,178.5827,346.0717 M178.5827,346.0717 C185.6302,346.0717,240.588,331.3188,249.7038,331.6535 M249.7038,331.6535 C258.8195,331.9883,238.7527,342.6047,233.2771,348.0802 M233.2771,348.0802 C227.8015,353.5558,219.5882,364.5069,216.8504,364.5069 M216.8504,364.5069 C214.1126,364.5069,211.3748,350.818,216.8504,348.0802 M216.8504,348.0802 C222.326,345.3425,249.7038,345.3425,249.7038,348.0802 M249.7038,348.0802 C249.7038,350.818,216.8504,364.5069,216.8504,364.5069 M216.8504,364.5069 C216.8504,364.5069,249.7038,348.0802,249.7038,348.0802 M249.7038,348.0802 C249.7038,348.0802,215.948,367.2447,216.8504,364.5069 M216.8504,364.5069 C217.7528,361.7692,248.7402,333.6759,255.1181,331.6535 M255.1181,331.6535 C261.4961,329.6311,251.665,350.6459,255.1181,352.3725 M255.1181,352.3725 C258.5713,354.0991,274.1105,345.4662,275.8371,342.013 M275.8371,342.013 C277.5636,338.5599,268.9307,329.927,265.4776,331.6535 M265.4776,331.6535 C262.0244,333.3801,255.1181,352.3725,255.1181,352.3725 M255.1181,352.3725 C255.1181,352.3725,265.4776,333.3801,265.4776,331.6535 M265.4776,331.6535 C265.4776,329.927,255.1181,338.5599,255.1181,342.013 M255.1181,342.013 C255.1181,345.4662,259.0996,349.6476,265.4776,352.3725 M265.4776,352.3725 C271.8555,355.0974,288.7345,359.5897,293.3858,358.3622 M293.3858,358.3622 C298.0372,357.1348,288.9344,345.0079,293.3858,345.0079 M293.3858,345.0079 C297.8373,345.0079,317.8688,358.3622,320.0945,358.3622 M320.0945,358.3622 C322.3203,358.3622,311.1916,345.0079,306.7402,345.0079 M306.7402,345.0079 C302.2887,345.0079,291.1601,358.3622,293.3858,358.3622 M293.3858,358.3622 C295.6116,358.3622,317.8688,345.0079,320.0945,345.0079 M320.0945,345.0079 C322.3203,345.0079,308.9659,358.3622,306.7402,358.3622 M306.7402,358.3622 C304.5145,358.3622,302.588,345.285,306.7402,345.0079 M306.7402,345.0079 C310.8924,344.7308,327.5013,356.838,331.6535,356.6994 M331.6535,356.6994 C335.8058,356.5609,327.4792,344.1765,331.6535,344.1765 M331.6535,344.1765 C335.8279,344.1765,352.5251,356.6994,356.6994,356.6994 M356.6994,356.6994 C360.8738,356.6994,360.8738,348.3508,356.6994,344.1765 M356.6994,344.1765 C352.5251,340.0022,331.6535,329.5664,331.6535,331.6535 M331.6535,331.6535 C331.6535,333.7407,346.6473,353.0253,356.6994,356.6994 M356.6994,356.6994 C366.7516,360.3736,386.0885,354.1987,391.9663,353.6986 M391.9663,353.6986 C397.8441,353.1984,391.9663,357.3727,391.9663,353.6986 M391.9663,353.6986 C391.9663,350.0244,391.9663,335.3277,391.9663,331.6535 M391.9663,331.6535 C391.9663,327.9794,393.8034,331.6535,391.9663,331.6535 M391.9663,331.6535 C390.1292,331.6535,380.9438,329.8165,380.9438,331.6535 M380.9438,331.6535 C380.9438,333.4906,390.1292,342.6761,391.9663,342.6761 M391.9663,342.6761 C393.8034,342.6761,395.6405,333.4906,391.9663,331.6535\" fill=\"none\" stroke=\"rgba(0,128,128,1)\" stroke-miterlimit=\"10\"/>\n",
       "<path d=\"M25.5118,395.4331 C23.3858,391.1811,38.2677,369.9213,38.2677,369.9213 M38.2677,369.9213 C38.2677,369.9213,27.6378,395.4331,25.5118,395.4331 M25.5118,395.4331 C23.3858,395.4331,25.5118,369.9213,25.5118,369.9213 M25.5118,369.9213 C25.5118,369.9213,25.5118,393.3071,25.5118,395.4331 M25.5118,395.4331 C25.5118,397.5591,25.5118,386.9291,25.5118,382.6772 M25.5118,382.6772 C25.5118,378.4252,16.0166,372.0472,25.5118,369.9213 M25.5118,369.9213 C35.007,367.7953,72.988,366.804,82.4832,369.9213 M82.4832,369.9213 C91.9784,373.0385,82.4832,387.0663,82.4832,388.6249 M82.4832,388.6249 C82.4832,390.1836,85.6005,380.8317,82.4832,379.2731 M82.4832,379.2731 C79.3659,377.7144,63.7795,380.8317,63.7795,379.2731 M63.7795,379.2731 C63.7795,377.7144,82.4832,368.3626,82.4832,369.9213 M82.4832,369.9213 C82.4832,371.4799,66.8968,388.6249,63.7795,388.6249 M63.7795,388.6249 C60.6623,388.6249,62.2209,369.9213,63.7795,369.9213 M63.7795,369.9213 C65.3382,369.9213,73.1314,388.6249,73.1314,388.6249 M73.1314,388.6249 C73.1314,388.6249,55.6062,373.0385,63.7795,369.9213 M63.7795,369.9213 C71.9528,366.804,115.7932,369.9213,122.1711,369.9213 M122.1711,369.9213 C128.5491,369.9213,105.4012,369.9213,102.0472,369.9213 M102.0472,369.9213 C98.6933,369.9213,102.0472,366.5673,102.0472,369.9213 M102.0472,369.9213 C102.0472,373.2752,102.0472,390.0452,102.0472,390.0452 M102.0472,390.0452 C102.0472,390.0452,98.6933,373.2752,102.0472,369.9213 M102.0472,369.9213 C105.4012,366.5673,120.4941,366.5673,122.1711,369.9213 M122.1711,369.9213 C123.8481,373.2752,113.7862,388.3682,112.1092,390.0452 M112.1092,390.0452 C110.4322,391.7221,110.4322,383.3372,112.1092,379.9832 M112.1092,379.9832 C113.7862,376.6292,123.8481,369.9213,122.1711,369.9213 M122.1711,369.9213 C120.4941,369.9213,99.0233,373.5334,102.0472,379.9832 M102.0472,379.9832 C105.0712,386.433,133.937,407.0721,140.315,408.62 M140.315,408.62 C146.6929,410.1679,133.8652,389.2706,140.315,389.2706 M140.315,389.2706 C146.7648,389.2706,175.7888,408.62,179.0137,408.62 M179.0137,408.62 C182.2386,408.62,166.1141,389.2706,159.6644,389.2706 M159.6644,389.2706 C153.2146,389.2706,137.0901,408.62,140.315,408.62 M140.315,408.62 C143.5399,408.62,175.7888,389.2706,179.0137,389.2706 M179.0137,389.2706 C182.2386,389.2706,162.8892,408.62,159.6644,408.62 M159.6644,408.62 C156.4395,408.62,156.5113,395.7204,159.6644,389.2706 M159.6644,389.2706 C162.8174,382.8209,172.7852,373.1462,178.5827,369.9213 M178.5827,369.9213 C184.3802,366.6964,194.4493,368.599,194.4493,369.9213 M194.4493,369.9213 C194.4493,371.2435,179.9049,376.5324,178.5827,377.8546 M178.5827,377.8546 C177.2605,379.1768,177.8541,379.1768,186.516,377.8546 M186.516,377.8546 C195.1779,376.5324,220.9303,366.6756,230.5539,369.9213 M230.5539,369.9213 C240.1775,373.1669,241.9735,392.7604,244.2574,397.3283 M244.2574,397.3283 C246.5413,401.8961,246.5413,397.3283,244.2574,397.3283 M244.2574,397.3283 C241.9735,397.3283,230.5539,401.8961,230.5539,397.3283 M230.5539,397.3283 C230.5539,392.7604,238.364,370.8904,244.2574,369.9213 M244.2574,369.9213 C250.1508,368.9521,264.1039,387.9145,265.9141,391.5132 M265.9141,391.5132 C267.7242,395.1118,256.9174,391.5132,255.1181,391.5132 M255.1181,391.5132 C253.3188,391.5132,253.3188,395.1118,255.1181,391.5132 M255.1181,391.5132 C256.9174,387.9145,264.1147,371.7206,265.9141,369.9213 M265.9141,369.9213 C267.7134,368.1219,267.7134,380.7172,265.9141,380.7172 M265.9141,380.7172 C264.1147,380.7172,250.5395,368.3247,255.1181,369.9213 M255.1181,369.9213 C259.6967,371.5178,287.0079,390.2967,293.3858,390.2967 M293.3858,390.2967 C299.7638,390.2967,289.9899,369.9213,293.3858,369.9213 M293.3858,369.9213 C296.7817,369.9213,312.0634,388.5988,313.7613,390.2967 M313.7613,390.2967 C315.4593,391.9947,306.9695,381.807,303.5736,380.109 M303.5736,380.109 C300.1777,378.411,295.0838,380.109,293.3858,380.109 M293.3858,380.109 C291.6879,380.109,287.0079,379.3092,293.3858,380.109 M293.3858,380.109 C299.7638,380.9088,322.7778,384.1081,331.6535,384.9079 M331.6535,384.9079 C340.5293,385.7078,346.6402,382.4102,346.6402,384.9079 M346.6402,384.9079 C346.6402,387.4057,331.6535,402.3924,331.6535,399.8946 M331.6535,399.8946 C331.6535,397.3968,340.2623,374.9168,346.6402,369.9213 M346.6402,369.9213 C353.0182,364.9257,361.4171,369.9213,369.9213,369.9213 M369.9213,369.9213 C378.4254,369.9213,397.6649,367.6093,397.6649,369.9213 M397.6649,369.9213 C397.6649,372.2332,372.2332,381.4811,369.9213,383.7931\" fill=\"none\" stroke=\"rgba(0,128,128,1)\" stroke-miterlimit=\"10\"/>\n",
       "</svg>"
      ],
      "text/plain": [
       "<IPython.core.display.SVG object>"
      ]
     },
     "metadata": {},
     "output_type": "display_data"
    }
   ],
   "source": [
    "d = document(150, 150, 'mm')\n",
    "page = d.addpage()\n",
    "line_fig = shape().stroke(rgba(128, 0, 128, 255)).nofill()\n",
    "curve_fig = shape().stroke(rgba(0, 128, 128, 255)).nofill()\n",
    "for row in range(10):\n",
    "    line = choice(chars)\n",
    "    for col in range(1, 10):\n",
    "        # scale(normal(...)) adds a bit of size variation to the glyphs\n",
    "        line += choice(chars).scale(normal(1, 0.25)).translate(col*1.5, 0)\n",
    "    # translate the row to the right place on the screen and make it bigger\n",
    "    line = line.translate(1, 1+row*1.5).scale(9)\n",
    "    smooth = line.smooth_path()\n",
    "    #page.place(line_fig.polyline(line)) # uncomment to see original polylines\n",
    "    page.place(curve_fig.path(smooth))\n",
    "show(page)"
   ]
  },
  {
   "cell_type": "code",
   "execution_count": null,
   "metadata": {},
   "outputs": [],
   "source": []
  }
 ],
 "metadata": {
  "kernelspec": {
   "display_name": "Python 3",
   "language": "python",
   "name": "python3"
  },
  "language_info": {
   "codemirror_mode": {
    "name": "ipython",
    "version": 3
   },
   "file_extension": ".py",
   "mimetype": "text/x-python",
   "name": "python",
   "nbconvert_exporter": "python",
   "pygments_lexer": "ipython3",
   "version": "3.8.5"
  }
 },
 "nbformat": 4,
 "nbformat_minor": 2
}
