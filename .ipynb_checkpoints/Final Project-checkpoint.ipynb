{
 "cells": [
  {
   "cell_type": "code",
   "execution_count": null,
   "metadata": {},
   "outputs": [],
   "source": [
    "import sys\n",
    "!{sys.executable} -m pip install --upgrade https://github.com/aparrish/bezmerizing/archive/master.zip"
   ]
  },
  {
   "cell_type": "code",
   "execution_count": 2,
   "metadata": {},
   "outputs": [],
   "source": [
    "# import serial\n",
    "# serial = serial.Serial(\"/dev/tty.usbmodem14301\")"
   ]
  },
  {
   "cell_type": "code",
   "execution_count": 3,
   "metadata": {},
   "outputs": [],
   "source": [
    "from flat import document, rgb, rgba, font, strike, shape\n",
    "from flat.command import moveto, quadto, curveto, lineto, closepath\n",
    "from bezmerizing import Polyline, Path\n",
    "import numpy as np\n",
    "from copy import copy\n",
    "from numpy.random import uniform, normal, choice"
   ]
  },
  {
   "cell_type": "code",
   "execution_count": 4,
   "metadata": {},
   "outputs": [],
   "source": [
    "from IPython.display import SVG, display\n",
    "def show(page):\n",
    "    display(SVG(page.svg()))"
   ]
  },
  {
   "cell_type": "code",
   "execution_count": 5,
   "metadata": {},
   "outputs": [],
   "source": [
    "f = font.open('VT323-Regular.ttf')"
   ]
  },
  {
   "cell_type": "code",
   "execution_count": 6,
   "metadata": {},
   "outputs": [],
   "source": [
    "def glyphcommands(f, ch):\n",
    "    return Path([copy(cmd) for cmd in f.glyph(f.charmap[ord(ch)])])\n",
    "def advancefor(f, ch):\n",
    "    return f.advances[f.charmap[ord(ch)]]"
   ]
  },
  {
   "cell_type": "code",
   "execution_count": 7,
   "metadata": {},
   "outputs": [
    {
     "name": "stdout",
     "output_type": "stream",
     "text": [
      "[[164, -480], [284, -480], [288, -520], [284, -560], [124, -560], [120, -520], [124, -480], [84, -480], [80, -440], [84, -400], [80, -360], [84, -320], [80, -280], [84, -240], [4, -240], [0, -200], [4, -160], [84, -160], [80, -120], [84, -80], [80, -40], [84, 0], [164, 0], [168, -40], [164, -80], [168, -120], [164, -160], [284, -160], [288, -200], [284, -240], [164, -240], [168, -280], [164, -320], [168, -360], [164, -400], [168, -440], [164, -480]]\n"
     ]
    }
   ],
   "source": [
    "def getCommandsFromFont(text, font):\n",
    "    t = open('/Users/samheckle/Documents/school/spring 2021/printerRobot/letterCommands.h', \"w\")\n",
    "    \n",
    "    startX = 0\n",
    "    \n",
    "    myText = text #the text to manipulate\n",
    "    numLets = len(myText)\n",
    "\n",
    "    letterCommands = []\n",
    "\n",
    "    for i in range(numLets): #for every letter:\n",
    "        letter = glyphcommands(font,myText[i]).commands #get glyph commands for that letter\n",
    "        for j in range(len(letter)): #for each command: \n",
    "            if (hasattr(letter[j], \"x\") and hasattr(letter[j], \"y\")): #if command is NOT closepath:\n",
    "                x = letter[j].x+startX\n",
    "                y = letter[j].y\n",
    "                letterCommands.append([x-36,(y+560)*-1])\n",
    "            if (letter[j] == letter[-1]): #if command is the last in the letter:\n",
    "                startX+=350\n",
    "    \n",
    "    commandsString = \"int letterCommands[][2] = \" + str(letterCommands).replace('[', \"{\").replace(\"]\",\"}\")+\";\"\n",
    "    print(letterCommands)\n",
    "    t.write(commandsString)\n",
    "    t.close();\n",
    "\n",
    "        \n",
    "getCommandsFromFont(\"t\", f)"
   ]
  },
  {
   "cell_type": "code",
   "execution_count": 8,
   "metadata": {},
   "outputs": [
    {
     "ename": "ModuleNotFoundError",
     "evalue": "No module named 'markovify'",
     "output_type": "error",
     "traceback": [
      "\u001b[0;31m---------------------------------------------------------------------------\u001b[0m",
      "\u001b[0;31mModuleNotFoundError\u001b[0m                       Traceback (most recent call last)",
      "\u001b[0;32m<ipython-input-8-41313d9cfea6>\u001b[0m in \u001b[0;36m<module>\u001b[0;34m\u001b[0m\n\u001b[1;32m      1\u001b[0m \u001b[0;32mimport\u001b[0m \u001b[0mjson\u001b[0m\u001b[0;34m\u001b[0m\u001b[0;34m\u001b[0m\u001b[0m\n\u001b[0;32m----> 2\u001b[0;31m \u001b[0;32mimport\u001b[0m \u001b[0mmarkovify\u001b[0m\u001b[0;34m\u001b[0m\u001b[0;34m\u001b[0m\u001b[0m\n\u001b[0m\u001b[1;32m      3\u001b[0m \u001b[0;34m\u001b[0m\u001b[0m\n\u001b[1;32m      4\u001b[0m \u001b[0;31m# Get raw text as string.\u001b[0m\u001b[0;34m\u001b[0m\u001b[0;34m\u001b[0m\u001b[0;34m\u001b[0m\u001b[0m\n\u001b[1;32m      5\u001b[0m \u001b[0;32mwith\u001b[0m \u001b[0mopen\u001b[0m\u001b[0;34m(\u001b[0m\u001b[0;34m\"/Users/samheckle/dev/blog/content/blog/material-of-language/final/corpus.txt\"\u001b[0m\u001b[0;34m)\u001b[0m \u001b[0;32mas\u001b[0m \u001b[0mf\u001b[0m\u001b[0;34m:\u001b[0m\u001b[0;34m\u001b[0m\u001b[0;34m\u001b[0m\u001b[0m\n",
      "\u001b[0;31mModuleNotFoundError\u001b[0m: No module named 'markovify'"
     ]
    }
   ],
   "source": [
    "import json\n",
    "import markovify\n",
    "\n",
    "# Get raw text as string.\n",
    "with open(\"/Users/samheckle/dev/blog/content/blog/material-of-language/final/corpus.txt\") as f:\n",
    "    text = f.read()\n",
    "\n",
    "# Build the model.\n",
    "text_model = markovify.NewlineText(text)\n",
    "\n",
    "# Print five randomly-generated sentences\n",
    "for i in range(5):\n",
    "    print(text_model.make_sentence())\n",
    "\n",
    "# Print three randomly-generated sentences of no more than 280 characters\n",
    "for i in range(3):\n",
    "    print(text_model.make_short_sentence(280))"
   ]
  },
  {
   "cell_type": "code",
   "execution_count": null,
   "metadata": {},
   "outputs": [],
   "source": []
  }
 ],
 "metadata": {
  "kernelspec": {
   "display_name": "Python 3",
   "language": "python",
   "name": "python3"
  },
  "language_info": {
   "codemirror_mode": {
    "name": "ipython",
    "version": 3
   },
   "file_extension": ".py",
   "mimetype": "text/x-python",
   "name": "python",
   "nbconvert_exporter": "python",
   "pygments_lexer": "ipython3",
   "version": "3.9.1"
  }
 },
 "nbformat": 4,
 "nbformat_minor": 4
}
