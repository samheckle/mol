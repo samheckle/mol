{
 "cells": [
  {
   "cell_type": "markdown",
   "metadata": {},
   "source": [
    "# Asemic writing with Flat\n",
    "\n",
    "By [Allison Parrish](https://www.decontextualize.com/)\n",
    "\n",
    "This is a tutorial on how to use [flat](https://xxyxyz.org/flat), the random functions from [Numpy](http://www.numpy.org/) and [bezmerizing](https://github.com/aparrish/bezmerizing/) (a small library I made with simple functions for working with Bézier curves) to make various kinds of asemic writing.\n",
    "\n",
    "## Installation and preliminaries\n",
    "\n",
    "There are a number of Python libraries for drawing vector graphics, but [flat](https://xxyxyz.org/flat) is my favorite one to work with. It's small, powerful and elegant. It's also written in pure Python (i.e., does not need compiled code) and has no external dependencies, which makes it especially easy to install:"
   ]
  },
  {
   "cell_type": "code",
   "execution_count": 1,
   "metadata": {},
   "outputs": [
    {
     "name": "stdout",
     "output_type": "stream",
     "text": [
      "Processing /Users/samheckle/Library/Caches/pip/wheels/0d/e2/18/c726ec3941493cc3e929b0bb53d7a6b5c1a112ed8da9a64a6b/Flat-0.3.2-py3-none-any.whl\n",
      "Installing collected packages: flat\n",
      "Successfully installed flat-0.3.2\n",
      "\u001b[33mWARNING: You are using pip version 20.2.3; however, version 22.0.3 is available.\n",
      "You should consider upgrading via the '/Users/samheckle/Documents/school/spring 2021/mol/base/bin/python3 -m pip install --upgrade pip' command.\u001b[0m\n"
     ]
    }
   ],
   "source": [
    "!pip install flat"
   ]
  },
  {
   "cell_type": "markdown",
   "metadata": {},
   "source": [
    "In this tutorial, I'm only using a subset of flat's functionality. The cell below imports the three functions from the library that I'm going to use."
   ]
  },
  {
   "cell_type": "code",
   "execution_count": 2,
   "metadata": {},
   "outputs": [],
   "source": [
    "from flat import document, shape, rgba"
   ]
  },
  {
   "cell_type": "markdown",
   "metadata": {},
   "source": [
    "The flat library can export images in a handful of formats, including PNG. We can leverage this to \"embed\" the results of running flat code right into a Jupyter Notebook as we're working. The cell below creates a function `show()` that takes a flat `page` object, renders it as an SVG, and displays it in the notebook. I use this extensively below!"
   ]
  },
  {
   "cell_type": "code",
   "execution_count": 78,
   "metadata": {},
   "outputs": [],
   "source": [
    "from IPython.display import SVG, display\n",
    "def show(page):\n",
    "    display(SVG(page.svg()))"
   ]
  },
  {
   "cell_type": "markdown",
   "metadata": {},
   "source": [
    "[Bezmerizing](https://github.com/aparrish/bezmerizing/) is a small library I made with a handful of useful functions for working with Bézier curves, including a function for making smooth curved paths based on a list of points, and a function that can style such paths by adjusting their thickness along the path. Install it directly from GitHub like so:"
   ]
  },
  {
   "cell_type": "code",
   "execution_count": 4,
   "metadata": {},
   "outputs": [
    {
     "name": "stdout",
     "output_type": "stream",
     "text": [
      "Collecting https://github.com/aparrish/bezmerizing/archive/master.zip\n",
      "  Using cached https://github.com/aparrish/bezmerizing/archive/master.zip\n",
      "Requirement already satisfied: flat>=0.0.3 in ./base/lib/python3.8/site-packages (from bezmerizing==0.1.1) (0.3.2)\n",
      "Collecting scipy>=1.1.0\n",
      "  Using cached scipy-1.8.0-cp38-cp38-macosx_10_9_x86_64.whl (34.8 MB)\n",
      "Collecting numpy>=1.16.0\n",
      "  Using cached numpy-1.22.2-cp38-cp38-macosx_10_14_x86_64.whl (17.6 MB)\n",
      "Using legacy 'setup.py install' for bezmerizing, since package 'wheel' is not installed.\n",
      "Installing collected packages: numpy, scipy, bezmerizing\n",
      "    Running setup.py install for bezmerizing ... \u001b[?25ldone\n",
      "\u001b[?25hSuccessfully installed bezmerizing-0.1.1 numpy-1.22.2 scipy-1.8.0\n",
      "\u001b[33mWARNING: You are using pip version 20.2.3; however, version 22.0.3 is available.\n",
      "You should consider upgrading via the '/Users/samheckle/Documents/school/spring 2021/mol/base/bin/python3 -m pip install --upgrade pip' command.\u001b[0m\n"
     ]
    }
   ],
   "source": [
    "!pip install https://github.com/aparrish/bezmerizing/archive/master.zip"
   ]
  },
  {
   "cell_type": "code",
   "execution_count": 5,
   "metadata": {},
   "outputs": [],
   "source": [
    "from bezmerizing import Polyline"
   ]
  },
  {
   "cell_type": "markdown",
   "metadata": {},
   "source": [
    "Assuming you're running this notebook with Anaconda, you probably already have Numpy installed. [Numpy](http://www.numpy.org/) is a widely-used Python library for math and statistics. I'm going to show you how to use a handful of functions from Numpy for generating random numbers. Use the cells below to import them into your notebook:"
   ]
  },
  {
   "cell_type": "code",
   "execution_count": 6,
   "metadata": {},
   "outputs": [],
   "source": [
    "import numpy as np"
   ]
  },
  {
   "cell_type": "code",
   "execution_count": 7,
   "metadata": {},
   "outputs": [],
   "source": [
    "from numpy.random import uniform, normal, choice"
   ]
  },
  {
   "cell_type": "markdown",
   "metadata": {},
   "source": [
    "## Making shapes with flat\n",
    "\n",
    "Drawing with flat consists of a few steps:\n",
    "\n",
    "1. Create a document\n",
    "2. Add a page to the document\n",
    "3. Create shapes\n",
    "4. Place shapes on the page\n",
    "5. Display the page (or the document).\n",
    "\n",
    "A minimal example skips steps 3 and 4:"
   ]
  },
  {
   "cell_type": "code",
   "execution_count": 8,
   "metadata": {},
   "outputs": [
    {
     "data": {
      "image/svg+xml": [
       "<svg xmlns=\"http://www.w3.org/2000/svg\" xmlns:xlink=\"http://www.w3.org/1999/xlink\" version=\"1.1\" width=\"283.4646pt\" height=\"283.4646pt\" viewBox=\"0 0 283.4646 283.4646\">\n",
       "<title>Untitled</title>\n",
       "\n",
       "</svg>"
      ],
      "text/plain": [
       "<IPython.core.display.SVG object>"
      ]
     },
     "metadata": {},
     "output_type": "display_data"
    }
   ],
   "source": [
    "d = document(100, 100, 'mm') # create a document 100mm x 100mm (can replace 'mm' with 'pt')\n",
    "page = d.addpage() # add a page\n",
    "show(page) # show the page"
   ]
  },
  {
   "cell_type": "markdown",
   "metadata": {},
   "source": [
    "... but doesn't display anything. We've just made a blank page.\n",
    "\n",
    "To add a shape, create a `shape` object with the `shape()` function. The object returned from this function has methods that let you set the fill, stroke, and stroke width of the shape. Colors are specified with the `rgba()` function, which takes four parameters: the red, green, and blue components of the color (in the range 0—255), along with an alpha value (which controls how \"transparent\" the color will be—0 is completely transparent and 255 is completely opaque)."
   ]
  },
  {
   "cell_type": "code",
   "execution_count": 9,
   "metadata": {},
   "outputs": [
    {
     "data": {
      "text/plain": [
       "<flat.shape.shape at 0x7fcec975aa30>"
      ]
     },
     "execution_count": 9,
     "metadata": {},
     "output_type": "execute_result"
    }
   ],
   "source": [
    "figure = shape()\n",
    "figure.fill(rgba(255, 128, 255, 255))\n",
    "figure.stroke(rgba(128, 0, 255, 255))\n",
    "figure.width(4)"
   ]
  },
  {
   "cell_type": "markdown",
   "metadata": {},
   "source": [
    "A `shape` object acts as a kind of container for a list of paths to draw with the fill and stroke you specified when you created the object. Add a rectangle to the shape with the `.rectangle()` method:"
   ]
  },
  {
   "cell_type": "code",
   "execution_count": 10,
   "metadata": {},
   "outputs": [],
   "source": [
    "rect = figure.rectangle(5, 5, 90, 90)"
   ]
  },
  {
   "cell_type": "markdown",
   "metadata": {},
   "source": [
    "This creates a rectangle at position (5, 5) on the page with a width of 90 and a height of 90. ([See the documentation for a full list of shape methods and an explanation of what their parameters mean.](https://xxyxyz.org/flat))\n",
    "\n",
    "> Note for first-time programmers: Any word to the *left* of an equal sign (`=`) is called a *variable*. A \"variable\" takes the result of running some code and stores it for later under the name that you give it—sort of naming a file or putting a label on a folder. I used the word `rect` above to store the result of creating the `rectangle` shape, but you can use whatever word you want, as long as you use the same word when referring back to that value later. (There's nothing magical about calling it `rect`—I could have called is `lawrence` or `afkjsdhf`. Using `rect` just makes it easier to remember what I was using that variable for.\n",
    "\n",
    "To make this rectangle appear on the page, pass the value returned from the method to the `.place()` method of the page:"
   ]
  },
  {
   "cell_type": "code",
   "execution_count": 11,
   "metadata": {},
   "outputs": [
    {
     "data": {
      "image/svg+xml": [
       "<svg xmlns=\"http://www.w3.org/2000/svg\" xmlns:xlink=\"http://www.w3.org/1999/xlink\" version=\"1.1\" width=\"283.4646pt\" height=\"283.4646pt\" viewBox=\"0 0 283.4646 283.4646\">\n",
       "<title>Untitled</title>\n",
       "<rect x=\"14.1732\" y=\"14.1732\" width=\"255.1181\" height=\"255.1181\" fill=\"rgba(255,128,255,1)\" stroke=\"rgba(128,0,255,1)\" stroke-width=\"4\" stroke-miterlimit=\"10\"/>\n",
       "</svg>"
      ],
      "text/plain": [
       "<IPython.core.display.SVG object>"
      ]
     },
     "metadata": {},
     "output_type": "display_data"
    }
   ],
   "source": [
    "d = document(100, 100, 'mm')\n",
    "page = d.addpage()\n",
    "page.place(rect)\n",
    "show(page)"
   ]
  },
  {
   "cell_type": "markdown",
   "metadata": {},
   "source": [
    "Nice! You'll notice that flat's coordinate system is set up such that the *upper left-hand corner* of the page is (0, 0). The X-axis increases as you move to the right of the page, while the Y-axes increases as you move *downwards*. (This is the opposite of how it works in a regular Cartesian coordinate system, but it's very common in computer graphics for some reason.)\n",
    "\n",
    "Because it's so common to set the fill, stroke and stroke width at once, flat supports a \"chained\" syntax so that you can set them all one one line. It looks like this:"
   ]
  },
  {
   "cell_type": "code",
   "execution_count": 12,
   "metadata": {},
   "outputs": [],
   "source": [
    "figure = shape().fill(rgba(255, 128, 255, 255)).stroke(rgba(128, 0, 255, 255)).width(4)"
   ]
  },
  {
   "cell_type": "markdown",
   "metadata": {},
   "source": [
    "With all of this in mind, I put in the cell below all of the code necessary to draw the rectangle, from the creation of the document to displaying the page. Most of the rest of the examples in this tutorial will look like this, with all of the code to display a particular shape in the same cell."
   ]
  },
  {
   "cell_type": "code",
   "execution_count": 13,
   "metadata": {},
   "outputs": [
    {
     "data": {
      "image/svg+xml": [
       "<svg xmlns=\"http://www.w3.org/2000/svg\" xmlns:xlink=\"http://www.w3.org/1999/xlink\" version=\"1.1\" width=\"283.4646pt\" height=\"283.4646pt\" viewBox=\"0 0 283.4646 283.4646\">\n",
       "<title>Untitled</title>\n",
       "<rect x=\"14.1732\" y=\"14.1732\" width=\"255.1181\" height=\"255.1181\" fill=\"rgba(255,128,255,1)\" stroke=\"rgba(128,0,255,1)\" stroke-width=\"4\" stroke-miterlimit=\"10\"/>\n",
       "</svg>"
      ],
      "text/plain": [
       "<IPython.core.display.SVG object>"
      ]
     },
     "metadata": {},
     "output_type": "display_data"
    }
   ],
   "source": [
    "d = document(100, 100, 'mm')\n",
    "page = d.addpage()\n",
    "figure = shape().fill(rgba(255, 128, 255, 255)).stroke(rgba(128, 0, 255, 255)).width(4)\n",
    "rect = figure.rectangle(5, 5, 90, 90)\n",
    "page.place(rect)\n",
    "show(page)"
   ]
  },
  {
   "cell_type": "markdown",
   "metadata": {},
   "source": [
    "To add another shape to the drawing, add a second call to a `shape` method. Another easy one to try out is `.circle()`, which draws a circle of a particular radius centered on the given (x, y) coordinate. Note that you have to call `page.place()` with all of the components of the shape you want to appear on in the drawing."
   ]
  },
  {
   "cell_type": "code",
   "execution_count": 14,
   "metadata": {},
   "outputs": [
    {
     "data": {
      "image/svg+xml": [
       "<svg xmlns=\"http://www.w3.org/2000/svg\" xmlns:xlink=\"http://www.w3.org/1999/xlink\" version=\"1.1\" width=\"283.4646pt\" height=\"283.4646pt\" viewBox=\"0 0 283.4646 283.4646\">\n",
       "<title>Untitled</title>\n",
       "<rect x=\"14.1732\" y=\"14.1732\" width=\"255.1181\" height=\"255.1181\" fill=\"rgba(255,128,255,1)\" stroke=\"rgba(128,0,255,1)\" stroke-width=\"4\" stroke-miterlimit=\"10\"/>\n",
       "<circle cx=\"93.5433\" cy=\"93.5433\" r=\"70.8661\" fill=\"rgba(255,128,255,1)\" stroke=\"rgba(128,0,255,1)\" stroke-width=\"4\" stroke-miterlimit=\"10\"/>\n",
       "</svg>"
      ],
      "text/plain": [
       "<IPython.core.display.SVG object>"
      ]
     },
     "metadata": {},
     "output_type": "display_data"
    }
   ],
   "source": [
    "d = document(100, 100, 'mm')\n",
    "page = d.addpage()\n",
    "figure = shape().fill(rgba(255, 128, 255, 255)).stroke(rgba(128, 0, 255, 255)).width(4)\n",
    "rect = figure.rectangle(5, 5, 90, 90)\n",
    "circ = figure.circle(33, 33, 25)\n",
    "page.place(rect)\n",
    "page.place(circ)\n",
    "show(page)"
   ]
  },
  {
   "cell_type": "markdown",
   "metadata": {},
   "source": [
    "If you want the circle to be a different color (or have a different stroke color or stroke width) from the rectangle, you need to create a second `shape` object:"
   ]
  },
  {
   "cell_type": "code",
   "execution_count": 15,
   "metadata": {},
   "outputs": [
    {
     "data": {
      "image/svg+xml": [
       "<svg xmlns=\"http://www.w3.org/2000/svg\" xmlns:xlink=\"http://www.w3.org/1999/xlink\" version=\"1.1\" width=\"283.4646pt\" height=\"283.4646pt\" viewBox=\"0 0 283.4646 283.4646\">\n",
       "<title>Untitled</title>\n",
       "<rect x=\"14.1732\" y=\"14.1732\" width=\"255.1181\" height=\"255.1181\" fill=\"rgba(255,128,255,1)\" stroke=\"rgba(128,0,255,1)\" stroke-width=\"4\" stroke-miterlimit=\"10\"/>\n",
       "<circle cx=\"93.5433\" cy=\"93.5433\" r=\"70.8661\" fill=\"rgba(128,240,128,1)\"/>\n",
       "</svg>"
      ],
      "text/plain": [
       "<IPython.core.display.SVG object>"
      ]
     },
     "metadata": {},
     "output_type": "display_data"
    }
   ],
   "source": [
    "d = document(100, 100, 'mm')\n",
    "page = d.addpage()\n",
    "# shape for rectangle\n",
    "figure = shape().fill(rgba(255, 128, 255, 255)).stroke(rgba(128, 0, 255, 255)).width(4)\n",
    "# shape for circle\n",
    "green_figure = shape().fill(rgba(128, 240, 128, 255)).nostroke()\n",
    "# add rectangle to figure\n",
    "rect = figure.rectangle(5, 5, 90, 90)\n",
    "# add circle to green figure\n",
    "circ = green_figure.circle(33, 33, 25)\n",
    "# place them both\n",
    "page.place(rect)\n",
    "page.place(circ)\n",
    "show(page)"
   ]
  },
  {
   "cell_type": "markdown",
   "metadata": {},
   "source": [
    "Note that `.nostroke()` causes the shape to not have a stroke at all. Similarly, `.nofill()` will make the shape have no fill color.\n",
    "\n",
    "> Exercise ideas: Modify the cell above to change the coordinates and colors of the rectangle and circle. Add a new element to the drawing using a new shape that we haven't discussed yet (say, `ellipse` or `line`) using a stroke and fill different from the other shapes."
   ]
  },
  {
   "cell_type": "markdown",
   "metadata": {},
   "source": [
    "## Randomness with numpy\n",
    "\n",
    "For the purposes of this tutorial, let's think about asemic writing as a kind of random process. Our method of generating asemic writing with a computer will be to simulate the random movement of a hand holding a pen. The movement of the pen is constrained in certain ways—i.e., at any point in the process, some pen movements are more likely to happen than other pen movements. To model this process, we need a way to generate random numbers.\n",
    "\n",
    "Fortunately, the Numpy library has a wide variety of random number generators with different useful properties. Let's talk about a few of them.\n",
    "\n",
    "### Uniform distribution\n",
    "\n",
    "The `uniform()` function returns a number between 0 and 1, drawn from a \"uniform distribution.\" The word \"uniform\" here means that every value in the domain has *the same chance of being generated*—no number or range of numbers is more likely than any other. Run the cell below multiple times to see what happens."
   ]
  },
  {
   "cell_type": "code",
   "execution_count": 16,
   "metadata": {},
   "outputs": [
    {
     "data": {
      "text/plain": [
       "0.043795598454016815"
      ]
     },
     "execution_count": 16,
     "metadata": {},
     "output_type": "execute_result"
    }
   ],
   "source": [
    "uniform()"
   ]
  },
  {
   "cell_type": "markdown",
   "metadata": {},
   "source": [
    "Using a `for` loop, you can generate a series of numbers to see what the distribution looks like. (You can change the number `8` to something larger to generate more numbers and better understand the distribution.)"
   ]
  },
  {
   "cell_type": "code",
   "execution_count": 17,
   "metadata": {},
   "outputs": [
    {
     "name": "stdout",
     "output_type": "stream",
     "text": [
      "0.4983859385630409\n",
      "0.12326114067582083\n",
      "0.6904634810912514\n",
      "0.09825427145346699\n",
      "0.7172941824644763\n",
      "0.3178811996476606\n",
      "0.5653231560762462\n",
      "0.05197720162572406\n"
     ]
    }
   ],
   "source": [
    "for i in range(8):\n",
    "    print(uniform())"
   ]
  },
  {
   "cell_type": "markdown",
   "metadata": {},
   "source": [
    "If you give two parameters to `uniform()`, the function will evaluate to a number chosen from that range (with the first parameter being the low end of the range, and the second parameter being the high end.)"
   ]
  },
  {
   "cell_type": "code",
   "execution_count": 18,
   "metadata": {},
   "outputs": [
    {
     "name": "stdout",
     "output_type": "stream",
     "text": [
      "-2.744661878215189\n",
      "2.2886971837699646\n",
      "0.2184110087439164\n",
      "2.6670081856769645\n",
      "2.0283699929341017\n",
      "2.0083730788266454\n",
      "2.0426156258010453\n",
      "-2.0415648875098213\n"
     ]
    }
   ],
   "source": [
    "for i in range(8):\n",
    "    print(uniform(-5, 5))"
   ]
  },
  {
   "cell_type": "markdown",
   "metadata": {},
   "source": [
    "If you need an integer instead of a floating-point number (i.e., a number with a decimal point), you can wrap the call to `uniform()` in a call to `int()`. The cell below simulates rolling a [twenty-sided die](https://en.wikipedia.org/wiki/Dice#Standard_variations):"
   ]
  },
  {
   "cell_type": "code",
   "execution_count": 19,
   "metadata": {},
   "outputs": [
    {
     "name": "stdout",
     "output_type": "stream",
     "text": [
      "11\n",
      "20\n",
      "17\n",
      "5\n",
      "3\n",
      "20\n",
      "10\n",
      "7\n"
     ]
    }
   ],
   "source": [
    "for i in range(8):\n",
    "    print(int(uniform(20)+1))"
   ]
  },
  {
   "cell_type": "markdown",
   "metadata": {},
   "source": [
    "> Exercise: Why do we need to add one to the result of the `uniform()` function in the example above?"
   ]
  },
  {
   "cell_type": "markdown",
   "metadata": {},
   "source": [
    "### Normal distribution\n",
    "\n",
    "A random number generator with a normal distribution (also called the Gaussian distribution or the \"bell curve\") produces values mostly clustered around a particular number. When generating a random number with a normal distribution, you specify the \"center\" of the distribution (i.e., the number that the values will cluster around) and the value for the standard deviation of the distribution, which controls the \"spread\" of numbers returned, above and below the center. (~70% of numbers will be within this range; ~95% will be within double the range.) Generate a random number with a normal distribution using the `normal()` function:"
   ]
  },
  {
   "cell_type": "code",
   "execution_count": 20,
   "metadata": {},
   "outputs": [
    {
     "data": {
      "text/plain": [
       "2.7236529209101867"
      ]
     },
     "execution_count": 20,
     "metadata": {},
     "output_type": "execute_result"
    }
   ],
   "source": [
    "normal(0, 2)"
   ]
  },
  {
   "cell_type": "markdown",
   "metadata": {},
   "source": [
    "The first parameter is the center, and the second is the standard deviation. (These are often called *mu* and *sigma*, respectively.) Run it a number of times and you should see that the numbers generated mostly cluster around the center:"
   ]
  },
  {
   "cell_type": "code",
   "execution_count": 21,
   "metadata": {},
   "outputs": [
    {
     "name": "stdout",
     "output_type": "stream",
     "text": [
      "0.5990365767838749\n",
      "1.484807120798353\n",
      "-0.3167325375674394\n",
      "-0.2993393697417378\n",
      "0.22257439253745295\n",
      "0.32573887316420963\n",
      "-1.0954262799562566\n",
      "-1.24028762003267\n"
     ]
    }
   ],
   "source": [
    "for i in range(8):\n",
    "    print(normal(0, 2))"
   ]
  },
  {
   "cell_type": "markdown",
   "metadata": {},
   "source": [
    "Normal distributions are very useful in computer-generated art because they allow us to introduce and control variation, keeping values mostly in the same range.\n",
    "\n",
    "### Truncated normal distribution\n",
    "\n",
    "You may have noticed that sometimes the random number generator for the normal distribution produces values well outside the standard deviation. That's not a bug—it's just how normal distributions work. (In any data set, there are sometimes extreme outliers.)\n",
    "\n",
    "Nevertheless, in computer-generated art there's often a need to generate random numbers from a normal distribution that are *constrainted* to a particular range. (For example, you might want to generate a random color with a normal distribution, but never want your color values to fall outside of the range 0–255.) For this, you can use a *truncated normal distribution*. The following cell defines a function `t_normal()` to produce such values."
   ]
  },
  {
   "cell_type": "code",
   "execution_count": 22,
   "metadata": {},
   "outputs": [],
   "source": [
    "from scipy.stats import truncnorm\n",
    "def t_normal(a, b, mu, sigma):\n",
    "    tn = truncnorm((a-mu)/sigma, (b-mu)/sigma, loc=mu, scale=sigma)\n",
    "    return tn.rvs(1)[0]"
   ]
  },
  {
   "cell_type": "markdown",
   "metadata": {},
   "source": [
    "The first parameter is the low end of the range, the second parameter is the high end, the third parameter is the center and the fourth parameter is the standard deviation."
   ]
  },
  {
   "cell_type": "code",
   "execution_count": 23,
   "metadata": {},
   "outputs": [
    {
     "data": {
      "text/plain": [
       "2.8005445682196086"
      ]
     },
     "execution_count": 23,
     "metadata": {},
     "output_type": "execute_result"
    }
   ],
   "source": [
    "t_normal(0, 255, 10, 10)"
   ]
  },
  {
   "cell_type": "markdown",
   "metadata": {},
   "source": [
    "### Choosing from a list with probabilities\n",
    "\n",
    "The `choice()` function implements a kind of *weighted* random choice, where you can set the weights randomly. The code in the cell below picks one of `50`, `100` or `150` (the values between the first set of brackets). It will pick these with 15% probability, 80% probability, and 5% probability respectively (as specified by the values between the second set of brackets)."
   ]
  },
  {
   "cell_type": "code",
   "execution_count": 24,
   "metadata": {},
   "outputs": [
    {
     "data": {
      "text/plain": [
       "100"
      ]
     },
     "execution_count": 24,
     "metadata": {},
     "output_type": "execute_result"
    }
   ],
   "source": [
    "choice([50, 100, 150], p=[0.15, 0.8, 0.05])"
   ]
  },
  {
   "cell_type": "markdown",
   "metadata": {},
   "source": [
    "Calling this function multiple times should result in the specified distribution:"
   ]
  },
  {
   "cell_type": "code",
   "execution_count": 25,
   "metadata": {},
   "outputs": [
    {
     "name": "stdout",
     "output_type": "stream",
     "text": [
      "100\n",
      "100\n",
      "150\n",
      "100\n",
      "100\n",
      "100\n",
      "100\n",
      "100\n"
     ]
    }
   ],
   "source": [
    "for i in range(8):\n",
    "    print(choice([50, 100, 150], p=[0.15, 0.8, 0.05]))"
   ]
  },
  {
   "cell_type": "markdown",
   "metadata": {},
   "source": [
    "Without the `p` parameter, the `choice()` function defaults to a uniform distribution (i.e., no result is more likely than any other):"
   ]
  },
  {
   "cell_type": "code",
   "execution_count": 26,
   "metadata": {},
   "outputs": [
    {
     "name": "stdout",
     "output_type": "stream",
     "text": [
      "150\n",
      "100\n",
      "100\n",
      "100\n",
      "150\n",
      "150\n",
      "150\n",
      "50\n"
     ]
    }
   ],
   "source": [
    "for i in range(8):\n",
    "    print(choice([50, 100, 150]))"
   ]
  },
  {
   "cell_type": "markdown",
   "metadata": {},
   "source": [
    "The `sample()` function (from Python's standard `random` module) takes a list of values and returns the specified number of values, randomly selected (using a uniform distribution) from the list."
   ]
  },
  {
   "cell_type": "code",
   "execution_count": 27,
   "metadata": {},
   "outputs": [],
   "source": [
    "from random import sample"
   ]
  },
  {
   "cell_type": "code",
   "execution_count": 28,
   "metadata": {},
   "outputs": [
    {
     "data": {
      "text/plain": [
       "[5, 10]"
      ]
     },
     "execution_count": 28,
     "metadata": {},
     "output_type": "execute_result"
    }
   ],
   "source": [
    "sample([5, 10, 15, 20], 2)"
   ]
  },
  {
   "cell_type": "markdown",
   "metadata": {},
   "source": [
    "## Visualizing distributions with flat\n",
    "\n",
    "The code in the cell below places circles on a page with the (x, y) coordinates of their centers determined by different random distributions. The small red circles are uniformly distributed; the medium-sized green circles are normally distributed and the large blue circles are in a truncated normal distribution (centered on the center of the page, with the same spread.)"
   ]
  },
  {
   "cell_type": "code",
   "execution_count": 29,
   "metadata": {},
   "outputs": [
    {
     "data": {
      "image/svg+xml": [
       "<svg xmlns=\"http://www.w3.org/2000/svg\" xmlns:xlink=\"http://www.w3.org/1999/xlink\" version=\"1.1\" width=\"283.4646pt\" height=\"283.4646pt\" viewBox=\"0 0 283.4646 283.4646\">\n",
       "<title>Untitled</title>\n",
       "<circle cx=\"258.3723\" cy=\"139.6295\" r=\"2.8346\" fill=\"none\" stroke=\"rgba(255,0,0,0.9412)\" stroke-miterlimit=\"10\"/>\n",
       "<circle cx=\"215.8823\" cy=\"111.4571\" r=\"2.8346\" fill=\"none\" stroke=\"rgba(255,0,0,0.9412)\" stroke-miterlimit=\"10\"/>\n",
       "<circle cx=\"231.87\" cy=\"248.5241\" r=\"2.8346\" fill=\"none\" stroke=\"rgba(255,0,0,0.9412)\" stroke-miterlimit=\"10\"/>\n",
       "<circle cx=\"78.7034\" cy=\"227.195\" r=\"2.8346\" fill=\"none\" stroke=\"rgba(255,0,0,0.9412)\" stroke-miterlimit=\"10\"/>\n",
       "<circle cx=\"146.4114\" cy=\"249.5106\" r=\"2.8346\" fill=\"none\" stroke=\"rgba(255,0,0,0.9412)\" stroke-miterlimit=\"10\"/>\n",
       "<circle cx=\"49.7452\" cy=\"261.9615\" r=\"2.8346\" fill=\"none\" stroke=\"rgba(255,0,0,0.9412)\" stroke-miterlimit=\"10\"/>\n",
       "<circle cx=\"21.874\" cy=\"65.0132\" r=\"2.8346\" fill=\"none\" stroke=\"rgba(255,0,0,0.9412)\" stroke-miterlimit=\"10\"/>\n",
       "<circle cx=\"210.1537\" cy=\"125.3441\" r=\"2.8346\" fill=\"none\" stroke=\"rgba(255,0,0,0.9412)\" stroke-miterlimit=\"10\"/>\n",
       "<circle cx=\"243.9924\" cy=\"183.4694\" r=\"2.8346\" fill=\"none\" stroke=\"rgba(255,0,0,0.9412)\" stroke-miterlimit=\"10\"/>\n",
       "<circle cx=\"136.87\" cy=\"272.5982\" r=\"2.8346\" fill=\"none\" stroke=\"rgba(255,0,0,0.9412)\" stroke-miterlimit=\"10\"/>\n",
       "<circle cx=\"15.5454\" cy=\"205.5808\" r=\"2.8346\" fill=\"none\" stroke=\"rgba(255,0,0,0.9412)\" stroke-miterlimit=\"10\"/>\n",
       "<circle cx=\"256.1366\" cy=\"273.5675\" r=\"2.8346\" fill=\"none\" stroke=\"rgba(255,0,0,0.9412)\" stroke-miterlimit=\"10\"/>\n",
       "<circle cx=\"104.4931\" cy=\"49.1088\" r=\"2.8346\" fill=\"none\" stroke=\"rgba(255,0,0,0.9412)\" stroke-miterlimit=\"10\"/>\n",
       "<circle cx=\"178.7154\" cy=\"162.3972\" r=\"2.8346\" fill=\"none\" stroke=\"rgba(255,0,0,0.9412)\" stroke-miterlimit=\"10\"/>\n",
       "<circle cx=\"267.6752\" cy=\"180.1166\" r=\"2.8346\" fill=\"none\" stroke=\"rgba(255,0,0,0.9412)\" stroke-miterlimit=\"10\"/>\n",
       "<circle cx=\"160.7723\" cy=\"23.469\" r=\"2.8346\" fill=\"none\" stroke=\"rgba(255,0,0,0.9412)\" stroke-miterlimit=\"10\"/>\n",
       "<circle cx=\"121.685\" cy=\"110.4968\" r=\"2.8346\" fill=\"none\" stroke=\"rgba(255,0,0,0.9412)\" stroke-miterlimit=\"10\"/>\n",
       "<circle cx=\"250.1645\" cy=\"260.6595\" r=\"2.8346\" fill=\"none\" stroke=\"rgba(255,0,0,0.9412)\" stroke-miterlimit=\"10\"/>\n",
       "<circle cx=\"250.1437\" cy=\"127.0764\" r=\"2.8346\" fill=\"none\" stroke=\"rgba(255,0,0,0.9412)\" stroke-miterlimit=\"10\"/>\n",
       "<circle cx=\"204.4766\" cy=\"211.5415\" r=\"2.8346\" fill=\"none\" stroke=\"rgba(255,0,0,0.9412)\" stroke-miterlimit=\"10\"/>\n",
       "<circle cx=\"13.0862\" cy=\"88.1295\" r=\"2.8346\" fill=\"none\" stroke=\"rgba(255,0,0,0.9412)\" stroke-miterlimit=\"10\"/>\n",
       "<circle cx=\"102.3925\" cy=\"79.3095\" r=\"2.8346\" fill=\"none\" stroke=\"rgba(255,0,0,0.9412)\" stroke-miterlimit=\"10\"/>\n",
       "<circle cx=\"221.344\" cy=\"277.2166\" r=\"2.8346\" fill=\"none\" stroke=\"rgba(255,0,0,0.9412)\" stroke-miterlimit=\"10\"/>\n",
       "<circle cx=\"177.1525\" cy=\"185.9565\" r=\"2.8346\" fill=\"none\" stroke=\"rgba(255,0,0,0.9412)\" stroke-miterlimit=\"10\"/>\n",
       "<circle cx=\"45.4875\" cy=\"96.3467\" r=\"2.8346\" fill=\"none\" stroke=\"rgba(255,0,0,0.9412)\" stroke-miterlimit=\"10\"/>\n",
       "<circle cx=\"38.5405\" cy=\"158.1121\" r=\"2.8346\" fill=\"none\" stroke=\"rgba(255,0,0,0.9412)\" stroke-miterlimit=\"10\"/>\n",
       "<circle cx=\"203.3568\" cy=\"98.4895\" r=\"2.8346\" fill=\"none\" stroke=\"rgba(255,0,0,0.9412)\" stroke-miterlimit=\"10\"/>\n",
       "<circle cx=\"89.5107\" cy=\"19.2694\" r=\"2.8346\" fill=\"none\" stroke=\"rgba(255,0,0,0.9412)\" stroke-miterlimit=\"10\"/>\n",
       "<circle cx=\"204.6728\" cy=\"168.9755\" r=\"2.8346\" fill=\"none\" stroke=\"rgba(255,0,0,0.9412)\" stroke-miterlimit=\"10\"/>\n",
       "<circle cx=\"170.5391\" cy=\"148.0994\" r=\"2.8346\" fill=\"none\" stroke=\"rgba(255,0,0,0.9412)\" stroke-miterlimit=\"10\"/>\n",
       "<circle cx=\"28.4448\" cy=\"116.4268\" r=\"2.8346\" fill=\"none\" stroke=\"rgba(255,0,0,0.9412)\" stroke-miterlimit=\"10\"/>\n",
       "<circle cx=\"150.619\" cy=\"89.147\" r=\"2.8346\" fill=\"none\" stroke=\"rgba(255,0,0,0.9412)\" stroke-miterlimit=\"10\"/>\n",
       "<circle cx=\"211.1106\" cy=\"279.5885\" r=\"2.8346\" fill=\"none\" stroke=\"rgba(255,0,0,0.9412)\" stroke-miterlimit=\"10\"/>\n",
       "<circle cx=\"91.8788\" cy=\"204.197\" r=\"2.8346\" fill=\"none\" stroke=\"rgba(255,0,0,0.9412)\" stroke-miterlimit=\"10\"/>\n",
       "<circle cx=\"17.5949\" cy=\"274.2811\" r=\"2.8346\" fill=\"none\" stroke=\"rgba(255,0,0,0.9412)\" stroke-miterlimit=\"10\"/>\n",
       "<circle cx=\"26.1533\" cy=\"220.8961\" r=\"2.8346\" fill=\"none\" stroke=\"rgba(255,0,0,0.9412)\" stroke-miterlimit=\"10\"/>\n",
       "<circle cx=\"269.9498\" cy=\"224.683\" r=\"2.8346\" fill=\"none\" stroke=\"rgba(255,0,0,0.9412)\" stroke-miterlimit=\"10\"/>\n",
       "<circle cx=\"161.0286\" cy=\"277.4445\" r=\"2.8346\" fill=\"none\" stroke=\"rgba(255,0,0,0.9412)\" stroke-miterlimit=\"10\"/>\n",
       "<circle cx=\"183.821\" cy=\"206.7717\" r=\"2.8346\" fill=\"none\" stroke=\"rgba(255,0,0,0.9412)\" stroke-miterlimit=\"10\"/>\n",
       "<circle cx=\"254.8437\" cy=\"100.2579\" r=\"2.8346\" fill=\"none\" stroke=\"rgba(255,0,0,0.9412)\" stroke-miterlimit=\"10\"/>\n",
       "<circle cx=\"148.782\" cy=\"255.9509\" r=\"2.8346\" fill=\"none\" stroke=\"rgba(255,0,0,0.9412)\" stroke-miterlimit=\"10\"/>\n",
       "<circle cx=\"267.3979\" cy=\"57.6058\" r=\"2.8346\" fill=\"none\" stroke=\"rgba(255,0,0,0.9412)\" stroke-miterlimit=\"10\"/>\n",
       "<circle cx=\"161.4859\" cy=\"4.9053\" r=\"2.8346\" fill=\"none\" stroke=\"rgba(255,0,0,0.9412)\" stroke-miterlimit=\"10\"/>\n",
       "<circle cx=\"7.5881\" cy=\"33.9279\" r=\"2.8346\" fill=\"none\" stroke=\"rgba(255,0,0,0.9412)\" stroke-miterlimit=\"10\"/>\n",
       "<circle cx=\"31.4173\" cy=\"53.9665\" r=\"2.8346\" fill=\"none\" stroke=\"rgba(255,0,0,0.9412)\" stroke-miterlimit=\"10\"/>\n",
       "<circle cx=\"264.1797\" cy=\"68.0814\" r=\"2.8346\" fill=\"none\" stroke=\"rgba(255,0,0,0.9412)\" stroke-miterlimit=\"10\"/>\n",
       "<circle cx=\"248.9667\" cy=\"189.0896\" r=\"2.8346\" fill=\"none\" stroke=\"rgba(255,0,0,0.9412)\" stroke-miterlimit=\"10\"/>\n",
       "<circle cx=\"59.102\" cy=\"93.2461\" r=\"2.8346\" fill=\"none\" stroke=\"rgba(255,0,0,0.9412)\" stroke-miterlimit=\"10\"/>\n",
       "<circle cx=\"138.4984\" cy=\"264.982\" r=\"2.8346\" fill=\"none\" stroke=\"rgba(255,0,0,0.9412)\" stroke-miterlimit=\"10\"/>\n",
       "<circle cx=\"281.3329\" cy=\"237.8988\" r=\"2.8346\" fill=\"none\" stroke=\"rgba(255,0,0,0.9412)\" stroke-miterlimit=\"10\"/>\n",
       "<circle cx=\"182.2211\" cy=\"192.9893\" r=\"2.8346\" fill=\"none\" stroke=\"rgba(255,0,0,0.9412)\" stroke-miterlimit=\"10\"/>\n",
       "<circle cx=\"269.1962\" cy=\"266.5988\" r=\"2.8346\" fill=\"none\" stroke=\"rgba(255,0,0,0.9412)\" stroke-miterlimit=\"10\"/>\n",
       "<circle cx=\"11.7701\" cy=\"275.7514\" r=\"2.8346\" fill=\"none\" stroke=\"rgba(255,0,0,0.9412)\" stroke-miterlimit=\"10\"/>\n",
       "<circle cx=\"239.7933\" cy=\"141.6998\" r=\"2.8346\" fill=\"none\" stroke=\"rgba(255,0,0,0.9412)\" stroke-miterlimit=\"10\"/>\n",
       "<circle cx=\"225.397\" cy=\"122.0395\" r=\"2.8346\" fill=\"none\" stroke=\"rgba(255,0,0,0.9412)\" stroke-miterlimit=\"10\"/>\n",
       "<circle cx=\"2.8916\" cy=\"97.2858\" r=\"2.8346\" fill=\"none\" stroke=\"rgba(255,0,0,0.9412)\" stroke-miterlimit=\"10\"/>\n",
       "<circle cx=\"174.5667\" cy=\"58.8962\" r=\"2.8346\" fill=\"none\" stroke=\"rgba(255,0,0,0.9412)\" stroke-miterlimit=\"10\"/>\n",
       "<circle cx=\"209.2921\" cy=\"238.8014\" r=\"2.8346\" fill=\"none\" stroke=\"rgba(255,0,0,0.9412)\" stroke-miterlimit=\"10\"/>\n",
       "<circle cx=\"163.8962\" cy=\"161.5464\" r=\"2.8346\" fill=\"none\" stroke=\"rgba(255,0,0,0.9412)\" stroke-miterlimit=\"10\"/>\n",
       "<circle cx=\"257.5834\" cy=\"242.2388\" r=\"2.8346\" fill=\"none\" stroke=\"rgba(255,0,0,0.9412)\" stroke-miterlimit=\"10\"/>\n",
       "<circle cx=\"274.2651\" cy=\"274.275\" r=\"2.8346\" fill=\"none\" stroke=\"rgba(255,0,0,0.9412)\" stroke-miterlimit=\"10\"/>\n",
       "<circle cx=\"107.5833\" cy=\"247.2021\" r=\"2.8346\" fill=\"none\" stroke=\"rgba(255,0,0,0.9412)\" stroke-miterlimit=\"10\"/>\n",
       "<circle cx=\"28.3595\" cy=\"48.3589\" r=\"2.8346\" fill=\"none\" stroke=\"rgba(255,0,0,0.9412)\" stroke-miterlimit=\"10\"/>\n",
       "<circle cx=\"7.0568\" cy=\"45.7353\" r=\"2.8346\" fill=\"none\" stroke=\"rgba(255,0,0,0.9412)\" stroke-miterlimit=\"10\"/>\n",
       "<circle cx=\"148.0662\" cy=\"168.7176\" r=\"2.8346\" fill=\"none\" stroke=\"rgba(255,0,0,0.9412)\" stroke-miterlimit=\"10\"/>\n",
       "<circle cx=\"108.1966\" cy=\"100.7425\" r=\"2.8346\" fill=\"none\" stroke=\"rgba(255,0,0,0.9412)\" stroke-miterlimit=\"10\"/>\n",
       "<circle cx=\"23.535\" cy=\"105.0567\" r=\"2.8346\" fill=\"none\" stroke=\"rgba(255,0,0,0.9412)\" stroke-miterlimit=\"10\"/>\n",
       "<circle cx=\"94.4081\" cy=\"246.2146\" r=\"2.8346\" fill=\"none\" stroke=\"rgba(255,0,0,0.9412)\" stroke-miterlimit=\"10\"/>\n",
       "<circle cx=\"265.958\" cy=\"44.2942\" r=\"2.8346\" fill=\"none\" stroke=\"rgba(255,0,0,0.9412)\" stroke-miterlimit=\"10\"/>\n",
       "<circle cx=\"216.7213\" cy=\"103.462\" r=\"2.8346\" fill=\"none\" stroke=\"rgba(255,0,0,0.9412)\" stroke-miterlimit=\"10\"/>\n",
       "<circle cx=\"205.0864\" cy=\"261.0077\" r=\"2.8346\" fill=\"none\" stroke=\"rgba(255,0,0,0.9412)\" stroke-miterlimit=\"10\"/>\n",
       "<circle cx=\"168.7951\" cy=\"172.3371\" r=\"2.8346\" fill=\"none\" stroke=\"rgba(255,0,0,0.9412)\" stroke-miterlimit=\"10\"/>\n",
       "<circle cx=\"189.7928\" cy=\"140.2765\" r=\"2.8346\" fill=\"none\" stroke=\"rgba(255,0,0,0.9412)\" stroke-miterlimit=\"10\"/>\n",
       "<circle cx=\"257.4721\" cy=\"249.3411\" r=\"2.8346\" fill=\"none\" stroke=\"rgba(255,0,0,0.9412)\" stroke-miterlimit=\"10\"/>\n",
       "<circle cx=\"13.5631\" cy=\"240.0739\" r=\"2.8346\" fill=\"none\" stroke=\"rgba(255,0,0,0.9412)\" stroke-miterlimit=\"10\"/>\n",
       "<circle cx=\"247.5331\" cy=\"80.0042\" r=\"2.8346\" fill=\"none\" stroke=\"rgba(255,0,0,0.9412)\" stroke-miterlimit=\"10\"/>\n",
       "<circle cx=\"270.7516\" cy=\"169.9885\" r=\"2.8346\" fill=\"none\" stroke=\"rgba(255,0,0,0.9412)\" stroke-miterlimit=\"10\"/>\n",
       "<circle cx=\"47.9236\" cy=\"99.4752\" r=\"2.8346\" fill=\"none\" stroke=\"rgba(255,0,0,0.9412)\" stroke-miterlimit=\"10\"/>\n",
       "<circle cx=\"47.672\" cy=\"133.7333\" r=\"2.8346\" fill=\"none\" stroke=\"rgba(255,0,0,0.9412)\" stroke-miterlimit=\"10\"/>\n",
       "<circle cx=\"3.0672\" cy=\"253.9573\" r=\"2.8346\" fill=\"none\" stroke=\"rgba(255,0,0,0.9412)\" stroke-miterlimit=\"10\"/>\n",
       "<circle cx=\"202.6699\" cy=\"26.7905\" r=\"2.8346\" fill=\"none\" stroke=\"rgba(255,0,0,0.9412)\" stroke-miterlimit=\"10\"/>\n",
       "<circle cx=\"241.018\" cy=\"98.9736\" r=\"2.8346\" fill=\"none\" stroke=\"rgba(255,0,0,0.9412)\" stroke-miterlimit=\"10\"/>\n",
       "<circle cx=\"66.7365\" cy=\"212.1065\" r=\"2.8346\" fill=\"none\" stroke=\"rgba(255,0,0,0.9412)\" stroke-miterlimit=\"10\"/>\n",
       "<circle cx=\"105.5395\" cy=\"227.5646\" r=\"2.8346\" fill=\"none\" stroke=\"rgba(255,0,0,0.9412)\" stroke-miterlimit=\"10\"/>\n",
       "<circle cx=\"63.9344\" cy=\"153.1428\" r=\"2.8346\" fill=\"none\" stroke=\"rgba(255,0,0,0.9412)\" stroke-miterlimit=\"10\"/>\n",
       "<circle cx=\"90.0324\" cy=\"67.1894\" r=\"2.8346\" fill=\"none\" stroke=\"rgba(255,0,0,0.9412)\" stroke-miterlimit=\"10\"/>\n",
       "<circle cx=\"276.5111\" cy=\"16.6024\" r=\"2.8346\" fill=\"none\" stroke=\"rgba(255,0,0,0.9412)\" stroke-miterlimit=\"10\"/>\n",
       "<circle cx=\"205.4063\" cy=\"78.8198\" r=\"2.8346\" fill=\"none\" stroke=\"rgba(255,0,0,0.9412)\" stroke-miterlimit=\"10\"/>\n",
       "<circle cx=\"250.9843\" cy=\"267.7983\" r=\"2.8346\" fill=\"none\" stroke=\"rgba(255,0,0,0.9412)\" stroke-miterlimit=\"10\"/>\n",
       "<circle cx=\"226.1715\" cy=\"177.3551\" r=\"2.8346\" fill=\"none\" stroke=\"rgba(255,0,0,0.9412)\" stroke-miterlimit=\"10\"/>\n",
       "<circle cx=\"104.5164\" cy=\"129.6078\" r=\"2.8346\" fill=\"none\" stroke=\"rgba(255,0,0,0.9412)\" stroke-miterlimit=\"10\"/>\n",
       "<circle cx=\"97.5809\" cy=\"103.6507\" r=\"2.8346\" fill=\"none\" stroke=\"rgba(255,0,0,0.9412)\" stroke-miterlimit=\"10\"/>\n",
       "<circle cx=\"31.4968\" cy=\"273.6347\" r=\"2.8346\" fill=\"none\" stroke=\"rgba(255,0,0,0.9412)\" stroke-miterlimit=\"10\"/>\n",
       "<circle cx=\"108.4547\" cy=\"227.2799\" r=\"2.8346\" fill=\"none\" stroke=\"rgba(255,0,0,0.9412)\" stroke-miterlimit=\"10\"/>\n",
       "<circle cx=\"151.4389\" cy=\"202.8974\" r=\"2.8346\" fill=\"none\" stroke=\"rgba(255,0,0,0.9412)\" stroke-miterlimit=\"10\"/>\n",
       "<circle cx=\"50.3731\" cy=\"185.0065\" r=\"2.8346\" fill=\"none\" stroke=\"rgba(255,0,0,0.9412)\" stroke-miterlimit=\"10\"/>\n",
       "<circle cx=\"16.959\" cy=\"68.3766\" r=\"2.8346\" fill=\"none\" stroke=\"rgba(255,0,0,0.9412)\" stroke-miterlimit=\"10\"/>\n",
       "<circle cx=\"23.5482\" cy=\"51.102\" r=\"2.8346\" fill=\"none\" stroke=\"rgba(255,0,0,0.9412)\" stroke-miterlimit=\"10\"/>\n",
       "<circle cx=\"75.5191\" cy=\"38.8407\" r=\"2.8346\" fill=\"none\" stroke=\"rgba(255,0,0,0.9412)\" stroke-miterlimit=\"10\"/>\n",
       "<circle cx=\"31.4372\" cy=\"118.8344\" r=\"2.8346\" fill=\"none\" stroke=\"rgba(255,0,0,0.9412)\" stroke-miterlimit=\"10\"/>\n",
       "<circle cx=\"247.6756\" cy=\"129.0915\" r=\"2.8346\" fill=\"none\" stroke=\"rgba(255,0,0,0.9412)\" stroke-miterlimit=\"10\"/>\n",
       "<circle cx=\"239.3385\" cy=\"271.8835\" r=\"2.8346\" fill=\"none\" stroke=\"rgba(255,0,0,0.9412)\" stroke-miterlimit=\"10\"/>\n",
       "<circle cx=\"133.3837\" cy=\"211.4683\" r=\"2.8346\" fill=\"none\" stroke=\"rgba(255,0,0,0.9412)\" stroke-miterlimit=\"10\"/>\n",
       "<circle cx=\"72.3966\" cy=\"195.3618\" r=\"2.8346\" fill=\"none\" stroke=\"rgba(255,0,0,0.9412)\" stroke-miterlimit=\"10\"/>\n",
       "<circle cx=\"179.0828\" cy=\"141.4315\" r=\"2.8346\" fill=\"none\" stroke=\"rgba(255,0,0,0.9412)\" stroke-miterlimit=\"10\"/>\n",
       "<circle cx=\"186.8389\" cy=\"114.1047\" r=\"2.8346\" fill=\"none\" stroke=\"rgba(255,0,0,0.9412)\" stroke-miterlimit=\"10\"/>\n",
       "<circle cx=\"153.4042\" cy=\"113.1362\" r=\"2.8346\" fill=\"none\" stroke=\"rgba(255,0,0,0.9412)\" stroke-miterlimit=\"10\"/>\n",
       "<circle cx=\"53.2779\" cy=\"30.9107\" r=\"2.8346\" fill=\"none\" stroke=\"rgba(255,0,0,0.9412)\" stroke-miterlimit=\"10\"/>\n",
       "<circle cx=\"263.4357\" cy=\"15.8046\" r=\"2.8346\" fill=\"none\" stroke=\"rgba(255,0,0,0.9412)\" stroke-miterlimit=\"10\"/>\n",
       "<circle cx=\"126.4235\" cy=\"85.5518\" r=\"2.8346\" fill=\"none\" stroke=\"rgba(255,0,0,0.9412)\" stroke-miterlimit=\"10\"/>\n",
       "<circle cx=\"62.5667\" cy=\"38.3766\" r=\"2.8346\" fill=\"none\" stroke=\"rgba(255,0,0,0.9412)\" stroke-miterlimit=\"10\"/>\n",
       "<circle cx=\"93.8322\" cy=\"149.6369\" r=\"2.8346\" fill=\"none\" stroke=\"rgba(255,0,0,0.9412)\" stroke-miterlimit=\"10\"/>\n",
       "<circle cx=\"268.3866\" cy=\"164.78\" r=\"2.8346\" fill=\"none\" stroke=\"rgba(255,0,0,0.9412)\" stroke-miterlimit=\"10\"/>\n",
       "<circle cx=\"245.1488\" cy=\"217.8455\" r=\"2.8346\" fill=\"none\" stroke=\"rgba(255,0,0,0.9412)\" stroke-miterlimit=\"10\"/>\n",
       "<circle cx=\"139.6304\" cy=\"21.3449\" r=\"2.8346\" fill=\"none\" stroke=\"rgba(255,0,0,0.9412)\" stroke-miterlimit=\"10\"/>\n",
       "<circle cx=\"53.165\" cy=\"197.5128\" r=\"2.8346\" fill=\"none\" stroke=\"rgba(255,0,0,0.9412)\" stroke-miterlimit=\"10\"/>\n",
       "<circle cx=\"225.6243\" cy=\"145.7612\" r=\"2.8346\" fill=\"none\" stroke=\"rgba(255,0,0,0.9412)\" stroke-miterlimit=\"10\"/>\n",
       "<circle cx=\"205.1471\" cy=\"37.5218\" r=\"2.8346\" fill=\"none\" stroke=\"rgba(255,0,0,0.9412)\" stroke-miterlimit=\"10\"/>\n",
       "<circle cx=\"115.2308\" cy=\"124.026\" r=\"2.8346\" fill=\"none\" stroke=\"rgba(255,0,0,0.9412)\" stroke-miterlimit=\"10\"/>\n",
       "<circle cx=\"244.9888\" cy=\"187.7328\" r=\"2.8346\" fill=\"none\" stroke=\"rgba(255,0,0,0.9412)\" stroke-miterlimit=\"10\"/>\n",
       "<circle cx=\"190.5868\" cy=\"152.83\" r=\"2.8346\" fill=\"none\" stroke=\"rgba(255,0,0,0.9412)\" stroke-miterlimit=\"10\"/>\n",
       "<circle cx=\"153.4679\" cy=\"95.2732\" r=\"2.8346\" fill=\"none\" stroke=\"rgba(255,0,0,0.9412)\" stroke-miterlimit=\"10\"/>\n",
       "<circle cx=\"190.9325\" cy=\"151.5718\" r=\"2.8346\" fill=\"none\" stroke=\"rgba(255,0,0,0.9412)\" stroke-miterlimit=\"10\"/>\n",
       "<circle cx=\"229.1895\" cy=\"132.2062\" r=\"2.8346\" fill=\"none\" stroke=\"rgba(255,0,0,0.9412)\" stroke-miterlimit=\"10\"/>\n",
       "<circle cx=\"265.0193\" cy=\"94.0886\" r=\"2.8346\" fill=\"none\" stroke=\"rgba(255,0,0,0.9412)\" stroke-miterlimit=\"10\"/>\n",
       "<circle cx=\"227.567\" cy=\"50.4644\" r=\"2.8346\" fill=\"none\" stroke=\"rgba(255,0,0,0.9412)\" stroke-miterlimit=\"10\"/>\n",
       "<circle cx=\"45.1116\" cy=\"58.6422\" r=\"2.8346\" fill=\"none\" stroke=\"rgba(255,0,0,0.9412)\" stroke-miterlimit=\"10\"/>\n",
       "<circle cx=\"132.7665\" cy=\"276.2082\" r=\"2.8346\" fill=\"none\" stroke=\"rgba(255,0,0,0.9412)\" stroke-miterlimit=\"10\"/>\n",
       "<circle cx=\"28.8792\" cy=\"183.3675\" r=\"2.8346\" fill=\"none\" stroke=\"rgba(255,0,0,0.9412)\" stroke-miterlimit=\"10\"/>\n",
       "<circle cx=\"197.7846\" cy=\"260.1666\" r=\"2.8346\" fill=\"none\" stroke=\"rgba(255,0,0,0.9412)\" stroke-miterlimit=\"10\"/>\n",
       "<circle cx=\"21.0165\" cy=\"119.7608\" r=\"2.8346\" fill=\"none\" stroke=\"rgba(255,0,0,0.9412)\" stroke-miterlimit=\"10\"/>\n",
       "<circle cx=\"8.3135\" cy=\"212.0728\" r=\"2.8346\" fill=\"none\" stroke=\"rgba(255,0,0,0.9412)\" stroke-miterlimit=\"10\"/>\n",
       "<circle cx=\"236.5242\" cy=\"118.5709\" r=\"2.8346\" fill=\"none\" stroke=\"rgba(255,0,0,0.9412)\" stroke-miterlimit=\"10\"/>\n",
       "<circle cx=\"226.221\" cy=\"146.3596\" r=\"2.8346\" fill=\"none\" stroke=\"rgba(255,0,0,0.9412)\" stroke-miterlimit=\"10\"/>\n",
       "<circle cx=\"11.8908\" cy=\"38.0836\" r=\"2.8346\" fill=\"none\" stroke=\"rgba(255,0,0,0.9412)\" stroke-miterlimit=\"10\"/>\n",
       "<circle cx=\"38.5067\" cy=\"220.9511\" r=\"2.8346\" fill=\"none\" stroke=\"rgba(255,0,0,0.9412)\" stroke-miterlimit=\"10\"/>\n",
       "<circle cx=\"203.5848\" cy=\"58.9156\" r=\"2.8346\" fill=\"none\" stroke=\"rgba(255,0,0,0.9412)\" stroke-miterlimit=\"10\"/>\n",
       "<circle cx=\"164.2756\" cy=\"156.0715\" r=\"2.8346\" fill=\"none\" stroke=\"rgba(255,0,0,0.9412)\" stroke-miterlimit=\"10\"/>\n",
       "<circle cx=\"62.4435\" cy=\"239.2374\" r=\"2.8346\" fill=\"none\" stroke=\"rgba(255,0,0,0.9412)\" stroke-miterlimit=\"10\"/>\n",
       "<circle cx=\"176.6968\" cy=\"102.8379\" r=\"2.8346\" fill=\"none\" stroke=\"rgba(255,0,0,0.9412)\" stroke-miterlimit=\"10\"/>\n",
       "<circle cx=\"255.8943\" cy=\"22.0841\" r=\"2.8346\" fill=\"none\" stroke=\"rgba(255,0,0,0.9412)\" stroke-miterlimit=\"10\"/>\n",
       "<circle cx=\"193.5914\" cy=\"184.0105\" r=\"2.8346\" fill=\"none\" stroke=\"rgba(255,0,0,0.9412)\" stroke-miterlimit=\"10\"/>\n",
       "<circle cx=\"72.1477\" cy=\"81.7434\" r=\"2.8346\" fill=\"none\" stroke=\"rgba(255,0,0,0.9412)\" stroke-miterlimit=\"10\"/>\n",
       "<circle cx=\"4.4481\" cy=\"61.1033\" r=\"2.8346\" fill=\"none\" stroke=\"rgba(255,0,0,0.9412)\" stroke-miterlimit=\"10\"/>\n",
       "<circle cx=\"77.442\" cy=\"139.9091\" r=\"2.8346\" fill=\"none\" stroke=\"rgba(255,0,0,0.9412)\" stroke-miterlimit=\"10\"/>\n",
       "<circle cx=\"169.9557\" cy=\"198.509\" r=\"2.8346\" fill=\"none\" stroke=\"rgba(255,0,0,0.9412)\" stroke-miterlimit=\"10\"/>\n",
       "<circle cx=\"55.7039\" cy=\"149.6434\" r=\"2.8346\" fill=\"none\" stroke=\"rgba(255,0,0,0.9412)\" stroke-miterlimit=\"10\"/>\n",
       "<circle cx=\"84.1036\" cy=\"178.7646\" r=\"2.8346\" fill=\"none\" stroke=\"rgba(255,0,0,0.9412)\" stroke-miterlimit=\"10\"/>\n",
       "<circle cx=\"164.5136\" cy=\"188.2619\" r=\"2.8346\" fill=\"none\" stroke=\"rgba(255,0,0,0.9412)\" stroke-miterlimit=\"10\"/>\n",
       "<circle cx=\"155.0815\" cy=\"6.4306\" r=\"2.8346\" fill=\"none\" stroke=\"rgba(255,0,0,0.9412)\" stroke-miterlimit=\"10\"/>\n",
       "<circle cx=\"166.6117\" cy=\"199.7292\" r=\"2.8346\" fill=\"none\" stroke=\"rgba(255,0,0,0.9412)\" stroke-miterlimit=\"10\"/>\n",
       "<circle cx=\"185.5045\" cy=\"166.7926\" r=\"2.8346\" fill=\"none\" stroke=\"rgba(255,0,0,0.9412)\" stroke-miterlimit=\"10\"/>\n",
       "<circle cx=\"147.3978\" cy=\"107.8356\" r=\"2.8346\" fill=\"none\" stroke=\"rgba(255,0,0,0.9412)\" stroke-miterlimit=\"10\"/>\n",
       "<circle cx=\"232.9139\" cy=\"219.955\" r=\"2.8346\" fill=\"none\" stroke=\"rgba(255,0,0,0.9412)\" stroke-miterlimit=\"10\"/>\n",
       "<circle cx=\"81.0245\" cy=\"73.8156\" r=\"2.8346\" fill=\"none\" stroke=\"rgba(255,0,0,0.9412)\" stroke-miterlimit=\"10\"/>\n",
       "<circle cx=\"259.5804\" cy=\"222.3945\" r=\"2.8346\" fill=\"none\" stroke=\"rgba(255,0,0,0.9412)\" stroke-miterlimit=\"10\"/>\n",
       "<circle cx=\"124.5513\" cy=\"126.8297\" r=\"2.8346\" fill=\"none\" stroke=\"rgba(255,0,0,0.9412)\" stroke-miterlimit=\"10\"/>\n",
       "<circle cx=\"143.7371\" cy=\"159.614\" r=\"2.8346\" fill=\"none\" stroke=\"rgba(255,0,0,0.9412)\" stroke-miterlimit=\"10\"/>\n",
       "<circle cx=\"166.4574\" cy=\"111.0654\" r=\"2.8346\" fill=\"none\" stroke=\"rgba(255,0,0,0.9412)\" stroke-miterlimit=\"10\"/>\n",
       "<circle cx=\"54.4052\" cy=\"210.3087\" r=\"2.8346\" fill=\"none\" stroke=\"rgba(255,0,0,0.9412)\" stroke-miterlimit=\"10\"/>\n",
       "<circle cx=\"169.8089\" cy=\"62.152\" r=\"2.8346\" fill=\"none\" stroke=\"rgba(255,0,0,0.9412)\" stroke-miterlimit=\"10\"/>\n",
       "<circle cx=\"37.8421\" cy=\"36.1944\" r=\"2.8346\" fill=\"none\" stroke=\"rgba(255,0,0,0.9412)\" stroke-miterlimit=\"10\"/>\n",
       "<circle cx=\"86.3382\" cy=\"268.2133\" r=\"2.8346\" fill=\"none\" stroke=\"rgba(255,0,0,0.9412)\" stroke-miterlimit=\"10\"/>\n",
       "<circle cx=\"252.7665\" cy=\"102.8405\" r=\"2.8346\" fill=\"none\" stroke=\"rgba(255,0,0,0.9412)\" stroke-miterlimit=\"10\"/>\n",
       "<circle cx=\"256.608\" cy=\"20.2508\" r=\"2.8346\" fill=\"none\" stroke=\"rgba(255,0,0,0.9412)\" stroke-miterlimit=\"10\"/>\n",
       "<circle cx=\"279.9116\" cy=\"251.2516\" r=\"2.8346\" fill=\"none\" stroke=\"rgba(255,0,0,0.9412)\" stroke-miterlimit=\"10\"/>\n",
       "<circle cx=\"42.3039\" cy=\"164.8786\" r=\"2.8346\" fill=\"none\" stroke=\"rgba(255,0,0,0.9412)\" stroke-miterlimit=\"10\"/>\n",
       "<circle cx=\"279.198\" cy=\"92.304\" r=\"2.8346\" fill=\"none\" stroke=\"rgba(255,0,0,0.9412)\" stroke-miterlimit=\"10\"/>\n",
       "<circle cx=\"202.2974\" cy=\"88.6801\" r=\"2.8346\" fill=\"none\" stroke=\"rgba(255,0,0,0.9412)\" stroke-miterlimit=\"10\"/>\n",
       "<circle cx=\"120.1736\" cy=\"75.5289\" r=\"2.8346\" fill=\"none\" stroke=\"rgba(255,0,0,0.9412)\" stroke-miterlimit=\"10\"/>\n",
       "<circle cx=\"183.3309\" cy=\"251.8809\" r=\"2.8346\" fill=\"none\" stroke=\"rgba(255,0,0,0.9412)\" stroke-miterlimit=\"10\"/>\n",
       "<circle cx=\"151.201\" cy=\"96.524\" r=\"2.8346\" fill=\"none\" stroke=\"rgba(255,0,0,0.9412)\" stroke-miterlimit=\"10\"/>\n",
       "<circle cx=\"31.1764\" cy=\"35.0238\" r=\"2.8346\" fill=\"none\" stroke=\"rgba(255,0,0,0.9412)\" stroke-miterlimit=\"10\"/>\n",
       "<circle cx=\"145.2354\" cy=\"268.8884\" r=\"2.8346\" fill=\"none\" stroke=\"rgba(255,0,0,0.9412)\" stroke-miterlimit=\"10\"/>\n",
       "<circle cx=\"264.5571\" cy=\"86.8859\" r=\"2.8346\" fill=\"none\" stroke=\"rgba(255,0,0,0.9412)\" stroke-miterlimit=\"10\"/>\n",
       "<circle cx=\"34.6822\" cy=\"186.0808\" r=\"2.8346\" fill=\"none\" stroke=\"rgba(255,0,0,0.9412)\" stroke-miterlimit=\"10\"/>\n",
       "<circle cx=\"257.5362\" cy=\"241.6326\" r=\"2.8346\" fill=\"none\" stroke=\"rgba(255,0,0,0.9412)\" stroke-miterlimit=\"10\"/>\n",
       "<circle cx=\"167.8157\" cy=\"251.6463\" r=\"2.8346\" fill=\"none\" stroke=\"rgba(255,0,0,0.9412)\" stroke-miterlimit=\"10\"/>\n",
       "<circle cx=\"184.2815\" cy=\"159.732\" r=\"2.8346\" fill=\"none\" stroke=\"rgba(255,0,0,0.9412)\" stroke-miterlimit=\"10\"/>\n",
       "<circle cx=\"243.5683\" cy=\"242.471\" r=\"2.8346\" fill=\"none\" stroke=\"rgba(255,0,0,0.9412)\" stroke-miterlimit=\"10\"/>\n",
       "<circle cx=\"27.1711\" cy=\"12.9867\" r=\"2.8346\" fill=\"none\" stroke=\"rgba(255,0,0,0.9412)\" stroke-miterlimit=\"10\"/>\n",
       "<circle cx=\"248.18\" cy=\"270.4264\" r=\"2.8346\" fill=\"none\" stroke=\"rgba(255,0,0,0.9412)\" stroke-miterlimit=\"10\"/>\n",
       "<circle cx=\"234.9627\" cy=\"111.7202\" r=\"2.8346\" fill=\"none\" stroke=\"rgba(255,0,0,0.9412)\" stroke-miterlimit=\"10\"/>\n",
       "<circle cx=\"282.7603\" cy=\"16.9346\" r=\"2.8346\" fill=\"none\" stroke=\"rgba(255,0,0,0.9412)\" stroke-miterlimit=\"10\"/>\n",
       "<circle cx=\"95.7041\" cy=\"25.1498\" r=\"2.8346\" fill=\"none\" stroke=\"rgba(255,0,0,0.9412)\" stroke-miterlimit=\"10\"/>\n",
       "<circle cx=\"215.0062\" cy=\"183.7081\" r=\"2.8346\" fill=\"none\" stroke=\"rgba(255,0,0,0.9412)\" stroke-miterlimit=\"10\"/>\n",
       "<circle cx=\"81.8374\" cy=\"144.9312\" r=\"2.8346\" fill=\"none\" stroke=\"rgba(255,0,0,0.9412)\" stroke-miterlimit=\"10\"/>\n",
       "<circle cx=\"25.1465\" cy=\"49.7787\" r=\"2.8346\" fill=\"none\" stroke=\"rgba(255,0,0,0.9412)\" stroke-miterlimit=\"10\"/>\n",
       "<circle cx=\"24.033\" cy=\"78.7754\" r=\"2.8346\" fill=\"none\" stroke=\"rgba(255,0,0,0.9412)\" stroke-miterlimit=\"10\"/>\n",
       "<circle cx=\"135.1404\" cy=\"117.4836\" r=\"2.8346\" fill=\"none\" stroke=\"rgba(255,0,0,0.9412)\" stroke-miterlimit=\"10\"/>\n",
       "<circle cx=\"83.3054\" cy=\"267.7854\" r=\"2.8346\" fill=\"none\" stroke=\"rgba(255,0,0,0.9412)\" stroke-miterlimit=\"10\"/>\n",
       "<circle cx=\"89.6087\" cy=\"120.0923\" r=\"2.8346\" fill=\"none\" stroke=\"rgba(255,0,0,0.9412)\" stroke-miterlimit=\"10\"/>\n",
       "<circle cx=\"39.8027\" cy=\"60.7911\" r=\"2.8346\" fill=\"none\" stroke=\"rgba(255,0,0,0.9412)\" stroke-miterlimit=\"10\"/>\n",
       "<circle cx=\"239.0347\" cy=\"108.7158\" r=\"2.8346\" fill=\"none\" stroke=\"rgba(255,0,0,0.9412)\" stroke-miterlimit=\"10\"/>\n",
       "<circle cx=\"150.0126\" cy=\"115.0042\" r=\"2.8346\" fill=\"none\" stroke=\"rgba(255,0,0,0.9412)\" stroke-miterlimit=\"10\"/>\n",
       "<circle cx=\"13.171\" cy=\"279.3322\" r=\"2.8346\" fill=\"none\" stroke=\"rgba(255,0,0,0.9412)\" stroke-miterlimit=\"10\"/>\n",
       "<circle cx=\"40.7016\" cy=\"18.6936\" r=\"2.8346\" fill=\"none\" stroke=\"rgba(255,0,0,0.9412)\" stroke-miterlimit=\"10\"/>\n",
       "<circle cx=\"25.5373\" cy=\"217.6987\" r=\"2.8346\" fill=\"none\" stroke=\"rgba(255,0,0,0.9412)\" stroke-miterlimit=\"10\"/>\n",
       "<circle cx=\"186.9377\" cy=\"61.3443\" r=\"2.8346\" fill=\"none\" stroke=\"rgba(255,0,0,0.9412)\" stroke-miterlimit=\"10\"/>\n",
       "<circle cx=\"77.4816\" cy=\"25.8285\" r=\"2.8346\" fill=\"none\" stroke=\"rgba(255,0,0,0.9412)\" stroke-miterlimit=\"10\"/>\n",
       "<circle cx=\"226.7745\" cy=\"45.0299\" r=\"2.8346\" fill=\"none\" stroke=\"rgba(255,0,0,0.9412)\" stroke-miterlimit=\"10\"/>\n",
       "<circle cx=\"219.0515\" cy=\"82.6376\" r=\"2.8346\" fill=\"none\" stroke=\"rgba(255,0,0,0.9412)\" stroke-miterlimit=\"10\"/>\n",
       "<circle cx=\"242.8449\" cy=\"166.5666\" r=\"2.8346\" fill=\"none\" stroke=\"rgba(255,0,0,0.9412)\" stroke-miterlimit=\"10\"/>\n",
       "<circle cx=\"56.7055\" cy=\"258.5398\" r=\"2.8346\" fill=\"none\" stroke=\"rgba(255,0,0,0.9412)\" stroke-miterlimit=\"10\"/>\n",
       "<circle cx=\"43.776\" cy=\"25.8088\" r=\"2.8346\" fill=\"none\" stroke=\"rgba(255,0,0,0.9412)\" stroke-miterlimit=\"10\"/>\n",
       "<circle cx=\"107.9249\" cy=\"119.9699\" r=\"2.8346\" fill=\"none\" stroke=\"rgba(255,0,0,0.9412)\" stroke-miterlimit=\"10\"/>\n",
       "<circle cx=\"23.0962\" cy=\"244.0228\" r=\"2.8346\" fill=\"none\" stroke=\"rgba(255,0,0,0.9412)\" stroke-miterlimit=\"10\"/>\n",
       "<circle cx=\"244.9356\" cy=\"132.6541\" r=\"2.8346\" fill=\"none\" stroke=\"rgba(255,0,0,0.9412)\" stroke-miterlimit=\"10\"/>\n",
       "<circle cx=\"197.4088\" cy=\"105.4376\" r=\"2.8346\" fill=\"none\" stroke=\"rgba(255,0,0,0.9412)\" stroke-miterlimit=\"10\"/>\n",
       "<circle cx=\"9.8371\" cy=\"127.6692\" r=\"2.8346\" fill=\"none\" stroke=\"rgba(255,0,0,0.9412)\" stroke-miterlimit=\"10\"/>\n",
       "<circle cx=\"197.1565\" cy=\"56.6316\" r=\"2.8346\" fill=\"none\" stroke=\"rgba(255,0,0,0.9412)\" stroke-miterlimit=\"10\"/>\n",
       "<circle cx=\"78.2304\" cy=\"159.6754\" r=\"2.8346\" fill=\"none\" stroke=\"rgba(255,0,0,0.9412)\" stroke-miterlimit=\"10\"/>\n",
       "<circle cx=\"188.8272\" cy=\"247.5008\" r=\"2.8346\" fill=\"none\" stroke=\"rgba(255,0,0,0.9412)\" stroke-miterlimit=\"10\"/>\n",
       "<circle cx=\"188.0246\" cy=\"41.8342\" r=\"2.8346\" fill=\"none\" stroke=\"rgba(255,0,0,0.9412)\" stroke-miterlimit=\"10\"/>\n",
       "<circle cx=\"93.1613\" cy=\"55.3017\" r=\"2.8346\" fill=\"none\" stroke=\"rgba(255,0,0,0.9412)\" stroke-miterlimit=\"10\"/>\n",
       "<circle cx=\"227.578\" cy=\"274.3153\" r=\"2.8346\" fill=\"none\" stroke=\"rgba(255,0,0,0.9412)\" stroke-miterlimit=\"10\"/>\n",
       "<circle cx=\"112.9686\" cy=\"240.0457\" r=\"2.8346\" fill=\"none\" stroke=\"rgba(255,0,0,0.9412)\" stroke-miterlimit=\"10\"/>\n",
       "<circle cx=\"76.2002\" cy=\"42.7268\" r=\"2.8346\" fill=\"none\" stroke=\"rgba(255,0,0,0.9412)\" stroke-miterlimit=\"10\"/>\n",
       "<circle cx=\"78.8707\" cy=\"141.4149\" r=\"2.8346\" fill=\"none\" stroke=\"rgba(255,0,0,0.9412)\" stroke-miterlimit=\"10\"/>\n",
       "<circle cx=\"88.1603\" cy=\"137.1548\" r=\"2.8346\" fill=\"none\" stroke=\"rgba(255,0,0,0.9412)\" stroke-miterlimit=\"10\"/>\n",
       "<circle cx=\"283.4477\" cy=\"273.0153\" r=\"2.8346\" fill=\"none\" stroke=\"rgba(255,0,0,0.9412)\" stroke-miterlimit=\"10\"/>\n",
       "<circle cx=\"219.5139\" cy=\"96.7118\" r=\"2.8346\" fill=\"none\" stroke=\"rgba(255,0,0,0.9412)\" stroke-miterlimit=\"10\"/>\n",
       "<circle cx=\"110.68\" cy=\"143.8953\" r=\"2.8346\" fill=\"none\" stroke=\"rgba(255,0,0,0.9412)\" stroke-miterlimit=\"10\"/>\n",
       "<circle cx=\"92.6669\" cy=\"56.2069\" r=\"2.8346\" fill=\"none\" stroke=\"rgba(255,0,0,0.9412)\" stroke-miterlimit=\"10\"/>\n",
       "<circle cx=\"197.1396\" cy=\"53.2087\" r=\"2.8346\" fill=\"none\" stroke=\"rgba(255,0,0,0.9412)\" stroke-miterlimit=\"10\"/>\n",
       "<circle cx=\"58.6107\" cy=\"35.7934\" r=\"2.8346\" fill=\"none\" stroke=\"rgba(255,0,0,0.9412)\" stroke-miterlimit=\"10\"/>\n",
       "<circle cx=\"214.738\" cy=\"68.4424\" r=\"2.8346\" fill=\"none\" stroke=\"rgba(255,0,0,0.9412)\" stroke-miterlimit=\"10\"/>\n",
       "<circle cx=\"75.8961\" cy=\"243.2781\" r=\"2.8346\" fill=\"none\" stroke=\"rgba(255,0,0,0.9412)\" stroke-miterlimit=\"10\"/>\n",
       "<circle cx=\"202.5934\" cy=\"130.464\" r=\"2.8346\" fill=\"none\" stroke=\"rgba(255,0,0,0.9412)\" stroke-miterlimit=\"10\"/>\n",
       "<circle cx=\"107.0879\" cy=\"112.0171\" r=\"2.8346\" fill=\"none\" stroke=\"rgba(255,0,0,0.9412)\" stroke-miterlimit=\"10\"/>\n",
       "<circle cx=\"40.0917\" cy=\"128.3105\" r=\"2.8346\" fill=\"none\" stroke=\"rgba(255,0,0,0.9412)\" stroke-miterlimit=\"10\"/>\n",
       "<circle cx=\"132.3277\" cy=\"22.0525\" r=\"2.8346\" fill=\"none\" stroke=\"rgba(255,0,0,0.9412)\" stroke-miterlimit=\"10\"/>\n",
       "<circle cx=\"254.3016\" cy=\"106.997\" r=\"2.8346\" fill=\"none\" stroke=\"rgba(255,0,0,0.9412)\" stroke-miterlimit=\"10\"/>\n",
       "<circle cx=\"221.2809\" cy=\"94.5491\" r=\"2.8346\" fill=\"none\" stroke=\"rgba(255,0,0,0.9412)\" stroke-miterlimit=\"10\"/>\n",
       "<circle cx=\"69.3661\" cy=\"31.4217\" r=\"2.8346\" fill=\"none\" stroke=\"rgba(255,0,0,0.9412)\" stroke-miterlimit=\"10\"/>\n",
       "<circle cx=\"168.9768\" cy=\"248.6099\" r=\"2.8346\" fill=\"none\" stroke=\"rgba(255,0,0,0.9412)\" stroke-miterlimit=\"10\"/>\n",
       "<circle cx=\"228.1184\" cy=\"245.908\" r=\"2.8346\" fill=\"none\" stroke=\"rgba(255,0,0,0.9412)\" stroke-miterlimit=\"10\"/>\n",
       "<circle cx=\"164.4988\" cy=\"126.1717\" r=\"2.8346\" fill=\"none\" stroke=\"rgba(255,0,0,0.9412)\" stroke-miterlimit=\"10\"/>\n",
       "<circle cx=\"189.4329\" cy=\"232.0247\" r=\"2.8346\" fill=\"none\" stroke=\"rgba(255,0,0,0.9412)\" stroke-miterlimit=\"10\"/>\n",
       "<circle cx=\"258.7565\" cy=\"106.8687\" r=\"2.8346\" fill=\"none\" stroke=\"rgba(255,0,0,0.9412)\" stroke-miterlimit=\"10\"/>\n",
       "<circle cx=\"65.4296\" cy=\"68.5919\" r=\"2.8346\" fill=\"none\" stroke=\"rgba(255,0,0,0.9412)\" stroke-miterlimit=\"10\"/>\n",
       "<circle cx=\"210.9477\" cy=\"26.075\" r=\"2.8346\" fill=\"none\" stroke=\"rgba(255,0,0,0.9412)\" stroke-miterlimit=\"10\"/>\n",
       "<circle cx=\"261.4524\" cy=\"44.8415\" r=\"2.8346\" fill=\"none\" stroke=\"rgba(255,0,0,0.9412)\" stroke-miterlimit=\"10\"/>\n",
       "<circle cx=\"39.551\" cy=\"125.8878\" r=\"2.8346\" fill=\"none\" stroke=\"rgba(255,0,0,0.9412)\" stroke-miterlimit=\"10\"/>\n",
       "<circle cx=\"282.6185\" cy=\"244.252\" r=\"2.8346\" fill=\"none\" stroke=\"rgba(255,0,0,0.9412)\" stroke-miterlimit=\"10\"/>\n",
       "<circle cx=\"140.7599\" cy=\"249.8628\" r=\"2.8346\" fill=\"none\" stroke=\"rgba(255,0,0,0.9412)\" stroke-miterlimit=\"10\"/>\n",
       "<circle cx=\"49.9828\" cy=\"275.8271\" r=\"2.8346\" fill=\"none\" stroke=\"rgba(255,0,0,0.9412)\" stroke-miterlimit=\"10\"/>\n",
       "<circle cx=\"100.001\" cy=\"107.336\" r=\"2.8346\" fill=\"none\" stroke=\"rgba(255,0,0,0.9412)\" stroke-miterlimit=\"10\"/>\n",
       "<circle cx=\"266.2662\" cy=\"101.6227\" r=\"2.8346\" fill=\"none\" stroke=\"rgba(255,0,0,0.9412)\" stroke-miterlimit=\"10\"/>\n",
       "<circle cx=\"258.9568\" cy=\"148.4732\" r=\"2.8346\" fill=\"none\" stroke=\"rgba(255,0,0,0.9412)\" stroke-miterlimit=\"10\"/>\n",
       "<circle cx=\"7.4257\" cy=\"131.0554\" r=\"2.8346\" fill=\"none\" stroke=\"rgba(255,0,0,0.9412)\" stroke-miterlimit=\"10\"/>\n",
       "<circle cx=\"127.948\" cy=\"43.0195\" r=\"2.8346\" fill=\"none\" stroke=\"rgba(255,0,0,0.9412)\" stroke-miterlimit=\"10\"/>\n",
       "<circle cx=\"100.7718\" cy=\"234.3655\" r=\"2.8346\" fill=\"none\" stroke=\"rgba(255,0,0,0.9412)\" stroke-miterlimit=\"10\"/>\n",
       "<circle cx=\"25.6913\" cy=\"6.095\" r=\"2.8346\" fill=\"none\" stroke=\"rgba(255,0,0,0.9412)\" stroke-miterlimit=\"10\"/>\n",
       "<circle cx=\"149.9232\" cy=\"71.1386\" r=\"2.8346\" fill=\"none\" stroke=\"rgba(255,0,0,0.9412)\" stroke-miterlimit=\"10\"/>\n",
       "<circle cx=\"134.6207\" cy=\"208.2967\" r=\"2.8346\" fill=\"none\" stroke=\"rgba(255,0,0,0.9412)\" stroke-miterlimit=\"10\"/>\n",
       "<circle cx=\"246.6352\" cy=\"268.2128\" r=\"2.8346\" fill=\"none\" stroke=\"rgba(255,0,0,0.9412)\" stroke-miterlimit=\"10\"/>\n",
       "<circle cx=\"176.6414\" cy=\"120.8974\" r=\"2.8346\" fill=\"none\" stroke=\"rgba(255,0,0,0.9412)\" stroke-miterlimit=\"10\"/>\n",
       "<circle cx=\"199.9997\" cy=\"40.4184\" r=\"2.8346\" fill=\"none\" stroke=\"rgba(255,0,0,0.9412)\" stroke-miterlimit=\"10\"/>\n",
       "<circle cx=\"223.0976\" cy=\"262.9532\" r=\"2.8346\" fill=\"none\" stroke=\"rgba(255,0,0,0.9412)\" stroke-miterlimit=\"10\"/>\n",
       "<circle cx=\"206.5927\" cy=\"262.2967\" r=\"2.8346\" fill=\"none\" stroke=\"rgba(255,0,0,0.9412)\" stroke-miterlimit=\"10\"/>\n",
       "<circle cx=\"73.1918\" cy=\"141.9688\" r=\"2.8346\" fill=\"none\" stroke=\"rgba(255,0,0,0.9412)\" stroke-miterlimit=\"10\"/>\n",
       "<circle cx=\"166.0178\" cy=\"35.3155\" r=\"2.8346\" fill=\"none\" stroke=\"rgba(255,0,0,0.9412)\" stroke-miterlimit=\"10\"/>\n",
       "<circle cx=\"213.9494\" cy=\"84.8077\" r=\"2.8346\" fill=\"none\" stroke=\"rgba(255,0,0,0.9412)\" stroke-miterlimit=\"10\"/>\n",
       "<circle cx=\"4.9337\" cy=\"233.2842\" r=\"2.8346\" fill=\"none\" stroke=\"rgba(255,0,0,0.9412)\" stroke-miterlimit=\"10\"/>\n",
       "<circle cx=\"208.4867\" cy=\"271.7298\" r=\"2.8346\" fill=\"none\" stroke=\"rgba(255,0,0,0.9412)\" stroke-miterlimit=\"10\"/>\n",
       "<circle cx=\"78.9945\" cy=\"77.1399\" r=\"2.8346\" fill=\"none\" stroke=\"rgba(255,0,0,0.9412)\" stroke-miterlimit=\"10\"/>\n",
       "<circle cx=\"183.2318\" cy=\"108.4523\" r=\"2.8346\" fill=\"none\" stroke=\"rgba(255,0,0,0.9412)\" stroke-miterlimit=\"10\"/>\n",
       "<circle cx=\"172.9975\" cy=\"66.9802\" r=\"2.8346\" fill=\"none\" stroke=\"rgba(255,0,0,0.9412)\" stroke-miterlimit=\"10\"/>\n",
       "<circle cx=\"235.3226\" cy=\"155.985\" r=\"2.8346\" fill=\"none\" stroke=\"rgba(255,0,0,0.9412)\" stroke-miterlimit=\"10\"/>\n",
       "<circle cx=\"70.3138\" cy=\"272.7861\" r=\"2.8346\" fill=\"none\" stroke=\"rgba(255,0,0,0.9412)\" stroke-miterlimit=\"10\"/>\n",
       "<circle cx=\"40.4309\" cy=\"52.2414\" r=\"2.8346\" fill=\"none\" stroke=\"rgba(255,0,0,0.9412)\" stroke-miterlimit=\"10\"/>\n",
       "<circle cx=\"247.9005\" cy=\"142.9323\" r=\"2.8346\" fill=\"none\" stroke=\"rgba(255,0,0,0.9412)\" stroke-miterlimit=\"10\"/>\n",
       "<circle cx=\"201.2819\" cy=\"93.1219\" r=\"2.8346\" fill=\"none\" stroke=\"rgba(255,0,0,0.9412)\" stroke-miterlimit=\"10\"/>\n",
       "<circle cx=\"179.2501\" cy=\"180.1228\" r=\"2.8346\" fill=\"none\" stroke=\"rgba(255,0,0,0.9412)\" stroke-miterlimit=\"10\"/>\n",
       "<circle cx=\"90.6315\" cy=\"275.871\" r=\"2.8346\" fill=\"none\" stroke=\"rgba(255,0,0,0.9412)\" stroke-miterlimit=\"10\"/>\n",
       "<circle cx=\"139.3283\" cy=\"182.2876\" r=\"2.8346\" fill=\"none\" stroke=\"rgba(255,0,0,0.9412)\" stroke-miterlimit=\"10\"/>\n",
       "<circle cx=\"232.5153\" cy=\"247.9453\" r=\"2.8346\" fill=\"none\" stroke=\"rgba(255,0,0,0.9412)\" stroke-miterlimit=\"10\"/>\n",
       "<circle cx=\"70.5002\" cy=\"47.9914\" r=\"2.8346\" fill=\"none\" stroke=\"rgba(255,0,0,0.9412)\" stroke-miterlimit=\"10\"/>\n",
       "<circle cx=\"149.5334\" cy=\"192.2887\" r=\"2.8346\" fill=\"none\" stroke=\"rgba(255,0,0,0.9412)\" stroke-miterlimit=\"10\"/>\n",
       "<circle cx=\"123.0864\" cy=\"280.0605\" r=\"2.8346\" fill=\"none\" stroke=\"rgba(255,0,0,0.9412)\" stroke-miterlimit=\"10\"/>\n",
       "<circle cx=\"117.1098\" cy=\"55.9189\" r=\"2.8346\" fill=\"none\" stroke=\"rgba(255,0,0,0.9412)\" stroke-miterlimit=\"10\"/>\n",
       "<circle cx=\"36.594\" cy=\"196.9058\" r=\"2.8346\" fill=\"none\" stroke=\"rgba(255,0,0,0.9412)\" stroke-miterlimit=\"10\"/>\n",
       "<circle cx=\"79.0896\" cy=\"162.0916\" r=\"2.8346\" fill=\"none\" stroke=\"rgba(255,0,0,0.9412)\" stroke-miterlimit=\"10\"/>\n",
       "<circle cx=\"131.6457\" cy=\"138.7696\" r=\"2.8346\" fill=\"none\" stroke=\"rgba(255,0,0,0.9412)\" stroke-miterlimit=\"10\"/>\n",
       "<circle cx=\"53.8004\" cy=\"56.2279\" r=\"2.8346\" fill=\"none\" stroke=\"rgba(255,0,0,0.9412)\" stroke-miterlimit=\"10\"/>\n",
       "<circle cx=\"45.1527\" cy=\"78.2799\" r=\"2.8346\" fill=\"none\" stroke=\"rgba(255,0,0,0.9412)\" stroke-miterlimit=\"10\"/>\n",
       "<circle cx=\"229.214\" cy=\"118.9477\" r=\"2.8346\" fill=\"none\" stroke=\"rgba(255,0,0,0.9412)\" stroke-miterlimit=\"10\"/>\n",
       "<circle cx=\"130.2719\" cy=\"149.3937\" r=\"2.8346\" fill=\"none\" stroke=\"rgba(255,0,0,0.9412)\" stroke-miterlimit=\"10\"/>\n",
       "<circle cx=\"282.6993\" cy=\"251.0967\" r=\"2.8346\" fill=\"none\" stroke=\"rgba(255,0,0,0.9412)\" stroke-miterlimit=\"10\"/>\n",
       "<circle cx=\"122.5941\" cy=\"240.9039\" r=\"2.8346\" fill=\"none\" stroke=\"rgba(255,0,0,0.9412)\" stroke-miterlimit=\"10\"/>\n",
       "<circle cx=\"192.6674\" cy=\"106.5081\" r=\"2.8346\" fill=\"none\" stroke=\"rgba(255,0,0,0.9412)\" stroke-miterlimit=\"10\"/>\n",
       "<circle cx=\"82.518\" cy=\"173.6033\" r=\"2.8346\" fill=\"none\" stroke=\"rgba(255,0,0,0.9412)\" stroke-miterlimit=\"10\"/>\n",
       "<circle cx=\"179.688\" cy=\"59.0321\" r=\"2.8346\" fill=\"none\" stroke=\"rgba(255,0,0,0.9412)\" stroke-miterlimit=\"10\"/>\n",
       "<circle cx=\"202.8797\" cy=\"135.8511\" r=\"2.8346\" fill=\"none\" stroke=\"rgba(255,0,0,0.9412)\" stroke-miterlimit=\"10\"/>\n",
       "<circle cx=\"81.7008\" cy=\"114.9462\" r=\"2.8346\" fill=\"none\" stroke=\"rgba(255,0,0,0.9412)\" stroke-miterlimit=\"10\"/>\n",
       "<circle cx=\"104.9432\" cy=\"195.8405\" r=\"2.8346\" fill=\"none\" stroke=\"rgba(255,0,0,0.9412)\" stroke-miterlimit=\"10\"/>\n",
       "<circle cx=\"8.3868\" cy=\"17.1287\" r=\"2.8346\" fill=\"none\" stroke=\"rgba(255,0,0,0.9412)\" stroke-miterlimit=\"10\"/>\n",
       "<circle cx=\"169.4197\" cy=\"121.9948\" r=\"2.8346\" fill=\"none\" stroke=\"rgba(255,0,0,0.9412)\" stroke-miterlimit=\"10\"/>\n",
       "<circle cx=\"53.1878\" cy=\"104.3516\" r=\"2.8346\" fill=\"none\" stroke=\"rgba(255,0,0,0.9412)\" stroke-miterlimit=\"10\"/>\n",
       "<circle cx=\"77.5074\" cy=\"114.867\" r=\"2.8346\" fill=\"none\" stroke=\"rgba(255,0,0,0.9412)\" stroke-miterlimit=\"10\"/>\n",
       "<circle cx=\"131.4818\" cy=\"120.6269\" r=\"2.8346\" fill=\"none\" stroke=\"rgba(255,0,0,0.9412)\" stroke-miterlimit=\"10\"/>\n",
       "<circle cx=\"182.6811\" cy=\"6.1125\" r=\"2.8346\" fill=\"none\" stroke=\"rgba(255,0,0,0.9412)\" stroke-miterlimit=\"10\"/>\n",
       "<circle cx=\"20.5188\" cy=\"50.1803\" r=\"2.8346\" fill=\"none\" stroke=\"rgba(255,0,0,0.9412)\" stroke-miterlimit=\"10\"/>\n",
       "<circle cx=\"154.2954\" cy=\"6.7659\" r=\"2.8346\" fill=\"none\" stroke=\"rgba(255,0,0,0.9412)\" stroke-miterlimit=\"10\"/>\n",
       "<circle cx=\"229.1625\" cy=\"248.1429\" r=\"2.8346\" fill=\"none\" stroke=\"rgba(255,0,0,0.9412)\" stroke-miterlimit=\"10\"/>\n",
       "<circle cx=\"21.9627\" cy=\"98.2428\" r=\"2.8346\" fill=\"none\" stroke=\"rgba(255,0,0,0.9412)\" stroke-miterlimit=\"10\"/>\n",
       "<circle cx=\"83.5481\" cy=\"120.2172\" r=\"2.8346\" fill=\"none\" stroke=\"rgba(255,0,0,0.9412)\" stroke-miterlimit=\"10\"/>\n",
       "<circle cx=\"186.1174\" cy=\"119.4311\" r=\"2.8346\" fill=\"none\" stroke=\"rgba(255,0,0,0.9412)\" stroke-miterlimit=\"10\"/>\n",
       "<circle cx=\"236.7255\" cy=\"37.2841\" r=\"2.8346\" fill=\"none\" stroke=\"rgba(255,0,0,0.9412)\" stroke-miterlimit=\"10\"/>\n",
       "<circle cx=\"130.1815\" cy=\"170.7654\" r=\"2.8346\" fill=\"none\" stroke=\"rgba(255,0,0,0.9412)\" stroke-miterlimit=\"10\"/>\n",
       "<circle cx=\"68.8347\" cy=\"275.9616\" r=\"2.8346\" fill=\"none\" stroke=\"rgba(255,0,0,0.9412)\" stroke-miterlimit=\"10\"/>\n",
       "<circle cx=\"54.2841\" cy=\"225.1874\" r=\"2.8346\" fill=\"none\" stroke=\"rgba(255,0,0,0.9412)\" stroke-miterlimit=\"10\"/>\n",
       "<circle cx=\"282.1445\" cy=\"97.4443\" r=\"2.8346\" fill=\"none\" stroke=\"rgba(255,0,0,0.9412)\" stroke-miterlimit=\"10\"/>\n",
       "<circle cx=\"244.8517\" cy=\"57.3937\" r=\"2.8346\" fill=\"none\" stroke=\"rgba(255,0,0,0.9412)\" stroke-miterlimit=\"10\"/>\n",
       "<circle cx=\"128.3879\" cy=\"118.9515\" r=\"2.8346\" fill=\"none\" stroke=\"rgba(255,0,0,0.9412)\" stroke-miterlimit=\"10\"/>\n",
       "<circle cx=\"259.4148\" cy=\"132.244\" r=\"2.8346\" fill=\"none\" stroke=\"rgba(255,0,0,0.9412)\" stroke-miterlimit=\"10\"/>\n",
       "<circle cx=\"44.1503\" cy=\"217.8859\" r=\"2.8346\" fill=\"none\" stroke=\"rgba(255,0,0,0.9412)\" stroke-miterlimit=\"10\"/>\n",
       "<circle cx=\"192.2554\" cy=\"184.0018\" r=\"2.8346\" fill=\"none\" stroke=\"rgba(255,0,0,0.9412)\" stroke-miterlimit=\"10\"/>\n",
       "<circle cx=\"49.9333\" cy=\"103.4094\" r=\"2.8346\" fill=\"none\" stroke=\"rgba(255,0,0,0.9412)\" stroke-miterlimit=\"10\"/>\n",
       "<circle cx=\"117.7235\" cy=\"219.5401\" r=\"2.8346\" fill=\"none\" stroke=\"rgba(255,0,0,0.9412)\" stroke-miterlimit=\"10\"/>\n",
       "<circle cx=\"256.3631\" cy=\"83.8022\" r=\"2.8346\" fill=\"none\" stroke=\"rgba(255,0,0,0.9412)\" stroke-miterlimit=\"10\"/>\n",
       "<circle cx=\"173.153\" cy=\"94.7104\" r=\"2.8346\" fill=\"none\" stroke=\"rgba(255,0,0,0.9412)\" stroke-miterlimit=\"10\"/>\n",
       "<circle cx=\"136.2858\" cy=\"95.8317\" r=\"2.8346\" fill=\"none\" stroke=\"rgba(255,0,0,0.9412)\" stroke-miterlimit=\"10\"/>\n",
       "<circle cx=\"103.3186\" cy=\"228.6076\" r=\"2.8346\" fill=\"none\" stroke=\"rgba(255,0,0,0.9412)\" stroke-miterlimit=\"10\"/>\n",
       "<circle cx=\"228.5183\" cy=\"9.2368\" r=\"2.8346\" fill=\"none\" stroke=\"rgba(255,0,0,0.9412)\" stroke-miterlimit=\"10\"/>\n",
       "<circle cx=\"96.8901\" cy=\"182.0887\" r=\"2.8346\" fill=\"none\" stroke=\"rgba(255,0,0,0.9412)\" stroke-miterlimit=\"10\"/>\n",
       "<circle cx=\"10.0013\" cy=\"57.6702\" r=\"2.8346\" fill=\"none\" stroke=\"rgba(255,0,0,0.9412)\" stroke-miterlimit=\"10\"/>\n",
       "<circle cx=\"224.2492\" cy=\"134.6957\" r=\"2.8346\" fill=\"none\" stroke=\"rgba(255,0,0,0.9412)\" stroke-miterlimit=\"10\"/>\n",
       "<circle cx=\"145.5195\" cy=\"223.9262\" r=\"2.8346\" fill=\"none\" stroke=\"rgba(255,0,0,0.9412)\" stroke-miterlimit=\"10\"/>\n",
       "<circle cx=\"3.2223\" cy=\"240.9414\" r=\"2.8346\" fill=\"none\" stroke=\"rgba(255,0,0,0.9412)\" stroke-miterlimit=\"10\"/>\n",
       "<circle cx=\"269.9512\" cy=\"4.6265\" r=\"2.8346\" fill=\"none\" stroke=\"rgba(255,0,0,0.9412)\" stroke-miterlimit=\"10\"/>\n",
       "<circle cx=\"22.6286\" cy=\"84.5227\" r=\"2.8346\" fill=\"none\" stroke=\"rgba(255,0,0,0.9412)\" stroke-miterlimit=\"10\"/>\n",
       "<circle cx=\"266.906\" cy=\"280.7619\" r=\"2.8346\" fill=\"none\" stroke=\"rgba(255,0,0,0.9412)\" stroke-miterlimit=\"10\"/>\n",
       "<circle cx=\"152.607\" cy=\"204.69\" r=\"2.8346\" fill=\"none\" stroke=\"rgba(255,0,0,0.9412)\" stroke-miterlimit=\"10\"/>\n",
       "<circle cx=\"117.7346\" cy=\"230.3722\" r=\"2.8346\" fill=\"none\" stroke=\"rgba(255,0,0,0.9412)\" stroke-miterlimit=\"10\"/>\n",
       "<circle cx=\"181.2208\" cy=\"182.7434\" r=\"2.8346\" fill=\"none\" stroke=\"rgba(255,0,0,0.9412)\" stroke-miterlimit=\"10\"/>\n",
       "<circle cx=\"62.7293\" cy=\"205.4873\" r=\"2.8346\" fill=\"none\" stroke=\"rgba(255,0,0,0.9412)\" stroke-miterlimit=\"10\"/>\n",
       "<circle cx=\"54.3985\" cy=\"33.005\" r=\"2.8346\" fill=\"none\" stroke=\"rgba(255,0,0,0.9412)\" stroke-miterlimit=\"10\"/>\n",
       "<circle cx=\"191.2743\" cy=\"235.112\" r=\"2.8346\" fill=\"none\" stroke=\"rgba(255,0,0,0.9412)\" stroke-miterlimit=\"10\"/>\n",
       "<circle cx=\"230.6331\" cy=\"33.32\" r=\"2.8346\" fill=\"none\" stroke=\"rgba(255,0,0,0.9412)\" stroke-miterlimit=\"10\"/>\n",
       "<circle cx=\"17.9133\" cy=\"243.528\" r=\"2.8346\" fill=\"none\" stroke=\"rgba(255,0,0,0.9412)\" stroke-miterlimit=\"10\"/>\n",
       "<circle cx=\"99.3993\" cy=\"32.1876\" r=\"2.8346\" fill=\"none\" stroke=\"rgba(255,0,0,0.9412)\" stroke-miterlimit=\"10\"/>\n",
       "<circle cx=\"96.743\" cy=\"71.6519\" r=\"2.8346\" fill=\"none\" stroke=\"rgba(255,0,0,0.9412)\" stroke-miterlimit=\"10\"/>\n",
       "<circle cx=\"171.258\" cy=\"261.1691\" r=\"2.8346\" fill=\"none\" stroke=\"rgba(255,0,0,0.9412)\" stroke-miterlimit=\"10\"/>\n",
       "<circle cx=\"101.7373\" cy=\"244.2997\" r=\"2.8346\" fill=\"none\" stroke=\"rgba(255,0,0,0.9412)\" stroke-miterlimit=\"10\"/>\n",
       "<circle cx=\"133.2584\" cy=\"36.7062\" r=\"2.8346\" fill=\"none\" stroke=\"rgba(255,0,0,0.9412)\" stroke-miterlimit=\"10\"/>\n",
       "<circle cx=\"56.7845\" cy=\"25.2115\" r=\"2.8346\" fill=\"none\" stroke=\"rgba(255,0,0,0.9412)\" stroke-miterlimit=\"10\"/>\n",
       "<circle cx=\"189.8909\" cy=\"81.7582\" r=\"2.8346\" fill=\"none\" stroke=\"rgba(255,0,0,0.9412)\" stroke-miterlimit=\"10\"/>\n",
       "<circle cx=\"201.8662\" cy=\"7.7116\" r=\"2.8346\" fill=\"none\" stroke=\"rgba(255,0,0,0.9412)\" stroke-miterlimit=\"10\"/>\n",
       "<circle cx=\"199.2129\" cy=\"194.2909\" r=\"2.8346\" fill=\"none\" stroke=\"rgba(255,0,0,0.9412)\" stroke-miterlimit=\"10\"/>\n",
       "<circle cx=\"245.5686\" cy=\"144.8761\" r=\"2.8346\" fill=\"none\" stroke=\"rgba(255,0,0,0.9412)\" stroke-miterlimit=\"10\"/>\n",
       "<circle cx=\"35.3206\" cy=\"14.0638\" r=\"2.8346\" fill=\"none\" stroke=\"rgba(255,0,0,0.9412)\" stroke-miterlimit=\"10\"/>\n",
       "<circle cx=\"115.7213\" cy=\"268.4816\" r=\"2.8346\" fill=\"none\" stroke=\"rgba(255,0,0,0.9412)\" stroke-miterlimit=\"10\"/>\n",
       "<circle cx=\"36.605\" cy=\"153.0796\" r=\"2.8346\" fill=\"none\" stroke=\"rgba(255,0,0,0.9412)\" stroke-miterlimit=\"10\"/>\n",
       "<circle cx=\"117.7361\" cy=\"192.9989\" r=\"2.8346\" fill=\"none\" stroke=\"rgba(255,0,0,0.9412)\" stroke-miterlimit=\"10\"/>\n",
       "<circle cx=\"218.6013\" cy=\"225.2926\" r=\"2.8346\" fill=\"none\" stroke=\"rgba(255,0,0,0.9412)\" stroke-miterlimit=\"10\"/>\n",
       "<circle cx=\"139.255\" cy=\"258.246\" r=\"2.8346\" fill=\"none\" stroke=\"rgba(255,0,0,0.9412)\" stroke-miterlimit=\"10\"/>\n",
       "<circle cx=\"129.0864\" cy=\"277.9693\" r=\"2.8346\" fill=\"none\" stroke=\"rgba(255,0,0,0.9412)\" stroke-miterlimit=\"10\"/>\n",
       "<circle cx=\"22.7199\" cy=\"16.2765\" r=\"2.8346\" fill=\"none\" stroke=\"rgba(255,0,0,0.9412)\" stroke-miterlimit=\"10\"/>\n",
       "<circle cx=\"225.7924\" cy=\"39.0825\" r=\"2.8346\" fill=\"none\" stroke=\"rgba(255,0,0,0.9412)\" stroke-miterlimit=\"10\"/>\n",
       "<circle cx=\"272.5895\" cy=\"257.9107\" r=\"2.8346\" fill=\"none\" stroke=\"rgba(255,0,0,0.9412)\" stroke-miterlimit=\"10\"/>\n",
       "<circle cx=\"108.9489\" cy=\"61.9712\" r=\"2.8346\" fill=\"none\" stroke=\"rgba(255,0,0,0.9412)\" stroke-miterlimit=\"10\"/>\n",
       "<circle cx=\"150.2518\" cy=\"254.6122\" r=\"2.8346\" fill=\"none\" stroke=\"rgba(255,0,0,0.9412)\" stroke-miterlimit=\"10\"/>\n",
       "<circle cx=\"51.9072\" cy=\"237.9553\" r=\"2.8346\" fill=\"none\" stroke=\"rgba(255,0,0,0.9412)\" stroke-miterlimit=\"10\"/>\n",
       "<circle cx=\"166.8985\" cy=\"275.6707\" r=\"2.8346\" fill=\"none\" stroke=\"rgba(255,0,0,0.9412)\" stroke-miterlimit=\"10\"/>\n",
       "<circle cx=\"277.0766\" cy=\"178.9212\" r=\"2.8346\" fill=\"none\" stroke=\"rgba(255,0,0,0.9412)\" stroke-miterlimit=\"10\"/>\n",
       "<circle cx=\"163.4647\" cy=\"194.5349\" r=\"2.8346\" fill=\"none\" stroke=\"rgba(255,0,0,0.9412)\" stroke-miterlimit=\"10\"/>\n",
       "<circle cx=\"155.6839\" cy=\"14.1462\" r=\"2.8346\" fill=\"none\" stroke=\"rgba(255,0,0,0.9412)\" stroke-miterlimit=\"10\"/>\n",
       "<circle cx=\"248.972\" cy=\"31.0089\" r=\"2.8346\" fill=\"none\" stroke=\"rgba(255,0,0,0.9412)\" stroke-miterlimit=\"10\"/>\n",
       "<circle cx=\"36.7763\" cy=\"240.2068\" r=\"2.8346\" fill=\"none\" stroke=\"rgba(255,0,0,0.9412)\" stroke-miterlimit=\"10\"/>\n",
       "<circle cx=\"127.1907\" cy=\"75.9904\" r=\"2.8346\" fill=\"none\" stroke=\"rgba(255,0,0,0.9412)\" stroke-miterlimit=\"10\"/>\n",
       "<circle cx=\"199.516\" cy=\"283.2593\" r=\"2.8346\" fill=\"none\" stroke=\"rgba(255,0,0,0.9412)\" stroke-miterlimit=\"10\"/>\n",
       "<circle cx=\"209.0558\" cy=\"153.4381\" r=\"2.8346\" fill=\"none\" stroke=\"rgba(255,0,0,0.9412)\" stroke-miterlimit=\"10\"/>\n",
       "<circle cx=\"245.4774\" cy=\"48.3369\" r=\"2.8346\" fill=\"none\" stroke=\"rgba(255,0,0,0.9412)\" stroke-miterlimit=\"10\"/>\n",
       "<circle cx=\"257.7644\" cy=\"21.0878\" r=\"2.8346\" fill=\"none\" stroke=\"rgba(255,0,0,0.9412)\" stroke-miterlimit=\"10\"/>\n",
       "<circle cx=\"133.7316\" cy=\"223.8985\" r=\"2.8346\" fill=\"none\" stroke=\"rgba(255,0,0,0.9412)\" stroke-miterlimit=\"10\"/>\n",
       "<circle cx=\"124.7531\" cy=\"206.4846\" r=\"2.8346\" fill=\"none\" stroke=\"rgba(255,0,0,0.9412)\" stroke-miterlimit=\"10\"/>\n",
       "<circle cx=\"12.1175\" cy=\"174.1452\" r=\"2.8346\" fill=\"none\" stroke=\"rgba(255,0,0,0.9412)\" stroke-miterlimit=\"10\"/>\n",
       "<circle cx=\"38.6774\" cy=\"208.3928\" r=\"2.8346\" fill=\"none\" stroke=\"rgba(255,0,0,0.9412)\" stroke-miterlimit=\"10\"/>\n",
       "<circle cx=\"257.9626\" cy=\"262.594\" r=\"2.8346\" fill=\"none\" stroke=\"rgba(255,0,0,0.9412)\" stroke-miterlimit=\"10\"/>\n",
       "<circle cx=\"274.931\" cy=\"220.3115\" r=\"2.8346\" fill=\"none\" stroke=\"rgba(255,0,0,0.9412)\" stroke-miterlimit=\"10\"/>\n",
       "<circle cx=\"20.3028\" cy=\"250.6283\" r=\"2.8346\" fill=\"none\" stroke=\"rgba(255,0,0,0.9412)\" stroke-miterlimit=\"10\"/>\n",
       "<circle cx=\"203.1243\" cy=\"99.4975\" r=\"2.8346\" fill=\"none\" stroke=\"rgba(255,0,0,0.9412)\" stroke-miterlimit=\"10\"/>\n",
       "<circle cx=\"110.2724\" cy=\"247.8061\" r=\"2.8346\" fill=\"none\" stroke=\"rgba(255,0,0,0.9412)\" stroke-miterlimit=\"10\"/>\n",
       "<circle cx=\"235.3773\" cy=\"187.6521\" r=\"2.8346\" fill=\"none\" stroke=\"rgba(255,0,0,0.9412)\" stroke-miterlimit=\"10\"/>\n",
       "<circle cx=\"195.5675\" cy=\"75.1346\" r=\"2.8346\" fill=\"none\" stroke=\"rgba(255,0,0,0.9412)\" stroke-miterlimit=\"10\"/>\n",
       "<circle cx=\"111.7844\" cy=\"253.7691\" r=\"2.8346\" fill=\"none\" stroke=\"rgba(255,0,0,0.9412)\" stroke-miterlimit=\"10\"/>\n",
       "<circle cx=\"21.7884\" cy=\"3.9267\" r=\"2.8346\" fill=\"none\" stroke=\"rgba(255,0,0,0.9412)\" stroke-miterlimit=\"10\"/>\n",
       "<circle cx=\"175.5563\" cy=\"159.6203\" r=\"2.8346\" fill=\"none\" stroke=\"rgba(255,0,0,0.9412)\" stroke-miterlimit=\"10\"/>\n",
       "<circle cx=\"225.5698\" cy=\"119.7798\" r=\"2.8346\" fill=\"none\" stroke=\"rgba(255,0,0,0.9412)\" stroke-miterlimit=\"10\"/>\n",
       "<circle cx=\"186.2239\" cy=\"84.7467\" r=\"2.8346\" fill=\"none\" stroke=\"rgba(255,0,0,0.9412)\" stroke-miterlimit=\"10\"/>\n",
       "<circle cx=\"156.3342\" cy=\"158.5715\" r=\"2.8346\" fill=\"none\" stroke=\"rgba(255,0,0,0.9412)\" stroke-miterlimit=\"10\"/>\n",
       "<circle cx=\"61.142\" cy=\"80.4589\" r=\"2.8346\" fill=\"none\" stroke=\"rgba(255,0,0,0.9412)\" stroke-miterlimit=\"10\"/>\n",
       "<circle cx=\"19.8663\" cy=\"156.8859\" r=\"2.8346\" fill=\"none\" stroke=\"rgba(255,0,0,0.9412)\" stroke-miterlimit=\"10\"/>\n",
       "<circle cx=\"239.5989\" cy=\"249.0425\" r=\"2.8346\" fill=\"none\" stroke=\"rgba(255,0,0,0.9412)\" stroke-miterlimit=\"10\"/>\n",
       "<circle cx=\"36.3298\" cy=\"74.5875\" r=\"2.8346\" fill=\"none\" stroke=\"rgba(255,0,0,0.9412)\" stroke-miterlimit=\"10\"/>\n",
       "<circle cx=\"82.4369\" cy=\"15.5612\" r=\"2.8346\" fill=\"none\" stroke=\"rgba(255,0,0,0.9412)\" stroke-miterlimit=\"10\"/>\n",
       "<circle cx=\"104.0493\" cy=\"251.1339\" r=\"2.8346\" fill=\"none\" stroke=\"rgba(255,0,0,0.9412)\" stroke-miterlimit=\"10\"/>\n",
       "<circle cx=\"235.1528\" cy=\"93.7563\" r=\"2.8346\" fill=\"none\" stroke=\"rgba(255,0,0,0.9412)\" stroke-miterlimit=\"10\"/>\n",
       "<circle cx=\"128.8981\" cy=\"125.8893\" r=\"4.252\" fill=\"none\" stroke=\"rgba(64,220,64,0.9412)\" stroke-width=\"1.5\" stroke-miterlimit=\"10\"/>\n",
       "<circle cx=\"48.1577\" cy=\"79.9631\" r=\"4.252\" fill=\"none\" stroke=\"rgba(64,220,64,0.9412)\" stroke-width=\"1.5\" stroke-miterlimit=\"10\"/>\n",
       "<circle cx=\"140.4462\" cy=\"259.2705\" r=\"4.252\" fill=\"none\" stroke=\"rgba(64,220,64,0.9412)\" stroke-width=\"1.5\" stroke-miterlimit=\"10\"/>\n",
       "<circle cx=\"98.4149\" cy=\"160.5194\" r=\"4.252\" fill=\"none\" stroke=\"rgba(64,220,64,0.9412)\" stroke-width=\"1.5\" stroke-miterlimit=\"10\"/>\n",
       "<circle cx=\"169.1109\" cy=\"226.8922\" r=\"4.252\" fill=\"none\" stroke=\"rgba(64,220,64,0.9412)\" stroke-width=\"1.5\" stroke-miterlimit=\"10\"/>\n",
       "<circle cx=\"67.4875\" cy=\"126.4757\" r=\"4.252\" fill=\"none\" stroke=\"rgba(64,220,64,0.9412)\" stroke-width=\"1.5\" stroke-miterlimit=\"10\"/>\n",
       "<circle cx=\"191.8961\" cy=\"113.8225\" r=\"4.252\" fill=\"none\" stroke=\"rgba(64,220,64,0.9412)\" stroke-width=\"1.5\" stroke-miterlimit=\"10\"/>\n",
       "<circle cx=\"121.5526\" cy=\"207.7737\" r=\"4.252\" fill=\"none\" stroke=\"rgba(64,220,64,0.9412)\" stroke-width=\"1.5\" stroke-miterlimit=\"10\"/>\n",
       "<circle cx=\"191.2893\" cy=\"89.2492\" r=\"4.252\" fill=\"none\" stroke=\"rgba(64,220,64,0.9412)\" stroke-width=\"1.5\" stroke-miterlimit=\"10\"/>\n",
       "<circle cx=\"106.254\" cy=\"166.4801\" r=\"4.252\" fill=\"none\" stroke=\"rgba(64,220,64,0.9412)\" stroke-width=\"1.5\" stroke-miterlimit=\"10\"/>\n",
       "<circle cx=\"126.5946\" cy=\"199.3157\" r=\"4.252\" fill=\"none\" stroke=\"rgba(64,220,64,0.9412)\" stroke-width=\"1.5\" stroke-miterlimit=\"10\"/>\n",
       "<circle cx=\"147.4447\" cy=\"55.2921\" r=\"4.252\" fill=\"none\" stroke=\"rgba(64,220,64,0.9412)\" stroke-width=\"1.5\" stroke-miterlimit=\"10\"/>\n",
       "<circle cx=\"142.2332\" cy=\"122.9746\" r=\"4.252\" fill=\"none\" stroke=\"rgba(64,220,64,0.9412)\" stroke-width=\"1.5\" stroke-miterlimit=\"10\"/>\n",
       "<circle cx=\"181.6517\" cy=\"158.1575\" r=\"4.252\" fill=\"none\" stroke=\"rgba(64,220,64,0.9412)\" stroke-width=\"1.5\" stroke-miterlimit=\"10\"/>\n",
       "<circle cx=\"94.702\" cy=\"95.4112\" r=\"4.252\" fill=\"none\" stroke=\"rgba(64,220,64,0.9412)\" stroke-width=\"1.5\" stroke-miterlimit=\"10\"/>\n",
       "<circle cx=\"232.2325\" cy=\"83.402\" r=\"4.252\" fill=\"none\" stroke=\"rgba(64,220,64,0.9412)\" stroke-width=\"1.5\" stroke-miterlimit=\"10\"/>\n",
       "<circle cx=\"94.2994\" cy=\"117.1506\" r=\"4.252\" fill=\"none\" stroke=\"rgba(64,220,64,0.9412)\" stroke-width=\"1.5\" stroke-miterlimit=\"10\"/>\n",
       "<circle cx=\"133.0812\" cy=\"30.0249\" r=\"4.252\" fill=\"none\" stroke=\"rgba(64,220,64,0.9412)\" stroke-width=\"1.5\" stroke-miterlimit=\"10\"/>\n",
       "<circle cx=\"167.477\" cy=\"141.5693\" r=\"4.252\" fill=\"none\" stroke=\"rgba(64,220,64,0.9412)\" stroke-width=\"1.5\" stroke-miterlimit=\"10\"/>\n",
       "<circle cx=\"126.3835\" cy=\"246.1728\" r=\"4.252\" fill=\"none\" stroke=\"rgba(64,220,64,0.9412)\" stroke-width=\"1.5\" stroke-miterlimit=\"10\"/>\n",
       "<circle cx=\"98.5435\" cy=\"119.4796\" r=\"4.252\" fill=\"none\" stroke=\"rgba(64,220,64,0.9412)\" stroke-width=\"1.5\" stroke-miterlimit=\"10\"/>\n",
       "<circle cx=\"37.1307\" cy=\"216.1067\" r=\"4.252\" fill=\"none\" stroke=\"rgba(64,220,64,0.9412)\" stroke-width=\"1.5\" stroke-miterlimit=\"10\"/>\n",
       "<circle cx=\"97.7282\" cy=\"169.4645\" r=\"4.252\" fill=\"none\" stroke=\"rgba(64,220,64,0.9412)\" stroke-width=\"1.5\" stroke-miterlimit=\"10\"/>\n",
       "<circle cx=\"116.2083\" cy=\"198.6377\" r=\"4.252\" fill=\"none\" stroke=\"rgba(64,220,64,0.9412)\" stroke-width=\"1.5\" stroke-miterlimit=\"10\"/>\n",
       "<circle cx=\"95.9445\" cy=\"68.3737\" r=\"4.252\" fill=\"none\" stroke=\"rgba(64,220,64,0.9412)\" stroke-width=\"1.5\" stroke-miterlimit=\"10\"/>\n",
       "<circle cx=\"166.2587\" cy=\"117.5906\" r=\"4.252\" fill=\"none\" stroke=\"rgba(64,220,64,0.9412)\" stroke-width=\"1.5\" stroke-miterlimit=\"10\"/>\n",
       "<circle cx=\"159.8522\" cy=\"155.6371\" r=\"4.252\" fill=\"none\" stroke=\"rgba(64,220,64,0.9412)\" stroke-width=\"1.5\" stroke-miterlimit=\"10\"/>\n",
       "<circle cx=\"156.627\" cy=\"123.4821\" r=\"4.252\" fill=\"none\" stroke=\"rgba(64,220,64,0.9412)\" stroke-width=\"1.5\" stroke-miterlimit=\"10\"/>\n",
       "<circle cx=\"150.5444\" cy=\"112.2645\" r=\"4.252\" fill=\"none\" stroke=\"rgba(64,220,64,0.9412)\" stroke-width=\"1.5\" stroke-miterlimit=\"10\"/>\n",
       "<circle cx=\"129.3584\" cy=\"109.779\" r=\"4.252\" fill=\"none\" stroke=\"rgba(64,220,64,0.9412)\" stroke-width=\"1.5\" stroke-miterlimit=\"10\"/>\n",
       "<circle cx=\"141.1299\" cy=\"179.07\" r=\"4.252\" fill=\"none\" stroke=\"rgba(64,220,64,0.9412)\" stroke-width=\"1.5\" stroke-miterlimit=\"10\"/>\n",
       "<circle cx=\"243.0769\" cy=\"145.2959\" r=\"4.252\" fill=\"none\" stroke=\"rgba(64,220,64,0.9412)\" stroke-width=\"1.5\" stroke-miterlimit=\"10\"/>\n",
       "<circle cx=\"218.4603\" cy=\"127.6466\" r=\"4.252\" fill=\"none\" stroke=\"rgba(64,220,64,0.9412)\" stroke-width=\"1.5\" stroke-miterlimit=\"10\"/>\n",
       "<circle cx=\"140.6803\" cy=\"179.9479\" r=\"4.252\" fill=\"none\" stroke=\"rgba(64,220,64,0.9412)\" stroke-width=\"1.5\" stroke-miterlimit=\"10\"/>\n",
       "<circle cx=\"175.6375\" cy=\"136.9649\" r=\"4.252\" fill=\"none\" stroke=\"rgba(64,220,64,0.9412)\" stroke-width=\"1.5\" stroke-miterlimit=\"10\"/>\n",
       "<circle cx=\"174.2174\" cy=\"163.3909\" r=\"4.252\" fill=\"none\" stroke=\"rgba(64,220,64,0.9412)\" stroke-width=\"1.5\" stroke-miterlimit=\"10\"/>\n",
       "<circle cx=\"195.1414\" cy=\"213.9273\" r=\"4.252\" fill=\"none\" stroke=\"rgba(64,220,64,0.9412)\" stroke-width=\"1.5\" stroke-miterlimit=\"10\"/>\n",
       "<circle cx=\"191.8744\" cy=\"108.5856\" r=\"4.252\" fill=\"none\" stroke=\"rgba(64,220,64,0.9412)\" stroke-width=\"1.5\" stroke-miterlimit=\"10\"/>\n",
       "<circle cx=\"48.1882\" cy=\"255.298\" r=\"4.252\" fill=\"none\" stroke=\"rgba(64,220,64,0.9412)\" stroke-width=\"1.5\" stroke-miterlimit=\"10\"/>\n",
       "<circle cx=\"139.9278\" cy=\"171.2204\" r=\"4.252\" fill=\"none\" stroke=\"rgba(64,220,64,0.9412)\" stroke-width=\"1.5\" stroke-miterlimit=\"10\"/>\n",
       "<circle cx=\"50.7931\" cy=\"195.3583\" r=\"4.252\" fill=\"none\" stroke=\"rgba(64,220,64,0.9412)\" stroke-width=\"1.5\" stroke-miterlimit=\"10\"/>\n",
       "<circle cx=\"65.3044\" cy=\"5.1187\" r=\"4.252\" fill=\"none\" stroke=\"rgba(64,220,64,0.9412)\" stroke-width=\"1.5\" stroke-miterlimit=\"10\"/>\n",
       "<circle cx=\"182.3493\" cy=\"37.4361\" r=\"4.252\" fill=\"none\" stroke=\"rgba(64,220,64,0.9412)\" stroke-width=\"1.5\" stroke-miterlimit=\"10\"/>\n",
       "<circle cx=\"158.2926\" cy=\"258.346\" r=\"4.252\" fill=\"none\" stroke=\"rgba(64,220,64,0.9412)\" stroke-width=\"1.5\" stroke-miterlimit=\"10\"/>\n",
       "<circle cx=\"155.1279\" cy=\"98.6232\" r=\"4.252\" fill=\"none\" stroke=\"rgba(64,220,64,0.9412)\" stroke-width=\"1.5\" stroke-miterlimit=\"10\"/>\n",
       "<circle cx=\"59.284\" cy=\"191.1366\" r=\"4.252\" fill=\"none\" stroke=\"rgba(64,220,64,0.9412)\" stroke-width=\"1.5\" stroke-miterlimit=\"10\"/>\n",
       "<circle cx=\"216.7305\" cy=\"140.9381\" r=\"4.252\" fill=\"none\" stroke=\"rgba(64,220,64,0.9412)\" stroke-width=\"1.5\" stroke-miterlimit=\"10\"/>\n",
       "<circle cx=\"172.3178\" cy=\"196.1119\" r=\"4.252\" fill=\"none\" stroke=\"rgba(64,220,64,0.9412)\" stroke-width=\"1.5\" stroke-miterlimit=\"10\"/>\n",
       "<circle cx=\"198.6558\" cy=\"74.9596\" r=\"4.252\" fill=\"none\" stroke=\"rgba(64,220,64,0.9412)\" stroke-width=\"1.5\" stroke-miterlimit=\"10\"/>\n",
       "<circle cx=\"102.8969\" cy=\"270.6645\" r=\"4.252\" fill=\"none\" stroke=\"rgba(64,220,64,0.9412)\" stroke-width=\"1.5\" stroke-miterlimit=\"10\"/>\n",
       "<circle cx=\"264.9664\" cy=\"307.3465\" r=\"4.252\" fill=\"none\" stroke=\"rgba(64,220,64,0.9412)\" stroke-width=\"1.5\" stroke-miterlimit=\"10\"/>\n",
       "<circle cx=\"94.4464\" cy=\"109.0331\" r=\"4.252\" fill=\"none\" stroke=\"rgba(64,220,64,0.9412)\" stroke-width=\"1.5\" stroke-miterlimit=\"10\"/>\n",
       "<circle cx=\"66.3696\" cy=\"239.432\" r=\"4.252\" fill=\"none\" stroke=\"rgba(64,220,64,0.9412)\" stroke-width=\"1.5\" stroke-miterlimit=\"10\"/>\n",
       "<circle cx=\"71.9689\" cy=\"186.2234\" r=\"4.252\" fill=\"none\" stroke=\"rgba(64,220,64,0.9412)\" stroke-width=\"1.5\" stroke-miterlimit=\"10\"/>\n",
       "<circle cx=\"76.186\" cy=\"125.3901\" r=\"4.252\" fill=\"none\" stroke=\"rgba(64,220,64,0.9412)\" stroke-width=\"1.5\" stroke-miterlimit=\"10\"/>\n",
       "<circle cx=\"161.6491\" cy=\"194.6247\" r=\"4.252\" fill=\"none\" stroke=\"rgba(64,220,64,0.9412)\" stroke-width=\"1.5\" stroke-miterlimit=\"10\"/>\n",
       "<circle cx=\"55.2142\" cy=\"218.2485\" r=\"4.252\" fill=\"none\" stroke=\"rgba(64,220,64,0.9412)\" stroke-width=\"1.5\" stroke-miterlimit=\"10\"/>\n",
       "<circle cx=\"184.2315\" cy=\"102.4901\" r=\"4.252\" fill=\"none\" stroke=\"rgba(64,220,64,0.9412)\" stroke-width=\"1.5\" stroke-miterlimit=\"10\"/>\n",
       "<circle cx=\"143.113\" cy=\"228.1366\" r=\"4.252\" fill=\"none\" stroke=\"rgba(64,220,64,0.9412)\" stroke-width=\"1.5\" stroke-miterlimit=\"10\"/>\n",
       "<circle cx=\"165.5951\" cy=\"125.5987\" r=\"4.252\" fill=\"none\" stroke=\"rgba(64,220,64,0.9412)\" stroke-width=\"1.5\" stroke-miterlimit=\"10\"/>\n",
       "<circle cx=\"88.7314\" cy=\"120.1931\" r=\"4.252\" fill=\"none\" stroke=\"rgba(64,220,64,0.9412)\" stroke-width=\"1.5\" stroke-miterlimit=\"10\"/>\n",
       "<circle cx=\"164.8654\" cy=\"51.1702\" r=\"4.252\" fill=\"none\" stroke=\"rgba(64,220,64,0.9412)\" stroke-width=\"1.5\" stroke-miterlimit=\"10\"/>\n",
       "<circle cx=\"172.3953\" cy=\"214.4529\" r=\"4.252\" fill=\"none\" stroke=\"rgba(64,220,64,0.9412)\" stroke-width=\"1.5\" stroke-miterlimit=\"10\"/>\n",
       "<circle cx=\"57.6991\" cy=\"174.0879\" r=\"4.252\" fill=\"none\" stroke=\"rgba(64,220,64,0.9412)\" stroke-width=\"1.5\" stroke-miterlimit=\"10\"/>\n",
       "<circle cx=\"113.5971\" cy=\"130.5648\" r=\"4.252\" fill=\"none\" stroke=\"rgba(64,220,64,0.9412)\" stroke-width=\"1.5\" stroke-miterlimit=\"10\"/>\n",
       "<circle cx=\"261.2613\" cy=\"79.3108\" r=\"4.252\" fill=\"none\" stroke=\"rgba(64,220,64,0.9412)\" stroke-width=\"1.5\" stroke-miterlimit=\"10\"/>\n",
       "<circle cx=\"230.5526\" cy=\"150.3186\" r=\"4.252\" fill=\"none\" stroke=\"rgba(64,220,64,0.9412)\" stroke-width=\"1.5\" stroke-miterlimit=\"10\"/>\n",
       "<circle cx=\"115.962\" cy=\"93.9233\" r=\"4.252\" fill=\"none\" stroke=\"rgba(64,220,64,0.9412)\" stroke-width=\"1.5\" stroke-miterlimit=\"10\"/>\n",
       "<circle cx=\"234.7608\" cy=\"123.4786\" r=\"4.252\" fill=\"none\" stroke=\"rgba(64,220,64,0.9412)\" stroke-width=\"1.5\" stroke-miterlimit=\"10\"/>\n",
       "<circle cx=\"215.7786\" cy=\"139.0303\" r=\"4.252\" fill=\"none\" stroke=\"rgba(64,220,64,0.9412)\" stroke-width=\"1.5\" stroke-miterlimit=\"10\"/>\n",
       "<circle cx=\"201.1305\" cy=\"153.4215\" r=\"4.252\" fill=\"none\" stroke=\"rgba(64,220,64,0.9412)\" stroke-width=\"1.5\" stroke-miterlimit=\"10\"/>\n",
       "<circle cx=\"159.6389\" cy=\"233.6859\" r=\"4.252\" fill=\"none\" stroke=\"rgba(64,220,64,0.9412)\" stroke-width=\"1.5\" stroke-miterlimit=\"10\"/>\n",
       "<circle cx=\"123.9618\" cy=\"166.4378\" r=\"4.252\" fill=\"none\" stroke=\"rgba(64,220,64,0.9412)\" stroke-width=\"1.5\" stroke-miterlimit=\"10\"/>\n",
       "<circle cx=\"142.7823\" cy=\"206.1352\" r=\"4.252\" fill=\"none\" stroke=\"rgba(64,220,64,0.9412)\" stroke-width=\"1.5\" stroke-miterlimit=\"10\"/>\n",
       "<circle cx=\"186.3312\" cy=\"258.547\" r=\"4.252\" fill=\"none\" stroke=\"rgba(64,220,64,0.9412)\" stroke-width=\"1.5\" stroke-miterlimit=\"10\"/>\n",
       "<circle cx=\"284.5814\" cy=\"64.7058\" r=\"4.252\" fill=\"none\" stroke=\"rgba(64,220,64,0.9412)\" stroke-width=\"1.5\" stroke-miterlimit=\"10\"/>\n",
       "<circle cx=\"154.2483\" cy=\"154.6647\" r=\"4.252\" fill=\"none\" stroke=\"rgba(64,220,64,0.9412)\" stroke-width=\"1.5\" stroke-miterlimit=\"10\"/>\n",
       "<circle cx=\"170.3075\" cy=\"114.851\" r=\"4.252\" fill=\"none\" stroke=\"rgba(64,220,64,0.9412)\" stroke-width=\"1.5\" stroke-miterlimit=\"10\"/>\n",
       "<circle cx=\"166.2063\" cy=\"142.5665\" r=\"4.252\" fill=\"none\" stroke=\"rgba(64,220,64,0.9412)\" stroke-width=\"1.5\" stroke-miterlimit=\"10\"/>\n",
       "<circle cx=\"41.2759\" cy=\"153.8217\" r=\"4.252\" fill=\"none\" stroke=\"rgba(64,220,64,0.9412)\" stroke-width=\"1.5\" stroke-miterlimit=\"10\"/>\n",
       "<circle cx=\"143.249\" cy=\"177.4122\" r=\"4.252\" fill=\"none\" stroke=\"rgba(64,220,64,0.9412)\" stroke-width=\"1.5\" stroke-miterlimit=\"10\"/>\n",
       "<circle cx=\"175.4182\" cy=\"168.4605\" r=\"4.252\" fill=\"none\" stroke=\"rgba(64,220,64,0.9412)\" stroke-width=\"1.5\" stroke-miterlimit=\"10\"/>\n",
       "<circle cx=\"133.6345\" cy=\"98.1848\" r=\"4.252\" fill=\"none\" stroke=\"rgba(64,220,64,0.9412)\" stroke-width=\"1.5\" stroke-miterlimit=\"10\"/>\n",
       "<circle cx=\"160.1145\" cy=\"158.4261\" r=\"4.252\" fill=\"none\" stroke=\"rgba(64,220,64,0.9412)\" stroke-width=\"1.5\" stroke-miterlimit=\"10\"/>\n",
       "<circle cx=\"168.8329\" cy=\"20.3062\" r=\"4.252\" fill=\"none\" stroke=\"rgba(64,220,64,0.9412)\" stroke-width=\"1.5\" stroke-miterlimit=\"10\"/>\n",
       "<circle cx=\"92.1794\" cy=\"109.1496\" r=\"4.252\" fill=\"none\" stroke=\"rgba(64,220,64,0.9412)\" stroke-width=\"1.5\" stroke-miterlimit=\"10\"/>\n",
       "<circle cx=\"107.298\" cy=\"92.6074\" r=\"4.252\" fill=\"none\" stroke=\"rgba(64,220,64,0.9412)\" stroke-width=\"1.5\" stroke-miterlimit=\"10\"/>\n",
       "<circle cx=\"161.3235\" cy=\"41.6427\" r=\"4.252\" fill=\"none\" stroke=\"rgba(64,220,64,0.9412)\" stroke-width=\"1.5\" stroke-miterlimit=\"10\"/>\n",
       "<circle cx=\"187.5124\" cy=\"101.7877\" r=\"4.252\" fill=\"none\" stroke=\"rgba(64,220,64,0.9412)\" stroke-width=\"1.5\" stroke-miterlimit=\"10\"/>\n",
       "<circle cx=\"225.2083\" cy=\"238.3466\" r=\"4.252\" fill=\"none\" stroke=\"rgba(64,220,64,0.9412)\" stroke-width=\"1.5\" stroke-miterlimit=\"10\"/>\n",
       "<circle cx=\"110.8351\" cy=\"173.8758\" r=\"4.252\" fill=\"none\" stroke=\"rgba(64,220,64,0.9412)\" stroke-width=\"1.5\" stroke-miterlimit=\"10\"/>\n",
       "<circle cx=\"157.1843\" cy=\"184.4391\" r=\"4.252\" fill=\"none\" stroke=\"rgba(64,220,64,0.9412)\" stroke-width=\"1.5\" stroke-miterlimit=\"10\"/>\n",
       "<circle cx=\"68.1146\" cy=\"143.1487\" r=\"4.252\" fill=\"none\" stroke=\"rgba(64,220,64,0.9412)\" stroke-width=\"1.5\" stroke-miterlimit=\"10\"/>\n",
       "<circle cx=\"66.2927\" cy=\"86.5847\" r=\"4.252\" fill=\"none\" stroke=\"rgba(64,220,64,0.9412)\" stroke-width=\"1.5\" stroke-miterlimit=\"10\"/>\n",
       "<circle cx=\"189.3638\" cy=\"237.8447\" r=\"4.252\" fill=\"none\" stroke=\"rgba(64,220,64,0.9412)\" stroke-width=\"1.5\" stroke-miterlimit=\"10\"/>\n",
       "<circle cx=\"163.1345\" cy=\"95.2379\" r=\"4.252\" fill=\"none\" stroke=\"rgba(64,220,64,0.9412)\" stroke-width=\"1.5\" stroke-miterlimit=\"10\"/>\n",
       "<circle cx=\"173.916\" cy=\"143.9423\" r=\"4.252\" fill=\"none\" stroke=\"rgba(64,220,64,0.9412)\" stroke-width=\"1.5\" stroke-miterlimit=\"10\"/>\n",
       "<circle cx=\"158.7961\" cy=\"136.5821\" r=\"4.252\" fill=\"none\" stroke=\"rgba(64,220,64,0.9412)\" stroke-width=\"1.5\" stroke-miterlimit=\"10\"/>\n",
       "<circle cx=\"86.2819\" cy=\"113.8174\" r=\"4.252\" fill=\"none\" stroke=\"rgba(64,220,64,0.9412)\" stroke-width=\"1.5\" stroke-miterlimit=\"10\"/>\n",
       "<circle cx=\"19.0309\" cy=\"211.7121\" r=\"4.252\" fill=\"none\" stroke=\"rgba(64,220,64,0.9412)\" stroke-width=\"1.5\" stroke-miterlimit=\"10\"/>\n",
       "<circle cx=\"100.0286\" cy=\"109.5577\" r=\"4.252\" fill=\"none\" stroke=\"rgba(64,220,64,0.9412)\" stroke-width=\"1.5\" stroke-miterlimit=\"10\"/>\n",
       "<circle cx=\"92.8899\" cy=\"5.0802\" r=\"4.252\" fill=\"none\" stroke=\"rgba(64,220,64,0.9412)\" stroke-width=\"1.5\" stroke-miterlimit=\"10\"/>\n",
       "<circle cx=\"112.1575\" cy=\"142.5839\" r=\"4.252\" fill=\"none\" stroke=\"rgba(64,220,64,0.9412)\" stroke-width=\"1.5\" stroke-miterlimit=\"10\"/>\n",
       "<circle cx=\"125.5507\" cy=\"108.326\" r=\"4.252\" fill=\"none\" stroke=\"rgba(64,220,64,0.9412)\" stroke-width=\"1.5\" stroke-miterlimit=\"10\"/>\n",
       "<circle cx=\"167.4909\" cy=\"77.0491\" r=\"4.252\" fill=\"none\" stroke=\"rgba(64,220,64,0.9412)\" stroke-width=\"1.5\" stroke-miterlimit=\"10\"/>\n",
       "<circle cx=\"137.5903\" cy=\"202.1525\" r=\"4.252\" fill=\"none\" stroke=\"rgba(64,220,64,0.9412)\" stroke-width=\"1.5\" stroke-miterlimit=\"10\"/>\n",
       "<circle cx=\"175.7848\" cy=\"100.8197\" r=\"4.252\" fill=\"none\" stroke=\"rgba(64,220,64,0.9412)\" stroke-width=\"1.5\" stroke-miterlimit=\"10\"/>\n",
       "<circle cx=\"156.3115\" cy=\"94.924\" r=\"4.252\" fill=\"none\" stroke=\"rgba(64,220,64,0.9412)\" stroke-width=\"1.5\" stroke-miterlimit=\"10\"/>\n",
       "<circle cx=\"220.6506\" cy=\"232.126\" r=\"4.252\" fill=\"none\" stroke=\"rgba(64,220,64,0.9412)\" stroke-width=\"1.5\" stroke-miterlimit=\"10\"/>\n",
       "<circle cx=\"79.9242\" cy=\"-28.5683\" r=\"4.252\" fill=\"none\" stroke=\"rgba(64,220,64,0.9412)\" stroke-width=\"1.5\" stroke-miterlimit=\"10\"/>\n",
       "<circle cx=\"115.1492\" cy=\"157.4062\" r=\"4.252\" fill=\"none\" stroke=\"rgba(64,220,64,0.9412)\" stroke-width=\"1.5\" stroke-miterlimit=\"10\"/>\n",
       "<circle cx=\"131.6568\" cy=\"17.9242\" r=\"4.252\" fill=\"none\" stroke=\"rgba(64,220,64,0.9412)\" stroke-width=\"1.5\" stroke-miterlimit=\"10\"/>\n",
       "<circle cx=\"52.0673\" cy=\"84.5891\" r=\"4.252\" fill=\"none\" stroke=\"rgba(64,220,64,0.9412)\" stroke-width=\"1.5\" stroke-miterlimit=\"10\"/>\n",
       "<circle cx=\"142.8345\" cy=\"168.2154\" r=\"4.252\" fill=\"none\" stroke=\"rgba(64,220,64,0.9412)\" stroke-width=\"1.5\" stroke-miterlimit=\"10\"/>\n",
       "<circle cx=\"117.2147\" cy=\"75.5252\" r=\"4.252\" fill=\"none\" stroke=\"rgba(64,220,64,0.9412)\" stroke-width=\"1.5\" stroke-miterlimit=\"10\"/>\n",
       "<circle cx=\"127.4479\" cy=\"230.4665\" r=\"4.252\" fill=\"none\" stroke=\"rgba(64,220,64,0.9412)\" stroke-width=\"1.5\" stroke-miterlimit=\"10\"/>\n",
       "<circle cx=\"105.1955\" cy=\"218.7459\" r=\"4.252\" fill=\"none\" stroke=\"rgba(64,220,64,0.9412)\" stroke-width=\"1.5\" stroke-miterlimit=\"10\"/>\n",
       "<circle cx=\"158.7493\" cy=\"116.2508\" r=\"4.252\" fill=\"none\" stroke=\"rgba(64,220,64,0.9412)\" stroke-width=\"1.5\" stroke-miterlimit=\"10\"/>\n",
       "<circle cx=\"99.6698\" cy=\"19.3293\" r=\"4.252\" fill=\"none\" stroke=\"rgba(64,220,64,0.9412)\" stroke-width=\"1.5\" stroke-miterlimit=\"10\"/>\n",
       "<circle cx=\"194.3108\" cy=\"160.4595\" r=\"4.252\" fill=\"none\" stroke=\"rgba(64,220,64,0.9412)\" stroke-width=\"1.5\" stroke-miterlimit=\"10\"/>\n",
       "<circle cx=\"161.0626\" cy=\"139.6231\" r=\"4.252\" fill=\"none\" stroke=\"rgba(64,220,64,0.9412)\" stroke-width=\"1.5\" stroke-miterlimit=\"10\"/>\n",
       "<circle cx=\"101.4482\" cy=\"102.1304\" r=\"4.252\" fill=\"none\" stroke=\"rgba(64,220,64,0.9412)\" stroke-width=\"1.5\" stroke-miterlimit=\"10\"/>\n",
       "<circle cx=\"107.8607\" cy=\"158.6247\" r=\"4.252\" fill=\"none\" stroke=\"rgba(64,220,64,0.9412)\" stroke-width=\"1.5\" stroke-miterlimit=\"10\"/>\n",
       "<circle cx=\"132.8629\" cy=\"143.7603\" r=\"4.252\" fill=\"none\" stroke=\"rgba(64,220,64,0.9412)\" stroke-width=\"1.5\" stroke-miterlimit=\"10\"/>\n",
       "<circle cx=\"161.2133\" cy=\"239.0993\" r=\"4.252\" fill=\"none\" stroke=\"rgba(64,220,64,0.9412)\" stroke-width=\"1.5\" stroke-miterlimit=\"10\"/>\n",
       "<circle cx=\"223.0241\" cy=\"154.6639\" r=\"4.252\" fill=\"none\" stroke=\"rgba(64,220,64,0.9412)\" stroke-width=\"1.5\" stroke-miterlimit=\"10\"/>\n",
       "<circle cx=\"300.3444\" cy=\"70.4383\" r=\"4.252\" fill=\"none\" stroke=\"rgba(64,220,64,0.9412)\" stroke-width=\"1.5\" stroke-miterlimit=\"10\"/>\n",
       "<circle cx=\"144.9146\" cy=\"139.2799\" r=\"4.252\" fill=\"none\" stroke=\"rgba(64,220,64,0.9412)\" stroke-width=\"1.5\" stroke-miterlimit=\"10\"/>\n",
       "<circle cx=\"197.3155\" cy=\"173.8401\" r=\"4.252\" fill=\"none\" stroke=\"rgba(64,220,64,0.9412)\" stroke-width=\"1.5\" stroke-miterlimit=\"10\"/>\n",
       "<circle cx=\"111.6617\" cy=\"154.4015\" r=\"4.252\" fill=\"none\" stroke=\"rgba(64,220,64,0.9412)\" stroke-width=\"1.5\" stroke-miterlimit=\"10\"/>\n",
       "<circle cx=\"188.7212\" cy=\"114.6439\" r=\"4.252\" fill=\"none\" stroke=\"rgba(64,220,64,0.9412)\" stroke-width=\"1.5\" stroke-miterlimit=\"10\"/>\n",
       "<circle cx=\"179.3081\" cy=\"83.4446\" r=\"4.252\" fill=\"none\" stroke=\"rgba(64,220,64,0.9412)\" stroke-width=\"1.5\" stroke-miterlimit=\"10\"/>\n",
       "<circle cx=\"234.6582\" cy=\"59.2375\" r=\"4.252\" fill=\"none\" stroke=\"rgba(64,220,64,0.9412)\" stroke-width=\"1.5\" stroke-miterlimit=\"10\"/>\n",
       "<circle cx=\"111.5941\" cy=\"100.5051\" r=\"4.252\" fill=\"none\" stroke=\"rgba(64,220,64,0.9412)\" stroke-width=\"1.5\" stroke-miterlimit=\"10\"/>\n",
       "<circle cx=\"162.5868\" cy=\"14.9621\" r=\"4.252\" fill=\"none\" stroke=\"rgba(64,220,64,0.9412)\" stroke-width=\"1.5\" stroke-miterlimit=\"10\"/>\n",
       "<circle cx=\"144.2236\" cy=\"53.0485\" r=\"4.252\" fill=\"none\" stroke=\"rgba(64,220,64,0.9412)\" stroke-width=\"1.5\" stroke-miterlimit=\"10\"/>\n",
       "<circle cx=\"195.7919\" cy=\"248.652\" r=\"4.252\" fill=\"none\" stroke=\"rgba(64,220,64,0.9412)\" stroke-width=\"1.5\" stroke-miterlimit=\"10\"/>\n",
       "<circle cx=\"191.6197\" cy=\"242.6397\" r=\"4.252\" fill=\"none\" stroke=\"rgba(64,220,64,0.9412)\" stroke-width=\"1.5\" stroke-miterlimit=\"10\"/>\n",
       "<circle cx=\"138.0057\" cy=\"196.1799\" r=\"4.252\" fill=\"none\" stroke=\"rgba(64,220,64,0.9412)\" stroke-width=\"1.5\" stroke-miterlimit=\"10\"/>\n",
       "<circle cx=\"181.6161\" cy=\"140.9321\" r=\"4.252\" fill=\"none\" stroke=\"rgba(64,220,64,0.9412)\" stroke-width=\"1.5\" stroke-miterlimit=\"10\"/>\n",
       "<circle cx=\"218.0869\" cy=\"126.9715\" r=\"4.252\" fill=\"none\" stroke=\"rgba(64,220,64,0.9412)\" stroke-width=\"1.5\" stroke-miterlimit=\"10\"/>\n",
       "<circle cx=\"148.5717\" cy=\"46.6916\" r=\"4.252\" fill=\"none\" stroke=\"rgba(64,220,64,0.9412)\" stroke-width=\"1.5\" stroke-miterlimit=\"10\"/>\n",
       "<circle cx=\"177.351\" cy=\"240.9426\" r=\"4.252\" fill=\"none\" stroke=\"rgba(64,220,64,0.9412)\" stroke-width=\"1.5\" stroke-miterlimit=\"10\"/>\n",
       "<circle cx=\"104.3106\" cy=\"217.0853\" r=\"4.252\" fill=\"none\" stroke=\"rgba(64,220,64,0.9412)\" stroke-width=\"1.5\" stroke-miterlimit=\"10\"/>\n",
       "<circle cx=\"138.026\" cy=\"139.9186\" r=\"4.252\" fill=\"none\" stroke=\"rgba(64,220,64,0.9412)\" stroke-width=\"1.5\" stroke-miterlimit=\"10\"/>\n",
       "<circle cx=\"76.1886\" cy=\"104.1797\" r=\"4.252\" fill=\"none\" stroke=\"rgba(64,220,64,0.9412)\" stroke-width=\"1.5\" stroke-miterlimit=\"10\"/>\n",
       "<circle cx=\"140.5277\" cy=\"150.1443\" r=\"4.252\" fill=\"none\" stroke=\"rgba(64,220,64,0.9412)\" stroke-width=\"1.5\" stroke-miterlimit=\"10\"/>\n",
       "<circle cx=\"141.4262\" cy=\"269.7389\" r=\"4.252\" fill=\"none\" stroke=\"rgba(64,220,64,0.9412)\" stroke-width=\"1.5\" stroke-miterlimit=\"10\"/>\n",
       "<circle cx=\"189.7489\" cy=\"125.1762\" r=\"4.252\" fill=\"none\" stroke=\"rgba(64,220,64,0.9412)\" stroke-width=\"1.5\" stroke-miterlimit=\"10\"/>\n",
       "<circle cx=\"105.8862\" cy=\"152.6363\" r=\"4.252\" fill=\"none\" stroke=\"rgba(64,220,64,0.9412)\" stroke-width=\"1.5\" stroke-miterlimit=\"10\"/>\n",
       "<circle cx=\"125.3006\" cy=\"171.2556\" r=\"4.252\" fill=\"none\" stroke=\"rgba(64,220,64,0.9412)\" stroke-width=\"1.5\" stroke-miterlimit=\"10\"/>\n",
       "<circle cx=\"197.2233\" cy=\"124.6754\" r=\"4.252\" fill=\"none\" stroke=\"rgba(64,220,64,0.9412)\" stroke-width=\"1.5\" stroke-miterlimit=\"10\"/>\n",
       "<circle cx=\"126.0408\" cy=\"238.0457\" r=\"4.252\" fill=\"none\" stroke=\"rgba(64,220,64,0.9412)\" stroke-width=\"1.5\" stroke-miterlimit=\"10\"/>\n",
       "<circle cx=\"106.7949\" cy=\"184.0186\" r=\"4.252\" fill=\"none\" stroke=\"rgba(64,220,64,0.9412)\" stroke-width=\"1.5\" stroke-miterlimit=\"10\"/>\n",
       "<circle cx=\"202.9042\" cy=\"82.481\" r=\"4.252\" fill=\"none\" stroke=\"rgba(64,220,64,0.9412)\" stroke-width=\"1.5\" stroke-miterlimit=\"10\"/>\n",
       "<circle cx=\"165.012\" cy=\"117.6467\" r=\"4.252\" fill=\"none\" stroke=\"rgba(64,220,64,0.9412)\" stroke-width=\"1.5\" stroke-miterlimit=\"10\"/>\n",
       "<circle cx=\"206.5073\" cy=\"154.4168\" r=\"4.252\" fill=\"none\" stroke=\"rgba(64,220,64,0.9412)\" stroke-width=\"1.5\" stroke-miterlimit=\"10\"/>\n",
       "<circle cx=\"86.2572\" cy=\"272.9571\" r=\"4.252\" fill=\"none\" stroke=\"rgba(64,220,64,0.9412)\" stroke-width=\"1.5\" stroke-miterlimit=\"10\"/>\n",
       "<circle cx=\"114.1822\" cy=\"65.7698\" r=\"4.252\" fill=\"none\" stroke=\"rgba(64,220,64,0.9412)\" stroke-width=\"1.5\" stroke-miterlimit=\"10\"/>\n",
       "<circle cx=\"277.3199\" cy=\"110.328\" r=\"4.252\" fill=\"none\" stroke=\"rgba(64,220,64,0.9412)\" stroke-width=\"1.5\" stroke-miterlimit=\"10\"/>\n",
       "<circle cx=\"175.5202\" cy=\"145.3327\" r=\"4.252\" fill=\"none\" stroke=\"rgba(64,220,64,0.9412)\" stroke-width=\"1.5\" stroke-miterlimit=\"10\"/>\n",
       "<circle cx=\"74.1706\" cy=\"149.0604\" r=\"4.252\" fill=\"none\" stroke=\"rgba(64,220,64,0.9412)\" stroke-width=\"1.5\" stroke-miterlimit=\"10\"/>\n",
       "<circle cx=\"199.3101\" cy=\"163.0201\" r=\"4.252\" fill=\"none\" stroke=\"rgba(64,220,64,0.9412)\" stroke-width=\"1.5\" stroke-miterlimit=\"10\"/>\n",
       "<circle cx=\"131.7168\" cy=\"219.5566\" r=\"4.252\" fill=\"none\" stroke=\"rgba(64,220,64,0.9412)\" stroke-width=\"1.5\" stroke-miterlimit=\"10\"/>\n",
       "<circle cx=\"139.2722\" cy=\"144.7744\" r=\"4.252\" fill=\"none\" stroke=\"rgba(64,220,64,0.9412)\" stroke-width=\"1.5\" stroke-miterlimit=\"10\"/>\n",
       "<circle cx=\"161.2919\" cy=\"50.5502\" r=\"4.252\" fill=\"none\" stroke=\"rgba(64,220,64,0.9412)\" stroke-width=\"1.5\" stroke-miterlimit=\"10\"/>\n",
       "<circle cx=\"10.6964\" cy=\"124.1396\" r=\"4.252\" fill=\"none\" stroke=\"rgba(64,220,64,0.9412)\" stroke-width=\"1.5\" stroke-miterlimit=\"10\"/>\n",
       "<circle cx=\"80.962\" cy=\"170.6244\" r=\"4.252\" fill=\"none\" stroke=\"rgba(64,220,64,0.9412)\" stroke-width=\"1.5\" stroke-miterlimit=\"10\"/>\n",
       "<circle cx=\"178.2372\" cy=\"85.2065\" r=\"4.252\" fill=\"none\" stroke=\"rgba(64,220,64,0.9412)\" stroke-width=\"1.5\" stroke-miterlimit=\"10\"/>\n",
       "<circle cx=\"143.3018\" cy=\"42.9522\" r=\"4.252\" fill=\"none\" stroke=\"rgba(64,220,64,0.9412)\" stroke-width=\"1.5\" stroke-miterlimit=\"10\"/>\n",
       "<circle cx=\"131.3131\" cy=\"204.044\" r=\"4.252\" fill=\"none\" stroke=\"rgba(64,220,64,0.9412)\" stroke-width=\"1.5\" stroke-miterlimit=\"10\"/>\n",
       "<circle cx=\"207.4154\" cy=\"150.8886\" r=\"4.252\" fill=\"none\" stroke=\"rgba(64,220,64,0.9412)\" stroke-width=\"1.5\" stroke-miterlimit=\"10\"/>\n",
       "<circle cx=\"143.7811\" cy=\"234.4052\" r=\"4.252\" fill=\"none\" stroke=\"rgba(64,220,64,0.9412)\" stroke-width=\"1.5\" stroke-miterlimit=\"10\"/>\n",
       "<circle cx=\"136.7841\" cy=\"157.5693\" r=\"4.252\" fill=\"none\" stroke=\"rgba(64,220,64,0.9412)\" stroke-width=\"1.5\" stroke-miterlimit=\"10\"/>\n",
       "<circle cx=\"93.6182\" cy=\"190.1488\" r=\"4.252\" fill=\"none\" stroke=\"rgba(64,220,64,0.9412)\" stroke-width=\"1.5\" stroke-miterlimit=\"10\"/>\n",
       "<circle cx=\"211.9878\" cy=\"195.5909\" r=\"4.252\" fill=\"none\" stroke=\"rgba(64,220,64,0.9412)\" stroke-width=\"1.5\" stroke-miterlimit=\"10\"/>\n",
       "<circle cx=\"178.4377\" cy=\"115.2243\" r=\"4.252\" fill=\"none\" stroke=\"rgba(64,220,64,0.9412)\" stroke-width=\"1.5\" stroke-miterlimit=\"10\"/>\n",
       "<circle cx=\"174.8591\" cy=\"167.1531\" r=\"4.252\" fill=\"none\" stroke=\"rgba(64,220,64,0.9412)\" stroke-width=\"1.5\" stroke-miterlimit=\"10\"/>\n",
       "<circle cx=\"257.3021\" cy=\"146.9442\" r=\"4.252\" fill=\"none\" stroke=\"rgba(64,220,64,0.9412)\" stroke-width=\"1.5\" stroke-miterlimit=\"10\"/>\n",
       "<circle cx=\"176.3857\" cy=\"160.2268\" r=\"4.252\" fill=\"none\" stroke=\"rgba(64,220,64,0.9412)\" stroke-width=\"1.5\" stroke-miterlimit=\"10\"/>\n",
       "<circle cx=\"148.8367\" cy=\"133.5386\" r=\"4.252\" fill=\"none\" stroke=\"rgba(64,220,64,0.9412)\" stroke-width=\"1.5\" stroke-miterlimit=\"10\"/>\n",
       "<circle cx=\"56.6517\" cy=\"119.4708\" r=\"4.252\" fill=\"none\" stroke=\"rgba(64,220,64,0.9412)\" stroke-width=\"1.5\" stroke-miterlimit=\"10\"/>\n",
       "<circle cx=\"290.9901\" cy=\"32.8932\" r=\"4.252\" fill=\"none\" stroke=\"rgba(64,220,64,0.9412)\" stroke-width=\"1.5\" stroke-miterlimit=\"10\"/>\n",
       "<circle cx=\"62.7602\" cy=\"149.2399\" r=\"4.252\" fill=\"none\" stroke=\"rgba(64,220,64,0.9412)\" stroke-width=\"1.5\" stroke-miterlimit=\"10\"/>\n",
       "<circle cx=\"239.6141\" cy=\"92.3036\" r=\"4.252\" fill=\"none\" stroke=\"rgba(64,220,64,0.9412)\" stroke-width=\"1.5\" stroke-miterlimit=\"10\"/>\n",
       "<circle cx=\"133.0049\" cy=\"144.6078\" r=\"4.252\" fill=\"none\" stroke=\"rgba(64,220,64,0.9412)\" stroke-width=\"1.5\" stroke-miterlimit=\"10\"/>\n",
       "<circle cx=\"136.5059\" cy=\"111.9255\" r=\"4.252\" fill=\"none\" stroke=\"rgba(64,220,64,0.9412)\" stroke-width=\"1.5\" stroke-miterlimit=\"10\"/>\n",
       "<circle cx=\"78.6875\" cy=\"229.1003\" r=\"4.252\" fill=\"none\" stroke=\"rgba(64,220,64,0.9412)\" stroke-width=\"1.5\" stroke-miterlimit=\"10\"/>\n",
       "<circle cx=\"159.8534\" cy=\"134.2287\" r=\"4.252\" fill=\"none\" stroke=\"rgba(64,220,64,0.9412)\" stroke-width=\"1.5\" stroke-miterlimit=\"10\"/>\n",
       "<circle cx=\"210.9838\" cy=\"214.2375\" r=\"4.252\" fill=\"none\" stroke=\"rgba(64,220,64,0.9412)\" stroke-width=\"1.5\" stroke-miterlimit=\"10\"/>\n",
       "<circle cx=\"102.6236\" cy=\"146.8734\" r=\"4.252\" fill=\"none\" stroke=\"rgba(64,220,64,0.9412)\" stroke-width=\"1.5\" stroke-miterlimit=\"10\"/>\n",
       "<circle cx=\"146.2123\" cy=\"219.5504\" r=\"4.252\" fill=\"none\" stroke=\"rgba(64,220,64,0.9412)\" stroke-width=\"1.5\" stroke-miterlimit=\"10\"/>\n",
       "<circle cx=\"171.4605\" cy=\"140.2227\" r=\"4.252\" fill=\"none\" stroke=\"rgba(64,220,64,0.9412)\" stroke-width=\"1.5\" stroke-miterlimit=\"10\"/>\n",
       "<circle cx=\"126.3992\" cy=\"202.4684\" r=\"4.252\" fill=\"none\" stroke=\"rgba(64,220,64,0.9412)\" stroke-width=\"1.5\" stroke-miterlimit=\"10\"/>\n",
       "<circle cx=\"98.091\" cy=\"169.5553\" r=\"4.252\" fill=\"none\" stroke=\"rgba(64,220,64,0.9412)\" stroke-width=\"1.5\" stroke-miterlimit=\"10\"/>\n",
       "<circle cx=\"125.7021\" cy=\"87.3921\" r=\"4.252\" fill=\"none\" stroke=\"rgba(64,220,64,0.9412)\" stroke-width=\"1.5\" stroke-miterlimit=\"10\"/>\n",
       "<circle cx=\"119.7947\" cy=\"177.7203\" r=\"4.252\" fill=\"none\" stroke=\"rgba(64,220,64,0.9412)\" stroke-width=\"1.5\" stroke-miterlimit=\"10\"/>\n",
       "<circle cx=\"128.6252\" cy=\"158.7681\" r=\"4.252\" fill=\"none\" stroke=\"rgba(64,220,64,0.9412)\" stroke-width=\"1.5\" stroke-miterlimit=\"10\"/>\n",
       "<circle cx=\"74.7383\" cy=\"187.312\" r=\"4.252\" fill=\"none\" stroke=\"rgba(64,220,64,0.9412)\" stroke-width=\"1.5\" stroke-miterlimit=\"10\"/>\n",
       "<circle cx=\"225.6711\" cy=\"123.5056\" r=\"4.252\" fill=\"none\" stroke=\"rgba(64,220,64,0.9412)\" stroke-width=\"1.5\" stroke-miterlimit=\"10\"/>\n",
       "<circle cx=\"190.5154\" cy=\"134.6706\" r=\"4.252\" fill=\"none\" stroke=\"rgba(64,220,64,0.9412)\" stroke-width=\"1.5\" stroke-miterlimit=\"10\"/>\n",
       "<circle cx=\"120.8013\" cy=\"99.3642\" r=\"4.252\" fill=\"none\" stroke=\"rgba(64,220,64,0.9412)\" stroke-width=\"1.5\" stroke-miterlimit=\"10\"/>\n",
       "<circle cx=\"316.3437\" cy=\"122.1563\" r=\"4.252\" fill=\"none\" stroke=\"rgba(64,220,64,0.9412)\" stroke-width=\"1.5\" stroke-miterlimit=\"10\"/>\n",
       "<circle cx=\"113.4443\" cy=\"55.1402\" r=\"4.252\" fill=\"none\" stroke=\"rgba(64,220,64,0.9412)\" stroke-width=\"1.5\" stroke-miterlimit=\"10\"/>\n",
       "<circle cx=\"171.5606\" cy=\"132.6936\" r=\"4.252\" fill=\"none\" stroke=\"rgba(64,220,64,0.9412)\" stroke-width=\"1.5\" stroke-miterlimit=\"10\"/>\n",
       "<circle cx=\"108.8516\" cy=\"140.338\" r=\"4.252\" fill=\"none\" stroke=\"rgba(64,220,64,0.9412)\" stroke-width=\"1.5\" stroke-miterlimit=\"10\"/>\n",
       "<circle cx=\"176.1178\" cy=\"121.4566\" r=\"4.252\" fill=\"none\" stroke=\"rgba(64,220,64,0.9412)\" stroke-width=\"1.5\" stroke-miterlimit=\"10\"/>\n",
       "<circle cx=\"-12.3119\" cy=\"103.2005\" r=\"4.252\" fill=\"none\" stroke=\"rgba(64,220,64,0.9412)\" stroke-width=\"1.5\" stroke-miterlimit=\"10\"/>\n",
       "<circle cx=\"91.7316\" cy=\"130.0015\" r=\"4.252\" fill=\"none\" stroke=\"rgba(64,220,64,0.9412)\" stroke-width=\"1.5\" stroke-miterlimit=\"10\"/>\n",
       "<circle cx=\"7.8425\" cy=\"193.9526\" r=\"4.252\" fill=\"none\" stroke=\"rgba(64,220,64,0.9412)\" stroke-width=\"1.5\" stroke-miterlimit=\"10\"/>\n",
       "<circle cx=\"55.916\" cy=\"155.3299\" r=\"4.252\" fill=\"none\" stroke=\"rgba(64,220,64,0.9412)\" stroke-width=\"1.5\" stroke-miterlimit=\"10\"/>\n",
       "<circle cx=\"199.439\" cy=\"190.3243\" r=\"4.252\" fill=\"none\" stroke=\"rgba(64,220,64,0.9412)\" stroke-width=\"1.5\" stroke-miterlimit=\"10\"/>\n",
       "<circle cx=\"160.6372\" cy=\"123.6216\" r=\"4.252\" fill=\"none\" stroke=\"rgba(64,220,64,0.9412)\" stroke-width=\"1.5\" stroke-miterlimit=\"10\"/>\n",
       "<circle cx=\"123.442\" cy=\"164.0361\" r=\"4.252\" fill=\"none\" stroke=\"rgba(64,220,64,0.9412)\" stroke-width=\"1.5\" stroke-miterlimit=\"10\"/>\n",
       "<circle cx=\"70.387\" cy=\"211.7416\" r=\"4.252\" fill=\"none\" stroke=\"rgba(64,220,64,0.9412)\" stroke-width=\"1.5\" stroke-miterlimit=\"10\"/>\n",
       "<circle cx=\"112.7689\" cy=\"133.6344\" r=\"4.252\" fill=\"none\" stroke=\"rgba(64,220,64,0.9412)\" stroke-width=\"1.5\" stroke-miterlimit=\"10\"/>\n",
       "<circle cx=\"181.3423\" cy=\"223.7318\" r=\"4.252\" fill=\"none\" stroke=\"rgba(64,220,64,0.9412)\" stroke-width=\"1.5\" stroke-miterlimit=\"10\"/>\n",
       "<circle cx=\"49.2137\" cy=\"230.2552\" r=\"4.252\" fill=\"none\" stroke=\"rgba(64,220,64,0.9412)\" stroke-width=\"1.5\" stroke-miterlimit=\"10\"/>\n",
       "<circle cx=\"145.5882\" cy=\"118.5514\" r=\"4.252\" fill=\"none\" stroke=\"rgba(64,220,64,0.9412)\" stroke-width=\"1.5\" stroke-miterlimit=\"10\"/>\n",
       "<circle cx=\"227.3864\" cy=\"92.5092\" r=\"4.252\" fill=\"none\" stroke=\"rgba(64,220,64,0.9412)\" stroke-width=\"1.5\" stroke-miterlimit=\"10\"/>\n",
       "<circle cx=\"17.1267\" cy=\"94.2994\" r=\"4.252\" fill=\"none\" stroke=\"rgba(64,220,64,0.9412)\" stroke-width=\"1.5\" stroke-miterlimit=\"10\"/>\n",
       "<circle cx=\"173.2469\" cy=\"194.4991\" r=\"4.252\" fill=\"none\" stroke=\"rgba(64,220,64,0.9412)\" stroke-width=\"1.5\" stroke-miterlimit=\"10\"/>\n",
       "<circle cx=\"192.575\" cy=\"198.4041\" r=\"4.252\" fill=\"none\" stroke=\"rgba(64,220,64,0.9412)\" stroke-width=\"1.5\" stroke-miterlimit=\"10\"/>\n",
       "<circle cx=\"107.2096\" cy=\"73.3801\" r=\"4.252\" fill=\"none\" stroke=\"rgba(64,220,64,0.9412)\" stroke-width=\"1.5\" stroke-miterlimit=\"10\"/>\n",
       "<circle cx=\"172.9484\" cy=\"131.4485\" r=\"4.252\" fill=\"none\" stroke=\"rgba(64,220,64,0.9412)\" stroke-width=\"1.5\" stroke-miterlimit=\"10\"/>\n",
       "<circle cx=\"167.0035\" cy=\"168.8707\" r=\"4.252\" fill=\"none\" stroke=\"rgba(64,220,64,0.9412)\" stroke-width=\"1.5\" stroke-miterlimit=\"10\"/>\n",
       "<circle cx=\"207.4193\" cy=\"70.0081\" r=\"4.252\" fill=\"none\" stroke=\"rgba(64,220,64,0.9412)\" stroke-width=\"1.5\" stroke-miterlimit=\"10\"/>\n",
       "<circle cx=\"156.8972\" cy=\"122.7811\" r=\"4.252\" fill=\"none\" stroke=\"rgba(64,220,64,0.9412)\" stroke-width=\"1.5\" stroke-miterlimit=\"10\"/>\n",
       "<circle cx=\"137.1283\" cy=\"130.9768\" r=\"4.252\" fill=\"none\" stroke=\"rgba(64,220,64,0.9412)\" stroke-width=\"1.5\" stroke-miterlimit=\"10\"/>\n",
       "<circle cx=\"140.4698\" cy=\"70.6343\" r=\"4.252\" fill=\"none\" stroke=\"rgba(64,220,64,0.9412)\" stroke-width=\"1.5\" stroke-miterlimit=\"10\"/>\n",
       "<circle cx=\"169.9457\" cy=\"119.937\" r=\"4.252\" fill=\"none\" stroke=\"rgba(64,220,64,0.9412)\" stroke-width=\"1.5\" stroke-miterlimit=\"10\"/>\n",
       "<circle cx=\"73.142\" cy=\"49.4791\" r=\"4.252\" fill=\"none\" stroke=\"rgba(64,220,64,0.9412)\" stroke-width=\"1.5\" stroke-miterlimit=\"10\"/>\n",
       "<circle cx=\"138.6382\" cy=\"117.5581\" r=\"4.252\" fill=\"none\" stroke=\"rgba(64,220,64,0.9412)\" stroke-width=\"1.5\" stroke-miterlimit=\"10\"/>\n",
       "<circle cx=\"96.0337\" cy=\"69.233\" r=\"4.252\" fill=\"none\" stroke=\"rgba(64,220,64,0.9412)\" stroke-width=\"1.5\" stroke-miterlimit=\"10\"/>\n",
       "<circle cx=\"208.548\" cy=\"208.4055\" r=\"4.252\" fill=\"none\" stroke=\"rgba(64,220,64,0.9412)\" stroke-width=\"1.5\" stroke-miterlimit=\"10\"/>\n",
       "<circle cx=\"192.1589\" cy=\"162.9919\" r=\"4.252\" fill=\"none\" stroke=\"rgba(64,220,64,0.9412)\" stroke-width=\"1.5\" stroke-miterlimit=\"10\"/>\n",
       "<circle cx=\"125.2744\" cy=\"305.6635\" r=\"4.252\" fill=\"none\" stroke=\"rgba(64,220,64,0.9412)\" stroke-width=\"1.5\" stroke-miterlimit=\"10\"/>\n",
       "<circle cx=\"126.5787\" cy=\"50.3055\" r=\"4.252\" fill=\"none\" stroke=\"rgba(64,220,64,0.9412)\" stroke-width=\"1.5\" stroke-miterlimit=\"10\"/>\n",
       "<circle cx=\"60.1219\" cy=\"154.772\" r=\"4.252\" fill=\"none\" stroke=\"rgba(64,220,64,0.9412)\" stroke-width=\"1.5\" stroke-miterlimit=\"10\"/>\n",
       "<circle cx=\"187.5644\" cy=\"48.079\" r=\"4.252\" fill=\"none\" stroke=\"rgba(64,220,64,0.9412)\" stroke-width=\"1.5\" stroke-miterlimit=\"10\"/>\n",
       "<circle cx=\"111.3999\" cy=\"37.8976\" r=\"4.252\" fill=\"none\" stroke=\"rgba(64,220,64,0.9412)\" stroke-width=\"1.5\" stroke-miterlimit=\"10\"/>\n",
       "<circle cx=\"112.967\" cy=\"96.1782\" r=\"4.252\" fill=\"none\" stroke=\"rgba(64,220,64,0.9412)\" stroke-width=\"1.5\" stroke-miterlimit=\"10\"/>\n",
       "<circle cx=\"206.0324\" cy=\"180.4568\" r=\"4.252\" fill=\"none\" stroke=\"rgba(64,220,64,0.9412)\" stroke-width=\"1.5\" stroke-miterlimit=\"10\"/>\n",
       "<circle cx=\"217.3923\" cy=\"74.5496\" r=\"4.252\" fill=\"none\" stroke=\"rgba(64,220,64,0.9412)\" stroke-width=\"1.5\" stroke-miterlimit=\"10\"/>\n",
       "<circle cx=\"51.1715\" cy=\"162.7948\" r=\"4.252\" fill=\"none\" stroke=\"rgba(64,220,64,0.9412)\" stroke-width=\"1.5\" stroke-miterlimit=\"10\"/>\n",
       "<circle cx=\"228.2012\" cy=\"161.2211\" r=\"4.252\" fill=\"none\" stroke=\"rgba(64,220,64,0.9412)\" stroke-width=\"1.5\" stroke-miterlimit=\"10\"/>\n",
       "<circle cx=\"108.9477\" cy=\"77.4084\" r=\"4.252\" fill=\"none\" stroke=\"rgba(64,220,64,0.9412)\" stroke-width=\"1.5\" stroke-miterlimit=\"10\"/>\n",
       "<circle cx=\"214.1711\" cy=\"130.5627\" r=\"4.252\" fill=\"none\" stroke=\"rgba(64,220,64,0.9412)\" stroke-width=\"1.5\" stroke-miterlimit=\"10\"/>\n",
       "<circle cx=\"84.1099\" cy=\"157.4659\" r=\"4.252\" fill=\"none\" stroke=\"rgba(64,220,64,0.9412)\" stroke-width=\"1.5\" stroke-miterlimit=\"10\"/>\n",
       "<circle cx=\"6.4818\" cy=\"99.3748\" r=\"4.252\" fill=\"none\" stroke=\"rgba(64,220,64,0.9412)\" stroke-width=\"1.5\" stroke-miterlimit=\"10\"/>\n",
       "<circle cx=\"218.1834\" cy=\"109.4333\" r=\"4.252\" fill=\"none\" stroke=\"rgba(64,220,64,0.9412)\" stroke-width=\"1.5\" stroke-miterlimit=\"10\"/>\n",
       "<circle cx=\"239.1683\" cy=\"170.3111\" r=\"4.252\" fill=\"none\" stroke=\"rgba(64,220,64,0.9412)\" stroke-width=\"1.5\" stroke-miterlimit=\"10\"/>\n",
       "<circle cx=\"178.2528\" cy=\"73.8433\" r=\"4.252\" fill=\"none\" stroke=\"rgba(64,220,64,0.9412)\" stroke-width=\"1.5\" stroke-miterlimit=\"10\"/>\n",
       "<circle cx=\"242.8361\" cy=\"161.0785\" r=\"4.252\" fill=\"none\" stroke=\"rgba(64,220,64,0.9412)\" stroke-width=\"1.5\" stroke-miterlimit=\"10\"/>\n",
       "<circle cx=\"301.4125\" cy=\"217.7088\" r=\"4.252\" fill=\"none\" stroke=\"rgba(64,220,64,0.9412)\" stroke-width=\"1.5\" stroke-miterlimit=\"10\"/>\n",
       "<circle cx=\"162.5405\" cy=\"126.9423\" r=\"4.252\" fill=\"none\" stroke=\"rgba(64,220,64,0.9412)\" stroke-width=\"1.5\" stroke-miterlimit=\"10\"/>\n",
       "<circle cx=\"154.1454\" cy=\"153.1276\" r=\"4.252\" fill=\"none\" stroke=\"rgba(64,220,64,0.9412)\" stroke-width=\"1.5\" stroke-miterlimit=\"10\"/>\n",
       "<circle cx=\"117.6092\" cy=\"123.7675\" r=\"4.252\" fill=\"none\" stroke=\"rgba(64,220,64,0.9412)\" stroke-width=\"1.5\" stroke-miterlimit=\"10\"/>\n",
       "<circle cx=\"100.2292\" cy=\"137.1955\" r=\"4.252\" fill=\"none\" stroke=\"rgba(64,220,64,0.9412)\" stroke-width=\"1.5\" stroke-miterlimit=\"10\"/>\n",
       "<circle cx=\"104.6921\" cy=\"137.8037\" r=\"4.252\" fill=\"none\" stroke=\"rgba(64,220,64,0.9412)\" stroke-width=\"1.5\" stroke-miterlimit=\"10\"/>\n",
       "<circle cx=\"119.5644\" cy=\"205.5783\" r=\"4.252\" fill=\"none\" stroke=\"rgba(64,220,64,0.9412)\" stroke-width=\"1.5\" stroke-miterlimit=\"10\"/>\n",
       "<circle cx=\"37.025\" cy=\"194.1016\" r=\"4.252\" fill=\"none\" stroke=\"rgba(64,220,64,0.9412)\" stroke-width=\"1.5\" stroke-miterlimit=\"10\"/>\n",
       "<circle cx=\"141.5668\" cy=\"203.2347\" r=\"4.252\" fill=\"none\" stroke=\"rgba(64,220,64,0.9412)\" stroke-width=\"1.5\" stroke-miterlimit=\"10\"/>\n",
       "<circle cx=\"163.7375\" cy=\"234.7646\" r=\"4.252\" fill=\"none\" stroke=\"rgba(64,220,64,0.9412)\" stroke-width=\"1.5\" stroke-miterlimit=\"10\"/>\n",
       "<circle cx=\"42.2033\" cy=\"147.1939\" r=\"4.252\" fill=\"none\" stroke=\"rgba(64,220,64,0.9412)\" stroke-width=\"1.5\" stroke-miterlimit=\"10\"/>\n",
       "<circle cx=\"126.9245\" cy=\"138.1398\" r=\"4.252\" fill=\"none\" stroke=\"rgba(64,220,64,0.9412)\" stroke-width=\"1.5\" stroke-miterlimit=\"10\"/>\n",
       "<circle cx=\"106.7024\" cy=\"113.8095\" r=\"4.252\" fill=\"none\" stroke=\"rgba(64,220,64,0.9412)\" stroke-width=\"1.5\" stroke-miterlimit=\"10\"/>\n",
       "<circle cx=\"131.6221\" cy=\"190.61\" r=\"4.252\" fill=\"none\" stroke=\"rgba(64,220,64,0.9412)\" stroke-width=\"1.5\" stroke-miterlimit=\"10\"/>\n",
       "<circle cx=\"166.6012\" cy=\"79.8028\" r=\"4.252\" fill=\"none\" stroke=\"rgba(64,220,64,0.9412)\" stroke-width=\"1.5\" stroke-miterlimit=\"10\"/>\n",
       "<circle cx=\"166.2375\" cy=\"47.3133\" r=\"4.252\" fill=\"none\" stroke=\"rgba(64,220,64,0.9412)\" stroke-width=\"1.5\" stroke-miterlimit=\"10\"/>\n",
       "<circle cx=\"219.7612\" cy=\"149.7691\" r=\"4.252\" fill=\"none\" stroke=\"rgba(64,220,64,0.9412)\" stroke-width=\"1.5\" stroke-miterlimit=\"10\"/>\n",
       "<circle cx=\"118.3066\" cy=\"77.4235\" r=\"4.252\" fill=\"none\" stroke=\"rgba(64,220,64,0.9412)\" stroke-width=\"1.5\" stroke-miterlimit=\"10\"/>\n",
       "<circle cx=\"80.7469\" cy=\"126.6756\" r=\"4.252\" fill=\"none\" stroke=\"rgba(64,220,64,0.9412)\" stroke-width=\"1.5\" stroke-miterlimit=\"10\"/>\n",
       "<circle cx=\"180.793\" cy=\"131.3123\" r=\"4.252\" fill=\"none\" stroke=\"rgba(64,220,64,0.9412)\" stroke-width=\"1.5\" stroke-miterlimit=\"10\"/>\n",
       "<circle cx=\"213.1345\" cy=\"199.4296\" r=\"4.252\" fill=\"none\" stroke=\"rgba(64,220,64,0.9412)\" stroke-width=\"1.5\" stroke-miterlimit=\"10\"/>\n",
       "<circle cx=\"31.9783\" cy=\"56.5361\" r=\"4.252\" fill=\"none\" stroke=\"rgba(64,220,64,0.9412)\" stroke-width=\"1.5\" stroke-miterlimit=\"10\"/>\n",
       "<circle cx=\"207.4375\" cy=\"57.6524\" r=\"4.252\" fill=\"none\" stroke=\"rgba(64,220,64,0.9412)\" stroke-width=\"1.5\" stroke-miterlimit=\"10\"/>\n",
       "<circle cx=\"215.316\" cy=\"200.9936\" r=\"4.252\" fill=\"none\" stroke=\"rgba(64,220,64,0.9412)\" stroke-width=\"1.5\" stroke-miterlimit=\"10\"/>\n",
       "<circle cx=\"194.3937\" cy=\"138.6927\" r=\"4.252\" fill=\"none\" stroke=\"rgba(64,220,64,0.9412)\" stroke-width=\"1.5\" stroke-miterlimit=\"10\"/>\n",
       "<circle cx=\"132.4254\" cy=\"205.0976\" r=\"4.252\" fill=\"none\" stroke=\"rgba(64,220,64,0.9412)\" stroke-width=\"1.5\" stroke-miterlimit=\"10\"/>\n",
       "<circle cx=\"101.3496\" cy=\"172.3567\" r=\"4.252\" fill=\"none\" stroke=\"rgba(64,220,64,0.9412)\" stroke-width=\"1.5\" stroke-miterlimit=\"10\"/>\n",
       "<circle cx=\"157.2825\" cy=\"124.5551\" r=\"4.252\" fill=\"none\" stroke=\"rgba(64,220,64,0.9412)\" stroke-width=\"1.5\" stroke-miterlimit=\"10\"/>\n",
       "<circle cx=\"234.8355\" cy=\"187.2456\" r=\"4.252\" fill=\"none\" stroke=\"rgba(64,220,64,0.9412)\" stroke-width=\"1.5\" stroke-miterlimit=\"10\"/>\n",
       "<circle cx=\"109.5373\" cy=\"91.4442\" r=\"4.252\" fill=\"none\" stroke=\"rgba(64,220,64,0.9412)\" stroke-width=\"1.5\" stroke-miterlimit=\"10\"/>\n",
       "<circle cx=\"120.182\" cy=\"119.3504\" r=\"4.252\" fill=\"none\" stroke=\"rgba(64,220,64,0.9412)\" stroke-width=\"1.5\" stroke-miterlimit=\"10\"/>\n",
       "<circle cx=\"127.4513\" cy=\"94.6709\" r=\"4.252\" fill=\"none\" stroke=\"rgba(64,220,64,0.9412)\" stroke-width=\"1.5\" stroke-miterlimit=\"10\"/>\n",
       "<circle cx=\"207.5792\" cy=\"171.3286\" r=\"4.252\" fill=\"none\" stroke=\"rgba(64,220,64,0.9412)\" stroke-width=\"1.5\" stroke-miterlimit=\"10\"/>\n",
       "<circle cx=\"130.1719\" cy=\"160.0386\" r=\"4.252\" fill=\"none\" stroke=\"rgba(64,220,64,0.9412)\" stroke-width=\"1.5\" stroke-miterlimit=\"10\"/>\n",
       "<circle cx=\"126.2422\" cy=\"66.2288\" r=\"4.252\" fill=\"none\" stroke=\"rgba(64,220,64,0.9412)\" stroke-width=\"1.5\" stroke-miterlimit=\"10\"/>\n",
       "<circle cx=\"98.2756\" cy=\"119.5585\" r=\"4.252\" fill=\"none\" stroke=\"rgba(64,220,64,0.9412)\" stroke-width=\"1.5\" stroke-miterlimit=\"10\"/>\n",
       "<circle cx=\"148.83\" cy=\"164.4536\" r=\"4.252\" fill=\"none\" stroke=\"rgba(64,220,64,0.9412)\" stroke-width=\"1.5\" stroke-miterlimit=\"10\"/>\n",
       "<circle cx=\"114.4972\" cy=\"118.1821\" r=\"4.252\" fill=\"none\" stroke=\"rgba(64,220,64,0.9412)\" stroke-width=\"1.5\" stroke-miterlimit=\"10\"/>\n",
       "<circle cx=\"37.7393\" cy=\"163.8982\" r=\"4.252\" fill=\"none\" stroke=\"rgba(64,220,64,0.9412)\" stroke-width=\"1.5\" stroke-miterlimit=\"10\"/>\n",
       "<circle cx=\"267.1742\" cy=\"96.2405\" r=\"4.252\" fill=\"none\" stroke=\"rgba(64,220,64,0.9412)\" stroke-width=\"1.5\" stroke-miterlimit=\"10\"/>\n",
       "<circle cx=\"218.0668\" cy=\"190.6403\" r=\"4.252\" fill=\"none\" stroke=\"rgba(64,220,64,0.9412)\" stroke-width=\"1.5\" stroke-miterlimit=\"10\"/>\n",
       "<circle cx=\"143.7061\" cy=\"142.2963\" r=\"4.252\" fill=\"none\" stroke=\"rgba(64,220,64,0.9412)\" stroke-width=\"1.5\" stroke-miterlimit=\"10\"/>\n",
       "<circle cx=\"147.542\" cy=\"233.8697\" r=\"4.252\" fill=\"none\" stroke=\"rgba(64,220,64,0.9412)\" stroke-width=\"1.5\" stroke-miterlimit=\"10\"/>\n",
       "<circle cx=\"153.3777\" cy=\"207.6301\" r=\"4.252\" fill=\"none\" stroke=\"rgba(64,220,64,0.9412)\" stroke-width=\"1.5\" stroke-miterlimit=\"10\"/>\n",
       "<circle cx=\"124.9106\" cy=\"146.1161\" r=\"4.252\" fill=\"none\" stroke=\"rgba(64,220,64,0.9412)\" stroke-width=\"1.5\" stroke-miterlimit=\"10\"/>\n",
       "<circle cx=\"151.966\" cy=\"142.2016\" r=\"4.252\" fill=\"none\" stroke=\"rgba(64,220,64,0.9412)\" stroke-width=\"1.5\" stroke-miterlimit=\"10\"/>\n",
       "<circle cx=\"243.6387\" cy=\"120.2719\" r=\"4.252\" fill=\"none\" stroke=\"rgba(64,220,64,0.9412)\" stroke-width=\"1.5\" stroke-miterlimit=\"10\"/>\n",
       "<circle cx=\"129.112\" cy=\"148.1799\" r=\"4.252\" fill=\"none\" stroke=\"rgba(64,220,64,0.9412)\" stroke-width=\"1.5\" stroke-miterlimit=\"10\"/>\n",
       "<circle cx=\"153.4169\" cy=\"104.2753\" r=\"4.252\" fill=\"none\" stroke=\"rgba(64,220,64,0.9412)\" stroke-width=\"1.5\" stroke-miterlimit=\"10\"/>\n",
       "<circle cx=\"198.7734\" cy=\"28.1761\" r=\"4.252\" fill=\"none\" stroke=\"rgba(64,220,64,0.9412)\" stroke-width=\"1.5\" stroke-miterlimit=\"10\"/>\n",
       "<circle cx=\"89.187\" cy=\"256.3763\" r=\"4.252\" fill=\"none\" stroke=\"rgba(64,220,64,0.9412)\" stroke-width=\"1.5\" stroke-miterlimit=\"10\"/>\n",
       "<circle cx=\"109.1362\" cy=\"150.5515\" r=\"4.252\" fill=\"none\" stroke=\"rgba(64,220,64,0.9412)\" stroke-width=\"1.5\" stroke-miterlimit=\"10\"/>\n",
       "<circle cx=\"119.2559\" cy=\"251.1293\" r=\"4.252\" fill=\"none\" stroke=\"rgba(64,220,64,0.9412)\" stroke-width=\"1.5\" stroke-miterlimit=\"10\"/>\n",
       "<circle cx=\"192.2053\" cy=\"270.7904\" r=\"4.252\" fill=\"none\" stroke=\"rgba(64,220,64,0.9412)\" stroke-width=\"1.5\" stroke-miterlimit=\"10\"/>\n",
       "<circle cx=\"17.472\" cy=\"98.3706\" r=\"4.252\" fill=\"none\" stroke=\"rgba(64,220,64,0.9412)\" stroke-width=\"1.5\" stroke-miterlimit=\"10\"/>\n",
       "<circle cx=\"183.8703\" cy=\"111.7132\" r=\"4.252\" fill=\"none\" stroke=\"rgba(64,220,64,0.9412)\" stroke-width=\"1.5\" stroke-miterlimit=\"10\"/>\n",
       "<circle cx=\"151.9916\" cy=\"160.3281\" r=\"4.252\" fill=\"none\" stroke=\"rgba(64,220,64,0.9412)\" stroke-width=\"1.5\" stroke-miterlimit=\"10\"/>\n",
       "<circle cx=\"86.5339\" cy=\"137.4001\" r=\"4.252\" fill=\"none\" stroke=\"rgba(64,220,64,0.9412)\" stroke-width=\"1.5\" stroke-miterlimit=\"10\"/>\n",
       "<circle cx=\"28.6493\" cy=\"136.5365\" r=\"4.252\" fill=\"none\" stroke=\"rgba(64,220,64,0.9412)\" stroke-width=\"1.5\" stroke-miterlimit=\"10\"/>\n",
       "<circle cx=\"119.0372\" cy=\"186.835\" r=\"4.252\" fill=\"none\" stroke=\"rgba(64,220,64,0.9412)\" stroke-width=\"1.5\" stroke-miterlimit=\"10\"/>\n",
       "<circle cx=\"54.6122\" cy=\"50.9352\" r=\"4.252\" fill=\"none\" stroke=\"rgba(64,220,64,0.9412)\" stroke-width=\"1.5\" stroke-miterlimit=\"10\"/>\n",
       "<circle cx=\"84.3818\" cy=\"156.3274\" r=\"4.252\" fill=\"none\" stroke=\"rgba(64,220,64,0.9412)\" stroke-width=\"1.5\" stroke-miterlimit=\"10\"/>\n",
       "<circle cx=\"20.8812\" cy=\"132.7704\" r=\"4.252\" fill=\"none\" stroke=\"rgba(64,220,64,0.9412)\" stroke-width=\"1.5\" stroke-miterlimit=\"10\"/>\n",
       "<circle cx=\"116.4609\" cy=\"106.1209\" r=\"4.252\" fill=\"none\" stroke=\"rgba(64,220,64,0.9412)\" stroke-width=\"1.5\" stroke-miterlimit=\"10\"/>\n",
       "<circle cx=\"195.8048\" cy=\"172.1381\" r=\"4.252\" fill=\"none\" stroke=\"rgba(64,220,64,0.9412)\" stroke-width=\"1.5\" stroke-miterlimit=\"10\"/>\n",
       "<circle cx=\"158.5406\" cy=\"140.1402\" r=\"4.252\" fill=\"none\" stroke=\"rgba(64,220,64,0.9412)\" stroke-width=\"1.5\" stroke-miterlimit=\"10\"/>\n",
       "<circle cx=\"126.4104\" cy=\"116.5979\" r=\"4.252\" fill=\"none\" stroke=\"rgba(64,220,64,0.9412)\" stroke-width=\"1.5\" stroke-miterlimit=\"10\"/>\n",
       "<circle cx=\"239.2982\" cy=\"127.7604\" r=\"4.252\" fill=\"none\" stroke=\"rgba(64,220,64,0.9412)\" stroke-width=\"1.5\" stroke-miterlimit=\"10\"/>\n",
       "<circle cx=\"208.6919\" cy=\"203.991\" r=\"4.252\" fill=\"none\" stroke=\"rgba(64,220,64,0.9412)\" stroke-width=\"1.5\" stroke-miterlimit=\"10\"/>\n",
       "<circle cx=\"273.6215\" cy=\"153.0225\" r=\"4.252\" fill=\"none\" stroke=\"rgba(64,220,64,0.9412)\" stroke-width=\"1.5\" stroke-miterlimit=\"10\"/>\n",
       "<circle cx=\"99.5104\" cy=\"123.6114\" r=\"4.252\" fill=\"none\" stroke=\"rgba(64,220,64,0.9412)\" stroke-width=\"1.5\" stroke-miterlimit=\"10\"/>\n",
       "<circle cx=\"116.0513\" cy=\"77.7418\" r=\"4.252\" fill=\"none\" stroke=\"rgba(64,220,64,0.9412)\" stroke-width=\"1.5\" stroke-miterlimit=\"10\"/>\n",
       "<circle cx=\"192.4587\" cy=\"170.3497\" r=\"4.252\" fill=\"none\" stroke=\"rgba(64,220,64,0.9412)\" stroke-width=\"1.5\" stroke-miterlimit=\"10\"/>\n",
       "<circle cx=\"115.0166\" cy=\"155.828\" r=\"4.252\" fill=\"none\" stroke=\"rgba(64,220,64,0.9412)\" stroke-width=\"1.5\" stroke-miterlimit=\"10\"/>\n",
       "<circle cx=\"207.777\" cy=\"181.4175\" r=\"4.252\" fill=\"none\" stroke=\"rgba(64,220,64,0.9412)\" stroke-width=\"1.5\" stroke-miterlimit=\"10\"/>\n",
       "<circle cx=\"146.611\" cy=\"95.2863\" r=\"4.252\" fill=\"none\" stroke=\"rgba(64,220,64,0.9412)\" stroke-width=\"1.5\" stroke-miterlimit=\"10\"/>\n",
       "<circle cx=\"122.2735\" cy=\"193.8693\" r=\"4.252\" fill=\"none\" stroke=\"rgba(64,220,64,0.9412)\" stroke-width=\"1.5\" stroke-miterlimit=\"10\"/>\n",
       "<circle cx=\"174.2734\" cy=\"128.4402\" r=\"4.252\" fill=\"none\" stroke=\"rgba(64,220,64,0.9412)\" stroke-width=\"1.5\" stroke-miterlimit=\"10\"/>\n",
       "<circle cx=\"77.0629\" cy=\"210.8956\" r=\"4.252\" fill=\"none\" stroke=\"rgba(64,220,64,0.9412)\" stroke-width=\"1.5\" stroke-miterlimit=\"10\"/>\n",
       "<circle cx=\"125.9412\" cy=\"71.2766\" r=\"4.252\" fill=\"none\" stroke=\"rgba(64,220,64,0.9412)\" stroke-width=\"1.5\" stroke-miterlimit=\"10\"/>\n",
       "<circle cx=\"170.8604\" cy=\"198.113\" r=\"4.252\" fill=\"none\" stroke=\"rgba(64,220,64,0.9412)\" stroke-width=\"1.5\" stroke-miterlimit=\"10\"/>\n",
       "<circle cx=\"205.7995\" cy=\"147.226\" r=\"4.252\" fill=\"none\" stroke=\"rgba(64,220,64,0.9412)\" stroke-width=\"1.5\" stroke-miterlimit=\"10\"/>\n",
       "<circle cx=\"146.4702\" cy=\"231.6808\" r=\"4.252\" fill=\"none\" stroke=\"rgba(64,220,64,0.9412)\" stroke-width=\"1.5\" stroke-miterlimit=\"10\"/>\n",
       "<circle cx=\"198.6576\" cy=\"123.953\" r=\"4.252\" fill=\"none\" stroke=\"rgba(64,220,64,0.9412)\" stroke-width=\"1.5\" stroke-miterlimit=\"10\"/>\n",
       "<circle cx=\"141.6372\" cy=\"149.1859\" r=\"4.252\" fill=\"none\" stroke=\"rgba(64,220,64,0.9412)\" stroke-width=\"1.5\" stroke-miterlimit=\"10\"/>\n",
       "<circle cx=\"210.7017\" cy=\"102.7118\" r=\"4.252\" fill=\"none\" stroke=\"rgba(64,220,64,0.9412)\" stroke-width=\"1.5\" stroke-miterlimit=\"10\"/>\n",
       "<circle cx=\"140.9387\" cy=\"82.0349\" r=\"4.252\" fill=\"none\" stroke=\"rgba(64,220,64,0.9412)\" stroke-width=\"1.5\" stroke-miterlimit=\"10\"/>\n",
       "<circle cx=\"239.3641\" cy=\"232.142\" r=\"4.252\" fill=\"none\" stroke=\"rgba(64,220,64,0.9412)\" stroke-width=\"1.5\" stroke-miterlimit=\"10\"/>\n",
       "<circle cx=\"119.5826\" cy=\"127.103\" r=\"4.252\" fill=\"none\" stroke=\"rgba(64,220,64,0.9412)\" stroke-width=\"1.5\" stroke-miterlimit=\"10\"/>\n",
       "<circle cx=\"140.4403\" cy=\"154.402\" r=\"4.252\" fill=\"none\" stroke=\"rgba(64,220,64,0.9412)\" stroke-width=\"1.5\" stroke-miterlimit=\"10\"/>\n",
       "<circle cx=\"143.1711\" cy=\"159.8079\" r=\"4.252\" fill=\"none\" stroke=\"rgba(64,220,64,0.9412)\" stroke-width=\"1.5\" stroke-miterlimit=\"10\"/>\n",
       "<circle cx=\"158.4707\" cy=\"39.2071\" r=\"4.252\" fill=\"none\" stroke=\"rgba(64,220,64,0.9412)\" stroke-width=\"1.5\" stroke-miterlimit=\"10\"/>\n",
       "<circle cx=\"130.9384\" cy=\"212.1985\" r=\"4.252\" fill=\"none\" stroke=\"rgba(64,220,64,0.9412)\" stroke-width=\"1.5\" stroke-miterlimit=\"10\"/>\n",
       "<circle cx=\"170.6478\" cy=\"86.6773\" r=\"4.252\" fill=\"none\" stroke=\"rgba(64,220,64,0.9412)\" stroke-width=\"1.5\" stroke-miterlimit=\"10\"/>\n",
       "<circle cx=\"93.0435\" cy=\"190.1643\" r=\"4.252\" fill=\"none\" stroke=\"rgba(64,220,64,0.9412)\" stroke-width=\"1.5\" stroke-miterlimit=\"10\"/>\n",
       "<circle cx=\"160.3852\" cy=\"42.9953\" r=\"4.252\" fill=\"none\" stroke=\"rgba(64,220,64,0.9412)\" stroke-width=\"1.5\" stroke-miterlimit=\"10\"/>\n",
       "<circle cx=\"254.1419\" cy=\"165.143\" r=\"4.252\" fill=\"none\" stroke=\"rgba(64,220,64,0.9412)\" stroke-width=\"1.5\" stroke-miterlimit=\"10\"/>\n",
       "<circle cx=\"121.5528\" cy=\"37.2285\" r=\"4.252\" fill=\"none\" stroke=\"rgba(64,220,64,0.9412)\" stroke-width=\"1.5\" stroke-miterlimit=\"10\"/>\n",
       "<circle cx=\"93.4647\" cy=\"174.2726\" r=\"4.252\" fill=\"none\" stroke=\"rgba(64,220,64,0.9412)\" stroke-width=\"1.5\" stroke-miterlimit=\"10\"/>\n",
       "<circle cx=\"90.4681\" cy=\"21.9833\" r=\"4.252\" fill=\"none\" stroke=\"rgba(64,220,64,0.9412)\" stroke-width=\"1.5\" stroke-miterlimit=\"10\"/>\n",
       "<circle cx=\"33.2458\" cy=\"197.3508\" r=\"4.252\" fill=\"none\" stroke=\"rgba(64,220,64,0.9412)\" stroke-width=\"1.5\" stroke-miterlimit=\"10\"/>\n",
       "<circle cx=\"225.6984\" cy=\"264.9839\" r=\"4.252\" fill=\"none\" stroke=\"rgba(64,220,64,0.9412)\" stroke-width=\"1.5\" stroke-miterlimit=\"10\"/>\n",
       "<circle cx=\"149.6866\" cy=\"203.0845\" r=\"4.252\" fill=\"none\" stroke=\"rgba(64,220,64,0.9412)\" stroke-width=\"1.5\" stroke-miterlimit=\"10\"/>\n",
       "<circle cx=\"56.5138\" cy=\"96.0047\" r=\"4.252\" fill=\"none\" stroke=\"rgba(64,220,64,0.9412)\" stroke-width=\"1.5\" stroke-miterlimit=\"10\"/>\n",
       "<circle cx=\"11.2981\" cy=\"169.7526\" r=\"4.252\" fill=\"none\" stroke=\"rgba(64,220,64,0.9412)\" stroke-width=\"1.5\" stroke-miterlimit=\"10\"/>\n",
       "<circle cx=\"59.774\" cy=\"164.2669\" r=\"4.252\" fill=\"none\" stroke=\"rgba(64,220,64,0.9412)\" stroke-width=\"1.5\" stroke-miterlimit=\"10\"/>\n",
       "<circle cx=\"206.1772\" cy=\"132.1392\" r=\"4.252\" fill=\"none\" stroke=\"rgba(64,220,64,0.9412)\" stroke-width=\"1.5\" stroke-miterlimit=\"10\"/>\n",
       "<circle cx=\"117.7793\" cy=\"108.6868\" r=\"4.252\" fill=\"none\" stroke=\"rgba(64,220,64,0.9412)\" stroke-width=\"1.5\" stroke-miterlimit=\"10\"/>\n",
       "<circle cx=\"177.3838\" cy=\"191.3914\" r=\"4.252\" fill=\"none\" stroke=\"rgba(64,220,64,0.9412)\" stroke-width=\"1.5\" stroke-miterlimit=\"10\"/>\n",
       "<circle cx=\"198.3729\" cy=\"98.3661\" r=\"4.252\" fill=\"none\" stroke=\"rgba(64,220,64,0.9412)\" stroke-width=\"1.5\" stroke-miterlimit=\"10\"/>\n",
       "<circle cx=\"186.414\" cy=\"128.7297\" r=\"4.252\" fill=\"none\" stroke=\"rgba(64,220,64,0.9412)\" stroke-width=\"1.5\" stroke-miterlimit=\"10\"/>\n",
       "<circle cx=\"193.714\" cy=\"103.2743\" r=\"4.252\" fill=\"none\" stroke=\"rgba(64,220,64,0.9412)\" stroke-width=\"1.5\" stroke-miterlimit=\"10\"/>\n",
       "<circle cx=\"130.6432\" cy=\"250.6288\" r=\"4.252\" fill=\"none\" stroke=\"rgba(64,220,64,0.9412)\" stroke-width=\"1.5\" stroke-miterlimit=\"10\"/>\n",
       "<circle cx=\"187.4965\" cy=\"167.7066\" r=\"4.252\" fill=\"none\" stroke=\"rgba(64,220,64,0.9412)\" stroke-width=\"1.5\" stroke-miterlimit=\"10\"/>\n",
       "<circle cx=\"219.0146\" cy=\"126.9204\" r=\"4.252\" fill=\"none\" stroke=\"rgba(64,220,64,0.9412)\" stroke-width=\"1.5\" stroke-miterlimit=\"10\"/>\n",
       "<circle cx=\"179.6255\" cy=\"59.9783\" r=\"4.252\" fill=\"none\" stroke=\"rgba(64,220,64,0.9412)\" stroke-width=\"1.5\" stroke-miterlimit=\"10\"/>\n",
       "<circle cx=\"122.6631\" cy=\"95.546\" r=\"4.252\" fill=\"none\" stroke=\"rgba(64,220,64,0.9412)\" stroke-width=\"1.5\" stroke-miterlimit=\"10\"/>\n",
       "<circle cx=\"121.3537\" cy=\"179.2955\" r=\"4.252\" fill=\"none\" stroke=\"rgba(64,220,64,0.9412)\" stroke-width=\"1.5\" stroke-miterlimit=\"10\"/>\n",
       "<circle cx=\"112.6692\" cy=\"87.1503\" r=\"4.252\" fill=\"none\" stroke=\"rgba(64,220,64,0.9412)\" stroke-width=\"1.5\" stroke-miterlimit=\"10\"/>\n",
       "<circle cx=\"138.0444\" cy=\"57.6291\" r=\"4.252\" fill=\"none\" stroke=\"rgba(64,220,64,0.9412)\" stroke-width=\"1.5\" stroke-miterlimit=\"10\"/>\n",
       "<circle cx=\"134.8456\" cy=\"85.4024\" r=\"4.252\" fill=\"none\" stroke=\"rgba(64,220,64,0.9412)\" stroke-width=\"1.5\" stroke-miterlimit=\"10\"/>\n",
       "<circle cx=\"111.1822\" cy=\"58.1193\" r=\"4.252\" fill=\"none\" stroke=\"rgba(64,220,64,0.9412)\" stroke-width=\"1.5\" stroke-miterlimit=\"10\"/>\n",
       "<circle cx=\"236.7298\" cy=\"37.4205\" r=\"4.252\" fill=\"none\" stroke=\"rgba(64,220,64,0.9412)\" stroke-width=\"1.5\" stroke-miterlimit=\"10\"/>\n",
       "<circle cx=\"124.8818\" cy=\"212.4421\" r=\"4.252\" fill=\"none\" stroke=\"rgba(64,220,64,0.9412)\" stroke-width=\"1.5\" stroke-miterlimit=\"10\"/>\n",
       "<circle cx=\"142.8483\" cy=\"262.1304\" r=\"4.252\" fill=\"none\" stroke=\"rgba(64,220,64,0.9412)\" stroke-width=\"1.5\" stroke-miterlimit=\"10\"/>\n",
       "<circle cx=\"189.5754\" cy=\"153.8409\" r=\"4.252\" fill=\"none\" stroke=\"rgba(64,220,64,0.9412)\" stroke-width=\"1.5\" stroke-miterlimit=\"10\"/>\n",
       "<circle cx=\"173.1153\" cy=\"103.7996\" r=\"4.252\" fill=\"none\" stroke=\"rgba(64,220,64,0.9412)\" stroke-width=\"1.5\" stroke-miterlimit=\"10\"/>\n",
       "<circle cx=\"206.4331\" cy=\"53.0088\" r=\"4.252\" fill=\"none\" stroke=\"rgba(64,220,64,0.9412)\" stroke-width=\"1.5\" stroke-miterlimit=\"10\"/>\n",
       "<circle cx=\"102.6078\" cy=\"99.1162\" r=\"4.252\" fill=\"none\" stroke=\"rgba(64,220,64,0.9412)\" stroke-width=\"1.5\" stroke-miterlimit=\"10\"/>\n",
       "<circle cx=\"152.4502\" cy=\"198.1872\" r=\"4.252\" fill=\"none\" stroke=\"rgba(64,220,64,0.9412)\" stroke-width=\"1.5\" stroke-miterlimit=\"10\"/>\n",
       "<circle cx=\"40.4517\" cy=\"176.7993\" r=\"4.252\" fill=\"none\" stroke=\"rgba(64,220,64,0.9412)\" stroke-width=\"1.5\" stroke-miterlimit=\"10\"/>\n",
       "<circle cx=\"223.2859\" cy=\"105.7685\" r=\"4.252\" fill=\"none\" stroke=\"rgba(64,220,64,0.9412)\" stroke-width=\"1.5\" stroke-miterlimit=\"10\"/>\n",
       "<circle cx=\"124.2695\" cy=\"113.6535\" r=\"4.252\" fill=\"none\" stroke=\"rgba(64,220,64,0.9412)\" stroke-width=\"1.5\" stroke-miterlimit=\"10\"/>\n",
       "<circle cx=\"99.2242\" cy=\"146.6253\" r=\"4.252\" fill=\"none\" stroke=\"rgba(64,220,64,0.9412)\" stroke-width=\"1.5\" stroke-miterlimit=\"10\"/>\n",
       "<circle cx=\"170.7926\" cy=\"144.8533\" r=\"4.252\" fill=\"none\" stroke=\"rgba(64,220,64,0.9412)\" stroke-width=\"1.5\" stroke-miterlimit=\"10\"/>\n",
       "<circle cx=\"178.5101\" cy=\"66.3943\" r=\"4.252\" fill=\"none\" stroke=\"rgba(64,220,64,0.9412)\" stroke-width=\"1.5\" stroke-miterlimit=\"10\"/>\n",
       "<circle cx=\"95.7632\" cy=\"103.438\" r=\"4.252\" fill=\"none\" stroke=\"rgba(64,220,64,0.9412)\" stroke-width=\"1.5\" stroke-miterlimit=\"10\"/>\n",
       "<circle cx=\"89.4548\" cy=\"96.0137\" r=\"4.252\" fill=\"none\" stroke=\"rgba(64,220,64,0.9412)\" stroke-width=\"1.5\" stroke-miterlimit=\"10\"/>\n",
       "<circle cx=\"163.7038\" cy=\"177.9405\" r=\"4.252\" fill=\"none\" stroke=\"rgba(64,220,64,0.9412)\" stroke-width=\"1.5\" stroke-miterlimit=\"10\"/>\n",
       "<circle cx=\"26.3881\" cy=\"202.8199\" r=\"4.252\" fill=\"none\" stroke=\"rgba(64,220,64,0.9412)\" stroke-width=\"1.5\" stroke-miterlimit=\"10\"/>\n",
       "<circle cx=\"203.1184\" cy=\"128.9734\" r=\"4.252\" fill=\"none\" stroke=\"rgba(64,220,64,0.9412)\" stroke-width=\"1.5\" stroke-miterlimit=\"10\"/>\n",
       "<circle cx=\"62.1982\" cy=\"203.9958\" r=\"4.252\" fill=\"none\" stroke=\"rgba(64,220,64,0.9412)\" stroke-width=\"1.5\" stroke-miterlimit=\"10\"/>\n",
       "<circle cx=\"109.3413\" cy=\"127.594\" r=\"4.252\" fill=\"none\" stroke=\"rgba(64,220,64,0.9412)\" stroke-width=\"1.5\" stroke-miterlimit=\"10\"/>\n",
       "<circle cx=\"186.1965\" cy=\"104.5712\" r=\"4.252\" fill=\"none\" stroke=\"rgba(64,220,64,0.9412)\" stroke-width=\"1.5\" stroke-miterlimit=\"10\"/>\n",
       "<circle cx=\"136.919\" cy=\"143.6009\" r=\"4.252\" fill=\"none\" stroke=\"rgba(64,220,64,0.9412)\" stroke-width=\"1.5\" stroke-miterlimit=\"10\"/>\n",
       "<circle cx=\"52.0246\" cy=\"134.1571\" r=\"4.252\" fill=\"none\" stroke=\"rgba(64,220,64,0.9412)\" stroke-width=\"1.5\" stroke-miterlimit=\"10\"/>\n",
       "<circle cx=\"92.2103\" cy=\"213.1356\" r=\"5.6693\" fill=\"none\" stroke=\"rgba(0,128,255,0.9412)\" stroke-width=\"2\" stroke-miterlimit=\"10\"/>\n",
       "<circle cx=\"141.414\" cy=\"123.6403\" r=\"5.6693\" fill=\"none\" stroke=\"rgba(0,128,255,0.9412)\" stroke-width=\"2\" stroke-miterlimit=\"10\"/>\n",
       "<circle cx=\"85.2482\" cy=\"153.3418\" r=\"5.6693\" fill=\"none\" stroke=\"rgba(0,128,255,0.9412)\" stroke-width=\"2\" stroke-miterlimit=\"10\"/>\n",
       "<circle cx=\"111.5087\" cy=\"126.0089\" r=\"5.6693\" fill=\"none\" stroke=\"rgba(0,128,255,0.9412)\" stroke-width=\"2\" stroke-miterlimit=\"10\"/>\n",
       "<circle cx=\"171.5105\" cy=\"75.2033\" r=\"5.6693\" fill=\"none\" stroke=\"rgba(0,128,255,0.9412)\" stroke-width=\"2\" stroke-miterlimit=\"10\"/>\n",
       "<circle cx=\"222.2771\" cy=\"133.4853\" r=\"5.6693\" fill=\"none\" stroke=\"rgba(0,128,255,0.9412)\" stroke-width=\"2\" stroke-miterlimit=\"10\"/>\n",
       "<circle cx=\"147.9626\" cy=\"110.2735\" r=\"5.6693\" fill=\"none\" stroke=\"rgba(0,128,255,0.9412)\" stroke-width=\"2\" stroke-miterlimit=\"10\"/>\n",
       "<circle cx=\"208.0274\" cy=\"224.4777\" r=\"5.6693\" fill=\"none\" stroke=\"rgba(0,128,255,0.9412)\" stroke-width=\"2\" stroke-miterlimit=\"10\"/>\n",
       "<circle cx=\"149.8817\" cy=\"214.9488\" r=\"5.6693\" fill=\"none\" stroke=\"rgba(0,128,255,0.9412)\" stroke-width=\"2\" stroke-miterlimit=\"10\"/>\n",
       "<circle cx=\"212.5036\" cy=\"152.2523\" r=\"5.6693\" fill=\"none\" stroke=\"rgba(0,128,255,0.9412)\" stroke-width=\"2\" stroke-miterlimit=\"10\"/>\n",
       "<circle cx=\"132.5407\" cy=\"205.0043\" r=\"5.6693\" fill=\"none\" stroke=\"rgba(0,128,255,0.9412)\" stroke-width=\"2\" stroke-miterlimit=\"10\"/>\n",
       "<circle cx=\"148.8325\" cy=\"117.6488\" r=\"5.6693\" fill=\"none\" stroke=\"rgba(0,128,255,0.9412)\" stroke-width=\"2\" stroke-miterlimit=\"10\"/>\n",
       "<circle cx=\"145.4909\" cy=\"110.857\" r=\"5.6693\" fill=\"none\" stroke=\"rgba(0,128,255,0.9412)\" stroke-width=\"2\" stroke-miterlimit=\"10\"/>\n",
       "<circle cx=\"137.9202\" cy=\"166.7355\" r=\"5.6693\" fill=\"none\" stroke=\"rgba(0,128,255,0.9412)\" stroke-width=\"2\" stroke-miterlimit=\"10\"/>\n",
       "<circle cx=\"191.7023\" cy=\"102.8714\" r=\"5.6693\" fill=\"none\" stroke=\"rgba(0,128,255,0.9412)\" stroke-width=\"2\" stroke-miterlimit=\"10\"/>\n",
       "<circle cx=\"195.9435\" cy=\"111.759\" r=\"5.6693\" fill=\"none\" stroke=\"rgba(0,128,255,0.9412)\" stroke-width=\"2\" stroke-miterlimit=\"10\"/>\n",
       "<circle cx=\"170.432\" cy=\"136.5343\" r=\"5.6693\" fill=\"none\" stroke=\"rgba(0,128,255,0.9412)\" stroke-width=\"2\" stroke-miterlimit=\"10\"/>\n",
       "<circle cx=\"184.0062\" cy=\"177.0761\" r=\"5.6693\" fill=\"none\" stroke=\"rgba(0,128,255,0.9412)\" stroke-width=\"2\" stroke-miterlimit=\"10\"/>\n",
       "<circle cx=\"185.7927\" cy=\"196.2811\" r=\"5.6693\" fill=\"none\" stroke=\"rgba(0,128,255,0.9412)\" stroke-width=\"2\" stroke-miterlimit=\"10\"/>\n",
       "<circle cx=\"210.6422\" cy=\"160.1252\" r=\"5.6693\" fill=\"none\" stroke=\"rgba(0,128,255,0.9412)\" stroke-width=\"2\" stroke-miterlimit=\"10\"/>\n",
       "<circle cx=\"152.034\" cy=\"77.8208\" r=\"5.6693\" fill=\"none\" stroke=\"rgba(0,128,255,0.9412)\" stroke-width=\"2\" stroke-miterlimit=\"10\"/>\n",
       "<circle cx=\"155.318\" cy=\"147.4441\" r=\"5.6693\" fill=\"none\" stroke=\"rgba(0,128,255,0.9412)\" stroke-width=\"2\" stroke-miterlimit=\"10\"/>\n",
       "<circle cx=\"90.3618\" cy=\"216.0951\" r=\"5.6693\" fill=\"none\" stroke=\"rgba(0,128,255,0.9412)\" stroke-width=\"2\" stroke-miterlimit=\"10\"/>\n",
       "<circle cx=\"105.2493\" cy=\"95.1563\" r=\"5.6693\" fill=\"none\" stroke=\"rgba(0,128,255,0.9412)\" stroke-width=\"2\" stroke-miterlimit=\"10\"/>\n",
       "<circle cx=\"175.5776\" cy=\"166.4547\" r=\"5.6693\" fill=\"none\" stroke=\"rgba(0,128,255,0.9412)\" stroke-width=\"2\" stroke-miterlimit=\"10\"/>\n",
       "<circle cx=\"122.7816\" cy=\"168.1601\" r=\"5.6693\" fill=\"none\" stroke=\"rgba(0,128,255,0.9412)\" stroke-width=\"2\" stroke-miterlimit=\"10\"/>\n",
       "<circle cx=\"146.9365\" cy=\"153.6885\" r=\"5.6693\" fill=\"none\" stroke=\"rgba(0,128,255,0.9412)\" stroke-width=\"2\" stroke-miterlimit=\"10\"/>\n",
       "<circle cx=\"158.1597\" cy=\"67.9401\" r=\"5.6693\" fill=\"none\" stroke=\"rgba(0,128,255,0.9412)\" stroke-width=\"2\" stroke-miterlimit=\"10\"/>\n",
       "<circle cx=\"187.6482\" cy=\"158.1468\" r=\"5.6693\" fill=\"none\" stroke=\"rgba(0,128,255,0.9412)\" stroke-width=\"2\" stroke-miterlimit=\"10\"/>\n",
       "<circle cx=\"137.7161\" cy=\"118.5302\" r=\"5.6693\" fill=\"none\" stroke=\"rgba(0,128,255,0.9412)\" stroke-width=\"2\" stroke-miterlimit=\"10\"/>\n",
       "<circle cx=\"177.8922\" cy=\"141.1304\" r=\"5.6693\" fill=\"none\" stroke=\"rgba(0,128,255,0.9412)\" stroke-width=\"2\" stroke-miterlimit=\"10\"/>\n",
       "<circle cx=\"72.0227\" cy=\"183.1316\" r=\"5.6693\" fill=\"none\" stroke=\"rgba(0,128,255,0.9412)\" stroke-width=\"2\" stroke-miterlimit=\"10\"/>\n",
       "<circle cx=\"160.7006\" cy=\"118.4502\" r=\"5.6693\" fill=\"none\" stroke=\"rgba(0,128,255,0.9412)\" stroke-width=\"2\" stroke-miterlimit=\"10\"/>\n",
       "<circle cx=\"172.0407\" cy=\"192.2534\" r=\"5.6693\" fill=\"none\" stroke=\"rgba(0,128,255,0.9412)\" stroke-width=\"2\" stroke-miterlimit=\"10\"/>\n",
       "<circle cx=\"195.7322\" cy=\"181.5523\" r=\"5.6693\" fill=\"none\" stroke=\"rgba(0,128,255,0.9412)\" stroke-width=\"2\" stroke-miterlimit=\"10\"/>\n",
       "<circle cx=\"57.5783\" cy=\"187.8776\" r=\"5.6693\" fill=\"none\" stroke=\"rgba(0,128,255,0.9412)\" stroke-width=\"2\" stroke-miterlimit=\"10\"/>\n",
       "<circle cx=\"163.766\" cy=\"223.9802\" r=\"5.6693\" fill=\"none\" stroke=\"rgba(0,128,255,0.9412)\" stroke-width=\"2\" stroke-miterlimit=\"10\"/>\n",
       "<circle cx=\"177.8798\" cy=\"121.6555\" r=\"5.6693\" fill=\"none\" stroke=\"rgba(0,128,255,0.9412)\" stroke-width=\"2\" stroke-miterlimit=\"10\"/>\n",
       "<circle cx=\"108.9951\" cy=\"125.8692\" r=\"5.6693\" fill=\"none\" stroke=\"rgba(0,128,255,0.9412)\" stroke-width=\"2\" stroke-miterlimit=\"10\"/>\n",
       "<circle cx=\"201.782\" cy=\"217.761\" r=\"5.6693\" fill=\"none\" stroke=\"rgba(0,128,255,0.9412)\" stroke-width=\"2\" stroke-miterlimit=\"10\"/>\n",
       "<circle cx=\"89.4724\" cy=\"138.3752\" r=\"5.6693\" fill=\"none\" stroke=\"rgba(0,128,255,0.9412)\" stroke-width=\"2\" stroke-miterlimit=\"10\"/>\n",
       "<circle cx=\"75.4769\" cy=\"107.6127\" r=\"5.6693\" fill=\"none\" stroke=\"rgba(0,128,255,0.9412)\" stroke-width=\"2\" stroke-miterlimit=\"10\"/>\n",
       "<circle cx=\"132.4775\" cy=\"122.9601\" r=\"5.6693\" fill=\"none\" stroke=\"rgba(0,128,255,0.9412)\" stroke-width=\"2\" stroke-miterlimit=\"10\"/>\n",
       "<circle cx=\"94.8132\" cy=\"78.0536\" r=\"5.6693\" fill=\"none\" stroke=\"rgba(0,128,255,0.9412)\" stroke-width=\"2\" stroke-miterlimit=\"10\"/>\n",
       "<circle cx=\"222.4727\" cy=\"205.3436\" r=\"5.6693\" fill=\"none\" stroke=\"rgba(0,128,255,0.9412)\" stroke-width=\"2\" stroke-miterlimit=\"10\"/>\n",
       "<circle cx=\"89.5846\" cy=\"147.8893\" r=\"5.6693\" fill=\"none\" stroke=\"rgba(0,128,255,0.9412)\" stroke-width=\"2\" stroke-miterlimit=\"10\"/>\n",
       "<circle cx=\"117.7342\" cy=\"162.2146\" r=\"5.6693\" fill=\"none\" stroke=\"rgba(0,128,255,0.9412)\" stroke-width=\"2\" stroke-miterlimit=\"10\"/>\n",
       "<circle cx=\"90.4477\" cy=\"153.6742\" r=\"5.6693\" fill=\"none\" stroke=\"rgba(0,128,255,0.9412)\" stroke-width=\"2\" stroke-miterlimit=\"10\"/>\n",
       "<circle cx=\"109.5837\" cy=\"137.5312\" r=\"5.6693\" fill=\"none\" stroke=\"rgba(0,128,255,0.9412)\" stroke-width=\"2\" stroke-miterlimit=\"10\"/>\n",
       "<circle cx=\"67.6485\" cy=\"154.8691\" r=\"5.6693\" fill=\"none\" stroke=\"rgba(0,128,255,0.9412)\" stroke-width=\"2\" stroke-miterlimit=\"10\"/>\n",
       "<circle cx=\"100.1331\" cy=\"174.8\" r=\"5.6693\" fill=\"none\" stroke=\"rgba(0,128,255,0.9412)\" stroke-width=\"2\" stroke-miterlimit=\"10\"/>\n",
       "<circle cx=\"136.1923\" cy=\"73.9053\" r=\"5.6693\" fill=\"none\" stroke=\"rgba(0,128,255,0.9412)\" stroke-width=\"2\" stroke-miterlimit=\"10\"/>\n",
       "<circle cx=\"157.9858\" cy=\"133.9797\" r=\"5.6693\" fill=\"none\" stroke=\"rgba(0,128,255,0.9412)\" stroke-width=\"2\" stroke-miterlimit=\"10\"/>\n",
       "<circle cx=\"188.3275\" cy=\"176.8441\" r=\"5.6693\" fill=\"none\" stroke=\"rgba(0,128,255,0.9412)\" stroke-width=\"2\" stroke-miterlimit=\"10\"/>\n",
       "<circle cx=\"179.0367\" cy=\"99.0503\" r=\"5.6693\" fill=\"none\" stroke=\"rgba(0,128,255,0.9412)\" stroke-width=\"2\" stroke-miterlimit=\"10\"/>\n",
       "<circle cx=\"186.8021\" cy=\"175.4035\" r=\"5.6693\" fill=\"none\" stroke=\"rgba(0,128,255,0.9412)\" stroke-width=\"2\" stroke-miterlimit=\"10\"/>\n",
       "<circle cx=\"101.9887\" cy=\"186.7198\" r=\"5.6693\" fill=\"none\" stroke=\"rgba(0,128,255,0.9412)\" stroke-width=\"2\" stroke-miterlimit=\"10\"/>\n",
       "<circle cx=\"194.0876\" cy=\"182.7398\" r=\"5.6693\" fill=\"none\" stroke=\"rgba(0,128,255,0.9412)\" stroke-width=\"2\" stroke-miterlimit=\"10\"/>\n",
       "<circle cx=\"117.9124\" cy=\"196.4074\" r=\"5.6693\" fill=\"none\" stroke=\"rgba(0,128,255,0.9412)\" stroke-width=\"2\" stroke-miterlimit=\"10\"/>\n",
       "<circle cx=\"103.3508\" cy=\"81.9239\" r=\"5.6693\" fill=\"none\" stroke=\"rgba(0,128,255,0.9412)\" stroke-width=\"2\" stroke-miterlimit=\"10\"/>\n",
       "<circle cx=\"105.0833\" cy=\"166.8612\" r=\"5.6693\" fill=\"none\" stroke=\"rgba(0,128,255,0.9412)\" stroke-width=\"2\" stroke-miterlimit=\"10\"/>\n",
       "<circle cx=\"89.2866\" cy=\"122.9025\" r=\"5.6693\" fill=\"none\" stroke=\"rgba(0,128,255,0.9412)\" stroke-width=\"2\" stroke-miterlimit=\"10\"/>\n",
       "<circle cx=\"70.4399\" cy=\"212.0185\" r=\"5.6693\" fill=\"none\" stroke=\"rgba(0,128,255,0.9412)\" stroke-width=\"2\" stroke-miterlimit=\"10\"/>\n",
       "<circle cx=\"154.9933\" cy=\"211.1558\" r=\"5.6693\" fill=\"none\" stroke=\"rgba(0,128,255,0.9412)\" stroke-width=\"2\" stroke-miterlimit=\"10\"/>\n",
       "<circle cx=\"152.5535\" cy=\"148.6744\" r=\"5.6693\" fill=\"none\" stroke=\"rgba(0,128,255,0.9412)\" stroke-width=\"2\" stroke-miterlimit=\"10\"/>\n",
       "<circle cx=\"86.0587\" cy=\"108.7031\" r=\"5.6693\" fill=\"none\" stroke=\"rgba(0,128,255,0.9412)\" stroke-width=\"2\" stroke-miterlimit=\"10\"/>\n",
       "<circle cx=\"87.3206\" cy=\"83.1066\" r=\"5.6693\" fill=\"none\" stroke=\"rgba(0,128,255,0.9412)\" stroke-width=\"2\" stroke-miterlimit=\"10\"/>\n",
       "<circle cx=\"168.7746\" cy=\"172.2937\" r=\"5.6693\" fill=\"none\" stroke=\"rgba(0,128,255,0.9412)\" stroke-width=\"2\" stroke-miterlimit=\"10\"/>\n",
       "<circle cx=\"96.9066\" cy=\"159.5029\" r=\"5.6693\" fill=\"none\" stroke=\"rgba(0,128,255,0.9412)\" stroke-width=\"2\" stroke-miterlimit=\"10\"/>\n",
       "<circle cx=\"72.0766\" cy=\"134.3875\" r=\"5.6693\" fill=\"none\" stroke=\"rgba(0,128,255,0.9412)\" stroke-width=\"2\" stroke-miterlimit=\"10\"/>\n",
       "<circle cx=\"118.9039\" cy=\"131.2068\" r=\"5.6693\" fill=\"none\" stroke=\"rgba(0,128,255,0.9412)\" stroke-width=\"2\" stroke-miterlimit=\"10\"/>\n",
       "<circle cx=\"128.189\" cy=\"125.249\" r=\"5.6693\" fill=\"none\" stroke=\"rgba(0,128,255,0.9412)\" stroke-width=\"2\" stroke-miterlimit=\"10\"/>\n",
       "<circle cx=\"147.2053\" cy=\"169.4808\" r=\"5.6693\" fill=\"none\" stroke=\"rgba(0,128,255,0.9412)\" stroke-width=\"2\" stroke-miterlimit=\"10\"/>\n",
       "<circle cx=\"71.0232\" cy=\"60.2036\" r=\"5.6693\" fill=\"none\" stroke=\"rgba(0,128,255,0.9412)\" stroke-width=\"2\" stroke-miterlimit=\"10\"/>\n",
       "<circle cx=\"119.8625\" cy=\"214.843\" r=\"5.6693\" fill=\"none\" stroke=\"rgba(0,128,255,0.9412)\" stroke-width=\"2\" stroke-miterlimit=\"10\"/>\n",
       "<circle cx=\"138.4364\" cy=\"126.513\" r=\"5.6693\" fill=\"none\" stroke=\"rgba(0,128,255,0.9412)\" stroke-width=\"2\" stroke-miterlimit=\"10\"/>\n",
       "<circle cx=\"206.4001\" cy=\"193.4318\" r=\"5.6693\" fill=\"none\" stroke=\"rgba(0,128,255,0.9412)\" stroke-width=\"2\" stroke-miterlimit=\"10\"/>\n",
       "<circle cx=\"134.581\" cy=\"186.9493\" r=\"5.6693\" fill=\"none\" stroke=\"rgba(0,128,255,0.9412)\" stroke-width=\"2\" stroke-miterlimit=\"10\"/>\n",
       "<circle cx=\"177.0119\" cy=\"177.1989\" r=\"5.6693\" fill=\"none\" stroke=\"rgba(0,128,255,0.9412)\" stroke-width=\"2\" stroke-miterlimit=\"10\"/>\n",
       "<circle cx=\"152.7081\" cy=\"224.6714\" r=\"5.6693\" fill=\"none\" stroke=\"rgba(0,128,255,0.9412)\" stroke-width=\"2\" stroke-miterlimit=\"10\"/>\n",
       "<circle cx=\"181.472\" cy=\"89.2093\" r=\"5.6693\" fill=\"none\" stroke=\"rgba(0,128,255,0.9412)\" stroke-width=\"2\" stroke-miterlimit=\"10\"/>\n",
       "<circle cx=\"135.9405\" cy=\"146.488\" r=\"5.6693\" fill=\"none\" stroke=\"rgba(0,128,255,0.9412)\" stroke-width=\"2\" stroke-miterlimit=\"10\"/>\n",
       "<circle cx=\"138.6504\" cy=\"83.959\" r=\"5.6693\" fill=\"none\" stroke=\"rgba(0,128,255,0.9412)\" stroke-width=\"2\" stroke-miterlimit=\"10\"/>\n",
       "<circle cx=\"213.1519\" cy=\"99.3076\" r=\"5.6693\" fill=\"none\" stroke=\"rgba(0,128,255,0.9412)\" stroke-width=\"2\" stroke-miterlimit=\"10\"/>\n",
       "<circle cx=\"124.344\" cy=\"136.1065\" r=\"5.6693\" fill=\"none\" stroke=\"rgba(0,128,255,0.9412)\" stroke-width=\"2\" stroke-miterlimit=\"10\"/>\n",
       "<circle cx=\"158.3942\" cy=\"58.0168\" r=\"5.6693\" fill=\"none\" stroke=\"rgba(0,128,255,0.9412)\" stroke-width=\"2\" stroke-miterlimit=\"10\"/>\n",
       "<circle cx=\"97.8238\" cy=\"186.4607\" r=\"5.6693\" fill=\"none\" stroke=\"rgba(0,128,255,0.9412)\" stroke-width=\"2\" stroke-miterlimit=\"10\"/>\n",
       "<circle cx=\"129.9828\" cy=\"131.4338\" r=\"5.6693\" fill=\"none\" stroke=\"rgba(0,128,255,0.9412)\" stroke-width=\"2\" stroke-miterlimit=\"10\"/>\n",
       "<circle cx=\"188.3384\" cy=\"172.5782\" r=\"5.6693\" fill=\"none\" stroke=\"rgba(0,128,255,0.9412)\" stroke-width=\"2\" stroke-miterlimit=\"10\"/>\n",
       "<circle cx=\"127.6851\" cy=\"187.8006\" r=\"5.6693\" fill=\"none\" stroke=\"rgba(0,128,255,0.9412)\" stroke-width=\"2\" stroke-miterlimit=\"10\"/>\n",
       "<circle cx=\"185.3097\" cy=\"83.7418\" r=\"5.6693\" fill=\"none\" stroke=\"rgba(0,128,255,0.9412)\" stroke-width=\"2\" stroke-miterlimit=\"10\"/>\n",
       "<circle cx=\"104.6974\" cy=\"93.5968\" r=\"5.6693\" fill=\"none\" stroke=\"rgba(0,128,255,0.9412)\" stroke-width=\"2\" stroke-miterlimit=\"10\"/>\n",
       "<circle cx=\"121.4821\" cy=\"78.4818\" r=\"5.6693\" fill=\"none\" stroke=\"rgba(0,128,255,0.9412)\" stroke-width=\"2\" stroke-miterlimit=\"10\"/>\n",
       "<circle cx=\"133.4175\" cy=\"131.181\" r=\"5.6693\" fill=\"none\" stroke=\"rgba(0,128,255,0.9412)\" stroke-width=\"2\" stroke-miterlimit=\"10\"/>\n",
       "<circle cx=\"81.9819\" cy=\"104.8494\" r=\"5.6693\" fill=\"none\" stroke=\"rgba(0,128,255,0.9412)\" stroke-width=\"2\" stroke-miterlimit=\"10\"/>\n",
       "<circle cx=\"65.6942\" cy=\"170.4329\" r=\"5.6693\" fill=\"none\" stroke=\"rgba(0,128,255,0.9412)\" stroke-width=\"2\" stroke-miterlimit=\"10\"/>\n",
       "<circle cx=\"71.7191\" cy=\"142.6656\" r=\"5.6693\" fill=\"none\" stroke=\"rgba(0,128,255,0.9412)\" stroke-width=\"2\" stroke-miterlimit=\"10\"/>\n",
       "<circle cx=\"149.4973\" cy=\"163.5852\" r=\"5.6693\" fill=\"none\" stroke=\"rgba(0,128,255,0.9412)\" stroke-width=\"2\" stroke-miterlimit=\"10\"/>\n",
       "<circle cx=\"155.6559\" cy=\"142.2985\" r=\"5.6693\" fill=\"none\" stroke=\"rgba(0,128,255,0.9412)\" stroke-width=\"2\" stroke-miterlimit=\"10\"/>\n",
       "<circle cx=\"157.6916\" cy=\"213.2191\" r=\"5.6693\" fill=\"none\" stroke=\"rgba(0,128,255,0.9412)\" stroke-width=\"2\" stroke-miterlimit=\"10\"/>\n",
       "<circle cx=\"165.9228\" cy=\"216.2694\" r=\"5.6693\" fill=\"none\" stroke=\"rgba(0,128,255,0.9412)\" stroke-width=\"2\" stroke-miterlimit=\"10\"/>\n",
       "<circle cx=\"127.2659\" cy=\"136.7487\" r=\"5.6693\" fill=\"none\" stroke=\"rgba(0,128,255,0.9412)\" stroke-width=\"2\" stroke-miterlimit=\"10\"/>\n",
       "<circle cx=\"147.4782\" cy=\"167.6001\" r=\"5.6693\" fill=\"none\" stroke=\"rgba(0,128,255,0.9412)\" stroke-width=\"2\" stroke-miterlimit=\"10\"/>\n",
       "<circle cx=\"213.9821\" cy=\"102.9845\" r=\"5.6693\" fill=\"none\" stroke=\"rgba(0,128,255,0.9412)\" stroke-width=\"2\" stroke-miterlimit=\"10\"/>\n",
       "<circle cx=\"80.8406\" cy=\"149.4587\" r=\"5.6693\" fill=\"none\" stroke=\"rgba(0,128,255,0.9412)\" stroke-width=\"2\" stroke-miterlimit=\"10\"/>\n",
       "<circle cx=\"118.3248\" cy=\"153.6589\" r=\"5.6693\" fill=\"none\" stroke=\"rgba(0,128,255,0.9412)\" stroke-width=\"2\" stroke-miterlimit=\"10\"/>\n",
       "<circle cx=\"153.6113\" cy=\"151.8706\" r=\"5.6693\" fill=\"none\" stroke=\"rgba(0,128,255,0.9412)\" stroke-width=\"2\" stroke-miterlimit=\"10\"/>\n",
       "<circle cx=\"103.3698\" cy=\"131.7185\" r=\"5.6693\" fill=\"none\" stroke=\"rgba(0,128,255,0.9412)\" stroke-width=\"2\" stroke-miterlimit=\"10\"/>\n",
       "<circle cx=\"119.5737\" cy=\"90.8933\" r=\"5.6693\" fill=\"none\" stroke=\"rgba(0,128,255,0.9412)\" stroke-width=\"2\" stroke-miterlimit=\"10\"/>\n",
       "<circle cx=\"167.2074\" cy=\"117.7471\" r=\"5.6693\" fill=\"none\" stroke=\"rgba(0,128,255,0.9412)\" stroke-width=\"2\" stroke-miterlimit=\"10\"/>\n",
       "<circle cx=\"186.7205\" cy=\"78.4978\" r=\"5.6693\" fill=\"none\" stroke=\"rgba(0,128,255,0.9412)\" stroke-width=\"2\" stroke-miterlimit=\"10\"/>\n",
       "<circle cx=\"127.4905\" cy=\"210.9462\" r=\"5.6693\" fill=\"none\" stroke=\"rgba(0,128,255,0.9412)\" stroke-width=\"2\" stroke-miterlimit=\"10\"/>\n",
       "<circle cx=\"104.3401\" cy=\"74.506\" r=\"5.6693\" fill=\"none\" stroke=\"rgba(0,128,255,0.9412)\" stroke-width=\"2\" stroke-miterlimit=\"10\"/>\n",
       "<circle cx=\"144.4098\" cy=\"121.5395\" r=\"5.6693\" fill=\"none\" stroke=\"rgba(0,128,255,0.9412)\" stroke-width=\"2\" stroke-miterlimit=\"10\"/>\n",
       "<circle cx=\"175.0586\" cy=\"104.7319\" r=\"5.6693\" fill=\"none\" stroke=\"rgba(0,128,255,0.9412)\" stroke-width=\"2\" stroke-miterlimit=\"10\"/>\n",
       "<circle cx=\"129.8011\" cy=\"113.8626\" r=\"5.6693\" fill=\"none\" stroke=\"rgba(0,128,255,0.9412)\" stroke-width=\"2\" stroke-miterlimit=\"10\"/>\n",
       "<circle cx=\"99.613\" cy=\"196.404\" r=\"5.6693\" fill=\"none\" stroke=\"rgba(0,128,255,0.9412)\" stroke-width=\"2\" stroke-miterlimit=\"10\"/>\n",
       "<circle cx=\"179.3814\" cy=\"72.8652\" r=\"5.6693\" fill=\"none\" stroke=\"rgba(0,128,255,0.9412)\" stroke-width=\"2\" stroke-miterlimit=\"10\"/>\n",
       "<circle cx=\"162.3966\" cy=\"129.5923\" r=\"5.6693\" fill=\"none\" stroke=\"rgba(0,128,255,0.9412)\" stroke-width=\"2\" stroke-miterlimit=\"10\"/>\n",
       "<circle cx=\"205.2495\" cy=\"85.0375\" r=\"5.6693\" fill=\"none\" stroke=\"rgba(0,128,255,0.9412)\" stroke-width=\"2\" stroke-miterlimit=\"10\"/>\n",
       "<circle cx=\"189.0005\" cy=\"93.7072\" r=\"5.6693\" fill=\"none\" stroke=\"rgba(0,128,255,0.9412)\" stroke-width=\"2\" stroke-miterlimit=\"10\"/>\n",
       "<circle cx=\"115.6017\" cy=\"160.169\" r=\"5.6693\" fill=\"none\" stroke=\"rgba(0,128,255,0.9412)\" stroke-width=\"2\" stroke-miterlimit=\"10\"/>\n",
       "<circle cx=\"162.6024\" cy=\"179.1717\" r=\"5.6693\" fill=\"none\" stroke=\"rgba(0,128,255,0.9412)\" stroke-width=\"2\" stroke-miterlimit=\"10\"/>\n",
       "<circle cx=\"161.7364\" cy=\"191.4195\" r=\"5.6693\" fill=\"none\" stroke=\"rgba(0,128,255,0.9412)\" stroke-width=\"2\" stroke-miterlimit=\"10\"/>\n",
       "<circle cx=\"152.064\" cy=\"77.7047\" r=\"5.6693\" fill=\"none\" stroke=\"rgba(0,128,255,0.9412)\" stroke-width=\"2\" stroke-miterlimit=\"10\"/>\n",
       "<circle cx=\"207.5297\" cy=\"163.1901\" r=\"5.6693\" fill=\"none\" stroke=\"rgba(0,128,255,0.9412)\" stroke-width=\"2\" stroke-miterlimit=\"10\"/>\n",
       "<circle cx=\"128.348\" cy=\"98.1071\" r=\"5.6693\" fill=\"none\" stroke=\"rgba(0,128,255,0.9412)\" stroke-width=\"2\" stroke-miterlimit=\"10\"/>\n",
       "<circle cx=\"177.5493\" cy=\"197.9483\" r=\"5.6693\" fill=\"none\" stroke=\"rgba(0,128,255,0.9412)\" stroke-width=\"2\" stroke-miterlimit=\"10\"/>\n",
       "<circle cx=\"96.8874\" cy=\"112.0592\" r=\"5.6693\" fill=\"none\" stroke=\"rgba(0,128,255,0.9412)\" stroke-width=\"2\" stroke-miterlimit=\"10\"/>\n",
       "<circle cx=\"182.8715\" cy=\"93.161\" r=\"5.6693\" fill=\"none\" stroke=\"rgba(0,128,255,0.9412)\" stroke-width=\"2\" stroke-miterlimit=\"10\"/>\n",
       "<circle cx=\"126.9867\" cy=\"194.8926\" r=\"5.6693\" fill=\"none\" stroke=\"rgba(0,128,255,0.9412)\" stroke-width=\"2\" stroke-miterlimit=\"10\"/>\n",
       "<circle cx=\"79.515\" cy=\"184.7497\" r=\"5.6693\" fill=\"none\" stroke=\"rgba(0,128,255,0.9412)\" stroke-width=\"2\" stroke-miterlimit=\"10\"/>\n",
       "<circle cx=\"111.1443\" cy=\"133.6829\" r=\"5.6693\" fill=\"none\" stroke=\"rgba(0,128,255,0.9412)\" stroke-width=\"2\" stroke-miterlimit=\"10\"/>\n",
       "<circle cx=\"82.9482\" cy=\"151.9911\" r=\"5.6693\" fill=\"none\" stroke=\"rgba(0,128,255,0.9412)\" stroke-width=\"2\" stroke-miterlimit=\"10\"/>\n",
       "<circle cx=\"137.3572\" cy=\"80.2106\" r=\"5.6693\" fill=\"none\" stroke=\"rgba(0,128,255,0.9412)\" stroke-width=\"2\" stroke-miterlimit=\"10\"/>\n",
       "<circle cx=\"84.9754\" cy=\"205.0116\" r=\"5.6693\" fill=\"none\" stroke=\"rgba(0,128,255,0.9412)\" stroke-width=\"2\" stroke-miterlimit=\"10\"/>\n",
       "<circle cx=\"182.5385\" cy=\"173.3295\" r=\"5.6693\" fill=\"none\" stroke=\"rgba(0,128,255,0.9412)\" stroke-width=\"2\" stroke-miterlimit=\"10\"/>\n",
       "<circle cx=\"87.7186\" cy=\"93.3579\" r=\"5.6693\" fill=\"none\" stroke=\"rgba(0,128,255,0.9412)\" stroke-width=\"2\" stroke-miterlimit=\"10\"/>\n",
       "<circle cx=\"194.6328\" cy=\"125.3757\" r=\"5.6693\" fill=\"none\" stroke=\"rgba(0,128,255,0.9412)\" stroke-width=\"2\" stroke-miterlimit=\"10\"/>\n",
       "<circle cx=\"140.6777\" cy=\"177.7473\" r=\"5.6693\" fill=\"none\" stroke=\"rgba(0,128,255,0.9412)\" stroke-width=\"2\" stroke-miterlimit=\"10\"/>\n",
       "<circle cx=\"209.8885\" cy=\"126.7655\" r=\"5.6693\" fill=\"none\" stroke=\"rgba(0,128,255,0.9412)\" stroke-width=\"2\" stroke-miterlimit=\"10\"/>\n",
       "<circle cx=\"123.7256\" cy=\"138.9718\" r=\"5.6693\" fill=\"none\" stroke=\"rgba(0,128,255,0.9412)\" stroke-width=\"2\" stroke-miterlimit=\"10\"/>\n",
       "<circle cx=\"167.9412\" cy=\"119.8057\" r=\"5.6693\" fill=\"none\" stroke=\"rgba(0,128,255,0.9412)\" stroke-width=\"2\" stroke-miterlimit=\"10\"/>\n",
       "<circle cx=\"167.0714\" cy=\"194.5685\" r=\"5.6693\" fill=\"none\" stroke=\"rgba(0,128,255,0.9412)\" stroke-width=\"2\" stroke-miterlimit=\"10\"/>\n",
       "<circle cx=\"186.3479\" cy=\"156.417\" r=\"5.6693\" fill=\"none\" stroke=\"rgba(0,128,255,0.9412)\" stroke-width=\"2\" stroke-miterlimit=\"10\"/>\n",
       "<circle cx=\"169.8494\" cy=\"99.7148\" r=\"5.6693\" fill=\"none\" stroke=\"rgba(0,128,255,0.9412)\" stroke-width=\"2\" stroke-miterlimit=\"10\"/>\n",
       "<circle cx=\"177.0027\" cy=\"150.014\" r=\"5.6693\" fill=\"none\" stroke=\"rgba(0,128,255,0.9412)\" stroke-width=\"2\" stroke-miterlimit=\"10\"/>\n",
       "<circle cx=\"77.2187\" cy=\"111.7326\" r=\"5.6693\" fill=\"none\" stroke=\"rgba(0,128,255,0.9412)\" stroke-width=\"2\" stroke-miterlimit=\"10\"/>\n",
       "<circle cx=\"183.7339\" cy=\"112.555\" r=\"5.6693\" fill=\"none\" stroke=\"rgba(0,128,255,0.9412)\" stroke-width=\"2\" stroke-miterlimit=\"10\"/>\n",
       "<circle cx=\"60.9935\" cy=\"155.0822\" r=\"5.6693\" fill=\"none\" stroke=\"rgba(0,128,255,0.9412)\" stroke-width=\"2\" stroke-miterlimit=\"10\"/>\n",
       "<circle cx=\"193.7889\" cy=\"96.4626\" r=\"5.6693\" fill=\"none\" stroke=\"rgba(0,128,255,0.9412)\" stroke-width=\"2\" stroke-miterlimit=\"10\"/>\n",
       "<circle cx=\"183.8407\" cy=\"224.1803\" r=\"5.6693\" fill=\"none\" stroke=\"rgba(0,128,255,0.9412)\" stroke-width=\"2\" stroke-miterlimit=\"10\"/>\n",
       "<circle cx=\"127.6324\" cy=\"88.5704\" r=\"5.6693\" fill=\"none\" stroke=\"rgba(0,128,255,0.9412)\" stroke-width=\"2\" stroke-miterlimit=\"10\"/>\n",
       "<circle cx=\"135.327\" cy=\"86.7204\" r=\"5.6693\" fill=\"none\" stroke=\"rgba(0,128,255,0.9412)\" stroke-width=\"2\" stroke-miterlimit=\"10\"/>\n",
       "<circle cx=\"126.1523\" cy=\"131.8113\" r=\"5.6693\" fill=\"none\" stroke=\"rgba(0,128,255,0.9412)\" stroke-width=\"2\" stroke-miterlimit=\"10\"/>\n",
       "<circle cx=\"201.7807\" cy=\"197.4164\" r=\"5.6693\" fill=\"none\" stroke=\"rgba(0,128,255,0.9412)\" stroke-width=\"2\" stroke-miterlimit=\"10\"/>\n",
       "<circle cx=\"171.8429\" cy=\"205.2926\" r=\"5.6693\" fill=\"none\" stroke=\"rgba(0,128,255,0.9412)\" stroke-width=\"2\" stroke-miterlimit=\"10\"/>\n",
       "<circle cx=\"98.9964\" cy=\"123.0234\" r=\"5.6693\" fill=\"none\" stroke=\"rgba(0,128,255,0.9412)\" stroke-width=\"2\" stroke-miterlimit=\"10\"/>\n",
       "<circle cx=\"161.1092\" cy=\"187.1843\" r=\"5.6693\" fill=\"none\" stroke=\"rgba(0,128,255,0.9412)\" stroke-width=\"2\" stroke-miterlimit=\"10\"/>\n",
       "<circle cx=\"77.3798\" cy=\"149.0173\" r=\"5.6693\" fill=\"none\" stroke=\"rgba(0,128,255,0.9412)\" stroke-width=\"2\" stroke-miterlimit=\"10\"/>\n",
       "<circle cx=\"120.3042\" cy=\"118.047\" r=\"5.6693\" fill=\"none\" stroke=\"rgba(0,128,255,0.9412)\" stroke-width=\"2\" stroke-miterlimit=\"10\"/>\n",
       "<circle cx=\"187.4804\" cy=\"117.501\" r=\"5.6693\" fill=\"none\" stroke=\"rgba(0,128,255,0.9412)\" stroke-width=\"2\" stroke-miterlimit=\"10\"/>\n",
       "<circle cx=\"89.5292\" cy=\"151.6672\" r=\"5.6693\" fill=\"none\" stroke=\"rgba(0,128,255,0.9412)\" stroke-width=\"2\" stroke-miterlimit=\"10\"/>\n",
       "<circle cx=\"165.4853\" cy=\"187.8621\" r=\"5.6693\" fill=\"none\" stroke=\"rgba(0,128,255,0.9412)\" stroke-width=\"2\" stroke-miterlimit=\"10\"/>\n",
       "<circle cx=\"107.2021\" cy=\"134.0892\" r=\"5.6693\" fill=\"none\" stroke=\"rgba(0,128,255,0.9412)\" stroke-width=\"2\" stroke-miterlimit=\"10\"/>\n",
       "<circle cx=\"213.3595\" cy=\"84.8403\" r=\"5.6693\" fill=\"none\" stroke=\"rgba(0,128,255,0.9412)\" stroke-width=\"2\" stroke-miterlimit=\"10\"/>\n",
       "<circle cx=\"91.6427\" cy=\"80.9631\" r=\"5.6693\" fill=\"none\" stroke=\"rgba(0,128,255,0.9412)\" stroke-width=\"2\" stroke-miterlimit=\"10\"/>\n",
       "<circle cx=\"133.7288\" cy=\"151.3177\" r=\"5.6693\" fill=\"none\" stroke=\"rgba(0,128,255,0.9412)\" stroke-width=\"2\" stroke-miterlimit=\"10\"/>\n",
       "<circle cx=\"219.9806\" cy=\"217.9482\" r=\"5.6693\" fill=\"none\" stroke=\"rgba(0,128,255,0.9412)\" stroke-width=\"2\" stroke-miterlimit=\"10\"/>\n",
       "<circle cx=\"138.9663\" cy=\"141.296\" r=\"5.6693\" fill=\"none\" stroke=\"rgba(0,128,255,0.9412)\" stroke-width=\"2\" stroke-miterlimit=\"10\"/>\n",
       "<circle cx=\"86.1816\" cy=\"143.6003\" r=\"5.6693\" fill=\"none\" stroke=\"rgba(0,128,255,0.9412)\" stroke-width=\"2\" stroke-miterlimit=\"10\"/>\n",
       "<circle cx=\"108.3564\" cy=\"153.5087\" r=\"5.6693\" fill=\"none\" stroke=\"rgba(0,128,255,0.9412)\" stroke-width=\"2\" stroke-miterlimit=\"10\"/>\n",
       "<circle cx=\"104.0444\" cy=\"139.9431\" r=\"5.6693\" fill=\"none\" stroke=\"rgba(0,128,255,0.9412)\" stroke-width=\"2\" stroke-miterlimit=\"10\"/>\n",
       "<circle cx=\"142.8486\" cy=\"146.5393\" r=\"5.6693\" fill=\"none\" stroke=\"rgba(0,128,255,0.9412)\" stroke-width=\"2\" stroke-miterlimit=\"10\"/>\n",
       "<circle cx=\"201.6783\" cy=\"117.9501\" r=\"5.6693\" fill=\"none\" stroke=\"rgba(0,128,255,0.9412)\" stroke-width=\"2\" stroke-miterlimit=\"10\"/>\n",
       "<circle cx=\"94.5522\" cy=\"91.7805\" r=\"5.6693\" fill=\"none\" stroke=\"rgba(0,128,255,0.9412)\" stroke-width=\"2\" stroke-miterlimit=\"10\"/>\n",
       "<circle cx=\"65.4438\" cy=\"149.0377\" r=\"5.6693\" fill=\"none\" stroke=\"rgba(0,128,255,0.9412)\" stroke-width=\"2\" stroke-miterlimit=\"10\"/>\n",
       "<circle cx=\"182.1454\" cy=\"104.5811\" r=\"5.6693\" fill=\"none\" stroke=\"rgba(0,128,255,0.9412)\" stroke-width=\"2\" stroke-miterlimit=\"10\"/>\n",
       "<circle cx=\"123.7186\" cy=\"121.2853\" r=\"5.6693\" fill=\"none\" stroke=\"rgba(0,128,255,0.9412)\" stroke-width=\"2\" stroke-miterlimit=\"10\"/>\n",
       "<circle cx=\"165.5284\" cy=\"126.2068\" r=\"5.6693\" fill=\"none\" stroke=\"rgba(0,128,255,0.9412)\" stroke-width=\"2\" stroke-miterlimit=\"10\"/>\n",
       "<circle cx=\"84.844\" cy=\"68.8363\" r=\"5.6693\" fill=\"none\" stroke=\"rgba(0,128,255,0.9412)\" stroke-width=\"2\" stroke-miterlimit=\"10\"/>\n",
       "<circle cx=\"95.0617\" cy=\"152.6673\" r=\"5.6693\" fill=\"none\" stroke=\"rgba(0,128,255,0.9412)\" stroke-width=\"2\" stroke-miterlimit=\"10\"/>\n",
       "<circle cx=\"124.7614\" cy=\"167.4929\" r=\"5.6693\" fill=\"none\" stroke=\"rgba(0,128,255,0.9412)\" stroke-width=\"2\" stroke-miterlimit=\"10\"/>\n",
       "<circle cx=\"209.7942\" cy=\"114.682\" r=\"5.6693\" fill=\"none\" stroke=\"rgba(0,128,255,0.9412)\" stroke-width=\"2\" stroke-miterlimit=\"10\"/>\n",
       "<circle cx=\"74.5636\" cy=\"105.2147\" r=\"5.6693\" fill=\"none\" stroke=\"rgba(0,128,255,0.9412)\" stroke-width=\"2\" stroke-miterlimit=\"10\"/>\n",
       "<circle cx=\"100.461\" cy=\"168.9854\" r=\"5.6693\" fill=\"none\" stroke=\"rgba(0,128,255,0.9412)\" stroke-width=\"2\" stroke-miterlimit=\"10\"/>\n",
       "<circle cx=\"144.4286\" cy=\"122.9198\" r=\"5.6693\" fill=\"none\" stroke=\"rgba(0,128,255,0.9412)\" stroke-width=\"2\" stroke-miterlimit=\"10\"/>\n",
       "<circle cx=\"146.685\" cy=\"86.3102\" r=\"5.6693\" fill=\"none\" stroke=\"rgba(0,128,255,0.9412)\" stroke-width=\"2\" stroke-miterlimit=\"10\"/>\n",
       "<circle cx=\"117.9342\" cy=\"171.0375\" r=\"5.6693\" fill=\"none\" stroke=\"rgba(0,128,255,0.9412)\" stroke-width=\"2\" stroke-miterlimit=\"10\"/>\n",
       "<circle cx=\"124.2028\" cy=\"208.8259\" r=\"5.6693\" fill=\"none\" stroke=\"rgba(0,128,255,0.9412)\" stroke-width=\"2\" stroke-miterlimit=\"10\"/>\n",
       "<circle cx=\"144.4037\" cy=\"158.9029\" r=\"5.6693\" fill=\"none\" stroke=\"rgba(0,128,255,0.9412)\" stroke-width=\"2\" stroke-miterlimit=\"10\"/>\n",
       "<circle cx=\"179.0119\" cy=\"161.004\" r=\"5.6693\" fill=\"none\" stroke=\"rgba(0,128,255,0.9412)\" stroke-width=\"2\" stroke-miterlimit=\"10\"/>\n",
       "<circle cx=\"122.3884\" cy=\"146.5572\" r=\"5.6693\" fill=\"none\" stroke=\"rgba(0,128,255,0.9412)\" stroke-width=\"2\" stroke-miterlimit=\"10\"/>\n",
       "<circle cx=\"140.7866\" cy=\"146.1001\" r=\"5.6693\" fill=\"none\" stroke=\"rgba(0,128,255,0.9412)\" stroke-width=\"2\" stroke-miterlimit=\"10\"/>\n",
       "<circle cx=\"215.2747\" cy=\"128.1234\" r=\"5.6693\" fill=\"none\" stroke=\"rgba(0,128,255,0.9412)\" stroke-width=\"2\" stroke-miterlimit=\"10\"/>\n",
       "<circle cx=\"194.0535\" cy=\"140.4425\" r=\"5.6693\" fill=\"none\" stroke=\"rgba(0,128,255,0.9412)\" stroke-width=\"2\" stroke-miterlimit=\"10\"/>\n",
       "<circle cx=\"125.6239\" cy=\"82.2864\" r=\"5.6693\" fill=\"none\" stroke=\"rgba(0,128,255,0.9412)\" stroke-width=\"2\" stroke-miterlimit=\"10\"/>\n",
       "<circle cx=\"57.1671\" cy=\"120.1586\" r=\"5.6693\" fill=\"none\" stroke=\"rgba(0,128,255,0.9412)\" stroke-width=\"2\" stroke-miterlimit=\"10\"/>\n",
       "<circle cx=\"120.3004\" cy=\"211.475\" r=\"5.6693\" fill=\"none\" stroke=\"rgba(0,128,255,0.9412)\" stroke-width=\"2\" stroke-miterlimit=\"10\"/>\n",
       "<circle cx=\"181.3662\" cy=\"151.087\" r=\"5.6693\" fill=\"none\" stroke=\"rgba(0,128,255,0.9412)\" stroke-width=\"2\" stroke-miterlimit=\"10\"/>\n",
       "<circle cx=\"115.683\" cy=\"100.7022\" r=\"5.6693\" fill=\"none\" stroke=\"rgba(0,128,255,0.9412)\" stroke-width=\"2\" stroke-miterlimit=\"10\"/>\n",
       "<circle cx=\"100.1938\" cy=\"164.0072\" r=\"5.6693\" fill=\"none\" stroke=\"rgba(0,128,255,0.9412)\" stroke-width=\"2\" stroke-miterlimit=\"10\"/>\n",
       "<circle cx=\"185.0039\" cy=\"204.2099\" r=\"5.6693\" fill=\"none\" stroke=\"rgba(0,128,255,0.9412)\" stroke-width=\"2\" stroke-miterlimit=\"10\"/>\n",
       "<circle cx=\"147.8807\" cy=\"190.4541\" r=\"5.6693\" fill=\"none\" stroke=\"rgba(0,128,255,0.9412)\" stroke-width=\"2\" stroke-miterlimit=\"10\"/>\n",
       "<circle cx=\"137.824\" cy=\"114.7978\" r=\"5.6693\" fill=\"none\" stroke=\"rgba(0,128,255,0.9412)\" stroke-width=\"2\" stroke-miterlimit=\"10\"/>\n",
       "<circle cx=\"117.0943\" cy=\"112.7166\" r=\"5.6693\" fill=\"none\" stroke=\"rgba(0,128,255,0.9412)\" stroke-width=\"2\" stroke-miterlimit=\"10\"/>\n",
       "<circle cx=\"192.8178\" cy=\"137.0802\" r=\"5.6693\" fill=\"none\" stroke=\"rgba(0,128,255,0.9412)\" stroke-width=\"2\" stroke-miterlimit=\"10\"/>\n",
       "<circle cx=\"76.823\" cy=\"130.844\" r=\"5.6693\" fill=\"none\" stroke=\"rgba(0,128,255,0.9412)\" stroke-width=\"2\" stroke-miterlimit=\"10\"/>\n",
       "<circle cx=\"128.122\" cy=\"176.489\" r=\"5.6693\" fill=\"none\" stroke=\"rgba(0,128,255,0.9412)\" stroke-width=\"2\" stroke-miterlimit=\"10\"/>\n",
       "<circle cx=\"95.9673\" cy=\"193.4995\" r=\"5.6693\" fill=\"none\" stroke=\"rgba(0,128,255,0.9412)\" stroke-width=\"2\" stroke-miterlimit=\"10\"/>\n",
       "<circle cx=\"162.112\" cy=\"198.5839\" r=\"5.6693\" fill=\"none\" stroke=\"rgba(0,128,255,0.9412)\" stroke-width=\"2\" stroke-miterlimit=\"10\"/>\n",
       "<circle cx=\"219.7974\" cy=\"221.2036\" r=\"5.6693\" fill=\"none\" stroke=\"rgba(0,128,255,0.9412)\" stroke-width=\"2\" stroke-miterlimit=\"10\"/>\n",
       "<circle cx=\"209.2134\" cy=\"137.8464\" r=\"5.6693\" fill=\"none\" stroke=\"rgba(0,128,255,0.9412)\" stroke-width=\"2\" stroke-miterlimit=\"10\"/>\n",
       "<circle cx=\"115.5876\" cy=\"140.9647\" r=\"5.6693\" fill=\"none\" stroke=\"rgba(0,128,255,0.9412)\" stroke-width=\"2\" stroke-miterlimit=\"10\"/>\n",
       "<circle cx=\"77.1895\" cy=\"159.9949\" r=\"5.6693\" fill=\"none\" stroke=\"rgba(0,128,255,0.9412)\" stroke-width=\"2\" stroke-miterlimit=\"10\"/>\n",
       "<circle cx=\"122.6265\" cy=\"144.1098\" r=\"5.6693\" fill=\"none\" stroke=\"rgba(0,128,255,0.9412)\" stroke-width=\"2\" stroke-miterlimit=\"10\"/>\n",
       "<circle cx=\"169.8405\" cy=\"156.6156\" r=\"5.6693\" fill=\"none\" stroke=\"rgba(0,128,255,0.9412)\" stroke-width=\"2\" stroke-miterlimit=\"10\"/>\n",
       "<circle cx=\"217.4121\" cy=\"135.0181\" r=\"5.6693\" fill=\"none\" stroke=\"rgba(0,128,255,0.9412)\" stroke-width=\"2\" stroke-miterlimit=\"10\"/>\n",
       "<circle cx=\"182.4786\" cy=\"144.0136\" r=\"5.6693\" fill=\"none\" stroke=\"rgba(0,128,255,0.9412)\" stroke-width=\"2\" stroke-miterlimit=\"10\"/>\n",
       "<circle cx=\"173.4546\" cy=\"110.407\" r=\"5.6693\" fill=\"none\" stroke=\"rgba(0,128,255,0.9412)\" stroke-width=\"2\" stroke-miterlimit=\"10\"/>\n",
       "<circle cx=\"137.7411\" cy=\"98.7494\" r=\"5.6693\" fill=\"none\" stroke=\"rgba(0,128,255,0.9412)\" stroke-width=\"2\" stroke-miterlimit=\"10\"/>\n",
       "<circle cx=\"198.2845\" cy=\"191.9465\" r=\"5.6693\" fill=\"none\" stroke=\"rgba(0,128,255,0.9412)\" stroke-width=\"2\" stroke-miterlimit=\"10\"/>\n",
       "<circle cx=\"200.4455\" cy=\"173.0784\" r=\"5.6693\" fill=\"none\" stroke=\"rgba(0,128,255,0.9412)\" stroke-width=\"2\" stroke-miterlimit=\"10\"/>\n",
       "<circle cx=\"79.9251\" cy=\"107.5202\" r=\"5.6693\" fill=\"none\" stroke=\"rgba(0,128,255,0.9412)\" stroke-width=\"2\" stroke-miterlimit=\"10\"/>\n",
       "<circle cx=\"159.4777\" cy=\"166.6784\" r=\"5.6693\" fill=\"none\" stroke=\"rgba(0,128,255,0.9412)\" stroke-width=\"2\" stroke-miterlimit=\"10\"/>\n",
       "<circle cx=\"160.4433\" cy=\"153.7891\" r=\"5.6693\" fill=\"none\" stroke=\"rgba(0,128,255,0.9412)\" stroke-width=\"2\" stroke-miterlimit=\"10\"/>\n",
       "<circle cx=\"120.3789\" cy=\"155.7683\" r=\"5.6693\" fill=\"none\" stroke=\"rgba(0,128,255,0.9412)\" stroke-width=\"2\" stroke-miterlimit=\"10\"/>\n",
       "<circle cx=\"152.3273\" cy=\"123.0227\" r=\"5.6693\" fill=\"none\" stroke=\"rgba(0,128,255,0.9412)\" stroke-width=\"2\" stroke-miterlimit=\"10\"/>\n",
       "<circle cx=\"180.0917\" cy=\"159.7955\" r=\"5.6693\" fill=\"none\" stroke=\"rgba(0,128,255,0.9412)\" stroke-width=\"2\" stroke-miterlimit=\"10\"/>\n",
       "<circle cx=\"93.1807\" cy=\"151.4435\" r=\"5.6693\" fill=\"none\" stroke=\"rgba(0,128,255,0.9412)\" stroke-width=\"2\" stroke-miterlimit=\"10\"/>\n",
       "<circle cx=\"199.3084\" cy=\"122.1441\" r=\"5.6693\" fill=\"none\" stroke=\"rgba(0,128,255,0.9412)\" stroke-width=\"2\" stroke-miterlimit=\"10\"/>\n",
       "<circle cx=\"106.7674\" cy=\"180.217\" r=\"5.6693\" fill=\"none\" stroke=\"rgba(0,128,255,0.9412)\" stroke-width=\"2\" stroke-miterlimit=\"10\"/>\n",
       "<circle cx=\"120.879\" cy=\"184.0946\" r=\"5.6693\" fill=\"none\" stroke=\"rgba(0,128,255,0.9412)\" stroke-width=\"2\" stroke-miterlimit=\"10\"/>\n",
       "<circle cx=\"137.3551\" cy=\"210.2734\" r=\"5.6693\" fill=\"none\" stroke=\"rgba(0,128,255,0.9412)\" stroke-width=\"2\" stroke-miterlimit=\"10\"/>\n",
       "<circle cx=\"77.0717\" cy=\"73.9405\" r=\"5.6693\" fill=\"none\" stroke=\"rgba(0,128,255,0.9412)\" stroke-width=\"2\" stroke-miterlimit=\"10\"/>\n",
       "<circle cx=\"160.982\" cy=\"133.0323\" r=\"5.6693\" fill=\"none\" stroke=\"rgba(0,128,255,0.9412)\" stroke-width=\"2\" stroke-miterlimit=\"10\"/>\n",
       "<circle cx=\"194.9619\" cy=\"163.012\" r=\"5.6693\" fill=\"none\" stroke=\"rgba(0,128,255,0.9412)\" stroke-width=\"2\" stroke-miterlimit=\"10\"/>\n",
       "<circle cx=\"122.3607\" cy=\"180.6868\" r=\"5.6693\" fill=\"none\" stroke=\"rgba(0,128,255,0.9412)\" stroke-width=\"2\" stroke-miterlimit=\"10\"/>\n",
       "<circle cx=\"97.4117\" cy=\"133.1089\" r=\"5.6693\" fill=\"none\" stroke=\"rgba(0,128,255,0.9412)\" stroke-width=\"2\" stroke-miterlimit=\"10\"/>\n",
       "<circle cx=\"159.5572\" cy=\"78.2796\" r=\"5.6693\" fill=\"none\" stroke=\"rgba(0,128,255,0.9412)\" stroke-width=\"2\" stroke-miterlimit=\"10\"/>\n",
       "<circle cx=\"180.056\" cy=\"110.4311\" r=\"5.6693\" fill=\"none\" stroke=\"rgba(0,128,255,0.9412)\" stroke-width=\"2\" stroke-miterlimit=\"10\"/>\n",
       "<circle cx=\"161.9618\" cy=\"158.9237\" r=\"5.6693\" fill=\"none\" stroke=\"rgba(0,128,255,0.9412)\" stroke-width=\"2\" stroke-miterlimit=\"10\"/>\n",
       "<circle cx=\"121.3315\" cy=\"164.4853\" r=\"5.6693\" fill=\"none\" stroke=\"rgba(0,128,255,0.9412)\" stroke-width=\"2\" stroke-miterlimit=\"10\"/>\n",
       "<circle cx=\"198.875\" cy=\"172.6517\" r=\"5.6693\" fill=\"none\" stroke=\"rgba(0,128,255,0.9412)\" stroke-width=\"2\" stroke-miterlimit=\"10\"/>\n",
       "<circle cx=\"198.9335\" cy=\"86.3151\" r=\"5.6693\" fill=\"none\" stroke=\"rgba(0,128,255,0.9412)\" stroke-width=\"2\" stroke-miterlimit=\"10\"/>\n",
       "<circle cx=\"140.7654\" cy=\"158.3392\" r=\"5.6693\" fill=\"none\" stroke=\"rgba(0,128,255,0.9412)\" stroke-width=\"2\" stroke-miterlimit=\"10\"/>\n",
       "<circle cx=\"150.4035\" cy=\"196.495\" r=\"5.6693\" fill=\"none\" stroke=\"rgba(0,128,255,0.9412)\" stroke-width=\"2\" stroke-miterlimit=\"10\"/>\n",
       "<circle cx=\"105.672\" cy=\"141.9091\" r=\"5.6693\" fill=\"none\" stroke=\"rgba(0,128,255,0.9412)\" stroke-width=\"2\" stroke-miterlimit=\"10\"/>\n",
       "<circle cx=\"178.0275\" cy=\"109.6909\" r=\"5.6693\" fill=\"none\" stroke=\"rgba(0,128,255,0.9412)\" stroke-width=\"2\" stroke-miterlimit=\"10\"/>\n",
       "<circle cx=\"118.381\" cy=\"139.6772\" r=\"5.6693\" fill=\"none\" stroke=\"rgba(0,128,255,0.9412)\" stroke-width=\"2\" stroke-miterlimit=\"10\"/>\n",
       "<circle cx=\"58.3061\" cy=\"170.0769\" r=\"5.6693\" fill=\"none\" stroke=\"rgba(0,128,255,0.9412)\" stroke-width=\"2\" stroke-miterlimit=\"10\"/>\n",
       "<circle cx=\"61.3122\" cy=\"78.3574\" r=\"5.6693\" fill=\"none\" stroke=\"rgba(0,128,255,0.9412)\" stroke-width=\"2\" stroke-miterlimit=\"10\"/>\n",
       "<circle cx=\"194.5552\" cy=\"221.7279\" r=\"5.6693\" fill=\"none\" stroke=\"rgba(0,128,255,0.9412)\" stroke-width=\"2\" stroke-miterlimit=\"10\"/>\n",
       "<circle cx=\"167.2219\" cy=\"111.419\" r=\"5.6693\" fill=\"none\" stroke=\"rgba(0,128,255,0.9412)\" stroke-width=\"2\" stroke-miterlimit=\"10\"/>\n",
       "<circle cx=\"114.2617\" cy=\"134.6946\" r=\"5.6693\" fill=\"none\" stroke=\"rgba(0,128,255,0.9412)\" stroke-width=\"2\" stroke-miterlimit=\"10\"/>\n",
       "<circle cx=\"147.6829\" cy=\"68.9832\" r=\"5.6693\" fill=\"none\" stroke=\"rgba(0,128,255,0.9412)\" stroke-width=\"2\" stroke-miterlimit=\"10\"/>\n",
       "<circle cx=\"113.389\" cy=\"62.6489\" r=\"5.6693\" fill=\"none\" stroke=\"rgba(0,128,255,0.9412)\" stroke-width=\"2\" stroke-miterlimit=\"10\"/>\n",
       "<circle cx=\"102.9973\" cy=\"127.4411\" r=\"5.6693\" fill=\"none\" stroke=\"rgba(0,128,255,0.9412)\" stroke-width=\"2\" stroke-miterlimit=\"10\"/>\n",
       "<circle cx=\"139.1457\" cy=\"182.0747\" r=\"5.6693\" fill=\"none\" stroke=\"rgba(0,128,255,0.9412)\" stroke-width=\"2\" stroke-miterlimit=\"10\"/>\n",
       "<circle cx=\"126.4688\" cy=\"111.076\" r=\"5.6693\" fill=\"none\" stroke=\"rgba(0,128,255,0.9412)\" stroke-width=\"2\" stroke-miterlimit=\"10\"/>\n",
       "<circle cx=\"85.3351\" cy=\"108.3793\" r=\"5.6693\" fill=\"none\" stroke=\"rgba(0,128,255,0.9412)\" stroke-width=\"2\" stroke-miterlimit=\"10\"/>\n",
       "<circle cx=\"115.1377\" cy=\"148.3348\" r=\"5.6693\" fill=\"none\" stroke=\"rgba(0,128,255,0.9412)\" stroke-width=\"2\" stroke-miterlimit=\"10\"/>\n",
       "<circle cx=\"197.2359\" cy=\"175.6583\" r=\"5.6693\" fill=\"none\" stroke=\"rgba(0,128,255,0.9412)\" stroke-width=\"2\" stroke-miterlimit=\"10\"/>\n",
       "<circle cx=\"196.504\" cy=\"146.724\" r=\"5.6693\" fill=\"none\" stroke=\"rgba(0,128,255,0.9412)\" stroke-width=\"2\" stroke-miterlimit=\"10\"/>\n",
       "<circle cx=\"144.3811\" cy=\"91.5358\" r=\"5.6693\" fill=\"none\" stroke=\"rgba(0,128,255,0.9412)\" stroke-width=\"2\" stroke-miterlimit=\"10\"/>\n",
       "<circle cx=\"108.9713\" cy=\"124.067\" r=\"5.6693\" fill=\"none\" stroke=\"rgba(0,128,255,0.9412)\" stroke-width=\"2\" stroke-miterlimit=\"10\"/>\n",
       "<circle cx=\"210.4356\" cy=\"193.8114\" r=\"5.6693\" fill=\"none\" stroke=\"rgba(0,128,255,0.9412)\" stroke-width=\"2\" stroke-miterlimit=\"10\"/>\n",
       "<circle cx=\"223.1861\" cy=\"139.6764\" r=\"5.6693\" fill=\"none\" stroke=\"rgba(0,128,255,0.9412)\" stroke-width=\"2\" stroke-miterlimit=\"10\"/>\n",
       "<circle cx=\"147.3855\" cy=\"161.3897\" r=\"5.6693\" fill=\"none\" stroke=\"rgba(0,128,255,0.9412)\" stroke-width=\"2\" stroke-miterlimit=\"10\"/>\n",
       "<circle cx=\"111.3232\" cy=\"146.7582\" r=\"5.6693\" fill=\"none\" stroke=\"rgba(0,128,255,0.9412)\" stroke-width=\"2\" stroke-miterlimit=\"10\"/>\n",
       "<circle cx=\"65.9837\" cy=\"219.6244\" r=\"5.6693\" fill=\"none\" stroke=\"rgba(0,128,255,0.9412)\" stroke-width=\"2\" stroke-miterlimit=\"10\"/>\n",
       "<circle cx=\"144.2397\" cy=\"220.5381\" r=\"5.6693\" fill=\"none\" stroke=\"rgba(0,128,255,0.9412)\" stroke-width=\"2\" stroke-miterlimit=\"10\"/>\n",
       "<circle cx=\"99.5742\" cy=\"215.4805\" r=\"5.6693\" fill=\"none\" stroke=\"rgba(0,128,255,0.9412)\" stroke-width=\"2\" stroke-miterlimit=\"10\"/>\n",
       "<circle cx=\"64.6221\" cy=\"135.0725\" r=\"5.6693\" fill=\"none\" stroke=\"rgba(0,128,255,0.9412)\" stroke-width=\"2\" stroke-miterlimit=\"10\"/>\n",
       "<circle cx=\"168.2596\" cy=\"157.1995\" r=\"5.6693\" fill=\"none\" stroke=\"rgba(0,128,255,0.9412)\" stroke-width=\"2\" stroke-miterlimit=\"10\"/>\n",
       "<circle cx=\"131.1717\" cy=\"115.2372\" r=\"5.6693\" fill=\"none\" stroke=\"rgba(0,128,255,0.9412)\" stroke-width=\"2\" stroke-miterlimit=\"10\"/>\n",
       "<circle cx=\"141.7054\" cy=\"108.8459\" r=\"5.6693\" fill=\"none\" stroke=\"rgba(0,128,255,0.9412)\" stroke-width=\"2\" stroke-miterlimit=\"10\"/>\n",
       "<circle cx=\"82.2969\" cy=\"66.3138\" r=\"5.6693\" fill=\"none\" stroke=\"rgba(0,128,255,0.9412)\" stroke-width=\"2\" stroke-miterlimit=\"10\"/>\n",
       "<circle cx=\"182.5381\" cy=\"125.2566\" r=\"5.6693\" fill=\"none\" stroke=\"rgba(0,128,255,0.9412)\" stroke-width=\"2\" stroke-miterlimit=\"10\"/>\n",
       "<circle cx=\"72.5913\" cy=\"158.1259\" r=\"5.6693\" fill=\"none\" stroke=\"rgba(0,128,255,0.9412)\" stroke-width=\"2\" stroke-miterlimit=\"10\"/>\n",
       "<circle cx=\"81.8629\" cy=\"102.2148\" r=\"5.6693\" fill=\"none\" stroke=\"rgba(0,128,255,0.9412)\" stroke-width=\"2\" stroke-miterlimit=\"10\"/>\n",
       "<circle cx=\"208.028\" cy=\"137.5958\" r=\"5.6693\" fill=\"none\" stroke=\"rgba(0,128,255,0.9412)\" stroke-width=\"2\" stroke-miterlimit=\"10\"/>\n",
       "<circle cx=\"121.5132\" cy=\"130.1262\" r=\"5.6693\" fill=\"none\" stroke=\"rgba(0,128,255,0.9412)\" stroke-width=\"2\" stroke-miterlimit=\"10\"/>\n",
       "<circle cx=\"189.8137\" cy=\"113.5041\" r=\"5.6693\" fill=\"none\" stroke=\"rgba(0,128,255,0.9412)\" stroke-width=\"2\" stroke-miterlimit=\"10\"/>\n",
       "<circle cx=\"65.7273\" cy=\"163.2613\" r=\"5.6693\" fill=\"none\" stroke=\"rgba(0,128,255,0.9412)\" stroke-width=\"2\" stroke-miterlimit=\"10\"/>\n",
       "<circle cx=\"143.1706\" cy=\"192.9303\" r=\"5.6693\" fill=\"none\" stroke=\"rgba(0,128,255,0.9412)\" stroke-width=\"2\" stroke-miterlimit=\"10\"/>\n",
       "<circle cx=\"142.8074\" cy=\"189.2121\" r=\"5.6693\" fill=\"none\" stroke=\"rgba(0,128,255,0.9412)\" stroke-width=\"2\" stroke-miterlimit=\"10\"/>\n",
       "<circle cx=\"141.8374\" cy=\"185.8132\" r=\"5.6693\" fill=\"none\" stroke=\"rgba(0,128,255,0.9412)\" stroke-width=\"2\" stroke-miterlimit=\"10\"/>\n",
       "<circle cx=\"194.1782\" cy=\"109.2158\" r=\"5.6693\" fill=\"none\" stroke=\"rgba(0,128,255,0.9412)\" stroke-width=\"2\" stroke-miterlimit=\"10\"/>\n",
       "<circle cx=\"181.7162\" cy=\"133.2193\" r=\"5.6693\" fill=\"none\" stroke=\"rgba(0,128,255,0.9412)\" stroke-width=\"2\" stroke-miterlimit=\"10\"/>\n",
       "<circle cx=\"115.8562\" cy=\"224.1586\" r=\"5.6693\" fill=\"none\" stroke=\"rgba(0,128,255,0.9412)\" stroke-width=\"2\" stroke-miterlimit=\"10\"/>\n",
       "<circle cx=\"140.5463\" cy=\"153.9107\" r=\"5.6693\" fill=\"none\" stroke=\"rgba(0,128,255,0.9412)\" stroke-width=\"2\" stroke-miterlimit=\"10\"/>\n",
       "<circle cx=\"159.1489\" cy=\"116.0216\" r=\"5.6693\" fill=\"none\" stroke=\"rgba(0,128,255,0.9412)\" stroke-width=\"2\" stroke-miterlimit=\"10\"/>\n",
       "<circle cx=\"199.3327\" cy=\"84.0711\" r=\"5.6693\" fill=\"none\" stroke=\"rgba(0,128,255,0.9412)\" stroke-width=\"2\" stroke-miterlimit=\"10\"/>\n",
       "<circle cx=\"190.9819\" cy=\"97.9195\" r=\"5.6693\" fill=\"none\" stroke=\"rgba(0,128,255,0.9412)\" stroke-width=\"2\" stroke-miterlimit=\"10\"/>\n",
       "<circle cx=\"116.3969\" cy=\"124.2867\" r=\"5.6693\" fill=\"none\" stroke=\"rgba(0,128,255,0.9412)\" stroke-width=\"2\" stroke-miterlimit=\"10\"/>\n",
       "<circle cx=\"114.4896\" cy=\"124.7369\" r=\"5.6693\" fill=\"none\" stroke=\"rgba(0,128,255,0.9412)\" stroke-width=\"2\" stroke-miterlimit=\"10\"/>\n",
       "<circle cx=\"71.4914\" cy=\"188.1389\" r=\"5.6693\" fill=\"none\" stroke=\"rgba(0,128,255,0.9412)\" stroke-width=\"2\" stroke-miterlimit=\"10\"/>\n",
       "<circle cx=\"144.8473\" cy=\"153.0098\" r=\"5.6693\" fill=\"none\" stroke=\"rgba(0,128,255,0.9412)\" stroke-width=\"2\" stroke-miterlimit=\"10\"/>\n",
       "<circle cx=\"125.7522\" cy=\"98.6889\" r=\"5.6693\" fill=\"none\" stroke=\"rgba(0,128,255,0.9412)\" stroke-width=\"2\" stroke-miterlimit=\"10\"/>\n",
       "<circle cx=\"128.4215\" cy=\"172.8449\" r=\"5.6693\" fill=\"none\" stroke=\"rgba(0,128,255,0.9412)\" stroke-width=\"2\" stroke-miterlimit=\"10\"/>\n",
       "<circle cx=\"174.9307\" cy=\"173.2973\" r=\"5.6693\" fill=\"none\" stroke=\"rgba(0,128,255,0.9412)\" stroke-width=\"2\" stroke-miterlimit=\"10\"/>\n",
       "<circle cx=\"57.4827\" cy=\"101.3988\" r=\"5.6693\" fill=\"none\" stroke=\"rgba(0,128,255,0.9412)\" stroke-width=\"2\" stroke-miterlimit=\"10\"/>\n",
       "<circle cx=\"93.4117\" cy=\"120.8849\" r=\"5.6693\" fill=\"none\" stroke=\"rgba(0,128,255,0.9412)\" stroke-width=\"2\" stroke-miterlimit=\"10\"/>\n",
       "<circle cx=\"192.3578\" cy=\"218.1884\" r=\"5.6693\" fill=\"none\" stroke=\"rgba(0,128,255,0.9412)\" stroke-width=\"2\" stroke-miterlimit=\"10\"/>\n",
       "<circle cx=\"179.1272\" cy=\"120.9017\" r=\"5.6693\" fill=\"none\" stroke=\"rgba(0,128,255,0.9412)\" stroke-width=\"2\" stroke-miterlimit=\"10\"/>\n",
       "<circle cx=\"145.3691\" cy=\"142.1525\" r=\"5.6693\" fill=\"none\" stroke=\"rgba(0,128,255,0.9412)\" stroke-width=\"2\" stroke-miterlimit=\"10\"/>\n",
       "<circle cx=\"162.2407\" cy=\"169.1641\" r=\"5.6693\" fill=\"none\" stroke=\"rgba(0,128,255,0.9412)\" stroke-width=\"2\" stroke-miterlimit=\"10\"/>\n",
       "<circle cx=\"100.7032\" cy=\"83.6931\" r=\"5.6693\" fill=\"none\" stroke=\"rgba(0,128,255,0.9412)\" stroke-width=\"2\" stroke-miterlimit=\"10\"/>\n",
       "<circle cx=\"70.9717\" cy=\"220.1571\" r=\"5.6693\" fill=\"none\" stroke=\"rgba(0,128,255,0.9412)\" stroke-width=\"2\" stroke-miterlimit=\"10\"/>\n",
       "<circle cx=\"136.7621\" cy=\"162.7158\" r=\"5.6693\" fill=\"none\" stroke=\"rgba(0,128,255,0.9412)\" stroke-width=\"2\" stroke-miterlimit=\"10\"/>\n",
       "<circle cx=\"135.6063\" cy=\"123.1811\" r=\"5.6693\" fill=\"none\" stroke=\"rgba(0,128,255,0.9412)\" stroke-width=\"2\" stroke-miterlimit=\"10\"/>\n",
       "<circle cx=\"115.5796\" cy=\"110.2702\" r=\"5.6693\" fill=\"none\" stroke=\"rgba(0,128,255,0.9412)\" stroke-width=\"2\" stroke-miterlimit=\"10\"/>\n",
       "<circle cx=\"127.4445\" cy=\"120.1083\" r=\"5.6693\" fill=\"none\" stroke=\"rgba(0,128,255,0.9412)\" stroke-width=\"2\" stroke-miterlimit=\"10\"/>\n",
       "<circle cx=\"174.0925\" cy=\"131.1413\" r=\"5.6693\" fill=\"none\" stroke=\"rgba(0,128,255,0.9412)\" stroke-width=\"2\" stroke-miterlimit=\"10\"/>\n",
       "<circle cx=\"186.3144\" cy=\"93.8656\" r=\"5.6693\" fill=\"none\" stroke=\"rgba(0,128,255,0.9412)\" stroke-width=\"2\" stroke-miterlimit=\"10\"/>\n",
       "<circle cx=\"112.3883\" cy=\"176.8797\" r=\"5.6693\" fill=\"none\" stroke=\"rgba(0,128,255,0.9412)\" stroke-width=\"2\" stroke-miterlimit=\"10\"/>\n",
       "<circle cx=\"139.8205\" cy=\"129.091\" r=\"5.6693\" fill=\"none\" stroke=\"rgba(0,128,255,0.9412)\" stroke-width=\"2\" stroke-miterlimit=\"10\"/>\n",
       "<circle cx=\"190.2094\" cy=\"186.0786\" r=\"5.6693\" fill=\"none\" stroke=\"rgba(0,128,255,0.9412)\" stroke-width=\"2\" stroke-miterlimit=\"10\"/>\n",
       "<circle cx=\"119.8034\" cy=\"135.8945\" r=\"5.6693\" fill=\"none\" stroke=\"rgba(0,128,255,0.9412)\" stroke-width=\"2\" stroke-miterlimit=\"10\"/>\n",
       "<circle cx=\"179.7403\" cy=\"172.8904\" r=\"5.6693\" fill=\"none\" stroke=\"rgba(0,128,255,0.9412)\" stroke-width=\"2\" stroke-miterlimit=\"10\"/>\n",
       "<circle cx=\"218.3086\" cy=\"73.2857\" r=\"5.6693\" fill=\"none\" stroke=\"rgba(0,128,255,0.9412)\" stroke-width=\"2\" stroke-miterlimit=\"10\"/>\n",
       "<circle cx=\"125.2555\" cy=\"91.1767\" r=\"5.6693\" fill=\"none\" stroke=\"rgba(0,128,255,0.9412)\" stroke-width=\"2\" stroke-miterlimit=\"10\"/>\n",
       "<circle cx=\"165.3189\" cy=\"152.0813\" r=\"5.6693\" fill=\"none\" stroke=\"rgba(0,128,255,0.9412)\" stroke-width=\"2\" stroke-miterlimit=\"10\"/>\n",
       "<circle cx=\"195.6723\" cy=\"95.7294\" r=\"5.6693\" fill=\"none\" stroke=\"rgba(0,128,255,0.9412)\" stroke-width=\"2\" stroke-miterlimit=\"10\"/>\n",
       "<circle cx=\"147.2878\" cy=\"167.5747\" r=\"5.6693\" fill=\"none\" stroke=\"rgba(0,128,255,0.9412)\" stroke-width=\"2\" stroke-miterlimit=\"10\"/>\n",
       "<circle cx=\"184.3566\" cy=\"141.2479\" r=\"5.6693\" fill=\"none\" stroke=\"rgba(0,128,255,0.9412)\" stroke-width=\"2\" stroke-miterlimit=\"10\"/>\n",
       "<circle cx=\"155.8479\" cy=\"188.9965\" r=\"5.6693\" fill=\"none\" stroke=\"rgba(0,128,255,0.9412)\" stroke-width=\"2\" stroke-miterlimit=\"10\"/>\n",
       "<circle cx=\"188.0879\" cy=\"110.1601\" r=\"5.6693\" fill=\"none\" stroke=\"rgba(0,128,255,0.9412)\" stroke-width=\"2\" stroke-miterlimit=\"10\"/>\n",
       "<circle cx=\"217.9256\" cy=\"77.4814\" r=\"5.6693\" fill=\"none\" stroke=\"rgba(0,128,255,0.9412)\" stroke-width=\"2\" stroke-miterlimit=\"10\"/>\n",
       "<circle cx=\"126.8834\" cy=\"224.1086\" r=\"5.6693\" fill=\"none\" stroke=\"rgba(0,128,255,0.9412)\" stroke-width=\"2\" stroke-miterlimit=\"10\"/>\n",
       "<circle cx=\"151.9564\" cy=\"183.591\" r=\"5.6693\" fill=\"none\" stroke=\"rgba(0,128,255,0.9412)\" stroke-width=\"2\" stroke-miterlimit=\"10\"/>\n",
       "<circle cx=\"184.0522\" cy=\"134.6091\" r=\"5.6693\" fill=\"none\" stroke=\"rgba(0,128,255,0.9412)\" stroke-width=\"2\" stroke-miterlimit=\"10\"/>\n",
       "<circle cx=\"176.0878\" cy=\"149.9626\" r=\"5.6693\" fill=\"none\" stroke=\"rgba(0,128,255,0.9412)\" stroke-width=\"2\" stroke-miterlimit=\"10\"/>\n",
       "<circle cx=\"99.3235\" cy=\"107.3568\" r=\"5.6693\" fill=\"none\" stroke=\"rgba(0,128,255,0.9412)\" stroke-width=\"2\" stroke-miterlimit=\"10\"/>\n",
       "<circle cx=\"159.358\" cy=\"120.0274\" r=\"5.6693\" fill=\"none\" stroke=\"rgba(0,128,255,0.9412)\" stroke-width=\"2\" stroke-miterlimit=\"10\"/>\n",
       "<circle cx=\"125.0044\" cy=\"90.1196\" r=\"5.6693\" fill=\"none\" stroke=\"rgba(0,128,255,0.9412)\" stroke-width=\"2\" stroke-miterlimit=\"10\"/>\n",
       "<circle cx=\"218.3618\" cy=\"64.1379\" r=\"5.6693\" fill=\"none\" stroke=\"rgba(0,128,255,0.9412)\" stroke-width=\"2\" stroke-miterlimit=\"10\"/>\n",
       "<circle cx=\"140.3126\" cy=\"166.9738\" r=\"5.6693\" fill=\"none\" stroke=\"rgba(0,128,255,0.9412)\" stroke-width=\"2\" stroke-miterlimit=\"10\"/>\n",
       "<circle cx=\"107.787\" cy=\"153.1377\" r=\"5.6693\" fill=\"none\" stroke=\"rgba(0,128,255,0.9412)\" stroke-width=\"2\" stroke-miterlimit=\"10\"/>\n",
       "<circle cx=\"76.4829\" cy=\"93.4845\" r=\"5.6693\" fill=\"none\" stroke=\"rgba(0,128,255,0.9412)\" stroke-width=\"2\" stroke-miterlimit=\"10\"/>\n",
       "<circle cx=\"121.2524\" cy=\"172.7766\" r=\"5.6693\" fill=\"none\" stroke=\"rgba(0,128,255,0.9412)\" stroke-width=\"2\" stroke-miterlimit=\"10\"/>\n",
       "<circle cx=\"94.5818\" cy=\"114.2281\" r=\"5.6693\" fill=\"none\" stroke=\"rgba(0,128,255,0.9412)\" stroke-width=\"2\" stroke-miterlimit=\"10\"/>\n",
       "<circle cx=\"57.5694\" cy=\"70.7234\" r=\"5.6693\" fill=\"none\" stroke=\"rgba(0,128,255,0.9412)\" stroke-width=\"2\" stroke-miterlimit=\"10\"/>\n",
       "<circle cx=\"113.9393\" cy=\"144.8182\" r=\"5.6693\" fill=\"none\" stroke=\"rgba(0,128,255,0.9412)\" stroke-width=\"2\" stroke-miterlimit=\"10\"/>\n",
       "<circle cx=\"158.6101\" cy=\"95.9711\" r=\"5.6693\" fill=\"none\" stroke=\"rgba(0,128,255,0.9412)\" stroke-width=\"2\" stroke-miterlimit=\"10\"/>\n",
       "<circle cx=\"145.9241\" cy=\"106.8891\" r=\"5.6693\" fill=\"none\" stroke=\"rgba(0,128,255,0.9412)\" stroke-width=\"2\" stroke-miterlimit=\"10\"/>\n",
       "<circle cx=\"149.3218\" cy=\"122.1963\" r=\"5.6693\" fill=\"none\" stroke=\"rgba(0,128,255,0.9412)\" stroke-width=\"2\" stroke-miterlimit=\"10\"/>\n",
       "<circle cx=\"155.434\" cy=\"148.8199\" r=\"5.6693\" fill=\"none\" stroke=\"rgba(0,128,255,0.9412)\" stroke-width=\"2\" stroke-miterlimit=\"10\"/>\n",
       "<circle cx=\"117.9787\" cy=\"158.8224\" r=\"5.6693\" fill=\"none\" stroke=\"rgba(0,128,255,0.9412)\" stroke-width=\"2\" stroke-miterlimit=\"10\"/>\n",
       "<circle cx=\"219.471\" cy=\"132.9212\" r=\"5.6693\" fill=\"none\" stroke=\"rgba(0,128,255,0.9412)\" stroke-width=\"2\" stroke-miterlimit=\"10\"/>\n",
       "<circle cx=\"84.1218\" cy=\"85.1083\" r=\"5.6693\" fill=\"none\" stroke=\"rgba(0,128,255,0.9412)\" stroke-width=\"2\" stroke-miterlimit=\"10\"/>\n",
       "<circle cx=\"106.1484\" cy=\"109.0093\" r=\"5.6693\" fill=\"none\" stroke=\"rgba(0,128,255,0.9412)\" stroke-width=\"2\" stroke-miterlimit=\"10\"/>\n",
       "<circle cx=\"154.5101\" cy=\"136.3793\" r=\"5.6693\" fill=\"none\" stroke=\"rgba(0,128,255,0.9412)\" stroke-width=\"2\" stroke-miterlimit=\"10\"/>\n",
       "<circle cx=\"186.0892\" cy=\"105.5489\" r=\"5.6693\" fill=\"none\" stroke=\"rgba(0,128,255,0.9412)\" stroke-width=\"2\" stroke-miterlimit=\"10\"/>\n",
       "<circle cx=\"189.9527\" cy=\"171.4666\" r=\"5.6693\" fill=\"none\" stroke=\"rgba(0,128,255,0.9412)\" stroke-width=\"2\" stroke-miterlimit=\"10\"/>\n",
       "<circle cx=\"177.294\" cy=\"122.8358\" r=\"5.6693\" fill=\"none\" stroke=\"rgba(0,128,255,0.9412)\" stroke-width=\"2\" stroke-miterlimit=\"10\"/>\n",
       "<circle cx=\"180.1659\" cy=\"210.6271\" r=\"5.6693\" fill=\"none\" stroke=\"rgba(0,128,255,0.9412)\" stroke-width=\"2\" stroke-miterlimit=\"10\"/>\n",
       "<circle cx=\"164.8265\" cy=\"119.9664\" r=\"5.6693\" fill=\"none\" stroke=\"rgba(0,128,255,0.9412)\" stroke-width=\"2\" stroke-miterlimit=\"10\"/>\n",
       "<circle cx=\"190.4446\" cy=\"85.6277\" r=\"5.6693\" fill=\"none\" stroke=\"rgba(0,128,255,0.9412)\" stroke-width=\"2\" stroke-miterlimit=\"10\"/>\n",
       "<circle cx=\"192.1723\" cy=\"163.6955\" r=\"5.6693\" fill=\"none\" stroke=\"rgba(0,128,255,0.9412)\" stroke-width=\"2\" stroke-miterlimit=\"10\"/>\n",
       "<circle cx=\"118.9495\" cy=\"137.0675\" r=\"5.6693\" fill=\"none\" stroke=\"rgba(0,128,255,0.9412)\" stroke-width=\"2\" stroke-miterlimit=\"10\"/>\n",
       "<circle cx=\"61.7224\" cy=\"140.4848\" r=\"5.6693\" fill=\"none\" stroke=\"rgba(0,128,255,0.9412)\" stroke-width=\"2\" stroke-miterlimit=\"10\"/>\n",
       "<circle cx=\"193.5814\" cy=\"145.4897\" r=\"5.6693\" fill=\"none\" stroke=\"rgba(0,128,255,0.9412)\" stroke-width=\"2\" stroke-miterlimit=\"10\"/>\n",
       "<circle cx=\"197.2165\" cy=\"136.3516\" r=\"5.6693\" fill=\"none\" stroke=\"rgba(0,128,255,0.9412)\" stroke-width=\"2\" stroke-miterlimit=\"10\"/>\n",
       "<circle cx=\"162.1955\" cy=\"221.371\" r=\"5.6693\" fill=\"none\" stroke=\"rgba(0,128,255,0.9412)\" stroke-width=\"2\" stroke-miterlimit=\"10\"/>\n",
       "<circle cx=\"84.2629\" cy=\"182.0348\" r=\"5.6693\" fill=\"none\" stroke=\"rgba(0,128,255,0.9412)\" stroke-width=\"2\" stroke-miterlimit=\"10\"/>\n",
       "<circle cx=\"138.0915\" cy=\"111.1182\" r=\"5.6693\" fill=\"none\" stroke=\"rgba(0,128,255,0.9412)\" stroke-width=\"2\" stroke-miterlimit=\"10\"/>\n",
       "<circle cx=\"70.3524\" cy=\"185.9327\" r=\"5.6693\" fill=\"none\" stroke=\"rgba(0,128,255,0.9412)\" stroke-width=\"2\" stroke-miterlimit=\"10\"/>\n",
       "<circle cx=\"209.0587\" cy=\"153.5843\" r=\"5.6693\" fill=\"none\" stroke=\"rgba(0,128,255,0.9412)\" stroke-width=\"2\" stroke-miterlimit=\"10\"/>\n",
       "<circle cx=\"152.2057\" cy=\"155.5307\" r=\"5.6693\" fill=\"none\" stroke=\"rgba(0,128,255,0.9412)\" stroke-width=\"2\" stroke-miterlimit=\"10\"/>\n",
       "<circle cx=\"90.0406\" cy=\"106.3228\" r=\"5.6693\" fill=\"none\" stroke=\"rgba(0,128,255,0.9412)\" stroke-width=\"2\" stroke-miterlimit=\"10\"/>\n",
       "<circle cx=\"92.0515\" cy=\"166.5909\" r=\"5.6693\" fill=\"none\" stroke=\"rgba(0,128,255,0.9412)\" stroke-width=\"2\" stroke-miterlimit=\"10\"/>\n",
       "<circle cx=\"66.6974\" cy=\"140.9663\" r=\"5.6693\" fill=\"none\" stroke=\"rgba(0,128,255,0.9412)\" stroke-width=\"2\" stroke-miterlimit=\"10\"/>\n",
       "<circle cx=\"219.4375\" cy=\"112.5152\" r=\"5.6693\" fill=\"none\" stroke=\"rgba(0,128,255,0.9412)\" stroke-width=\"2\" stroke-miterlimit=\"10\"/>\n",
       "<circle cx=\"132.2018\" cy=\"209.3908\" r=\"5.6693\" fill=\"none\" stroke=\"rgba(0,128,255,0.9412)\" stroke-width=\"2\" stroke-miterlimit=\"10\"/>\n",
       "<circle cx=\"187.7641\" cy=\"155.5516\" r=\"5.6693\" fill=\"none\" stroke=\"rgba(0,128,255,0.9412)\" stroke-width=\"2\" stroke-miterlimit=\"10\"/>\n",
       "<circle cx=\"91.1185\" cy=\"135.7751\" r=\"5.6693\" fill=\"none\" stroke=\"rgba(0,128,255,0.9412)\" stroke-width=\"2\" stroke-miterlimit=\"10\"/>\n",
       "<circle cx=\"63.2091\" cy=\"86.4998\" r=\"5.6693\" fill=\"none\" stroke=\"rgba(0,128,255,0.9412)\" stroke-width=\"2\" stroke-miterlimit=\"10\"/>\n",
       "<circle cx=\"168.2604\" cy=\"166.3351\" r=\"5.6693\" fill=\"none\" stroke=\"rgba(0,128,255,0.9412)\" stroke-width=\"2\" stroke-miterlimit=\"10\"/>\n",
       "<circle cx=\"84.9126\" cy=\"141.0038\" r=\"5.6693\" fill=\"none\" stroke=\"rgba(0,128,255,0.9412)\" stroke-width=\"2\" stroke-miterlimit=\"10\"/>\n",
       "<circle cx=\"218.5128\" cy=\"126.2205\" r=\"5.6693\" fill=\"none\" stroke=\"rgba(0,128,255,0.9412)\" stroke-width=\"2\" stroke-miterlimit=\"10\"/>\n",
       "<circle cx=\"108.2024\" cy=\"185.599\" r=\"5.6693\" fill=\"none\" stroke=\"rgba(0,128,255,0.9412)\" stroke-width=\"2\" stroke-miterlimit=\"10\"/>\n",
       "<circle cx=\"75.8428\" cy=\"106.1995\" r=\"5.6693\" fill=\"none\" stroke=\"rgba(0,128,255,0.9412)\" stroke-width=\"2\" stroke-miterlimit=\"10\"/>\n",
       "<circle cx=\"77.5781\" cy=\"173.8005\" r=\"5.6693\" fill=\"none\" stroke=\"rgba(0,128,255,0.9412)\" stroke-width=\"2\" stroke-miterlimit=\"10\"/>\n",
       "<circle cx=\"219.9135\" cy=\"91.0159\" r=\"5.6693\" fill=\"none\" stroke=\"rgba(0,128,255,0.9412)\" stroke-width=\"2\" stroke-miterlimit=\"10\"/>\n",
       "<circle cx=\"211.7518\" cy=\"141.8405\" r=\"5.6693\" fill=\"none\" stroke=\"rgba(0,128,255,0.9412)\" stroke-width=\"2\" stroke-miterlimit=\"10\"/>\n",
       "<circle cx=\"185.323\" cy=\"94.412\" r=\"5.6693\" fill=\"none\" stroke=\"rgba(0,128,255,0.9412)\" stroke-width=\"2\" stroke-miterlimit=\"10\"/>\n",
       "<circle cx=\"119.6999\" cy=\"137.5808\" r=\"5.6693\" fill=\"none\" stroke=\"rgba(0,128,255,0.9412)\" stroke-width=\"2\" stroke-miterlimit=\"10\"/>\n",
       "<circle cx=\"142.2425\" cy=\"108.8788\" r=\"5.6693\" fill=\"none\" stroke=\"rgba(0,128,255,0.9412)\" stroke-width=\"2\" stroke-miterlimit=\"10\"/>\n",
       "<circle cx=\"96.1508\" cy=\"76.9617\" r=\"5.6693\" fill=\"none\" stroke=\"rgba(0,128,255,0.9412)\" stroke-width=\"2\" stroke-miterlimit=\"10\"/>\n",
       "<circle cx=\"221.5421\" cy=\"122.326\" r=\"5.6693\" fill=\"none\" stroke=\"rgba(0,128,255,0.9412)\" stroke-width=\"2\" stroke-miterlimit=\"10\"/>\n",
       "<circle cx=\"99.4122\" cy=\"89.5413\" r=\"5.6693\" fill=\"none\" stroke=\"rgba(0,128,255,0.9412)\" stroke-width=\"2\" stroke-miterlimit=\"10\"/>\n",
       "<circle cx=\"95.3275\" cy=\"115.4387\" r=\"5.6693\" fill=\"none\" stroke=\"rgba(0,128,255,0.9412)\" stroke-width=\"2\" stroke-miterlimit=\"10\"/>\n",
       "<circle cx=\"115.9129\" cy=\"119.313\" r=\"5.6693\" fill=\"none\" stroke=\"rgba(0,128,255,0.9412)\" stroke-width=\"2\" stroke-miterlimit=\"10\"/>\n",
       "<circle cx=\"156.6353\" cy=\"206.5553\" r=\"5.6693\" fill=\"none\" stroke=\"rgba(0,128,255,0.9412)\" stroke-width=\"2\" stroke-miterlimit=\"10\"/>\n",
       "<circle cx=\"152.5868\" cy=\"192.491\" r=\"5.6693\" fill=\"none\" stroke=\"rgba(0,128,255,0.9412)\" stroke-width=\"2\" stroke-miterlimit=\"10\"/>\n",
       "<circle cx=\"76.8506\" cy=\"148.4748\" r=\"5.6693\" fill=\"none\" stroke=\"rgba(0,128,255,0.9412)\" stroke-width=\"2\" stroke-miterlimit=\"10\"/>\n",
       "<circle cx=\"91.3315\" cy=\"99.7977\" r=\"5.6693\" fill=\"none\" stroke=\"rgba(0,128,255,0.9412)\" stroke-width=\"2\" stroke-miterlimit=\"10\"/>\n",
       "<circle cx=\"84.8761\" cy=\"179.4001\" r=\"5.6693\" fill=\"none\" stroke=\"rgba(0,128,255,0.9412)\" stroke-width=\"2\" stroke-miterlimit=\"10\"/>\n",
       "</svg>"
      ],
      "text/plain": [
       "<IPython.core.display.SVG object>"
      ]
     },
     "metadata": {},
     "output_type": "display_data"
    }
   ],
   "source": [
    "d = document(100, 100, 'mm')\n",
    "page = d.addpage()\n",
    "uniform_fig = shape().nostroke().stroke(rgba(255, 0, 0, 240)).width(1).nofill()\n",
    "normal_fig = shape().nostroke().stroke(rgba(64, 220, 64, 240)).width(1.5).nofill()\n",
    "t_normal_fig = shape().nostroke().stroke(rgba(0, 128, 255, 240)).width(2).nofill()\n",
    "mu = 50 # center of normal distributions\n",
    "sigma = 20 # standard deviation of normal distributions\n",
    "sample_n = 400 # number of \"samples\" (i.e. circles to draw for each distribution)\n",
    "for i in range(sample_n):\n",
    "    c = uniform_fig.circle(uniform(100), uniform(100), 1)\n",
    "    page.place(c)\n",
    "for i in range(sample_n):\n",
    "    c = normal_fig.circle(normal(mu, sigma), normal(mu, sigma), 1.5)\n",
    "    page.place(c)\n",
    "for i in range(sample_n):\n",
    "    c = t_normal_fig.circle(t_normal(20, 80, mu, sigma), t_normal(20, 80, mu, sigma), 2)\n",
    "    page.place(c)\n",
    "show(page)"
   ]
  },
  {
   "cell_type": "markdown",
   "metadata": {},
   "source": [
    "> Exercise: Copy the visualization above, but rewrite it to visualize three normal distributions with different standard deviations."
   ]
  },
  {
   "cell_type": "markdown",
   "metadata": {},
   "source": [
    "## Random compositions\n",
    "\n",
    "The following code uses random numbers to set the stroke color, fill color, and position of a rectangle on the page. (Run it multiple times to see the results.)"
   ]
  },
  {
   "cell_type": "code",
   "execution_count": 30,
   "metadata": {},
   "outputs": [
    {
     "data": {
      "image/svg+xml": [
       "<svg xmlns=\"http://www.w3.org/2000/svg\" xmlns:xlink=\"http://www.w3.org/1999/xlink\" version=\"1.1\" width=\"283.4646pt\" height=\"283.4646pt\" viewBox=\"0 0 283.4646 283.4646\">\n",
       "<title>Untitled</title>\n",
       "<rect x=\"102.5036\" y=\"33.2956\" width=\"97.3049\" height=\"16.8459\" fill=\"rgba(112,113,136,0.1569)\" stroke=\"rgba(55,12,72,1)\" stroke-width=\"1.1449\" stroke-miterlimit=\"10\"/>\n",
       "</svg>"
      ],
      "text/plain": [
       "<IPython.core.display.SVG object>"
      ]
     },
     "metadata": {},
     "output_type": "display_data"
    }
   ],
   "source": [
    "d = document(100, 100, 'mm')\n",
    "page = d.addpage()\n",
    "stroke_c = rgba(int(t_normal(0, 100, 50, 25)),\n",
    "                int(t_normal(0, 100, 50, 25)),\n",
    "                int(uniform(255)),\n",
    "                255)\n",
    "fill_c = rgba(int(uniform(255)),\n",
    "              int(uniform(255)),\n",
    "              int(uniform(255)),\n",
    "              choice([40, 255], p=[0.9, 0.1]))\n",
    "figure = shape().stroke(stroke_c).fill(fill_c).width(uniform(5))\n",
    "rect = figure.rectangle(\n",
    "    normal(25, 10), normal(25, 10),\n",
    "    normal(50, 10), normal(20, 10))\n",
    "page.place(rect)\n",
    "show(page)"
   ]
  },
  {
   "cell_type": "markdown",
   "metadata": {},
   "source": [
    "Play around with the parameters a bit until you understand how it works. Anywhere you see a call to `uniform()`, `normal()`, `t_normal()` or `choice()`, you can replace it with a call to another one of those same functions. (Note that colors values *always* have to be integers and always need to be between 0–255.)\n",
    "\n",
    "The cell below uses a `for` loop to draw multiple rectangles:"
   ]
  },
  {
   "cell_type": "code",
   "execution_count": 31,
   "metadata": {},
   "outputs": [
    {
     "data": {
      "image/svg+xml": [
       "<svg xmlns=\"http://www.w3.org/2000/svg\" xmlns:xlink=\"http://www.w3.org/1999/xlink\" version=\"1.1\" width=\"283.4646pt\" height=\"283.4646pt\" viewBox=\"0 0 283.4646 283.4646\">\n",
       "<title>Untitled</title>\n",
       "<rect x=\"35.7464\" y=\"85.3587\" width=\"118.4848\" height=\"38.5843\" fill=\"rgba(38,92,22,0.1569)\" stroke=\"rgba(22,44,143,1)\" stroke-width=\"3.9303\" stroke-miterlimit=\"10\"/>\n",
       "<rect x=\"131.3768\" y=\"98.9257\" width=\"158.8666\" height=\"20.4655\" fill=\"rgba(127,9,216,1)\" stroke=\"rgba(97,57,227,1)\" stroke-width=\"1.6826\" stroke-miterlimit=\"10\"/>\n",
       "<rect x=\"96.2324\" y=\"73.601\" width=\"181.0527\" height=\"50.7273\" fill=\"rgba(237,230,116,0.1569)\" stroke=\"rgba(97,35,94,1)\" stroke-width=\"3.4745\" stroke-miterlimit=\"10\"/>\n",
       "<rect x=\"119.9673\" y=\"62.0831\" width=\"116.5534\" height=\"63.9165\" fill=\"rgba(241,155,250,1)\" stroke=\"rgba(10,37,102,1)\" stroke-width=\"1.7415\" stroke-miterlimit=\"10\"/>\n",
       "<rect x=\"96.7858\" y=\"101.6304\" width=\"173.0909\" height=\"77.4881\" fill=\"rgba(133,176,194,0.1569)\" stroke=\"rgba(59,33,245,1)\" stroke-width=\"3.4031\" stroke-miterlimit=\"10\"/>\n",
       "<rect x=\"49.8109\" y=\"67.9867\" width=\"160.5816\" height=\"78.286\" fill=\"rgba(56,254,124,0.1569)\" stroke=\"rgba(50,21,122,1)\" stroke-width=\"3.1742\" stroke-miterlimit=\"10\"/>\n",
       "<rect x=\"155.8081\" y=\"46.0242\" width=\"166.082\" height=\"44.6647\" fill=\"rgba(111,4,108,0.1569)\" stroke=\"rgba(40,35,207,1)\" stroke-width=\"4.8132\" stroke-miterlimit=\"10\"/>\n",
       "<rect x=\"66.6129\" y=\"79.9685\" width=\"74.9572\" height=\"73.9293\" fill=\"rgba(98,25,88,0.1569)\" stroke=\"rgba(60,47,147,1)\" stroke-width=\"3.9725\" stroke-miterlimit=\"10\"/>\n",
       "<rect x=\"116.8144\" y=\"-16.2108\" width=\"112.5682\" height=\"14.6026\" fill=\"rgba(174,211,239,0.1569)\" stroke=\"rgba(17,87,37,1)\" stroke-width=\"3.9092\" stroke-miterlimit=\"10\"/>\n",
       "<rect x=\"58.3206\" y=\"45.3826\" width=\"115.3613\" height=\"32.5002\" fill=\"rgba(194,194,53,0.1569)\" stroke=\"rgba(40,17,58,1)\" stroke-width=\"1.2766\" stroke-miterlimit=\"10\"/>\n",
       "<rect x=\"16.8647\" y=\"43.5038\" width=\"162.4099\" height=\"59.8499\" fill=\"rgba(142,73,196,0.1569)\" stroke=\"rgba(25,75,139,1)\" stroke-width=\"2.213\" stroke-miterlimit=\"10\"/>\n",
       "<rect x=\"84.3563\" y=\"84.4969\" width=\"150.5412\" height=\"53.79\" fill=\"rgba(173,144,79,0.1569)\" stroke=\"rgba(15,35,86,1)\" stroke-width=\"4.885\" stroke-miterlimit=\"10\"/>\n",
       "<rect x=\"28.2066\" y=\"4.8375\" width=\"124.3837\" height=\"67.3029\" fill=\"rgba(133,86,172,1)\" stroke=\"rgba(31,51,93,1)\" stroke-width=\"2.8317\" stroke-miterlimit=\"10\"/>\n",
       "<rect x=\"87.1182\" y=\"31.5246\" width=\"144.273\" height=\"54.8521\" fill=\"rgba(89,79,17,0.1569)\" stroke=\"rgba(28,54,189,1)\" stroke-width=\"1.4343\" stroke-miterlimit=\"10\"/>\n",
       "<rect x=\"78.5145\" y=\"61.6989\" width=\"126.4914\" height=\"33.0653\" fill=\"rgba(91,223,182,0.1569)\" stroke=\"rgba(68,39,101,1)\" stroke-width=\"3.1429\" stroke-miterlimit=\"10\"/>\n",
       "<rect x=\"87.3957\" y=\"80.0679\" width=\"159.642\" height=\"55.165\" fill=\"rgba(237,147,84,0.1569)\" stroke=\"rgba(19,62,110,1)\" stroke-width=\"3.8557\" stroke-miterlimit=\"10\"/>\n",
       "<rect x=\"89.2329\" y=\"36.422\" width=\"127.7729\" height=\"46.1666\" fill=\"rgba(48,53,68,0.1569)\" stroke=\"rgba(14,68,42,1)\" stroke-width=\"4.1031\" stroke-miterlimit=\"10\"/>\n",
       "<rect x=\"79.1859\" y=\"84.5556\" width=\"148.6921\" height=\"1.6345\" fill=\"rgba(197,140,213,0.1569)\" stroke=\"rgba(42,44,156,1)\" stroke-width=\"4.0763\" stroke-miterlimit=\"10\"/>\n",
       "<rect x=\"61.1646\" y=\"84.9139\" width=\"154.9149\" height=\"39.4271\" fill=\"rgba(149,67,70,0.1569)\" stroke=\"rgba(19,31,194,1)\" stroke-width=\"4.7625\" stroke-miterlimit=\"10\"/>\n",
       "<rect x=\"58.4661\" y=\"98.1072\" width=\"160.2014\" height=\"80.6874\" fill=\"rgba(98,128,231,0.1569)\" stroke=\"rgba(63,63,112,1)\" stroke-width=\"3.3752\" stroke-miterlimit=\"10\"/>\n",
       "<rect x=\"75.3079\" y=\"68.0127\" width=\"195.0606\" height=\"72.4765\" fill=\"rgba(3,36,130,0.1569)\" stroke=\"rgba(25,35,144,1)\" stroke-width=\"4.6322\" stroke-miterlimit=\"10\"/>\n",
       "<rect x=\"61.8353\" y=\"91.2685\" width=\"58.7749\" height=\"65.9284\" fill=\"rgba(239,151,220,0.1569)\" stroke=\"rgba(54,51,114,1)\" stroke-width=\"4.7192\" stroke-miterlimit=\"10\"/>\n",
       "<rect x=\"52.7425\" y=\"72.7195\" width=\"153.7485\" height=\"73.8778\" fill=\"rgba(112,225,105,0.1569)\" stroke=\"rgba(52,59,242,1)\" stroke-width=\"4.538\" stroke-miterlimit=\"10\"/>\n",
       "</svg>"
      ],
      "text/plain": [
       "<IPython.core.display.SVG object>"
      ]
     },
     "metadata": {},
     "output_type": "display_data"
    }
   ],
   "source": [
    "d = document(100, 100, 'mm')\n",
    "page = d.addpage()\n",
    "for i in range(int(uniform(8, 24))):\n",
    "    stroke_c = rgba(int(t_normal(0, 100, 50, 25)),\n",
    "                    int(t_normal(0, 100, 50, 25)),\n",
    "                    int(uniform(255)),\n",
    "                    255)\n",
    "    fill_c = rgba(int(uniform(255)),\n",
    "                  int(uniform(255)),\n",
    "                  int(uniform(255)),\n",
    "                  choice([40, 255], p=[0.9, 0.1]))\n",
    "    figure = shape().stroke(stroke_c).fill(fill_c).width(uniform(5))\n",
    "    rect = figure.rectangle(normal(25, 10), normal(25, 10),\n",
    "                            normal(50, 10), normal(20, 10))\n",
    "    page.place(rect)\n",
    "show(page)"
   ]
  },
  {
   "cell_type": "markdown",
   "metadata": {},
   "source": [
    "Here's another example that uses circles instead of rectangles:"
   ]
  },
  {
   "cell_type": "code",
   "execution_count": 32,
   "metadata": {},
   "outputs": [
    {
     "data": {
      "image/svg+xml": [
       "<svg xmlns=\"http://www.w3.org/2000/svg\" xmlns:xlink=\"http://www.w3.org/1999/xlink\" version=\"1.1\" width=\"283.4646pt\" height=\"283.4646pt\" viewBox=\"0 0 283.4646 283.4646\">\n",
       "<title>Untitled</title>\n",
       "<circle cx=\"90.3641\" cy=\"130.7837\" r=\"17.5268\" fill=\"rgba(0,0,170,0.3137)\"/>\n",
       "<circle cx=\"163.6053\" cy=\"148.4972\" r=\"128.672\" fill=\"rgba(0,0,158,0.3137)\"/>\n",
       "<circle cx=\"171.944\" cy=\"129.2379\" r=\"52.4351\" fill=\"rgba(0,0,175,0.3137)\"/>\n",
       "<circle cx=\"194.0188\" cy=\"142.732\" r=\"92.6097\" fill=\"rgba(0,0,185,0.3137)\"/>\n",
       "<circle cx=\"208.3928\" cy=\"126.2486\" r=\"21.8339\" fill=\"rgba(0,0,164,0.1569)\"/>\n",
       "<circle cx=\"133.3601\" cy=\"134.4742\" r=\"137.8245\" fill=\"rgba(0,0,236,0.1569)\"/>\n",
       "<circle cx=\"151.5033\" cy=\"139.9658\" r=\"133.5653\" fill=\"rgba(0,0,8,0.3137)\"/>\n",
       "<circle cx=\"164.8934\" cy=\"146.5257\" r=\"43.271\" fill=\"rgba(0,0,187,0.3137)\"/>\n",
       "<circle cx=\"132.2433\" cy=\"116.8171\" r=\"72.7113\" fill=\"rgba(0,0,10,0.3137)\"/>\n",
       "<circle cx=\"120.4683\" cy=\"158.9888\" r=\"68.3824\" fill=\"rgba(0,0,58,0.1569)\"/>\n",
       "<circle cx=\"159.3167\" cy=\"160.9195\" r=\"33.4889\" fill=\"rgba(0,0,250,0.3137)\"/>\n",
       "<circle cx=\"101.4497\" cy=\"124.2274\" r=\"137.9586\" fill=\"rgba(0,0,246,0.3137)\"/>\n",
       "</svg>"
      ],
      "text/plain": [
       "<IPython.core.display.SVG object>"
      ]
     },
     "metadata": {},
     "output_type": "display_data"
    }
   ],
   "source": [
    "d = document(100, 100, 'mm')\n",
    "page = d.addpage()\n",
    "for i in range(12):\n",
    "    fill_c = rgba(0, 0, int(uniform(255)), choice([40, 80], p=[0.5, 0.5]))\n",
    "    figure = shape().nostroke().fill(fill_c).width(np.random.uniform(5))\n",
    "    rect = figure.circle(normal(50, 10), normal(50, 10), t_normal(0, 100, 25, 15))\n",
    "    page.place(rect)\n",
    "show(page)"
   ]
  },
  {
   "cell_type": "markdown",
   "metadata": {},
   "source": [
    "> Exercise: Write code to generate random compositions by copying one of the cells above and modifying the parameters. Also try adding in new shapes or combining different kinds of shapes.\n",
    "\n",
    "> Exercise: Can you figure out how to make the \"page\" bigger? How do you need to adjust the parameters in the random number-generating functions to compensate?"
   ]
  },
  {
   "cell_type": "markdown",
   "metadata": {},
   "source": [
    "## Saving to disk\n",
    "\n",
    "If you make something with Flat that you really like, you can save it to disk for later use. You can do this in a number of ways, outputting to a number of formats. The `page` object's `.svg()` function returns a string of SVG:"
   ]
  },
  {
   "cell_type": "code",
   "execution_count": 33,
   "metadata": {
    "scrolled": true
   },
   "outputs": [
    {
     "data": {
      "text/plain": [
       "b'<?xml version=\"1.0\" encoding=\"UTF-8\"?>\\n<!-- Flat -->\\n<svg version=\"1.1\" xmlns=\"http://www.w3.org/2000/svg\" xmlns:xlink=\"http://www.w3.org/1999/xlink\" width=\"283.4646pt\" height=\"283.4646pt\" viewBox=\"0 0 283.4646 283.4646\">\\n<title>Untitled</title>\\n<circle cx=\"90.3641\" cy=\"130.7837\" r=\"17.5268\" fill=\"rgba(0,0,170,0.3137)\" />\\n<circle cx=\"163.6053\" cy=\"148.4972\" r=\"128.672\" fill=\"rgba(0,0,158,0.3137)\" />\\n<circle cx=\"171.944\" cy=\"129.2379\" r=\"52.4351\" fill=\"rgba(0,0,175,0.3137)\" />\\n<circle cx=\"194.0188\" cy=\"142.732\" r=\"92.6097\" fill=\"rgba(0,0,185,0.3137)\" />\\n<circle cx=\"208.3928\" cy=\"126.2486\" r=\"21.8339\" fill=\"rgba(0,0,164,0.1569)\" />\\n<circle cx=\"133.3601\" cy=\"134.4742\" r=\"137.8245\" fill=\"rgba(0,0,236,0.1569)\" />\\n<circle cx=\"151.5033\" cy=\"139.9658\" r=\"133.5653\" fill=\"rgba(0,0,8,0.3137)\" />\\n<circle cx=\"164.8934\" cy=\"146.5257\" r=\"43.271\" fill=\"rgba(0,0,187,0.3137)\" />\\n<circle cx=\"132.2433\" cy=\"116.8171\" r=\"72.7113\" fill=\"rgba(0,0,10,0.3137)\" />\\n<circle cx=\"120.4683\" cy=\"158.9888\" r=\"68.3824\" fill=\"rgba(0,0,58,0.1569)\" />\\n<circle cx=\"159.3167\" cy=\"160.9195\" r=\"33.4889\" fill=\"rgba(0,0,250,0.3137)\" />\\n<circle cx=\"101.4497\" cy=\"124.2274\" r=\"137.9586\" fill=\"rgba(0,0,246,0.3137)\" />\\n</svg>'"
      ]
     },
     "execution_count": 33,
     "metadata": {},
     "output_type": "execute_result"
    }
   ],
   "source": [
    "page.svg()"
   ]
  },
  {
   "cell_type": "markdown",
   "metadata": {},
   "source": [
    "Which you can then write to disk using the following code:"
   ]
  },
  {
   "cell_type": "code",
   "execution_count": 34,
   "metadata": {},
   "outputs": [],
   "source": [
    "with open(\"test.svg\", \"wb\") as fh:\n",
    "    fh.write(page.svg())"
   ]
  },
  {
   "cell_type": "markdown",
   "metadata": {},
   "source": [
    "You can open this SVG file with most vector editors (Inkscape, Illustrator, etc.), though note that if you use `rgba` colors, the file might not work in some editors.\n",
    "\n",
    "You can also save as an image using the `page` object's `.image()` method. For example, to save as a PNG:"
   ]
  },
  {
   "cell_type": "code",
   "execution_count": 35,
   "metadata": {},
   "outputs": [],
   "source": [
    "with open(\"test.png\", \"wb\") as fh:\n",
    "    fh.write(page.image(ppi=72, kind=\"rgba\").png())"
   ]
  },
  {
   "cell_type": "markdown",
   "metadata": {},
   "source": [
    "Adjust the DPI with the `ppi` parameter. Note that Flat's PNG rasterizer is very slow, so preview at lower DPI before waiting for a higher-resolution render."
   ]
  },
  {
   "cell_type": "markdown",
   "metadata": {},
   "source": [
    "## Polylines\n",
    "\n",
    "Okay, so, random numbers are good! But how does this help us model pen strokes? Good question. We're getting there! The next step in our asemic journey is to create a *series of lines* linking a given list of points (specified as (x, y) coordinates). The name for this shape—a series of connected lines—is a *polyline*.\n",
    "\n",
    "The first step in making a polyline is to generate some points. The following cell creates a Python list with randomly-generated points:"
   ]
  },
  {
   "cell_type": "code",
   "execution_count": 36,
   "metadata": {},
   "outputs": [],
   "source": [
    "pts = []\n",
    "for i in range(10):\n",
    "    pts.append([uniform(100), uniform(100)])"
   ]
  },
  {
   "cell_type": "markdown",
   "metadata": {},
   "source": [
    "Here's what the points look like. This is a data structure called a *list of lists* (i.e., a list that has other lists as its elements), which for various reasons is a convenient way to store polylines and polygons."
   ]
  },
  {
   "cell_type": "code",
   "execution_count": 37,
   "metadata": {
    "scrolled": true
   },
   "outputs": [
    {
     "data": {
      "text/plain": [
       "[[51.75668880648918, 77.82048326611246],\n",
       " [95.01657361565759, 69.70647309594372],\n",
       " [92.39511614015672, 67.75869694058373],\n",
       " [50.29639796485456, 20.06288454046451],\n",
       " [84.7123258936833, 85.18822511136416],\n",
       " [80.60729305010346, 68.17133972760884],\n",
       " [98.13810637168005, 37.64007988088705],\n",
       " [79.21369840767592, 63.173610566144546],\n",
       " [74.94507299763764, 40.774620644202926],\n",
       " [55.38912304835051, 87.43792082068505]]"
      ]
     },
     "execution_count": 37,
     "metadata": {},
     "output_type": "execute_result"
    }
   ],
   "source": [
    "pts"
   ]
  },
  {
   "cell_type": "markdown",
   "metadata": {},
   "source": [
    "And here's some code to draw the points on a page, using a circle to mark each point."
   ]
  },
  {
   "cell_type": "code",
   "execution_count": 38,
   "metadata": {},
   "outputs": [
    {
     "data": {
      "image/svg+xml": [
       "<svg xmlns=\"http://www.w3.org/2000/svg\" xmlns:xlink=\"http://www.w3.org/1999/xlink\" version=\"1.1\" width=\"283.4646pt\" height=\"283.4646pt\" viewBox=\"0 0 283.4646 283.4646\">\n",
       "<title>Untitled</title>\n",
       "<circle cx=\"146.7119\" cy=\"220.5935\" r=\"5.6693\" fill=\"none\" stroke=\"rgba(0,0,0,1)\" stroke-miterlimit=\"10\"/>\n",
       "<circle cx=\"269.3383\" cy=\"197.5932\" r=\"5.6693\" fill=\"none\" stroke=\"rgba(0,0,0,1)\" stroke-miterlimit=\"10\"/>\n",
       "<circle cx=\"261.9074\" cy=\"192.0719\" r=\"5.6693\" fill=\"none\" stroke=\"rgba(0,0,0,1)\" stroke-miterlimit=\"10\"/>\n",
       "<circle cx=\"142.5725\" cy=\"56.8712\" r=\"5.6693\" fill=\"none\" stroke=\"rgba(0,0,0,1)\" stroke-miterlimit=\"10\"/>\n",
       "<circle cx=\"240.1294\" cy=\"241.4784\" r=\"5.6693\" fill=\"none\" stroke=\"rgba(0,0,0,1)\" stroke-miterlimit=\"10\"/>\n",
       "<circle cx=\"228.4931\" cy=\"193.2416\" r=\"5.6693\" fill=\"none\" stroke=\"rgba(0,0,0,1)\" stroke-miterlimit=\"10\"/>\n",
       "<circle cx=\"278.1868\" cy=\"106.6963\" r=\"5.6693\" fill=\"none\" stroke=\"rgba(0,0,0,1)\" stroke-miterlimit=\"10\"/>\n",
       "<circle cx=\"224.5428\" cy=\"179.0748\" r=\"5.6693\" fill=\"none\" stroke=\"rgba(0,0,0,1)\" stroke-miterlimit=\"10\"/>\n",
       "<circle cx=\"212.4427\" cy=\"115.5816\" r=\"5.6693\" fill=\"none\" stroke=\"rgba(0,0,0,1)\" stroke-miterlimit=\"10\"/>\n",
       "<circle cx=\"157.0085\" cy=\"247.8555\" r=\"5.6693\" fill=\"none\" stroke=\"rgba(0,0,0,1)\" stroke-miterlimit=\"10\"/>\n",
       "</svg>"
      ],
      "text/plain": [
       "<IPython.core.display.SVG object>"
      ]
     },
     "metadata": {},
     "output_type": "display_data"
    }
   ],
   "source": [
    "d = document(100, 100, 'mm')\n",
    "page = d.addpage()\n",
    "figure = shape().stroke(rgba(0, 0, 0, 255)).width(1)\n",
    "for item in pts: # loop through the pts list, assigning each point to variable item\n",
    "    c = figure.circle(item[0], item[1], 2)\n",
    "    page.place(c)\n",
    "show(page)"
   ]
  },
  {
   "cell_type": "markdown",
   "metadata": {},
   "source": [
    "The flat library has a built-in shape type, `.polyline()`, which draws lines connecting points. But the function wants the points as a list of points with the `x` and `y` coordinates directly following one another:"
   ]
  },
  {
   "cell_type": "code",
   "execution_count": 39,
   "metadata": {},
   "outputs": [
    {
     "data": {
      "image/svg+xml": [
       "<svg xmlns=\"http://www.w3.org/2000/svg\" xmlns:xlink=\"http://www.w3.org/1999/xlink\" version=\"1.1\" width=\"283.4646pt\" height=\"283.4646pt\" viewBox=\"0 0 283.4646 283.4646\">\n",
       "<title>Untitled</title>\n",
       "<polyline points=\"56.6929 28.3465 113.3858 212.5984 255.1181 240.9449 42.5197 42.5197\" fill=\"none\" stroke=\"rgba(0,0,0,1)\" stroke-miterlimit=\"10\"/>\n",
       "</svg>"
      ],
      "text/plain": [
       "<IPython.core.display.SVG object>"
      ]
     },
     "metadata": {},
     "output_type": "display_data"
    }
   ],
   "source": [
    "d = document(100, 100, 'mm')\n",
    "page = d.addpage()\n",
    "figure = shape().stroke(rgba(0, 0, 0, 255)).width(1)\n",
    "lines = figure.polyline([20, 10, 40, 75, 90, 85, 15, 15])\n",
    "page.place(lines)\n",
    "show(page)"
   ]
  },
  {
   "cell_type": "markdown",
   "metadata": {},
   "source": [
    "To get around this requirement of the library, the function below takes a list of lists and flattens it into a list (with the `x` and `y` components of the coordinates appropriately interleaved)."
   ]
  },
  {
   "cell_type": "code",
   "execution_count": 40,
   "metadata": {},
   "outputs": [],
   "source": [
    "def flatten(t):\n",
    "    from itertools import chain\n",
    "    return list(chain(*t))"
   ]
  },
  {
   "cell_type": "markdown",
   "metadata": {},
   "source": [
    "The code in the cell below draws a polyline from our randomly-generated points and draws circles where each point lies:"
   ]
  },
  {
   "cell_type": "code",
   "execution_count": 41,
   "metadata": {},
   "outputs": [
    {
     "data": {
      "image/svg+xml": [
       "<svg xmlns=\"http://www.w3.org/2000/svg\" xmlns:xlink=\"http://www.w3.org/1999/xlink\" version=\"1.1\" width=\"283.4646pt\" height=\"283.4646pt\" viewBox=\"0 0 283.4646 283.4646\">\n",
       "<title>Untitled</title>\n",
       "<polyline points=\"146.7119 220.5935 269.3383 197.5932 261.9074 192.0719 142.5725 56.8712 240.1294 241.4784 228.4931 193.2416 278.1868 106.6963 224.5428 179.0748 212.4427 115.5816 157.0085 247.8555\" fill=\"none\" stroke=\"rgba(0,0,0,1)\" stroke-miterlimit=\"10\"/>\n",
       "<circle cx=\"146.7119\" cy=\"220.5935\" r=\"5.6693\" fill=\"none\" stroke=\"rgba(0,0,0,1)\" stroke-miterlimit=\"10\"/>\n",
       "<circle cx=\"269.3383\" cy=\"197.5932\" r=\"5.6693\" fill=\"none\" stroke=\"rgba(0,0,0,1)\" stroke-miterlimit=\"10\"/>\n",
       "<circle cx=\"261.9074\" cy=\"192.0719\" r=\"5.6693\" fill=\"none\" stroke=\"rgba(0,0,0,1)\" stroke-miterlimit=\"10\"/>\n",
       "<circle cx=\"142.5725\" cy=\"56.8712\" r=\"5.6693\" fill=\"none\" stroke=\"rgba(0,0,0,1)\" stroke-miterlimit=\"10\"/>\n",
       "<circle cx=\"240.1294\" cy=\"241.4784\" r=\"5.6693\" fill=\"none\" stroke=\"rgba(0,0,0,1)\" stroke-miterlimit=\"10\"/>\n",
       "<circle cx=\"228.4931\" cy=\"193.2416\" r=\"5.6693\" fill=\"none\" stroke=\"rgba(0,0,0,1)\" stroke-miterlimit=\"10\"/>\n",
       "<circle cx=\"278.1868\" cy=\"106.6963\" r=\"5.6693\" fill=\"none\" stroke=\"rgba(0,0,0,1)\" stroke-miterlimit=\"10\"/>\n",
       "<circle cx=\"224.5428\" cy=\"179.0748\" r=\"5.6693\" fill=\"none\" stroke=\"rgba(0,0,0,1)\" stroke-miterlimit=\"10\"/>\n",
       "<circle cx=\"212.4427\" cy=\"115.5816\" r=\"5.6693\" fill=\"none\" stroke=\"rgba(0,0,0,1)\" stroke-miterlimit=\"10\"/>\n",
       "<circle cx=\"157.0085\" cy=\"247.8555\" r=\"5.6693\" fill=\"none\" stroke=\"rgba(0,0,0,1)\" stroke-miterlimit=\"10\"/>\n",
       "</svg>"
      ],
      "text/plain": [
       "<IPython.core.display.SVG object>"
      ]
     },
     "metadata": {},
     "output_type": "display_data"
    }
   ],
   "source": [
    "d = document(100, 100, 'mm')\n",
    "page = d.addpage()\n",
    "figure = shape().stroke(rgba(0, 0, 0, 255)).width(1)\n",
    "lines = figure.polyline(flatten(pts))\n",
    "page.place(lines)\n",
    "for item in pts:\n",
    "    c = figure.circle(item[0], item[1], 2)\n",
    "    page.place(c)\n",
    "show(page)"
   ]
  },
  {
   "cell_type": "markdown",
   "metadata": {},
   "source": [
    "Combining all of this in the same cell, and getting rid of the circles on the points, gives us some code that generates designs that *almost* look like alien glyphs:"
   ]
  },
  {
   "cell_type": "code",
   "execution_count": 42,
   "metadata": {},
   "outputs": [
    {
     "data": {
      "image/svg+xml": [
       "<svg xmlns=\"http://www.w3.org/2000/svg\" xmlns:xlink=\"http://www.w3.org/1999/xlink\" version=\"1.1\" width=\"283.4646pt\" height=\"283.4646pt\" viewBox=\"0 0 283.4646 283.4646\">\n",
       "<title>Untitled</title>\n",
       "<polyline points=\"253.4553 127.8782 228.0746 144.2168 108.1188 161.4953 127.5437 98.324 20.2756 190.5771 15.4119 36.7616 276.1458 76.5753 53.0351 186.5157 199.2658 117.0725 259.1518 180.1285\" fill=\"none\" stroke=\"rgba(0,0,0,1)\" stroke-miterlimit=\"10\"/>\n",
       "</svg>"
      ],
      "text/plain": [
       "<IPython.core.display.SVG object>"
      ]
     },
     "metadata": {},
     "output_type": "display_data"
    }
   ],
   "source": [
    "pts = []\n",
    "for i in range(10):\n",
    "    pts.append([uniform(100), uniform(100)])\n",
    "\n",
    "d = document(100, 100, 'mm')\n",
    "page = d.addpage()\n",
    "figure = shape().stroke(rgba(0, 0, 0, 255)).width(1)\n",
    "lines = figure.polyline(flatten(pts))\n",
    "page.place(lines)\n",
    "show(page)"
   ]
  },
  {
   "cell_type": "markdown",
   "metadata": {},
   "source": [
    "## Polyline objects\n",
    "\n",
    "The `bezmerizing` library comes with a `Polyline` object that represents a polyline. It has a number of useful features that we'll get into below. To make a `Polyline` object, pass in a 2d list of points to the constructor like so:"
   ]
  },
  {
   "cell_type": "code",
   "execution_count": 43,
   "metadata": {},
   "outputs": [],
   "source": [
    "pts = [[10, 10], [20, 20], [10, 30], [50, 65], [65, 25]]\n",
    "pline = Polyline(pts)"
   ]
  },
  {
   "cell_type": "markdown",
   "metadata": {},
   "source": [
    "To draw a `Polyline` object, pass it to Flat's `polyline` function. (Note that you don't need to use `flatten()` when working with `Polyline` objects!)"
   ]
  },
  {
   "cell_type": "code",
   "execution_count": 44,
   "metadata": {},
   "outputs": [
    {
     "data": {
      "image/svg+xml": [
       "<svg xmlns=\"http://www.w3.org/2000/svg\" xmlns:xlink=\"http://www.w3.org/1999/xlink\" version=\"1.1\" width=\"226.7717pt\" height=\"226.7717pt\" viewBox=\"0 0 226.7717 226.7717\">\n",
       "<title>Untitled</title>\n",
       "<polyline points=\"28.3465 28.3465 56.6929 56.6929 28.3465 85.0394 141.7323 184.252 184.252 70.8661\" fill=\"none\" stroke=\"rgba(0,0,0,1)\" stroke-miterlimit=\"10\"/>\n",
       "</svg>"
      ],
      "text/plain": [
       "<IPython.core.display.SVG object>"
      ]
     },
     "metadata": {},
     "output_type": "display_data"
    }
   ],
   "source": [
    "d = document(80, 80, 'mm')\n",
    "page = d.addpage()\n",
    "figure = shape().stroke(rgba(0, 0, 0, 255)).width(1)\n",
    "lines = figure.polyline(pline)\n",
    "page.place(lines)\n",
    "show(page)"
   ]
  },
  {
   "cell_type": "markdown",
   "metadata": {},
   "source": [
    "A `Polyline` object can also be used to draw a polygon with Flat's `.polygon()` method. (Essentially all this does is close the path.)"
   ]
  },
  {
   "cell_type": "code",
   "execution_count": 45,
   "metadata": {},
   "outputs": [
    {
     "data": {
      "image/svg+xml": [
       "<svg xmlns=\"http://www.w3.org/2000/svg\" xmlns:xlink=\"http://www.w3.org/1999/xlink\" version=\"1.1\" width=\"226.7717pt\" height=\"226.7717pt\" viewBox=\"0 0 226.7717 226.7717\">\n",
       "<title>Untitled</title>\n",
       "<polygon points=\"28.3465 28.3465 56.6929 56.6929 28.3465 85.0394 141.7323 184.252 184.252 70.8661\" fill=\"rgba(160,0,160,1)\" stroke=\"rgba(0,0,0,1)\" stroke-miterlimit=\"10\"/>\n",
       "</svg>"
      ],
      "text/plain": [
       "<IPython.core.display.SVG object>"
      ]
     },
     "metadata": {},
     "output_type": "display_data"
    }
   ],
   "source": [
    "d = document(80, 80, 'mm')\n",
    "page = d.addpage()\n",
    "figure = shape().stroke(rgba(0, 0, 0, 255)).fill(rgba(160, 0, 160, 255)).width(1)\n",
    "lines = figure.polygon(pline)\n",
    "page.place(lines)\n",
    "show(page)"
   ]
  },
  {
   "cell_type": "markdown",
   "metadata": {},
   "source": [
    "You can examine a `Polyline`'s contents by evaluating it:"
   ]
  },
  {
   "cell_type": "code",
   "execution_count": 46,
   "metadata": {},
   "outputs": [
    {
     "data": {
      "text/plain": [
       "Polyline([[10.0000, 10.0000], [20.0000, 20.0000], [10.0000, 30.0000], [50.0000, 65.0000], [65.0000, 25.0000]])"
      ]
     },
     "execution_count": 46,
     "metadata": {},
     "output_type": "execute_result"
    }
   ],
   "source": [
    "pline"
   ]
  },
  {
   "cell_type": "markdown",
   "metadata": {},
   "source": [
    "And access the vertices directly (as a Numpy array) with the `.vertices` attribute:"
   ]
  },
  {
   "cell_type": "code",
   "execution_count": 47,
   "metadata": {},
   "outputs": [
    {
     "data": {
      "text/plain": [
       "array([[10, 10],\n",
       "       [20, 20],\n",
       "       [10, 30],\n",
       "       [50, 65],\n",
       "       [65, 25]])"
      ]
     },
     "execution_count": 47,
     "metadata": {},
     "output_type": "execute_result"
    }
   ],
   "source": [
    "pline.vertices"
   ]
  },
  {
   "cell_type": "markdown",
   "metadata": {},
   "source": [
    "A `Polyline` object has `.translate()`, `.rotate()` and `.scale()` methods that operate similar to their equivalents in Processing. These methods apply the transformation to the vertices of the `Polyline` and return a new `Polyline` with the transformed vertices. For example:"
   ]
  },
  {
   "cell_type": "code",
   "execution_count": 48,
   "metadata": {},
   "outputs": [
    {
     "data": {
      "text/plain": [
       "Polyline([[20.0000, 20.0000], [40.0000, 40.0000], [20.0000, 60.0000], [100.0000, 130.0000], [130.0000, 50.0000]])"
      ]
     },
     "execution_count": 48,
     "metadata": {},
     "output_type": "execute_result"
    }
   ],
   "source": [
    "pline.scale(2) # returns a new Polyline twice as big"
   ]
  },
  {
   "cell_type": "code",
   "execution_count": 49,
   "metadata": {},
   "outputs": [
    {
     "data": {
      "text/plain": [
       "Polyline([[20.0000, 5.0000], [30.0000, 15.0000], [20.0000, 25.0000], [60.0000, 60.0000], [75.0000, 20.0000]])"
      ]
     },
     "execution_count": 49,
     "metadata": {},
     "output_type": "execute_result"
    }
   ],
   "source": [
    "pline.translate(10, -5) # returns a new Polyline translated up and to the left"
   ]
  },
  {
   "cell_type": "code",
   "execution_count": 50,
   "metadata": {},
   "outputs": [
    {
     "data": {
      "text/plain": [
       "Polyline([[14.1421, 0.0000], [28.2843, 0.0000], [28.2843, 14.1421], [81.3173, 10.6066], [63.6396, -28.2843]])"
      ]
     },
     "execution_count": 50,
     "metadata": {},
     "output_type": "execute_result"
    }
   ],
   "source": [
    "pline.rotate(np.pi*0.25) # rotates the polyline pi/4 radians"
   ]
  },
  {
   "cell_type": "markdown",
   "metadata": {},
   "source": [
    "This makes it possible to write a bit of code that produces polylines like so:"
   ]
  },
  {
   "cell_type": "code",
   "execution_count": 51,
   "metadata": {},
   "outputs": [],
   "source": [
    "pts = []\n",
    "for i in range(12):\n",
    "    pts.append([normal(), normal()])\n",
    "pline = Polyline(pts)"
   ]
  },
  {
   "cell_type": "markdown",
   "metadata": {},
   "source": [
    "And then draw the same polyline in multiple ways and in multiple places."
   ]
  },
  {
   "cell_type": "code",
   "execution_count": 52,
   "metadata": {},
   "outputs": [
    {
     "data": {
      "image/svg+xml": [
       "<svg xmlns=\"http://www.w3.org/2000/svg\" xmlns:xlink=\"http://www.w3.org/1999/xlink\" version=\"1.1\" width=\"283.4646pt\" height=\"283.4646pt\" viewBox=\"0 0 283.4646 283.4646\">\n",
       "<title>Untitled</title>\n",
       "<polyline points=\"138.4463 139.1144 137.4793 191.7143 168.3256 78.6942 139.4631 137.2853 167.736 105.7154 149.4398 169.9372 169.6838 120.4283 105.7211 132.8341 151.8758 94.7873 175.7588 147.1774 140.8117 158.8658 122.1633 118.1413\" fill=\"none\" stroke=\"rgba(0,0,0,1)\" stroke-miterlimit=\"10\"/>\n",
       "<polyline points=\"65.6303 77.4381 170.8301 79.372 -55.21 17.6794 61.9721 75.4045 -1.1677 18.8587 127.276 55.451 28.2581 14.9631 53.0698 142.8884 -23.0238 50.579 81.7563 2.8132 105.1331 72.7074 23.6841 110.0041\" fill=\"none\" stroke=\"rgba(128,0,128,1)\" stroke-width=\"2\" stroke-miterlimit=\"10\"/>\n",
       "<polyline points=\"276.0158 247.0747 275.693 264.6318 285.9891 226.9073 276.3551 246.4642 285.7923 235.9266 279.6852 257.3629 286.4424 240.8375 265.0925 244.9784 280.4983 232.2789 288.4701 249.766 276.8053 253.6674 270.5807 240.0742\" fill=\"none\" stroke=\"rgba(0,128,128,1)\" stroke-miterlimit=\"10\"/>\n",
       "<polyline points=\"186.1585 178.1501 185.8385 195.5538 196.0446 158.159 186.4949 177.5449 195.8495 167.0994 189.7959 188.3484 196.494 171.9675 175.3307 176.0722 190.6019 163.4837 198.504 180.8179 186.9411 184.6852 180.7709 171.2108\" fill=\"none\" stroke=\"rgba(0,128,128,1)\" stroke-miterlimit=\"10\"/>\n",
       "<polyline points=\"266.2365 245.438 266.0146 257.5069 273.0923 231.5746 266.4698 245.0183 272.957 237.7746 268.7589 252.5102 273.4039 241.1505 258.7278 243.997 269.3179 235.2672 274.7978 247.288 266.7792 249.9699 262.5004 240.6257\" fill=\"none\" stroke=\"rgba(0,128,128,1)\" stroke-miterlimit=\"10\"/>\n",
       "<polyline points=\"150.5698 237.117 150.2602 253.9584 160.1366 217.7716 150.8954 236.5313 159.9478 226.4233 154.0897 246.9859 160.5714 231.1341 140.0918 235.1062 154.8697 222.9243 162.5165 239.6986 151.3271 243.441 145.3563 230.4018\" fill=\"none\" stroke=\"rgba(0,128,128,1)\" stroke-miterlimit=\"10\"/>\n",
       "<polyline points=\"152.8498 209.3626 152.4823 229.3576 164.208 186.3948 153.2364 208.6673 163.9839 196.6665 157.0289 221.0794 164.7243 202.2594 140.4099 206.9752 157.9549 192.5124 167.0336 212.4276 153.749 216.8708 146.6601 201.39\" fill=\"none\" stroke=\"rgba(0,128,128,1)\" stroke-miterlimit=\"10\"/>\n",
       "<polyline points=\"203.2997 230.532 203.0545 243.87 210.8763 215.211 203.5575 230.0682 210.7268 222.0629 206.0873 238.3479 211.2207 225.7937 195.0014 228.9395 206.705 219.2918 212.7611 232.5766 203.8995 235.5405 199.1707 225.2138\" fill=\"none\" stroke=\"rgba(0,128,128,1)\" stroke-miterlimit=\"10\"/>\n",
       "<polyline points=\"149.5974 222.0872 149.3875 233.5047 156.0831 208.9721 149.8181 221.6901 155.9551 214.8374 151.9837 228.7777 156.3779 218.0311 142.4939 220.7239 152.5125 212.4653 157.6966 223.8373 150.1108 226.3745 146.0629 217.5346\" fill=\"none\" stroke=\"rgba(0,128,128,1)\" stroke-miterlimit=\"10\"/>\n",
       "<polyline points=\"207.3531 274.7818 207.094 288.8756 215.3591 258.5925 207.6255 274.2917 215.2011 265.8327 210.2987 283.0406 215.723 269.7749 198.5845 273.099 210.9515 262.9046 217.3508 276.9422 207.9869 280.0741 202.9901 269.1622\" fill=\"none\" stroke=\"rgba(0,128,128,1)\" stroke-miterlimit=\"10\"/>\n",
       "<polyline points=\"264.5705 210.5764 264.2161 229.8563 275.5225 188.4301 264.9432 209.906 275.3063 198.3344 268.6001 221.8742 276.0203 203.7272 252.5755 208.2745 269.493 194.3288 278.247 213.5318 265.4375 217.8161 258.6022 202.889\" fill=\"none\" stroke=\"rgba(0,128,128,1)\" stroke-miterlimit=\"10\"/>\n",
       "<polyline points=\"246.8931 194.484 246.5142 215.0898 258.5981 170.8148 247.2914 193.7675 258.3671 181.4002 251.1997 206.5587 259.1302 187.1639 234.0731 192.0238 252.154 177.1192 261.51 197.6427 247.8197 202.2215 240.5143 186.2679\" fill=\"none\" stroke=\"rgba(0,128,128,1)\" stroke-miterlimit=\"10\"/>\n",
       "</svg>"
      ],
      "text/plain": [
       "<IPython.core.display.SVG object>"
      ]
     },
     "metadata": {},
     "output_type": "display_data"
    }
   ],
   "source": [
    "d = document(100, 100, 'mm')\n",
    "page = d.addpage()\n",
    "figure = shape().stroke(rgba(0, 0, 0, 255)).width(1)\n",
    "figure2 = shape().stroke(rgba(128, 0, 128, 255)).width(2)\n",
    "figure3 = shape().stroke(rgba(0, 128, 128, 255)).width(1)\n",
    "# ten times bigger, at 50, 50\n",
    "page.place(\n",
    "    figure.polyline(pline.scale(10).translate(50, 50)))\n",
    "# rotated\n",
    "page.place(\n",
    "    figure2.polyline(pline.scale(20).rotate(np.pi*0.5).translate(25, 25)))\n",
    "# many small copies\n",
    "for i in range(10):\n",
    "    page.place(figure3.polyline(\n",
    "        pline.scale(uniform(2, 4)).translate(uniform(50, 100), uniform(50, 100))))\n",
    "show(page)"
   ]
  },
  {
   "cell_type": "markdown",
   "metadata": {},
   "source": [
    "If you have other transformations in mind, you can always manipulate a Polyline's `.vertices` array directly:"
   ]
  },
  {
   "cell_type": "code",
   "execution_count": 53,
   "metadata": {},
   "outputs": [
    {
     "data": {
      "image/svg+xml": [
       "<svg xmlns=\"http://www.w3.org/2000/svg\" xmlns:xlink=\"http://www.w3.org/1999/xlink\" version=\"1.1\" width=\"283.4646pt\" height=\"283.4646pt\" viewBox=\"0 0 283.4646 283.4646\">\n",
       "<title>Untitled</title>\n",
       "<polyline points=\"208.2067 161.3958 132.3013 143.3597 168.1326 161.7313 119.4338 148.8529 187.858 166.454 101.6287 165.3151 121.2102 148.8645 121.1011 145.0469 173.9481 181.6016 140.0235 145.4799 179.4953 153.4298 137.4992 156.5445\" fill=\"none\" stroke=\"rgba(0,0,0,0.0941)\" stroke-miterlimit=\"10\"/>\n",
       "<polyline points=\"208.0633 159.1052 132.1579 141.069 167.9891 159.4406 119.2903 146.5623 187.7146 164.1634 101.4853 163.0245 121.0668 146.5739 120.9576 142.7563 173.8047 179.311 139.88 143.1893 179.3518 151.1391 137.3558 154.2539\" fill=\"none\" stroke=\"rgba(0,0,0,0.0941)\" stroke-miterlimit=\"10\"/>\n",
       "<polyline points=\"207.7771 157.7031 131.8717 139.667 167.703 158.0386 119.0042 145.1602 187.4284 162.7613 101.1991 161.6225 120.7806 145.1718 120.6714 141.3542 173.5185 177.9089 139.5938 141.7872 179.0657 149.7371 137.0696 152.8518\" fill=\"none\" stroke=\"rgba(0,0,0,0.0941)\" stroke-miterlimit=\"10\"/>\n",
       "<polyline points=\"209.5887 158.8599 133.6833 140.8237 169.5146 159.1953 120.8158 146.317 189.24 163.9181 103.0107 162.7792 122.5922 146.3286 122.4831 142.5109 175.3301 179.0656 141.4055 142.944 180.8773 150.8938 138.8813 154.0085\" fill=\"none\" stroke=\"rgba(0,0,0,0.0941)\" stroke-miterlimit=\"10\"/>\n",
       "<polyline points=\"204.0313 158.7718 128.1259 140.7357 163.9571 159.1073 115.2583 146.2289 183.6826 163.83 97.4533 162.6912 117.0348 146.2405 116.9256 142.4229 169.7727 178.9776 135.848 142.856 175.3198 150.8058 133.3238 153.9205\" fill=\"none\" stroke=\"rgba(0,0,0,0.0941)\" stroke-miterlimit=\"10\"/>\n",
       "<polyline points=\"201.7879 154.8141 125.8825 136.7779 161.7138 155.1495 113.015 142.2712 181.4392 159.8723 95.2099 158.7334 114.7914 142.2828 114.6823 138.4652 167.5293 175.0199 133.6047 138.8982 173.0765 146.848 131.0804 149.9628\" fill=\"none\" stroke=\"rgba(0,0,0,0.0941)\" stroke-miterlimit=\"10\"/>\n",
       "<polyline points=\"202.2017 151.3461 126.2963 133.3099 162.1276 151.6815 113.4288 138.8032 181.853 156.4043 95.6237 155.2654 115.2052 138.8148 115.0961 134.9972 167.9431 171.5519 134.0185 135.4302 173.4903 143.38 131.4942 146.4947\" fill=\"none\" stroke=\"rgba(0,0,0,0.0941)\" stroke-miterlimit=\"10\"/>\n",
       "<polyline points=\"199.6677 147.9817 123.7623 129.9455 159.5936 148.3171 110.8948 135.4387 179.319 153.0398 93.0897 151.901 112.6712 135.4504 112.5621 131.6327 165.4091 168.1874 131.4845 132.0658 170.9563 140.0156 128.9603 143.1303\" fill=\"none\" stroke=\"rgba(0,0,0,0.0941)\" stroke-miterlimit=\"10\"/>\n",
       "<polyline points=\"203.9324 147.7874 128.027 129.7512 163.8583 148.1228 115.1595 135.2445 183.5837 152.8456 97.3544 151.7067 116.9359 135.2561 116.8268 131.4385 169.6738 167.9932 135.7492 131.8715 175.221 139.8213 133.2249 142.936\" fill=\"none\" stroke=\"rgba(0,0,0,0.0941)\" stroke-miterlimit=\"10\"/>\n",
       "<polyline points=\"203.6145 145.1421 127.7091 127.1059 163.5403 145.4775 114.8415 132.5991 183.2658 150.2002 97.0364 149.0614 116.618 132.6107 116.5088 128.7931 169.3559 165.3478 135.4312 129.2262 174.903 137.176 132.907 140.2907\" fill=\"none\" stroke=\"rgba(0,0,0,0.0941)\" stroke-miterlimit=\"10\"/>\n",
       "<polyline points=\"200.3371 143.7867 124.4317 125.7505 160.2629 144.1221 111.5641 131.2438 179.9884 148.8449 93.7591 147.706 113.3406 131.2554 113.2314 127.4378 166.0785 163.9925 132.1538 127.8708 171.6257 135.8206 129.6296 138.9354\" fill=\"none\" stroke=\"rgba(0,0,0,0.0941)\" stroke-miterlimit=\"10\"/>\n",
       "<polyline points=\"205.2547 148.7924 129.3493 130.7562 165.1805 149.1278 116.4817 136.2495 184.906 153.8506 98.6767 152.7117 118.2582 136.2611 118.149 132.4435 170.9961 168.9982 137.0714 132.8765 176.5432 140.8263 134.5472 143.941\" fill=\"none\" stroke=\"rgba(0,0,0,0.0941)\" stroke-miterlimit=\"10\"/>\n",
       "<polyline points=\"203.7406 144.3249 127.8352 126.2887 163.6664 144.6603 114.9676 131.7819 183.3919 149.383 97.1626 148.2442 116.7441 131.7935 116.6349 127.9759 169.482 164.5306 135.5573 128.409 175.0292 136.3588 133.0331 139.4735\" fill=\"none\" stroke=\"rgba(0,0,0,0.0941)\" stroke-miterlimit=\"10\"/>\n",
       "<polyline points=\"202.6335 141.6525 126.7281 123.6163 162.5593 141.9879 113.8605 129.1096 182.2848 146.7107 96.0554 145.5718 115.637 129.1212 115.5278 125.3036 168.3749 161.8583 134.4502 125.7366 173.922 133.6864 131.926 136.8012\" fill=\"none\" stroke=\"rgba(0,0,0,0.0941)\" stroke-miterlimit=\"10\"/>\n",
       "<polyline points=\"193.6942 141.0243 117.7888 122.9881 153.62 141.3597 104.9212 128.4814 173.3455 146.0825 87.1162 144.9436 106.6977 128.493 106.5885 124.6754 159.4356 161.2301 125.5109 125.1084 164.9827 133.0582 122.9867 136.173\" fill=\"none\" stroke=\"rgba(0,0,0,0.0941)\" stroke-miterlimit=\"10\"/>\n",
       "<polyline points=\"191.4123 140.3145 115.5069 122.2783 151.3382 140.6499 102.6394 127.7716 171.0636 145.3727 84.8343 144.2338 104.4158 127.7832 104.3067 123.9655 157.1537 160.5202 123.2291 124.3986 162.7009 132.3484 120.7048 135.4631\" fill=\"none\" stroke=\"rgba(0,0,0,0.0941)\" stroke-miterlimit=\"10\"/>\n",
       "<polyline points=\"192.1013 137.1907 116.1959 119.1546 152.0272 137.5261 103.3284 124.6478 171.7526 142.2489 85.5233 141.11 105.1048 124.6594 104.9956 120.8418 157.8427 157.3965 123.918 121.2748 163.3899 129.2246 121.3938 132.3394\" fill=\"none\" stroke=\"rgba(0,0,0,0.0941)\" stroke-miterlimit=\"10\"/>\n",
       "<polyline points=\"193.4599 139.0811 117.5545 121.045 153.3857 139.4166 104.6869 126.5382 173.1112 144.1393 86.8818 143.0005 106.4633 126.5498 106.3542 122.7322 159.2013 159.2869 125.2766 123.1652 164.7484 131.1151 122.7524 134.2298\" fill=\"none\" stroke=\"rgba(0,0,0,0.0941)\" stroke-miterlimit=\"10\"/>\n",
       "<polyline points=\"192.7692 137.0101 116.8638 118.9739 152.695 137.3455 103.9962 124.4672 172.4205 142.0683 86.1912 140.9294 105.7727 124.4788 105.6635 120.6612 158.5106 157.2159 124.5859 121.0942 164.0578 129.044 122.0617 132.1588\" fill=\"none\" stroke=\"rgba(0,0,0,0.0941)\" stroke-miterlimit=\"10\"/>\n",
       "<polyline points=\"192.1213 135.7909 116.2159 117.7547 152.0472 136.1263 103.3484 123.248 171.7726 140.8491 85.5433 139.7102 105.1248 123.2596 105.0156 119.442 157.8627 155.9967 123.938 119.875 163.4099 127.8248 121.4138 130.9396\" fill=\"none\" stroke=\"rgba(0,0,0,0.0941)\" stroke-miterlimit=\"10\"/>\n",
       "<polyline points=\"192.2419 132.7983 116.3364 114.7621 152.1677 133.1337 103.4689 120.2554 171.8932 137.8565 85.6638 136.7176 105.2453 120.267 105.1362 116.4494 157.9833 153.0041 124.0586 116.8824 163.5304 124.8322 121.5344 127.947\" fill=\"none\" stroke=\"rgba(0,0,0,0.0941)\" stroke-miterlimit=\"10\"/>\n",
       "<polyline points=\"197.6377 127.7795 121.7323 109.7433 157.5636 128.1149 108.8648 115.2366 177.289 132.8377 91.0597 131.6988 110.6412 115.2482 110.5321 111.4306 163.3791 147.9853 129.4545 111.8636 168.9263 119.8134 126.9302 122.9282\" fill=\"none\" stroke=\"rgba(0,0,0,0.0941)\" stroke-miterlimit=\"10\"/>\n",
       "<polyline points=\"194.5926 131.2656 118.6872 113.2294 154.5184 131.601 105.8196 118.7227 174.2439 136.3238 88.0146 135.1849 107.5961 118.7343 107.4869 114.9167 160.334 151.4714 126.4093 115.3497 165.8811 123.2995 123.8851 126.4143\" fill=\"none\" stroke=\"rgba(0,0,0,0.0941)\" stroke-miterlimit=\"10\"/>\n",
       "<polyline points=\"194.4418 133.4982 118.5363 115.462 154.3676 133.8336 105.6688 120.9552 174.0931 138.5563 87.8637 137.4175 107.4452 120.9668 107.3361 117.1492 160.1832 153.7039 126.2585 117.5823 165.7303 125.5321 123.7343 128.6468\" fill=\"none\" stroke=\"rgba(0,0,0,0.0941)\" stroke-miterlimit=\"10\"/>\n",
       "<polyline points=\"198.09 129.822 122.1846 111.7858 158.0158 130.1574 109.317 117.279 177.7413 134.8801 91.512 133.7413 111.0935 117.2907 110.9843 113.473 163.8314 150.0277 129.9067 113.9061 169.3786 121.8559 127.3825 124.9706\" fill=\"none\" stroke=\"rgba(0,0,0,0.0941)\" stroke-miterlimit=\"10\"/>\n",
       "<polyline points=\"193.6291 128.2547 117.7237 110.2185 153.5549 128.5901 104.8561 115.7117 173.2804 133.3128 87.0511 132.174 106.6326 115.7233 106.5234 111.9057 159.3705 148.4604 125.4458 112.3388 164.9177 120.2886 122.9216 123.4033\" fill=\"none\" stroke=\"rgba(0,0,0,0.0941)\" stroke-miterlimit=\"10\"/>\n",
       "<polyline points=\"190.761 127.9133 114.8556 109.8771 150.6869 128.2487 101.9881 115.3704 170.4123 132.9715 84.183 131.8326 103.7645 115.382 103.6553 111.5644 156.5024 148.1191 122.5777 111.9974 162.0496 119.9472 120.0535 123.0619\" fill=\"none\" stroke=\"rgba(0,0,0,0.0941)\" stroke-miterlimit=\"10\"/>\n",
       "<polyline points=\"192.8375 129.4989 116.9321 111.4627 152.7634 129.8343 104.0645 116.956 172.4888 134.5571 86.2595 133.4182 105.841 116.9676 105.7318 113.15 158.5789 149.7047 124.6542 113.583 164.1261 121.5328 122.13 124.6476\" fill=\"none\" stroke=\"rgba(0,0,0,0.0941)\" stroke-miterlimit=\"10\"/>\n",
       "<polyline points=\"193.7229 128.5865 117.8175 110.5503 153.6487 128.9219 104.9499 116.0436 173.3742 133.6447 87.1449 132.5058 106.7264 116.0552 106.6172 112.2376 159.4643 148.7923 125.5396 112.6706 165.0114 120.6204 123.0154 123.7351\" fill=\"none\" stroke=\"rgba(0,0,0,0.0941)\" stroke-miterlimit=\"10\"/>\n",
       "<polyline points=\"193.5571 127.3586 117.6517 109.3224 153.483 127.694 104.7841 114.8157 173.2084 132.4168 86.9791 131.2779 106.5606 114.8273 106.4514 111.0097 159.2985 147.5644 125.3738 111.4427 164.8457 119.3925 122.8496 122.5073\" fill=\"none\" stroke=\"rgba(0,0,0,0.0941)\" stroke-miterlimit=\"10\"/>\n",
       "<polyline points=\"193.2224 123.2014 117.3169 105.1652 153.1482 123.5368 104.4494 110.6585 172.8737 128.2596 86.6443 127.1207 106.2258 110.6701 106.1167 106.8524 158.9638 143.4071 125.0391 107.2855 164.5109 115.2353 122.5149 118.35\" fill=\"none\" stroke=\"rgba(0,0,0,0.0941)\" stroke-miterlimit=\"10\"/>\n",
       "<polyline points=\"191.9724 125.0509 116.067 107.0147 151.8983 125.3863 103.1995 112.5079 171.6237 130.1091 85.3944 128.9702 104.9759 112.5196 104.8668 108.7019 157.7138 145.2566 123.7892 109.135 163.261 117.0848 121.265 120.1995\" fill=\"none\" stroke=\"rgba(0,0,0,0.0941)\" stroke-miterlimit=\"10\"/>\n",
       "<polyline points=\"190.8813 118.0207 114.9759 99.9845 150.8072 118.3561 102.1084 105.4778 170.5326 123.0789 84.3033 121.94 103.8848 105.4894 103.7757 101.6718 156.6227 138.2265 122.6981 102.1048 162.1699 110.0546 120.1739 113.1693\" fill=\"none\" stroke=\"rgba(0,0,0,0.0941)\" stroke-miterlimit=\"10\"/>\n",
       "<polyline points=\"194.8812 117.0512 118.9758 99.015 154.8071 117.3866 106.1083 104.5083 174.5325 122.1094 88.3032 120.9705 107.8847 104.5199 107.7755 100.7023 160.6226 137.257 126.6979 101.1353 166.1698 109.0851 124.1737 112.1999\" fill=\"none\" stroke=\"rgba(0,0,0,0.0941)\" stroke-miterlimit=\"10\"/>\n",
       "<polyline points=\"190.425 115.0782 114.5196 97.0421 150.3509 115.4137 101.6521 102.5353 170.0763 120.1364 83.847 118.9976 103.4285 102.5469 103.3194 98.7293 156.1664 135.284 122.2418 99.1623 161.7136 107.1122 119.7175 110.2269\" fill=\"none\" stroke=\"rgba(0,0,0,0.0941)\" stroke-miterlimit=\"10\"/>\n",
       "<polyline points=\"188.0601 116.6242 112.1547 98.588 147.986 116.9596 99.2872 104.0812 167.7114 121.6823 81.4821 120.5435 101.0636 104.0928 100.9545 100.2752 153.8015 136.8299 119.8769 100.7083 159.3487 108.6581 117.3526 111.7728\" fill=\"none\" stroke=\"rgba(0,0,0,0.0941)\" stroke-miterlimit=\"10\"/>\n",
       "<polyline points=\"188.6572 116.2154 112.7518 98.1792 148.5831 116.5508 99.8843 103.6725 168.3085 121.2736 82.0792 120.1347 101.6607 103.6841 101.5516 99.8665 154.3986 136.4212 120.474 100.2995 159.9458 108.2493 117.9497 111.364\" fill=\"none\" stroke=\"rgba(0,0,0,0.0941)\" stroke-miterlimit=\"10\"/>\n",
       "<polyline points=\"193.4335 115.6539 117.5281 97.6178 153.3594 115.9894 104.6606 103.111 173.0848 120.7121 86.8555 119.5733 106.437 103.1226 106.3279 99.305 159.1749 135.8597 125.2503 99.738 164.7221 107.6879 122.726 110.8026\" fill=\"none\" stroke=\"rgba(0,0,0,0.0941)\" stroke-miterlimit=\"10\"/>\n",
       "<polyline points=\"190.1901 116.0753 114.2847 98.0391 150.1159 116.4107 101.4171 103.5324 169.8414 121.1335 83.6121 119.9946 103.1936 103.544 103.0844 99.7264 155.9315 136.2811 122.0068 100.1594 161.4786 108.1092 119.4826 111.224\" fill=\"none\" stroke=\"rgba(0,0,0,0.0941)\" stroke-miterlimit=\"10\"/>\n",
       "<polyline points=\"192.5472 116.0652 116.6418 98.0291 152.4731 116.4007 103.7743 103.5223 172.1985 121.1234 85.9692 119.9846 105.5507 103.5339 105.4416 99.7163 158.2886 136.271 124.364 100.1493 163.8358 108.0992 121.8397 111.2139\" fill=\"none\" stroke=\"rgba(0,0,0,0.0941)\" stroke-miterlimit=\"10\"/>\n",
       "<polyline points=\"190.2885 118.699 114.3831 100.6628 150.2143 119.0344 101.5155 106.1561 169.9398 123.7572 83.7105 122.6183 103.292 106.1677 103.1828 102.3501 156.0299 138.9048 122.1052 102.7831 161.577 110.7329 119.581 113.8476\" fill=\"none\" stroke=\"rgba(0,0,0,0.0941)\" stroke-miterlimit=\"10\"/>\n",
       "<polyline points=\"189.9976 121.2545 114.0922 103.2183 149.9235 121.5899 101.2247 108.7116 169.649 126.3127 83.4196 125.1738 103.0011 108.7232 102.892 104.9056 155.739 141.4603 121.8144 105.3386 161.2862 113.2884 119.2902 116.4032\" fill=\"none\" stroke=\"rgba(0,0,0,0.0941)\" stroke-miterlimit=\"10\"/>\n",
       "<polyline points=\"190.7668 120.4654 114.8614 102.4292 150.6927 120.8008 101.9938 107.9224 170.4181 125.5236 84.1888 124.3847 103.7703 107.9341 103.6611 104.1164 156.5082 140.6711 122.5835 104.5495 162.0554 112.4993 120.0593 115.614\" fill=\"none\" stroke=\"rgba(0,0,0,0.0941)\" stroke-miterlimit=\"10\"/>\n",
       "<polyline points=\"186.3325 120.1226 110.4271 102.0864 146.2584 120.458 97.5596 107.5797 165.9838 125.1808 79.7545 124.0419 99.336 107.5913 99.2269 103.7737 152.0739 140.3284 118.1493 104.2067 157.6211 112.1565 115.625 115.2713\" fill=\"none\" stroke=\"rgba(0,0,0,0.0941)\" stroke-miterlimit=\"10\"/>\n",
       "<polyline points=\"183.4741 119.3677 107.5687 101.3315 143.3999 119.7031 94.7011 106.8247 163.1254 124.4258 76.8961 123.287 96.4776 106.8364 96.3684 103.0187 149.2155 139.5734 115.2908 103.4518 154.7626 111.4016 112.7666 114.5163\" fill=\"none\" stroke=\"rgba(0,0,0,0.0941)\" stroke-miterlimit=\"10\"/>\n",
       "<polyline points=\"182.4581 118.4475 106.5527 100.4113 142.3839 118.7829 93.6851 105.9046 162.1094 123.5057 75.8801 122.3668 95.4616 105.9162 95.3524 102.0986 148.1995 138.6533 114.2748 102.5316 153.7466 110.4814 111.7506 113.5962\" fill=\"none\" stroke=\"rgba(0,0,0,0.0941)\" stroke-miterlimit=\"10\"/>\n",
       "<polyline points=\"179.5519 114.7856 103.6465 96.7495 139.4777 115.1211 90.7789 102.2427 159.2032 119.8438 72.9739 118.705 92.5554 102.2543 92.4462 98.4367 145.2933 134.9914 111.3686 98.8697 150.8405 106.8196 108.8444 109.9343\" fill=\"none\" stroke=\"rgba(0,0,0,0.0941)\" stroke-miterlimit=\"10\"/>\n",
       "<polyline points=\"179.1682 113.1019 103.2628 95.0657 139.0941 113.4373 90.3952 100.5589 158.8195 118.16 72.5902 117.0212 92.1717 100.5705 92.0625 96.7529 144.9096 133.3076 110.9849 97.186 150.4568 105.1358 108.4607 108.2505\" fill=\"none\" stroke=\"rgba(0,0,0,0.0941)\" stroke-miterlimit=\"10\"/>\n",
       "<polyline points=\"180.0414 112.2416 104.136 94.2054 139.9673 112.577 91.2684 99.6987 159.6927 117.2998 73.4634 116.1609 93.0449 99.7103 92.9357 95.8927 145.7828 132.4474 111.8581 96.3257 151.33 104.2755 109.3339 107.3903\" fill=\"none\" stroke=\"rgba(0,0,0,0.0941)\" stroke-miterlimit=\"10\"/>\n",
       "<polyline points=\"180.2922 116.1478 104.3868 98.1117 140.218 116.4833 91.5192 103.6049 159.9435 121.206 73.7141 120.0672 93.2957 103.6165 93.1865 99.7989 146.0336 136.3536 112.1089 100.2319 151.5807 108.1818 109.5847 111.2965\" fill=\"none\" stroke=\"rgba(0,0,0,0.0941)\" stroke-miterlimit=\"10\"/>\n",
       "<polyline points=\"179.6495 115.9352 103.7441 97.899 139.5754 116.2706 90.8766 103.3923 159.3008 120.9934 73.0715 119.8545 92.653 103.4039 92.5439 99.5863 145.3909 136.141 111.4663 100.0193 150.9381 107.9691 108.942 111.0839\" fill=\"none\" stroke=\"rgba(0,0,0,0.0941)\" stroke-miterlimit=\"10\"/>\n",
       "<polyline points=\"181.4228 118.8373 105.5174 100.8011 141.3486 119.1727 92.6498 106.2944 161.0741 123.8955 74.8447 122.7566 94.4262 106.306 94.3171 102.4884 147.1642 139.0431 113.2395 102.9214 152.7113 110.8712 110.7153 113.9859\" fill=\"none\" stroke=\"rgba(0,0,0,0.0941)\" stroke-miterlimit=\"10\"/>\n",
       "<polyline points=\"176.2831 116.8082 100.3777 98.772 136.2089 117.1436 87.5101 104.2653 155.9344 121.8664 69.7051 120.7275 89.2866 104.2769 89.1774 100.4593 142.0245 137.014 108.0998 100.8923 147.5716 108.8421 105.5756 111.9569\" fill=\"none\" stroke=\"rgba(0,0,0,0.0941)\" stroke-miterlimit=\"10\"/>\n",
       "<polyline points=\"175.433 119.9766 99.5276 101.9404 135.3589 120.312 86.6601 107.4337 155.0843 125.0348 68.855 123.8959 88.4365 107.4453 88.3274 103.6277 141.1744 140.1824 107.2498 104.0607 146.7216 112.0105 104.7255 115.1252\" fill=\"none\" stroke=\"rgba(0,0,0,0.0941)\" stroke-miterlimit=\"10\"/>\n",
       "<polyline points=\"173.4844 120.2818 97.579 102.2456 133.4103 120.6172 84.7114 107.7388 153.1357 125.3399 66.9064 124.2011 86.4879 107.7504 86.3787 103.9328 139.2258 140.4875 105.3011 104.3659 144.773 112.3157 102.7769 115.4304\" fill=\"none\" stroke=\"rgba(0,0,0,0.0941)\" stroke-miterlimit=\"10\"/>\n",
       "<polyline points=\"172.7404 117.2994 96.835 99.2632 132.6663 117.6348 83.9675 104.7565 152.3917 122.3576 66.1624 121.2187 85.7439 104.7681 85.6347 100.9505 138.4818 137.5052 104.5571 101.3835 144.029 109.3333 102.0329 112.4481\" fill=\"none\" stroke=\"rgba(0,0,0,0.0941)\" stroke-miterlimit=\"10\"/>\n",
       "<polyline points=\"172.6456 113.2793 96.7402 95.2431 132.5714 113.6147 83.8726 100.7364 152.2969 118.3375 66.0676 117.1986 85.6491 100.748 85.5399 96.9304 138.387 133.4851 104.4623 97.3634 143.9341 105.3132 101.9381 108.4279\" fill=\"none\" stroke=\"rgba(0,0,0,0.0941)\" stroke-miterlimit=\"10\"/>\n",
       "<polyline points=\"176.0211 112.9373 100.1157 94.9012 135.9469 113.2728 87.2481 100.3944 155.6724 117.9955 69.4431 116.8566 89.0246 100.406 88.9154 96.5884 141.7625 133.1431 107.8378 97.0214 147.3096 104.9713 105.3136 108.086\" fill=\"none\" stroke=\"rgba(0,0,0,0.0941)\" stroke-miterlimit=\"10\"/>\n",
       "<polyline points=\"178.6428 106.1811 102.7374 88.1449 138.5687 106.5165 89.8699 93.6382 158.2941 111.2393 72.0648 110.1004 91.6463 93.6498 91.5372 89.8322 144.3842 126.3869 110.4596 90.2652 149.9314 98.215 107.9353 101.3298\" fill=\"none\" stroke=\"rgba(0,0,0,0.0941)\" stroke-miterlimit=\"10\"/>\n",
       "<polyline points=\"176.5427 104.0499 100.6373 86.0137 136.4686 104.3853 87.7697 91.5069 156.194 109.1081 69.9647 107.9692 89.5462 91.5186 89.437 87.7009 142.2841 124.2556 108.3594 88.134 147.8313 96.0838 105.8352 99.1985\" fill=\"none\" stroke=\"rgba(0,0,0,0.0941)\" stroke-miterlimit=\"10\"/>\n",
       "<polyline points=\"182.3174 104.1098 106.412 86.0737 142.2432 104.4453 93.5444 91.5669 161.9687 109.168 75.7393 108.0292 95.3208 91.5785 95.2117 87.7609 148.0588 124.3156 114.1341 88.1939 153.6059 96.1438 111.6099 99.2585\" fill=\"none\" stroke=\"rgba(0,0,0,0.0941)\" stroke-miterlimit=\"10\"/>\n",
       "<polyline points=\"180.8508 105.2042 104.9454 87.168 140.7767 105.5396 92.0779 92.6612 160.5021 110.2623 74.2728 109.1235 93.8543 92.6728 93.7452 88.8552 146.5922 125.4099 112.6676 89.2883 152.1394 97.2381 110.1434 100.3528\" fill=\"none\" stroke=\"rgba(0,0,0,0.0941)\" stroke-miterlimit=\"10\"/>\n",
       "<polyline points=\"179.8671 106.3763 103.9617 88.3401 139.7929 106.7117 91.0941 93.8334 159.5184 111.4345 73.2891 110.2956 92.8706 93.845 92.7614 90.0274 145.6085 126.5821 111.6838 90.4604 151.1556 98.4102 109.1596 101.5249\" fill=\"none\" stroke=\"rgba(0,0,0,0.0941)\" stroke-miterlimit=\"10\"/>\n",
       "<polyline points=\"177.0844 105.7319 101.179 87.6957 137.0102 106.0673 88.3114 93.189 156.7357 110.7901 70.5064 109.6512 90.0879 93.2006 89.9787 89.3829 142.8258 125.9376 108.9011 89.816 148.3729 97.7658 106.3769 100.8805\" fill=\"none\" stroke=\"rgba(0,0,0,0.0941)\" stroke-miterlimit=\"10\"/>\n",
       "<polyline points=\"178.7239 101.9108 102.8185 83.8746 138.6498 102.2462 89.951 89.3679 158.3753 106.969 72.1459 105.8301 91.7274 89.3795 91.6183 85.5619 144.4654 122.1166 110.5407 85.9949 150.0125 93.9447 108.0165 97.0594\" fill=\"none\" stroke=\"rgba(0,0,0,0.0941)\" stroke-miterlimit=\"10\"/>\n",
       "<polyline points=\"176.6611 101.5109 100.7557 83.4747 136.587 101.8463 87.8882 88.968 156.3124 106.5691 70.0831 105.4302 89.6646 88.9796 89.5555 85.162 142.4025 121.7167 108.4779 85.595 147.9497 93.5448 105.9536 96.6596\" fill=\"none\" stroke=\"rgba(0,0,0,0.0941)\" stroke-miterlimit=\"10\"/>\n",
       "<polyline points=\"174.4471 99.3093 98.5417 81.2732 134.373 99.6448 85.6742 86.7664 154.0984 104.3675 67.8691 103.2287 87.4506 86.778 87.3415 82.9604 140.1885 119.5151 106.2639 83.3934 145.7357 91.3433 103.7396 94.458\" fill=\"none\" stroke=\"rgba(0,0,0,0.0941)\" stroke-miterlimit=\"10\"/>\n",
       "<polyline points=\"174.0785 102.0034 98.1731 83.9672 134.0043 102.3388 85.3055 89.4605 153.7298 107.0616 67.5004 105.9227 87.0819 89.4721 86.9728 85.6545 139.8199 122.2092 105.8952 86.0875 145.367 94.0373 103.371 97.1521\" fill=\"none\" stroke=\"rgba(0,0,0,0.0941)\" stroke-miterlimit=\"10\"/>\n",
       "<polyline points=\"169.7288 108.2441 93.8234 90.208 129.6547 108.5796 80.9559 95.7012 149.3801 113.3023 63.1508 112.1635 82.7323 95.7128 82.6232 91.8952 135.4702 128.4499 101.5456 92.3282 141.0174 100.2781 99.0213 103.3928\" fill=\"none\" stroke=\"rgba(0,0,0,0.0941)\" stroke-miterlimit=\"10\"/>\n",
       "<polyline points=\"167.5263 106.6201 91.6209 88.5839 127.4521 106.9555 78.7533 94.0772 147.1776 111.6783 60.9483 110.5394 80.5298 94.0888 80.4206 90.2712 133.2677 126.8259 99.343 90.7042 138.8148 98.654 96.8188 101.7687\" fill=\"none\" stroke=\"rgba(0,0,0,0.0941)\" stroke-miterlimit=\"10\"/>\n",
       "<polyline points=\"163.443 104.2866 87.5376 86.2504 123.3689 104.622 74.6701 91.7437 143.0943 109.3448 56.865 108.2059 76.4465 91.7553 76.3374 87.9377 129.1844 124.4924 95.2598 88.3707 134.7316 96.3205 92.7355 99.4353\" fill=\"none\" stroke=\"rgba(0,0,0,0.0941)\" stroke-miterlimit=\"10\"/>\n",
       "<polyline points=\"161.9807 94.9865 86.0753 76.9503 121.9066 95.3219 73.2078 82.4435 141.632 100.0446 55.4027 98.9058 74.9842 82.4552 74.8751 78.6375 127.7221 115.1922 93.7975 79.0706 133.2693 87.0204 91.2732 90.1351\" fill=\"none\" stroke=\"rgba(0,0,0,0.0941)\" stroke-miterlimit=\"10\"/>\n",
       "<polyline points=\"161.0312 92.3998 85.1258 74.3636 120.957 92.7352 72.2582 79.8568 140.6825 97.4579 54.4532 96.3191 74.0347 79.8684 73.9255 76.0508 126.7726 112.6055 92.8479 76.4839 132.3197 84.4337 90.3237 87.5484\" fill=\"none\" stroke=\"rgba(0,0,0,0.0941)\" stroke-miterlimit=\"10\"/>\n",
       "<polyline points=\"157.7227 90.8221 81.8172 72.786 117.6485 91.1575 68.9497 78.2792 137.374 95.8803 51.1446 94.7414 70.7261 78.2908 70.617 74.4732 123.4641 111.0279 89.5394 74.9062 129.0112 82.856 87.0152 85.9708\" fill=\"none\" stroke=\"rgba(0,0,0,0.0941)\" stroke-miterlimit=\"10\"/>\n",
       "<polyline points=\"158.6489 92.9709 82.7435 74.9347 118.5748 93.3063 69.876 80.428 138.3002 98.0291 52.0709 96.8902 71.6524 80.4396 71.5433 76.622 124.3903 113.1767 90.4656 77.055 129.9375 85.0048 87.9414 88.1195\" fill=\"none\" stroke=\"rgba(0,0,0,0.0941)\" stroke-miterlimit=\"10\"/>\n",
       "<polyline points=\"159.7988 96.8139 83.8934 78.7777 119.7246 97.1493 71.0258 84.271 139.4501 101.8721 53.2208 100.7332 72.8023 84.2826 72.6931 80.465 125.5402 117.0197 91.6155 80.898 131.0873 88.8478 89.0913 91.9626\" fill=\"none\" stroke=\"rgba(0,0,0,0.0941)\" stroke-miterlimit=\"10\"/>\n",
       "<polyline points=\"158.6604 99.8877 82.755 81.8515 118.5863 100.2231 69.8875 87.3448 138.3117 104.9459 52.0824 103.807 71.6639 87.3564 71.5548 83.5388 124.4018 120.0935 90.4772 83.9718 129.949 91.9216 87.953 95.0364\" fill=\"none\" stroke=\"rgba(0,0,0,0.0941)\" stroke-miterlimit=\"10\"/>\n",
       "<polyline points=\"161.1648 102.4014 85.2594 84.3653 121.0907 102.7369 72.3919 89.8585 140.8161 107.4596 54.5868 106.3208 74.1683 89.8701 74.0592 86.0525 126.9062 122.6072 92.9816 86.4855 132.4534 94.4354 90.4573 97.5501\" fill=\"none\" stroke=\"rgba(0,0,0,0.0941)\" stroke-miterlimit=\"10\"/>\n",
       "<polyline points=\"157.1086 96.3122 81.2032 78.276 117.0344 96.6476 68.3356 83.7692 136.7599 101.3704 50.5305 100.2315 70.112 83.7809 70.0029 79.9632 122.85 116.5179 88.9253 80.3963 128.3971 88.3461 86.4011 91.4608\" fill=\"none\" stroke=\"rgba(0,0,0,0.0941)\" stroke-miterlimit=\"10\"/>\n",
       "<polyline points=\"155.8757 100.456 79.9702 82.4198 115.8015 100.7914 67.1027 87.9131 135.527 105.5142 49.2976 104.3753 68.8791 87.9247 68.77 84.1071 121.6171 120.6618 87.6924 84.5401 127.1642 92.4899 85.1682 95.6047\" fill=\"none\" stroke=\"rgba(0,0,0,0.0941)\" stroke-miterlimit=\"10\"/>\n",
       "<polyline points=\"152.5999 97.1538 76.6945 79.1176 112.5258 97.4892 63.827 84.6109 132.2512 102.212 46.0219 101.0731 65.6034 84.6225 65.4943 80.8049 118.3413 117.3596 84.4167 81.2379 123.8885 89.1877 81.8924 92.3025\" fill=\"none\" stroke=\"rgba(0,0,0,0.0941)\" stroke-miterlimit=\"10\"/>\n",
       "<polyline points=\"159.0005 96.6512 83.0951 78.615 118.9263 96.9866 70.2275 84.1083 138.6518 101.7094 52.4225 100.5705 72.004 84.1199 71.8948 80.3023 124.7419 116.857 90.8172 80.7353 130.289 88.6851 88.293 91.7999\" fill=\"none\" stroke=\"rgba(0,0,0,0.0941)\" stroke-miterlimit=\"10\"/>\n",
       "<polyline points=\"158.9474 95.9611 83.042 77.9249 118.8732 96.2965 70.1744 83.4182 138.5987 101.0193 52.3694 99.8804 71.9509 83.4298 71.8417 79.6122 124.6888 116.1669 90.7641 80.0452 130.2359 87.995 88.2399 91.1098\" fill=\"none\" stroke=\"rgba(0,0,0,0.0941)\" stroke-miterlimit=\"10\"/>\n",
       "<polyline points=\"159.9183 94.4036 84.0129 76.3675 119.8441 94.7391 71.1453 81.8607 139.5696 99.4618 53.3402 98.3229 72.9218 81.8723 72.8126 78.0547 125.6597 114.6094 91.735 78.4877 131.2068 86.4376 89.2108 89.5523\" fill=\"none\" stroke=\"rgba(0,0,0,0.0941)\" stroke-miterlimit=\"10\"/>\n",
       "<polyline points=\"161.937 94.6111 86.0316 76.5749 121.8628 94.9465 73.164 82.0682 141.5883 99.6693 55.359 98.5304 74.9405 82.0798 74.8313 78.2622 127.6784 114.8169 93.7537 78.6952 133.2255 86.645 91.2295 89.7598\" fill=\"none\" stroke=\"rgba(0,0,0,0.0941)\" stroke-miterlimit=\"10\"/>\n",
       "<polyline points=\"160.5643 93.9044 84.6589 75.8682 120.4902 94.2398 71.7914 81.3615 140.2156 98.9626 53.9863 97.8237 73.5678 81.3731 73.4587 77.5555 126.3057 114.1102 92.3811 77.9885 131.8529 85.9383 89.8568 89.0531\" fill=\"none\" stroke=\"rgba(0,0,0,0.0941)\" stroke-miterlimit=\"10\"/>\n",
       "<polyline points=\"160.3145 91.5839 84.4091 73.5477 120.2403 91.9193 71.5415 79.041 139.9658 96.6421 53.7365 95.5032 73.318 79.0526 73.2088 75.235 126.0559 111.7897 92.1312 75.668 131.6031 83.6178 89.607 86.7326\" fill=\"none\" stroke=\"rgba(0,0,0,0.0941)\" stroke-miterlimit=\"10\"/>\n",
       "<polyline points=\"159.2462 93.8087 83.3408 75.7726 119.172 94.1442 70.4732 81.2658 138.8975 98.8669 52.6682 97.728 72.2497 81.2774 72.1405 77.4598 124.9876 114.0145 91.0629 77.8928 130.5348 85.8427 88.5387 88.9574\" fill=\"none\" stroke=\"rgba(0,0,0,0.0941)\" stroke-miterlimit=\"10\"/>\n",
       "<polyline points=\"155.4933 91.8815 79.5879 73.8453 115.4192 92.2169 66.7204 79.3385 135.1446 96.9396 48.9153 95.8008 68.4968 79.3501 68.3877 75.5325 121.2347 112.0872 87.3101 75.9656 126.7819 83.9154 84.7859 87.0301\" fill=\"none\" stroke=\"rgba(0,0,0,0.0941)\" stroke-miterlimit=\"10\"/>\n",
       "<polyline points=\"159.9574 88.08 84.052 70.0438 119.8833 88.4154 71.1845 75.5371 139.6087 93.1382 53.3794 91.9993 72.9609 75.5487 72.8518 71.7311 125.6988 108.2858 91.7742 72.1641 131.246 80.1139 89.2499 83.2287\" fill=\"none\" stroke=\"rgba(0,0,0,0.0941)\" stroke-miterlimit=\"10\"/>\n",
       "<polyline points=\"158.0473 88.5273 82.1419 70.4911 117.9732 88.8627 69.2743 75.9844 137.6986 93.5855 51.4693 92.4466 71.0508 75.996 70.9416 72.1784 123.7887 108.7331 89.864 72.6114 129.3359 80.5612 87.3398 83.676\" fill=\"none\" stroke=\"rgba(0,0,0,0.0941)\" stroke-miterlimit=\"10\"/>\n",
       "<polyline points=\"156.5146 86.6332 80.6092 68.597 116.4405 86.9686 67.7417 74.0903 136.1659 91.6914 49.9366 90.5525 69.5181 74.1019 69.4089 70.2843 122.256 106.839 88.3313 70.7173 127.8032 78.6671 85.8071 81.7819\" fill=\"none\" stroke=\"rgba(0,0,0,0.0941)\" stroke-miterlimit=\"10\"/>\n",
       "<polyline points=\"156.2804 87.7426 80.375 69.7064 116.2063 88.078 67.5075 75.1996 135.9317 92.8007 49.7024 91.6619 69.2839 75.2112 69.1748 71.3936 122.0218 107.9483 88.0972 71.8267 127.569 79.7765 85.573 82.8912\" fill=\"none\" stroke=\"rgba(0,0,0,0.0941)\" stroke-miterlimit=\"10\"/>\n",
       "<polyline points=\"154.9608 85.4454 79.0554 67.4092 114.8866 85.7808 66.1878 72.9024 134.6121 90.5035 48.3828 89.3647 67.9643 72.914 67.8551 69.0964 120.7022 105.6511 86.7775 69.5295 126.2494 77.4793 84.2533 80.594\" fill=\"none\" stroke=\"rgba(0,0,0,0.0941)\" stroke-miterlimit=\"10\"/>\n",
       "<polyline points=\"157.0533 82.682 81.1479 64.6459 116.9791 83.0174 68.2803 70.1391 136.7046 87.7402 50.4752 86.6013 70.0568 70.1507 69.9476 66.3331 122.7947 102.8878 88.87 66.7661 128.3418 74.7159 86.3458 77.8307\" fill=\"none\" stroke=\"rgba(0,0,0,0.0941)\" stroke-miterlimit=\"10\"/>\n",
       "<polyline points=\"154.396 82.8251 78.4906 64.7889 114.3219 83.1605 65.6231 70.2821 134.0473 87.8833 47.818 86.7444 67.3995 70.2938 67.2903 66.4761 120.1374 103.0308 86.2127 66.9092 125.6846 74.859 83.6885 77.9737\" fill=\"none\" stroke=\"rgba(0,0,0,0.0941)\" stroke-miterlimit=\"10\"/>\n",
       "<polyline points=\"149.5721 85.4032 73.6667 67.367 109.498 85.7386 60.7992 72.8602 129.2234 90.4613 42.9941 89.3225 62.5756 72.8718 62.4664 69.0542 115.3135 105.6089 81.3888 69.4873 120.8607 77.4371 78.8646 80.5518\" fill=\"none\" stroke=\"rgba(0,0,0,0.0941)\" stroke-miterlimit=\"10\"/>\n",
       "<polyline points=\"145.7993 78.678 69.8939 60.6418 105.7252 79.0134 57.0264 66.1351 125.4506 83.7362 39.2213 82.5973 58.8028 66.1467 58.6937 62.329 111.5407 98.8837 77.6161 62.7621 117.0879 70.7119 75.0919 73.8266\" fill=\"none\" stroke=\"rgba(0,0,0,0.0941)\" stroke-miterlimit=\"10\"/>\n",
       "<polyline points=\"147.0848 71.2572 71.1794 53.221 107.0107 71.5926 58.3119 58.7142 126.7361 76.3153 40.5068 75.1765 60.0883 58.7259 59.9792 54.9082 112.8262 91.4629 78.9016 55.3413 118.3734 63.2911 76.3774 66.4058\" fill=\"none\" stroke=\"rgba(0,0,0,0.0941)\" stroke-miterlimit=\"10\"/>\n",
       "<polyline points=\"150.3741 70.2048 74.4687 52.1686 110.3 70.5402 61.6012 57.6619 130.0254 75.263 43.7961 74.1241 63.3776 57.6735 63.2685 53.8559 116.1155 90.4106 82.1909 54.2889 121.6627 62.2387 79.6667 65.3534\" fill=\"none\" stroke=\"rgba(0,0,0,0.0941)\" stroke-miterlimit=\"10\"/>\n",
       "</svg>"
      ],
      "text/plain": [
       "<IPython.core.display.SVG object>"
      ]
     },
     "metadata": {},
     "output_type": "display_data"
    }
   ],
   "source": [
    "# generate polyline\n",
    "pts = []\n",
    "for i in range(12):\n",
    "    pts.append([normal(), normal()])\n",
    "pline = Polyline(pts)\n",
    "\n",
    "# draw polyline many times on top of itself\n",
    "d = document(100, 100, 'mm')\n",
    "page = d.addpage()\n",
    "figure = shape().stroke(rgba(0, 0, 0, 24)).width(1)\n",
    "for i in range(100):\n",
    "    # add a bit of noise to the coordinates on each loop\n",
    "    pline.vertices += np.random.randn(2) * 0.1\n",
    "    lines = figure.polyline(pline.scale(10).translate(50, 50))\n",
    "    page.place(lines)\n",
    "show(page)"
   ]
  },
  {
   "cell_type": "markdown",
   "metadata": {},
   "source": [
    "## Polylines on a grid\n",
    "\n",
    "Let's pursue this aesthetic a little bit further. Introducing further constraints to the randomness will result in designs that give the impression of conforming to an underlying system (and, let's hypothesize, thereby give an impression of being more like \"writing\"). The code below also uses random polylines, but constrains the polylines to begin and end on certain points in the grid."
   ]
  },
  {
   "cell_type": "code",
   "execution_count": 54,
   "metadata": {},
   "outputs": [
    {
     "data": {
      "image/svg+xml": [
       "<svg xmlns=\"http://www.w3.org/2000/svg\" xmlns:xlink=\"http://www.w3.org/1999/xlink\" version=\"1.1\" width=\"283.4646pt\" height=\"283.4646pt\" viewBox=\"0 0 283.4646 283.4646\">\n",
       "<title>Untitled</title>\n",
       "<polyline points=\"141.7323 141.7323 141.7323 141.7323 14.1732 14.1732 141.7323 141.7323 269.2913 14.1732 14.1732 14.1732 269.2913 14.1732 269.2913 141.7323 141.7323 269.2913 141.7323 141.7323 141.7323 269.2913 269.2913 269.2913\" fill=\"none\" stroke=\"rgba(0,0,0,1)\" stroke-width=\"4\" stroke-linejoin=\"round\"/>\n",
       "</svg>"
      ],
      "text/plain": [
       "<IPython.core.display.SVG object>"
      ]
     },
     "metadata": {},
     "output_type": "display_data"
    }
   ],
   "source": [
    "d = document(100, 100, 'mm')\n",
    "page = d.addpage()\n",
    "figure = shape().stroke(rgba(0, 0, 0, 255)).width(4).join('round')\n",
    "pts = []\n",
    "for i in range(12):\n",
    "    x = choice([0, 0.5, 1])\n",
    "    y = choice([0, 0.5, 1])\n",
    "    pts.append([x, y])\n",
    "pline = Polyline(pts)\n",
    "lines = figure.polyline(pline.scale(90).translate(5, 5))\n",
    "page.place(lines)\n",
    "show(page)"
   ]
  },
  {
   "cell_type": "markdown",
   "metadata": {},
   "source": [
    "The key bit of code here is:"
   ]
  },
  {
   "cell_type": "code",
   "execution_count": 55,
   "metadata": {},
   "outputs": [
    {
     "data": {
      "text/plain": [
       "0.5"
      ]
     },
     "execution_count": 55,
     "metadata": {},
     "output_type": "execute_result"
    }
   ],
   "source": [
    "choice([0, 0.5, 1])"
   ]
  },
  {
   "cell_type": "markdown",
   "metadata": {},
   "source": [
    "... which is a Python expression that returns one of `0`, `0.5`, and `1` (at random). Using this expression for both the `x` and `y` coordinate of each point on the polyline leads to a result wherein each polyline randomly connects one of nine points on a grid. The `.scale()` and `.translate()` methods scale this polyline up and move it to the appropriate place on the screen (i.e., scaled up to 90 units, moved 5 units from the side just to give it a little border).\n",
    "\n",
    "The cell below defines a function, `make_char()`, that generates a series of points using a more general version of this expression. It adds four to twelve segments to the polyline (randomly determined)."
   ]
  },
  {
   "cell_type": "code",
   "execution_count": 56,
   "metadata": {},
   "outputs": [],
   "source": [
    "def make_char():\n",
    "    pts = []\n",
    "    for i in range(int(t_normal(4, 12, 8, 2))):\n",
    "        x = (choice([0, 0.5, 1]))\n",
    "        y = (choice([0, 0.5, 1]))\n",
    "        pts.append([x, y])\n",
    "    return Polyline(pts)"
   ]
  },
  {
   "cell_type": "markdown",
   "metadata": {},
   "source": [
    "The results of the `make_char()` function:"
   ]
  },
  {
   "cell_type": "code",
   "execution_count": 57,
   "metadata": {
    "scrolled": true
   },
   "outputs": [
    {
     "data": {
      "text/plain": [
       "Polyline([[0.0000, 0.5000], [0.5000, 1.0000], [1.0000, 0.5000], [0.5000, 1.0000], [1.0000, 0.0000], [1.0000, 0.5000], [1.0000, 1.0000], [0.0000, 0.5000], [0.5000, 0.0000], [0.0000, 0.0000], [1.0000, 0.0000]])"
      ]
     },
     "execution_count": 57,
     "metadata": {},
     "output_type": "execute_result"
    }
   ],
   "source": [
    "make_char()"
   ]
  },
  {
   "cell_type": "markdown",
   "metadata": {},
   "source": [
    "The following cell draws these \"characters\" on a grid, so we can see many variations at once:"
   ]
  },
  {
   "cell_type": "code",
   "execution_count": 58,
   "metadata": {},
   "outputs": [
    {
     "data": {
      "image/svg+xml": [
       "<svg xmlns=\"http://www.w3.org/2000/svg\" xmlns:xlink=\"http://www.w3.org/1999/xlink\" version=\"1.1\" width=\"425.1969pt\" height=\"425.1969pt\" viewBox=\"0 0 425.1969 425.1969\">\n",
       "<title>Untitled</title>\n",
       "<polyline points=\"44.1142 8.5039 26.3091 8.5039 44.1142 44.1142 8.5039 44.1142 44.1142 8.5039 44.1142 26.3091 26.3091 26.3091\" fill=\"none\" stroke=\"rgba(0,0,0,1)\" stroke-width=\"2\" stroke-linejoin=\"round\"/>\n",
       "<polyline points=\"8.5039 79.4587 8.5039 97.2638 44.1142 97.2638 26.3091 61.6535 8.5039 61.6535 8.5039 61.6535 44.1142 61.6535 26.3091 61.6535 26.3091 79.4587\" fill=\"none\" stroke=\"rgba(0,0,0,1)\" stroke-width=\"2\" stroke-linejoin=\"round\"/>\n",
       "<polyline points=\"8.5039 114.8031 26.3091 150.4134 44.1142 150.4134 26.3091 114.8031 44.1142 114.8031 44.1142 132.6083 44.1142 150.4134\" fill=\"none\" stroke=\"rgba(0,0,0,1)\" stroke-width=\"2\" stroke-linejoin=\"round\"/>\n",
       "<polyline points=\"44.1142 167.9528 44.1142 203.563 26.3091 203.563 44.1142 185.7579 44.1142 185.7579 26.3091 185.7579 26.3091 185.7579 8.5039 203.563 26.3091 167.9528\" fill=\"none\" stroke=\"rgba(0,0,0,1)\" stroke-width=\"2\" stroke-linejoin=\"round\"/>\n",
       "<polyline points=\"44.1142 256.7126 44.1142 221.1024 44.1142 238.9075 26.3091 256.7126 44.1142 221.1024 26.3091 256.7126 8.5039 238.9075 26.3091 238.9075\" fill=\"none\" stroke=\"rgba(0,0,0,1)\" stroke-width=\"2\" stroke-linejoin=\"round\"/>\n",
       "<polyline points=\"44.1142 309.8622 44.1142 309.8622 44.1142 274.252 8.5039 274.252 44.1142 309.8622 44.1142 309.8622 8.5039 292.0571 8.5039 292.0571 44.1142 274.252\" fill=\"none\" stroke=\"rgba(0,0,0,1)\" stroke-width=\"2\" stroke-linejoin=\"round\"/>\n",
       "<polyline points=\"44.1142 327.4016 44.1142 363.0118 8.5039 327.4016 26.3091 363.0118 26.3091 327.4016 26.3091 363.0118\" fill=\"none\" stroke=\"rgba(0,0,0,1)\" stroke-width=\"2\" stroke-linejoin=\"round\"/>\n",
       "<polyline points=\"44.1142 416.1614 26.3091 398.3563 26.3091 380.5512 44.1142 398.3563 26.3091 416.1614 8.5039 398.3563 26.3091 398.3563 44.1142 416.1614\" fill=\"none\" stroke=\"rgba(0,0,0,1)\" stroke-width=\"2\" stroke-linejoin=\"round\"/>\n",
       "<polyline points=\"61.6535 26.3091 97.2638 8.5039 79.4587 44.1142 61.6535 8.5039 97.2638 8.5039 79.4587 44.1142 97.2638 26.3091\" fill=\"none\" stroke=\"rgba(0,0,0,1)\" stroke-width=\"2\" stroke-linejoin=\"round\"/>\n",
       "<polyline points=\"61.6535 97.2638 79.4587 97.2638 79.4587 61.6535 97.2638 61.6535 61.6535 97.2638 97.2638 61.6535 97.2638 61.6535 97.2638 79.4587 79.4587 61.6535\" fill=\"none\" stroke=\"rgba(0,0,0,1)\" stroke-width=\"2\" stroke-linejoin=\"round\"/>\n",
       "<polyline points=\"61.6535 114.8031 97.2638 114.8031 97.2638 114.8031 97.2638 114.8031 79.4587 132.6083 61.6535 114.8031 79.4587 114.8031 97.2638 150.4134 61.6535 114.8031\" fill=\"none\" stroke=\"rgba(0,0,0,1)\" stroke-width=\"2\" stroke-linejoin=\"round\"/>\n",
       "<polyline points=\"97.2638 185.7579 61.6535 203.563 61.6535 203.563 61.6535 185.7579 79.4587 185.7579 61.6535 167.9528 61.6535 185.7579 61.6535 167.9528 79.4587 203.563 79.4587 203.563 79.4587 167.9528\" fill=\"none\" stroke=\"rgba(0,0,0,1)\" stroke-width=\"2\" stroke-linejoin=\"round\"/>\n",
       "<polyline points=\"61.6535 256.7126 61.6535 221.1024 61.6535 238.9075 61.6535 238.9075 61.6535 238.9075\" fill=\"none\" stroke=\"rgba(0,0,0,1)\" stroke-width=\"2\" stroke-linejoin=\"round\"/>\n",
       "<polyline points=\"97.2638 292.0571 79.4587 292.0571 61.6535 292.0571 97.2638 274.252 61.6535 309.8622 61.6535 292.0571 97.2638 292.0571 79.4587 274.252 61.6535 309.8622\" fill=\"none\" stroke=\"rgba(0,0,0,1)\" stroke-width=\"2\" stroke-linejoin=\"round\"/>\n",
       "<polyline points=\"79.4587 345.2067 79.4587 345.2067 79.4587 345.2067 97.2638 327.4016 61.6535 345.2067 97.2638 345.2067 79.4587 345.2067\" fill=\"none\" stroke=\"rgba(0,0,0,1)\" stroke-width=\"2\" stroke-linejoin=\"round\"/>\n",
       "<polyline points=\"79.4587 398.3563 79.4587 398.3563 97.2638 380.5512 79.4587 398.3563 97.2638 416.1614 79.4587 416.1614 97.2638 416.1614 97.2638 398.3563\" fill=\"none\" stroke=\"rgba(0,0,0,1)\" stroke-width=\"2\" stroke-linejoin=\"round\"/>\n",
       "<polyline points=\"150.4134 44.1142 150.4134 8.5039 114.8031 26.3091 114.8031 8.5039 150.4134 44.1142 150.4134 44.1142 150.4134 26.3091\" fill=\"none\" stroke=\"rgba(0,0,0,1)\" stroke-width=\"2\" stroke-linejoin=\"round\"/>\n",
       "<polyline points=\"150.4134 97.2638 132.6083 79.4587 114.8031 61.6535 150.4134 79.4587 150.4134 61.6535\" fill=\"none\" stroke=\"rgba(0,0,0,1)\" stroke-width=\"2\" stroke-linejoin=\"round\"/>\n",
       "<polyline points=\"132.6083 114.8031 114.8031 114.8031 150.4134 132.6083 114.8031 132.6083 132.6083 150.4134 114.8031 114.8031\" fill=\"none\" stroke=\"rgba(0,0,0,1)\" stroke-width=\"2\" stroke-linejoin=\"round\"/>\n",
       "<polyline points=\"114.8031 167.9528 114.8031 185.7579 132.6083 203.563 150.4134 203.563 150.4134 167.9528\" fill=\"none\" stroke=\"rgba(0,0,0,1)\" stroke-width=\"2\" stroke-linejoin=\"round\"/>\n",
       "<polyline points=\"114.8031 256.7126 132.6083 221.1024 150.4134 256.7126 150.4134 221.1024\" fill=\"none\" stroke=\"rgba(0,0,0,1)\" stroke-width=\"2\" stroke-linejoin=\"round\"/>\n",
       "<polyline points=\"150.4134 274.252 114.8031 274.252 150.4134 309.8622 150.4134 309.8622 150.4134 292.0571 132.6083 309.8622 114.8031 274.252 132.6083 292.0571 132.6083 309.8622\" fill=\"none\" stroke=\"rgba(0,0,0,1)\" stroke-width=\"2\" stroke-linejoin=\"round\"/>\n",
       "<polyline points=\"114.8031 363.0118 114.8031 345.2067 132.6083 363.0118 132.6083 345.2067 150.4134 363.0118 114.8031 327.4016 132.6083 345.2067\" fill=\"none\" stroke=\"rgba(0,0,0,1)\" stroke-width=\"2\" stroke-linejoin=\"round\"/>\n",
       "<polyline points=\"132.6083 398.3563 150.4134 416.1614 114.8031 380.5512 114.8031 398.3563 132.6083 380.5512 150.4134 380.5512 114.8031 416.1614 150.4134 398.3563 132.6083 416.1614\" fill=\"none\" stroke=\"rgba(0,0,0,1)\" stroke-width=\"2\" stroke-linejoin=\"round\"/>\n",
       "<polyline points=\"185.7579 44.1142 167.9528 44.1142 185.7579 26.3091 203.563 26.3091 167.9528 26.3091 203.563 26.3091 185.7579 44.1142 167.9528 8.5039\" fill=\"none\" stroke=\"rgba(0,0,0,1)\" stroke-width=\"2\" stroke-linejoin=\"round\"/>\n",
       "<polyline points=\"203.563 97.2638 185.7579 79.4587 185.7579 97.2638 185.7579 61.6535 167.9528 61.6535 203.563 61.6535 185.7579 61.6535 203.563 79.4587 185.7579 79.4587\" fill=\"none\" stroke=\"rgba(0,0,0,1)\" stroke-width=\"2\" stroke-linejoin=\"round\"/>\n",
       "<polyline points=\"203.563 114.8031 203.563 114.8031 167.9528 132.6083 203.563 150.4134\" fill=\"none\" stroke=\"rgba(0,0,0,1)\" stroke-width=\"2\" stroke-linejoin=\"round\"/>\n",
       "<polyline points=\"185.7579 203.563 185.7579 203.563 203.563 167.9528 185.7579 203.563 167.9528 203.563 185.7579 167.9528 167.9528 167.9528 185.7579 185.7579 203.563 185.7579\" fill=\"none\" stroke=\"rgba(0,0,0,1)\" stroke-width=\"2\" stroke-linejoin=\"round\"/>\n",
       "<polyline points=\"203.563 256.7126 203.563 221.1024 203.563 256.7126 203.563 238.9075 203.563 256.7126 203.563 221.1024 167.9528 221.1024 167.9528 221.1024\" fill=\"none\" stroke=\"rgba(0,0,0,1)\" stroke-width=\"2\" stroke-linejoin=\"round\"/>\n",
       "<polyline points=\"167.9528 292.0571 185.7579 309.8622 167.9528 309.8622 203.563 274.252 203.563 292.0571 185.7579 309.8622 203.563 274.252\" fill=\"none\" stroke=\"rgba(0,0,0,1)\" stroke-width=\"2\" stroke-linejoin=\"round\"/>\n",
       "<polyline points=\"185.7579 345.2067 167.9528 345.2067 167.9528 327.4016 203.563 327.4016 185.7579 345.2067 185.7579 345.2067 185.7579 345.2067\" fill=\"none\" stroke=\"rgba(0,0,0,1)\" stroke-width=\"2\" stroke-linejoin=\"round\"/>\n",
       "<polyline points=\"167.9528 416.1614 185.7579 380.5512 203.563 416.1614 185.7579 380.5512 185.7579 380.5512\" fill=\"none\" stroke=\"rgba(0,0,0,1)\" stroke-width=\"2\" stroke-linejoin=\"round\"/>\n",
       "<polyline points=\"238.9075 26.3091 256.7126 44.1142 256.7126 26.3091 221.1024 44.1142 221.1024 8.5039 256.7126 8.5039\" fill=\"none\" stroke=\"rgba(0,0,0,1)\" stroke-width=\"2\" stroke-linejoin=\"round\"/>\n",
       "<polyline points=\"256.7126 97.2638 238.9075 61.6535 238.9075 79.4587 238.9075 79.4587 221.1024 61.6535 238.9075 97.2638 221.1024 61.6535 221.1024 79.4587 221.1024 79.4587 256.7126 79.4587\" fill=\"none\" stroke=\"rgba(0,0,0,1)\" stroke-width=\"2\" stroke-linejoin=\"round\"/>\n",
       "<polyline points=\"238.9075 114.8031 256.7126 132.6083 221.1024 150.4134 238.9075 132.6083 238.9075 132.6083 221.1024 132.6083 256.7126 150.4134 221.1024 150.4134 256.7126 132.6083\" fill=\"none\" stroke=\"rgba(0,0,0,1)\" stroke-width=\"2\" stroke-linejoin=\"round\"/>\n",
       "<polyline points=\"221.1024 185.7579 256.7126 203.563 256.7126 167.9528 238.9075 167.9528 221.1024 185.7579 256.7126 203.563 238.9075 203.563 221.1024 185.7579 221.1024 167.9528\" fill=\"none\" stroke=\"rgba(0,0,0,1)\" stroke-width=\"2\" stroke-linejoin=\"round\"/>\n",
       "<polyline points=\"238.9075 221.1024 221.1024 256.7126 238.9075 238.9075 221.1024 256.7126 221.1024 256.7126\" fill=\"none\" stroke=\"rgba(0,0,0,1)\" stroke-width=\"2\" stroke-linejoin=\"round\"/>\n",
       "<polyline points=\"256.7126 309.8622 256.7126 309.8622 221.1024 274.252 238.9075 292.0571 238.9075 292.0571 221.1024 274.252\" fill=\"none\" stroke=\"rgba(0,0,0,1)\" stroke-width=\"2\" stroke-linejoin=\"round\"/>\n",
       "<polyline points=\"238.9075 363.0118 256.7126 327.4016 238.9075 327.4016 221.1024 327.4016 238.9075 345.2067 256.7126 327.4016\" fill=\"none\" stroke=\"rgba(0,0,0,1)\" stroke-width=\"2\" stroke-linejoin=\"round\"/>\n",
       "<polyline points=\"238.9075 380.5512 256.7126 416.1614 221.1024 380.5512 256.7126 398.3563 256.7126 398.3563 221.1024 398.3563 256.7126 380.5512 221.1024 398.3563\" fill=\"none\" stroke=\"rgba(0,0,0,1)\" stroke-width=\"2\" stroke-linejoin=\"round\"/>\n",
       "<polyline points=\"274.252 8.5039 292.0571 8.5039 309.8622 26.3091 274.252 26.3091 292.0571 8.5039\" fill=\"none\" stroke=\"rgba(0,0,0,1)\" stroke-width=\"2\" stroke-linejoin=\"round\"/>\n",
       "<polyline points=\"309.8622 61.6535 292.0571 79.4587 292.0571 97.2638 274.252 97.2638 309.8622 97.2638 274.252 97.2638 309.8622 61.6535 309.8622 97.2638\" fill=\"none\" stroke=\"rgba(0,0,0,1)\" stroke-width=\"2\" stroke-linejoin=\"round\"/>\n",
       "<polyline points=\"274.252 114.8031 292.0571 114.8031 274.252 150.4134 274.252 150.4134 292.0571 114.8031 292.0571 114.8031 274.252 132.6083\" fill=\"none\" stroke=\"rgba(0,0,0,1)\" stroke-width=\"2\" stroke-linejoin=\"round\"/>\n",
       "<polyline points=\"292.0571 167.9528 309.8622 185.7579 274.252 167.9528 292.0571 185.7579 274.252 185.7579 274.252 167.9528 274.252 167.9528\" fill=\"none\" stroke=\"rgba(0,0,0,1)\" stroke-width=\"2\" stroke-linejoin=\"round\"/>\n",
       "<polyline points=\"274.252 238.9075 309.8622 256.7126 309.8622 221.1024 292.0571 221.1024 309.8622 221.1024 292.0571 221.1024 309.8622 256.7126 309.8622 221.1024 309.8622 221.1024 309.8622 221.1024 292.0571 256.7126\" fill=\"none\" stroke=\"rgba(0,0,0,1)\" stroke-width=\"2\" stroke-linejoin=\"round\"/>\n",
       "<polyline points=\"292.0571 292.0571 274.252 292.0571 274.252 274.252 292.0571 309.8622 292.0571 292.0571 274.252 292.0571 309.8622 309.8622 309.8622 309.8622 292.0571 274.252\" fill=\"none\" stroke=\"rgba(0,0,0,1)\" stroke-width=\"2\" stroke-linejoin=\"round\"/>\n",
       "<polyline points=\"292.0571 363.0118 274.252 327.4016 274.252 345.2067 292.0571 345.2067 309.8622 345.2067 274.252 345.2067 309.8622 345.2067 274.252 327.4016\" fill=\"none\" stroke=\"rgba(0,0,0,1)\" stroke-width=\"2\" stroke-linejoin=\"round\"/>\n",
       "<polyline points=\"292.0571 380.5512 274.252 398.3563 292.0571 380.5512 274.252 398.3563 309.8622 380.5512 274.252 380.5512 274.252 398.3563 309.8622 398.3563 309.8622 416.1614 292.0571 380.5512 274.252 380.5512\" fill=\"none\" stroke=\"rgba(0,0,0,1)\" stroke-width=\"2\" stroke-linejoin=\"round\"/>\n",
       "<polyline points=\"327.4016 8.5039 345.2067 8.5039 345.2067 44.1142 327.4016 44.1142 345.2067 26.3091 363.0118 44.1142 327.4016 44.1142\" fill=\"none\" stroke=\"rgba(0,0,0,1)\" stroke-width=\"2\" stroke-linejoin=\"round\"/>\n",
       "<polyline points=\"363.0118 79.4587 345.2067 97.2638 363.0118 97.2638 363.0118 79.4587 327.4016 97.2638 345.2067 79.4587 327.4016 97.2638 345.2067 61.6535 363.0118 61.6535 363.0118 61.6535\" fill=\"none\" stroke=\"rgba(0,0,0,1)\" stroke-width=\"2\" stroke-linejoin=\"round\"/>\n",
       "<polyline points=\"327.4016 114.8031 327.4016 114.8031 345.2067 114.8031 363.0118 150.4134 363.0118 114.8031 363.0118 114.8031 327.4016 132.6083\" fill=\"none\" stroke=\"rgba(0,0,0,1)\" stroke-width=\"2\" stroke-linejoin=\"round\"/>\n",
       "<polyline points=\"363.0118 185.7579 345.2067 185.7579 327.4016 167.9528 327.4016 185.7579 363.0118 185.7579 363.0118 203.563\" fill=\"none\" stroke=\"rgba(0,0,0,1)\" stroke-width=\"2\" stroke-linejoin=\"round\"/>\n",
       "<polyline points=\"363.0118 256.7126 327.4016 238.9075 345.2067 256.7126 327.4016 256.7126 363.0118 238.9075 363.0118 221.1024 345.2067 256.7126 327.4016 238.9075 345.2067 256.7126 363.0118 238.9075\" fill=\"none\" stroke=\"rgba(0,0,0,1)\" stroke-width=\"2\" stroke-linejoin=\"round\"/>\n",
       "<polyline points=\"327.4016 309.8622 327.4016 274.252 345.2067 309.8622 363.0118 274.252\" fill=\"none\" stroke=\"rgba(0,0,0,1)\" stroke-width=\"2\" stroke-linejoin=\"round\"/>\n",
       "<polyline points=\"363.0118 363.0118 363.0118 327.4016 345.2067 345.2067 363.0118 345.2067 345.2067 345.2067 345.2067 345.2067\" fill=\"none\" stroke=\"rgba(0,0,0,1)\" stroke-width=\"2\" stroke-linejoin=\"round\"/>\n",
       "<polyline points=\"345.2067 416.1614 363.0118 416.1614 327.4016 416.1614 363.0118 398.3563 363.0118 380.5512 363.0118 398.3563 327.4016 398.3563 345.2067 380.5512 327.4016 398.3563 363.0118 380.5512\" fill=\"none\" stroke=\"rgba(0,0,0,1)\" stroke-width=\"2\" stroke-linejoin=\"round\"/>\n",
       "<polyline points=\"416.1614 44.1142 380.5512 8.5039 380.5512 44.1142 398.3563 8.5039 380.5512 44.1142 416.1614 8.5039 380.5512 26.3091\" fill=\"none\" stroke=\"rgba(0,0,0,1)\" stroke-width=\"2\" stroke-linejoin=\"round\"/>\n",
       "<polyline points=\"380.5512 97.2638 416.1614 97.2638 380.5512 61.6535 416.1614 97.2638 416.1614 97.2638 398.3563 97.2638 398.3563 97.2638 416.1614 79.4587 380.5512 97.2638 380.5512 61.6535 398.3563 61.6535\" fill=\"none\" stroke=\"rgba(0,0,0,1)\" stroke-width=\"2\" stroke-linejoin=\"round\"/>\n",
       "<polyline points=\"416.1614 114.8031 380.5512 132.6083 416.1614 114.8031 416.1614 150.4134 416.1614 132.6083 380.5512 150.4134\" fill=\"none\" stroke=\"rgba(0,0,0,1)\" stroke-width=\"2\" stroke-linejoin=\"round\"/>\n",
       "<polyline points=\"380.5512 185.7579 416.1614 185.7579 398.3563 185.7579 380.5512 185.7579 416.1614 167.9528 380.5512 203.563 416.1614 203.563 416.1614 185.7579\" fill=\"none\" stroke=\"rgba(0,0,0,1)\" stroke-width=\"2\" stroke-linejoin=\"round\"/>\n",
       "<polyline points=\"398.3563 256.7126 380.5512 256.7126 380.5512 256.7126 416.1614 256.7126 380.5512 238.9075 380.5512 238.9075 398.3563 221.1024 398.3563 256.7126 380.5512 221.1024\" fill=\"none\" stroke=\"rgba(0,0,0,1)\" stroke-width=\"2\" stroke-linejoin=\"round\"/>\n",
       "<polyline points=\"416.1614 309.8622 380.5512 292.0571 398.3563 292.0571 380.5512 309.8622 416.1614 274.252 380.5512 274.252 398.3563 309.8622 380.5512 274.252 380.5512 274.252 416.1614 309.8622\" fill=\"none\" stroke=\"rgba(0,0,0,1)\" stroke-width=\"2\" stroke-linejoin=\"round\"/>\n",
       "<polyline points=\"416.1614 345.2067 380.5512 345.2067 416.1614 363.0118 398.3563 345.2067 398.3563 345.2067 380.5512 363.0118 416.1614 345.2067\" fill=\"none\" stroke=\"rgba(0,0,0,1)\" stroke-width=\"2\" stroke-linejoin=\"round\"/>\n",
       "<polyline points=\"416.1614 380.5512 380.5512 416.1614 380.5512 416.1614 416.1614 398.3563 416.1614 416.1614 398.3563 380.5512\" fill=\"none\" stroke=\"rgba(0,0,0,1)\" stroke-width=\"2\" stroke-linejoin=\"round\"/>\n",
       "</svg>"
      ],
      "text/plain": [
       "<IPython.core.display.SVG object>"
      ]
     },
     "metadata": {},
     "output_type": "display_data"
    }
   ],
   "source": [
    "size = 150 # change the size of the page\n",
    "d = document(size, size, 'mm')\n",
    "page = d.addpage()\n",
    "figure = shape().stroke(rgba(0, 0, 0, 255)).width(2).join('round')\n",
    "grid_n = 8 # change the number of elements in the grid on one side\n",
    "grid_size = size / grid_n\n",
    "for i in range(grid_n):\n",
    "    for j in range(grid_n):\n",
    "        char_pline = make_char()\n",
    "        lines = figure.polyline(\n",
    "            char_pline.scale(grid_size * 0.67).translate(3+i*grid_size, 3+j*grid_size))\n",
    "        page.place(lines)\n",
    "show(page)"
   ]
  },
  {
   "cell_type": "markdown",
   "metadata": {},
   "source": [
    "Now we're getting somewhere. When your sci-fi author friend texts you and says \"Hey, I need something that looks like a writing system for space aliens for the cover of my next book,\" you've got something all ready to go.\n",
    "\n",
    "> Exercise: Can you make these polylines fall on a 4x4 grid instead of a 3x3 grid? Or a 5x5 grid?\n",
    "\n",
    "> Exercise: Add some randomness to each point's placement, so not all points fall directly on the grid.\n",
    "\n",
    "> Exercise: Change the aspect ratio of the \"characters\"—make them wider than they are tall, or taller than they are wide."
   ]
  },
  {
   "cell_type": "markdown",
   "metadata": {},
   "source": [
    "## Interpolating curves\n",
    "\n",
    "Due to certain properties of human physiology, handwriting hardly ever consists of exactly straight lines. To simulate the curved lines of conventional handwriting, we need to find a way to change our polylines into *curves*. One way of doing this is a [Catmull-Rom spline](https://en.wikipedia.org/wiki/Centripetal_Catmull%E2%80%93Rom_spline), which produces a sequence of [Bézier curves](https://pomax.github.io/bezierinfo/) that pass through a given set of points. Bezmerizing `Polyline` objects have a function `smooth_path()` that uses Catmull-Rom to produce a path (i.e., a sequence of drawing instructions) that can draw such a curve given a set of points.\n",
    "\n",
    "The following cell generates some points with a normal distribution:"
   ]
  },
  {
   "cell_type": "code",
   "execution_count": 59,
   "metadata": {},
   "outputs": [],
   "source": [
    "pts = []\n",
    "for i in range(10):\n",
    "    pts.append([normal(50, 25), normal(50, 25)])\n",
    "pline = Polyline(pts)"
   ]
  },
  {
   "cell_type": "markdown",
   "metadata": {},
   "source": [
    "And then this cell calls `smooth_point_path()` on the points, returning a list of curves:"
   ]
  },
  {
   "cell_type": "code",
   "execution_count": 60,
   "metadata": {},
   "outputs": [],
   "source": [
    "curve_path = pline.smooth_path()"
   ]
  },
  {
   "cell_type": "markdown",
   "metadata": {},
   "source": [
    "The object returned from `.smooth_path()` is a Bezmerizing `Path` object, that contains a series of Flat \"path commands\" to draw the curve:"
   ]
  },
  {
   "cell_type": "code",
   "execution_count": 61,
   "metadata": {},
   "outputs": [
    {
     "data": {
      "text/plain": [
       "Path([moveto(x=103.5046, y=48.2149), curveto(x1=103.0586, y1=49.3725, x2=32.6012, y2=71.6931, x=19.6644, y=68.6614), moveto(x=19.6644, y=68.6614), curveto(x1=6.7276, y1=65.6298, x2=26.4966, y2=40.1639, x=25.8837, y=30.0249), moveto(x=25.8837, y=30.0249), curveto(x1=25.2709, y1=19.8859, x2=7.1882, y2=11.4563, x=15.9872, y=7.8274), moveto(x=15.9872, y=7.8274), curveto(x1=24.7861, y1=4.1985, x2=74.8807, y2=12.8150, x=78.6772, y=8.2516), moveto(x=78.6772, y=8.2516), curveto(x1=82.4737, y1=3.6883, x2=39.2216, y2=-27.0663, x=38.7662, y=-19.5526), moveto(x=38.7662, y=-19.5526), curveto(x1=38.3109, y1=-12.0388, x2=73.0299, y2=40.0682, x=75.9450, y=53.3341), moveto(x=75.9450, y=53.3341), curveto(x1=78.8601, y1=66.6000, x2=55.6550, y2=61.5367, x=56.2568, y=60.0428)])"
      ]
     },
     "execution_count": 61,
     "metadata": {},
     "output_type": "execute_result"
    }
   ],
   "source": [
    "curve_path"
   ]
  },
  {
   "cell_type": "markdown",
   "metadata": {},
   "source": [
    "Like `Polyline` objects, `Path`s can be translated, rotated, scaled, etc."
   ]
  },
  {
   "cell_type": "markdown",
   "metadata": {},
   "source": [
    "For our purpose, the exact nature of Bézier curves and the Flat library's path commands are not consequential. Suffice it to say that you can pass the result of `.smooth_path()` to the `.path()` method of a flat `shape` object. The cell below draws both the points and the curve passing through those points:"
   ]
  },
  {
   "cell_type": "code",
   "execution_count": 62,
   "metadata": {},
   "outputs": [
    {
     "data": {
      "image/svg+xml": [
       "<svg xmlns=\"http://www.w3.org/2000/svg\" xmlns:xlink=\"http://www.w3.org/1999/xlink\" version=\"1.1\" width=\"283.4646pt\" height=\"283.4646pt\" viewBox=\"0 0 283.4646 283.4646\">\n",
       "<title>Untitled</title>\n",
       "<polyline points=\"63.3282 174.9422 293.399 136.672 55.7415 194.6308 73.3712 85.11 45.3179 22.1879 223.0219 23.3905 109.8885 -55.4247 215.2773 151.1833 159.468 170.2001 225.5121 125.7754\" fill=\"none\" stroke=\"rgba(0,0,255,0.502)\" stroke-miterlimit=\"10\"/>\n",
       "<path d=\"M293.399,136.672 C292.1345,139.9535,92.4128,203.2245,55.7415,194.6308 M55.7415,194.6308 C19.0702,186.0372,75.1085,113.8504,73.3712,85.11 M73.3712,85.11 C71.6339,56.3695,20.3761,32.4745,45.3179,22.1879 M45.3179,22.1879 C70.2597,11.9014,212.2601,36.3259,223.0219,23.3905 M223.0219,23.3905 C233.7837,10.455,111.1793,-76.7235,109.8885,-55.4247 M109.8885,-55.4247 C108.5978,-34.1259,207.014,113.5791,215.2773,151.1833 M215.2773,151.1833 C223.5405,188.7874,157.7622,174.4348,159.468,170.2001\" fill=\"none\" stroke=\"rgba(255,0,0,1)\" stroke-width=\"4\" stroke-miterlimit=\"10\"/>\n",
       "</svg>"
      ],
      "text/plain": [
       "<IPython.core.display.SVG object>"
      ]
     },
     "metadata": {},
     "output_type": "display_data"
    }
   ],
   "source": [
    "d = document(100, 100, 'mm')\n",
    "page = d.addpage()\n",
    "line_figure = shape().stroke(rgba(0, 0, 255, 128)).width(1)\n",
    "curve_figure = shape().stroke(rgba(255, 0, 0, 255)).width(4)\n",
    "lines = line_figure.polyline(pline)\n",
    "curve = curve_figure.path(curve_path)\n",
    "page.place(lines)\n",
    "page.place(curve)\n",
    "show(page)"
   ]
  },
  {
   "cell_type": "markdown",
   "metadata": {},
   "source": [
    "You'll notice in the above example that the Catmull-Rom spline algorithm \"eats\" the first and last points of the polyline. (It uses those points to determine the position of the control points of the first and last curves of the spline.) Keep this in mind when you're using `.smooth_path()` and related functions—your procedure to generate glyphs needs to generate two extra points!"
   ]
  },
  {
   "cell_type": "markdown",
   "metadata": {},
   "source": [
    "The following example copies the grid of alien letterforms above, but uses `.smooth_path()` to convert the points to curves before drawing. The results are much more \"organic\":"
   ]
  },
  {
   "cell_type": "code",
   "execution_count": 63,
   "metadata": {},
   "outputs": [
    {
     "data": {
      "image/svg+xml": [
       "<svg xmlns=\"http://www.w3.org/2000/svg\" xmlns:xlink=\"http://www.w3.org/1999/xlink\" version=\"1.1\" width=\"283.4646pt\" height=\"283.4646pt\" viewBox=\"0 0 283.4646 283.4646\">\n",
       "<title>Untitled</title>\n",
       "<path d=\"M32.2441,32.2441 C34.2224,28.2874,20.374,8.5039,20.374,8.5039 M20.374,8.5039 C20.374,8.5039,34.2224,28.2874,32.2441,32.2441 M32.2441,32.2441 C30.2657,36.2008,12.4606,36.2008,8.5039,32.2441 M8.5039,32.2441 C4.5472,28.2874,8.5039,10.4823,8.5039,8.5039\" fill=\"none\" stroke=\"rgba(0,0,0,1)\" stroke-width=\"2\" stroke-linejoin=\"round\"/>\n",
       "<path d=\"M8.5039,43.937 C8.5039,41.9587,18.3957,39.9803,20.374,43.937 M20.374,43.937 C22.3524,47.8937,20.374,63.7205,20.374,67.6772 M20.374,67.6772 C20.374,71.6339,18.3957,67.6772,20.374,67.6772 M20.374,67.6772 C22.3524,67.6772,34.2224,69.6555,32.2441,67.6772 M32.2441,67.6772 C30.2657,65.6988,10.4823,57.7854,8.5039,55.8071 M8.5039,55.8071 C6.5256,53.8287,16.4173,57.7854,20.374,55.8071\" fill=\"none\" stroke=\"rgba(0,0,0,1)\" stroke-width=\"2\" stroke-linejoin=\"round\"/>\n",
       "<path d=\"M32.2441,79.3701 C34.2224,83.3268,20.374,101.1319,20.374,103.1102 M20.374,103.1102 C20.374,105.0886,30.2657,95.1969,32.2441,91.2402 M32.2441,91.2402 C34.2224,87.2835,32.2441,77.3917,32.2441,79.3701 M32.2441,79.3701 C32.2441,81.3484,32.2441,101.1319,32.2441,103.1102 M32.2441,103.1102 C32.2441,105.0886,32.2441,95.1969,32.2441,91.2402 M32.2441,91.2402 C32.2441,87.2835,34.2224,81.3484,32.2441,79.3701 M32.2441,79.3701 C30.2657,77.3917,20.374,75.4134,20.374,79.3701\" fill=\"none\" stroke=\"rgba(0,0,0,1)\" stroke-width=\"2\" stroke-linejoin=\"round\"/>\n",
       "<path d=\"M20.374,126.6732 C18.3957,126.6732,20.374,128.6516,20.374,126.6732 M20.374,126.6732 C20.374,124.6949,18.3957,112.8248,20.374,114.8031 M20.374,114.8031 C22.3524,116.7815,32.2441,134.5866,32.2441,138.5433 M32.2441,138.5433 C32.2441,142.5,24.3307,142.5,20.374,138.5433\" fill=\"none\" stroke=\"rgba(0,0,0,1)\" stroke-width=\"2\" stroke-linejoin=\"round\"/>\n",
       "<path d=\"M8.5039,150.2362 C12.4606,154.1929,28.2874,170.0197,32.2441,173.9764 M32.2441,173.9764 C36.2008,177.9331,36.2008,175.9547,32.2441,173.9764 M32.2441,173.9764 C28.2874,171.998,10.4823,166.063,8.5039,162.1063 M8.5039,162.1063 C6.5256,158.1496,18.3957,150.2362,20.374,150.2362 M20.374,150.2362 C22.3524,150.2362,18.3957,158.1496,20.374,162.1063 M20.374,162.1063 C22.3524,166.063,32.2441,173.9764,32.2441,173.9764\" fill=\"none\" stroke=\"rgba(0,0,0,1)\" stroke-width=\"2\" stroke-linejoin=\"round\"/>\n",
       "<path d=\"M20.374,185.6693 C20.374,181.7126,10.4823,183.6909,8.5039,185.6693 M8.5039,185.6693 C6.5256,187.6476,8.5039,193.5827,8.5039,197.5394 M8.5039,197.5394 C8.5039,201.4961,8.5039,211.3878,8.5039,209.4094 M8.5039,209.4094 C8.5039,207.4311,6.5256,185.6693,8.5039,185.6693 M8.5039,185.6693 C10.4823,185.6693,16.4173,209.4094,20.374,209.4094 M20.374,209.4094 C24.3307,209.4094,34.2224,185.6693,32.2441,185.6693 M32.2441,185.6693 C30.2657,185.6693,8.5039,207.4311,8.5039,209.4094 M8.5039,209.4094 C8.5039,211.3878,32.2441,201.4961,32.2441,197.5394\" fill=\"none\" stroke=\"rgba(0,0,0,1)\" stroke-width=\"2\" stroke-linejoin=\"round\"/>\n",
       "<path d=\"M20.374,232.9724 C18.3957,234.9508,6.5256,246.8209,8.5039,244.8425 M8.5039,244.8425 C10.4823,242.8642,28.2874,221.1024,32.2441,221.1024 M32.2441,221.1024 C36.2008,221.1024,34.2224,242.8642,32.2441,244.8425 M32.2441,244.8425 C30.2657,246.8209,20.374,232.9724,20.374,232.9724\" fill=\"none\" stroke=\"rgba(0,0,0,1)\" stroke-width=\"2\" stroke-linejoin=\"round\"/>\n",
       "<path d=\"M32.2441,280.2756 C32.2441,278.2972,8.5039,258.5138,8.5039,256.5354 M8.5039,256.5354 C8.5039,254.5571,32.2441,264.4488,32.2441,268.4055 M32.2441,268.4055 C32.2441,272.3622,12.4606,278.2972,8.5039,280.2756 M8.5039,280.2756 C4.5472,282.2539,4.5472,280.2756,8.5039,280.2756 M8.5039,280.2756 C12.4606,280.2756,32.2441,282.2539,32.2441,280.2756\" fill=\"none\" stroke=\"rgba(0,0,0,1)\" stroke-width=\"2\" stroke-linejoin=\"round\"/>\n",
       "<path d=\"M55.8071,8.5039 C57.7854,8.5039,67.6772,30.2657,67.6772,32.2441 M67.6772,32.2441 C67.6772,34.2224,57.7854,24.3307,55.8071,20.374 M55.8071,20.374 C53.8287,16.4173,55.8071,8.5039,55.8071,8.5039 M55.8071,8.5039 C55.8071,8.5039,55.8071,18.3957,55.8071,20.374\" fill=\"none\" stroke=\"rgba(0,0,0,1)\" stroke-width=\"2\" stroke-linejoin=\"round\"/>\n",
       "<path d=\"M55.8071,43.937 C57.7854,45.9154,67.6772,65.6988,67.6772,67.6772 M67.6772,67.6772 C67.6772,69.6555,57.7854,57.7854,55.8071,55.8071 M55.8071,55.8071 C53.8287,53.8287,55.8071,57.7854,55.8071,55.8071 M55.8071,55.8071 C55.8071,53.8287,55.8071,43.937,55.8071,43.937 M55.8071,43.937 C55.8071,43.937,57.7854,53.8287,55.8071,55.8071 M55.8071,55.8071 C53.8287,57.7854,45.9154,57.7854,43.937,55.8071\" fill=\"none\" stroke=\"rgba(0,0,0,1)\" stroke-width=\"2\" stroke-linejoin=\"round\"/>\n",
       "<path d=\"M43.937,91.2402 C45.9154,91.2402,51.8504,91.2402,55.8071,91.2402 M55.8071,91.2402 C59.7638,91.2402,65.6988,89.2618,67.6772,91.2402 M67.6772,91.2402 C69.6555,93.2185,69.6555,105.0886,67.6772,103.1102 M67.6772,103.1102 C65.6988,101.1319,57.7854,79.3701,55.8071,79.3701 M55.8071,79.3701 C53.8287,79.3701,57.7854,103.1102,55.8071,103.1102\" fill=\"none\" stroke=\"rgba(0,0,0,1)\" stroke-width=\"2\" stroke-linejoin=\"round\"/>\n",
       "<path d=\"M43.937,138.5433 C43.937,140.5217,55.8071,138.5433,55.8071,138.5433 M55.8071,138.5433 C55.8071,138.5433,41.9587,142.5,43.937,138.5433 M43.937,138.5433 C45.9154,134.5866,63.7205,118.7598,67.6772,114.8031 M67.6772,114.8031 C71.6339,110.8465,71.6339,110.8465,67.6772,114.8031\" fill=\"none\" stroke=\"rgba(0,0,0,1)\" stroke-width=\"2\" stroke-linejoin=\"round\"/>\n",
       "<path d=\"M55.8071,150.2362 C51.8504,152.2146,43.937,160.128,43.937,162.1063 M43.937,162.1063 C43.937,164.0846,51.8504,164.0846,55.8071,162.1063 M55.8071,162.1063 C59.7638,160.128,67.6772,148.2579,67.6772,150.2362\" fill=\"none\" stroke=\"rgba(0,0,0,1)\" stroke-width=\"2\" stroke-linejoin=\"round\"/>\n",
       "<path d=\"M67.6772,197.5394 C69.6555,193.5827,59.7638,187.6476,55.8071,185.6693 M55.8071,185.6693 C51.8504,183.6909,41.9587,185.6693,43.937,185.6693 M43.937,185.6693 C45.9154,185.6693,67.6772,183.6909,67.6772,185.6693 M67.6772,185.6693 C67.6772,187.6476,45.9154,197.5394,43.937,197.5394\" fill=\"none\" stroke=\"rgba(0,0,0,1)\" stroke-width=\"2\" stroke-linejoin=\"round\"/>\n",
       "<path d=\"M43.937,221.1024 C41.9587,221.1024,39.9803,219.124,43.937,221.1024 M43.937,221.1024 C47.8937,223.0807,67.6772,230.9941,67.6772,232.9724 M67.6772,232.9724 C67.6772,234.9508,43.937,230.9941,43.937,232.9724 M43.937,232.9724 C43.937,234.9508,67.6772,244.8425,67.6772,244.8425 M67.6772,244.8425 C67.6772,244.8425,43.937,234.9508,43.937,232.9724 M43.937,232.9724 C43.937,230.9941,63.7205,234.9508,67.6772,232.9724 M67.6772,232.9724 C71.6339,230.9941,69.6555,223.0807,67.6772,221.1024\" fill=\"none\" stroke=\"rgba(0,0,0,1)\" stroke-width=\"2\" stroke-linejoin=\"round\"/>\n",
       "<path d=\"M55.8071,268.4055 C53.8287,272.3622,57.7854,282.2539,55.8071,280.2756 M55.8071,280.2756 C53.8287,278.2972,41.9587,256.5354,43.937,256.5354 M43.937,256.5354 C45.9154,256.5354,65.6988,280.2756,67.6772,280.2756 M67.6772,280.2756 C69.6555,280.2756,55.8071,256.5354,55.8071,256.5354\" fill=\"none\" stroke=\"rgba(0,0,0,1)\" stroke-width=\"2\" stroke-linejoin=\"round\"/>\n",
       "<path d=\"M103.1102,20.374 C101.1319,22.3524,91.2402,20.374,91.2402,20.374 M91.2402,20.374 C91.2402,20.374,101.1319,18.3957,103.1102,20.374 M103.1102,20.374 C105.0886,22.3524,103.1102,32.2441,103.1102,32.2441 M103.1102,32.2441 C103.1102,32.2441,103.1102,22.3524,103.1102,20.374 M103.1102,20.374 C103.1102,18.3957,105.0886,18.3957,103.1102,20.374 M103.1102,20.374 C101.1319,22.3524,93.2185,30.2657,91.2402,32.2441 M91.2402,32.2441 C89.2618,34.2224,91.2402,36.2008,91.2402,32.2441\" fill=\"none\" stroke=\"rgba(0,0,0,1)\" stroke-width=\"2\" stroke-linejoin=\"round\"/>\n",
       "<path d=\"M103.1102,55.8071 C101.1319,57.7854,91.2402,53.8287,91.2402,55.8071 M91.2402,55.8071 C91.2402,57.7854,101.1319,69.6555,103.1102,67.6772 M103.1102,67.6772 C105.0886,65.6988,105.0886,45.9154,103.1102,43.937 M103.1102,43.937 C101.1319,41.9587,93.2185,53.8287,91.2402,55.8071 M91.2402,55.8071 C89.2618,57.7854,93.2185,55.8071,91.2402,55.8071 M91.2402,55.8071 C89.2618,55.8071,81.3484,53.8287,79.3701,55.8071\" fill=\"none\" stroke=\"rgba(0,0,0,1)\" stroke-width=\"2\" stroke-linejoin=\"round\"/>\n",
       "<path d=\"M91.2402,79.3701 C93.2185,81.3484,101.1319,99.1535,103.1102,103.1102 M103.1102,103.1102 C105.0886,107.0669,103.1102,105.0886,103.1102,103.1102\" fill=\"none\" stroke=\"rgba(0,0,0,1)\" stroke-width=\"2\" stroke-linejoin=\"round\"/>\n",
       "<path d=\"M91.2402,114.8031 C91.2402,118.7598,101.1319,136.565,103.1102,138.5433 M103.1102,138.5433 C105.0886,140.5217,105.0886,126.6732,103.1102,126.6732 M103.1102,126.6732 C101.1319,126.6732,91.2402,138.5433,91.2402,138.5433 M91.2402,138.5433 C91.2402,138.5433,105.0886,130.6299,103.1102,126.6732 M103.1102,126.6732 C101.1319,122.7165,79.3701,112.8248,79.3701,114.8031\" fill=\"none\" stroke=\"rgba(0,0,0,1)\" stroke-width=\"2\" stroke-linejoin=\"round\"/>\n",
       "<path d=\"M103.1102,162.1063 C101.1319,162.1063,93.2185,162.1063,91.2402,162.1063 M91.2402,162.1063 C89.2618,162.1063,91.2402,164.0846,91.2402,162.1063 M91.2402,162.1063 C91.2402,160.128,91.2402,150.2362,91.2402,150.2362 M91.2402,150.2362 C91.2402,150.2362,93.2185,158.1496,91.2402,162.1063 M91.2402,162.1063 C89.2618,166.063,81.3484,171.998,79.3701,173.9764 M79.3701,173.9764 C77.3917,175.9547,77.3917,175.9547,79.3701,173.9764 M79.3701,173.9764 C81.3484,171.998,91.2402,164.0846,91.2402,162.1063\" fill=\"none\" stroke=\"rgba(0,0,0,1)\" stroke-width=\"2\" stroke-linejoin=\"round\"/>\n",
       "<path d=\"M91.2402,185.6693 C95.1969,183.6909,105.0886,193.5827,103.1102,197.5394 M103.1102,197.5394 C101.1319,201.4961,81.3484,211.3878,79.3701,209.4094 M79.3701,209.4094 C77.3917,207.4311,87.2835,189.626,91.2402,185.6693\" fill=\"none\" stroke=\"rgba(0,0,0,1)\" stroke-width=\"2\" stroke-linejoin=\"round\"/>\n",
       "<path d=\"M91.2402,221.1024 C93.2185,219.124,103.1102,217.1457,103.1102,221.1024 M103.1102,221.1024 C103.1102,225.0591,95.1969,240.8858,91.2402,244.8425 M91.2402,244.8425 C87.2835,248.7992,81.3484,246.8209,79.3701,244.8425\" fill=\"none\" stroke=\"rgba(0,0,0,1)\" stroke-width=\"2\" stroke-linejoin=\"round\"/>\n",
       "<path d=\"M79.3701,268.4055 C79.3701,268.4055,75.4134,270.3839,79.3701,268.4055 M79.3701,268.4055 C83.3268,266.4272,101.1319,258.5138,103.1102,256.5354 M103.1102,256.5354 C105.0886,254.5571,91.2402,254.5571,91.2402,256.5354 M91.2402,256.5354 C91.2402,258.5138,103.1102,266.4272,103.1102,268.4055 M103.1102,268.4055 C103.1102,270.3839,95.1969,270.3839,91.2402,268.4055 M91.2402,268.4055 C87.2835,266.4272,77.3917,254.5571,79.3701,256.5354\" fill=\"none\" stroke=\"rgba(0,0,0,1)\" stroke-width=\"2\" stroke-linejoin=\"round\"/>\n",
       "<path d=\"M138.5433,20.374 C134.5866,20.374,118.7598,34.2224,114.8031,32.2441 M114.8031,32.2441 C110.8465,30.2657,114.8031,12.4606,114.8031,8.5039 M114.8031,8.5039 C114.8031,4.5472,114.8031,4.5472,114.8031,8.5039 M114.8031,8.5039 C114.8031,12.4606,114.8031,28.2874,114.8031,32.2441\" fill=\"none\" stroke=\"rgba(0,0,0,1)\" stroke-width=\"2\" stroke-linejoin=\"round\"/>\n",
       "<path d=\"M114.8031,43.937 C110.8465,45.9154,112.8248,53.8287,114.8031,55.8071 M114.8031,55.8071 C116.7815,57.7854,126.6732,53.8287,126.6732,55.8071 M126.6732,55.8071 C126.6732,57.7854,112.8248,67.6772,114.8031,67.6772\" fill=\"none\" stroke=\"rgba(0,0,0,1)\" stroke-width=\"2\" stroke-linejoin=\"round\"/>\n",
       "<path d=\"M114.8031,91.2402 C114.8031,93.2185,124.6949,93.2185,126.6732,91.2402 M126.6732,91.2402 C128.6516,89.2618,124.6949,77.3917,126.6732,79.3701 M126.6732,79.3701 C128.6516,81.3484,140.5217,99.1535,138.5433,103.1102 M138.5433,103.1102 C136.565,107.0669,114.8031,103.1102,114.8031,103.1102 M114.8031,103.1102 C114.8031,103.1102,136.565,103.1102,138.5433,103.1102 M138.5433,103.1102 C140.5217,103.1102,128.6516,103.1102,126.6732,103.1102 M126.6732,103.1102 C124.6949,103.1102,124.6949,103.1102,126.6732,103.1102\" fill=\"none\" stroke=\"rgba(0,0,0,1)\" stroke-width=\"2\" stroke-linejoin=\"round\"/>\n",
       "<path d=\"M138.5433,138.5433 C138.5433,138.5433,140.5217,118.7598,138.5433,114.8031 M138.5433,114.8031 C136.565,110.8465,126.6732,114.8031,126.6732,114.8031 M126.6732,114.8031 C126.6732,114.8031,140.5217,110.8465,138.5433,114.8031 M138.5433,114.8031 C136.565,118.7598,116.7815,136.565,114.8031,138.5433 M114.8031,138.5433 C112.8248,140.5217,124.6949,130.6299,126.6732,126.6732 M126.6732,126.6732 C128.6516,122.7165,128.6516,114.8031,126.6732,114.8031 M126.6732,114.8031 C124.6949,114.8031,112.8248,122.7165,114.8031,126.6732 M114.8031,126.6732 C116.7815,130.6299,138.5433,140.5217,138.5433,138.5433\" fill=\"none\" stroke=\"rgba(0,0,0,1)\" stroke-width=\"2\" stroke-linejoin=\"round\"/>\n",
       "<path d=\"M126.6732,173.9764 C128.6516,171.998,126.6732,154.1929,126.6732,150.2362 M126.6732,150.2362 C126.6732,146.2795,128.6516,148.2579,126.6732,150.2362 M126.6732,150.2362 C124.6949,152.2146,114.8031,162.1063,114.8031,162.1063\" fill=\"none\" stroke=\"rgba(0,0,0,1)\" stroke-width=\"2\" stroke-linejoin=\"round\"/>\n",
       "<path d=\"M138.5433,197.5394 C142.5,201.4961,138.5433,207.4311,138.5433,209.4094 M138.5433,209.4094 C138.5433,211.3878,140.5217,213.3661,138.5433,209.4094 M138.5433,209.4094 C136.565,205.4528,130.6299,189.626,126.6732,185.6693 M126.6732,185.6693 C122.7165,181.7126,116.7815,185.6693,114.8031,185.6693 M114.8031,185.6693 C112.8248,185.6693,110.8465,183.6909,114.8031,185.6693\" fill=\"none\" stroke=\"rgba(0,0,0,1)\" stroke-width=\"2\" stroke-linejoin=\"round\"/>\n",
       "<path d=\"M114.8031,221.1024 C110.8465,221.1024,112.8248,244.8425,114.8031,244.8425 M114.8031,244.8425 C116.7815,244.8425,124.6949,221.1024,126.6732,221.1024 M126.6732,221.1024 C128.6516,221.1024,126.6732,240.8858,126.6732,244.8425 M126.6732,244.8425 C126.6732,248.7992,124.6949,248.7992,126.6732,244.8425 M126.6732,244.8425 C128.6516,240.8858,136.565,223.0807,138.5433,221.1024\" fill=\"none\" stroke=\"rgba(0,0,0,1)\" stroke-width=\"2\" stroke-linejoin=\"round\"/>\n",
       "<path d=\"M126.6732,268.4055 C124.6949,272.3622,116.7815,280.2756,114.8031,280.2756 M114.8031,280.2756 C112.8248,280.2756,112.8248,272.3622,114.8031,268.4055 M114.8031,268.4055 C116.7815,264.4488,126.6732,254.5571,126.6732,256.5354\" fill=\"none\" stroke=\"rgba(0,0,0,1)\" stroke-width=\"2\" stroke-linejoin=\"round\"/>\n",
       "<path d=\"M162.1063,20.374 C166.063,20.374,171.998,30.2657,173.9764,32.2441 M173.9764,32.2441 C175.9547,34.2224,177.9331,36.2008,173.9764,32.2441 M173.9764,32.2441 C170.0197,28.2874,152.2146,10.4823,150.2362,8.5039 M150.2362,8.5039 C148.2579,6.5256,160.128,20.374,162.1063,20.374 M162.1063,20.374 C164.0846,20.374,160.128,10.4823,162.1063,8.5039\" fill=\"none\" stroke=\"rgba(0,0,0,1)\" stroke-width=\"2\" stroke-linejoin=\"round\"/>\n",
       "<path d=\"M173.9764,43.937 C173.9764,43.937,166.063,55.8071,162.1063,55.8071 M162.1063,55.8071 C158.1496,55.8071,152.2146,45.9154,150.2362,43.937 M150.2362,43.937 C148.2579,41.9587,148.2579,43.937,150.2362,43.937\" fill=\"none\" stroke=\"rgba(0,0,0,1)\" stroke-width=\"2\" stroke-linejoin=\"round\"/>\n",
       "<path d=\"M162.1063,91.2402 C166.063,89.2618,175.9547,79.3701,173.9764,79.3701 M173.9764,79.3701 C171.998,79.3701,152.2146,91.2402,150.2362,91.2402 M150.2362,91.2402 C148.2579,91.2402,160.128,79.3701,162.1063,79.3701 M162.1063,79.3701 C164.0846,79.3701,160.128,91.2402,162.1063,91.2402 M162.1063,91.2402 C164.0846,91.2402,171.998,81.3484,173.9764,79.3701 M173.9764,79.3701 C175.9547,77.3917,173.9764,77.3917,173.9764,79.3701\" fill=\"none\" stroke=\"rgba(0,0,0,1)\" stroke-width=\"2\" stroke-linejoin=\"round\"/>\n",
       "<path d=\"M162.1063,138.5433 C164.0846,138.5433,162.1063,118.7598,162.1063,114.8031 M162.1063,114.8031 C162.1063,110.8465,162.1063,110.8465,162.1063,114.8031 M162.1063,114.8031 C162.1063,118.7598,160.128,134.5866,162.1063,138.5433 M162.1063,138.5433 C164.0846,142.5,175.9547,138.5433,173.9764,138.5433 M173.9764,138.5433 C171.998,138.5433,154.1929,140.5217,150.2362,138.5433 M150.2362,138.5433 C146.2795,136.565,146.2795,128.6516,150.2362,126.6732 M150.2362,126.6732 C154.1929,124.6949,171.998,128.6516,173.9764,126.6732\" fill=\"none\" stroke=\"rgba(0,0,0,1)\" stroke-width=\"2\" stroke-linejoin=\"round\"/>\n",
       "<path d=\"M173.9764,150.2362 C173.9764,148.2579,166.063,150.2362,162.1063,150.2362 M162.1063,150.2362 C158.1496,150.2362,148.2579,148.2579,150.2362,150.2362 M150.2362,150.2362 C152.2146,152.2146,171.998,160.128,173.9764,162.1063 M173.9764,162.1063 C175.9547,164.0846,166.063,160.128,162.1063,162.1063 M162.1063,162.1063 C158.1496,164.0846,148.2579,173.9764,150.2362,173.9764 M150.2362,173.9764 C152.2146,173.9764,173.9764,164.0846,173.9764,162.1063\" fill=\"none\" stroke=\"rgba(0,0,0,1)\" stroke-width=\"2\" stroke-linejoin=\"round\"/>\n",
       "<path d=\"M173.9764,209.4094 C170.0197,211.3878,150.2362,201.4961,150.2362,197.5394 M150.2362,197.5394 C150.2362,193.5827,173.9764,183.6909,173.9764,185.6693 M173.9764,185.6693 C173.9764,187.6476,150.2362,205.4528,150.2362,209.4094 M150.2362,209.4094 C150.2362,213.3661,170.0197,209.4094,173.9764,209.4094 M173.9764,209.4094 C177.9331,209.4094,177.9331,213.3661,173.9764,209.4094 M173.9764,209.4094 C170.0197,205.4528,152.2146,189.626,150.2362,185.6693 M150.2362,185.6693 C148.2579,181.7126,162.1063,181.7126,162.1063,185.6693\" fill=\"none\" stroke=\"rgba(0,0,0,1)\" stroke-width=\"2\" stroke-linejoin=\"round\"/>\n",
       "<path d=\"M173.9764,244.8425 C177.9331,242.8642,175.9547,223.0807,173.9764,221.1024 M173.9764,221.1024 C171.998,219.124,166.063,230.9941,162.1063,232.9724 M162.1063,232.9724 C158.1496,234.9508,148.2579,230.9941,150.2362,232.9724 M150.2362,232.9724 C152.2146,234.9508,173.9764,246.8209,173.9764,244.8425\" fill=\"none\" stroke=\"rgba(0,0,0,1)\" stroke-width=\"2\" stroke-linejoin=\"round\"/>\n",
       "<path d=\"M162.1063,280.2756 C162.1063,280.2756,162.1063,256.5354,162.1063,256.5354 M162.1063,256.5354 C162.1063,256.5354,160.128,278.2972,162.1063,280.2756 M162.1063,280.2756 C164.0846,282.2539,175.9547,268.4055,173.9764,268.4055 M173.9764,268.4055 C171.998,268.4055,154.1929,278.2972,150.2362,280.2756 M150.2362,280.2756 C146.2795,282.2539,148.2579,282.2539,150.2362,280.2756\" fill=\"none\" stroke=\"rgba(0,0,0,1)\" stroke-width=\"2\" stroke-linejoin=\"round\"/>\n",
       "<path d=\"M185.6693,8.5039 C183.6909,12.4606,185.6693,32.2441,185.6693,32.2441 M185.6693,32.2441 C185.6693,32.2441,185.6693,12.4606,185.6693,8.5039 M185.6693,8.5039 C185.6693,4.5472,185.6693,8.5039,185.6693,8.5039 M185.6693,8.5039 C185.6693,8.5039,183.6909,4.5472,185.6693,8.5039 M185.6693,8.5039 C187.6476,12.4606,197.5394,30.2657,197.5394,32.2441 M197.5394,32.2441 C197.5394,34.2224,187.6476,22.3524,185.6693,20.374\" fill=\"none\" stroke=\"rgba(0,0,0,1)\" stroke-width=\"2\" stroke-linejoin=\"round\"/>\n",
       "<path d=\"M197.5394,43.937 C193.5827,45.9154,187.6476,51.8504,185.6693,55.8071 M185.6693,55.8071 C183.6909,59.7638,185.6693,65.6988,185.6693,67.6772\" fill=\"none\" stroke=\"rgba(0,0,0,1)\" stroke-width=\"2\" stroke-linejoin=\"round\"/>\n",
       "<path d=\"M209.4094,79.3701 C207.4311,79.3701,187.6476,89.2618,185.6693,91.2402 M185.6693,91.2402 C183.6909,93.2185,193.5827,93.2185,197.5394,91.2402 M197.5394,91.2402 C201.4961,89.2618,209.4094,79.3701,209.4094,79.3701 M209.4094,79.3701 C209.4094,79.3701,201.4961,91.2402,197.5394,91.2402\" fill=\"none\" stroke=\"rgba(0,0,0,1)\" stroke-width=\"2\" stroke-linejoin=\"round\"/>\n",
       "<path d=\"M197.5394,138.5433 C195.561,138.5433,183.6909,116.7815,185.6693,114.8031 M185.6693,114.8031 C187.6476,112.8248,209.4094,126.6732,209.4094,126.6732 M209.4094,126.6732 C209.4094,126.6732,187.6476,112.8248,185.6693,114.8031 M185.6693,114.8031 C183.6909,116.7815,195.561,136.565,197.5394,138.5433 M197.5394,138.5433 C199.5177,140.5217,195.561,130.6299,197.5394,126.6732 M197.5394,126.6732 C199.5177,122.7165,211.3878,114.8031,209.4094,114.8031\" fill=\"none\" stroke=\"rgba(0,0,0,1)\" stroke-width=\"2\" stroke-linejoin=\"round\"/>\n",
       "<path d=\"M209.4094,150.2362 C211.3878,150.2362,211.3878,170.0197,209.4094,173.9764 M209.4094,173.9764 C207.4311,177.9331,201.4961,173.9764,197.5394,173.9764 M197.5394,173.9764 C193.5827,173.9764,183.6909,177.9331,185.6693,173.9764 M185.6693,173.9764 C187.6476,170.0197,207.4311,152.2146,209.4094,150.2362\" fill=\"none\" stroke=\"rgba(0,0,0,1)\" stroke-width=\"2\" stroke-linejoin=\"round\"/>\n",
       "<path d=\"M185.6693,197.5394 C187.6476,199.5177,207.4311,209.4094,209.4094,209.4094\" fill=\"none\" stroke=\"rgba(0,0,0,1)\" stroke-width=\"2\" stroke-linejoin=\"round\"/>\n",
       "<path d=\"M209.4094,244.8425 C211.3878,246.8209,201.4961,244.8425,197.5394,244.8425 M197.5394,244.8425 C193.5827,244.8425,187.6476,248.7992,185.6693,244.8425\" fill=\"none\" stroke=\"rgba(0,0,0,1)\" stroke-width=\"2\" stroke-linejoin=\"round\"/>\n",
       "<path d=\"M197.5394,268.4055 C197.5394,270.3839,185.6693,266.4272,185.6693,268.4055 M185.6693,268.4055 C185.6693,270.3839,193.5827,280.2756,197.5394,280.2756 M197.5394,280.2756 C201.4961,280.2756,209.4094,268.4055,209.4094,268.4055 M209.4094,268.4055 C209.4094,268.4055,199.5177,280.2756,197.5394,280.2756 M197.5394,280.2756 C195.561,280.2756,199.5177,270.3839,197.5394,268.4055 M197.5394,268.4055 C195.561,266.4272,187.6476,268.4055,185.6693,268.4055\" fill=\"none\" stroke=\"rgba(0,0,0,1)\" stroke-width=\"2\" stroke-linejoin=\"round\"/>\n",
       "<path d=\"M221.1024,32.2441 C223.0807,30.2657,230.9941,12.4606,232.9724,8.5039 M232.9724,8.5039 C234.9508,4.5472,234.9508,4.5472,232.9724,8.5039 M232.9724,8.5039 C230.9941,12.4606,219.124,32.2441,221.1024,32.2441 M221.1024,32.2441 C223.0807,32.2441,240.8858,8.5039,244.8425,8.5039\" fill=\"none\" stroke=\"rgba(0,0,0,1)\" stroke-width=\"2\" stroke-linejoin=\"round\"/>\n",
       "<path d=\"M221.1024,67.6772 C221.1024,65.6988,229.0157,45.9154,232.9724,43.937 M232.9724,43.937 C236.9291,41.9587,244.8425,51.8504,244.8425,55.8071 M244.8425,55.8071 C244.8425,59.7638,232.9724,67.6772,232.9724,67.6772 M232.9724,67.6772 C232.9724,67.6772,242.8642,55.8071,244.8425,55.8071 M244.8425,55.8071 C246.8209,55.8071,246.8209,65.6988,244.8425,67.6772 M244.8425,67.6772 C242.8642,69.6555,232.9724,67.6772,232.9724,67.6772\" fill=\"none\" stroke=\"rgba(0,0,0,1)\" stroke-width=\"2\" stroke-linejoin=\"round\"/>\n",
       "<path d=\"M221.1024,91.2402 C219.124,89.2618,229.0157,91.2402,232.9724,91.2402 M232.9724,91.2402 C236.9291,91.2402,242.8642,91.2402,244.8425,91.2402 M244.8425,91.2402 C246.8209,91.2402,246.8209,89.2618,244.8425,91.2402 M244.8425,91.2402 C242.8642,93.2185,232.9724,101.1319,232.9724,103.1102 M232.9724,103.1102 C232.9724,105.0886,244.8425,107.0669,244.8425,103.1102 M244.8425,103.1102 C244.8425,99.1535,234.9508,81.3484,232.9724,79.3701 M232.9724,79.3701 C230.9941,77.3917,230.9941,91.2402,232.9724,91.2402 M232.9724,91.2402 C234.9508,91.2402,244.8425,77.3917,244.8425,79.3701\" fill=\"none\" stroke=\"rgba(0,0,0,1)\" stroke-width=\"2\" stroke-linejoin=\"round\"/>\n",
       "<path d=\"M221.1024,126.6732 C223.0807,124.6949,240.8858,114.8031,244.8425,114.8031 M244.8425,114.8031 C248.7992,114.8031,244.8425,126.6732,244.8425,126.6732 M244.8425,126.6732 C244.8425,126.6732,244.8425,116.7815,244.8425,114.8031 M244.8425,114.8031 C244.8425,112.8248,244.8425,112.8248,244.8425,114.8031 M244.8425,114.8031 C244.8425,116.7815,248.7992,126.6732,244.8425,126.6732\" fill=\"none\" stroke=\"rgba(0,0,0,1)\" stroke-width=\"2\" stroke-linejoin=\"round\"/>\n",
       "<path d=\"M232.9724,173.9764 C230.9941,173.9764,219.124,154.1929,221.1024,150.2362 M221.1024,150.2362 C223.0807,146.2795,244.8425,146.2795,244.8425,150.2362 M244.8425,150.2362 C244.8425,154.1929,221.1024,171.998,221.1024,173.9764 M221.1024,173.9764 C221.1024,175.9547,242.8642,162.1063,244.8425,162.1063 M244.8425,162.1063 C246.8209,162.1063,232.9724,171.998,232.9724,173.9764 M232.9724,173.9764 C232.9724,175.9547,242.8642,173.9764,244.8425,173.9764 M244.8425,173.9764 C246.8209,173.9764,244.8425,175.9547,244.8425,173.9764 M244.8425,173.9764 C244.8425,171.998,248.7992,166.063,244.8425,162.1063\" fill=\"none\" stroke=\"rgba(0,0,0,1)\" stroke-width=\"2\" stroke-linejoin=\"round\"/>\n",
       "<path d=\"M221.1024,185.6693 C221.1024,183.6909,242.8642,185.6693,244.8425,185.6693 M244.8425,185.6693 C246.8209,185.6693,236.9291,181.7126,232.9724,185.6693 M232.9724,185.6693 C229.0157,189.626,223.0807,205.4528,221.1024,209.4094 M221.1024,209.4094 C219.124,213.3661,221.1024,211.3878,221.1024,209.4094 M221.1024,209.4094 C221.1024,207.4311,221.1024,199.5177,221.1024,197.5394 M221.1024,197.5394 C221.1024,195.561,219.124,195.561,221.1024,197.5394\" fill=\"none\" stroke=\"rgba(0,0,0,1)\" stroke-width=\"2\" stroke-linejoin=\"round\"/>\n",
       "<path d=\"M232.9724,244.8425 C229.0157,244.8425,221.1024,225.0591,221.1024,221.1024 M221.1024,221.1024 C221.1024,217.1457,230.9941,217.1457,232.9724,221.1024 M232.9724,221.1024 C234.9508,225.0591,230.9941,240.8858,232.9724,244.8425 M232.9724,244.8425 C234.9508,248.7992,246.8209,246.8209,244.8425,244.8425 M244.8425,244.8425 C242.8642,242.8642,225.0591,236.9291,221.1024,232.9724\" fill=\"none\" stroke=\"rgba(0,0,0,1)\" stroke-width=\"2\" stroke-linejoin=\"round\"/>\n",
       "<path d=\"M244.8425,256.5354 C248.7992,258.5138,244.8425,278.2972,244.8425,280.2756 M244.8425,280.2756 C244.8425,282.2539,248.7992,268.4055,244.8425,268.4055 M244.8425,268.4055 C240.8858,268.4055,225.0591,280.2756,221.1024,280.2756 M221.1024,280.2756 C217.1457,280.2756,217.1457,268.4055,221.1024,268.4055 M221.1024,268.4055 C225.0591,268.4055,242.8642,282.2539,244.8425,280.2756\" fill=\"none\" stroke=\"rgba(0,0,0,1)\" stroke-width=\"2\" stroke-linejoin=\"round\"/>\n",
       "<path d=\"M268.4055,32.2441 C266.4272,36.2008,256.5354,36.2008,256.5354,32.2441 M256.5354,32.2441 C256.5354,28.2874,264.4488,8.5039,268.4055,8.5039\" fill=\"none\" stroke=\"rgba(0,0,0,1)\" stroke-width=\"2\" stroke-linejoin=\"round\"/>\n",
       "<path d=\"M268.4055,43.937 C270.3839,47.8937,268.4055,63.7205,268.4055,67.6772 M268.4055,67.6772 C268.4055,71.6339,268.4055,71.6339,268.4055,67.6772\" fill=\"none\" stroke=\"rgba(0,0,0,1)\" stroke-width=\"2\" stroke-linejoin=\"round\"/>\n",
       "<path d=\"M268.4055,79.3701 C266.4272,77.3917,256.5354,79.3701,256.5354,79.3701 M256.5354,79.3701 C256.5354,79.3701,268.4055,75.4134,268.4055,79.3701 M268.4055,79.3701 C268.4055,83.3268,254.5571,99.1535,256.5354,103.1102 M256.5354,103.1102 C258.5138,107.0669,280.2756,105.0886,280.2756,103.1102\" fill=\"none\" stroke=\"rgba(0,0,0,1)\" stroke-width=\"2\" stroke-linejoin=\"round\"/>\n",
       "<path d=\"M280.2756,114.8031 C280.2756,114.8031,270.3839,122.7165,268.4055,126.6732 M268.4055,126.6732 C266.4272,130.6299,266.4272,136.565,268.4055,138.5433\" fill=\"none\" stroke=\"rgba(0,0,0,1)\" stroke-width=\"2\" stroke-linejoin=\"round\"/>\n",
       "<path d=\"M280.2756,150.2362 C278.2972,150.2362,258.5138,146.2795,256.5354,150.2362 M256.5354,150.2362 C254.5571,154.1929,266.4272,170.0197,268.4055,173.9764 M268.4055,173.9764 C270.3839,177.9331,266.4272,175.9547,268.4055,173.9764 M268.4055,173.9764 C270.3839,171.998,282.2539,164.0846,280.2756,162.1063 M280.2756,162.1063 C278.2972,160.128,256.5354,164.0846,256.5354,162.1063\" fill=\"none\" stroke=\"rgba(0,0,0,1)\" stroke-width=\"2\" stroke-linejoin=\"round\"/>\n",
       "<path d=\"M256.5354,197.5394 C256.5354,197.5394,252.5787,199.5177,256.5354,197.5394 M256.5354,197.5394 C260.4921,195.561,280.2756,185.6693,280.2756,185.6693 M280.2756,185.6693 C280.2756,185.6693,256.5354,193.5827,256.5354,197.5394 M256.5354,197.5394 C256.5354,201.4961,280.2756,211.3878,280.2756,209.4094\" fill=\"none\" stroke=\"rgba(0,0,0,1)\" stroke-width=\"2\" stroke-linejoin=\"round\"/>\n",
       "<path d=\"M280.2756,221.1024 C282.2539,223.0807,268.4055,232.9724,268.4055,232.9724 M268.4055,232.9724 C268.4055,232.9724,282.2539,221.1024,280.2756,221.1024 M280.2756,221.1024 C278.2972,221.1024,256.5354,232.9724,256.5354,232.9724 M256.5354,232.9724 C256.5354,232.9724,278.2972,221.1024,280.2756,221.1024 M280.2756,221.1024 C282.2539,221.1024,272.3622,230.9941,268.4055,232.9724 M268.4055,232.9724 C264.4488,234.9508,256.5354,230.9941,256.5354,232.9724 M256.5354,232.9724 C256.5354,234.9508,266.4272,244.8425,268.4055,244.8425\" fill=\"none\" stroke=\"rgba(0,0,0,1)\" stroke-width=\"2\" stroke-linejoin=\"round\"/>\n",
       "<path d=\"M268.4055,268.4055 C270.3839,268.4055,266.4272,280.2756,268.4055,280.2756 M268.4055,280.2756 C270.3839,280.2756,278.2972,272.3622,280.2756,268.4055 M280.2756,268.4055 C282.2539,264.4488,282.2539,256.5354,280.2756,256.5354\" fill=\"none\" stroke=\"rgba(0,0,0,1)\" stroke-width=\"2\" stroke-linejoin=\"round\"/>\n",
       "</svg>"
      ],
      "text/plain": [
       "<IPython.core.display.SVG object>"
      ]
     },
     "metadata": {},
     "output_type": "display_data"
    }
   ],
   "source": [
    "size = 100\n",
    "d = document(size, size, 'mm')\n",
    "page = d.addpage()\n",
    "figure = shape().stroke(rgba(0, 0, 0, 255)).width(2).join('round')\n",
    "grid_n = 8\n",
    "grid_size = size / grid_n\n",
    "for i in range(grid_n):\n",
    "    for j in range(grid_n):\n",
    "        char_pline = make_char()\n",
    "        char_path = char_pline.smooth_path()\n",
    "        curve = figure.path(\n",
    "            char_path.scale(grid_size*0.67).translate(3+i*grid_size, 3+j*grid_size))\n",
    "        page.place(curve)\n",
    "show(page)"
   ]
  },
  {
   "cell_type": "markdown",
   "metadata": {},
   "source": [
    "## Scribbling in a line\n",
    "\n",
    "Writing in certain alphabets proceeds in a linear direction across the page with connected letters; English cursive does this in particular. To simulate this, I wrote a function that generates a polyline with random points evenly spaced along a line horizontally, with the y-coordinate of each point set according to a random number selected from a normal distribution centered on zero."
   ]
  },
  {
   "cell_type": "code",
   "execution_count": 64,
   "metadata": {},
   "outputs": [],
   "source": [
    "def make_scribble(width, height, steps, stddev=0):\n",
    "    pts = []\n",
    "    for i in range(steps):\n",
    "        x = ((width / steps) * i) + normal(0, stddev)\n",
    "        y = normal(0, height)\n",
    "        pts.append([x, y])\n",
    "    return Polyline(pts)"
   ]
  },
  {
   "cell_type": "markdown",
   "metadata": {},
   "source": [
    "Here's what it looks like. (The green line is the original polyline; the black line is the smoothed curve.)"
   ]
  },
  {
   "cell_type": "code",
   "execution_count": 65,
   "metadata": {},
   "outputs": [
    {
     "data": {
      "image/svg+xml": [
       "<svg xmlns=\"http://www.w3.org/2000/svg\" xmlns:xlink=\"http://www.w3.org/1999/xlink\" version=\"1.1\" width=\"566.9291pt\" height=\"141.7323pt\" viewBox=\"0 0 566.9291 141.7323\">\n",
       "<title>Untitled</title>\n",
       "<path d=\"M48.7559,77.6462 C55.5591,80.6179,62.3622,76.8628,69.1654,71.4501 M69.1654,71.4501 C75.9685,66.0373,82.7717,45.1892,89.5748,45.1698 M89.5748,45.1698 C96.378,45.1504,103.1811,65.8186,109.9843,71.3336 M109.9843,71.3336 C116.7874,76.8486,123.5906,78.5114,130.3937,78.2599 M130.3937,78.2599 C137.1969,78.0085,144,67.6906,150.8031,69.8248 M150.8031,69.8248 C157.6063,71.9589,164.4094,87.5149,171.2126,91.0648 M171.2126,91.0648 C178.0157,94.6147,184.8189,94.538,191.622,91.1244 M191.622,91.1244 C198.4252,87.7108,205.2283,74.6503,212.0315,70.5831 M212.0315,70.5831 C218.8346,66.5158,225.6378,67.4692,232.4409,66.7207 M232.4409,66.7207 C239.2441,65.9722,246.0472,63.9443,252.8504,66.0922 M252.8504,66.0922 C259.6535,68.2402,266.4567,82.1548,273.2598,79.6085 M273.2598,79.6085 C280.063,77.0623,286.8661,54.8118,293.6693,50.8145 M293.6693,50.8145 C300.4724,46.8173,307.2756,49.0241,314.0787,55.6251 M314.0787,55.6251 C320.8819,62.2261,327.685,89.0531,334.4882,90.4206 M334.4882,90.4206 C341.2913,91.788,348.0945,70.1904,354.8976,63.8297 M354.8976,63.8297 C361.7008,57.4691,368.5039,51.4225,375.3071,52.2568 M375.3071,52.2568 C382.1102,53.0911,388.9134,66.6258,395.7165,68.8354 M395.7165,68.8354 C402.5197,71.045,409.3228,66.857,416.126,65.5143 M416.126,65.5143 C422.9291,64.1716,429.7323,58.8045,436.5354,60.7791 M436.5354,60.7791 C443.3386,62.7536,450.1417,79.0477,456.9449,77.3617 M456.9449,77.3617 C463.748,75.6757,470.5512,53.6196,477.3543,50.6631 M477.3543,50.6631 C484.1575,47.7066,490.9606,56.0559,497.7638,59.6228\" fill=\"none\" stroke=\"rgba(0,0,0,0.8627)\" stroke-width=\"2\" stroke-miterlimit=\"10\"/>\n",
       "<polyline points=\"28.3465 53.6201 48.7559 77.6462 69.1654 71.4501 89.5748 45.1698 109.9843 71.3336 130.3937 78.2599 150.8031 69.8248 171.2126 91.0648 191.622 91.1244 212.0315 70.5831 232.4409 66.7207 252.8504 66.0922 273.2598 79.6085 293.6693 50.8145 314.0787 55.6251 334.4882 90.4206 354.8976 63.8297 375.3071 52.2568 395.7165 68.8354 416.126 65.5143 436.5354 60.7791 456.9449 77.3617 477.3543 50.6631 497.7638 59.6228 518.1732 72.0642\" fill=\"none\" stroke=\"rgba(0,255,0,0.8627)\" stroke-width=\"2\" stroke-miterlimit=\"10\"/>\n",
       "</svg>"
      ],
      "text/plain": [
       "<IPython.core.display.SVG object>"
      ]
     },
     "metadata": {},
     "output_type": "display_data"
    }
   ],
   "source": [
    "size = 200\n",
    "d = document(200, 50, 'mm')\n",
    "page = d.addpage()\n",
    "line_figure = shape().stroke(rgba(0, 255, 0, 220)).width(2)\n",
    "curve_figure = shape().stroke(rgba(0, 0, 0, 220)).width(2)\n",
    "scribble_poly = make_scribble(width=180,\n",
    "                    height=5,\n",
    "                    steps=25,\n",
    "                    stddev=0)\n",
    "lines = line_figure.polyline(scribble_poly.translate(10, 25))\n",
    "curve = curve_figure.path(scribble_poly.smooth_path().translate(10, 25))\n",
    "page.place(curve) # comment to hide curves\n",
    "page.place(lines) # comment to hide non-smooth lines\n",
    "show(page)"
   ]
  },
  {
   "cell_type": "markdown",
   "metadata": {},
   "source": [
    "The function also has a `stddev` parameter that allows you to adjust the standard deviation of a normally-distributed random number that adjusts the spacing of each point along the x-axis. This allows for the possibility of letters looping back on themselves:"
   ]
  },
  {
   "cell_type": "code",
   "execution_count": 66,
   "metadata": {},
   "outputs": [
    {
     "data": {
      "image/svg+xml": [
       "<svg xmlns=\"http://www.w3.org/2000/svg\" xmlns:xlink=\"http://www.w3.org/1999/xlink\" version=\"1.1\" width=\"566.9291pt\" height=\"141.7323pt\" viewBox=\"0 0 566.9291 141.7323\">\n",
       "<title>Untitled</title>\n",
       "<path d=\"M32.7687,80.9715 C34.5082,89.6234,40.1571,98.4249,41.243,93.6716 M41.243,93.6716 C42.329,88.9183,38.062,59.3655,39.2844,52.4517 M39.2844,52.4517 C40.5069,45.5379,45.2323,53.9821,48.5777,52.1887 M48.5777,52.1887 C51.9231,50.3952,56.2785,36.8765,59.3568,41.691 M59.3568,41.691 C62.4351,46.5055,69.4005,78.4903,67.0476,81.0756 M67.0476,81.0756 C64.6947,83.6609,47.0477,59.2233,45.2392,57.2028 M45.2392,57.2028 C43.4307,55.1822,49.3125,69.3542,56.1965,68.9522 M56.1965,68.9522 C63.0805,68.5502,83.6677,55.7114,86.5432,54.7909 M86.5432,54.7909 C89.4186,53.8704,75.1034,57.3611,73.4492,63.4293 M73.4492,63.4293 C71.795,69.4974,75.0851,89.3499,76.6181,91.1998 M76.6181,91.1998 C78.1511,93.0496,78.7907,75.988,82.6472,74.5286 M82.6472,74.5286 C86.5037,73.0692,97.8802,81.8029,99.7571,82.4434 M99.7571,82.4434 C101.6339,83.0839,92.0494,79.4558,93.9083,78.3716 M93.9083,78.3716 C95.7672,77.2875,109.1155,78.7141,110.9104,75.9386 M110.9104,75.9386 C112.7053,73.163,102.9539,62.681,104.6777,61.7185 M104.6777,61.7185 C106.4014,60.756,119.3421,67.3494,121.253,70.1634 M121.253,70.1634 C123.1638,72.9774,116.2256,83.1841,116.1428,78.6027 M116.1428,78.6027 C116.06,74.0214,119.0144,39.9123,120.7562,42.6753 M120.7562,42.6753 C122.4981,45.4383,124.5228,88.15,126.5937,95.1808 M126.5937,95.1808 C128.6646,102.2116,132.1293,90.6945,133.1815,84.8601 M133.1815,84.8601 C134.2337,79.0257,128.024,62.4933,132.9069,60.1744 M132.9069,60.1744 C137.7898,57.8554,162.1556,74.7579,162.479,70.9466 M162.479,70.9466 C162.8025,67.1352,137.9037,34.2012,134.8476,37.3064 M134.8476,37.3064 C131.7915,40.4115,139.1754,84.1895,144.1423,89.5775 M144.1423,89.5775 C149.1092,94.9655,161.0514,71.216,164.649,69.6342 M164.649,69.6342 C168.2465,68.0524,165.8661,80.4927,165.7275,80.0867 M165.7275,80.0867 C165.5889,79.6806,160.2617,64.6829,163.8173,67.1979 M163.8173,67.1979 C167.3729,69.7129,183.0612,96.254,187.0612,95.1766 M187.0612,95.1766 C191.0611,94.0992,188.0189,67.0612,187.8171,60.7334 M187.8171,60.7334 C187.6152,54.4056,185.2458,56.4979,185.8501,57.2098 M185.8501,57.2098 C186.4544,57.9216,190.4882,64.6901,191.4429,65.0044 M191.4429,65.0044 C192.3976,65.3187,188.3785,56.6557,191.5783,59.0957 M191.5783,59.0957 C194.778,61.5357,209.2575,78.1161,210.6413,79.6444 M210.6413,79.6444 C212.0252,81.1728,199.6496,68.7161,199.8814,68.2658 M199.8814,68.2658 C200.1133,67.8154,206.4828,77.198,212.0325,76.9423 M212.0325,76.9423 C217.5822,76.6865,233.3295,64.4082,233.1798,66.7314 M233.1798,66.7314 C233.03,69.0545,211.9683,93.4828,211.1341,90.881 M211.1341,90.881 C210.2998,88.2793,224.1022,55.7741,228.1741,51.121 M228.1741,51.121 C232.2461,46.468,234.0713,60.0918,235.5657,62.9626 M235.5657,62.9626 C237.06,65.8333,236.0189,64.031,237.1401,68.3455 M237.1401,68.3455 C238.2613,72.66,241.2857,88.4319,242.2928,88.8496 M242.2928,88.8496 C243.2999,89.2673,239.8218,77.6287,243.1828,70.8518 M243.1828,70.8518 C246.5437,64.075,257.8422,50.9443,262.4584,48.1883 M262.4584,48.1883 C267.0747,45.4323,270.8538,48.0185,270.8804,54.3159 M270.8804,54.3159 C270.907,60.6133,264.4101,84.0269,262.618,85.9727 M262.618,85.9727 C260.8258,87.9185,257.2403,69.7919,260.1274,65.991 M260.1274,65.991 C263.0145,62.1901,275.2155,65.1885,279.9406,63.1673 M279.9406,63.1673 C284.6658,61.1462,286.4358,49.686,288.4785,53.8641 M288.4785,53.8641 C290.5212,58.0421,291.4817,86.8889,292.1968,88.2356 M292.1968,88.2356 C292.9118,89.5823,293.0559,64.6487,292.7687,61.9444 M292.7687,61.9444 C292.4814,59.2401,287.0686,71.798,290.4733,72.0096 M290.4733,72.0096 C293.8779,72.2212,311.7822,67.9713,313.1964,63.2142 M313.1964,63.2142 C314.6107,58.4571,298.4473,41.7338,298.9588,43.467 M298.9588,43.467 C299.4703,45.2003,314.1248,67.4187,316.2652,73.6138 M316.2652,73.6138 C318.4056,79.809,314.1852,79.8298,311.8013,80.638 M311.8013,80.638 C309.4173,81.4461,299.9287,80.3142,301.9613,78.4628 M301.9613,78.4628 C303.9939,76.6114,319.6465,67.3904,323.9968,69.5298 M323.9968,69.5298 C328.3471,71.6691,326.9947,90.2177,328.063,91.299 M328.063,91.299 C329.1313,92.3802,329.1028,78.4246,330.4068,76.0173 M330.4068,76.0173 C331.7109,73.6099,334.6013,78.573,335.8872,76.8549 M335.8872,76.8549 C337.173,75.1368,337.9672,69.9224,338.1218,65.7089 M338.1218,65.7089 C338.2764,61.4954,335.2681,47.8471,336.8149,51.5737 M336.8149,51.5737 C338.3617,55.3004,342.8255,84.1953,347.4026,88.0689 M347.4026,88.0689 C351.9797,91.9426,363.7248,73.3266,364.2775,74.8154 M364.2775,74.8154 C364.8302,76.3043,350.425,98.7632,350.7187,97.0022 M350.7187,97.0022 C351.0125,95.2412,361.4018,70.5899,366.04,64.2496 M366.04,64.2496 C370.6781,57.9093,374.7871,60.6787,378.5475,58.9604 M378.5475,58.9604 C382.3079,57.2421,387.2547,51.5951,388.6024,53.9399 M388.6024,53.9399 C389.9501,56.2847,385.8984,69.8698,386.6339,73.0291 M386.6339,73.0291 C387.3694,76.1884,392.827,74.0964,393.0154,72.8958 M393.0154,72.8958 C393.2038,71.6952,387.2329,64.9835,387.7643,65.8256 M387.7643,65.8256 C388.2957,66.6677,391.6695,77.6913,396.2037,77.9485 M396.2037,77.9485 C400.7378,78.2056,415.1509,70.5592,414.9689,67.3686 M414.9689,67.3686 C414.787,64.1779,394.3197,56.0028,395.1118,58.8047 M395.1118,58.8047 C395.904,61.6066,417.4868,86.1,419.7219,84.18 M419.7219,84.18 C421.9569,82.26,409.1264,50.343,408.5223,47.2848 M408.5223,47.2848 C407.9182,44.2267,413.7913,66.664,416.0973,65.8312 M416.0973,65.8312 C418.4033,64.9983,417.4316,44.5379,422.3585,42.2877 M422.3585,42.2877 C427.2854,40.0376,441.9727,40.501,445.6586,52.3303 M445.6586,52.3303 C449.3445,64.1595,446.056,109.2367,444.4736,113.2632 M444.4736,113.2632 C442.8913,117.2897,435.084,83.6477,436.1647,76.4893 M436.1647,76.4893 C437.2453,69.3308,448.5551,68.8618,450.9576,70.3125 M450.9576,70.3125 C453.36,71.7632,449.659,84.7694,450.5795,85.1936 M450.5795,85.1936 C451.5,85.6177,453.6702,75.3507,456.4806,72.8575 M456.4806,72.8575 C459.291,70.3643,465.9656,71.7284,467.4417,70.2344 M467.4417,70.2344 C468.9177,68.7405,463.7279,67.0287,465.337,63.8938 M465.337,63.8938 C466.9461,60.7588,474.5426,52.9418,477.0964,51.4248 M477.0964,51.4248 C479.6502,49.9079,477.827,48.5459,480.6597,54.7919 M480.6597,54.7919 C483.4924,61.0379,492.3973,88.5913,494.0926,88.9009 M494.0926,88.9009 C495.7879,89.2106,489.4311,59.3459,490.8317,56.6498 M490.8317,56.6498 C492.2322,53.9536,501.154,73.6594,502.496,72.7239 M502.496,72.7239 C503.8379,71.7883,498.5051,53.497,498.8833,51.0363 M498.8833,51.0363 C499.2616,48.5756,503.5328,56.2003,504.7655,57.9597 M504.7655,57.9597 C505.9981,59.7191,505.9723,60.7384,506.2791,61.593 M506.2791,61.593 C506.5859,62.4475,504.3831,60.4151,506.6063,63.087 M506.6063,63.087 C508.8295,65.7589,516.7747,73.2192,519.6184,77.6243 M519.6184,77.6243 C522.4621,82.0295,523.1555,89.3927,523.6685,89.5179\" fill=\"none\" stroke=\"rgba(0,0,0,0.8627)\" stroke-width=\"2\" stroke-miterlimit=\"10\"/>\n",
       "</svg>"
      ],
      "text/plain": [
       "<IPython.core.display.SVG object>"
      ]
     },
     "metadata": {},
     "output_type": "display_data"
    }
   ],
   "source": [
    "size = 200\n",
    "d = document(200, 50, 'mm')\n",
    "page = d.addpage()\n",
    "line_figure = shape().stroke(rgba(0, 255, 0, 255)).width(1)\n",
    "scribble_poly = make_scribble(width=180,\n",
    "                    height=5,\n",
    "                    steps=100,\n",
    "                    stddev=3)\n",
    "curve = curve_figure.path(scribble_poly.smooth_path().translate(10, 25))\n",
    "page.place(curve)\n",
    "show(page)"
   ]
  },
  {
   "cell_type": "markdown",
   "metadata": {},
   "source": [
    "The following example displays multiple \"lines\" of these scribbles, moving down the page, using a `for` loop:"
   ]
  },
  {
   "cell_type": "code",
   "execution_count": 67,
   "metadata": {},
   "outputs": [
    {
     "data": {
      "image/svg+xml": [
       "<svg xmlns=\"http://www.w3.org/2000/svg\" xmlns:xlink=\"http://www.w3.org/1999/xlink\" version=\"1.1\" width=\"566.9291pt\" height=\"566.9291pt\" viewBox=\"0 0 566.9291 566.9291\">\n",
       "<title>Untitled</title>\n",
       "<path d=\"M30.1778,10.3151 C32.5347,8.3301,39.9952,32.9845,42.6095,37.812 M42.6095,37.812 C45.2237,42.6394,44.5882,41.3274,45.8633,39.2799 M45.8633,39.2799 C47.1385,37.2324,48.0392,28.9969,50.2603,25.5267 M50.2603,25.5267 C52.4814,22.0566,57.2064,16.3748,59.1899,18.4587 M59.1899,18.4587 C61.1733,20.5427,60.6976,35.1315,62.1611,38.0303 M62.1611,38.0303 C63.6246,40.9291,64.9712,37.3892,67.9708,35.8514 M67.9708,35.8514 C70.9704,34.3136,77.2226,28.7608,80.1589,28.8035 M80.1589,28.8035 C83.0951,28.8462,84.015,36.2066,85.5882,36.1077 M85.5882,36.1077 C87.1615,36.0088,88.2805,30.4638,89.5985,28.2103 M89.5985,28.2103 C90.9165,25.9567,91.8637,24.2996,93.496,22.5867 M93.496,22.5867 C95.1283,20.8738,96.835,15.5619,99.3922,17.9329 M99.3922,17.9329 C101.9495,20.3039,106.1816,34.547,108.8395,36.8129 M108.8395,36.8129 C111.4974,39.0787,112.4855,30.6458,115.3398,31.5281 M115.3398,31.5281 C118.194,32.4105,123.7102,42.3405,125.9652,42.1069 M125.9652,42.1069 C128.2201,41.8734,127.1155,32.8865,128.8694,30.1268 M128.8694,30.1268 C130.6233,27.367,133.1134,23.6447,136.4885,25.5485 M136.4885,25.5485 C139.8637,27.4524,146.9252,41.0617,149.1203,41.5496 M149.1203,41.5496 C151.3154,42.0375,148.7751,31.0868,149.6591,28.476 M149.6591,28.476 C150.5431,25.8652,151.8431,26.6522,154.4241,25.8849 M154.4241,25.8849 C157.005,25.1177,162.653,21.5965,165.1448,23.8725 M165.1448,23.8725 C167.6366,26.1485,167.7045,38.0089,169.3747,39.5408 M169.3747,39.5408 C171.0449,41.0727,173.7437,34.5194,175.166,33.0638 M175.166,33.0638 C176.5883,31.6082,176.0962,32.0307,177.9083,30.8075 M177.9083,30.8075 C179.7205,29.5843,183.1083,24.509,186.039,25.7246 M186.039,25.7246 C188.9696,26.9401,193.1238,35.8858,195.4921,38.1007 M195.4921,38.1007 C197.8605,40.3156,199.0431,40.517,200.2491,39.0139 M200.2491,39.0139 C201.4552,37.5108,200.3008,28.8662,202.7285,29.0822 M202.7285,29.0822 C205.1563,29.2982,212.9122,38.7532,214.8155,40.3101 M214.8155,40.3101 C216.7189,41.8671,213.031,41.1574,214.1485,38.4241 M214.1485,38.4241 C215.2661,35.6907,219.7293,25.3532,221.5209,23.9099 M221.5209,23.9099 C223.3125,22.4666,221.4373,31.0194,224.8981,29.7641 M224.8981,29.7641 C228.3589,28.5089,239.3126,16.6494,242.2856,16.3783 M242.2856,16.3783 C245.2587,16.1073,242.1076,25.5626,242.7364,28.1378 M242.7364,28.1378 C243.3651,30.7131,244.3743,31.1529,246.0578,31.8299 M246.0578,31.8299 C247.7413,32.5069,250.2025,33.4122,252.8374,32.1998 M252.8374,32.1998 C255.4722,30.9875,259.0901,24.427,261.8668,24.5558 M261.8668,24.5558 C264.6436,24.6846,268.6097,31.9673,269.4979,32.9727 M269.4979,32.9727 C270.3861,33.9782,265.017,32.1178,267.1961,30.5885 M267.1961,30.5885 C269.3753,29.0593,279.0467,24.0657,282.5728,23.7971 M282.5728,23.7971 C286.0989,23.5286,287.3264,27.7993,288.3529,28.9773 M288.3529,28.9773 C289.3793,30.1553,288.1744,31.5901,288.7316,30.865 M288.7316,30.865 C289.2889,30.1399,288.5911,24.4727,291.6964,24.6266 M291.6964,24.6266 C294.8017,24.7806,305.4317,31.8093,307.3632,31.7886 M307.3632,31.7886 C309.2947,31.7679,301.2368,24.4157,303.2857,24.5025 M303.2857,24.5025 C305.3345,24.5893,315.7742,32.6851,319.6565,32.3095 M319.6565,32.3095 C323.5388,31.934,324.649,24.5718,326.5794,22.2492 M326.5794,22.2492 C328.5098,19.9266,328.8562,15.4814,331.239,18.3738 M331.239,18.3738 C333.6218,21.2662,338.2583,40.0746,340.8764,39.6035 M340.8764,39.6035 C343.4944,39.1324,345.2325,18.2425,346.9472,15.5473 M346.9472,15.5473 C348.6619,12.8522,349.2009,20.1508,351.1647,23.4326 M351.1647,23.4326 C353.1285,26.7145,356.6498,32.795,358.7298,35.2386 M358.7298,35.2386 C360.8098,37.6822,362.9832,38.9254,363.6446,38.0941 M363.6446,38.0941 C364.306,37.2628,361.2976,30.4026,362.698,30.251 M362.698,30.251 C364.0985,30.0994,368.8763,35.6335,372.0471,37.1845 M372.0471,37.1845 C375.2179,38.7354,378.6087,41.8397,381.723,39.5567 M381.723,39.5567 C384.8372,37.2737,387.6797,25.7437,390.7328,23.4865 M390.7328,23.4865 C393.7859,21.2294,397.9664,23.3145,400.0417,26.014 M400.0417,26.014 C402.117,28.7134,401.7864,41.8877,403.1848,39.6833 M403.1848,39.6833 C404.5832,37.4789,406.0317,12.9459,408.4321,12.7874 M408.4321,12.7874 C410.8326,12.6289,416.3577,36.7509,417.5875,38.7325 M417.5875,38.7325 C418.8173,40.714,414.6898,27.74,415.8107,24.6769 M415.8107,24.6769 C416.9317,21.6139,421.66,21.2516,424.3131,20.3543 M424.3131,20.3543 C426.9662,19.457,429.6519,18.2477,431.7293,19.2931 M431.7293,19.2931 C433.8067,20.3385,434.233,25.8425,436.7777,26.6267 M436.7777,26.6267 C439.3224,27.411,444.2681,20.3748,446.9974,23.9986 M446.9974,23.9986 C449.7267,27.6224,452.4419,47.9785,453.1537,48.3695 M453.1537,48.3695 C453.8656,48.7605,450.2162,28.4368,451.2684,26.3448 M451.2684,26.3448 C452.3207,24.2527,455.3111,37.403,459.4673,35.8171 M459.4673,35.8171 C463.6234,34.2311,473.0678,16.8426,476.2055,16.8289 M476.2055,16.8289 C479.3432,16.8152,477.0463,35.1312,478.2934,35.7348 M478.2934,35.7348 C479.5404,36.3384,481.4801,22.5168,483.6878,20.4506 M483.6878,20.4506 C485.8954,18.3844,488.415,21.2983,491.5394,23.3376 M491.5394,23.3376 C494.6639,25.377,500.9467,30.5105,502.4347,32.6868 M502.4347,32.6868 C503.9226,34.8631,499.6143,35.2176,500.4674,36.3953 M500.4674,36.3953 C501.3205,37.5731,505.3449,40.5283,507.5532,39.7536 M507.5532,39.7536 C509.7614,38.9789,510.6145,36.8405,513.717,31.747 M513.717,31.747 C516.8195,26.6535,524.3054,6.5592,526.1682,9.1927 M526.1682,9.1927 C528.0311,11.8262,524.4093,42.9908,524.894,47.5481\" fill=\"none\" stroke=\"rgba(0,0,0,1)\" stroke-width=\"2\" stroke-miterlimit=\"10\"/>\n",
       "<path d=\"M31.2878,69.3003 C32.4553,69.7298,32.4405,61.5666,32.4019,61.0538 M32.4019,61.0538 C32.3632,60.5409,29.7271,65.3328,31.056,66.2229 M31.056,66.2229 C32.3849,67.1131,39.0957,66.1087,40.3753,66.3948 M40.3753,66.3948 C41.6548,66.6809,37.4824,71.0571,38.7332,67.9395 M38.7332,67.9395 C39.984,64.822,46.5655,49.4214,47.88,47.6895 M47.88,47.6895 C49.1946,45.9576,46.3834,55.4723,46.6206,57.5483 M46.6206,57.5483 C46.8578,59.6242,48.7346,59.8271,49.3032,60.1452 M49.3032,60.1452 C49.8718,60.4633,48.6891,60.8367,50.032,59.4567 M50.032,59.4567 C51.3749,58.0767,56.6307,49.8443,57.3604,51.8653 M57.3604,51.8653 C58.0901,53.8862,53.8821,70.4936,54.41,71.5823 M54.41,71.5823 C54.9379,72.6711,57.705,61.9981,60.528,58.3978 M60.528,58.3978 C63.351,54.7976,68.7999,47.8959,71.348,49.9808 M71.348,49.9808 C73.896,52.0656,75.5596,68.4376,75.8166,70.9069 M75.8166,70.9069 C76.0735,73.3763,73.0308,66.8694,72.8895,64.7968 M72.8895,64.7968 C72.7481,62.7241,74.3789,57.1369,74.9685,58.4709 M74.9685,58.4709 C75.558,59.8049,75.3161,72.1039,76.4268,72.8009 M76.4268,72.8009 C77.5376,73.4978,79.8575,64.9234,81.6331,62.6525 M81.6331,62.6525 C83.4088,60.3816,86.2156,62.921,87.0808,59.1754 M87.0808,59.1754 C87.946,55.4298,86.2184,40.1349,86.8242,40.1789 M86.8242,40.1789 C87.4299,40.2228,89.5377,56.5148,90.7152,59.4394 M90.7152,59.4394 C91.8927,62.3639,94.1449,57.1267,93.8892,57.7263 M93.8892,57.7263 C93.6334,58.326,88.6151,64.8816,89.1805,63.0373 M89.1805,63.0373 C89.7459,61.1931,95.2789,47.7818,97.2815,46.6609 M97.2815,46.6609 C99.284,45.5401,99.5283,54.869,101.1958,56.3124 M101.1958,56.3124 C102.8632,57.7557,104.9087,56.0233,107.2862,55.321 M107.2862,55.321 C109.6637,54.6187,115.097,50.1432,115.4608,52.0984 M115.4608,52.0984 C115.8246,54.0536,109.4273,65.7509,109.469,67.0521 M109.469,67.0521 C109.5107,68.3533,114.6418,61.0552,115.7108,59.9058 M115.7108,59.9058 C116.7798,58.7563,115.4308,62.2487,115.8829,60.1552 M115.8829,60.1552 C116.335,58.0618,117.1345,50.1967,118.4233,47.3453 M118.4233,47.3453 C119.7121,44.4939,122.3081,41.2043,123.6158,43.047 M123.6158,43.047 C124.9235,44.8896,124.5841,54.2151,126.2696,58.4014 M126.2696,58.4014 C127.9552,62.5877,132.7637,67.8607,133.7292,68.1648 M133.7292,68.1648 C134.6947,68.469,133.0934,62.8045,132.0625,60.2264 M132.0625,60.2264 C131.0316,57.6483,126.4067,54.6872,127.5438,52.696 M127.5438,52.696 C128.6809,50.7049,138.0943,47.3201,138.8852,48.2794 M138.8852,48.2794 C139.6761,49.2388,131.1579,59.9827,132.2894,58.4522 M132.2894,58.4522 C133.4208,56.9218,143.6574,37.5308,145.6737,39.0969 M145.6737,39.0969 C147.69,40.6631,144.4262,63.1596,144.387,67.849 M144.387,67.849 C144.3478,72.5384,144.6881,67.8596,145.4387,67.2335 M145.4387,67.2335 C146.1893,66.6073,147.2853,64.1449,148.8908,64.0923 M148.8908,64.0923 C150.4963,64.0396,154.1579,67.7649,155.0716,66.9175 M155.0716,66.9175 C155.9854,66.07,153.7432,60.1177,154.3731,59.0076 M154.3731,59.0076 C155.003,57.8975,157.0465,60.3528,158.8509,60.2569 M158.8509,60.2569 C160.6554,60.161,164.0063,58.1766,165.1996,58.4322 M165.1996,58.4322 C166.3929,58.6877,164.2779,60.745,166.0107,61.7903 M166.0107,61.7903 C167.7435,62.8357,174.6218,67.7274,175.5965,64.7041 M175.5965,64.7041 C176.5712,61.6807,171.2863,42.7421,171.8589,43.6501 M171.8589,43.6501 C172.4315,44.558,177.5419,66.0721,179.0323,70.1519 M179.0323,70.1519 C180.5226,74.2316,180.0533,68.9682,180.8009,68.1286 M180.8009,68.1286 C181.5486,67.289,182.143,67.0787,183.5184,65.1144 M183.5184,65.1144 C184.8938,63.15,188.8798,55.9309,189.0533,56.3423 M189.0533,56.3423 C189.2269,56.7536,184.1445,68.965,184.5598,67.5825 M184.5598,67.5825 C184.975,66.1999,188.6916,50.6915,191.5448,48.047 M191.5448,48.047 C194.3979,45.4025,202.2428,48.9654,201.6786,51.7156 M201.6786,51.7156 C201.1144,54.4658,187.632,62.1402,188.1596,64.5485 M188.1596,64.5485 C188.6872,66.9567,202.6919,65.6415,204.8441,66.1651 M204.8441,66.1651 C206.9963,66.6887,200.7064,70.0097,201.0728,67.69 M201.0728,67.69 C201.4391,65.3703,205.632,53.1727,207.0421,52.2469 M207.0421,52.2469 C208.4522,51.3212,208.8014,62.8876,209.5332,62.1357 M209.5332,62.1357 C210.265,61.3837,209.927,49.1051,211.4331,47.7352 M211.4331,47.7352 C212.9391,46.3653,217.8314,53.14,218.5694,53.9164 M218.5694,53.9164 C219.3074,54.6928,216.4494,52.2756,215.861,52.3935 M215.861,52.3935 C215.2725,52.5114,213.7245,53.8981,215.0385,54.6237 M215.0385,54.6237 C216.3526,55.3494,221.5221,56.0245,223.7453,56.7472 M223.7453,56.7472 C225.9685,57.4699,226.9231,60.4366,228.378,58.9599 M228.378,58.9599 C229.8329,57.4831,231.5004,44.9721,232.4749,47.8867 M232.4749,47.8867 C233.4494,50.8014,233.0387,73.0174,234.2249,76.4476 M234.2249,76.4476 C235.4111,79.8779,238.3319,73.5272,239.592,68.4684 M239.592,68.4684 C240.8521,63.4095,241.5022,48.3106,241.7854,46.0947 M241.7854,46.0947 C242.0686,43.8787,239.6596,52.977,241.2913,55.1727 M241.2913,55.1727 C242.9229,57.3685,251.2584,58.5848,251.5755,59.2694 M251.5755,59.2694 C251.8927,59.9539,243.5972,60.3276,243.1941,59.2802 M243.1941,59.2802 C242.791,58.2328,247.7686,54.5803,249.157,52.9848 M249.157,52.9848 C250.5455,51.3894,249.7058,48.6792,251.5248,49.7072 M251.5248,49.7072 C253.3438,50.7353,258.9698,55.4739,260.0708,59.1532 M260.0708,59.1532 C261.1718,62.8326,257.3779,72.125,258.1308,71.7835 M258.1308,71.7835 C258.8837,71.442,263.4548,60.6997,264.5881,57.1043 M264.5881,57.1043 C265.7215,53.509,263.841,47.7789,264.9311,50.2114 M264.9311,50.2114 C266.0212,52.6439,269.7578,72.3345,271.1286,71.6991 M271.1286,71.6991 C272.4994,71.0637,272.8287,49.4723,273.156,46.3992 M273.156,46.3992 C273.4832,43.326,271.7779,50.3505,273.0921,53.2603 M273.0921,53.2603 C274.4064,56.1701,279.1377,60.6776,281.0416,63.858 M281.0416,63.858 C282.9456,67.0385,284.5473,72.5807,284.5159,72.3431 M284.5159,72.3431 C284.4844,72.1055,281.1638,64.7228,280.8528,62.4327 M280.8528,62.4327 C280.5418,60.1425,281.7044,58.5108,282.6498,58.602 M282.6498,58.602 C283.5952,58.6931,285.4372,61.1035,286.5251,62.9795 M286.5251,62.9795 C287.6131,64.8556,286.5341,71.2064,289.1775,69.8582 M289.1775,69.8582 C291.8208,68.51,300.6479,57.2851,302.3852,54.8902 M302.3852,54.8902 C304.1225,52.4953,299.5444,55.1574,299.6013,55.489 M299.6013,55.489 C299.6583,55.8207,301.6437,57.2057,302.727,56.8802 M302.727,56.8802 C303.8102,56.5546,304.5998,53.1589,306.1008,53.5355 M306.1008,53.5355 C307.6018,53.9121,311.051,57.0485,311.7329,59.1396 M311.7329,59.1396 C312.4148,61.2307,309.4017,66.6124,310.1922,66.082 M310.1922,66.082 C310.9826,65.5517,315.6914,57.564,316.4758,55.9575 M316.4758,55.9575 C317.2602,54.3511,315.0999,56.2057,314.8986,56.4431 M314.8986,56.4431 C314.6972,56.6805,314.074,57.2612,315.268,57.3818 M315.268,57.3818 C316.462,57.5024,321.1877,55.3909,322.0625,57.1667 M322.0625,57.1667 C322.9373,58.9424,319.3372,68.3273,320.5167,68.0362 M320.5167,68.0362 C321.6962,67.7451,327.2782,54.598,329.1396,55.4202 M329.1396,55.4202 C331.0009,56.2424,330.6743,71.5412,331.6848,72.9694 M331.6848,72.9694 C332.6954,74.3976,334.1683,64.8079,335.2027,63.9895 M335.2027,63.9895 C336.2371,63.1711,337.4616,68.3699,337.8913,68.059 M337.8913,68.059 C338.321,67.7481,337.0524,61.4938,337.7808,62.1241 M337.7808,62.1241 C338.5092,62.7545,341.3304,69.6626,342.2619,71.8412 M342.2619,71.8412 C343.1933,74.0197,342.4393,79.1198,343.3694,75.1954 M343.3694,75.1954 C344.2995,71.271,346.5744,51.7313,347.8423,48.2949 M347.8423,48.2949 C349.1102,44.8585,349.5014,51.7681,350.9768,54.5771 M350.9768,54.5771 C352.4523,57.386,355.4396,64.512,356.6948,65.1485 M356.6948,65.1485 C357.9501,65.785,357.4118,57.7889,358.5085,58.3963 M358.5085,58.3963 C359.6052,59.0037,362.5514,68.1888,363.2751,68.7929 M363.2751,68.7929 C363.9988,69.3971,362.9754,64.6573,362.8506,62.0212 M362.8506,62.0212 C362.7258,59.385,360.716,52.1996,362.5265,52.9762 M362.5265,52.9762 C364.3369,53.7527,371.3901,66.5944,373.7133,66.6805 M373.7133,66.6805 C376.0364,66.7665,377.04,55.6255,376.4653,53.4925 M376.4653,53.4925 C375.8906,51.3595,369.7588,52.1819,370.2651,53.8823 M370.2651,53.8823 C370.7714,55.5828,377.0562,61.789,379.5031,63.6955 M379.5031,63.6955 C381.95,65.602,383.6275,64.4685,384.9464,65.3214 M384.9464,65.3214 C386.2653,66.1742,386.3884,70.7439,387.4165,68.8123 M387.4165,68.8123 C388.4447,66.8807,390.8327,53.2414,391.1152,53.7318 M391.1152,53.7318 C391.3977,54.2222,388.96,69.5931,389.1117,71.7548 M389.1117,71.7548 C389.2634,73.9164,390.3961,68.7331,392.0254,66.7015 M392.0254,66.7015 C393.6546,64.6699,397.1444,62.8914,398.887,59.5654 M398.887,59.5654 C400.6297,56.2393,401.1513,44.2129,402.4815,46.7454 M402.4815,46.7454 C403.8117,49.278,406.6957,71.2556,406.8682,74.7607 M406.8682,74.7607 C407.0408,78.2658,403.0458,69.4057,403.5168,67.7761 M403.5168,67.7761 C403.9878,66.1464,408.6106,69.7679,409.6944,64.9828 M409.6944,64.9828 C410.7782,60.1977,409.3844,41.0218,410.0195,39.0655 M410.0195,39.0655 C410.6547,37.1093,411.7391,49.3535,413.5053,53.2454 M413.5053,53.2454 C415.2716,57.1373,419.3631,61.0791,420.6171,62.4169 M420.6171,62.4169 C421.8712,63.7548,419.7188,60.0466,421.0296,61.2727 M421.0296,61.2727 C422.3405,62.4988,427.3725,70.677,428.4823,69.7735 M428.4823,69.7735 C429.5921,68.87,427.01,60.0229,427.6885,55.8519 M427.6885,55.8519 C428.367,51.6808,431.7944,42.9507,432.5533,44.7472 M432.5533,44.7472 C433.3121,46.5436,430.7617,65.5776,432.2418,66.6305 M432.2418,66.6305 C433.7219,67.6833,440.839,51.3062,441.4338,51.0642 M441.4338,51.0642 C442.0287,50.8223,435.8151,62.2515,435.8109,65.1786 M435.8109,65.1786 C435.8068,68.1057,440.0392,71.5001,441.4088,68.6269 M441.4088,68.6269 C442.7784,65.7536,443.1901,50.6177,444.0285,47.9391 M444.0285,47.9391 C444.867,45.2606,445.4483,52.9357,446.4396,52.5555 M446.4396,52.5555 C447.431,52.1753,448.112,43.7257,449.9766,45.6578 M449.9766,45.6578 C451.8412,47.5899,457.1047,61.0881,457.627,64.1481 M457.627,64.1481 C458.1493,67.2082,452.3036,66.3191,453.1106,64.0179 M453.1106,64.0179 C453.9176,61.7168,460.9916,47.9369,462.4691,50.3413 M462.4691,50.3413 C463.9465,52.7456,461.4815,75.9748,461.9754,78.4442 M461.9754,78.4442 C462.4693,80.9136,464.3065,67.3751,465.4323,65.1576 M465.4323,65.1576 C466.5582,62.9401,468.6367,64.989,468.7303,65.1391 M468.7303,65.1391 C468.824,65.2893,464.7562,65.5856,465.994,66.0585 M465.994,66.0585 C467.2317,66.5314,474.0821,68.773,476.1571,67.9763 M476.1571,67.9763 C478.232,67.1795,477.7052,60.1227,478.4437,61.2782 M478.4437,61.2782 C479.1821,62.4336,480.6336,76.9631,480.5879,74.9091 M480.5879,74.9091 C480.5423,72.8551,477.0522,52.2272,478.1695,48.954 M478.1695,48.954 C479.2868,45.6807,486.0436,53.2568,487.2918,55.2696 M487.2918,55.2696 C488.5399,57.2825,485.622,60.2984,485.6587,61.0313 M485.6587,61.0313 C485.6953,61.7642,486.7854,60.1601,487.5115,59.6668 M487.5115,59.6668 C488.2377,59.1736,487.699,58.1422,490.0156,58.0718 M490.0156,58.0718 C492.3322,58.0013,500.6613,58.348,501.411,59.2442 M501.411,59.2442 C502.1607,60.1403,494.3363,64.5704,494.5139,63.4487 M494.5139,63.4487 C494.6915,62.327,501.0132,54.7443,502.4769,52.514 M502.4769,52.514 C503.9405,50.2836,502.5692,47.5561,503.2959,50.0666 M503.2959,50.0666 C504.0226,52.5771,505.4503,64.8232,506.8371,67.5771 M506.8371,67.5771 C508.2238,70.3309,509.5987,69.6977,511.6165,66.5897 M511.6165,66.5897 C513.6343,63.4817,518.9781,49.1457,518.9437,48.929 M518.9437,48.929 C518.9094,48.7123,511.1401,60.0408,511.4103,65.2897 M511.4103,65.2897 C511.6806,70.5385,518.0744,78.0229,520.5653,80.4219 M520.5653,80.4219 C523.0561,82.8209,525.1462,81.0693,526.3554,79.6835 M526.3554,79.6835 C527.5646,78.2977,527.7974,72.3349,527.8207,72.1072 M527.8207,72.1072 C527.844,71.8795,525.4729,79.8924,526.495,78.3175 M526.495,78.3175 C527.5171,76.7426,532.2406,65.4313,533.9533,62.6575\" fill=\"none\" stroke=\"rgba(0,0,0,1)\" stroke-width=\"2\" stroke-miterlimit=\"10\"/>\n",
       "<path d=\"M28.2734,88.2709 C29.664,85.2801,38.3364,92.0884,40.4651,95.036 M40.4651,95.036 C42.5937,97.9836,39.0108,106.2887,41.0451,105.9563 M41.0451,105.9563 C43.0795,105.6238,51.5231,95.2098,52.6709,93.0415 M52.6709,93.0415 C53.8187,90.8733,47.9439,90.8697,47.932,92.9468 M47.932,92.9468 C47.9201,95.0238,50.7063,104.3659,52.5995,105.5038 M52.5995,105.5038 C54.4926,106.6418,58.1852,101.4567,59.2909,99.7745 M59.2909,99.7745 C60.3966,98.0923,57.232,94.4451,59.2336,95.4109 M59.2336,95.4109 C61.2352,96.3766,68.0628,105.6852,71.3004,105.5688 M71.3004,105.5688 C74.5381,105.4524,76.7193,96.0109,78.6597,94.7124 M78.6597,94.7124 C80.6001,93.4138,82.841,96.2674,82.9426,97.7775 M82.9426,97.7775 C83.0443,99.2876,78.4999,106.2615,79.2696,103.773 M79.2696,103.773 C80.0392,101.2845,86.3125,83.9252,87.5606,82.8464 M87.5606,82.8464 C88.8088,81.7676,85.5882,95.7821,86.7587,97.3001 M86.7587,97.3001 C87.9292,98.8181,92.5322,91.8799,94.5837,91.9542 M94.5837,91.9542 C96.6351,92.0285,97.1643,97.6505,99.0674,97.7459 M99.0674,97.7459 C100.9705,97.8414,104.6001,91.6932,106.0022,92.527 M106.0022,92.527 C107.4042,93.3608,107.085,101.6002,107.4798,102.749 M107.4798,102.749 C107.8746,103.8977,107.2173,103.1212,108.3708,99.4197 M108.3708,99.4197 C109.5243,95.7183,112.3525,80.8241,114.4009,80.5405 M114.4009,80.5405 C116.4493,80.2569,118.545,95.3176,120.6612,97.7182 M120.6612,97.7182 C122.7774,100.1188,126.4677,94.8308,127.0978,94.9442 M127.0978,94.9442 C127.728,95.0576,124.4772,98.9391,124.4419,98.3988 M124.4419,98.3988 C124.4066,97.8585,124.6737,92.0801,126.8858,91.7024 M126.8858,91.7024 C129.0978,91.3246,135.7826,96.5641,137.7144,96.1322 M137.7144,96.1322 C139.6461,95.7003,138.0372,90.222,138.4763,89.1111 M138.4763,89.1111 C138.9154,88.0002,138.4947,87.0663,140.3488,89.4669 M140.3488,89.4669 C142.203,91.8675,147.1888,103.3718,149.601,103.5146 M149.601,103.5146 C152.0133,103.6574,152.9971,93.3985,154.8221,90.3238 M154.8221,90.3238 C156.6472,87.249,159.2693,84.0405,160.5514,85.0662 M160.5514,85.0662 C161.8335,86.0918,161.4515,93.2016,162.5148,96.4776 M162.5148,96.4776 C163.5781,99.7535,166.571,103.7106,166.9312,104.7219 M166.9312,104.7219 C167.2913,105.7331,162.3593,102.0811,164.6758,102.5449 M164.6758,102.5449 C166.9922,103.0087,178.3168,108.1003,180.8298,107.5048 M180.8298,107.5048 C183.3428,106.9094,178.735,102.3708,179.754,98.9724 M179.754,98.9724 C180.773,95.5741,186.0256,86.617,186.9439,87.1146 M186.9439,87.1146 C187.8621,87.6122,184.7295,102.073,185.2637,101.9579 M185.2637,101.9579 C185.7979,101.8428,188.091,85.6195,190.1491,86.4238 M190.1491,86.4238 C192.2072,87.2281,196.3188,104.2933,197.6122,106.7838 M197.6122,106.7838 C198.9057,109.2743,197.5021,103.0635,197.9099,101.3668 M197.9099,101.3668 C198.3178,99.67,197.8239,98.1395,200.0595,96.6031 M200.0595,96.6031 C202.2951,95.0667,209.2339,92.4562,211.3235,92.1483 M211.3235,92.1483 C213.4131,91.8404,210.6438,94.7562,212.5971,94.7557 M212.5971,94.7557 C214.5503,94.7553,221.2765,91.2682,223.0428,92.1457 M223.0428,92.1457 C224.8091,93.0232,222.1238,98.1608,223.1948,100.0208 M223.1948,100.0208 C224.2658,101.8809,227.4673,104.9744,229.4688,103.306 M229.4688,103.306 C231.4704,101.6375,233.4798,90.471,235.204,90.01 M235.204,90.01 C236.9283,89.549,240.9854,100.511,239.8144,100.5401 M239.8144,100.5401 C238.6434,100.5691,228.0157,91.6955,228.178,90.1844 M228.178,90.1844 C228.3404,88.6733,237.7823,89.549,240.7885,91.4733 M240.7885,91.4733 C243.7947,93.3976,244.2643,102.1012,246.2153,101.7301 M246.2153,101.7301 C248.1664,101.359,251.6684,89.9675,252.4948,89.2468 M252.4948,89.2468 C253.3212,88.526,250.5941,98.6616,251.1739,97.4055 M251.1739,97.4055 C251.7538,96.1495,252.939,84.1646,255.9741,81.7103 M255.9741,81.7103 C259.0091,79.256,267.498,80.8506,269.3844,82.6798 M269.3844,82.6798 C271.2708,84.509,266.7139,91.8001,267.2923,92.6856 M267.2923,92.6856 C267.8707,93.5711,270.6399,89.1478,272.8546,87.9928 M272.8546,87.9928 C275.0692,86.8377,278.947,85.6956,280.58,85.7553 M280.58,85.7553 C282.213,85.815,282.8708,87.0949,282.6525,88.3509 M282.6525,88.3509 C282.4342,89.6069,277.0236,87.679,279.27,93.2911 M279.27,93.2911 C281.5165,98.9033,293.801,122.393,296.1311,122.0239 M296.1311,122.0239 C298.4611,121.6548,292.8385,94.8027,293.2504,91.0764 M293.2504,91.0764 C293.6623,87.3501,297.2799,99.9492,298.6026,99.6663 M298.6026,99.6663 C299.9253,99.3834,299.7749,92.2372,301.1867,89.3791 M301.1867,89.3791 C302.5985,86.521,305.0118,80.0932,307.0735,82.5176 M307.0735,82.5176 C309.1351,84.942,311.8729,102.2919,313.5564,103.9255 M313.5564,103.9255 C315.2398,105.5591,316.5705,93.8654,317.1743,92.3191 M317.1743,92.3191 C317.7781,90.7728,316.1681,94.687,317.1792,94.6477 M317.1792,94.6477 C318.1903,94.6084,320.67,90.6521,323.2409,92.0832 M323.2409,92.0832 C325.8119,93.5143,331.09,104.007,332.605,103.2341 M332.605,103.2341 C334.12,102.4612,332.3429,87.8217,332.3309,87.4459 M332.3309,87.4459 C332.3189,87.0701,331.5068,100.4436,332.5331,100.9794 M332.5331,100.9794 C333.5594,101.5152,336.4284,88.4602,338.4886,90.6607 M338.4886,90.6607 C340.5487,92.8611,342.7437,114.4529,344.8938,114.182 M344.8938,114.182 C347.0439,113.9112,350.0157,93.2769,351.3891,89.0356 M351.3891,89.0356 C352.7624,84.7942,351.9642,88.4985,353.1339,88.7337 M353.1339,88.7337 C354.3036,88.969,356.616,90.6951,358.407,90.4471 M358.407,90.4471 C360.1981,90.199,361.5229,87.9174,363.88,87.2454 M363.88,87.2454 C366.2371,86.5734,372.2449,84.6706,372.5499,86.415 M372.5499,86.415 C372.8548,88.1594,365.678,96.7074,365.7097,97.7118 M365.7097,97.7118 C365.7415,98.7162,370.2383,93.7093,372.7403,92.4415 M372.7403,92.4415 C375.2423,91.1736,379.7514,89.3342,380.7218,90.1047 M380.7218,90.1047 C381.6921,90.8752,376.7965,99.0854,378.5626,97.0643 M378.5626,97.0643 C380.3287,95.0433,389.5819,79.4461,391.3184,77.9782 M391.3184,77.9782 C393.0549,76.5103,387.6751,84.164,388.9816,88.2572 M388.9816,88.2572 C390.288,92.3504,396.9929,102.2925,399.157,102.5372 M399.157,102.5372 C401.321,102.782,400.3039,90.0224,401.9659,89.7257 M401.9659,89.7257 C403.6279,89.4291,407.5686,99.8854,409.1291,100.7572 M409.1291,100.7572 C410.6896,101.6291,410.6923,92.7413,411.3289,94.9566 M411.3289,94.9566 C411.9654,97.1719,411.7727,115.6371,412.9487,114.0492 M412.9487,114.0492 C414.1248,112.4614,416.7672,89.3838,418.385,85.4296 M418.385,85.4296 C420.0028,81.4753,421.0598,87.8549,422.6555,90.3237 M422.6555,90.3237 C424.2512,92.7926,427.0637,100.1832,427.9592,100.2427 M427.9592,100.2427 C428.8547,100.3022,426.1074,92.4634,428.0287,90.6805 M428.0287,90.6805 C429.9499,88.8976,436.9233,88.8357,439.4868,89.5453 M439.4868,89.5453 C442.0502,90.2549,441.767,94.6758,443.4093,94.9383 M443.4093,94.9383 C445.0516,95.2008,448.1457,90.9079,449.3404,91.1202 M449.3404,91.1202 C450.535,91.3324,450.1942,97.9773,450.577,96.2119 M450.577,96.2119 C450.9598,94.4464,449.2003,78.9822,451.6371,80.5275 M451.6371,80.5275 C454.074,82.0727,464.2244,103.3654,465.198,105.4834 M465.198,105.4834 C466.1717,107.6014,457.238,95.2638,457.4792,93.2354 M457.4792,93.2354 C457.7204,91.2071,465.5487,92.6074,466.6453,93.3134 M466.6453,93.3134 C467.7419,94.0193,463.5005,96.9048,464.0588,97.4711 M464.0588,97.4711 C464.617,98.0375,467.6234,96.4501,469.9948,96.7113 M469.9948,96.7113 C472.3661,96.9724,476.4065,98.3124,478.2869,99.038 M478.2869,99.038 C480.1673,99.7636,480.5521,106.0191,481.2773,101.0647 M481.2773,101.0647 C482.0025,96.1103,482.071,69.958,482.6379,69.3115 M482.6379,69.3115 C483.2048,68.665,482.6416,94.1227,484.6785,97.1859 M484.6785,97.1859 C486.7155,100.2491,492.8609,88.9319,494.8596,87.6909 M494.8596,87.6909 C496.8582,86.4499,495.5683,85.2505,496.6705,89.7398 M496.6705,89.7398 C497.7727,94.229,499.6255,113.4081,501.4726,114.6264 M501.4726,114.6264 C503.3197,115.8446,506.3248,98.2051,507.7533,97.0492 M507.7533,97.0492 C509.1817,95.8932,509.0115,107.5641,510.0434,107.6908 M510.0434,107.6908 C511.0753,107.8176,512.5197,99.6227,513.9448,97.8097 M513.9448,97.8097 C515.3699,95.9967,516.8855,97.3888,518.5941,96.813 M518.5941,96.813 C520.3027,96.2371,522.627,95.0598,524.1963,94.3548 M524.1963,94.3548 C525.7656,93.6498,527.0455,93.9659,528.0101,92.5828\" fill=\"none\" stroke=\"rgba(0,0,0,1)\" stroke-width=\"2\" stroke-miterlimit=\"10\"/>\n",
       "<path d=\"M26.1686,120.5085 C28.0179,122.2155,40.5876,138.6451,44.4771,141.0618 M44.4771,141.0618 C48.3667,143.4785,48.7888,135.3961,49.5059,135.0088 M49.5059,135.0088 C50.223,134.6215,47.3264,141.2903,48.7797,138.7381 M48.7797,138.7381 C50.233,136.1858,54.1214,121.3677,58.2255,119.6951 M58.2255,119.6951 C62.3296,118.0225,70.5248,126.3321,73.4042,128.7027 M73.4042,128.7027 C76.2837,131.0733,73.2431,135.2544,75.5023,133.9187 M75.5023,133.9187 C77.7615,132.583,83.507,120.6522,86.9595,120.6885 M86.9595,120.6885 C90.412,120.7248,93.4679,131.34,96.2173,134.1364 M96.2173,134.1364 C98.9667,136.9327,100.562,141.2442,103.4559,137.4667 M103.4559,137.4667 C106.3498,133.6892,112.1784,114.8375,113.5805,111.4712 M113.5805,111.4712 C114.9827,108.105,109.5453,113.1896,111.8688,117.269 M111.8688,117.269 C114.1923,121.3483,123.2623,134.8866,127.5216,135.9474 M127.5216,135.9474 C131.7809,137.0081,134.8682,124.688,137.4245,123.6334 M137.4245,123.6334 C139.9807,122.5788,140.8694,128.1828,142.8589,129.6197 M142.8589,129.6197 C144.8484,131.0566,148.7894,134.7485,149.3616,132.255 M149.3616,132.255 C149.9337,129.7615,143.2523,115.9898,146.2916,114.6587 M146.2916,114.6587 C149.3309,113.3276,163.7483,120.6904,167.5976,124.2684 M167.5976,124.2684 C171.4469,127.8465,168.572,135.6176,169.3875,136.1268 M169.3875,136.1268 C170.2029,136.6361,171.1085,127.2615,172.4903,127.3239 M172.4903,127.3239 C173.8721,127.3864,175.1857,138.4626,177.6784,136.5016 M177.6784,136.5016 C180.1712,134.5407,183.3506,118.8284,187.4467,115.5584 M187.4467,115.5584 C191.5428,112.2883,199.3375,114.9314,202.2551,116.8811 M202.2551,116.8811 C205.1726,118.8308,203.5107,126.5859,204.9521,127.2566 M204.9521,127.2566 C206.3935,127.9273,211.3363,121.5953,210.9034,120.9053 M210.9034,120.9053 C210.4706,120.2153,201.9385,120.9325,202.355,123.1166 M202.355,123.1166 C202.7715,125.3007,209.2247,132.5446,213.4022,134.0101 M213.4022,134.0101 C217.5796,135.4756,223.0429,136.2962,227.4197,131.9096 M227.4197,131.9096 C231.7965,127.5231,235.3584,109.8032,239.663,107.6907 M239.663,107.6907 C243.9676,105.5781,251.624,116.6633,253.2473,119.2342 M253.2473,119.2342 C254.8706,121.805,248.9268,121.9543,249.4028,123.1157 M249.4028,123.1157 C249.8787,124.2772,252.5558,125.1889,256.103,126.2031 M256.103,126.2031 C259.6503,127.2174,267.7311,130.8109,270.6862,129.2011 M270.6862,129.2011 C273.6413,127.5912,271.8646,117.0654,273.8337,116.5442 M273.8337,116.5442 C275.8027,116.023,280.6842,125.3305,282.5003,126.0737 M282.5003,126.0737 C284.3164,126.817,282.0075,123.0936,284.7302,121.0036 M284.7302,121.0036 C287.4529,118.9135,295.5506,111.7776,298.8363,113.5336 M298.8363,113.5336 C302.122,115.2896,303.0442,129.9831,304.4445,131.5394 M304.4445,131.5394 C305.8448,133.0957,305.2161,123.3836,307.2381,122.8713 M307.2381,122.8713 C309.2602,122.3589,312.1268,128.2846,316.5768,128.4654 M316.5768,128.4654 C321.0269,128.6463,334.0179,122.0322,333.9385,123.9562 M333.9385,123.9562 C333.8591,125.8802,314.8321,140.1097,316.1006,140.0095 M316.1006,140.0095 C317.369,139.9092,336.116,124.8453,341.5493,123.3545 M341.5493,123.3545 C346.9826,121.8638,345.5708,129.9072,348.7004,131.0647 M348.7004,131.0647 C351.83,132.2223,357.0018,130.0335,360.3269,130.2996 M360.3269,130.2996 C363.6521,130.5657,366.7073,131.8924,368.6513,132.6614 M368.6513,132.6614 C370.5953,133.4304,370.5819,135.3089,371.9907,134.9136 M371.9907,134.9136 C373.3995,134.5184,374.2299,133.1211,377.1041,130.2899 M377.1041,130.2899 C379.9782,127.4588,387.1499,119.1712,389.2356,117.9267 M389.2356,117.9267 C391.3214,116.6823,386.7595,121.2276,389.6188,122.8234 M389.6188,122.8234 C392.4781,124.4193,403.7655,126.5869,406.3914,127.5019 M406.3914,127.5019 C409.0174,128.4168,403.3125,130.4225,405.3744,128.3132 M405.3744,128.3132 C407.4364,126.204,416.4071,116.5089,418.763,114.8464 M418.763,114.8464 C421.119,113.1838,417.4928,116.0667,419.5103,118.3379 M419.5103,118.3379 C421.5277,120.609,426.8278,126.3369,430.8674,128.4734 M430.8674,128.4734 C434.9071,130.6099,441.7427,132.2784,443.7483,131.157 M443.7483,131.157 C445.7538,130.0356,442.7502,122.4765,442.9008,121.7453 M442.9008,121.7453 C443.0514,121.014,440.9783,125.7019,444.652,126.7695 M444.652,126.7695 C448.3256,127.8372,461.3928,127.1291,464.9427,128.1512 M464.9427,128.1512 C468.4926,129.1733,463.1752,132.7461,465.9513,132.9023 M465.9513,132.9023 C468.7274,133.0585,478.9445,130.463,481.5991,129.0884 M481.5991,129.0884 C484.2538,127.7138,481.0181,123.8547,481.8793,124.6548 M481.8793,124.6548 C482.7405,125.455,484.3725,132.7191,486.7665,133.8891 M486.7665,133.8891 C489.1606,135.0591,495.5111,134.2363,496.2436,131.6748 M496.2436,131.6748 C496.9762,129.1133,489.9487,117.2042,491.1618,118.5202 M491.1618,118.5202 C492.375,119.8361,500.2076,136.3524,503.5226,139.5707 M503.5226,139.5707 C506.8377,142.7889,508.2501,141.9572,511.052,137.8295 M511.052,137.8295 C513.854,133.7018,517.3214,115.6245,520.3343,114.8045\" fill=\"none\" stroke=\"rgba(0,0,0,1)\" stroke-width=\"2\" stroke-miterlimit=\"10\"/>\n",
       "<path d=\"M28.9698,166.3814 C30.5097,163.2523,36.7823,161.547,37.6958,159.6672 M37.6958,159.6672 C38.6093,157.7874,35.5049,154.4507,34.4508,155.1025 M34.4508,155.1025 C33.3967,155.7543,30.3587,163.0482,31.371,163.5779 M31.371,163.5779 C32.3834,164.1077,38.9624,158.0386,40.5251,158.2808 M40.5251,158.2808 C42.0877,158.5231,40.5552,161.4286,40.7469,165.0317 M40.7469,165.0317 C40.9386,168.6348,41.1158,179.6498,41.6753,179.8994 M41.6753,179.8994 C42.2348,180.1491,42.9509,170.9738,44.1037,166.5297 M44.1037,166.5297 C45.2565,162.0857,48.3686,153.495,48.592,153.2352 M48.592,153.2352 C48.8154,152.9754,44.3128,163.4054,45.4441,164.9708 M45.4441,164.9708 C46.5755,166.5362,53.8749,162.7877,55.3802,162.6278 M55.3802,162.6278 C56.8855,162.468,54.0617,161.8147,54.4759,164.0118 M54.4759,164.0118 C54.8902,166.209,56.3575,174.5603,57.8657,175.8107 M57.8657,175.8107 C59.3738,177.061,62.0368,176.0637,63.5248,171.5139 M63.5248,171.5139 C65.0127,166.9642,67.0002,149.5145,66.7932,148.5121 M66.7932,148.5121 C66.5862,147.5098,61.1896,166.613,62.2828,165.4999 M62.2828,165.4999 C63.3759,164.3868,72.3742,144.3318,73.352,141.8336 M73.352,141.8336 C74.3299,139.3354,69.3642,147.4947,68.1499,150.5107 M68.1499,150.5107 C66.9357,153.5268,65.6478,155.3183,66.0664,159.9301 M66.0664,159.9301 C66.485,164.5419,69.7855,178.5983,70.6614,178.1816 M70.6614,178.1816 C71.5372,177.7649,70.6859,161.3753,71.3214,157.43 M71.3214,157.43 C71.957,153.4847,72.8556,154.7869,74.4747,154.51 M74.4747,154.51 C76.0939,154.233,79.6726,153.572,81.0363,155.7683 M81.0363,155.7683 C82.4001,157.9647,82.5396,169.3311,82.6572,167.688 M82.6572,167.688 C82.7748,166.0448,80.985,146.884,81.742,145.9093 M81.742,145.9093 C82.499,144.9345,86.6615,160.5927,87.199,161.8393 M87.199,161.8393 C87.7364,163.086,84.549,154.8779,84.9668,153.3893 M84.9668,153.3893 C85.3845,151.9007,88.4889,148.7426,89.7053,152.9076 M89.7053,152.9076 C90.9217,157.0726,91.3251,178.1196,92.2652,178.3793 M92.2652,178.3793 C93.2054,178.6391,95.0242,157.5759,95.3461,154.4661 M95.3461,154.4661 C95.6679,151.3563,93.0512,159.0673,94.1964,159.7206 M94.1964,159.7206 C95.3415,160.374,100.9597,156.3367,102.217,158.3862 M102.217,158.3862 C103.4742,160.4357,100.0716,169.5853,101.7399,172.0174 M101.7399,172.0174 C103.4083,174.4495,110.6813,174.3379,112.2272,172.9787 M112.2272,172.9787 C113.773,171.6195,111.972,164.0598,111.0152,163.862 M111.0152,163.862 C110.0585,163.6641,106.1698,172.678,106.4868,171.7916 M106.4868,171.7916 C106.8037,170.9052,111.8702,160.0262,112.9169,158.5434 M112.9169,158.5434 C113.9637,157.0607,112.6957,163.9525,112.7674,162.8951 M112.7674,162.8951 C112.8391,161.8378,112.7143,153.2601,113.3472,152.1991 M113.3472,152.1991 C113.9801,151.138,113.7254,154.2156,116.5647,156.5288 M116.5647,156.5288 C119.404,158.8421,129.2058,165.1561,130.3831,166.0787 M130.3831,166.0787 C131.5604,167.0014,125.3568,164.45,123.6284,162.0646 M123.6284,162.0646 C121.8999,159.6793,118.6776,153.392,120.0124,151.7664 M120.0124,151.7664 C121.3471,150.1408,130.9684,152.4015,131.6366,152.3109 M131.6366,152.3109 C132.3048,152.2203,123.5335,146.1592,124.0218,151.2227 M124.0218,151.2227 C124.5102,156.2863,133.3928,180.7595,134.5667,182.6922 M134.5667,182.6922 C135.7406,184.6249,131.0827,166.217,131.0651,162.819 M131.0651,162.819 C131.0475,159.4211,133.0214,165.1645,134.4611,162.3046 M134.4611,162.3046 C135.9008,159.4448,138.2953,145.4885,139.7032,145.6599 M139.7032,145.6599 C141.1111,145.8313,142.5625,161.5815,142.9085,163.3331 M142.9085,163.3331 C143.2545,165.0847,141.5741,154.5585,141.7791,156.1695 M141.7791,156.1695 C141.9841,157.7804,142.7837,172.3661,144.1386,172.9986 M144.1386,172.9986 C145.4935,173.6311,149.3684,160.1323,149.9084,159.9645 M149.9084,159.9645 C150.4483,159.7967,147.9061,174.5556,147.3783,171.9917 M147.3783,171.9917 C146.8506,169.4278,145.0595,147.3151,146.7418,144.5811 M146.7418,144.5811 C148.4241,141.8471,155.7809,153.5518,157.472,155.5878 M157.472,155.5878 C159.163,157.6237,156.0176,154.9758,156.8882,156.7967 M156.8882,156.7967 C157.7587,158.6177,161.1489,163.1619,162.6953,166.5137 M162.6953,166.5137 C164.2417,169.8654,165.772,178.7526,166.1665,176.9074 M166.1665,176.9074 C166.561,175.0622,164.4355,156.8653,165.0623,155.4423 M165.0623,155.4423 C165.689,154.0193,169.3639,166.2497,169.9271,168.3696 M169.9271,168.3696 C170.4902,170.4895,167.3621,166.7574,168.4411,168.1619 M168.4411,168.1619 C169.5201,169.5663,175.7179,179.0241,176.401,176.7962 M176.401,176.7962 C177.084,174.5683,172.989,157.6323,172.5393,154.7944 M172.5393,154.7944 C172.0897,151.9564,173.2343,158.0529,173.703,159.7685 M173.703,159.7685 C174.1717,161.4842,174.8148,165.6457,175.3514,165.0884 M175.3514,165.0884 C175.888,164.5311,175.6747,158.6726,176.9229,156.4249 M176.9229,156.4249 C178.171,154.1772,182.2326,151.0205,182.8405,151.6021 M182.8405,151.6021 C183.4484,152.1838,180.373,156.4069,180.5703,159.9149 M180.5703,159.9149 C180.7677,163.4229,182.0281,172.8722,184.0246,172.6501 M184.0246,172.6501 C186.0212,172.428,191.1416,159.7649,192.5496,158.5821 M192.5496,158.5821 C193.9575,157.3992,192.435,165.462,192.4724,165.5531 M192.4724,165.5531 C192.5097,165.6442,191.6786,160.7428,192.7738,159.1285 M192.7738,159.1285 C193.869,157.5142,198.1693,153.0864,199.0439,155.8674 M199.0439,155.8674 C199.9184,158.6483,197.381,174.4633,198.0213,175.8144 M198.0213,175.8144 C198.6616,177.1654,201.935,165.5649,202.8859,163.9737 M202.8859,163.9737 C203.8368,162.3825,204.4449,166.1894,203.7267,166.2671 M203.7267,166.2671 C203.0085,166.3448,198.0004,166.3341,198.5765,164.4399 M198.5765,164.4399 C199.1527,162.5458,205.7013,156.7388,207.1837,154.9022 M207.1837,154.9022 C208.666,153.0656,206.7743,149.851,207.4705,153.4202 M207.4705,153.4202 C208.1668,156.9895,210.7535,173.8065,211.3613,176.3176 M211.3613,176.3176 C211.9691,178.8286,210.7137,171.2074,211.1174,168.4868 M211.1174,168.4868 C211.5211,165.7661,212.5563,163.0385,213.7834,159.9937 M213.7834,159.9937 C215.0105,156.9488,218.1878,150.9322,218.4801,150.2176 M218.4801,150.2176 C218.7725,149.5029,215.1334,152.3311,215.5376,155.7057 M215.5376,155.7057 C215.9418,159.0803,219.1771,168.9853,220.9054,170.465 M220.9054,170.465 C222.6336,171.9448,225.1813,168.3946,225.907,164.584 M225.907,164.584 C226.6328,160.7734,225.3119,147.1638,225.2598,147.6015 M225.2598,147.6015 C225.2076,148.0392,224.6562,163.959,225.594,167.2101 M225.594,167.2101 C226.5318,170.4612,229.5784,168.0045,230.8866,167.1079 M230.8866,167.1079 C232.1948,166.2113,233.2592,163.2568,233.4431,161.8306 M233.4431,161.8306 C233.627,160.4043,231.4842,158.1921,231.99,158.5502 M231.99,158.5502 C232.4957,158.9083,234.9461,165.2898,236.4776,163.9793 M236.4776,163.9793 C238.0092,162.6688,241.19,151.5095,241.1793,150.6873 M241.1793,150.6873 C241.1686,149.8651,235.3242,156.563,236.4132,159.0461 M236.4132,159.0461 C237.5022,161.5293,247.2634,163.6249,247.7131,165.5864 M247.7131,165.5864 C248.1628,167.5479,239.4915,172.1004,239.1113,170.8151 M239.1113,170.8151 C238.7311,169.5298,243.7989,160.5996,245.4319,157.8746 M245.4319,157.8746 C247.0649,155.1495,247.019,152.6685,248.9094,154.4649 M248.9094,154.4649 C250.7999,156.2614,256.5689,169.2519,256.7746,168.6534 M256.7746,168.6534 C256.9803,168.0549,249.7607,152.4073,250.1437,150.8741 M250.1437,150.8741 C250.5267,149.3409,256.7906,154.1489,259.0726,159.4542 M259.0726,159.4542 C261.3546,164.7596,263.6927,180.787,263.8355,182.7062 M263.8355,182.7062 C263.9782,184.6254,259.4169,176.3454,259.9291,170.9693 M259.9291,170.9693 C260.4413,165.5931,264.7515,151.1028,266.9089,150.4493 M266.9089,150.4493 C269.0662,149.7958,272.4979,164.3596,272.8732,167.0482 M272.8732,167.0482 C273.2485,169.7368,269.3629,166.8588,269.1608,166.5808 M269.1608,166.5808 C268.9587,166.3029,271.3687,166.209,271.6608,165.3806 M271.6608,165.3806 C271.953,164.5521,269.7708,160.7341,270.9138,161.6099 M270.9138,161.6099 C272.0568,162.4858,277.2908,170.2922,278.5186,170.6356 M278.5186,170.6356 C279.7464,170.9791,277.8518,164.2268,278.2806,163.6707 M278.2806,163.6707 C278.7094,163.1145,279.5887,166.4878,281.0913,167.2986 M281.0913,167.2986 C282.5938,168.1094,286.5341,172.8509,287.296,168.5352 M287.296,168.5352 C288.058,164.2196,284.9932,145.5626,285.663,141.405 M285.663,141.405 C286.3327,137.2474,290.8042,139.6189,291.3143,143.5895 M291.3143,143.5895 C291.8244,147.5602,288.8134,163.2145,288.7236,165.2286 M288.7236,165.2286 C288.6337,167.2428,290.6124,154.0988,290.7754,155.6744 M290.7754,155.6744 C290.9384,157.25,288.5153,175.0098,289.7016,174.6824 M289.7016,174.6824 C290.8879,174.355,295.9536,155.2613,297.8933,153.7099 M297.8933,153.7099 C299.833,152.1584,301.0498,163.2281,301.3396,165.3737 M301.3396,165.3737 C301.6295,167.5192,299.5888,166.485,299.6323,166.5833 M299.6323,166.5833 C299.6758,166.6816,300.4114,166.7959,301.6006,165.9633 M301.6006,165.9633 C302.7897,165.1308,305.5654,164.2852,306.7672,161.588 M306.7672,161.588 C307.9689,158.8908,308.5665,148.9524,308.8111,149.7801 M308.8111,149.7801 C309.0558,150.6078,307.3027,167.1206,308.2351,166.5543 M308.2351,166.5543 C309.1675,165.9881,313.4167,149.2597,314.4054,146.3825 M314.4054,146.3825 C315.3942,143.5053,314.1105,147.8399,314.1676,149.2912 M314.1676,149.2912 C314.2246,150.7425,313.6054,151.5035,314.7478,155.0904 M314.7478,155.0904 C315.8902,158.6774,319.8803,169.4261,321.0219,170.8129 M321.0219,170.8129 C322.1635,172.1998,321.4126,164.847,321.5973,163.4115 M321.5973,163.4115 C321.782,161.976,322.0688,164.7606,322.1301,162.2 M322.1301,162.2 C322.1914,159.6394,320.0571,149.6309,321.9653,148.0478 M321.9653,148.0478 C323.8735,146.4648,332.1836,148.5417,333.5793,152.7017 M333.5793,152.7017 C334.9751,156.8618,331.2921,172.7584,330.3399,173.0081 M330.3399,173.0081 C329.3877,173.2577,327.0203,155.0775,327.8662,154.1997 M327.8662,154.1997 C328.7121,153.3218,333.1569,167.4399,335.4154,167.7412 M335.4154,167.7412 C337.6739,168.0425,340.7885,159.0455,341.4172,156.0075 M341.4172,156.0075 C342.0459,152.9694,339.2998,147.6975,339.1875,149.5131 M339.1875,149.5131 C339.0752,151.3288,339.266,163.2326,340.7432,166.9014 M340.7432,166.9014 C342.2205,170.5702,348.0881,172.6355,348.051,171.526 M348.051,171.526 C348.0138,170.4166,339.8309,162.9199,340.5203,160.2447 M340.5203,160.2447 C341.2097,157.5695,350.1437,155.8335,352.1874,155.4747 M352.1874,155.4747 C354.2312,155.116,352.6144,156.6871,352.7829,158.092 M352.7829,158.092 C352.9515,159.497,353.0134,163.5102,353.1988,163.9043 M353.1988,163.9043 C353.3841,164.2985,353.8499,159.1052,353.8951,160.4569 M353.8951,160.4569 C353.9402,161.8085,352.9251,170.0987,353.4696,172.0144 M353.4696,172.0144 C354.0142,173.9302,356.0286,171.5281,357.1625,171.9513 M357.1625,171.9513 C358.2964,172.3744,359.1984,174.0525,360.273,174.5535 M360.273,174.5535 C361.3476,175.0545,362.9878,176.0618,363.61,174.9572 M363.61,174.9572 C364.2322,173.8526,363.2893,169.3134,364.0064,167.9261 M364.0064,167.9261 C364.7235,166.5388,367.4038,166.3192,367.9126,166.6334 M367.9126,166.6334 C368.4214,166.9475,365.9174,168.6727,367.0591,169.811 M367.0591,169.811 C368.2008,170.9494,373.7763,175.3595,374.7628,173.4635 M374.7628,173.4635 C375.7492,171.5674,372.2186,160.2044,372.9778,158.4348 M372.9778,158.4348 C373.7371,156.6652,378.707,164.1824,379.3184,162.8459 M379.3184,162.8459 C379.9299,161.5094,375.8985,151.0763,376.6465,150.4157 M376.6465,150.4157 C377.3946,149.7552,383.0447,155.9015,383.8069,158.8829 M383.8069,158.8829 C384.569,161.8642,381.3222,167.92,381.2192,168.3039 M381.2192,168.3039 C381.1163,168.6879,382.4201,163.6673,383.1891,161.1868 M383.1891,161.1868 C383.958,158.7063,384.6692,155.1951,385.833,153.4208 M385.833,153.4208 C386.9967,151.6464,390.0595,150.9476,390.1715,150.5406 M390.1715,150.5406 C390.2835,150.1336,385.6909,147.8899,386.5051,150.9789 M386.5051,150.9789 C387.3193,154.0678,393.5497,167.7435,395.0568,169.0742 M395.0568,169.0742 C396.5639,170.4048,394.4108,160.7107,395.5478,158.9627 M395.5478,158.9627 C396.6849,157.2146,400.5309,156.2725,401.879,158.586 M401.879,158.586 C403.227,160.8996,403.2847,174.105,403.6361,172.8439 M403.6361,172.8439 C403.9875,171.5828,403.1648,154.298,403.9873,151.0193 M403.9873,151.0193 C404.8097,147.7407,408.1209,151.4769,408.5708,153.1719 M408.5708,153.1719 C409.0208,154.867,406.0525,158.5679,406.6869,161.1896 M406.6869,161.1896 C407.3212,163.8113,412.0439,166.5163,412.377,168.902 M412.377,168.902 C412.71,171.2878,407.4347,179.2778,408.6853,175.5041 M408.6853,175.5041 C409.9358,171.7305,418.4337,147.971,419.8803,146.2603 M419.8803,146.2603 C421.3269,144.5497,417.1745,162.1192,417.365,165.2403 M417.365,165.2403 C417.5556,168.3614,421.1348,165.9027,421.0237,164.9868 M421.0237,164.9868 C420.9127,164.071,415.4474,161.1543,416.6987,159.7452 M416.6987,159.7452 C417.95,158.3362,426.5794,155.7044,428.5315,156.5323 M428.5315,156.5323 C430.4835,157.3603,429.0786,164.7587,428.4108,164.713 M428.4108,164.713 C427.7429,164.6673,424.7847,155.3642,424.5243,156.2582 M424.5243,156.2582 C424.2639,157.1523,425.3973,167.6442,426.8483,170.0773 M426.8483,170.0773 C428.2992,172.5104,431.8922,170.945,433.2298,170.857 M433.2298,170.857 C434.5674,170.769,435.1587,169.7631,434.8739,169.5492 M434.8739,169.5492 C434.5892,169.3354,431.641,172.1972,431.5215,169.5739 M431.5215,169.5739 C431.402,166.9505,431.9808,152.2837,434.157,153.8091 M434.157,153.8091 C436.3332,155.3346,442.9694,176.8762,444.5787,178.7265 M444.5787,178.7265 C446.188,180.5769,443.9167,168.1168,443.8131,164.9112 M443.8131,164.9112 C443.7094,161.7055,443.4143,160.6243,443.9568,159.4924 M443.9568,159.4924 C444.4993,158.3606,445.5135,156.0132,447.068,158.1198 M447.068,158.1198 C448.6226,160.2265,452.923,172.3834,453.284,172.1323 M453.284,172.1323 C453.645,171.8811,448.3571,156.5367,449.2338,156.6128 M449.2338,156.6128 C450.1105,156.6889,457.6754,174.365,458.5441,172.5887 M458.5441,172.5887 C459.4129,170.8125,454.687,151.0192,454.4461,145.9552 M454.4461,145.9552 C454.2052,140.8912,455.8425,141.5545,457.0989,142.2048 M457.0989,142.2048 C458.3553,142.855,461.2097,146.1928,461.9845,149.8567 M461.9845,149.8567 C462.7594,153.5206,460.8092,163.7032,461.7478,164.1881 M461.7478,164.1881 C462.6864,164.6731,466.2179,153.0494,467.6161,152.7667 M467.6161,152.7667 C469.0143,152.4839,469.8166,160.4598,470.1372,162.4917 M470.1372,162.4917 C470.4578,164.5237,468.5629,165.4715,469.5397,164.9586 M469.5397,164.9586 C470.5166,164.4457,475.0321,163.3796,475.9983,159.4144 M475.9983,159.4144 C476.9645,155.4491,475.0382,140.4444,475.3369,141.167 M475.3369,141.167 C475.6355,141.8896,476.725,161.1185,477.79,163.7499 M477.79,163.7499 C478.855,166.3813,481.3916,156.5309,481.7267,156.9554 M481.7267,156.9554 C482.0618,157.3799,479.5635,166.6675,479.8007,166.2969 M479.8007,166.2969 C480.038,165.9263,482.2284,153.6005,483.1501,154.7318 M483.1501,154.7318 C484.0718,155.8632,485.1145,171.3667,485.3309,173.0853 M485.3309,173.0853 C485.5473,174.8038,483.8339,164.7577,484.4485,165.043 M484.4485,165.043 C485.0631,165.3283,487.6229,174.0908,489.0185,174.7973 M489.0185,174.7973 C490.4141,175.5037,491.9791,172.0825,492.8221,169.2818 M492.8221,169.2818 C493.6652,166.481,493.4218,162.4904,494.0769,157.9927 M494.0769,157.9927 C494.732,153.495,496.1524,142.3116,496.753,142.2957 M496.753,142.2957 C497.3536,142.2798,496.6995,156.3,497.6803,157.8972 M497.6803,157.8972 C498.6611,159.4944,501.8619,149.9575,502.6377,151.879 M502.6377,151.879 C503.4135,153.8004,501.9471,166.3172,502.335,169.4258 M502.335,169.4258 C502.7229,172.5344,503.1181,175.6231,504.9652,170.5306 M504.9652,170.5306 C506.8123,165.438,511.8838,141.9802,513.4176,138.8707 M513.4176,138.8707 C514.9513,135.7611,514.5466,148.0034,514.1678,151.8731 M514.1678,151.8731 C513.7889,155.7429,510.7157,159.8627,511.1442,162.089 M511.1442,162.089 C511.5727,164.3152,515.8006,164.504,516.7387,165.2308 M516.7387,165.2308 C517.6768,165.9575,516.4838,164.8324,516.7727,166.4497 M516.7727,166.4497 C517.0615,168.067,517.7639,176.3764,518.4717,174.9347 M518.4717,174.9347 C519.1795,173.4929,519.0585,159.2237,521.0193,157.7993 M521.0193,157.7993 C522.9801,156.3749,529.6006,167.8003,530.2364,166.3881 M530.2364,166.3881 C530.8723,164.9758,524.7302,152.0834,524.8344,149.3258 M524.8344,149.3258 C524.9386,146.5683,529.867,150.3743,530.8615,149.8425 M530.8615,149.8425 C531.8561,149.3108,529.877,143.2539,530.8017,146.1353 M530.8017,146.1353 C531.7263,149.0168,535.583,162.3146,536.4095,167.1311\" fill=\"none\" stroke=\"rgba(0,0,0,1)\" stroke-width=\"2\" stroke-miterlimit=\"10\"/>\n",
       "<path d=\"M29.9329,193.9747 C30.1771,197.3972,34.4453,218.4305,35.4188,217.5106 M35.4188,217.5106 C36.3923,216.5906,35.0626,195.4705,35.774,188.4551 M35.774,188.4551 C36.4854,181.4398,38.7907,174.3885,39.6873,175.4183 M39.6873,175.4183 C40.5839,176.4481,40.4139,191.1742,41.1534,194.6338 M41.1534,194.6338 C41.8929,198.0935,42.3982,197.1199,44.1245,196.1761 M44.1245,196.1761 C45.8508,195.2323,50.8909,186.8109,51.5114,188.971 M51.5114,188.971 C52.1318,191.1312,48.9019,209.6893,47.847,209.1371 M47.847,209.1371 C46.7921,208.5849,44.2362,187.4278,45.182,185.6578 M45.182,185.6578 C46.1278,183.8878,51.6847,197.9691,53.5218,198.5172 M53.5218,198.5172 C55.3589,199.0653,54.9741,189.085,56.2045,188.9466 M56.2045,188.9466 C57.4348,188.8082,60.8053,196.2922,60.904,197.6868 M60.904,197.6868 C61.0028,199.0814,55.4574,198.9427,56.7972,197.3141 M56.7972,197.3141 C58.1369,195.6856,68.5914,187.0409,68.9426,187.9154 M68.9426,187.9154 C69.2938,188.7898,60.0113,200.2294,58.9044,202.5607 M58.9044,202.5607 C57.7976,204.8919,59.7858,201.6245,62.3017,201.9028 M62.3017,201.9028 C64.8176,202.1811,72.8709,205.7368,73.9996,204.2306 M73.9996,204.2306 C75.1283,202.7243,69.3452,196.0292,69.0739,192.8653 M69.0739,192.8653 C68.8027,189.7015,70.3539,186.4944,72.3722,185.2474 M72.3722,185.2474 C74.3904,184.0004,81.8445,183.2753,81.1833,185.3832 M81.1833,185.3832 C80.5221,187.4911,68.5918,193.8518,68.4049,197.8947 M68.4049,197.8947 C68.218,201.9376,77.1403,211.2172,80.0618,209.6404 M80.0618,209.6404 C82.9834,208.0637,84.2816,190.4557,85.9339,188.4344 M85.9339,188.4344 C87.5862,186.4131,90.5645,195.0784,89.9755,197.5127 M89.9755,197.5127 C89.3865,199.947,82.5822,202.0441,82.3998,203.04 M82.3998,203.04 C82.2174,204.0358,87.5195,204.1369,88.881,203.4877 M88.881,203.4877 C90.2425,202.8386,89.5304,197.9129,90.569,199.1451 M90.569,199.1451 C91.6076,200.3773,94.5236,209.5002,95.1126,210.8809 M95.1126,210.8809 C95.7016,212.2617,94.5057,210.4626,94.103,207.4298 M94.103,207.4298 C93.7002,204.397,92.5921,195.6566,92.6961,192.6841 M92.6961,192.6841 C92.8002,189.7115,92.586,187.2945,94.7274,189.5945 M94.7274,189.5945 C96.8689,191.8944,104.7189,206.8741,105.5449,206.4836 M105.5449,206.4836 C106.3709,206.0932,99.0761,189.5979,99.6835,187.2516 M99.6835,187.2516 C100.2908,184.9054,107.9683,189.4002,109.189,192.4062 M109.189,192.4062 C110.4096,195.4123,105.772,204.7316,107.0075,205.288 M107.0075,205.288 C108.243,205.8444,115.1228,198.8101,116.6018,195.7445 M116.6018,195.7445 C118.0808,192.6789,116.1982,187.6004,115.8814,186.8945 M115.8814,186.8945 C115.5647,186.1885,114.1653,189.9724,114.7014,191.5088 M114.7014,191.5088 C115.2374,193.0452,118.0943,194.1637,119.0979,196.1129 M119.0979,196.1129 C120.1015,198.0622,119.9115,203.7202,120.7231,203.2045 M120.7231,203.2045 C121.5347,202.6888,122.2138,195.0578,123.9676,193.0189 M123.9676,193.0189 C125.7214,190.9801,129.6765,192.3568,131.2457,190.9713 M131.2457,190.9713 C132.8149,189.5859,132.1092,184.7877,133.383,184.7062 M133.383,184.7062 C134.6569,184.6246,138.146,191.0102,138.8888,190.4821 M138.8888,190.4821 C139.6316,189.954,138.9238,183.6231,137.8398,181.5375 M137.8398,181.5375 C136.7559,179.452,133.0682,176.0443,132.3852,177.9688 M132.3852,177.9688 C131.7021,179.8932,131.5203,189.7919,133.7417,193.0841 M133.7417,193.0841 C135.9631,196.3763,144.4387,197.9427,145.7134,197.7221 M145.7134,197.7221 C146.9881,197.5015,140.2037,190.8856,141.3898,191.7607 M141.3898,191.7607 C142.5759,192.6358,152.1649,204.4791,152.8299,202.9726 M152.8299,202.9726 C153.4948,201.4661,145.1802,186.9375,145.3795,182.7216 M145.3795,182.7216 C145.5787,178.5057,153.1142,175.1428,154.0252,177.677 M154.0252,177.677 C154.9363,180.2113,150.0795,196.0002,150.846,197.9271 M150.846,197.9271 C151.6124,199.8539,157.2328,189.2133,158.6242,189.238 M158.6242,189.238 C160.0156,189.2626,157.1721,196.2627,159.1944,198.0747 M159.1944,198.0747 C161.2167,199.8867,170.2053,197.6827,170.7578,200.1101 M170.7578,200.1101 C171.3104,202.5376,164.1577,214.9413,162.5098,212.6394 M162.5098,212.6394 C160.8619,210.3376,159.8977,190.3364,160.8704,186.2989 M160.8704,186.2989 C161.8431,182.2614,166.1049,187.1913,168.3458,188.4143 M168.3458,188.4143 C170.5868,189.6374,174.0539,189.1129,174.3161,193.6373 M174.3161,193.6373 C174.5783,198.1616,169.5872,215.9031,169.9192,215.5604 M169.9192,215.5604 C170.2511,215.2177,175.0216,193.35,176.308,191.5811 M176.308,191.5811 C177.5944,189.8122,176.3168,205.2035,177.6376,204.9471 M177.6376,204.9471 C178.9584,204.6907,184.4435,190.5816,184.2326,190.043 M184.2326,190.043 C184.0217,189.5044,175.5619,199.9176,176.3723,201.7155 M176.3723,201.7155 C177.1827,203.5135,186.967,201.2803,189.0949,200.8305 M189.0949,200.8305 C191.2228,200.3808,189.1827,199.6524,189.1395,199.0169 M189.1395,199.0169 C189.0962,198.3814,188.0509,198.5576,188.8354,197.0175 M188.8354,197.0175 C189.6199,195.4774,191.4508,189.2519,193.8466,189.7762 M193.8466,189.7762 C196.2424,190.3005,203.1922,200.6169,203.2103,200.1634 M203.2103,200.1634 C203.2283,199.7099,194.7876,188.0867,193.9549,187.055 M193.9549,187.055 C193.1221,186.0233,196.0914,193.6121,198.2137,193.9732 M198.2137,193.9732 C200.336,194.3343,205.3066,188.8834,206.6887,189.2216 M206.6887,189.2216 C208.0708,189.5598,206.8096,195.5923,206.5061,196.0024 M206.5061,196.0024 C206.2026,196.4124,205.3332,191.932,204.8678,191.682 M204.8678,191.682 C204.4024,191.432,202.869,193.655,203.7137,194.5023 M203.7137,194.5023 C204.5585,195.3496,209.3327,197.6059,209.9361,196.7657 M209.9361,196.7657 C210.5395,195.9254,205.8643,189.5915,207.3342,189.4608 M207.3342,189.4608 C208.8041,189.3302,216.3651,194.424,218.7553,195.9817 M218.7553,195.9817 C221.1455,197.5394,222.1897,199.4384,221.6756,198.8068 M221.6756,198.8068 C221.1615,198.1752,215.4101,193.9003,215.6706,192.1919 M215.6706,192.1919 C215.9312,190.4836,221.6367,187.7582,223.2386,188.5565 M223.2386,188.5565 C224.8405,189.3548,224.6709,195.5933,225.282,196.9816 M225.282,196.9816 C225.8931,198.3699,226.0703,195.4194,226.9054,196.8862 M226.9054,196.8862 C227.7405,198.3529,229.1838,206.6549,230.2926,205.7821 M230.2926,205.7821 C231.4015,204.9094,233.6685,193.3893,233.5586,191.6496 M233.5586,191.6496 C233.4487,189.9099,229.2404,191.4154,229.6334,195.3439 M229.6334,195.3439 C230.0263,199.2724,233.1634,214.9033,235.9163,215.2206 M235.9163,215.2206 C238.6692,215.5379,244.7774,201.3209,246.1505,197.2476 M246.1505,197.2476 C247.5236,193.1743,244.6085,191.453,244.155,190.7807 M244.155,190.7807 C243.7015,190.1084,243.1583,193.904,243.4295,193.2138 M243.4295,193.2138 C243.7007,192.5237,245.9324,187.0295,245.7823,186.6398 M245.7823,186.6398 C245.6323,186.25,242.2811,189.7025,242.5293,190.8754 M242.5293,190.8754 C242.7775,192.0483,244.7648,190.8789,247.2716,193.6773 M247.2716,193.6773 C249.7784,196.4757,255.3838,207.3148,257.57,207.6655 M257.57,207.6655 C259.7563,208.0163,261.5864,198.557,260.3893,195.7817 M260.3893,195.7817 C259.1922,193.0064,251.1393,192.9544,250.3874,191.0135 M250.3874,191.0135 C249.6355,189.0726,254.3355,182.8916,255.878,184.1363 M255.878,184.1363 C257.4204,185.3811,258.8461,198.5058,259.6422,198.4819 M259.6422,198.4819 C260.4384,198.458,260.0783,183.4741,260.6549,183.993 M260.6549,183.993 C261.2316,184.5118,261.5644,200.964,263.1019,201.5952 M263.1019,201.5952 C264.6394,202.2264,268.2512,189.5182,269.8799,187.7802 M269.8799,187.7802 C271.5086,186.0421,271.9346,189.3952,272.874,191.1669 M272.874,191.1669 C273.8134,192.9386,274.7031,198.1301,275.5163,198.4104 M275.5163,198.4104 C276.3295,198.6908,276.5686,193.4607,277.7532,192.8488 M277.7532,192.8488 C278.9378,192.2369,280.3971,193.6455,282.624,194.739 M282.624,194.739 C284.8509,195.8326,290.6874,201.5633,291.1146,199.41 M291.1146,199.41 C291.5419,197.2568,286.7274,180.9612,285.1874,181.8196 M285.1874,181.8196 C283.6475,182.678,280.4081,203.3281,281.8751,204.5606 M281.8751,204.5606 C283.3421,205.793,293.1092,190.3094,293.9896,189.2143 M293.9896,189.2143 C294.8699,188.1192,285.6252,196.0935,287.157,197.9901 M287.157,197.9901 C288.6888,199.8867,302.9619,202.5021,303.1802,200.5939 M303.1802,200.5939 C303.3985,198.6858,289.4984,189.021,288.4667,186.5412 M288.4667,186.5412 C287.4351,184.0614,294.4579,182.6606,296.9902,185.7151 M296.9902,185.7151 C299.5224,188.7696,301.9588,202.9354,303.6603,204.8681 M303.6603,204.8681 C305.3618,206.8008,304.7814,198.7437,307.199,197.3114 M307.199,197.3114 C309.6165,195.879,317.1853,195.5907,318.1656,196.2741 M318.1656,196.2741 C319.1459,196.9574,314.4747,201.4893,313.0808,201.4114 M313.0808,201.4114 C311.687,201.3336,308.7643,197.5765,309.8024,195.8069 M309.8024,195.8069 C310.8406,194.0374,317.8554,188.9425,319.31,190.7942 M319.31,190.7942 C320.7646,192.6458,319.0856,205.1823,318.5302,206.9168 M318.5302,206.9168 C317.9747,208.6513,315.4227,203.5726,315.9774,201.2011 M315.9774,201.2011 C316.5322,198.8296,322.2127,193.7443,321.8587,192.6877 M321.8587,192.6877 C321.5046,191.631,314.4018,194.4236,313.8532,194.8612 M313.8532,194.8612 C313.3046,195.2988,315.4278,195.2725,318.567,195.3133 M318.567,195.3133 C321.7062,195.3541,329.9602,193.2861,332.6884,195.1061 M332.6884,195.1061 C335.4167,196.9261,334.2963,206.2584,334.9367,206.2334 M334.9367,206.2334 C335.577,206.2084,335.9581,196.1011,336.5306,194.9561 M336.5306,194.9561 C337.103,193.811,337.4245,198.265,338.3713,199.3631 M338.3713,199.3631 C339.3182,200.4611,342.4663,203.8613,342.2118,201.5441 M342.2118,201.5441 C341.9573,199.227,336.777,188.3529,336.8446,185.4599 M336.8446,185.4599 C336.9122,182.5669,341.6653,182.7822,342.6175,184.1861 M342.6175,184.1861 C343.5698,185.59,343.1109,192.9801,342.5581,193.8833 M342.5581,193.8833 C342.0053,194.7865,338.8858,187.986,339.3009,189.6053 M339.3009,189.6053 C339.716,191.2246,344.0347,203.9674,345.0488,203.5992 M345.0488,203.5992 C346.0629,203.2311,345.3481,188.6811,345.3854,187.3962 M345.3854,187.3962 C345.4227,186.1114,342.6202,194.7042,345.2726,195.8901 M345.2726,195.8901 C347.925,197.0761,358.6577,191.6924,361.2999,194.512 M361.2999,194.512 C363.9421,197.3316,361.0839,212.3824,361.1256,212.8078 M361.1256,212.8078 C361.1673,213.2332,362.5422,198.2772,361.5502,197.0642 M361.5502,197.0642 C360.5581,195.8512,356.5595,209.0107,355.1733,205.5299 M355.1733,205.5299 C353.7872,202.0491,350.4453,180.0404,353.2334,176.1794 M353.2334,176.1794 C356.0215,172.3185,369.2143,178.5985,371.9019,182.3641 M371.9019,182.3641 C374.5895,186.1297,369.3058,197.3859,369.3588,198.773 M369.3588,198.773 C369.4118,200.1601,371.128,193.2847,372.2199,190.6867 M372.2199,190.6867 C373.3117,188.0886,374.8634,182.9415,375.91,183.1846 M375.91,183.1846 C376.9566,183.4278,379.1484,190.872,378.4993,192.1454 M378.4993,192.1454 C377.8503,193.4188,372.0753,190.6819,372.0157,190.8251 M372.0157,190.8251 C371.9561,190.9684,375.9557,192.9129,378.1418,193.0048 M378.1418,193.0048 C380.328,193.0966,382.6745,189.6952,385.1327,191.3762 M385.1327,191.3762 C387.5909,193.0571,391.5406,205.2838,392.891,203.0905 M392.891,203.0905 C394.2415,200.8971,393.0924,179.4831,393.2353,178.216 M393.2353,178.216 C393.3781,176.9489,394.256,192.5661,393.7482,195.4879 M393.7482,195.4879 C393.2405,198.4097,389.6097,196.3543,390.1886,195.7468 M390.1886,195.7468 C390.7674,195.1392,394.8023,192.92,397.2213,191.8426 M397.2213,191.8426 C399.6403,190.7653,403.9195,189.9965,404.7026,189.2826 M404.7026,189.2826 C405.4858,188.5688,400.7641,186.3251,401.9202,187.5598 M401.9202,187.5598 C403.0763,188.7945,411.5601,195.395,411.6393,196.6909 M411.6393,196.6909 C411.7185,197.9868,402.53,193.7224,402.3954,195.3352 M402.3954,195.3352 C402.2609,196.9479,407.6953,206.4303,410.8319,206.3675 M410.8319,206.3675 C413.9685,206.3046,421.2481,198.976,421.2149,194.958 M421.2149,194.958 C421.1817,190.9401,409.8692,181.8522,410.6327,182.2597 M410.6327,182.2597 C411.3963,182.6673,424.741,193.3642,425.7963,197.4033 M425.7963,197.4033 C426.8516,201.4424,418.1828,206.0829,416.9646,206.4945 M416.9646,206.4945 C415.7464,206.9061,417.4691,201.357,418.4871,199.8728 M418.4871,199.8728 C419.5051,198.3885,422.089,195.4638,423.0728,197.5887 M423.0728,197.5887 C424.0567,199.7137,422.8957,211.1242,424.3904,212.6226 M424.3904,212.6226 C425.885,214.1209,430.8271,207.6006,432.0407,206.5788 M432.0407,206.5788 C433.2543,205.5571,431.949,207.8344,431.6717,206.492 M431.6717,206.492 C431.3945,205.1496,431.2133,201.3653,430.377,198.5244 M430.377,198.5244 C429.5407,195.6834,426.7361,189.3451,426.6538,189.4464 M426.6538,189.4464 C426.5715,189.5477,428.0234,195.7347,429.8832,199.1323 M429.8832,199.1323 C431.7431,202.53,436.0297,212.147,437.8128,209.8324 M437.8128,209.8324 C439.5959,207.5178,441.1454,187.2224,440.5817,185.2446 M440.5817,185.2446 C440.018,183.2669,433.698,192.9781,434.4305,197.9659 M434.4305,197.9659 C435.1631,202.9537,443.616,216.3991,444.977,215.1713 M444.977,215.1713 C446.338,213.9434,441.5436,196.6855,442.5967,190.5987 M442.5967,190.5987 C443.6497,184.5119,448.4104,177.2672,451.2955,178.6505 M451.2955,178.6505 C454.1806,180.0339,459.8843,196.7603,459.9071,198.8988 M459.9071,198.8988 C459.9299,201.0373,452.9215,195.2457,451.4322,191.4816 M451.4322,191.4816 C449.9429,187.7175,449.9782,176.864,450.9715,176.3142 M450.9715,176.3142 C451.9647,175.7644,455.0439,186.3256,457.3918,188.1829 M457.3918,188.1829 C459.7397,190.0402,463.6771,185.8289,465.0589,187.4581 M465.0589,187.4581 C466.4406,189.0872,465.6433,197.7918,465.6823,197.9579 M465.6823,197.9579 C465.7214,198.124,463.8103,189.0094,465.2932,188.4545 M465.2932,188.4545 C466.776,187.8997,473.7156,193.7731,474.5794,194.6288 M474.5794,194.6288 C475.4433,195.4844,471.991,195.4498,470.4763,193.5882 M470.4763,193.5882 C468.9616,191.7266,464.4754,184.2379,465.4914,183.4593 M465.4914,183.4593 C466.5074,182.6808,474.0457,186.6996,476.5724,188.9169 M476.5724,188.9169 C479.099,191.1341,478.8968,193.4223,480.6515,196.7629 M480.6515,196.7629 C482.4063,200.1034,487.5067,207.1899,487.1008,208.9603 M487.1008,208.9603 C486.695,210.7307,477.4287,208.3194,478.2163,207.3853 M478.2163,207.3853 C479.004,206.4511,489.7666,204.2813,491.8269,203.3555 M491.8269,203.3555 C493.8871,202.4297,490.1608,201.5943,490.5776,201.8306 M490.5776,201.8306 C490.9945,202.0668,493.5747,206.6602,494.3279,204.7729 M494.3279,204.7729 C495.0812,202.8855,495.7925,191.466,495.097,190.5064 M495.097,190.5064 C494.4015,189.5468,490.0118,199.76,490.1551,199.0155 M490.1551,199.0155 C490.2984,198.2709,494.65,187.9603,495.9568,186.0391 M495.9568,186.0391 C497.2635,184.118,494.9595,185.072,497.9955,187.4886 M497.9955,187.4886 C501.0315,189.9053,512.9847,197.8226,514.1729,200.539 M514.1729,200.539 C515.3611,203.2553,506.095,202.5925,505.1247,203.7868 M505.1247,203.7868 C504.1545,204.9812,506.509,207.5934,508.3513,207.7053 M508.3513,207.7053 C510.1936,207.8171,515.0577,206.0217,516.1784,204.458 M516.1784,204.458 C517.299,202.8944,515.1187,198.8002,515.0752,198.3235 M515.0752,198.3235 C515.0318,197.8468,515.7375,201.6808,515.9176,201.5978 M515.9176,201.5978 C516.0977,201.5148,515.6282,198.1559,516.1558,197.8254 M516.1558,197.8254 C516.6835,197.495,518.7008,199.8628,519.0836,199.6151 M519.0836,199.6151 C519.4664,199.3673,516.6314,200.6232,518.4527,196.3391 M518.4527,196.3391 C520.2739,192.0549,528.3224,173.9015,530.011,173.9099 M530.011,173.9099 C531.6996,173.9183,528.8299,194.4981,528.5844,196.3893 M528.5844,196.3893 C528.3389,198.2804,528.5692,186.2009,528.5379,185.257 M528.5379,185.257 C528.5066,184.3131,527.3267,188.0436,528.3966,190.7257 M528.3966,190.7257 C529.4664,193.4078,534.8565,200.533,534.957,201.3495\" fill=\"none\" stroke=\"rgba(0,0,0,1)\" stroke-width=\"2\" stroke-miterlimit=\"10\"/>\n",
       "<path d=\"M45.9284,222.5413 C49.5514,223.3306,46.6389,219.9207,48.6938,220.4716 M48.6938,220.4716 C50.7488,221.0225,55.352,225.0832,58.2581,225.8467 M58.2581,225.8467 C61.1642,226.6101,62.1926,224.8693,66.1302,225.0523 M66.1302,225.0523 C70.0679,225.2354,78.0132,225.8338,81.8841,226.9448 M81.8841,226.9448 C85.7551,228.0558,85.856,230.3807,89.356,231.7183 M89.356,231.7183 C92.8559,233.0558,98.3586,236.0052,102.8836,234.9702 M102.8836,234.9702 C107.4087,233.9353,112.6095,227.4798,116.506,225.5085 M116.506,225.5085 C120.4025,223.5373,123.7189,225.3261,126.2627,223.1427 M126.2627,223.1427 C128.8064,220.9594,129.1226,211.0212,131.7687,212.4083 M131.7687,212.4083 C134.4148,213.7954,139.1702,229.2956,142.1391,231.4655 M142.1391,231.4655 C145.108,233.6354,145.781,226.3039,149.5821,225.4277 M149.5821,225.4277 C153.3831,224.5515,161.7037,223.8405,164.9455,226.2083 M164.9455,226.2083 C168.1872,228.5761,164.1098,237.9547,169.0326,239.6344 M169.0326,239.6344 C173.9554,241.3141,189.1823,237.2052,194.4822,236.2864 M194.4822,236.2864 C199.7821,235.3676,198.9793,235.8948,200.8318,234.1217 M200.8318,234.1217 C202.6844,232.3486,203.258,225.7048,205.5974,225.6478 M205.5974,225.6478 C207.9369,225.5909,211.3091,230.7117,214.8684,233.7802 M214.8684,233.7802 C218.4277,236.8486,222.4114,244.647,226.9532,244.0583 M226.9532,244.0583 C231.4949,243.4696,238.8241,231.51,242.1188,230.2481 M242.1188,230.2481 C245.4134,228.9863,243.0721,236.7207,246.721,236.4873 M246.721,236.4873 C250.37,236.2538,259.5788,231.1023,264.0124,228.8473 M264.0124,228.8473 C268.4459,226.5923,270.8248,221.8738,273.3223,222.9573 M273.3223,222.9573 C275.8198,224.0408,274.9893,233.8173,278.9976,235.3485 M278.9976,235.3485 C283.0059,236.8796,293.3979,234.8411,297.372,232.1443 M297.372,232.1443 C301.3461,229.4475,300.8925,219.2772,302.8422,219.1677 M302.8422,219.1677 C304.7919,219.0582,305.3424,229.6747,309.0701,231.4873 M309.0701,231.4873 C312.7978,233.2998,320.719,230.6069,325.2085,230.043 M325.2085,230.043 C329.6979,229.4792,332.9699,224.5937,336.0068,228.104 M336.0068,228.104 C339.0437,231.6143,340.0709,251.4321,343.4298,251.1048 M343.4298,251.1048 C346.7887,250.7774,352.5223,232.7004,356.1603,226.1397 M356.1603,226.1397 C359.7983,219.5789,360.9411,212.2132,365.258,211.7402 M365.258,211.7402 C369.5748,211.2672,378.8985,220.0827,382.0615,223.3015 M382.0615,223.3015 C385.2245,226.5203,381.272,229.9717,384.2361,231.0529 M384.2361,231.0529 C387.2003,232.1341,396.8732,229.3688,399.8463,229.7886 M399.8463,229.7886 C402.8193,230.2084,398.8531,236.6603,402.0742,233.5715 M402.0742,233.5715 C405.2954,230.4827,414.154,210.6104,419.1733,211.2557 M419.1733,211.2557 C424.1925,211.9011,428.4955,234.9598,432.1898,237.4438 M432.1898,237.4438 C435.8842,239.9278,437.902,227.7898,441.3393,226.1598 M441.3393,226.1598 C444.7766,224.5297,449.7157,227.0807,452.8137,227.6638 M452.8137,227.6638 C455.9117,228.2469,456.2185,229.4406,459.9271,229.6584 M459.9271,229.6584 C463.6358,229.8761,470.7445,228.8128,475.0656,228.97 M475.0656,228.97 C479.3866,229.1273,481.458,227.325,485.8536,230.6017 M485.8536,230.6017 C490.2493,233.8784,496.5555,247.9164,501.4395,248.6302 M501.4395,248.6302 C506.3234,249.3441,513.1039,238.0885,515.1572,234.8847 M515.1572,234.8847 C517.2105,231.6809,511.7443,232.3592,513.7592,229.4077\" fill=\"none\" stroke=\"rgba(0,0,0,1)\" stroke-width=\"2\" stroke-miterlimit=\"10\"/>\n",
       "<path d=\"M33.3841,264.199 C34.2423,263.6147,38.1057,262.491,40.2821,261.6154 M40.2821,261.6154 C42.4585,260.7398,43.5508,257.7345,46.4426,258.9454 M46.4426,258.9454 C49.3343,260.1563,55.8009,268.4061,57.6329,268.8807 M57.6329,268.8807 C59.4649,269.3554,57.1053,265.4473,57.4345,261.7933 M57.4345,261.7933 C57.7636,258.1393,57.9594,249.2589,59.6079,246.9566 M59.6079,246.9566 C61.2565,244.6544,65.2755,245.3345,67.3258,247.9799 M67.3258,247.9799 C69.3761,250.6252,70.0203,260.6334,71.9097,262.8288 M71.9097,262.8288 C73.7991,265.0241,75.196,259.2508,78.662,261.1517 M78.662,261.1517 C82.1281,263.0527,91.7281,274.1463,92.7059,274.2346 M92.7059,274.2346 C93.6836,274.3228,83.9951,265.7691,84.5287,261.6815 M84.5287,261.6815 C85.0623,257.5938,91.6965,248.9128,95.9076,249.7087 M95.9076,249.7087 C100.1187,250.5046,106.5945,263.2066,109.7953,266.4571 M109.7953,266.4571 C112.9962,269.7076,113.6137,268.8336,115.1126,269.2118 M115.1126,269.2118 C116.6114,269.5901,117.3541,271.6929,118.7886,268.7264 M118.7886,268.7264 C120.2232,265.7598,122.028,252.703,123.7198,251.4124 M123.7198,251.4124 C125.4116,250.1219,126.7993,259.8674,128.9392,260.983 M128.9392,260.983 C131.079,262.0986,133.7729,260.5485,136.5588,258.1058 M136.5588,258.1058 C139.3447,255.6632,143.0127,246.7044,145.6548,246.3273 M145.6548,246.3273 C148.2969,245.9502,151.4892,253.12,152.4114,255.8433 M152.4114,255.8433 C153.3337,258.5665,150.0484,261.4753,151.1881,262.6669 M151.1881,262.6669 C152.3277,263.8585,157.1666,265.3124,159.2494,262.9928 M159.2494,262.9928 C161.3321,260.6732,161.2823,248.7974,163.6847,248.7492 M163.6847,248.7492 C166.0871,248.7009,170.5572,261.1871,173.6638,262.7034 M173.6638,262.7034 C176.7703,264.2196,180.0332,258.4839,182.3239,257.8464 M182.3239,257.8464 C184.6147,257.2089,186.7087,259.9127,187.4082,258.8782 M187.4082,258.8782 C188.1078,257.8437,183.4209,253.9075,186.5213,251.6395 M186.5213,251.6395 C189.6217,249.3715,202.1984,244.9587,206.0107,245.2701 M206.0107,245.2701 C209.823,245.5814,206.648,249.9784,209.395,253.5078 M209.395,253.5078 C212.142,257.0372,221.1518,266.365,222.4924,266.4465 M222.4924,266.4465 C223.833,266.528,217.76,254.1705,217.4385,253.9966 M217.4385,253.9966 C217.1171,253.8227,220.3169,264.9392,220.5638,265.4032 M220.5638,265.4032 C220.8106,265.8672,218.3478,256.9552,218.9196,256.7807 M218.9196,256.7807 C219.4914,256.6063,219.9389,262.7948,223.9945,264.3567 M223.9945,264.3567 C228.05,265.9185,239.2601,264.2223,243.2529,266.1517 M243.2529,266.1517 C247.2458,268.081,247.7803,278.5197,247.9516,275.9327 M247.9516,275.9327 C248.1228,273.3458,241.7822,253.6951,244.2804,250.6297 M244.2804,250.6297 C246.7787,247.5643,257.9728,257.4161,262.9412,257.5405 M262.9412,257.5405 C267.9095,257.6648,273.3573,254.6835,274.0908,251.3757 M274.0908,251.3757 C274.8243,248.0678,267.054,236.0352,267.3421,237.6934 M267.3421,237.6934 C267.6301,239.3516,272.8505,260.9907,275.819,261.3249 M275.819,261.3249 C278.7876,261.6591,281.1298,239.7379,285.1534,239.6988 M285.1534,239.6988 C289.1769,239.6598,298.3277,257.644,299.9603,261.0906 M299.9603,261.0906 C301.5929,264.5372,294.0843,260.4497,294.9488,260.3786 M294.9488,260.3786 C295.8134,260.3075,304.091,256.9917,305.1476,260.6639 M305.1476,260.6639 C306.2043,264.3361,300.4508,282.065,301.2887,282.4116 M301.2887,282.4116 C302.1267,282.7583,306.902,264.9736,310.1754,262.7438 M310.1754,262.7438 C313.4487,260.514,318.7857,268.9654,320.9287,269.0328 M320.9287,269.0328 C323.0717,269.1002,321.5118,263.4077,323.0334,263.1481 M323.0334,263.1481 C324.5549,262.8885,326.947,266.9435,330.0579,267.4751 M330.0579,267.4751 C333.1688,268.0068,338.362,266.7651,341.6988,266.338 M341.6988,266.338 C345.0355,265.911,348.6099,265.5399,350.0784,264.9126 M350.0784,264.9126 C351.5469,264.2854,349.7413,262.7199,350.5098,262.5746 M350.5098,262.5746 C351.2783,262.4293,354.0381,266.4051,354.6894,264.0406 M354.6894,264.0406 C355.3408,261.6761,352.8674,246.0805,354.4181,248.3877 M354.4181,248.3877 C355.9687,250.6948,359.911,276.601,363.9931,277.8834 M363.9931,277.8834 C368.0753,279.1658,376.0825,261.8138,378.9109,256.0821 M378.9109,256.0821 C381.7393,250.3503,379.7884,244.5865,380.9636,243.493 M380.9636,243.493 C382.1388,242.3995,383.6411,245.4412,385.9622,249.521 M385.9622,249.521 C388.2834,253.6008,393.9244,265.5084,394.8905,267.9719 M394.8905,267.9719 C395.8567,270.4355,389.8789,265.842,391.7591,264.3023 M391.7591,264.3023 C393.6392,262.7626,403.1068,257.71,406.1713,258.734 M406.1713,258.734 C409.2359,259.7579,408.9013,272.5505,410.1465,270.4461 M410.1465,270.4461 C411.3917,268.3417,412.353,248.4796,413.6425,246.1076 M413.6425,246.1076 C414.932,243.7356,415.0051,256.2621,417.8834,256.2141 M417.8834,256.2141 C420.7617,256.1662,427.0604,244.2191,430.9123,245.8199 M430.9123,245.8199 C434.7641,247.4208,438.0521,262.9445,440.9944,265.8192 M440.9944,265.8192 C443.9367,268.694,446.5171,266.0501,448.566,263.0684 M448.566,263.0684 C450.6148,260.0866,453.9435,250.2258,453.2875,247.9287 M453.2875,247.9287 C452.6315,245.6315,444.9765,246.9937,444.6301,249.2857 M444.6301,249.2857 C444.2837,251.5776,448.918,257.9859,451.2093,261.6805 M451.2093,261.6805 C453.5005,265.3751,454.1136,272.1401,458.3774,271.4534 M458.3774,271.4534 C462.6413,270.7667,475.3408,259.84,476.7923,257.5604 M476.7923,257.5604 C478.2438,255.2808,465.986,258.1812,467.0862,257.7759 M467.0862,257.7759 C468.1865,257.3705,481.3129,253.1485,483.3937,255.1284 M483.3937,255.1284 C485.4745,257.1083,476.8247,268.6189,479.5709,269.6554 M479.5709,269.6554 C482.3171,270.6918,496.0696,263.389,499.8709,261.3469 M499.8709,261.3469 C503.6722,259.3048,501.3132,256.5998,502.3786,257.4026 M502.3786,257.4026 C503.444,258.2054,504.8378,264.4412,506.2634,266.1638 M506.2634,266.1638 C507.689,267.8863,508.4581,266.8208,510.9323,267.738 M510.9323,267.738 C513.4065,268.6551,520.0302,272.4916,521.1086,271.6666 M521.1086,271.6666 C522.187,270.8415,515.2828,267.2357,517.4025,262.7877\" fill=\"none\" stroke=\"rgba(0,0,0,1)\" stroke-width=\"2\" stroke-miterlimit=\"10\"/>\n",
       "<path d=\"M29.7387,290.2575 C31.3592,291.4918,37.4703,300.6792,37.3699,303.3309 M37.3699,303.3309 C37.2695,305.9826,28.7113,310.2356,29.1362,306.1677 M29.1362,306.1677 C29.561,302.0997,36.0158,279.9671,39.9189,278.9232 M39.9189,278.9232 C43.822,277.8793,50.9353,296.7402,52.5548,299.9042 M52.5548,299.9042 C54.1744,303.0683,49.1263,299.1985,49.6361,297.9074 M49.6361,297.9074 C50.146,296.6162,53.9006,292.3996,55.6138,292.1572 M55.6138,292.1572 C57.327,291.9149,58.4726,294.0162,59.9153,296.453 M59.9153,296.453 C61.358,298.8898,63.5358,306.8567,64.2698,306.7779 M64.2698,306.7779 C65.0038,306.6991,65.1825,298.2338,64.3193,295.9802 M64.3193,295.9802 C63.4562,293.7266,60.567,293.0157,59.0907,293.2562 M59.0907,293.2562 C57.6145,293.4967,54.4225,297.3615,55.4619,297.4235 M55.4619,297.4235 C56.5014,297.4854,64.4094,293.4211,65.3276,293.6277 M65.3276,293.6277 C66.2459,293.8342,60.1013,299.4183,60.9713,298.6627 M60.9713,298.6627 C61.8413,297.9071,65.7093,291.9584,70.5477,289.0939 M70.5477,289.0939 C75.3861,286.2294,88.1969,281.1104,90.0019,281.4757 M90.0019,281.4757 C91.807,281.841,82.3786,290.0483,81.378,291.2858 M81.378,291.2858 C80.3773,292.5232,82.4284,286.2151,83.9981,288.9006 M83.9981,288.9006 C85.5677,291.5862,89.3817,307.1403,90.796,307.3992 M90.796,307.3992 C92.2103,307.658,91.204,293.3854,92.4839,290.454 M92.4839,290.454 C93.7637,287.5226,98.7798,286.8786,98.4751,289.8108 M98.4751,289.8108 C98.1703,292.743,89.8936,308.5261,90.6556,308.0474 M90.6556,308.0474 C91.4175,307.5687,102.3351,290.4358,103.0467,286.9386 M103.0467,286.9386 C103.7583,283.4413,94.2173,287.3045,94.9252,287.064 M94.9252,287.064 C95.633,286.8235,105.3996,285.3861,107.2938,285.4956 M107.2938,285.4956 C109.188,285.6052,105.5345,284.9842,106.2903,287.7214 M106.2903,287.7214 C107.046,290.4586,111.8653,299.7525,111.8282,301.9185 M111.8282,301.9185 C111.7912,304.0846,103.7703,302.9788,106.068,300.7178 M106.068,300.7178 C108.3657,298.4567,122.8235,290.1396,125.6143,288.3523 M125.6143,288.3523 C128.4051,286.565,123.2823,290.5426,122.8128,289.9939 M122.8128,289.9939 C122.3434,289.4451,122.8154,284.8888,122.7977,285.0599 M122.7977,285.0599 C122.78,285.2311,120.043,290.5233,122.7069,291.0207 M122.7069,291.0207 C125.3708,291.5181,136.9019,286.6141,138.7811,288.0445 M138.7811,288.0445 C140.6603,289.475,134.4274,298.9909,133.9822,299.6034 M133.9822,299.6034 C133.5371,300.216,134.4583,291.7011,136.1101,291.7198 M136.1101,291.7198 C137.762,291.7386,141.6928,300.7974,143.8933,299.7157 M143.8933,299.7157 C146.0938,298.6341,150.0978,286.0161,149.3132,285.2299 M149.3132,285.2299 C148.5285,284.4437,140.3117,295.0849,139.1854,294.9985 M139.1854,294.9985 C138.0591,294.912,140.7681,285.6261,142.5553,284.7111 M142.5553,284.7111 C144.3425,283.7961,147.6326,287.8114,149.9087,289.5085 M149.9087,289.5085 C152.1848,291.2057,155.3259,294.419,156.2119,294.8942 M156.2119,294.8942 C157.0978,295.3695,153.1515,292.3664,155.2244,292.3602 M155.2244,292.3602 C157.2972,292.354,165.9027,294.4546,168.6487,294.8571 M168.6487,294.8571 C171.3947,295.2595,172.6849,297.4568,171.7003,294.7751 M171.7003,294.7751 C170.7157,292.0935,163.172,278.0761,162.7413,278.7671 M162.7413,278.7671 C162.3106,279.4582,167.2391,297.0735,169.116,298.9214 M169.116,298.9214 C170.993,300.7694,171.8967,288.4118,174.003,289.855 M174.003,289.855 C176.1093,291.2982,179.7831,308.533,181.7537,307.5805 M181.7537,307.5805 C183.7243,306.628,185.6622,287.5975,185.8267,284.1402 M185.8267,284.1402 C185.9911,280.6828,182.2582,286.343,182.7404,286.8365 M182.7404,286.8365 C183.2226,287.33,186.9416,285.4139,188.7196,287.1011 M188.7196,287.1011 C190.4977,288.7883,193.697,295.8153,193.4086,296.9599 M193.4086,296.9599 C193.1202,298.1044,185.6991,292.7511,186.9892,293.9686 M186.9892,293.9686 C188.2794,295.186,197.2156,306.174,201.1495,304.2646 M201.1495,304.2646 C205.0833,302.3553,211.1269,284.2053,210.5923,282.5125 M210.5923,282.5125 C210.0577,280.8198,197.9269,290.1706,197.9418,294.1082 M197.9418,294.1082 C197.9567,298.0458,208.6881,307.5199,210.6818,306.1382 M210.6818,306.1382 C212.6755,304.7565,209.0148,286.83,209.904,285.818 M209.904,285.818 C210.7932,284.806,216.4283,295.9648,216.0171,300.0662 M216.0171,300.0662 C215.6059,304.1677,207.3213,311.0363,207.4368,310.427 M207.4368,310.427 C207.5523,309.8177,213.1195,299.8802,216.7101,296.4105 M216.7101,296.4105 C220.3007,292.9407,227.2906,287.8939,228.9802,289.6084 M228.9802,289.6084 C230.6699,291.3229,227.1104,306.2311,226.8478,306.6977 M226.8478,306.6977 C226.5852,307.1643,225.2617,294.342,227.4046,292.4082 M227.4046,292.4082 C229.5475,290.4745,239.2026,295.6192,239.7055,295.0949 M239.7055,295.0949 C240.2084,294.5707,231.6312,290.0194,230.4221,289.2626 M230.4221,289.2626 C229.2129,288.5059,230.4185,285.9297,232.4508,290.5544 M232.4508,290.5544 C234.4831,295.179,241.1145,315.1798,242.6161,317.0106 M242.6161,317.0106 C244.1178,318.8414,240.1575,303.156,241.4607,301.5392 M241.4607,301.5392 C242.7639,299.9225,248.2778,309.1807,250.4353,307.3101 M250.4353,307.3101 C252.5928,305.4395,253.0616,293.5074,254.4057,290.3158 M254.4057,290.3158 C255.7497,287.1241,258.6928,284.8961,258.4998,288.1602 M258.4998,288.1602 C258.3067,291.4243,253.4144,307.4489,253.2474,309.9004 M253.2474,309.9004 C253.0803,312.3519,255.4146,307.1082,257.4976,302.8691 M257.4976,302.8691 C259.5805,298.6299,264.5541,281.6205,265.7453,284.4654 M265.7453,284.4654 C266.9365,287.3102,262.2625,318.7684,264.6446,319.9381 M264.6446,319.9381 C267.0268,321.1079,277.9225,295.7729,280.0382,291.4838 M280.0382,291.4838 C282.1539,287.1948,277.1547,293.0602,277.3389,294.204 M277.3389,294.204 C277.5231,295.3478,281.4998,296.6965,281.1434,298.3468 M281.1434,298.3468 C280.787,299.9971,273.0584,302.4146,275.2004,304.1057 M275.2004,304.1057 C277.3424,305.7969,292.3293,308.3255,293.9953,308.4939 M293.9953,308.4939 C295.6613,308.6622,286.7595,307.4515,285.1964,305.1158 M285.1964,305.1158 C283.6333,302.7802,284.0688,295.276,284.6166,294.4802 M284.6166,294.4802 C285.1644,293.6843,286.492,302.5942,288.483,300.3409 M288.483,300.3409 C290.4741,298.0876,292.834,282.2096,296.5628,280.9603 M296.5628,280.9603 C300.2915,279.711,311.6109,289.985,310.8554,292.8453 M310.8554,292.8453 C310.1,295.7056,294.3467,299.1078,292.0302,298.1219 M292.0302,298.1219 C289.7136,297.136,294.9824,287.3188,296.9561,286.93 M296.9561,286.93 C298.9297,286.5411,301.6095,292.3802,303.8721,295.789 M303.8721,295.789 C306.1347,299.1977,308.7585,306.6608,310.5317,307.3826 M310.5317,307.3826 C312.3048,308.1043,313.0293,301.2336,314.5109,300.1197 M314.5109,300.1197 C315.9926,299.0058,319.0677,302.349,319.4217,300.6991 M319.4217,300.6991 C319.7757,299.0493,315.9651,290.8904,316.6349,290.2204 M316.6349,290.2204 C317.3047,289.5505,323.1133,296.409,323.4404,296.6796 M323.4404,296.6796 C323.7675,296.9503,317.3407,294.0037,318.5975,291.8442 M318.5975,291.8442 C319.8543,289.6848,328.1276,285.1974,330.9811,283.7228 M330.9811,283.7228 C333.8347,282.2483,334.5421,281.7909,335.719,282.9967 M335.719,282.9967 C336.8959,284.2024,337.0371,289.0517,338.0423,290.9576 M338.0423,290.9576 C339.0475,292.8636,342.1028,294.3939,341.7503,294.4324 M341.7503,294.4324 C341.3979,294.4709,335.4588,289.549,335.9276,291.1888 M335.9276,291.1888 C336.3965,292.8286,343.6707,305.0093,344.5633,304.2711 M344.5633,304.2711 C345.4559,303.533,340.6699,291.0011,341.2834,286.7598 M341.2834,286.7598 C341.8969,282.5186,345.6235,277.9878,348.2443,278.8236 M348.2443,278.8236 C350.8652,279.6594,354.9746,290.3286,357.0085,291.7748 M357.0085,291.7748 C359.0424,293.2211,359.8338,286.0193,360.4475,287.501 M360.4475,287.501 C361.0612,288.9828,360.1728,300.9797,360.6906,300.6654 M360.6906,300.6654 C361.2085,300.3511,362.8232,285.2829,363.5546,285.6152 M363.5546,285.6152 C364.2861,285.9475,363.6229,300.9563,365.0793,302.6593 M365.0793,302.6593 C366.5357,304.3624,371.8727,298.6114,372.293,295.8336 M372.293,295.8336 C372.7134,293.0557,365.45,284.7472,367.6012,285.9923 M367.6012,285.9923 C369.7524,287.2375,383.0685,300.3337,385.2003,303.3045 M385.2003,303.3045 C387.332,306.2754,379.9359,305.8841,380.3918,303.8172 M380.3918,303.8172 C380.8476,301.7503,386.2119,293.6695,387.9354,290.903 M387.9354,290.903 C389.6588,288.1364,392.8955,286.3882,390.7325,287.2179 M390.7325,287.2179 C388.5696,288.0477,374.389,295.2518,374.9577,295.8815 M374.9577,295.8815 C375.5264,296.5112,390.9271,292.3222,394.1445,290.9962 M394.1445,290.9962 C397.362,289.6703,392.674,287.009,394.2623,287.9257 M394.2623,287.9257 C395.8506,288.8424,402.5279,295.3371,403.6744,296.4966 M403.6744,296.4966 C404.8209,297.6561,401.9448,294.6007,401.1413,294.8827 M401.1413,294.8827 C400.3378,295.1647,396.3438,301.4114,398.8534,298.1886 M398.8534,298.1886 C401.3629,294.9658,413.8378,274.0801,416.1989,275.546 M416.1989,275.546 C418.56,277.012,414.1585,305.6294,413.02,306.9844 M413.02,306.9844 C411.8816,308.3393,407.7257,283.9438,409.368,283.6759 M409.368,283.6759 C411.0103,283.408,420.8557,304.0817,422.8738,305.3772 M422.8738,305.3772 C424.892,306.6726,421.4234,292.0563,421.4766,291.4488 M421.4766,291.4488 C421.5299,290.8412,421.2798,301.0638,423.1935,301.732 M423.1935,301.732 C425.1071,302.4001,433.3347,297.6861,432.9584,295.4577 M432.9584,295.4577 C432.5822,293.2292,420.7653,285.9768,420.936,288.3614 M420.936,288.3614 C421.1068,290.7459,431.7141,309.8748,433.9828,309.7652 M433.9828,309.7652 C436.2516,309.6556,434.3239,288.4004,434.5484,287.704 M434.5484,287.704 C434.7729,287.0076,433.3374,305.8075,435.3298,305.5869 M435.3298,305.5869 C437.3222,305.3663,445.0602,289.547,446.5028,286.3805 M446.5028,286.3805 C447.9453,283.2141,444.1293,284.7623,443.9849,286.5882 M443.9849,286.5882 C443.8404,288.4141,445.0652,295.4959,445.6361,297.3359 M445.6361,297.3359 C446.207,299.1758,446.4847,295.1619,447.4104,297.6279 M447.4104,297.6279 C448.3361,300.0939,449.6848,310.2425,451.1904,312.132 M451.1904,312.132 C452.6961,314.0215,455.3555,311.4663,456.4445,308.9647 M456.4445,308.9647 C457.5335,306.4631,456.2946,299.3868,457.7246,297.1224 M457.7246,297.1224 C459.1546,294.858,464.6688,295.055,465.0244,295.3781 M465.0244,295.3781 C465.38,295.7012,458.5577,300.7101,459.8582,299.0609 M459.8582,299.0609 C461.1587,297.4117,470.0308,286.8205,472.8273,285.4831 M472.8273,285.4831 C475.6237,284.1457,476.818,289.2305,476.6371,291.0365 M476.6371,291.0365 C476.4562,292.8425,470.5935,295.1052,471.7418,296.3189 M471.7418,296.3189 C472.89,297.5327,482.7499,298.0244,483.5266,298.319 M483.5266,298.319 C484.3033,298.6137,475.9155,298.173,476.4022,298.0866 M476.4022,298.0866 C476.8889,298.0003,484.6367,296.7705,486.4467,297.8008 M486.4467,297.8008 C488.2566,298.8311,487.2748,304.4909,487.2621,304.2685 M487.2621,304.2685 C487.2493,304.046,484.5919,293.8639,486.3704,296.4663 M486.3704,296.4663 C488.1489,299.0686,495.493,317.7591,497.9331,319.8826 M497.9331,319.8826 C500.3732,322.0061,500.2414,313.9017,501.0109,309.2074 M501.0109,309.2074 C501.7803,304.5131,502.8939,294.8807,502.5495,291.7169 M502.5495,291.7169 C502.2052,288.5532,497.4524,291.9961,498.9446,290.2249 M498.9446,290.2249 C500.4369,288.4536,510.5297,281.3273,511.5032,281.0895 M511.5032,281.0895 C512.4766,280.8517,504.1744,285.3482,504.7853,288.7982 M504.7853,288.7982 C505.3962,292.2481,513.3268,299.7986,515.1684,301.7891 M515.1684,301.7891 C517.01,303.7795,513.4321,302.1772,515.8347,300.7411 M515.8347,300.7411 C518.2373,299.3049,527.6471,295.2511,529.5838,293.1721 M529.5838,293.1721 C531.5206,291.0932,527.3842,286.9374,527.4552,288.2675 M527.4552,288.2675 C527.5263,289.5977,530.5329,300.0019,530.0099,301.1532 M530.0099,301.1532 C529.487,302.3045,524.0357,295.5002,524.3173,295.1753 M524.3173,295.1753 C524.599,294.8504,529.2098,297.3,531.6998,299.2037\" fill=\"none\" stroke=\"rgba(0,0,0,1)\" stroke-width=\"2\" stroke-miterlimit=\"10\"/>\n",
       "<path d=\"M32.6058,309.1111 C33.2079,308.4518,27.2759,307.9174,30.2501,309.3704 M30.2501,309.3704 C33.2244,310.8234,48.3324,313.8115,50.4513,317.8291 M50.4513,317.8291 C52.5702,321.8468,43.3191,330.8196,42.9635,333.4763 M42.9635,333.4763 C42.6079,336.1331,46.0148,332.92,48.3176,333.7695 M48.3176,333.7695 C50.6204,334.619,54.1889,341.8538,56.7801,338.5735 M56.7801,338.5735 C59.3714,335.2932,62.4423,315.9811,63.8651,314.0879 M63.8651,314.0879 C65.2879,312.1947,62.0109,325.7974,65.3169,327.2141 M65.3169,327.2141 C68.6229,328.6308,80.5582,324.5568,83.7012,322.5878 M83.7012,322.5878 C86.8441,320.6188,82.1903,315.6278,84.1744,315.4001 M84.1744,315.4001 C86.1584,315.1725,93.3115,318.2869,95.6054,321.2219 M95.6054,321.2219 C97.8992,324.1569,98.0969,330.7492,97.9376,333.0103 M97.9376,333.0103 C97.7782,335.2714,91.9051,336.7708,94.6491,334.7885 M94.6491,334.7885 C97.3931,332.8063,111.4391,323.1631,114.4017,321.1168 M114.4017,321.1168 C117.3643,319.0706,111.2057,322.3474,112.4248,322.511 M112.4248,322.511 C113.6439,322.6745,120.4954,322.1076,121.7163,322.098 M121.7163,322.098 C122.9373,322.0884,118.5177,321.0935,119.7505,322.4531 M119.7505,322.4531 C120.9832,323.8127,127.3885,328.3108,129.1129,330.2558 M129.1129,330.2558 C130.8373,332.2008,129.0462,334.9744,130.0967,334.1231 M130.0967,334.1231 C131.1472,333.2718,132.4112,326.7987,135.4157,325.1479 M135.4157,325.1479 C138.4202,323.4971,146.8091,324.298,148.1236,324.2184 M148.1236,324.2184 C149.438,324.1387,141.4015,321.3018,143.3023,324.67 M143.3023,324.67 C145.2031,328.0382,157.4316,341.6667,159.5282,344.4277 M159.5282,344.4277 C161.6249,347.1886,156.1548,341.1198,155.8823,341.2358 M155.8823,341.2358 C155.6097,341.3518,155.6148,348.2471,157.8929,345.1236 M157.8929,345.1236 C160.1711,342.0002,167.148,327.7573,169.5511,322.4953 M169.5511,322.4953 C171.9543,317.2334,170.9984,314.4496,172.3116,313.5518 M172.3116,313.5518 C173.6249,312.654,175.0174,314.8783,177.4304,317.1084 M177.4304,317.1084 C179.8434,319.3386,184.6623,326.1463,186.7896,326.9327 M186.7896,326.9327 C188.917,327.7192,188.5012,321.4832,190.1945,321.8269 M190.1945,321.8269 C191.8878,322.1705,195.1813,324.6819,196.9495,328.9946 M196.9495,328.9946 C198.7177,333.3074,198.1606,347.3605,200.8038,347.7033 M200.8038,347.7033 C203.4471,348.0462,212.2329,331.8855,212.809,331.0519 M212.809,331.0519 C213.3852,330.2183,202.4377,343.5479,204.2605,342.7018 M204.2605,342.7018 C206.0833,341.8556,220.6682,330.945,223.7461,325.9749 M223.7461,325.9749 C226.824,321.0048,221.1588,313.1013,222.728,312.8813 M222.728,312.8813 C224.2973,312.6613,228.0571,322.704,233.1616,324.6551 M233.1616,324.6551 C238.2661,326.6062,251.4474,322.7258,253.3552,324.588 M253.3552,324.588 C255.2629,326.4501,244.4743,334.2369,244.6081,335.8278 M244.6081,335.8278 C244.742,337.4188,251.7907,333.5053,254.1585,334.1337 M254.1585,334.1337 C256.5262,334.762,258.2536,339.0588,258.8148,339.5978 M258.8148,339.5978 C259.376,340.1367,257.3676,338.8859,257.5255,337.3675 M257.5255,337.3675 C257.6834,335.8491,259.3722,330.738,259.7622,330.4875 M259.7622,330.4875 C260.1522,330.2369,257.8558,336.0319,259.8657,335.8644 M259.8657,335.8644 C261.8756,335.6969,268.4544,331.1247,271.8217,329.4825 M271.8217,329.4825 C275.189,327.8403,277.926,326.5269,280.0697,326.011 M280.0697,326.011 C282.2134,325.4952,281.5207,322.1872,284.6838,326.3873 M284.6838,326.3873 C287.8469,330.5874,297.6234,348.666,299.0482,351.2118 M299.0482,351.2118 C300.473,353.7575,292.9453,347.7631,293.2327,341.6617 M293.2327,341.6617 C293.5201,335.5604,297.9705,317.0766,300.7727,314.6037 M300.7727,314.6037 C303.5749,312.1308,307.2029,324.3957,310.0461,326.8243 M310.0461,326.8243 C312.8892,329.2529,317.3476,327.1456,317.8315,329.1754 M317.8315,329.1754 C318.3155,331.2052,311.6577,341.405,312.9498,339.003 M312.9498,339.003 C314.2418,336.6011,323.1273,317.1762,325.5839,314.7637 M325.5839,314.7637 C328.0406,312.3511,326.2048,320.5668,327.6896,324.5277 M327.6896,324.5277 C329.1744,328.4886,331.4143,338.7278,334.4927,338.529 M334.4927,338.529 C337.5711,338.3302,343.939,325.501,346.1599,323.3351 M346.1599,323.3351 C348.3809,321.1692,346.5164,326.3692,347.8183,325.5335 M347.8183,325.5335 C349.1202,324.6977,353.5512,318.0605,353.9715,318.3207 M353.9715,318.3207 C354.3918,318.5808,349.3115,322.7703,350.3401,327.0943 M350.3401,327.0943 C351.3687,331.4183,357.897,345.1739,360.143,344.2646 M360.143,344.2646 C362.3891,343.3553,361.3933,321.1135,363.8163,321.6386 M363.8163,321.6386 C366.2393,322.1636,372.0201,344.9433,374.681,347.4149 M374.681,347.4149 C377.3419,349.8865,379.0431,338.7697,379.7816,336.4683 M379.7816,336.4683 C380.5201,334.1669,377.1375,335.7829,379.1119,333.6067 M379.1119,333.6067 C381.0863,331.4306,389.4248,321.5871,391.6281,323.4115 M391.6281,323.4115 C393.8314,325.2359,390.6449,343.0879,392.3318,344.553 M392.3318,344.553 C394.0186,346.0182,399.74,335.1865,401.7492,332.2026 M401.7492,332.2026 C403.7584,329.2187,403.0557,329.5211,404.3868,326.6494 M404.3868,326.6494 C405.7179,323.7777,407.2861,314.2997,409.736,314.9724 M409.736,314.9724 C412.1859,315.6451,416.7241,329.1119,419.0862,330.6856 M419.0862,330.6856 C421.4482,332.2592,422.9001,325.6101,423.9082,324.4141 M423.9082,324.4141 C424.9163,323.2181,424.1539,322.6984,425.135,323.5096 M425.135,323.5096 C426.116,324.3209,426.493,326.8409,429.7945,329.2817 M429.7945,329.2817 C433.096,331.7225,442.745,336.3254,444.944,338.1543 M444.944,338.1543 C447.1429,339.9833,442.4224,340.273,442.988,340.2556 M442.988,340.2556 C443.5536,340.2382,446.0011,336.9602,448.3376,338.0499 M448.3376,338.0499 C450.6741,339.1396,454.6605,348.454,457.0068,346.7938 M457.0068,346.7938 C459.3531,345.1335,461.833,332.5733,462.4155,328.0884 M462.4155,328.0884 C462.9981,323.6034,459.3713,320.9901,460.502,319.884 M460.502,319.884 C461.6326,318.778,465.4909,322.3894,469.1996,321.4519 M469.1996,321.4519 C472.9083,320.5144,481.031,312.0465,482.7544,314.259 M482.7544,314.259 C484.4779,316.4716,479.8891,330.2601,479.5404,334.7272 M479.5404,334.7272 C479.1917,339.1944,476.0883,343.2975,480.6623,341.062 M480.6623,341.062 C485.2363,338.8264,504.6816,323.4199,506.9844,321.3139 M506.9844,321.3139 C509.2871,319.2078,494.3705,327.7032,494.4787,328.4256 M494.4787,328.4256 C494.587,329.1479,503.3058,323.7648,507.6337,325.648 M507.6337,325.648 C511.9615,327.5312,519.8085,339.414,520.446,339.7246 M520.446,339.7246 C521.0836,340.0352,512.0664,328.7566,511.459,327.5118 M511.459,327.5118 C510.8515,326.2669,515.2637,332.2381,516.8013,332.2557 M516.8013,332.2557 C518.3389,332.2732,518.341,328.0066,520.6847,327.6172\" fill=\"none\" stroke=\"rgba(0,0,0,1)\" stroke-width=\"2\" stroke-miterlimit=\"10\"/>\n",
       "<path d=\"M32.2365,355.7845 C34.3208,356.2659,38.3992,360.5269,40.6681,361.8524 M40.6681,361.8524 C42.937,363.1779,44.7649,364.356,45.8498,363.7375 M45.8498,363.7375 C46.9347,363.119,45.492,360.0544,47.1774,358.1415 M47.1774,358.1415 C48.8628,356.2285,54.1431,352.6593,55.9622,352.2597 M55.9622,352.2597 C57.7812,351.8601,58.1201,355.8503,58.0919,355.7439 M58.0919,355.7439 C58.0636,355.6375,55.6627,350.7524,55.7925,351.6212 M55.7925,351.6212 C55.9224,352.49,56.4473,357.4355,58.871,360.9569 M58.871,360.9569 C61.2947,364.4783,66.3424,371.8937,70.3345,372.7495 M70.3345,372.7495 C74.3267,373.6054,80.8561,368.3702,82.8239,366.092 M82.8239,366.092 C84.7918,363.8139,82.9405,358.7079,82.1417,359.0804 M82.1417,359.0804 C81.3429,359.4528,76.3642,368.5799,78.031,368.3269 M78.031,368.3269 C79.6978,368.0739,88.3468,358.3669,92.1425,357.5622 M92.1425,357.5622 C95.9381,356.7575,99.5742,360.9771,100.8048,363.4986 M100.8048,363.4986 C102.0353,366.0201,99.1684,375.9309,99.5257,372.6912 M99.5257,372.6912 C99.8829,369.4516,101.7442,347.1523,102.9482,344.0609 M102.9482,344.0609 C104.1521,340.9694,105.1112,348.27,106.7493,354.1426 M106.7493,354.1426 C108.3874,360.0152,110.6454,379.1457,112.7769,379.2964 M112.7769,379.2964 C114.9084,379.4471,117.4963,355.5472,119.5383,355.0467 M119.5383,355.0467 C121.5803,354.5461,123.4616,373.9406,125.0291,376.293 M125.0291,376.293 C126.5965,378.6454,127.567,371.5577,128.943,369.161 M128.943,369.161 C130.319,366.7642,132.264,364.9538,133.2852,361.9124 M133.2852,361.9124 C134.3064,358.871,132.9303,350.4237,135.0703,350.9127 M135.0703,350.9127 C137.2103,351.4018,144.3653,361.6532,146.1254,364.8466 M146.1254,364.8466 C147.8856,368.0401,145.0096,371.8429,145.6311,370.0736 M145.6311,370.0736 C146.2526,368.3043,147.7749,356.4838,149.8544,354.231 M149.8544,354.231 C151.9338,351.9782,156.4767,355.9998,158.1078,356.557 M158.1078,356.557 C159.7389,357.1141,158.5735,358.9297,159.641,357.5741 M159.641,357.5741 C160.7084,356.2185,161.9768,349.6876,164.5125,348.4234 M164.5125,348.4234 C167.0482,347.1593,172.8529,345.6215,174.8552,349.9892 M174.8552,349.9892 C176.8575,354.357,175.2106,374.1575,176.5264,374.6297 M176.5264,374.6297 C177.8423,375.1019,181.4173,355.1552,182.7504,352.8225 M182.7504,352.8225 C184.0834,350.4898,183.1282,359.9089,184.525,360.6333 M184.525,360.6333 C185.9217,361.3578,189.4515,356.8314,191.1309,357.169 M191.1309,357.169 C192.8103,357.5066,192.6821,364.8498,194.6014,362.6591 M194.6014,362.6591 C196.5208,360.4683,200.4254,343.5421,202.6469,344.0245 M202.6469,344.0245 C204.8684,344.5069,206.3419,360.4143,207.9304,365.5535 M207.9304,365.5535 C209.5189,370.6927,210.5202,372.7873,212.1777,374.8596 M212.1777,374.8596 C213.8353,376.9319,217.3526,380.4837,217.8757,377.9873 M217.8757,377.9873 C218.3987,375.4908,214.8979,364.8299,215.316,359.8809 M215.316,359.8809 C215.7342,354.9319,218.3421,349.6057,220.3846,348.2934 M220.3846,348.2934 C222.4271,346.981,224.8328,348.5179,227.5711,352.0069 M227.5711,352.0069 C230.3095,355.4959,235.8917,367.3405,236.8148,369.2273 M236.8148,369.2273 C237.7378,371.1141,231.8394,364.1506,233.1092,363.3276 M233.1092,363.3276 C234.3789,362.5045,242.3454,366.9474,244.4331,364.2892 M244.4331,364.2892 C246.5208,361.6309,243.6693,349.7608,245.6352,347.3781 M245.6352,347.3781 C247.6011,344.9953,254.5557,347.5215,256.2287,349.9926 M256.2287,349.9926 C257.9018,352.4638,254.8192,361.7042,255.6735,362.205 M255.6735,362.205 C256.5278,362.7059,259.5104,352.7892,261.3547,352.9979 M261.3547,352.9979 C263.1989,353.2066,265.0473,359.7158,266.7391,363.4573 M266.7391,363.4573 C268.4308,367.1987,270.0557,375.7231,271.5052,375.4464 M271.5052,375.4464 C272.9547,375.1697,273.5211,364.8331,275.4359,361.797 M275.4359,361.797 C277.3508,358.7609,282.6446,360.203,282.9945,357.2299 M282.9945,357.2299 C283.3444,354.2568,276.3997,340.714,277.5352,343.9586 M277.5352,343.9586 C278.6706,347.2032,286.9263,373.7884,289.8073,376.6978 M289.8073,376.6978 C292.6882,379.6071,293.1552,363.787,294.821,361.4145 M294.821,361.4145 C296.4868,359.042,298.3982,362.8218,299.8022,362.4626 M299.8022,362.4626 C301.2061,362.1034,301.8651,357.303,303.2446,359.2593 M303.2446,359.2593 C304.6241,361.2155,307.4569,375.4994,308.0792,374.2001 M308.0792,374.2001 C308.7015,372.9007,305.0286,354.1365,306.9783,351.4633 M306.9783,351.4633 C308.928,348.79,317.2991,353.5226,319.7773,358.1604 M319.7773,358.1604 C322.2555,362.7981,320.9643,380.6575,321.8476,379.2898 M321.8476,379.2898 C322.7309,377.9221,323.4186,348.4669,325.0771,349.9541 M325.0771,349.9541 C326.7356,351.4414,329.3917,387.8354,331.7986,388.2134 M331.7986,388.2134 C334.2056,388.5915,338.2152,353.9255,339.519,352.2226 M339.519,352.2226 C340.8227,350.5198,337.799,376.7507,339.6212,377.9964 M339.6212,377.9964 C341.4434,379.2421,347.2094,362.7398,350.4523,359.6969 M350.4523,359.6969 C353.6952,356.654,357.9574,360.247,359.0789,359.739 M359.0789,359.739 C360.2003,359.231,356.7906,356.5285,357.181,356.6489 M357.181,356.6489 C357.5714,356.7693,359.6594,359.9069,361.4215,360.4612 M361.4215,360.4612 C363.1836,361.0156,366.2748,359.1956,367.7536,359.9748 M367.7536,359.9748 C369.2325,360.7539,368.1253,365.7223,370.2945,365.1361 M370.2945,365.1361 C372.4637,364.5499,378.3423,358.764,380.769,356.4576 M380.769,356.4576 C383.1958,354.1511,384.8711,351.8091,384.8549,351.2974 M384.8549,351.2974 C384.8386,350.7856,379.3014,350.3835,380.6717,353.3871 M380.6717,353.3871 C382.0419,356.3907,389.5835,368.1316,393.0763,369.3192 M393.0763,369.3192 C396.5691,370.5069,399.8874,360.9613,401.6285,360.5132 M401.6285,360.5132 C403.3696,360.0652,402.5192,366.8006,403.5232,366.6308 M403.5232,366.6308 C404.5271,366.461,405.9452,359.8259,407.6522,359.4946 M407.6522,359.4946 C409.3592,359.1633,412.6987,367.5542,413.7654,364.643 M413.7654,364.643 C414.832,361.7317,413.16,343.8991,414.0519,342.0271 M414.0519,342.0271 C414.9438,340.1551,415.9978,349.6632,419.1166,353.4111 M419.1166,353.4111 C422.2354,357.1589,430.8004,364.159,432.7647,364.5143 M432.7647,364.5143 C434.7291,364.8695,430.8171,354.6619,430.9026,355.5427 M430.9026,355.5427 C430.9882,356.4235,432.3508,369.8108,433.278,369.7988 M433.278,369.7988 C434.2052,369.7869,435.6192,355.0255,436.466,355.4711 M436.466,355.4711 C437.3128,355.9167,435.7115,372.2256,438.3586,372.4723 M438.3586,372.4723 C441.0058,372.719,450.1226,360.1791,452.3489,356.9515 M452.3489,356.9515 C454.5752,353.7239,451.0247,349.6689,451.7163,353.1067 M451.7163,353.1067 C452.4079,356.5446,454.3911,376.3841,456.4986,377.5785 M456.4986,377.5785 C458.606,378.7728,461.7744,362.8271,464.3609,360.273 M464.3609,360.273 C466.9475,357.7189,470.3674,361.9545,472.0179,362.254 M472.0179,362.254 C473.6684,362.5535,473.7025,362.169,474.2637,362.0701 M474.2637,362.0701 C474.8249,361.9712,474.4471,360.2178,475.385,361.6607 M475.385,361.6607 C476.3228,363.1036,478.2399,373.1239,479.8907,370.7274 M479.8907,370.7274 C481.5416,368.3308,483.2525,348.5768,485.2901,347.2814 M485.2901,347.2814 C487.3276,345.9861,490.083,358.6801,492.116,362.9553 M492.116,362.9553 C494.149,367.2306,496.4727,375.7315,497.4881,372.9329 M497.4881,372.9329 C498.5036,370.1342,496.2455,349.9596,498.2088,346.1634 M498.2088,346.1634 C500.1722,342.3672,507.0363,347.295,509.2682,350.1559 M509.2682,350.1559 C511.5001,353.0167,511.5132,361.8456,511.6004,363.3288 M511.6004,363.3288 C511.6876,364.8119,507.6407,359.2859,509.7915,359.0545 M509.7915,359.0545 C511.9423,358.8231,522.5221,362.5632,524.5051,361.9405 M524.5051,361.9405 C526.4881,361.3178,520.7019,356.755,521.6895,355.3183 M521.6895,355.3183 C522.677,353.8815,527.703,351.2088,530.4304,353.32\" fill=\"none\" stroke=\"rgba(0,0,0,1)\" stroke-width=\"2\" stroke-miterlimit=\"10\"/>\n",
       "<path d=\"M40.6217,398.1996 C43.1513,400.8963,39.401,399.2821,41.2291,399.7305 M41.2291,399.7305 C43.0572,400.1788,48.5151,400.8637,51.5904,400.8899 M51.5904,400.8899 C54.6657,400.9161,57.3305,398.9006,59.6811,399.8876 M59.6811,399.8876 C62.0317,400.8746,62.7437,406.8943,65.6941,406.8119 M65.6941,406.8119 C68.6445,406.7295,73.6916,402.1828,77.3834,399.3934 M77.3834,399.3934 C81.0752,396.604,85.3708,389.7257,87.8449,390.0757 M87.8449,390.0757 C90.319,390.4257,90.6618,403.7825,92.2279,401.4933 M92.2279,401.4933 C93.794,399.2041,95.4205,378.9358,97.2417,376.3405 M97.2417,376.3405 C99.063,373.7452,99.7431,382.946,103.1555,385.9217 M103.1555,385.9217 C106.5678,388.8974,114.7085,388.3579,117.7157,394.1949 M117.7157,394.1949 C120.723,400.0318,118.5864,421.8114,121.1988,420.9432 M121.1988,420.9432 C123.8112,420.0751,129.871,392.252,133.3901,388.9857 M133.3901,388.9857 C136.9092,385.7195,139.4256,403.1799,142.3135,401.3457 M142.3135,401.3457 C145.2014,399.5115,149.1693,376.329,150.7175,377.9805 M150.7175,377.9805 C152.2657,379.632,149.2384,410.0222,151.6027,411.2547 M151.6027,411.2547 C153.9669,412.4872,162.0413,388.8112,164.9032,385.3756 M164.9032,385.3756 C167.7651,381.94,166.7964,390.496,168.774,390.6408 M168.774,390.6408 C170.7516,390.7857,173.7045,383.6648,176.7686,386.2445 M176.7686,386.2445 C179.8328,388.8242,183.0099,405.7955,187.1588,406.1188 M187.1588,406.1188 C191.3078,406.4422,198.2567,388.9597,201.6623,388.1845 M201.6623,388.1845 C205.068,387.4094,206.0577,398.4208,207.5929,401.4682 M207.5929,401.4682 C209.1281,404.5156,207.7999,404.5957,210.8735,406.4691 M210.8735,406.4691 C213.9471,408.3425,223.3361,415.4226,226.0344,412.7085 M226.0344,412.7085 C228.7327,409.9944,225.5804,392.5347,227.0635,390.1845 M227.0635,390.1845 C228.5467,387.8342,231.303,398.5749,234.9334,398.607 M234.9334,398.607 C238.5638,398.639,245.5885,388.5818,248.8461,390.3767 M248.8461,390.3767 C252.1037,392.1716,252.5882,409.2244,254.4788,409.3764 M254.4788,409.3764 C256.3694,409.5285,258.4958,391.4412,260.1899,391.289 M260.1899,391.289 C261.8839,391.1368,261.7608,406.0356,264.643,408.4633 M264.643,408.4633 C267.5252,410.8911,274.2067,406.1636,277.4829,405.8555 M277.4829,405.8555 C280.7591,405.5473,282.0679,407.4342,284.3001,406.6142 M284.3001,406.6142 C286.5324,405.7942,287.3087,404.8916,290.8763,400.9355 M290.8763,400.9355 C294.444,396.9794,303.0818,383.0634,305.7061,382.8777 M305.7061,382.8777 C308.3305,382.6921,304.8656,396.956,306.6223,399.8216 M306.6223,399.8216 C308.379,402.6872,313.3671,400.4391,316.2462,400.0713 M316.2462,400.0713 C319.1252,399.7036,320.9532,397.2825,323.8967,397.615 M323.8967,397.615 C326.8402,397.9476,331.2697,406.3499,333.9073,402.0664 M333.9073,402.0664 C336.5448,397.7829,337.0883,372.8172,339.7219,371.914 M339.7219,371.914 C342.3555,371.0108,347.0192,394.1736,349.7089,396.647 M349.7089,396.647 C352.3986,399.1204,352.9306,386.7322,355.8602,386.7543 M355.8602,386.7543 C358.7899,386.7764,364.6066,393.9592,367.2868,396.7798 M367.2868,396.7798 C369.9669,399.6003,370.2959,403.8571,371.9411,403.6778 M371.9411,403.6778 C373.5864,403.4985,374.7823,397.4278,377.1585,395.7039 M377.1585,395.7039 C379.5347,393.9801,383.4506,395.8234,386.1985,393.3349 M386.1985,393.3349 C388.9464,390.8464,391.2009,379.6142,393.6461,380.773 M393.6461,380.773 C396.0912,381.9317,397.8151,398.3613,400.8694,400.2874 M400.8694,400.2874 C403.9237,402.2135,408.7329,391.2952,411.972,392.3294 M411.972,392.3294 C415.2112,393.3637,419.4812,405.5162,420.3042,406.4929 M420.3042,406.4929 C421.1273,407.4696,413.8005,400.1175,416.9102,398.1895 M416.9102,398.1895 C420.0199,396.2615,434.5358,397.3382,438.9626,394.9248 M438.9626,394.9248 C443.3893,392.5113,442.1937,382.8884,443.4706,383.7087 M443.4706,383.7087 C444.7476,384.529,444.3611,398.3796,446.6241,399.8465 M446.6241,399.8465 C448.8871,401.3135,453.7031,393.0578,457.0488,392.5105 M457.0488,392.5105 C460.3944,391.9632,464.0363,398.4456,466.6979,396.5628 M466.6979,396.5628 C469.3595,394.68,470.8528,381.2042,473.0181,381.2137 M473.0181,381.2137 C475.1835,381.2232,476.6932,396.9741,479.69,396.6198 M479.69,396.6198 C482.6867,396.2654,487.3732,381.804,490.9986,379.0874 M490.9986,379.0874 C494.6239,376.3708,497.6846,376.1188,501.4422,380.3204 M501.4422,380.3204 C505.1998,384.5219,511.7507,401.6602,513.544,404.2966 M513.544,404.2966 C515.3374,406.933,509.9656,398.707,512.2024,396.1388 M512.2024,396.1388 C514.4391,393.5706,524.9076,389.0904,526.9646,388.8876\" fill=\"none\" stroke=\"rgba(0,0,0,1)\" stroke-width=\"2\" stroke-miterlimit=\"10\"/>\n",
       "<path d=\"M41.7784,411.7973 C47.102,410.6507,54.9962,412.4295,59.6386,414.5866 M59.6386,414.5866 C64.281,416.7437,65.5831,423.4951,69.6329,424.7401 M69.6329,424.7401 C73.6827,425.9851,79.9411,422.3816,83.9375,422.0566 M83.9375,422.0566 C87.9339,421.7315,90.1792,421.9268,93.6114,422.7895 M93.6114,422.7895 C97.0436,423.6523,99.4508,428.546,104.5309,427.2329 M104.5309,427.2329 C109.611,425.9199,119.9912,414.8909,124.092,414.9112 M124.092,414.9112 C128.1927,414.9315,126.3995,423.9335,129.1356,427.3548 M129.1356,427.3548 C131.8718,430.776,135.4047,435.9261,140.509,435.4389 M140.509,435.4389 C145.6133,434.9517,154.9759,426.4872,159.7616,424.4315 M159.7616,424.4315 C164.5474,422.3758,165.6429,421.4139,169.2234,423.1047 M169.2234,423.1047 C172.804,424.7954,175.8188,433.3685,181.2447,434.576 M181.2447,434.576 C186.6706,435.7836,197.806,430.7091,201.7788,430.3499 M201.7788,430.3499 C205.7516,429.9907,202.2141,432.625,205.0817,432.4209 M205.0817,432.4209 C207.9492,432.2169,213.5741,425.8148,218.9841,429.1256 M218.9841,429.1256 C224.3942,432.4363,231.8144,456.1377,237.5422,452.2854 M237.5422,452.2854 C243.27,448.4331,249.038,408.616,253.351,406.0116 M253.351,406.0116 C257.6641,403.4072,260.7545,431.8594,263.4204,436.6589 M263.4204,436.6589 C266.0864,441.4585,265.5514,437.8119,269.3466,434.8088 M269.3466,434.8088 C273.1419,431.8057,281.5133,417.4211,286.1919,418.6404 M286.1919,418.6404 C290.8705,419.8597,292.8965,439.0482,297.4183,442.1246 M297.4183,442.1246 C301.94,445.2009,308.3249,438.0554,313.3221,437.0985 M313.3221,437.0985 C318.3194,436.1415,322.5387,437.882,327.4018,436.3828 M327.4018,436.3828 C332.2649,434.8837,337.9878,429.4672,342.5007,428.1038 M342.5007,428.1038 C347.0137,426.7403,350.6965,428.919,354.4797,428.2021 M354.4797,428.2021 C358.263,427.4853,361.1937,422.1719,365.2003,423.8029 M365.2003,423.8029 C369.2068,425.4339,374.3225,439.2896,378.519,437.988 M378.519,437.988 C382.7155,436.6864,384.9915,417.3196,390.3794,415.9934 M390.3794,415.9934 C395.7673,414.6672,406.1932,425.5317,410.8462,430.0307 M410.8462,430.0307 C415.4992,434.5298,415.3612,444.5667,418.2974,442.9878 M418.2974,442.9878 C421.2336,441.4088,423.0816,423.6715,428.4632,420.5572 M428.4632,420.5572 C433.8449,417.4429,445.3026,423.4544,450.5872,424.3019 M450.5872,424.3019 C455.8719,425.1493,456.5473,428.4718,460.1712,425.6418 M460.1712,425.6418 C463.7951,422.8119,468.8343,404.8277,472.3307,407.3222 M472.3307,407.3222 C475.8272,409.8167,476.3949,435.0045,481.1499,440.6088 M481.1499,440.6088 C485.905,446.213,496.0252,441.2269,500.8611,440.9476 M500.8611,440.9476 C505.6971,440.6682,505.5395,440.9503,510.1655,438.9328\" fill=\"none\" stroke=\"rgba(0,0,0,1)\" stroke-width=\"2\" stroke-miterlimit=\"10\"/>\n",
       "<path d=\"M40.7383,449.0841 C43.7861,447.5754,44.567,452.6102,49.2275,455.1292 M49.2275,455.1292 C53.888,457.6482,65.2067,463.2427,68.7016,464.1982 M68.7016,464.1982 C72.1964,465.1536,66.6071,463.2304,70.1969,460.8619 M70.1969,460.8619 C73.7867,458.4935,84.3362,448.7486,90.2403,449.9874 M90.2403,449.9874 C96.1445,451.2261,102.1964,467.8439,105.622,468.2944 M105.622,468.2944 C109.0475,468.7449,107.8291,452.8267,110.7936,452.6906 M110.7936,452.6906 C113.7582,452.5544,118.2385,467.5331,123.4095,467.4775 M123.4095,467.4775 C128.5805,467.4219,136.4429,456.6478,141.8197,452.357 M141.8197,452.357 C147.1966,448.0662,151.5726,440.0576,155.6707,441.7326 M155.6707,441.7326 C159.7687,443.4076,163.4836,459.8,166.4082,462.4072 M166.4082,462.4072 C169.3328,465.0145,169.1392,460.0606,173.2183,457.376 M173.2183,457.376 C177.2973,454.6914,184.5383,443.9585,190.8827,446.2998 M190.8827,446.2998 C197.2271,448.641,208.3177,468.3771,211.2847,471.4237 M211.2847,471.4237 C214.2518,474.4702,205.9269,464.4266,208.6849,464.5791 M208.6849,464.5791 C211.4428,464.7316,223.7226,472.0351,227.8324,472.3389 M227.8324,472.3389 C231.9423,472.6426,230.0487,467.5594,233.3438,466.4016 M233.3438,466.4016 C236.639,465.2438,242.6486,466.973,247.6033,465.3921 M247.6033,465.3921 C252.558,463.8112,260.2231,455.7524,263.0721,456.9162 M263.0721,456.9162 C265.9211,458.08,260.678,470.062,264.6972,472.3747 M264.6972,472.3747 C268.7164,474.6873,281.9377,474.1798,287.1875,470.792 M287.1875,470.792 C292.4373,467.4043,291.6338,456.1213,296.196,452.0482 M296.196,452.0482 C300.7582,447.975,310.0384,445.5501,314.5609,446.3529 M314.5609,446.3529 C319.0834,447.1556,320.4829,453.0984,323.3309,456.8646 M323.3309,456.8646 C326.1789,460.6307,328.8486,467.5444,331.649,468.9497 M331.649,468.9497 C334.4493,470.3549,336.5877,466.9237,340.1328,465.2962 M340.1328,465.2962 C343.678,463.6687,348.1254,455.749,352.9199,459.1845 M352.9199,459.1845 C357.7144,462.62,364.9551,485.9118,368.8997,485.9091 M368.8997,485.9091 C372.8442,485.9065,372.4979,462.8481,376.587,459.1687 M376.587,459.1687 C380.676,455.4892,388.6016,460.5902,393.434,463.8325 M393.434,463.8325 C398.2665,467.0748,402.0225,480.2477,405.5817,478.6222 M405.5817,478.6222 C409.141,476.9968,410.5876,456.6737,414.7896,454.0798 M414.7896,454.0798 C418.9916,451.486,425.9722,463.4378,430.7939,463.0592 M430.7939,463.0592 C435.6156,462.6805,439.6705,452.1734,443.7197,451.8081 M443.7197,451.8081 C447.769,451.4428,451.4578,457.9274,455.0894,460.8674 M455.0894,460.8674 C458.721,463.8073,461.2996,466.7083,465.5094,469.4475 M465.5094,469.4475 C469.7191,472.1867,475.8744,479.4374,480.3477,477.3028 M480.3477,477.3028 C484.821,475.1681,489.1401,456.1558,492.349,456.6399 M492.349,456.6399 C495.558,457.1239,495.9402,477.2364,499.6013,480.2072 M499.6013,480.2072 C503.2625,483.1781,510.4264,476.745,514.3159,474.4652\" fill=\"none\" stroke=\"rgba(0,0,0,1)\" stroke-width=\"2\" stroke-miterlimit=\"10\"/>\n",
       "<path d=\"M32.3646,493.8164 C33.7798,496.0217,41.0559,508.648,42.0051,505.7218 M42.0051,505.7218 C42.9544,502.7956,38.6505,476.3405,38.0602,476.2594 M38.0602,476.2594 C37.47,476.1784,36.1352,500.7501,38.4635,505.2356 M38.4635,505.2356 C40.7918,509.7211,51.0349,506.3085,52.0302,503.1724 M52.0302,503.1724 C53.0255,500.0363,43.554,485.7528,44.4352,486.4192 M44.4352,486.4192 C45.3164,487.0855,55.9572,504.2405,57.3177,507.1706 M57.3177,507.1706 C58.6781,510.1007,51.2921,504.9923,52.5978,503.9997 M52.5978,503.9997 C53.9034,503.007,63.6371,504.083,65.1515,501.2148 M65.1515,501.2148 C66.6658,498.3466,61.079,485.7755,61.6839,486.7907 M61.6839,486.7907 C62.2887,487.8058,67.1411,505.3299,68.7806,507.3059 M68.7806,507.3059 C70.42,509.282,71.1083,499.9071,71.5205,498.6472 M71.5205,498.6472 C71.9327,497.3872,70.914,499.2656,71.2537,499.7461 M71.2537,499.7461 C71.5934,500.2267,70.9558,501.1368,73.5588,501.5302 M73.5588,501.5302 C76.1618,501.9236,84.3009,501.8085,86.8717,502.1065 M86.8717,502.1065 C89.4425,502.4045,89.2583,506.66,88.9836,503.3182 M88.9836,503.3182 C88.709,499.9765,84.693,481.9295,85.2237,482.0558 M85.2237,482.0558 C85.7543,482.1821,90.6592,499.9517,92.1675,504.0758 M92.1675,504.0758 C93.6758,508.1999,93.1176,506.2382,94.2735,506.8004 M94.2735,506.8004 C95.4295,507.3627,96.9079,510.5727,99.1033,507.4492 M99.1033,507.4492 C101.2987,504.3256,105.1476,490.7862,107.4462,488.059 M107.4462,488.059 C109.7448,485.3318,112.3132,488.6581,112.8948,491.086 M112.8948,491.086 C113.4763,493.5139,110.8096,502.2803,110.9354,502.6264 M110.9354,502.6264 C111.0612,502.9725,110.8961,493.7813,113.6495,493.1627 M113.6495,493.1627 C116.4029,492.5441,127.1313,499.395,127.4559,498.9147 M127.4559,498.9147 C127.7804,498.4345,115.9982,489.7955,115.597,490.281 M115.597,490.281 C115.1958,490.7666,123.3637,501.8325,125.0487,501.828 M125.0487,501.828 C126.7336,501.8235,125.6097,491.0342,125.7067,490.2541 M125.7067,490.2541 C125.8038,489.4739,125.4132,494.8611,125.6307,497.1472 M125.6307,497.1472 C125.8482,499.4332,124.4938,506.9269,127.0117,503.9705 M127.0117,503.9705 C129.5296,501.0141,139.3557,480.4574,140.7381,479.4086 M140.7381,479.4086 C142.1205,478.3599,135.2502,494.0118,135.306,497.6778 M135.306,497.6778 C135.3618,501.3438,139.0075,502.7606,141.0728,501.4047 M141.0728,501.4047 C143.1381,500.0488,147.0991,490.5547,147.6978,489.5423 M147.6978,489.5423 C148.2965,488.53,141.5095,494.6793,144.6649,495.3304 M144.6649,495.3304 C147.8202,495.9814,164.9317,495.482,166.6296,493.4489 M166.6296,493.4489 C168.3275,491.4157,155.912,483.5592,154.8524,483.1316 M154.8524,483.1316 C153.7928,482.7041,159.2114,487.2151,160.272,490.8837 M160.272,490.8837 C161.3326,494.5523,158.9038,503.6281,161.216,505.1432 M161.216,505.1432 C163.5281,506.6583,172.933,499.855,174.1447,499.9743 M174.1447,499.9743 C175.3564,500.0937,167.0134,505.6413,168.4862,505.8594 M168.4862,505.8594 C169.959,506.0775,179.7455,504.45,182.9815,501.2832 M182.9815,501.2832 C186.2174,498.1164,186.691,487.6909,187.902,486.8585 M187.902,486.8585 C189.1129,486.0262,189.0943,494.6127,190.2473,496.289 M190.2473,496.289 C191.4002,497.9653,192.9144,498.0926,194.8198,496.9165 M194.8198,496.9165 C196.7251,495.7403,201.0397,487.4966,201.6793,489.2319 M201.6793,489.2319 C202.3188,490.9671,199.3615,505.2103,198.657,507.328 M198.657,507.328 C197.9525,509.4456,196.7656,503.2185,197.4521,501.9379 M197.4521,501.9379 C198.1386,500.6572,200.122,499.7593,202.7759,499.6441 M202.7759,499.6441 C205.4299,499.5289,212.3634,500.8292,213.376,501.2466 M213.376,501.2466 C214.3885,501.664,208.4549,504.8209,208.8512,502.1487 M208.8512,502.1487 C209.2476,499.4764,214.3116,486.8936,215.7542,485.213 M215.7542,485.213 C217.1967,483.5324,214.3471,491.512,217.5065,492.0652 M217.5065,492.0652 C220.666,492.6183,233.3239,484.9911,234.711,488.532 M234.711,488.532 C236.0981,492.073,227.1004,511.8599,225.8293,513.3108 M225.8293,513.3108 C224.5581,514.7617,225.9137,500.7298,227.0843,497.2374 M227.0843,497.2374 C228.2549,493.7449,231.1856,493.3912,232.8529,492.3561 M232.8529,492.3561 C234.5202,491.321,236.4021,486.1353,237.088,491.0269 M237.088,491.0269 C237.7739,495.9185,234.6078,522.5337,236.9684,521.7057 M236.9684,521.7057 C239.329,520.8776,248.7483,489.5204,251.2516,486.0588 M251.2516,486.0588 C253.755,482.5971,252.1314,495.5137,251.9886,500.9356 M251.9886,500.9356 C251.8457,506.3575,249.5096,516.6398,250.3947,518.5899 M250.3947,518.5899 C251.2797,520.5401,256.7499,515.7011,257.2988,512.6363 M257.2988,512.6363 C257.8478,509.5715,253.2292,499.8507,253.6886,500.201 M253.6886,500.201 C254.148,500.5513,258.9629,516.5742,260.0552,514.7381 M260.0552,514.7381 C261.1475,512.902,256.8789,489.4159,260.2424,489.1843 M260.2424,489.1843 C263.606,488.9527,277.1368,512.5543,280.2365,513.3483 M280.2365,513.3483 C283.3363,514.1422,279.5329,496.4108,278.841,493.9482 M278.841,493.9482 C278.1492,491.4856,278.1699,499.4322,276.0853,498.5727 M276.0853,498.5727 C274.0007,497.7132,266.6008,488.1176,266.3334,488.791 M266.3334,488.791 C266.066,489.4644,269.6855,501.5923,274.4809,502.6133 M274.4809,502.6133 C279.2762,503.6343,291.9523,495.4165,295.1053,494.9172 M295.1053,494.9172 C298.2583,494.4178,292.8774,502.4133,293.399,499.6173 M293.399,499.6173 C293.9206,496.8214,297.0891,478.1884,298.2348,478.1416 M298.2348,478.1416 C299.3805,478.0947,298.4866,496.3753,300.2733,499.3361 M300.2733,499.3361 C302.0601,502.2969,308.015,496.3548,308.9552,495.9065 M308.9552,495.9065 C309.8954,495.4581,304.2278,496.8348,305.9143,496.6459 M305.9143,496.6459 C307.6007,496.4569,318.0675,495.8136,319.0737,494.7727 M319.0737,494.7727 C320.0799,493.7318,311.6269,491.3277,311.9514,490.4004 M311.9514,490.4004 C312.276,489.4731,320.4856,488.3091,321.0212,489.2089 M321.0212,489.2089 C321.5568,490.1086,315.407,494.282,315.1653,495.7991 M315.1653,495.7991 C314.9236,497.3163,319.7241,498.9506,319.5709,498.3118 M319.5709,498.3118 C319.4176,497.6731,312.9711,494.056,314.2456,491.9665 M314.2456,491.9665 C315.5201,489.877,325.7406,483.6299,327.218,485.7749 M327.218,485.7749 C328.6954,487.9199,322.0564,506.1634,323.1101,504.8366 M323.1101,504.8366 C324.1639,503.5098,332.4994,479.1269,333.5403,477.814 M333.5403,477.814 C334.5813,476.5011,327.9162,494.846,329.3557,496.9593 M329.3557,496.9593 C330.7952,499.0726,340.2671,488.8841,342.1773,490.4937 M342.1773,490.4937 C344.0876,492.1033,340.542,506.1106,340.8172,506.617 M340.8172,506.617 C341.0924,507.1234,340.4395,497.4673,343.8285,493.532 M343.8285,493.532 C347.2176,489.5968,358.3137,480.4856,361.1515,483.0056 M361.1515,483.0056 C363.9893,485.5256,360.2718,507.3278,360.8556,508.6519 M360.8556,508.6519 C361.4394,509.9759,364.1978,493.0064,364.6545,490.9499 M364.6545,490.9499 C365.1111,488.8933,363.8235,494.902,363.5955,496.3126 M363.5955,496.3126 C363.3675,497.7233,360.8882,496.2861,363.2865,499.4138 M363.2865,499.4138 C365.6848,502.5416,375.6228,514.1044,377.9855,515.0791 M377.9855,515.0791 C380.3481,516.0538,377.1111,507.3262,377.4624,505.2622 M377.4624,505.2622 C377.8136,503.1981,379.529,503.7025,380.0932,502.6947 M380.0932,502.6947 C380.6573,501.6868,380.8618,498.6731,380.8472,499.2152 M380.8472,499.2152 C380.8327,499.7572,379.3532,506.4419,380.0059,505.9469 M380.0059,505.9469 C380.6586,505.4519,383.8237,499.8941,384.7632,496.245 M384.7632,496.245 C385.7027,492.5958,384.3275,483.0351,385.6428,484.052 M385.6428,484.052 C386.9581,485.069,390.131,497.2574,392.6551,502.3465 M392.6551,502.3465 C395.1792,507.4356,399.9043,515.5012,400.7874,514.5866 M400.7874,514.5866 C401.6705,513.6719,397.1097,499.1029,397.9536,496.8587 M397.9536,496.8587 C398.7976,494.6144,403.6672,499.7915,405.8513,501.1208 M405.8513,501.1208 C408.0353,502.4501,410.3631,507.3687,411.0581,504.8345 M411.0581,504.8345 C411.7531,502.3003,407.9748,487.2394,410.0214,485.9156 M410.0214,485.9156 C412.0679,484.5918,422.7589,494.9084,423.3374,496.8917 M423.3374,496.8917 C423.9158,498.8749,413.1539,497.6726,413.4922,497.8152 M413.4922,497.8152 C413.8305,497.9578,423.3177,498.6469,425.3673,497.7472 M425.3673,497.7472 C427.4169,496.8475,425.3646,493.7676,425.7898,492.4173 M425.7898,492.4173 C426.2151,491.067,425.6241,491.1302,427.9187,489.6454 M427.9187,489.6454 C430.2132,488.1605,436.5032,482.821,439.5572,483.5082 M439.5572,483.5082 C442.6111,484.1954,446.0884,491.8164,446.2426,493.7687 M446.2426,493.7687 C446.3967,495.7209,440.795,493.7443,440.4821,495.2216 M440.4821,495.2216 C440.1691,496.699,445.5163,500.7484,444.3651,502.6329 M444.3651,502.6329 C443.2138,504.5173,434.0849,510.0453,433.5746,506.5284 M433.5746,506.5284 C433.0642,503.0115,438.4966,484.1085,441.3031,481.5316 M441.3031,481.5316 C444.1096,478.9547,446.192,488.541,450.4135,491.067 M450.4135,491.067 C454.6351,493.593,465.5751,495.1997,466.6323,496.6875 M466.6323,496.6875 C467.6895,498.1753,456.064,499.6757,456.7566,499.9939 M456.7566,499.9939 C457.4492,500.3121,468.5901,498.522,470.7879,498.5967 M470.7879,498.5967 C472.9858,498.6715,470.1795,501.8607,469.9435,500.4423 M469.9435,500.4423 C469.7076,499.0239,467.8097,492.1032,469.3721,490.0865 M469.3721,490.0865 C470.9346,488.0697,477.4738,488.1163,479.3183,488.3417 M479.3183,488.3417 C481.1628,488.5671,479.9201,491.2443,480.4392,491.4388 M480.4392,491.4388 C480.9583,491.6333,480.7093,488.0461,482.4328,489.5087 M482.4328,489.5087 C484.1563,490.9714,489.0206,497.8439,490.7801,500.2146 M490.7801,500.2146 C492.5396,502.5853,492.5907,504.1119,492.99,503.7327 M492.99,503.7327 C493.3892,503.3536,492.3773,500.7562,493.1757,497.9397 M493.1757,497.9397 C493.9741,495.1232,495.8572,487.5738,497.7805,486.8338 M497.7805,486.8338 C499.7038,486.0937,505.2609,492.1747,504.7154,493.4996 M504.7154,493.4996 C504.17,494.8245,494.1492,495.8292,494.5077,494.7831 M494.5077,494.7831 C494.8662,493.737,504.9414,486.0311,506.8663,487.2228 M506.8663,487.2228 C508.7912,488.4145,505.4732,500.9715,506.057,501.9334 M506.057,501.9334 C506.6407,502.8952,507.7746,495.9433,510.369,492.9939 M510.369,492.9939 C512.9634,490.0444,519.7797,482.9958,521.6233,484.2367 M521.6233,484.2367 C523.467,485.4775,520.3977,501.0953,521.4308,500.439 M521.4308,500.439 C522.4638,499.7827,527.1731,480.4896,527.8217,480.2989 M527.8217,480.2989 C528.4703,480.1082,524.8009,497.129,525.3225,499.2949\" fill=\"none\" stroke=\"rgba(0,0,0,1)\" stroke-width=\"2\" stroke-miterlimit=\"10\"/>\n",
       "<path d=\"M27.9707,524.1803 C30.1238,526.9843,28.9599,529.9493,29.8457,531.9876 M29.8457,531.9876 C30.7316,534.026,32.1398,535.5743,33.2856,536.4103 M33.2856,536.4103 C34.4314,537.2463,36.6848,541.9328,36.7206,537.0034 M36.7206,537.0034 C36.7565,532.0741,32.14,508.901,33.5008,506.834 M33.5008,506.834 C34.8615,504.7671,42.6995,521.9485,44.8852,524.602 M44.8852,524.602 C47.071,527.2555,46.6566,523.756,46.6153,522.7549 M46.6153,522.7549 C46.574,521.7538,43.1496,515.9257,44.6375,518.5953 M44.6375,518.5953 C46.1253,521.265,53.7478,537.4372,55.5424,538.7728 M55.5424,538.7728 C57.3371,540.1085,54.7613,528.6743,55.4053,526.6093 M55.4053,526.6093 C56.0492,524.5444,60.1344,524.8461,59.4061,526.3831 M59.4061,526.3831 C58.6778,527.9201,51.3117,535.5001,51.0355,535.8312 M51.0355,535.8312 C50.7593,536.1623,57.3246,529.3198,57.749,528.3697 M57.749,528.3697 C58.1733,527.4196,54.8611,534.7417,53.5817,530.1305 M53.5817,530.1305 C52.3023,525.5193,46.3768,502.0648,50.0728,500.7027 M50.0728,500.7027 C53.7687,499.3407,73.3357,515.0447,75.7573,521.9583 M75.7573,521.9583 C78.1789,528.872,64.2907,542.9203,64.6024,542.1847 M64.6024,542.1847 C64.9141,541.4491,77.4718,519.9669,77.6277,517.5447 M77.6277,517.5447 C77.7835,515.1226,66.1443,523.8673,65.5376,527.6517 M65.5376,527.6517 C64.9308,531.4361,73.3816,538.4694,73.9874,540.2512 M73.9874,540.2512 C74.5931,542.0331,69.0595,540.5102,69.172,538.3428 M69.172,538.3428 C69.2845,536.1754,74.2564,529.624,74.6624,527.247 M74.6624,527.247 C75.0683,524.8701,71.2051,521.4731,71.6076,524.0812 M71.6076,524.0812 C72.0101,526.6893,75.1005,540.5569,77.0772,542.8957 M77.0772,542.8957 C79.0539,545.2344,81.5962,537.7554,83.4677,538.1138 M83.4677,538.1138 C85.3392,538.4721,89.1399,545.6691,88.3062,545.0457 M88.3062,545.0457 C87.4725,544.4222,77.6089,537.3167,78.4654,534.3731 M78.4654,534.3731 C79.322,531.4295,91.7241,526.6505,93.4454,527.384 M93.4454,527.384 C95.1668,528.1174,89.2197,536.7578,88.7934,538.7738 M88.7934,538.7738 C88.3672,540.7898,90.1269,541.3407,90.8881,539.48 M90.8881,539.48 C91.6494,537.6192,93.7484,527.3829,93.3609,527.6092 M93.3609,527.6092 C92.9735,527.8355,87.7792,539.7912,88.5636,540.8378 M88.5636,540.8378 C89.348,541.8845,97.0837,536.2975,98.0674,533.889 M98.0674,533.889 C99.0511,531.4804,93.7197,526.2613,94.4657,526.3867 M94.4657,526.3867 C95.2117,526.5121,99.8832,535.9946,102.5432,534.6415 M102.5432,534.6415 C105.2032,533.2885,108.7765,519.8119,110.4257,518.2683 M110.4257,518.2683 C112.0749,516.7248,114.0745,524.1039,112.4385,525.3802 M112.4385,525.3802 C110.8026,526.6564,99.4632,525.4279,100.6099,525.926 M100.6099,525.926 C101.7566,526.424,117.3706,528.9179,119.3187,528.3685 M119.3187,528.3685 C121.2668,527.8191,113.3137,524.5633,112.2983,522.6293 M112.2983,522.6293 C111.2829,520.6953,112.3778,516.7016,113.2263,516.7645 M113.2263,516.7645 C114.0747,516.8274,117.0119,520.9873,117.3889,523.0069 M117.3889,523.0069 C117.7659,525.0265,116.2843,529.9765,115.4883,528.8822 M115.4883,528.8822 C114.6923,527.788,113.1109,517.4193,112.613,516.4414 M112.613,516.4414 C112.115,515.4635,111.4958,520.1019,112.5008,523.0146 M112.5008,523.0146 C113.5058,525.9273,117.0679,534.4738,118.643,533.9174 M118.643,533.9174 C120.2182,533.361,120.5065,519.9145,121.9515,519.6761 M121.9515,519.6761 C123.3965,519.4378,125.9198,530.9225,127.3131,532.4875 M127.3131,532.4875 C128.7063,534.0525,127.8972,527.7402,130.311,529.0662 M130.311,529.0662 C132.7248,530.3922,141.9499,541.2408,141.7961,540.4437 M141.7961,540.4437 C141.6423,539.6466,130.1873,525.0505,129.388,524.2837 M129.388,524.2837 C128.5887,523.5169,135.1466,538.9829,137.0003,535.8429 M137.0003,535.8429 C138.8541,532.7029,141.3115,508.1751,140.5105,505.4435 M140.5105,505.4435 C139.7095,502.7119,132.2273,515.6821,132.1944,519.4533 M132.1944,519.4533 C132.1615,523.2244,137.5049,524.2285,140.313,528.0704 M140.313,528.0704 C143.1212,531.9123,147.3048,543.5406,149.0435,542.5046 M149.0435,542.5046 C150.7822,541.4685,151.8868,523.7315,150.745,521.8541 M150.745,521.8541 C149.6033,519.9767,142.2733,528.5445,142.1931,531.2402 M142.1931,531.2402 C142.1129,533.9359,150.5168,537.8909,150.2639,538.0282 M150.2639,538.0282 C150.0109,538.1655,140.3603,534.0313,140.6756,532.0641 M140.6756,532.0641 C140.9909,530.0968,149.7501,526.425,152.1557,526.2249 M152.1557,526.2249 C154.5613,526.0247,153.8368,530.6654,155.1093,530.8632 M155.1093,530.8632 C156.3818,531.061,158.548,528.3479,159.7907,527.4117 M159.7907,527.4117 C161.0335,526.4755,161.0204,527.2155,162.5658,525.246 M162.5658,525.246 C164.1113,523.2765,167.5971,515.2981,169.0636,515.5946 M169.0636,515.5946 C170.5301,515.8911,171.9635,524.3266,171.3647,527.025 M171.3647,527.025 C170.7658,529.7235,165.036,529.9911,165.4705,531.7854 M165.4705,531.7854 C165.9049,533.5797,172.0319,538.9462,173.9713,537.7907 M173.9713,537.7907 C175.9108,536.6352,178.1303,525.6302,177.1073,524.8526 M177.1073,524.8526 C176.0843,524.0749,166.9628,531.1087,167.8333,533.1248 M167.8333,533.1248 C168.7037,535.1409,180.7003,539.2462,182.3301,536.9493 M182.3301,536.9493 C183.96,534.6525,177.3686,523.3483,177.6126,519.3437 M177.6126,519.3437 C177.8566,515.339,183.6426,511.589,183.7941,512.9215 M183.7941,512.9215 C183.9455,514.2541,178.1878,528.2906,178.5213,527.3391 M178.5213,527.3391 C178.8548,526.3877,185.3368,504.3556,185.7952,507.2128 M185.7952,507.2128 C186.2536,510.07,180.1764,537.6888,181.2715,544.4821 M181.2715,544.4821 C182.3667,551.2755,190.584,550.1845,192.3661,547.9727 M192.3661,547.9727 C194.1482,545.761,192.5862,534.0511,191.9639,531.2116 M191.9639,531.2116 C191.3416,528.372,187.1164,527.5877,188.6324,530.9353 M188.6324,530.9353 C190.1485,534.2829,199.6407,552.3704,201.0601,551.2972 M201.0601,551.2972 C202.4795,550.224,198.3693,529.7496,197.1488,524.4963 M197.1488,524.4963 C195.9283,519.243,192.888,520.2032,193.7369,519.7775 M193.7369,519.7775 C194.5859,519.3518,200.1934,517.8555,202.2426,521.9423 M202.2426,521.9423 C204.2919,526.029,204.3177,543.9124,206.0326,544.2982 M206.0326,544.2982 C207.7475,544.6841,211.9911,525.138,212.532,524.2573 M212.532,524.2573 C213.0729,523.3767,209.5049,539.3026,209.2779,539.0144 M209.2779,539.0144 C209.0509,538.7262,211.6993,525.1574,211.17,522.5283 M211.17,522.5283 C210.6407,519.8992,206.1793,522.9382,206.1022,523.2399 M206.1022,523.2399 C206.0251,523.5416,208.2409,521.6504,210.7074,524.3386 M210.7074,524.3386 C213.174,527.0267,219.0143,537.6797,220.9015,539.3687 M220.9015,539.3687 C222.7887,541.0577,221.4495,535.1438,222.0307,534.4724 M222.0307,534.4724 C222.6119,533.8011,224.7747,538.7703,224.3887,535.3408 M224.3887,535.3408 C224.0026,531.9114,219.1511,517.9985,219.7146,513.8956 M219.7146,513.8956 C220.2781,509.7927,226.5581,508.7219,227.7696,510.7234 M227.7696,510.7234 C228.9811,512.725,226.8979,521.0557,226.9835,525.9047 M226.9835,525.9047 C227.0691,530.7538,226.6514,541.5295,228.2832,539.8177 M228.2832,539.8177 C229.9149,538.106,235.306,518.5943,236.7738,515.6344 M236.7738,515.6344 C238.2416,512.6745,237.5515,519.8069,237.0898,522.0582 M237.0898,522.0582 C236.6282,524.3095,233.1243,528.29,234.0038,529.1424 M234.0038,529.1424 C234.8834,529.9947,241.002,526.2798,242.3671,527.1723 M242.3671,527.1723 C243.7323,528.0648,243.6785,531.4292,242.1949,534.4975 M242.1949,534.4975 C240.7113,537.5659,232.5523,548.1985,233.4655,545.5822 M233.4655,545.5822 C234.3787,542.9659,247.687,521.9095,247.6741,518.7998 M247.6741,518.7998 C247.6612,515.6902,234.0704,524.7927,233.3883,526.9242 M233.3883,526.9242 C232.7061,529.0556,241.4412,529.3504,243.581,531.5884 M243.581,531.5884 C245.7207,533.8265,244.4735,540.1007,246.2267,540.3525 M246.2267,540.3525 C247.98,540.6043,254.6524,534.7981,254.1004,533.0993 M254.1004,533.0993 C253.5483,531.4004,242.9274,532.705,242.9145,530.1592 M242.9145,530.1592 C242.9016,527.6133,251.9053,515.7555,254.0231,517.824 M254.0231,517.824 C256.1409,519.8925,254.8467,542.5961,255.6213,542.5702 M255.6213,542.5702 C256.3958,542.5443,258.6328,519.8954,258.6705,517.6686 M258.6705,517.6686 C258.7082,515.4418,255.8158,527.7089,255.8473,529.2093 M255.8473,529.2093 C255.8788,530.7098,257.4183,526.2828,258.8597,526.6712 M258.8597,526.6712 C260.301,527.0597,261.6307,531.1985,264.4952,531.5401 M264.4952,531.5401 C267.3597,531.8817,274.4438,530.1532,276.0469,528.7208 M276.0469,528.7208 C277.65,527.2883,274.7536,525.3767,274.1136,522.9454 M274.1136,522.9454 C273.4737,520.5141,273.0693,511.5935,272.2073,514.1328 M272.2073,514.1328 C271.3452,516.672,268.5147,535.532,268.9413,538.1812 M268.9413,538.1812 C269.3679,540.8304,273.3962,532.6357,274.7668,530.0279 M274.7668,530.0279 C276.1373,527.4202,275.0008,525.4624,277.1647,522.5347 M277.1647,522.5347 C279.3285,519.6071,285.204,509.9652,287.7497,512.4622 M287.7497,512.4622 C290.2955,514.9591,292.7242,535.4332,292.4393,537.5164 M292.4393,537.5164 C292.1545,539.5996,287.7288,525.4166,286.0408,524.9614 M286.0408,524.9614 C284.3528,524.5062,281.4736,534.5062,282.3112,534.7851 M282.3112,534.7851 C283.1488,535.0641,289.8568,527.2611,291.0664,526.6353 M291.0664,526.6353 C292.2761,526.0094,290.7849,533.4482,289.5691,531.03 M289.5691,531.03 C288.3534,528.6118,282.3658,510.612,283.7721,512.1259 M283.7721,512.1259 C285.1784,513.6398,296.8965,539.8354,298.0069,540.1134 M298.0069,540.1134 C299.1173,540.3915,289.1075,517.1974,290.4346,513.7941 M290.4346,513.7941 C291.7617,510.3908,302.8344,518.8171,305.9694,519.6935 M305.9694,519.6935 C309.1045,520.5699,309.1429,517.4352,309.2449,519.0527 M309.2449,519.0527 C309.3469,520.6703,306.3281,527.1311,306.5815,529.3986 M306.5815,529.3986 C306.8349,531.6662,310.9643,533.5215,310.7653,532.658 M310.7653,532.658 C310.5662,531.7944,305.7385,522.9992,305.3869,524.2174 M305.3869,524.2174 C305.0354,525.4356,307.7983,540.2532,308.6561,539.967 M308.6561,539.967 C309.5139,539.6809,310.5849,524.5675,310.5337,522.5005 M310.5337,522.5005 C310.4825,520.4334,307.9537,527.3316,308.3488,527.5645 M308.3488,527.5645 C308.744,527.7975,311.625,523.3472,312.9045,523.8982 M312.9045,523.8982 C314.184,524.4493,314.3246,529.93,316.0256,530.8708 M316.0256,530.8708 C317.7266,531.8116,322.3156,531.3121,323.1105,529.543 M323.1105,529.543 C323.9054,527.7738,320.7375,521.9954,320.7949,520.2557 M320.7949,520.2557 C320.8524,518.516,322.6574,514.8825,323.4554,519.1047 M323.4554,519.1047 C324.2533,523.327,322.9221,542.9777,325.5826,545.5894 M325.5826,545.5894 C328.2431,548.2011,339.1126,538.6443,339.4182,534.775 M339.4182,534.775 C339.7238,530.9056,329.2571,523.662,327.4163,522.3731 M327.4163,522.3731 C325.5754,521.0842,327.7326,526.8934,328.3729,527.0415 M328.3729,527.0415 C329.0133,527.1896,330.0702,522.244,331.2584,523.2617 M331.2584,523.2617 C332.4465,524.2794,334.6155,532.5423,335.502,533.1478 M335.502,533.1478 C336.3886,533.7533,336.1593,530.2727,336.5776,526.8946 M336.5776,526.8946 C336.9958,523.5165,336.7216,511.8872,338.0114,512.8793 M338.0114,512.8793 C339.3012,513.8713,342.4468,530.8556,344.3163,532.8471 M344.3163,532.8471 C346.1859,534.8387,349.0568,525.936,349.2287,524.8286 M349.2287,524.8286 C349.4006,523.7211,346.507,524.5105,345.3476,526.2025 M345.3476,526.2025 C344.1882,527.8945,341.0099,535.5951,342.2721,534.9806 M342.2721,534.9806 C343.5344,534.3661,350.8313,524.6648,352.921,522.5154 M352.921,522.5154 C355.0107,520.366,353.5023,523.4056,354.8104,522.0842 M354.8104,522.0842 C356.1185,520.7628,361.6266,513.0549,360.7695,514.5868 M360.7695,514.5868 C359.9124,516.1187,352.5133,526.1135,349.6678,531.2754 M349.6678,531.2754 C346.8223,536.4373,343.0703,543.3797,343.6964,545.5581 M343.6964,545.5581 C344.3224,547.7365,349.6962,546.5169,353.424,544.3458 M353.424,544.3458 C357.1517,542.1747,365.4244,535.5452,366.0626,532.5314 M366.0626,532.5314 C366.7009,529.5177,355.8794,527.2523,357.2536,526.2634 M357.2536,526.2634 C358.6278,525.2745,371.4062,525.6856,374.3081,526.5981 M374.3081,526.5981 C377.21,527.5107,374.9064,531.4044,374.6649,531.7387 M374.6649,531.7387 C374.4233,532.0729,372.853,527.3509,372.859,528.6035 M372.859,528.6035 C372.8651,529.8561,374.8498,539.2607,374.701,539.2542 M374.701,539.2542 C374.5522,539.2477,371.2675,532.0577,371.9661,528.5643 M371.9661,528.5643 C372.6647,525.0709,377.2666,519.4051,378.8927,518.294 M378.8927,518.294 C380.5187,517.1828,381.206,522.5005,381.7225,521.8972 M381.7225,521.8972 C382.239,521.2938,381.4852,515.0275,381.9916,514.6737 M381.9916,514.6737 C382.4979,514.3199,384.8357,517.7877,384.7607,519.7742 M384.7607,519.7742 C384.6856,521.7607,379.5866,526.9859,381.5411,526.5929 M381.5411,526.5929 C383.4956,526.1999,395.7709,518.2638,396.4877,517.4162 M396.4877,517.4162 C397.2044,516.5686,385.6068,522.0711,385.8415,521.5074 M385.8415,521.5074 C386.0762,520.9438,394.7534,515.1101,397.8959,514.0341 M397.8959,514.0341 C401.0385,512.9581,404.3663,511.763,404.6969,515.0513 M404.6969,515.0513 C405.0276,518.3396,401.5088,531.6549,399.8797,533.764 M399.8797,533.764 C398.2506,535.8732,394.422,529.6274,394.9221,527.7062 M394.9221,527.7062 C395.4223,525.785,401.4656,520.9419,402.8805,522.237 M402.8805,522.237 C404.2953,523.5321,400.677,536.612,403.4112,535.4769 M403.4112,535.4769 C406.1455,534.3418,419.0923,513.9566,419.2861,515.4262 M419.2861,515.4262 C419.4798,516.8958,405.4056,544.3633,404.5737,544.2943 M404.5737,544.2943 C403.7417,544.2253,413.7658,520.1541,414.2943,515.0121 M414.2943,515.0121 C414.8227,509.8702,407.6395,511.4702,407.7443,513.4424 M407.7443,513.4424 C407.8491,515.4146,415.6355,524.7103,414.923,526.8454 M414.923,526.8454 C414.2106,528.9804,402.7706,524.2001,403.4699,526.2528 M403.4699,526.2528 C404.1691,528.3055,416.4099,538.9804,419.1184,539.1615 M419.1184,539.1615 C421.8269,539.3425,418.7951,530.5214,419.7208,527.3392 M419.7208,527.3392 C420.6466,524.157,424.3162,519.0112,424.6729,520.0683 M424.6729,520.0683 C425.0296,521.1253,420.8333,531.475,421.8611,533.6815 M421.8611,533.6815 C422.8889,535.8881,429.3742,534.2633,430.8395,533.3075 M430.8395,533.3075 C432.3048,532.3517,431.1257,527.6837,430.6529,527.9468 M430.6529,527.9468 C430.1801,528.21,427.1857,536.7784,428.0025,534.8863 M428.0025,534.8863 C428.8194,532.9942,432.2662,515.0478,435.554,516.5941 M435.554,516.5941 C438.8418,518.1405,446.9894,541.7457,447.7296,544.1645 M447.7296,544.1645 C448.4697,546.5833,440.8207,533.5895,439.9951,531.107 M439.9951,531.107 C439.1695,528.6245,442.5018,530.4441,442.776,529.2697 M442.776,529.2697 C443.0502,528.0953,442.388,523.8091,441.6402,524.0606 M441.6402,524.0606 C440.8924,524.3121,436.7671,529.0821,438.2891,530.7786 M438.2891,530.7786 C439.8111,532.4752,449.399,532.0663,450.772,534.2397 M450.772,534.2397 C452.1449,536.413,447.6329,544.695,446.5268,543.8188 M446.5268,543.8188 C445.4208,542.9425,444.7712,533.5501,444.1358,528.9821 M444.1358,528.9821 C443.5004,524.4142,440.9722,517.3101,442.7144,516.4109 M442.7144,516.4109 C444.4566,515.5116,450.4307,523.466,454.5889,523.5866 M454.5889,523.5866 C458.747,523.7073,466.4278,515.9765,467.6632,517.1348 M467.6632,517.1348 C468.8986,518.293,463.3578,527.7411,462.0012,530.5364 M462.0012,530.5364 C460.6446,533.3316,458.1879,534.2098,459.5235,533.9062 M459.5235,533.9062 C460.859,533.6027,469.3082,527.7925,470.0143,528.7153 M470.0143,528.7153 C470.7205,529.6381,466.6989,539.5064,463.7602,539.443 M463.7602,539.443 C460.8216,539.3796,451.5401,531.9072,452.3823,528.3347 M452.3823,528.3347 C453.2244,524.7622,466.9087,519.6042,468.8131,518.008 M468.8131,518.008 C470.7176,516.4118,464.9153,517.7735,463.809,518.7576 M463.809,518.7576 C462.7028,519.7417,461.631,521.9082,462.1759,523.9126 M462.1759,523.9126 C462.7208,525.9169,463.7786,527.932,467.0783,530.7839 M467.0783,530.7839 C470.3779,533.6359,482.3592,541.9177,481.9737,541.0243 M481.9737,541.0243 C481.5881,540.131,467.4704,528.0249,464.765,525.424 M464.765,525.424 C462.0596,522.823,463.5669,525.8555,465.7411,525.4187 M465.7411,525.4187 C467.9152,524.982,474.8232,522.5713,477.8101,522.8034 M477.8101,522.8034 C480.7971,523.0354,482.7989,525.6984,483.6627,526.811 M483.6627,526.811 C484.5266,527.9235,483.4212,527.8163,482.9932,529.4785 M482.9932,529.4785 C482.5652,531.1407,480.9837,534.6365,481.0947,536.7841 M481.0947,536.7841 C481.2056,538.9317,482.6637,545.9079,483.6589,542.3641 M483.6589,542.3641 C484.6542,538.8203,485.3466,515.7886,487.0662,515.5214 M487.0662,515.5214 C488.7858,515.2541,492.517,538.2581,493.9767,540.7607 M493.9767,540.7607 C495.4363,543.2633,495.3897,531.2428,495.8243,530.5368 M495.8243,530.5368 C496.2588,529.8308,495.7756,538.7101,496.5837,536.5247 M496.5837,536.5247 C497.3919,534.3393,497.8966,520.5375,500.6733,517.4243 M500.6733,517.4243 C503.45,514.311,511.1731,516.8282,513.244,517.8454 M513.244,517.8454 C515.3149,518.8626,514.1928,521.8201,513.0988,523.5275 M513.0988,523.5275 C512.0047,525.235,506.25,528.3747,506.6798,528.09 M506.6798,528.09 C507.1096,527.8053,515.7732,522.3139,515.6776,521.8192 M515.6776,521.8192 C515.5821,521.3246,506.8916,525.4965,506.1065,525.122 M506.1065,525.122 C505.3214,524.7475,508.2675,520.0725,510.967,519.5722 M510.967,519.5722 C513.6665,519.0719,522.4249,520.3408,522.3036,522.1203 M522.3036,522.1203 C522.1824,523.8998,510.4324,528.5906,510.2394,530.2492 M510.2394,530.2492 C510.0465,531.9078,520.0336,531.9595,521.1459,532.072 M521.1459,532.072 C522.2582,532.1845,516.3893,531.1782,516.9133,530.9241 M516.9133,530.9241 C517.4372,530.67,521.8991,531.7414,524.2894,530.5474 M524.2894,530.5474 C526.6798,529.3535,529.9851,525.7266,531.2553,523.7606 M531.2553,523.7606 C532.5255,521.7945,532.0181,520.7401,531.9108,518.7511 M531.9108,518.7511 C531.8035,516.7621,530.4095,509.866,530.6116,511.8265 M530.6116,511.8265 C530.8136,513.7869,531.7006,525.0005,533.123,530.5138 M533.123,530.5138 C534.5454,536.0271,539.9927,545.7726,539.1458,544.9062\" fill=\"none\" stroke=\"rgba(0,0,0,1)\" stroke-width=\"2\" stroke-miterlimit=\"10\"/>\n",
       "</svg>"
      ],
      "text/plain": [
       "<IPython.core.display.SVG object>"
      ]
     },
     "metadata": {},
     "output_type": "display_data"
    }
   ],
   "source": [
    "size = 200\n",
    "d = document(size, size, 'mm')\n",
    "page = d.addpage()\n",
    "line_figure = shape().stroke(rgba(0, 255, 0, 255)).width(1)\n",
    "curve_figure = shape().stroke(rgba(0, 0, 0, 255)).width(2)\n",
    "row_n = 16\n",
    "for i in range(row_n):\n",
    "    scribble_poly = make_scribble(\n",
    "                        width=size-20,\n",
    "                        height=(size/row_n)*0.25,\n",
    "                        steps=int(uniform(25, 250)),\n",
    "                        stddev=uniform(2))\n",
    "    scribble_poly_tr = scribble_poly.translate(\n",
    "        10, 10 + (i*size/(row_n+1))) # row_n + 1 to leave some space at the bottom\n",
    "    lines = line_figure.polyline(scribble_poly_tr)\n",
    "    curve = curve_figure.path(scribble_poly_tr.smooth_path())\n",
    "    page.place(curve)\n",
    "    #page.place(lines) # uncomment to see original lines\n",
    "show(page)"
   ]
  },
  {
   "cell_type": "markdown",
   "metadata": {},
   "source": [
    "> Exercise: Use the `i` parameter of the loop to control some other aspect of the line generation. (For example, make it so the number of steps increases as the scribbles move down the page.)\n",
    "\n",
    "> Exercise: Introduce randomly-placed crosses (like the cross in `t`) and dots (as in `i`)."
   ]
  },
  {
   "cell_type": "markdown",
   "metadata": {},
   "source": [
    "## Weighted strokes\n",
    "\n",
    "The strokes produced by the flat library have a uniform width and texture, which makes the resulting artifacts resemble drawings made with a very precise pen. The problem of how to simulate how different writing implements make marks on a page (\"brushes\" in a tool like PhotoShop) is an open area of research in computer graphics research. ([A recent review](https://onlinelibrary.wiley.com/doi/full/10.1002/cav.1435).)\n",
    "\n",
    "The Bezmerizing library implements a simple technique for simulating an ink brush or other kinds of pens, which works by drawing a polygon along the tangents of the curves composing the stroke. The `Polyline` object has a `.fancy_curve()` method that performs the technique. To demonstrate, let's create a `Polyline` object with a set of points:"
   ]
  },
  {
   "cell_type": "code",
   "execution_count": 68,
   "metadata": {},
   "outputs": [],
   "source": [
    "pline = Polyline([[10, 10], [15, 15], [15, 85], [50, 50], [85, 85], [85, 15], [90, 10]])"
   ]
  },
  {
   "cell_type": "markdown",
   "metadata": {},
   "source": [
    "... and then create the polygon around the curve with `.fancy_curve()`. The `samples_per` parameter controls the resolution of the polygon (lower values are faster to calculate but chunkier) and the `thicknesses` parameter controls the thickness of the polygon along the path."
   ]
  },
  {
   "cell_type": "code",
   "execution_count": 69,
   "metadata": {},
   "outputs": [],
   "source": [
    "curve_poly = pline.fancy_curve(samples_per=24, thicknesses=[0, 2, 10, 2, 8, 2])"
   ]
  },
  {
   "cell_type": "markdown",
   "metadata": {},
   "source": [
    "Here's an example that draws the original polyline, the Catmull-Rom curve created from the polyline, and the simulated brushstroke, just to show you how it works:"
   ]
  },
  {
   "cell_type": "code",
   "execution_count": 70,
   "metadata": {},
   "outputs": [
    {
     "data": {
      "image/svg+xml": [
       "<svg xmlns=\"http://www.w3.org/2000/svg\" xmlns:xlink=\"http://www.w3.org/1999/xlink\" version=\"1.1\" width=\"283.4646pt\" height=\"283.4646pt\" viewBox=\"0 0 283.4646 283.4646\">\n",
       "<title>Untitled</title>\n",
       "<polygon points=\"42.5197 42.5197 42.8611 47.7491 42.9893 54.1283 42.932 61.5332 42.7173 69.8427 42.3732 78.9367 41.9278 88.6954 41.409 98.9995 40.8449 109.7294 40.2635 120.7658 39.6928 131.9891 39.1607 143.2797 38.6952 154.5177 38.3243 165.5829 38.0758 176.3545 37.9776 186.711 38.0572 196.5298 38.3417 205.6859 38.8572 214.0508 39.6274 221.4897 41.1102 227.776 42.8419 232.7223 44.7035 236.0182 46.212 237.2526 46.634 236.8306 46.6171 236.202 46.1117 235.558 46.8223 234.591 48.6534 232.5536 51.185 229.3726 54.185 225.1772 57.5346 220.1178 61.1645 214.3376 65.0283 207.9712 69.0913 201.1469 73.3252 193.9882 77.7066 186.6148 82.2164 179.1423 86.8403 171.6824 92.5193 165.0659 98.2631 158.7243 104.063 152.7756 109.921 147.3356 115.8573 142.5207 121.9204 138.4561 128.1988 135.3017 134.8045 133.3146 141.7323 132.93 141.7323 133.5267 148.1792 135.0391 153.9034 137.9564 159.1239 141.8609 164.0643 146.5573 168.8603 151.9355 173.5798 157.9031 178.2514 164.3657 182.8823 171.223 187.4673 178.3692 192.8471 185.0915 198.1639 191.8959 203.3897 198.6544 208.4954 205.2376 213.4498 211.5139 218.2176 217.3482 222.7569 222.5992 227.0108 227.1152 230.892 230.7276 234.2402 233.243 236.7157 234.4611 237.5978 234.3899 236.2345 234.0497 234.5097 234.5097 234.1932 234.1932 233.9482 233.6342 234.4605 230.9382 235.0105 226.4672 235.3832 220.5694 236.4174 213.5447 237.2188 205.464 237.7986 196.5071 238.1775 186.829 238.3801 176.5712 238.4327 165.8672 238.3625 154.8459 238.1972 143.633 237.9647 132.3524 237.6927 121.1266 237.4095 110.0768 237.1429 99.3238 236.921 88.9876 236.772 79.1876 236.724 70.0426 236.8053 61.6704 237.0444 54.187 237.4708 47.7056 238.1165 42.3311 243.7732 42.7082 244.0346 47.7969 244.5029 54.0593 245.1544 61.3631 245.9625 69.5835 246.9 78.5992 247.9392 88.2902 249.0523 98.5376 250.2116 109.2232 251.3891 120.2295 252.5569 131.4394 253.6873 142.7368 254.7521 154.0063 255.7234 165.1343 256.5728 176.0087 257.2716 186.5209 257.7903 196.5667 258.0975 206.0501 258.158 214.8882 257.9272 223.0234 256.4546 230.2889 254.5234 236.7469 251.8626 242.508 247.6965 247.6965 247.3801 247.3801 240.9747 250.6941 234.2296 250.4517 229.0776 247.9668 224.9155 244.5044 221.0717 240.317 217.2553 235.449 213.355 229.9516 209.3323 223.9008 205.1794 217.3896 200.9032 210.5213 196.5173 203.4054 192.0396 196.1549 187.4898 188.8851 182.8888 181.7126 177.4278 175.388 171.9964 169.4431 166.6383 164.0168 161.4096 159.2535 156.3879 155.3032 151.69 152.3184 147.5005 150.4334 144.0919 149.6975 141.7323 149.9378 141.7323 150.5346 139.8535 151.422 137.3264 153.088 134.1949 155.7231 130.6197 159.3398 126.7383 163.8533 122.6481 169.1444 118.4183 175.0846 114.0998 181.5451 109.7327 188.3994 104.3759 194.8343 99.019 201.436 93.6969 208.0715 88.4393 214.612 83.2716 220.9323 78.2148 226.9115 73.2827 232.433 68.478 237.3871 63.7805 241.672 59.12 245.1938 54.3136 247.8369 48.99 249.2835 43.1028 248.5418 38.4054 245.0592 38.8274 244.6372 36.4148 240.124 35.1033 234.9628 34.3538 228.9801 33.9914 222.1031 33.4965 214.3821 33.2712 205.8282 33.2831 196.544 33.5024 186.6388 33.9005 176.2254 34.4488 165.4186 35.1193 154.3345 35.8839 143.0901 36.7148 131.8028 37.5838 120.5903 38.4632 109.5706 39.3249 98.8619 40.1411 88.5823 40.8838 78.8501 41.5253 69.7835 42.0375 61.5003 42.3926 54.1181 42.5627 47.7533 42.5197 42.5197\" fill=\"rgba(0,0,0,0.9412)\"/>\n",
       "<path d=\"M42.5197,42.5197 C44.8819,77.9528,25.9843,224.4094,42.5197,240.9449 M42.5197,240.9449 C59.0551,257.4803,108.6614,141.7323,141.7323,141.7323 M141.7323,141.7323 C174.8031,141.7323,224.4094,257.4803,240.9449,240.9449 M240.9449,240.9449 C257.4803,224.4094,238.5827,77.9528,240.9449,42.5197\" fill=\"none\" stroke=\"rgba(0,255,0,1)\" stroke-miterlimit=\"10\"/>\n",
       "<polyline points=\"28.3465 28.3465 42.5197 42.5197 42.5197 240.9449 141.7323 141.7323 240.9449 240.9449 240.9449 42.5197 255.1181 28.3465\" fill=\"none\" stroke=\"rgba(255,0,0,1)\" stroke-miterlimit=\"10\"/>\n",
       "</svg>"
      ],
      "text/plain": [
       "<IPython.core.display.SVG object>"
      ]
     },
     "metadata": {},
     "output_type": "display_data"
    }
   ],
   "source": [
    "d = document(100, 100, 'mm')\n",
    "page = d.addpage()\n",
    "curve_figure = shape().nostroke().fill(rgba(0, 0, 0, 240))\n",
    "smooth_figure = shape().stroke(rgba(0, 255, 0, 255))\n",
    "poly_figure = shape().stroke(rgba(255, 0, 0, 255))\n",
    "smooth_path = pline.smooth_path()\n",
    "fancy_poly = curve_figure.polygon(curve_poly)\n",
    "path = smooth_figure.path(smooth_path)\n",
    "poly = poly_figure.polyline(pline)\n",
    "page.place(fancy_poly)\n",
    "page.place(path)\n",
    "page.place(poly)\n",
    "show(page)"
   ]
  },
  {
   "cell_type": "markdown",
   "metadata": {},
   "source": [
    "Here's the \"alien characters\" example above, except using `fancy_curve()` to generate polygons for each stroke. (Try playing around with the `thickness` parameter.)"
   ]
  },
  {
   "cell_type": "code",
   "execution_count": 71,
   "metadata": {},
   "outputs": [
    {
     "data": {
      "image/svg+xml": [
       "<svg xmlns=\"http://www.w3.org/2000/svg\" xmlns:xlink=\"http://www.w3.org/1999/xlink\" version=\"1.1\" width=\"425.1969pt\" height=\"425.1969pt\" viewBox=\"0 0 425.1969 425.1969\">\n",
       "<title>Untitled</title>\n",
       "<polygon points=\"23.3025 29.3157 23.3584 29.2126 22.6008 28.8363 21.2056 28.5153 19.4177 28.3445 17.4319 28.3209 15.4059 28.4101 13.4769 28.5672 11.7714 28.7436 10.4095 28.8893 9.5084 28.9542 8.5039 23.6426 8.5039 23.7867 8.0111 23.9654 8.8233 23.8648 10.0325 23.6824 11.5787 23.4691 13.402 23.276 15.4423 23.1548 17.6392 23.1575 19.9341 23.2891 22.2876 23.5576 24.645 24.1202 26.9429 25.0414 26.9429 25.0414 29.2435 26.3661 31.7129 28.0753 34.2693 30.0677 36.8149 32.2389 39.2465 34.4835 41.4596 36.6967 43.3516 38.7782 44.8269 40.6429 45.8098 42.2784 46.0656 44.1725 44.1142 45.5315 44.1142 45.5315 41.977 45.036 39.0828 43.8586 35.3909 42.1396 31.1114 40.0705 26.5142 37.7853 21.8773 35.4217 17.4701 33.1395 13.5627 31.0987 10.4254 29.4598 8.3289 28.3832 8.5039 24.3392 8.5039 24.2671 10.1115 24.7493 11.9831 25.6046 14.8112 26.938 18.375 28.6394 22.4539 30.5982 26.827 32.7042 31.2737 34.847 35.5733 36.9162 39.505 38.8015 42.8481 40.3925 45.3819 41.5788 42.8465 46.6496 40.3772 45.3343 37.0985 43.6144 33.2313 41.6002 28.9962 39.4021 24.6139 37.1304 20.3052 34.8955 16.2908 32.8077 12.7915 30.9775 10.0279 29.5151 8.2207 28.5309 8.5039 28.351 8.5039 28.2789 10.1705 25.0643 12.1876 26.2618 15.244 28.0207 19.0685 30.1805 23.39 32.5802 27.9366 35.0592 32.4359 37.4561 36.6242 39.5874 40.2296 41.2663 42.9204 42.363 44.1142 42.6969 44.1142 42.6969 43.34 43.3937 43.2279 43.4484 42.5185 42.288 41.198 40.6212 39.4112 38.6561 37.2834 36.5284 34.9327 34.3584 32.4752 32.2623 30.0285 30.3552 27.7155 28.7536 25.6752 27.5767 25.6752 27.5767 23.7995 26.8258 21.8092 26.3516 19.7616 26.1185 17.7223 26.1832 15.7722 26.4534 13.9732 26.8338 12.3853 27.2762 11.0688 27.7318 10.0841 28.1514 9.4918 28.4855 8.5039 28.8314 8.5039 28.9755 8.1617 23.4967 9.0999 23.1268 10.5339 22.6706 12.3599 22.1781 14.4776 21.6997 16.7925 21.2873 19.2212 20.9962 21.7006 20.8922 24.2049 21.0729 26.7581 21.7333 29.3157 23.3025\" fill=\"rgba(0,0,0,1)\"/>\n",
       "<polygon points=\"4.252 79.4587 4.6912 76.4319 5.657 73.4958 7.0305 70.6155 8.7465 67.8218 10.7571 65.1796 13.0247 62.7711 15.5269 60.6901 18.2648 59.0496 21.2628 58.013 24.4985 57.8494 27.7066 58.8585 27.6608 58.9502 30.4565 61.0865 33.0472 64.0212 35.6086 67.6186 38.1132 71.712 40.4812 76.1094 42.6161 80.6084 44.4159 85.0052 45.7758 89.1039 46.5867 92.7389 46.6932 95.855 45.4545 98.6041 45.382 98.5316 42.4256 99.3723 39.4241 98.5624 35.9561 96.9526 32.0155 94.7871 27.7472 92.2903 23.3876 89.6067 19.153 86.9455 15.2658 84.5184 11.958 82.5422 9.4993 81.2472 8.5039 80.876 8.5039 80.876 9.4158 79.9939 9.6841 80.7109 10.7351 82.538 12.4062 84.8858 14.5127 87.482 16.8814 90.0961 19.3392 92.5053 21.7024 94.4852 23.7474 95.8047 25.0906 96.2726 25.3069 96.2616 25.3069 96.2616 25.69 95.408 25.9463 93.3514 25.8974 90.4427 25.6017 86.9431 25.1531 83.0554 24.651 78.9616 24.1961 74.8335 23.8561 70.8369 23.7537 67.1166 24.0281 63.7915 24.8734 60.9357 24.8275 60.9128 26.4268 58.616 28.5932 56.8455 31.116 55.5501 33.8374 54.685 36.6197 54.2281 39.3368 54.1778 41.8815 54.5629 44.1685 55.4886 46.0158 57.2242 46.7876 59.847 46.0997 62.6463 46.1455 62.6692 44.2473 65.5406 41.3618 68.8157 37.6793 72.5199 33.4416 76.5264 28.9089 80.6781 24.3489 84.8085 20.0345 88.7454 16.2452 92.3092 13.2772 95.3001 11.4879 97.4202 11.3386 97.2638 5.6693 97.2638 7.0116 94.1108 9.3357 91.5155 12.5614 88.413 16.5042 84.8468 20.9184 80.958 25.5419 76.9082 30.1058 72.8664 34.3358 69.007 37.9506 65.5143 40.6501 62.6023 42.0828 60.6379 42.1286 60.6608 42.4507 59.7813 42.4199 59.4611 41.973 58.9895 40.7953 58.4437 39.0258 58.093 36.9004 58.0428 34.6327 58.3216 32.4179 58.928 30.4393 59.8399 28.8601 61.0124 27.7906 62.3943 27.7448 62.3714 27.0851 64.3515 26.7575 67.2133 26.7554 70.69 27.0174 74.5593 27.4655 78.6247 27.9667 82.711 28.421 86.649 28.7273 90.2795 28.7787 93.4642 28.433 96.1231 27.3113 98.266 27.3113 98.266 24.8588 99.0977 22.4563 98.3282 19.9999 96.7516 17.4269 94.5978 14.8348 92.0575 12.3609 89.3274 10.1533 86.6061 8.3596 84.0846 7.1165 81.9119 6.5821 79.92 8.5039 78.0413 8.5039 78.0413 10.6723 78.6667 13.3638 80.0807 16.7514 82.1042 20.663 84.5465 24.8896 87.2027 29.2118 89.8633 33.4046 92.3161 37.2629 94.2842 40.4903 95.5705 42.639 95.998 42.8463 95.9959 42.7739 95.9235 42.7124 95.5088 42.4509 93.4747 41.5696 90.4144 40.1337 86.7142 38.2548 82.6499 36.0488 78.467 33.6343 74.4033 31.1359 70.6978 28.6942 67.5998 26.5025 65.3843 24.9574 64.3569 24.9115 64.4486 23.9459 64.2805 22.834 64.4847 21.4309 65.1404 19.8345 66.2957 18.1898 67.8935 16.6182 69.8259 15.2175 71.966 14.0708 74.1754 13.2505 76.2983 12.8116 78.1445 12.7559 79.4587\" fill=\"rgba(0,0,0,1)\"/>\n",
       "<polygon points=\"39.8622 132.6083 40.6041 130.0255 42.4787 128.0716 44.5728 127.3695 46.2945 127.4548 47.708 127.937 48.9896 128.7957 50.2094 130.6856 49.4928 133.7852 47.702 134.7792 46.0744 134.9502 44.1142 134.87 44.1142 134.689 41.5102 134.4217 38.1758 134.0215 34.281 133.5394 30.027 133.0851 25.6267 132.7684 21.3124 132.5191 17.3112 132.3867 13.8605 132.4191 11.2291 132.6534 9.8195 133.0299 9.9213 132.6083 9.9213 132.6083 10.2605 132.8655 12.115 134.3504 15.1182 136.2404 18.9293 138.3436 23.2552 140.5314 27.8159 142.6871 32.3349 144.6974 36.558 146.3934 40.188 147.6874 42.9005 148.4864 44.1142 148.6643 44.1142 148.5739 42.8216 149.5676 42.6235 149.5614 41.8563 148.2381 40.4954 146.3586 38.6808 144.1958 36.542 141.9454 34.2077 139.7864 31.8156 137.8953 29.5287 136.4494 27.5751 135.6138 26.3091 135.4429 26.3091 129.7736 29.384 130.4321 32.2127 131.8706 34.9289 133.8225 37.5399 136.1319 39.988 138.655 42.1901 141.2471 44.0542 143.7664 45.4892 146.0873 46.4142 148.1618 46.584 150.4298 44.1142 152.2529 44.1142 152.1624 41.9969 151.6782 39.1244 150.6378 35.4571 149.136 31.2125 147.3004 26.6349 145.264 22.0121 143.0789 17.6094 140.8522 13.6884 138.688 10.498 136.6786 8.2389 134.8526 7.0866 132.6083 7.0866 132.6083 8.5127 130.5144 10.7818 129.8543 13.7421 129.5869 17.3546 129.5524 21.4467 129.6876 25.8142 129.9399 30.2429 130.2587 34.5236 130.4731 38.4277 130.593 41.715 130.6276 44.1142 130.5275 44.1142 130.3466 45.4983 130.0991 45.9441 129.8353 45.1566 130.2274 44.5738 132.6581 45.2585 133.9126 45.5368 134.2697 45.6794 134.4844 46.0635 134.6365 46.9536 134.436 47.9587 133.5189 48.3661 132.6083\" fill=\"rgba(0,0,0,1)\"/>\n",
       "<polygon points=\"44.1142 190.0098 45.5971 189.336 44.8214 189.8721 43.4496 191.4779 41.824 193.7093 40.0291 196.2677 38.0919 198.9104 36.0137 201.4184 33.7666 203.5829 31.2692 205.1724 28.435 205.8025 25.6028 204.9756 25.6752 204.8307 23.31 203.0733 21.1919 200.525 19.2133 197.353 17.3377 193.7052 15.5571 189.7372 13.8737 185.6113 12.2941 181.4943 10.8271 177.5558 9.4837 173.9689 8.2782 170.9133 7.2362 168.5866 7.1638 168.6228 6.1092 166.9426 5.1262 165.6479 4.2786 164.7484 3.6617 164.2744 3.5822 164.3343 6.1574 163.5677 6.4754 161.9417 6.7668 162.1987 7.5255 163.0326 8.7608 164.2939 10.5083 165.9484 6.4995 169.9572 4.7355 167.9329 3.4626 166.2512 2.616 164.8779 2.1048 163.6634 2.3225 161.3016 5.3993 160.535 6.3231 161.3306 7.1108 162.3281 7.9688 163.6359 8.8921 165.2841 9.8441 167.2827 9.7716 167.3189 10.8968 169.8281 12.1326 172.9595 13.4847 176.5696 14.9474 180.4968 16.5114 184.5734 18.1656 188.6277 19.8965 192.4854 21.6863 195.9677 23.5069 198.889 25.3016 201.0562 26.9429 202.2953 27.0153 202.1504 28.1896 202.1662 29.2683 201.5589 30.57 200.2522 31.9882 198.2832 33.4216 195.8417 34.822 193.1401 36.1708 190.3811 37.4748 187.7431 38.7985 185.3491 40.4641 183.1764 44.1142 181.5059\" fill=\"rgba(0,0,0,1)\"/>\n",
       "<polygon points=\"11.5105 259.7192 7.6896 260.6949 4.7395 258.5114 4.4525 256.2474 4.5252 254.1333 4.3287 251.836 4.3285 249.3063 4.5199 246.6794 4.6519 244.0484 4.8784 241.5074 5.4014 239.1336 6.4995 236.9031 10.5083 240.9119 9.7671 241.3501 8.8186 242.7219 7.9414 244.6824 7.3377 246.9876 7.1612 249.4106 7.1611 251.7235 7.3325 253.7404 8.1409 255.0909 8.9575 255.1211 7.4789 253.7403 5.4973 253.706\" fill=\"rgba(0,0,0,1)\"/>\n",
       "<polygon points=\"8.5039 287.8051 7.465 288.0466 8.3216 287.9067 9.5856 287.684 11.2 287.4297 13.1085 287.1961 15.2557 287.0364 17.587 287.0061 20.0483 287.1641 22.5841 287.5742 25.1332 288.3058 27.6214 289.4324 27.5678 289.5396 29.8048 290.927 32.0563 292.5596 34.2928 294.3847 36.4709 296.3486 38.5405 298.3967 40.4486 300.4742 42.141 302.528 43.5635 304.5089 44.6631 306.3794 45.3834 308.1347 45.6113 309.8622 45.5315 309.8622 44.6068 311.7871 42.9196 312.5882 40.9617 312.8814 38.7264 312.9178 36.3046 312.7796 33.83 312.5233 31.4513 312.2005 29.3232 311.8616 27.6027 311.5568 26.4486 311.3362 26.3091 308.4449 26.3091 308.4449 26.7237 308.4449 27.8608 308.4449 29.5597 308.4449 31.66 308.4449 34.001 308.4449 36.4223 308.4449 38.7633 308.4449 40.8635 308.4449 42.5624 308.4449 43.6995 308.4449 44.1142 308.4449 44.1142 308.405 44.339 311.3876 43.6094 311.6761 42.4733 312.05 40.9878 312.4586 39.209 312.8508 37.1916 313.1747 34.9889 313.3767 32.6524 313.4002 30.2328 313.1842 27.7826 312.6608 25.3627 311.7548 25.336 311.8084 22.9728 310.4064 20.7738 308.6256 18.7047 306.5885 16.7498 304.4047 14.9063 302.1835 13.1807 300.0376 11.5889 298.086 10.1626 296.4596 8.975 295.3103 8.2355 294.8113 8.5039 294.8917 8.5039 289.2224 10.9395 289.9651 12.6414 291.3054 14.1492 292.952 15.6525 294.8572 17.2044 296.9522 18.8165 299.1472 20.4845 301.3405 22.1949 303.4241 23.925 305.2864 25.6388 306.8165 27.2821 307.916 27.2554 307.9696 29.0092 308.7358 30.9066 309.2491 32.8881 309.5347 34.8858 309.6252 36.8301 309.5596 38.652 309.3819 40.2844 309.1387 41.6616 308.8784 42.7194 308.6503 43.3944 308.5041 44.1142 311.3195 44.1142 311.2795 43.6995 311.2795 42.5624 311.2795 40.8635 311.2795 38.7633 311.2795 36.4223 311.2795 34.001 311.2795 31.66 311.2795 29.5597 311.2795 27.8608 311.2795 26.7237 311.2795 26.3091 311.2795 26.3091 311.2795 26.9989 308.5555 28.1189 308.7696 29.7963 309.0667 31.8686 309.3967 34.172 309.7094 36.54 309.9547 38.8002 310.0841 40.7653 310.0536 42.2052 309.8451 42.7921 309.6095 42.6969 309.8622 42.617 309.8622 42.3499 309.2554 41.6657 308.1346 40.5714 306.7075 39.1312 305.09 37.4124 303.3647 35.4812 301.603 33.4039 299.8719 31.2477 298.2374 29.0831 296.765 26.987 295.5215 25.0503 294.5746 24.9967 294.6817 23.3112 294.1362 21.5127 293.8311 19.6474 293.7395 17.7745 293.8306 15.9588 294.0679 14.2667 294.4099 12.764 294.8116 11.5157 295.2262 10.5859 295.6055 10.0378 295.9003 8.5039 296.3091\" fill=\"rgba(0,0,0,1)\"/>\n",
       "<polygon points=\"29.3157 342.2001 31.4204 344.5616 33.5648 347.0983 35.7062 349.7139 37.7918 352.3043 39.7632 354.7606 41.5557 356.9682 43.0934 358.803 44.2641 360.116 44.7699 360.6785 42.7835 360.7447 41.1797 363.0118 41.2995 363.0118 41.2509 362.1619 40.7213 359.9697 39.7739 356.9856 38.4819 353.4467 36.9116 349.5444 35.1263 345.4586 33.189 341.3656 31.1631 337.4408 29.1143 333.8607 27.114 330.805 25.2504 328.4602 25.3069 328.4038 23.5128 326.9041 21.8345 326.0132 20.2489 325.594 18.7093 325.5385 17.1845 325.7717 15.6736 326.2265 14.1916 326.826 12.7516 327.4837 11.3527 328.1081 9.9638 328.6008 8.5039 328.8189 8.5039 328.8189 7.3404 328.6969 6.3281 328.2556 5.5874 327.3376 5.4691 326.2208 5.8301 325.3459 6.4483 324.7277 7.3232 324.3668 8.4399 324.485 9.358 325.2258 9.7993 326.238 9.9213 327.4016 9.9612 327.4016 9.9287 328.8152 9.7632 330.537 9.5187 332.5134 9.2449 334.6475 8.9913 336.8293 8.8074 338.9404 8.7408 340.8496 8.8283 342.3967 9.051 343.3482 9.0937 343.3942 8.5039 343.0907 8.5039 343.0308 8.6866 342.8683 9.7226 342.1263 11.1604 340.8269 12.8228 339.111 14.6115 337.1078 16.4512 334.9372 18.2758 332.7137 20.0239 330.5478 21.6384 328.5458 23.0713 326.8052 24.3047 325.3972 28.3135 329.406 27.2125 330.4994 25.7693 332.0698 24.0863 333.9672 22.2359 336.0687 20.2814 338.2596 18.2819 340.43 16.2914 342.4734 14.3554 344.2891 12.4957 345.7856 10.6556 346.883 8.5039 347.3826 8.5039 347.3227 6.242 346.357 5.248 344.5636 4.9691 342.7193 4.9896 340.7348 5.1905 338.5973 5.5084 336.3676 5.8902 334.1349 6.2852 332.0016 6.6427 330.0785 6.912 328.4895 7.0467 327.4016 7.0866 327.4016 7.0414 326.893 7.0479 326.8685 7.364 327.1076 7.8118 327.159 8.0514 327.0655 8.1679 326.949 8.2613 326.7095 8.2099 326.2616 7.9709 325.9455 7.9954 325.939 8.5039 325.9843 8.5039 325.9843 9.2112 325.8679 10.2636 325.491 11.5602 324.9116 13.0499 324.2315 14.7115 323.5602 16.5383 323.0117 18.525 322.7098 20.6508 322.788 22.8643 323.3722 25.0989 324.5547 27.3113 326.3994 27.3677 326.3429 29.6778 328.834 32.0251 331.9653 34.3774 335.5822 36.6858 339.5232 38.8954 343.6237 40.9494 347.7181 42.7902 351.6415 44.361 355.2327 45.6075 358.3419 46.4825 360.8652 46.9289 363.0118 47.0486 363.0118 44.9499 366.4561 41.5588 366.1545 39.8708 365.0247 38.1788 363.5419 36.3053 361.6979 34.2585 359.5646 32.0829 357.2386 29.8344 354.8259 27.5746 352.4383 25.3714 350.1927 23.3025 348.2133\" fill=\"rgba(0,0,0,1)\"/>\n",
       "<polygon points=\"26.3091 376.2992 30.1321 378.7306 31.4348 380.6724 33.3875 383.5784 35.7812 387.231 38.4073 391.4146 41.0586 395.9173 43.5294 400.5349 45.6161 405.0802 47.112 409.4116 47.7596 413.5133 46.9092 417.5589 46.8176 417.5131 44.332 420.3003 41.069 422.0612 37.2712 423.2092 33.0584 423.901 28.5862 424.1875 24.0362 424.0851 19.6007 423.5964 15.4718 422.7123 11.8321 421.4022 8.8545 419.5742 6.8086 417.0091 6.9002 416.9633 6.2285 413.8549 6.5307 410.402 7.5226 406.6239 9.0296 402.5867 10.9104 398.3973 13.1221 394.2294 15.5583 390.2429 18.1151 386.5993 20.6953 383.4575 23.2201 380.97 25.6752 379.2835 25.6752 379.2835 28.4078 378.7157 30.9553 379.5086 33.1497 381.174 35.1192 383.3925 36.9413 385.9599 38.6406 388.6805 40.2188 391.3499 41.664 393.7524 42.9433 395.6524 43.938 396.7692 44.1142 396.939 44.1142 396.939 43.8614 397.0343 44.097 396.4474 44.3055 395.0074 44.336 393.0423 44.2067 390.7821 43.9613 388.4141 43.6487 386.1107 43.285 384.0441 42.9376 382.3766 42.6734 381.2676 44.1142 378.946 44.1142 378.8948 45.8127 380.1266 46.3173 381.0741 46.9944 382.5168 47.744 384.3513 48.4657 386.479 49.0561 388.8082 49.4037 391.2591 49.3737 393.7665 48.78 396.2587 47.391 398.5643 45.1069 400.3418 45.1299 400.3877 42.4782 401.4909 39.3853 402.3359 35.925 402.9673 32.1915 403.4006 28.2894 403.6419 24.3275 403.6931 20.4153 403.5539 16.6595 403.2212 13.16 402.6871 10.0013 401.9306 7.2362 400.8917 9.7716 395.8209 11.6752 396.6214 14.2687 397.3364 17.3643 397.9058 20.8054 398.3089 24.4513 398.5376 28.168 398.5888 31.8241 398.4622 35.2875 398.1598 38.4221 397.6875 41.0815 397.0611 43.0985 396.3249 43.1214 396.3708 44.1816 395.6467 44.8661 394.6414 45.2757 393.2343 45.3795 391.4743 45.192 389.5107 44.7791 387.499 44.23 385.58 43.6419 383.883 43.115 382.5298 42.7501 381.638 44.1142 382.2076 44.1142 382.1563 45.7221 380.6642 45.8927 381.8293 46.1473 383.5596 46.4525 385.6935 46.7753 388.0721 47.0315 390.5467 47.1697 392.9685 47.1334 395.2038 46.8402 397.1617 46.0391 398.849 44.1142 399.7736 44.1142 399.7736 42.1233 398.9468 40.6766 397.3547 39.2603 395.2549 37.776 392.7881 36.2105 390.14 34.5722 387.5164 32.8828 385.1342 31.1869 383.2192 29.5821 381.9884 28.2168 381.5439 26.9429 381.8189 26.9429 381.8189 25.0571 383.1289 22.7995 385.3568 20.3766 388.3084 17.9304 391.7948 15.5842 395.6341 13.455 399.6464 11.657 403.6505 10.3681 407.4792 9.6679 410.898 9.6022 413.632 10.1076 415.3596 10.1993 415.3137 11.3171 416.4274 13.4897 417.5424 16.5454 418.4395 20.2154 419.027 24.241 419.274 28.3728 419.1716 32.3617 418.7223 35.9479 417.9426 38.8454 416.8834 40.7327 415.7013 41.4108 414.8097 41.3191 414.7639 41.3115 413.8064 40.7217 411.2864 39.3214 407.8188 37.2745 403.8295 34.7958 399.6181 32.1029 395.439 29.4116 391.5294 26.9359 388.1188 24.8888 385.4331 23.4826 383.6961 26.3091 384.8031\" fill=\"rgba(0,0,0,1)\"/>\n",
       "<polygon points=\"76.4521 11.5105 75.3733 10.1566 74.526 8.8626 73.8916 7.6605 73.4456 6.5465 73.1467 5.3404 74.0023 1.9576 78.9961 1.6088 79.8553 2.6743 80.4873 3.8 81.2117 5.27 82.0833 7.1916 81.9762 7.2452 83.092 9.6626 84.6311 12.7924 86.4724 16.4422 88.5022 20.4348 90.6089 24.5975 92.6819 28.7595 94.6114 32.7517 96.2888 36.4082 97.6078 39.5706 98.4686 42.1105 98.761 44.1142 98.6811 44.1142 96.9879 46.0354 95.2157 45.3897 93.6575 44.1157 91.8321 42.3254 89.7795 40.1371 87.5931 37.6981 85.3776 35.1638 83.2418 32.6932 81.2966 30.4477 79.6573 28.5931 78.4565 27.3113 78.4565 27.3113 77.7955 26.7632 77.5673 26.6531 77.7982 26.6134 78.0435 26.4212 78.0929 26.318 78.0929 26.3001 78.0435 26.1969 77.7982 26.0048 77.5673 25.965 77.7955 25.8549 78.4565 25.3069 78.4282 25.2786 79.5832 23.9582 81.1762 22.0655 83.0756 19.7814 85.1665 17.2712 87.3387 14.6954 89.4847 12.2117 91.5026 9.973 93.3069 8.1198 94.8901 6.7498 97.0127 5.9444 99.3798 8.5039 99.4397 8.5039 99.2029 10.6357 98.5255 13.5779 97.4608 17.3277 96.0614 21.6542 94.3824 26.3019 92.4779 31.0125 90.3969 35.5316 88.1742 39.6172 85.8001 43.0554 83.0991 45.6674 79.4587 46.9488 79.4587 41.2795 79.9919 41.0694 81.6385 39.5679 83.6655 36.8124 85.7771 33.166 87.843 28.9564 89.7778 24.4835 91.51 20.0347 92.9733 15.8934 94.1025 12.3459 94.8297 9.7031 95.0879 8.5039 95.1478 8.5039 96.8526 10.0535 97.136 10.0507 95.9233 10.9749 94.196 12.5864 92.1673 14.6619 89.9724 17.0208 87.73 19.4949 85.5536 21.9208 83.5535 24.1382 81.8357 25.9912 80.4891 27.3395 80.4609 27.3113 79.2825 28.2682 78.0392 28.7601 76.7046 28.6199 75.7236 27.8258 75.3063 26.8196 75.3063 25.7985 75.7236 24.7923 76.7046 23.9982 78.0392 23.8581 79.2825 24.3499 80.4609 25.3069 80.4609 25.3069 81.7616 26.6938 83.4332 28.5848 85.3874 30.8408 87.5189 33.3063 89.718 35.8219 91.8725 38.2255 93.8665 40.3514 95.5727 42.0258 96.8103 43.046 96.8775 43.2029 95.8465 44.1142 95.7666 44.1142 95.3968 43.1213 94.4182 40.9457 92.9414 38.0148 91.0872 34.5412 88.9701 30.7078 86.7021 26.6896 84.3943 22.6587 82.1568 18.7855 80.0987 15.2383 78.3268 12.1811 76.9411 9.7627 76.834 9.8163 75.8663 8.2264 75.1191 7.1881 74.6475 6.7085 74.771 6.9714 79.3969 6.5223 80.2525 3.6411 80.3215 3.4383 80.6112 3.7289 81.0804 4.2324 81.7046 4.8447 82.4653 5.4973\" fill=\"rgba(0,0,0,1)\"/>\n",
       "<polygon points=\"100.2704 64.6601 98.6174 66.0494 95.881 68.6584 92.3542 72.1429 88.2681 76.2209 83.8458 80.6185 79.3083 85.0645 74.8743 89.2895 70.7597 93.0267 67.1701 96.0159 64.264 98.0222 61.6535 98.8431 61.6535 98.6811 59.6589 96.6968 59.86 94.1787 60.7464 90.9283 62.174 86.9794 64.0385 82.5553 66.2341 77.9103 68.655 73.3057 71.1974 69.0028 73.7657 65.2577 76.2915 62.3113 78.8248 60.3859 78.7886 60.3134 81.3122 59.4521 83.8823 59.5705 86.2886 60.5051 88.4873 62.0265 90.5131 63.9712 92.3951 66.2189 94.1461 68.6611 95.7682 71.1906 97.2573 73.6983 98.6052 76.0713 99.7992 78.191 94.7284 80.7264 93.7553 78.5051 92.6618 76.0958 91.4554 73.6003 90.1479 71.1268 88.7552 68.7866 87.2996 66.6934 85.8139 64.9593 84.3472 63.6848 82.9544 62.9272 81.6116 62.6778 80.1287 62.9937 80.0925 62.9212 78.2849 64.3267 76.0283 66.9653 73.5935 70.5175 71.1329 74.6824 68.7714 79.1743 66.6261 83.7128 64.8118 88.0174 63.4436 91.8005 62.6378 94.7438 62.4709 96.3392 61.6535 95.8465 61.6535 95.6845 62.2068 95.0138 64.451 92.9066 67.5567 89.7022 71.241 85.7073 75.2681 81.2036 79.4124 76.4662 83.4513 71.7672 87.1641 67.3774 90.3326 63.5646 92.7465 60.5886 94.2572 58.6469\" fill=\"rgba(0,0,0,1)\"/>\n",
       "<polygon points=\"79.4587 136.8602 81.3986 135.972 81.4237 135.7733 80.9666 136.7458 80.5316 138.407 80.2283 140.435 80.0843 142.5922 80.1024 144.6673 80.2656 146.4432 80.5022 147.659 80.4956 147.9809 79.4587 147.7469 79.4587 147.891 79.5786 147.9471 80.7146 147.382 82.2952 146.2288 84.1148 144.6445 86.0656 142.7665 88.0689 140.719 90.0559 138.6196 91.9255 136.5515 93.5803 134.5946 95.039 132.9156 96.2616 131.6061 96.2616 131.6061 97.2405 130.7287 98.2249 130.1932 100.0325 130.7956 100.3044 132.1147 100.0816 132.8915 99.7369 133.5822 99.2795 134.2292 98.5857 134.8324 97.0313 134.9748 95.9942 133.7822 95.8465 132.6083 95.8465 132.6083 95.8465 131.3575 95.8465 129.7021 95.8465 127.7523 95.7984 125.6187 95.7263 123.4114 95.6543 121.241 95.5822 119.2176 95.5101 117.4518 95.4381 116.0539 95.366 115.1342 97.2638 112.8333 97.2638 112.7612 99.4211 114.8074 99.7143 115.9569 100.0922 117.677 100.505 119.8111 100.9026 122.2053 101.2345 124.7109 101.448 127.1911 101.4812 129.539 101.2219 131.7345 100.2221 133.9621 97.2638 135.4429 97.2638 129.7736 95.9776 130.425 96.0146 130.3785 96.2569 129.1762 96.357 127.3237 96.303 125.1218 96.1332 122.7849 95.8954 120.497 95.6393 118.4307 95.4153 116.753 95.2736 115.6283 97.2638 116.8451 97.2638 116.773 99.1616 115.1342 99.0895 116.0539 99.0174 117.4518 98.9453 119.2176 98.8733 121.241 98.8012 123.4114 98.7291 125.6187 98.6811 127.7523 98.6811 129.7021 98.6811 131.3575 98.6811 132.6083 98.6811 132.6083 98.7006 132.9392 98.0982 132.3486 97.1458 132.3907 97.1208 132.392 97.2989 132.136 97.4559 131.8234 97.5006 131.6972 97.7056 132.4144 99.0116 132.9165 98.9592 132.9829 98.266 133.6105 98.266 133.6105 97.1543 134.8025 95.7368 136.4343 94.0941 138.3769 92.3653 140.5762 90.5732 142.8912 88.7372 145.1846 86.909 147.3533 85.13 149.3006 83.4132 150.9432 81.673 152.2175 79.4587 152.9357 79.4587 153.0799 76.5824 152.0164 75.1043 150.0643 74.2372 147.8822 73.6647 145.4577 73.3149 142.8507 73.1709 140.1654 73.2355 137.5113 73.5362 134.9721 74.1827 132.5467 75.6793 130.0739 79.4587 128.3563\" fill=\"rgba(0,0,0,1)\"/>\n",
       "<polygon points=\"83.7106 167.9528 82.8287 169.5379 81.8242 171.0172 80.7561 172.5639 79.9171 174.2575 79.6056 176.1096 79.3633 177.9629 79.2366 179.7494 79.5234 181.3751 80.1078 182.6674 80.8038 183.4792 81.4631 183.7535 77.4543 187.7623 76.4413 185.7022 76.1006 183.6379 76.1833 181.6327 76.4033 179.66 76.5441 177.6674 76.8035 175.6814 77.1274 173.7544 76.9573 171.8495 76.4911 170.0987 75.9214 168.702 75.2067 167.9528\" fill=\"rgba(0,0,0,1)\"/>\n",
       "<polygon points=\"61.6535 252.4606 64.4746 259.7009 64.1553 259.8163 63.7524 260.0154 63.3161 260.2479 62.8964 260.4637 62.5437 260.6126 62.308 260.6445 57.857 256.1266 58.2098 255.9777 58.8301 255.5613 59.7681 254.8271 59.87 254.929 61.0554 253.9474 62.378 252.8286 63.8277 251.5828 65.3944 250.2199 67.0682 248.75 68.8389 247.1831 70.6966 245.5293 72.5972 243.7645 74.4968 241.8649 76.4532 239.9085 78.4565 237.9053 78.4565 237.9053 80.5827 235.8642 82.7841 233.8829 85.0011 231.9691 87.1735 230.1319 89.2399 228.3821 91.1379 226.7322 92.8026 225.1982 94.1662 223.8033 95.1569 222.5881 95.7097 221.6368 95.8465 221.1024 95.8465 221.1024 95.7497 220.9935 94.9559 220.3447 93.4777 219.6054 91.5288 219.005 89.3294 218.6074 87.078 218.4462 84.9715 218.5623 83.2258 218.9657 82.0634 219.5839 81.5458 220.2435 81.4285 221.1024 81.5006 221.1024 81.9046 222.9347 83.02 225.7534 84.7228 229.19 86.8463 233.0131 89.2248 237.0302 91.6959 241.0629 94.0997 244.9404 96.2804 248.5001 98.0902 251.5984 99.4049 254.1658 100.0984 256.7126 94.4291 256.7126 94.2932 256.2629 93.3339 254.1149 91.7458 251.1198 89.726 247.5494 87.4478 243.6012 85.0763 239.4537 82.7729 235.2772 80.6959 231.2345 79.0008 227.4742 77.8421 224.1059 77.4168 221.1024 77.4888 221.1024 78.2009 218.4497 79.9574 216.601 82.1929 215.614 84.6477 215.2148 87.2232 215.2305 89.8144 215.571 92.2969 216.1767 94.5485 216.9808 96.4682 217.9472 97.9485 219.2046 98.6811 221.1024 98.6811 221.1024 98.3229 222.7351 97.4711 224.2251 96.2679 225.7054 94.7688 227.2401 93.0223 228.8498 91.081 230.5375 89.0005 232.2992 86.8387 234.1274 84.6546 236.0128 82.5084 237.9443 80.4609 239.9097 80.4609 239.9097 78.4576 241.9129 76.5012 243.8693 74.6016 245.7689 72.8369 247.6695 71.183 249.5272 69.6161 251.298 68.1462 252.9717 66.7834 254.5384 65.5375 255.9881 64.4188 257.3107 63.4371 258.4962 63.539 258.5981 62.8049 259.5361 62.3884 260.1564 62.2395 260.5091 57.7217 256.0581 57.7535 255.8225 57.9024 255.4697 58.1182 255.0501 58.3507 254.6137 58.5498 254.2108 58.6653 253.8915 61.6535 260.9646\" fill=\"rgba(0,0,0,1)\"/>\n",
       "<polygon points=\"97.2638 270 100.9719 276.2763 100.1412 278.5604 98.9128 281.9756 97.3454 286.2039 95.4967 290.9289 93.422 295.8373 91.1716 300.6224 88.7821 304.9908 86.2458 308.6799 83.3781 311.4762 79.4587 312.7967 79.4587 312.6769 75.8532 311.3975 73.0208 308.8235 70.3977 305.3903 67.8845 301.2873 65.5275 296.7366 63.4126 291.9823 61.6389 287.2767 60.3101 282.8692 59.5349 278.9899 59.4533 275.7871 60.5949 273.1933 60.6513 273.2498 63.4022 272.4157 66.5523 273.1022 70.3414 274.6047 74.6477 276.7066 79.2397 279.2051 83.8606 281.8941 88.2457 284.5655 92.1273 287.01 95.2362 289.0177 97.3026 290.3785 97.2638 290.6398 97.2638 290.6398 95.9678 292.9937 94.1284 292.074 91.3325 290.6761 87.8009 288.9103 83.7543 286.887 79.4134 284.7165 74.9989 282.5093 70.7316 280.3756 66.8321 278.4259 63.5212 276.7704 61.0197 275.5197 61.0018 275.5554 59.1635 274.6599 57.802 273.9301 56.8386 273.3388 56.1069 272.7269 56.2548 270.1519 58.0629 269.7262 58.915 269.967 59.8222 270.3734 60.8489 270.9661 61.9718 271.7571 63.1498 272.7557 63.1921 272.7134 64.4965 274.1232 65.833 275.834 67.2503 277.7788 68.7543 279.8639 70.3368 281.983 71.9807 284.0232 73.6587 285.8664 75.3268 287.3922 76.9129 288.4887 78.3128 289.087 79.4587 289.2224 79.4587 294.8917 76.598 294.365 74.0851 293.124 71.872 291.4246 69.8748 289.4188 68.0412 287.2153 66.3475 284.9146 64.7864 282.6193 63.3608 280.437 62.0825 278.4824 60.9777 276.8823 60.115 275.7906 60.1573 275.7482 59.3287 274.9074 58.5453 274.227 57.8664 273.716 57.3691 273.3867 57.2179 273.2597 58.5243 272.8339 58.7725 270.6267 58.8435 270.7507 59.4854 271.2629 60.632 272.0047 62.3052 272.9486 62.2874 272.9843 64.7889 274.235 68.0998 275.8905 71.9993 277.8402 76.2666 279.9739 80.6811 282.1811 85.022 284.3516 89.0686 286.3749 92.6002 288.1407 95.3961 289.5386 97.2355 290.4583 97.2638 293.4744 97.2638 293.4744 95.7334 292.7391 93.6863 291.391 90.6015 289.3989 86.751 286.9741 82.4075 284.328 77.8449 281.6728 73.3404 279.2217 69.1789 277.19 65.6708 275.7963 63.2358 275.2455 62.6557 275.2542 62.7122 275.3106 62.6766 276.0478 62.9629 278.43 63.8799 281.848 65.347 285.9083 67.252 290.2992 69.478 294.7284 71.9033 298.9063 74.3932 302.5353 76.7733 305.2959 78.7232 306.8353 79.4587 307.0475 79.4587 306.9277 79.713 306.5894 81.1928 304.8375 83.0576 301.731 85.0024 297.6984 86.8989 293.1194 88.6635 288.3427 90.226 283.7036 91.5213 279.531 92.4868 276.1506 93.0607 273.8864 97.2638 278.5039\" fill=\"rgba(0,0,0,1)\"/>\n",
       "<polygon points=\"79.4587 323.1496 78.2967 331.3345 77.0054 330.9441 75.0746 330.4705 72.7181 329.9642 70.152 329.4753 67.5977 329.0537 65.29 328.7473 63.5077 328.593 62.7222 328.5218 63.6273 327.0445 63.2528 325.8023 63.1249 325.9303 64.2371 326.9545 66.6013 328.4806 69.8166 330.2657 73.6415 332.1633 77.8622 334.0484 82.2031 335.9681 86.4435 337.862 90.3659 339.6719 93.7588 341.343 96.4292 342.8352 98.266 344.2045 98.266 344.2045 99.0561 346.3188 97.2099 347.6702 95.4672 347.6192 93.3135 347.3062 90.8134 346.8502 88.15 346.3501 85.5327 345.9056 83.1856 345.6757 81.4107 345.7182 80.7342 345.9194 81.2077 345.2067 81.2982 345.2067 81.5225 345.524 82.3197 346.5916 83.6586 348.0291 85.4054 349.6793 87.4344 351.4503 89.6279 353.2695 91.8726 355.0719 94.0585 356.7968 96.0798 358.3877 97.8397 359.7968 99.2682 361.0074 95.2594 365.0162 94.1863 363.8925 92.6353 362.4255 90.7572 360.7189 88.6757 358.8453 86.5059 356.8687 84.3585 354.8486 82.3409 352.8405 80.5561 350.8923 79.0991 349.0322 78.057 347.2237 77.6192 345.2067 77.7096 345.2067 79.1798 342.989 81.2121 342.5883 83.437 342.7311 85.9592 343.1032 88.6594 343.5616 91.3402 344.0649 93.7897 344.5118 95.7696 344.8007 96.923 344.8501 96.3142 345.5996 96.2616 346.2089 96.2616 346.2089 94.9346 345.2438 92.4548 343.8599 89.1524 342.2336 85.2758 340.445 81.0551 338.5598 76.7142 336.6402 72.4738 334.7463 68.4998 333.0454 65.0198 331.533 62.2337 330.183 60.1822 328.8729 60.0543 329.0008 58.837 326.0865 60.9795 323.5725 63.0902 322.9996 65.4415 322.7784 68.0834 322.7396 70.8732 322.8196 73.6246 322.9662 76.1374 323.1287 78.2065 323.2571 79.624 323.3014 79.4587 331.6535\" fill=\"rgba(0,0,0,1)\"/>\n",
       "<polygon points=\"83.7106 398.3563 82.4362 401.4345 80.5178 403.7251 78.2777 405.473 76.0143 407.0815 73.9131 408.9052 71.6897 410.6149 69.4516 412.2088 67.4546 413.8923 65.7489 415.5412 64.4149 417.0044 63.6579 418.1658 59.6491 414.157 61.3938 413.1514 63.3706 412.1732 65.5644 411.1265 67.8347 409.8805 70.0111 408.3307 72.1286 406.7028 74.0741 405.0149 75.3423 402.9581 75.898 400.9068 75.8189 399.2846 75.2067 398.3563\" fill=\"rgba(0,0,0,1)\"/>\n",
       "<polygon points=\"146.1614 8.5039 147.1227 10.5165 147.9559 10.925 147.4465 10.705 146.1113 10.5389 144.3091 10.5145 142.2503 10.6076 140.0877 10.7734 137.9487 10.9628 135.944 11.1263 134.1607 11.2147 132.6083 11.1704 132.6083 11.0263 131.1486 10.691 129.485 9.0438 129.8048 6.8403 130.6448 6.0857 131.4382 5.7003 132.2345 5.4636 133.0876 5.3683 134.4209 5.7352 135.0234 7.5429 134.4878 8.5272 133.6105 9.5061 133.6105 9.5061 132.301 10.7288 130.6219 12.1874 128.665 13.8422 126.5348 15.6385 124.3401 17.5173 122.1921 19.4171 120.2042 21.2735 118.4934 23.0163 117.1835 24.5599 116.4068 25.766 116.2205 26.3091 116.2205 26.3091 116.0778 26.0849 115.9211 25.9552 116.6384 25.9109 117.9272 25.5894 119.5852 25.0758 121.5222 24.4953 123.6749 23.9531 125.9939 23.5588 128.4378 23.4321 130.9613 23.7105 133.4892 24.5472 133.5214 24.4827 135.9547 26.011 138.1736 28.0328 140.2456 30.3751 142.1986 32.8839 144.0372 35.4016 145.7515 37.7619 147.3132 39.7836 148.6502 41.2573 149.5317 41.9341 149.2698 41.8572 148.409 42.1098 152.4178 46.1186 149.3899 47.3811 146.6867 46.5016 144.8726 44.8842 143.28 42.8932 141.6981 40.6007 140.0747 38.1184 138.4018 35.5862 136.6894 33.1588 134.9623 30.9997 133.2684 29.2759 131.6951 28.1354 131.7273 28.0709 130.0815 27.4027 128.2574 27.0791 126.3002 27.0527 124.285 27.2604 122.2907 27.6212 120.3885 28.0439 118.6352 28.4333 117.0614 28.7138 115.5848 28.7698 114.0235 28.0381 113.3858 26.3091 113.3858 26.3091 113.8617 24.5178 114.9243 22.8478 116.4103 21.0939 118.2311 19.2382 120.2898 17.3155 122.4827 15.376 124.7025 13.4757 126.8396 11.6736 128.7822 10.0309 130.414 8.6134 131.6061 7.5017 131.6061 7.5017 132.2337 6.8085 132.3001 6.7561 132.8022 8.0622 133.5335 8.3621 133.4837 8.5344 133.2767 8.7994 133.1671 9.0493 133.4052 8.9636 133.6246 7.3621 132.563 6.1497 132.6083 5.9816 132.6083 5.8374 133.5574 5.6259 135.085 5.2796 136.9797 4.8412 139.1081 4.3617 141.36 3.892 143.6421 3.4835 145.8865 3.1915 148.0829 3.0924 150.3693 3.3739 153.0419 4.8192 154.6654 8.5039\" fill=\"rgba(0,0,0,1)\"/>\n",
       "<polygon points=\"132.6083 83.7106 129.7012 82.9133 127.5237 81.5775 125.3644 79.8841 123.1359 77.885 120.8838 75.6584 118.6899 73.2951 116.6473 70.8895 114.8506 68.5301 113.3884 66.2829 112.3361 64.1285 111.8687 61.6535 111.9885 61.6535 112.8773 59.1775 114.4776 57.6609 116.3695 56.6404 118.5077 55.9169 120.8446 55.4603 123.3083 55.296 125.814 55.4731 128.2664 56.0571 130.5508 57.1285 132.5105 58.7641 133.9474 60.984 133.876 61.0197 134.7549 63.8161 135.0783 67.1193 135.0271 70.8352 134.7212 74.8335 134.2664 78.9616 133.7643 83.0554 133.3156 86.9431 133.0199 90.4427 132.971 93.3514 133.2273 95.408 133.6105 96.2616 133.6105 96.2616 133.7307 96.2737 134.7972 95.844 136.5338 94.5492 138.5699 92.5758 140.7232 90.1613 142.8598 87.5307 144.8601 84.9022 146.6093 82.4904 147.9947 80.5085 148.9046 79.1684 150.4134 78.0413 150.4134 78.0014 151.4644 80.6579 150.7981 81.8507 149.7319 83.6124 148.3238 85.7848 146.6304 88.2108 144.7056 90.7348 142.5984 93.2038 140.3471 95.4682 137.9657 97.38 135.4171 98.7743 132.6083 99.3798 132.6083 99.4397 129.7364 98.9425 127.0864 97.6302 124.5929 95.7832 122.2269 93.5746 120.0049 91.1565 117.9654 88.6807 116.1576 86.3011 114.6355 84.1741 113.4555 82.4569 112.6757 81.3082 114.8031 76.624 114.8031 82.2933 117.4256 78.4385 118.0503 79.5639 119.0643 81.2446 120.4048 83.318 122.0082 85.6205 123.8081 87.9872 125.733 90.2512 127.7013 92.2431 129.6089 93.7939 131.3065 94.7557 132.6083 95.0879 132.6083 95.1478 133.9732 94.9239 135.7722 94.0441 137.7919 92.5581 139.8747 90.622 141.9145 88.4089 143.829 86.0904 145.5468 83.8343 147.0014 81.8063 148.1291 80.1702 148.8674 79.0888 150.4134 80.9159 150.4134 80.876 151.26 80.7455 150.3305 82.1144 148.9201 84.1322 147.1377 86.5897 145.0914 89.2787 142.8871 91.9923 140.6258 94.5274 138.3946 96.6876 136.2318 98.2889 133.9874 99.0967 131.6061 98.266 131.6061 98.266 130.4843 96.1231 130.1386 93.4642 130.19 90.2795 130.4963 86.649 130.9506 82.711 131.4518 78.6247 131.8999 74.5593 132.1961 70.6917 132.2451 67.2106 131.9666 64.3269 131.3406 62.2874 131.2692 62.3231 130.2045 61.0314 128.8533 60.1589 127.2383 59.6249 125.4233 59.4063 123.5145 59.483 121.6373 59.8204 119.9276 60.3671 118.5342 61.0482 117.6303 61.7334 117.3911 62.123 117.6178 61.6535 117.7376 61.6535 117.9324 61.6801 118.7194 62.8366 120.053 64.4889 121.7879 66.3968 123.792 68.4057 125.939 70.3834 128.1014 72.2033 130.1403 73.7358 131.8804 74.8383 133.0138 75.3418 132.6083 75.2067\" fill=\"rgba(0,0,0,1)\"/>\n",
       "<polygon points=\"114.8031 119.0551 113.7999 118.8742 112.8467 118.6932 111.9939 118.5123 111.2916 118.3314 110.79 118.1504 110.5392 117.9695 110.5893 111.8177 110.9906 111.9987 111.7933 112.1796 113.0474 112.3605 114.8031 112.5415 114.8031 112.7224 116.9092 112.7499 119.7218 112.5072 123.0269 112.0877 126.658 111.5355 130.4745 110.8939 134.3802 110.3837 138.2623 110.1091 142.0145 110.1795 145.5366 110.7168 148.7225 111.8682 151.4156 113.801 151.4156 113.801 153.4175 116.55 154.78 119.9045 155.6262 123.694 156.0425 127.7699 156.0942 131.9801 155.8375 136.1675 155.324 140.1723 154.6608 143.8497 153.8573 147.0538 152.8976 149.6619 151.6501 151.6501 151.7141 151.7141 149.2831 152.848 146.8822 152.3128 144.7963 150.9818 142.7567 149.1459 140.7043 146.9408 138.6597 144.5078 136.6689 141.9987 134.7887 139.573 133.0842 137.3992 131.6379 135.6636 130.6039 134.6127 134.6127 130.6039 135.9129 132.2217 137.3428 134.2317 138.9358 136.5593 140.654 139.0699 142.4423 141.6107 144.237 144.0202 145.9637 146.1293 147.5225 147.7582 148.7341 148.7213 149.2093 148.9888 149.1127 149.1127 149.1766 149.1766 149.9358 148.1683 150.8824 146.061 151.7844 143.1717 152.5258 139.719 153.0156 135.8982 153.2606 131.9054 153.2119 127.9221 152.8256 124.1321 152.0666 120.7247 150.9208 117.8921 149.4112 115.8053 149.4112 115.8053 147.4356 114.3938 144.8693 113.4718 141.7964 113.0057 138.3517 112.9423 134.6756 113.2029 130.9028 113.696 127.1611 114.3252 123.5953 115.1107 120.3053 115.8951 117.3657 116.522 114.8031 116.8839 114.8031 117.0648 113.0474 117.2458 111.7933 117.4267 110.9906 117.6076 110.5893 117.7886 110.5392 111.6368 110.79 111.4559 111.2916 111.2749 111.9939 111.094 112.8467 110.9131 113.7999 110.7321 114.8031 110.5512\" fill=\"rgba(0,0,0,1)\"/>\n",
       "<polygon points=\"154.6654 203.563 153.2958 206.9821 151.0291 208.6315 148.7891 209.3351 146.5026 209.6302 144.121 209.6662 141.6733 209.4857 139.2245 209.1001 136.8532 208.5074 134.64 207.692 132.6615 206.6116 131.009 205.1622 131.137 205.0343 130.0849 203.0839 129.8401 201.0777 130.0764 199.1395 130.5194 197.216 130.9849 195.2666 131.4866 193.347 131.924 191.5173 132.2029 189.8556 132.2479 188.462 132.0396 187.4383 131.6061 186.7601 131.6061 186.7601 130.771 186.2121 129.4153 185.7914 127.6605 185.5669 125.6565 185.536 123.5397 185.6644 121.4352 185.9077 119.4617 186.2176 117.7469 186.6038 116.4014 186.986 115.5316 187.2845 114.8031 184.0088 114.8031 183.9184 115.5925 183.9482 116.7228 184.0722 118.4061 184.2786 120.4781 184.5169 122.7716 184.7369 125.1142 184.8887 127.3217 184.9246 129.18 184.8061 130.3877 184.5443 130.4368 184.4858 129.7736 185.7579 135.4429 185.7579 133.9504 188.7021 131.7253 189.6804 129.5352 189.9202 127.193 189.8685 124.7185 189.6369 122.2186 189.2871 119.83 188.8717 117.7015 188.4411 115.987 188.0455 114.8431 187.7347 114.8031 187.5974 114.8031 187.5069 114.7369 184.064 115.7064 183.9278 117.1568 183.708 118.9736 183.4253 121.0467 183.0998 123.2831 182.8414 125.5808 182.7023 127.8442 182.7383 129.9888 183.0154 131.944 183.6315 133.6105 184.7557 133.6105 184.7557 134.6818 186.4117 135.0756 188.2642 135.0202 190.1681 134.6971 192.1049 134.2316 194.0542 133.7299 195.9739 133.2925 197.8036 133.1335 199.4785 133.2695 200.8378 133.6266 201.7078 134.0796 202.0917 134.2075 201.9637 135.0566 202.3537 136.389 202.7449 138.0752 203.0331 139.9712 203.1761 141.9369 203.1584 143.8302 202.9779 145.4952 202.646 146.7403 202.2053 147.2961 201.8054 146.8688 201.9833 146.1614 203.563\" fill=\"rgba(0,0,0,1)\"/>\n",
       "<polygon points=\"154.6654 256.7126 152.6389 261.34 149.0656 263.4619 145.1602 264.3638 140.8449 264.6942 136.1959 264.6286 131.3985 264.2469 126.6784 263.6058 122.2727 262.7534 118.408 261.7262 115.2531 260.5178 112.7282 258.7876 112.8129 258.7029 111.6039 255.6876 112.5137 253.0469 114.1461 251.2894 116.1528 249.7461 118.4649 248.209 120.972 246.6264 123.5363 244.9893 126.006 243.3048 128.2225 241.5915 130.0253 239.8834 131.2692 238.2379 131.3406 238.2736 132.1944 236.2569 132.8924 233.9877 133.4212 231.5899 133.7749 229.1851 133.9511 226.8949 133.9515 224.8455 133.7858 223.1773 133.501 222.0738 133.3594 221.7891 133.8354 221.8973 133.6105 222.1046 133.6105 222.1046 132.5474 223.5378 130.9399 226.2506 129.0115 229.8597 126.8897 234.07 124.69 238.6027 122.5248 243.1833 120.5054 247.5393 118.7425 251.3989 117.3469 254.4906 116.4291 256.5431 114.8031 255.2953 114.8031 255.2554 113.9304 255.2478 115.0108 253.3862 116.6513 250.5711 118.691 247.0242 120.9684 242.968 123.3216 238.6262 125.588 234.2246 127.6035 229.9941 129.2009 226.1787 130.2099 223.0629 130.4923 221.1024 130.4324 221.1024 130.2764 220.5805 129.9961 220.4295 129.0335 220.225 127.383 220.2371 125.3233 220.5341 123.0938 221.0576 120.8943 221.7168 118.9052 222.4132 117.2978 223.0463 116.2391 223.5151 114.8031 218.2677 114.8031 223.937 114.1966 218.3552 115.412 217.9545 117.2025 217.3836 119.4138 216.7423 121.8963 216.1306 124.5094 215.6508 127.1317 215.4128 129.6816 215.5587 132.117 216.3574 134.1107 218.2799 134.7842 221.1024 134.7243 221.1024 134.1772 224.1449 132.9121 227.6509 131.1117 231.6343 128.9267 235.9386 126.5111 240.3659 124.0218 244.706 121.6171 248.743 119.4563 252.2593 117.699 255.0359 116.5053 256.853 114.8031 258.1698 114.8031 258.1299 113.8394 255.3905 114.7609 253.3295 116.1612 250.2276 117.9299 246.3551 119.9571 241.9825 122.1328 237.3796 124.3476 232.8157 126.4932 228.5583 128.4642 224.8701 130.1676 221.9979 131.6061 220.1002 131.6061 220.1002 133.2205 219.1302 135.168 219.6063 136.13 221.0138 136.581 222.7062 136.7832 224.7167 136.7835 227.0082 136.5919 229.5004 136.2098 232.0987 135.635 234.704 134.8615 237.2171 133.876 239.5413 133.9474 239.577 132.5225 241.9381 130.5796 244.1427 128.2947 246.2286 125.8282 248.2095 123.3426 250.0839 121.0071 251.8389 119.005 253.4455 117.5471 254.8318 116.8853 255.7699 116.9924 255.5705 116.7934 254.7223 116.8781 254.6376 117.6842 254.914 120.1143 255.6118 123.5469 256.2902 127.6089 256.8424 131.9854 257.2047 136.3714 257.3246 140.4511 257.1587 143.8679 256.6865 146.1561 255.9831 146.6963 255.5967 146.1614 256.7126\" fill=\"rgba(0,0,0,1)\"/>\n",
       "<polygon points=\"150.4134 296.3091 147.393 295.4813 144.3816 294.0628 140.693 292.1461 136.4784 289.8536 131.9763 287.3328 127.445 284.7389 123.1496 282.2295 119.3581 279.9639 116.3395 278.1015 114.3637 276.8025 114.8031 271.9903 114.8031 272.1712 116.3397 272.8198 118.5552 273.9109 121.8944 275.4804 126.06 277.3623 130.757 279.3921 135.6201 281.5718 140.3321 283.7932 144.5804 285.9513 148.0655 287.9518 150.5417 289.7615 151.8307 292.0571 151.8307 292.0571 150.2732 294.1273 147.9772 294.5264 145.031 294.4752 141.4396 294.1693 137.3736 293.7157 133.0395 293.2148 128.6557 292.7664 124.4461 292.5298 120.6623 292.571 117.5879 292.9388 115.5853 293.6215 115.6258 293.7024 114.623 294.6157 113.9951 295.9491 113.6904 297.7502 113.7247 299.8811 114.0561 302.1448 114.6046 304.3457 115.272 306.292 115.9413 307.7773 116.4078 308.4917 114.42 307.6315 111.9685 309.8622 117.6378 309.8622 114.8519 313.1029 111.9946 311.44 111.2571 309.8603 110.5887 307.8809 109.9852 305.513 109.5304 302.8713 109.3267 300.0851 109.4948 297.2798 110.1934 294.5794 111.639 292.1673 113.9805 290.4118 114.021 290.4927 117.0215 289.6704 120.5688 289.4362 124.5839 289.5778 128.9091 289.9431 133.3543 290.3977 137.7019 290.9001 141.7292 291.3495 145.201 291.6456 147.8465 291.6947 149.2293 291.4918 148.9961 292.0571 148.9961 292.0571 148.6263 291.8511 146.5542 290.35 143.2437 288.451 139.091 286.3417 134.439 284.1487 129.617 281.9874 124.9499 279.9706 120.7146 278.321 117.2581 277.0946 114.9254 276.3464 114.8031 276.3327 114.8031 276.5137 116.7341 272.5308 118.8718 273.5059 122.0469 275.0414 125.9875 276.9762 130.4208 279.1489 135.073 281.3975 139.6673 283.5588 143.9206 285.4667 147.5292 286.9478 150.1028 287.8034 150.4134 287.8051\" fill=\"rgba(0,0,0,1)\"/>\n",
       "<polygon points=\"132.6083 340.9547 135.8517 342.9598 136.9447 344.5757 138.6832 346.8371 140.8564 349.5332 143.2537 352.4533 145.6643 355.3869 147.8777 358.1231 149.7702 360.3642 151.2183 361.8123 151.837 362.431 149.4112 364.014 149.4112 364.014 147.7457 362.3485 144.9532 359.556 141.3046 355.9074 136.9835 351.7606 132.3045 347.3431 127.5821 342.8821 123.087 338.6485 119.0903 334.9132 115.8627 331.9471 113.6753 330.021 114.8031 324.5669 114.8031 330.2362 117.4226 326.2737 119.3486 328.4612 122.3147 331.6887 126.0501 335.6855 130.2837 340.1805 134.7447 344.903 139.1622 349.582 143.309 353.903 146.9576 357.5516 149.7501 360.3441 151.4156 362.0096 151.4156 362.0096 149.8326 364.4354 149.2139 363.8167 147.7658 362.3686 145.5247 360.4761 142.7885 358.2628 139.8549 355.8521 136.9348 353.4548 134.2386 351.2816 131.9773 349.5432 130.3614 348.4501 132.6083 349.4587\" fill=\"rgba(0,0,0,1)\"/>\n",
       "<polygon points=\"153.42 419.168 148.794 420.6371 145.5385 419.3192 143.1227 417.3142 140.8648 414.8783 138.6612 412.1366 136.5534 409.2548 134.624 406.4209 132.9707 403.8332 131.6971 401.6954 130.9097 400.2136 132.6083 396.0946 132.6083 396.2755 134.518 397.7976 135.2755 399.2353 136.5107 401.3182 138.1616 403.7998 140.1619 406.4284 142.2985 409.0589 144.4517 411.4735 146.4878 413.4468 148.2245 414.7417 149.2909 415.1713 149.4112 415.1592 149.4112 415.1592 149.9084 414.2047 150.3638 412.112 150.6025 409.2019 150.6349 405.7157 150.5028 401.8514 150.2537 397.7911 149.9373 393.7108 149.5432 389.7876 149.1512 386.1865 148.8411 383.0636 148.6643 380.5512 148.5739 380.5512 148.6927 378.3946 149.2262 376.6027 150.1964 375.1776 151.6058 374.2438 153.3401 374.0339 155.0716 374.818 156.1193 376.5739 156.0504 378.568 155.1686 380.2844 153.7143 381.7564 151.6811 383.0866 149.1457 378.0158 150.4568 377.3394 151.076 376.9051 151.1974 376.9159 151.2623 377.5054 151.7749 378.258 152.5031 378.5405 152.9666 378.4309 153.0383 378.2997 152.8046 378.4799 152.4685 379.1962 152.2529 380.5512 152.1624 380.5512 152.1529 382.8746 152.2776 385.9387 152.4876 389.5346 152.7623 393.4772 153.0813 397.5904 153.3339 401.7104 153.4693 405.6717 153.4348 409.3156 153.1719 412.4989 152.5906 415.1217 151.4156 417.1636 151.4156 417.1636 149.0343 417.9943 146.7899 417.1865 144.6271 415.5852 142.3958 413.425 140.1346 410.8899 137.9303 408.1763 135.884 405.4874 134.0032 403.0997 132.4426 401.1828 131.3607 399.9116 132.6083 400.437 132.6083 400.618 134.969 397.4956 136.021 398.7227 137.5432 400.5847 139.4215 402.8663 141.5388 405.3498 143.7718 407.8123 145.9827 410.0202 147.9922 411.7178 149.4759 412.609 149.5312 412.5285 147.4068 413.1548\" fill=\"rgba(0,0,0,1)\"/>\n",
       "<polygon points=\"189.561 28.2106 188.9193 29.3477 188.4668 31.0366 188.2674 33.1042 188.2948 35.3574 188.4766 37.6279 188.7233 39.7736 188.9409 41.6793 189.0372 43.2889 188.835 44.9312 185.8921 46.417 184.6411 45.2309 184.7557 45.1164 183.4138 43.4056 181.9207 40.959 180.2465 37.8655 178.4331 34.2724 176.5349 30.3419 174.6101 26.2406 172.7177 22.1376 170.9176 18.203 169.2705 14.608 167.8379 11.5263 166.6851 9.1378 166.6126 9.174 165.558 7.4938 164.575 6.199 163.7274 5.2996 163.1105 4.8256 163.031 4.8855 165.6062 4.1189 165.9242 2.4928 166.2157 2.7499 166.9743 3.5837 168.2096 4.8451 169.9572 6.4995 165.9484 10.5083 164.1844 8.4841 162.9114 6.8024 162.0648 5.429 161.5537 4.2146 161.7713 1.8528 164.8481 1.0862 165.772 1.8818 166.5597 2.8793 167.4176 4.1871 168.3409 5.8353 169.2929 7.8339 169.2204 7.8701 170.4019 10.3175 171.8454 13.4227 173.4958 17.0247 175.2942 20.9559 177.1809 25.0465 179.0953 29.1254 180.9763 33.0205 182.7614 36.5576 184.3846 39.5573 185.7677 41.8263 186.7601 43.112 186.8746 42.9974 187.1286 42.9886 184.7877 44.1065 184.4851 44.0565 183.9795 42.8703 183.2941 41.0973 182.5375 38.9021 181.8164 36.3902 181.2417 33.6403 180.942 30.7048 181.0915 27.6113 181.9548 24.4075\" fill=\"rgba(0,0,0,1)\"/>\n",
       "<polygon points=\"185.7579 57.4016 189.8705 59.8596 191.6357 62.8843 193.3852 66.6729 195.2406 71.1412 197.1395 76.036 198.9871 81.0621 200.6794 85.9104 202.2232 90.2188 203.6248 93.6255 204.5474 95.9068 203.563 95.8465 203.563 95.8465 201.9891 97.1011 201.2911 95.273 200.1995 92.4906 198.6608 89.0224 196.7947 85.0709 194.7206 80.8378 192.5023 76.5496 190.2066 72.437 187.908 68.7393 185.7018 65.7136 183.7535 63.6579 187.7623 59.6491 189.9877 62.5966 192.1291 66.1926 194.2316 70.2938 196.2701 74.716 198.1988 79.2568 199.9639 83.7055 201.509 87.8472 202.8331 91.4421 203.9353 94.2514 204.6419 96.1021 203.563 98.6811 203.563 98.6811 201.9164 96.962 200.9996 94.695 199.6054 91.3061 197.6176 87.2135 195.2633 82.6977 192.77 78.0387 190.2544 73.5694 187.8424 69.6368 185.6925 66.6298 184.1468 65.1063 185.7579 65.9055\" fill=\"rgba(0,0,0,1)\"/>\n",
       "<polygon points=\"167.9528 128.3563 171.4221 129.3104 174.6443 130.9751 177.9867 133.1115 181.4962 135.5876 185.1176 138.2657 188.76 141 192.3188 143.6395 195.7433 145.9237 198.9502 147.5765 201.643 148.6433 203.563 148.9961 203.563 148.9961 204.5059 148.7833 205.0148 148.2069 205.3697 146.9677 205.3019 145.1426 204.8709 143.0051 204.215 140.7514 203.4277 138.5568 202.6073 136.5901 201.8535 135.0161 201.2664 133.9982 203.563 129.7736 203.563 135.4429 206.194 132.0477 206.4764 133.3039 206.9266 135.1278 207.4439 137.3615 207.9275 139.849 208.2748 142.4378 208.3789 144.9824 208.1774 147.3577 207.5289 149.5163 205.9644 151.214 203.563 151.8307 203.563 151.8307 200.8143 151.3541 197.7549 150.1468 194.3669 148.4017 190.5943 146.4854 186.595 144.443 182.5589 142.3347 178.6221 140.3308 174.9347 138.6063 171.6821 137.345 169.152 136.7356 167.9528 136.8602\" fill=\"rgba(0,0,0,1)\"/>\n",
       "<polygon points=\"205.4645 189.561 203.0657 190.5992 200.1252 191.9083 196.7632 193.4282 193.1003 195.0985 189.2568 196.8591 185.353 198.6498 181.5095 200.4104 177.8466 202.0808 174.4846 203.6006 171.544 204.9097 169.1452 205.948 169.0808 205.8191 167.6922 206.4803 166.9666 206.9419 166.7207 207.0457 166.5863 206.708 166.1895 206.2754 165.7472 206.1973 165.6122 206.3375 165.7947 206.3274 166.0957 205.9145 166.3991 205.0244 166.5354 203.563 166.5354 203.563 166.4541 201.2258 166.2389 198.1636 165.9387 194.5744 165.6038 190.637 165.2849 186.5238 165.0322 182.4038 164.8969 178.4425 164.9313 174.7986 165.1943 171.6153 165.7756 168.9925 166.9506 166.9506 166.9506 166.9506 169.1794 166.0306 171.4296 166.5517 173.6306 167.8415 175.9231 169.6397 178.2625 171.8249 180.5487 174.2673 182.6834 176.816 184.5656 179.3232 186.0976 181.6542 187.1919 183.7265 187.7277 185.7579 187.7998 185.7579 186.9499 188.0599 185.1726 189.1946 183.2973 189.6134 181.2721 189.7257 179.0932 189.6543 176.8244 189.4648 174.5578 189.2114 172.3993 188.9461 170.4679 188.7208 168.907 188.5881 167.9528 188.5925 167.9528 182.9232 169.5 183.0949 171.2501 183.3969 173.218 183.7736 175.327 184.1771 177.4748 184.5591 179.5469 184.8713 181.4146 185.0675 182.9211 185.1129 183.8416 185.03 183.9037 185.128 183.716 185.7579 183.788 185.7579 183.6616 185.1205 182.9166 183.4471 181.6527 181.2767 180.0034 178.8477 178.0914 176.3465 176.0367 173.9463 173.9617 171.8174 171.9868 170.1508 170.2883 169.1464 169.2277 168.8649 168.955 168.955 168.955 168.955 168.4578 169.9095 168.0024 172.0022 167.7637 174.9122 167.7312 178.3984 167.8634 182.2628 168.1124 186.323 168.4288 190.4033 168.7629 194.3317 169.0647 197.9395 169.2842 201.0643 169.3701 203.563 169.3701 203.563 169.172 205.6131 168.6059 207.2313 167.7029 208.4236 166.5477 209.2161 165.1419 209.4567 163.6963 208.877 162.7643 207.441 162.7638 205.6987 163.5211 204.097 164.869 202.6523 166.8247 201.3069 166.7603 201.178 169.0301 199.8819 171.8418 198.315 175.0748 196.5373 178.6088 194.6091 182.3235 192.5907 186.0983 190.5421 189.8129 188.5237 193.3469 186.5955 196.5799 184.8179 199.3916 183.2509 201.6615 181.9548\" fill=\"rgba(0,0,0,1)\"/>\n",
       "<polygon points=\"185.7579 243.1594 183.7546 242.9785 181.7982 242.7976 179.8986 242.6166 178.066 242.4357 176.3102 242.2548 174.6414 242.0738 173.0696 241.8929 171.6047 241.712 170.257 241.531 169.0363 241.3501 167.9528 241.1692 167.9528 240.9882 167.3911 240.8569 166.957 240.7957 166.6351 240.764 166.4709 240.7458 166.5458 240.5865 166.4821 239.8219 165.6717 239.1597 165.3496 239.1518 165.5822 239.0382 166.1423 238.6412 166.9506 237.9053 166.9506 237.9053 168.26 236.6827 169.9391 235.224 171.896 233.5692 174.0262 231.7729 176.2209 229.8941 178.369 227.9943 180.3569 226.1379 182.0233 224.3542 183.2573 222.7605 183.9377 221.5392 184.0088 221.1024 183.9184 221.1024 183.8105 221.1538 183.2703 220.7436 182.1786 220.1879 180.6743 219.688 178.9101 219.3441 177.0324 219.2178 175.1867 219.3492 173.5184 219.7529 172.1558 220.4077 171.1603 221.2706 170.4881 222.3701 165.4174 219.8347 167.2468 217.4226 169.5621 215.7772 172.099 214.8268 174.698 214.4279 177.2668 214.4589 179.7301 214.8343 182.0125 215.4936 184.0397 216.3984 185.7439 217.5483 187.0431 219.0444 187.5974 221.1024 187.5069 221.1024 186.9159 222.9999 185.7569 224.6547 184.1951 226.3584 182.3299 228.1732 180.2712 230.0959 178.0783 232.0354 175.8585 233.9357 173.7214 235.7378 171.7788 237.3805 170.147 238.798 168.955 239.9097 168.955 239.9097 167.9239 240.8459 167.0125 241.4856 166.1414 241.8737 165.0835 241.9327 163.9053 241.003 163.8416 239.7366 164.2844 238.9419 164.8559 238.2549 165.6377 237.6212 166.675 237.1253 167.9528 236.8267 167.9528 236.6458 169.0363 236.4649 170.257 236.2839 171.6047 236.103 173.0696 235.9221 174.6414 235.7411 176.3102 235.5602 178.066 235.3793 179.8986 235.1983 181.7982 235.0174 183.7546 234.8364 185.7579 234.6555\" fill=\"rgba(0,0,0,1)\"/>\n",
       "<polygon points=\"201.6615 278.055 199.806 277.0274 197.0697 275.9313 193.7385 274.8926 190.0306 273.9838 186.1412 273.2628 182.258 272.7811 178.5674 272.5851 175.26 272.7119 172.5314 273.1768 170.5582 273.9436 169.3653 274.9583 169.2204 274.8858 168.865 276.6827 169.2281 279.4361 170.3182 282.8509 172.0025 286.6736 174.1213 290.6973 176.5113 294.7345 179.0094 298.6058 181.4525 302.1347 183.6765 305.1452 185.5123 307.4566 186.7601 308.86 186.8173 308.8027 187.0599 308.9271 185.1051 309.9192 184.9243 309.7305 184.5307 308.486 183.9629 306.6822 183.3294 304.4802 182.7362 301.9916 182.2916 299.3082 182.1153 296.5046 182.3566 293.64 183.2225 290.7894 188.2933 293.3248 187.6542 294.8151 187.2936 296.7329 187.2176 298.9323 187.375 301.252 187.6847 303.5458 188.0545 305.6847 188.3896 307.5597 188.598 309.111 188.5176 310.6145 185.9608 311.9745 184.6984 310.9217 184.7557 310.8644 183.3347 309.2713 181.4249 306.8673 179.1474 303.7844 176.6543 300.1832 174.1025 296.2288 171.65 292.0858 169.4546 287.916 167.6742 283.8728 166.4701 280.0907 166.0305 276.6571 166.6851 273.6181 166.5402 273.5457 168.3438 271.0488 171.0861 269.3074 174.4508 268.167 178.2735 267.4912 182.4086 267.1948 186.7055 267.2148 191.0098 267.4971 195.1677 267.9929 199.0335 268.6598 202.4841 269.4699 205.4645 270.4489\" fill=\"rgba(0,0,0,1)\"/>\n",
       "<polygon points=\"164.9462 324.395 167.8504 322.6987 170.8992 321.8882 174.3336 321.4106 178.152 321.1608 182.2527 321.1121 186.4989 321.2562 190.741 321.591 194.8259 322.1179 198.6053 322.8437 201.946 323.7878 204.7555 325.0166 204.691 325.1455 206.7884 326.6842 208.2001 328.5775 208.8267 330.6634 208.7805 332.6678 208.3218 334.5229 207.6398 336.2946 206.854 338.043 206.1051 339.8147 205.5308 341.6258 205.1297 343.4278 204.9803 345.2067 204.9803 345.2067 205.0606 347.2795 205.273 349.6154 205.5706 352.088 205.9039 354.5809 206.2231 356.9837 206.4783 359.1932 206.6181 361.1218 206.5759 362.7355 206.0756 364.2334 204.0233 364.967 202.5608 364.014 202.5608 364.014 201.1915 362.1773 199.6993 359.5069 198.0282 356.114 196.1745 352.2114 194.2145 347.9998 192.229 343.6881 190.2788 339.4984 188.427 335.657 186.7421 332.3985 185.3125 329.9841 184.365 328.7945 184.314 328.8454 184.8426 329.0091 186.3821 328.2273 186.4014 328.6501 186.4483 330.1082 186.6462 332.1271 186.9613 334.468 187.3458 336.9461 187.7502 339.3943 188.1256 341.6576 188.4238 343.6044 188.5925 345.2067 182.9232 345.2067 182.9247 344.1402 182.7882 342.3414 182.5616 340.1033 182.2972 337.6152 182.0462 335.0434 181.8597 332.5418 181.79 330.2465 181.9038 328.2399 182.4248 326.3685 185.001 324.7841 187.2017 325.9577 187.1508 326.0087 188.5376 327.9828 189.9841 330.7187 191.5966 334.1554 193.3433 338.1129 195.1722 342.3844 197.026 346.7545 198.845 351.004 200.5899 354.9004 202.2162 358.2028 203.6001 360.6826 204.5652 362.0096 204.5652 362.0096 204.7749 362.2338 203.7592 362.5996 203.7606 362.4052 203.7853 361.2231 203.6575 359.4729 203.4111 357.3416 203.0949 354.962 202.7594 352.4518 202.4549 349.9213 202.2326 347.4748 202.1457 345.2067 202.1457 345.2067 202.3308 342.9791 202.7992 340.8683 203.4288 338.8803 204.0176 336.9866 204.5026 335.2234 204.8239 333.6575 204.9003 332.369 204.7203 331.4437 204.3437 330.8341 203.6819 330.286 202.435 329.6576 202.3705 329.7866 200.3441 329.176 197.4978 328.6485 194.0802 328.2707 190.2994 328.062 186.3478 328.0288 182.4139 328.1729 178.6889 328.4921 175.3772 328.9781 172.7183 329.6041 171.0516 330.2651 170.9594 330.4082\" fill=\"rgba(0,0,0,1)\"/>\n",
       "<polygon points=\"199.311 416.1614 199.4308 413.8271 199.5506 410.951 199.6703 407.6535 199.7901 404.055 199.9099 400.2759 200.0297 396.4367 200.1494 392.6576 200.2692 389.0591 200.389 385.7616 200.5088 382.8855 200.6285 380.5512 200.7483 380.5512 200.9667 378.511 201.3731 376.888 202.0129 375.5565 203.2265 374.3791 205.5886 374.21 206.9263 375.5684 207.1689 376.851 206.9984 378.0535 206.5227 379.2575 205.7374 380.4552 204.6217 381.6098 204.5652 381.5534 203.3144 382.8042 201.659 384.4596 199.7092 386.4093 197.5756 388.543 195.3683 390.7502 193.1979 392.9207 191.1746 394.944 189.4088 396.7098 188.0108 398.1077 187.0912 399.0274 185.7579 396.939 185.7579 396.939 185.4676 396.8475 186.8077 395.9376 188.7896 394.5522 191.2014 392.803 193.8299 390.8027 196.4605 388.6661 198.875 386.5128 200.8484 384.4768 202.1433 382.7401 202.5729 381.6736 202.5608 381.5534 202.5326 381.5816 201.4694 381.1706 198.9245 380.7634 195.4015 380.5819 191.2449 380.6091 186.7505 380.8013 182.1998 381.1098 177.8685 381.4852 174.0304 381.8773 170.9579 382.2361 168.923 382.5114 167.9528 378.4352 167.9528 378.3753 168.3481 378.1907 170.6383 377.6919 174.061 377.0247 178.299 376.2892 183.038 375.5857 187.9686 375.0148 192.7936 374.6795 197.2456 374.692 201.1436 375.215 204.51 376.7474 206.3976 380.5512 200.7283 380.5512 200.9572 381.0107 199.7753 380.4695 196.8777 379.9892 192.9288 379.868 188.3897 380.0678 183.6352 380.5002 179.0101 381.0675 174.8472 381.6697 171.4743 382.2065 169.2162 382.5772 167.9528 382.7271 167.9528 382.6672 168.4741 378.4237 170.5526 378.2643 173.6738 378.0211 177.5678 377.7444 181.9652 377.4843 186.5979 377.2912 191.2001 377.2158 195.5113 377.3099 199.2855 377.6301 202.3256 378.2596 204.5934 379.5208 204.5652 379.549 205.3959 381.9303 204.5881 384.1747 202.9868 386.3375 200.8266 388.5687 198.2915 390.83 195.5779 393.0343 192.889 395.0806 190.4314 396.863 188.4136 398.2735 187.0447 399.2029 185.7579 399.7736 185.7579 399.7736 185.0868 397.023 186.0064 396.1033 187.4044 394.7054 189.1702 392.9396 191.1935 390.9163 193.3639 388.7458 195.5712 386.5386 197.7049 384.4049 199.6546 382.4552 201.31 380.7998 202.5608 379.549 202.5043 379.4925 203.0607 378.6405 203.3121 377.932 203.3381 377.4304 203.2345 377.2283 203.2096 377.5076 204.0456 378.3643 205.7723 378.2956 206.317 377.9208 206.3549 378.1946 206.3265 379.0799 206.3777 380.5512 206.4974 380.5512 206.6172 382.8855 206.737 385.7616 206.8568 389.0591 206.9765 392.6576 207.0963 396.4367 207.2161 400.2759 207.3359 404.055 207.4556 407.6535 207.5754 410.951 207.6952 413.8271 207.815 416.1614\" fill=\"rgba(0,0,0,1)\"/>\n",
       "<polygon points=\"221.1024 48.3661 216.5605 46.2511 214.5827 42.6771 213.8157 38.7996 213.6129 34.5199 213.8021 29.9115 214.3047 25.1607 215.0635 20.4967 216.0285 16.1641 217.1567 12.4068 218.4273 9.4442 219.9856 7.3872 220.1002 7.5017 222.329 6.5818 224.5792 7.1029 226.7802 8.3927 229.0405 10.2266 231.3252 12.459 233.5516 14.9426 235.6224 17.5268 237.4359 20.0617 238.8914 22.4059 239.8947 24.4541 240.3248 26.3091 240.4058 26.3091 239.466 28.4563 237.6675 29.5944 235.4274 30.3414 232.831 30.8572 230.0331 31.1726 227.2109 31.294 224.5355 31.2162 222.134 30.909 219.9622 30.1844 218.0026 27.6616 219.098 24.3047 223.1068 28.3135 223.3594 26.7959 222.6372 25.7446 223.3616 26.1236 225.0936 26.5521 227.3678 26.8423 229.8898 26.9636 232.4093 26.9112 234.6822 26.6912 236.4419 26.3346 237.3524 26.0012 237.4092 26.3091 237.4902 26.3091 237.2581 25.4952 236.422 23.7978 235.0817 21.6406 233.3635 19.2393 231.3877 16.7736 229.2732 14.4146 227.1434 12.3328 225.1364 10.702 223.4379 9.6976 222.3773 9.4161 222.1046 9.5061 222.2191 9.6207 221.7708 10.8946 221.1352 13.517 220.5578 17.057 220.1182 21.1922 219.8737 25.6248 219.8746 30.0574 220.1642 34.1776 220.764 37.63 221.6023 39.9462 222.1327 40.4857 221.1024 39.8622\" fill=\"rgba(0,0,0,1)\"/>\n",
       "<polygon points=\"242.7106 95.3622 243.5505 97.9045 243.8373 100.2474 243.5414 102.4374 242.4838 104.4606 240.3278 105.9182 237.5504 105.7487 235.7733 104.1458 235.1591 102.2523 235.2398 100.354 235.8207 98.384 236.8846 96.2523 237.0464 96.3332 238.3754 94.0798 239.9753 91.2846 241.7859 88.0681 243.693 84.5235 245.5825 80.7445 247.5022 76.9052 249.3917 73.1261 251.1909 69.5276 252.8397 66.2301 254.2777 63.354 255.4449 61.0197 255.4449 61.0197 256.5752 59.1401 257.7666 57.8517 259.0651 57.1013 260.4911 56.9842 261.7491 57.663 262.3701 58.8865 262.2744 60.2188 261.6178 61.4443 260.4509 62.4402 258.8128 63.1087 256.7126 63.4026 256.7126 63.493 254.0758 63.4039 250.8847 63.0471 247.2451 62.53 243.3105 61.9526 239.2508 61.4144 235.2468 61.0142 231.4933 60.8477 228.21 60.998 225.6633 61.503 224.1495 62.2467 223.6377 62.9212 218.567 60.3859 221.0517 57.7161 224.2534 56.3863 227.8 55.888 231.6469 55.9045 235.719 56.2731 239.8952 56.8762 244.0291 57.6089 247.9603 58.3692 251.5176 59.0561 254.5135 59.5688 256.7126 59.814 256.7126 59.9045 258.1239 59.8639 258.994 59.6629 259.4324 59.4549 259.5785 59.3427 259.5831 59.4041 259.7025 59.6243 259.9572 59.7681 259.9786 59.7847 259.5714 60.0376 258.8566 60.8226 257.9803 62.2874 257.9803 62.2874 256.8131 64.6217 255.3751 67.4978 253.7263 70.7953 251.9271 74.3938 250.0375 78.1729 248.1179 82.0121 246.2284 85.7912 244.537 89.4436 243.0501 92.822 241.7739 95.7791 240.7686 98.1943 240.9304 98.2752 240.4894 99.8223 240.4683 100.7953 240.6493 101.1043 240.637 100.6823 239.7629 99.8151 237.9888 99.6455 236.7358 100.3674 236.2801 100.9191 236.0846 100.9019 235.7694 100.3018 235.1044 99.1653\" fill=\"rgba(0,0,0,1)\"/>\n",
       "<polygon points=\"234.6555 132.6083 235.6088 128.8158 237.5476 125.844 239.9807 123.2935 242.7165 120.9765 245.5845 118.8528 248.3979 116.9417 250.9525 115.2897 253.0186 113.9679 254.2812 113.1288 253.898 114.158 256.7126 118.0705 256.7126 117.9809 256.1797 118.0678 254.0438 118.8077 251.0687 120.0747 247.5215 121.7318 243.601 123.6584 239.4886 125.7393 235.3597 127.8622 231.3869 129.9157 227.7403 131.7896 224.5869 133.3756 222.0832 134.5699 222.0431 134.4898 219.9963 135.2672 218.2964 135.5755 216.7243 135.3573 215.3611 134.1555 215.2211 132.5028 215.8538 131.3942 216.7913 130.6641 217.9563 130.2283 219.3138 130.1475 220.7499 130.5968 222.1046 131.6061 222.1046 131.6061 223.3272 132.9156 224.7859 134.5946 226.4407 136.5515 228.237 138.6817 230.1158 140.8764 232.0155 143.0245 233.8719 145.0124 235.6147 146.7231 237.1583 148.033 238.3644 148.8098 238.9075 148.9961 238.9075 148.9961 238.4637 149.2386 238.5476 148.7553 238.5005 147.3035 238.2136 145.3066 237.7698 143.0059 237.2682 140.5846 236.809 138.2033 236.4939 135.9997 236.4407 134.0537 236.9588 132.2628 238.9075 131.1909 238.9075 131.1909 240.7624 131.6211 242.8106 132.6243 245.1548 134.0798 247.7078 135.8695 250.3221 137.9072 252.8399 140.1041 255.1119 142.3654 256.994 144.6144 258.3458 146.8344 258.933 149.1919 257.9574 151.6582 257.9891 151.6899 255.8128 153 253.1152 153.6448 249.8877 153.9566 246.2141 154.0361 242.2312 153.9448 238.0951 153.7361 233.9705 153.4611 230.027 153.1707 226.4393 152.9155 223.392 152.7461 221.1024 152.7109 221.1024 152.7557 219.263 152.8005 217.7915 152.8452 216.6879 152.89 215.9521 152.9347 215.5842 152.9795 215.5842 147.8025 215.9521 147.7578 216.6879 147.713 217.7915 147.6683 219.263 147.6235 221.1024 147.5787 221.1024 153.248 219.263 153.2033 217.7915 153.1585 216.6879 153.1138 215.9521 153.069 215.5842 153.0242 215.5842 147.8473 215.9521 147.892 216.6879 147.9368 217.7915 147.9816 219.263 148.0263 221.1024 148.0711 221.1024 148.1158 223.6486 148.2479 226.7883 148.5132 230.3975 148.86 234.3198 149.2385 238.3888 149.5989 242.433 149.8918 246.2757 150.0681 249.7322 150.0807 252.598 149.8908 254.6159 149.499 255.4361 149.1369 255.4678 149.1685 255.5021 149.1334 255.2867 148.1799 254.3444 146.5005 252.7618 144.4821 250.7196 142.3289 248.3948 140.185 245.9592 138.176 243.576 136.4341 241.4187 135.0937 239.7213 134.2576 238.9075 134.0256 238.9075 134.0256 239.3513 133.7831 239.2674 134.2664 239.3145 135.7182 239.6013 137.7151 240.0451 140.0157 240.5468 142.437 241.0059 144.8184 241.3211 147.0219 241.3743 148.968 240.8562 150.7588 238.9075 151.8307 238.9075 151.8307 237.1162 151.3548 235.4462 150.2922 233.6923 148.8063 231.8366 146.9854 229.9139 144.9267 227.9744 142.7338 226.0742 140.5141 224.272 138.3769 222.6293 136.4343 221.2119 134.8025 220.1002 133.6105 220.1002 133.6105 219.4482 133.1148 218.9781 132.9622 218.63 132.9817 218.3904 133.1478 218.3246 133.3206 218.4556 133.2154 218.4159 132.4656 217.8554 131.8658 217.8886 131.748 218.6969 131.4543 220.1616 130.7267 220.1216 130.6467 222.4537 129.3394 225.4872 127.6145 229.0376 125.589 232.9306 123.3751 236.9954 121.0835 241.0632 118.8235 244.9683 116.7035 248.5511 114.829 251.6694 113.3002 254.249 112.2007 256.7126 111.6254 256.7126 111.5358 260.3699 115.9433 258.7493 118.3771 257.1157 119.7318 255.0483 121.2728 252.6533 123.032 250.1225 124.9602 247.673 126.9834 245.5395 129.0006 243.9728 130.8512 243.2027 132.2271 243.1594 132.6083\" fill=\"rgba(0,0,0,1)\"/>\n",
       "<polygon points=\"256.7126 199.311 253.26 205.9416 251.311 203.9559 248.3205 201.0123 244.5589 197.331 240.2964 193.132 235.8025 188.6346 231.3459 184.057 227.1935 179.6147 223.607 175.5167 220.835 171.9478 219.0794 168.9642 219.2413 168.8833 218.6978 166.2288 219.6468 163.8813 221.5687 162.7147 223.7228 162.3301 226.1017 162.273 228.672 162.5387 231.3147 163.0636 233.8929 163.7973 236.2671 164.6973 238.3069 165.7369 239.9097 166.9506 239.9097 166.9506 240.9788 168.2101 241.8303 169.6225 242.462 171.1647 242.8771 172.8164 243.0816 174.5611 243.0818 176.3861 242.8835 178.2812 242.5495 180.2519 242.0504 182.2945 241.3576 184.3939 240.4719 186.5401 240.5528 186.5805 239.3493 188.827 237.8761 190.9845 236.2005 193.0533 234.3857 195.0312 232.4934 196.9131 230.585 198.6921 228.7231 200.3586 226.972 201.9009 225.3997 203.303 224.0812 204.5406 223.1068 205.5674 219.098 201.5586 220.4578 200.4183 222.0154 199.2145 223.7406 197.9211 225.588 196.5338 227.5052 195.0566 229.4361 193.498 231.3228 191.8684 233.1065 190.1809 234.7284 188.4506 236.1314 186.6953 237.2622 184.9352 237.3431 184.9757 238.2968 183.1153 239.0754 181.3019 239.6799 179.5454 240.0817 177.8507 240.2513 176.2342 240.2515 174.7216 240.0881 173.3227 239.7674 172.0448 239.2956 170.8915 238.6755 169.8625 237.9053 168.955 237.9053 168.955 236.8393 168.1621 235.1335 167.2954 233.0062 166.4897 230.6482 165.8188 228.241 165.3404 225.9688 165.1045 224.0335 165.1477 222.7228 165.5658 222.3506 166.0044 222.4969 166.1652 222.9634 167.0222 223.1253 166.9413 224.7006 168.9608 227.5136 172.0137 231.2245 175.7146 235.5398 179.807 240.1798 184.0583 244.8694 188.2427 249.3355 192.137 253.306 195.5189 256.5091 198.167 258.6736 199.86 256.7126 207.815\" fill=\"rgba(0,0,0,1)\"/>\n",
       "<polygon points=\"256.7126 225.3543 255.3624 225.4467 252.9238 226.1052 249.8356 227.2856 246.3357 228.87 242.5935 230.7378 238.7524 232.7718 234.9437 234.8576 231.2925 236.8834 227.9178 238.7396 224.93 240.321 222.4147 241.5321 222.3611 241.425 220.2726 242.2422 218.5138 242.7337 217.0413 242.9425 215.7058 242.8688 213.9509 241.9097 213.8097 239.0461 214.9278 238.1538 216.0675 237.7597 217.4382 237.5081 219.1085 237.3815 221.1024 237.4103 221.1024 237.4902 223.5223 237.5764 226.4344 237.7964 229.743 238.0984 233.3361 238.4323 237.0958 238.7484 240.9013 238.997 244.6286 239.129 248.15 239.0965 251.3318 238.8549 254.0283 238.3701 256.0788 237.6398 256.0788 237.6398 257.5338 236.6748 258.5377 235.5243 259.1842 234.1945 259.5187 232.6893 259.5616 231.0451 259.3362 229.3242 258.8778 227.5987 258.2309 225.9414 257.4465 224.4248 256.5829 223.1211 255.7104 222.1046 255.6822 222.1328 254.834 221.6474 253.4873 221.2923 251.7506 221.1306 249.7683 221.1598 247.6748 221.3469 245.5942 221.6477 243.6451 222.0144 241.9428 222.3977 240.6007 222.748 239.7311 223.015 238.9075 218.9864 238.9075 218.9265 239.4058 218.8666 240.7602 218.8067 242.7601 218.7468 245.1948 218.6869 247.8535 218.627 250.5256 218.5672 253.0004 218.5073 255.0672 218.4474 256.5153 218.3875 257.134 218.3276 256.7126 223.937 256.7126 218.2677 257.134 223.8771 256.5153 223.8172 255.0672 223.7573 253.0004 223.6975 250.5256 223.6376 247.8535 223.5777 245.1948 223.5178 242.7601 223.4579 240.7602 223.398 239.4058 223.3381 238.9075 223.2783 238.9075 223.2184 238.746 219.0225 239.7158 218.8548 241.1696 218.603 242.9988 218.3175 245.0963 218.0488 247.3567 217.848 249.6776 217.7675 251.9627 217.8636 254.1255 218.2035 256.0896 218.8851 257.743 220.0719 257.7148 220.1002 258.8489 221.418 259.8915 222.9904 260.8127 224.7712 261.5704 226.7125 262.1153 228.766 262.3916 230.8844 262.3341 233.0193 261.866 235.1126 260.9072 237.0802 259.4029 238.8059 257.3464 240.1752 257.3464 240.1752 254.7282 241.117 251.6726 241.669 248.2593 241.929 244.5838 241.9633 240.7529 241.8278 236.8798 241.5748 233.0815 241.2555 229.4776 240.9206 226.1912 240.6206 223.3511 240.4058 221.1024 240.3248 221.1024 240.4047 219.4174 240.6006 218.1448 240.9089 217.3082 241.2592 216.9764 241.534 217.3588 241.2771 217.2176 238.9151 216.1985 238.2236 216.3344 238.083 217.0692 237.7902 218.2534 237.2449 219.8436 236.39 219.79 236.2828 221.9434 234.9925 224.7078 233.263 227.9281 231.2197 231.4738 228.9781 235.2233 226.6494 239.0607 224.3425 242.8767 222.1637 246.5737 220.2165 250.0805 218.601 253.3941 217.4202 256.7126 216.8504\" fill=\"rgba(0,0,0,1)\"/>\n",
       "<polygon points=\"221.1024 287.8051 223.7567 287.9979 226.9337 288.3237 230.55 288.729 234.4619 289.1644 238.5068 289.5809 242.5129 289.9293 246.2998 290.1615 249.6723 290.2328 252.4021 290.1128 254.1703 289.8393 254.5029 289.8474 254.5754 289.9199 254.4037 290.4441 254.4133 289.9429 253.8957 288.5161 252.781 286.6323 251.1835 284.5564 249.2332 282.4617 247.0588 280.4876 244.7898 278.7602 242.5639 277.398 240.5392 276.507 238.9075 276.1474 238.9075 276.045 237.4266 276.1909 235.7749 276.8585 234.0148 278.0289 232.2489 279.6365 230.561 281.582 228.9331 283.6995 227.3833 285.8759 225.9245 288.0009 224.5644 289.9684 223.3013 291.6808 222.1046 293.0593 222.1046 293.0593 220.8944 294.0663 219.6868 294.7216 218.531 295.0596 217.4555 295.1067 216.4336 294.8186 215.5097 293.8047 215.7002 292.2211 216.6075 291.4168 217.7329 290.9871 219.197 290.7313 221.1024 290.6398 221.1024 290.6398 223.601 290.7257 226.7258 290.9452 230.3336 291.2469 234.262 291.581 238.3423 291.8974 242.4025 292.1465 246.2669 292.2786 249.7518 292.212 252.6515 291.9229 254.7117 291.4228 255.5776 290.9221 255.5414 290.8858 255.4321 290.8623 254.9495 289.651 253.62 287.6863 251.6264 285.3867 249.2023 282.9869 246.5751 280.6755 243.9719 278.6292 241.6328 277.0269 239.863 276.0663 239.4623 275.9149 241.1274 274.252 241.1786 274.252 241.5448 275.0131 242.8624 277.6077 244.8713 281.1658 247.3348 285.347 250.0348 289.8644 252.7593 294.4443 255.3005 298.822 257.4571 302.748 259.0454 306.0286 259.9056 308.8601 256.7126 312.6969 256.7126 307.0276 254.3624 309.3728 253.9851 308.0908 252.6773 305.1776 250.7003 301.3716 248.292 297.0207 245.6722 292.4171 243.0548 287.8379 240.649 283.5514 238.6581 279.8121 237.2667 276.8218 236.6363 274.252 236.6876 274.252 239.3492 271.579 241.6574 272.2303 243.8875 273.5638 246.4177 275.4263 249.1319 277.6942 251.8489 280.2253 254.3744 282.8754 256.5144 285.512 258.0811 288.0488 258.8359 290.5831 257.8838 293.2283 257.8476 293.1921 255.717 294.3635 253.0617 294.9002 249.8681 295.1127 246.2229 295.113 242.2616 294.9776 238.1416 294.725 234.0283 294.406 230.0909 294.0712 226.5018 293.771 223.4396 293.5557 221.1024 293.4744 221.1024 293.4744 219.4962 293.5501 218.4521 293.729 217.9722 293.9013 218.0769 293.7659 218.167 292.8177 217.7448 292.3055 217.7261 292.2849 218.0553 292.2651 218.6051 292.1015 219.3037 291.72 220.1002 291.0549 220.1002 291.0549 221.0706 289.9318 222.2488 288.3333 223.5842 286.4014 225.055 284.2591 226.6489 282.0209 228.3586 279.7975 230.1822 277.6964 232.0817 275.7725 234.1208 274.147 236.3819 272.9752 238.9075 272.459 238.9075 272.3565 241.6166 272.6591 244.3743 273.6074 247.1516 275.0411 249.8856 276.8453 252.4936 278.9178 254.8843 281.164 256.9655 283.5027 258.6466 285.8862 259.8212 288.3588 260.1987 291.1685 258.8498 294.1943 258.9223 294.2668 256.2584 295.947 253.3111 296.7102 249.9475 297.0919 246.19 297.2301 242.1512 297.1948 237.9771 297.0415 233.8285 296.8226 229.8745 296.5892 226.2939 296.3925 223.2839 296.2835 221.1024 296.3091\" fill=\"rgba(0,0,0,1)\"/>\n",
       "<polygon points=\"242.7106 325.5 243.7416 327.7274 245.2333 330.6077 247.0473 333.9588 249.0624 337.6399 251.1638 341.5235 253.2397 345.4885 255.1803 349.4188 256.8777 353.2055 258.2249 356.7544 259.1113 360.0081 259.3791 363.0118 259.235 363.0118 258.7474 365.5197 257.5875 367.6118 255.889 369.1209 253.8766 369.9989 251.7098 370.3225 249.458 370.1806 247.1563 369.6271 244.8207 368.7334 242.4516 367.5455 240.1272 365.9723 237.9053 364.014 237.9053 364.014 235.697 361.4577 233.4591 358.2738 231.2193 354.6114 229.0252 350.6297 226.9313 346.4926 224.9947 342.3662 223.2732 338.417 221.8251 334.8102 220.7075 331.7055 219.9741 329.2408 219.685 327.4016 219.685 327.4016 221.2005 325.4315 223.145 325.6673 225.0751 326.6234 227.316 328.0565 229.7833 329.9033 232.3271 332.0867 234.7992 334.509 237.05 337.0785 238.9308 339.7218 240.2845 342.4108 240.8773 345.2067 240.9494 345.2067 240.4886 348.0739 239.2417 350.8738 237.4508 353.6413 235.2784 356.3414 232.8745 358.9 230.386 361.2274 227.9525 363.2307 225.687 364.8236 223.586 365.9404 220.9 366.2932 218.2677 363.0118 223.937 363.0118 222.1342 360.9076 221.7222 360.8925 223.0191 360.3172 224.954 359.1142 227.2025 357.4387 229.5566 355.4252 231.8347 353.2014 233.8628 350.8985 235.4698 348.6629 236.4969 346.6804 236.8656 345.2067 236.9376 345.2067 236.7011 343.6617 235.7807 341.5683 234.2636 339.2085 232.314 336.775 230.104 334.4148 227.8052 332.2574 225.5905 330.4254 223.631 329.0626 222.1632 328.3265 221.8337 328.1945 222.5197 327.4016 222.5197 327.4016 222.7255 328.5588 223.3968 330.8096 224.473 333.7983 225.8877 337.3216 227.5774 341.198 229.48 345.2518 231.5331 349.3083 233.6732 353.1924 235.8346 356.727 237.9443 359.73 239.9097 362.0096 239.9097 362.0096 241.8614 363.7301 243.8847 365.0998 245.9166 366.1192 247.9153 366.697 249.7606 366.8793 251.348 366.7373 252.5924 366.3252 253.4427 365.7317 253.9382 365.0336 254.1828 364.1826 254.1902 363.0118 254.0461 363.0118 253.6518 361.3469 252.6988 358.8483 251.2501 355.8022 249.4159 352.392 247.3099 348.7641 245.0449 345.0506 242.7318 341.3761 240.4795 337.8602 238.3941 334.6163 236.5749 331.7444 235.1044 329.3031\" fill=\"rgba(0,0,0,1)\"/>\n",
       "<polygon points=\"256.7126 376.2992 261.1466 381.9056 259.1555 384.6023 257.3751 385.8447 255.2 387.2424 252.7046 388.8534 250.0691 390.6363 247.5021 392.5243 245.2272 394.428 243.4786 396.2141 242.4678 397.645 242.1748 398.3563 242.0853 398.3563 242.1842 399.0113 243.0032 400.3256 244.6172 401.9761 246.8049 403.7334 249.3165 405.4988 251.92 407.2303 254.4045 408.9146 256.5877 410.5735 258.3398 412.3411 259.4014 414.815 258.2634 417.7122 258.2001 417.6489 255.8487 419.0124 252.7719 419.9716 248.9609 420.771 244.61 421.4022 239.9613 421.8249 235.2697 421.9915 230.7907 421.8502 226.7665 421.3716 223.391 420.4922 220.829 418.9022 219.685 416.1614 219.685 416.1614 220.492 413.203 222.4743 410.095 225.3582 406.6923 228.9448 403.0374 233.0268 399.2251 237.3902 395.366 241.8172 391.5762 246.088 387.9748 249.9803 384.6833 253.2676 381.8279 255.7104 379.549 255.7104 379.549 257.5238 377.8223 258.8811 376.7017 259.9427 376.0485 261.5984 376.0258 262.3446 377.9118 261.9102 378.8213 261.2711 379.6337 260.4269 380.4379 259.3867 381.1714 258.1503 381.7331 256.7126 381.9685 256.7126 381.9685 255.212 381.7615 253.6458 381.2893 251.9597 380.6738 250.1684 380.0397 248.3337 379.4697 246.535 379.0453 244.8611 378.852 243.4094 378.9478 242.2411 379.3461 241.2993 380.0807 240.4821 381.3385 240.5221 381.3585 239.7611 383.4963 239.1132 386.4177 238.6256 389.8944 238.312 393.7291 238.1769 397.736 238.2217 401.7336 238.4452 405.539 238.8432 408.9632 239.4012 411.7987 240.0625 413.7854 240.5321 414.5368 240.5637 414.5052 240.4543 414.3814 241.1301 414.2323 242.564 413.5532 244.387 412.3029 246.3704 410.5911 248.3534 408.5445 250.2002 406.2928 251.7843 403.9719 252.9847 401.7348 253.6949 399.7745 253.878 398.3563 259.5472 398.3563 259.0681 401.279 257.9389 404.101 256.3435 406.8671 254.396 409.5493 252.1962 412.0799 249.8383 414.3743 247.4072 416.3412 244.9629 417.8867 242.4973 418.8998 239.8622 419.1187 237.2512 417.8177 237.2829 417.786 235.913 415.5409 235.1029 412.8121 234.5572 409.5543 234.2195 405.8485 234.0752 401.8282 234.1199 397.6455 234.3527 393.4589 234.7748 389.4277 235.3909 385.7075 236.2145 382.4419 237.2928 379.7439 237.3329 379.7639 238.85 377.6774 240.7843 376.3385 242.9135 375.7335 245.0603 375.6955 247.1655 376.0373 249.206 376.6162 251.1504 377.317 252.9576 378.0206 254.569 378.6092 255.8789 379.0064 256.7126 379.1339 256.7126 379.1339 257.2814 379.0349 257.9514 378.727 258.6168 378.2565 259.1772 377.723 259.5413 377.2646 259.6086 377.1708 260.2545 378.5217 261.1075 378.6328 260.5639 378.9828 259.4129 379.9357 257.7148 381.5534 257.7148 381.5534 255.1545 383.9432 251.82 386.8399 247.9134 390.1434 243.6495 393.739 239.2476 397.5073 234.9291 401.3267 230.9179 405.0727 227.4413 408.6147 224.7335 411.807 223.0371 414.4512 222.5197 416.1614 222.5197 416.1614 222.8673 416.9322 224.4188 417.8504 227.237 418.5763 230.9448 418.9003 235.1944 418.8594 239.6863 418.5243 244.1342 417.9437 248.251 417.1702 251.7373 416.2641 254.2456 415.317 255.2251 414.6739 255.1618 414.6106 254.8665 415.3408 254.6908 415.3732 253.5466 414.4453 251.5963 413.1747 249.1312 411.7153 246.3905 410.1091 243.5846 408.363 240.9031 406.455 238.5172 404.3063 236.6273 401.7077 235.7297 398.3563 235.6402 398.3563 236.3437 394.8939 238.0419 391.9772 240.293 389.3622 242.8875 386.9316 245.6379 384.6727 248.3466 382.6163 250.8008 380.8161 252.7593 379.3511 253.8751 378.3997 253.1214 379.6917 256.7126 384.8031\" fill=\"rgba(0,0,0,1)\"/>\n",
       "<polygon points=\"305.6102 44.1142 305.7544 42.6159 305.8985 40.2582 306.0426 37.2115 306.1868 33.6465 306.3309 29.7336 306.475 25.6435 306.6192 21.5468 306.7633 17.6138 306.9074 14.0154 307.0516 10.9219 307.1957 8.5039 307.3399 8.5039 307.7156 6.2822 308.6435 4.5003 310.2729 3.3598 312.0704 3.3098 313.3893 4.0082 314.2391 5.0583 314.6304 6.3702 314.384 7.8379 313.3925 9.057 311.8619 9.7157 309.8622 9.9213 309.8622 9.9213 307.5279 9.9213 304.6518 9.9213 301.3543 9.9213 297.7558 9.9213 293.9767 9.9213 290.1375 9.9213 286.3584 9.9213 282.7599 9.9213 279.4624 9.9213 276.5863 9.9213 274.252 9.9213 274.252 9.9213 272.5798 9.9213 271.5431 9.9213 271.0414 9.9213 270.9745 7.0386 271.2421 6.9665 271.7437 6.8944 272.3792 6.8224 273.048 6.7503 273.65 6.6782 274.0848 6.6062 274.252 6.5341 274.252 6.462 273.1394 10.3111 272.6724 10.1582 272.0382 9.9217 271.3371 9.6517 270.6694 9.3985 270.1355 9.2121 269.8358 9.1428 272.2124 4.5567 272.7463 4.743 273.8153 5.1969 275.5197 5.9686 272.9843 11.0393 271.3443 10.1388 270.3398 9.556 269.8704 9.2407 272.1133 4.5877 272.3486 4.7859 272.818 5.1012 273.4212 5.4834 274.0579 5.8822 274.6276 6.2477 275.0302 6.5295 274.252 10.5458 274.252 10.4738 274.0848 10.4017 273.65 10.3296 273.048 10.2576 272.3792 10.1855 271.7437 10.1134 271.2421 10.0414 270.9745 9.9693 271.0414 7.0866 271.5431 7.0866 272.5798 7.0866 274.252 7.0866 274.252 7.0866 276.5863 7.0866 279.4624 7.0866 282.7599 7.0866 286.3584 7.0866 290.1375 7.0866 293.9767 7.0866 297.7558 7.0866 301.3543 7.0866 304.6518 7.0866 307.5279 7.0866 309.8622 7.0866 309.8622 7.0866 311.2069 6.9578 311.7497 6.7469 311.7615 6.762 311.6489 6.892 311.5051 6.9331 311.3515 6.98 311.3996 7.1432 311.8594 7.227 312.2849 7.0897 312.3433 7.3813 312.3846 8.5039 312.5287 8.5039 312.6728 10.9219 312.817 14.0154 312.9611 17.6138 313.1052 21.5468 313.2494 25.6435 313.3935 29.7336 313.5376 33.6465 313.6818 37.2115 313.8259 40.2582 313.97 42.6159 314.1142 44.1142\" fill=\"rgba(0,0,0,1)\"/>\n",
       "<polygon points=\"292.0571 101.5157 288.1617 99.8445 285.8483 97.4249 283.4784 94.2931 280.9815 90.512 278.4611 86.2466 276.0559 81.6887 273.9153 77.0345 272.1923 72.4699 271.0484 68.1477 270.6929 64.1291 271.6273 60.3412 271.7344 60.3948 274.3314 57.6354 277.7654 55.947 281.8066 54.8465 286.3042 54.1856 291.0525 53.9214 295.8177 54.0411 300.3567 54.5442 304.4313 55.4426 307.8252 56.7838 310.3341 58.7503 311.3594 61.6535 311.2795 61.6535 310.2771 64.8338 307.869 68.3469 304.3961 72.3334 300.1493 76.6481 295.4361 81.092 290.5712 85.453 285.8724 89.5141 281.659 93.0566 278.2508 95.861 275.9682 97.7072 274.252 95.8465 274.252 95.8465 274.1326 95.4651 276.4031 93.4116 279.7963 90.3189 283.991 86.4582 288.6655 82.101 293.4977 77.519 298.1648 72.9853 302.3417 68.7752 305.6972 65.1723 307.8749 62.5017 308.4449 61.6535 308.405 61.6535 308.9855 62.5668 307.7091 62.7869 305.1142 63.6369 301.7007 65.0529 297.7445 66.917 293.4848 69.1139 289.1518 71.529 284.9742 74.0474 281.1832 76.5502 278.0193 78.9085 275.7482 80.9549 275.7906 80.9972 274.1284 82.8953 272.8507 84.6925 271.9507 86.3584 271.4106 87.86 271.195 89.1705 271.2529 90.2895 271.5411 91.2614 272.0603 92.1598 272.8596 93.0386 273.9992 93.9038 275.5197 94.7284 272.9843 99.7992 270.826 98.4566 269.0226 96.8805 267.6147 95.0637 266.6624 93.0325 266.2148 90.8608 266.2727 88.6422 266.7928 86.4411 267.7242 84.2773 269.0315 82.1442 270.6968 80.0285 272.7134 77.9201 272.7557 77.9624 275.4877 75.6679 278.9455 73.2438 282.9535 70.7436 287.3106 68.2588 291.8065 65.8916 296.2287 63.7475 300.3657 61.9329 304.0154 60.553 307.0122 59.7108 309.4146 59.5631 311.3195 61.6535 311.2795 61.6535 310.1907 64.1364 307.8202 67.0507 304.38 70.7451 300.156 75.0028 295.459 79.5656 290.6061 84.1672 285.9165 88.5385 281.7103 92.4099 278.3079 95.5109 276.0301 97.5709 274.252 98.6811 274.252 98.6811 274.1946 95.496 276.4602 93.6635 279.8476 90.8762 284.0351 87.3555 288.7004 83.3234 293.5206 79.0025 298.1715 74.6174 302.3256 70.3974 305.6484 66.585 307.7886 63.4764 308.4449 61.6535 308.365 61.6535 307.8988 60.8781 306.2941 59.9016 303.4944 59.0355 299.837 58.4624 295.6473 58.2297 291.229 58.3495 286.8808 58.821 282.9105 59.6316 279.6545 60.7383 277.5035 61.9929 276.7695 62.9123 276.8766 62.9659 276.8011 64.1811 277.2482 66.7842 278.3985 70.261 280.1402 74.2311 282.3137 78.4058 284.7512 82.5297 287.2806 86.3576 289.7199 89.6397 291.8515 92.0996 293.2837 93.3587 292.0571 93.0118\" fill=\"rgba(0,0,0,1)\"/>\n",
       "<polygon points=\"270 132.6083 271.6904 128.728 274.1232 126.4359 277.2663 124.0882 281.0574 121.614 285.3311 119.1171 289.8949 116.7366 294.5513 114.6219 299.1112 112.9271 303.4151 111.8137 307.3846 111.4876 311.0547 112.4182 310.9902 112.5471 313.5069 114.8565 314.9649 117.8774 315.7323 121.3395 316.0186 125.1588 315.9272 129.2323 315.5258 133.4278 314.8702 137.5965 314.0593 141.591 313.1869 145.2715 312.2014 148.4688 311.1299 151.0472 311.1299 151.0472 309.7067 153.0782 307.8749 154.3978 305.8244 155.0247 303.7197 155.1053 301.6287 154.8104 299.5855 154.277 297.6294 153.6195 295.8121 152.9439 294.2007 152.3554 292.8908 151.9581 292.0571 151.8307 292.0571 151.8307 291.5485 151.876 291.524 151.8694 291.7631 151.5533 291.8618 151.0972 291.8201 150.798 291.7132 150.5909 291.4105 150.3957 290.7895 150.3962 290.2682 150.7098 290.1271 150.8109 290.0872 150.4134 290.0152 150.4134 289.9431 149.2462 289.871 147.8082 289.799 146.1594 289.7269 144.3602 289.6548 142.4706 289.5828 140.551 289.5107 138.6615 289.4386 136.8622 289.3666 135.2135 289.2945 133.7754 289.2224 132.6083 294.8917 132.6083 294.8197 133.7754 294.7476 135.2135 294.6755 136.8622 294.6035 138.6615 294.5314 140.551 294.4593 142.4706 294.3873 144.3602 294.3152 146.1594 294.2431 147.8082 294.1711 149.2462 294.099 150.4134 294.0269 150.4134 293.8199 151.688 293.244 152.8259 292.1207 153.6411 290.8308 153.7085 289.8928 153.2457 289.2842 152.537 288.9749 151.6024 289.1406 150.4774 289.8813 149.5593 290.8935 149.118 292.0571 148.9961 292.0571 148.9961 293.5577 149.2031 295.1239 149.6753 296.81 150.2907 298.5912 150.953 300.4141 151.5662 302.2102 152.0361 303.8983 152.2763 305.3921 152.2232 306.6391 151.8467 307.6834 151.0929 308.5945 149.7795 308.5945 149.7795 309.5296 147.5221 310.4503 144.5324 311.2836 141.016 311.8773 137.1447 312.225 133.1198 312.3252 129.1351 312.1335 125.3829 311.6171 122.0721 310.7792 119.4409 309.729 117.7464 308.7342 117.0592 308.6697 117.1881 307.3367 117.1087 304.6845 117.5853 301.1894 118.7661 297.2146 120.5359 293.0421 122.7355 288.924 125.1975 285.1045 127.7505 281.8324 130.2125 279.3838 132.3662 278.1379 133.8198 278.5039 132.6083\" fill=\"rgba(0,0,0,1)\"/>\n",
       "<polygon points=\"314.1142 167.9528 312.7508 172.2895 310.1525 175.7733 306.7287 179.2732 302.6535 182.9271 298.1488 186.6925 293.4632 190.4767 288.8597 194.1685 284.6114 197.6446 281.0051 200.7651 278.3569 203.3418 277.047 204.9605 276.9554 204.9147 276.5616 205.675 276.3441 205.2672 275.947 204.9671 276.4353 205.1869 277.7961 205.3204 279.7039 205.2014 281.9382 204.8368 284.338 204.2693 286.767 203.5494 289.0988 202.7303 291.2094 201.8676 291.2552 201.9593 293.0524 200.955 294.9268 199.5018 296.8157 197.7092 298.6533 195.6744 300.3853 193.4969 302.0489 191.3332 303.6357 189.2906 305.1461 187.4703 306.6009 185.9632 308.0881 184.8513 309.8622 184.3406 309.8622 184.3406 311.8547 185.2412 313.0698 186.9447 314.0096 189.1436 314.753 191.7191 315.2785 194.5041 315.5423 197.317 315.4871 199.9838 315.0202 202.3632 313.8973 204.3443 311.7442 205.3961 309.2284 204.8307 309.2284 204.8307 306.5868 203.1097 303.4094 200.4655 299.7682 197.0784 295.81 193.1539 291.6969 188.9064 287.5958 184.5539 283.6758 180.3156 280.0816 176.4348 276.997 173.1216 274.6094 170.5897 273.1169 169.0878 273.0807 169.124 275.0381 166.3239 275.693 166.9064 277.1773 168.3182 279.2803 170.3488 281.7913 172.7874 284.4996 175.4233 287.1946 178.0458 289.6655 180.4442 291.7016 182.4079 293.0923 183.7261 292.0571 183.538 292.0571 183.4867 290.1893 187.2384 289.006 186.3472 287.257 184.9744 285.1013 183.2289 282.6972 181.2188 280.2015 179.0504 277.7681 176.8262 275.5444 174.6398 273.6634 172.5571 272.2231 170.5364 271.4173 167.9528 277.0866 167.9528 277.1102 167.8707 277.9441 169.1608 279.4609 170.9776 281.4377 173.0585 283.6862 175.2489 286.0331 177.4214 288.3111 179.4579 290.3559 181.244 292.0047 182.667 293.0955 183.6152 292.0571 188.029 292.0571 187.9778 290.0253 186.7931 288.7071 185.4024 286.7434 183.3663 284.345 180.8954 281.7225 178.2004 279.0866 175.4921 276.648 172.9811 274.6175 170.8781 273.2056 169.3938 272.6231 168.7388 275.4232 166.7815 275.387 166.8177 276.891 168.4795 279.2189 171.0979 282.2277 174.48 285.7635 178.3981 289.6692 182.6209 293.7483 186.9502 297.8288 191.1639 301.7364 195.0383 305.2922 198.3465 308.3017 200.8526 310.4961 202.2953 310.4961 202.2953 311.4918 202.5727 311.8469 202.387 312.3293 201.472 312.665 199.7178 312.7101 197.435 312.4722 194.9037 311.9944 192.3712 311.3332 190.0775 310.5675 188.2765 309.8763 187.2712 309.8622 187.1752 309.8622 187.1752 309.4692 187.3267 308.515 188.0541 307.2743 189.3428 305.8551 191.0541 304.2983 193.0581 302.6242 195.2354 300.8447 197.4724 299.0169 199.7049 297.1067 201.8118 295.0682 203.6694 292.8589 205.1667 292.9048 205.2583 290.6745 206.4023 288.2238 207.4894 285.6498 208.4751 283.0465 209.3122 280.4984 209.9509 278.0654 210.3336 275.7474 210.3667 273.4398 209.7839 271.3505 207.8786 270.7652 204.9626 271.5486 202.2113 271.4569 202.1655 273.478 199.1155 276.4148 195.94 280.1058 192.4655 284.3253 188.7447 288.8182 184.8783 293.3162 180.984 297.5401 177.1912 301.197 173.6482 303.9668 170.5531 305.482 168.2847 305.6102 167.9528\" fill=\"rgba(0,0,0,1)\"/>\n",
       "<polygon points=\"278.5039 256.7126 275.069 253.1104 275.8965 253.0255 278.6848 252.1424 282.4434 250.6154 286.7723 248.6365 291.3602 246.3802 295.9183 244.0146 300.164 241.7064 303.8123 239.6254 306.5591 237.9576 307.9767 237.022 308.0786 237.1239 307.9516 238.5378 308.9229 239.6603 308.0613 239.3864 306.1994 239.214 303.8134 239.1989 301.1817 239.3013 298.5388 239.4719 296.1128 239.7082 294.1286 240.0068 292.7864 240.2222 292.0571 237.4902 292.0571 237.4902 292.7864 237.5927 294.1286 237.8081 296.1128 238.1068 298.5265 238.4383 301.1558 238.7525 303.7839 238.9993 306.186 239.1293 308.1113 239.0994 309.1942 238.9251 308.8938 239.4656 308.86 239.9097 308.86 239.9097 307.3709 238.725 304.6406 236.8943 301.0277 234.6657 296.7972 232.2552 292.2412 229.8084 287.6482 227.4679 283.2973 225.3977 279.478 223.765 276.5211 222.7447 275.0307 222.4949 276.2218 221.1024 276.2939 221.1024 276.7815 221.6333 278.7591 224.1917 281.8426 227.7128 285.717 231.8489 290.0973 236.3097 294.7053 240.8158 299.2636 245.0898 303.4905 248.8521 307.0887 251.8121 309.6793 253.6358 309.8622 253.878 309.8622 259.5472 306.7141 258.2979 303.7198 256.0081 300.0206 252.7744 295.7798 248.8046 291.2415 244.35 286.666 239.6726 282.3177 235.0369 278.46 230.7052 275.3499 226.9289 273.214 223.9023 272.2101 221.1024 272.2821 221.1024 274.9648 218.6999 277.5879 219.2526 280.8247 220.5266 284.7375 222.3586 289.1152 224.6026 293.7057 227.1047 298.2462 229.7077 302.4835 232.2335 306.1679 234.5063 309.0225 236.4212 310.8644 237.9053 310.8644 237.9053 311.6734 240.0215 310.1356 241.5988 308.3223 241.9261 306.1141 241.9631 303.5665 241.8256 300.8504 241.5707 298.1623 241.2495 295.7067 240.9122 293.691 240.6088 292.3244 240.3895 292.0571 240.3248 292.0571 240.3248 292.3244 237.4255 293.691 237.2062 295.7067 236.9028 298.15 236.4702 300.8246 236.0055 303.537 235.6062 306.1006 235.3236 308.3723 235.2181 310.4069 235.4458 312.6156 237.605 311.6458 240.6911 311.7477 240.793 309.8343 242.5261 306.9962 244.6039 303.3472 247.0243 299.1251 249.6524 294.5867 252.3368 289.9911 254.923 285.5913 257.2582 281.6179 259.196 278.2125 260.607 274.9265 261.3248 270 256.7126\" fill=\"rgba(0,0,0,1)\"/>\n",
       "<polygon points=\"274.252 305.6102 273.1213 305.9454 275.0693 305.243 277.9738 304.0624 281.6141 302.5139 285.7693 300.7079 290.2189 298.7548 294.7421 296.7649 299.1181 294.8485 303.1262 293.1161 306.5457 291.678 309.1559 290.6445 309.2284 290.7894 311.1608 289.9631 312.7219 289.5943 314.1115 289.7055 315.3162 290.6687 315.5103 292.1112 314.9931 293.1794 314.141 293.9511 313.0083 294.4371 311.6508 294.5179 310.2146 294.0686 308.86 293.0593 308.8027 293.1166 307.409 291.808 305.6435 289.9942 303.5963 287.8165 301.3737 285.4313 299.0868 282.9998 296.8504 280.6869 294.786 278.6633 293.0369 277.1165 291.85 276.291 292.4938 276.4581 294.8917 274.252 289.2224 274.252 292.2825 271.0359 294.7658 272.0056 296.3747 273.4742 298.1572 275.3922 300.1394 277.6828 302.2438 280.2124 304.3715 282.8308 306.4162 285.3819 308.2685 287.7056 309.8139 289.6374 310.9217 290.9976 310.8644 291.0549 311.5164 291.5505 311.9865 291.7032 312.3346 291.6837 312.6065 291.5677 312.7576 291.4364 312.7421 291.5013 312.8358 292.0409 313.2379 292.4021 313.0223 292.413 312.0751 292.6462 310.4961 293.3248 310.5685 293.4697 308.1756 294.9377 304.9734 296.8105 301.1826 298.9776 297.0239 301.3285 292.7181 303.7531 288.4858 306.1409 284.5479 308.3815 281.1249 310.3646 278.4377 311.9799 276.707 313.1169 274.252 314.1142\" fill=\"rgba(0,0,0,1)\"/>\n",
       "<polygon points=\"271.2454 342.2001 272.187 341.27 273.6099 339.5842 275.3149 337.4299 277.2092 335.0054 279.2258 332.4818 281.311 330.0169 283.4292 327.7555 285.5867 325.8242 287.9259 324.3383 290.9516 323.6698 294.2668 325.1919 294.1943 325.2644 295.7207 328.0683 296.4769 331.3146 296.9616 335.1971 297.2398 339.5799 297.3258 344.2403 297.2234 348.931 296.9324 353.399 296.4487 357.3973 295.7523 360.7101 294.7108 363.2584 292.0571 364.9073 292.0571 364.8048 289.638 363.4021 288.0856 361.0188 286.4699 357.768 284.7093 353.8234 282.8091 349.4346 280.8856 344.8335 278.9975 340.2887 277.2062 336.0735 275.5773 332.4684 274.1916 329.7756 273.2498 328.4038 273.2498 328.4038 273.0248 328.1965 273.5008 328.0883 273.3592 328.3731 273.0745 329.4765 272.9088 331.1447 272.9091 333.1941 273.0854 335.4843 273.439 337.8891 273.9679 340.2869 274.6658 342.5562 275.5197 344.5728 275.5197 344.5728 276.6965 346.6131 278.2981 348.9261 280.2052 351.3728 282.3013 353.8303 284.4713 356.1811 286.599 358.3089 288.5641 360.0956 290.2508 361.3883 291.4265 362.0477 291.2991 362.1063 290.4519 363.0118 290.4007 363.0118 289.986 362.0113 288.6466 359.3706 286.6285 355.7956 284.1611 351.6075 281.4603 347.0889 278.7378 342.5124 276.2018 338.1438 274.0554 334.2372 272.4884 331.0032 271.6711 328.3471 274.252 325.1817 274.252 325.1304 277.2567 326.3337 280.2828 328.7274 284.0437 332.1593 288.3547 336.3641 292.9654 341.0368 297.612 345.8627 302.0267 350.5237 305.9404 354.7003 309.083 358.0723 311.1842 360.3192 309.8622 360.1772 309.8622 365.8465 307.0486 364.0456 305.0363 361.7443 301.9853 358.3207 298.1669 354.0963 293.853 349.3933 289.3161 344.534 284.8302 339.8427 280.6735 335.6465 277.1371 332.2828 274.5782 330.1283 274.252 329.6727 274.252 329.6215 275.99 327.9476 276.4102 329.405 277.7393 332.3647 279.7265 336.1901 282.1401 340.5502 284.7618 345.1571 287.3785 349.7351 289.7804 354.0148 291.7621 357.7371 293.1316 360.6814 293.7135 363.0118 293.6622 363.0118 292.1529 365.0946 290.1861 364.7852 288.566 363.7524 286.7211 362.2493 284.6396 360.3573 282.4264 358.1442 280.1818 355.7126 278.0106 353.1669 276.0182 350.6105 274.309 348.1412 272.9843 345.8405 272.9843 345.8405 271.9987 343.5163 271.2252 341.0032 270.6504 338.3979 270.2683 335.7996 270.0767 333.3074 270.0771 331.016 270.2792 329.0054 270.7302 327.313 271.6923 325.9055 273.6397 325.4294 275.2542 326.3994 275.2542 326.3994 276.6466 328.3585 278.1371 331.2507 279.8056 334.9428 281.6128 339.1955 283.5038 343.7472 285.4196 348.3296 287.2984 352.6694 289.1363 356.4569 290.8182 359.3998 292.1418 361.1299 292.0571 361.2188 292.0571 361.1164 291.2427 361.2737 291.6727 359.7084 292.08 356.8276 292.332 353.0939 292.4089 348.8331 292.3064 344.3404 292.0246 339.9043 291.5671 335.8193 290.9482 332.4045 290.2328 330.0658 289.9199 329.5388 289.8474 329.6112 290.8283 330.1234 290.9779 330.2575 290.0195 331.0658 288.5786 332.5992 286.9176 334.652 285.1637 337.0296 283.4011 339.556 281.6969 342.0677 280.1045 344.4148 278.6513 346.4746 277.2586 348.2133\" fill=\"rgba(0,0,0,1)\"/>\n",
       "<polygon points=\"278.5039 380.5512 278.323 381.802 278.1421 383.4574 277.9611 385.4071 277.7802 387.5408 277.5993 389.748 277.4183 391.9185 277.2374 393.9418 277.0565 395.7076 276.8755 397.1055 276.6946 398.0252 274.252 396.0946 274.252 396.2755 272.3047 398.3105 272.2608 397.1175 272.1336 395.3623 271.9137 393.214 271.5909 390.8354 271.3346 388.3608 271.1964 385.939 271.2328 383.7037 271.5259 381.7458 272.3271 380.0585 274.252 379.1339 274.252 379.1339 276.1814 379.7216 278.0391 380.9926 280.0759 382.7666 282.2569 384.9132 284.4936 387.2854 286.6841 389.729 288.7219 392.0867 290.545 394.1614 292.022 395.814 293.0198 396.9039 292.0571 396.6073 292.0571 396.5168 290.2777 399.3063 289.0767 398.2332 287.3138 396.5983 285.1496 394.562 282.7446 392.285 280.2593 389.9276 277.8544 387.6506 275.6902 385.6143 273.9273 383.9794 272.7262 382.9063 274.252 377.7165 274.252 383.3858 276.6071 379.0254 277.6802 380.2265 279.3151 381.9894 281.3514 384.1536 283.6284 386.5586 285.9857 389.0438 288.2628 391.4488 290.2991 393.613 291.934 395.3759 293.0071 396.5769 292.0571 400.1958 292.0571 400.1053 290.4322 398.9793 289.5907 397.7951 288.2718 396.0498 286.5633 393.9241 284.5545 391.5998 282.404 389.2008 280.2262 386.891 278.1399 384.8371 276.2773 383.2133 274.8241 382.2101 274.252 381.9685 274.252 381.9685 274.5047 381.8732 274.2691 382.4601 274.0606 383.9 274.0301 385.8652 274.1595 388.1254 274.4048 390.4934 274.7174 392.7968 275.1664 394.8489 275.6411 396.4915 276.032 397.5728 274.252 400.437 274.252 400.618 271.8093 398.0252 271.6284 397.1055 271.4475 395.7076 271.2665 393.9418 271.0856 391.9185 270.9047 389.748 270.7237 387.5408 270.5428 385.4071 270.3619 383.4574 270.1809 381.802 270 380.5512\" fill=\"rgba(0,0,0,1)\"/>\n",
       "<polygon points=\"363.0118 12.7559 360.181 12.439 357.1203 11.8562 353.7845 11.1256 350.2358 10.3441 346.5744 9.6069 342.9188 9.0081 339.4003 8.6384 336.1629 8.5774 333.3591 8.8799 331.1226 9.5531 329.4765 10.5789 329.3919 10.4942 328.048 12.227 326.8714 15.0109 326.0193 18.566 325.5205 22.599 325.3527 26.8431 325.4758 31.0488 325.8416 34.9739 326.3953 38.3741 327.0648 40.9857 327.6818 42.4685 327.4016 42.617 327.4016 42.6969 327.6076 42.3271 329.1087 40.255 331.0077 36.9445 333.1169 32.7918 335.31 28.1398 337.4712 23.3178 339.4881 18.6507 341.2491 14.4616 342.6433 11.0727 343.5601 8.8058 345.2067 7.0866 345.2067 7.0866 346.1705 9.826 345.2489 11.887 343.8487 14.989 342.0799 18.8614 340.0528 23.2341 337.877 27.8369 335.6622 32.4008 333.5166 36.6583 331.5457 40.3465 329.8423 43.2187 328.4038 45.1164 328.432 45.1446 326.2398 46.0333 324.3954 44.7307 323.6088 42.8755 323.1417 40.6036 322.8869 37.9891 322.827 35.1933 322.9606 32.397 323.2971 29.7744 323.8776 27.4593 324.9236 25.4659 327.4016 24.1931 327.4016 24.1332 329.7351 24.8163 331.5702 26.1798 333.4063 27.9838 335.3178 30.1226 337.2818 32.4604 339.2483 34.8444 341.1551 37.1116 342.926 39.0872 344.4504 40.5744 345.487 41.3322 345.2067 41.2795 345.2067 46.9488 342.592 46.0668 340.7526 44.5504 338.9795 42.6398 337.1518 40.4149 335.2796 38.0001 333.4068 35.5415 331.5917 33.1973 329.9048 31.1357 328.4434 29.5418 327.4024 28.6312 327.4016 28.4849 327.4016 28.4251 328.0401 28.1488 327.6147 28.8643 327.0915 30.549 326.6923 32.7958 326.458 35.3169 326.3981 37.8653 326.5112 40.2004 326.7799 42.062 327.0969 43.103 326.7239 43.0379 326.3711 43.0837 326.3994 43.112 327.4624 41.6787 329.0699 38.966 330.9984 35.3569 333.1202 31.1465 335.3198 26.6139 337.485 22.0333 339.5045 17.6772 341.2673 13.8176 342.6629 10.7259 343.5807 8.6734 345.2067 9.9213 345.2067 9.9213 346.1911 9.8609 345.2685 12.1422 343.8669 15.549 342.0963 19.7608 340.0666 24.4578 337.8869 29.3209 335.6654 34.0329 333.5074 38.2812 331.5069 41.7663 329.6971 44.2425 327.4016 45.5315 327.4016 45.6113 325.1148 44.4355 323.8255 42.2395 322.7894 39.2595 321.9385 35.5965 321.301 31.4283 320.9224 26.9522 320.855 22.3673 321.1588 17.8657 321.912 13.6218 323.2437 9.7839 325.4113 6.5137 325.3266 6.429 328.3493 4.1105 331.8649 2.7102 335.6562 2.0094 339.6157 1.8147 343.6553 1.98 347.6783 2.3845 351.575 2.9181 355.2233 3.4744 358.4824 3.9478 361.1739 4.2345 363.0118 4.252\" fill=\"rgba(0,0,0,1)\"/>\n",
       "<polygon points=\"367.2638 61.6535 365.7226 66.1525 362.8718 69.6201 359.1495 73.0932 354.7553 76.7235 349.9554 80.4662 345.0491 84.2252 340.3531 87.8838 336.1993 91.3068 332.9434 94.3211 330.9844 96.6131 330.5265 97.2638 330.4241 97.2638 330.2773 97.1151 331.0232 97.6883 333.1941 98.4067 336.3788 98.8692 340.2127 99.0184 344.4091 98.8783 348.7143 98.4921 352.8872 97.9092 356.6895 97.1827 359.8752 96.3728 362.1641 95.5684 362.21 95.6601 363.4331 94.8758 364.253 93.7511 364.7491 92.2165 364.8739 90.3499 364.6272 88.3205 364.154 86.2744 363.5467 84.3409 362.9032 82.6422 362.3235 81.2959 361.9081 80.417 363.0118 78.0413 363.0118 78.0413 364.45 79.1625 364.9041 80.1229 365.5283 81.5725 366.2225 83.4054 366.886 85.5185 367.4162 87.8134 367.7045 90.1985 367.6279 92.5904 367.0306 94.8989 365.7327 96.9664 363.6457 98.5315 363.6457 98.5315 360.9608 99.6109 357.5434 100.5951 353.5655 101.4652 349.2283 102.1791 344.7411 102.6889 340.3136 102.9446 336.1502 102.8927 332.4343 102.5034 329.3057 101.6525 326.8858 100.033 325.7964 97.2638 325.7452 97.2638 326.7319 93.9445 329.1272 90.3582 332.5808 86.3156 336.8047 81.9512 341.4931 77.4602 346.3319 73.0538 351.0039 68.9481 355.1902 65.3616 358.5708 62.5136 360.8255 60.624 363.0118 59.4336 363.0118 59.3824 363.9082 64.0415 361.8877 66.1345 358.827 69.2675 354.9972 73.1698 350.6691 77.5703 346.1136 82.1983 341.6016 86.7828 337.4039 91.0529 333.7915 94.7378 331.0352 97.5665 329.406 99.2682 325.3972 95.2594 327.0989 93.6301 329.9276 90.8739 333.6125 87.2614 337.8826 83.0638 342.4671 78.5517 347.095 73.9962 351.4956 69.6681 355.3978 65.8383 358.5309 62.7777 360.6239 60.7572 363.0118 63.9247 363.0118 63.8734 363.5393 64.0074 361.2458 65.7966 357.8308 68.5403 353.6161 72.0169 348.924 76.0045 344.0778 80.2799 339.402 84.6179 335.225 88.7882 331.883 92.5445 329.7301 95.5799 329.058 97.2638 329.0067 97.2638 329.2417 98.0061 330.5005 98.8948 332.9637 99.6492 336.311 100.0626 340.2408 100.1109 344.4951 99.865 348.8369 99.3716 353.0344 98.6808 356.8553 97.8453 360.0598 96.9232 362.378 95.9961 362.378 95.9961 363.6352 95.0596 364.4108 93.8163 364.8168 92.2253 364.8739 90.3499 364.6272 88.3205 364.154 86.2744 363.5467 84.3409 362.9032 82.6422 362.3235 81.2959 361.9081 80.417 363.0118 80.876 363.0118 80.876 364.45 79.1625 364.9041 80.1229 365.5283 81.5725 366.2225 83.4054 366.886 85.5185 367.4162 87.8134 367.7045 90.1985 367.6956 92.5992 367.1884 94.9641 365.9349 97.1502 363.8137 98.8675 363.8595 98.9591 361.1453 100.1614 357.7093 101.2578 353.7127 102.2368 349.3509 103.0585 344.8271 103.6756 340.3416 104.0371 336.0824 104.0861 332.2038 103.7459 328.783 102.859 325.8502 100.9239 324.3791 97.2638 324.2766 97.2638 325.4775 93.2458 328.0668 89.7856 331.6066 86.2049 335.8537 82.4309 340.5217 78.5314 345.3005 74.6119 349.8647 70.7964 353.8714 67.2297 356.9448 64.1078 358.6423 61.8232 358.7598 61.6535\" fill=\"rgba(0,0,0,1)\"/>\n",
       "<polygon points=\"345.2067 154.6654 340.9796 152.4446 339.1494 149.6561 337.4595 146.2316 335.7075 142.184 333.8998 137.7077 332.0807 133.0459 330.3053 128.4602 328.6351 124.2236 327.1405 120.6245 325.9235 117.9954 325.3266 116.8781 325.4113 116.7934 326.4003 116.9918 327.7533 116.3127 327.5372 116.5812 327.1395 117.9026 326.8566 119.8239 326.7371 122.0802 326.791 124.4674 327.0173 126.799 327.4058 128.8895 327.9237 130.5419 328.4602 131.5496 328.4038 131.6061 329.082 132.0396 330.1057 132.2479 331.4993 132.2029 333.161 131.924 334.9907 131.4866 336.9103 130.9849 338.8597 130.5194 340.7965 130.1963 342.7004 130.1409 344.5528 130.5347 346.2089 131.6061 346.2089 131.6061 347.354 133.4047 347.956 135.5642 348.2271 137.9869 348.2623 140.5672 348.1244 143.1726 347.867 145.6582 347.5405 147.8746 347.1922 149.6776 346.852 150.9661 345.0693 152.3184 343.7894 150.4134 343.7494 150.4134 343.6896 148.7479 343.6297 145.9554 343.5698 142.3068 343.5099 138.0729 343.45 133.5246 343.3901 128.9329 343.3302 124.5685 343.2704 120.7025 343.2105 117.6057 343.1506 115.5489 345.2067 112.6871 345.2067 112.6273 347.4425 115.6325 347.5024 117.9067 347.5622 121.3045 347.6221 125.5049 347.682 130.187 347.7419 135.0295 347.8018 139.7116 347.8617 143.912 347.9216 147.3099 347.9815 149.584 345.2067 147.5787 345.2067 153.248 342.4319 149.584 342.4918 147.3099 342.5517 143.912 342.6116 139.7116 342.6715 135.0295 342.7314 130.187 342.7913 125.5049 342.8511 121.3045 342.911 117.9067 342.9709 115.6325 345.2067 116.979 345.2067 116.9192 347.2628 115.5489 347.2029 117.6057 347.143 120.7025 347.0831 124.5685 347.0233 128.9329 346.9634 133.5246 346.9035 138.0729 346.8436 142.3068 346.7837 145.9554 346.7238 148.7479 346.6639 150.4134 346.624 150.4134 345.5114 149.5184 344.1634 150.068 344.4251 149.0623 344.7457 147.4006 345.0547 145.3029 345.2989 142.9458 345.4285 140.5014 345.3969 138.1455 345.1663 136.0667 344.7315 134.4806 344.2045 133.6105 344.2045 133.6105 343.5262 133.1769 342.5025 132.9687 341.1089 133.0137 339.4473 133.2925 337.6176 133.7299 335.6979 134.2316 333.7486 134.6971 331.8118 135.0202 329.9079 135.0756 328.0554 134.6818 326.3994 133.6105 326.3429 133.6669 325.0401 132.0059 324.0865 129.9127 323.3714 127.5017 322.8619 124.8971 322.5479 122.2344 322.4284 119.6481 322.5134 117.2552 322.8514 115.1119 323.739 113.0862 326.5635 111.6045 329.3919 112.8129 329.4765 112.7282 331.2139 114.9418 332.873 117.8977 334.6759 121.5959 336.6042 125.8271 338.6079 130.338 340.6281 134.8597 342.5995 139.112 344.4459 142.7964 346.0535 145.5656 347.0995 146.8906 345.2067 146.1614\" fill=\"rgba(0,0,0,1)\"/>\n",
       "<polygon points=\"363.0118 199.311 359.3552 205.4828 357.7082 203.2766 355.1056 200.0313 351.7684 196.0179 347.9181 191.5079 343.7761 186.7729 339.5649 182.0852 335.5085 177.7182 331.8352 173.9483 328.7889 171.0602 326.6953 169.3653 326.7677 169.2204 325.6221 168.8649 325.267 168.9638 324.9028 169.528 324.5965 170.8839 324.5533 172.8192 324.7892 175.0914 325.2676 177.4986 325.9385 179.8566 326.7442 181.9838 327.6109 183.6897 328.4038 184.7557 328.461 184.6984 329.3041 185.1507 330.4167 185.42 331.7988 185.5059 333.3922 185.4133 335.1248 185.1685 336.9275 184.8103 338.7366 184.3829 340.4962 183.9322 342.1616 183.5048 343.7136 183.148 345.2067 182.9232 345.2067 188.5925 344.3655 188.535 343.0414 188.6129 341.4092 188.7875 339.5703 189.0057 337.6004 189.2136 335.5638 189.3571 333.5174 189.3799 331.5123 189.2204 329.5969 188.8047 327.8333 188.0372 326.3421 186.8173 326.3994 186.7601 325.1857 185.1573 324.1461 183.1175 323.2462 180.7433 322.5125 178.1651 321.9876 175.5224 321.7218 172.9521 321.779 170.5732 322.2753 168.4644 323.5164 166.7344 325.6696 166.0306 328.0354 166.6851 328.1079 166.5402 331.0173 168.1763 334.5928 170.8731 338.7185 174.4005 343.1967 178.5013 347.8145 182.9102 352.3543 187.3587 356.5972 191.5773 360.3233 195.296 363.3124 198.2443 365.3441 200.1516 363.0118 207.815\" fill=\"rgba(0,0,0,1)\"/>\n",
       "<polygon points=\"330.4082 224.109 329.3567 225.285 328.4735 227.2285 327.8892 229.8956 327.6506 233.0975 327.7208 236.6389 328.0234 240.3487 328.4668 244.0763 328.9538 247.6864 329.3851 251.0569 329.6593 254.0848 329.6633 256.7126 329.4823 256.7126 329.2091 258.7334 328.7835 260.3732 328.2491 261.641 327.6773 262.5974 326.9017 263.4307 324.9389 263.2755 324.3534 262.0123 324.3937 260.9231 324.6867 259.6259 325.2514 258.021 326.1339 256.0788 326.1339 256.0788 327.301 253.7444 328.7391 250.8683 330.3878 247.5708 332.1871 243.9723 334.0766 240.1933 335.9963 236.354 337.8858 232.5749 339.6311 228.9495 341.1989 225.6115 342.5561 222.695 343.6423 220.3202 343.5614 220.2797 344.3166 218.5671 344.754 217.4899 344.9239 216.9478 348.8144 218.8094 348.7615 219.1174 348.5916 219.6595 348.3548 220.3354 348.1013 221.0447 347.8812 221.6872 347.7448 222.1624 345.2067 218.2677 345.2067 223.937 342.8358 219.7079 343.1341 219.3136 343.516 218.7521 343.9314 218.1237 344.33 217.5287 344.6617 217.0675 344.8764 216.8405 348.7 218.8358 348.3683 219.297 347.769 220.2933 346.852 221.925 346.7711 221.8846 345.523 224.1784 344.004 227.0141 342.2744 230.2711 340.4212 233.8426 338.5316 237.6217 336.612 241.461 334.7225 245.24 332.9232 248.8385 331.2745 252.136 329.8364 255.0121 328.6693 257.3464 328.6693 257.3464 327.8796 259.0829 327.4076 260.421 327.1989 261.3311 327.1723 261.7134 326.8544 261.1859 325.3932 261.0308 325.2531 261.1282 325.3501 260.6132 325.4177 259.6738 325.4268 258.3705 325.3208 256.7126 325.1399 256.7126 324.8094 254.6717 324.2141 251.9475 323.4414 248.7229 322.5907 245.136 321.7633 241.3055 321.0626 237.3367 320.5977 233.3201 320.4929 229.325 320.9119 225.3971 322.1021 221.5884 324.395 218.0958\" fill=\"rgba(0,0,0,1)\"/>\n",
       "<polygon points=\"360.0052 289.0505 361.1799 287.7802 361.9247 286.4964 362.3583 285.1247 362.522 283.6357 362.4395 282.0717 362.1559 280.5159 361.7416 279.0618 361.2837 277.7993 360.878 276.811 360.6243 276.1732 363.0118 271.3175 363.0118 271.4373 365.739 274.1434 365.8449 275.3348 366.0347 277.0928 366.2584 279.2591 366.4656 281.6766 366.6056 284.1911 366.6261 286.6547 366.4691 288.935 366.0469 290.943 365.0901 292.6775 363.0118 293.5543 363.0118 293.4744 361.0071 292.7022 359.3569 291.1567 357.6348 289.069 355.8075 286.5966 353.9129 283.9308 352.0068 281.2776 350.1554 278.8524 348.442 276.8828 347.0087 275.617 346.2302 275.2406 346.2089 275.2542 346.2089 275.2542 345.6189 276.4022 344.9418 278.9841 344.4074 282.521 344.0462 286.6805 343.8647 291.169 343.8647 295.7037 344.0458 300.003 344.4049 303.7796 344.9277 306.7217 345.5172 308.4125 345.2067 308.4449 345.2067 308.405 345.4584 308.0583 346.8655 306.3958 348.6862 303.6788 350.7235 300.1906 352.8461 296.174 354.9358 291.8607 356.8779 287.4798 358.5581 283.2628 359.8616 279.4504 360.6721 276.3141 360.8958 274.252 360.8359 274.252 360.68 273.7301 360.3996 273.5791 359.4371 273.3746 357.7865 273.3867 355.7268 273.6837 353.4974 274.2072 351.2979 274.8664 349.3087 275.5628 347.7014 276.1959 346.6426 276.6647 345.2067 271.4173 345.2067 277.0866 344.6001 271.5048 345.8155 271.1041 347.606 270.5332 349.8173 269.8919 352.2998 269.2802 354.913 268.8004 357.5353 268.5624 360.0852 268.7083 362.5205 269.507 364.5143 271.4295 365.1877 274.252 365.1278 274.252 364.6893 277.1929 363.6605 280.6784 362.1681 284.6649 360.3168 288.9826 358.2122 293.4307 355.961 297.7992 353.6691 301.8758 351.4391 305.4508 349.3603 308.3255 347.4565 310.3418 345.2067 311.3195 345.2067 311.2795 343.0569 309.8204 342.1748 307.3976 341.594 304.1461 341.2174 300.1906 341.0306 295.7613 341.0306 291.1125 341.217 286.5045 341.5915 282.1962 342.1607 278.4358 342.9552 275.4327 344.2045 273.2498 344.2045 273.2498 346.5176 272.4206 348.6151 273.2815 350.4793 274.9119 352.3644 277.0759 354.292 279.6003 356.2253 282.2913 358.1098 284.9429 359.8809 287.3398 361.4563 289.252 362.6822 290.4154 363.0118 290.6398 363.0118 290.5599 362.6057 290.6072 362.6856 290.0677 362.765 288.6778 362.6749 286.7576 362.428 284.5392 362.0663 282.2112 361.6381 279.9466 361.1929 277.9124 360.7807 276.2726 360.4518 275.1899 363.0118 277.0667 363.0118 277.1864 365.7338 272.8256 366.3496 273.5925 367.1478 274.798 368.0277 276.3983 368.8842 278.3554 369.6039 280.6389 370.0564 283.2218 370.0864 286.0671 369.5167 289.0964 368.1881 292.1603 366.0184 295.0637\" fill=\"rgba(0,0,0,1)\"/>\n",
       "<polygon points=\"340.9547 345.2067 340.9115 344.8255 340.1413 343.4496 338.5747 341.599 336.4411 339.5818 333.9917 337.5586 331.4608 335.6304 329.0659 333.8712 326.9984 332.3302 325.3649 330.9755 323.7442 328.5417 327.4016 324.1343 327.4016 324.2238 329.6735 324.6389 332.4292 325.4818 335.8626 326.7008 339.8184 328.2481 344.097 330.0695 348.489 332.1097 352.7836 334.3143 356.7727 336.634 360.257 339.0327 363.0535 341.5153 364.9734 344.2259 364.8933 344.2659 365.5308 347.2699 364.9237 350.1265 363.494 352.6877 361.5172 355.0206 359.1634 357.1601 356.5806 359.0939 353.916 360.7859 351.3322 362.2153 348.9798 363.3614 346.9451 364.1228 345.2067 364.4291 345.2067 364.4291 343.3877 363.7019 342.5022 362.1925 342.189 360.4812 342.1513 358.554 342.2908 356.4402 342.5475 354.2173 342.8692 351.9822 343.2048 349.8411 343.5034 347.9069 343.7139 346.3053 343.7894 345.2067 343.7894 345.2067 343.9113 344.0431 344.3526 343.0309 345.2707 342.2902 346.3874 342.1719 347.2623 342.5328 347.8805 343.151 348.2415 344.026 348.1232 345.1427 347.3825 346.0608 346.3703 346.5021 345.2067 346.624 345.2067 346.624 343.7349 346.5337 341.8194 346.3115 339.5569 346.009 337.0905 345.7049 334.5823 345.4344 332.2018 345.2327 330.1304 345.1487 328.5927 345.2209 328.0083 345.3647 328.6111 344.3063 328.6464 343.9619 328.6781 343.9302 329.9306 344.8376 332.1945 346.165 335.1991 347.7399 338.7456 349.4796 342.6528 351.3167 346.7458 353.1883 350.8522 355.033 354.8011 356.7903 358.4237 358.4009 361.5546 359.807 364.0393 360.9568 364.0593 360.9168 366.1008 362.094 367.5959 363.4199 368.5668 365.0229 368.7655 366.9982 367.7972 368.8777 365.9968 369.8428 364.0638 369.7512 362.398 368.8213 361.1828 367.2969 360.45 365.3469 360.1772 363.0118 365.8465 363.0118 365.9081 364.1882 366.0447 364.7464 366.0335 364.8274 365.7054 364.7001 365.0433 364.7088 364.2462 365.1723 363.813 366.0484 363.8779 366.6191 363.8455 366.5166 363.2671 365.9362 361.9643 365.1068 361.9843 365.0668 359.6332 363.8823 356.577 362.4123 353.0027 360.7254 349.0858 358.8843 344.9986 356.9498 340.9114 354.9821 336.993 353.0402 333.4094 351.1814 330.3207 349.4588 327.8691 347.9101 326.1251 346.4832 326.1567 346.4515 325.1821 344.4349 326.5875 342.3398 328.2973 341.982 330.2243 341.9872 332.4671 342.1708 334.9292 342.4708 337.4708 342.8357 339.9407 343.2004 342.1796 343.4999 344.0098 343.7124 345.2067 343.7894 345.2067 343.7894 345.7153 343.7441 345.7398 343.7507 345.5007 344.0668 345.4493 344.5146 345.5427 344.7541 345.6593 344.8707 345.8988 344.9641 346.3466 344.9127 346.6627 344.6736 346.6693 344.6981 346.624 345.2067 346.624 345.2067 346.5322 346.6096 346.308 348.3189 346.0046 350.2842 345.6713 352.4104 345.3576 354.5898 345.1127 356.7079 344.9846 358.6407 345.0138 360.245 345.2023 361.3296 345.3535 361.6596 345.2067 361.5945 345.2067 361.5945 346.137 361.4058 347.8479 360.7626 349.997 359.7149 352.3494 358.2816 354.7348 356.5623 356.9945 354.6569 358.9549 352.6494 360.4428 350.6481 361.3073 348.8082 361.5029 347.3171 361.1303 346.1475 361.0502 346.1875 359.8064 344.7244 357.4526 342.8594 354.2417 340.8569 350.4318 338.8424 346.2653 336.9001 341.9755 335.101 337.793 333.5112 333.9498 332.1958 330.6879 331.2209 328.2934 330.6592 327.4016 330.5794 327.4016 330.6689 330.2161 326.7564 329.8329 325.7272 331.0955 326.5663 333.1616 327.8881 335.7163 329.5401 338.5297 331.4512 341.3976 333.5749 344.1334 335.8919 346.5666 338.4425 348.5053 341.4142 349.4587 345.2067\" fill=\"rgba(0,0,0,1)\"/>\n",
       "<polygon points=\"360.0052 413.1548 359.4096 414.8406 359.4873 414.8511 358.8567 413.5205 357.505 411.6316 355.6427 409.5208 353.4698 407.3798 351.1735 405.3551 348.9386 403.5787 346.963 402.1811 345.5088 401.3016 345.2067 401.0228 345.2067 400.8787 346.3229 400.2127 346.0343 400.6885 345.6877 402.3329 345.5133 404.5995 345.4985 407.1688 345.5998 409.7897 345.768 412.232 345.9992 414.2624 346.2806 415.6198 346.036 415.4987 343.7894 416.1614 343.7894 416.1614 343.8764 414.3972 344.0951 411.5877 344.3961 407.9393 344.7298 403.7144 345.0463 399.183 345.2957 394.6181 345.4282 390.2966 345.3957 386.5043 345.1582 383.555 344.7563 381.8918 345.2067 381.9685 345.2067 381.9685 344.8129 382.3572 343.1081 384.2368 340.9226 387.2448 338.5336 391.0765 336.1013 395.4246 333.773 399.9945 331.714 404.5038 330.0908 408.6602 329.0711 412.1383 328.7942 414.475 328.7945 414.7685 328.8454 414.7176 328.7556 414.4738 330.461 413.9284 333.235 412.5271 336.6528 410.4618 340.4767 407.9578 344.5162 405.2327 348.5986 402.4974 352.5652 399.9574 356.2829 397.8098 359.6921 396.2434 363.0118 395.5217 363.0118 401.1909 361.4957 401.4659 358.7179 402.6083 355.2386 404.4605 351.3394 406.7898 347.2282 409.372 343.0875 411.9911 339.0857 414.4367 335.3735 416.5049 332.0542 417.9998 329.044 418.6918 325.9577 417.6053 326.0087 417.5543 324.9989 414.5169 325.5247 411.2686 326.7992 407.4494 328.6407 403.138 330.8959 398.5508 333.4101 393.9372 336.0277 389.5567 338.5749 385.6563 340.8909 382.4707 342.9317 380.2367 345.2067 379.1339 345.2067 379.1339 347.3292 380.7021 347.9641 383.1524 348.2283 386.3968 348.2626 390.3365 348.1276 394.7437 347.8753 399.3623 347.5564 403.9274 347.2213 408.1703 346.9203 411.8192 346.7042 414.5947 346.624 416.1614 346.624 416.1614 344.2101 417.6669 343.5308 416.3084 343.2103 414.7697 342.7725 412.6665 342.3054 410.1592 341.905 407.4358 341.6227 404.6877 341.5151 402.085 341.6702 399.7296 342.4183 397.4965 345.2067 395.8339 345.2067 395.6898 347.5733 396.0732 349.8647 397.033 352.3906 398.4313 355.0919 400.1865 357.8456 402.2084 360.5152 404.4083 362.967 406.712 365.0801 409.0904 366.7437 411.6593 367.624 414.9807 366.0184 419.168\" fill=\"rgba(0,0,0,1)\"/>\n",
       "<polygon points=\"416.1614 4.252 415.9055 4.4266 416.1109 4.4839 416.5316 4.3606 416.958 4.1537 417.2235 4.0564 417.156 4.6086 418.8377 8.0819 421.2473 8.1186 420.9254 8.1728 419.7903 8.9273 418.0469 10.3894 417.945 10.2875 415.6018 12.5886 412.6506 15.7663 409.2524 19.5617 405.5396 23.741 401.6369 28.0782 397.6656 32.3509 393.7442 36.3386 390.0203 39.8584 386.6176 42.7422 383.5096 44.7245 380.5512 45.5315 380.5512 45.5315 377.8104 44.3875 376.2204 41.8255 375.341 38.4501 374.922 34.4227 374.8703 29.9504 375.1256 25.275 375.6356 20.6513 376.3514 16.3364 377.2296 12.5809 378.2476 9.6053 379.549 7.5017 379.549 7.5017 381.6039 6.582 383.6048 7.1972 385.2256 8.5658 386.8285 10.385 388.4991 12.5548 390.2361 14.9479 392.0344 17.408 393.878 19.7702 395.7376 21.8629 397.5588 23.5092 399.2372 24.5472 399.2695 24.4827 401.0737 25.1274 402.9859 25.5088 404.9549 25.6604 406.9206 25.6185 408.8191 25.4237 410.5855 25.1201 412.1556 24.7544 413.4655 24.3743 414.4525 24.0289 415.0539 23.7674 416.1614 23.4744 416.1614 29.1437 416.774 29.018 415.9708 29.1912 414.7639 29.4477 413.2111 29.7365 411.37 30.0062 409.2971 30.2043 407.0486 30.2771 404.6801 30.1682 402.248 29.8182 399.8126 29.1629 397.4431 28.1354 397.4754 28.0709 395.1473 26.4402 393.0557 24.3408 391.1162 21.932 389.2944 19.3581 387.5812 16.7682 385.9805 14.3188 384.5075 12.1745 383.1808 10.529 382.1061 9.6033 381.6655 9.4159 381.5534 9.5061 381.5534 9.5061 380.8481 10.7335 379.9599 13.3429 379.1325 16.8847 378.4437 21.0376 377.9504 25.5104 377.7041 30.0185 377.7527 34.2748 378.1363 37.9795 378.8622 40.7978 379.7804 42.3493 380.5512 42.6969 380.5512 42.6969 382.2614 42.1795 384.9056 40.483 388.0979 37.7752 391.571 34.2318 395.2078 30.1262 398.9149 25.7171 402.5704 21.2254 406.0546 16.87 409.2513 12.8664 412.0524 9.4224 414.3778 6.7204 414.2759 6.6184 416.0441 4.7363 417.4172 3.4173 418.7006 2.4682 421.9128 2.3711 423.6948 6.3795 423.1257 7.935 422.3879 9.1085 421.4097 10.2394 420.1248 11.32 418.4239 12.2468 416.1614 12.7559\" fill=\"rgba(0,0,0,1)\"/>\n",
       "<polygon points=\"395.3497 94.2572 396.1892 93.3867 397.8649 90.9113 399.9171 87.4543 402.1819 83.3621 404.5334 78.9308 406.8554 74.4419 409.0345 70.1717 410.9589 66.394 412.5173 63.3815 413.5988 61.4061 416.1614 59.3919 416.1614 59.5728 417.5936 63.1901 416.5025 65.4056 414.933 68.7448 413.0511 72.9104 411.0213 77.6074 408.8416 82.4705 406.6202 87.1825 404.4621 91.4308 402.4616 94.9159 400.6519 97.3921 398.3563 98.6811 398.3563 98.6811 396.2065 97.222 395.3244 94.7992 394.7436 91.5477 394.367 87.5922 394.1802 83.1629 394.1802 78.5141 394.3666 73.9061 394.6812 69.5908 395.1624 65.8082 395.8781 62.7517 397.1195 60.4168 397.0556 60.3528 399.3677 59.1499 401.8305 59.3099 404.2346 60.2482 406.6644 61.73 409.1018 63.6428 411.4768 65.8898 413.7004 68.3778 415.6765 71.0214 417.3053 73.7533 418.4729 76.5483 418.9961 79.4587 413.3268 79.4587 413.1878 78.0281 412.516 76.0407 411.3489 73.7696 409.7935 71.41 407.9704 69.1157 406.0045 67.0217 404.0275 65.2558 402.1899 63.9418 400.6945 63.1878 399.8465 62.98 399.657 62.9543 399.5931 62.8903 398.9952 63.8863 398.2394 66.4148 397.617 69.9295 397.1958 74.082 397.0143 78.5706 397.0143 83.1052 397.1954 87.4046 397.5545 91.1812 398.0773 94.1233 398.6668 95.814 398.3563 95.8465 398.3563 95.8465 398.5623 95.4767 400.0634 93.4046 401.9624 90.0941 404.0717 85.9414 406.2647 81.2894 408.426 76.4674 410.4428 71.8003 412.0924 67.5649 413.3188 64.1085 414.067 61.7758 416.1614 63.7343 416.1614 63.9152 418.0619 63.3926 417.304 65.5307 416.0666 68.7118 414.4594 72.6661 412.5918 77.1246 410.5729 81.8192 408.51 86.4844 406.5074 90.86 404.6601 94.7003 403.025 97.8099 401.3629 100.2704\" fill=\"rgba(0,0,0,1)\"/>\n",
       "<polygon points=\"380.5512 110.5512 383.7245 110.9734 387.3359 111.8601 391.4131 113.131 395.8102 114.732 400.339 116.6102 404.8 118.714 408.9931 120.9976 412.7263 123.4303 415.8254 126.0271 418.1164 128.947 419.0959 132.6083 418.9761 132.6083 417.759 136.0799 415.2922 138.5596 412.1016 140.5882 408.3249 142.4144 404.1178 144.1096 399.6678 145.6922 395.1786 147.1635 390.8634 148.5182 386.9418 149.7468 383.6429 150.8352 381.2207 151.7525 381.185 151.6811 379.5129 152.5172 378.4761 153.0355 377.9745 153.2863 376.6399 150.7844 376.9075 150.6506 377.4091 150.3998 378.0445 150.0821 378.7134 149.7477 379.3154 149.4467 379.7501 149.2293 380.5512 148.9961 380.5512 148.9961 381.9685 150.497 381.9685 150.7144 381.9685 151.0154 381.9685 151.3498 381.9685 151.6675 381.9685 151.9183 381.9685 152.0521 379.1339 152.0187 379.1339 151.7678 379.1339 151.2495 379.1339 150.4134 379.0939 150.4134 379.034 149.3298 378.9742 148.1092 378.9143 146.7614 378.8544 145.2966 378.7945 143.7248 378.7346 142.0559 378.6747 140.3002 378.6148 138.4675 378.555 136.5679 378.4951 134.6115 378.4352 132.6083 378.3753 132.6083 378.1692 130.7438 377.7058 128.5337 377.0668 126.1352 376.3472 123.6761 375.6441 121.263 375.0545 118.9751 374.6853 116.8276 374.7558 114.6382 376.2722 112.1837 379.257 111.4657 381.8189 112.2678 379.2835 117.3385 378.5011 116.9634 379.4124 116.6133 379.9254 115.851 379.8622 116.4574 380.0281 117.9887 380.4418 120.0417 381.0095 122.4109 381.6277 124.9549 382.1926 127.5596 382.5987 130.1318 382.7271 132.6083 382.6672 132.6083 382.6073 134.6115 382.5474 136.5679 382.4875 138.4675 382.4276 140.3002 382.3677 142.0559 382.3079 143.7248 382.248 145.2966 382.1881 146.7614 382.1282 148.1092 382.0683 149.3298 382.0084 150.4134 381.9685 150.4134 381.9685 151.2495 381.9685 151.7678 381.9685 152.0187 379.1339 152.0521 379.1339 151.9183 379.1339 151.6675 379.1339 151.3498 379.1339 151.0154 379.1339 150.7144 379.1339 150.497 380.5512 151.8307 380.5512 151.8307 381.0178 151.7647 380.5831 151.9821 379.9811 152.2831 379.3122 152.6175 378.6768 152.9352 378.1751 153.186 377.9076 153.3198 376.7068 150.751 377.2084 150.5001 378.2452 149.9818 379.9173 149.1457 379.8816 149.0743 382.4625 147.8244 385.7854 146.4715 389.6627 145.0046 393.8822 143.4297 398.222 141.7573 402.4538 140.0023 406.34 138.1859 409.6264 136.3469 412.0275 134.5763 413.2395 133.1432 413.3467 132.6083 413.227 132.6083 412.8821 132.0958 411.4943 130.6681 409.0017 128.8638 405.6718 126.9623 401.7716 125.0989 397.5508 123.3634 393.2506 121.8304 389.113 120.5687 385.3913 119.6458 382.3809 119.1278 380.5512 119.0551\" fill=\"rgba(0,0,0,1)\"/>\n",
       "<polygon points=\"377.5446 182.7513 380.1955 181.3875 382.7467 180.9636 385.2035 181.0164 387.6149 181.3471 389.9656 181.8595 392.1972 182.4894 394.2283 183.1825 395.9906 183.7671 397.4196 184.0748 398.3648 184.2982 398.3563 184.3406 398.3563 184.3406 397.858 187.1752 396.5036 187.1752 394.5037 187.1752 392.069 187.2984 389.4103 187.4833 386.7382 187.6682 384.2634 187.853 382.1966 188.0379 380.7485 188.2228 380.1298 188.4077 380.5512 182.9232 380.5512 188.5925 380.1298 183.1081 380.7485 183.293 382.1966 183.4778 384.2634 183.6627 386.7382 183.8476 389.4103 184.0324 392.069 184.2173 394.5037 184.3406 396.5036 184.3406 397.858 184.3406 398.3563 187.1752 398.3563 187.1752 397.6857 187.0503 396.7914 186.839 395.4246 186.5447 393.6553 186.4604 391.6398 186.5181 389.5305 186.6464 387.4667 186.8912 385.6108 187.2888 384.1681 187.8433 383.4084 188.456 383.5578 188.7645\" fill=\"rgba(0,0,0,1)\"/>\n",
       "<polygon points=\"376.2992 256.7126 376.6689 254.3783 377.0387 251.5022 377.4084 248.2047 377.7782 244.6062 378.1479 240.8271 378.5176 236.9878 378.8874 233.2088 379.1339 229.6103 379.1339 226.3128 379.1339 223.4367 379.1339 221.1024 379.1339 221.1024 378.9975 219.6409 378.6941 218.7509 378.3932 218.338 378.2022 218.3537 378.358 218.5348 378.8631 218.4684 379.3314 217.9855 379.499 217.5584 379.743 217.5765 380.4518 217.9665 381.8189 218.567 379.2835 223.6377 377.3063 222.2316 375.9416 220.7153 375.1822 219.0279 375.2161 217.1962 376.2196 215.71 377.7279 215.1419 379.1545 215.4234 380.3013 216.2417 381.2043 217.4341 381.7704 219.0523 381.9685 221.1024 381.9685 221.1024 381.9685 223.4367 381.9685 226.3128 381.9685 229.6103 382.215 233.2088 382.5847 236.9878 382.9545 240.8271 383.3242 244.6062 383.6939 248.2047 384.0637 251.5022 384.4334 254.3783 384.8031 256.7126\" fill=\"rgba(0,0,0,1)\"/>\n",
       "<polygon points=\"413.1548 306.8556 414.2141 306.2556 415.2521 305.527 416.2265 304.6784 417.0996 303.7121 417.8361 302.6191 418.3959 301.3761 418.7235 299.9489 418.6232 298.3456 417.9183 296.6791 416.7862 294.9145 415.1592 293.0593 415.1592 293.0593 412.8262 291.1165 409.6168 289.01 405.7834 286.8469 401.5081 284.814 397.0537 282.9261 392.6709 281.1901 388.5811 279.6669 385.0052 278.417 382.1644 277.501 380.2794 276.9792 380.5512 271.4173 380.5512 277.0866 382.1473 272.0197 383.9411 272.9025 386.6919 274.1804 390.1793 275.7933 394.1826 277.6812 398.4817 279.7845 402.8563 282.0435 407.1157 284.3448 411.0812 286.5829 414.4935 288.824 417.1636 291.0549 417.1636 291.0549 419.0482 293.2061 420.4243 295.3544 421.3247 297.487 422.027 299.5491 422.4549 301.6335 422.513 303.7281 422.2463 305.7787 421.7148 307.742 420.9836 309.589 420.1153 311.3016 419.168 312.8688\" fill=\"rgba(0,0,0,1)\"/>\n",
       "<polygon points=\"380.5512 323.1496 383.5509 324.0358 386.5328 325.5093 390.1906 327.4801 394.374 329.8264 398.8448 332.4008 403.3447 335.0483 407.6086 337.6112 411.3686 339.9303 414.3556 341.8461 416.2998 343.1986 416.1614 343.6274 416.1614 343.7894 414.6038 345.9243 412.3353 344.5733 408.9447 342.5776 404.7537 340.1484 400.0844 337.4969 395.26 334.8348 390.606 332.3748 386.4546 330.332 383.1631 328.9282 381.2629 328.3926 381.9685 327.4016 382.0495 327.4016 382.6341 328.0691 384.6645 330.4123 387.792 333.6138 391.7097 337.3927 396.1357 341.5139 400.7951 345.7516 405.4154 349.8832 409.7255 353.6877 413.4562 356.9457 416.3438 359.4433 418.1658 361.0074 414.157 365.0162 412.6481 363.4166 409.9507 360.764 406.3841 357.3267 402.2264 353.3322 397.7501 349.0027 393.2261 344.5586 388.9235 340.2187 385.1091 336.1986 382.0429 332.7048 379.9599 329.8977 379.0529 327.4016 379.1339 327.4016 381.4983 325.5678 384.1463 326.2695 387.6504 327.7619 391.8999 329.8527 396.6101 332.3423 401.4708 335.0244 406.1656 337.6904 410.3754 340.1305 413.7805 342.1346 416.0603 343.4925 416.1614 346.624 416.1614 346.786 414.5314 346.3854 412.3622 345.4637 409.1555 343.9817 405.1835 342.1004 400.7187 339.9812 396.0351 337.7862 391.4094 335.6785 387.125 333.8244 383.4855 332.3974 380.8824 331.5967 380.5512 331.6535\" fill=\"rgba(0,0,0,1)\"/>\n",
       "<polygon points=\"398.3563 411.9094 395.934 419.2368 394.933 418.184 393.3718 416.7359 391.4116 414.9525 389.2139 412.894 386.9413 410.6203 384.7575 408.1921 382.7368 405.7527 380.9187 403.3956 379.6388 400.9408 379.1339 398.3563 379.1339 398.3563 379.6522 395.8209 380.9684 393.5472 382.8152 391.4795 384.9404 389.4609 387.2425 387.5029 389.5971 385.6554 391.8316 383.9325 393.7602 382.3624 395.1658 381.0142 395.7664 380.1215 395.5217 380.5512 401.1909 380.5512 400.1168 383.1479 398.4433 384.6966 396.4511 386.0439 394.1792 387.4035 391.7316 388.8242 389.2437 390.3143 386.8638 391.8679 384.7885 393.5146 383.2375 395.2461 382.2795 396.8852 381.9685 398.3563 381.9685 398.3563 382.293 399.9455 383.2872 401.8383 384.8669 403.8824 387.0467 405.7771 389.5449 407.4959 392.1149 409.0615 394.5992 410.4141 396.8395 411.4935 398.676 412.2392 399.9492 412.5911 398.3563 420.4134\" fill=\"rgba(0,0,0,1)\"/>\n",
       "</svg>"
      ],
      "text/plain": [
       "<IPython.core.display.SVG object>"
      ]
     },
     "metadata": {},
     "output_type": "display_data"
    }
   ],
   "source": [
    "size = 150\n",
    "d = document(size, size, 'mm')\n",
    "page = d.addpage()\n",
    "figure = shape().nostroke().fill(rgba(0, 0, 0, 255))\n",
    "grid_n = 8\n",
    "grid_size = size / grid_n\n",
    "for i in range(grid_n):\n",
    "    for j in range(grid_n):\n",
    "        char_pline = make_char().scale(grid_size * 0.67).translate(3 + i * grid_size, 3 + j * grid_size)\n",
    "        poly = char_pline.fancy_curve(samples_per=12, thicknesses=[3, 1, 1, 2], tightness=-0.25)\n",
    "        poly = figure.polygon(poly)\n",
    "        page.place(poly)\n",
    "show(page)"
   ]
  },
  {
   "cell_type": "markdown",
   "metadata": {},
   "source": [
    "## Connecting polylines\n",
    "\n",
    "`Polyline` objects can be added together, creating a new polyline that combines their points:"
   ]
  },
  {
   "cell_type": "code",
   "execution_count": 72,
   "metadata": {},
   "outputs": [
    {
     "data": {
      "text/plain": [
       "Polyline([[10.0000, 10.0000], [20.0000, 20.0000], [25.0000, 35.0000], [20.0000, 25.0000]])"
      ]
     },
     "execution_count": 72,
     "metadata": {},
     "output_type": "execute_result"
    }
   ],
   "source": [
    "a = Polyline([[10, 10], [20, 20]])\n",
    "b = Polyline([[25, 35], [20, 25]])\n",
    "a + b"
   ]
  },
  {
   "cell_type": "markdown",
   "metadata": {},
   "source": [
    "We can use this feature to combine two glyphs from the `make_char()` function, translating the second glyph to be to the right of the first glyph."
   ]
  },
  {
   "cell_type": "code",
   "execution_count": 73,
   "metadata": {},
   "outputs": [],
   "source": [
    "composite = make_char() + make_char().translate(1.5, 0)\n",
    "composite = composite.scale(30).translate(10, 10) # scale it up so we can actually see it!"
   ]
  },
  {
   "cell_type": "markdown",
   "metadata": {},
   "source": [
    "Here's what it looks like (original polyline in light purple, curve in cyan):"
   ]
  },
  {
   "cell_type": "code",
   "execution_count": 74,
   "metadata": {},
   "outputs": [
    {
     "data": {
      "image/svg+xml": [
       "<svg xmlns=\"http://www.w3.org/2000/svg\" xmlns:xlink=\"http://www.w3.org/1999/xlink\" version=\"1.1\" width=\"283.4646pt\" height=\"141.7323pt\" viewBox=\"0 0 283.4646 141.7323\">\n",
       "<title>Untitled</title>\n",
       "<polyline points=\"70.8661 113.3858 113.3858 28.3465 70.8661 113.3858 28.3465 28.3465 113.3858 70.8661 70.8661 70.8661 113.3858 113.3858 240.9449 70.8661 198.4252 113.3858 198.4252 113.3858 155.9055 70.8661 198.4252 28.3465 198.4252 28.3465 240.9449 113.3858 240.9449 70.8661 155.9055 113.3858 198.4252 70.8661\" fill=\"none\" stroke=\"rgba(160,80,160,1)\" stroke-miterlimit=\"10\"/>\n",
       "<path d=\"M113.3858,28.3465 C113.3858,28.3465,85.0394,113.3858,70.8661,113.3858 M70.8661,113.3858 C56.6929,113.3858,21.2598,35.4331,28.3465,28.3465 M28.3465,28.3465 C35.4331,21.2598,106.2992,63.7795,113.3858,70.8661 M113.3858,70.8661 C120.4724,77.9528,70.8661,63.7795,70.8661,70.8661 M70.8661,70.8661 C70.8661,77.9528,85.0394,113.3858,113.3858,113.3858 M113.3858,113.3858 C141.7323,113.3858,226.7717,70.8661,240.9449,70.8661 M240.9449,70.8661 C255.1181,70.8661,205.5118,106.2992,198.4252,113.3858 M198.4252,113.3858 C191.3386,120.4724,205.5118,120.4724,198.4252,113.3858 M198.4252,113.3858 C191.3386,106.2992,155.9055,85.0394,155.9055,70.8661 M155.9055,70.8661 C155.9055,56.6929,191.3386,35.4331,198.4252,28.3465 M198.4252,28.3465 C205.5118,21.2598,191.3386,14.1732,198.4252,28.3465 M198.4252,28.3465 C205.5118,42.5197,233.8583,106.2992,240.9449,113.3858 M240.9449,113.3858 C248.0315,120.4724,255.1181,70.8661,240.9449,70.8661 M240.9449,70.8661 C226.7717,70.8661,162.9921,113.3858,155.9055,113.3858\" fill=\"none\" stroke=\"rgba(0,128,128,1)\" stroke-miterlimit=\"10\"/>\n",
       "</svg>"
      ],
      "text/plain": [
       "<IPython.core.display.SVG object>"
      ]
     },
     "metadata": {},
     "output_type": "display_data"
    }
   ],
   "source": [
    "d = document(100, 50, 'mm')\n",
    "page = d.addpage()\n",
    "line_fig = shape().stroke(rgba(160, 80, 160, 255)).nofill()\n",
    "curve_fig = shape().stroke(rgba(0, 128, 128, 255)).nofill()\n",
    "page.place(line_fig.polyline(composite))\n",
    "page.place(curve_fig.path(composite.smooth_path()))\n",
    "show(page)"
   ]
  },
  {
   "cell_type": "markdown",
   "metadata": {},
   "source": [
    "To make a whole row of these, just keep appending glyphs with increasing translation along the X axis:"
   ]
  },
  {
   "cell_type": "code",
   "execution_count": 75,
   "metadata": {},
   "outputs": [
    {
     "data": {
      "image/svg+xml": [
       "<svg xmlns=\"http://www.w3.org/2000/svg\" xmlns:xlink=\"http://www.w3.org/1999/xlink\" version=\"1.1\" width=\"566.9291pt\" height=\"85.0394pt\" viewBox=\"0 0 566.9291 85.0394\">\n",
       "<title>Untitled</title>\n",
       "<polyline points=\"56.6929 42.5197 42.5197 56.6929 56.6929 56.6929 42.5197 56.6929 42.5197 28.3465 28.3465 56.6929 42.5197 56.6929 85.0394 56.6929 99.2126 28.3465 99.2126 42.5197 99.2126 28.3465 70.8661 28.3465 127.5591 28.3465 127.5591 42.5197 127.5591 42.5197 127.5591 28.3465 113.3858 28.3465 127.5591 42.5197 141.7323 56.6929 113.3858 28.3465 127.5591 56.6929 127.5591 56.6929 113.3858 28.3465 155.9055 28.3465 155.9055 56.6929 184.252 42.5197 184.252 28.3465 155.9055 42.5197 155.9055 56.6929 155.9055 42.5197 155.9055 56.6929 212.5984 42.5197 212.5984 42.5197 212.5984 42.5197 212.5984 42.5197 226.7717 56.6929 212.5984 42.5197 226.7717 42.5197 269.2913 28.3465 255.1181 28.3465 240.9449 28.3465 240.9449 56.6929 255.1181 28.3465 240.9449 56.6929 269.2913 28.3465 255.1181 42.5197 240.9449 28.3465 240.9449 42.5197 297.6378 28.3465 311.811 42.5197 283.4646 56.6929 311.811 56.6929 354.3307 56.6929 325.9843 56.6929 340.1575 42.5197 340.1575 28.3465 325.9843 56.6929 354.3307 42.5197 325.9843 56.6929 340.1575 56.6929 354.3307 42.5197 325.9843 56.6929 325.9843 56.6929 382.6772 42.5197 396.8504 42.5197 382.6772 42.5197 396.8504 56.6929 396.8504 42.5197 411.0236 56.6929 411.0236 28.3465 425.1969 56.6929 411.0236 56.6929 439.3701 28.3465 439.3701 42.5197\" fill=\"none\" stroke=\"rgba(160,80,160,1)\" stroke-miterlimit=\"10\"/>\n",
       "<path d=\"M42.5197,56.6929 C42.5197,59.0551,56.6929,56.6929,56.6929,56.6929 M56.6929,56.6929 C56.6929,56.6929,44.8819,61.4173,42.5197,56.6929 M42.5197,56.6929 C40.1575,51.9685,44.8819,28.3465,42.5197,28.3465 M42.5197,28.3465 C40.1575,28.3465,28.3465,51.9685,28.3465,56.6929 M28.3465,56.6929 C28.3465,61.4173,33.0709,56.6929,42.5197,56.6929 M42.5197,56.6929 C51.9685,56.6929,75.5906,61.4173,85.0394,56.6929 M85.0394,56.6929 C94.4882,51.9685,96.8504,30.7087,99.2126,28.3465 M99.2126,28.3465 C101.5748,25.9843,99.2126,42.5197,99.2126,42.5197 M99.2126,42.5197 C99.2126,42.5197,103.937,30.7087,99.2126,28.3465 M99.2126,28.3465 C94.4882,25.9843,66.1417,28.3465,70.8661,28.3465 M70.8661,28.3465 C75.5906,28.3465,118.1102,25.9843,127.5591,28.3465 M127.5591,28.3465 C137.0079,30.7087,127.5591,40.1575,127.5591,42.5197 M127.5591,42.5197 C127.5591,44.8819,127.5591,44.8819,127.5591,42.5197 M127.5591,42.5197 C127.5591,40.1575,129.9213,30.7087,127.5591,28.3465 M127.5591,28.3465 C125.1969,25.9843,113.3858,25.9843,113.3858,28.3465 M113.3858,28.3465 C113.3858,30.7087,122.8346,37.7953,127.5591,42.5197 M127.5591,42.5197 C132.2835,47.2441,144.0945,59.0551,141.7323,56.6929 M141.7323,56.6929 C139.3701,54.3307,115.748,28.3465,113.3858,28.3465 M113.3858,28.3465 C111.0236,28.3465,125.1969,51.9685,127.5591,56.6929 M127.5591,56.6929 C129.9213,61.4173,129.9213,61.4173,127.5591,56.6929 M127.5591,56.6929 C125.1969,51.9685,108.6614,33.0709,113.3858,28.3465 M113.3858,28.3465 C118.1102,23.622,148.8189,23.622,155.9055,28.3465 M155.9055,28.3465 C162.9921,33.0709,151.1811,54.3307,155.9055,56.6929 M155.9055,56.6929 C160.6299,59.0551,179.5276,47.2441,184.252,42.5197 M184.252,42.5197 C188.9764,37.7953,188.9764,28.3465,184.252,28.3465 M184.252,28.3465 C179.5276,28.3465,160.6299,37.7953,155.9055,42.5197 M155.9055,42.5197 C151.1811,47.2441,155.9055,56.6929,155.9055,56.6929 M155.9055,56.6929 C155.9055,56.6929,155.9055,42.5197,155.9055,42.5197 M155.9055,42.5197 C155.9055,42.5197,146.4567,56.6929,155.9055,56.6929 M155.9055,56.6929 C165.3543,56.6929,203.1496,44.8819,212.5984,42.5197 M212.5984,42.5197 C222.0472,40.1575,212.5984,42.5197,212.5984,42.5197 M212.5984,42.5197 C212.5984,42.5197,212.5984,42.5197,212.5984,42.5197 M212.5984,42.5197 C212.5984,42.5197,210.2362,40.1575,212.5984,42.5197 M212.5984,42.5197 C214.9606,44.8819,226.7717,56.6929,226.7717,56.6929 M226.7717,56.6929 C226.7717,56.6929,212.5984,44.8819,212.5984,42.5197 M212.5984,42.5197 C212.5984,40.1575,217.3228,44.8819,226.7717,42.5197 M226.7717,42.5197 C236.2205,40.1575,264.5669,30.7087,269.2913,28.3465 M269.2913,28.3465 C274.0157,25.9843,259.8425,28.3465,255.1181,28.3465 M255.1181,28.3465 C250.3937,28.3465,243.3071,23.622,240.9449,28.3465 M240.9449,28.3465 C238.5827,33.0709,238.5827,56.6929,240.9449,56.6929 M240.9449,56.6929 C243.3071,56.6929,255.1181,28.3465,255.1181,28.3465 M255.1181,28.3465 C255.1181,28.3465,238.5827,56.6929,240.9449,56.6929 M240.9449,56.6929 C243.3071,56.6929,266.9291,30.7087,269.2913,28.3465 M269.2913,28.3465 C271.6535,25.9843,259.8425,42.5197,255.1181,42.5197 M255.1181,42.5197 C250.3937,42.5197,243.3071,28.3465,240.9449,28.3465 M240.9449,28.3465 C238.5827,28.3465,231.4961,42.5197,240.9449,42.5197 M240.9449,42.5197 C250.3937,42.5197,285.8268,28.3465,297.6378,28.3465 M297.6378,28.3465 C309.4488,28.3465,314.1732,37.7953,311.811,42.5197 M311.811,42.5197 C309.4488,47.2441,283.4646,54.3307,283.4646,56.6929 M283.4646,56.6929 C283.4646,59.0551,300,56.6929,311.811,56.6929 M311.811,56.6929 C323.622,56.6929,351.9685,56.6929,354.3307,56.6929 M354.3307,56.6929 C356.6929,56.6929,328.3465,59.0551,325.9843,56.6929 M325.9843,56.6929 C323.622,54.3307,337.7953,47.2441,340.1575,42.5197 M340.1575,42.5197 C342.5197,37.7953,342.5197,25.9843,340.1575,28.3465 M340.1575,28.3465 C337.7953,30.7087,323.622,54.3307,325.9843,56.6929 M325.9843,56.6929 C328.3465,59.0551,354.3307,42.5197,354.3307,42.5197 M354.3307,42.5197 C354.3307,42.5197,328.3465,54.3307,325.9843,56.6929 M325.9843,56.6929 C323.622,59.0551,335.4331,59.0551,340.1575,56.6929 M340.1575,56.6929 C344.8819,54.3307,356.6929,42.5197,354.3307,42.5197 M354.3307,42.5197 C351.9685,42.5197,330.7087,54.3307,325.9843,56.6929 M325.9843,56.6929 C321.2598,59.0551,316.5354,59.0551,325.9843,56.6929 M325.9843,56.6929 C335.4331,54.3307,370.8661,44.8819,382.6772,42.5197 M382.6772,42.5197 C394.4882,40.1575,396.8504,42.5197,396.8504,42.5197 M396.8504,42.5197 C396.8504,42.5197,382.6772,40.1575,382.6772,42.5197 M382.6772,42.5197 C382.6772,44.8819,394.4882,56.6929,396.8504,56.6929 M396.8504,56.6929 C399.2126,56.6929,394.4882,42.5197,396.8504,42.5197 M396.8504,42.5197 C399.2126,42.5197,408.6614,59.0551,411.0236,56.6929 M411.0236,56.6929 C413.3858,54.3307,408.6614,28.3465,411.0236,28.3465 M411.0236,28.3465 C413.3858,28.3465,425.1969,51.9685,425.1969,56.6929 M425.1969,56.6929 C425.1969,61.4173,408.6614,61.4173,411.0236,56.6929 M411.0236,56.6929 C413.3858,51.9685,434.6457,30.7087,439.3701,28.3465\" fill=\"none\" stroke=\"rgba(0,128,128,1)\" stroke-miterlimit=\"10\"/>\n",
       "</svg>"
      ],
      "text/plain": [
       "<IPython.core.display.SVG object>"
      ]
     },
     "metadata": {},
     "output_type": "display_data"
    }
   ],
   "source": [
    "line = make_char()\n",
    "for i in range(1, 10):\n",
    "    line += make_char().translate(i*1.5, 0)\n",
    "line = line.scale(10).translate(10, 10)\n",
    "d = document(200, 30, 'mm')\n",
    "page = d.addpage()\n",
    "line_fig = shape().stroke(rgba(160, 80, 160, 255)).nofill()\n",
    "curve_fig = shape().stroke(rgba(0, 128, 128, 255)).nofill()\n",
    "page.place(line_fig.polyline(line))\n",
    "page.place(curve_fig.path(line.smooth_path()))\n",
    "show(page)"
   ]
  },
  {
   "cell_type": "markdown",
   "metadata": {},
   "source": [
    "The following example takes advantage of this technique in order to produce a composition of several lines. As a change of pace, let's work with a limited set of glyphs, instead of generating a new glyph every time we want to place one on the page:"
   ]
  },
  {
   "cell_type": "code",
   "execution_count": 76,
   "metadata": {},
   "outputs": [],
   "source": [
    "chars = [make_char() for i in range(26)]"
   ]
  },
  {
   "cell_type": "markdown",
   "metadata": {},
   "source": [
    "Working with a limited set of glyphs (in my experience) provides a bit of verisimilitude, since you expect to see repeated figures in handwriting. But you also have to be careful to add a bit of variation to the glyphs, because otherwise it can look a bit \"robotic.\" (Though \"robotic\" might be exactly what you're going for. I don't know.)\n",
    "\n",
    "The code below generates ten lines of these \"cursive\" (i.e., connected) forms:"
   ]
  },
  {
   "cell_type": "code",
   "execution_count": 77,
   "metadata": {},
   "outputs": [
    {
     "name": "stderr",
     "output_type": "stream",
     "text": [
      "/var/folders/zw/zqwd5pss4wnbkjr938715lkc0000gn/T/ipykernel_38182/1646432013.py:6: VisibleDeprecationWarning: Creating an ndarray from ragged nested sequences (which is a list-or-tuple of lists-or-tuples-or ndarrays with different lengths or shapes) is deprecated. If you meant to do this, you must specify 'dtype=object' when creating the ndarray.\n",
      "  line = choice(chars)\n",
      "/var/folders/zw/zqwd5pss4wnbkjr938715lkc0000gn/T/ipykernel_38182/1646432013.py:9: VisibleDeprecationWarning: Creating an ndarray from ragged nested sequences (which is a list-or-tuple of lists-or-tuples-or ndarrays with different lengths or shapes) is deprecated. If you meant to do this, you must specify 'dtype=object' when creating the ndarray.\n",
      "  line += choice(chars).scale(normal(1, 0.25)).translate(col*1.5, 0)\n"
     ]
    },
    {
     "data": {
      "image/svg+xml": [
       "<svg xmlns=\"http://www.w3.org/2000/svg\" xmlns:xlink=\"http://www.w3.org/1999/xlink\" version=\"1.1\" width=\"425.1969pt\" height=\"425.1969pt\" viewBox=\"0 0 425.1969 425.1969\">\n",
       "<title>Untitled</title>\n",
       "<path d=\"M51.0236,38.2677 C53.1496,40.3937,55.2756,53.1496,51.0236,51.0236 M51.0236,51.0236 C46.7717,48.8976,27.6378,29.7638,25.5118,25.5118 M25.5118,25.5118 C23.3858,21.2598,36.1417,21.2598,38.2677,25.5118 M38.2677,25.5118 C40.3937,29.7638,40.3937,46.7717,38.2677,51.0236 M38.2677,51.0236 C36.1417,55.2756,25.5118,53.1496,25.5118,51.0236 M25.5118,51.0236 C25.5118,48.8976,38.2677,40.3937,38.2677,38.2677 M38.2677,38.2677 C38.2677,36.1417,18.739,40.3937,25.5118,38.2677 M25.5118,38.2677 C32.2847,36.1417,70.006,25.1169,78.9049,25.5118 M78.9049,25.5118 C87.8037,25.9067,81.4258,38.1163,78.9049,40.6372 M78.9049,40.6372 C76.384,43.1581,61.2586,38.1163,63.7795,40.6372 M63.7795,40.6372 C66.3004,43.1581,94.0302,53.2416,94.0302,55.7625 M94.0302,55.7625 C94.0302,58.2834,66.3004,60.8043,63.7795,55.7625 M63.7795,55.7625 C61.2586,50.7207,73.8631,28.0327,78.9049,25.5118 M78.9049,25.5118 C83.9467,22.9909,94.0302,35.5954,94.0302,40.6372 M94.0302,40.6372 C94.0302,45.6789,81.4258,58.2834,78.9049,55.7625 M78.9049,55.7625 C76.384,53.2416,75.0478,28.0012,78.9049,25.5118 M78.9049,25.5118 C82.7619,23.0225,98.1902,40.8265,102.0472,40.8265 M102.0472,40.8265 C105.9043,40.8265,99.4948,25.5118,102.0472,25.5118 M102.0472,25.5118 C104.5997,25.5118,117.3619,38.274,117.3619,40.8265 M117.3619,40.8265 C117.3619,43.3789,99.4948,43.3789,102.0472,40.8265 M102.0472,40.8265 C104.5997,38.274,132.6765,25.5118,132.6765,25.5118 M132.6765,25.5118 C132.6765,25.5118,102.0472,35.7216,102.0472,40.8265 M102.0472,40.8265 C102.0472,45.9313,130.1241,58.6935,132.6765,56.1411 M132.6765,56.1411 C135.229,53.5887,110.5345,27.8396,117.3619,25.5118 M117.3619,25.5118 C124.1892,23.1841,167.038,36.6204,173.6407,42.1747 M173.6407,42.1747 C180.2433,47.729,162.5321,61.6147,156.9778,58.8375 M156.9778,58.8375 C151.4235,56.0604,143.0921,25.5118,140.315,25.5118 M140.315,25.5118 C137.5378,25.5118,134.7607,53.2832,140.315,58.8375 M140.315,58.8375 C145.8692,64.3918,170.8635,64.3918,173.6407,58.8375 M173.6407,58.8375 C176.4178,53.2832,156.9778,31.0661,156.9778,25.5118 M156.9778,25.5118 C156.9778,19.9575,176.4178,25.5118,173.6407,25.5118 M173.6407,25.5118 C170.8635,25.5118,145.8692,19.9575,140.315,25.5118 M140.315,25.5118 C134.7607,31.0661,129.8208,56.7794,140.315,58.8375 M140.315,58.8375 C150.8091,60.8956,194.8438,41.3566,203.2798,37.8604 M203.2798,37.8604 C211.7159,34.3642,190.9313,39.9185,190.9313,37.8604 M190.9313,37.8604 C190.9313,35.8023,205.3379,25.5118,203.2798,25.5118 M203.2798,25.5118 C201.2217,25.5118,180.6408,33.7442,178.5827,37.8604 M178.5827,37.8604 C176.5246,41.9766,190.9313,50.209,190.9313,50.209 M190.9313,50.209 C190.9313,50.209,178.5827,39.9185,178.5827,37.8604 M178.5827,37.8604 C178.5827,35.8023,186.8151,37.8604,190.9313,37.8604 M190.9313,37.8604 C195.0474,37.8604,201.2217,35.8023,203.2798,37.8604 M203.2798,37.8604 C205.3379,39.9185,205.3379,50.209,203.2798,50.209 M203.2798,50.209 C201.2217,50.209,186.581,41.9766,190.9313,37.8604 M190.9313,37.8604 C195.2815,33.7442,222.9729,25.4814,229.3812,25.5118 M229.3812,25.5118 C235.7896,25.5422,231.4697,35.9542,229.3812,38.0427 M229.3812,38.0427 C227.2928,40.1311,214.7619,40.1311,216.8504,38.0427 M216.8504,38.0427 C218.9389,35.9542,237.7351,23.4233,241.9121,25.5118 M241.9121,25.5118 C246.089,27.6003,244.0006,46.3966,241.9121,50.5735 M241.9121,50.5735 C239.8236,54.7505,233.5582,54.7505,229.3812,50.5735 M229.3812,50.5735 C225.2043,46.3966,216.8504,29.6888,216.8504,25.5118 M216.8504,25.5118 C216.8504,21.3349,217.105,22.5627,229.3812,25.5118 M229.3812,25.5118 C241.6574,28.4609,283.269,37.3083,290.5076,43.2066 M290.5076,43.2066 C297.7462,49.1048,278.7111,63.8504,272.8129,60.9013 M272.8129,60.9013 C266.9146,57.9522,258.0672,25.5118,255.1181,25.5118 M255.1181,25.5118 C252.169,25.5118,249.2199,55.0031,255.1181,60.9013 M255.1181,60.9013 C261.0164,66.7996,287.5585,66.7996,290.5076,60.9013 M290.5076,60.9013 C293.4567,55.0031,272.8129,31.4101,272.8129,25.5118 M272.8129,25.5118 C272.8129,19.6136,293.4567,25.5118,290.5076,25.5118 M290.5076,25.5118 C287.5585,25.5118,261.0164,19.6136,255.1181,25.5118 M255.1181,25.5118 C249.2199,31.4101,246.3938,60.9013,255.1181,60.9013 M255.1181,60.9013 C263.8424,60.9013,301.0862,26.7173,307.4641,25.5118 M307.4641,25.5118 C313.8421,24.3063,291.0394,51.322,293.3858,53.6684 M293.3858,53.6684 C295.7322,56.0148,319.1961,41.9365,321.5424,39.5901 M321.5424,39.5901 C323.8888,37.2437,307.4641,39.5901,307.4641,39.5901 M307.4641,39.5901 C307.4641,39.5901,323.8888,37.2437,321.5424,39.5901 M321.5424,39.5901 C319.1961,41.9365,295.7322,56.0148,293.3858,53.6684 M293.3858,53.6684 C291.0394,51.322,298.489,27.6074,307.4641,25.5118 M307.4641,25.5118 C316.4393,23.4162,340.608,38.4978,347.2367,41.095 M347.2367,41.095 C353.8655,43.6922,349.8339,43.6922,347.2367,41.095 M347.2367,41.095 C344.6395,38.4978,329.0563,28.109,331.6535,25.5118 M331.6535,25.5118 C334.2507,22.9146,351.9259,23.2538,362.8199,25.5118 M362.8199,25.5118 C373.7139,27.7699,393.5762,36.802,397.0178,39.0601 M397.0178,39.0601 C400.4594,41.3181,383.4695,41.3181,383.4695,39.0601 M383.4695,39.0601 C383.4695,36.802,399.2758,25.5118,397.0178,25.5118 M397.0178,25.5118 C394.7598,25.5118,372.1793,34.544,369.9213,39.0601 M369.9213,39.0601 C367.6632,43.5762,383.4695,52.6084,383.4695,52.6084 M383.4695,52.6084 C383.4695,52.6084,369.9213,41.3181,369.9213,39.0601 M369.9213,39.0601 C369.9213,36.802,378.9534,39.0601,383.4695,39.0601 M383.4695,39.0601 C387.9856,39.0601,394.7598,36.802,397.0178,39.0601 M397.0178,39.0601 C399.2758,41.3181,399.2758,52.6084,397.0178,52.6084\" fill=\"none\" stroke=\"rgba(0,128,128,1)\" stroke-miterlimit=\"10\"/>\n",
       "<path d=\"M25.5118,76.5354 C29.7638,78.6614,48.8976,74.4094,51.0236,76.5354 M51.0236,76.5354 C53.1496,78.6614,40.3937,89.2913,38.2677,89.2913 M38.2677,89.2913 C36.1417,89.2913,36.1417,80.7874,38.2677,76.5354 M38.2677,76.5354 C40.3937,72.2835,51.0236,65.9055,51.0236,63.7795 M51.0236,63.7795 C51.0236,61.6535,36.1417,59.5959,38.2677,63.7795 M38.2677,63.7795 C40.3937,67.9632,57.4357,86.7895,63.7795,88.8813 M63.7795,88.8813 C70.1233,90.9732,72.1468,78.4222,76.3304,76.3304 M76.3304,76.3304 C80.5141,74.2386,86.7895,74.2386,88.8813,76.3304 M88.8813,76.3304 C90.9732,78.4222,88.8813,86.7895,88.8813,88.8813 M88.8813,88.8813 C88.8813,90.9732,93.065,93.065,88.8813,88.8813 M88.8813,88.8813 C84.6977,84.6977,63.7795,65.8713,63.7795,63.7795 M63.7795,63.7795 C63.7795,61.6877,82.5034,76.3304,88.8813,76.3304 M88.8813,76.3304 C95.2593,76.3304,97.7367,61.639,102.0472,63.7795 M102.0472,63.7795 C106.3577,65.9201,114.7443,89.1737,114.7443,89.1737 M114.7443,89.1737 C114.7443,89.1737,99.9311,63.7795,102.0472,63.7795 M102.0472,63.7795 C104.1634,63.7795,125.3252,84.9413,127.4414,89.1737 M127.4414,89.1737 C129.5576,93.406,116.8605,89.1737,114.7443,89.1737 M114.7443,89.1737 C112.6281,89.1737,116.8605,91.2898,114.7443,89.1737 M114.7443,89.1737 C112.6281,87.0575,95.1661,80.7089,102.0472,76.4766 M102.0472,76.4766 C108.9284,72.2442,149.6534,60.6569,156.0314,63.7795 M156.0314,63.7795 C162.4093,66.9021,137.6956,92.5929,140.315,95.2123 M140.315,95.2123 C142.9344,97.8317,169.1284,82.1153,171.7478,79.4959 M171.7478,79.4959 C174.3672,76.8765,156.0314,79.4959,156.0314,79.4959 M156.0314,79.4959 C156.0314,79.4959,174.3672,76.8765,171.7478,79.4959 M171.7478,79.4959 C169.1284,82.1153,142.9344,97.8317,140.315,95.2123 M140.315,95.2123 C137.6956,92.5929,149.6534,64.8952,156.0314,63.7795 M156.0314,63.7795 C162.4093,62.6638,172.7626,86.4566,178.5827,88.5182 M178.5827,88.5182 C184.4028,90.5797,186.8289,78.2104,190.952,76.1489 M190.952,76.1489 C195.0751,74.0873,201.2598,74.0873,203.3213,76.1489 M203.3213,76.1489 C205.3829,78.2104,203.3213,86.4566,203.3213,88.5182 M203.3213,88.5182 C203.3213,90.5797,207.4444,92.6413,203.3213,88.5182 M203.3213,88.5182 C199.1982,84.3951,178.5827,65.8411,178.5827,63.7795 M178.5827,63.7795 C178.5827,61.718,196.9434,73.23,203.3213,76.1489 M203.3213,76.1489 C209.6993,79.0677,211.6767,80.4355,216.8504,81.2929 M216.8504,81.2929 C222.0241,82.1502,231.4449,82.7523,234.3637,81.2929 M234.3637,81.2929 C237.2826,79.8334,237.2826,73.9956,234.3637,72.5362 M234.3637,72.5362 C231.4449,71.0768,216.8504,73.9956,216.8504,72.5362 M216.8504,72.5362 C216.8504,71.0768,232.9043,65.239,234.3637,63.7795 M234.3637,63.7795 C235.8232,62.3201,227.0665,60.8606,225.6071,63.7795 M225.6071,63.7795 C224.1476,66.6984,224.1476,78.374,225.6071,81.2929 M225.6071,81.2929 C227.0665,84.2118,223.9545,81.4664,234.3637,81.2929 M234.3637,81.2929 C244.773,81.1194,281.8582,80.4253,288.0626,80.2518 M288.0626,80.2518 C294.2671,80.0783,271.5904,82.9972,271.5904,80.2518 M271.5904,80.2518 C271.5904,77.5064,290.808,63.7795,288.0626,63.7795 M288.0626,63.7795 C285.3172,63.7795,257.8635,74.761,255.1181,80.2518 M255.1181,80.2518 C252.3727,85.7425,271.5904,96.724,271.5904,96.724 M271.5904,96.724 C271.5904,96.724,255.1181,82.9972,255.1181,80.2518 M255.1181,80.2518 C255.1181,77.5064,266.0996,80.2518,271.5904,80.2518 M271.5904,80.2518 C277.0811,80.2518,285.3172,77.5064,288.0626,80.2518 M288.0626,80.2518 C290.808,82.9972,290.808,96.724,288.0626,96.724 M288.0626,96.724 C285.3172,96.724,270.7032,85.7425,271.5904,80.2518 M271.5904,80.2518 C272.4776,74.761,289.7532,64.5591,293.3858,63.7795 M293.3858,63.7795 C297.0184,62.9999,289.4543,73.6085,293.3858,75.5743 M293.3858,75.5743 C297.3174,77.54,315.0095,73.6085,316.9753,75.5743 M316.9753,75.5743 C318.9411,77.54,307.1463,87.369,305.1806,87.369 M305.1806,87.369 C303.2148,87.369,303.2148,79.5058,305.1806,75.5743 M305.1806,75.5743 C307.1463,71.6427,316.9753,65.7453,316.9753,63.7795 M316.9753,63.7795 C316.9753,61.8137,300.8191,63.7795,305.1806,63.7795 M305.1806,63.7795 C309.542,63.7795,336.817,61.8644,343.1443,63.7795 M343.1443,63.7795 C349.4715,65.6946,345.0594,73.3551,343.1443,75.2702 M343.1443,75.2702 C341.2291,77.1854,329.7384,77.1854,331.6535,75.2702 M331.6535,75.2702 C333.5687,73.3551,350.8047,61.8644,354.635,63.7795 M354.635,63.7795 C358.4652,65.6946,356.5501,82.9307,354.635,86.761 M354.635,86.761 C352.7199,90.5912,346.9745,90.5912,343.1443,86.761 M343.1443,86.761 C339.314,82.9307,331.6535,67.6098,331.6535,63.7795 M331.6535,63.7795 C331.6535,59.9493,333.47,62.1314,343.1443,63.7795 M343.1443,63.7795 C352.8186,65.4277,385.2365,72.0204,389.6994,73.6686 M389.6994,73.6686 C394.1622,75.3168,371.5694,72.0204,369.9213,73.6686 M369.9213,73.6686 C368.2731,75.3168,379.8103,85.2058,379.8103,83.5576 M379.8103,83.5576 C379.8103,81.9095,369.9213,65.4277,369.9213,63.7795 M369.9213,63.7795 C369.9213,62.1314,379.8103,70.3722,379.8103,73.6686 M379.8103,73.6686 C379.8103,76.9649,369.9213,81.9095,369.9213,83.5576 M369.9213,83.5576 C369.9213,85.2058,379.8103,86.854,379.8103,83.5576\" fill=\"none\" stroke=\"rgba(0,128,128,1)\" stroke-miterlimit=\"10\"/>\n",
       "<path d=\"M51.0236,127.5591 C55.2756,127.5591,51.0236,129.685,51.0236,127.5591 M51.0236,127.5591 C51.0236,125.4331,51.0236,114.8031,51.0236,114.8031 M51.0236,114.8031 C51.0236,114.8031,48.8976,129.685,51.0236,127.5591 M51.0236,127.5591 C53.1496,125.4331,61.6535,104.7269,63.7795,102.0472 M63.7795,102.0472 C65.9055,99.3676,60.6349,109.9089,63.7795,111.4812 M63.7795,111.4812 C66.9242,113.0536,81.0752,109.9089,82.6475,111.4812 M82.6475,111.4812 C84.2199,113.0536,74.7859,120.9152,73.2135,120.9152 M73.2135,120.9152 C71.6412,120.9152,71.6412,114.6259,73.2135,111.4812 M73.2135,111.4812 C74.7859,108.3366,82.6475,103.6196,82.6475,102.0472 M82.6475,102.0472 C82.6475,100.4749,65.4155,99.7649,73.2135,102.0472 M73.2135,102.0472 C81.0116,104.3296,122.3479,113.4592,129.4359,115.7416 M129.4359,115.7416 C136.5239,118.024,115.7416,118.024,115.7416,115.7416 M115.7416,115.7416 C115.7416,113.4592,131.7183,102.0472,129.4359,102.0472 M129.4359,102.0472 C127.1535,102.0472,104.3296,111.1768,102.0472,115.7416 M102.0472,115.7416 C99.7649,120.3063,115.7416,129.4359,115.7416,129.4359 M115.7416,129.4359 C115.7416,129.4359,102.0472,118.024,102.0472,115.7416 M102.0472,115.7416 C102.0472,113.4592,111.1768,115.7416,115.7416,115.7416 M115.7416,115.7416 C120.3063,115.7416,127.1535,113.4592,129.4359,115.7416 M129.4359,115.7416 C131.7183,118.024,131.7183,129.4359,129.4359,129.4359 M129.4359,129.4359 C127.1535,129.4359,109.1242,120.3063,115.7416,115.7416 M115.7416,115.7416 C122.359,111.1768,165.0446,104.3296,169.1402,102.0472 M169.1402,102.0472 C173.2358,99.7649,140.315,97.243,140.315,102.0472 M140.315,102.0472 C140.315,106.8515,169.1402,126.0683,169.1402,130.8725 M169.1402,130.8725 C169.1402,135.6767,142.7171,133.2746,140.315,130.8725 M140.315,130.8725 C137.9129,128.4704,149.9234,116.4599,154.7276,116.4599 M154.7276,116.4599 C159.5318,116.4599,166.7381,128.4704,169.1402,130.8725 M169.1402,130.8725 C171.5423,133.2746,171.5423,130.8725,169.1402,130.8725 M169.1402,130.8725 C166.7381,130.8725,149.3641,133.7818,154.7276,130.8725 M154.7276,130.8725 C160.0911,127.9631,197.3452,116.3258,201.321,113.4164 M201.321,113.4164 C205.2969,110.5071,180.4775,111.5215,178.5827,113.4164 M178.5827,113.4164 C176.6878,115.3113,189.9518,126.6804,189.9518,124.7856 M189.9518,124.7856 C189.9518,122.8907,178.5827,103.9421,178.5827,102.0472 M178.5827,102.0472 C178.5827,100.1524,189.9518,109.6267,189.9518,113.4164 M189.9518,113.4164 C189.9518,117.2061,178.5827,122.8907,178.5827,124.7856 M178.5827,124.7856 C178.5827,126.6804,189.9518,128.5753,189.9518,124.7856 M189.9518,124.7856 C189.9518,120.9959,170.1161,103.8452,178.5827,102.0472 M178.5827,102.0472 C187.0493,100.2493,234.3735,112.006,240.7514,113.9978 M240.7514,113.9978 C247.1294,115.9895,218.8421,113.9978,216.8504,113.9978 M216.8504,113.9978 C214.8586,113.9978,224.8174,113.9978,228.8009,113.9978 M228.8009,113.9978 C232.7844,113.9978,240.7514,112.006,240.7514,113.9978 M240.7514,113.9978 C240.7514,115.9895,228.8009,125.9483,228.8009,125.9483 M228.8009,125.9483 C228.8009,125.9483,242.7432,115.9895,240.7514,113.9978 M240.7514,113.9978 C238.7597,112.006,212.528,115.0255,216.8504,113.9978 M216.8504,113.9978 C221.1728,112.97,260.3078,108.8588,266.6857,107.8311 M266.6857,107.8311 C273.0637,106.8033,256.0821,106.8671,255.1181,107.8311 M255.1181,107.8311 C254.1541,108.795,260.9019,114.5788,260.9019,113.6149 M260.9019,113.6149 C260.9019,112.6509,255.1181,103.0112,255.1181,102.0472 M255.1181,102.0472 C255.1181,101.0833,260.9019,105.9031,260.9019,107.8311 M260.9019,107.8311 C260.9019,109.759,255.1181,112.6509,255.1181,113.6149 M255.1181,113.6149 C255.1181,114.5788,260.9019,115.5428,260.9019,113.6149 M260.9019,113.6149 C260.9019,111.6869,249.7041,99.4605,255.1181,102.0472 M255.1181,102.0472 C260.5321,104.634,284.7505,126.8781,293.3858,129.1354 M293.3858,129.1354 C302.0211,131.3927,302.4152,117.8487,306.9299,115.5913 M306.9299,115.5913 C311.4446,113.334,320.474,115.5913,320.474,115.5913 M320.474,115.5913 C320.474,115.5913,309.1872,117.8487,306.9299,115.5913 M306.9299,115.5913 C304.6726,113.334,304.6726,99.7899,306.9299,102.0472 M306.9299,102.0472 C309.1872,104.3046,318.2166,126.8781,320.474,129.1354 M320.474,129.1354 C322.7313,131.3927,322.7313,117.8487,320.474,115.5913 M320.474,115.5913 C318.2166,113.334,306.9299,113.334,306.9299,115.5913 M306.9299,115.5913 C306.9299,117.8487,311.2156,131.3927,320.474,129.1354 M320.474,129.1354 C329.7324,126.8781,360.6172,106.5619,362.4804,102.0472 M362.4804,102.0472 C364.3437,97.5326,331.6535,96.9094,331.6535,102.0472 M331.6535,102.0472 C331.6535,107.1851,362.4804,127.7363,362.4804,132.8741 M362.4804,132.8741 C362.4804,138.0119,334.2225,135.443,331.6535,132.8741 M331.6535,132.8741 C329.0846,130.3052,341.9292,117.4607,347.067,117.4607 M347.067,117.4607 C352.2048,117.4607,359.9115,130.3052,362.4804,132.8741 M362.4804,132.8741 C365.0493,135.443,365.0493,132.8741,362.4804,132.8741 M362.4804,132.8741 C359.9115,132.8741,344.1637,136.3488,347.067,132.8741 M347.067,132.8741 C349.9702,129.3994,372.7647,117.1637,379.8999,112.0259 M379.8999,112.0259 C387.0352,106.8881,389.8786,102.0472,389.8786,102.0472 M389.8786,102.0472 C389.8786,102.0472,381.5631,112.0259,379.8999,112.0259 M379.8999,112.0259 C378.2368,112.0259,381.5631,100.3841,379.8999,102.0472 M379.8999,102.0472 C378.2368,103.7104,369.9213,122.0046,369.9213,122.0046 M369.9213,122.0046 C369.9213,122.0046,378.2368,102.0472,379.8999,102.0472 M379.8999,102.0472 C381.5631,102.0472,381.5631,122.0046,379.8999,122.0046\" fill=\"none\" stroke=\"rgba(0,128,128,1)\" stroke-miterlimit=\"10\"/>\n",
       "<path d=\"M38.2677,153.0709 C42.5197,150.9449,48.8976,150.9449,51.0236,153.0709 M51.0236,153.0709 C53.1496,155.1969,51.0236,163.7008,51.0236,165.8268 M51.0236,165.8268 C51.0236,167.9528,55.2756,170.0787,51.0236,165.8268 M51.0236,165.8268 C46.7717,161.5748,25.5118,142.4409,25.5118,140.315 M25.5118,140.315 C25.5118,138.189,42.9626,153.0709,51.0236,153.0709 M51.0236,153.0709 C59.0847,153.0709,71.7521,139.0748,73.8781,140.315 M73.8781,140.315 C76.0041,141.5552,62.0964,158.829,63.7795,160.5121 M63.7795,160.5121 C65.4626,162.1952,82.2936,152.0966,83.9767,150.4135 M83.9767,150.4135 C85.6598,148.7304,73.8781,150.4135,73.8781,150.4135 M73.8781,150.4135 C73.8781,150.4135,85.6598,148.7304,83.9767,150.4135 M83.9767,150.4135 C82.2936,152.0966,65.4626,162.1952,63.7795,160.5121 M63.7795,160.5121 C62.0964,158.829,61.6372,137.8182,73.8781,140.315 M73.8781,140.315 C86.119,142.8117,129.5988,169.6299,137.2251,175.4928 M137.2251,175.4928 C144.8515,181.3558,119.6362,178.4243,119.6362,175.4928 M119.6362,175.4928 C119.6362,172.5613,137.2251,160.8354,137.2251,157.9039 M137.2251,157.9039 C137.2251,154.9724,125.4992,160.8354,119.6362,157.9039 M119.6362,157.9039 C113.7732,154.9724,102.0472,140.315,102.0472,140.315 M102.0472,140.315 C102.0472,140.315,110.864,156.7068,119.6362,157.9039 M119.6362,157.9039 C128.4084,159.101,151.2341,149.2321,154.6806,147.4978 M154.6806,147.4978 C158.1271,145.7634,141.5121,146.3006,140.315,147.4978 M140.315,147.4978 C139.1178,148.6949,147.4978,155.8777,147.4978,154.6806 M147.4978,154.6806 C147.4978,153.4835,140.315,141.5121,140.315,140.315 M140.315,140.315 C140.315,139.1178,147.4978,145.1035,147.4978,147.4978 M147.4978,147.4978 C147.4978,149.892,140.315,153.4835,140.315,154.6806 M140.315,154.6806 C140.315,155.8777,147.4978,157.0749,147.4978,154.6806 M147.4978,154.6806 C147.4978,152.2863,133.059,142.7092,140.315,140.315 M140.315,140.315 C147.5709,137.9207,182.5804,138.2398,191.0335,140.315 M191.0335,140.315 C199.4866,142.3901,193.1087,150.6907,191.0335,152.7658 M191.0335,152.7658 C188.9584,154.841,176.5075,150.6907,178.5827,152.7658 M178.5827,152.7658 C180.6578,154.841,203.4844,163.1416,203.4844,165.2167 M203.4844,165.2167 C203.4844,167.2918,180.6578,169.367,178.5827,165.2167 M178.5827,165.2167 C176.5075,161.0664,186.8833,142.3901,191.0335,140.315 M191.0335,140.315 C195.1838,138.2398,203.4844,148.6155,203.4844,152.7658 M203.4844,152.7658 C203.4844,156.9161,193.1087,167.2918,191.0335,165.2167 M191.0335,165.2167 C188.9584,163.1416,184.3422,142.0767,191.0335,140.315 M191.0335,140.315 C197.7249,138.5532,222.1016,152.2575,231.1814,154.646 M231.1814,154.646 C240.2612,157.0345,243.1239,152.2575,245.5124,154.646 M245.5124,154.646 C247.9009,157.0345,250.2894,171.3655,245.5124,168.977 M245.5124,168.977 C240.7354,166.5885,219.2389,145.092,216.8504,140.315 M216.8504,140.315 C214.4619,135.538,228.7929,135.538,231.1814,140.315 M231.1814,140.315 C233.5699,145.092,233.5699,164.2,231.1814,168.977 M231.1814,168.977 C228.7929,173.754,216.8504,171.3655,216.8504,168.977 M216.8504,168.977 C216.8504,166.5885,231.1814,157.0345,231.1814,154.646 M231.1814,154.646 C231.1814,152.2575,209.9502,154.1237,216.8504,154.646 M216.8504,154.646 C223.7506,155.1682,263.294,157.2573,272.5827,157.7795 M272.5827,157.7795 C281.8714,158.3018,275.4934,160.6903,272.5827,157.7795 M272.5827,157.7795 C269.6719,154.8688,252.2074,143.2257,255.1181,140.315 M255.1181,140.315 C258.0289,137.4042,281.6335,140.315,290.0472,140.315 M290.0472,140.315 C298.4609,140.315,303.0082,138.2792,305.6004,140.315 M305.6004,140.315 C308.1925,142.3507,307.6361,150.4937,305.6004,152.5295 M305.6004,152.5295 C303.5646,154.5652,291.3501,154.5652,293.3858,152.5295 M293.3858,152.5295 C295.4216,150.4937,313.7434,138.2792,317.8149,140.315 M317.8149,140.315 C321.8864,142.3507,319.8506,160.6725,317.8149,164.744 M317.8149,164.744 C315.7791,168.8155,309.6719,168.8155,305.6004,164.744 M305.6004,164.744 C301.5288,160.6725,293.3858,144.3865,293.3858,140.315 M293.3858,140.315 C293.3858,136.2435,299.2224,140.315,305.6004,140.315 M305.6004,140.315 C311.9783,140.315,325.7348,140.315,331.6535,140.315 M331.6535,140.315 C337.5723,140.315,337.9598,138.7384,341.1129,140.315 M341.1129,140.315 C344.2661,141.8915,350.5724,146.6212,350.5724,149.7744 M350.5724,149.7744 C350.5724,152.9275,342.6895,157.6572,341.1129,159.2338 M341.1129,159.2338 C339.5364,160.8103,342.6895,162.3869,341.1129,159.2338 M341.1129,159.2338 C339.5364,156.0806,333.2301,141.8915,331.6535,140.315 M331.6535,140.315 C330.077,138.7384,330.077,148.1978,331.6535,149.7744 M331.6535,149.7744 C333.2301,151.3509,337.9598,151.3509,341.1129,149.7744 M341.1129,149.7744 C344.2661,148.1978,350.5724,138.7384,350.5724,140.315 M350.5724,140.315 C350.5724,141.8915,337.8881,156.5307,341.1129,159.2338 M341.1129,159.2338 C344.3378,161.9369,365.1199,159.6868,369.9213,156.5336 M369.9213,156.5336 C374.7226,153.3805,367.2182,140.315,369.9213,140.315 M369.9213,140.315 C372.6244,140.315,386.1399,153.8305,386.1399,156.5336 M386.1399,156.5336 C386.1399,159.2367,367.2182,159.2367,369.9213,156.5336 M369.9213,156.5336 C372.6244,153.8305,402.3586,140.315,402.3586,140.315 M402.3586,140.315 C402.3586,140.315,369.9213,151.1274,369.9213,156.5336 M369.9213,156.5336 C369.9213,161.9398,399.6555,175.4554,402.3586,172.7523\" fill=\"none\" stroke=\"rgba(0,128,128,1)\" stroke-miterlimit=\"10\"/>\n",
       "<path d=\"M38.2677,191.3386 C36.1417,189.2126,23.3858,180.7087,25.5118,178.5827 M25.5118,178.5827 C27.6378,176.4567,39.4842,173.4212,51.0236,178.5827 M51.0236,178.5827 C62.5631,183.7442,90.0419,204.3902,94.7486,209.5517 M94.7486,209.5517 C99.4553,214.7133,79.2641,212.1325,79.2641,209.5517 M79.2641,209.5517 C79.2641,206.971,94.7486,196.648,94.7486,194.0672 M94.7486,194.0672 C94.7486,191.4865,84.4256,196.648,79.2641,194.0672 M79.2641,194.0672 C74.1025,191.4865,63.7795,178.5827,63.7795,178.5827 M63.7795,178.5827 C63.7795,178.5827,72.8861,191.2129,79.2641,194.0672 M79.2641,194.0672 C85.642,196.9215,98.25,198.2891,102.0472,195.7084 M102.0472,195.7084 C105.8444,193.1276,99.193,178.5827,102.0472,178.5827 M102.0472,178.5827 C104.9015,178.5827,119.1729,192.8541,119.1729,195.7084 M119.1729,195.7084 C119.1729,198.5626,99.193,198.5626,102.0472,195.7084 M102.0472,195.7084 C104.9015,192.8541,136.2986,178.5827,136.2986,178.5827 M136.2986,178.5827 C136.2986,178.5827,102.0472,189.9998,102.0472,195.7084 M102.0472,195.7084 C102.0472,201.4169,133.4443,215.6883,136.2986,212.834 M136.2986,212.834 C139.1529,209.9797,115.6526,184.2912,119.1729,178.5827 M119.1729,178.5827 C122.6932,172.8741,151.0457,175.7318,157.4203,178.5827 M157.4203,178.5827 C163.7949,181.4336,160.2712,192.8371,157.4203,195.688 M157.4203,195.688 C154.5694,198.5389,137.4641,192.8371,140.315,195.688 M140.315,195.688 C143.1659,198.5389,174.5256,209.9425,174.5256,212.7934 M174.5256,212.7934 C174.5256,215.6442,143.1659,218.4951,140.315,212.7934 M140.315,212.7934 C137.4641,207.0916,151.7185,181.4336,157.4203,178.5827 M157.4203,178.5827 C163.1221,175.7318,174.5256,189.9862,174.5256,195.688 M174.5256,195.688 C174.5256,201.3898,160.2712,215.6442,157.4203,212.7934 M157.4203,212.7934 C154.5694,209.9425,152.5281,182.9193,157.4203,178.5827 M157.4203,178.5827 C162.3125,174.246,180.5161,185.4083,186.7734,186.7734 M186.7734,186.7734 C193.0307,188.1385,193.599,185.4083,194.9641,186.7734 M194.9641,186.7734 C196.3292,188.1385,197.6943,196.3292,194.9641,194.9641 M194.9641,194.9641 C192.2338,193.599,179.9478,181.3129,178.5827,178.5827 M178.5827,178.5827 C177.2176,175.8524,185.4083,175.8524,186.7734,178.5827 M186.7734,178.5827 C188.1385,181.3129,188.1385,192.2338,186.7734,194.9641 M186.7734,194.9641 C185.4083,197.6943,178.5827,196.3292,178.5827,194.9641 M178.5827,194.9641 C178.5827,193.599,186.7734,188.1385,186.7734,186.7734 M186.7734,186.7734 C186.7734,185.4083,168.5827,188.1385,178.5827,186.7734 M178.5827,186.7734 C188.5827,185.4083,240.3954,179.9478,246.7733,178.5827 M246.7733,178.5827 C253.1513,177.2176,216.8504,173.5955,216.8504,178.5827 M216.8504,178.5827 C216.8504,183.5698,246.7733,203.5184,246.7733,208.5056 M246.7733,208.5056 C246.7733,213.4927,219.344,210.9992,216.8504,208.5056 M216.8504,208.5056 C214.3568,206.012,226.8247,193.5441,231.8119,193.5441 M231.8119,193.5441 C236.799,193.5441,244.2797,206.012,246.7733,208.5056 M246.7733,208.5056 C249.2669,210.9992,249.2669,208.5056,246.7733,208.5056 M246.7733,208.5056 C244.2797,208.5056,230.4211,208.8547,231.8119,208.5056 M231.8119,208.5056 C233.2027,208.1565,248.9147,209.0789,255.1181,206.4107 M255.1181,206.4107 C261.3215,203.7426,264.3941,194.8157,269.0321,192.4967 M269.0321,192.4967 C273.6701,190.1777,280.6272,190.1777,282.9462,192.4967 M282.9462,192.4967 C285.2652,194.8157,282.9462,204.0917,282.9462,206.4107 M282.9462,206.4107 C282.9462,208.7297,287.5842,211.0487,282.9462,206.4107 M282.9462,206.4107 C278.3082,201.7727,255.1181,180.9017,255.1181,178.5827 M255.1181,178.5827 C255.1181,176.2637,276.5682,186.8448,282.9462,192.4967 M282.9462,192.4967 C289.3241,198.1486,288.8199,211.987,293.3858,212.4939 M293.3858,212.4939 C297.9517,213.0008,304.6896,198.3642,310.3414,195.5383 M310.3414,195.5383 C315.9933,192.7124,327.2971,195.5383,327.2971,195.5383 M327.2971,195.5383 C327.2971,195.5383,313.1674,198.3642,310.3414,195.5383 M310.3414,195.5383 C307.5155,192.7124,307.5155,175.7567,310.3414,178.5827 M310.3414,178.5827 C313.1674,181.4086,324.4711,209.668,327.2971,212.4939 M327.2971,212.4939 C330.123,215.3198,330.123,198.3642,327.2971,195.5383 M327.2971,195.5383 C324.4711,192.7124,310.3414,192.7124,310.3414,195.5383 M310.3414,195.5383 C310.3414,198.3642,321.6854,215.3198,327.2971,212.4939 M327.2971,212.4939 C332.9087,209.668,341.2256,182.1749,344.0113,178.5827 M344.0113,178.5827 C346.797,174.9904,346.071,188.8808,344.0113,190.9405 M344.0113,190.9405 C341.9517,193.0001,329.5939,193.0001,331.6535,190.9405 M331.6535,190.9405 C333.7132,188.8808,352.2499,176.523,356.3691,178.5827 M356.3691,178.5827 C360.4884,180.6423,358.4287,199.179,356.3691,203.2982 M356.3691,203.2982 C354.3095,207.4175,348.1306,207.4175,344.0113,203.2982 M344.0113,203.2982 C339.8921,199.179,331.6535,182.7019,331.6535,178.5827 M331.6535,178.5827 C331.6535,174.4634,335.7927,176.742,344.0113,178.5827 M344.0113,178.5827 C352.23,180.4234,376.647,189.6267,380.9653,189.6267 M380.9653,189.6267 C385.2836,189.6267,369.9213,176.742,369.9213,178.5827 M369.9213,178.5827 C369.9213,180.4234,380.9653,200.6708,380.9653,200.6708 M380.9653,200.6708 C380.9653,200.6708,369.9213,180.4234,369.9213,178.5827 M369.9213,178.5827 C369.9213,176.742,380.9653,189.6267,380.9653,189.6267 M380.9653,189.6267 C380.9653,189.6267,371.7619,178.5827,369.9213,178.5827 M369.9213,178.5827 C368.0806,178.5827,366.2399,187.786,369.9213,189.6267\" fill=\"none\" stroke=\"rgba(0,128,128,1)\" stroke-miterlimit=\"10\"/>\n",
       "<path d=\"M38.2677,229.6063 C36.1417,231.7323,23.3858,227.4803,25.5118,229.6063 M25.5118,229.6063 C27.6378,231.7323,51.0236,240.2362,51.0236,242.3622 M51.0236,242.3622 C51.0236,244.4882,27.6378,246.6142,25.5118,242.3622 M25.5118,242.3622 C23.3858,238.1102,34.0157,218.9764,38.2677,216.8504 M38.2677,216.8504 C42.5197,214.7244,51.0236,225.3543,51.0236,229.6063 M51.0236,229.6063 C51.0236,233.8583,40.3937,244.4882,38.2677,242.3622 M38.2677,242.3622 C36.1417,240.2362,28.8187,218.5038,38.2677,216.8504 M38.2677,216.8504 C47.7167,215.1969,88.1113,229.843,94.9618,232.4415 M94.9618,232.4415 C101.8123,235.0401,79.3707,235.0401,79.3707,232.4415 M79.3707,232.4415 C79.3707,229.843,97.5603,216.8504,94.9618,216.8504 M94.9618,216.8504 C92.3633,216.8504,66.3781,227.2445,63.7795,232.4415 M63.7795,232.4415 C61.181,237.6386,79.3707,248.0327,79.3707,248.0327 M79.3707,248.0327 C79.3707,248.0327,63.7795,235.0401,63.7795,232.4415 M63.7795,232.4415 C63.7795,229.843,74.1736,232.4415,79.3707,232.4415 M79.3707,232.4415 C84.5677,232.4415,92.3633,229.843,94.9618,232.4415 M94.9618,232.4415 C97.5603,235.0401,97.5603,248.0327,94.9618,248.0327 M94.9618,248.0327 C92.3633,248.0327,78.1898,237.6386,79.3707,232.4415 M79.3707,232.4415 C80.5516,227.2445,98.2678,216.9901,102.0472,216.8504 M102.0472,216.8504 C105.8267,216.7107,97.1296,229.1445,102.0472,231.6034 M102.0472,231.6034 C106.9649,234.0622,129.0944,229.1445,131.5532,231.6034 M131.5532,231.6034 C134.012,234.0622,119.259,246.3563,116.8002,246.3563 M116.8002,246.3563 C114.3414,246.3563,114.3414,236.521,116.8002,231.6034 M116.8002,231.6034 C119.259,226.6857,131.5532,219.3092,131.5532,216.8504 M131.5532,216.8504 C131.5532,214.3916,115.3399,216.0333,116.8002,216.8504 M116.8002,216.8504 C118.2605,217.6674,135.5788,220.9357,140.315,221.7527 M140.315,221.7527 C145.0511,222.5698,144.4002,221.7527,145.2173,221.7527 M145.2173,221.7527 C146.0343,221.7527,145.2173,222.1612,145.2173,221.7527 M145.2173,221.7527 C145.2173,221.3442,145.2173,219.3016,145.2173,219.3016 M145.2173,219.3016 C145.2173,219.3016,135.0144,217.5193,145.2173,221.7527 M145.2173,221.7527 C155.4201,225.9862,198.5526,240.8773,206.4345,244.7022 M206.4345,244.7022 C214.3163,248.5271,192.5086,247.0232,192.5086,244.7022 M192.5086,244.7022 C192.5086,242.3812,206.4345,233.0973,206.4345,230.7763 M206.4345,230.7763 C206.4345,228.4553,197.1505,233.0973,192.5086,230.7763 M192.5086,230.7763 C187.8666,228.4553,178.5827,216.8504,178.5827,216.8504 M178.5827,216.8504 C178.5827,216.8504,184.665,229.3107,192.5086,230.7763 M192.5086,230.7763 C200.3521,232.2419,218.6559,227.9651,225.6441,225.6441 M225.6441,225.6441 C232.6324,223.3232,234.4379,216.8504,234.4379,216.8504 M234.4379,216.8504 C234.4379,216.8504,227.1098,225.6441,225.6441,225.6441 M225.6441,225.6441 C224.1785,225.6441,227.1098,215.3848,225.6441,216.8504 M225.6441,216.8504 C224.1785,218.316,216.8504,234.4379,216.8504,234.4379 M216.8504,234.4379 C216.8504,234.4379,224.1785,216.8504,225.6441,216.8504 M225.6441,216.8504 C227.1098,216.8504,227.1098,234.4379,225.6441,234.4379 M225.6441,234.4379 C224.1785,234.4379,211.9381,215.3889,216.8504,216.8504 M216.8504,216.8504 C221.7627,218.3119,244.3474,238.814,255.1181,243.2068 M255.1181,243.2068 C265.8888,247.5995,277.0817,243.2068,281.4745,243.2068 M281.4745,243.2068 C285.8672,243.2068,281.4745,245.4031,281.4745,243.2068 M281.4745,243.2068 C281.4745,241.0104,281.4745,230.0286,281.4745,230.0286 M281.4745,230.0286 C281.4745,230.0286,276.6561,245.4031,281.4745,243.2068 M281.4745,243.2068 C286.2929,241.0104,308.3996,215.5768,310.3849,216.8504 M310.3849,216.8504 C312.3701,218.124,290.5527,248.0153,293.3858,250.8485 M293.3858,250.8485 C296.219,253.6817,324.5507,236.6826,327.3839,233.8494 M327.3839,233.8494 C330.2171,231.0163,310.3849,233.8494,310.3849,233.8494 M310.3849,233.8494 C310.3849,233.8494,330.2171,231.0163,327.3839,233.8494 M327.3839,233.8494 C324.5507,236.6826,296.219,253.6817,293.3858,250.8485 M293.3858,250.8485 C290.5527,248.0153,300.9014,220.964,310.3849,216.8504 M310.3849,216.8504 C319.8684,212.7368,345.1893,223.0615,350.2868,226.167 M350.2868,226.167 C355.3844,229.2726,344.0757,237.0365,340.9702,235.4837 M340.9702,235.4837 C337.8646,233.9309,333.2063,216.8504,331.6535,216.8504 M331.6535,216.8504 C330.1008,216.8504,328.548,232.3781,331.6535,235.4837 M331.6535,235.4837 C334.7591,238.5892,348.7341,238.5892,350.2868,235.4837 M350.2868,235.4837 C351.8396,232.3781,340.9702,219.9559,340.9702,216.8504 M340.9702,216.8504 C340.9702,213.7448,351.8396,216.8504,350.2868,216.8504 M350.2868,216.8504 C348.7341,216.8504,334.7591,213.7448,331.6535,216.8504 M331.6535,216.8504 C328.548,219.9559,323.3578,235.4837,331.6535,235.4837 M331.6535,235.4837 C339.9492,235.4837,375.0498,216.1204,381.4278,216.8504 M381.4278,216.8504 C387.8057,217.5804,368.0035,237.9457,369.9213,239.8634 M369.9213,239.8634 C371.839,241.7812,391.0165,230.2747,392.9343,228.3569 M392.9343,228.3569 C394.8521,226.4392,381.4278,228.3569,381.4278,228.3569 M381.4278,228.3569 C381.4278,228.3569,394.8521,226.4392,392.9343,228.3569 M392.9343,228.3569 C391.0165,230.2747,371.839,241.7812,369.9213,239.8634\" fill=\"none\" stroke=\"rgba(0,128,128,1)\" stroke-miterlimit=\"10\"/>\n",
       "<path d=\"M38.2677,267.874 C42.5197,265.748,51.0236,267.874,51.0236,267.874 M51.0236,267.874 C51.0236,267.874,40.3937,270,38.2677,267.874 M38.2677,267.874 C36.1417,265.748,36.1417,252.9921,38.2677,255.1181 M38.2677,255.1181 C40.3937,257.2441,48.8976,278.5039,51.0236,280.6299 M51.0236,280.6299 C53.1496,282.7559,53.1496,270,51.0236,267.874 M51.0236,267.874 C48.8976,265.748,38.2677,265.748,38.2677,267.874 M38.2677,267.874 C38.2677,270,41.8031,280.2716,51.0236,280.6299 M51.0236,280.6299 C60.2441,280.9882,91.4647,271.7914,93.5907,270.0237 M93.5907,270.0237 C95.7167,268.256,66.2638,267.5394,63.7795,270.0237 M63.7795,270.0237 C61.2953,272.508,78.6851,287.4135,78.6851,284.9293 M78.6851,284.9293 C78.6851,282.445,63.7795,257.6024,63.7795,255.1181 M63.7795,255.1181 C63.7795,252.6338,78.6851,265.0552,78.6851,270.0237 M78.6851,270.0237 C78.6851,274.9922,63.7795,282.445,63.7795,284.9293 M63.7795,284.9293 C63.7795,287.4135,78.6851,289.8978,78.6851,284.9293 M78.6851,284.9293 C78.6851,279.9608,55.7142,258.0008,63.7795,255.1181 M63.7795,255.1181 C71.8449,252.2354,118.6136,263.4615,127.0774,267.6332 M127.0774,267.6332 C135.5412,271.8049,118.734,282.2341,114.5623,280.1482 M114.5623,280.1482 C110.3906,278.0624,104.1331,255.1181,102.0472,255.1181 M102.0472,255.1181 C99.9614,255.1181,97.8756,275.9765,102.0472,280.1482 M102.0472,280.1482 C106.2189,284.3199,124.9915,284.3199,127.0774,280.1482 M127.0774,280.1482 C129.1632,275.9765,114.5623,259.2898,114.5623,255.1181 M114.5623,255.1181 C114.5623,250.9464,129.1632,255.1181,127.0774,255.1181 M127.0774,255.1181 C124.9915,255.1181,106.2189,250.9464,102.0472,255.1181 M102.0472,255.1181 C97.8756,259.2898,95.6693,280.1482,102.0472,280.1482 M102.0472,280.1482 C108.4252,280.1482,132.4688,259.2898,140.315,255.1181 M140.315,255.1181 C148.1611,250.9464,146.1877,253.6499,149.1241,255.1181 M149.1241,255.1181 C152.0605,256.5863,157.9332,260.9909,157.9332,263.9272 M157.9332,263.9272 C157.9332,266.8636,150.5923,271.2682,149.1241,272.7364 M149.1241,272.7364 C147.6559,274.2045,150.5923,275.6727,149.1241,272.7364 M149.1241,272.7364 C147.6559,269.8,141.7831,256.5863,140.315,255.1181 M140.315,255.1181 C138.8468,253.6499,138.8468,262.459,140.315,263.9272 M140.315,263.9272 C141.7831,265.3954,146.1877,265.3954,149.1241,263.9272 M149.1241,263.9272 C152.0605,262.459,157.9332,253.6499,157.9332,255.1181 M157.9332,255.1181 C157.9332,256.5863,143.0511,270.1049,149.1241,272.7364 M149.1241,272.7364 C155.1971,275.3678,189.4615,271.2117,194.3713,270.9067 M194.3713,270.9067 C199.2811,270.6018,175.9512,273.5382,178.5827,270.9067 M178.5827,270.9067 C181.2141,268.2753,210.1599,255.1181,210.1599,255.1181 M210.1599,255.1181 C210.1599,255.1181,183.8456,265.6439,178.5827,270.9067 M178.5827,270.9067 C173.3198,276.1696,178.5827,289.3268,178.5827,286.6954 M178.5827,286.6954 C178.5827,284.0639,169.7015,257.8777,178.5827,255.1181 M178.5827,255.1181 C187.4639,252.3585,220.4855,270.1376,231.8699,270.1376 M231.8699,270.1376 C243.2544,270.1376,246.8894,255.1181,246.8894,255.1181 M246.8894,255.1181 C246.8894,255.1181,234.3732,270.1376,231.8699,270.1376 M231.8699,270.1376 C229.3667,270.1376,234.3732,252.6149,231.8699,255.1181 M231.8699,255.1181 C229.3667,257.6214,216.8504,285.1571,216.8504,285.1571 M216.8504,285.1571 C216.8504,285.1571,229.3667,255.1181,231.8699,255.1181 M231.8699,255.1181 C234.3732,255.1181,234.3732,285.1571,231.8699,285.1571 M231.8699,285.1571 C229.3667,285.1571,212.9757,260.1246,216.8504,255.1181 M216.8504,255.1181 C220.7251,250.1116,248.7402,253.7061,255.1181,255.1181 M255.1181,255.1181 C261.4961,256.5302,252.294,262.1784,255.1181,263.5905 M255.1181,263.5905 C257.9422,265.0025,270.6507,262.1784,272.0628,263.5905 M272.0628,263.5905 C273.4748,265.0025,265.0025,272.0628,263.5905,272.0628 M263.5905,272.0628 C262.1784,272.0628,262.1784,266.4146,263.5905,263.5905 M263.5905,263.5905 C265.0025,260.7663,272.0628,256.5302,272.0628,255.1181 M272.0628,255.1181 C272.0628,253.7061,257.8818,252.9633,263.5905,255.1181 M263.5905,255.1181 C269.2991,257.2729,301.3487,265.8921,306.3146,268.0469 M306.3146,268.0469 C311.2805,270.2017,291.231,270.2017,293.3858,268.0469 M293.3858,268.0469 C295.5406,265.8921,319.2435,255.1181,319.2435,255.1181 M319.2435,255.1181 C319.2435,255.1181,297.6954,263.7373,293.3858,268.0469 M293.3858,268.0469 C289.0762,272.3565,293.3858,283.1305,293.3858,280.9757 M293.3858,280.9757 C293.3858,278.8209,287.0079,259.4277,293.3858,255.1181 M293.3858,255.1181 C299.7638,250.8085,323.0151,255.1181,331.6535,255.1181 M331.6535,255.1181 C340.292,255.1181,340.6957,252.8576,345.2167,255.1181 M345.2167,255.1181 C349.7378,257.3786,358.7799,264.1602,358.7799,268.6813 M358.7799,268.6813 C358.7799,273.2024,347.4773,279.9839,345.2167,282.2445 M345.2167,282.2445 C342.9562,284.505,347.4773,286.7655,345.2167,282.2445 M345.2167,282.2445 C342.9562,277.7234,333.9141,257.3786,331.6535,255.1181 M331.6535,255.1181 C329.393,252.8576,329.393,266.4208,331.6535,268.6813 M331.6535,268.6813 C333.9141,270.9418,340.6957,270.9418,345.2167,268.6813 M345.2167,268.6813 C349.7378,266.4208,358.7799,252.8576,358.7799,255.1181 M358.7799,255.1181 C358.7799,257.3786,340.6956,280.9124,345.2167,282.2445 M345.2167,282.2445 C349.7378,283.5766,380.4569,266.2997,385.9065,263.1107 M385.9065,263.1107 C391.356,259.9217,377.9139,264.4428,377.9139,263.1107 M377.9139,263.1107 C377.9139,261.7786,387.2386,255.1181,385.9065,255.1181 M385.9065,255.1181 C384.5744,255.1181,371.2534,260.4465,369.9213,263.1107 M369.9213,263.1107 C368.5892,265.7749,377.9139,271.1033,377.9139,271.1033 M377.9139,271.1033 C377.9139,271.1033,369.9213,264.4428,369.9213,263.1107 M369.9213,263.1107 C369.9213,261.7786,375.2497,263.1107,377.9139,263.1107 M377.9139,263.1107 C380.5781,263.1107,384.5744,261.7786,385.9065,263.1107 M385.9065,263.1107 C387.2386,264.4428,387.2386,271.1033,385.9065,271.1033\" fill=\"none\" stroke=\"rgba(0,128,128,1)\" stroke-miterlimit=\"10\"/>\n",
       "<path d=\"M51.0236,306.1417 C48.8976,308.2677,25.5118,321.0236,25.5118,318.8976 M25.5118,318.8976 C25.5118,316.7717,48.8976,293.3858,51.0236,293.3858 M51.0236,293.3858 C53.1496,293.3858,30.3856,316.0196,38.2677,318.8976 M38.2677,318.8976 C46.1498,321.7757,94.0641,314.9061,98.3161,310.6541 M98.3161,310.6541 C102.568,306.4021,69.5356,290.5078,63.7795,293.3858 M63.7795,293.3858 C58.0234,296.2639,60.9015,327.9224,63.7795,327.9224 M63.7795,327.9224 C66.6576,327.9224,81.0478,296.2639,81.0478,293.3858 M81.0478,293.3858 C81.0478,290.5078,63.7795,304.898,63.7795,310.6541 M63.7795,310.6541 C63.7795,316.4102,75.2917,327.9224,81.0478,327.9224 M81.0478,327.9224 C86.8039,327.9224,94.8162,316.4102,98.3161,310.6541 M98.3161,310.6541 C101.816,304.898,98.6282,290.6695,102.0472,293.3858 M102.0472,293.3858 C105.4663,296.1021,118.8302,326.9518,118.8302,326.9518 M118.8302,326.9518 C118.8302,326.9518,99.2501,293.3858,102.0472,293.3858 M102.0472,293.3858 C104.8444,293.3858,132.816,321.3574,135.6132,326.9518 M135.6132,326.9518 C138.4103,332.5461,121.6274,326.9518,118.8302,326.9518 M118.8302,326.9518 C116.033,326.9518,121.6274,329.7489,118.8302,326.9518 M118.8302,326.9518 C116.033,324.1546,95.3843,314.2221,102.0472,310.1688 M102.0472,310.1688 C108.7101,306.1155,150.8886,305.4293,158.8076,302.6322 M158.8076,302.6322 C166.7266,299.835,152.6434,294.9269,149.5613,293.3858 M149.5613,293.3858 C146.4792,291.8448,141.856,290.3037,140.315,293.3858 M140.315,293.3858 C138.7739,296.4679,138.7739,308.7964,140.315,311.8785 M140.315,311.8785 C141.856,314.9606,149.5613,313.4196,149.5613,311.8785 M149.5613,311.8785 C149.5613,310.3374,141.856,304.1732,140.315,302.6322 M140.315,302.6322 C138.7739,301.0911,138.7739,304.1732,140.315,302.6322 M140.315,302.6322 C141.856,301.0911,146.4792,294.9269,149.5613,293.3858 M149.5613,293.3858 C152.6434,291.8448,157.2666,290.3037,158.8076,293.3858 M158.8076,293.3858 C160.3487,296.4679,153.7068,310.0735,158.8076,311.8785 M158.8076,311.8785 C163.9085,313.6835,182.5068,305.4929,189.4127,304.2158 M189.4127,304.2158 C196.3185,302.9387,202.0477,302.4108,200.2427,304.2158 M200.2427,304.2158 C198.4377,306.0208,178.5827,316.8508,178.5827,315.0458 M178.5827,315.0458 C178.5827,313.2408,198.4377,293.3858,200.2427,293.3858 M200.2427,293.3858 C202.0477,293.3858,184.7192,313.1203,189.4127,315.0458 M189.4127,315.0458 C194.1062,316.9714,223.8308,306.6236,228.4037,304.9391 M228.4037,304.9391 C232.9767,303.2547,214.9248,306.8647,216.8504,304.9391 M216.8504,304.9391 C218.7759,303.0136,239.957,293.3858,239.957,293.3858 M239.957,293.3858 C239.957,293.3858,220.7015,301.088,216.8504,304.9391 M216.8504,304.9391 C212.9993,308.7903,216.8504,318.418,216.8504,316.4925 M216.8504,316.4925 C216.8504,314.5669,210.4724,297.2369,216.8504,293.3858 M216.8504,293.3858 C223.2283,289.5347,246.2423,288.3901,255.1181,293.3858 M255.1181,293.3858 C263.9939,298.3816,270.1054,323.3604,270.1054,323.3604 M270.1054,323.3604 C270.1054,323.3604,252.6202,293.3858,255.1181,293.3858 M255.1181,293.3858 C257.616,293.3858,282.5948,318.3647,285.0927,323.3604 M285.0927,323.3604 C287.5906,328.3562,272.6033,323.3604,270.1054,323.3604 M270.1054,323.3604 C267.6075,323.3604,272.6033,325.8583,270.1054,323.3604 M270.1054,323.3604 C267.6075,320.8625,248.6447,310.7756,255.1181,308.3731 M255.1181,308.3731 C261.5915,305.9707,299.9745,308.8503,308.9457,308.9457 M308.9457,308.9457 C317.917,309.0412,311.5391,311.5391,308.9457,308.9457 M308.9457,308.9457 C306.3524,306.3524,290.7925,295.9791,293.3858,293.3858 M293.3858,293.3858 C295.9791,290.7925,314.2953,291.4696,324.5056,293.3858 M324.5056,293.3858 C334.716,295.302,353.4566,302.9668,354.6479,304.883 M354.6479,304.883 C355.8393,306.7992,333.5697,302.9668,331.6535,304.883 M331.6535,304.883 C329.7373,306.7992,343.1507,318.2964,343.1507,316.3802 M343.1507,316.3802 C343.1507,314.464,331.6535,295.302,331.6535,293.3858 M331.6535,293.3858 C331.6535,291.4696,343.1507,301.0506,343.1507,304.883 M343.1507,304.883 C343.1507,308.7154,331.6535,314.464,331.6535,316.3802 M331.6535,316.3802 C331.6535,318.2964,343.1507,320.2126,343.1507,316.3802 M343.1507,316.3802 C343.1507,312.5478,322.9123,295.0785,331.6535,293.3858 M331.6535,293.3858 C340.3948,291.6932,387.0806,304.0846,395.5983,306.2243 M395.5983,306.2243 C404.116,308.3641,382.7598,308.3641,382.7598,306.2243 M382.7598,306.2243 C382.7598,304.0846,397.7381,293.3858,395.5983,293.3858 M395.5983,293.3858 C393.4585,293.3858,372.061,301.9448,369.9213,306.2243 M369.9213,306.2243 C367.7815,310.5039,382.7598,319.0629,382.7598,319.0629 M382.7598,319.0629 C382.7598,319.0629,369.9213,308.3641,369.9213,306.2243 M369.9213,306.2243 C369.9213,304.0846,378.4803,306.2243,382.7598,306.2243 M382.7598,306.2243 C387.0393,306.2243,393.4585,304.0846,395.5983,306.2243 M395.5983,306.2243 C397.7381,308.3641,397.7381,319.0629,395.5983,319.0629\" fill=\"none\" stroke=\"rgba(0,128,128,1)\" stroke-miterlimit=\"10\"/>\n",
       "<path d=\"M38.2677,344.4094 C42.5197,342.2835,51.0236,344.4094,51.0236,344.4094 M51.0236,344.4094 C51.0236,344.4094,40.3937,346.5354,38.2677,344.4094 M38.2677,344.4094 C36.1417,342.2835,36.1417,329.5276,38.2677,331.6535 M38.2677,331.6535 C40.3937,333.7795,48.8976,355.0394,51.0236,357.1654 M51.0236,357.1654 C53.1496,359.2913,53.1496,346.5354,51.0236,344.4094 M51.0236,344.4094 C48.8976,342.2835,38.2677,342.2835,38.2677,344.4094 M38.2677,344.4094 C38.2677,346.5354,45.258,357.7777,51.0236,357.1654 M51.0236,357.1654 C56.7893,356.553,70.7355,344.9875,72.8615,340.7355 M72.8615,340.7355 C74.9875,336.4835,63.7795,330.1399,63.7795,331.6535 M63.7795,331.6535 C63.7795,333.1672,72.8615,349.8175,72.8615,349.8175 M72.8615,349.8175 C72.8615,349.8175,63.7795,333.1672,63.7795,331.6535 M63.7795,331.6535 C63.7795,330.1399,72.8615,340.7355,72.8615,340.7355 M72.8615,340.7355 C72.8615,340.7355,65.2932,331.6535,63.7795,331.6535 M63.7795,331.6535 C62.2659,331.6535,60.7522,339.2218,63.7795,340.7355 M63.7795,340.7355 C66.8068,342.2492,75.5655,342.2492,81.9435,340.7355 M81.9435,340.7355 C88.3214,339.2218,98.6966,331.0931,102.0472,331.6535 M102.0472,331.6535 C105.3979,332.214,97.899,342.0243,102.0472,344.0984 M102.0472,344.0984 C106.1955,346.1726,124.8628,342.0243,126.937,344.0984 M126.937,344.0984 C129.0111,346.1726,116.5663,356.5433,114.4921,356.5433 M114.4921,356.5433 C112.418,356.5433,112.418,348.2467,114.4921,344.0984 M114.4921,344.0984 C116.5663,339.9501,126.937,333.7277,126.937,331.6535 M126.937,331.6535 C126.937,329.5794,112.2624,327.0683,114.4921,331.6535 M114.4921,331.6535 C116.7218,336.2388,136.0112,359.1649,140.315,359.1649 M140.315,359.1649 C144.6188,359.1649,135.7297,331.6535,140.315,331.6535 M140.315,331.6535 C144.9002,331.6535,163.2411,359.1649,167.8263,359.1649 M167.8263,359.1649 C172.4115,359.1649,163.5897,333.7948,167.8263,331.6535 M167.8263,331.6535 C172.0629,329.5122,191.4535,346.3171,193.2462,346.3171 M193.2462,346.3171 C195.0389,346.3171,178.5827,329.2096,178.5827,331.6535 M178.5827,331.6535 C178.5827,334.0975,193.2462,360.9806,193.2462,360.9806 M193.2462,360.9806 C193.2462,360.9806,178.5827,334.0975,178.5827,331.6535 M178.5827,331.6535 C178.5827,329.2096,193.2462,346.3171,193.2462,346.3171 M193.2462,346.3171 C193.2462,346.3171,181.0266,331.6535,178.5827,331.6535 M178.5827,331.6535 C176.1388,331.6535,173.6948,343.8731,178.5827,346.3171 M178.5827,346.3171 C183.4705,348.761,201.5317,345.7607,207.9097,346.3171 M207.9097,346.3171 C214.2877,346.8734,212.36,349.099,216.8504,349.6554 M216.8504,349.6554 C221.3408,350.2118,231.852,351.1556,234.8523,349.6554 M234.8523,349.6554 C237.8526,348.1553,237.8526,342.1546,234.8523,340.6545 M234.8523,340.6545 C231.852,339.1543,216.8504,342.1546,216.8504,340.6545 M216.8504,340.6545 C216.8504,339.1543,233.3521,333.1537,234.8523,331.6535 M234.8523,331.6535 C236.3524,330.1534,227.3515,328.6532,225.8513,331.6535 M225.8513,331.6535 C224.3512,334.6539,224.3512,346.6551,225.8513,349.6554 M225.8513,349.6554 C227.3515,352.6557,225.3443,350.3406,234.8523,349.6554 M234.8523,349.6554 C244.3602,348.9702,279.5215,348.5444,282.8992,345.5441 M282.8992,345.5441 C286.2768,342.5438,259.7483,329.3385,255.1181,331.6535 M255.1181,331.6535 C250.4879,333.9686,252.803,359.4346,255.1181,359.4346 M255.1181,359.4346 C257.4332,359.4346,269.0086,333.9686,269.0086,331.6535 M269.0086,331.6535 C269.0086,329.3385,255.1181,340.9139,255.1181,345.5441 M255.1181,345.5441 C255.1181,350.1742,264.3785,359.4346,269.0086,359.4346 M269.0086,359.4346 C273.6388,359.4346,278.8363,346.2537,282.8992,345.5441 M282.8992,345.5441 C286.962,344.8345,289.6778,355.5319,293.3858,355.1771 M293.3858,355.1771 C297.0939,354.8223,301.227,345.3756,305.1476,343.4153 M305.1476,343.4153 C309.0682,341.455,316.9093,343.4153,316.9093,343.4153 M316.9093,343.4153 C316.9093,343.4153,307.1079,345.3756,305.1476,343.4153 M305.1476,343.4153 C303.1873,341.455,303.1873,329.6933,305.1476,331.6535 M305.1476,331.6535 C307.1079,333.6138,314.949,353.2168,316.9093,355.1771 M316.9093,355.1771 C318.8696,357.1373,318.8696,345.3756,316.9093,343.4153 M316.9093,343.4153 C314.949,341.455,305.1476,341.455,305.1476,343.4153 M305.1476,343.4153 C305.1476,345.3756,307.8162,352.4619,316.9093,355.1771 M316.9093,355.1771 C326.0024,357.8922,354.9111,358.9514,359.7062,359.7062 M359.7062,359.7062 C364.5013,360.4611,345.6799,362.0439,345.6799,359.7062 M345.6799,359.7062 C345.6799,357.3685,359.7062,348.0176,359.7062,345.6799 M359.7062,345.6799 C359.7062,343.3422,350.3553,348.0176,345.6799,345.6799 M345.6799,345.6799 C341.0044,343.3422,331.6535,331.6535,331.6535,331.6535 M331.6535,331.6535 C331.6535,331.6535,339.3019,343.4549,345.6799,345.6799 M345.6799,345.6799 C352.0578,347.9049,365.881,347.3412,369.9213,345.0035 M369.9213,345.0035 C373.9615,342.6658,367.6963,331.6535,369.9213,331.6535 M369.9213,331.6535 C372.1463,331.6535,383.2712,342.7785,383.2712,345.0035 M383.2712,345.0035 C383.2712,347.2285,367.6963,347.2285,369.9213,345.0035 M369.9213,345.0035 C372.1463,342.7785,396.6211,331.6535,396.6211,331.6535 M396.6211,331.6535 C396.6211,331.6535,369.9213,340.5535,369.9213,345.0035 M369.9213,345.0035 C369.9213,349.4535,394.3962,360.5784,396.6211,358.3534\" fill=\"none\" stroke=\"rgba(0,128,128,1)\" stroke-miterlimit=\"10\"/>\n",
       "<path d=\"M38.2677,382.6772 C38.2677,380.5512,53.1496,369.9213,51.0236,369.9213 M51.0236,369.9213 C48.8976,369.9213,27.6378,378.4252,25.5118,382.6772 M25.5118,382.6772 C23.3858,386.9291,38.2677,395.4331,38.2677,395.4331 M38.2677,395.4331 C38.2677,395.4331,25.5118,384.8031,25.5118,382.6772 M25.5118,382.6772 C25.5118,380.5512,34.0157,382.6772,38.2677,382.6772 M38.2677,382.6772 C42.5197,382.6772,48.8976,380.5512,51.0236,382.6772 M51.0236,382.6772 C53.1496,384.8031,53.1496,395.4331,51.0236,395.4331 M51.0236,395.4331 C48.8976,395.4331,34.383,385.1704,38.2677,382.6772 M38.2677,382.6772 C42.1525,380.184,66.5626,380.841,74.3321,380.4738 M74.3321,380.4738 C82.1015,380.1066,83.1258,378.715,84.8846,380.4738 M84.8846,380.4738 C86.6434,382.2325,88.4021,392.7851,84.8846,391.0263 M84.8846,391.0263 C81.3671,389.2676,65.5383,373.4388,63.7795,369.9213 M63.7795,369.9213 C62.0208,366.4037,72.5733,366.4037,74.3321,369.9213 M74.3321,369.9213 C76.0908,373.4388,76.0908,387.5088,74.3321,391.0263 M74.3321,391.0263 C72.5733,394.5438,63.7795,392.7851,63.7795,391.0263 M63.7795,391.0263 C63.7795,389.2676,74.3321,382.2325,74.3321,380.4738 M74.3321,380.4738 C74.3321,378.715,52.3739,378.8394,63.7795,380.4738 M63.7795,380.4738 C75.1851,382.1082,136.3877,388.646,142.7656,390.2805 M142.7656,390.2805 C149.1436,391.9149,105.4404,390.2805,102.0472,390.2805 M102.0472,390.2805 C98.654,390.2805,115.62,390.2805,122.4064,390.2805 M122.4064,390.2805 C129.1928,390.2805,142.7656,386.8873,142.7656,390.2805 M142.7656,390.2805 C142.7656,393.6737,122.4064,410.6396,122.4064,410.6396 M122.4064,410.6396 C122.4064,410.6396,146.1588,393.6737,142.7656,390.2805 M142.7656,390.2805 C139.3724,386.8873,99.0636,391.9776,102.0472,390.2805 M102.0472,390.2805 C105.0309,388.5833,154.2896,381.7947,160.6675,380.0975 M160.6675,380.0975 C167.0455,378.4004,142.011,380.0975,140.315,380.0975 M140.315,380.0975 C138.6189,380.0975,147.0991,380.0975,150.4912,380.0975 M150.4912,380.0975 C153.8833,380.0975,160.6675,378.4015,160.6675,380.0975 M160.6675,380.0975 C160.6675,381.7936,150.4912,390.2738,150.4912,390.2738 M150.4912,390.2738 C150.4912,390.2738,162.3636,381.7936,160.6675,380.0975 M160.6675,380.0975 C158.9715,378.4015,132.6512,379.4546,140.315,380.0975 M140.315,380.0975 C147.9787,380.7405,197.9332,383.3121,206.6501,383.955 M206.6501,383.955 C215.3671,384.5979,192.6164,386.294,192.6164,383.955 M192.6164,383.955 C192.6164,381.616,208.9891,369.9213,206.6501,369.9213 M206.6501,369.9213 C204.3112,369.9213,180.9216,379.2771,178.5827,383.955 M178.5827,383.955 C176.2437,388.6329,192.6164,397.9887,192.6164,397.9887 M192.6164,397.9887 C192.6164,397.9887,178.5827,386.294,178.5827,383.955 M178.5827,383.955 C178.5827,381.616,187.9385,383.955,192.6164,383.955 M192.6164,383.955 C197.2943,383.955,204.3112,381.616,206.6501,383.955 M206.6501,383.955 C208.9891,386.294,208.9891,397.9887,206.6501,397.9887 M206.6501,397.9887 C204.3112,397.9887,189.0066,386.7232,192.6164,383.955 M192.6164,383.955 C196.2262,381.1868,220.4504,381.8089,228.3089,381.3797 M228.3089,381.3797 C236.1673,380.9505,237.8576,379.47,239.7673,381.3797 M239.7673,381.3797 C241.6771,383.2895,243.5868,394.7479,239.7673,392.8382 M239.7673,392.8382 C235.9478,390.9285,218.7601,373.7407,216.8504,369.9213 M216.8504,369.9213 C214.9406,366.1018,226.3991,366.1018,228.3089,369.9213 M228.3089,369.9213 C230.2186,373.7407,230.2186,389.0187,228.3089,392.8382 M228.3089,392.8382 C226.3991,396.6577,216.8504,394.7479,216.8504,392.8382 M216.8504,392.8382 C216.8504,390.9285,228.3089,383.2895,228.3089,381.3797 M228.3089,381.3797 C228.3089,379.47,210.2455,381.1528,216.8504,381.3797 M216.8504,381.3797 C223.4553,381.6066,261.5601,384.6509,267.938,382.7412 M267.938,382.7412 C274.316,380.8314,255.1181,367.7846,255.1181,369.9213 M255.1181,369.9213 C255.1181,372.0579,267.938,395.5611,267.938,395.5611 M267.938,395.5611 C267.938,395.5611,255.1181,372.0579,255.1181,369.9213 M255.1181,369.9213 C255.1181,367.7846,267.938,382.7412,267.938,382.7412 M267.938,382.7412 C267.938,382.7412,257.2548,369.9213,255.1181,369.9213 M255.1181,369.9213 C252.9815,369.9213,250.8448,380.6045,255.1181,382.7412 M255.1181,382.7412 C259.3914,384.8778,269.9297,382.6527,280.7579,382.7412 M280.7579,382.7412 C291.5862,382.8297,317.983,383.1837,320.0876,383.2722 M320.0876,383.2722 C322.1923,383.3607,295.611,381.047,293.3858,383.2722 M293.3858,383.2722 C291.1607,385.4973,306.7367,398.8482,306.7367,396.6231 M306.7367,396.6231 C306.7367,394.3979,293.3858,372.1464,293.3858,369.9213 M293.3858,369.9213 C293.3858,367.6961,306.7367,378.8219,306.7367,383.2722 M306.7367,383.2722 C306.7367,387.7225,293.3858,394.3979,293.3858,396.6231 M293.3858,396.6231 C293.3858,398.8482,306.7367,401.0734,306.7367,396.6231 M306.7367,396.6231 C306.7367,392.1728,283.4503,371.4802,293.3858,369.9213 M293.3858,369.9213 C303.3214,368.3623,359.9722,384.3782,366.3501,387.2696 M366.3501,387.2696 C372.7281,390.1609,334.5449,387.2696,331.6535,387.2696 M331.6535,387.2696 C328.7622,387.2696,343.2191,387.2696,349.0018,387.2696 M349.0018,387.2696 C354.7846,387.2696,366.3501,384.3782,366.3501,387.2696 M366.3501,387.2696 C366.3501,390.1609,349.0018,404.6179,349.0018,404.6179 M349.0018,404.6179 C349.0018,404.6179,369.2415,390.1609,366.3501,387.2696 M366.3501,387.2696 C363.4588,384.3782,331.0584,385.2169,331.6535,387.2696 M331.6535,387.2696 C332.2487,389.3222,361.0713,400.0049,369.9213,399.5856 M369.9213,399.5856 C378.7712,399.1662,379.8094,387.2254,384.7534,384.7534 M384.7534,384.7534 C389.6975,382.2814,399.5856,384.7534,399.5856,384.7534 M399.5856,384.7534 C399.5856,384.7534,387.2254,387.2254,384.7534,384.7534 M384.7534,384.7534 C382.2814,382.2814,382.2814,367.4492,384.7534,369.9213 M384.7534,369.9213 C387.2254,372.3933,397.1135,397.1135,399.5856,399.5856 M399.5856,399.5856 C402.0576,402.0576,402.0576,387.2254,399.5856,384.7534 M399.5856,384.7534 C397.1135,382.2814,384.7534,382.2814,384.7534,384.7534\" fill=\"none\" stroke=\"rgba(0,128,128,1)\" stroke-miterlimit=\"10\"/>\n",
       "</svg>"
      ],
      "text/plain": [
       "<IPython.core.display.SVG object>"
      ]
     },
     "metadata": {},
     "output_type": "display_data"
    }
   ],
   "source": [
    "d = document(150, 150, 'mm')\n",
    "page = d.addpage()\n",
    "line_fig = shape().stroke(rgba(128, 0, 128, 255)).nofill()\n",
    "curve_fig = shape().stroke(rgba(0, 128, 128, 255)).nofill()\n",
    "for row in range(10):\n",
    "    line = choice(chars)\n",
    "    for col in range(1, 10):\n",
    "        # scale(normal(...)) adds a bit of size variation to the glyphs\n",
    "        line += choice(chars).scale(normal(1, 0.25)).translate(col*1.5, 0)\n",
    "    # translate the row to the right place on the screen and make it bigger\n",
    "    line = line.translate(1, 1+row*1.5).scale(9)\n",
    "    smooth = line.smooth_path()\n",
    "    #page.place(line_fig.polyline(line)) # uncomment to see original polylines\n",
    "    page.place(curve_fig.path(smooth))\n",
    "show(page)"
   ]
  },
  {
   "cell_type": "code",
   "execution_count": null,
   "metadata": {},
   "outputs": [],
   "source": []
  }
 ],
 "metadata": {
  "kernelspec": {
   "display_name": "Python 3 (ipykernel)",
   "language": "python",
   "name": "python3"
  },
  "language_info": {
   "codemirror_mode": {
    "name": "ipython",
    "version": 3
   },
   "file_extension": ".py",
   "mimetype": "text/x-python",
   "name": "python",
   "nbconvert_exporter": "python",
   "pygments_lexer": "ipython3",
   "version": "3.8.7"
  }
 },
 "nbformat": 4,
 "nbformat_minor": 2
}
