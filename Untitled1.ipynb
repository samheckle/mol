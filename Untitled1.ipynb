{
 "cells": [
  {
   "cell_type": "code",
   "execution_count": 1,
   "metadata": {},
   "outputs": [
    {
     "name": "stderr",
     "output_type": "stream",
     "text": [
      "Failed to connect to AxiDraw.\n"
     ]
    },
    {
     "data": {
      "text/plain": [
       "False"
      ]
     },
     "execution_count": 1,
     "metadata": {},
     "output_type": "execute_result"
    }
   ],
   "source": [
    "from pyaxidraw import axidraw\n",
    "ad = axidraw.AxiDraw()\n",
    "ad.interactive()\n",
    "ad.connect()\n",
    "\n",
    "# ad.moveto(1,3)\n",
    "# ad.lineto(2,1)\n",
    "# ad.moveto(0,0)\n",
    "# ad.disconnect()"
   ]
  },
  {
   "cell_type": "code",
   "execution_count": 2,
   "metadata": {},
   "outputs": [],
   "source": [
    "arr = [[197.0, -87.0],\n",
    " [202, -62],\n",
    " [161, -61],\n",
    " [135, -56],\n",
    " [117, -42],\n",
    " [132, 8],\n",
    " [140, 18],\n",
    " [146, 29],\n",
    " [130, 48],\n",
    " [99, 26],\n",
    " [92.5, 10.0],\n",
    " [80, -19],\n",
    " [68.0, -46.0],\n",
    " [59, -62],\n",
    " [48.5, -74.5],\n",
    " [24, -100],\n",
    " [-7, -132],\n",
    " [21, -163],\n",
    " [21, -183],\n",
    " [28, -201],\n",
    " [28, -365],\n",
    " [14, -443],\n",
    " [14, -469],\n",
    " [78, -508],\n",
    " [82.0, -520.5],\n",
    " [86.5, -535.5],\n",
    " [92.0, -549.0],\n",
    " [98, -556],\n",
    " [160, -499],\n",
    " [191, -432],\n",
    " [167.0, -438.5],\n",
    " [153, -446],\n",
    " [131, -421],\n",
    " [120, -385],\n",
    " [109, -269],\n",
    " [122, -167],\n",
    " [121.0, -159.0],\n",
    " [120, -154],\n",
    " [145, -142],\n",
    " [163, -147],\n",
    " [191, -112],\n",
    " [197.0, -87.0]]"
   ]
  },
  {
   "cell_type": "code",
   "execution_count": 3,
   "metadata": {},
   "outputs": [
    {
     "name": "stdout",
     "output_type": "stream",
     "text": [
      "[[197.0, -87.0], [202, -62], [161, -61], [135, -56], [117, -42], [132, 8], [140, 18], [146, 29], [130, 48], [99, 26], [92.5, 10.0], [80, -19], [68.0, -46.0], [59, -62], [48.5, -74.5], [24, -100], [-7, -132], [21, -163], [21, -183], [28, -201], [28, -365], [14, -443], [14, -469], [78, -508], [82.0, -520.5], [86.5, -535.5], [92.0, -549.0], [98, -556], [160, -499], [191, -432], [167.0, -438.5], [153, -446], [131, -421], [120, -385], [109, -269], [122, -167], [121.0, -159.0], [120, -154], [145, -142], [163, -147], [191, -112], [197.0, -87.0]]\n"
     ]
    }
   ],
   "source": [
    "print(arr)"
   ]
  },
  {
   "cell_type": "code",
   "execution_count": 4,
   "metadata": {},
   "outputs": [
    {
     "name": "stdout",
     "output_type": "stream",
     "text": [
      "[202, -62]\n"
     ]
    }
   ],
   "source": [
    "print(arr[1])"
   ]
  },
  {
   "cell_type": "code",
   "execution_count": 5,
   "metadata": {},
   "outputs": [
    {
     "name": "stdout",
     "output_type": "stream",
     "text": [
      "202\n"
     ]
    }
   ],
   "source": [
    "print(arr[1][0])"
   ]
  },
  {
   "cell_type": "code",
   "execution_count": 6,
   "metadata": {},
   "outputs": [],
   "source": [
    "from flat import document, shape, rgba\n",
    "from bezmerizing import Polyline\n",
    "from IPython.display import SVG, display\n",
    "def show(page):\n",
    "    display(SVG(page.svg()))"
   ]
  },
  {
   "cell_type": "code",
   "execution_count": 7,
   "metadata": {},
   "outputs": [
    {
     "data": {
      "image/svg+xml": [
       "<svg xmlns=\"http://www.w3.org/2000/svg\" xmlns:xlink=\"http://www.w3.org/1999/xlink\" version=\"1.1\" width=\"283.4646pt\" height=\"283.4646pt\" viewBox=\"0 0 283.4646 283.4646\">\n",
       "<title>Untitled</title>\n",
       "<rect x=\"14.1732\" y=\"14.1732\" width=\"255.1181\" height=\"255.1181\" fill=\"rgba(255,128,255,1)\" stroke=\"rgba(128,0,255,1)\" stroke-width=\"4\" stroke-miterlimit=\"10\"/>\n",
       "</svg>"
      ],
      "text/plain": [
       "<IPython.core.display.SVG object>"
      ]
     },
     "metadata": {},
     "output_type": "display_data"
    }
   ],
   "source": [
    "d = document(100, 100, 'mm') # create a document 100mm x 100mm (can replace 'mm' with 'pt')\n",
    "page = d.addpage() # add a page\n",
    "figure = shape()\n",
    "figure.fill(rgba(255, 128, 255, 255))\n",
    "figure.stroke(rgba(128, 0, 255, 255))\n",
    "figure.width(4)\n",
    "page.place(figure.rectangle(5, 5, 90, 90))\n",
    "show(page) "
   ]
  },
  {
   "cell_type": "code",
   "execution_count": 8,
   "metadata": {},
   "outputs": [
    {
     "name": "stdout",
     "output_type": "stream",
     "text": [
      "[[8.297, 8.93], [8.5, 9.406], [6.833, 9.425], [5.775, 9.52], [5.043, 9.786], [5.653, 10.738], [5.978, 10.929], [6.222, 11.138], [5.572, 11.5], [4.311, 11.081], [4.047, 10.776], [3.538, 10.224], [3.05, 9.71], [2.684, 9.406], [2.257, 9.168], [1.261, 8.682], [0.0, 8.073], [1.139, 7.483], [1.139, 7.102], [1.423, 6.759], [1.423, 3.637], [0.854, 2.151], [0.854, 1.656], [3.457, 0.914], [3.62, 0.676], [3.803, 0.39], [4.026, 0.133], [4.27, 0.0], [6.792, 1.085], [8.053, 2.361], [7.077, 2.237], [6.507, 2.094], [5.612, 2.57], [5.165, 3.256], [4.718, 5.464], [5.246, 7.406], [5.206, 7.559], [5.165, 7.654], [6.182, 7.882], [6.914, 7.787], [8.053, 8.454], [8.297, 8.93]]\n"
     ]
    }
   ],
   "source": [
    "# map data from points to values on page using inches\n",
    "\n",
    "def constrain(val, min_val, max_val):\n",
    "    return min(max_val, max(min_val, val))\n",
    "def map(x, in_min, in_max, out_min, out_max):\n",
    "    return (x - in_min) * (out_max - out_min) / (in_max - in_min) + out_min;\n",
    "\n",
    "# updated arr with mapped values\n",
    "mappedArr = []\n",
    "\n",
    "# find min values of x and y\n",
    "minX = 0\n",
    "minY = 0\n",
    "maxX = 0\n",
    "maxY = 0\n",
    "for i in range(len(arr)):\n",
    "    x = arr[i][0]\n",
    "    y = arr[i][1]\n",
    "    if(minX > x):\n",
    "        minX = x\n",
    "    if(maxX < x):\n",
    "        maxX = x\n",
    "    if(minY > y):\n",
    "        minY = y\n",
    "    if(maxY < y):\n",
    "        maxY = y\n",
    "\n",
    "for i in range(len(arr)):\n",
    "    x = round(map(arr[i][0], minX, maxX, 0, 8.5), 3)\n",
    "    y = round(map(arr[i][1], minY, maxY, 0, 11.5),3)\n",
    "    # print(f'{x},{y}')\n",
    "    tempArr = [x,y]\n",
    "    mappedArr.append(tempArr)\n",
    "\n",
    "print(mappedArr)"
   ]
  },
  {
   "cell_type": "code",
   "execution_count": 9,
   "metadata": {},
   "outputs": [
    {
     "name": "stderr",
     "output_type": "stream",
     "text": [
      "Failed to connect to AxiDraw.\n"
     ]
    },
    {
     "ename": "AttributeError",
     "evalue": "'AxiDraw' object has no attribute 'turtle_x'",
     "output_type": "error",
     "traceback": [
      "\u001b[0;31m---------------------------------------------------------------------------\u001b[0m",
      "\u001b[0;31mAttributeError\u001b[0m                            Traceback (most recent call last)",
      "\u001b[0;32m<ipython-input-9-881cdb00b593>\u001b[0m in \u001b[0;36m<module>\u001b[0;34m\u001b[0m\n\u001b[1;32m      5\u001b[0m     \u001b[0;31m#if(i == 0):\u001b[0m\u001b[0;34m\u001b[0m\u001b[0;34m\u001b[0m\u001b[0;34m\u001b[0m\u001b[0m\n\u001b[1;32m      6\u001b[0m \u001b[0;34m\u001b[0m\u001b[0m\n\u001b[0;32m----> 7\u001b[0;31m     \u001b[0mad\u001b[0m\u001b[0;34m.\u001b[0m\u001b[0mlineto\u001b[0m\u001b[0;34m(\u001b[0m\u001b[0mmappedArr\u001b[0m\u001b[0;34m[\u001b[0m\u001b[0mi\u001b[0m\u001b[0;34m]\u001b[0m\u001b[0;34m[\u001b[0m\u001b[0;36m0\u001b[0m\u001b[0;34m]\u001b[0m\u001b[0;34m,\u001b[0m \u001b[0mmappedArr\u001b[0m\u001b[0;34m[\u001b[0m\u001b[0mi\u001b[0m\u001b[0;34m]\u001b[0m\u001b[0;34m[\u001b[0m\u001b[0;36m1\u001b[0m\u001b[0;34m]\u001b[0m\u001b[0;34m)\u001b[0m\u001b[0;34m\u001b[0m\u001b[0;34m\u001b[0m\u001b[0m\n\u001b[0m\u001b[1;32m      8\u001b[0m \u001b[0mad\u001b[0m\u001b[0;34m.\u001b[0m\u001b[0mdisconnect\u001b[0m\u001b[0;34m(\u001b[0m\u001b[0;34m)\u001b[0m\u001b[0;34m\u001b[0m\u001b[0;34m\u001b[0m\u001b[0m\n",
      "\u001b[0;32m/opt/anaconda3/lib/python3.8/site-packages/axidrawinternal/axidraw.py\u001b[0m in \u001b[0;36mlineto\u001b[0;34m(self, x_target, y_target)\u001b[0m\n\u001b[1;32m   3317\u001b[0m         \u001b[0;31m# For interactive-mode use as an imported python module\u001b[0m\u001b[0;34m\u001b[0m\u001b[0;34m\u001b[0m\u001b[0;34m\u001b[0m\u001b[0m\n\u001b[1;32m   3318\u001b[0m         \u001b[0mself\u001b[0m\u001b[0;34m.\u001b[0m\u001b[0mpen_lower\u001b[0m\u001b[0;34m(\u001b[0m\u001b[0;34m)\u001b[0m\u001b[0;34m\u001b[0m\u001b[0;34m\u001b[0m\u001b[0m\n\u001b[0;32m-> 3319\u001b[0;31m         \u001b[0mself\u001b[0m\u001b[0;34m.\u001b[0m\u001b[0m_xy_plot_segment\u001b[0m\u001b[0;34m(\u001b[0m\u001b[0;32mFalse\u001b[0m\u001b[0;34m,\u001b[0m\u001b[0mx_target\u001b[0m\u001b[0;34m,\u001b[0m \u001b[0my_target\u001b[0m\u001b[0;34m)\u001b[0m\u001b[0;34m\u001b[0m\u001b[0;34m\u001b[0m\u001b[0m\n\u001b[0m\u001b[1;32m   3320\u001b[0m \u001b[0;34m\u001b[0m\u001b[0m\n\u001b[1;32m   3321\u001b[0m     \u001b[0;32mdef\u001b[0m \u001b[0mgo\u001b[0m\u001b[0;34m(\u001b[0m\u001b[0mself\u001b[0m\u001b[0;34m,\u001b[0m\u001b[0mx_delta\u001b[0m\u001b[0;34m,\u001b[0m\u001b[0my_delta\u001b[0m\u001b[0;34m)\u001b[0m\u001b[0;34m:\u001b[0m\u001b[0;34m\u001b[0m\u001b[0;34m\u001b[0m\u001b[0m\n",
      "\u001b[0;32m/opt/anaconda3/lib/python3.8/site-packages/axidrawinternal/axidraw.py\u001b[0m in \u001b[0;36m_xy_plot_segment\u001b[0;34m(self, relative, x_value, y_value)\u001b[0m\n\u001b[1;32m   3291\u001b[0m             \u001b[0mx_value\u001b[0m \u001b[0;34m=\u001b[0m \u001b[0mself\u001b[0m\u001b[0;34m.\u001b[0m\u001b[0mturtle_x\u001b[0m \u001b[0;34m+\u001b[0m \u001b[0mx_value\u001b[0m\u001b[0;34m\u001b[0m\u001b[0;34m\u001b[0m\u001b[0m\n\u001b[1;32m   3292\u001b[0m             \u001b[0my_value\u001b[0m \u001b[0;34m=\u001b[0m \u001b[0mself\u001b[0m\u001b[0;34m.\u001b[0m\u001b[0mturtle_y\u001b[0m \u001b[0;34m+\u001b[0m \u001b[0my_value\u001b[0m\u001b[0;34m\u001b[0m\u001b[0;34m\u001b[0m\u001b[0m\n\u001b[0;32m-> 3293\u001b[0;31m         segment =  [[self.turtle_x,self.turtle_y],\n\u001b[0m\u001b[1;32m   3294\u001b[0m                     [x_value,y_value]] \n\u001b[1;32m   3295\u001b[0m         \u001b[0maccept\u001b[0m\u001b[0;34m,\u001b[0m \u001b[0mseg\u001b[0m \u001b[0;34m=\u001b[0m \u001b[0mplot_utils\u001b[0m\u001b[0;34m.\u001b[0m\u001b[0mclip_segment\u001b[0m\u001b[0;34m(\u001b[0m\u001b[0msegment\u001b[0m\u001b[0;34m,\u001b[0m \u001b[0mself\u001b[0m\u001b[0;34m.\u001b[0m\u001b[0mbounds\u001b[0m\u001b[0;34m)\u001b[0m\u001b[0;34m\u001b[0m\u001b[0;34m\u001b[0m\u001b[0m\n",
      "\u001b[0;31mAttributeError\u001b[0m: 'AxiDraw' object has no attribute 'turtle_x'"
     ]
    }
   ],
   "source": [
    "ad.interactive()\n",
    "ad.connect()\n",
    "\n",
    "for i in range(len(mappedArr)):\n",
    "    #if(i == 0):\n",
    "        \n",
    "    ad.lineto(mappedArr[i][0], mappedArr[i][1])\n",
    "ad.disconnect()"
   ]
  },
  {
   "cell_type": "code",
   "execution_count": null,
   "metadata": {},
   "outputs": [],
   "source": [
    "ad.plot_setup(\"final/test4.svg\")\n",
    "# ad.options.mode = \"plot\" # Default; you can comment out this line.\n",
    "ad.plot_run()"
   ]
  },
  {
   "cell_type": "code",
   "execution_count": null,
   "metadata": {},
   "outputs": [],
   "source": [
    "ad.plot_setup(\"final/test5.svg\")\n",
    "# ad.options.mode = \"plot\" # Default; you can comment out this line.\n",
    "ad.plot_run()"
   ]
  },
  {
   "cell_type": "code",
   "execution_count": null,
   "metadata": {},
   "outputs": [],
   "source": [
    "ad.plot_setup(\"final/test16.svg\")\n",
    "# ad.options.mode = \"plot\" # Default; you can comment out this line.\n",
    "ad.plot_run()"
   ]
  },
  {
   "cell_type": "markdown",
   "metadata": {},
   "source": [
    "\n",
    "    0 - Do not render previews\n",
    "    1 - Render pen-down movement only\n",
    "    2 - Render pen-up movement only\n",
    "    3 - Render all movement, both pen-up and pen-down [DEFAULT]\n"
   ]
  },
  {
   "cell_type": "code",
   "execution_count": null,
   "metadata": {},
   "outputs": [],
   "source": [
    "from pyaxidraw import axidraw \n",
    "from svgpathtools import svg2paths, wsvg, svg2paths2\n",
    "\n",
    "paths = svg2paths2('final/test2.svg')\n",
    "ad = axidraw.AxiDraw()\n",
    "ad.plot_setup(output_svg)\n",
    "\n",
    "ad.options.preview = True\n",
    "ad.options.rendering = 2\n",
    "output_svg = ad.plot_run(True)\n",
    "print(output_svg)"
   ]
  },
  {
   "cell_type": "code",
   "execution_count": null,
   "metadata": {},
   "outputs": [],
   "source": [
    "ad.plot_setup(\"final/test2.svg\")\n",
    "ad.plot_run()"
   ]
  },
  {
   "cell_type": "code",
   "execution_count": null,
   "metadata": {},
   "outputs": [],
   "source": [
    "ad.options.mode = \"align\""
   ]
  },
  {
   "cell_type": "code",
   "execution_count": null,
   "metadata": {},
   "outputs": [],
   "source": [
    "ad.options.mode = \"toggle\""
   ]
  }
 ],
 "metadata": {
  "kernelspec": {
   "display_name": "Python 3",
   "language": "python",
   "name": "python3"
  },
  "language_info": {
   "codemirror_mode": {
    "name": "ipython",
    "version": 3
   },
   "file_extension": ".py",
   "mimetype": "text/x-python",
   "name": "python",
   "nbconvert_exporter": "python",
   "pygments_lexer": "ipython3",
   "version": "3.8.5"
  }
 },
 "nbformat": 4,
 "nbformat_minor": 4
}
